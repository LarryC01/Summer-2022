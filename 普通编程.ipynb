{
  "cells": [
    {
      "cell_type": "markdown",
      "metadata": {
        "id": "view-in-github",
        "colab_type": "text"
      },
      "source": [
        "<a href=\"https://colab.research.google.com/github/wenjunc2/PAHO-Drug-Data-Cleaning-Summer-2022/blob/main/%E6%99%AE%E9%80%9A%E7%BC%96%E7%A8%8B.ipynb\" target=\"_parent\"><img src=\"https://colab.research.google.com/assets/colab-badge.svg\" alt=\"Open In Colab\"/></a>"
      ]
    },
    {
      "cell_type": "markdown",
      "source": [
        "# Part 1: Set up indexes for clean catagol drug names"
      ],
      "metadata": {
        "id": "4cvK7YSN1P-C"
      },
      "id": "4cvK7YSN1P-C"
    },
    {
      "cell_type": "code",
      "execution_count": 1,
      "id": "b3fa8107",
      "metadata": {
        "id": "b3fa8107"
      },
      "outputs": [],
      "source": [
        "# read into clean catagol name\n",
        "import pandas as pd\n",
        "CleanDataBase = pd.read_excel('CleanDataBase.xlsx')\n",
        "CatalogName = CleanDataBase['Catalog Name']\n",
        "CatalogName = list(set(CatalogName))\n",
        "CatalogName = [x for x in CatalogName if str(x) != 'nan']\n",
        "\n",
        "CatalogNameCopy = CatalogName.copy()\n",
        "# uppercase everything\n",
        "CatalogNameU = []\n",
        "for i in CatalogNameCopy:\n",
        "  CatalogNameU.append(i.upper())"
      ]
    },
    {
      "cell_type": "code",
      "source": [
        "CatalogNameU[:5]"
      ],
      "metadata": {
        "colab": {
          "base_uri": "https://localhost:8080/"
        },
        "id": "DJJ8iWu4191x",
        "outputId": "a92a2fb5-0f9e-4a4e-e7bc-3de1c240558c"
      },
      "id": "DJJ8iWu4191x",
      "execution_count": 2,
      "outputs": [
        {
          "output_type": "execute_result",
          "data": {
            "text/plain": [
              "['AMLODIPINO 5 MG + VALSARTAN 80 MG, TABLET, TBD',\n",
              " 'GLIBENCLAMIDE 5 MG + METFORMIN 500 MG, TABLET, TBD',\n",
              " 'VILDAGLIPTIN 50 MG + METFORMIN 1000 MG, TABLET, TBD',\n",
              " 'LOPINAVIR 40 MG + RITONAVIR 10 MG, ORAL PELLETS, 120 CAPSULES BOTTLE',\n",
              " 'CISPLATIN 50 MG, POWDER FOR INJECTION, 100 ML VIAL, 1X1']"
            ]
          },
          "metadata": {},
          "execution_count": 2
        }
      ]
    },
    {
      "cell_type": "code",
      "source": [
        "# split the CatalogNameU\n",
        "#from nltk.tokenize import WordPunctTokenizer  # this function split the string by space\n",
        "#tokenizer = WordPunctTokenizer()\n",
        "\n",
        "CatalogNameUS = []\n",
        "for item in CatalogNameU:\n",
        "  temp = item.split(\",\")\n",
        "  CatalogNameUS.append(temp)"
      ],
      "metadata": {
        "id": "oE6bddCo3Hpt"
      },
      "id": "oE6bddCo3Hpt",
      "execution_count": 3,
      "outputs": []
    },
    {
      "cell_type": "code",
      "source": [
        "CatalogNameUS[:5] # after split by \",\""
      ],
      "metadata": {
        "colab": {
          "base_uri": "https://localhost:8080/"
        },
        "id": "Basg7nHy2Mah",
        "outputId": "2d584462-19ee-4844-9652-c100684ed95a"
      },
      "id": "Basg7nHy2Mah",
      "execution_count": 4,
      "outputs": [
        {
          "output_type": "execute_result",
          "data": {
            "text/plain": [
              "[['AMLODIPINO 5 MG + VALSARTAN 80 MG', ' TABLET', ' TBD'],\n",
              " ['GLIBENCLAMIDE 5 MG + METFORMIN 500 MG', ' TABLET', ' TBD'],\n",
              " ['VILDAGLIPTIN 50 MG + METFORMIN 1000 MG', ' TABLET', ' TBD'],\n",
              " ['LOPINAVIR 40 MG + RITONAVIR 10 MG',\n",
              "  ' ORAL PELLETS',\n",
              "  ' 120 CAPSULES BOTTLE'],\n",
              " ['CISPLATIN 50 MG', ' POWDER FOR INJECTION', ' 100 ML VIAL', ' 1X1']]"
            ]
          },
          "metadata": {},
          "execution_count": 4
        }
      ]
    },
    {
      "cell_type": "code",
      "source": [
        "# summary the list of presentation form\n",
        "PresentationForm = []\n",
        "\n",
        "for item in CatalogNameUS:\n",
        "  if len(item) >= 2:\n",
        "    PresentationForm.append(item[1])"
      ],
      "metadata": {
        "id": "SaVz4V6G4LJI"
      },
      "id": "SaVz4V6G4LJI",
      "execution_count": 5,
      "outputs": []
    },
    {
      "cell_type": "code",
      "source": [
        "PresentationForm = list(set(PresentationForm))\n",
        "\n",
        "len(PresentationForm)"
      ],
      "metadata": {
        "colab": {
          "base_uri": "https://localhost:8080/"
        },
        "id": "natrwVE94tJ9",
        "outputId": "451dd9df-6319-4169-8d79-387b62a9f997"
      },
      "id": "natrwVE94tJ9",
      "execution_count": 6,
      "outputs": [
        {
          "output_type": "execute_result",
          "data": {
            "text/plain": [
              "29"
            ]
          },
          "metadata": {},
          "execution_count": 6
        }
      ]
    },
    {
      "cell_type": "code",
      "source": [
        "PresentationForm[:5] # the presentation form"
      ],
      "metadata": {
        "colab": {
          "base_uri": "https://localhost:8080/"
        },
        "id": "5KevhLmi4tsE",
        "outputId": "5b2304e3-a26e-4fa1-a840-f0936f412f20"
      },
      "id": "5KevhLmi4tsE",
      "execution_count": 7,
      "outputs": [
        {
          "output_type": "execute_result",
          "data": {
            "text/plain": [
              "[' CAPSULE (PRONLONGED RELEASE)',\n",
              " ' INHALER',\n",
              " ' INJECTION. 500MG/20ML ROAD BOTTLE',\n",
              " ' SOLUTION FOR INJECTION',\n",
              " ' TABLET (DISPERSIBLE']"
            ]
          },
          "metadata": {},
          "execution_count": 7
        }
      ]
    },
    {
      "cell_type": "code",
      "source": [
        "# grab the main medicine \n",
        "MainMedicine = []\n",
        "\n",
        "for item in CatalogNameUS:\n",
        "  MainMedicine.append(item[0])"
      ],
      "metadata": {
        "id": "-E2VlUZR-y0h"
      },
      "id": "-E2VlUZR-y0h",
      "execution_count": 8,
      "outputs": []
    },
    {
      "cell_type": "code",
      "source": [
        "print(len(MainMedicine), MainMedicine[:5])"
      ],
      "metadata": {
        "colab": {
          "base_uri": "https://localhost:8080/"
        },
        "id": "lrIPn9U5-ypz",
        "outputId": "aeaf2aaf-669d-4fc7-8442-75481a852e07"
      },
      "id": "lrIPn9U5-ypz",
      "execution_count": 9,
      "outputs": [
        {
          "output_type": "stream",
          "name": "stdout",
          "text": [
            "462 ['AMLODIPINO 5 MG + VALSARTAN 80 MG', 'GLIBENCLAMIDE 5 MG + METFORMIN 500 MG', 'VILDAGLIPTIN 50 MG + METFORMIN 1000 MG', 'LOPINAVIR 40 MG + RITONAVIR 10 MG', 'CISPLATIN 50 MG']\n"
          ]
        }
      ]
    },
    {
      "cell_type": "code",
      "source": [
        "# split MainMedicine to get only the medicne name, and use the medicine name as the index\n",
        "from nltk.tokenize import WordPunctTokenizer\n",
        "tokenizer = WordPunctTokenizer()\n",
        "\n",
        "MainMedicineSpl = []\n",
        "for item in MainMedicine:\n",
        "  tokenlist = tokenizer.tokenize(item)\n",
        "  MainMedicineSpl.append(tokenlist)"
      ],
      "metadata": {
        "id": "JGdoxQpZ-ycG"
      },
      "id": "JGdoxQpZ-ycG",
      "execution_count": 10,
      "outputs": []
    },
    {
      "cell_type": "code",
      "source": [
        "MainMedicineSpl[:5]"
      ],
      "metadata": {
        "colab": {
          "base_uri": "https://localhost:8080/"
        },
        "id": "uzztIpM5EM91",
        "outputId": "d48018ae-1e80-46f2-b43b-2a2aa119f291"
      },
      "id": "uzztIpM5EM91",
      "execution_count": 11,
      "outputs": [
        {
          "output_type": "execute_result",
          "data": {
            "text/plain": [
              "[['AMLODIPINO', '5', 'MG', '+', 'VALSARTAN', '80', 'MG'],\n",
              " ['GLIBENCLAMIDE', '5', 'MG', '+', 'METFORMIN', '500', 'MG'],\n",
              " ['VILDAGLIPTIN', '50', 'MG', '+', 'METFORMIN', '1000', 'MG'],\n",
              " ['LOPINAVIR', '40', 'MG', '+', 'RITONAVIR', '10', 'MG'],\n",
              " ['CISPLATIN', '50', 'MG']]"
            ]
          },
          "metadata": {},
          "execution_count": 11
        }
      ]
    },
    {
      "cell_type": "code",
      "source": [
        "MainMedicineIndex = []\n",
        "for item in MainMedicineSpl:\n",
        "  templist = []\n",
        "  for subitem in item:\n",
        "    if len(subitem) > 4 and subitem.isdigit() is False:  ## ignoring these elements such as \"MG\", \"+\", ... \n",
        "      templist.append(subitem)\n",
        "  MainMedicineIndex.append(templist)\n"
      ],
      "metadata": {
        "id": "okfTCeikFWyx"
      },
      "id": "okfTCeikFWyx",
      "execution_count": 12,
      "outputs": []
    },
    {
      "cell_type": "code",
      "source": [
        "MainMedicineIndex[:5]"
      ],
      "metadata": {
        "colab": {
          "base_uri": "https://localhost:8080/"
        },
        "id": "k9ZEDPRLFWkB",
        "outputId": "2099724f-785d-42f6-980c-a319455dd96f"
      },
      "id": "k9ZEDPRLFWkB",
      "execution_count": 13,
      "outputs": [
        {
          "output_type": "execute_result",
          "data": {
            "text/plain": [
              "[['AMLODIPINO', 'VALSARTAN'],\n",
              " ['GLIBENCLAMIDE', 'METFORMIN'],\n",
              " ['VILDAGLIPTIN', 'METFORMIN'],\n",
              " ['LOPINAVIR', 'RITONAVIR'],\n",
              " ['CISPLATIN']]"
            ]
          },
          "metadata": {},
          "execution_count": 13
        }
      ]
    },
    {
      "cell_type": "code",
      "source": [
        "CatalogIndexData = {\"Catalog Name\": CatalogNameU, \"Catalog Index\": MainMedicineIndex}"
      ],
      "metadata": {
        "id": "aPWF3Cy7FWDj"
      },
      "id": "aPWF3Cy7FWDj",
      "execution_count": 14,
      "outputs": []
    },
    {
      "cell_type": "code",
      "source": [
        "CatalogIndexData_df = pd.DataFrame(CatalogIndexData)"
      ],
      "metadata": {
        "id": "djT7SfnVH8Fg"
      },
      "id": "djT7SfnVH8Fg",
      "execution_count": 15,
      "outputs": []
    },
    {
      "cell_type": "code",
      "source": [
        "len(CatalogIndexData_df)"
      ],
      "metadata": {
        "colab": {
          "base_uri": "https://localhost:8080/"
        },
        "id": "DYpdNJXrH9NS",
        "outputId": "5d50c221-22f7-4d27-b698-3430d4f32847"
      },
      "id": "DYpdNJXrH9NS",
      "execution_count": 16,
      "outputs": [
        {
          "output_type": "execute_result",
          "data": {
            "text/plain": [
              "462"
            ]
          },
          "metadata": {},
          "execution_count": 16
        }
      ]
    },
    {
      "cell_type": "code",
      "source": [
        "CatalogIndexData_df[:5]"
      ],
      "metadata": {
        "id": "XxuebjYlH9HO",
        "colab": {
          "base_uri": "https://localhost:8080/",
          "height": 206
        },
        "outputId": "69eec646-2d13-4fbc-9481-86430bd6dd39"
      },
      "id": "XxuebjYlH9HO",
      "execution_count": 17,
      "outputs": [
        {
          "output_type": "execute_result",
          "data": {
            "text/plain": [
              "                                        Catalog Name  \\\n",
              "0     AMLODIPINO 5 MG + VALSARTAN 80 MG, TABLET, TBD   \n",
              "1  GLIBENCLAMIDE 5 MG + METFORMIN 500 MG, TABLET,...   \n",
              "2  VILDAGLIPTIN 50 MG + METFORMIN 1000 MG, TABLET...   \n",
              "3  LOPINAVIR 40 MG + RITONAVIR 10 MG, ORAL PELLET...   \n",
              "4  CISPLATIN 50 MG, POWDER FOR INJECTION, 100 ML ...   \n",
              "\n",
              "                Catalog Index  \n",
              "0     [AMLODIPINO, VALSARTAN]  \n",
              "1  [GLIBENCLAMIDE, METFORMIN]  \n",
              "2   [VILDAGLIPTIN, METFORMIN]  \n",
              "3      [LOPINAVIR, RITONAVIR]  \n",
              "4                 [CISPLATIN]  "
            ],
            "text/html": [
              "\n",
              "  <div id=\"df-2ccc0e04-d7db-4ad0-aa4f-9ff9f76f434f\">\n",
              "    <div class=\"colab-df-container\">\n",
              "      <div>\n",
              "<style scoped>\n",
              "    .dataframe tbody tr th:only-of-type {\n",
              "        vertical-align: middle;\n",
              "    }\n",
              "\n",
              "    .dataframe tbody tr th {\n",
              "        vertical-align: top;\n",
              "    }\n",
              "\n",
              "    .dataframe thead th {\n",
              "        text-align: right;\n",
              "    }\n",
              "</style>\n",
              "<table border=\"1\" class=\"dataframe\">\n",
              "  <thead>\n",
              "    <tr style=\"text-align: right;\">\n",
              "      <th></th>\n",
              "      <th>Catalog Name</th>\n",
              "      <th>Catalog Index</th>\n",
              "    </tr>\n",
              "  </thead>\n",
              "  <tbody>\n",
              "    <tr>\n",
              "      <th>0</th>\n",
              "      <td>AMLODIPINO 5 MG + VALSARTAN 80 MG, TABLET, TBD</td>\n",
              "      <td>[AMLODIPINO, VALSARTAN]</td>\n",
              "    </tr>\n",
              "    <tr>\n",
              "      <th>1</th>\n",
              "      <td>GLIBENCLAMIDE 5 MG + METFORMIN 500 MG, TABLET,...</td>\n",
              "      <td>[GLIBENCLAMIDE, METFORMIN]</td>\n",
              "    </tr>\n",
              "    <tr>\n",
              "      <th>2</th>\n",
              "      <td>VILDAGLIPTIN 50 MG + METFORMIN 1000 MG, TABLET...</td>\n",
              "      <td>[VILDAGLIPTIN, METFORMIN]</td>\n",
              "    </tr>\n",
              "    <tr>\n",
              "      <th>3</th>\n",
              "      <td>LOPINAVIR 40 MG + RITONAVIR 10 MG, ORAL PELLET...</td>\n",
              "      <td>[LOPINAVIR, RITONAVIR]</td>\n",
              "    </tr>\n",
              "    <tr>\n",
              "      <th>4</th>\n",
              "      <td>CISPLATIN 50 MG, POWDER FOR INJECTION, 100 ML ...</td>\n",
              "      <td>[CISPLATIN]</td>\n",
              "    </tr>\n",
              "  </tbody>\n",
              "</table>\n",
              "</div>\n",
              "      <button class=\"colab-df-convert\" onclick=\"convertToInteractive('df-2ccc0e04-d7db-4ad0-aa4f-9ff9f76f434f')\"\n",
              "              title=\"Convert this dataframe to an interactive table.\"\n",
              "              style=\"display:none;\">\n",
              "        \n",
              "  <svg xmlns=\"http://www.w3.org/2000/svg\" height=\"24px\"viewBox=\"0 0 24 24\"\n",
              "       width=\"24px\">\n",
              "    <path d=\"M0 0h24v24H0V0z\" fill=\"none\"/>\n",
              "    <path d=\"M18.56 5.44l.94 2.06.94-2.06 2.06-.94-2.06-.94-.94-2.06-.94 2.06-2.06.94zm-11 1L8.5 8.5l.94-2.06 2.06-.94-2.06-.94L8.5 2.5l-.94 2.06-2.06.94zm10 10l.94 2.06.94-2.06 2.06-.94-2.06-.94-.94-2.06-.94 2.06-2.06.94z\"/><path d=\"M17.41 7.96l-1.37-1.37c-.4-.4-.92-.59-1.43-.59-.52 0-1.04.2-1.43.59L10.3 9.45l-7.72 7.72c-.78.78-.78 2.05 0 2.83L4 21.41c.39.39.9.59 1.41.59.51 0 1.02-.2 1.41-.59l7.78-7.78 2.81-2.81c.8-.78.8-2.07 0-2.86zM5.41 20L4 18.59l7.72-7.72 1.47 1.35L5.41 20z\"/>\n",
              "  </svg>\n",
              "      </button>\n",
              "      \n",
              "  <style>\n",
              "    .colab-df-container {\n",
              "      display:flex;\n",
              "      flex-wrap:wrap;\n",
              "      gap: 12px;\n",
              "    }\n",
              "\n",
              "    .colab-df-convert {\n",
              "      background-color: #E8F0FE;\n",
              "      border: none;\n",
              "      border-radius: 50%;\n",
              "      cursor: pointer;\n",
              "      display: none;\n",
              "      fill: #1967D2;\n",
              "      height: 32px;\n",
              "      padding: 0 0 0 0;\n",
              "      width: 32px;\n",
              "    }\n",
              "\n",
              "    .colab-df-convert:hover {\n",
              "      background-color: #E2EBFA;\n",
              "      box-shadow: 0px 1px 2px rgba(60, 64, 67, 0.3), 0px 1px 3px 1px rgba(60, 64, 67, 0.15);\n",
              "      fill: #174EA6;\n",
              "    }\n",
              "\n",
              "    [theme=dark] .colab-df-convert {\n",
              "      background-color: #3B4455;\n",
              "      fill: #D2E3FC;\n",
              "    }\n",
              "\n",
              "    [theme=dark] .colab-df-convert:hover {\n",
              "      background-color: #434B5C;\n",
              "      box-shadow: 0px 1px 3px 1px rgba(0, 0, 0, 0.15);\n",
              "      filter: drop-shadow(0px 1px 2px rgba(0, 0, 0, 0.3));\n",
              "      fill: #FFFFFF;\n",
              "    }\n",
              "  </style>\n",
              "\n",
              "      <script>\n",
              "        const buttonEl =\n",
              "          document.querySelector('#df-2ccc0e04-d7db-4ad0-aa4f-9ff9f76f434f button.colab-df-convert');\n",
              "        buttonEl.style.display =\n",
              "          google.colab.kernel.accessAllowed ? 'block' : 'none';\n",
              "\n",
              "        async function convertToInteractive(key) {\n",
              "          const element = document.querySelector('#df-2ccc0e04-d7db-4ad0-aa4f-9ff9f76f434f');\n",
              "          const dataTable =\n",
              "            await google.colab.kernel.invokeFunction('convertToInteractive',\n",
              "                                                     [key], {});\n",
              "          if (!dataTable) return;\n",
              "\n",
              "          const docLinkHtml = 'Like what you see? Visit the ' +\n",
              "            '<a target=\"_blank\" href=https://colab.research.google.com/notebooks/data_table.ipynb>data table notebook</a>'\n",
              "            + ' to learn more about interactive tables.';\n",
              "          element.innerHTML = '';\n",
              "          dataTable['output_type'] = 'display_data';\n",
              "          await google.colab.output.renderOutput(dataTable, element);\n",
              "          const docLink = document.createElement('div');\n",
              "          docLink.innerHTML = docLinkHtml;\n",
              "          element.appendChild(docLink);\n",
              "        }\n",
              "      </script>\n",
              "    </div>\n",
              "  </div>\n",
              "  "
            ]
          },
          "metadata": {},
          "execution_count": 17
        }
      ]
    },
    {
      "cell_type": "markdown",
      "source": [
        "## Part 2: get the chile 1 data set drug names list"
      ],
      "metadata": {
        "id": "4eziXB_Q7oCh"
      },
      "id": "4eziXB_Q7oCh"
    },
    {
      "cell_type": "code",
      "source": [
        "import chardet\n",
        "with open('CHLDiab1.csv', 'rb') as rawdata:\n",
        "    result = chardet.detect(rawdata.read(100000))\n",
        "result"
      ],
      "metadata": {
        "colab": {
          "base_uri": "https://localhost:8080/"
        },
        "id": "GXsIbk6T7obX",
        "outputId": "8862373c-9448-46b5-d315-506c708293ee"
      },
      "id": "GXsIbk6T7obX",
      "execution_count": 18,
      "outputs": [
        {
          "output_type": "execute_result",
          "data": {
            "text/plain": [
              "{'confidence': 0.73, 'encoding': 'Windows-1252', 'language': ''}"
            ]
          },
          "metadata": {},
          "execution_count": 18
        }
      ]
    },
    {
      "cell_type": "code",
      "source": [
        "CHLDiab1 = pd.read_csv('CHLDiab1.csv',encoding='Windows-1252')\n",
        "#CHLDiab1.head(1)"
      ],
      "metadata": {
        "id": "JjYkxJm27o56"
      },
      "id": "JjYkxJm27o56",
      "execution_count": 19,
      "outputs": []
    },
    {
      "cell_type": "code",
      "source": [
        "CHLDiab1DirtyName = CHLDiab1['Descripcion linea Adquisicion']"
      ],
      "metadata": {
        "id": "bURoxyuX7o3k"
      },
      "id": "bURoxyuX7o3k",
      "execution_count": 20,
      "outputs": []
    },
    {
      "cell_type": "code",
      "source": [
        "len(CHLDiab1DirtyName) # length of drug names"
      ],
      "metadata": {
        "colab": {
          "base_uri": "https://localhost:8080/"
        },
        "id": "1gwN4bwa7ozj",
        "outputId": "99489451-70c7-4b94-a98d-578adc30ba96"
      },
      "id": "1gwN4bwa7ozj",
      "execution_count": 21,
      "outputs": [
        {
          "output_type": "execute_result",
          "data": {
            "text/plain": [
              "20606"
            ]
          },
          "metadata": {},
          "execution_count": 21
        }
      ]
    },
    {
      "cell_type": "code",
      "source": [
        "CHLDiab1DirtyName = list(set(CHLDiab1DirtyName))\n",
        "len(CHLDiab1DirtyName) # length of drug names after remove duplicates"
      ],
      "metadata": {
        "colab": {
          "base_uri": "https://localhost:8080/"
        },
        "id": "PkyNQXed7ovj",
        "outputId": "484084fa-9071-4db5-f90b-462ceb3159d9"
      },
      "id": "PkyNQXed7ovj",
      "execution_count": 22,
      "outputs": [
        {
          "output_type": "execute_result",
          "data": {
            "text/plain": [
              "3663"
            ]
          },
          "metadata": {},
          "execution_count": 22
        }
      ]
    },
    {
      "cell_type": "code",
      "source": [
        "# uppercase everything\n",
        "CHLDiab1DirtyNameU = []\n",
        "for i in CHLDiab1DirtyName:\n",
        "  CHLDiab1DirtyNameU.append(i.upper())"
      ],
      "metadata": {
        "id": "ph3jhe718shZ"
      },
      "id": "ph3jhe718shZ",
      "execution_count": 23,
      "outputs": []
    },
    {
      "cell_type": "code",
      "source": [
        "CHLDiab1DirtyNameU[:5]"
      ],
      "metadata": {
        "colab": {
          "base_uri": "https://localhost:8080/"
        },
        "id": "SQmW4-sl8sMJ",
        "outputId": "091bc22b-9a84-4715-b4db-10b240611b0d"
      },
      "id": "SQmW4-sl8sMJ",
      "execution_count": 24,
      "outputs": [
        {
          "output_type": "execute_result",
          "data": {
            "text/plain": [
              "['METFORMINA (CLORHIDRATO) COMPRIMIDO RECUBIERTO 850 MG EQUIVALENTE A GLAFORNIL\\r\\r\\n',\n",
              " 'METFORMINA 1000 MG COMPRIMIDOS DE LIBERACIÓN PROLONGADA. ENVASE 30 COMPRIMIDOS',\n",
              " 'METFORMINA 1000 COMPRIMIDOS RECUBIERTOS',\n",
              " 'INSUÑLINA DEGLUDEC 100 UI /ML X 3 ML SIMILAR A TRESIBA FLEX TOUCH',\n",
              " '•\\tDAPAGLIFLOZINA (COMO PROPANODIOL) 5 MG. Y METFORMINA CLORHIDRATO 1000 MG. FORMA FARMACÉUTICA, COMPRIMIDOS RECUBIERTOS DE LIBERACIÓN PROLONGADA.']"
            ]
          },
          "metadata": {},
          "execution_count": 24
        }
      ]
    },
    {
      "cell_type": "code",
      "source": [
        "#!pip install googletrans==3.1.0a0\n",
        "from googletrans import Translator\n",
        "translator = Translator(service_urls=['translate.googleapis.com'])\n",
        "example = CHLDiab1DirtyNameU[0]\n",
        "translation = translator.translate(example, dest='en')\n",
        "print(translation.text)"
      ],
      "metadata": {
        "colab": {
          "base_uri": "https://localhost:8080/"
        },
        "id": "NjP8_02b9F0a",
        "outputId": "1f4c6ba1-69dc-468f-ff69-3c5bcd4962e3"
      },
      "id": "NjP8_02b9F0a",
      "execution_count": 25,
      "outputs": [
        {
          "output_type": "stream",
          "name": "stdout",
          "text": [
            "METFORMIN (HYDROCHLORIDE) COATED TABLET 850 MG EQUIVALENT TO GLAFORNIL\n"
          ]
        }
      ]
    },
    {
      "cell_type": "code",
      "source": [
        "CHLDiab1DirtyNameU[0]"
      ],
      "metadata": {
        "colab": {
          "base_uri": "https://localhost:8080/",
          "height": 35
        },
        "id": "GoWLBB3LAy2G",
        "outputId": "02c205c9-3187-48d9-b22a-72edbcad0e07"
      },
      "id": "GoWLBB3LAy2G",
      "execution_count": 26,
      "outputs": [
        {
          "output_type": "execute_result",
          "data": {
            "text/plain": [
              "'METFORMINA (CLORHIDRATO) COMPRIMIDO RECUBIERTO 850 MG EQUIVALENTE A GLAFORNIL\\r\\r\\n'"
            ],
            "application/vnd.google.colaboratory.intrinsic+json": {
              "type": "string"
            }
          },
          "metadata": {},
          "execution_count": 26
        }
      ]
    },
    {
      "cell_type": "code",
      "source": [
        "# get the index about medicine name for each drug name \n",
        "\n",
        "#from nltk.tokenize import WordPunctTokenizer  # this function split the string by space\n",
        "#tokenizer = WordPunctTokenizer()\n",
        "\n",
        "CHLDiab1DirtyNameUSpl = []\n",
        "for item in CHLDiab1DirtyNameU:\n",
        "  tokenlist = tokenizer.tokenize(item)\n",
        "  CHLDiab1DirtyNameUSpl.append(tokenlist)"
      ],
      "metadata": {
        "id": "N02qArZOGdah"
      },
      "id": "N02qArZOGdah",
      "execution_count": 27,
      "outputs": []
    },
    {
      "cell_type": "code",
      "source": [
        "CHLDiab1DirtyNameUSpl[:1]"
      ],
      "metadata": {
        "colab": {
          "base_uri": "https://localhost:8080/"
        },
        "id": "rea1zClPHshJ",
        "outputId": "3e7d98a5-06a5-49a9-c573-cf3566a6d0a4"
      },
      "id": "rea1zClPHshJ",
      "execution_count": 28,
      "outputs": [
        {
          "output_type": "execute_result",
          "data": {
            "text/plain": [
              "[['METFORMINA',\n",
              "  '(',\n",
              "  'CLORHIDRATO',\n",
              "  ')',\n",
              "  'COMPRIMIDO',\n",
              "  'RECUBIERTO',\n",
              "  '850',\n",
              "  'MG',\n",
              "  'EQUIVALENTE',\n",
              "  'A',\n",
              "  'GLAFORNIL']]"
            ]
          },
          "metadata": {},
          "execution_count": 28
        }
      ]
    },
    {
      "cell_type": "code",
      "source": [
        "CHLDiab1DirtyNameIndex = []\n",
        "for item in CHLDiab1DirtyNameUSpl:\n",
        "  templist = []\n",
        "  for subitem in item:\n",
        "    if len(subitem) > 4 and subitem.isdigit() is False:  ## ignoring these elements such as \"MG\", \"+\", ... \n",
        "      templist.append(subitem)\n",
        "  CHLDiab1DirtyNameIndex.append(templist)"
      ],
      "metadata": {
        "id": "VJvAzfXeGdTF"
      },
      "id": "VJvAzfXeGdTF",
      "execution_count": 29,
      "outputs": []
    },
    {
      "cell_type": "code",
      "source": [
        "CHLDiab1DirtyNameIndex[:1]"
      ],
      "metadata": {
        "colab": {
          "base_uri": "https://localhost:8080/"
        },
        "id": "ObFaZc3pGdLZ",
        "outputId": "52fe7863-e48b-4405-c669-970a25649cfc"
      },
      "id": "ObFaZc3pGdLZ",
      "execution_count": 30,
      "outputs": [
        {
          "output_type": "execute_result",
          "data": {
            "text/plain": [
              "[['METFORMINA',\n",
              "  'CLORHIDRATO',\n",
              "  'COMPRIMIDO',\n",
              "  'RECUBIERTO',\n",
              "  'EQUIVALENTE',\n",
              "  'GLAFORNIL']]"
            ]
          },
          "metadata": {},
          "execution_count": 30
        }
      ]
    },
    {
      "cell_type": "code",
      "source": [
        "# translate these names (indexes) to English\n",
        "CHLDiab1DirtyNameIndexEng = []\n",
        "\n",
        "for item in CHLDiab1DirtyNameIndex:\n",
        "  temp_sublist = []\n",
        "  for subitem in item:\n",
        "    temp = translator.translate(subitem, dest='en')\n",
        "    temp_sublist.append(temp.text)\n",
        "  CHLDiab1DirtyNameIndexEng.append(temp_sublist)\n",
        "\n",
        "# this block runs 17 mins"
      ],
      "metadata": {
        "id": "ksRWL1L8GdBu"
      },
      "id": "ksRWL1L8GdBu",
      "execution_count": 31,
      "outputs": []
    },
    {
      "cell_type": "markdown",
      "source": [
        "## Part 3: compare one durg name with each index and select one index to pair"
      ],
      "metadata": {
        "id": "7Rh5UiQxqAAf"
      },
      "id": "7Rh5UiQxqAAf"
    },
    {
      "cell_type": "markdown",
      "source": [
        "### part 3 - approach 1 (according to the same vocabularies)"
      ],
      "metadata": {
        "id": "xPgReTHJ1HZ4"
      },
      "id": "xPgReTHJ1HZ4"
    },
    {
      "cell_type": "code",
      "source": [
        "# try to pair the \n",
        "\n",
        "myfirstlist = []\n",
        "\n",
        "for item in CHLDiab1DirtyNameIndexEng[0]:\n",
        "  for index in MainMedicineIndex:\n",
        "    add = False\n",
        "    for subindex in index:\n",
        "      if subindex == item:\n",
        "        add = True\n",
        "    if add == True:\n",
        "      myfirstlist.append(index)\n"
      ],
      "metadata": {
        "id": "7PK7w3uS7og6"
      },
      "id": "7PK7w3uS7og6",
      "execution_count": 69,
      "outputs": []
    },
    {
      "cell_type": "code",
      "source": [
        "CHLDiab1DirtyNameIndexEng[0]"
      ],
      "metadata": {
        "colab": {
          "base_uri": "https://localhost:8080/"
        },
        "id": "R8onsqTeZcK-",
        "outputId": "26a8f26d-80cb-4ee9-f132-bb2b170598ef"
      },
      "id": "R8onsqTeZcK-",
      "execution_count": 71,
      "outputs": [
        {
          "output_type": "execute_result",
          "data": {
            "text/plain": [
              "['METFORMIN', 'TABLETS', 'RELEASE', 'EXTENDED']"
            ]
          },
          "metadata": {},
          "execution_count": 71
        }
      ]
    },
    {
      "cell_type": "code",
      "source": [
        "myfirstlist"
      ],
      "metadata": {
        "colab": {
          "base_uri": "https://localhost:8080/"
        },
        "id": "ys8GnL70O8rF",
        "outputId": "cb92dd69-a7a5-4e33-ab6a-0d1fc4757f0e"
      },
      "id": "ys8GnL70O8rF",
      "execution_count": 70,
      "outputs": [
        {
          "output_type": "execute_result",
          "data": {
            "text/plain": [
              "[['SAXAGLIPTIN', 'METFORMIN'],\n",
              " ['SITAGLIPTIN', 'METFORMIN'],\n",
              " ['METFORMIN', 'GLIMEPIRIDE'],\n",
              " ['GLIBENCLAMIDE', 'METFORMIN'],\n",
              " ['LINAGLIPTIN', 'METFORMIN'],\n",
              " ['LINAGLIPTIN', 'METFORMIN'],\n",
              " ['GLIBENCLAMIDE', 'METFORMIN'],\n",
              " ['VILDAGLIPTIN', 'METFORMIN'],\n",
              " ['DAPAGLIFLOZIN', 'METFORMIN'],\n",
              " ['SITAGLIPTIN', 'METFORMIN'],\n",
              " ['EMPAGLIFLOZIN', 'METFORMIN'],\n",
              " ['DAPAGLIFLOZIN', 'METFORMIN'],\n",
              " ['EMPAGLIFOZIN', 'METFORMIN'],\n",
              " ['SITAGLIPTIN', 'METFORMIN'],\n",
              " ['GLIMEPIRIDE', 'METFORMIN'],\n",
              " ['CANAGLIFOZINE', 'METFORMIN'],\n",
              " ['CANAGLIFOZINE', 'METFORMIN'],\n",
              " ['EMPAGLIFLOZIN', 'METFORMIN'],\n",
              " ['ALOGLIPTIN', 'METFORMIN'],\n",
              " ['GLIBENCLAMIDE', 'METFORMIN'],\n",
              " ['METFORMIN'],\n",
              " ['METFORMIN', 'DAPAGLIFLOZIN'],\n",
              " ['METFORMIN'],\n",
              " ['ALOGLIPTIN', 'METFORMIN'],\n",
              " ['GLIBENCLAMIDE', 'METFORMIN'],\n",
              " ['SITAGLIPTIN', 'METFORMIN'],\n",
              " ['METFORMIN', 'HYDROCHLORIDE'],\n",
              " ['VILDAGLIPTIN', 'METFORMIN'],\n",
              " ['METFORMIN'],\n",
              " ['SITAGLIPTIN', 'METFORMIN'],\n",
              " ['LINAGLIPTIN', 'METFORMIN'],\n",
              " ['DAPAGLIFLOZIN', 'METFORMIN'],\n",
              " ['VILDAGLIPTIN', 'METFORMIN'],\n",
              " ['METFORMIN', 'GLIMEPIRIDE'],\n",
              " ['METFORMIN', 'GLIMEPIRIDE'],\n",
              " ['GLIMEPIRIDE', 'METFORMIN'],\n",
              " ['METFORMIN'],\n",
              " ['SAXAGLIPTIN', 'METFORMIN'],\n",
              " ['ALOGLIPTIN', 'METFORMIN'],\n",
              " ['EMPAGLIFOZIN', 'METFORMIN']]"
            ]
          },
          "metadata": {},
          "execution_count": 70
        }
      ]
    },
    {
      "cell_type": "markdown",
      "source": [
        "### part 3 - approach 2 (using simhash calculate distance)"
      ],
      "metadata": {
        "id": "TI3k25Tb1VdL"
      },
      "id": "TI3k25Tb1VdL"
    },
    {
      "cell_type": "code",
      "source": [
        "# try to pair the againnnnnn\n",
        "\n",
        "#!pip install simhash\n",
        "\n",
        "from simhash import Simhash"
      ],
      "metadata": {
        "id": "v0ihtLxvO8j0"
      },
      "id": "v0ihtLxvO8j0",
      "execution_count": 32,
      "outputs": []
    },
    {
      "cell_type": "code",
      "source": [
        "pairIndexlist = []\n",
        "for dirtyname in CHLDiab1DirtyNameIndexEng:\n",
        "  distance_list = []\n",
        "  for index in MainMedicineIndex:\n",
        "    distance = Simhash(index).distance(Simhash(dirtyname))\n",
        "    distance_list.append(distance)\n",
        "  index_min = min(range(len(distance_list)), key=distance_list.__getitem__) # get the index which correspond to the minimum distance\n",
        "  add_index = MainMedicineIndex[index_min]\n",
        "  pairIndexlist.append(add_index)"
      ],
      "metadata": {
        "id": "JR3rcjO7cw-c"
      },
      "id": "JR3rcjO7cw-c",
      "execution_count": 72,
      "outputs": []
    },
    {
      "cell_type": "code",
      "source": [
        "PairIndexData = {\"Chile 1 drug names\": CHLDiab1DirtyNameIndexEng, \"Catalog Index\": pairIndexlist}"
      ],
      "metadata": {
        "id": "cdCrKafQxWIj"
      },
      "id": "cdCrKafQxWIj",
      "execution_count": 81,
      "outputs": []
    },
    {
      "cell_type": "code",
      "source": [
        "print(len(CHLDiab1DirtyNameIndexEng), len(pairIndexlist))"
      ],
      "metadata": {
        "colab": {
          "base_uri": "https://localhost:8080/"
        },
        "id": "dKTw7lpkx_td",
        "outputId": "900f327c-6c12-4c33-9e2c-0ae7dc904deb"
      },
      "id": "dKTw7lpkx_td",
      "execution_count": 82,
      "outputs": [
        {
          "output_type": "stream",
          "name": "stdout",
          "text": [
            "3663 3663\n"
          ]
        }
      ]
    },
    {
      "cell_type": "code",
      "source": [
        "PairIndexData_df = pd.DataFrame(PairIndexData)"
      ],
      "metadata": {
        "id": "571L_3Gkx1SB"
      },
      "id": "571L_3Gkx1SB",
      "execution_count": 83,
      "outputs": []
    },
    {
      "cell_type": "code",
      "source": [
        "PairIndexData_df"
      ],
      "metadata": {
        "colab": {
          "base_uri": "https://localhost:8080/",
          "height": 424
        },
        "id": "oiJO88LCx1QS",
        "outputId": "beea32c1-c0ba-469c-ba9b-ddb65a746a66"
      },
      "id": "oiJO88LCx1QS",
      "execution_count": 84,
      "outputs": [
        {
          "output_type": "execute_result",
          "data": {
            "text/plain": [
              "                                     Chile 1 drug names  \\\n",
              "0     [METFORMIN, HYDROCHLORIDE, TABLET, COVERED, EQ...   \n",
              "1     [METFORMIN, TABLETS, RELEASE, EXTENDED, CONTAI...   \n",
              "2                          [METFORMIN, TABLETS, COATED]   \n",
              "3        [INSUÑLINA, DEGLUDEC, SIMILAR, TRESIBA, TOUCH]   \n",
              "4     [DAPAGLIFLOZINA, PROPANODIOL, METFORMIN, HYDRO...   \n",
              "...                                                 ...   \n",
              "3658       [METFORMIN, 1000MG, PROLONG, BIOEQUIVALENTE]   \n",
              "3659  [INSULIN, GLULISINA, PENCIL, APIDRA, SIMILAR, ...   \n",
              "3660                                [METFORMIN, TABLET]   \n",
              "3661  [BOXES, TABLETS, METFORMIN, VILDAGLIPTINA, SUG...   \n",
              "3662                          [METFORMINA 850, TABLETS]   \n",
              "\n",
              "                   Catalog Index  \n",
              "0     [METFORMIN, HYDROCHLORIDE]  \n",
              "1       [SITAGLIPTIN, METFORMIN]  \n",
              "2                    [METFORMIN]  \n",
              "3                 [AZATHIOPRINE]  \n",
              "4     [METFORMIN, HYDROCHLORIDE]  \n",
              "...                          ...  \n",
              "3658    [SITAGLIPTIN, METFORMIN]  \n",
              "3659    [LAMIVUDINE, ZIDOVUDINE]  \n",
              "3660  [GLIBENCLAMIDE, METFORMIN]  \n",
              "3661    [SITAGLIPTIN, METFORMIN]  \n",
              "3662    [SITAGLIPTIN, METFORMIN]  \n",
              "\n",
              "[3663 rows x 2 columns]"
            ],
            "text/html": [
              "\n",
              "  <div id=\"df-aa37adc2-a558-46fe-b07d-3f2e3565ba7f\">\n",
              "    <div class=\"colab-df-container\">\n",
              "      <div>\n",
              "<style scoped>\n",
              "    .dataframe tbody tr th:only-of-type {\n",
              "        vertical-align: middle;\n",
              "    }\n",
              "\n",
              "    .dataframe tbody tr th {\n",
              "        vertical-align: top;\n",
              "    }\n",
              "\n",
              "    .dataframe thead th {\n",
              "        text-align: right;\n",
              "    }\n",
              "</style>\n",
              "<table border=\"1\" class=\"dataframe\">\n",
              "  <thead>\n",
              "    <tr style=\"text-align: right;\">\n",
              "      <th></th>\n",
              "      <th>Chile 1 drug names</th>\n",
              "      <th>Catalog Index</th>\n",
              "    </tr>\n",
              "  </thead>\n",
              "  <tbody>\n",
              "    <tr>\n",
              "      <th>0</th>\n",
              "      <td>[METFORMIN, HYDROCHLORIDE, TABLET, COVERED, EQ...</td>\n",
              "      <td>[METFORMIN, HYDROCHLORIDE]</td>\n",
              "    </tr>\n",
              "    <tr>\n",
              "      <th>1</th>\n",
              "      <td>[METFORMIN, TABLETS, RELEASE, EXTENDED, CONTAI...</td>\n",
              "      <td>[SITAGLIPTIN, METFORMIN]</td>\n",
              "    </tr>\n",
              "    <tr>\n",
              "      <th>2</th>\n",
              "      <td>[METFORMIN, TABLETS, COATED]</td>\n",
              "      <td>[METFORMIN]</td>\n",
              "    </tr>\n",
              "    <tr>\n",
              "      <th>3</th>\n",
              "      <td>[INSUÑLINA, DEGLUDEC, SIMILAR, TRESIBA, TOUCH]</td>\n",
              "      <td>[AZATHIOPRINE]</td>\n",
              "    </tr>\n",
              "    <tr>\n",
              "      <th>4</th>\n",
              "      <td>[DAPAGLIFLOZINA, PROPANODIOL, METFORMIN, HYDRO...</td>\n",
              "      <td>[METFORMIN, HYDROCHLORIDE]</td>\n",
              "    </tr>\n",
              "    <tr>\n",
              "      <th>...</th>\n",
              "      <td>...</td>\n",
              "      <td>...</td>\n",
              "    </tr>\n",
              "    <tr>\n",
              "      <th>3658</th>\n",
              "      <td>[METFORMIN, 1000MG, PROLONG, BIOEQUIVALENTE]</td>\n",
              "      <td>[SITAGLIPTIN, METFORMIN]</td>\n",
              "    </tr>\n",
              "    <tr>\n",
              "      <th>3659</th>\n",
              "      <td>[INSULIN, GLULISINA, PENCIL, APIDRA, SIMILAR, ...</td>\n",
              "      <td>[LAMIVUDINE, ZIDOVUDINE]</td>\n",
              "    </tr>\n",
              "    <tr>\n",
              "      <th>3660</th>\n",
              "      <td>[METFORMIN, TABLET]</td>\n",
              "      <td>[GLIBENCLAMIDE, METFORMIN]</td>\n",
              "    </tr>\n",
              "    <tr>\n",
              "      <th>3661</th>\n",
              "      <td>[BOXES, TABLETS, METFORMIN, VILDAGLIPTINA, SUG...</td>\n",
              "      <td>[SITAGLIPTIN, METFORMIN]</td>\n",
              "    </tr>\n",
              "    <tr>\n",
              "      <th>3662</th>\n",
              "      <td>[METFORMINA 850, TABLETS]</td>\n",
              "      <td>[SITAGLIPTIN, METFORMIN]</td>\n",
              "    </tr>\n",
              "  </tbody>\n",
              "</table>\n",
              "<p>3663 rows × 2 columns</p>\n",
              "</div>\n",
              "      <button class=\"colab-df-convert\" onclick=\"convertToInteractive('df-aa37adc2-a558-46fe-b07d-3f2e3565ba7f')\"\n",
              "              title=\"Convert this dataframe to an interactive table.\"\n",
              "              style=\"display:none;\">\n",
              "        \n",
              "  <svg xmlns=\"http://www.w3.org/2000/svg\" height=\"24px\"viewBox=\"0 0 24 24\"\n",
              "       width=\"24px\">\n",
              "    <path d=\"M0 0h24v24H0V0z\" fill=\"none\"/>\n",
              "    <path d=\"M18.56 5.44l.94 2.06.94-2.06 2.06-.94-2.06-.94-.94-2.06-.94 2.06-2.06.94zm-11 1L8.5 8.5l.94-2.06 2.06-.94-2.06-.94L8.5 2.5l-.94 2.06-2.06.94zm10 10l.94 2.06.94-2.06 2.06-.94-2.06-.94-.94-2.06-.94 2.06-2.06.94z\"/><path d=\"M17.41 7.96l-1.37-1.37c-.4-.4-.92-.59-1.43-.59-.52 0-1.04.2-1.43.59L10.3 9.45l-7.72 7.72c-.78.78-.78 2.05 0 2.83L4 21.41c.39.39.9.59 1.41.59.51 0 1.02-.2 1.41-.59l7.78-7.78 2.81-2.81c.8-.78.8-2.07 0-2.86zM5.41 20L4 18.59l7.72-7.72 1.47 1.35L5.41 20z\"/>\n",
              "  </svg>\n",
              "      </button>\n",
              "      \n",
              "  <style>\n",
              "    .colab-df-container {\n",
              "      display:flex;\n",
              "      flex-wrap:wrap;\n",
              "      gap: 12px;\n",
              "    }\n",
              "\n",
              "    .colab-df-convert {\n",
              "      background-color: #E8F0FE;\n",
              "      border: none;\n",
              "      border-radius: 50%;\n",
              "      cursor: pointer;\n",
              "      display: none;\n",
              "      fill: #1967D2;\n",
              "      height: 32px;\n",
              "      padding: 0 0 0 0;\n",
              "      width: 32px;\n",
              "    }\n",
              "\n",
              "    .colab-df-convert:hover {\n",
              "      background-color: #E2EBFA;\n",
              "      box-shadow: 0px 1px 2px rgba(60, 64, 67, 0.3), 0px 1px 3px 1px rgba(60, 64, 67, 0.15);\n",
              "      fill: #174EA6;\n",
              "    }\n",
              "\n",
              "    [theme=dark] .colab-df-convert {\n",
              "      background-color: #3B4455;\n",
              "      fill: #D2E3FC;\n",
              "    }\n",
              "\n",
              "    [theme=dark] .colab-df-convert:hover {\n",
              "      background-color: #434B5C;\n",
              "      box-shadow: 0px 1px 3px 1px rgba(0, 0, 0, 0.15);\n",
              "      filter: drop-shadow(0px 1px 2px rgba(0, 0, 0, 0.3));\n",
              "      fill: #FFFFFF;\n",
              "    }\n",
              "  </style>\n",
              "\n",
              "      <script>\n",
              "        const buttonEl =\n",
              "          document.querySelector('#df-aa37adc2-a558-46fe-b07d-3f2e3565ba7f button.colab-df-convert');\n",
              "        buttonEl.style.display =\n",
              "          google.colab.kernel.accessAllowed ? 'block' : 'none';\n",
              "\n",
              "        async function convertToInteractive(key) {\n",
              "          const element = document.querySelector('#df-aa37adc2-a558-46fe-b07d-3f2e3565ba7f');\n",
              "          const dataTable =\n",
              "            await google.colab.kernel.invokeFunction('convertToInteractive',\n",
              "                                                     [key], {});\n",
              "          if (!dataTable) return;\n",
              "\n",
              "          const docLinkHtml = 'Like what you see? Visit the ' +\n",
              "            '<a target=\"_blank\" href=https://colab.research.google.com/notebooks/data_table.ipynb>data table notebook</a>'\n",
              "            + ' to learn more about interactive tables.';\n",
              "          element.innerHTML = '';\n",
              "          dataTable['output_type'] = 'display_data';\n",
              "          await google.colab.output.renderOutput(dataTable, element);\n",
              "          const docLink = document.createElement('div');\n",
              "          docLink.innerHTML = docLinkHtml;\n",
              "          element.appendChild(docLink);\n",
              "        }\n",
              "      </script>\n",
              "    </div>\n",
              "  </div>\n",
              "  "
            ]
          },
          "metadata": {},
          "execution_count": 84
        }
      ]
    },
    {
      "cell_type": "markdown",
      "source": [
        "## Part 4: combine the Chile drug name index pair data frame and full catagol name index data frame to get the result"
      ],
      "metadata": {
        "id": "yDjcfdXF19yT"
      },
      "id": "yDjcfdXF19yT"
    },
    {
      "cell_type": "code",
      "source": [
        "# for Chile pair index dataframe, transform list to string\n",
        "str_pairIndexlist = []\n",
        "for item in pairIndexlist:\n",
        "  newitem = ' '.join(item)\n",
        "  str_pairIndexlist.append(newitem)"
      ],
      "metadata": {
        "id": "85rGZyuH6gIK"
      },
      "id": "85rGZyuH6gIK",
      "execution_count": 101,
      "outputs": []
    },
    {
      "cell_type": "code",
      "source": [
        "str_CHLDiab1DirtyNameIndexEng = []\n",
        "for item in CHLDiab1DirtyNameIndexEng:\n",
        "  newitem = ' '.join(item)\n",
        "  str_CHLDiab1DirtyNameIndexEng.append(newitem)"
      ],
      "metadata": {
        "id": "Z0L-Yt-v7k3B"
      },
      "id": "Z0L-Yt-v7k3B",
      "execution_count": 102,
      "outputs": []
    },
    {
      "cell_type": "code",
      "source": [
        "newPairIndexData = {\"Chile 1 drug names\": str_CHLDiab1DirtyNameIndexEng, \"Catalog Index\": str_pairIndexlist}"
      ],
      "metadata": {
        "id": "q2wyQ-bU70-B"
      },
      "id": "q2wyQ-bU70-B",
      "execution_count": 103,
      "outputs": []
    },
    {
      "cell_type": "code",
      "source": [
        "newPairIndexData_df = pd.DataFrame(newPairIndexData)"
      ],
      "metadata": {
        "id": "jWEr3BAZ7_Ch"
      },
      "id": "jWEr3BAZ7_Ch",
      "execution_count": 104,
      "outputs": []
    },
    {
      "cell_type": "code",
      "source": [
        "newPairIndexData_df[:2]"
      ],
      "metadata": {
        "colab": {
          "base_uri": "https://localhost:8080/",
          "height": 112
        },
        "id": "zXTBmgbg8De6",
        "outputId": "23869945-e243-40fa-afa3-d3b5315340d2"
      },
      "id": "zXTBmgbg8De6",
      "execution_count": 105,
      "outputs": [
        {
          "output_type": "execute_result",
          "data": {
            "text/plain": [
              "                                  Chile 1 drug names            Catalog Index\n",
              "0  METFORMIN HYDROCHLORIDE TABLET COVERED EQUIVAL...  METFORMIN HYDROCHLORIDE\n",
              "1  METFORMIN TABLETS RELEASE EXTENDED CONTAINER T...    SITAGLIPTIN METFORMIN"
            ],
            "text/html": [
              "\n",
              "  <div id=\"df-62838b4a-ab56-4561-a428-b077b6fc7d76\">\n",
              "    <div class=\"colab-df-container\">\n",
              "      <div>\n",
              "<style scoped>\n",
              "    .dataframe tbody tr th:only-of-type {\n",
              "        vertical-align: middle;\n",
              "    }\n",
              "\n",
              "    .dataframe tbody tr th {\n",
              "        vertical-align: top;\n",
              "    }\n",
              "\n",
              "    .dataframe thead th {\n",
              "        text-align: right;\n",
              "    }\n",
              "</style>\n",
              "<table border=\"1\" class=\"dataframe\">\n",
              "  <thead>\n",
              "    <tr style=\"text-align: right;\">\n",
              "      <th></th>\n",
              "      <th>Chile 1 drug names</th>\n",
              "      <th>Catalog Index</th>\n",
              "    </tr>\n",
              "  </thead>\n",
              "  <tbody>\n",
              "    <tr>\n",
              "      <th>0</th>\n",
              "      <td>METFORMIN HYDROCHLORIDE TABLET COVERED EQUIVAL...</td>\n",
              "      <td>METFORMIN HYDROCHLORIDE</td>\n",
              "    </tr>\n",
              "    <tr>\n",
              "      <th>1</th>\n",
              "      <td>METFORMIN TABLETS RELEASE EXTENDED CONTAINER T...</td>\n",
              "      <td>SITAGLIPTIN METFORMIN</td>\n",
              "    </tr>\n",
              "  </tbody>\n",
              "</table>\n",
              "</div>\n",
              "      <button class=\"colab-df-convert\" onclick=\"convertToInteractive('df-62838b4a-ab56-4561-a428-b077b6fc7d76')\"\n",
              "              title=\"Convert this dataframe to an interactive table.\"\n",
              "              style=\"display:none;\">\n",
              "        \n",
              "  <svg xmlns=\"http://www.w3.org/2000/svg\" height=\"24px\"viewBox=\"0 0 24 24\"\n",
              "       width=\"24px\">\n",
              "    <path d=\"M0 0h24v24H0V0z\" fill=\"none\"/>\n",
              "    <path d=\"M18.56 5.44l.94 2.06.94-2.06 2.06-.94-2.06-.94-.94-2.06-.94 2.06-2.06.94zm-11 1L8.5 8.5l.94-2.06 2.06-.94-2.06-.94L8.5 2.5l-.94 2.06-2.06.94zm10 10l.94 2.06.94-2.06 2.06-.94-2.06-.94-.94-2.06-.94 2.06-2.06.94z\"/><path d=\"M17.41 7.96l-1.37-1.37c-.4-.4-.92-.59-1.43-.59-.52 0-1.04.2-1.43.59L10.3 9.45l-7.72 7.72c-.78.78-.78 2.05 0 2.83L4 21.41c.39.39.9.59 1.41.59.51 0 1.02-.2 1.41-.59l7.78-7.78 2.81-2.81c.8-.78.8-2.07 0-2.86zM5.41 20L4 18.59l7.72-7.72 1.47 1.35L5.41 20z\"/>\n",
              "  </svg>\n",
              "      </button>\n",
              "      \n",
              "  <style>\n",
              "    .colab-df-container {\n",
              "      display:flex;\n",
              "      flex-wrap:wrap;\n",
              "      gap: 12px;\n",
              "    }\n",
              "\n",
              "    .colab-df-convert {\n",
              "      background-color: #E8F0FE;\n",
              "      border: none;\n",
              "      border-radius: 50%;\n",
              "      cursor: pointer;\n",
              "      display: none;\n",
              "      fill: #1967D2;\n",
              "      height: 32px;\n",
              "      padding: 0 0 0 0;\n",
              "      width: 32px;\n",
              "    }\n",
              "\n",
              "    .colab-df-convert:hover {\n",
              "      background-color: #E2EBFA;\n",
              "      box-shadow: 0px 1px 2px rgba(60, 64, 67, 0.3), 0px 1px 3px 1px rgba(60, 64, 67, 0.15);\n",
              "      fill: #174EA6;\n",
              "    }\n",
              "\n",
              "    [theme=dark] .colab-df-convert {\n",
              "      background-color: #3B4455;\n",
              "      fill: #D2E3FC;\n",
              "    }\n",
              "\n",
              "    [theme=dark] .colab-df-convert:hover {\n",
              "      background-color: #434B5C;\n",
              "      box-shadow: 0px 1px 3px 1px rgba(0, 0, 0, 0.15);\n",
              "      filter: drop-shadow(0px 1px 2px rgba(0, 0, 0, 0.3));\n",
              "      fill: #FFFFFF;\n",
              "    }\n",
              "  </style>\n",
              "\n",
              "      <script>\n",
              "        const buttonEl =\n",
              "          document.querySelector('#df-62838b4a-ab56-4561-a428-b077b6fc7d76 button.colab-df-convert');\n",
              "        buttonEl.style.display =\n",
              "          google.colab.kernel.accessAllowed ? 'block' : 'none';\n",
              "\n",
              "        async function convertToInteractive(key) {\n",
              "          const element = document.querySelector('#df-62838b4a-ab56-4561-a428-b077b6fc7d76');\n",
              "          const dataTable =\n",
              "            await google.colab.kernel.invokeFunction('convertToInteractive',\n",
              "                                                     [key], {});\n",
              "          if (!dataTable) return;\n",
              "\n",
              "          const docLinkHtml = 'Like what you see? Visit the ' +\n",
              "            '<a target=\"_blank\" href=https://colab.research.google.com/notebooks/data_table.ipynb>data table notebook</a>'\n",
              "            + ' to learn more about interactive tables.';\n",
              "          element.innerHTML = '';\n",
              "          dataTable['output_type'] = 'display_data';\n",
              "          await google.colab.output.renderOutput(dataTable, element);\n",
              "          const docLink = document.createElement('div');\n",
              "          docLink.innerHTML = docLinkHtml;\n",
              "          element.appendChild(docLink);\n",
              "        }\n",
              "      </script>\n",
              "    </div>\n",
              "  </div>\n",
              "  "
            ]
          },
          "metadata": {},
          "execution_count": 105
        }
      ]
    },
    {
      "cell_type": "code",
      "source": [
        "# for catalog name index dataframe, transform list to string\n",
        "str_MainMedicineIndex = []\n",
        "for item in MainMedicineIndex:\n",
        "  newitem = ' '.join(item)\n",
        "  str_MainMedicineIndex.append(newitem)"
      ],
      "metadata": {
        "id": "ew739_VJ8Uzs"
      },
      "id": "ew739_VJ8Uzs",
      "execution_count": 106,
      "outputs": []
    },
    {
      "cell_type": "code",
      "source": [
        "newCatalogIndexData = {\"Catalog Name\": CatalogNameU, \"Catalog Index\": str_MainMedicineIndex}"
      ],
      "metadata": {
        "id": "mQ1vUd318Uxq"
      },
      "id": "mQ1vUd318Uxq",
      "execution_count": 107,
      "outputs": []
    },
    {
      "cell_type": "code",
      "source": [
        "newCatalogIndexData_df = pd.DataFrame(newCatalogIndexData)"
      ],
      "metadata": {
        "id": "qT9ZyxIw8UlJ"
      },
      "id": "qT9ZyxIw8UlJ",
      "execution_count": 108,
      "outputs": []
    },
    {
      "cell_type": "code",
      "source": [
        "newCatalogIndexData_df[:2]"
      ],
      "metadata": {
        "colab": {
          "base_uri": "https://localhost:8080/",
          "height": 112
        },
        "id": "kIR5G11B8UjQ",
        "outputId": "4f71c53a-af96-46bb-ba75-573912ca49d1"
      },
      "id": "kIR5G11B8UjQ",
      "execution_count": 109,
      "outputs": [
        {
          "output_type": "execute_result",
          "data": {
            "text/plain": [
              "                                        Catalog Name            Catalog Index\n",
              "0     AMLODIPINO 5 MG + VALSARTAN 80 MG, TABLET, TBD     AMLODIPINO VALSARTAN\n",
              "1  GLIBENCLAMIDE 5 MG + METFORMIN 500 MG, TABLET,...  GLIBENCLAMIDE METFORMIN"
            ],
            "text/html": [
              "\n",
              "  <div id=\"df-7dee286b-f44b-4a4a-9baf-1bfe3b958779\">\n",
              "    <div class=\"colab-df-container\">\n",
              "      <div>\n",
              "<style scoped>\n",
              "    .dataframe tbody tr th:only-of-type {\n",
              "        vertical-align: middle;\n",
              "    }\n",
              "\n",
              "    .dataframe tbody tr th {\n",
              "        vertical-align: top;\n",
              "    }\n",
              "\n",
              "    .dataframe thead th {\n",
              "        text-align: right;\n",
              "    }\n",
              "</style>\n",
              "<table border=\"1\" class=\"dataframe\">\n",
              "  <thead>\n",
              "    <tr style=\"text-align: right;\">\n",
              "      <th></th>\n",
              "      <th>Catalog Name</th>\n",
              "      <th>Catalog Index</th>\n",
              "    </tr>\n",
              "  </thead>\n",
              "  <tbody>\n",
              "    <tr>\n",
              "      <th>0</th>\n",
              "      <td>AMLODIPINO 5 MG + VALSARTAN 80 MG, TABLET, TBD</td>\n",
              "      <td>AMLODIPINO VALSARTAN</td>\n",
              "    </tr>\n",
              "    <tr>\n",
              "      <th>1</th>\n",
              "      <td>GLIBENCLAMIDE 5 MG + METFORMIN 500 MG, TABLET,...</td>\n",
              "      <td>GLIBENCLAMIDE METFORMIN</td>\n",
              "    </tr>\n",
              "  </tbody>\n",
              "</table>\n",
              "</div>\n",
              "      <button class=\"colab-df-convert\" onclick=\"convertToInteractive('df-7dee286b-f44b-4a4a-9baf-1bfe3b958779')\"\n",
              "              title=\"Convert this dataframe to an interactive table.\"\n",
              "              style=\"display:none;\">\n",
              "        \n",
              "  <svg xmlns=\"http://www.w3.org/2000/svg\" height=\"24px\"viewBox=\"0 0 24 24\"\n",
              "       width=\"24px\">\n",
              "    <path d=\"M0 0h24v24H0V0z\" fill=\"none\"/>\n",
              "    <path d=\"M18.56 5.44l.94 2.06.94-2.06 2.06-.94-2.06-.94-.94-2.06-.94 2.06-2.06.94zm-11 1L8.5 8.5l.94-2.06 2.06-.94-2.06-.94L8.5 2.5l-.94 2.06-2.06.94zm10 10l.94 2.06.94-2.06 2.06-.94-2.06-.94-.94-2.06-.94 2.06-2.06.94z\"/><path d=\"M17.41 7.96l-1.37-1.37c-.4-.4-.92-.59-1.43-.59-.52 0-1.04.2-1.43.59L10.3 9.45l-7.72 7.72c-.78.78-.78 2.05 0 2.83L4 21.41c.39.39.9.59 1.41.59.51 0 1.02-.2 1.41-.59l7.78-7.78 2.81-2.81c.8-.78.8-2.07 0-2.86zM5.41 20L4 18.59l7.72-7.72 1.47 1.35L5.41 20z\"/>\n",
              "  </svg>\n",
              "      </button>\n",
              "      \n",
              "  <style>\n",
              "    .colab-df-container {\n",
              "      display:flex;\n",
              "      flex-wrap:wrap;\n",
              "      gap: 12px;\n",
              "    }\n",
              "\n",
              "    .colab-df-convert {\n",
              "      background-color: #E8F0FE;\n",
              "      border: none;\n",
              "      border-radius: 50%;\n",
              "      cursor: pointer;\n",
              "      display: none;\n",
              "      fill: #1967D2;\n",
              "      height: 32px;\n",
              "      padding: 0 0 0 0;\n",
              "      width: 32px;\n",
              "    }\n",
              "\n",
              "    .colab-df-convert:hover {\n",
              "      background-color: #E2EBFA;\n",
              "      box-shadow: 0px 1px 2px rgba(60, 64, 67, 0.3), 0px 1px 3px 1px rgba(60, 64, 67, 0.15);\n",
              "      fill: #174EA6;\n",
              "    }\n",
              "\n",
              "    [theme=dark] .colab-df-convert {\n",
              "      background-color: #3B4455;\n",
              "      fill: #D2E3FC;\n",
              "    }\n",
              "\n",
              "    [theme=dark] .colab-df-convert:hover {\n",
              "      background-color: #434B5C;\n",
              "      box-shadow: 0px 1px 3px 1px rgba(0, 0, 0, 0.15);\n",
              "      filter: drop-shadow(0px 1px 2px rgba(0, 0, 0, 0.3));\n",
              "      fill: #FFFFFF;\n",
              "    }\n",
              "  </style>\n",
              "\n",
              "      <script>\n",
              "        const buttonEl =\n",
              "          document.querySelector('#df-7dee286b-f44b-4a4a-9baf-1bfe3b958779 button.colab-df-convert');\n",
              "        buttonEl.style.display =\n",
              "          google.colab.kernel.accessAllowed ? 'block' : 'none';\n",
              "\n",
              "        async function convertToInteractive(key) {\n",
              "          const element = document.querySelector('#df-7dee286b-f44b-4a4a-9baf-1bfe3b958779');\n",
              "          const dataTable =\n",
              "            await google.colab.kernel.invokeFunction('convertToInteractive',\n",
              "                                                     [key], {});\n",
              "          if (!dataTable) return;\n",
              "\n",
              "          const docLinkHtml = 'Like what you see? Visit the ' +\n",
              "            '<a target=\"_blank\" href=https://colab.research.google.com/notebooks/data_table.ipynb>data table notebook</a>'\n",
              "            + ' to learn more about interactive tables.';\n",
              "          element.innerHTML = '';\n",
              "          dataTable['output_type'] = 'display_data';\n",
              "          await google.colab.output.renderOutput(dataTable, element);\n",
              "          const docLink = document.createElement('div');\n",
              "          docLink.innerHTML = docLinkHtml;\n",
              "          element.appendChild(docLink);\n",
              "        }\n",
              "      </script>\n",
              "    </div>\n",
              "  </div>\n",
              "  "
            ]
          },
          "metadata": {},
          "execution_count": 109
        }
      ]
    },
    {
      "cell_type": "code",
      "source": [
        "combine_pair_df = pd.merge(newPairIndexData_df, newCatalogIndexData_df, on='Catalog Index', how='left')"
      ],
      "metadata": {
        "id": "pZEmBd2x1-JZ"
      },
      "id": "pZEmBd2x1-JZ",
      "execution_count": 112,
      "outputs": []
    },
    {
      "cell_type": "code",
      "source": [
        "combine_pair_df.to_excel(\"combine_pair_df_chile_1.xlsx\", sheet_name = 'combine_pair_df chile 1')  "
      ],
      "metadata": {
        "id": "1UI9V5a41-nH"
      },
      "id": "1UI9V5a41-nH",
      "execution_count": 113,
      "outputs": []
    },
    {
      "cell_type": "code",
      "source": [
        ""
      ],
      "metadata": {
        "id": "UhEF_6FA1-jl"
      },
      "id": "UhEF_6FA1-jl",
      "execution_count": null,
      "outputs": []
    },
    {
      "cell_type": "code",
      "source": [
        ""
      ],
      "metadata": {
        "id": "JfSwi_Zd1-dD"
      },
      "id": "JfSwi_Zd1-dD",
      "execution_count": null,
      "outputs": []
    },
    {
      "cell_type": "code",
      "source": [
        ""
      ],
      "metadata": {
        "id": "gkwaCKmu1-VT"
      },
      "id": "gkwaCKmu1-VT",
      "execution_count": null,
      "outputs": []
    }
  ],
  "metadata": {
    "kernelspec": {
      "display_name": "Python 3 (ipykernel)",
      "language": "python",
      "name": "python3"
    },
    "language_info": {
      "codemirror_mode": {
        "name": "ipython",
        "version": 3
      },
      "file_extension": ".py",
      "mimetype": "text/x-python",
      "name": "python",
      "nbconvert_exporter": "python",
      "pygments_lexer": "ipython3",
      "version": "3.9.7"
    },
    "colab": {
      "name": "普通编程.ipynb",
      "provenance": [],
      "include_colab_link": true
    }
  },
  "nbformat": 4,
  "nbformat_minor": 5
}