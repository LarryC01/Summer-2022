{
  "cells": [
    {
      "cell_type": "markdown",
      "metadata": {
        "id": "view-in-github",
        "colab_type": "text"
      },
      "source": [
        "<a href=\"https://colab.research.google.com/github/wenjunc2/PAHO-Drug-Data-Cleaning-Summer-2022/blob/main/%E6%99%AE%E9%80%9A%E7%BC%96%E7%A8%8B.ipynb\" target=\"_parent\"><img src=\"https://colab.research.google.com/assets/colab-badge.svg\" alt=\"Open In Colab\"/></a>"
      ]
    },
    {
      "cell_type": "markdown",
      "source": [
        "# Part 1: Set up indexes for clean catagol drug names"
      ],
      "metadata": {
        "id": "4cvK7YSN1P-C"
      },
      "id": "4cvK7YSN1P-C"
    },
    {
      "cell_type": "code",
      "execution_count": null,
      "id": "b3fa8107",
      "metadata": {
        "id": "b3fa8107"
      },
      "outputs": [],
      "source": [
        "# read into clean catagol name\n",
        "import pandas as pd\n",
        "CleanDataBase = pd.read_excel('CleanDataBase.xlsx')\n",
        "CatalogName = CleanDataBase['Catalog Name']\n",
        "CatalogName = list(set(CatalogName))\n",
        "CatalogName = [x for x in CatalogName if str(x) != 'nan']\n",
        "\n",
        "CatalogNameCopy = CatalogName.copy()\n",
        "# uppercase everything\n",
        "CatalogNameU = []\n",
        "for i in CatalogNameCopy:\n",
        "  CatalogNameU.append(i.upper())"
      ]
    },
    {
      "cell_type": "code",
      "source": [
        "CatalogNameU[:5]"
      ],
      "metadata": {
        "colab": {
          "base_uri": "https://localhost:8080/"
        },
        "id": "DJJ8iWu4191x",
        "outputId": "f17cdef1-e7b5-4547-9a82-9cd633be6943"
      },
      "id": "DJJ8iWu4191x",
      "execution_count": null,
      "outputs": [
        {
          "output_type": "execute_result",
          "data": {
            "text/plain": [
              "['CALCIUM GLUCONATE 100 MG/ML, INJECTION, 10 ML AMPOULE, TBD',\n",
              " 'ACICLOVIR 250 MG, POWDER FOR INJECTION, VIAL, 5X1',\n",
              " 'AMLODIPINO 5 MG + HIDROCLOROTIAZIDA 25 MG + VALSARTAN 160 MG, TABLET, TBD',\n",
              " 'CANDESARTAN 32 MG, TABLET, TBD',\n",
              " 'CAPECITABINE 500 MG, TABLET, BLISTER, 10X12']"
            ]
          },
          "metadata": {},
          "execution_count": 2
        }
      ]
    },
    {
      "cell_type": "code",
      "source": [
        "# split the CatalogNameU\n",
        "#from nltk.tokenize import WordPunctTokenizer  # this function split the string by space\n",
        "#tokenizer = WordPunctTokenizer()\n",
        "\n",
        "CatalogNameUS = []\n",
        "for item in CatalogNameU:\n",
        "  temp = item.split(\",\")\n",
        "  CatalogNameUS.append(temp)"
      ],
      "metadata": {
        "id": "oE6bddCo3Hpt"
      },
      "id": "oE6bddCo3Hpt",
      "execution_count": null,
      "outputs": []
    },
    {
      "cell_type": "code",
      "source": [
        "CatalogNameUS[:10] # after split by \",\""
      ],
      "metadata": {
        "colab": {
          "base_uri": "https://localhost:8080/"
        },
        "id": "Basg7nHy2Mah",
        "outputId": "371d4786-7a7a-4b4c-d5fa-d06831c626a2"
      },
      "id": "Basg7nHy2Mah",
      "execution_count": null,
      "outputs": [
        {
          "output_type": "execute_result",
          "data": {
            "text/plain": [
              "[['CALCIUM GLUCONATE 100 MG/ML', ' INJECTION', ' 10 ML AMPOULE', ' TBD'],\n",
              " ['ACICLOVIR 250 MG', ' POWDER FOR INJECTION', ' VIAL', ' 5X1'],\n",
              " ['AMLODIPINO 5 MG + HIDROCLOROTIAZIDA 25 MG + VALSARTAN 160 MG',\n",
              "  ' TABLET',\n",
              "  ' TBD'],\n",
              " ['CANDESARTAN 32 MG', ' TABLET', ' TBD'],\n",
              " ['CAPECITABINE 500 MG', ' TABLET', ' BLISTER', ' 10X12'],\n",
              " ['LISINOPRIL 20 MG', ' TABLET', ' BLISTER', ' 10X3'],\n",
              " ['CISPLATIN 50 MG', ' POWDER FOR INJECTION', ' 50 ML VIAL', ' 1X1'],\n",
              " ['VALSARTAN 80 MG + HYDROCHLOROTHIAZIDE 12.5 MG', ' TABLET', ' TBD'],\n",
              " ['ROSUVASTATIN 20 MG', ' TABLET', ' TBD'],\n",
              " ['AZITHROMYCIN 500 MG', ' TABLET', ' BLISTER', ' 3X1']]"
            ]
          },
          "metadata": {},
          "execution_count": 26
        }
      ]
    },
    {
      "cell_type": "code",
      "source": [
        "# summary the list of presentation form\n",
        "PresentationForm = []\n",
        "\n",
        "for item in CatalogNameUS:\n",
        "  if len(item) >= 2:\n",
        "    PresentationForm.append(item[1])\n"
      ],
      "metadata": {
        "id": "SaVz4V6G4LJI"
      },
      "id": "SaVz4V6G4LJI",
      "execution_count": null,
      "outputs": []
    },
    {
      "cell_type": "code",
      "source": [
        "PresentationForm = list(set(PresentationForm))\n",
        "\n",
        "len(PresentationForm)"
      ],
      "metadata": {
        "colab": {
          "base_uri": "https://localhost:8080/"
        },
        "id": "natrwVE94tJ9",
        "outputId": "ca6be400-39f8-4f32-b266-b5f9a7a2eb0d"
      },
      "id": "natrwVE94tJ9",
      "execution_count": null,
      "outputs": [
        {
          "output_type": "execute_result",
          "data": {
            "text/plain": [
              "29"
            ]
          },
          "metadata": {},
          "execution_count": 37
        }
      ]
    },
    {
      "cell_type": "code",
      "source": [
        "PresentationForm[:10] # the presentation form"
      ],
      "metadata": {
        "colab": {
          "base_uri": "https://localhost:8080/"
        },
        "id": "5KevhLmi4tsE",
        "outputId": "9e6d93ff-390d-482f-a22c-5f345bd90f11"
      },
      "id": "5KevhLmi4tsE",
      "execution_count": null,
      "outputs": [
        {
          "output_type": "execute_result",
          "data": {
            "text/plain": [
              "[' 50MG TABLET',\n",
              " ' CAPSULE (PRONLONGED RELEASE)',\n",
              " ' SOLUTION FOR INJECTION',\n",
              " '\\xa0TABLET',\n",
              " ' POWDER FOR INJECTION',\n",
              " ' TABLET (COATED)',\n",
              " ' INJECTION. 500MG/20ML ROAD BOTTLE',\n",
              " ' CAPSULE',\n",
              " ' TABLET (DISPERSIBLE',\n",
              " ' POWDER FOR INJECTION. 500MCG ROAD BOTTLE']"
            ]
          },
          "metadata": {},
          "execution_count": 39
        }
      ]
    },
    {
      "cell_type": "code",
      "source": [
        "# grab the main medicine \n",
        "MainMedicine = []\n",
        "\n",
        "for item in CatalogNameUS:\n",
        "  MainMedicine.append(item[0])"
      ],
      "metadata": {
        "id": "-E2VlUZR-y0h"
      },
      "id": "-E2VlUZR-y0h",
      "execution_count": null,
      "outputs": []
    },
    {
      "cell_type": "code",
      "source": [
        "print(len(MainMedicine), MainMedicine[:5])"
      ],
      "metadata": {
        "colab": {
          "base_uri": "https://localhost:8080/"
        },
        "id": "lrIPn9U5-ypz",
        "outputId": "db8d99bf-47f9-4b7c-c46b-6662f2ead102"
      },
      "id": "lrIPn9U5-ypz",
      "execution_count": null,
      "outputs": [
        {
          "output_type": "stream",
          "name": "stdout",
          "text": [
            "462 ['CALCIUM GLUCONATE 100 MG/ML', 'ACICLOVIR 250 MG', 'AMLODIPINO 5 MG + HIDROCLOROTIAZIDA 25 MG + VALSARTAN 160 MG', 'CANDESARTAN 32 MG', 'CAPECITABINE 500 MG']\n"
          ]
        }
      ]
    },
    {
      "cell_type": "code",
      "source": [
        "# split MainMedicine to get only the medicne name, and use the medicine name as the index\n",
        "MainMedicineSpl = []\n",
        "for item in MainMedicine:\n",
        "  tokenlist = tokenizer.tokenize(item)\n",
        "  MainMedicineSpl.append(tokenlist)"
      ],
      "metadata": {
        "id": "JGdoxQpZ-ycG"
      },
      "id": "JGdoxQpZ-ycG",
      "execution_count": null,
      "outputs": []
    },
    {
      "cell_type": "code",
      "source": [
        "MainMedicineSpl[:5]"
      ],
      "metadata": {
        "colab": {
          "base_uri": "https://localhost:8080/"
        },
        "id": "uzztIpM5EM91",
        "outputId": "cbef633d-ecf7-4332-f689-caf1f594e500"
      },
      "id": "uzztIpM5EM91",
      "execution_count": null,
      "outputs": [
        {
          "output_type": "execute_result",
          "data": {
            "text/plain": [
              "[['CALCIUM', 'GLUCONATE', '100', 'MG', '/', 'ML'],\n",
              " ['ACICLOVIR', '250', 'MG'],\n",
              " ['AMLODIPINO',\n",
              "  '5',\n",
              "  'MG',\n",
              "  '+',\n",
              "  'HIDROCLOROTIAZIDA',\n",
              "  '25',\n",
              "  'MG',\n",
              "  '+',\n",
              "  'VALSARTAN',\n",
              "  '160',\n",
              "  'MG'],\n",
              " ['CANDESARTAN', '32', 'MG'],\n",
              " ['CAPECITABINE', '500', 'MG']]"
            ]
          },
          "metadata": {},
          "execution_count": 43
        }
      ]
    },
    {
      "cell_type": "code",
      "source": [
        "MainMedicineIndex = []\n",
        "for item in MainMedicineSpl:\n",
        "  templist = []\n",
        "  for subitem in item:\n",
        "    if len(subitem) > 4 and subitem.isdigit() is False:\n",
        "      templist.append(subitem)\n",
        "  MainMedicineIndex.append(templist)\n"
      ],
      "metadata": {
        "id": "okfTCeikFWyx"
      },
      "id": "okfTCeikFWyx",
      "execution_count": null,
      "outputs": []
    },
    {
      "cell_type": "code",
      "source": [
        "MainMedicineIndex[:5]"
      ],
      "metadata": {
        "colab": {
          "base_uri": "https://localhost:8080/"
        },
        "id": "k9ZEDPRLFWkB",
        "outputId": "7ed75b97-0ca1-450a-9d5b-c19f7395c746"
      },
      "id": "k9ZEDPRLFWkB",
      "execution_count": null,
      "outputs": [
        {
          "output_type": "execute_result",
          "data": {
            "text/plain": [
              "[['CALCIUM', 'GLUCONATE'],\n",
              " ['ACICLOVIR'],\n",
              " ['AMLODIPINO', 'HIDROCLOROTIAZIDA', 'VALSARTAN'],\n",
              " ['CANDESARTAN'],\n",
              " ['CAPECITABINE']]"
            ]
          },
          "metadata": {},
          "execution_count": 48
        }
      ]
    },
    {
      "cell_type": "code",
      "source": [
        "CatalogIndexData = {\"Catalog Name\": CatalogNameU, \"Catalog Index\": MainMedicineIndex}"
      ],
      "metadata": {
        "id": "aPWF3Cy7FWDj"
      },
      "id": "aPWF3Cy7FWDj",
      "execution_count": null,
      "outputs": []
    },
    {
      "cell_type": "code",
      "source": [
        "CatalogIndexData_df = pd.DataFrame(CatalogIndexData)"
      ],
      "metadata": {
        "id": "djT7SfnVH8Fg"
      },
      "id": "djT7SfnVH8Fg",
      "execution_count": null,
      "outputs": []
    },
    {
      "cell_type": "code",
      "source": [
        "len(CatalogIndexData_df)"
      ],
      "metadata": {
        "colab": {
          "base_uri": "https://localhost:8080/"
        },
        "id": "DYpdNJXrH9NS",
        "outputId": "798e7ef2-386f-4f0d-a802-c402790ba72f"
      },
      "id": "DYpdNJXrH9NS",
      "execution_count": 53,
      "outputs": [
        {
          "output_type": "execute_result",
          "data": {
            "text/plain": [
              "462"
            ]
          },
          "metadata": {},
          "execution_count": 53
        }
      ]
    },
    {
      "cell_type": "code",
      "source": [
        "CatalogIndexData_df['Catalog Index']"
      ],
      "metadata": {
        "id": "X29-rvmeH9Ld",
        "colab": {
          "base_uri": "https://localhost:8080/"
        },
        "outputId": "f1ac87f5-275c-4a8e-aad1-2c77773d03ad"
      },
      "id": "X29-rvmeH9Ld",
      "execution_count": 59,
      "outputs": [
        {
          "output_type": "execute_result",
          "data": {
            "text/plain": [
              "0                            [CALCIUM, GLUCONATE]\n",
              "1                                     [ACICLOVIR]\n",
              "2      [AMLODIPINO, HIDROCLOROTIAZIDA, VALSARTAN]\n",
              "3                                   [CANDESARTAN]\n",
              "4                                  [CAPECITABINE]\n",
              "                          ...                    \n",
              "457                      [METFORMIN, GLIMEPIRIDE]\n",
              "458                                  [METOPROLOL]\n",
              "459                    [GLIBENCLAMIDE, METFORMIN]\n",
              "460                                   [DELAMANID]\n",
              "461                      [SITAGLIPTIN, METFORMIN]\n",
              "Name: Catalog Index, Length: 462, dtype: object"
            ]
          },
          "metadata": {},
          "execution_count": 59
        }
      ]
    },
    {
      "cell_type": "code",
      "source": [
        "CatalogIndexData_df"
      ],
      "metadata": {
        "id": "XxuebjYlH9HO",
        "colab": {
          "base_uri": "https://localhost:8080/",
          "height": 424
        },
        "outputId": "204132b6-8ef4-41af-c030-f57908a02570"
      },
      "id": "XxuebjYlH9HO",
      "execution_count": 55,
      "outputs": [
        {
          "output_type": "execute_result",
          "data": {
            "text/plain": [
              "                                          Catalog Name  \\\n",
              "0    CALCIUM GLUCONATE 100 MG/ML, INJECTION, 10 ML ...   \n",
              "1    ACICLOVIR 250 MG, POWDER FOR INJECTION, VIAL, 5X1   \n",
              "2    AMLODIPINO 5 MG + HIDROCLOROTIAZIDA 25 MG + VA...   \n",
              "3                       CANDESARTAN 32 MG, TABLET, TBD   \n",
              "4          CAPECITABINE 500 MG, TABLET, BLISTER, 10X12   \n",
              "..                                                 ...   \n",
              "457  METFORMIN 1000 MG + GLIMEPIRIDE 4 MG, TABLET, TBD   \n",
              "458           METOPROLOL 100 MG, TABLET, BLISTER, 10X3   \n",
              "459  GLIBENCLAMIDE 5 MG + METFORMIN 500 MG, TABLET,...   \n",
              "460            DELAMANID 50 MG, TABLET, BLISTER, 28X24   \n",
              "461  SITAGLIPTIN 100 MG + METFORMIN 1000 MG, TABLET...   \n",
              "\n",
              "                                  Catalog Index  \n",
              "0                          [CALCIUM, GLUCONATE]  \n",
              "1                                   [ACICLOVIR]  \n",
              "2    [AMLODIPINO, HIDROCLOROTIAZIDA, VALSARTAN]  \n",
              "3                                 [CANDESARTAN]  \n",
              "4                                [CAPECITABINE]  \n",
              "..                                          ...  \n",
              "457                    [METFORMIN, GLIMEPIRIDE]  \n",
              "458                                [METOPROLOL]  \n",
              "459                  [GLIBENCLAMIDE, METFORMIN]  \n",
              "460                                 [DELAMANID]  \n",
              "461                    [SITAGLIPTIN, METFORMIN]  \n",
              "\n",
              "[462 rows x 2 columns]"
            ],
            "text/html": [
              "\n",
              "  <div id=\"df-2bcdc97b-3b1c-4cbc-a0d9-60a077b8d77a\">\n",
              "    <div class=\"colab-df-container\">\n",
              "      <div>\n",
              "<style scoped>\n",
              "    .dataframe tbody tr th:only-of-type {\n",
              "        vertical-align: middle;\n",
              "    }\n",
              "\n",
              "    .dataframe tbody tr th {\n",
              "        vertical-align: top;\n",
              "    }\n",
              "\n",
              "    .dataframe thead th {\n",
              "        text-align: right;\n",
              "    }\n",
              "</style>\n",
              "<table border=\"1\" class=\"dataframe\">\n",
              "  <thead>\n",
              "    <tr style=\"text-align: right;\">\n",
              "      <th></th>\n",
              "      <th>Catalog Name</th>\n",
              "      <th>Catalog Index</th>\n",
              "    </tr>\n",
              "  </thead>\n",
              "  <tbody>\n",
              "    <tr>\n",
              "      <th>0</th>\n",
              "      <td>CALCIUM GLUCONATE 100 MG/ML, INJECTION, 10 ML ...</td>\n",
              "      <td>[CALCIUM, GLUCONATE]</td>\n",
              "    </tr>\n",
              "    <tr>\n",
              "      <th>1</th>\n",
              "      <td>ACICLOVIR 250 MG, POWDER FOR INJECTION, VIAL, 5X1</td>\n",
              "      <td>[ACICLOVIR]</td>\n",
              "    </tr>\n",
              "    <tr>\n",
              "      <th>2</th>\n",
              "      <td>AMLODIPINO 5 MG + HIDROCLOROTIAZIDA 25 MG + VA...</td>\n",
              "      <td>[AMLODIPINO, HIDROCLOROTIAZIDA, VALSARTAN]</td>\n",
              "    </tr>\n",
              "    <tr>\n",
              "      <th>3</th>\n",
              "      <td>CANDESARTAN 32 MG, TABLET, TBD</td>\n",
              "      <td>[CANDESARTAN]</td>\n",
              "    </tr>\n",
              "    <tr>\n",
              "      <th>4</th>\n",
              "      <td>CAPECITABINE 500 MG, TABLET, BLISTER, 10X12</td>\n",
              "      <td>[CAPECITABINE]</td>\n",
              "    </tr>\n",
              "    <tr>\n",
              "      <th>...</th>\n",
              "      <td>...</td>\n",
              "      <td>...</td>\n",
              "    </tr>\n",
              "    <tr>\n",
              "      <th>457</th>\n",
              "      <td>METFORMIN 1000 MG + GLIMEPIRIDE 4 MG, TABLET, TBD</td>\n",
              "      <td>[METFORMIN, GLIMEPIRIDE]</td>\n",
              "    </tr>\n",
              "    <tr>\n",
              "      <th>458</th>\n",
              "      <td>METOPROLOL 100 MG, TABLET, BLISTER, 10X3</td>\n",
              "      <td>[METOPROLOL]</td>\n",
              "    </tr>\n",
              "    <tr>\n",
              "      <th>459</th>\n",
              "      <td>GLIBENCLAMIDE 5 MG + METFORMIN 500 MG, TABLET,...</td>\n",
              "      <td>[GLIBENCLAMIDE, METFORMIN]</td>\n",
              "    </tr>\n",
              "    <tr>\n",
              "      <th>460</th>\n",
              "      <td>DELAMANID 50 MG, TABLET, BLISTER, 28X24</td>\n",
              "      <td>[DELAMANID]</td>\n",
              "    </tr>\n",
              "    <tr>\n",
              "      <th>461</th>\n",
              "      <td>SITAGLIPTIN 100 MG + METFORMIN 1000 MG, TABLET...</td>\n",
              "      <td>[SITAGLIPTIN, METFORMIN]</td>\n",
              "    </tr>\n",
              "  </tbody>\n",
              "</table>\n",
              "<p>462 rows × 2 columns</p>\n",
              "</div>\n",
              "      <button class=\"colab-df-convert\" onclick=\"convertToInteractive('df-2bcdc97b-3b1c-4cbc-a0d9-60a077b8d77a')\"\n",
              "              title=\"Convert this dataframe to an interactive table.\"\n",
              "              style=\"display:none;\">\n",
              "        \n",
              "  <svg xmlns=\"http://www.w3.org/2000/svg\" height=\"24px\"viewBox=\"0 0 24 24\"\n",
              "       width=\"24px\">\n",
              "    <path d=\"M0 0h24v24H0V0z\" fill=\"none\"/>\n",
              "    <path d=\"M18.56 5.44l.94 2.06.94-2.06 2.06-.94-2.06-.94-.94-2.06-.94 2.06-2.06.94zm-11 1L8.5 8.5l.94-2.06 2.06-.94-2.06-.94L8.5 2.5l-.94 2.06-2.06.94zm10 10l.94 2.06.94-2.06 2.06-.94-2.06-.94-.94-2.06-.94 2.06-2.06.94z\"/><path d=\"M17.41 7.96l-1.37-1.37c-.4-.4-.92-.59-1.43-.59-.52 0-1.04.2-1.43.59L10.3 9.45l-7.72 7.72c-.78.78-.78 2.05 0 2.83L4 21.41c.39.39.9.59 1.41.59.51 0 1.02-.2 1.41-.59l7.78-7.78 2.81-2.81c.8-.78.8-2.07 0-2.86zM5.41 20L4 18.59l7.72-7.72 1.47 1.35L5.41 20z\"/>\n",
              "  </svg>\n",
              "      </button>\n",
              "      \n",
              "  <style>\n",
              "    .colab-df-container {\n",
              "      display:flex;\n",
              "      flex-wrap:wrap;\n",
              "      gap: 12px;\n",
              "    }\n",
              "\n",
              "    .colab-df-convert {\n",
              "      background-color: #E8F0FE;\n",
              "      border: none;\n",
              "      border-radius: 50%;\n",
              "      cursor: pointer;\n",
              "      display: none;\n",
              "      fill: #1967D2;\n",
              "      height: 32px;\n",
              "      padding: 0 0 0 0;\n",
              "      width: 32px;\n",
              "    }\n",
              "\n",
              "    .colab-df-convert:hover {\n",
              "      background-color: #E2EBFA;\n",
              "      box-shadow: 0px 1px 2px rgba(60, 64, 67, 0.3), 0px 1px 3px 1px rgba(60, 64, 67, 0.15);\n",
              "      fill: #174EA6;\n",
              "    }\n",
              "\n",
              "    [theme=dark] .colab-df-convert {\n",
              "      background-color: #3B4455;\n",
              "      fill: #D2E3FC;\n",
              "    }\n",
              "\n",
              "    [theme=dark] .colab-df-convert:hover {\n",
              "      background-color: #434B5C;\n",
              "      box-shadow: 0px 1px 3px 1px rgba(0, 0, 0, 0.15);\n",
              "      filter: drop-shadow(0px 1px 2px rgba(0, 0, 0, 0.3));\n",
              "      fill: #FFFFFF;\n",
              "    }\n",
              "  </style>\n",
              "\n",
              "      <script>\n",
              "        const buttonEl =\n",
              "          document.querySelector('#df-2bcdc97b-3b1c-4cbc-a0d9-60a077b8d77a button.colab-df-convert');\n",
              "        buttonEl.style.display =\n",
              "          google.colab.kernel.accessAllowed ? 'block' : 'none';\n",
              "\n",
              "        async function convertToInteractive(key) {\n",
              "          const element = document.querySelector('#df-2bcdc97b-3b1c-4cbc-a0d9-60a077b8d77a');\n",
              "          const dataTable =\n",
              "            await google.colab.kernel.invokeFunction('convertToInteractive',\n",
              "                                                     [key], {});\n",
              "          if (!dataTable) return;\n",
              "\n",
              "          const docLinkHtml = 'Like what you see? Visit the ' +\n",
              "            '<a target=\"_blank\" href=https://colab.research.google.com/notebooks/data_table.ipynb>data table notebook</a>'\n",
              "            + ' to learn more about interactive tables.';\n",
              "          element.innerHTML = '';\n",
              "          dataTable['output_type'] = 'display_data';\n",
              "          await google.colab.output.renderOutput(dataTable, element);\n",
              "          const docLink = document.createElement('div');\n",
              "          docLink.innerHTML = docLinkHtml;\n",
              "          element.appendChild(docLink);\n",
              "        }\n",
              "      </script>\n",
              "    </div>\n",
              "  </div>\n",
              "  "
            ]
          },
          "metadata": {},
          "execution_count": 55
        }
      ]
    },
    {
      "cell_type": "code",
      "source": [
        ""
      ],
      "metadata": {
        "id": "ztiC05WbH9Fi"
      },
      "id": "ztiC05WbH9Fi",
      "execution_count": null,
      "outputs": []
    }
  ],
  "metadata": {
    "kernelspec": {
      "display_name": "Python 3 (ipykernel)",
      "language": "python",
      "name": "python3"
    },
    "language_info": {
      "codemirror_mode": {
        "name": "ipython",
        "version": 3
      },
      "file_extension": ".py",
      "mimetype": "text/x-python",
      "name": "python",
      "nbconvert_exporter": "python",
      "pygments_lexer": "ipython3",
      "version": "3.9.7"
    },
    "colab": {
      "name": "普通编程.ipynb",
      "provenance": [],
      "include_colab_link": true
    }
  },
  "nbformat": 4,
  "nbformat_minor": 5
}