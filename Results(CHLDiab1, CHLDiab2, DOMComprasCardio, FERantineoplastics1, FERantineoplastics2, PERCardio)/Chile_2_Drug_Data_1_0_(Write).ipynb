{
  "cells": [
    {
      "cell_type": "markdown",
      "metadata": {
        "id": "view-in-github",
        "colab_type": "text"
      },
      "source": [
        "<a href=\"https://colab.research.google.com/github/wenjunc2/PAHO-Drug-Data-Cleaning-Summer-2022/blob/main/Chile_2_Drug_Data_1_0_(Write).ipynb\" target=\"_parent\"><img src=\"https://colab.research.google.com/assets/colab-badge.svg\" alt=\"Open In Colab\"/></a>"
      ]
    },
    {
      "cell_type": "markdown",
      "source": [
        "## Part 1: Read into Chile 2 dataset and get its indexes"
      ],
      "metadata": {
        "id": "rv4IVPfwSCO3"
      },
      "id": "rv4IVPfwSCO3"
    },
    {
      "cell_type": "code",
      "execution_count": null,
      "id": "b3fa8107",
      "metadata": {
        "colab": {
          "base_uri": "https://localhost:8080/"
        },
        "id": "b3fa8107",
        "outputId": "0d46ca37-68d2-42fa-a98f-a6384a1e774a"
      },
      "outputs": [
        {
          "output_type": "execute_result",
          "data": {
            "text/plain": [
              "{'confidence': 0.73, 'encoding': 'ISO-8859-1', 'language': ''}"
            ]
          },
          "metadata": {},
          "execution_count": 1
        }
      ],
      "source": [
        "import chardet\n",
        "with open('CHLDiab2.csv', 'rb') as rawdata:\n",
        "    result = chardet.detect(rawdata.read(100000))\n",
        "result"
      ]
    },
    {
      "cell_type": "code",
      "source": [
        "import pandas as pd\n",
        "CHLDiab2 = pd.read_csv('CHLDiab2.csv',encoding='ISO-8859-1')\n",
        "CHLDiab2.head(1)"
      ],
      "metadata": {
        "colab": {
          "base_uri": "https://localhost:8080/",
          "height": 278
        },
        "id": "Wv9_NKk2Splc",
        "outputId": "68cdde8f-ac65-4c5c-fb85-a7daa3e51097"
      },
      "id": "Wv9_NKk2Splc",
      "execution_count": null,
      "outputs": [
        {
          "output_type": "execute_result",
          "data": {
            "text/plain": [
              "   Unnamed: 0   Codigo                           Tipo de Adquisicion  Estado  \\\n",
              "0           1  8636737  Licitación Pública Entre 100 y 1000 UTM (LE)       8   \n",
              "\n",
              "                 Nombre Organismo      Region Unidad Codigo Moneda  \\\n",
              "0  I MUNICIPALIDAD DE CHIGUAYANTE  Región del Biobío           CLP   \n",
              "\n",
              "  Fecha Creacion Fecha Publicacion Fecha Adjudicacion  ...  \\\n",
              "0     2020-01-07        2020-01-10         2020-01-24  ...   \n",
              "\n",
              "  Valor Total Ofertado Cantidad Adjudicada Monto Linea Adjudica  \\\n",
              "0             516000.0              1200.0             516000.0   \n",
              "\n",
              "  Fecha Envio Oferta Oferta seleccionada     CHL-USD  \\\n",
              "0         2020-01-15        Seleccionada  773.730435   \n",
              "\n",
              "   Monto Unitario Oferta USD Monto Linea Adjudica USD  \\\n",
              "0                   0.555749               666.898931   \n",
              "\n",
              "   Valor Total Ofertado USD  Tipo de Institucion  \n",
              "0                666.898931        Municipalidad  \n",
              "\n",
              "[1 rows x 29 columns]"
            ],
            "text/html": [
              "\n",
              "  <div id=\"df-9aba8c4e-fd78-4b44-9d6c-db8a76a31099\">\n",
              "    <div class=\"colab-df-container\">\n",
              "      <div>\n",
              "<style scoped>\n",
              "    .dataframe tbody tr th:only-of-type {\n",
              "        vertical-align: middle;\n",
              "    }\n",
              "\n",
              "    .dataframe tbody tr th {\n",
              "        vertical-align: top;\n",
              "    }\n",
              "\n",
              "    .dataframe thead th {\n",
              "        text-align: right;\n",
              "    }\n",
              "</style>\n",
              "<table border=\"1\" class=\"dataframe\">\n",
              "  <thead>\n",
              "    <tr style=\"text-align: right;\">\n",
              "      <th></th>\n",
              "      <th>Unnamed: 0</th>\n",
              "      <th>Codigo</th>\n",
              "      <th>Tipo de Adquisicion</th>\n",
              "      <th>Estado</th>\n",
              "      <th>Nombre Organismo</th>\n",
              "      <th>Region Unidad</th>\n",
              "      <th>Codigo Moneda</th>\n",
              "      <th>Fecha Creacion</th>\n",
              "      <th>Fecha Publicacion</th>\n",
              "      <th>Fecha Adjudicacion</th>\n",
              "      <th>...</th>\n",
              "      <th>Valor Total Ofertado</th>\n",
              "      <th>Cantidad Adjudicada</th>\n",
              "      <th>Monto Linea Adjudica</th>\n",
              "      <th>Fecha Envio Oferta</th>\n",
              "      <th>Oferta seleccionada</th>\n",
              "      <th>CHL-USD</th>\n",
              "      <th>Monto Unitario Oferta USD</th>\n",
              "      <th>Monto Linea Adjudica USD</th>\n",
              "      <th>Valor Total Ofertado USD</th>\n",
              "      <th>Tipo de Institucion</th>\n",
              "    </tr>\n",
              "  </thead>\n",
              "  <tbody>\n",
              "    <tr>\n",
              "      <th>0</th>\n",
              "      <td>1</td>\n",
              "      <td>8636737</td>\n",
              "      <td>Licitación Pública Entre 100 y 1000 UTM (LE)</td>\n",
              "      <td>8</td>\n",
              "      <td>I MUNICIPALIDAD DE CHIGUAYANTE</td>\n",
              "      <td>Región del Biobío</td>\n",
              "      <td>CLP</td>\n",
              "      <td>2020-01-07</td>\n",
              "      <td>2020-01-10</td>\n",
              "      <td>2020-01-24</td>\n",
              "      <td>...</td>\n",
              "      <td>516000.0</td>\n",
              "      <td>1200.0</td>\n",
              "      <td>516000.0</td>\n",
              "      <td>2020-01-15</td>\n",
              "      <td>Seleccionada</td>\n",
              "      <td>773.730435</td>\n",
              "      <td>0.555749</td>\n",
              "      <td>666.898931</td>\n",
              "      <td>666.898931</td>\n",
              "      <td>Municipalidad</td>\n",
              "    </tr>\n",
              "  </tbody>\n",
              "</table>\n",
              "<p>1 rows × 29 columns</p>\n",
              "</div>\n",
              "      <button class=\"colab-df-convert\" onclick=\"convertToInteractive('df-9aba8c4e-fd78-4b44-9d6c-db8a76a31099')\"\n",
              "              title=\"Convert this dataframe to an interactive table.\"\n",
              "              style=\"display:none;\">\n",
              "        \n",
              "  <svg xmlns=\"http://www.w3.org/2000/svg\" height=\"24px\"viewBox=\"0 0 24 24\"\n",
              "       width=\"24px\">\n",
              "    <path d=\"M0 0h24v24H0V0z\" fill=\"none\"/>\n",
              "    <path d=\"M18.56 5.44l.94 2.06.94-2.06 2.06-.94-2.06-.94-.94-2.06-.94 2.06-2.06.94zm-11 1L8.5 8.5l.94-2.06 2.06-.94-2.06-.94L8.5 2.5l-.94 2.06-2.06.94zm10 10l.94 2.06.94-2.06 2.06-.94-2.06-.94-.94-2.06-.94 2.06-2.06.94z\"/><path d=\"M17.41 7.96l-1.37-1.37c-.4-.4-.92-.59-1.43-.59-.52 0-1.04.2-1.43.59L10.3 9.45l-7.72 7.72c-.78.78-.78 2.05 0 2.83L4 21.41c.39.39.9.59 1.41.59.51 0 1.02-.2 1.41-.59l7.78-7.78 2.81-2.81c.8-.78.8-2.07 0-2.86zM5.41 20L4 18.59l7.72-7.72 1.47 1.35L5.41 20z\"/>\n",
              "  </svg>\n",
              "      </button>\n",
              "      \n",
              "  <style>\n",
              "    .colab-df-container {\n",
              "      display:flex;\n",
              "      flex-wrap:wrap;\n",
              "      gap: 12px;\n",
              "    }\n",
              "\n",
              "    .colab-df-convert {\n",
              "      background-color: #E8F0FE;\n",
              "      border: none;\n",
              "      border-radius: 50%;\n",
              "      cursor: pointer;\n",
              "      display: none;\n",
              "      fill: #1967D2;\n",
              "      height: 32px;\n",
              "      padding: 0 0 0 0;\n",
              "      width: 32px;\n",
              "    }\n",
              "\n",
              "    .colab-df-convert:hover {\n",
              "      background-color: #E2EBFA;\n",
              "      box-shadow: 0px 1px 2px rgba(60, 64, 67, 0.3), 0px 1px 3px 1px rgba(60, 64, 67, 0.15);\n",
              "      fill: #174EA6;\n",
              "    }\n",
              "\n",
              "    [theme=dark] .colab-df-convert {\n",
              "      background-color: #3B4455;\n",
              "      fill: #D2E3FC;\n",
              "    }\n",
              "\n",
              "    [theme=dark] .colab-df-convert:hover {\n",
              "      background-color: #434B5C;\n",
              "      box-shadow: 0px 1px 3px 1px rgba(0, 0, 0, 0.15);\n",
              "      filter: drop-shadow(0px 1px 2px rgba(0, 0, 0, 0.3));\n",
              "      fill: #FFFFFF;\n",
              "    }\n",
              "  </style>\n",
              "\n",
              "      <script>\n",
              "        const buttonEl =\n",
              "          document.querySelector('#df-9aba8c4e-fd78-4b44-9d6c-db8a76a31099 button.colab-df-convert');\n",
              "        buttonEl.style.display =\n",
              "          google.colab.kernel.accessAllowed ? 'block' : 'none';\n",
              "\n",
              "        async function convertToInteractive(key) {\n",
              "          const element = document.querySelector('#df-9aba8c4e-fd78-4b44-9d6c-db8a76a31099');\n",
              "          const dataTable =\n",
              "            await google.colab.kernel.invokeFunction('convertToInteractive',\n",
              "                                                     [key], {});\n",
              "          if (!dataTable) return;\n",
              "\n",
              "          const docLinkHtml = 'Like what you see? Visit the ' +\n",
              "            '<a target=\"_blank\" href=https://colab.research.google.com/notebooks/data_table.ipynb>data table notebook</a>'\n",
              "            + ' to learn more about interactive tables.';\n",
              "          element.innerHTML = '';\n",
              "          dataTable['output_type'] = 'display_data';\n",
              "          await google.colab.output.renderOutput(dataTable, element);\n",
              "          const docLink = document.createElement('div');\n",
              "          docLink.innerHTML = docLinkHtml;\n",
              "          element.appendChild(docLink);\n",
              "        }\n",
              "      </script>\n",
              "    </div>\n",
              "  </div>\n",
              "  "
            ]
          },
          "metadata": {},
          "execution_count": 2
        }
      ]
    },
    {
      "cell_type": "code",
      "source": [
        "CHLDiab2DirtyName = CHLDiab2['Descripcion linea Adquisicion']"
      ],
      "metadata": {
        "id": "VK-s-IPnS1gb"
      },
      "id": "VK-s-IPnS1gb",
      "execution_count": null,
      "outputs": []
    },
    {
      "cell_type": "code",
      "source": [
        "len(CHLDiab2DirtyName) # length of drug names"
      ],
      "metadata": {
        "colab": {
          "base_uri": "https://localhost:8080/"
        },
        "id": "Ks3iwGzqTUlL",
        "outputId": "fdccf476-b2f5-4f18-e4d7-abab939a8e79"
      },
      "id": "Ks3iwGzqTUlL",
      "execution_count": null,
      "outputs": [
        {
          "output_type": "execute_result",
          "data": {
            "text/plain": [
              "5331"
            ]
          },
          "metadata": {},
          "execution_count": 4
        }
      ]
    },
    {
      "cell_type": "code",
      "source": [
        "CHLDiab2DirtyName = list(set(CHLDiab2DirtyName))\n",
        "len(CHLDiab2DirtyName) # length of drug names after remove duplicates"
      ],
      "metadata": {
        "colab": {
          "base_uri": "https://localhost:8080/"
        },
        "id": "SCiL15mITXv8",
        "outputId": "1a7b4b85-56c9-4b0d-9b9f-d7c634d1bd37"
      },
      "id": "SCiL15mITXv8",
      "execution_count": null,
      "outputs": [
        {
          "output_type": "execute_result",
          "data": {
            "text/plain": [
              "952"
            ]
          },
          "metadata": {},
          "execution_count": 5
        }
      ]
    },
    {
      "cell_type": "code",
      "source": [
        "# uppercase everything\n",
        "CHLDiab2DirtyNameU = []\n",
        "for i in CHLDiab2DirtyName:\n",
        "  CHLDiab2DirtyNameU.append(i.upper())"
      ],
      "metadata": {
        "id": "uCOmcYZSTcS0"
      },
      "id": "uCOmcYZSTcS0",
      "execution_count": null,
      "outputs": []
    },
    {
      "cell_type": "code",
      "source": [
        "CHLDiab2DirtyNameU[:5]"
      ],
      "metadata": {
        "colab": {
          "base_uri": "https://localhost:8080/"
        },
        "id": "UyRM63mpTj_d",
        "outputId": "8b174a8e-b49b-455f-b39d-6666bfd437df"
      },
      "id": "UyRM63mpTj_d",
      "execution_count": null,
      "outputs": [
        {
          "output_type": "execute_result",
          "data": {
            "text/plain": [
              "['GLIBENCLAMIDA 5 MG CM/CM REC (ITEM N° 71 DE LAS ESPECIFICACIONES TÉCNICAS).',\n",
              " 'METFORMINA/GLIBENCLAMIDA 500/5 MG, CAJA DE 30 COMPRIMIDOS',\n",
              " 'FORXIGA 10MG (DAPAGLIFLOZINA), 28 COMP. POR CAJA',\n",
              " 'GLIBENCLAMIDA 4 MG. CAJA DE 1000 COMPRIMIDOS',\n",
              " 'GLIBENCLAMIDA 5 MG X 60 COMPRIMIDOS']"
            ]
          },
          "metadata": {},
          "execution_count": 7
        }
      ]
    },
    {
      "cell_type": "code",
      "source": [
        "!pip install googletrans==3.1.0a0\n",
        "from googletrans import Translator\n",
        "translator = Translator(service_urls=['translate.googleapis.com'])\n",
        "example = CHLDiab2DirtyNameU[0]\n",
        "translation = translator.translate(example, dest='en')\n",
        "print(translation.text)"
      ],
      "metadata": {
        "colab": {
          "base_uri": "https://localhost:8080/"
        },
        "id": "HLlDLeNgTn3L",
        "outputId": "30a01750-16f9-40f0-eb70-511cffe24aed"
      },
      "id": "HLlDLeNgTn3L",
      "execution_count": null,
      "outputs": [
        {
          "output_type": "stream",
          "name": "stdout",
          "text": [
            "Looking in indexes: https://pypi.org/simple, https://us-python.pkg.dev/colab-wheels/public/simple/\n",
            "Collecting googletrans==3.1.0a0\n",
            "  Downloading googletrans-3.1.0a0.tar.gz (19 kB)\n",
            "Collecting httpx==0.13.3\n",
            "  Downloading httpx-0.13.3-py3-none-any.whl (55 kB)\n",
            "\u001b[K     |████████████████████████████████| 55 kB 2.0 MB/s \n",
            "\u001b[?25hCollecting sniffio\n",
            "  Downloading sniffio-1.2.0-py3-none-any.whl (10 kB)\n",
            "Requirement already satisfied: certifi in /usr/local/lib/python3.7/dist-packages (from httpx==0.13.3->googletrans==3.1.0a0) (2022.6.15)\n",
            "Requirement already satisfied: idna==2.* in /usr/local/lib/python3.7/dist-packages (from httpx==0.13.3->googletrans==3.1.0a0) (2.10)\n",
            "Collecting httpcore==0.9.*\n",
            "  Downloading httpcore-0.9.1-py3-none-any.whl (42 kB)\n",
            "\u001b[K     |████████████████████████████████| 42 kB 1.1 MB/s \n",
            "\u001b[?25hCollecting rfc3986<2,>=1.3\n",
            "  Downloading rfc3986-1.5.0-py2.py3-none-any.whl (31 kB)\n",
            "Requirement already satisfied: chardet==3.* in /usr/local/lib/python3.7/dist-packages (from httpx==0.13.3->googletrans==3.1.0a0) (3.0.4)\n",
            "Collecting hstspreload\n",
            "  Downloading hstspreload-2022.8.1-py3-none-any.whl (1.4 MB)\n",
            "\u001b[K     |████████████████████████████████| 1.4 MB 9.3 MB/s \n",
            "\u001b[?25hCollecting h11<0.10,>=0.8\n",
            "  Downloading h11-0.9.0-py2.py3-none-any.whl (53 kB)\n",
            "\u001b[K     |████████████████████████████████| 53 kB 2.0 MB/s \n",
            "\u001b[?25hCollecting h2==3.*\n",
            "  Downloading h2-3.2.0-py2.py3-none-any.whl (65 kB)\n",
            "\u001b[K     |████████████████████████████████| 65 kB 3.1 MB/s \n",
            "\u001b[?25hCollecting hyperframe<6,>=5.2.0\n",
            "  Downloading hyperframe-5.2.0-py2.py3-none-any.whl (12 kB)\n",
            "Collecting hpack<4,>=3.0\n",
            "  Downloading hpack-3.0.0-py2.py3-none-any.whl (38 kB)\n",
            "Building wheels for collected packages: googletrans\n",
            "  Building wheel for googletrans (setup.py) ... \u001b[?25l\u001b[?25hdone\n",
            "  Created wheel for googletrans: filename=googletrans-3.1.0a0-py3-none-any.whl size=16367 sha256=4dae9fd9c198fbc4ac13a48be5bb018e5c14b9d75e4154e67591ce2b121116c9\n",
            "  Stored in directory: /root/.cache/pip/wheels/0c/be/fe/93a6a40ffe386e16089e44dad9018ebab9dc4cb9eb7eab65ae\n",
            "Successfully built googletrans\n",
            "Installing collected packages: hyperframe, hpack, sniffio, h2, h11, rfc3986, httpcore, hstspreload, httpx, googletrans\n",
            "Successfully installed googletrans-3.1.0a0 h11-0.9.0 h2-3.2.0 hpack-3.0.0 hstspreload-2022.8.1 httpcore-0.9.1 httpx-0.13.3 hyperframe-5.2.0 rfc3986-1.5.0 sniffio-1.2.0\n",
            "GLIBENCLAMIDE 5 MG CM/CM REC (ITEM N° 71 OF THE TECHNICAL SPECIFICATIONS).\n"
          ]
        }
      ]
    },
    {
      "cell_type": "code",
      "source": [
        "CHLDiab2DirtyNameU[0]"
      ],
      "metadata": {
        "colab": {
          "base_uri": "https://localhost:8080/",
          "height": 35
        },
        "id": "u-Apgp1JTynW",
        "outputId": "4a77783f-9e92-4d2c-9e4f-aa2711770bde"
      },
      "id": "u-Apgp1JTynW",
      "execution_count": null,
      "outputs": [
        {
          "output_type": "execute_result",
          "data": {
            "text/plain": [
              "'GLIBENCLAMIDA 5 MG CM/CM REC (ITEM N° 71 DE LAS ESPECIFICACIONES TÉCNICAS).'"
            ],
            "application/vnd.google.colaboratory.intrinsic+json": {
              "type": "string"
            }
          },
          "metadata": {},
          "execution_count": 9
        }
      ]
    },
    {
      "cell_type": "code",
      "source": [
        "CHLDiab2DirtyNameUEng = []\n",
        "for item in CHLDiab2DirtyNameU:\n",
        "  translation = translator.translate(item, dest='en')\n",
        "  CHLDiab2DirtyNameUEng.append(translation.text)\n",
        "# runs 1 mins"
      ],
      "metadata": {
        "id": "3B0bYaKcTyj6"
      },
      "id": "3B0bYaKcTyj6",
      "execution_count": null,
      "outputs": []
    },
    {
      "cell_type": "code",
      "source": [
        "CHLDiab2DirtyNameUEng[:5]"
      ],
      "metadata": {
        "colab": {
          "base_uri": "https://localhost:8080/"
        },
        "id": "YdVLZnSaTygu",
        "outputId": "42a34ad9-4c30-434b-b421-5486a30323e9"
      },
      "id": "YdVLZnSaTygu",
      "execution_count": null,
      "outputs": [
        {
          "output_type": "execute_result",
          "data": {
            "text/plain": [
              "['GLIBENCLAMIDE 5 MG CM/CM REC (ITEM N° 71 OF THE TECHNICAL SPECIFICATIONS).',\n",
              " 'METFORMIN/GLIBENCLAMIDE 500/5 MG, BOX OF 30 TABLETS',\n",
              " 'FORXIGA 10MG (DAPAGLIFLOZIN), 28 TABLETS. PER BOX',\n",
              " 'GLYBENCLAMIDE 4 MG. BOX OF 1000 TABLETS',\n",
              " 'GLIBENCLAMIDE 5 MG X 60 TABLETS']"
            ]
          },
          "metadata": {},
          "execution_count": 11
        }
      ]
    },
    {
      "cell_type": "code",
      "source": [
        "# get the orignila index about medicine name for each drug name \n",
        "\n",
        "from nltk.tokenize import WordPunctTokenizer  # this function split the string by space\n",
        "tokenizer = WordPunctTokenizer()\n",
        "\n",
        "CHLDiab2DirtyNameUESpl = []\n",
        "for item in CHLDiab2DirtyNameUEng:\n",
        "  tokenlist = tokenizer.tokenize(item)\n",
        "  CHLDiab2DirtyNameUESpl.append(tokenlist)"
      ],
      "metadata": {
        "id": "TMqmPXdbTyU1"
      },
      "id": "TMqmPXdbTyU1",
      "execution_count": null,
      "outputs": []
    },
    {
      "cell_type": "code",
      "source": [
        "CHLDiab2DirtyNameUESpl[:1]"
      ],
      "metadata": {
        "id": "2R7ajm9DTyRP",
        "colab": {
          "base_uri": "https://localhost:8080/"
        },
        "outputId": "6bf00dcb-59af-4773-9c4f-6b014a379d51"
      },
      "id": "2R7ajm9DTyRP",
      "execution_count": null,
      "outputs": [
        {
          "output_type": "execute_result",
          "data": {
            "text/plain": [
              "[['GLIBENCLAMIDE',\n",
              "  '5',\n",
              "  'MG',\n",
              "  'CM',\n",
              "  '/',\n",
              "  'CM',\n",
              "  'REC',\n",
              "  '(',\n",
              "  'ITEM',\n",
              "  'N',\n",
              "  '°',\n",
              "  '71',\n",
              "  'OF',\n",
              "  'THE',\n",
              "  'TECHNICAL',\n",
              "  'SPECIFICATIONS',\n",
              "  ').']]"
            ]
          },
          "metadata": {},
          "execution_count": 13
        }
      ]
    },
    {
      "cell_type": "code",
      "source": [
        "CHLDiab2DirtyNameIndex  = []\n",
        "for item in CHLDiab2DirtyNameUESpl:\n",
        "  templist = []\n",
        "  for subitem in item:\n",
        "    if len(subitem) > 4 and subitem.isdigit() is False:  ## ignoring these elements such as \"MG\", \"+\", ... \n",
        "      templist.append(subitem)\n",
        "  CHLDiab2DirtyNameIndex.append(templist)"
      ],
      "metadata": {
        "id": "b0mkQExkTyOc"
      },
      "id": "b0mkQExkTyOc",
      "execution_count": null,
      "outputs": []
    },
    {
      "cell_type": "code",
      "source": [
        "len(CHLDiab2DirtyNameIndex)"
      ],
      "metadata": {
        "id": "4zrilN2KTyLA",
        "colab": {
          "base_uri": "https://localhost:8080/"
        },
        "outputId": "2b25c2a7-1483-43c0-cab7-f0794d9d664e"
      },
      "id": "4zrilN2KTyLA",
      "execution_count": null,
      "outputs": [
        {
          "output_type": "execute_result",
          "data": {
            "text/plain": [
              "952"
            ]
          },
          "metadata": {},
          "execution_count": 15
        }
      ]
    },
    {
      "cell_type": "code",
      "source": [
        "CHLDiab2DirtyNameIndex[:5]"
      ],
      "metadata": {
        "id": "0X1dTFqTTyIB",
        "colab": {
          "base_uri": "https://localhost:8080/"
        },
        "outputId": "077f0c52-7efa-4a57-b341-ccd139c16fe0"
      },
      "id": "0X1dTFqTTyIB",
      "execution_count": null,
      "outputs": [
        {
          "output_type": "execute_result",
          "data": {
            "text/plain": [
              "[['GLIBENCLAMIDE', 'TECHNICAL', 'SPECIFICATIONS'],\n",
              " ['METFORMIN', 'GLIBENCLAMIDE', 'TABLETS'],\n",
              " ['FORXIGA', 'DAPAGLIFLOZIN', 'TABLETS'],\n",
              " ['GLYBENCLAMIDE', 'TABLETS'],\n",
              " ['GLIBENCLAMIDE', 'TABLETS']]"
            ]
          },
          "metadata": {},
          "execution_count": 16
        }
      ]
    },
    {
      "cell_type": "code",
      "source": [
        "# delete the information in each piece of drug name after SIMILAR\n",
        "def DelSIMILAR(subitem):\n",
        "  finalindex = len(subitem)\n",
        "  for subindex in range(0, len(subitem)):\n",
        "    if subitem[subindex] == 'SIMILAR':\n",
        "      finalindex = subindex\n",
        "  return subitem[:finalindex]"
      ],
      "metadata": {
        "id": "raOEuV5uTyGi"
      },
      "id": "raOEuV5uTyGi",
      "execution_count": null,
      "outputs": []
    },
    {
      "cell_type": "code",
      "source": [
        "# delete the information in each piece of drug name after EQUIVALENT\n",
        "def DelEQUIVALENT(subitem):\n",
        "  finalindex = len(subitem)\n",
        "  for subindex in range(0, len(subitem)):\n",
        "    if subitem[subindex] == 'EQUIVALENT':\n",
        "      finalindex = subindex\n",
        "  return subitem[:finalindex]"
      ],
      "metadata": {
        "id": "vjarzxANTyA6"
      },
      "id": "vjarzxANTyA6",
      "execution_count": null,
      "outputs": []
    },
    {
      "cell_type": "code",
      "source": [
        "CHLDiab2DirtyNameIndexEngDelSIMILAR = []\n",
        "for item in CHLDiab2DirtyNameIndex:\n",
        "  add = DelSIMILAR(item)\n",
        "  add = DelEQUIVALENT(add)\n",
        "  CHLDiab2DirtyNameIndexEngDelSIMILAR.append(add)"
      ],
      "metadata": {
        "id": "EU6vILueTx3T"
      },
      "id": "EU6vILueTx3T",
      "execution_count": null,
      "outputs": []
    },
    {
      "cell_type": "code",
      "source": [
        "CHLDiab2DirtyNameIndexEngDelSIMILAR[:5]"
      ],
      "metadata": {
        "colab": {
          "base_uri": "https://localhost:8080/"
        },
        "id": "xTB0iYoT5CfJ",
        "outputId": "e63434ac-4a67-4394-b9d6-ad1ecc9f1919"
      },
      "id": "xTB0iYoT5CfJ",
      "execution_count": null,
      "outputs": [
        {
          "output_type": "execute_result",
          "data": {
            "text/plain": [
              "[['GLIBENCLAMIDE', 'TECHNICAL', 'SPECIFICATIONS'],\n",
              " ['METFORMIN', 'GLIBENCLAMIDE', 'TABLETS'],\n",
              " ['FORXIGA', 'DAPAGLIFLOZIN', 'TABLETS'],\n",
              " ['GLYBENCLAMIDE', 'TABLETS'],\n",
              " ['GLIBENCLAMIDE', 'TABLETS']]"
            ]
          },
          "metadata": {},
          "execution_count": 20
        }
      ]
    },
    {
      "cell_type": "markdown",
      "source": [
        "## Part 2: Set up indexes for clean catagol drug names"
      ],
      "metadata": {
        "id": "IrN1IQf15h61"
      },
      "id": "IrN1IQf15h61"
    },
    {
      "cell_type": "code",
      "source": [
        "# read into clean catagol name\n",
        "import pandas as pd\n",
        "CleanDataBase = pd.read_excel('CleanDataBase.xlsx')\n",
        "CatalogName = CleanDataBase['Catalog Name']\n",
        "CatalogName = list(set(CatalogName))\n",
        "CatalogName = [x for x in CatalogName if str(x) != 'nan']\n",
        "\n",
        "CatalogNameCopy = CatalogName.copy()\n",
        "# uppercase everything\n",
        "CatalogNameU = []\n",
        "for i in CatalogNameCopy:\n",
        "  CatalogNameU.append(i.upper())"
      ],
      "metadata": {
        "id": "PStHpPpH5Cch"
      },
      "id": "PStHpPpH5Cch",
      "execution_count": null,
      "outputs": []
    },
    {
      "cell_type": "code",
      "source": [
        "# split the CatalogNameU\n",
        "#from nltk.tokenize import WordPunctTokenizer  # this function split the string by space\n",
        "#tokenizer = WordPunctTokenizer()\n",
        "\n",
        "CatalogNameUS = []\n",
        "for item in CatalogNameU:\n",
        "  temp = item.split(\",\")\n",
        "  CatalogNameUS.append(temp)"
      ],
      "metadata": {
        "id": "KorUhY995CZX"
      },
      "id": "KorUhY995CZX",
      "execution_count": null,
      "outputs": []
    },
    {
      "cell_type": "code",
      "source": [
        "CatalogNameUS[:5] # after split by \",\""
      ],
      "metadata": {
        "colab": {
          "base_uri": "https://localhost:8080/"
        },
        "id": "-FeTx-id5CVe",
        "outputId": "cd7e66c0-49ef-4bf1-a1b8-a633e9f0153b"
      },
      "id": "-FeTx-id5CVe",
      "execution_count": null,
      "outputs": [
        {
          "output_type": "execute_result",
          "data": {
            "text/plain": [
              "[['AFATINIB 40 MG', ' TABLET', ' TBD'],\n",
              " ['LOSARTAN 100 MG + HYDROCHLOROTHIAZIDE 25 MG', ' TABLET', ' TBD'],\n",
              " ['BLEOMYCIN 15 UI', ' POWDER FOR INJECTION', ' VIAL', ' 1X1'],\n",
              " ['FLUCONAZOLE 2 MG/ML', ' INJECTION', ' 100 ML VIAL', ' 10X1'],\n",
              " ['PROPOFOL 20 MG/ML', ' TBD', ' TBD']]"
            ]
          },
          "metadata": {},
          "execution_count": 23
        }
      ]
    },
    {
      "cell_type": "code",
      "source": [
        "# summary the list of presentation form\n",
        "PresentationForm = []\n",
        "\n",
        "for item in CatalogNameUS:\n",
        "  if len(item) >= 2:\n",
        "    PresentationForm.append(item[1])"
      ],
      "metadata": {
        "id": "qWU0WmJH6AHe"
      },
      "id": "qWU0WmJH6AHe",
      "execution_count": null,
      "outputs": []
    },
    {
      "cell_type": "code",
      "source": [
        "PresentationForm = list(set(PresentationForm))\n",
        "\n",
        "len(PresentationForm)"
      ],
      "metadata": {
        "colab": {
          "base_uri": "https://localhost:8080/"
        },
        "id": "KmwYkrqS6AEg",
        "outputId": "a98805e8-6296-49f7-cf66-9d183fbcf73d"
      },
      "id": "KmwYkrqS6AEg",
      "execution_count": null,
      "outputs": [
        {
          "output_type": "execute_result",
          "data": {
            "text/plain": [
              "29"
            ]
          },
          "metadata": {},
          "execution_count": 25
        }
      ]
    },
    {
      "cell_type": "code",
      "source": [
        "PresentationForm[:5]# the presentation form"
      ],
      "metadata": {
        "colab": {
          "base_uri": "https://localhost:8080/"
        },
        "id": "UpXC9pLR5__X",
        "outputId": "26726096-994d-4868-ad48-c0a13a3a80c7"
      },
      "id": "UpXC9pLR5__X",
      "execution_count": null,
      "outputs": [
        {
          "output_type": "execute_result",
          "data": {
            "text/plain": [
              "['\\xa0TABLET',\n",
              " ' 50MG TABLET',\n",
              " ' POWDER FOR INJECTION',\n",
              " ' SOLUTION FOR INJECTION',\n",
              " ' TABLET (CHEWABLE)']"
            ]
          },
          "metadata": {},
          "execution_count": 26
        }
      ]
    },
    {
      "cell_type": "code",
      "source": [
        "PresentationDiction = []\n",
        "\n",
        "from nltk.tokenize import WordPunctTokenizer  # this function split the string by space\n",
        "tokenizer = WordPunctTokenizer()\n",
        "\n",
        "for item in PresentationForm:\n",
        "  tokenlist = tokenizer.tokenize(item)\n",
        "  PresentationDiction.append(tokenlist)"
      ],
      "metadata": {
        "id": "7NugcUUN5_8U"
      },
      "id": "7NugcUUN5_8U",
      "execution_count": null,
      "outputs": []
    },
    {
      "cell_type": "code",
      "source": [
        "PresentationDiction2 = []\n",
        "\n",
        "for item in PresentationDiction:\n",
        "  for subitem in item:\n",
        "    if len(subitem) > 3:\n",
        "      PresentationDiction2.append(subitem)"
      ],
      "metadata": {
        "id": "NH5tzc1p5_5y"
      },
      "id": "NH5tzc1p5_5y",
      "execution_count": null,
      "outputs": []
    },
    {
      "cell_type": "code",
      "source": [
        "PresentationDiction2 = list(set(PresentationDiction2))"
      ],
      "metadata": {
        "id": "lw_OTrbZ5_3T"
      },
      "id": "lw_OTrbZ5_3T",
      "execution_count": null,
      "outputs": []
    },
    {
      "cell_type": "code",
      "source": [
        "# grab the main medicine \n",
        "MainMedicine = []\n",
        "\n",
        "for item in CatalogNameUS:\n",
        "  MainMedicine.append(item[0])"
      ],
      "metadata": {
        "id": "Z91QYsBa5_0H"
      },
      "id": "Z91QYsBa5_0H",
      "execution_count": null,
      "outputs": []
    },
    {
      "cell_type": "code",
      "source": [
        "print(len(MainMedicine), MainMedicine[:5])"
      ],
      "metadata": {
        "colab": {
          "base_uri": "https://localhost:8080/"
        },
        "id": "MCPlfpME5_x4",
        "outputId": "a66c3191-be89-4f7a-d464-c2e72c2bc50b"
      },
      "id": "MCPlfpME5_x4",
      "execution_count": null,
      "outputs": [
        {
          "output_type": "stream",
          "name": "stdout",
          "text": [
            "462 ['AFATINIB 40 MG', 'LOSARTAN 100 MG + HYDROCHLOROTHIAZIDE 25 MG', 'BLEOMYCIN 15 UI', 'FLUCONAZOLE 2 MG/ML', 'PROPOFOL 20 MG/ML']\n"
          ]
        }
      ]
    },
    {
      "cell_type": "code",
      "source": [
        "# split MainMedicine to get only the medicne name, and use the medicine name as the index\n",
        "from nltk.tokenize import WordPunctTokenizer\n",
        "tokenizer = WordPunctTokenizer()\n",
        "\n",
        "MainMedicineSpl = []\n",
        "for item in MainMedicine:\n",
        "  tokenlist = tokenizer.tokenize(item)\n",
        "  MainMedicineSpl.append(tokenlist)"
      ],
      "metadata": {
        "id": "7BBSbQ285_uZ"
      },
      "id": "7BBSbQ285_uZ",
      "execution_count": null,
      "outputs": []
    },
    {
      "cell_type": "code",
      "source": [
        "MainMedicineSpl[:5]"
      ],
      "metadata": {
        "colab": {
          "base_uri": "https://localhost:8080/"
        },
        "id": "lpN_k0Yf5_qw",
        "outputId": "a6df9403-bc99-4d8a-ac90-58eaa08ae930"
      },
      "id": "lpN_k0Yf5_qw",
      "execution_count": null,
      "outputs": [
        {
          "output_type": "execute_result",
          "data": {
            "text/plain": [
              "[['AFATINIB', '40', 'MG'],\n",
              " ['LOSARTAN', '100', 'MG', '+', 'HYDROCHLOROTHIAZIDE', '25', 'MG'],\n",
              " ['BLEOMYCIN', '15', 'UI'],\n",
              " ['FLUCONAZOLE', '2', 'MG', '/', 'ML'],\n",
              " ['PROPOFOL', '20', 'MG', '/', 'ML']]"
            ]
          },
          "metadata": {},
          "execution_count": 33
        }
      ]
    },
    {
      "cell_type": "code",
      "source": [
        "MainMedicineIndex = []\n",
        "for item in MainMedicineSpl:\n",
        "  templist = []\n",
        "  for subitem in item:\n",
        "    if len(subitem) > 4 and subitem.isdigit() is False:  ## ignoring these elements such as \"MG\", \"+\", ... \n",
        "      templist.append(subitem)\n",
        "  MainMedicineIndex.append(templist)"
      ],
      "metadata": {
        "id": "4JPD2wnK6eEX"
      },
      "id": "4JPD2wnK6eEX",
      "execution_count": null,
      "outputs": []
    },
    {
      "cell_type": "code",
      "source": [
        "MainMedicineIndex[:5]"
      ],
      "metadata": {
        "colab": {
          "base_uri": "https://localhost:8080/"
        },
        "id": "wGezPaxJ6eBk",
        "outputId": "fc31c27a-d948-44bf-ef7c-52f4a625f5f1"
      },
      "id": "wGezPaxJ6eBk",
      "execution_count": null,
      "outputs": [
        {
          "output_type": "execute_result",
          "data": {
            "text/plain": [
              "[['AFATINIB'],\n",
              " ['LOSARTAN', 'HYDROCHLOROTHIAZIDE'],\n",
              " ['BLEOMYCIN'],\n",
              " ['FLUCONAZOLE'],\n",
              " ['PROPOFOL']]"
            ]
          },
          "metadata": {},
          "execution_count": 35
        }
      ]
    },
    {
      "cell_type": "code",
      "source": [
        "CatalogIndexData = {\"Catalog Name\": CatalogNameU, \"Catalog Index\": MainMedicineIndex}"
      ],
      "metadata": {
        "id": "uMGwSN876d-s"
      },
      "id": "uMGwSN876d-s",
      "execution_count": null,
      "outputs": []
    },
    {
      "cell_type": "code",
      "source": [
        "CatalogIndexData_df = pd.DataFrame(CatalogIndexData)"
      ],
      "metadata": {
        "id": "t8X8_Jq06d6j"
      },
      "id": "t8X8_Jq06d6j",
      "execution_count": null,
      "outputs": []
    },
    {
      "cell_type": "code",
      "source": [
        "len(CatalogIndexData_df)"
      ],
      "metadata": {
        "colab": {
          "base_uri": "https://localhost:8080/"
        },
        "id": "2A9ocEOl6d2V",
        "outputId": "40b66fce-96e8-4431-ce79-ea3ddf247d02"
      },
      "id": "2A9ocEOl6d2V",
      "execution_count": null,
      "outputs": [
        {
          "output_type": "execute_result",
          "data": {
            "text/plain": [
              "462"
            ]
          },
          "metadata": {},
          "execution_count": 38
        }
      ]
    },
    {
      "cell_type": "code",
      "source": [
        "CatalogIndexData_df[:5]"
      ],
      "metadata": {
        "colab": {
          "base_uri": "https://localhost:8080/"
        },
        "id": "78VYvI3-92gV",
        "outputId": "af2462cd-94c2-4b42-8119-97fd4ec56243"
      },
      "id": "78VYvI3-92gV",
      "execution_count": null,
      "outputs": [
        {
          "output_type": "execute_result",
          "data": {
            "text/plain": [
              "                                        Catalog Name  \\\n",
              "0                        AFATINIB 40 MG, TABLET, TBD   \n",
              "1  LOSARTAN 100 MG + HYDROCHLOROTHIAZIDE 25 MG, T...   \n",
              "2   BLEOMYCIN 15 UI, POWDER FOR INJECTION, VIAL, 1X1   \n",
              "3  FLUCONAZOLE 2 MG/ML, INJECTION, 100 ML VIAL, 10X1   \n",
              "4                        PROPOFOL 20 MG/ML, TBD, TBD   \n",
              "\n",
              "                     Catalog Index  \n",
              "0                       [AFATINIB]  \n",
              "1  [LOSARTAN, HYDROCHLOROTHIAZIDE]  \n",
              "2                      [BLEOMYCIN]  \n",
              "3                    [FLUCONAZOLE]  \n",
              "4                       [PROPOFOL]  "
            ],
            "text/html": [
              "\n",
              "  <div id=\"df-f8930914-5271-4f32-9433-68d46c6e5a24\">\n",
              "    <div class=\"colab-df-container\">\n",
              "      <div>\n",
              "<style scoped>\n",
              "    .dataframe tbody tr th:only-of-type {\n",
              "        vertical-align: middle;\n",
              "    }\n",
              "\n",
              "    .dataframe tbody tr th {\n",
              "        vertical-align: top;\n",
              "    }\n",
              "\n",
              "    .dataframe thead th {\n",
              "        text-align: right;\n",
              "    }\n",
              "</style>\n",
              "<table border=\"1\" class=\"dataframe\">\n",
              "  <thead>\n",
              "    <tr style=\"text-align: right;\">\n",
              "      <th></th>\n",
              "      <th>Catalog Name</th>\n",
              "      <th>Catalog Index</th>\n",
              "    </tr>\n",
              "  </thead>\n",
              "  <tbody>\n",
              "    <tr>\n",
              "      <th>0</th>\n",
              "      <td>AFATINIB 40 MG, TABLET, TBD</td>\n",
              "      <td>[AFATINIB]</td>\n",
              "    </tr>\n",
              "    <tr>\n",
              "      <th>1</th>\n",
              "      <td>LOSARTAN 100 MG + HYDROCHLOROTHIAZIDE 25 MG, T...</td>\n",
              "      <td>[LOSARTAN, HYDROCHLOROTHIAZIDE]</td>\n",
              "    </tr>\n",
              "    <tr>\n",
              "      <th>2</th>\n",
              "      <td>BLEOMYCIN 15 UI, POWDER FOR INJECTION, VIAL, 1X1</td>\n",
              "      <td>[BLEOMYCIN]</td>\n",
              "    </tr>\n",
              "    <tr>\n",
              "      <th>3</th>\n",
              "      <td>FLUCONAZOLE 2 MG/ML, INJECTION, 100 ML VIAL, 10X1</td>\n",
              "      <td>[FLUCONAZOLE]</td>\n",
              "    </tr>\n",
              "    <tr>\n",
              "      <th>4</th>\n",
              "      <td>PROPOFOL 20 MG/ML, TBD, TBD</td>\n",
              "      <td>[PROPOFOL]</td>\n",
              "    </tr>\n",
              "  </tbody>\n",
              "</table>\n",
              "</div>\n",
              "      <button class=\"colab-df-convert\" onclick=\"convertToInteractive('df-f8930914-5271-4f32-9433-68d46c6e5a24')\"\n",
              "              title=\"Convert this dataframe to an interactive table.\"\n",
              "              style=\"display:none;\">\n",
              "        \n",
              "  <svg xmlns=\"http://www.w3.org/2000/svg\" height=\"24px\"viewBox=\"0 0 24 24\"\n",
              "       width=\"24px\">\n",
              "    <path d=\"M0 0h24v24H0V0z\" fill=\"none\"/>\n",
              "    <path d=\"M18.56 5.44l.94 2.06.94-2.06 2.06-.94-2.06-.94-.94-2.06-.94 2.06-2.06.94zm-11 1L8.5 8.5l.94-2.06 2.06-.94-2.06-.94L8.5 2.5l-.94 2.06-2.06.94zm10 10l.94 2.06.94-2.06 2.06-.94-2.06-.94-.94-2.06-.94 2.06-2.06.94z\"/><path d=\"M17.41 7.96l-1.37-1.37c-.4-.4-.92-.59-1.43-.59-.52 0-1.04.2-1.43.59L10.3 9.45l-7.72 7.72c-.78.78-.78 2.05 0 2.83L4 21.41c.39.39.9.59 1.41.59.51 0 1.02-.2 1.41-.59l7.78-7.78 2.81-2.81c.8-.78.8-2.07 0-2.86zM5.41 20L4 18.59l7.72-7.72 1.47 1.35L5.41 20z\"/>\n",
              "  </svg>\n",
              "      </button>\n",
              "      \n",
              "  <style>\n",
              "    .colab-df-container {\n",
              "      display:flex;\n",
              "      flex-wrap:wrap;\n",
              "      gap: 12px;\n",
              "    }\n",
              "\n",
              "    .colab-df-convert {\n",
              "      background-color: #E8F0FE;\n",
              "      border: none;\n",
              "      border-radius: 50%;\n",
              "      cursor: pointer;\n",
              "      display: none;\n",
              "      fill: #1967D2;\n",
              "      height: 32px;\n",
              "      padding: 0 0 0 0;\n",
              "      width: 32px;\n",
              "    }\n",
              "\n",
              "    .colab-df-convert:hover {\n",
              "      background-color: #E2EBFA;\n",
              "      box-shadow: 0px 1px 2px rgba(60, 64, 67, 0.3), 0px 1px 3px 1px rgba(60, 64, 67, 0.15);\n",
              "      fill: #174EA6;\n",
              "    }\n",
              "\n",
              "    [theme=dark] .colab-df-convert {\n",
              "      background-color: #3B4455;\n",
              "      fill: #D2E3FC;\n",
              "    }\n",
              "\n",
              "    [theme=dark] .colab-df-convert:hover {\n",
              "      background-color: #434B5C;\n",
              "      box-shadow: 0px 1px 3px 1px rgba(0, 0, 0, 0.15);\n",
              "      filter: drop-shadow(0px 1px 2px rgba(0, 0, 0, 0.3));\n",
              "      fill: #FFFFFF;\n",
              "    }\n",
              "  </style>\n",
              "\n",
              "      <script>\n",
              "        const buttonEl =\n",
              "          document.querySelector('#df-f8930914-5271-4f32-9433-68d46c6e5a24 button.colab-df-convert');\n",
              "        buttonEl.style.display =\n",
              "          google.colab.kernel.accessAllowed ? 'block' : 'none';\n",
              "\n",
              "        async function convertToInteractive(key) {\n",
              "          const element = document.querySelector('#df-f8930914-5271-4f32-9433-68d46c6e5a24');\n",
              "          const dataTable =\n",
              "            await google.colab.kernel.invokeFunction('convertToInteractive',\n",
              "                                                     [key], {});\n",
              "          if (!dataTable) return;\n",
              "\n",
              "          const docLinkHtml = 'Like what you see? Visit the ' +\n",
              "            '<a target=\"_blank\" href=https://colab.research.google.com/notebooks/data_table.ipynb>data table notebook</a>'\n",
              "            + ' to learn more about interactive tables.';\n",
              "          element.innerHTML = '';\n",
              "          dataTable['output_type'] = 'display_data';\n",
              "          await google.colab.output.renderOutput(dataTable, element);\n",
              "          const docLink = document.createElement('div');\n",
              "          docLink.innerHTML = docLinkHtml;\n",
              "          element.appendChild(docLink);\n",
              "        }\n",
              "      </script>\n",
              "    </div>\n",
              "  </div>\n",
              "  "
            ]
          },
          "metadata": {},
          "execution_count": 39
        }
      ]
    },
    {
      "cell_type": "code",
      "source": [
        "# create a list for main medicine from catalog name data set\n",
        "CatalogMedName = []\n",
        "for item in MainMedicineIndex:\n",
        "  for subitem in item:\n",
        "    CatalogMedName.append(subitem)"
      ],
      "metadata": {
        "id": "SKXlIAT492Yq"
      },
      "id": "SKXlIAT492Yq",
      "execution_count": null,
      "outputs": []
    },
    {
      "cell_type": "code",
      "source": [
        "CatalogMedName = list(set(CatalogMedName))\n",
        "len(CatalogMedName)"
      ],
      "metadata": {
        "colab": {
          "base_uri": "https://localhost:8080/"
        },
        "id": "J72O0BEs92Sa",
        "outputId": "146a5bd4-e8c9-4657-9d0e-c5288f701fe0"
      },
      "id": "J72O0BEs92Sa",
      "execution_count": null,
      "outputs": [
        {
          "output_type": "execute_result",
          "data": {
            "text/plain": [
              "206"
            ]
          },
          "metadata": {},
          "execution_count": 41
        }
      ]
    },
    {
      "cell_type": "code",
      "source": [
        "CatalogMedName[:3]"
      ],
      "metadata": {
        "colab": {
          "base_uri": "https://localhost:8080/"
        },
        "id": "ghexrd0e92L7",
        "outputId": "0e1007fd-4f6f-49e0-f3f7-90739fabf588"
      },
      "id": "ghexrd0e92L7",
      "execution_count": null,
      "outputs": [
        {
          "output_type": "execute_result",
          "data": {
            "text/plain": [
              "['METHYLDOPA', 'CALCIUM', 'MILTEFOSINE']"
            ]
          },
          "metadata": {},
          "execution_count": 42
        }
      ]
    },
    {
      "cell_type": "markdown",
      "source": [
        "## Part 3: Write the Chile 2 Index Data Set According to the Catalog Name Index"
      ],
      "metadata": {
        "id": "sau0AnJP_R3C"
      },
      "id": "sau0AnJP_R3C"
    },
    {
      "cell_type": "code",
      "source": [
        "# for the vocabulaies which are included in the medicine index get from clean data set, keep them in the \n",
        "# Chile 2 data index\n",
        "def KeepMetAnd(subitem):\n",
        "  addlist = []\n",
        "  for element in subitem:\n",
        "    if element in CatalogMedName:\n",
        "      addlist.append(element)\n",
        "  return addlist"
      ],
      "metadata": {
        "id": "y8ayvGha9_Ng"
      },
      "id": "y8ayvGha9_Ng",
      "execution_count": null,
      "outputs": []
    },
    {
      "cell_type": "code",
      "source": [
        "CHI2finIndex = []\n",
        "for sublist in CHLDiab2DirtyNameIndexEngDelSIMILAR:\n",
        "  add = KeepMetAnd(sublist)\n",
        "  CHI2finIndex.append(add)"
      ],
      "metadata": {
        "id": "ChBj8_4F9_KK"
      },
      "id": "ChBj8_4F9_KK",
      "execution_count": null,
      "outputs": []
    },
    {
      "cell_type": "code",
      "source": [
        "# count the number of Chile index sub list which is null []\n",
        "count = 0\n",
        "for i in CHI2finIndex:\n",
        "  if not i:\n",
        "    count += 1"
      ],
      "metadata": {
        "id": "1MW1y5bQ9_Dj"
      },
      "id": "1MW1y5bQ9_Dj",
      "execution_count": null,
      "outputs": []
    },
    {
      "cell_type": "code",
      "source": [
        "print(len(CHI2finIndex), count) # the total number of drug names and the names with null index"
      ],
      "metadata": {
        "colab": {
          "base_uri": "https://localhost:8080/"
        },
        "id": "9xFQlbxNAImb",
        "outputId": "14a9dfe7-cf34-4be2-e47d-67b7658845d8"
      },
      "id": "9xFQlbxNAImb",
      "execution_count": null,
      "outputs": [
        {
          "output_type": "stream",
          "name": "stdout",
          "text": [
            "952 431\n"
          ]
        }
      ]
    },
    {
      "cell_type": "code",
      "source": [
        "nullindexlist = []\n",
        "for i in range(0, len(CHI2finIndex)):\n",
        "  if not CHI2finIndex[i]:\n",
        "    nullindexlist.append(i)"
      ],
      "metadata": {
        "id": "kEqwupxj9-8h"
      },
      "id": "kEqwupxj9-8h",
      "execution_count": null,
      "outputs": []
    },
    {
      "cell_type": "code",
      "source": [
        "!pip install -U spacy\n",
        "!pip install scispacy"
      ],
      "metadata": {
        "id": "M7rkN7ii9-47"
      },
      "id": "M7rkN7ii9-47",
      "execution_count": null,
      "outputs": []
    },
    {
      "cell_type": "code",
      "source": [
        "## Install scispaCy models\n",
        "!pip install https://s3-us-west-2.amazonaws.com/ai2-s2-scispacy/releases/v0.4.0/en_core_sci_sm-0.4.0.tar.gz\n",
        "!pip install https://s3-us-west-2.amazonaws.com/ai2-s2-scispacy/releases/v0.4.0/en_ner_craft_md-0.4.0.tar.gz\n",
        "!pip install https://s3-us-west-2.amazonaws.com/ai2-s2-scispacy/releases/v0.4.0/en_ner_jnlpba_md-0.4.0.tar.gz\n",
        "!pip install https://s3-us-west-2.amazonaws.com/ai2-s2-scispacy/releases/v0.4.0/en_ner_bc5cdr_md-0.4.0.tar.gz\n",
        "!pip install https://s3-us-west-2.amazonaws.com/ai2-s2-scispacy/releases/v0.4.0/en_ner_bionlp13cg_md-0.4.0.tar.gz\n",
        "!pip install https://s3-us-west-2.amazonaws.com/ai2-s2-scispacy/releases/v0.4.0/en_core_sci_lg-0.4.0.tar.gz"
      ],
      "metadata": {
        "id": "lxXzFCXjAxiD"
      },
      "id": "lxXzFCXjAxiD",
      "execution_count": null,
      "outputs": []
    },
    {
      "cell_type": "code",
      "source": [
        "import scispacy\n",
        "import spacy\n",
        "\n",
        "#Core models\n",
        "import en_core_sci_sm\n",
        "import en_core_sci_lg\n",
        "\n",
        "#NER specific models\n",
        "import en_ner_craft_md\n",
        "import en_ner_bc5cdr_md\n",
        "import en_ner_jnlpba_md\n",
        "import en_ner_bionlp13cg_md\n",
        "\n",
        "#Tools for extracting & displaying data\n",
        "from spacy import displacy\n",
        "import pandas as pd"
      ],
      "metadata": {
        "id": "yikwS9kh9-0M"
      },
      "id": "yikwS9kh9-0M",
      "execution_count": null,
      "outputs": []
    },
    {
      "cell_type": "code",
      "source": [
        "#Load specific model and pass text through\n",
        "nlp = en_core_sci_lg.load()"
      ],
      "metadata": {
        "id": "oCLBN8oeAf6H"
      },
      "id": "oCLBN8oeAf6H",
      "execution_count": null,
      "outputs": []
    },
    {
      "cell_type": "code",
      "source": [
        "CHLDiab2DirtyNameIndexEngDelSIMILAR[:100]"
      ],
      "metadata": {
        "colab": {
          "base_uri": "https://localhost:8080/"
        },
        "id": "z96FGTv1y1q6",
        "outputId": "6661d25f-fb29-424d-d408-a45dd482990b"
      },
      "id": "z96FGTv1y1q6",
      "execution_count": null,
      "outputs": [
        {
          "output_type": "execute_result",
          "data": {
            "text/plain": [
              "[['GLIBENCLAMIDE', 'TECHNICAL', 'SPECIFICATIONS'],\n",
              " ['METFORMIN', 'GLIBENCLAMIDE', 'TABLETS'],\n",
              " ['FORXIGA', 'DAPAGLIFLOZIN', 'TABLETS'],\n",
              " ['GLYBENCLAMIDE', 'TABLETS'],\n",
              " ['GLIBENCLAMIDE', 'TABLETS'],\n",
              " ['HYPOGLUCIN', 'METFORMIN', '500MG', 'GLYBENCLAMIDE', 'TABLETS'],\n",
              " ['GLIBENCLAMIDA'],\n",
              " ['VILDAGLIPTINA', 'METFORMINA', 'COMPRIMIDOS'],\n",
              " ['DAPAGLIFLOZIN', 'METFORMIN', 'EXTENDED', 'RELEASE', 'TABLETS'],\n",
              " ['GLIBENCLAMIDA'],\n",
              " ['METFORMIN', 'GLIBENCLAMIDE', 'TABLET'],\n",
              " ['VILDAGLIPTIN',\n",
              "  'METFORMIN',\n",
              "  'HYDROCHLORIDE',\n",
              "  'VILDAGLIPTIN',\n",
              "  'METFORMIN',\n",
              "  'HYDROCHLORIDE'],\n",
              " ['VILDAGLIPTINA', 'JALRA', 'GALVUS'],\n",
              " ['VILDAGLIPTINA', 'METFORMINA'],\n",
              " ['BOXES', 'METFORMIN', 'TABLETS', 'VILDAGLIPTIN', 'SUGGESTED', 'GALVUS'],\n",
              " ['FORXIGA'],\n",
              " ['VILDAGLIPTINE',\n",
              "  'METFORMIN',\n",
              "  'COMMERCIAL',\n",
              "  'COATED',\n",
              "  'TABLETS',\n",
              "  'EXPIRATION',\n",
              "  'EQUAL',\n",
              "  'LONGER',\n",
              "  'MONTHS',\n",
              "  'ENTER',\n",
              "  'INFORMATION',\n",
              "  'INDICATING',\n",
              "  'MONTH'],\n",
              " ['METFORMIN', 'VILDAGLIPTIN', 'TABLETS'],\n",
              " ['METFORMIN', 'GLIBENCLAMIDE', 'TABLETS'],\n",
              " ['GLIBENCLAMIDE', 'TABLETS'],\n",
              " ['VILDAGLIPTINA'],\n",
              " ['TABLETS', 'JALRA'],\n",
              " ['VILDAGLIPTIN', 'TABLETS'],\n",
              " ['GLIFORTEX', 'TABLET'],\n",
              " ['METFORMIN', 'GLIBENCLAMIDE', 'TABLETS'],\n",
              " ['GLYBENCLAMIDE', 'CLINICAL'],\n",
              " ['GALVUS'],\n",
              " ['BOXES', 'METFORMIN', 'TABLETS', 'VILDAGLIPTIN', 'JALRA'],\n",
              " ['VILDAGLIPTIN',\n",
              "  'METFORMIN',\n",
              "  'COATED',\n",
              "  'EXPIRY',\n",
              "  'GREATER',\n",
              "  'RECEIPT',\n",
              "  'LETTERS',\n",
              "  'EXCHANGE',\n",
              "  'ACCEPTED'],\n",
              " ['THIRTY'],\n",
              " ['VILDAGLIPTIN', 'METFORMIN', 'TABLETS'],\n",
              " ['GLIMEPIRIDA'],\n",
              " ['GLIBENCLAMIDA', 'COMPRIMIDOS'],\n",
              " ['GLIBENCLAMIDE', 'EXPIRY', 'HIGHER'],\n",
              " ['METFORMIN',\n",
              "  '1000MG',\n",
              "  'GLYBENCLAMIDE',\n",
              "  'COATED',\n",
              "  'TABLETS',\n",
              "  'SEALED',\n",
              "  'RESISTANT',\n",
              "  'UNADALTERED',\n",
              "  'CONTAINER'],\n",
              " ['VILDAGLIPTIN', 'TABLET'],\n",
              " ['TABLETS', 'CONTAINING', 'VILDAGLIPTIN', 'METFORMIN', 'HYDROCHLORIDE'],\n",
              " ['METFORMIN', 'VILDAGLIPTIN', '500MG', 'PACKAGE', 'TABLETS'],\n",
              " ['GLIBENCLAMIDE'],\n",
              " ['VILDAGLIPTIN'],\n",
              " ['GLIBENCLAMIDA', 'CJX100', '2143200CM'],\n",
              " ['GLIBENCLAMIDA'],\n",
              " ['VILDAGLIPTIN', 'METFORMIN'],\n",
              " ['VILDAGLIPTINE', 'BLISTERS', 'TABLETS'],\n",
              " ['DAPAGLIFLOZIN'],\n",
              " ['HYPOGLYCEMIATING', 'GLIBENCLAMIDE', 'TABLET'],\n",
              " ['VILDAGLIPTINE', 'BOXES'],\n",
              " ['VILDAGLIPTINE', 'METFORMIN', 'HYDROCHLORIDE', 'COATED', 'TABLETS'],\n",
              " ['METFORMIN', '850MG', 'VILDAGLIPTIN', 'TABLETS', 'COMMUNITY', 'APOTHETICS'],\n",
              " ['GLIBENCLAMIDA'],\n",
              " ['ONGLYZA'],\n",
              " ['KOMBIGLYZE'],\n",
              " ['METFORMIN',\n",
              "  'DAPAGLIFLOZINA',\n",
              "  'REQUESTED',\n",
              "  'ADMINISTRATIVE',\n",
              "  'TECHNICAL',\n",
              "  'BASES',\n",
              "  'ATTACHED',\n",
              "  'ANNEXES'],\n",
              " ['GLIBENCALMIDE'],\n",
              " ['DAPAGLIFLOZINA'],\n",
              " ['METFORMIN', 'TABLETS', 'VILDAGLIPTIN'],\n",
              " ['KOMBIGLYZE'],\n",
              " ['GLYBENCLAMIDE', 'PACKAGED'],\n",
              " ['GLIBENCLAMIDA', 'METFORMINA', '500MG'],\n",
              " ['METFORMIN',\n",
              "  'GLIBENCLAMIDE',\n",
              "  'SUGGESTION',\n",
              "  'GLICINEX',\n",
              "  'CONTAINING',\n",
              "  'TABLETS'],\n",
              " ['METFORMINA', '500MG', 'GLIBENCLAMIDA'],\n",
              " ['SUPPLY', 'METFORMIN', 'HYDROCHLORIDE', 'GLIBENCLAMIDE'],\n",
              " ['VILDAGLIPTIN',\n",
              "  'METFORMIN',\n",
              "  'HYDROCHLORIDE',\n",
              "  'VILDAGLIPTINE',\n",
              "  'METFORMIN',\n",
              "  'HYDROCHLORIDE',\n",
              "  'TABLETS'],\n",
              " ['GLIBENCLAMIDE', 'PRESENTATION', 'TABLET'],\n",
              " ['DAPAGLIFLOZIN', 'METFORMIN', 'TABLET'],\n",
              " ['CANAGLIFLOZIN', 'METFORMIN'],\n",
              " ['METFORMIN', 'HYDROCHLORIDE', 'GLYBENCLAMIDE', 'TABLETS'],\n",
              " ['VILDAGLIPTIN', 'METFORMIN'],\n",
              " ['HYPOGLUCIN', 'METFORMIN', 'GLIBENCLAMIDE', 'TABLETS'],\n",
              " ['REQUIRED', 'ACQUIRE', 'GLYBENCLAMIDE', 'METFORMIN'],\n",
              " ['GLIBENCLAMIDE'],\n",
              " ['GLIBENCLAMIDA'],\n",
              " ['VILDAGLIPTINE', 'COATED', 'TABLETS'],\n",
              " ['BOXES', 'DAPAGLIFLOZIN', 'COATED', 'TABLETS'],\n",
              " ['VILDAGLIPTINA', 'COMPRIMID'],\n",
              " ['DAPAGLIFOZIN', 'COATED', 'TABLET'],\n",
              " ['GLIBENCLAMIDA'],\n",
              " ['VILDAGLIPTINE',\n",
              "  'PRESENTATION',\n",
              "  'PUBLIC',\n",
              "  'CONVENIENT',\n",
              "  'PRICE',\n",
              "  'POINT',\n",
              "  'LEAST',\n",
              "  'MONTHS',\n",
              "  'EFFECTIVENESS',\n",
              "  'CERTIFICATE',\n",
              "  'PROVING',\n",
              "  'MANUFACTURED',\n",
              "  'COUNTRIES',\n",
              "  'HEALTH',\n",
              "  'SURVEILLANCE',\n",
              "  'AGENCIES',\n",
              "  'CERTIFY'],\n",
              " ['GLIBENCLAMIDA', 'TABLET'],\n",
              " ['VILDAGLIPTINE', 'TABLETS'],\n",
              " ['GLIBENCLAMIDA'],\n",
              " ['GLIBENCLAMIDE', 'SCREWED', 'TABLET'],\n",
              " ['GLYBENCLAMIDE', 'SCREENED', 'TABLETS'],\n",
              " ['DAPAGLIFOZINE', 'TABLETS', 'FORXIGA'],\n",
              " ['BOXES', 'METFORMIN', 'TABLETS', 'VILDAGLIPTIN', 'JALRA'],\n",
              " ['GLYBENCLAMIDE', 'MATURITY', 'MONTHS'],\n",
              " ['KOMBIGLYZE'],\n",
              " ['GLIBENCLAMIDAD', 'METFORMINA'],\n",
              " ['METFORMIN',\n",
              "  'GLIBENCLAMIDE',\n",
              "  'TABLET',\n",
              "  'METFORMIN',\n",
              "  'GLIBENCLAMIDE',\n",
              "  'ROUTE'],\n",
              " ['GLIBENCLAMIDA'],\n",
              " ['METFORMINA', 'GLIBENCLAMIDA'],\n",
              " ['GLIBENCLAMIDA'],\n",
              " ['VILDAGLIPTIN'],\n",
              " ['DAPAGLIFLOZIN'],\n",
              " ['DAPAGLIFLOZINA', 'FORXIGA'],\n",
              " ['VILDAGLIPTIN', 'METFORMIN', 'HYDROCHLORIDE'],\n",
              " ['GLYBENCLAMIDE',\n",
              "  'EXPIRED',\n",
              "  'YEARS',\n",
              "  'REQUESTED',\n",
              "  'TECHNICAL',\n",
              "  'DOCUMENTATION',\n",
              "  'PHARMACEUTICALS',\n",
              "  'CERTIFICATE',\n",
              "  'EXCHANGE',\n",
              "  'RETURN',\n",
              "  'POLICY',\n",
              "  'BATCH',\n",
              "  'ANALYSIS',\n",
              "  'CERTIFICATE'],\n",
              " ['VILDAGLIPTINE',\n",
              "  'METFORMIN',\n",
              "  'COATED',\n",
              "  'TABLETS',\n",
              "  'CONVENIENT',\n",
              "  'PUBLIC',\n",
              "  'PRESENTATION',\n",
              "  'PRICE',\n",
              "  'POINT',\n",
              "  'LEAST',\n",
              "  'MONTHS',\n",
              "  'EFFECTIVENESS',\n",
              "  'CHILE',\n",
              "  'CERTIFICATE',\n",
              "  'COMPLIANCE',\n",
              "  'MANUFACTURING',\n",
              "  'PRACTICES'],\n",
              " ['GLIBENCLAMIDA'],\n",
              " ['GLYBENCLAMIDE',\n",
              "  'EXPIRED',\n",
              "  'YEARS',\n",
              "  'REQUESTED',\n",
              "  'TECHNICAL',\n",
              "  'DOCUMENTATION',\n",
              "  'PHARMACEUTICALS',\n",
              "  'CERTIFICATE',\n",
              "  'EXCHANGE',\n",
              "  'RETURN',\n",
              "  'POLICY',\n",
              "  'BATCH',\n",
              "  'ANALYSIS',\n",
              "  'CERTIFICATE']]"
            ]
          },
          "metadata": {},
          "execution_count": 54
        }
      ]
    },
    {
      "cell_type": "code",
      "source": [
        "CHI2finIndex[:100]"
      ],
      "metadata": {
        "colab": {
          "base_uri": "https://localhost:8080/"
        },
        "id": "lHagwy9VAf1G",
        "outputId": "f137af06-16b7-4493-d221-13052232e3c8"
      },
      "id": "lHagwy9VAf1G",
      "execution_count": null,
      "outputs": [
        {
          "output_type": "execute_result",
          "data": {
            "text/plain": [
              "[['GLIBENCLAMIDE'],\n",
              " ['METFORMIN', 'GLIBENCLAMIDE'],\n",
              " ['DAPAGLIFLOZIN'],\n",
              " [],\n",
              " ['GLIBENCLAMIDE'],\n",
              " ['METFORMIN'],\n",
              " [],\n",
              " [],\n",
              " ['DAPAGLIFLOZIN', 'METFORMIN'],\n",
              " [],\n",
              " ['METFORMIN', 'GLIBENCLAMIDE'],\n",
              " ['VILDAGLIPTIN',\n",
              "  'METFORMIN',\n",
              "  'HYDROCHLORIDE',\n",
              "  'VILDAGLIPTIN',\n",
              "  'METFORMIN',\n",
              "  'HYDROCHLORIDE'],\n",
              " [],\n",
              " [],\n",
              " ['METFORMIN', 'VILDAGLIPTIN'],\n",
              " [],\n",
              " ['METFORMIN'],\n",
              " ['METFORMIN', 'VILDAGLIPTIN'],\n",
              " ['METFORMIN', 'GLIBENCLAMIDE'],\n",
              " ['GLIBENCLAMIDE'],\n",
              " [],\n",
              " [],\n",
              " ['VILDAGLIPTIN'],\n",
              " [],\n",
              " ['METFORMIN', 'GLIBENCLAMIDE'],\n",
              " [],\n",
              " [],\n",
              " ['METFORMIN', 'VILDAGLIPTIN'],\n",
              " ['VILDAGLIPTIN', 'METFORMIN'],\n",
              " [],\n",
              " ['VILDAGLIPTIN', 'METFORMIN'],\n",
              " [],\n",
              " [],\n",
              " ['GLIBENCLAMIDE'],\n",
              " ['METFORMIN'],\n",
              " ['VILDAGLIPTIN'],\n",
              " ['VILDAGLIPTIN', 'METFORMIN', 'HYDROCHLORIDE'],\n",
              " ['METFORMIN', 'VILDAGLIPTIN'],\n",
              " ['GLIBENCLAMIDE'],\n",
              " ['VILDAGLIPTIN'],\n",
              " [],\n",
              " [],\n",
              " ['VILDAGLIPTIN', 'METFORMIN'],\n",
              " [],\n",
              " ['DAPAGLIFLOZIN'],\n",
              " ['GLIBENCLAMIDE'],\n",
              " [],\n",
              " ['METFORMIN', 'HYDROCHLORIDE'],\n",
              " ['METFORMIN', 'VILDAGLIPTIN'],\n",
              " [],\n",
              " [],\n",
              " [],\n",
              " ['METFORMIN'],\n",
              " [],\n",
              " [],\n",
              " ['METFORMIN', 'VILDAGLIPTIN'],\n",
              " [],\n",
              " [],\n",
              " [],\n",
              " ['METFORMIN', 'GLIBENCLAMIDE'],\n",
              " [],\n",
              " ['METFORMIN', 'HYDROCHLORIDE', 'GLIBENCLAMIDE'],\n",
              " ['VILDAGLIPTIN', 'METFORMIN', 'HYDROCHLORIDE', 'METFORMIN', 'HYDROCHLORIDE'],\n",
              " ['GLIBENCLAMIDE'],\n",
              " ['DAPAGLIFLOZIN', 'METFORMIN'],\n",
              " ['METFORMIN'],\n",
              " ['METFORMIN', 'HYDROCHLORIDE'],\n",
              " ['VILDAGLIPTIN', 'METFORMIN'],\n",
              " ['METFORMIN', 'GLIBENCLAMIDE'],\n",
              " ['METFORMIN'],\n",
              " ['GLIBENCLAMIDE'],\n",
              " [],\n",
              " [],\n",
              " ['DAPAGLIFLOZIN'],\n",
              " [],\n",
              " ['DAPAGLIFOZIN'],\n",
              " [],\n",
              " [],\n",
              " [],\n",
              " [],\n",
              " [],\n",
              " ['GLIBENCLAMIDE'],\n",
              " [],\n",
              " [],\n",
              " ['METFORMIN', 'VILDAGLIPTIN'],\n",
              " [],\n",
              " [],\n",
              " [],\n",
              " ['METFORMIN', 'GLIBENCLAMIDE', 'METFORMIN', 'GLIBENCLAMIDE'],\n",
              " [],\n",
              " [],\n",
              " [],\n",
              " ['VILDAGLIPTIN'],\n",
              " ['DAPAGLIFLOZIN'],\n",
              " [],\n",
              " ['VILDAGLIPTIN', 'METFORMIN', 'HYDROCHLORIDE'],\n",
              " [],\n",
              " ['METFORMIN'],\n",
              " [],\n",
              " []]"
            ]
          },
          "metadata": {},
          "execution_count": 53
        }
      ]
    },
    {
      "cell_type": "code",
      "source": [
        "Chile2drugOutDataName = []\n",
        "for nullindex in nullindexlist:\n",
        "  tempChiledrugname = CHLDiab2DirtyNameIndexEngDelSIMILAR[nullindex]\n",
        "  tempChiledrugname_str = str(' '.join(tempChiledrugname))\n",
        "  doc = nlp(tempChiledrugname_str)\n",
        "  temptext = doc.text\n",
        "  Chile2drugOutDataName.append(temptext)"
      ],
      "metadata": {
        "id": "a-4AUg5PAfvU"
      },
      "id": "a-4AUg5PAfvU",
      "execution_count": null,
      "outputs": []
    },
    {
      "cell_type": "code",
      "source": [
        "Chile2drugOutDataNameNullNumber = 0\n",
        "\n",
        "for i in Chile2drugOutDataName:\n",
        "  if not i:\n",
        "    Chile2drugOutDataNameNullNumber += 1"
      ],
      "metadata": {
        "id": "AoSCQuNkAesz"
      },
      "id": "AoSCQuNkAesz",
      "execution_count": null,
      "outputs": []
    },
    {
      "cell_type": "code",
      "source": [
        "Chile2drugOutDataNameNullNumber"
      ],
      "metadata": {
        "colab": {
          "base_uri": "https://localhost:8080/"
        },
        "id": "V8Lu5snrAel_",
        "outputId": "c98c8086-1dae-41f4-b32e-e82bd9eb1c91"
      },
      "id": "V8Lu5snrAel_",
      "execution_count": null,
      "outputs": [
        {
          "output_type": "execute_result",
          "data": {
            "text/plain": [
              "2"
            ]
          },
          "metadata": {},
          "execution_count": 57
        }
      ]
    },
    {
      "cell_type": "code",
      "source": [
        "# for these null element in CHIfnIndex list, use Chile1drugOutDataName to complete them\n",
        "j = 0\n",
        "for i in nullindexlist:\n",
        "  CHI2finIndex[i] = Chile2drugOutDataName[j]\n",
        "  j += 1"
      ],
      "metadata": {
        "id": "0KQW4-a8zkKG"
      },
      "id": "0KQW4-a8zkKG",
      "execution_count": null,
      "outputs": []
    },
    {
      "cell_type": "code",
      "source": [
        "for index in range(len(CHI2finIndex)):\n",
        "  if not CHI2finIndex[index]:\n",
        "    CHI2finIndex[index] = CHLDiab2DirtyNameIndexEngDelSIMILAR[index]"
      ],
      "metadata": {
        "id": "VrciuJIlzkH9"
      },
      "id": "VrciuJIlzkH9",
      "execution_count": null,
      "outputs": []
    },
    {
      "cell_type": "code",
      "source": [
        "nullindex = []\n",
        "for index in range(len(CHI2finIndex)):\n",
        "  if not CHI2finIndex[index]:\n",
        "    nullindex.append(index)"
      ],
      "metadata": {
        "id": "HAnoRWpXzkDu"
      },
      "id": "HAnoRWpXzkDu",
      "execution_count": null,
      "outputs": []
    },
    {
      "cell_type": "code",
      "source": [
        "nullindex"
      ],
      "metadata": {
        "colab": {
          "base_uri": "https://localhost:8080/"
        },
        "id": "xahSAZpwzkAY",
        "outputId": "c6e5312c-5d04-45af-f9e8-673c1ec76f9a"
      },
      "id": "xahSAZpwzkAY",
      "execution_count": null,
      "outputs": [
        {
          "output_type": "execute_result",
          "data": {
            "text/plain": [
              "[367, 658]"
            ]
          },
          "metadata": {},
          "execution_count": 61
        }
      ]
    },
    {
      "cell_type": "code",
      "source": [
        "Chile2PreList = []\n",
        "\n",
        "for item in CHLDiab2DirtyNameIndexEngDelSIMILAR:\n",
        "  addlist = []\n",
        "  for subitem in item:\n",
        "    if subitem in PresentationDiction2:\n",
        "      addlist.append(subitem)\n",
        "  Chile2PreList.append(list(set(addlist)))"
      ],
      "metadata": {
        "id": "to5KY3Wwzj6C"
      },
      "id": "to5KY3Wwzj6C",
      "execution_count": null,
      "outputs": []
    },
    {
      "cell_type": "code",
      "source": [
        "WeightList = []\n",
        "\n",
        "for item in CHLDiab2DirtyNameUESpl:\n",
        "  addlist = []\n",
        "  for subitem in range(0, len(item)):\n",
        "    if item[subitem].isdigit():\n",
        "      if subitem + 1 < len(item):\n",
        "        if item[subitem + 1].lower() in ['mg', 'ml']:\n",
        "          addlist.append(item[subitem])\n",
        "          addlist.append(item[subitem + 1])\n",
        "  WeightList.append(list(set(addlist)))"
      ],
      "metadata": {
        "id": "FOGuKxz40DEs"
      },
      "id": "FOGuKxz40DEs",
      "execution_count": null,
      "outputs": []
    },
    {
      "cell_type": "code",
      "source": [
        "print(len(CHI2finIndex), len(Chile2PreList), len(WeightList))"
      ],
      "metadata": {
        "colab": {
          "base_uri": "https://localhost:8080/"
        },
        "id": "9SwrvfkQ0DBc",
        "outputId": "09e85428-b65b-437c-bbab-acf9ca08c777"
      },
      "id": "9SwrvfkQ0DBc",
      "execution_count": null,
      "outputs": [
        {
          "output_type": "stream",
          "name": "stdout",
          "text": [
            "952 952 952\n"
          ]
        }
      ]
    },
    {
      "cell_type": "code",
      "source": [
        "# for catalog name index dataframe, transform list to string\n",
        "str_CHI2finIndex = []\n",
        "for item in CHI2finIndex:\n",
        "  if not isinstance(item, str):\n",
        "    addsub = []\n",
        "    for subitem in item:\n",
        "      if subitem:\n",
        "        addsub.append(subitem)\n",
        "        newitem = ' '.join(addsub)\n",
        "  else:\n",
        "    newitem = item\n",
        "\n",
        "  str_CHI2finIndex.append(newitem)"
      ],
      "metadata": {
        "id": "HPtgEE010C8q"
      },
      "id": "HPtgEE010C8q",
      "execution_count": null,
      "outputs": []
    },
    {
      "cell_type": "code",
      "source": [
        "str_CHI2finIndex[:4]\n"
      ],
      "metadata": {
        "colab": {
          "base_uri": "https://localhost:8080/"
        },
        "id": "OaAufo2x0C3x",
        "outputId": "8a89fa0c-df58-4c32-c579-e37fbaa0dde6"
      },
      "id": "OaAufo2x0C3x",
      "execution_count": null,
      "outputs": [
        {
          "output_type": "execute_result",
          "data": {
            "text/plain": [
              "['GLIBENCLAMIDE',\n",
              " 'METFORMIN GLIBENCLAMIDE',\n",
              " 'DAPAGLIFLOZIN',\n",
              " 'GLYBENCLAMIDE TABLETS']"
            ]
          },
          "metadata": {},
          "execution_count": 67
        }
      ]
    },
    {
      "cell_type": "code",
      "source": [
        "str_Chile2PreList = []\n",
        "\n",
        "for item in Chile2PreList:\n",
        "  newitem = ' '.join(item)\n",
        "  str_Chile2PreList.append(newitem)"
      ],
      "metadata": {
        "id": "QnyMDZ-x1eiE"
      },
      "id": "QnyMDZ-x1eiE",
      "execution_count": null,
      "outputs": []
    },
    {
      "cell_type": "code",
      "source": [
        "str_WeightList = []\n",
        "\n",
        "for item in WeightList:\n",
        "  newitem = ' '.join(item)\n",
        "  str_WeightList.append(newitem)"
      ],
      "metadata": {
        "id": "R1UGD_jw1efa"
      },
      "id": "R1UGD_jw1efa",
      "execution_count": null,
      "outputs": []
    },
    {
      "cell_type": "code",
      "source": [
        "Chile2DrugDataWrite = {\"Chile Dirty Name English\": CHLDiab2DirtyNameUEng, \"Final Drug Index\": str_CHI2finIndex, \"Presentation Form\": str_Chile2PreList, \"Weight\": str_WeightList}\n"
      ],
      "metadata": {
        "id": "CNjQqgEX1ebf"
      },
      "id": "CNjQqgEX1ebf",
      "execution_count": null,
      "outputs": []
    },
    {
      "cell_type": "code",
      "source": [
        "Chile2DrugDataWrite_df = pd.DataFrame(Chile2DrugDataWrite)"
      ],
      "metadata": {
        "id": "IDiZKTpE1eXH"
      },
      "id": "IDiZKTpE1eXH",
      "execution_count": null,
      "outputs": []
    },
    {
      "cell_type": "code",
      "source": [
        "Chile2DrugDataWrite_df\n"
      ],
      "metadata": {
        "colab": {
          "base_uri": "https://localhost:8080/",
          "height": 589
        },
        "id": "n9cNxLCl1eOw",
        "outputId": "16c02ea0-732b-433b-bcf3-7222a2213c73"
      },
      "id": "n9cNxLCl1eOw",
      "execution_count": null,
      "outputs": [
        {
          "output_type": "execute_result",
          "data": {
            "text/plain": [
              "                              Chile Dirty Name English  \\\n",
              "0    GLIBENCLAMIDE 5 MG CM/CM REC (ITEM N° 71 OF TH...   \n",
              "1    METFORMIN/GLIBENCLAMIDE 500/5 MG, BOX OF 30 TA...   \n",
              "2    FORXIGA 10MG (DAPAGLIFLOZIN), 28 TABLETS. PER BOX   \n",
              "3              GLYBENCLAMIDE 4 MG. BOX OF 1000 TABLETS   \n",
              "4                      GLIBENCLAMIDE 5 MG X 60 TABLETS   \n",
              "..                                                 ...   \n",
              "947                    VILDAGLIPTIN 50 MG X 28 TABLETS   \n",
              "948    GLYBENCLAMIDE 5 MG. CM. MATURITY OVER 12 MONTHS   \n",
              "949                    GALVUS 50 MG PACK OF 56 TABLETS   \n",
              "950  METFORMIN 500 MG + GLIBENCLAMIDE 5 MG ( CONSUM...   \n",
              "951  SAXAGLIPTIN / METFORMIN: 5 MG SAXAGLIPTIN / 10...   \n",
              "\n",
              "                                Final Drug Index Presentation Form     Weight  \n",
              "0                                  GLIBENCLAMIDE                         MG 5  \n",
              "1                        METFORMIN GLIBENCLAMIDE                         MG 5  \n",
              "2                                  DAPAGLIFLOZIN                               \n",
              "3                          GLYBENCLAMIDE TABLETS                         4 MG  \n",
              "4                                  GLIBENCLAMIDE                         MG 5  \n",
              "..                                           ...               ...        ...  \n",
              "947                                 VILDAGLIPTIN                        MG 50  \n",
              "948                GLYBENCLAMIDE MATURITY MONTHS                         MG 5  \n",
              "949                               GALVUS TABLETS                        MG 50  \n",
              "950                      METFORMIN GLIBENCLAMIDE                     MG 500 5  \n",
              "951  SAXAGLIPTIN METFORMIN SAXAGLIPTIN METFORMIN           RELEASE  MG 1000 5  \n",
              "\n",
              "[952 rows x 4 columns]"
            ],
            "text/html": [
              "\n",
              "  <div id=\"df-63d8e269-66c4-4a3a-b6ec-f77a6a128294\">\n",
              "    <div class=\"colab-df-container\">\n",
              "      <div>\n",
              "<style scoped>\n",
              "    .dataframe tbody tr th:only-of-type {\n",
              "        vertical-align: middle;\n",
              "    }\n",
              "\n",
              "    .dataframe tbody tr th {\n",
              "        vertical-align: top;\n",
              "    }\n",
              "\n",
              "    .dataframe thead th {\n",
              "        text-align: right;\n",
              "    }\n",
              "</style>\n",
              "<table border=\"1\" class=\"dataframe\">\n",
              "  <thead>\n",
              "    <tr style=\"text-align: right;\">\n",
              "      <th></th>\n",
              "      <th>Chile Dirty Name English</th>\n",
              "      <th>Final Drug Index</th>\n",
              "      <th>Presentation Form</th>\n",
              "      <th>Weight</th>\n",
              "    </tr>\n",
              "  </thead>\n",
              "  <tbody>\n",
              "    <tr>\n",
              "      <th>0</th>\n",
              "      <td>GLIBENCLAMIDE 5 MG CM/CM REC (ITEM N° 71 OF TH...</td>\n",
              "      <td>GLIBENCLAMIDE</td>\n",
              "      <td></td>\n",
              "      <td>MG 5</td>\n",
              "    </tr>\n",
              "    <tr>\n",
              "      <th>1</th>\n",
              "      <td>METFORMIN/GLIBENCLAMIDE 500/5 MG, BOX OF 30 TA...</td>\n",
              "      <td>METFORMIN GLIBENCLAMIDE</td>\n",
              "      <td></td>\n",
              "      <td>MG 5</td>\n",
              "    </tr>\n",
              "    <tr>\n",
              "      <th>2</th>\n",
              "      <td>FORXIGA 10MG (DAPAGLIFLOZIN), 28 TABLETS. PER BOX</td>\n",
              "      <td>DAPAGLIFLOZIN</td>\n",
              "      <td></td>\n",
              "      <td></td>\n",
              "    </tr>\n",
              "    <tr>\n",
              "      <th>3</th>\n",
              "      <td>GLYBENCLAMIDE 4 MG. BOX OF 1000 TABLETS</td>\n",
              "      <td>GLYBENCLAMIDE TABLETS</td>\n",
              "      <td></td>\n",
              "      <td>4 MG</td>\n",
              "    </tr>\n",
              "    <tr>\n",
              "      <th>4</th>\n",
              "      <td>GLIBENCLAMIDE 5 MG X 60 TABLETS</td>\n",
              "      <td>GLIBENCLAMIDE</td>\n",
              "      <td></td>\n",
              "      <td>MG 5</td>\n",
              "    </tr>\n",
              "    <tr>\n",
              "      <th>...</th>\n",
              "      <td>...</td>\n",
              "      <td>...</td>\n",
              "      <td>...</td>\n",
              "      <td>...</td>\n",
              "    </tr>\n",
              "    <tr>\n",
              "      <th>947</th>\n",
              "      <td>VILDAGLIPTIN 50 MG X 28 TABLETS</td>\n",
              "      <td>VILDAGLIPTIN</td>\n",
              "      <td></td>\n",
              "      <td>MG 50</td>\n",
              "    </tr>\n",
              "    <tr>\n",
              "      <th>948</th>\n",
              "      <td>GLYBENCLAMIDE 5 MG. CM. MATURITY OVER 12 MONTHS</td>\n",
              "      <td>GLYBENCLAMIDE MATURITY MONTHS</td>\n",
              "      <td></td>\n",
              "      <td>MG 5</td>\n",
              "    </tr>\n",
              "    <tr>\n",
              "      <th>949</th>\n",
              "      <td>GALVUS 50 MG PACK OF 56 TABLETS</td>\n",
              "      <td>GALVUS TABLETS</td>\n",
              "      <td></td>\n",
              "      <td>MG 50</td>\n",
              "    </tr>\n",
              "    <tr>\n",
              "      <th>950</th>\n",
              "      <td>METFORMIN 500 MG + GLIBENCLAMIDE 5 MG ( CONSUM...</td>\n",
              "      <td>METFORMIN GLIBENCLAMIDE</td>\n",
              "      <td></td>\n",
              "      <td>MG 500 5</td>\n",
              "    </tr>\n",
              "    <tr>\n",
              "      <th>951</th>\n",
              "      <td>SAXAGLIPTIN / METFORMIN: 5 MG SAXAGLIPTIN / 10...</td>\n",
              "      <td>SAXAGLIPTIN METFORMIN SAXAGLIPTIN METFORMIN</td>\n",
              "      <td>RELEASE</td>\n",
              "      <td>MG 1000 5</td>\n",
              "    </tr>\n",
              "  </tbody>\n",
              "</table>\n",
              "<p>952 rows × 4 columns</p>\n",
              "</div>\n",
              "      <button class=\"colab-df-convert\" onclick=\"convertToInteractive('df-63d8e269-66c4-4a3a-b6ec-f77a6a128294')\"\n",
              "              title=\"Convert this dataframe to an interactive table.\"\n",
              "              style=\"display:none;\">\n",
              "        \n",
              "  <svg xmlns=\"http://www.w3.org/2000/svg\" height=\"24px\"viewBox=\"0 0 24 24\"\n",
              "       width=\"24px\">\n",
              "    <path d=\"M0 0h24v24H0V0z\" fill=\"none\"/>\n",
              "    <path d=\"M18.56 5.44l.94 2.06.94-2.06 2.06-.94-2.06-.94-.94-2.06-.94 2.06-2.06.94zm-11 1L8.5 8.5l.94-2.06 2.06-.94-2.06-.94L8.5 2.5l-.94 2.06-2.06.94zm10 10l.94 2.06.94-2.06 2.06-.94-2.06-.94-.94-2.06-.94 2.06-2.06.94z\"/><path d=\"M17.41 7.96l-1.37-1.37c-.4-.4-.92-.59-1.43-.59-.52 0-1.04.2-1.43.59L10.3 9.45l-7.72 7.72c-.78.78-.78 2.05 0 2.83L4 21.41c.39.39.9.59 1.41.59.51 0 1.02-.2 1.41-.59l7.78-7.78 2.81-2.81c.8-.78.8-2.07 0-2.86zM5.41 20L4 18.59l7.72-7.72 1.47 1.35L5.41 20z\"/>\n",
              "  </svg>\n",
              "      </button>\n",
              "      \n",
              "  <style>\n",
              "    .colab-df-container {\n",
              "      display:flex;\n",
              "      flex-wrap:wrap;\n",
              "      gap: 12px;\n",
              "    }\n",
              "\n",
              "    .colab-df-convert {\n",
              "      background-color: #E8F0FE;\n",
              "      border: none;\n",
              "      border-radius: 50%;\n",
              "      cursor: pointer;\n",
              "      display: none;\n",
              "      fill: #1967D2;\n",
              "      height: 32px;\n",
              "      padding: 0 0 0 0;\n",
              "      width: 32px;\n",
              "    }\n",
              "\n",
              "    .colab-df-convert:hover {\n",
              "      background-color: #E2EBFA;\n",
              "      box-shadow: 0px 1px 2px rgba(60, 64, 67, 0.3), 0px 1px 3px 1px rgba(60, 64, 67, 0.15);\n",
              "      fill: #174EA6;\n",
              "    }\n",
              "\n",
              "    [theme=dark] .colab-df-convert {\n",
              "      background-color: #3B4455;\n",
              "      fill: #D2E3FC;\n",
              "    }\n",
              "\n",
              "    [theme=dark] .colab-df-convert:hover {\n",
              "      background-color: #434B5C;\n",
              "      box-shadow: 0px 1px 3px 1px rgba(0, 0, 0, 0.15);\n",
              "      filter: drop-shadow(0px 1px 2px rgba(0, 0, 0, 0.3));\n",
              "      fill: #FFFFFF;\n",
              "    }\n",
              "  </style>\n",
              "\n",
              "      <script>\n",
              "        const buttonEl =\n",
              "          document.querySelector('#df-63d8e269-66c4-4a3a-b6ec-f77a6a128294 button.colab-df-convert');\n",
              "        buttonEl.style.display =\n",
              "          google.colab.kernel.accessAllowed ? 'block' : 'none';\n",
              "\n",
              "        async function convertToInteractive(key) {\n",
              "          const element = document.querySelector('#df-63d8e269-66c4-4a3a-b6ec-f77a6a128294');\n",
              "          const dataTable =\n",
              "            await google.colab.kernel.invokeFunction('convertToInteractive',\n",
              "                                                     [key], {});\n",
              "          if (!dataTable) return;\n",
              "\n",
              "          const docLinkHtml = 'Like what you see? Visit the ' +\n",
              "            '<a target=\"_blank\" href=https://colab.research.google.com/notebooks/data_table.ipynb>data table notebook</a>'\n",
              "            + ' to learn more about interactive tables.';\n",
              "          element.innerHTML = '';\n",
              "          dataTable['output_type'] = 'display_data';\n",
              "          await google.colab.output.renderOutput(dataTable, element);\n",
              "          const docLink = document.createElement('div');\n",
              "          docLink.innerHTML = docLinkHtml;\n",
              "          element.appendChild(docLink);\n",
              "        }\n",
              "      </script>\n",
              "    </div>\n",
              "  </div>\n",
              "  "
            ]
          },
          "metadata": {},
          "execution_count": 72
        }
      ]
    },
    {
      "cell_type": "code",
      "source": [
        "Chile2DrugDataWrite_df.to_excel(\"Chile2DrugDataWrite.xlsx\", sheet_name = 'Chile2DrugDataWrite')  "
      ],
      "metadata": {
        "id": "ryJR6Q6j15ci"
      },
      "id": "ryJR6Q6j15ci",
      "execution_count": null,
      "outputs": []
    },
    {
      "cell_type": "code",
      "source": [
        ""
      ],
      "metadata": {
        "id": "rNFTNfdW5fs5"
      },
      "id": "rNFTNfdW5fs5",
      "execution_count": null,
      "outputs": []
    },
    {
      "cell_type": "code",
      "source": [
        ""
      ],
      "metadata": {
        "id": "pNgiKBdU5fpN"
      },
      "id": "pNgiKBdU5fpN",
      "execution_count": null,
      "outputs": []
    },
    {
      "cell_type": "code",
      "source": [
        ""
      ],
      "metadata": {
        "id": "FAwQ95oO5flK"
      },
      "id": "FAwQ95oO5flK",
      "execution_count": null,
      "outputs": []
    },
    {
      "cell_type": "code",
      "source": [
        ""
      ],
      "metadata": {
        "id": "c7yi0psj5fh7"
      },
      "id": "c7yi0psj5fh7",
      "execution_count": null,
      "outputs": []
    },
    {
      "cell_type": "code",
      "source": [
        ""
      ],
      "metadata": {
        "id": "gi-245qE5feu"
      },
      "id": "gi-245qE5feu",
      "execution_count": null,
      "outputs": []
    },
    {
      "cell_type": "code",
      "source": [
        ""
      ],
      "metadata": {
        "id": "hc95tb-P5fa2"
      },
      "id": "hc95tb-P5fa2",
      "execution_count": null,
      "outputs": []
    },
    {
      "cell_type": "code",
      "source": [
        ""
      ],
      "metadata": {
        "id": "15cyYXhq5fXG"
      },
      "id": "15cyYXhq5fXG",
      "execution_count": null,
      "outputs": []
    }
  ],
  "metadata": {
    "kernelspec": {
      "display_name": "Python 3 (ipykernel)",
      "language": "python",
      "name": "python3"
    },
    "language_info": {
      "codemirror_mode": {
        "name": "ipython",
        "version": 3
      },
      "file_extension": ".py",
      "mimetype": "text/x-python",
      "name": "python",
      "nbconvert_exporter": "python",
      "pygments_lexer": "ipython3",
      "version": "3.9.7"
    },
    "colab": {
      "name": "Chile 2 Drug Data 1.0 (Write).ipynb",
      "provenance": [],
      "include_colab_link": true
    }
  },
  "nbformat": 4,
  "nbformat_minor": 5
}
