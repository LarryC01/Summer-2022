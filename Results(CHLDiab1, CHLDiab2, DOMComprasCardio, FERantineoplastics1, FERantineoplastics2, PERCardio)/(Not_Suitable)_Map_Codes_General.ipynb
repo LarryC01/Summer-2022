{
  "cells": [
    {
      "cell_type": "markdown",
      "metadata": {
        "id": "view-in-github",
        "colab_type": "text"
      },
      "source": [
        "<a href=\"https://colab.research.google.com/github/wenjunc2/PAHO-Drug-Data-Cleaning-Summer-2022/blob/main/(Not_Suitable)_Map_Codes_General.ipynb\" target=\"_parent\"><img src=\"https://colab.research.google.com/assets/colab-badge.svg\" alt=\"Open In Colab\"/></a>"
      ]
    },
    {
      "cell_type": "markdown",
      "source": [
        "## Part 1: Read into one dataset and get its indexes"
      ],
      "metadata": {
        "id": "rv4IVPfwSCO3"
      },
      "id": "rv4IVPfwSCO3"
    },
    {
      "cell_type": "markdown",
      "source": [
        "Note: get the exact file name to read"
      ],
      "metadata": {
        "id": "zU842GVXJJ3i"
      },
      "id": "zU842GVXJJ3i"
    },
    {
      "cell_type": "code",
      "execution_count": 1,
      "id": "b3fa8107",
      "metadata": {
        "colab": {
          "base_uri": "https://localhost:8080/"
        },
        "id": "b3fa8107",
        "outputId": "49df0ecf-a576-470e-acd4-3cb8ca3e6227"
      },
      "outputs": [
        {
          "output_type": "execute_result",
          "data": {
            "text/plain": [
              "{'confidence': 0.99, 'encoding': 'utf-8', 'language': ''}"
            ]
          },
          "metadata": {},
          "execution_count": 1
        }
      ],
      "source": [
        "import chardet\n",
        "with open('DOMComprasCardio.csv', 'rb') as rawdata:\n",
        "    result = chardet.detect(rawdata.read(100000))\n",
        "result"
      ]
    },
    {
      "cell_type": "code",
      "source": [
        "import pandas as pd\n",
        "OrgData = pd.read_csv('DOMComprasCardio.csv',encoding='utf-8')\n",
        "OrgData.head(1)"
      ],
      "metadata": {
        "colab": {
          "base_uri": "https://localhost:8080/",
          "height": 0
        },
        "id": "Wv9_NKk2Splc",
        "outputId": "657e55e2-94d0-474f-a473-5ecebac2fca0"
      },
      "id": "Wv9_NKk2Splc",
      "execution_count": 2,
      "outputs": [
        {
          "output_type": "execute_result",
          "data": {
            "text/plain": [
              "   Unnamed: 0  CODIGO_UNIDAD_COMPRA                            UNIDAD_COMPRA  \\\n",
              "0           1                   195  Sistema Unico de Beneficiarios (SIUBEN)   \n",
              "\n",
              "            CODIGO_PROCESO        MODALIDAD                  ESTADO_PROCESO  \\\n",
              "0  SIUBEN-DAF-CM-2019-0013  Compras Menores  Proceso adjudicado y celebrado   \n",
              "\n",
              "     FECHA_PUBLICACION  ID_ARTICULO  SUBCLASE_UNSPSC DESCRIPCION_SUBCLASE  \\\n",
              "0  2019-03-13 15:00:06     12462773         51121709           Carvedilol   \n",
              "\n",
              "     DESCRIPCION_ARTICULO  CANTIDAD ABR_UNIDAD_MEDIDA  \\\n",
              "0  Carvedilol 25 MG, 30/1       5.0               CAJ   \n",
              "\n",
              "  DESCRIPCION_UNIDAD_MEDIDA  PRECIO_UNITARIO_ESTIMADO  MONTO_TOTAL_ESTIMADO  \\\n",
              "0                      Caja                       450                2250.0   \n",
              "\n",
              "  CUENTA_PRESUPUESTARIA  \n",
              "0            2.3.4.1.01  "
            ],
            "text/html": [
              "\n",
              "  <div id=\"df-b6a35466-c5ee-44b8-a9d2-efdc49b953cd\">\n",
              "    <div class=\"colab-df-container\">\n",
              "      <div>\n",
              "<style scoped>\n",
              "    .dataframe tbody tr th:only-of-type {\n",
              "        vertical-align: middle;\n",
              "    }\n",
              "\n",
              "    .dataframe tbody tr th {\n",
              "        vertical-align: top;\n",
              "    }\n",
              "\n",
              "    .dataframe thead th {\n",
              "        text-align: right;\n",
              "    }\n",
              "</style>\n",
              "<table border=\"1\" class=\"dataframe\">\n",
              "  <thead>\n",
              "    <tr style=\"text-align: right;\">\n",
              "      <th></th>\n",
              "      <th>Unnamed: 0</th>\n",
              "      <th>CODIGO_UNIDAD_COMPRA</th>\n",
              "      <th>UNIDAD_COMPRA</th>\n",
              "      <th>CODIGO_PROCESO</th>\n",
              "      <th>MODALIDAD</th>\n",
              "      <th>ESTADO_PROCESO</th>\n",
              "      <th>FECHA_PUBLICACION</th>\n",
              "      <th>ID_ARTICULO</th>\n",
              "      <th>SUBCLASE_UNSPSC</th>\n",
              "      <th>DESCRIPCION_SUBCLASE</th>\n",
              "      <th>DESCRIPCION_ARTICULO</th>\n",
              "      <th>CANTIDAD</th>\n",
              "      <th>ABR_UNIDAD_MEDIDA</th>\n",
              "      <th>DESCRIPCION_UNIDAD_MEDIDA</th>\n",
              "      <th>PRECIO_UNITARIO_ESTIMADO</th>\n",
              "      <th>MONTO_TOTAL_ESTIMADO</th>\n",
              "      <th>CUENTA_PRESUPUESTARIA</th>\n",
              "    </tr>\n",
              "  </thead>\n",
              "  <tbody>\n",
              "    <tr>\n",
              "      <th>0</th>\n",
              "      <td>1</td>\n",
              "      <td>195</td>\n",
              "      <td>Sistema Unico de Beneficiarios (SIUBEN)</td>\n",
              "      <td>SIUBEN-DAF-CM-2019-0013</td>\n",
              "      <td>Compras Menores</td>\n",
              "      <td>Proceso adjudicado y celebrado</td>\n",
              "      <td>2019-03-13 15:00:06</td>\n",
              "      <td>12462773</td>\n",
              "      <td>51121709</td>\n",
              "      <td>Carvedilol</td>\n",
              "      <td>Carvedilol 25 MG, 30/1</td>\n",
              "      <td>5.0</td>\n",
              "      <td>CAJ</td>\n",
              "      <td>Caja</td>\n",
              "      <td>450</td>\n",
              "      <td>2250.0</td>\n",
              "      <td>2.3.4.1.01</td>\n",
              "    </tr>\n",
              "  </tbody>\n",
              "</table>\n",
              "</div>\n",
              "      <button class=\"colab-df-convert\" onclick=\"convertToInteractive('df-b6a35466-c5ee-44b8-a9d2-efdc49b953cd')\"\n",
              "              title=\"Convert this dataframe to an interactive table.\"\n",
              "              style=\"display:none;\">\n",
              "        \n",
              "  <svg xmlns=\"http://www.w3.org/2000/svg\" height=\"24px\"viewBox=\"0 0 24 24\"\n",
              "       width=\"24px\">\n",
              "    <path d=\"M0 0h24v24H0V0z\" fill=\"none\"/>\n",
              "    <path d=\"M18.56 5.44l.94 2.06.94-2.06 2.06-.94-2.06-.94-.94-2.06-.94 2.06-2.06.94zm-11 1L8.5 8.5l.94-2.06 2.06-.94-2.06-.94L8.5 2.5l-.94 2.06-2.06.94zm10 10l.94 2.06.94-2.06 2.06-.94-2.06-.94-.94-2.06-.94 2.06-2.06.94z\"/><path d=\"M17.41 7.96l-1.37-1.37c-.4-.4-.92-.59-1.43-.59-.52 0-1.04.2-1.43.59L10.3 9.45l-7.72 7.72c-.78.78-.78 2.05 0 2.83L4 21.41c.39.39.9.59 1.41.59.51 0 1.02-.2 1.41-.59l7.78-7.78 2.81-2.81c.8-.78.8-2.07 0-2.86zM5.41 20L4 18.59l7.72-7.72 1.47 1.35L5.41 20z\"/>\n",
              "  </svg>\n",
              "      </button>\n",
              "      \n",
              "  <style>\n",
              "    .colab-df-container {\n",
              "      display:flex;\n",
              "      flex-wrap:wrap;\n",
              "      gap: 12px;\n",
              "    }\n",
              "\n",
              "    .colab-df-convert {\n",
              "      background-color: #E8F0FE;\n",
              "      border: none;\n",
              "      border-radius: 50%;\n",
              "      cursor: pointer;\n",
              "      display: none;\n",
              "      fill: #1967D2;\n",
              "      height: 32px;\n",
              "      padding: 0 0 0 0;\n",
              "      width: 32px;\n",
              "    }\n",
              "\n",
              "    .colab-df-convert:hover {\n",
              "      background-color: #E2EBFA;\n",
              "      box-shadow: 0px 1px 2px rgba(60, 64, 67, 0.3), 0px 1px 3px 1px rgba(60, 64, 67, 0.15);\n",
              "      fill: #174EA6;\n",
              "    }\n",
              "\n",
              "    [theme=dark] .colab-df-convert {\n",
              "      background-color: #3B4455;\n",
              "      fill: #D2E3FC;\n",
              "    }\n",
              "\n",
              "    [theme=dark] .colab-df-convert:hover {\n",
              "      background-color: #434B5C;\n",
              "      box-shadow: 0px 1px 3px 1px rgba(0, 0, 0, 0.15);\n",
              "      filter: drop-shadow(0px 1px 2px rgba(0, 0, 0, 0.3));\n",
              "      fill: #FFFFFF;\n",
              "    }\n",
              "  </style>\n",
              "\n",
              "      <script>\n",
              "        const buttonEl =\n",
              "          document.querySelector('#df-b6a35466-c5ee-44b8-a9d2-efdc49b953cd button.colab-df-convert');\n",
              "        buttonEl.style.display =\n",
              "          google.colab.kernel.accessAllowed ? 'block' : 'none';\n",
              "\n",
              "        async function convertToInteractive(key) {\n",
              "          const element = document.querySelector('#df-b6a35466-c5ee-44b8-a9d2-efdc49b953cd');\n",
              "          const dataTable =\n",
              "            await google.colab.kernel.invokeFunction('convertToInteractive',\n",
              "                                                     [key], {});\n",
              "          if (!dataTable) return;\n",
              "\n",
              "          const docLinkHtml = 'Like what you see? Visit the ' +\n",
              "            '<a target=\"_blank\" href=https://colab.research.google.com/notebooks/data_table.ipynb>data table notebook</a>'\n",
              "            + ' to learn more about interactive tables.';\n",
              "          element.innerHTML = '';\n",
              "          dataTable['output_type'] = 'display_data';\n",
              "          await google.colab.output.renderOutput(dataTable, element);\n",
              "          const docLink = document.createElement('div');\n",
              "          docLink.innerHTML = docLinkHtml;\n",
              "          element.appendChild(docLink);\n",
              "        }\n",
              "      </script>\n",
              "    </div>\n",
              "  </div>\n",
              "  "
            ]
          },
          "metadata": {},
          "execution_count": 2
        }
      ]
    },
    {
      "cell_type": "markdown",
      "source": [
        "Note: get the special column name to get the dirty names"
      ],
      "metadata": {
        "id": "knE3BgE3JQaJ"
      },
      "id": "knE3BgE3JQaJ"
    },
    {
      "cell_type": "code",
      "source": [
        "OrgDataDirtyName = OrgData['DESCRIPCION_ARTICULO']"
      ],
      "metadata": {
        "id": "VK-s-IPnS1gb"
      },
      "id": "VK-s-IPnS1gb",
      "execution_count": 3,
      "outputs": []
    },
    {
      "cell_type": "code",
      "source": [
        "len(OrgDataDirtyName) # length of drug names"
      ],
      "metadata": {
        "colab": {
          "base_uri": "https://localhost:8080/"
        },
        "id": "Ks3iwGzqTUlL",
        "outputId": "6a198baa-b803-43a4-c847-49ec9fb035da"
      },
      "id": "Ks3iwGzqTUlL",
      "execution_count": 4,
      "outputs": [
        {
          "output_type": "execute_result",
          "data": {
            "text/plain": [
              "3077"
            ]
          },
          "metadata": {},
          "execution_count": 4
        }
      ]
    },
    {
      "cell_type": "code",
      "source": [
        "OrgDataDirtyName = list(set(OrgDataDirtyName))\n",
        "len(OrgDataDirtyName) # length of drug names after remove duplicates"
      ],
      "metadata": {
        "colab": {
          "base_uri": "https://localhost:8080/"
        },
        "id": "SCiL15mITXv8",
        "outputId": "3c4d46ef-ca9a-4dba-aa58-170cf3db85f3"
      },
      "id": "SCiL15mITXv8",
      "execution_count": 5,
      "outputs": [
        {
          "output_type": "execute_result",
          "data": {
            "text/plain": [
              "1959"
            ]
          },
          "metadata": {},
          "execution_count": 5
        }
      ]
    },
    {
      "cell_type": "code",
      "source": [
        "# uppercase everything\n",
        "OrgDataDirtyNameU = []\n",
        "for i in OrgDataDirtyName:\n",
        "  OrgDataDirtyNameU.append(i.upper())"
      ],
      "metadata": {
        "id": "uCOmcYZSTcS0"
      },
      "id": "uCOmcYZSTcS0",
      "execution_count": 6,
      "outputs": []
    },
    {
      "cell_type": "code",
      "source": [
        "OrgDataDirtyNameU[:5]"
      ],
      "metadata": {
        "colab": {
          "base_uri": "https://localhost:8080/"
        },
        "id": "UyRM63mpTj_d",
        "outputId": "a6885b09-6639-4aa8-bc68-fbc8fa2bcf66"
      },
      "id": "UyRM63mpTj_d",
      "execution_count": 7,
      "outputs": [
        {
          "output_type": "execute_result",
          "data": {
            "text/plain": [
              "['CAPTOPRIL\\t25MG TAB',\n",
              " 'CARVEDILOL 12.5 MG',\n",
              " 'ATORVASTATINA 20MG CAJA DE 10 TABLETAS',\n",
              " 'IRBESARTAN 300 MG + AMLODIPINA 10 MG X 30 TAB',\n",
              " 'ATENOLOL 100 MG / V.O TABLETAS']"
            ]
          },
          "metadata": {},
          "execution_count": 7
        }
      ]
    },
    {
      "cell_type": "markdown",
      "source": [
        "translate from Spainish to English"
      ],
      "metadata": {
        "id": "-lQ8MFcwJuWV"
      },
      "id": "-lQ8MFcwJuWV"
    },
    {
      "cell_type": "code",
      "source": [
        "!pip install googletrans==3.1.0a0\n",
        "from googletrans import Translator\n",
        "translator = Translator(service_urls=['translate.googleapis.com'])\n",
        "example = OrgDataDirtyNameU[0]\n",
        "translation = translator.translate(example, dest='en')\n",
        "print(translation.text)"
      ],
      "metadata": {
        "colab": {
          "base_uri": "https://localhost:8080/"
        },
        "id": "HLlDLeNgTn3L",
        "outputId": "b35a2b67-cece-4611-ff6c-53b00f12bb29"
      },
      "id": "HLlDLeNgTn3L",
      "execution_count": 8,
      "outputs": [
        {
          "output_type": "stream",
          "name": "stdout",
          "text": [
            "Looking in indexes: https://pypi.org/simple, https://us-python.pkg.dev/colab-wheels/public/simple/\n",
            "Collecting googletrans==3.1.0a0\n",
            "  Downloading googletrans-3.1.0a0.tar.gz (19 kB)\n",
            "Collecting httpx==0.13.3\n",
            "  Downloading httpx-0.13.3-py3-none-any.whl (55 kB)\n",
            "\u001b[K     |████████████████████████████████| 55 kB 2.1 MB/s \n",
            "\u001b[?25hRequirement already satisfied: chardet==3.* in /usr/local/lib/python3.7/dist-packages (from httpx==0.13.3->googletrans==3.1.0a0) (3.0.4)\n",
            "Collecting rfc3986<2,>=1.3\n",
            "  Downloading rfc3986-1.5.0-py2.py3-none-any.whl (31 kB)\n",
            "Collecting sniffio\n",
            "  Downloading sniffio-1.2.0-py3-none-any.whl (10 kB)\n",
            "Requirement already satisfied: idna==2.* in /usr/local/lib/python3.7/dist-packages (from httpx==0.13.3->googletrans==3.1.0a0) (2.10)\n",
            "Collecting hstspreload\n",
            "  Downloading hstspreload-2022.8.1-py3-none-any.whl (1.4 MB)\n",
            "\u001b[K     |████████████████████████████████| 1.4 MB 10.4 MB/s \n",
            "\u001b[?25hCollecting httpcore==0.9.*\n",
            "  Downloading httpcore-0.9.1-py3-none-any.whl (42 kB)\n",
            "\u001b[K     |████████████████████████████████| 42 kB 1.3 MB/s \n",
            "\u001b[?25hRequirement already satisfied: certifi in /usr/local/lib/python3.7/dist-packages (from httpx==0.13.3->googletrans==3.1.0a0) (2022.6.15)\n",
            "Collecting h2==3.*\n",
            "  Downloading h2-3.2.0-py2.py3-none-any.whl (65 kB)\n",
            "\u001b[K     |████████████████████████████████| 65 kB 3.4 MB/s \n",
            "\u001b[?25hCollecting h11<0.10,>=0.8\n",
            "  Downloading h11-0.9.0-py2.py3-none-any.whl (53 kB)\n",
            "\u001b[K     |████████████████████████████████| 53 kB 2.1 MB/s \n",
            "\u001b[?25hCollecting hyperframe<6,>=5.2.0\n",
            "  Downloading hyperframe-5.2.0-py2.py3-none-any.whl (12 kB)\n",
            "Collecting hpack<4,>=3.0\n",
            "  Downloading hpack-3.0.0-py2.py3-none-any.whl (38 kB)\n",
            "Building wheels for collected packages: googletrans\n",
            "  Building wheel for googletrans (setup.py) ... \u001b[?25l\u001b[?25hdone\n",
            "  Created wheel for googletrans: filename=googletrans-3.1.0a0-py3-none-any.whl size=16367 sha256=eb4fa59178d5b146bb2b77d83fab29091d9af68ce98f8ae2cf9bb78ce1dd2083\n",
            "  Stored in directory: /root/.cache/pip/wheels/0c/be/fe/93a6a40ffe386e16089e44dad9018ebab9dc4cb9eb7eab65ae\n",
            "Successfully built googletrans\n",
            "Installing collected packages: hyperframe, hpack, sniffio, h2, h11, rfc3986, httpcore, hstspreload, httpx, googletrans\n",
            "Successfully installed googletrans-3.1.0a0 h11-0.9.0 h2-3.2.0 hpack-3.0.0 hstspreload-2022.8.1 httpcore-0.9.1 httpx-0.13.3 hyperframe-5.2.0 rfc3986-1.5.0 sniffio-1.2.0\n",
            "CAPTOPRIL\t25MG TAB\n"
          ]
        }
      ]
    },
    {
      "cell_type": "code",
      "source": [
        "OrgDataDirtyNameUEng = []\n",
        "for item in OrgDataDirtyNameU:\n",
        "  translation = translator.translate(item, dest='en')\n",
        "  OrgDataDirtyNameUEng.append(translation.text)\n",
        "# runs 1 mins"
      ],
      "metadata": {
        "id": "3B0bYaKcTyj6"
      },
      "id": "3B0bYaKcTyj6",
      "execution_count": 9,
      "outputs": []
    },
    {
      "cell_type": "code",
      "source": [
        "OrgDataDirtyNameUEng[:5]"
      ],
      "metadata": {
        "colab": {
          "base_uri": "https://localhost:8080/"
        },
        "id": "YdVLZnSaTygu",
        "outputId": "6e44c1c0-d609-4d6a-ff86-9a673207139b"
      },
      "id": "YdVLZnSaTygu",
      "execution_count": 10,
      "outputs": [
        {
          "output_type": "execute_result",
          "data": {
            "text/plain": [
              "['CAPTOPRIL\\t25MG TAB',\n",
              " 'CARVEDILOL 12.5 MG',\n",
              " 'ATORVASTATIN 20MG BOX OF 10 TABLETS',\n",
              " 'IRBESARTAN 300 MG + AMLODIPINA 10 MG X 30 TAB',\n",
              " 'ATENOLOL 100 MG / V.O TABLETS']"
            ]
          },
          "metadata": {},
          "execution_count": 10
        }
      ]
    },
    {
      "cell_type": "code",
      "source": [
        "# get the orignila index about medicine name for each drug name \n",
        "\n",
        "from nltk.tokenize import WordPunctTokenizer  # this function split the string by space\n",
        "tokenizer = WordPunctTokenizer()\n",
        "\n",
        "OrgDataDirtyNameUESpl = []\n",
        "for item in OrgDataDirtyNameUEng:\n",
        "  tokenlist = tokenizer.tokenize(item)\n",
        "  OrgDataDirtyNameUESpl.append(tokenlist)"
      ],
      "metadata": {
        "id": "TMqmPXdbTyU1"
      },
      "id": "TMqmPXdbTyU1",
      "execution_count": 11,
      "outputs": []
    },
    {
      "cell_type": "code",
      "source": [
        "OrgDataDirtyNameUESpl[:1]"
      ],
      "metadata": {
        "id": "2R7ajm9DTyRP",
        "colab": {
          "base_uri": "https://localhost:8080/"
        },
        "outputId": "98f362a9-7fe4-490b-d899-9e008c6f85ea"
      },
      "id": "2R7ajm9DTyRP",
      "execution_count": 12,
      "outputs": [
        {
          "output_type": "execute_result",
          "data": {
            "text/plain": [
              "[['CAPTOPRIL', '25MG', 'TAB']]"
            ]
          },
          "metadata": {},
          "execution_count": 12
        }
      ]
    },
    {
      "cell_type": "code",
      "source": [
        "OrgDataDirtyNameIndex  = []\n",
        "for item in OrgDataDirtyNameUESpl:\n",
        "  templist = []\n",
        "  for subitem in item:\n",
        "    if len(subitem) > 4 and subitem.isdigit() is False:  ## ignoring these elements such as \"MG\", \"+\", ... \n",
        "      templist.append(subitem)\n",
        "  OrgDataDirtyNameIndex.append(templist)"
      ],
      "metadata": {
        "id": "b0mkQExkTyOc"
      },
      "id": "b0mkQExkTyOc",
      "execution_count": 13,
      "outputs": []
    },
    {
      "cell_type": "code",
      "source": [
        "OrgDataDirtyNameIndex[:5]"
      ],
      "metadata": {
        "id": "0X1dTFqTTyIB",
        "colab": {
          "base_uri": "https://localhost:8080/"
        },
        "outputId": "6791c28f-c5e5-4594-c425-dc87ccd1bf5d"
      },
      "id": "0X1dTFqTTyIB",
      "execution_count": 14,
      "outputs": [
        {
          "output_type": "execute_result",
          "data": {
            "text/plain": [
              "[['CAPTOPRIL'],\n",
              " ['CARVEDILOL'],\n",
              " ['ATORVASTATIN', 'TABLETS'],\n",
              " ['IRBESARTAN', 'AMLODIPINA'],\n",
              " ['ATENOLOL', 'TABLETS']]"
            ]
          },
          "metadata": {},
          "execution_count": 14
        }
      ]
    },
    {
      "cell_type": "code",
      "source": [
        "# delete the information in each piece of drug name after SIMILAR\n",
        "def DelSIMILAR(subitem):\n",
        "  finalindex = len(subitem)\n",
        "  for subindex in range(0, len(subitem)):\n",
        "    if subitem[subindex] == 'SIMILAR':\n",
        "      finalindex = subindex\n",
        "  return subitem[:finalindex]"
      ],
      "metadata": {
        "id": "raOEuV5uTyGi"
      },
      "id": "raOEuV5uTyGi",
      "execution_count": 15,
      "outputs": []
    },
    {
      "cell_type": "code",
      "source": [
        "# delete the information in each piece of drug name after EQUIVALENT\n",
        "def DelEQUIVALENT(subitem):\n",
        "  finalindex = len(subitem)\n",
        "  for subindex in range(0, len(subitem)):\n",
        "    if subitem[subindex] == 'EQUIVALENT':\n",
        "      finalindex = subindex\n",
        "  return subitem[:finalindex]"
      ],
      "metadata": {
        "id": "vjarzxANTyA6"
      },
      "id": "vjarzxANTyA6",
      "execution_count": 16,
      "outputs": []
    },
    {
      "cell_type": "code",
      "source": [
        "OrgDataDirtyNameIndexDel = []\n",
        "for item in OrgDataDirtyNameIndex:\n",
        "  add = DelSIMILAR(item)\n",
        "  add = DelEQUIVALENT(add)\n",
        "  OrgDataDirtyNameIndexDel.append(add)"
      ],
      "metadata": {
        "id": "EU6vILueTx3T"
      },
      "id": "EU6vILueTx3T",
      "execution_count": 17,
      "outputs": []
    },
    {
      "cell_type": "code",
      "source": [
        "OrgDataDirtyNameIndexDel[:5]"
      ],
      "metadata": {
        "colab": {
          "base_uri": "https://localhost:8080/"
        },
        "id": "xTB0iYoT5CfJ",
        "outputId": "e6589e4f-9cbf-47ea-f559-b3c0629722ca"
      },
      "id": "xTB0iYoT5CfJ",
      "execution_count": 18,
      "outputs": [
        {
          "output_type": "execute_result",
          "data": {
            "text/plain": [
              "[['CAPTOPRIL'],\n",
              " ['CARVEDILOL'],\n",
              " ['ATORVASTATIN', 'TABLETS'],\n",
              " ['IRBESARTAN', 'AMLODIPINA'],\n",
              " ['ATENOLOL', 'TABLETS']]"
            ]
          },
          "metadata": {},
          "execution_count": 18
        }
      ]
    },
    {
      "cell_type": "markdown",
      "source": [
        "## Part 2: Set up indexes for clean catagol drug names"
      ],
      "metadata": {
        "id": "IrN1IQf15h61"
      },
      "id": "IrN1IQf15h61"
    },
    {
      "cell_type": "code",
      "source": [
        "# read into clean catagol name\n",
        "import pandas as pd\n",
        "CleanDataBase = pd.read_excel('CleanDataBase.xlsx')\n",
        "CatalogName = CleanDataBase['Catalog Name']\n",
        "CatalogName = list(set(CatalogName))\n",
        "CatalogName = [x for x in CatalogName if str(x) != 'nan']\n",
        "\n",
        "CatalogNameCopy = CatalogName.copy()\n",
        "# uppercase everything\n",
        "CatalogNameU = []\n",
        "for i in CatalogNameCopy:\n",
        "  CatalogNameU.append(i.upper())"
      ],
      "metadata": {
        "id": "PStHpPpH5Cch"
      },
      "id": "PStHpPpH5Cch",
      "execution_count": 19,
      "outputs": []
    },
    {
      "cell_type": "code",
      "source": [
        "# split the CatalogNameU\n",
        "#from nltk.tokenize import WordPunctTokenizer  # this function split the string by space\n",
        "#tokenizer = WordPunctTokenizer()\n",
        "\n",
        "CatalogNameUS = []\n",
        "for item in CatalogNameU:\n",
        "  temp = item.split(\",\")\n",
        "  CatalogNameUS.append(temp)"
      ],
      "metadata": {
        "id": "KorUhY995CZX"
      },
      "id": "KorUhY995CZX",
      "execution_count": 20,
      "outputs": []
    },
    {
      "cell_type": "code",
      "source": [
        "CatalogNameUS[:5] # after split by \",\""
      ],
      "metadata": {
        "colab": {
          "base_uri": "https://localhost:8080/"
        },
        "id": "-FeTx-id5CVe",
        "outputId": "daf57d48-e1ee-41ad-8340-130245700dad"
      },
      "id": "-FeTx-id5CVe",
      "execution_count": 21,
      "outputs": [
        {
          "output_type": "execute_result",
          "data": {
            "text/plain": [
              "[['CARBOPLATIN\\xa0150\\xa0MG',\n",
              "  '\\xa0POWDER\\xa0FOR\\xa0INJECTION',\n",
              "  '\\xa015\\xa0ML\\xa0VIAL',\n",
              "  '\\xa01X1'],\n",
              " ['NIFEDIPINE 10 MG', ' TABLET', ' TBD'],\n",
              " ['SITAGLIPTIN 50 MG + METFORMIN 1000 MG', ' TABLET', ' TBD'],\n",
              " ['METFORMIN 1000 MG + GLIMEPIRIDE 4 MG', ' TABLET', ' TBD'],\n",
              " ['AMLODIPINE 10 MG + VALSARTAN 160 MG', ' TBD', ' TBD']]"
            ]
          },
          "metadata": {},
          "execution_count": 21
        }
      ]
    },
    {
      "cell_type": "code",
      "source": [
        "# summary the list of presentation form\n",
        "PresentationForm = []\n",
        "\n",
        "for item in CatalogNameUS:\n",
        "  if len(item) >= 2:\n",
        "    PresentationForm.append(item[1])"
      ],
      "metadata": {
        "id": "qWU0WmJH6AHe"
      },
      "id": "qWU0WmJH6AHe",
      "execution_count": 22,
      "outputs": []
    },
    {
      "cell_type": "code",
      "source": [
        "PresentationForm = list(set(PresentationForm))\n",
        "\n",
        "len(PresentationForm)"
      ],
      "metadata": {
        "colab": {
          "base_uri": "https://localhost:8080/"
        },
        "id": "KmwYkrqS6AEg",
        "outputId": "92f768f2-70ea-4868-e987-16a281bab791"
      },
      "id": "KmwYkrqS6AEg",
      "execution_count": 23,
      "outputs": [
        {
          "output_type": "execute_result",
          "data": {
            "text/plain": [
              "29"
            ]
          },
          "metadata": {},
          "execution_count": 23
        }
      ]
    },
    {
      "cell_type": "code",
      "source": [
        "PresentationForm[:5]# the presentation form"
      ],
      "metadata": {
        "colab": {
          "base_uri": "https://localhost:8080/"
        },
        "id": "UpXC9pLR5__X",
        "outputId": "a7df06d5-765c-4ee0-85de-031f700d5722"
      },
      "id": "UpXC9pLR5__X",
      "execution_count": 24,
      "outputs": [
        {
          "output_type": "execute_result",
          "data": {
            "text/plain": [
              "[' SOLUTION FOR INFUSION',\n",
              " ' POWDER FOR INJECTION. 1000MG ROAD BOTTLE.',\n",
              " ' INJECTALBE SOLUTION',\n",
              " ' TABLET (CHEWABLE)',\n",
              " ' CAPSULE']"
            ]
          },
          "metadata": {},
          "execution_count": 24
        }
      ]
    },
    {
      "cell_type": "code",
      "source": [
        "PresentationDiction = []\n",
        "\n",
        "from nltk.tokenize import WordPunctTokenizer  # this function split the string by space\n",
        "tokenizer = WordPunctTokenizer()\n",
        "\n",
        "for item in PresentationForm:\n",
        "  tokenlist = tokenizer.tokenize(item)\n",
        "  PresentationDiction.append(tokenlist)"
      ],
      "metadata": {
        "id": "7NugcUUN5_8U"
      },
      "id": "7NugcUUN5_8U",
      "execution_count": 25,
      "outputs": []
    },
    {
      "cell_type": "code",
      "source": [
        "PresentationDiction2 = []\n",
        "\n",
        "for item in PresentationDiction:\n",
        "  for subitem in item:\n",
        "    if len(subitem) > 3:\n",
        "      PresentationDiction2.append(subitem)"
      ],
      "metadata": {
        "id": "NH5tzc1p5_5y"
      },
      "id": "NH5tzc1p5_5y",
      "execution_count": 26,
      "outputs": []
    },
    {
      "cell_type": "code",
      "source": [
        "PresentationDiction2 = list(set(PresentationDiction2))"
      ],
      "metadata": {
        "id": "lw_OTrbZ5_3T"
      },
      "id": "lw_OTrbZ5_3T",
      "execution_count": 27,
      "outputs": []
    },
    {
      "cell_type": "code",
      "source": [
        "# grab the main medicine \n",
        "MainMedicine = []\n",
        "\n",
        "for item in CatalogNameUS:\n",
        "  MainMedicine.append(item[0])"
      ],
      "metadata": {
        "id": "Z91QYsBa5_0H"
      },
      "id": "Z91QYsBa5_0H",
      "execution_count": 28,
      "outputs": []
    },
    {
      "cell_type": "code",
      "source": [
        "print(len(MainMedicine), MainMedicine[:5])"
      ],
      "metadata": {
        "colab": {
          "base_uri": "https://localhost:8080/"
        },
        "id": "MCPlfpME5_x4",
        "outputId": "55e68c90-d77a-4471-c679-06bf0bd4f88e"
      },
      "id": "MCPlfpME5_x4",
      "execution_count": 29,
      "outputs": [
        {
          "output_type": "stream",
          "name": "stdout",
          "text": [
            "462 ['CARBOPLATIN\\xa0150\\xa0MG', 'NIFEDIPINE 10 MG', 'SITAGLIPTIN 50 MG + METFORMIN 1000 MG', 'METFORMIN 1000 MG + GLIMEPIRIDE 4 MG', 'AMLODIPINE 10 MG + VALSARTAN 160 MG']\n"
          ]
        }
      ]
    },
    {
      "cell_type": "code",
      "source": [
        "# split MainMedicine to get only the medicne name, and use the medicine name as the index\n",
        "from nltk.tokenize import WordPunctTokenizer\n",
        "tokenizer = WordPunctTokenizer()\n",
        "\n",
        "MainMedicineSpl = []\n",
        "for item in MainMedicine:\n",
        "  tokenlist = tokenizer.tokenize(item)\n",
        "  MainMedicineSpl.append(tokenlist)"
      ],
      "metadata": {
        "id": "7BBSbQ285_uZ"
      },
      "id": "7BBSbQ285_uZ",
      "execution_count": 30,
      "outputs": []
    },
    {
      "cell_type": "code",
      "source": [
        "MainMedicineSpl[:5]"
      ],
      "metadata": {
        "colab": {
          "base_uri": "https://localhost:8080/"
        },
        "id": "lpN_k0Yf5_qw",
        "outputId": "15086dbf-3139-460d-e991-4237c230a290"
      },
      "id": "lpN_k0Yf5_qw",
      "execution_count": 31,
      "outputs": [
        {
          "output_type": "execute_result",
          "data": {
            "text/plain": [
              "[['CARBOPLATIN', '150', 'MG'],\n",
              " ['NIFEDIPINE', '10', 'MG'],\n",
              " ['SITAGLIPTIN', '50', 'MG', '+', 'METFORMIN', '1000', 'MG'],\n",
              " ['METFORMIN', '1000', 'MG', '+', 'GLIMEPIRIDE', '4', 'MG'],\n",
              " ['AMLODIPINE', '10', 'MG', '+', 'VALSARTAN', '160', 'MG']]"
            ]
          },
          "metadata": {},
          "execution_count": 31
        }
      ]
    },
    {
      "cell_type": "code",
      "source": [
        "MainMedicineIndex = []\n",
        "for item in MainMedicineSpl:\n",
        "  templist = []\n",
        "  for subitem in item:\n",
        "    if len(subitem) > 4 and subitem.isdigit() is False:  ## ignoring these elements such as \"MG\", \"+\", ... \n",
        "      templist.append(subitem)\n",
        "  MainMedicineIndex.append(templist)"
      ],
      "metadata": {
        "id": "4JPD2wnK6eEX"
      },
      "id": "4JPD2wnK6eEX",
      "execution_count": 32,
      "outputs": []
    },
    {
      "cell_type": "code",
      "source": [
        "MainMedicineIndex[:5]"
      ],
      "metadata": {
        "colab": {
          "base_uri": "https://localhost:8080/"
        },
        "id": "wGezPaxJ6eBk",
        "outputId": "b8d32164-5a37-4655-84bc-0b1c26185e49"
      },
      "id": "wGezPaxJ6eBk",
      "execution_count": 33,
      "outputs": [
        {
          "output_type": "execute_result",
          "data": {
            "text/plain": [
              "[['CARBOPLATIN'],\n",
              " ['NIFEDIPINE'],\n",
              " ['SITAGLIPTIN', 'METFORMIN'],\n",
              " ['METFORMIN', 'GLIMEPIRIDE'],\n",
              " ['AMLODIPINE', 'VALSARTAN']]"
            ]
          },
          "metadata": {},
          "execution_count": 33
        }
      ]
    },
    {
      "cell_type": "code",
      "source": [
        "CatalogIndexData = {\"Catalog Name\": CatalogNameU, \"Catalog Index\": MainMedicineIndex}"
      ],
      "metadata": {
        "id": "uMGwSN876d-s"
      },
      "id": "uMGwSN876d-s",
      "execution_count": 34,
      "outputs": []
    },
    {
      "cell_type": "code",
      "source": [
        "CatalogIndexData_df = pd.DataFrame(CatalogIndexData)"
      ],
      "metadata": {
        "id": "t8X8_Jq06d6j"
      },
      "id": "t8X8_Jq06d6j",
      "execution_count": 35,
      "outputs": []
    },
    {
      "cell_type": "code",
      "source": [
        "len(CatalogIndexData_df)"
      ],
      "metadata": {
        "colab": {
          "base_uri": "https://localhost:8080/"
        },
        "id": "2A9ocEOl6d2V",
        "outputId": "a48c4ab3-cde9-423a-96cf-d12b4d9dbadc"
      },
      "id": "2A9ocEOl6d2V",
      "execution_count": 36,
      "outputs": [
        {
          "output_type": "execute_result",
          "data": {
            "text/plain": [
              "462"
            ]
          },
          "metadata": {},
          "execution_count": 36
        }
      ]
    },
    {
      "cell_type": "code",
      "source": [
        "CatalogIndexData_df[:5]"
      ],
      "metadata": {
        "colab": {
          "base_uri": "https://localhost:8080/",
          "height": 0
        },
        "id": "78VYvI3-92gV",
        "outputId": "dcd6356a-aa7a-4257-a4d8-8f552945ceea"
      },
      "id": "78VYvI3-92gV",
      "execution_count": 37,
      "outputs": [
        {
          "output_type": "execute_result",
          "data": {
            "text/plain": [
              "                                        Catalog Name             Catalog Index\n",
              "0  CARBOPLATIN 150 MG, POWDER FOR INJECTION, 15 M...             [CARBOPLATIN]\n",
              "1                      NIFEDIPINE 10 MG, TABLET, TBD              [NIFEDIPINE]\n",
              "2  SITAGLIPTIN 50 MG + METFORMIN 1000 MG, TABLET,...  [SITAGLIPTIN, METFORMIN]\n",
              "3  METFORMIN 1000 MG + GLIMEPIRIDE 4 MG, TABLET, TBD  [METFORMIN, GLIMEPIRIDE]\n",
              "4      AMLODIPINE 10 MG + VALSARTAN 160 MG, TBD, TBD   [AMLODIPINE, VALSARTAN]"
            ],
            "text/html": [
              "\n",
              "  <div id=\"df-991cd398-dad2-4b51-97c4-dec029319001\">\n",
              "    <div class=\"colab-df-container\">\n",
              "      <div>\n",
              "<style scoped>\n",
              "    .dataframe tbody tr th:only-of-type {\n",
              "        vertical-align: middle;\n",
              "    }\n",
              "\n",
              "    .dataframe tbody tr th {\n",
              "        vertical-align: top;\n",
              "    }\n",
              "\n",
              "    .dataframe thead th {\n",
              "        text-align: right;\n",
              "    }\n",
              "</style>\n",
              "<table border=\"1\" class=\"dataframe\">\n",
              "  <thead>\n",
              "    <tr style=\"text-align: right;\">\n",
              "      <th></th>\n",
              "      <th>Catalog Name</th>\n",
              "      <th>Catalog Index</th>\n",
              "    </tr>\n",
              "  </thead>\n",
              "  <tbody>\n",
              "    <tr>\n",
              "      <th>0</th>\n",
              "      <td>CARBOPLATIN 150 MG, POWDER FOR INJECTION, 15 M...</td>\n",
              "      <td>[CARBOPLATIN]</td>\n",
              "    </tr>\n",
              "    <tr>\n",
              "      <th>1</th>\n",
              "      <td>NIFEDIPINE 10 MG, TABLET, TBD</td>\n",
              "      <td>[NIFEDIPINE]</td>\n",
              "    </tr>\n",
              "    <tr>\n",
              "      <th>2</th>\n",
              "      <td>SITAGLIPTIN 50 MG + METFORMIN 1000 MG, TABLET,...</td>\n",
              "      <td>[SITAGLIPTIN, METFORMIN]</td>\n",
              "    </tr>\n",
              "    <tr>\n",
              "      <th>3</th>\n",
              "      <td>METFORMIN 1000 MG + GLIMEPIRIDE 4 MG, TABLET, TBD</td>\n",
              "      <td>[METFORMIN, GLIMEPIRIDE]</td>\n",
              "    </tr>\n",
              "    <tr>\n",
              "      <th>4</th>\n",
              "      <td>AMLODIPINE 10 MG + VALSARTAN 160 MG, TBD, TBD</td>\n",
              "      <td>[AMLODIPINE, VALSARTAN]</td>\n",
              "    </tr>\n",
              "  </tbody>\n",
              "</table>\n",
              "</div>\n",
              "      <button class=\"colab-df-convert\" onclick=\"convertToInteractive('df-991cd398-dad2-4b51-97c4-dec029319001')\"\n",
              "              title=\"Convert this dataframe to an interactive table.\"\n",
              "              style=\"display:none;\">\n",
              "        \n",
              "  <svg xmlns=\"http://www.w3.org/2000/svg\" height=\"24px\"viewBox=\"0 0 24 24\"\n",
              "       width=\"24px\">\n",
              "    <path d=\"M0 0h24v24H0V0z\" fill=\"none\"/>\n",
              "    <path d=\"M18.56 5.44l.94 2.06.94-2.06 2.06-.94-2.06-.94-.94-2.06-.94 2.06-2.06.94zm-11 1L8.5 8.5l.94-2.06 2.06-.94-2.06-.94L8.5 2.5l-.94 2.06-2.06.94zm10 10l.94 2.06.94-2.06 2.06-.94-2.06-.94-.94-2.06-.94 2.06-2.06.94z\"/><path d=\"M17.41 7.96l-1.37-1.37c-.4-.4-.92-.59-1.43-.59-.52 0-1.04.2-1.43.59L10.3 9.45l-7.72 7.72c-.78.78-.78 2.05 0 2.83L4 21.41c.39.39.9.59 1.41.59.51 0 1.02-.2 1.41-.59l7.78-7.78 2.81-2.81c.8-.78.8-2.07 0-2.86zM5.41 20L4 18.59l7.72-7.72 1.47 1.35L5.41 20z\"/>\n",
              "  </svg>\n",
              "      </button>\n",
              "      \n",
              "  <style>\n",
              "    .colab-df-container {\n",
              "      display:flex;\n",
              "      flex-wrap:wrap;\n",
              "      gap: 12px;\n",
              "    }\n",
              "\n",
              "    .colab-df-convert {\n",
              "      background-color: #E8F0FE;\n",
              "      border: none;\n",
              "      border-radius: 50%;\n",
              "      cursor: pointer;\n",
              "      display: none;\n",
              "      fill: #1967D2;\n",
              "      height: 32px;\n",
              "      padding: 0 0 0 0;\n",
              "      width: 32px;\n",
              "    }\n",
              "\n",
              "    .colab-df-convert:hover {\n",
              "      background-color: #E2EBFA;\n",
              "      box-shadow: 0px 1px 2px rgba(60, 64, 67, 0.3), 0px 1px 3px 1px rgba(60, 64, 67, 0.15);\n",
              "      fill: #174EA6;\n",
              "    }\n",
              "\n",
              "    [theme=dark] .colab-df-convert {\n",
              "      background-color: #3B4455;\n",
              "      fill: #D2E3FC;\n",
              "    }\n",
              "\n",
              "    [theme=dark] .colab-df-convert:hover {\n",
              "      background-color: #434B5C;\n",
              "      box-shadow: 0px 1px 3px 1px rgba(0, 0, 0, 0.15);\n",
              "      filter: drop-shadow(0px 1px 2px rgba(0, 0, 0, 0.3));\n",
              "      fill: #FFFFFF;\n",
              "    }\n",
              "  </style>\n",
              "\n",
              "      <script>\n",
              "        const buttonEl =\n",
              "          document.querySelector('#df-991cd398-dad2-4b51-97c4-dec029319001 button.colab-df-convert');\n",
              "        buttonEl.style.display =\n",
              "          google.colab.kernel.accessAllowed ? 'block' : 'none';\n",
              "\n",
              "        async function convertToInteractive(key) {\n",
              "          const element = document.querySelector('#df-991cd398-dad2-4b51-97c4-dec029319001');\n",
              "          const dataTable =\n",
              "            await google.colab.kernel.invokeFunction('convertToInteractive',\n",
              "                                                     [key], {});\n",
              "          if (!dataTable) return;\n",
              "\n",
              "          const docLinkHtml = 'Like what you see? Visit the ' +\n",
              "            '<a target=\"_blank\" href=https://colab.research.google.com/notebooks/data_table.ipynb>data table notebook</a>'\n",
              "            + ' to learn more about interactive tables.';\n",
              "          element.innerHTML = '';\n",
              "          dataTable['output_type'] = 'display_data';\n",
              "          await google.colab.output.renderOutput(dataTable, element);\n",
              "          const docLink = document.createElement('div');\n",
              "          docLink.innerHTML = docLinkHtml;\n",
              "          element.appendChild(docLink);\n",
              "        }\n",
              "      </script>\n",
              "    </div>\n",
              "  </div>\n",
              "  "
            ]
          },
          "metadata": {},
          "execution_count": 37
        }
      ]
    },
    {
      "cell_type": "code",
      "source": [
        "# create a list for main medicine from catalog name data set\n",
        "CatalogMedName = []\n",
        "for item in MainMedicineIndex:\n",
        "  for subitem in item:\n",
        "    CatalogMedName.append(subitem)"
      ],
      "metadata": {
        "id": "SKXlIAT492Yq"
      },
      "id": "SKXlIAT492Yq",
      "execution_count": 38,
      "outputs": []
    },
    {
      "cell_type": "code",
      "source": [
        "CatalogMedName = list(set(CatalogMedName))\n",
        "len(CatalogMedName)"
      ],
      "metadata": {
        "colab": {
          "base_uri": "https://localhost:8080/"
        },
        "id": "J72O0BEs92Sa",
        "outputId": "b67ada96-c66e-430f-e461-fce68556db7a"
      },
      "id": "J72O0BEs92Sa",
      "execution_count": 39,
      "outputs": [
        {
          "output_type": "execute_result",
          "data": {
            "text/plain": [
              "206"
            ]
          },
          "metadata": {},
          "execution_count": 39
        }
      ]
    },
    {
      "cell_type": "code",
      "source": [
        "CatalogMedName[:3]"
      ],
      "metadata": {
        "colab": {
          "base_uri": "https://localhost:8080/"
        },
        "id": "ghexrd0e92L7",
        "outputId": "b82ace96-b2c6-4032-b820-6c2639f17731"
      },
      "id": "ghexrd0e92L7",
      "execution_count": 40,
      "outputs": [
        {
          "output_type": "execute_result",
          "data": {
            "text/plain": [
              "['BEVACIZUMAB', 'AMOXICILLIN', 'ENTECAVIR']"
            ]
          },
          "metadata": {},
          "execution_count": 40
        }
      ]
    },
    {
      "cell_type": "markdown",
      "source": [
        "## Part 3: Write the Index Data Set According to the Catalog Name Index"
      ],
      "metadata": {
        "id": "sau0AnJP_R3C"
      },
      "id": "sau0AnJP_R3C"
    },
    {
      "cell_type": "code",
      "source": [
        "# for the vocabulaies which are included in the medicine index get from clean data set, keep them in the \n",
        "# Chile 2 data index\n",
        "def KeepMetAnd(subitem):\n",
        "  addlist = []\n",
        "  for element in subitem:\n",
        "    if element in CatalogMedName:\n",
        "      addlist.append(element)\n",
        "  return addlist"
      ],
      "metadata": {
        "id": "y8ayvGha9_Ng"
      },
      "id": "y8ayvGha9_Ng",
      "execution_count": 41,
      "outputs": []
    },
    {
      "cell_type": "code",
      "source": [
        "DatafinIndex = []\n",
        "for sublist in OrgDataDirtyNameIndexDel:\n",
        "  add = KeepMetAnd(sublist)\n",
        "  DatafinIndex.append(add)"
      ],
      "metadata": {
        "id": "ChBj8_4F9_KK"
      },
      "id": "ChBj8_4F9_KK",
      "execution_count": 42,
      "outputs": []
    },
    {
      "cell_type": "code",
      "source": [
        "# count the number of Chile index sub list which is null []\n",
        "count = 0\n",
        "for i in DatafinIndex:\n",
        "  if not i:\n",
        "    count += 1"
      ],
      "metadata": {
        "id": "1MW1y5bQ9_Dj"
      },
      "id": "1MW1y5bQ9_Dj",
      "execution_count": 43,
      "outputs": []
    },
    {
      "cell_type": "markdown",
      "source": [
        "the length of total drug names and null index"
      ],
      "metadata": {
        "id": "Wt5CqLy-Mc7Y"
      },
      "id": "Wt5CqLy-Mc7Y"
    },
    {
      "cell_type": "code",
      "source": [
        "print(len(DatafinIndex), count) "
      ],
      "metadata": {
        "colab": {
          "base_uri": "https://localhost:8080/"
        },
        "id": "9xFQlbxNAImb",
        "outputId": "15247969-4771-421e-ff1e-67f7c10d7042"
      },
      "id": "9xFQlbxNAImb",
      "execution_count": 44,
      "outputs": [
        {
          "output_type": "stream",
          "name": "stdout",
          "text": [
            "1959 464\n"
          ]
        }
      ]
    },
    {
      "cell_type": "code",
      "source": [
        "nullindexlist = []\n",
        "for i in range(0, len(DatafinIndex)):\n",
        "  if not DatafinIndex[i]:\n",
        "    nullindexlist.append(i)"
      ],
      "metadata": {
        "id": "kEqwupxj9-8h"
      },
      "id": "kEqwupxj9-8h",
      "execution_count": 45,
      "outputs": []
    },
    {
      "cell_type": "code",
      "source": [
        "!pip install -U spacy\n",
        "!pip install scispacy"
      ],
      "metadata": {
        "id": "M7rkN7ii9-47",
        "colab": {
          "base_uri": "https://localhost:8080/",
          "height": 1000
        },
        "outputId": "9cf4638e-c35e-4b0e-9278-00e2d5e4ea06"
      },
      "id": "M7rkN7ii9-47",
      "execution_count": 46,
      "outputs": [
        {
          "output_type": "stream",
          "name": "stdout",
          "text": [
            "Looking in indexes: https://pypi.org/simple, https://us-python.pkg.dev/colab-wheels/public/simple/\n",
            "Requirement already satisfied: spacy in /usr/local/lib/python3.7/dist-packages (3.4.1)\n",
            "Requirement already satisfied: preshed<3.1.0,>=3.0.2 in /usr/local/lib/python3.7/dist-packages (from spacy) (3.0.6)\n",
            "Requirement already satisfied: jinja2 in /usr/local/lib/python3.7/dist-packages (from spacy) (2.11.3)\n",
            "Requirement already satisfied: wasabi<1.1.0,>=0.9.1 in /usr/local/lib/python3.7/dist-packages (from spacy) (0.10.1)\n",
            "Requirement already satisfied: numpy>=1.15.0 in /usr/local/lib/python3.7/dist-packages (from spacy) (1.21.6)\n",
            "Requirement already satisfied: tqdm<5.0.0,>=4.38.0 in /usr/local/lib/python3.7/dist-packages (from spacy) (4.64.0)\n",
            "Requirement already satisfied: requests<3.0.0,>=2.13.0 in /usr/local/lib/python3.7/dist-packages (from spacy) (2.23.0)\n",
            "Requirement already satisfied: catalogue<2.1.0,>=2.0.6 in /usr/local/lib/python3.7/dist-packages (from spacy) (2.0.8)\n",
            "Requirement already satisfied: pathy>=0.3.5 in /usr/local/lib/python3.7/dist-packages (from spacy) (0.6.2)\n",
            "Requirement already satisfied: spacy-loggers<2.0.0,>=1.0.0 in /usr/local/lib/python3.7/dist-packages (from spacy) (1.0.3)\n",
            "Requirement already satisfied: packaging>=20.0 in /usr/local/lib/python3.7/dist-packages (from spacy) (21.3)\n",
            "Requirement already satisfied: spacy-legacy<3.1.0,>=3.0.9 in /usr/local/lib/python3.7/dist-packages (from spacy) (3.0.9)\n",
            "Requirement already satisfied: thinc<8.2.0,>=8.1.0 in /usr/local/lib/python3.7/dist-packages (from spacy) (8.1.0)\n",
            "Requirement already satisfied: setuptools in /usr/local/lib/python3.7/dist-packages (from spacy) (57.4.0)\n",
            "Requirement already satisfied: murmurhash<1.1.0,>=0.28.0 in /usr/local/lib/python3.7/dist-packages (from spacy) (1.0.7)\n",
            "Requirement already satisfied: typer<0.5.0,>=0.3.0 in /usr/local/lib/python3.7/dist-packages (from spacy) (0.4.2)\n",
            "Requirement already satisfied: cymem<2.1.0,>=2.0.2 in /usr/local/lib/python3.7/dist-packages (from spacy) (2.0.6)\n",
            "Requirement already satisfied: srsly<3.0.0,>=2.4.3 in /usr/local/lib/python3.7/dist-packages (from spacy) (2.4.4)\n",
            "Requirement already satisfied: langcodes<4.0.0,>=3.2.0 in /usr/local/lib/python3.7/dist-packages (from spacy) (3.3.0)\n",
            "Requirement already satisfied: typing-extensions<4.2.0,>=3.7.4 in /usr/local/lib/python3.7/dist-packages (from spacy) (4.1.1)\n",
            "Requirement already satisfied: pydantic!=1.8,!=1.8.1,<1.10.0,>=1.7.4 in /usr/local/lib/python3.7/dist-packages (from spacy) (1.9.1)\n",
            "Requirement already satisfied: zipp>=0.5 in /usr/local/lib/python3.7/dist-packages (from catalogue<2.1.0,>=2.0.6->spacy) (3.8.1)\n",
            "Requirement already satisfied: pyparsing!=3.0.5,>=2.0.2 in /usr/local/lib/python3.7/dist-packages (from packaging>=20.0->spacy) (3.0.9)\n",
            "Requirement already satisfied: smart-open<6.0.0,>=5.2.1 in /usr/local/lib/python3.7/dist-packages (from pathy>=0.3.5->spacy) (5.2.1)\n",
            "Requirement already satisfied: chardet<4,>=3.0.2 in /usr/local/lib/python3.7/dist-packages (from requests<3.0.0,>=2.13.0->spacy) (3.0.4)\n",
            "Requirement already satisfied: urllib3!=1.25.0,!=1.25.1,<1.26,>=1.21.1 in /usr/local/lib/python3.7/dist-packages (from requests<3.0.0,>=2.13.0->spacy) (1.24.3)\n",
            "Requirement already satisfied: idna<3,>=2.5 in /usr/local/lib/python3.7/dist-packages (from requests<3.0.0,>=2.13.0->spacy) (2.10)\n",
            "Requirement already satisfied: certifi>=2017.4.17 in /usr/local/lib/python3.7/dist-packages (from requests<3.0.0,>=2.13.0->spacy) (2022.6.15)\n",
            "Requirement already satisfied: blis<0.8.0,>=0.7.8 in /usr/local/lib/python3.7/dist-packages (from thinc<8.2.0,>=8.1.0->spacy) (0.7.8)\n",
            "Requirement already satisfied: click<9.0.0,>=7.1.1 in /usr/local/lib/python3.7/dist-packages (from typer<0.5.0,>=0.3.0->spacy) (7.1.2)\n",
            "Requirement already satisfied: MarkupSafe>=0.23 in /usr/local/lib/python3.7/dist-packages (from jinja2->spacy) (2.0.1)\n",
            "Looking in indexes: https://pypi.org/simple, https://us-python.pkg.dev/colab-wheels/public/simple/\n",
            "Collecting scispacy\n",
            "  Downloading scispacy-0.5.0-py3-none-any.whl (44 kB)\n",
            "\u001b[K     |████████████████████████████████| 44 kB 1.5 MB/s \n",
            "\u001b[?25hCollecting spacy<3.3.0,>=3.2.0\n",
            "  Downloading spacy-3.2.4-cp37-cp37m-manylinux_2_17_x86_64.manylinux2014_x86_64.whl (6.0 MB)\n",
            "\u001b[K     |████████████████████████████████| 6.0 MB 9.9 MB/s \n",
            "\u001b[?25hRequirement already satisfied: scikit-learn>=0.20.3 in /usr/local/lib/python3.7/dist-packages (from scispacy) (1.0.2)\n",
            "Collecting nmslib>=1.7.3.6\n",
            "  Downloading nmslib-2.1.1-cp37-cp37m-manylinux2010_x86_64.whl (13.5 MB)\n",
            "\u001b[K     |████████████████████████████████| 13.5 MB 38.4 MB/s \n",
            "\u001b[?25hRequirement already satisfied: joblib in /usr/local/lib/python3.7/dist-packages (from scispacy) (1.1.0)\n",
            "Collecting pysbd\n",
            "  Downloading pysbd-0.3.4-py3-none-any.whl (71 kB)\n",
            "\u001b[K     |████████████████████████████████| 71 kB 8.6 MB/s \n",
            "\u001b[?25hCollecting conllu\n",
            "  Downloading conllu-4.5.2-py2.py3-none-any.whl (16 kB)\n",
            "Requirement already satisfied: numpy in /usr/local/lib/python3.7/dist-packages (from scispacy) (1.21.6)\n",
            "Requirement already satisfied: requests<3.0.0,>=2.0.0 in /usr/local/lib/python3.7/dist-packages (from scispacy) (2.23.0)\n",
            "Requirement already satisfied: psutil in /usr/local/lib/python3.7/dist-packages (from nmslib>=1.7.3.6->scispacy) (5.4.8)\n",
            "Collecting pybind11<2.6.2\n",
            "  Downloading pybind11-2.6.1-py2.py3-none-any.whl (188 kB)\n",
            "\u001b[K     |████████████████████████████████| 188 kB 56.0 MB/s \n",
            "\u001b[?25hRequirement already satisfied: chardet<4,>=3.0.2 in /usr/local/lib/python3.7/dist-packages (from requests<3.0.0,>=2.0.0->scispacy) (3.0.4)\n",
            "Requirement already satisfied: idna<3,>=2.5 in /usr/local/lib/python3.7/dist-packages (from requests<3.0.0,>=2.0.0->scispacy) (2.10)\n",
            "Requirement already satisfied: certifi>=2017.4.17 in /usr/local/lib/python3.7/dist-packages (from requests<3.0.0,>=2.0.0->scispacy) (2022.6.15)\n",
            "Requirement already satisfied: urllib3!=1.25.0,!=1.25.1,<1.26,>=1.21.1 in /usr/local/lib/python3.7/dist-packages (from requests<3.0.0,>=2.0.0->scispacy) (1.24.3)\n",
            "Requirement already satisfied: scipy>=1.1.0 in /usr/local/lib/python3.7/dist-packages (from scikit-learn>=0.20.3->scispacy) (1.7.3)\n",
            "Requirement already satisfied: threadpoolctl>=2.0.0 in /usr/local/lib/python3.7/dist-packages (from scikit-learn>=0.20.3->scispacy) (3.1.0)\n",
            "Requirement already satisfied: catalogue<2.1.0,>=2.0.6 in /usr/local/lib/python3.7/dist-packages (from spacy<3.3.0,>=3.2.0->scispacy) (2.0.8)\n",
            "Requirement already satisfied: cymem<2.1.0,>=2.0.2 in /usr/local/lib/python3.7/dist-packages (from spacy<3.3.0,>=3.2.0->scispacy) (2.0.6)\n",
            "Requirement already satisfied: wasabi<1.1.0,>=0.8.1 in /usr/local/lib/python3.7/dist-packages (from spacy<3.3.0,>=3.2.0->scispacy) (0.10.1)\n",
            "Requirement already satisfied: murmurhash<1.1.0,>=0.28.0 in /usr/local/lib/python3.7/dist-packages (from spacy<3.3.0,>=3.2.0->scispacy) (1.0.7)\n",
            "Requirement already satisfied: packaging>=20.0 in /usr/local/lib/python3.7/dist-packages (from spacy<3.3.0,>=3.2.0->scispacy) (21.3)\n",
            "Requirement already satisfied: click<8.1.0 in /usr/local/lib/python3.7/dist-packages (from spacy<3.3.0,>=3.2.0->scispacy) (7.1.2)\n",
            "Requirement already satisfied: tqdm<5.0.0,>=4.38.0 in /usr/local/lib/python3.7/dist-packages (from spacy<3.3.0,>=3.2.0->scispacy) (4.64.0)\n",
            "Requirement already satisfied: langcodes<4.0.0,>=3.2.0 in /usr/local/lib/python3.7/dist-packages (from spacy<3.3.0,>=3.2.0->scispacy) (3.3.0)\n",
            "Requirement already satisfied: spacy-loggers<2.0.0,>=1.0.0 in /usr/local/lib/python3.7/dist-packages (from spacy<3.3.0,>=3.2.0->scispacy) (1.0.3)\n",
            "Requirement already satisfied: preshed<3.1.0,>=3.0.2 in /usr/local/lib/python3.7/dist-packages (from spacy<3.3.0,>=3.2.0->scispacy) (3.0.6)\n",
            "Collecting typing-extensions<4.0.0.0,>=3.7.4\n",
            "  Downloading typing_extensions-3.10.0.2-py3-none-any.whl (26 kB)\n",
            "Requirement already satisfied: srsly<3.0.0,>=2.4.1 in /usr/local/lib/python3.7/dist-packages (from spacy<3.3.0,>=3.2.0->scispacy) (2.4.4)\n",
            "Requirement already satisfied: setuptools in /usr/local/lib/python3.7/dist-packages (from spacy<3.3.0,>=3.2.0->scispacy) (57.4.0)\n",
            "Collecting pydantic!=1.8,!=1.8.1,<1.9.0,>=1.7.4\n",
            "  Downloading pydantic-1.8.2-cp37-cp37m-manylinux2014_x86_64.whl (10.1 MB)\n",
            "\u001b[K     |████████████████████████████████| 10.1 MB 35.5 MB/s \n",
            "\u001b[?25hRequirement already satisfied: typer<0.5.0,>=0.3.0 in /usr/local/lib/python3.7/dist-packages (from spacy<3.3.0,>=3.2.0->scispacy) (0.4.2)\n",
            "Requirement already satisfied: blis<0.8.0,>=0.4.0 in /usr/local/lib/python3.7/dist-packages (from spacy<3.3.0,>=3.2.0->scispacy) (0.7.8)\n",
            "Collecting thinc<8.1.0,>=8.0.12\n",
            "  Downloading thinc-8.0.17-cp37-cp37m-manylinux_2_17_x86_64.manylinux2014_x86_64.whl (660 kB)\n",
            "\u001b[K     |████████████████████████████████| 660 kB 58.7 MB/s \n",
            "\u001b[?25hRequirement already satisfied: spacy-legacy<3.1.0,>=3.0.8 in /usr/local/lib/python3.7/dist-packages (from spacy<3.3.0,>=3.2.0->scispacy) (3.0.9)\n",
            "Requirement already satisfied: jinja2 in /usr/local/lib/python3.7/dist-packages (from spacy<3.3.0,>=3.2.0->scispacy) (2.11.3)\n",
            "Requirement already satisfied: pathy>=0.3.5 in /usr/local/lib/python3.7/dist-packages (from spacy<3.3.0,>=3.2.0->scispacy) (0.6.2)\n",
            "Requirement already satisfied: zipp>=0.5 in /usr/local/lib/python3.7/dist-packages (from catalogue<2.1.0,>=2.0.6->spacy<3.3.0,>=3.2.0->scispacy) (3.8.1)\n",
            "Requirement already satisfied: pyparsing!=3.0.5,>=2.0.2 in /usr/local/lib/python3.7/dist-packages (from packaging>=20.0->spacy<3.3.0,>=3.2.0->scispacy) (3.0.9)\n",
            "Requirement already satisfied: smart-open<6.0.0,>=5.2.1 in /usr/local/lib/python3.7/dist-packages (from pathy>=0.3.5->spacy<3.3.0,>=3.2.0->scispacy) (5.2.1)\n",
            "Requirement already satisfied: MarkupSafe>=0.23 in /usr/local/lib/python3.7/dist-packages (from jinja2->spacy<3.3.0,>=3.2.0->scispacy) (2.0.1)\n",
            "Installing collected packages: typing-extensions, pydantic, thinc, pybind11, spacy, pysbd, nmslib, conllu, scispacy\n",
            "  Attempting uninstall: typing-extensions\n",
            "    Found existing installation: typing-extensions 4.1.1\n",
            "    Uninstalling typing-extensions-4.1.1:\n",
            "      Successfully uninstalled typing-extensions-4.1.1\n",
            "  Attempting uninstall: pydantic\n",
            "    Found existing installation: pydantic 1.9.1\n",
            "    Uninstalling pydantic-1.9.1:\n",
            "      Successfully uninstalled pydantic-1.9.1\n",
            "  Attempting uninstall: thinc\n",
            "    Found existing installation: thinc 8.1.0\n",
            "    Uninstalling thinc-8.1.0:\n",
            "      Successfully uninstalled thinc-8.1.0\n",
            "  Attempting uninstall: spacy\n",
            "    Found existing installation: spacy 3.4.1\n",
            "    Uninstalling spacy-3.4.1:\n",
            "      Successfully uninstalled spacy-3.4.1\n",
            "\u001b[31mERROR: pip's dependency resolver does not currently take into account all the packages that are installed. This behaviour is the source of the following dependency conflicts.\n",
            "en-core-web-sm 3.4.0 requires spacy<3.5.0,>=3.4.0, but you have spacy 3.2.4 which is incompatible.\u001b[0m\n",
            "Successfully installed conllu-4.5.2 nmslib-2.1.1 pybind11-2.6.1 pydantic-1.8.2 pysbd-0.3.4 scispacy-0.5.0 spacy-3.2.4 thinc-8.0.17 typing-extensions-3.10.0.2\n"
          ]
        },
        {
          "output_type": "display_data",
          "data": {
            "application/vnd.colab-display-data+json": {
              "pip_warning": {
                "packages": [
                  "typing_extensions"
                ]
              }
            }
          },
          "metadata": {}
        }
      ]
    },
    {
      "cell_type": "code",
      "source": [
        "## Install scispaCy models\n",
        "!pip install https://s3-us-west-2.amazonaws.com/ai2-s2-scispacy/releases/v0.4.0/en_core_sci_sm-0.4.0.tar.gz\n",
        "!pip install https://s3-us-west-2.amazonaws.com/ai2-s2-scispacy/releases/v0.4.0/en_ner_craft_md-0.4.0.tar.gz\n",
        "!pip install https://s3-us-west-2.amazonaws.com/ai2-s2-scispacy/releases/v0.4.0/en_ner_jnlpba_md-0.4.0.tar.gz\n",
        "!pip install https://s3-us-west-2.amazonaws.com/ai2-s2-scispacy/releases/v0.4.0/en_ner_bc5cdr_md-0.4.0.tar.gz\n",
        "!pip install https://s3-us-west-2.amazonaws.com/ai2-s2-scispacy/releases/v0.4.0/en_ner_bionlp13cg_md-0.4.0.tar.gz\n",
        "!pip install https://s3-us-west-2.amazonaws.com/ai2-s2-scispacy/releases/v0.4.0/en_core_sci_lg-0.4.0.tar.gz"
      ],
      "metadata": {
        "id": "lxXzFCXjAxiD",
        "colab": {
          "base_uri": "https://localhost:8080/"
        },
        "outputId": "5db0ffca-fc41-42fd-e257-a3ba499180f8"
      },
      "id": "lxXzFCXjAxiD",
      "execution_count": 47,
      "outputs": [
        {
          "output_type": "stream",
          "name": "stdout",
          "text": [
            "Looking in indexes: https://pypi.org/simple, https://us-python.pkg.dev/colab-wheels/public/simple/\n",
            "Collecting https://s3-us-west-2.amazonaws.com/ai2-s2-scispacy/releases/v0.4.0/en_core_sci_sm-0.4.0.tar.gz\n",
            "  Downloading https://s3-us-west-2.amazonaws.com/ai2-s2-scispacy/releases/v0.4.0/en_core_sci_sm-0.4.0.tar.gz (15.6 MB)\n",
            "\u001b[K     |████████████████████████████████| 15.6 MB 1.2 MB/s \n",
            "\u001b[?25hCollecting spacy<3.1.0,>=3.0.1\n",
            "  Downloading spacy-3.0.8-cp37-cp37m-manylinux_2_17_x86_64.manylinux2014_x86_64.whl (5.8 MB)\n",
            "\u001b[K     |████████████████████████████████| 5.8 MB 5.2 MB/s \n",
            "\u001b[?25hRequirement already satisfied: srsly<3.0.0,>=2.4.1 in /usr/local/lib/python3.7/dist-packages (from spacy<3.1.0,>=3.0.1->en-core-sci-sm==0.4.0) (2.4.4)\n",
            "Requirement already satisfied: packaging>=20.0 in /usr/local/lib/python3.7/dist-packages (from spacy<3.1.0,>=3.0.1->en-core-sci-sm==0.4.0) (21.3)\n",
            "Requirement already satisfied: murmurhash<1.1.0,>=0.28.0 in /usr/local/lib/python3.7/dist-packages (from spacy<3.1.0,>=3.0.1->en-core-sci-sm==0.4.0) (1.0.7)\n",
            "Requirement already satisfied: thinc<8.1.0,>=8.0.3 in /usr/local/lib/python3.7/dist-packages (from spacy<3.1.0,>=3.0.1->en-core-sci-sm==0.4.0) (8.0.17)\n",
            "Requirement already satisfied: setuptools in /usr/local/lib/python3.7/dist-packages (from spacy<3.1.0,>=3.0.1->en-core-sci-sm==0.4.0) (57.4.0)\n",
            "Requirement already satisfied: pydantic!=1.8,!=1.8.1,<1.9.0,>=1.7.4 in /usr/local/lib/python3.7/dist-packages (from spacy<3.1.0,>=3.0.1->en-core-sci-sm==0.4.0) (1.8.2)\n",
            "Requirement already satisfied: cymem<2.1.0,>=2.0.2 in /usr/local/lib/python3.7/dist-packages (from spacy<3.1.0,>=3.0.1->en-core-sci-sm==0.4.0) (2.0.6)\n",
            "Requirement already satisfied: tqdm<5.0.0,>=4.38.0 in /usr/local/lib/python3.7/dist-packages (from spacy<3.1.0,>=3.0.1->en-core-sci-sm==0.4.0) (4.64.0)\n",
            "Requirement already satisfied: numpy>=1.15.0 in /usr/local/lib/python3.7/dist-packages (from spacy<3.1.0,>=3.0.1->en-core-sci-sm==0.4.0) (1.21.6)\n",
            "Requirement already satisfied: wasabi<1.1.0,>=0.8.1 in /usr/local/lib/python3.7/dist-packages (from spacy<3.1.0,>=3.0.1->en-core-sci-sm==0.4.0) (0.10.1)\n",
            "Requirement already satisfied: spacy-legacy<3.1.0,>=3.0.5 in /usr/local/lib/python3.7/dist-packages (from spacy<3.1.0,>=3.0.1->en-core-sci-sm==0.4.0) (3.0.9)\n",
            "Collecting typer<0.4.0,>=0.3.0\n",
            "  Downloading typer-0.3.2-py3-none-any.whl (21 kB)\n",
            "Requirement already satisfied: jinja2 in /usr/local/lib/python3.7/dist-packages (from spacy<3.1.0,>=3.0.1->en-core-sci-sm==0.4.0) (2.11.3)\n",
            "Requirement already satisfied: pathy>=0.3.5 in /usr/local/lib/python3.7/dist-packages (from spacy<3.1.0,>=3.0.1->en-core-sci-sm==0.4.0) (0.6.2)\n",
            "Requirement already satisfied: blis<0.8.0,>=0.4.0 in /usr/local/lib/python3.7/dist-packages (from spacy<3.1.0,>=3.0.1->en-core-sci-sm==0.4.0) (0.7.8)\n",
            "Requirement already satisfied: typing-extensions<4.0.0.0,>=3.7.4 in /usr/local/lib/python3.7/dist-packages (from spacy<3.1.0,>=3.0.1->en-core-sci-sm==0.4.0) (3.10.0.2)\n",
            "Requirement already satisfied: preshed<3.1.0,>=3.0.2 in /usr/local/lib/python3.7/dist-packages (from spacy<3.1.0,>=3.0.1->en-core-sci-sm==0.4.0) (3.0.6)\n",
            "Requirement already satisfied: catalogue<2.1.0,>=2.0.4 in /usr/local/lib/python3.7/dist-packages (from spacy<3.1.0,>=3.0.1->en-core-sci-sm==0.4.0) (2.0.8)\n",
            "Requirement already satisfied: requests<3.0.0,>=2.13.0 in /usr/local/lib/python3.7/dist-packages (from spacy<3.1.0,>=3.0.1->en-core-sci-sm==0.4.0) (2.23.0)\n",
            "Requirement already satisfied: zipp>=0.5 in /usr/local/lib/python3.7/dist-packages (from catalogue<2.1.0,>=2.0.4->spacy<3.1.0,>=3.0.1->en-core-sci-sm==0.4.0) (3.8.1)\n",
            "Requirement already satisfied: pyparsing!=3.0.5,>=2.0.2 in /usr/local/lib/python3.7/dist-packages (from packaging>=20.0->spacy<3.1.0,>=3.0.1->en-core-sci-sm==0.4.0) (3.0.9)\n",
            "Requirement already satisfied: smart-open<6.0.0,>=5.2.1 in /usr/local/lib/python3.7/dist-packages (from pathy>=0.3.5->spacy<3.1.0,>=3.0.1->en-core-sci-sm==0.4.0) (5.2.1)\n",
            "Requirement already satisfied: idna<3,>=2.5 in /usr/local/lib/python3.7/dist-packages (from requests<3.0.0,>=2.13.0->spacy<3.1.0,>=3.0.1->en-core-sci-sm==0.4.0) (2.10)\n",
            "Requirement already satisfied: urllib3!=1.25.0,!=1.25.1,<1.26,>=1.21.1 in /usr/local/lib/python3.7/dist-packages (from requests<3.0.0,>=2.13.0->spacy<3.1.0,>=3.0.1->en-core-sci-sm==0.4.0) (1.24.3)\n",
            "Requirement already satisfied: chardet<4,>=3.0.2 in /usr/local/lib/python3.7/dist-packages (from requests<3.0.0,>=2.13.0->spacy<3.1.0,>=3.0.1->en-core-sci-sm==0.4.0) (3.0.4)\n",
            "Requirement already satisfied: certifi>=2017.4.17 in /usr/local/lib/python3.7/dist-packages (from requests<3.0.0,>=2.13.0->spacy<3.1.0,>=3.0.1->en-core-sci-sm==0.4.0) (2022.6.15)\n",
            "Requirement already satisfied: click<7.2.0,>=7.1.1 in /usr/local/lib/python3.7/dist-packages (from typer<0.4.0,>=0.3.0->spacy<3.1.0,>=3.0.1->en-core-sci-sm==0.4.0) (7.1.2)\n",
            "Requirement already satisfied: MarkupSafe>=0.23 in /usr/local/lib/python3.7/dist-packages (from jinja2->spacy<3.1.0,>=3.0.1->en-core-sci-sm==0.4.0) (2.0.1)\n",
            "Building wheels for collected packages: en-core-sci-sm\n",
            "  Building wheel for en-core-sci-sm (setup.py) ... \u001b[?25l\u001b[?25hdone\n",
            "  Created wheel for en-core-sci-sm: filename=en_core_sci_sm-0.4.0-py3-none-any.whl size=15660350 sha256=444c756ddcd45e54552a1f9d57f55d11431412c61de44244d913e3b4bfe8c9fc\n",
            "  Stored in directory: /root/.cache/pip/wheels/31/4b/3a/03f2732eb69789a7df3bf29c1bc010f660ada5f3c295d4073c\n",
            "Successfully built en-core-sci-sm\n",
            "Installing collected packages: typer, spacy, en-core-sci-sm\n",
            "  Attempting uninstall: typer\n",
            "    Found existing installation: typer 0.4.2\n",
            "    Uninstalling typer-0.4.2:\n",
            "      Successfully uninstalled typer-0.4.2\n",
            "  Attempting uninstall: spacy\n",
            "    Found existing installation: spacy 3.2.4\n",
            "    Uninstalling spacy-3.2.4:\n",
            "      Successfully uninstalled spacy-3.2.4\n",
            "\u001b[31mERROR: pip's dependency resolver does not currently take into account all the packages that are installed. This behaviour is the source of the following dependency conflicts.\n",
            "scispacy 0.5.0 requires spacy<3.3.0,>=3.2.0, but you have spacy 3.0.8 which is incompatible.\n",
            "en-core-web-sm 3.4.0 requires spacy<3.5.0,>=3.4.0, but you have spacy 3.0.8 which is incompatible.\u001b[0m\n",
            "Successfully installed en-core-sci-sm-0.4.0 spacy-3.0.8 typer-0.3.2\n",
            "Looking in indexes: https://pypi.org/simple, https://us-python.pkg.dev/colab-wheels/public/simple/\n",
            "Collecting https://s3-us-west-2.amazonaws.com/ai2-s2-scispacy/releases/v0.4.0/en_ner_craft_md-0.4.0.tar.gz\n",
            "  Downloading https://s3-us-west-2.amazonaws.com/ai2-s2-scispacy/releases/v0.4.0/en_ner_craft_md-0.4.0.tar.gz (125.1 MB)\n",
            "\u001b[K     |████████████████████████████████| 125.1 MB 42 kB/s \n",
            "\u001b[?25hRequirement already satisfied: spacy<3.1.0,>=3.0.1 in /usr/local/lib/python3.7/dist-packages (from en-ner-craft-md==0.4.0) (3.0.8)\n",
            "Requirement already satisfied: preshed<3.1.0,>=3.0.2 in /usr/local/lib/python3.7/dist-packages (from spacy<3.1.0,>=3.0.1->en-ner-craft-md==0.4.0) (3.0.6)\n",
            "Requirement already satisfied: typing-extensions<4.0.0.0,>=3.7.4 in /usr/local/lib/python3.7/dist-packages (from spacy<3.1.0,>=3.0.1->en-ner-craft-md==0.4.0) (3.10.0.2)\n",
            "Requirement already satisfied: tqdm<5.0.0,>=4.38.0 in /usr/local/lib/python3.7/dist-packages (from spacy<3.1.0,>=3.0.1->en-ner-craft-md==0.4.0) (4.64.0)\n",
            "Requirement already satisfied: numpy>=1.15.0 in /usr/local/lib/python3.7/dist-packages (from spacy<3.1.0,>=3.0.1->en-ner-craft-md==0.4.0) (1.21.6)\n",
            "Requirement already satisfied: packaging>=20.0 in /usr/local/lib/python3.7/dist-packages (from spacy<3.1.0,>=3.0.1->en-ner-craft-md==0.4.0) (21.3)\n",
            "Requirement already satisfied: srsly<3.0.0,>=2.4.1 in /usr/local/lib/python3.7/dist-packages (from spacy<3.1.0,>=3.0.1->en-ner-craft-md==0.4.0) (2.4.4)\n",
            "Requirement already satisfied: pydantic!=1.8,!=1.8.1,<1.9.0,>=1.7.4 in /usr/local/lib/python3.7/dist-packages (from spacy<3.1.0,>=3.0.1->en-ner-craft-md==0.4.0) (1.8.2)\n",
            "Requirement already satisfied: requests<3.0.0,>=2.13.0 in /usr/local/lib/python3.7/dist-packages (from spacy<3.1.0,>=3.0.1->en-ner-craft-md==0.4.0) (2.23.0)\n",
            "Requirement already satisfied: cymem<2.1.0,>=2.0.2 in /usr/local/lib/python3.7/dist-packages (from spacy<3.1.0,>=3.0.1->en-ner-craft-md==0.4.0) (2.0.6)\n",
            "Requirement already satisfied: murmurhash<1.1.0,>=0.28.0 in /usr/local/lib/python3.7/dist-packages (from spacy<3.1.0,>=3.0.1->en-ner-craft-md==0.4.0) (1.0.7)\n",
            "Requirement already satisfied: setuptools in /usr/local/lib/python3.7/dist-packages (from spacy<3.1.0,>=3.0.1->en-ner-craft-md==0.4.0) (57.4.0)\n",
            "Requirement already satisfied: wasabi<1.1.0,>=0.8.1 in /usr/local/lib/python3.7/dist-packages (from spacy<3.1.0,>=3.0.1->en-ner-craft-md==0.4.0) (0.10.1)\n",
            "Requirement already satisfied: jinja2 in /usr/local/lib/python3.7/dist-packages (from spacy<3.1.0,>=3.0.1->en-ner-craft-md==0.4.0) (2.11.3)\n",
            "Requirement already satisfied: thinc<8.1.0,>=8.0.3 in /usr/local/lib/python3.7/dist-packages (from spacy<3.1.0,>=3.0.1->en-ner-craft-md==0.4.0) (8.0.17)\n",
            "Requirement already satisfied: pathy>=0.3.5 in /usr/local/lib/python3.7/dist-packages (from spacy<3.1.0,>=3.0.1->en-ner-craft-md==0.4.0) (0.6.2)\n",
            "Requirement already satisfied: catalogue<2.1.0,>=2.0.4 in /usr/local/lib/python3.7/dist-packages (from spacy<3.1.0,>=3.0.1->en-ner-craft-md==0.4.0) (2.0.8)\n",
            "Requirement already satisfied: blis<0.8.0,>=0.4.0 in /usr/local/lib/python3.7/dist-packages (from spacy<3.1.0,>=3.0.1->en-ner-craft-md==0.4.0) (0.7.8)\n",
            "Requirement already satisfied: typer<0.4.0,>=0.3.0 in /usr/local/lib/python3.7/dist-packages (from spacy<3.1.0,>=3.0.1->en-ner-craft-md==0.4.0) (0.3.2)\n",
            "Requirement already satisfied: spacy-legacy<3.1.0,>=3.0.5 in /usr/local/lib/python3.7/dist-packages (from spacy<3.1.0,>=3.0.1->en-ner-craft-md==0.4.0) (3.0.9)\n",
            "Requirement already satisfied: zipp>=0.5 in /usr/local/lib/python3.7/dist-packages (from catalogue<2.1.0,>=2.0.4->spacy<3.1.0,>=3.0.1->en-ner-craft-md==0.4.0) (3.8.1)\n",
            "Requirement already satisfied: pyparsing!=3.0.5,>=2.0.2 in /usr/local/lib/python3.7/dist-packages (from packaging>=20.0->spacy<3.1.0,>=3.0.1->en-ner-craft-md==0.4.0) (3.0.9)\n",
            "Requirement already satisfied: smart-open<6.0.0,>=5.2.1 in /usr/local/lib/python3.7/dist-packages (from pathy>=0.3.5->spacy<3.1.0,>=3.0.1->en-ner-craft-md==0.4.0) (5.2.1)\n",
            "Requirement already satisfied: chardet<4,>=3.0.2 in /usr/local/lib/python3.7/dist-packages (from requests<3.0.0,>=2.13.0->spacy<3.1.0,>=3.0.1->en-ner-craft-md==0.4.0) (3.0.4)\n",
            "Requirement already satisfied: urllib3!=1.25.0,!=1.25.1,<1.26,>=1.21.1 in /usr/local/lib/python3.7/dist-packages (from requests<3.0.0,>=2.13.0->spacy<3.1.0,>=3.0.1->en-ner-craft-md==0.4.0) (1.24.3)\n",
            "Requirement already satisfied: certifi>=2017.4.17 in /usr/local/lib/python3.7/dist-packages (from requests<3.0.0,>=2.13.0->spacy<3.1.0,>=3.0.1->en-ner-craft-md==0.4.0) (2022.6.15)\n",
            "Requirement already satisfied: idna<3,>=2.5 in /usr/local/lib/python3.7/dist-packages (from requests<3.0.0,>=2.13.0->spacy<3.1.0,>=3.0.1->en-ner-craft-md==0.4.0) (2.10)\n",
            "Requirement already satisfied: click<7.2.0,>=7.1.1 in /usr/local/lib/python3.7/dist-packages (from typer<0.4.0,>=0.3.0->spacy<3.1.0,>=3.0.1->en-ner-craft-md==0.4.0) (7.1.2)\n",
            "Requirement already satisfied: MarkupSafe>=0.23 in /usr/local/lib/python3.7/dist-packages (from jinja2->spacy<3.1.0,>=3.0.1->en-ner-craft-md==0.4.0) (2.0.1)\n",
            "Building wheels for collected packages: en-ner-craft-md\n",
            "  Building wheel for en-ner-craft-md (setup.py) ... \u001b[?25l\u001b[?25hdone\n",
            "  Created wheel for en-ner-craft-md: filename=en_ner_craft_md-0.4.0-py3-none-any.whl size=125689480 sha256=49c5e0aee80567e468beaa59a1e7c5c7fac7a77570fb0385ae04d40e243b9cc4\n",
            "  Stored in directory: /root/.cache/pip/wheels/dd/f9/93/049ab5343fded423d6a809bcf595f4cfdd955404382fa8f085\n",
            "Successfully built en-ner-craft-md\n",
            "Installing collected packages: en-ner-craft-md\n",
            "Successfully installed en-ner-craft-md-0.4.0\n",
            "Looking in indexes: https://pypi.org/simple, https://us-python.pkg.dev/colab-wheels/public/simple/\n",
            "Collecting https://s3-us-west-2.amazonaws.com/ai2-s2-scispacy/releases/v0.4.0/en_ner_jnlpba_md-0.4.0.tar.gz\n",
            "  Downloading https://s3-us-west-2.amazonaws.com/ai2-s2-scispacy/releases/v0.4.0/en_ner_jnlpba_md-0.4.0.tar.gz (125.1 MB)\n",
            "\u001b[K     |████████████████████████████████| 125.1 MB 41 kB/s \n",
            "\u001b[?25hRequirement already satisfied: spacy<3.1.0,>=3.0.1 in /usr/local/lib/python3.7/dist-packages (from en-ner-jnlpba-md==0.4.0) (3.0.8)\n",
            "Requirement already satisfied: spacy-legacy<3.1.0,>=3.0.5 in /usr/local/lib/python3.7/dist-packages (from spacy<3.1.0,>=3.0.1->en-ner-jnlpba-md==0.4.0) (3.0.9)\n",
            "Requirement already satisfied: srsly<3.0.0,>=2.4.1 in /usr/local/lib/python3.7/dist-packages (from spacy<3.1.0,>=3.0.1->en-ner-jnlpba-md==0.4.0) (2.4.4)\n",
            "Requirement already satisfied: blis<0.8.0,>=0.4.0 in /usr/local/lib/python3.7/dist-packages (from spacy<3.1.0,>=3.0.1->en-ner-jnlpba-md==0.4.0) (0.7.8)\n",
            "Requirement already satisfied: pathy>=0.3.5 in /usr/local/lib/python3.7/dist-packages (from spacy<3.1.0,>=3.0.1->en-ner-jnlpba-md==0.4.0) (0.6.2)\n",
            "Requirement already satisfied: setuptools in /usr/local/lib/python3.7/dist-packages (from spacy<3.1.0,>=3.0.1->en-ner-jnlpba-md==0.4.0) (57.4.0)\n",
            "Requirement already satisfied: thinc<8.1.0,>=8.0.3 in /usr/local/lib/python3.7/dist-packages (from spacy<3.1.0,>=3.0.1->en-ner-jnlpba-md==0.4.0) (8.0.17)\n",
            "Requirement already satisfied: jinja2 in /usr/local/lib/python3.7/dist-packages (from spacy<3.1.0,>=3.0.1->en-ner-jnlpba-md==0.4.0) (2.11.3)\n",
            "Requirement already satisfied: typing-extensions<4.0.0.0,>=3.7.4 in /usr/local/lib/python3.7/dist-packages (from spacy<3.1.0,>=3.0.1->en-ner-jnlpba-md==0.4.0) (3.10.0.2)\n",
            "Requirement already satisfied: numpy>=1.15.0 in /usr/local/lib/python3.7/dist-packages (from spacy<3.1.0,>=3.0.1->en-ner-jnlpba-md==0.4.0) (1.21.6)\n",
            "Requirement already satisfied: catalogue<2.1.0,>=2.0.4 in /usr/local/lib/python3.7/dist-packages (from spacy<3.1.0,>=3.0.1->en-ner-jnlpba-md==0.4.0) (2.0.8)\n",
            "Requirement already satisfied: murmurhash<1.1.0,>=0.28.0 in /usr/local/lib/python3.7/dist-packages (from spacy<3.1.0,>=3.0.1->en-ner-jnlpba-md==0.4.0) (1.0.7)\n",
            "Requirement already satisfied: tqdm<5.0.0,>=4.38.0 in /usr/local/lib/python3.7/dist-packages (from spacy<3.1.0,>=3.0.1->en-ner-jnlpba-md==0.4.0) (4.64.0)\n",
            "Requirement already satisfied: packaging>=20.0 in /usr/local/lib/python3.7/dist-packages (from spacy<3.1.0,>=3.0.1->en-ner-jnlpba-md==0.4.0) (21.3)\n",
            "Requirement already satisfied: requests<3.0.0,>=2.13.0 in /usr/local/lib/python3.7/dist-packages (from spacy<3.1.0,>=3.0.1->en-ner-jnlpba-md==0.4.0) (2.23.0)\n",
            "Requirement already satisfied: typer<0.4.0,>=0.3.0 in /usr/local/lib/python3.7/dist-packages (from spacy<3.1.0,>=3.0.1->en-ner-jnlpba-md==0.4.0) (0.3.2)\n",
            "Requirement already satisfied: cymem<2.1.0,>=2.0.2 in /usr/local/lib/python3.7/dist-packages (from spacy<3.1.0,>=3.0.1->en-ner-jnlpba-md==0.4.0) (2.0.6)\n",
            "Requirement already satisfied: wasabi<1.1.0,>=0.8.1 in /usr/local/lib/python3.7/dist-packages (from spacy<3.1.0,>=3.0.1->en-ner-jnlpba-md==0.4.0) (0.10.1)\n",
            "Requirement already satisfied: pydantic!=1.8,!=1.8.1,<1.9.0,>=1.7.4 in /usr/local/lib/python3.7/dist-packages (from spacy<3.1.0,>=3.0.1->en-ner-jnlpba-md==0.4.0) (1.8.2)\n",
            "Requirement already satisfied: preshed<3.1.0,>=3.0.2 in /usr/local/lib/python3.7/dist-packages (from spacy<3.1.0,>=3.0.1->en-ner-jnlpba-md==0.4.0) (3.0.6)\n",
            "Requirement already satisfied: zipp>=0.5 in /usr/local/lib/python3.7/dist-packages (from catalogue<2.1.0,>=2.0.4->spacy<3.1.0,>=3.0.1->en-ner-jnlpba-md==0.4.0) (3.8.1)\n",
            "Requirement already satisfied: pyparsing!=3.0.5,>=2.0.2 in /usr/local/lib/python3.7/dist-packages (from packaging>=20.0->spacy<3.1.0,>=3.0.1->en-ner-jnlpba-md==0.4.0) (3.0.9)\n",
            "Requirement already satisfied: smart-open<6.0.0,>=5.2.1 in /usr/local/lib/python3.7/dist-packages (from pathy>=0.3.5->spacy<3.1.0,>=3.0.1->en-ner-jnlpba-md==0.4.0) (5.2.1)\n",
            "Requirement already satisfied: idna<3,>=2.5 in /usr/local/lib/python3.7/dist-packages (from requests<3.0.0,>=2.13.0->spacy<3.1.0,>=3.0.1->en-ner-jnlpba-md==0.4.0) (2.10)\n",
            "Requirement already satisfied: urllib3!=1.25.0,!=1.25.1,<1.26,>=1.21.1 in /usr/local/lib/python3.7/dist-packages (from requests<3.0.0,>=2.13.0->spacy<3.1.0,>=3.0.1->en-ner-jnlpba-md==0.4.0) (1.24.3)\n",
            "Requirement already satisfied: chardet<4,>=3.0.2 in /usr/local/lib/python3.7/dist-packages (from requests<3.0.0,>=2.13.0->spacy<3.1.0,>=3.0.1->en-ner-jnlpba-md==0.4.0) (3.0.4)\n",
            "Requirement already satisfied: certifi>=2017.4.17 in /usr/local/lib/python3.7/dist-packages (from requests<3.0.0,>=2.13.0->spacy<3.1.0,>=3.0.1->en-ner-jnlpba-md==0.4.0) (2022.6.15)\n",
            "Requirement already satisfied: click<7.2.0,>=7.1.1 in /usr/local/lib/python3.7/dist-packages (from typer<0.4.0,>=0.3.0->spacy<3.1.0,>=3.0.1->en-ner-jnlpba-md==0.4.0) (7.1.2)\n",
            "Requirement already satisfied: MarkupSafe>=0.23 in /usr/local/lib/python3.7/dist-packages (from jinja2->spacy<3.1.0,>=3.0.1->en-ner-jnlpba-md==0.4.0) (2.0.1)\n",
            "Building wheels for collected packages: en-ner-jnlpba-md\n",
            "  Building wheel for en-ner-jnlpba-md (setup.py) ... \u001b[?25l\u001b[?25hdone\n",
            "  Created wheel for en-ner-jnlpba-md: filename=en_ner_jnlpba_md-0.4.0-py3-none-any.whl size=125691806 sha256=73c1d22e27f0b2bbc95c54fa08c5451f7618c055234a1bbeee9af79280bd2207\n",
            "  Stored in directory: /root/.cache/pip/wheels/ed/83/4a/2e7f532ded1476eb3750f2dec8ae8e1ebd0d890ca29c9146c7\n",
            "Successfully built en-ner-jnlpba-md\n",
            "Installing collected packages: en-ner-jnlpba-md\n",
            "Successfully installed en-ner-jnlpba-md-0.4.0\n",
            "Looking in indexes: https://pypi.org/simple, https://us-python.pkg.dev/colab-wheels/public/simple/\n",
            "Collecting https://s3-us-west-2.amazonaws.com/ai2-s2-scispacy/releases/v0.4.0/en_ner_bc5cdr_md-0.4.0.tar.gz\n",
            "  Downloading https://s3-us-west-2.amazonaws.com/ai2-s2-scispacy/releases/v0.4.0/en_ner_bc5cdr_md-0.4.0.tar.gz (125.1 MB)\n",
            "\u001b[K     |████████████████████████████████| 125.1 MB 34 kB/s \n",
            "\u001b[?25hRequirement already satisfied: spacy<3.1.0,>=3.0.1 in /usr/local/lib/python3.7/dist-packages (from en-ner-bc5cdr-md==0.4.0) (3.0.8)\n",
            "Requirement already satisfied: typing-extensions<4.0.0.0,>=3.7.4 in /usr/local/lib/python3.7/dist-packages (from spacy<3.1.0,>=3.0.1->en-ner-bc5cdr-md==0.4.0) (3.10.0.2)\n",
            "Requirement already satisfied: setuptools in /usr/local/lib/python3.7/dist-packages (from spacy<3.1.0,>=3.0.1->en-ner-bc5cdr-md==0.4.0) (57.4.0)\n",
            "Requirement already satisfied: cymem<2.1.0,>=2.0.2 in /usr/local/lib/python3.7/dist-packages (from spacy<3.1.0,>=3.0.1->en-ner-bc5cdr-md==0.4.0) (2.0.6)\n",
            "Requirement already satisfied: catalogue<2.1.0,>=2.0.4 in /usr/local/lib/python3.7/dist-packages (from spacy<3.1.0,>=3.0.1->en-ner-bc5cdr-md==0.4.0) (2.0.8)\n",
            "Requirement already satisfied: srsly<3.0.0,>=2.4.1 in /usr/local/lib/python3.7/dist-packages (from spacy<3.1.0,>=3.0.1->en-ner-bc5cdr-md==0.4.0) (2.4.4)\n",
            "Requirement already satisfied: typer<0.4.0,>=0.3.0 in /usr/local/lib/python3.7/dist-packages (from spacy<3.1.0,>=3.0.1->en-ner-bc5cdr-md==0.4.0) (0.3.2)\n",
            "Requirement already satisfied: requests<3.0.0,>=2.13.0 in /usr/local/lib/python3.7/dist-packages (from spacy<3.1.0,>=3.0.1->en-ner-bc5cdr-md==0.4.0) (2.23.0)\n",
            "Requirement already satisfied: preshed<3.1.0,>=3.0.2 in /usr/local/lib/python3.7/dist-packages (from spacy<3.1.0,>=3.0.1->en-ner-bc5cdr-md==0.4.0) (3.0.6)\n",
            "Requirement already satisfied: jinja2 in /usr/local/lib/python3.7/dist-packages (from spacy<3.1.0,>=3.0.1->en-ner-bc5cdr-md==0.4.0) (2.11.3)\n",
            "Requirement already satisfied: blis<0.8.0,>=0.4.0 in /usr/local/lib/python3.7/dist-packages (from spacy<3.1.0,>=3.0.1->en-ner-bc5cdr-md==0.4.0) (0.7.8)\n",
            "Requirement already satisfied: murmurhash<1.1.0,>=0.28.0 in /usr/local/lib/python3.7/dist-packages (from spacy<3.1.0,>=3.0.1->en-ner-bc5cdr-md==0.4.0) (1.0.7)\n",
            "Requirement already satisfied: tqdm<5.0.0,>=4.38.0 in /usr/local/lib/python3.7/dist-packages (from spacy<3.1.0,>=3.0.1->en-ner-bc5cdr-md==0.4.0) (4.64.0)\n",
            "Requirement already satisfied: packaging>=20.0 in /usr/local/lib/python3.7/dist-packages (from spacy<3.1.0,>=3.0.1->en-ner-bc5cdr-md==0.4.0) (21.3)\n",
            "Requirement already satisfied: wasabi<1.1.0,>=0.8.1 in /usr/local/lib/python3.7/dist-packages (from spacy<3.1.0,>=3.0.1->en-ner-bc5cdr-md==0.4.0) (0.10.1)\n",
            "Requirement already satisfied: numpy>=1.15.0 in /usr/local/lib/python3.7/dist-packages (from spacy<3.1.0,>=3.0.1->en-ner-bc5cdr-md==0.4.0) (1.21.6)\n",
            "Requirement already satisfied: pydantic!=1.8,!=1.8.1,<1.9.0,>=1.7.4 in /usr/local/lib/python3.7/dist-packages (from spacy<3.1.0,>=3.0.1->en-ner-bc5cdr-md==0.4.0) (1.8.2)\n",
            "Requirement already satisfied: thinc<8.1.0,>=8.0.3 in /usr/local/lib/python3.7/dist-packages (from spacy<3.1.0,>=3.0.1->en-ner-bc5cdr-md==0.4.0) (8.0.17)\n",
            "Requirement already satisfied: spacy-legacy<3.1.0,>=3.0.5 in /usr/local/lib/python3.7/dist-packages (from spacy<3.1.0,>=3.0.1->en-ner-bc5cdr-md==0.4.0) (3.0.9)\n",
            "Requirement already satisfied: pathy>=0.3.5 in /usr/local/lib/python3.7/dist-packages (from spacy<3.1.0,>=3.0.1->en-ner-bc5cdr-md==0.4.0) (0.6.2)\n",
            "Requirement already satisfied: zipp>=0.5 in /usr/local/lib/python3.7/dist-packages (from catalogue<2.1.0,>=2.0.4->spacy<3.1.0,>=3.0.1->en-ner-bc5cdr-md==0.4.0) (3.8.1)\n",
            "Requirement already satisfied: pyparsing!=3.0.5,>=2.0.2 in /usr/local/lib/python3.7/dist-packages (from packaging>=20.0->spacy<3.1.0,>=3.0.1->en-ner-bc5cdr-md==0.4.0) (3.0.9)\n",
            "Requirement already satisfied: smart-open<6.0.0,>=5.2.1 in /usr/local/lib/python3.7/dist-packages (from pathy>=0.3.5->spacy<3.1.0,>=3.0.1->en-ner-bc5cdr-md==0.4.0) (5.2.1)\n",
            "Requirement already satisfied: certifi>=2017.4.17 in /usr/local/lib/python3.7/dist-packages (from requests<3.0.0,>=2.13.0->spacy<3.1.0,>=3.0.1->en-ner-bc5cdr-md==0.4.0) (2022.6.15)\n",
            "Requirement already satisfied: urllib3!=1.25.0,!=1.25.1,<1.26,>=1.21.1 in /usr/local/lib/python3.7/dist-packages (from requests<3.0.0,>=2.13.0->spacy<3.1.0,>=3.0.1->en-ner-bc5cdr-md==0.4.0) (1.24.3)\n",
            "Requirement already satisfied: idna<3,>=2.5 in /usr/local/lib/python3.7/dist-packages (from requests<3.0.0,>=2.13.0->spacy<3.1.0,>=3.0.1->en-ner-bc5cdr-md==0.4.0) (2.10)\n",
            "Requirement already satisfied: chardet<4,>=3.0.2 in /usr/local/lib/python3.7/dist-packages (from requests<3.0.0,>=2.13.0->spacy<3.1.0,>=3.0.1->en-ner-bc5cdr-md==0.4.0) (3.0.4)\n",
            "Requirement already satisfied: click<7.2.0,>=7.1.1 in /usr/local/lib/python3.7/dist-packages (from typer<0.4.0,>=0.3.0->spacy<3.1.0,>=3.0.1->en-ner-bc5cdr-md==0.4.0) (7.1.2)\n",
            "Requirement already satisfied: MarkupSafe>=0.23 in /usr/local/lib/python3.7/dist-packages (from jinja2->spacy<3.1.0,>=3.0.1->en-ner-bc5cdr-md==0.4.0) (2.0.1)\n",
            "Building wheels for collected packages: en-ner-bc5cdr-md\n",
            "  Building wheel for en-ner-bc5cdr-md (setup.py) ... \u001b[?25l\u001b[?25hdone\n",
            "  Created wheel for en-ner-bc5cdr-md: filename=en_ner_bc5cdr_md-0.4.0-py3-none-any.whl size=125666883 sha256=47ecb7f88c8edce84acd965249d0572cc48b6ea63a343b411f3ee029394f8744\n",
            "  Stored in directory: /root/.cache/pip/wheels/6a/17/04/ed8f50ffdcb9b9e4ce601c0c3cf88361f2b3f54a10c0fa0803\n",
            "Successfully built en-ner-bc5cdr-md\n",
            "Installing collected packages: en-ner-bc5cdr-md\n",
            "Successfully installed en-ner-bc5cdr-md-0.4.0\n",
            "Looking in indexes: https://pypi.org/simple, https://us-python.pkg.dev/colab-wheels/public/simple/\n",
            "Collecting https://s3-us-west-2.amazonaws.com/ai2-s2-scispacy/releases/v0.4.0/en_ner_bionlp13cg_md-0.4.0.tar.gz\n",
            "  Downloading https://s3-us-west-2.amazonaws.com/ai2-s2-scispacy/releases/v0.4.0/en_ner_bionlp13cg_md-0.4.0.tar.gz (125.1 MB)\n",
            "\u001b[K     |████████████████████████████████| 125.1 MB 48 kB/s \n",
            "\u001b[?25hRequirement already satisfied: spacy<3.1.0,>=3.0.1 in /usr/local/lib/python3.7/dist-packages (from en-ner-bionlp13cg-md==0.4.0) (3.0.8)\n",
            "Requirement already satisfied: pydantic!=1.8,!=1.8.1,<1.9.0,>=1.7.4 in /usr/local/lib/python3.7/dist-packages (from spacy<3.1.0,>=3.0.1->en-ner-bionlp13cg-md==0.4.0) (1.8.2)\n",
            "Requirement already satisfied: preshed<3.1.0,>=3.0.2 in /usr/local/lib/python3.7/dist-packages (from spacy<3.1.0,>=3.0.1->en-ner-bionlp13cg-md==0.4.0) (3.0.6)\n",
            "Requirement already satisfied: setuptools in /usr/local/lib/python3.7/dist-packages (from spacy<3.1.0,>=3.0.1->en-ner-bionlp13cg-md==0.4.0) (57.4.0)\n",
            "Requirement already satisfied: tqdm<5.0.0,>=4.38.0 in /usr/local/lib/python3.7/dist-packages (from spacy<3.1.0,>=3.0.1->en-ner-bionlp13cg-md==0.4.0) (4.64.0)\n",
            "Requirement already satisfied: spacy-legacy<3.1.0,>=3.0.5 in /usr/local/lib/python3.7/dist-packages (from spacy<3.1.0,>=3.0.1->en-ner-bionlp13cg-md==0.4.0) (3.0.9)\n",
            "Requirement already satisfied: thinc<8.1.0,>=8.0.3 in /usr/local/lib/python3.7/dist-packages (from spacy<3.1.0,>=3.0.1->en-ner-bionlp13cg-md==0.4.0) (8.0.17)\n",
            "Requirement already satisfied: catalogue<2.1.0,>=2.0.4 in /usr/local/lib/python3.7/dist-packages (from spacy<3.1.0,>=3.0.1->en-ner-bionlp13cg-md==0.4.0) (2.0.8)\n",
            "Requirement already satisfied: blis<0.8.0,>=0.4.0 in /usr/local/lib/python3.7/dist-packages (from spacy<3.1.0,>=3.0.1->en-ner-bionlp13cg-md==0.4.0) (0.7.8)\n",
            "Requirement already satisfied: murmurhash<1.1.0,>=0.28.0 in /usr/local/lib/python3.7/dist-packages (from spacy<3.1.0,>=3.0.1->en-ner-bionlp13cg-md==0.4.0) (1.0.7)\n",
            "Requirement already satisfied: jinja2 in /usr/local/lib/python3.7/dist-packages (from spacy<3.1.0,>=3.0.1->en-ner-bionlp13cg-md==0.4.0) (2.11.3)\n",
            "Requirement already satisfied: typer<0.4.0,>=0.3.0 in /usr/local/lib/python3.7/dist-packages (from spacy<3.1.0,>=3.0.1->en-ner-bionlp13cg-md==0.4.0) (0.3.2)\n",
            "Requirement already satisfied: srsly<3.0.0,>=2.4.1 in /usr/local/lib/python3.7/dist-packages (from spacy<3.1.0,>=3.0.1->en-ner-bionlp13cg-md==0.4.0) (2.4.4)\n",
            "Requirement already satisfied: packaging>=20.0 in /usr/local/lib/python3.7/dist-packages (from spacy<3.1.0,>=3.0.1->en-ner-bionlp13cg-md==0.4.0) (21.3)\n",
            "Requirement already satisfied: pathy>=0.3.5 in /usr/local/lib/python3.7/dist-packages (from spacy<3.1.0,>=3.0.1->en-ner-bionlp13cg-md==0.4.0) (0.6.2)\n",
            "Requirement already satisfied: wasabi<1.1.0,>=0.8.1 in /usr/local/lib/python3.7/dist-packages (from spacy<3.1.0,>=3.0.1->en-ner-bionlp13cg-md==0.4.0) (0.10.1)\n",
            "Requirement already satisfied: numpy>=1.15.0 in /usr/local/lib/python3.7/dist-packages (from spacy<3.1.0,>=3.0.1->en-ner-bionlp13cg-md==0.4.0) (1.21.6)\n",
            "Requirement already satisfied: requests<3.0.0,>=2.13.0 in /usr/local/lib/python3.7/dist-packages (from spacy<3.1.0,>=3.0.1->en-ner-bionlp13cg-md==0.4.0) (2.23.0)\n",
            "Requirement already satisfied: typing-extensions<4.0.0.0,>=3.7.4 in /usr/local/lib/python3.7/dist-packages (from spacy<3.1.0,>=3.0.1->en-ner-bionlp13cg-md==0.4.0) (3.10.0.2)\n",
            "Requirement already satisfied: cymem<2.1.0,>=2.0.2 in /usr/local/lib/python3.7/dist-packages (from spacy<3.1.0,>=3.0.1->en-ner-bionlp13cg-md==0.4.0) (2.0.6)\n",
            "Requirement already satisfied: zipp>=0.5 in /usr/local/lib/python3.7/dist-packages (from catalogue<2.1.0,>=2.0.4->spacy<3.1.0,>=3.0.1->en-ner-bionlp13cg-md==0.4.0) (3.8.1)\n",
            "Requirement already satisfied: pyparsing!=3.0.5,>=2.0.2 in /usr/local/lib/python3.7/dist-packages (from packaging>=20.0->spacy<3.1.0,>=3.0.1->en-ner-bionlp13cg-md==0.4.0) (3.0.9)\n",
            "Requirement already satisfied: smart-open<6.0.0,>=5.2.1 in /usr/local/lib/python3.7/dist-packages (from pathy>=0.3.5->spacy<3.1.0,>=3.0.1->en-ner-bionlp13cg-md==0.4.0) (5.2.1)\n",
            "Requirement already satisfied: urllib3!=1.25.0,!=1.25.1,<1.26,>=1.21.1 in /usr/local/lib/python3.7/dist-packages (from requests<3.0.0,>=2.13.0->spacy<3.1.0,>=3.0.1->en-ner-bionlp13cg-md==0.4.0) (1.24.3)\n",
            "Requirement already satisfied: chardet<4,>=3.0.2 in /usr/local/lib/python3.7/dist-packages (from requests<3.0.0,>=2.13.0->spacy<3.1.0,>=3.0.1->en-ner-bionlp13cg-md==0.4.0) (3.0.4)\n",
            "Requirement already satisfied: certifi>=2017.4.17 in /usr/local/lib/python3.7/dist-packages (from requests<3.0.0,>=2.13.0->spacy<3.1.0,>=3.0.1->en-ner-bionlp13cg-md==0.4.0) (2022.6.15)\n",
            "Requirement already satisfied: idna<3,>=2.5 in /usr/local/lib/python3.7/dist-packages (from requests<3.0.0,>=2.13.0->spacy<3.1.0,>=3.0.1->en-ner-bionlp13cg-md==0.4.0) (2.10)\n",
            "Requirement already satisfied: click<7.2.0,>=7.1.1 in /usr/local/lib/python3.7/dist-packages (from typer<0.4.0,>=0.3.0->spacy<3.1.0,>=3.0.1->en-ner-bionlp13cg-md==0.4.0) (7.1.2)\n",
            "Requirement already satisfied: MarkupSafe>=0.23 in /usr/local/lib/python3.7/dist-packages (from jinja2->spacy<3.1.0,>=3.0.1->en-ner-bionlp13cg-md==0.4.0) (2.0.1)\n",
            "Building wheels for collected packages: en-ner-bionlp13cg-md\n",
            "  Building wheel for en-ner-bionlp13cg-md (setup.py) ... \u001b[?25l\u001b[?25hdone\n",
            "  Created wheel for en-ner-bionlp13cg-md: filename=en_ner_bionlp13cg_md-0.4.0-py3-none-any.whl size=125679333 sha256=6dc71442f0fd459d764bea1bfa2e473abf834d995003b5bac447dcf2d8e6d54a\n",
            "  Stored in directory: /root/.cache/pip/wheels/dd/33/4a/14c949fd6eac7b0b20f15f111f1d3a2847e26e509d0a184d3d\n",
            "Successfully built en-ner-bionlp13cg-md\n",
            "Installing collected packages: en-ner-bionlp13cg-md\n",
            "Successfully installed en-ner-bionlp13cg-md-0.4.0\n",
            "Looking in indexes: https://pypi.org/simple, https://us-python.pkg.dev/colab-wheels/public/simple/\n",
            "Collecting https://s3-us-west-2.amazonaws.com/ai2-s2-scispacy/releases/v0.4.0/en_core_sci_lg-0.4.0.tar.gz\n",
            "  Downloading https://s3-us-west-2.amazonaws.com/ai2-s2-scispacy/releases/v0.4.0/en_core_sci_lg-0.4.0.tar.gz (538.1 MB)\n",
            "\u001b[K     |████████████████████████████████| 538.1 MB 4.8 kB/s \n",
            "\u001b[?25hRequirement already satisfied: spacy<3.1.0,>=3.0.1 in /usr/local/lib/python3.7/dist-packages (from en-core-sci-lg==0.4.0) (3.0.8)\n",
            "Requirement already satisfied: murmurhash<1.1.0,>=0.28.0 in /usr/local/lib/python3.7/dist-packages (from spacy<3.1.0,>=3.0.1->en-core-sci-lg==0.4.0) (1.0.7)\n",
            "Requirement already satisfied: cymem<2.1.0,>=2.0.2 in /usr/local/lib/python3.7/dist-packages (from spacy<3.1.0,>=3.0.1->en-core-sci-lg==0.4.0) (2.0.6)\n",
            "Requirement already satisfied: typer<0.4.0,>=0.3.0 in /usr/local/lib/python3.7/dist-packages (from spacy<3.1.0,>=3.0.1->en-core-sci-lg==0.4.0) (0.3.2)\n",
            "Requirement already satisfied: thinc<8.1.0,>=8.0.3 in /usr/local/lib/python3.7/dist-packages (from spacy<3.1.0,>=3.0.1->en-core-sci-lg==0.4.0) (8.0.17)\n",
            "Requirement already satisfied: requests<3.0.0,>=2.13.0 in /usr/local/lib/python3.7/dist-packages (from spacy<3.1.0,>=3.0.1->en-core-sci-lg==0.4.0) (2.23.0)\n",
            "Requirement already satisfied: spacy-legacy<3.1.0,>=3.0.5 in /usr/local/lib/python3.7/dist-packages (from spacy<3.1.0,>=3.0.1->en-core-sci-lg==0.4.0) (3.0.9)\n",
            "Requirement already satisfied: preshed<3.1.0,>=3.0.2 in /usr/local/lib/python3.7/dist-packages (from spacy<3.1.0,>=3.0.1->en-core-sci-lg==0.4.0) (3.0.6)\n",
            "Requirement already satisfied: blis<0.8.0,>=0.4.0 in /usr/local/lib/python3.7/dist-packages (from spacy<3.1.0,>=3.0.1->en-core-sci-lg==0.4.0) (0.7.8)\n",
            "Requirement already satisfied: tqdm<5.0.0,>=4.38.0 in /usr/local/lib/python3.7/dist-packages (from spacy<3.1.0,>=3.0.1->en-core-sci-lg==0.4.0) (4.64.0)\n",
            "Requirement already satisfied: packaging>=20.0 in /usr/local/lib/python3.7/dist-packages (from spacy<3.1.0,>=3.0.1->en-core-sci-lg==0.4.0) (21.3)\n",
            "Requirement already satisfied: catalogue<2.1.0,>=2.0.4 in /usr/local/lib/python3.7/dist-packages (from spacy<3.1.0,>=3.0.1->en-core-sci-lg==0.4.0) (2.0.8)\n",
            "Requirement already satisfied: setuptools in /usr/local/lib/python3.7/dist-packages (from spacy<3.1.0,>=3.0.1->en-core-sci-lg==0.4.0) (57.4.0)\n",
            "Requirement already satisfied: typing-extensions<4.0.0.0,>=3.7.4 in /usr/local/lib/python3.7/dist-packages (from spacy<3.1.0,>=3.0.1->en-core-sci-lg==0.4.0) (3.10.0.2)\n",
            "Requirement already satisfied: srsly<3.0.0,>=2.4.1 in /usr/local/lib/python3.7/dist-packages (from spacy<3.1.0,>=3.0.1->en-core-sci-lg==0.4.0) (2.4.4)\n",
            "Requirement already satisfied: wasabi<1.1.0,>=0.8.1 in /usr/local/lib/python3.7/dist-packages (from spacy<3.1.0,>=3.0.1->en-core-sci-lg==0.4.0) (0.10.1)\n",
            "Requirement already satisfied: jinja2 in /usr/local/lib/python3.7/dist-packages (from spacy<3.1.0,>=3.0.1->en-core-sci-lg==0.4.0) (2.11.3)\n",
            "Requirement already satisfied: numpy>=1.15.0 in /usr/local/lib/python3.7/dist-packages (from spacy<3.1.0,>=3.0.1->en-core-sci-lg==0.4.0) (1.21.6)\n",
            "Requirement already satisfied: pathy>=0.3.5 in /usr/local/lib/python3.7/dist-packages (from spacy<3.1.0,>=3.0.1->en-core-sci-lg==0.4.0) (0.6.2)\n",
            "Requirement already satisfied: pydantic!=1.8,!=1.8.1,<1.9.0,>=1.7.4 in /usr/local/lib/python3.7/dist-packages (from spacy<3.1.0,>=3.0.1->en-core-sci-lg==0.4.0) (1.8.2)\n",
            "Requirement already satisfied: zipp>=0.5 in /usr/local/lib/python3.7/dist-packages (from catalogue<2.1.0,>=2.0.4->spacy<3.1.0,>=3.0.1->en-core-sci-lg==0.4.0) (3.8.1)\n",
            "Requirement already satisfied: pyparsing!=3.0.5,>=2.0.2 in /usr/local/lib/python3.7/dist-packages (from packaging>=20.0->spacy<3.1.0,>=3.0.1->en-core-sci-lg==0.4.0) (3.0.9)\n",
            "Requirement already satisfied: smart-open<6.0.0,>=5.2.1 in /usr/local/lib/python3.7/dist-packages (from pathy>=0.3.5->spacy<3.1.0,>=3.0.1->en-core-sci-lg==0.4.0) (5.2.1)\n",
            "Requirement already satisfied: idna<3,>=2.5 in /usr/local/lib/python3.7/dist-packages (from requests<3.0.0,>=2.13.0->spacy<3.1.0,>=3.0.1->en-core-sci-lg==0.4.0) (2.10)\n",
            "Requirement already satisfied: certifi>=2017.4.17 in /usr/local/lib/python3.7/dist-packages (from requests<3.0.0,>=2.13.0->spacy<3.1.0,>=3.0.1->en-core-sci-lg==0.4.0) (2022.6.15)\n",
            "Requirement already satisfied: chardet<4,>=3.0.2 in /usr/local/lib/python3.7/dist-packages (from requests<3.0.0,>=2.13.0->spacy<3.1.0,>=3.0.1->en-core-sci-lg==0.4.0) (3.0.4)\n",
            "Requirement already satisfied: urllib3!=1.25.0,!=1.25.1,<1.26,>=1.21.1 in /usr/local/lib/python3.7/dist-packages (from requests<3.0.0,>=2.13.0->spacy<3.1.0,>=3.0.1->en-core-sci-lg==0.4.0) (1.24.3)\n",
            "Requirement already satisfied: click<7.2.0,>=7.1.1 in /usr/local/lib/python3.7/dist-packages (from typer<0.4.0,>=0.3.0->spacy<3.1.0,>=3.0.1->en-core-sci-lg==0.4.0) (7.1.2)\n",
            "Requirement already satisfied: MarkupSafe>=0.23 in /usr/local/lib/python3.7/dist-packages (from jinja2->spacy<3.1.0,>=3.0.1->en-core-sci-lg==0.4.0) (2.0.1)\n",
            "Building wheels for collected packages: en-core-sci-lg\n",
            "  Building wheel for en-core-sci-lg (setup.py) ... \u001b[?25l\u001b[?25hdone\n",
            "  Created wheel for en-core-sci-lg: filename=en_core_sci_lg-0.4.0-py3-none-any.whl size=538899689 sha256=ad4d91216075db20b974a1bac12672a3c72aa284139719257fd08d4f94357231\n",
            "  Stored in directory: /root/.cache/pip/wheels/87/6f/e6/a51909709009e9a36e5385cff94257a7fc036ff2f9670e71f8\n",
            "Successfully built en-core-sci-lg\n",
            "Installing collected packages: en-core-sci-lg\n",
            "Successfully installed en-core-sci-lg-0.4.0\n"
          ]
        }
      ]
    },
    {
      "cell_type": "code",
      "source": [
        "import scispacy\n",
        "import spacy\n",
        "\n",
        "#Core models\n",
        "import en_core_sci_sm\n",
        "import en_core_sci_lg\n",
        "\n",
        "#NER specific models\n",
        "import en_ner_craft_md\n",
        "import en_ner_bc5cdr_md\n",
        "import en_ner_jnlpba_md\n",
        "import en_ner_bionlp13cg_md\n",
        "\n",
        "#Tools for extracting & displaying data\n",
        "from spacy import displacy\n",
        "import pandas as pd"
      ],
      "metadata": {
        "id": "yikwS9kh9-0M"
      },
      "id": "yikwS9kh9-0M",
      "execution_count": 48,
      "outputs": []
    },
    {
      "cell_type": "code",
      "source": [
        "#Load specific model and pass text through\n",
        "nlp = en_core_sci_lg.load()"
      ],
      "metadata": {
        "id": "oCLBN8oeAf6H"
      },
      "id": "oCLBN8oeAf6H",
      "execution_count": 49,
      "outputs": []
    },
    {
      "cell_type": "markdown",
      "source": [
        "use spacy nlp to get informations from the drug names which with null index"
      ],
      "metadata": {
        "id": "bre13bgIMsJJ"
      },
      "id": "bre13bgIMsJJ"
    },
    {
      "cell_type": "code",
      "source": [
        "DatadrugOutDataName = []\n",
        "for nullindex in nullindexlist:\n",
        "  tempdrugname = OrgDataDirtyNameIndexDel[nullindex]\n",
        "  tempdrugname_str = str(' '.join(tempdrugname))\n",
        "  doc = nlp(tempdrugname_str)\n",
        "  temptext = doc.text\n",
        "  DatadrugOutDataName.append(temptext)"
      ],
      "metadata": {
        "id": "a-4AUg5PAfvU"
      },
      "id": "a-4AUg5PAfvU",
      "execution_count": 50,
      "outputs": []
    },
    {
      "cell_type": "code",
      "source": [
        "drugOutDataNameNullNumber = 0\n",
        "\n",
        "for i in DatadrugOutDataName:\n",
        "  if not i:\n",
        "    drugOutDataNameNullNumber += 1"
      ],
      "metadata": {
        "id": "AoSCQuNkAesz"
      },
      "id": "AoSCQuNkAesz",
      "execution_count": 51,
      "outputs": []
    },
    {
      "cell_type": "markdown",
      "source": [
        "the number of drug name which are still null"
      ],
      "metadata": {
        "id": "27CUwK5vM5HK"
      },
      "id": "27CUwK5vM5HK"
    },
    {
      "cell_type": "code",
      "source": [
        "drugOutDataNameNullNumber"
      ],
      "metadata": {
        "colab": {
          "base_uri": "https://localhost:8080/"
        },
        "id": "V8Lu5snrAel_",
        "outputId": "5a83e156-1a4f-4277-8f1d-ed9e1ef7dbe9"
      },
      "id": "V8Lu5snrAel_",
      "execution_count": 52,
      "outputs": [
        {
          "output_type": "execute_result",
          "data": {
            "text/plain": [
              "0"
            ]
          },
          "metadata": {},
          "execution_count": 52
        }
      ]
    },
    {
      "cell_type": "code",
      "source": [
        "# for these null element in list, use Chile1drugOutDataName to complete them\n",
        "j = 0\n",
        "for i in nullindexlist:\n",
        "  DatafinIndex[i] = DatadrugOutDataName[j]\n",
        "  j += 1"
      ],
      "metadata": {
        "id": "0KQW4-a8zkKG"
      },
      "id": "0KQW4-a8zkKG",
      "execution_count": 53,
      "outputs": []
    },
    {
      "cell_type": "code",
      "source": [
        "for index in range(len(DatafinIndex)):\n",
        "  if not DatafinIndex[index]:\n",
        "    DatafinIndex[index] = OrgDataDirtyNameIndexDel[index]"
      ],
      "metadata": {
        "id": "VrciuJIlzkH9"
      },
      "id": "VrciuJIlzkH9",
      "execution_count": 54,
      "outputs": []
    },
    {
      "cell_type": "code",
      "source": [
        "nullindex = []\n",
        "for index in range(len(DatafinIndex)):\n",
        "  if not DatafinIndex[index]:\n",
        "    nullindex.append(index)"
      ],
      "metadata": {
        "id": "HAnoRWpXzkDu"
      },
      "id": "HAnoRWpXzkDu",
      "execution_count": 55,
      "outputs": []
    },
    {
      "cell_type": "code",
      "source": [
        "nullindex"
      ],
      "metadata": {
        "colab": {
          "base_uri": "https://localhost:8080/"
        },
        "id": "xahSAZpwzkAY",
        "outputId": "c1e293d5-faa9-47ef-b376-4b422f36a884"
      },
      "id": "xahSAZpwzkAY",
      "execution_count": 56,
      "outputs": [
        {
          "output_type": "execute_result",
          "data": {
            "text/plain": [
              "[]"
            ]
          },
          "metadata": {},
          "execution_count": 56
        }
      ]
    },
    {
      "cell_type": "code",
      "source": [
        "PreList = []\n",
        "\n",
        "for item in OrgDataDirtyNameIndexDel:\n",
        "  addlist = []\n",
        "  for subitem in item:\n",
        "    if subitem in PresentationDiction2:\n",
        "      addlist.append(subitem)\n",
        "  PreList.append(list(set(addlist)))"
      ],
      "metadata": {
        "id": "to5KY3Wwzj6C"
      },
      "id": "to5KY3Wwzj6C",
      "execution_count": 57,
      "outputs": []
    },
    {
      "cell_type": "code",
      "source": [
        "WeightList = []\n",
        "\n",
        "for item in OrgDataDirtyNameIndexDel:\n",
        "  addlist = []\n",
        "  for subitem in range(0, len(item)):\n",
        "    if item[subitem].isdigit():\n",
        "      if subitem + 1 < len(item):\n",
        "        if item[subitem + 1].lower() in ['mg', 'ml']:\n",
        "          addlist.append(item[subitem])\n",
        "          addlist.append(item[subitem + 1])\n",
        "  WeightList.append(list(set(addlist)))"
      ],
      "metadata": {
        "id": "FOGuKxz40DEs"
      },
      "id": "FOGuKxz40DEs",
      "execution_count": 58,
      "outputs": []
    },
    {
      "cell_type": "code",
      "source": [
        "print(len(DatafinIndex), len(PreList), len(WeightList))"
      ],
      "metadata": {
        "colab": {
          "base_uri": "https://localhost:8080/"
        },
        "id": "9SwrvfkQ0DBc",
        "outputId": "f737cdd4-4fe9-4ffd-8594-e3adbfb41192"
      },
      "id": "9SwrvfkQ0DBc",
      "execution_count": 59,
      "outputs": [
        {
          "output_type": "stream",
          "name": "stdout",
          "text": [
            "1959 1959 1959\n"
          ]
        }
      ]
    },
    {
      "cell_type": "code",
      "source": [
        "# for catalog name index dataframe, transform list to string\n",
        "str_DatafinIndex = []\n",
        "for item in DatafinIndex:\n",
        "  if not isinstance(item, str):\n",
        "    addsub = []\n",
        "    for subitem in item:\n",
        "      if subitem:\n",
        "        addsub.append(subitem)\n",
        "        newitem = ' '.join(addsub)\n",
        "  else:\n",
        "    newitem = item\n",
        "\n",
        "  str_DatafinIndex.append(newitem)"
      ],
      "metadata": {
        "id": "HPtgEE010C8q"
      },
      "id": "HPtgEE010C8q",
      "execution_count": 60,
      "outputs": []
    },
    {
      "cell_type": "code",
      "source": [
        "str_DatafinIndex[:4]"
      ],
      "metadata": {
        "colab": {
          "base_uri": "https://localhost:8080/"
        },
        "id": "OaAufo2x0C3x",
        "outputId": "8de86a87-4cd5-4af1-f11a-a922418d3a1d"
      },
      "id": "OaAufo2x0C3x",
      "execution_count": 61,
      "outputs": [
        {
          "output_type": "execute_result",
          "data": {
            "text/plain": [
              "['CAPTOPRIL', 'CARVEDILOL', 'ATORVASTATIN', 'IRBESARTAN']"
            ]
          },
          "metadata": {},
          "execution_count": 61
        }
      ]
    },
    {
      "cell_type": "code",
      "source": [
        "str_PreList = []\n",
        "\n",
        "for item in PreList:\n",
        "  newitem = ' '.join(item)\n",
        "  str_PreList.append(newitem)"
      ],
      "metadata": {
        "id": "QnyMDZ-x1eiE"
      },
      "id": "QnyMDZ-x1eiE",
      "execution_count": 62,
      "outputs": []
    },
    {
      "cell_type": "code",
      "source": [
        "str_WeightList = []\n",
        "\n",
        "for item in WeightList:\n",
        "  newitem = ' '.join(item)\n",
        "  str_WeightList.append(newitem)"
      ],
      "metadata": {
        "id": "R1UGD_jw1efa"
      },
      "id": "R1UGD_jw1efa",
      "execution_count": 63,
      "outputs": []
    },
    {
      "cell_type": "code",
      "source": [
        "DrugDataWrite = {\"DOMComprasCardio Dirty Name English\": OrgDataDirtyNameUEng, \"Final Drug Index\": str_DatafinIndex, \"Presentation Form\": str_PreList, \"Weight\": str_WeightList}\n"
      ],
      "metadata": {
        "id": "CNjQqgEX1ebf"
      },
      "id": "CNjQqgEX1ebf",
      "execution_count": 64,
      "outputs": []
    },
    {
      "cell_type": "code",
      "source": [
        "DrugDataWrite_df = pd.DataFrame(DrugDataWrite)"
      ],
      "metadata": {
        "id": "IDiZKTpE1eXH"
      },
      "id": "IDiZKTpE1eXH",
      "execution_count": 65,
      "outputs": []
    },
    {
      "cell_type": "code",
      "source": [
        "DrugDataWrite_df"
      ],
      "metadata": {
        "colab": {
          "base_uri": "https://localhost:8080/",
          "height": 468
        },
        "id": "n9cNxLCl1eOw",
        "outputId": "575d42f1-141d-439e-92e9-c229467ceb16"
      },
      "id": "n9cNxLCl1eOw",
      "execution_count": 66,
      "outputs": [
        {
          "output_type": "execute_result",
          "data": {
            "text/plain": [
              "                    DOMComprasCardio Dirty Name English  \\\n",
              "0                                   CAPTOPRIL\\t25MG TAB   \n",
              "1                                    CARVEDILOL 12.5 MG   \n",
              "2                   ATORVASTATIN 20MG BOX OF 10 TABLETS   \n",
              "3         IRBESARTAN 300 MG + AMLODIPINA 10 MG X 30 TAB   \n",
              "4                         ATENOLOL 100 MG / V.O TABLETS   \n",
              "...                                                 ...   \n",
              "1954                                LOSARTAN 100MG ALFA   \n",
              "1955                                   METILDOPA 250 MG   \n",
              "1956           ATORVASTATIN 10MG BOX OF 10 SUED TABLETS   \n",
              "1957                                          CAPTOPRIL   \n",
              "1958  Atorvastatin 20 yg / Perindopril 10 yg / Amlod...   \n",
              "\n",
              "                         Final Drug Index Presentation Form Weight  \n",
              "0                               CAPTOPRIL                           \n",
              "1                              CARVEDILOL                           \n",
              "2                            ATORVASTATIN                           \n",
              "3                              IRBESARTAN                           \n",
              "4                                ATENOLOL                           \n",
              "...                                   ...               ...    ...  \n",
              "1954                             LOSARTAN                           \n",
              "1955                            METILDOPA                           \n",
              "1956                         ATORVASTATIN                           \n",
              "1957                            CAPTOPRIL                           \n",
              "1958  Atorvastatin Perindopril Amlodipine                           \n",
              "\n",
              "[1959 rows x 4 columns]"
            ],
            "text/html": [
              "\n",
              "  <div id=\"df-bcc894ff-6c97-4ce6-8632-337f07ba3e1f\">\n",
              "    <div class=\"colab-df-container\">\n",
              "      <div>\n",
              "<style scoped>\n",
              "    .dataframe tbody tr th:only-of-type {\n",
              "        vertical-align: middle;\n",
              "    }\n",
              "\n",
              "    .dataframe tbody tr th {\n",
              "        vertical-align: top;\n",
              "    }\n",
              "\n",
              "    .dataframe thead th {\n",
              "        text-align: right;\n",
              "    }\n",
              "</style>\n",
              "<table border=\"1\" class=\"dataframe\">\n",
              "  <thead>\n",
              "    <tr style=\"text-align: right;\">\n",
              "      <th></th>\n",
              "      <th>DOMComprasCardio Dirty Name English</th>\n",
              "      <th>Final Drug Index</th>\n",
              "      <th>Presentation Form</th>\n",
              "      <th>Weight</th>\n",
              "    </tr>\n",
              "  </thead>\n",
              "  <tbody>\n",
              "    <tr>\n",
              "      <th>0</th>\n",
              "      <td>CAPTOPRIL\\t25MG TAB</td>\n",
              "      <td>CAPTOPRIL</td>\n",
              "      <td></td>\n",
              "      <td></td>\n",
              "    </tr>\n",
              "    <tr>\n",
              "      <th>1</th>\n",
              "      <td>CARVEDILOL 12.5 MG</td>\n",
              "      <td>CARVEDILOL</td>\n",
              "      <td></td>\n",
              "      <td></td>\n",
              "    </tr>\n",
              "    <tr>\n",
              "      <th>2</th>\n",
              "      <td>ATORVASTATIN 20MG BOX OF 10 TABLETS</td>\n",
              "      <td>ATORVASTATIN</td>\n",
              "      <td></td>\n",
              "      <td></td>\n",
              "    </tr>\n",
              "    <tr>\n",
              "      <th>3</th>\n",
              "      <td>IRBESARTAN 300 MG + AMLODIPINA 10 MG X 30 TAB</td>\n",
              "      <td>IRBESARTAN</td>\n",
              "      <td></td>\n",
              "      <td></td>\n",
              "    </tr>\n",
              "    <tr>\n",
              "      <th>4</th>\n",
              "      <td>ATENOLOL 100 MG / V.O TABLETS</td>\n",
              "      <td>ATENOLOL</td>\n",
              "      <td></td>\n",
              "      <td></td>\n",
              "    </tr>\n",
              "    <tr>\n",
              "      <th>...</th>\n",
              "      <td>...</td>\n",
              "      <td>...</td>\n",
              "      <td>...</td>\n",
              "      <td>...</td>\n",
              "    </tr>\n",
              "    <tr>\n",
              "      <th>1954</th>\n",
              "      <td>LOSARTAN 100MG ALFA</td>\n",
              "      <td>LOSARTAN</td>\n",
              "      <td></td>\n",
              "      <td></td>\n",
              "    </tr>\n",
              "    <tr>\n",
              "      <th>1955</th>\n",
              "      <td>METILDOPA 250 MG</td>\n",
              "      <td>METILDOPA</td>\n",
              "      <td></td>\n",
              "      <td></td>\n",
              "    </tr>\n",
              "    <tr>\n",
              "      <th>1956</th>\n",
              "      <td>ATORVASTATIN 10MG BOX OF 10 SUED TABLETS</td>\n",
              "      <td>ATORVASTATIN</td>\n",
              "      <td></td>\n",
              "      <td></td>\n",
              "    </tr>\n",
              "    <tr>\n",
              "      <th>1957</th>\n",
              "      <td>CAPTOPRIL</td>\n",
              "      <td>CAPTOPRIL</td>\n",
              "      <td></td>\n",
              "      <td></td>\n",
              "    </tr>\n",
              "    <tr>\n",
              "      <th>1958</th>\n",
              "      <td>Atorvastatin 20 yg / Perindopril 10 yg / Amlod...</td>\n",
              "      <td>Atorvastatin Perindopril Amlodipine</td>\n",
              "      <td></td>\n",
              "      <td></td>\n",
              "    </tr>\n",
              "  </tbody>\n",
              "</table>\n",
              "<p>1959 rows × 4 columns</p>\n",
              "</div>\n",
              "      <button class=\"colab-df-convert\" onclick=\"convertToInteractive('df-bcc894ff-6c97-4ce6-8632-337f07ba3e1f')\"\n",
              "              title=\"Convert this dataframe to an interactive table.\"\n",
              "              style=\"display:none;\">\n",
              "        \n",
              "  <svg xmlns=\"http://www.w3.org/2000/svg\" height=\"24px\"viewBox=\"0 0 24 24\"\n",
              "       width=\"24px\">\n",
              "    <path d=\"M0 0h24v24H0V0z\" fill=\"none\"/>\n",
              "    <path d=\"M18.56 5.44l.94 2.06.94-2.06 2.06-.94-2.06-.94-.94-2.06-.94 2.06-2.06.94zm-11 1L8.5 8.5l.94-2.06 2.06-.94-2.06-.94L8.5 2.5l-.94 2.06-2.06.94zm10 10l.94 2.06.94-2.06 2.06-.94-2.06-.94-.94-2.06-.94 2.06-2.06.94z\"/><path d=\"M17.41 7.96l-1.37-1.37c-.4-.4-.92-.59-1.43-.59-.52 0-1.04.2-1.43.59L10.3 9.45l-7.72 7.72c-.78.78-.78 2.05 0 2.83L4 21.41c.39.39.9.59 1.41.59.51 0 1.02-.2 1.41-.59l7.78-7.78 2.81-2.81c.8-.78.8-2.07 0-2.86zM5.41 20L4 18.59l7.72-7.72 1.47 1.35L5.41 20z\"/>\n",
              "  </svg>\n",
              "      </button>\n",
              "      \n",
              "  <style>\n",
              "    .colab-df-container {\n",
              "      display:flex;\n",
              "      flex-wrap:wrap;\n",
              "      gap: 12px;\n",
              "    }\n",
              "\n",
              "    .colab-df-convert {\n",
              "      background-color: #E8F0FE;\n",
              "      border: none;\n",
              "      border-radius: 50%;\n",
              "      cursor: pointer;\n",
              "      display: none;\n",
              "      fill: #1967D2;\n",
              "      height: 32px;\n",
              "      padding: 0 0 0 0;\n",
              "      width: 32px;\n",
              "    }\n",
              "\n",
              "    .colab-df-convert:hover {\n",
              "      background-color: #E2EBFA;\n",
              "      box-shadow: 0px 1px 2px rgba(60, 64, 67, 0.3), 0px 1px 3px 1px rgba(60, 64, 67, 0.15);\n",
              "      fill: #174EA6;\n",
              "    }\n",
              "\n",
              "    [theme=dark] .colab-df-convert {\n",
              "      background-color: #3B4455;\n",
              "      fill: #D2E3FC;\n",
              "    }\n",
              "\n",
              "    [theme=dark] .colab-df-convert:hover {\n",
              "      background-color: #434B5C;\n",
              "      box-shadow: 0px 1px 3px 1px rgba(0, 0, 0, 0.15);\n",
              "      filter: drop-shadow(0px 1px 2px rgba(0, 0, 0, 0.3));\n",
              "      fill: #FFFFFF;\n",
              "    }\n",
              "  </style>\n",
              "\n",
              "      <script>\n",
              "        const buttonEl =\n",
              "          document.querySelector('#df-bcc894ff-6c97-4ce6-8632-337f07ba3e1f button.colab-df-convert');\n",
              "        buttonEl.style.display =\n",
              "          google.colab.kernel.accessAllowed ? 'block' : 'none';\n",
              "\n",
              "        async function convertToInteractive(key) {\n",
              "          const element = document.querySelector('#df-bcc894ff-6c97-4ce6-8632-337f07ba3e1f');\n",
              "          const dataTable =\n",
              "            await google.colab.kernel.invokeFunction('convertToInteractive',\n",
              "                                                     [key], {});\n",
              "          if (!dataTable) return;\n",
              "\n",
              "          const docLinkHtml = 'Like what you see? Visit the ' +\n",
              "            '<a target=\"_blank\" href=https://colab.research.google.com/notebooks/data_table.ipynb>data table notebook</a>'\n",
              "            + ' to learn more about interactive tables.';\n",
              "          element.innerHTML = '';\n",
              "          dataTable['output_type'] = 'display_data';\n",
              "          await google.colab.output.renderOutput(dataTable, element);\n",
              "          const docLink = document.createElement('div');\n",
              "          docLink.innerHTML = docLinkHtml;\n",
              "          element.appendChild(docLink);\n",
              "        }\n",
              "      </script>\n",
              "    </div>\n",
              "  </div>\n",
              "  "
            ]
          },
          "metadata": {},
          "execution_count": 66
        }
      ]
    },
    {
      "cell_type": "code",
      "source": [
        "DrugDataWrite_df.to_excel(\"DOMComprasCardio (Write).xlsx\", sheet_name = 'DOMComprasCardio')  "
      ],
      "metadata": {
        "id": "ryJR6Q6j15ci"
      },
      "id": "ryJR6Q6j15ci",
      "execution_count": 67,
      "outputs": []
    },
    {
      "cell_type": "markdown",
      "source": [
        "## Part 4: Use Final Drug Index Map With Catalog Name Index"
      ],
      "metadata": {
        "id": "FJId2pYXN6uu"
      },
      "id": "FJId2pYXN6uu"
    },
    {
      "cell_type": "code",
      "source": [
        "!pip install simhash\n",
        "\n",
        "from simhash import Simhash"
      ],
      "metadata": {
        "id": "rNFTNfdW5fs5",
        "colab": {
          "base_uri": "https://localhost:8080/"
        },
        "outputId": "ba6a67f9-bd84-45ca-e67c-f1c508f41412"
      },
      "id": "rNFTNfdW5fs5",
      "execution_count": 68,
      "outputs": [
        {
          "output_type": "stream",
          "name": "stdout",
          "text": [
            "Looking in indexes: https://pypi.org/simple, https://us-python.pkg.dev/colab-wheels/public/simple/\n",
            "Collecting simhash\n",
            "  Downloading simhash-2.1.2-py3-none-any.whl (4.7 kB)\n",
            "Requirement already satisfied: numpy in /usr/local/lib/python3.7/dist-packages (from simhash) (1.21.6)\n",
            "Installing collected packages: simhash\n",
            "Successfully installed simhash-2.1.2\n"
          ]
        }
      ]
    },
    {
      "cell_type": "code",
      "source": [
        "PairIndexData = {\"drug names\": OrgDataDirtyNameUEng, \"Catalog Index\": str_DatafinIndex}"
      ],
      "metadata": {
        "id": "FAwQ95oO5flK"
      },
      "id": "FAwQ95oO5flK",
      "execution_count": 69,
      "outputs": []
    },
    {
      "cell_type": "code",
      "source": [
        "PairIndexData_df = pd.DataFrame(PairIndexData)"
      ],
      "metadata": {
        "id": "gi-245qE5feu"
      },
      "id": "gi-245qE5feu",
      "execution_count": 70,
      "outputs": []
    },
    {
      "cell_type": "code",
      "source": [
        "PairIndexData_df"
      ],
      "metadata": {
        "id": "hc95tb-P5fa2",
        "colab": {
          "base_uri": "https://localhost:8080/",
          "height": 424
        },
        "outputId": "e7f5c9bc-631b-4f71-d41f-7108f8694917"
      },
      "id": "hc95tb-P5fa2",
      "execution_count": 71,
      "outputs": [
        {
          "output_type": "execute_result",
          "data": {
            "text/plain": [
              "                                             drug names  \\\n",
              "0                                   CAPTOPRIL\\t25MG TAB   \n",
              "1                                    CARVEDILOL 12.5 MG   \n",
              "2                   ATORVASTATIN 20MG BOX OF 10 TABLETS   \n",
              "3         IRBESARTAN 300 MG + AMLODIPINA 10 MG X 30 TAB   \n",
              "4                         ATENOLOL 100 MG / V.O TABLETS   \n",
              "...                                                 ...   \n",
              "1954                                LOSARTAN 100MG ALFA   \n",
              "1955                                   METILDOPA 250 MG   \n",
              "1956           ATORVASTATIN 10MG BOX OF 10 SUED TABLETS   \n",
              "1957                                          CAPTOPRIL   \n",
              "1958  Atorvastatin 20 yg / Perindopril 10 yg / Amlod...   \n",
              "\n",
              "                            Catalog Index  \n",
              "0                               CAPTOPRIL  \n",
              "1                              CARVEDILOL  \n",
              "2                            ATORVASTATIN  \n",
              "3                              IRBESARTAN  \n",
              "4                                ATENOLOL  \n",
              "...                                   ...  \n",
              "1954                             LOSARTAN  \n",
              "1955                            METILDOPA  \n",
              "1956                         ATORVASTATIN  \n",
              "1957                            CAPTOPRIL  \n",
              "1958  Atorvastatin Perindopril Amlodipine  \n",
              "\n",
              "[1959 rows x 2 columns]"
            ],
            "text/html": [
              "\n",
              "  <div id=\"df-9f40f690-defe-4a37-ace6-db72cbe86a04\">\n",
              "    <div class=\"colab-df-container\">\n",
              "      <div>\n",
              "<style scoped>\n",
              "    .dataframe tbody tr th:only-of-type {\n",
              "        vertical-align: middle;\n",
              "    }\n",
              "\n",
              "    .dataframe tbody tr th {\n",
              "        vertical-align: top;\n",
              "    }\n",
              "\n",
              "    .dataframe thead th {\n",
              "        text-align: right;\n",
              "    }\n",
              "</style>\n",
              "<table border=\"1\" class=\"dataframe\">\n",
              "  <thead>\n",
              "    <tr style=\"text-align: right;\">\n",
              "      <th></th>\n",
              "      <th>drug names</th>\n",
              "      <th>Catalog Index</th>\n",
              "    </tr>\n",
              "  </thead>\n",
              "  <tbody>\n",
              "    <tr>\n",
              "      <th>0</th>\n",
              "      <td>CAPTOPRIL\\t25MG TAB</td>\n",
              "      <td>CAPTOPRIL</td>\n",
              "    </tr>\n",
              "    <tr>\n",
              "      <th>1</th>\n",
              "      <td>CARVEDILOL 12.5 MG</td>\n",
              "      <td>CARVEDILOL</td>\n",
              "    </tr>\n",
              "    <tr>\n",
              "      <th>2</th>\n",
              "      <td>ATORVASTATIN 20MG BOX OF 10 TABLETS</td>\n",
              "      <td>ATORVASTATIN</td>\n",
              "    </tr>\n",
              "    <tr>\n",
              "      <th>3</th>\n",
              "      <td>IRBESARTAN 300 MG + AMLODIPINA 10 MG X 30 TAB</td>\n",
              "      <td>IRBESARTAN</td>\n",
              "    </tr>\n",
              "    <tr>\n",
              "      <th>4</th>\n",
              "      <td>ATENOLOL 100 MG / V.O TABLETS</td>\n",
              "      <td>ATENOLOL</td>\n",
              "    </tr>\n",
              "    <tr>\n",
              "      <th>...</th>\n",
              "      <td>...</td>\n",
              "      <td>...</td>\n",
              "    </tr>\n",
              "    <tr>\n",
              "      <th>1954</th>\n",
              "      <td>LOSARTAN 100MG ALFA</td>\n",
              "      <td>LOSARTAN</td>\n",
              "    </tr>\n",
              "    <tr>\n",
              "      <th>1955</th>\n",
              "      <td>METILDOPA 250 MG</td>\n",
              "      <td>METILDOPA</td>\n",
              "    </tr>\n",
              "    <tr>\n",
              "      <th>1956</th>\n",
              "      <td>ATORVASTATIN 10MG BOX OF 10 SUED TABLETS</td>\n",
              "      <td>ATORVASTATIN</td>\n",
              "    </tr>\n",
              "    <tr>\n",
              "      <th>1957</th>\n",
              "      <td>CAPTOPRIL</td>\n",
              "      <td>CAPTOPRIL</td>\n",
              "    </tr>\n",
              "    <tr>\n",
              "      <th>1958</th>\n",
              "      <td>Atorvastatin 20 yg / Perindopril 10 yg / Amlod...</td>\n",
              "      <td>Atorvastatin Perindopril Amlodipine</td>\n",
              "    </tr>\n",
              "  </tbody>\n",
              "</table>\n",
              "<p>1959 rows × 2 columns</p>\n",
              "</div>\n",
              "      <button class=\"colab-df-convert\" onclick=\"convertToInteractive('df-9f40f690-defe-4a37-ace6-db72cbe86a04')\"\n",
              "              title=\"Convert this dataframe to an interactive table.\"\n",
              "              style=\"display:none;\">\n",
              "        \n",
              "  <svg xmlns=\"http://www.w3.org/2000/svg\" height=\"24px\"viewBox=\"0 0 24 24\"\n",
              "       width=\"24px\">\n",
              "    <path d=\"M0 0h24v24H0V0z\" fill=\"none\"/>\n",
              "    <path d=\"M18.56 5.44l.94 2.06.94-2.06 2.06-.94-2.06-.94-.94-2.06-.94 2.06-2.06.94zm-11 1L8.5 8.5l.94-2.06 2.06-.94-2.06-.94L8.5 2.5l-.94 2.06-2.06.94zm10 10l.94 2.06.94-2.06 2.06-.94-2.06-.94-.94-2.06-.94 2.06-2.06.94z\"/><path d=\"M17.41 7.96l-1.37-1.37c-.4-.4-.92-.59-1.43-.59-.52 0-1.04.2-1.43.59L10.3 9.45l-7.72 7.72c-.78.78-.78 2.05 0 2.83L4 21.41c.39.39.9.59 1.41.59.51 0 1.02-.2 1.41-.59l7.78-7.78 2.81-2.81c.8-.78.8-2.07 0-2.86zM5.41 20L4 18.59l7.72-7.72 1.47 1.35L5.41 20z\"/>\n",
              "  </svg>\n",
              "      </button>\n",
              "      \n",
              "  <style>\n",
              "    .colab-df-container {\n",
              "      display:flex;\n",
              "      flex-wrap:wrap;\n",
              "      gap: 12px;\n",
              "    }\n",
              "\n",
              "    .colab-df-convert {\n",
              "      background-color: #E8F0FE;\n",
              "      border: none;\n",
              "      border-radius: 50%;\n",
              "      cursor: pointer;\n",
              "      display: none;\n",
              "      fill: #1967D2;\n",
              "      height: 32px;\n",
              "      padding: 0 0 0 0;\n",
              "      width: 32px;\n",
              "    }\n",
              "\n",
              "    .colab-df-convert:hover {\n",
              "      background-color: #E2EBFA;\n",
              "      box-shadow: 0px 1px 2px rgba(60, 64, 67, 0.3), 0px 1px 3px 1px rgba(60, 64, 67, 0.15);\n",
              "      fill: #174EA6;\n",
              "    }\n",
              "\n",
              "    [theme=dark] .colab-df-convert {\n",
              "      background-color: #3B4455;\n",
              "      fill: #D2E3FC;\n",
              "    }\n",
              "\n",
              "    [theme=dark] .colab-df-convert:hover {\n",
              "      background-color: #434B5C;\n",
              "      box-shadow: 0px 1px 3px 1px rgba(0, 0, 0, 0.15);\n",
              "      filter: drop-shadow(0px 1px 2px rgba(0, 0, 0, 0.3));\n",
              "      fill: #FFFFFF;\n",
              "    }\n",
              "  </style>\n",
              "\n",
              "      <script>\n",
              "        const buttonEl =\n",
              "          document.querySelector('#df-9f40f690-defe-4a37-ace6-db72cbe86a04 button.colab-df-convert');\n",
              "        buttonEl.style.display =\n",
              "          google.colab.kernel.accessAllowed ? 'block' : 'none';\n",
              "\n",
              "        async function convertToInteractive(key) {\n",
              "          const element = document.querySelector('#df-9f40f690-defe-4a37-ace6-db72cbe86a04');\n",
              "          const dataTable =\n",
              "            await google.colab.kernel.invokeFunction('convertToInteractive',\n",
              "                                                     [key], {});\n",
              "          if (!dataTable) return;\n",
              "\n",
              "          const docLinkHtml = 'Like what you see? Visit the ' +\n",
              "            '<a target=\"_blank\" href=https://colab.research.google.com/notebooks/data_table.ipynb>data table notebook</a>'\n",
              "            + ' to learn more about interactive tables.';\n",
              "          element.innerHTML = '';\n",
              "          dataTable['output_type'] = 'display_data';\n",
              "          await google.colab.output.renderOutput(dataTable, element);\n",
              "          const docLink = document.createElement('div');\n",
              "          docLink.innerHTML = docLinkHtml;\n",
              "          element.appendChild(docLink);\n",
              "        }\n",
              "      </script>\n",
              "    </div>\n",
              "  </div>\n",
              "  "
            ]
          },
          "metadata": {},
          "execution_count": 71
        }
      ]
    },
    {
      "cell_type": "markdown",
      "source": [
        "## Part 5: combine the drug name index pair data frame and full catagol name index data frame to get the result"
      ],
      "metadata": {
        "id": "pGIrNzG-PcIE"
      },
      "id": "pGIrNzG-PcIE"
    },
    {
      "cell_type": "code",
      "source": [
        "pairIndexlist = []\n",
        "for dirtyname in str_DatafinIndex:\n",
        "  distance_list = []\n",
        "  SubMedicineList = []\n",
        "  for index in MainMedicineIndex:\n",
        "    add = False\n",
        "    for item in index:\n",
        "      for dirtyitem in dirtyname:\n",
        "        if dirtyitem == item:\n",
        "          add = True\n",
        "    if add == True:\n",
        "      SubMedicineList.append(index)\n",
        "  if not SubMedicineList:\n",
        "    SubMedicineList \n",
        "  for index in MainMedicineIndex:\n",
        "    distance = Simhash(index).distance(Simhash(dirtyname))\n",
        "    distance_list.append(distance)\n",
        "  index_min = min(range(len(distance_list)), key=distance_list.__getitem__) # get the index which correspond to the minimum distance\n",
        "  add_index = MainMedicineIndex[index_min]\n",
        "  pairIndexlist.append(add_index)"
      ],
      "metadata": {
        "id": "HvLEU_nCslPx"
      },
      "id": "HvLEU_nCslPx",
      "execution_count": 72,
      "outputs": []
    },
    {
      "cell_type": "code",
      "source": [
        "CatPairIndexData = {\"drug names\": OrgDataDirtyNameUEng, \"Catalog Index\": str_DatafinIndex, \"Paired Catalog\": pairIndexlist}"
      ],
      "metadata": {
        "id": "QSTL3LNtslI3"
      },
      "id": "QSTL3LNtslI3",
      "execution_count": 73,
      "outputs": []
    },
    {
      "cell_type": "code",
      "source": [
        "CatPairIndexData_df = pd.DataFrame(CatPairIndexData)"
      ],
      "metadata": {
        "id": "wimaK-3FslGo"
      },
      "id": "wimaK-3FslGo",
      "execution_count": 75,
      "outputs": []
    },
    {
      "cell_type": "code",
      "source": [
        "CatPairIndexData_df"
      ],
      "metadata": {
        "colab": {
          "base_uri": "https://localhost:8080/",
          "height": 537
        },
        "id": "Jd2DtA-esk9u",
        "outputId": "c6f4a023-1c94-4219-8598-eb08674fd3fe"
      },
      "id": "Jd2DtA-esk9u",
      "execution_count": 76,
      "outputs": [
        {
          "output_type": "execute_result",
          "data": {
            "text/plain": [
              "                                             drug names  \\\n",
              "0                                   CAPTOPRIL\\t25MG TAB   \n",
              "1                                    CARVEDILOL 12.5 MG   \n",
              "2                   ATORVASTATIN 20MG BOX OF 10 TABLETS   \n",
              "3         IRBESARTAN 300 MG + AMLODIPINA 10 MG X 30 TAB   \n",
              "4                         ATENOLOL 100 MG / V.O TABLETS   \n",
              "...                                                 ...   \n",
              "1954                                LOSARTAN 100MG ALFA   \n",
              "1955                                   METILDOPA 250 MG   \n",
              "1956           ATORVASTATIN 10MG BOX OF 10 SUED TABLETS   \n",
              "1957                                          CAPTOPRIL   \n",
              "1958  Atorvastatin 20 yg / Perindopril 10 yg / Amlod...   \n",
              "\n",
              "                            Catalog Index  \\\n",
              "0                               CAPTOPRIL   \n",
              "1                              CARVEDILOL   \n",
              "2                            ATORVASTATIN   \n",
              "3                              IRBESARTAN   \n",
              "4                                ATENOLOL   \n",
              "...                                   ...   \n",
              "1954                             LOSARTAN   \n",
              "1955                            METILDOPA   \n",
              "1956                         ATORVASTATIN   \n",
              "1957                            CAPTOPRIL   \n",
              "1958  Atorvastatin Perindopril Amlodipine   \n",
              "\n",
              "                                     Paired Catalog  \n",
              "0                              [INSULIN, GLULISINE]  \n",
              "1                                    [DACTINOMICNA]  \n",
              "2     [AMLODIPINE, CANDESARTAN, HYDROCHLOROTIAZIDE]  \n",
              "3                                    [METHOTREXATE]  \n",
              "4                              [DOCETAXEL, SOLVENT]  \n",
              "...                                             ...  \n",
              "1954                         [METHOTREXATE, SODIUM]  \n",
              "1955                    [CHLORTHALIDONE, VALSARTAN]  \n",
              "1956  [AMLODIPINE, CANDESARTAN, HYDROCHLOROTIAZIDE]  \n",
              "1957                           [INSULIN, GLULISINE]  \n",
              "1958                                   [METOPROLOL]  \n",
              "\n",
              "[1959 rows x 3 columns]"
            ],
            "text/html": [
              "\n",
              "  <div id=\"df-77cded6f-0a62-48b9-953e-1e7f4c332fb6\">\n",
              "    <div class=\"colab-df-container\">\n",
              "      <div>\n",
              "<style scoped>\n",
              "    .dataframe tbody tr th:only-of-type {\n",
              "        vertical-align: middle;\n",
              "    }\n",
              "\n",
              "    .dataframe tbody tr th {\n",
              "        vertical-align: top;\n",
              "    }\n",
              "\n",
              "    .dataframe thead th {\n",
              "        text-align: right;\n",
              "    }\n",
              "</style>\n",
              "<table border=\"1\" class=\"dataframe\">\n",
              "  <thead>\n",
              "    <tr style=\"text-align: right;\">\n",
              "      <th></th>\n",
              "      <th>drug names</th>\n",
              "      <th>Catalog Index</th>\n",
              "      <th>Paired Catalog</th>\n",
              "    </tr>\n",
              "  </thead>\n",
              "  <tbody>\n",
              "    <tr>\n",
              "      <th>0</th>\n",
              "      <td>CAPTOPRIL\\t25MG TAB</td>\n",
              "      <td>CAPTOPRIL</td>\n",
              "      <td>[INSULIN, GLULISINE]</td>\n",
              "    </tr>\n",
              "    <tr>\n",
              "      <th>1</th>\n",
              "      <td>CARVEDILOL 12.5 MG</td>\n",
              "      <td>CARVEDILOL</td>\n",
              "      <td>[DACTINOMICNA]</td>\n",
              "    </tr>\n",
              "    <tr>\n",
              "      <th>2</th>\n",
              "      <td>ATORVASTATIN 20MG BOX OF 10 TABLETS</td>\n",
              "      <td>ATORVASTATIN</td>\n",
              "      <td>[AMLODIPINE, CANDESARTAN, HYDROCHLOROTIAZIDE]</td>\n",
              "    </tr>\n",
              "    <tr>\n",
              "      <th>3</th>\n",
              "      <td>IRBESARTAN 300 MG + AMLODIPINA 10 MG X 30 TAB</td>\n",
              "      <td>IRBESARTAN</td>\n",
              "      <td>[METHOTREXATE]</td>\n",
              "    </tr>\n",
              "    <tr>\n",
              "      <th>4</th>\n",
              "      <td>ATENOLOL 100 MG / V.O TABLETS</td>\n",
              "      <td>ATENOLOL</td>\n",
              "      <td>[DOCETAXEL, SOLVENT]</td>\n",
              "    </tr>\n",
              "    <tr>\n",
              "      <th>...</th>\n",
              "      <td>...</td>\n",
              "      <td>...</td>\n",
              "      <td>...</td>\n",
              "    </tr>\n",
              "    <tr>\n",
              "      <th>1954</th>\n",
              "      <td>LOSARTAN 100MG ALFA</td>\n",
              "      <td>LOSARTAN</td>\n",
              "      <td>[METHOTREXATE, SODIUM]</td>\n",
              "    </tr>\n",
              "    <tr>\n",
              "      <th>1955</th>\n",
              "      <td>METILDOPA 250 MG</td>\n",
              "      <td>METILDOPA</td>\n",
              "      <td>[CHLORTHALIDONE, VALSARTAN]</td>\n",
              "    </tr>\n",
              "    <tr>\n",
              "      <th>1956</th>\n",
              "      <td>ATORVASTATIN 10MG BOX OF 10 SUED TABLETS</td>\n",
              "      <td>ATORVASTATIN</td>\n",
              "      <td>[AMLODIPINE, CANDESARTAN, HYDROCHLOROTIAZIDE]</td>\n",
              "    </tr>\n",
              "    <tr>\n",
              "      <th>1957</th>\n",
              "      <td>CAPTOPRIL</td>\n",
              "      <td>CAPTOPRIL</td>\n",
              "      <td>[INSULIN, GLULISINE]</td>\n",
              "    </tr>\n",
              "    <tr>\n",
              "      <th>1958</th>\n",
              "      <td>Atorvastatin 20 yg / Perindopril 10 yg / Amlod...</td>\n",
              "      <td>Atorvastatin Perindopril Amlodipine</td>\n",
              "      <td>[METOPROLOL]</td>\n",
              "    </tr>\n",
              "  </tbody>\n",
              "</table>\n",
              "<p>1959 rows × 3 columns</p>\n",
              "</div>\n",
              "      <button class=\"colab-df-convert\" onclick=\"convertToInteractive('df-77cded6f-0a62-48b9-953e-1e7f4c332fb6')\"\n",
              "              title=\"Convert this dataframe to an interactive table.\"\n",
              "              style=\"display:none;\">\n",
              "        \n",
              "  <svg xmlns=\"http://www.w3.org/2000/svg\" height=\"24px\"viewBox=\"0 0 24 24\"\n",
              "       width=\"24px\">\n",
              "    <path d=\"M0 0h24v24H0V0z\" fill=\"none\"/>\n",
              "    <path d=\"M18.56 5.44l.94 2.06.94-2.06 2.06-.94-2.06-.94-.94-2.06-.94 2.06-2.06.94zm-11 1L8.5 8.5l.94-2.06 2.06-.94-2.06-.94L8.5 2.5l-.94 2.06-2.06.94zm10 10l.94 2.06.94-2.06 2.06-.94-2.06-.94-.94-2.06-.94 2.06-2.06.94z\"/><path d=\"M17.41 7.96l-1.37-1.37c-.4-.4-.92-.59-1.43-.59-.52 0-1.04.2-1.43.59L10.3 9.45l-7.72 7.72c-.78.78-.78 2.05 0 2.83L4 21.41c.39.39.9.59 1.41.59.51 0 1.02-.2 1.41-.59l7.78-7.78 2.81-2.81c.8-.78.8-2.07 0-2.86zM5.41 20L4 18.59l7.72-7.72 1.47 1.35L5.41 20z\"/>\n",
              "  </svg>\n",
              "      </button>\n",
              "      \n",
              "  <style>\n",
              "    .colab-df-container {\n",
              "      display:flex;\n",
              "      flex-wrap:wrap;\n",
              "      gap: 12px;\n",
              "    }\n",
              "\n",
              "    .colab-df-convert {\n",
              "      background-color: #E8F0FE;\n",
              "      border: none;\n",
              "      border-radius: 50%;\n",
              "      cursor: pointer;\n",
              "      display: none;\n",
              "      fill: #1967D2;\n",
              "      height: 32px;\n",
              "      padding: 0 0 0 0;\n",
              "      width: 32px;\n",
              "    }\n",
              "\n",
              "    .colab-df-convert:hover {\n",
              "      background-color: #E2EBFA;\n",
              "      box-shadow: 0px 1px 2px rgba(60, 64, 67, 0.3), 0px 1px 3px 1px rgba(60, 64, 67, 0.15);\n",
              "      fill: #174EA6;\n",
              "    }\n",
              "\n",
              "    [theme=dark] .colab-df-convert {\n",
              "      background-color: #3B4455;\n",
              "      fill: #D2E3FC;\n",
              "    }\n",
              "\n",
              "    [theme=dark] .colab-df-convert:hover {\n",
              "      background-color: #434B5C;\n",
              "      box-shadow: 0px 1px 3px 1px rgba(0, 0, 0, 0.15);\n",
              "      filter: drop-shadow(0px 1px 2px rgba(0, 0, 0, 0.3));\n",
              "      fill: #FFFFFF;\n",
              "    }\n",
              "  </style>\n",
              "\n",
              "      <script>\n",
              "        const buttonEl =\n",
              "          document.querySelector('#df-77cded6f-0a62-48b9-953e-1e7f4c332fb6 button.colab-df-convert');\n",
              "        buttonEl.style.display =\n",
              "          google.colab.kernel.accessAllowed ? 'block' : 'none';\n",
              "\n",
              "        async function convertToInteractive(key) {\n",
              "          const element = document.querySelector('#df-77cded6f-0a62-48b9-953e-1e7f4c332fb6');\n",
              "          const dataTable =\n",
              "            await google.colab.kernel.invokeFunction('convertToInteractive',\n",
              "                                                     [key], {});\n",
              "          if (!dataTable) return;\n",
              "\n",
              "          const docLinkHtml = 'Like what you see? Visit the ' +\n",
              "            '<a target=\"_blank\" href=https://colab.research.google.com/notebooks/data_table.ipynb>data table notebook</a>'\n",
              "            + ' to learn more about interactive tables.';\n",
              "          element.innerHTML = '';\n",
              "          dataTable['output_type'] = 'display_data';\n",
              "          await google.colab.output.renderOutput(dataTable, element);\n",
              "          const docLink = document.createElement('div');\n",
              "          docLink.innerHTML = docLinkHtml;\n",
              "          element.appendChild(docLink);\n",
              "        }\n",
              "      </script>\n",
              "    </div>\n",
              "  </div>\n",
              "  "
            ]
          },
          "metadata": {},
          "execution_count": 76
        }
      ]
    },
    {
      "cell_type": "code",
      "source": [
        "# for catalog name index dataframe, transform list to string\n",
        "str_MainMedicineIndex = []\n",
        "for item in MainMedicineIndex:\n",
        "  newitem = ' '.join(item)\n",
        "  str_MainMedicineIndex.append(newitem)"
      ],
      "metadata": {
        "id": "fHuZ4TzpPaJP"
      },
      "id": "fHuZ4TzpPaJP",
      "execution_count": 82,
      "outputs": []
    },
    {
      "cell_type": "code",
      "source": [
        "newCatalogIndexData = {\"Catalog Name\": CatalogNameU, \"Catalog Index\": str_MainMedicineIndex}"
      ],
      "metadata": {
        "id": "53buQ5xoPaGF"
      },
      "id": "53buQ5xoPaGF",
      "execution_count": 83,
      "outputs": []
    },
    {
      "cell_type": "code",
      "source": [
        "newCatalogIndexData_df = pd.DataFrame(newCatalogIndexData)"
      ],
      "metadata": {
        "id": "CAWU00XbPaCd"
      },
      "id": "CAWU00XbPaCd",
      "execution_count": 84,
      "outputs": []
    },
    {
      "cell_type": "code",
      "source": [
        "newCatalogIndexData_df[:2]"
      ],
      "metadata": {
        "colab": {
          "base_uri": "https://localhost:8080/",
          "height": 112
        },
        "id": "TJZSrb-XSEKF",
        "outputId": "8c84f01a-47e8-4edb-efc0-0d1e485e7c70"
      },
      "id": "TJZSrb-XSEKF",
      "execution_count": 85,
      "outputs": [
        {
          "output_type": "execute_result",
          "data": {
            "text/plain": [
              "                          Catalog Name  Catalog Index\n",
              "0        SAXAGLIPTIN 5 MG, TABLET, TBD    SAXAGLIPTIN\n",
              "1  LEVOTHYROXINE 0.625 MG, TABLET, TBD  LEVOTHYROXINE"
            ],
            "text/html": [
              "\n",
              "  <div id=\"df-358e5539-e9eb-4ff4-a172-5af771cded94\">\n",
              "    <div class=\"colab-df-container\">\n",
              "      <div>\n",
              "<style scoped>\n",
              "    .dataframe tbody tr th:only-of-type {\n",
              "        vertical-align: middle;\n",
              "    }\n",
              "\n",
              "    .dataframe tbody tr th {\n",
              "        vertical-align: top;\n",
              "    }\n",
              "\n",
              "    .dataframe thead th {\n",
              "        text-align: right;\n",
              "    }\n",
              "</style>\n",
              "<table border=\"1\" class=\"dataframe\">\n",
              "  <thead>\n",
              "    <tr style=\"text-align: right;\">\n",
              "      <th></th>\n",
              "      <th>Catalog Name</th>\n",
              "      <th>Catalog Index</th>\n",
              "    </tr>\n",
              "  </thead>\n",
              "  <tbody>\n",
              "    <tr>\n",
              "      <th>0</th>\n",
              "      <td>SAXAGLIPTIN 5 MG, TABLET, TBD</td>\n",
              "      <td>SAXAGLIPTIN</td>\n",
              "    </tr>\n",
              "    <tr>\n",
              "      <th>1</th>\n",
              "      <td>LEVOTHYROXINE 0.625 MG, TABLET, TBD</td>\n",
              "      <td>LEVOTHYROXINE</td>\n",
              "    </tr>\n",
              "  </tbody>\n",
              "</table>\n",
              "</div>\n",
              "      <button class=\"colab-df-convert\" onclick=\"convertToInteractive('df-358e5539-e9eb-4ff4-a172-5af771cded94')\"\n",
              "              title=\"Convert this dataframe to an interactive table.\"\n",
              "              style=\"display:none;\">\n",
              "        \n",
              "  <svg xmlns=\"http://www.w3.org/2000/svg\" height=\"24px\"viewBox=\"0 0 24 24\"\n",
              "       width=\"24px\">\n",
              "    <path d=\"M0 0h24v24H0V0z\" fill=\"none\"/>\n",
              "    <path d=\"M18.56 5.44l.94 2.06.94-2.06 2.06-.94-2.06-.94-.94-2.06-.94 2.06-2.06.94zm-11 1L8.5 8.5l.94-2.06 2.06-.94-2.06-.94L8.5 2.5l-.94 2.06-2.06.94zm10 10l.94 2.06.94-2.06 2.06-.94-2.06-.94-.94-2.06-.94 2.06-2.06.94z\"/><path d=\"M17.41 7.96l-1.37-1.37c-.4-.4-.92-.59-1.43-.59-.52 0-1.04.2-1.43.59L10.3 9.45l-7.72 7.72c-.78.78-.78 2.05 0 2.83L4 21.41c.39.39.9.59 1.41.59.51 0 1.02-.2 1.41-.59l7.78-7.78 2.81-2.81c.8-.78.8-2.07 0-2.86zM5.41 20L4 18.59l7.72-7.72 1.47 1.35L5.41 20z\"/>\n",
              "  </svg>\n",
              "      </button>\n",
              "      \n",
              "  <style>\n",
              "    .colab-df-container {\n",
              "      display:flex;\n",
              "      flex-wrap:wrap;\n",
              "      gap: 12px;\n",
              "    }\n",
              "\n",
              "    .colab-df-convert {\n",
              "      background-color: #E8F0FE;\n",
              "      border: none;\n",
              "      border-radius: 50%;\n",
              "      cursor: pointer;\n",
              "      display: none;\n",
              "      fill: #1967D2;\n",
              "      height: 32px;\n",
              "      padding: 0 0 0 0;\n",
              "      width: 32px;\n",
              "    }\n",
              "\n",
              "    .colab-df-convert:hover {\n",
              "      background-color: #E2EBFA;\n",
              "      box-shadow: 0px 1px 2px rgba(60, 64, 67, 0.3), 0px 1px 3px 1px rgba(60, 64, 67, 0.15);\n",
              "      fill: #174EA6;\n",
              "    }\n",
              "\n",
              "    [theme=dark] .colab-df-convert {\n",
              "      background-color: #3B4455;\n",
              "      fill: #D2E3FC;\n",
              "    }\n",
              "\n",
              "    [theme=dark] .colab-df-convert:hover {\n",
              "      background-color: #434B5C;\n",
              "      box-shadow: 0px 1px 3px 1px rgba(0, 0, 0, 0.15);\n",
              "      filter: drop-shadow(0px 1px 2px rgba(0, 0, 0, 0.3));\n",
              "      fill: #FFFFFF;\n",
              "    }\n",
              "  </style>\n",
              "\n",
              "      <script>\n",
              "        const buttonEl =\n",
              "          document.querySelector('#df-358e5539-e9eb-4ff4-a172-5af771cded94 button.colab-df-convert');\n",
              "        buttonEl.style.display =\n",
              "          google.colab.kernel.accessAllowed ? 'block' : 'none';\n",
              "\n",
              "        async function convertToInteractive(key) {\n",
              "          const element = document.querySelector('#df-358e5539-e9eb-4ff4-a172-5af771cded94');\n",
              "          const dataTable =\n",
              "            await google.colab.kernel.invokeFunction('convertToInteractive',\n",
              "                                                     [key], {});\n",
              "          if (!dataTable) return;\n",
              "\n",
              "          const docLinkHtml = 'Like what you see? Visit the ' +\n",
              "            '<a target=\"_blank\" href=https://colab.research.google.com/notebooks/data_table.ipynb>data table notebook</a>'\n",
              "            + ' to learn more about interactive tables.';\n",
              "          element.innerHTML = '';\n",
              "          dataTable['output_type'] = 'display_data';\n",
              "          await google.colab.output.renderOutput(dataTable, element);\n",
              "          const docLink = document.createElement('div');\n",
              "          docLink.innerHTML = docLinkHtml;\n",
              "          element.appendChild(docLink);\n",
              "        }\n",
              "      </script>\n",
              "    </div>\n",
              "  </div>\n",
              "  "
            ]
          },
          "metadata": {},
          "execution_count": 85
        }
      ]
    },
    {
      "cell_type": "code",
      "source": [
        "combine_pair_df = pd.merge(newPairIndexData_df, newCatalogIndexData_df, on='Catalog Index', how='left')"
      ],
      "metadata": {
        "id": "oqA7pomKSEHe"
      },
      "id": "oqA7pomKSEHe",
      "execution_count": 86,
      "outputs": []
    },
    {
      "cell_type": "code",
      "source": [
        "#combine_pair_df.to_excel(\"combine_pair_df_chile_1.xlsx\", sheet_name = 'combine_pair_df chile 1')  "
      ],
      "metadata": {
        "id": "fJtYAM8YSEEI"
      },
      "id": "fJtYAM8YSEEI",
      "execution_count": 87,
      "outputs": []
    },
    {
      "cell_type": "markdown",
      "source": [
        "## Part 6: Combine the original drug name in Dirty Data Set with the pairing data frame we have got, then select for the catalog name second time (compute the distance between the original drug name and the sub set of catalog under each name in our result)"
      ],
      "metadata": {
        "id": "iY_pn0haSPMN"
      },
      "id": "iY_pn0haSPMN"
    },
    {
      "cell_type": "code",
      "source": [
        "OrgDataDirtyName[:5]"
      ],
      "metadata": {
        "colab": {
          "base_uri": "https://localhost:8080/"
        },
        "id": "eNaZKqWWSD-d",
        "outputId": "1f5bc4a0-140c-4979-a41d-60691090b3d0"
      },
      "id": "eNaZKqWWSD-d",
      "execution_count": 88,
      "outputs": [
        {
          "output_type": "execute_result",
          "data": {
            "text/plain": [
              "['IBERSARTAN 150MG TAB.',\n",
              " 'LOSARTAN 100MG TABLETA',\n",
              " 'Amlodipin de 5 mg (caja de 30 tabletas)',\n",
              " 'Rosuvastatina 40mg caja de 10 Tabletas Mamey',\n",
              " 'Captopril 50 MG Tab']"
            ]
          },
          "metadata": {},
          "execution_count": 88
        }
      ]
    },
    {
      "cell_type": "code",
      "source": [
        "str_DatafinIndex[:5]"
      ],
      "metadata": {
        "colab": {
          "base_uri": "https://localhost:8080/"
        },
        "id": "nDPjvnYlPZ_S",
        "outputId": "ecd70f53-0b39-4180-98b9-22bc3e9585cd"
      },
      "id": "nDPjvnYlPZ_S",
      "execution_count": 89,
      "outputs": [
        {
          "output_type": "execute_result",
          "data": {
            "text/plain": [
              "['IRBESARTAN',\n",
              " 'LOSARTAN',\n",
              " 'AMLODIPIN',\n",
              " 'ROSUVASTATINE TABLETS MAMEY',\n",
              " 'CAPTOPRIL']"
            ]
          },
          "metadata": {},
          "execution_count": 89
        }
      ]
    },
    {
      "cell_type": "code",
      "source": [
        "print(len(OrgDataDirtyName), len(str_DatafinIndex))"
      ],
      "metadata": {
        "colab": {
          "base_uri": "https://localhost:8080/"
        },
        "id": "5-ji_KlISdM1",
        "outputId": "b99dd5c8-7905-4dc2-d08b-71cd8dff58b7"
      },
      "id": "5-ji_KlISdM1",
      "execution_count": 90,
      "outputs": [
        {
          "output_type": "stream",
          "name": "stdout",
          "text": [
            "1959 1959\n"
          ]
        }
      ]
    },
    {
      "cell_type": "code",
      "source": [
        "# translate the original full drug name into english\n",
        "\n",
        "OrgDataDirtyNameEng = []\n",
        "\n",
        "for item in OrgDataDirtyName:\n",
        "  temp = translator.translate(item, dest='en')\n",
        "  OrgDataDirtyNameEng.append(temp.text)\n",
        "\n",
        "# this block runs 7 mins"
      ],
      "metadata": {
        "id": "NzMr6_QISdIq"
      },
      "id": "NzMr6_QISdIq",
      "execution_count": 91,
      "outputs": []
    },
    {
      "cell_type": "code",
      "source": [
        "# uppercase everything\n",
        "OrgDataDirtyNameEngU = []\n",
        "for i in OrgDataDirtyNameEng:\n",
        "  OrgDataDirtyNameEngU.append(i.upper())\n",
        "\n",
        "OrgDataDirtyNameEngU[:5]"
      ],
      "metadata": {
        "colab": {
          "base_uri": "https://localhost:8080/"
        },
        "id": "37_UrrKxSdE2",
        "outputId": "21cc22ea-0106-40e0-a37f-7f01db0ff6c3"
      },
      "id": "37_UrrKxSdE2",
      "execution_count": 92,
      "outputs": [
        {
          "output_type": "execute_result",
          "data": {
            "text/plain": [
              "['IRBESARTAN 150 MG TAB.',\n",
              " 'LOSARTAN 100 MG TABLET',\n",
              " 'AMLODIPIN 5 MG (BOX OF 30 TABLETS)',\n",
              " 'ROSUVASTATIN 40MG BOX OF 10 TABLETS MAMEY',\n",
              " 'CAPTOPRIL 50 MG TAB']"
            ]
          },
          "metadata": {},
          "execution_count": 92
        }
      ]
    },
    {
      "cell_type": "code",
      "source": [
        "# combine uppercase english chile 1 drug name with its indexes\n",
        "drugfn_index = {\"drugs english uppercase names\": OrgDataDirtyNameEngU, \"drug names\": str_DatafinIndex}"
      ],
      "metadata": {
        "id": "W_ZIH-ZASdA9"
      },
      "id": "W_ZIH-ZASdA9",
      "execution_count": 93,
      "outputs": []
    },
    {
      "cell_type": "code",
      "source": [
        "drugfn_index_df = pd.DataFrame(drugfn_index)"
      ],
      "metadata": {
        "id": "U1cPmrPOWUfX"
      },
      "id": "U1cPmrPOWUfX",
      "execution_count": 94,
      "outputs": []
    },
    {
      "cell_type": "code",
      "source": [
        "drugfn_index_df[:2]"
      ],
      "metadata": {
        "colab": {
          "base_uri": "https://localhost:8080/",
          "height": 112
        },
        "id": "WwWb4tVPWUcr",
        "outputId": "6c7c6426-a37f-4df8-8b25-05683fcbbccb"
      },
      "id": "WwWb4tVPWUcr",
      "execution_count": 95,
      "outputs": [
        {
          "output_type": "execute_result",
          "data": {
            "text/plain": [
              "  drugs english uppercase names  drug names\n",
              "0        IRBESARTAN 150 MG TAB.  IRBESARTAN\n",
              "1        LOSARTAN 100 MG TABLET    LOSARTAN"
            ],
            "text/html": [
              "\n",
              "  <div id=\"df-fb4c4426-b207-41f3-a4b1-a6ab1d43e52f\">\n",
              "    <div class=\"colab-df-container\">\n",
              "      <div>\n",
              "<style scoped>\n",
              "    .dataframe tbody tr th:only-of-type {\n",
              "        vertical-align: middle;\n",
              "    }\n",
              "\n",
              "    .dataframe tbody tr th {\n",
              "        vertical-align: top;\n",
              "    }\n",
              "\n",
              "    .dataframe thead th {\n",
              "        text-align: right;\n",
              "    }\n",
              "</style>\n",
              "<table border=\"1\" class=\"dataframe\">\n",
              "  <thead>\n",
              "    <tr style=\"text-align: right;\">\n",
              "      <th></th>\n",
              "      <th>drugs english uppercase names</th>\n",
              "      <th>drug names</th>\n",
              "    </tr>\n",
              "  </thead>\n",
              "  <tbody>\n",
              "    <tr>\n",
              "      <th>0</th>\n",
              "      <td>IRBESARTAN 150 MG TAB.</td>\n",
              "      <td>IRBESARTAN</td>\n",
              "    </tr>\n",
              "    <tr>\n",
              "      <th>1</th>\n",
              "      <td>LOSARTAN 100 MG TABLET</td>\n",
              "      <td>LOSARTAN</td>\n",
              "    </tr>\n",
              "  </tbody>\n",
              "</table>\n",
              "</div>\n",
              "      <button class=\"colab-df-convert\" onclick=\"convertToInteractive('df-fb4c4426-b207-41f3-a4b1-a6ab1d43e52f')\"\n",
              "              title=\"Convert this dataframe to an interactive table.\"\n",
              "              style=\"display:none;\">\n",
              "        \n",
              "  <svg xmlns=\"http://www.w3.org/2000/svg\" height=\"24px\"viewBox=\"0 0 24 24\"\n",
              "       width=\"24px\">\n",
              "    <path d=\"M0 0h24v24H0V0z\" fill=\"none\"/>\n",
              "    <path d=\"M18.56 5.44l.94 2.06.94-2.06 2.06-.94-2.06-.94-.94-2.06-.94 2.06-2.06.94zm-11 1L8.5 8.5l.94-2.06 2.06-.94-2.06-.94L8.5 2.5l-.94 2.06-2.06.94zm10 10l.94 2.06.94-2.06 2.06-.94-2.06-.94-.94-2.06-.94 2.06-2.06.94z\"/><path d=\"M17.41 7.96l-1.37-1.37c-.4-.4-.92-.59-1.43-.59-.52 0-1.04.2-1.43.59L10.3 9.45l-7.72 7.72c-.78.78-.78 2.05 0 2.83L4 21.41c.39.39.9.59 1.41.59.51 0 1.02-.2 1.41-.59l7.78-7.78 2.81-2.81c.8-.78.8-2.07 0-2.86zM5.41 20L4 18.59l7.72-7.72 1.47 1.35L5.41 20z\"/>\n",
              "  </svg>\n",
              "      </button>\n",
              "      \n",
              "  <style>\n",
              "    .colab-df-container {\n",
              "      display:flex;\n",
              "      flex-wrap:wrap;\n",
              "      gap: 12px;\n",
              "    }\n",
              "\n",
              "    .colab-df-convert {\n",
              "      background-color: #E8F0FE;\n",
              "      border: none;\n",
              "      border-radius: 50%;\n",
              "      cursor: pointer;\n",
              "      display: none;\n",
              "      fill: #1967D2;\n",
              "      height: 32px;\n",
              "      padding: 0 0 0 0;\n",
              "      width: 32px;\n",
              "    }\n",
              "\n",
              "    .colab-df-convert:hover {\n",
              "      background-color: #E2EBFA;\n",
              "      box-shadow: 0px 1px 2px rgba(60, 64, 67, 0.3), 0px 1px 3px 1px rgba(60, 64, 67, 0.15);\n",
              "      fill: #174EA6;\n",
              "    }\n",
              "\n",
              "    [theme=dark] .colab-df-convert {\n",
              "      background-color: #3B4455;\n",
              "      fill: #D2E3FC;\n",
              "    }\n",
              "\n",
              "    [theme=dark] .colab-df-convert:hover {\n",
              "      background-color: #434B5C;\n",
              "      box-shadow: 0px 1px 3px 1px rgba(0, 0, 0, 0.15);\n",
              "      filter: drop-shadow(0px 1px 2px rgba(0, 0, 0, 0.3));\n",
              "      fill: #FFFFFF;\n",
              "    }\n",
              "  </style>\n",
              "\n",
              "      <script>\n",
              "        const buttonEl =\n",
              "          document.querySelector('#df-fb4c4426-b207-41f3-a4b1-a6ab1d43e52f button.colab-df-convert');\n",
              "        buttonEl.style.display =\n",
              "          google.colab.kernel.accessAllowed ? 'block' : 'none';\n",
              "\n",
              "        async function convertToInteractive(key) {\n",
              "          const element = document.querySelector('#df-fb4c4426-b207-41f3-a4b1-a6ab1d43e52f');\n",
              "          const dataTable =\n",
              "            await google.colab.kernel.invokeFunction('convertToInteractive',\n",
              "                                                     [key], {});\n",
              "          if (!dataTable) return;\n",
              "\n",
              "          const docLinkHtml = 'Like what you see? Visit the ' +\n",
              "            '<a target=\"_blank\" href=https://colab.research.google.com/notebooks/data_table.ipynb>data table notebook</a>'\n",
              "            + ' to learn more about interactive tables.';\n",
              "          element.innerHTML = '';\n",
              "          dataTable['output_type'] = 'display_data';\n",
              "          await google.colab.output.renderOutput(dataTable, element);\n",
              "          const docLink = document.createElement('div');\n",
              "          docLink.innerHTML = docLinkHtml;\n",
              "          element.appendChild(docLink);\n",
              "        }\n",
              "      </script>\n",
              "    </div>\n",
              "  </div>\n",
              "  "
            ]
          },
          "metadata": {},
          "execution_count": 95
        }
      ]
    },
    {
      "cell_type": "code",
      "source": [
        "# combine Chile drug original full name, its index with the result data frame (pair with catalog name)\n",
        "\n",
        "drugs = pd.merge(drugfn_index_df, combine_pair_df, on='drug names', how='left')"
      ],
      "metadata": {
        "id": "izbyAehvWUZW"
      },
      "id": "izbyAehvWUZW",
      "execution_count": 96,
      "outputs": []
    },
    {
      "cell_type": "code",
      "source": [
        "drugs[:5]"
      ],
      "metadata": {
        "colab": {
          "base_uri": "https://localhost:8080/",
          "height": 206
        },
        "id": "4BpPAIemWUWo",
        "outputId": "ab547bbd-4762-428f-b16b-c1dd5a67da7b"
      },
      "id": "4BpPAIemWUWo",
      "execution_count": 97,
      "outputs": [
        {
          "output_type": "execute_result",
          "data": {
            "text/plain": [
              "  drugs english uppercase names  drug names Catalog Index  \\\n",
              "0        IRBESARTAN 150 MG TAB.  IRBESARTAN  METHOTREXATE   \n",
              "1        IRBESARTAN 150 MG TAB.  IRBESARTAN  METHOTREXATE   \n",
              "2        IRBESARTAN 150 MG TAB.  IRBESARTAN  METHOTREXATE   \n",
              "3        IRBESARTAN 150 MG TAB.  IRBESARTAN  METHOTREXATE   \n",
              "4        IRBESARTAN 150 MG TAB.  IRBESARTAN  METHOTREXATE   \n",
              "\n",
              "                   Catalog Name  \n",
              "0  METHOTREXATE 25 MG, TBD, TBD  \n",
              "1  METHOTREXATE 10 MG, TBD, TBD  \n",
              "2  METHOTREXATE 15 MG, TBD, TBD  \n",
              "3  METHOTREXATE 20 MG, TBD, TBD  \n",
              "4  METHOTREXATE 25 MG, TBD, TBD  "
            ],
            "text/html": [
              "\n",
              "  <div id=\"df-02e0e328-bca7-45d4-b88d-bf4c1ab4bf9b\">\n",
              "    <div class=\"colab-df-container\">\n",
              "      <div>\n",
              "<style scoped>\n",
              "    .dataframe tbody tr th:only-of-type {\n",
              "        vertical-align: middle;\n",
              "    }\n",
              "\n",
              "    .dataframe tbody tr th {\n",
              "        vertical-align: top;\n",
              "    }\n",
              "\n",
              "    .dataframe thead th {\n",
              "        text-align: right;\n",
              "    }\n",
              "</style>\n",
              "<table border=\"1\" class=\"dataframe\">\n",
              "  <thead>\n",
              "    <tr style=\"text-align: right;\">\n",
              "      <th></th>\n",
              "      <th>drugs english uppercase names</th>\n",
              "      <th>drug names</th>\n",
              "      <th>Catalog Index</th>\n",
              "      <th>Catalog Name</th>\n",
              "    </tr>\n",
              "  </thead>\n",
              "  <tbody>\n",
              "    <tr>\n",
              "      <th>0</th>\n",
              "      <td>IRBESARTAN 150 MG TAB.</td>\n",
              "      <td>IRBESARTAN</td>\n",
              "      <td>METHOTREXATE</td>\n",
              "      <td>METHOTREXATE 25 MG, TBD, TBD</td>\n",
              "    </tr>\n",
              "    <tr>\n",
              "      <th>1</th>\n",
              "      <td>IRBESARTAN 150 MG TAB.</td>\n",
              "      <td>IRBESARTAN</td>\n",
              "      <td>METHOTREXATE</td>\n",
              "      <td>METHOTREXATE 10 MG, TBD, TBD</td>\n",
              "    </tr>\n",
              "    <tr>\n",
              "      <th>2</th>\n",
              "      <td>IRBESARTAN 150 MG TAB.</td>\n",
              "      <td>IRBESARTAN</td>\n",
              "      <td>METHOTREXATE</td>\n",
              "      <td>METHOTREXATE 15 MG, TBD, TBD</td>\n",
              "    </tr>\n",
              "    <tr>\n",
              "      <th>3</th>\n",
              "      <td>IRBESARTAN 150 MG TAB.</td>\n",
              "      <td>IRBESARTAN</td>\n",
              "      <td>METHOTREXATE</td>\n",
              "      <td>METHOTREXATE 20 MG, TBD, TBD</td>\n",
              "    </tr>\n",
              "    <tr>\n",
              "      <th>4</th>\n",
              "      <td>IRBESARTAN 150 MG TAB.</td>\n",
              "      <td>IRBESARTAN</td>\n",
              "      <td>METHOTREXATE</td>\n",
              "      <td>METHOTREXATE 25 MG, TBD, TBD</td>\n",
              "    </tr>\n",
              "  </tbody>\n",
              "</table>\n",
              "</div>\n",
              "      <button class=\"colab-df-convert\" onclick=\"convertToInteractive('df-02e0e328-bca7-45d4-b88d-bf4c1ab4bf9b')\"\n",
              "              title=\"Convert this dataframe to an interactive table.\"\n",
              "              style=\"display:none;\">\n",
              "        \n",
              "  <svg xmlns=\"http://www.w3.org/2000/svg\" height=\"24px\"viewBox=\"0 0 24 24\"\n",
              "       width=\"24px\">\n",
              "    <path d=\"M0 0h24v24H0V0z\" fill=\"none\"/>\n",
              "    <path d=\"M18.56 5.44l.94 2.06.94-2.06 2.06-.94-2.06-.94-.94-2.06-.94 2.06-2.06.94zm-11 1L8.5 8.5l.94-2.06 2.06-.94-2.06-.94L8.5 2.5l-.94 2.06-2.06.94zm10 10l.94 2.06.94-2.06 2.06-.94-2.06-.94-.94-2.06-.94 2.06-2.06.94z\"/><path d=\"M17.41 7.96l-1.37-1.37c-.4-.4-.92-.59-1.43-.59-.52 0-1.04.2-1.43.59L10.3 9.45l-7.72 7.72c-.78.78-.78 2.05 0 2.83L4 21.41c.39.39.9.59 1.41.59.51 0 1.02-.2 1.41-.59l7.78-7.78 2.81-2.81c.8-.78.8-2.07 0-2.86zM5.41 20L4 18.59l7.72-7.72 1.47 1.35L5.41 20z\"/>\n",
              "  </svg>\n",
              "      </button>\n",
              "      \n",
              "  <style>\n",
              "    .colab-df-container {\n",
              "      display:flex;\n",
              "      flex-wrap:wrap;\n",
              "      gap: 12px;\n",
              "    }\n",
              "\n",
              "    .colab-df-convert {\n",
              "      background-color: #E8F0FE;\n",
              "      border: none;\n",
              "      border-radius: 50%;\n",
              "      cursor: pointer;\n",
              "      display: none;\n",
              "      fill: #1967D2;\n",
              "      height: 32px;\n",
              "      padding: 0 0 0 0;\n",
              "      width: 32px;\n",
              "    }\n",
              "\n",
              "    .colab-df-convert:hover {\n",
              "      background-color: #E2EBFA;\n",
              "      box-shadow: 0px 1px 2px rgba(60, 64, 67, 0.3), 0px 1px 3px 1px rgba(60, 64, 67, 0.15);\n",
              "      fill: #174EA6;\n",
              "    }\n",
              "\n",
              "    [theme=dark] .colab-df-convert {\n",
              "      background-color: #3B4455;\n",
              "      fill: #D2E3FC;\n",
              "    }\n",
              "\n",
              "    [theme=dark] .colab-df-convert:hover {\n",
              "      background-color: #434B5C;\n",
              "      box-shadow: 0px 1px 3px 1px rgba(0, 0, 0, 0.15);\n",
              "      filter: drop-shadow(0px 1px 2px rgba(0, 0, 0, 0.3));\n",
              "      fill: #FFFFFF;\n",
              "    }\n",
              "  </style>\n",
              "\n",
              "      <script>\n",
              "        const buttonEl =\n",
              "          document.querySelector('#df-02e0e328-bca7-45d4-b88d-bf4c1ab4bf9b button.colab-df-convert');\n",
              "        buttonEl.style.display =\n",
              "          google.colab.kernel.accessAllowed ? 'block' : 'none';\n",
              "\n",
              "        async function convertToInteractive(key) {\n",
              "          const element = document.querySelector('#df-02e0e328-bca7-45d4-b88d-bf4c1ab4bf9b');\n",
              "          const dataTable =\n",
              "            await google.colab.kernel.invokeFunction('convertToInteractive',\n",
              "                                                     [key], {});\n",
              "          if (!dataTable) return;\n",
              "\n",
              "          const docLinkHtml = 'Like what you see? Visit the ' +\n",
              "            '<a target=\"_blank\" href=https://colab.research.google.com/notebooks/data_table.ipynb>data table notebook</a>'\n",
              "            + ' to learn more about interactive tables.';\n",
              "          element.innerHTML = '';\n",
              "          dataTable['output_type'] = 'display_data';\n",
              "          await google.colab.output.renderOutput(dataTable, element);\n",
              "          const docLink = document.createElement('div');\n",
              "          docLink.innerHTML = docLinkHtml;\n",
              "          element.appendChild(docLink);\n",
              "        }\n",
              "      </script>\n",
              "    </div>\n",
              "  </div>\n",
              "  "
            ]
          },
          "metadata": {},
          "execution_count": 97
        }
      ]
    },
    {
      "cell_type": "code",
      "source": [
        "print(len(drugs), len(set(drugs['drugs english uppercase names'])))"
      ],
      "metadata": {
        "colab": {
          "base_uri": "https://localhost:8080/"
        },
        "id": "HSgmZOBKWUTr",
        "outputId": "540d9768-97da-4d13-8b99-c0e4ab692aaf"
      },
      "id": "HSgmZOBKWUTr",
      "execution_count": 98,
      "outputs": [
        {
          "output_type": "stream",
          "name": "stdout",
          "text": [
            "316962 1675\n"
          ]
        }
      ]
    },
    {
      "cell_type": "code",
      "source": [
        "# get the list that contains first pairing names list for each original drug full name\n",
        "fistpairinglist = []\n",
        "i = 0\n",
        "for name in OrgDataDirtyNameEngU:\n",
        "  subpairlist = []\n",
        "  while i < len(drugs):\n",
        "    if drugs['drugs english uppercase names'][i] == name:\n",
        "      subpairlist.append(drugs['Catalog Name'][i])\n",
        "      i += 1\n",
        "    else:\n",
        "      break\n",
        "  fistpairinglist.append(subpairlist)\n",
        "# runs 4 mins"
      ],
      "metadata": {
        "id": "guElo88KXmCj"
      },
      "id": "guElo88KXmCj",
      "execution_count": 104,
      "outputs": []
    },
    {
      "cell_type": "code",
      "source": [
        "print(len(fistpairinglist), len(OrgDataDirtyNameUEng))"
      ],
      "metadata": {
        "colab": {
          "base_uri": "https://localhost:8080/"
        },
        "id": "ghUEH-RpXl_z",
        "outputId": "6e09e2be-3e31-4881-a599-9148a6f69201"
      },
      "id": "ghUEH-RpXl_z",
      "execution_count": 107,
      "outputs": [
        {
          "output_type": "stream",
          "name": "stdout",
          "text": [
            "1959 1959\n"
          ]
        }
      ]
    },
    {
      "cell_type": "code",
      "source": [
        "finalpairname = []\n",
        "for item in range(len(OrgDataDirtyNameUEng)):\n",
        "  distance_list = []\n",
        "  for pairname in fistpairinglist[item]:\n",
        "    distance = Simhash(OrgDataDirtyNameUEng[item]).distance(Simhash(pairname))\n",
        "    distance_list.append(distance)\n",
        "  index_min = min(range(len(distance_list)), key=distance_list.__getitem__)\n",
        "  add_index = fistpairinglist[item][index_min]\n",
        "  finalpairname.append(add_index)"
      ],
      "metadata": {
        "colab": {
          "base_uri": "https://localhost:8080/",
          "height": 235
        },
        "id": "FuKIE1jpXl89",
        "outputId": "f0b56992-64d1-48c7-abe9-2a76b28604f7"
      },
      "id": "FuKIE1jpXl89",
      "execution_count": 108,
      "outputs": [
        {
          "output_type": "error",
          "ename": "ValueError",
          "evalue": "ignored",
          "traceback": [
            "\u001b[0;31m---------------------------------------------------------------------------\u001b[0m",
            "\u001b[0;31mValueError\u001b[0m                                Traceback (most recent call last)",
            "\u001b[0;32m<ipython-input-108-a199f534b8a6>\u001b[0m in \u001b[0;36m<module>\u001b[0;34m()\u001b[0m\n\u001b[1;32m      5\u001b[0m     \u001b[0mdistance\u001b[0m \u001b[0;34m=\u001b[0m \u001b[0mSimhash\u001b[0m\u001b[0;34m(\u001b[0m\u001b[0mOrgDataDirtyNameUEng\u001b[0m\u001b[0;34m[\u001b[0m\u001b[0mitem\u001b[0m\u001b[0;34m]\u001b[0m\u001b[0;34m)\u001b[0m\u001b[0;34m.\u001b[0m\u001b[0mdistance\u001b[0m\u001b[0;34m(\u001b[0m\u001b[0mSimhash\u001b[0m\u001b[0;34m(\u001b[0m\u001b[0mpairname\u001b[0m\u001b[0;34m)\u001b[0m\u001b[0;34m)\u001b[0m\u001b[0;34m\u001b[0m\u001b[0;34m\u001b[0m\u001b[0m\n\u001b[1;32m      6\u001b[0m     \u001b[0mdistance_list\u001b[0m\u001b[0;34m.\u001b[0m\u001b[0mappend\u001b[0m\u001b[0;34m(\u001b[0m\u001b[0mdistance\u001b[0m\u001b[0;34m)\u001b[0m\u001b[0;34m\u001b[0m\u001b[0;34m\u001b[0m\u001b[0m\n\u001b[0;32m----> 7\u001b[0;31m   \u001b[0mindex_min\u001b[0m \u001b[0;34m=\u001b[0m \u001b[0mmin\u001b[0m\u001b[0;34m(\u001b[0m\u001b[0mrange\u001b[0m\u001b[0;34m(\u001b[0m\u001b[0mlen\u001b[0m\u001b[0;34m(\u001b[0m\u001b[0mdistance_list\u001b[0m\u001b[0;34m)\u001b[0m\u001b[0;34m)\u001b[0m\u001b[0;34m,\u001b[0m \u001b[0mkey\u001b[0m\u001b[0;34m=\u001b[0m\u001b[0mdistance_list\u001b[0m\u001b[0;34m.\u001b[0m\u001b[0m__getitem__\u001b[0m\u001b[0;34m)\u001b[0m\u001b[0;34m\u001b[0m\u001b[0;34m\u001b[0m\u001b[0m\n\u001b[0m\u001b[1;32m      8\u001b[0m   \u001b[0madd_index\u001b[0m \u001b[0;34m=\u001b[0m \u001b[0mfistpairinglist\u001b[0m\u001b[0;34m[\u001b[0m\u001b[0mitem\u001b[0m\u001b[0;34m]\u001b[0m\u001b[0;34m[\u001b[0m\u001b[0mindex_min\u001b[0m\u001b[0;34m]\u001b[0m\u001b[0;34m\u001b[0m\u001b[0;34m\u001b[0m\u001b[0m\n\u001b[1;32m      9\u001b[0m   \u001b[0mfinalpairname\u001b[0m\u001b[0;34m.\u001b[0m\u001b[0mappend\u001b[0m\u001b[0;34m(\u001b[0m\u001b[0madd_index\u001b[0m\u001b[0;34m)\u001b[0m\u001b[0;34m\u001b[0m\u001b[0;34m\u001b[0m\u001b[0m\n",
            "\u001b[0;31mValueError\u001b[0m: min() arg is an empty sequence"
          ]
        }
      ]
    },
    {
      "cell_type": "code",
      "source": [
        "# combine the final paired name with the Chile 1 drug english name\n",
        "Datadrugfn_index = {\"drugs english uppercase names\": OrgDataDirtyNameUEng, \"Final paired catalog name\": finalpairname}"
      ],
      "metadata": {
        "id": "mrIuyQ6jXl5i"
      },
      "id": "mrIuyQ6jXl5i",
      "execution_count": null,
      "outputs": []
    },
    {
      "cell_type": "code",
      "source": [
        "Datadrugfn_index_df = pd.DataFrame(Datadrugfn_index)"
      ],
      "metadata": {
        "id": "-IH7SB9bXlw0"
      },
      "id": "-IH7SB9bXlw0",
      "execution_count": null,
      "outputs": []
    },
    {
      "cell_type": "code",
      "source": [
        "Datadrugfn_index_df[:5]"
      ],
      "metadata": {
        "id": "VT_H6BmNXls1"
      },
      "id": "VT_H6BmNXls1",
      "execution_count": null,
      "outputs": []
    },
    {
      "cell_type": "code",
      "source": [
        "Datadrugfn_index_df.to_excel(\"drugfn_index.xlsx\", sheet_name = 'drugfn_index chile 1')  "
      ],
      "metadata": {
        "id": "yqNuX0PbXlmi"
      },
      "id": "yqNuX0PbXlmi",
      "execution_count": null,
      "outputs": []
    }
  ],
  "metadata": {
    "kernelspec": {
      "display_name": "Python 3 (ipykernel)",
      "language": "python",
      "name": "python3"
    },
    "language_info": {
      "codemirror_mode": {
        "name": "ipython",
        "version": 3
      },
      "file_extension": ".py",
      "mimetype": "text/x-python",
      "name": "python",
      "nbconvert_exporter": "python",
      "pygments_lexer": "ipython3",
      "version": "3.9.7"
    },
    "colab": {
      "name": "(Not Suitable) Map-Codes-General.ipynb",
      "provenance": [],
      "collapsed_sections": [
        "rv4IVPfwSCO3",
        "IrN1IQf15h61",
        "sau0AnJP_R3C"
      ],
      "include_colab_link": true
    }
  },
  "nbformat": 4,
  "nbformat_minor": 5
}
