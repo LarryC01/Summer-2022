{
  "cells": [
    {
      "cell_type": "markdown",
      "metadata": {
        "id": "view-in-github",
        "colab_type": "text"
      },
      "source": [
        "<a href=\"https://colab.research.google.com/github/wenjunc2/PAHO-Drug-Data-Cleaning-Summer-2022/blob/main/2_0_Data_Mapping_for_Chile_1_(Cleaner_Raw_Data%2C_use_scrapy_).ipynb\" target=\"_parent\"><img src=\"https://colab.research.google.com/assets/colab-badge.svg\" alt=\"Open In Colab\"/></a>"
      ]
    },
    {
      "cell_type": "markdown",
      "source": [
        "## Part 1: Set up indexes for clean catagol drug names"
      ],
      "metadata": {
        "id": "4cvK7YSN1P-C"
      },
      "id": "4cvK7YSN1P-C"
    },
    {
      "cell_type": "code",
      "execution_count": null,
      "id": "b3fa8107",
      "metadata": {
        "id": "b3fa8107"
      },
      "outputs": [],
      "source": [
        "# read into clean catagol name\n",
        "import pandas as pd\n",
        "CleanDataBase = pd.read_excel('CleanDataBase.xlsx')\n",
        "CatalogName = CleanDataBase['Catalog Name']\n",
        "CatalogName = list(set(CatalogName))\n",
        "CatalogName = [x for x in CatalogName if str(x) != 'nan']\n",
        "\n",
        "CatalogNameCopy = CatalogName.copy()\n",
        "# uppercase everything\n",
        "CatalogNameU = []\n",
        "for i in CatalogNameCopy:\n",
        "  CatalogNameU.append(i.upper())"
      ]
    },
    {
      "cell_type": "code",
      "source": [
        "CatalogNameU[:5]"
      ],
      "metadata": {
        "colab": {
          "base_uri": "https://localhost:8080/"
        },
        "id": "DJJ8iWu4191x",
        "outputId": "4778b62d-d880-4d4d-f5ba-4fdbb706bfb1"
      },
      "id": "DJJ8iWu4191x",
      "execution_count": null,
      "outputs": [
        {
          "output_type": "execute_result",
          "data": {
            "text/plain": [
              "['PHENOBARBITAL 50 MG, TABLET, TBD',\n",
              " 'CARVEDILOL 6.25 MG, TABLET, TBD',\n",
              " 'FLUCONAZOLE 2 MG/ML, INJECTION, 100 ML VIAL, 10X1',\n",
              " 'CARBAMAZEPINE 400 MG, TABLET, BLISTER, 10X100',\n",
              " 'CHLORTHALIDONE 25 MG, TABLET, BLISTER, 10X3']"
            ]
          },
          "metadata": {},
          "execution_count": 4
        }
      ]
    },
    {
      "cell_type": "code",
      "source": [
        "# split the CatalogNameU\n",
        "#from nltk.tokenize import WordPunctTokenizer  # this function split the string by space\n",
        "#tokenizer = WordPunctTokenizer()\n",
        "\n",
        "CatalogNameUS = []\n",
        "for item in CatalogNameU:\n",
        "  temp = item.split(\",\")\n",
        "  CatalogNameUS.append(temp)"
      ],
      "metadata": {
        "id": "oE6bddCo3Hpt"
      },
      "id": "oE6bddCo3Hpt",
      "execution_count": null,
      "outputs": []
    },
    {
      "cell_type": "code",
      "source": [
        "CatalogNameUS[:5] # after split by \",\""
      ],
      "metadata": {
        "colab": {
          "base_uri": "https://localhost:8080/"
        },
        "id": "Basg7nHy2Mah",
        "outputId": "73c03b2c-191f-4b37-996c-9308aa52b446"
      },
      "id": "Basg7nHy2Mah",
      "execution_count": null,
      "outputs": [
        {
          "output_type": "execute_result",
          "data": {
            "text/plain": [
              "[['PHENOBARBITAL 50 MG', ' TABLET', ' TBD'],\n",
              " ['CARVEDILOL 6.25 MG', ' TABLET', ' TBD'],\n",
              " ['FLUCONAZOLE 2 MG/ML', ' INJECTION', ' 100 ML VIAL', ' 10X1'],\n",
              " ['CARBAMAZEPINE 400 MG', ' TABLET', ' BLISTER', ' 10X100'],\n",
              " ['CHLORTHALIDONE 25 MG', ' TABLET', ' BLISTER', ' 10X3']]"
            ]
          },
          "metadata": {},
          "execution_count": 6
        }
      ]
    },
    {
      "cell_type": "markdown",
      "source": [
        "Clean Catalog Drug Name - presentation form"
      ],
      "metadata": {
        "id": "4tlL7ZeacX7i"
      },
      "id": "4tlL7ZeacX7i"
    },
    {
      "cell_type": "code",
      "source": [
        "# summary the list of presentation form\n",
        "PresentationForm = []\n",
        "\n",
        "for item in CatalogNameUS:\n",
        "  if len(item) >= 2:\n",
        "    PresentationForm.append(item[1])"
      ],
      "metadata": {
        "id": "SaVz4V6G4LJI"
      },
      "id": "SaVz4V6G4LJI",
      "execution_count": null,
      "outputs": []
    },
    {
      "cell_type": "code",
      "source": [
        "PresentationForm = list(set(PresentationForm))\n",
        "\n",
        "len(PresentationForm)"
      ],
      "metadata": {
        "colab": {
          "base_uri": "https://localhost:8080/"
        },
        "id": "natrwVE94tJ9",
        "outputId": "010fe0f7-ebac-4750-e517-377af8bd57ce"
      },
      "id": "natrwVE94tJ9",
      "execution_count": null,
      "outputs": [
        {
          "output_type": "execute_result",
          "data": {
            "text/plain": [
              "29"
            ]
          },
          "metadata": {},
          "execution_count": 8
        }
      ]
    },
    {
      "cell_type": "code",
      "source": [
        "PresentationForm[:5] # the presentation form"
      ],
      "metadata": {
        "colab": {
          "base_uri": "https://localhost:8080/"
        },
        "id": "5KevhLmi4tsE",
        "outputId": "57a84ae3-7aa7-4f10-aa93-fee4bf17d7a2"
      },
      "id": "5KevhLmi4tsE",
      "execution_count": null,
      "outputs": [
        {
          "output_type": "execute_result",
          "data": {
            "text/plain": [
              "[' SUSPENSION FOR INTRATRACHEAL INSTILLATION',\n",
              " ' CAPSULE',\n",
              " ' INHALER',\n",
              " ' ORAL PELLETS',\n",
              " ' 4MG TABLET']"
            ]
          },
          "metadata": {},
          "execution_count": 9
        }
      ]
    },
    {
      "cell_type": "markdown",
      "source": [
        "Clean Catalog Drug Name - main medicine : for get index"
      ],
      "metadata": {
        "id": "0ke1xsH-cfyk"
      },
      "id": "0ke1xsH-cfyk"
    },
    {
      "cell_type": "code",
      "source": [
        "# grab the main medicine \n",
        "MainMedicine = []\n",
        "\n",
        "for item in CatalogNameUS:\n",
        "  MainMedicine.append(item[0])"
      ],
      "metadata": {
        "id": "-E2VlUZR-y0h"
      },
      "id": "-E2VlUZR-y0h",
      "execution_count": null,
      "outputs": []
    },
    {
      "cell_type": "code",
      "source": [
        "print(len(MainMedicine), MainMedicine[:5])"
      ],
      "metadata": {
        "colab": {
          "base_uri": "https://localhost:8080/"
        },
        "id": "lrIPn9U5-ypz",
        "outputId": "0dd82f3c-005c-45e2-efd3-54e275915587"
      },
      "id": "lrIPn9U5-ypz",
      "execution_count": null,
      "outputs": [
        {
          "output_type": "stream",
          "name": "stdout",
          "text": [
            "462 ['PHENOBARBITAL 50 MG', 'CARVEDILOL 6.25 MG', 'FLUCONAZOLE 2 MG/ML', 'CARBAMAZEPINE 400 MG', 'CHLORTHALIDONE 25 MG']\n"
          ]
        }
      ]
    },
    {
      "cell_type": "code",
      "source": [
        "# split MainMedicine to get only the medicne name, and use the medicine name as the index\n",
        "from nltk.tokenize import WordPunctTokenizer\n",
        "tokenizer = WordPunctTokenizer()\n",
        "\n",
        "MainMedicineSpl = []\n",
        "for item in MainMedicine:\n",
        "  tokenlist = tokenizer.tokenize(item)\n",
        "  MainMedicineSpl.append(tokenlist)"
      ],
      "metadata": {
        "id": "JGdoxQpZ-ycG"
      },
      "id": "JGdoxQpZ-ycG",
      "execution_count": null,
      "outputs": []
    },
    {
      "cell_type": "code",
      "source": [
        "MainMedicineSpl[:5]"
      ],
      "metadata": {
        "colab": {
          "base_uri": "https://localhost:8080/"
        },
        "id": "uzztIpM5EM91",
        "outputId": "c85fae04-79de-4c7f-d288-6415fd92bd6f"
      },
      "id": "uzztIpM5EM91",
      "execution_count": null,
      "outputs": [
        {
          "output_type": "execute_result",
          "data": {
            "text/plain": [
              "[['PHENOBARBITAL', '50', 'MG'],\n",
              " ['CARVEDILOL', '6', '.', '25', 'MG'],\n",
              " ['FLUCONAZOLE', '2', 'MG', '/', 'ML'],\n",
              " ['CARBAMAZEPINE', '400', 'MG'],\n",
              " ['CHLORTHALIDONE', '25', 'MG']]"
            ]
          },
          "metadata": {},
          "execution_count": 13
        }
      ]
    },
    {
      "cell_type": "code",
      "source": [
        "MainMedicineIndex = []\n",
        "for item in MainMedicineSpl:\n",
        "  templist = []\n",
        "  for subitem in item:\n",
        "    if len(subitem) > 4 and subitem.isdigit() is False:  ## ignoring these elements such as \"MG\", \"+\", ... \n",
        "      templist.append(subitem)\n",
        "  MainMedicineIndex.append(templist)\n"
      ],
      "metadata": {
        "id": "okfTCeikFWyx"
      },
      "id": "okfTCeikFWyx",
      "execution_count": null,
      "outputs": []
    },
    {
      "cell_type": "code",
      "source": [
        "MainMedicineIndex[:5]"
      ],
      "metadata": {
        "colab": {
          "base_uri": "https://localhost:8080/"
        },
        "id": "k9ZEDPRLFWkB",
        "outputId": "30807e37-285a-461f-ab02-f43bf7195b16"
      },
      "id": "k9ZEDPRLFWkB",
      "execution_count": null,
      "outputs": [
        {
          "output_type": "execute_result",
          "data": {
            "text/plain": [
              "[['PHENOBARBITAL'],\n",
              " ['CARVEDILOL'],\n",
              " ['FLUCONAZOLE'],\n",
              " ['CARBAMAZEPINE'],\n",
              " ['CHLORTHALIDONE']]"
            ]
          },
          "metadata": {},
          "execution_count": 88
        }
      ]
    },
    {
      "cell_type": "code",
      "source": [
        "CatalogIndexData = {\"Catalog Name\": CatalogNameU, \"Catalog Index\": MainMedicineIndex}"
      ],
      "metadata": {
        "id": "aPWF3Cy7FWDj"
      },
      "id": "aPWF3Cy7FWDj",
      "execution_count": null,
      "outputs": []
    },
    {
      "cell_type": "code",
      "source": [
        "CatalogIndexData_df = pd.DataFrame(CatalogIndexData)"
      ],
      "metadata": {
        "id": "djT7SfnVH8Fg"
      },
      "id": "djT7SfnVH8Fg",
      "execution_count": null,
      "outputs": []
    },
    {
      "cell_type": "code",
      "source": [
        "len(CatalogIndexData_df)"
      ],
      "metadata": {
        "colab": {
          "base_uri": "https://localhost:8080/"
        },
        "id": "DYpdNJXrH9NS",
        "outputId": "3cdcb402-bb60-4ff6-a4fa-50831da42cbf"
      },
      "id": "DYpdNJXrH9NS",
      "execution_count": null,
      "outputs": [
        {
          "output_type": "execute_result",
          "data": {
            "text/plain": [
              "462"
            ]
          },
          "metadata": {},
          "execution_count": 18
        }
      ]
    },
    {
      "cell_type": "code",
      "source": [
        "CatalogIndexData_df[:5]"
      ],
      "metadata": {
        "id": "XxuebjYlH9HO",
        "colab": {
          "base_uri": "https://localhost:8080/",
          "height": 206
        },
        "outputId": "c9d2713b-da74-429b-af46-9dd6c6bd2484"
      },
      "id": "XxuebjYlH9HO",
      "execution_count": null,
      "outputs": [
        {
          "output_type": "execute_result",
          "data": {
            "text/plain": [
              "                                        Catalog Name     Catalog Index\n",
              "0                   PHENOBARBITAL 50 MG, TABLET, TBD   [PHENOBARBITAL]\n",
              "1                    CARVEDILOL 6.25 MG, TABLET, TBD      [CARVEDILOL]\n",
              "2  FLUCONAZOLE 2 MG/ML, INJECTION, 100 ML VIAL, 10X1     [FLUCONAZOLE]\n",
              "3      CARBAMAZEPINE 400 MG, TABLET, BLISTER, 10X100   [CARBAMAZEPINE]\n",
              "4        CHLORTHALIDONE 25 MG, TABLET, BLISTER, 10X3  [CHLORTHALIDONE]"
            ],
            "text/html": [
              "\n",
              "  <div id=\"df-939b90d0-bf85-4d1b-80e4-aae58b8e5be4\">\n",
              "    <div class=\"colab-df-container\">\n",
              "      <div>\n",
              "<style scoped>\n",
              "    .dataframe tbody tr th:only-of-type {\n",
              "        vertical-align: middle;\n",
              "    }\n",
              "\n",
              "    .dataframe tbody tr th {\n",
              "        vertical-align: top;\n",
              "    }\n",
              "\n",
              "    .dataframe thead th {\n",
              "        text-align: right;\n",
              "    }\n",
              "</style>\n",
              "<table border=\"1\" class=\"dataframe\">\n",
              "  <thead>\n",
              "    <tr style=\"text-align: right;\">\n",
              "      <th></th>\n",
              "      <th>Catalog Name</th>\n",
              "      <th>Catalog Index</th>\n",
              "    </tr>\n",
              "  </thead>\n",
              "  <tbody>\n",
              "    <tr>\n",
              "      <th>0</th>\n",
              "      <td>PHENOBARBITAL 50 MG, TABLET, TBD</td>\n",
              "      <td>[PHENOBARBITAL]</td>\n",
              "    </tr>\n",
              "    <tr>\n",
              "      <th>1</th>\n",
              "      <td>CARVEDILOL 6.25 MG, TABLET, TBD</td>\n",
              "      <td>[CARVEDILOL]</td>\n",
              "    </tr>\n",
              "    <tr>\n",
              "      <th>2</th>\n",
              "      <td>FLUCONAZOLE 2 MG/ML, INJECTION, 100 ML VIAL, 10X1</td>\n",
              "      <td>[FLUCONAZOLE]</td>\n",
              "    </tr>\n",
              "    <tr>\n",
              "      <th>3</th>\n",
              "      <td>CARBAMAZEPINE 400 MG, TABLET, BLISTER, 10X100</td>\n",
              "      <td>[CARBAMAZEPINE]</td>\n",
              "    </tr>\n",
              "    <tr>\n",
              "      <th>4</th>\n",
              "      <td>CHLORTHALIDONE 25 MG, TABLET, BLISTER, 10X3</td>\n",
              "      <td>[CHLORTHALIDONE]</td>\n",
              "    </tr>\n",
              "  </tbody>\n",
              "</table>\n",
              "</div>\n",
              "      <button class=\"colab-df-convert\" onclick=\"convertToInteractive('df-939b90d0-bf85-4d1b-80e4-aae58b8e5be4')\"\n",
              "              title=\"Convert this dataframe to an interactive table.\"\n",
              "              style=\"display:none;\">\n",
              "        \n",
              "  <svg xmlns=\"http://www.w3.org/2000/svg\" height=\"24px\"viewBox=\"0 0 24 24\"\n",
              "       width=\"24px\">\n",
              "    <path d=\"M0 0h24v24H0V0z\" fill=\"none\"/>\n",
              "    <path d=\"M18.56 5.44l.94 2.06.94-2.06 2.06-.94-2.06-.94-.94-2.06-.94 2.06-2.06.94zm-11 1L8.5 8.5l.94-2.06 2.06-.94-2.06-.94L8.5 2.5l-.94 2.06-2.06.94zm10 10l.94 2.06.94-2.06 2.06-.94-2.06-.94-.94-2.06-.94 2.06-2.06.94z\"/><path d=\"M17.41 7.96l-1.37-1.37c-.4-.4-.92-.59-1.43-.59-.52 0-1.04.2-1.43.59L10.3 9.45l-7.72 7.72c-.78.78-.78 2.05 0 2.83L4 21.41c.39.39.9.59 1.41.59.51 0 1.02-.2 1.41-.59l7.78-7.78 2.81-2.81c.8-.78.8-2.07 0-2.86zM5.41 20L4 18.59l7.72-7.72 1.47 1.35L5.41 20z\"/>\n",
              "  </svg>\n",
              "      </button>\n",
              "      \n",
              "  <style>\n",
              "    .colab-df-container {\n",
              "      display:flex;\n",
              "      flex-wrap:wrap;\n",
              "      gap: 12px;\n",
              "    }\n",
              "\n",
              "    .colab-df-convert {\n",
              "      background-color: #E8F0FE;\n",
              "      border: none;\n",
              "      border-radius: 50%;\n",
              "      cursor: pointer;\n",
              "      display: none;\n",
              "      fill: #1967D2;\n",
              "      height: 32px;\n",
              "      padding: 0 0 0 0;\n",
              "      width: 32px;\n",
              "    }\n",
              "\n",
              "    .colab-df-convert:hover {\n",
              "      background-color: #E2EBFA;\n",
              "      box-shadow: 0px 1px 2px rgba(60, 64, 67, 0.3), 0px 1px 3px 1px rgba(60, 64, 67, 0.15);\n",
              "      fill: #174EA6;\n",
              "    }\n",
              "\n",
              "    [theme=dark] .colab-df-convert {\n",
              "      background-color: #3B4455;\n",
              "      fill: #D2E3FC;\n",
              "    }\n",
              "\n",
              "    [theme=dark] .colab-df-convert:hover {\n",
              "      background-color: #434B5C;\n",
              "      box-shadow: 0px 1px 3px 1px rgba(0, 0, 0, 0.15);\n",
              "      filter: drop-shadow(0px 1px 2px rgba(0, 0, 0, 0.3));\n",
              "      fill: #FFFFFF;\n",
              "    }\n",
              "  </style>\n",
              "\n",
              "      <script>\n",
              "        const buttonEl =\n",
              "          document.querySelector('#df-939b90d0-bf85-4d1b-80e4-aae58b8e5be4 button.colab-df-convert');\n",
              "        buttonEl.style.display =\n",
              "          google.colab.kernel.accessAllowed ? 'block' : 'none';\n",
              "\n",
              "        async function convertToInteractive(key) {\n",
              "          const element = document.querySelector('#df-939b90d0-bf85-4d1b-80e4-aae58b8e5be4');\n",
              "          const dataTable =\n",
              "            await google.colab.kernel.invokeFunction('convertToInteractive',\n",
              "                                                     [key], {});\n",
              "          if (!dataTable) return;\n",
              "\n",
              "          const docLinkHtml = 'Like what you see? Visit the ' +\n",
              "            '<a target=\"_blank\" href=https://colab.research.google.com/notebooks/data_table.ipynb>data table notebook</a>'\n",
              "            + ' to learn more about interactive tables.';\n",
              "          element.innerHTML = '';\n",
              "          dataTable['output_type'] = 'display_data';\n",
              "          await google.colab.output.renderOutput(dataTable, element);\n",
              "          const docLink = document.createElement('div');\n",
              "          docLink.innerHTML = docLinkHtml;\n",
              "          element.appendChild(docLink);\n",
              "        }\n",
              "      </script>\n",
              "    </div>\n",
              "  </div>\n",
              "  "
            ]
          },
          "metadata": {},
          "execution_count": 19
        }
      ]
    },
    {
      "cell_type": "markdown",
      "source": [
        "List of main medicine which is used to compare and pair with Chile 1"
      ],
      "metadata": {
        "id": "aNKdOe5tdO2i"
      },
      "id": "aNKdOe5tdO2i"
    },
    {
      "cell_type": "code",
      "source": [
        "# create a list for main medicine from catalog name data set\n",
        "CatalogMedName = []\n",
        "for item in MainMedicineIndex:\n",
        "  for subitem in item:\n",
        "    CatalogMedName.append(subitem)"
      ],
      "metadata": {
        "id": "5Mr8zfwpSMaF"
      },
      "id": "5Mr8zfwpSMaF",
      "execution_count": null,
      "outputs": []
    },
    {
      "cell_type": "code",
      "source": [
        "CatalogMedName = list(set(CatalogMedName))\n",
        "len(CatalogMedName)"
      ],
      "metadata": {
        "colab": {
          "base_uri": "https://localhost:8080/"
        },
        "id": "EUlIZleWSwg-",
        "outputId": "e95eaac7-741a-485e-ec24-3524f687bb37"
      },
      "id": "EUlIZleWSwg-",
      "execution_count": null,
      "outputs": [
        {
          "output_type": "execute_result",
          "data": {
            "text/plain": [
              "206"
            ]
          },
          "metadata": {},
          "execution_count": 22
        }
      ]
    },
    {
      "cell_type": "code",
      "source": [
        "CatalogMedName[:3]"
      ],
      "metadata": {
        "colab": {
          "base_uri": "https://localhost:8080/"
        },
        "id": "MCeqpZc1S57T",
        "outputId": "0e5d1553-c8fd-4119-aee1-f20bbf06f3e6"
      },
      "id": "MCeqpZc1S57T",
      "execution_count": null,
      "outputs": [
        {
          "output_type": "execute_result",
          "data": {
            "text/plain": [
              "['RANITIDINE', 'DEXTROMETORFANO', 'MOXIFLOXACIN']"
            ]
          },
          "metadata": {},
          "execution_count": 23
        }
      ]
    },
    {
      "cell_type": "markdown",
      "source": [
        "## Part 2: get the chile 1 data set drug names list"
      ],
      "metadata": {
        "id": "4eziXB_Q7oCh"
      },
      "id": "4eziXB_Q7oCh"
    },
    {
      "cell_type": "code",
      "source": [
        "import chardet\n",
        "with open('CHLDiab1.csv', 'rb') as rawdata:\n",
        "    result = chardet.detect(rawdata.read(100000))\n",
        "result"
      ],
      "metadata": {
        "colab": {
          "base_uri": "https://localhost:8080/"
        },
        "id": "GXsIbk6T7obX",
        "outputId": "e1f03e52-14a2-4351-9bb2-163ab54d2457"
      },
      "id": "GXsIbk6T7obX",
      "execution_count": null,
      "outputs": [
        {
          "output_type": "execute_result",
          "data": {
            "text/plain": [
              "{'confidence': 0.73, 'encoding': 'Windows-1252', 'language': ''}"
            ]
          },
          "metadata": {},
          "execution_count": 24
        }
      ]
    },
    {
      "cell_type": "code",
      "source": [
        "import pandas as pd\n",
        "CHLDiab1 = pd.read_csv('CHLDiab1.csv',encoding='Windows-1252')\n",
        "#CHLDiab1.head(1)"
      ],
      "metadata": {
        "id": "JjYkxJm27o56"
      },
      "id": "JjYkxJm27o56",
      "execution_count": null,
      "outputs": []
    },
    {
      "cell_type": "code",
      "source": [
        "CHLDiab1DirtyName = CHLDiab1['Descripcion linea Adquisicion']"
      ],
      "metadata": {
        "id": "bURoxyuX7o3k"
      },
      "id": "bURoxyuX7o3k",
      "execution_count": null,
      "outputs": []
    },
    {
      "cell_type": "code",
      "source": [
        "len(CHLDiab1DirtyName) # length of drug names"
      ],
      "metadata": {
        "colab": {
          "base_uri": "https://localhost:8080/"
        },
        "id": "1gwN4bwa7ozj",
        "outputId": "3de24bfb-19ec-4991-fb7e-2089b9121efc"
      },
      "id": "1gwN4bwa7ozj",
      "execution_count": null,
      "outputs": [
        {
          "output_type": "execute_result",
          "data": {
            "text/plain": [
              "20606"
            ]
          },
          "metadata": {},
          "execution_count": 27
        }
      ]
    },
    {
      "cell_type": "code",
      "source": [
        "CHLDiab1DirtyName = list(set(CHLDiab1DirtyName))\n",
        "len(CHLDiab1DirtyName) # length of drug names after remove duplicates"
      ],
      "metadata": {
        "colab": {
          "base_uri": "https://localhost:8080/"
        },
        "id": "PkyNQXed7ovj",
        "outputId": "31ba7f80-dc88-49a4-ca17-a00a12a06edb"
      },
      "id": "PkyNQXed7ovj",
      "execution_count": null,
      "outputs": [
        {
          "output_type": "execute_result",
          "data": {
            "text/plain": [
              "3663"
            ]
          },
          "metadata": {},
          "execution_count": 28
        }
      ]
    },
    {
      "cell_type": "code",
      "source": [
        "# uppercase everything\n",
        "CHLDiab1DirtyNameU = []\n",
        "for i in CHLDiab1DirtyName:\n",
        "  CHLDiab1DirtyNameU.append(i.upper())"
      ],
      "metadata": {
        "id": "ph3jhe718shZ"
      },
      "id": "ph3jhe718shZ",
      "execution_count": null,
      "outputs": []
    },
    {
      "cell_type": "code",
      "source": [
        "CHLDiab1DirtyNameU[:5]"
      ],
      "metadata": {
        "colab": {
          "base_uri": "https://localhost:8080/"
        },
        "id": "SQmW4-sl8sMJ",
        "outputId": "390dd5fd-9e62-42ba-e690-2df82dee4cbc"
      },
      "id": "SQmW4-sl8sMJ",
      "execution_count": null,
      "outputs": [
        {
          "output_type": "execute_result",
          "data": {
            "text/plain": [
              "['GLICENEX SR 1000 METFORMINA 1000 MG',\n",
              " 'INSULINA 100 UI/ML (ULTRARRAPIDA) 3ML DISPOSITIVO MULTIDOSIS',\n",
              " 'METFORMINA 500 MG COMPRIMIDOS DE LIBERACIÓN CONVENCIONAL. ENVASE 500 COMPRIMIDOS',\n",
              " 'DAPAGLIFOZINA METFORMINA 10/1000 X 56 TABLETAS SIMILAR A XIGDUO',\n",
              " 'JERINGA INSULINA 1CC 29 GX 1/2\\tUNIDAD']"
            ]
          },
          "metadata": {},
          "execution_count": 30
        }
      ]
    },
    {
      "cell_type": "code",
      "source": [
        "!pip install googletrans==3.1.0a0\n",
        "from googletrans import Translator\n",
        "translator = Translator(service_urls=['translate.googleapis.com'])\n",
        "example = CHLDiab1DirtyNameU[0]\n",
        "translation = translator.translate(example, dest='en')\n",
        "print(translation.text)"
      ],
      "metadata": {
        "id": "NjP8_02b9F0a",
        "colab": {
          "base_uri": "https://localhost:8080/"
        },
        "outputId": "d52ab9ed-4616-4007-a483-f25407714afd"
      },
      "id": "NjP8_02b9F0a",
      "execution_count": null,
      "outputs": [
        {
          "output_type": "stream",
          "name": "stdout",
          "text": [
            "Looking in indexes: https://pypi.org/simple, https://us-python.pkg.dev/colab-wheels/public/simple/\n",
            "Requirement already satisfied: googletrans==3.1.0a0 in /usr/local/lib/python3.7/dist-packages (3.1.0a0)\n",
            "Requirement already satisfied: httpx==0.13.3 in /usr/local/lib/python3.7/dist-packages (from googletrans==3.1.0a0) (0.13.3)\n",
            "Requirement already satisfied: httpcore==0.9.* in /usr/local/lib/python3.7/dist-packages (from httpx==0.13.3->googletrans==3.1.0a0) (0.9.1)\n",
            "Requirement already satisfied: certifi in /usr/local/lib/python3.7/dist-packages (from httpx==0.13.3->googletrans==3.1.0a0) (2022.6.15)\n",
            "Requirement already satisfied: idna==2.* in /usr/local/lib/python3.7/dist-packages (from httpx==0.13.3->googletrans==3.1.0a0) (2.10)\n",
            "Requirement already satisfied: chardet==3.* in /usr/local/lib/python3.7/dist-packages (from httpx==0.13.3->googletrans==3.1.0a0) (3.0.4)\n",
            "Requirement already satisfied: rfc3986<2,>=1.3 in /usr/local/lib/python3.7/dist-packages (from httpx==0.13.3->googletrans==3.1.0a0) (1.5.0)\n",
            "Requirement already satisfied: hstspreload in /usr/local/lib/python3.7/dist-packages (from httpx==0.13.3->googletrans==3.1.0a0) (2022.7.10)\n",
            "Requirement already satisfied: sniffio in /usr/local/lib/python3.7/dist-packages (from httpx==0.13.3->googletrans==3.1.0a0) (1.2.0)\n",
            "Requirement already satisfied: h11<0.10,>=0.8 in /usr/local/lib/python3.7/dist-packages (from httpcore==0.9.*->httpx==0.13.3->googletrans==3.1.0a0) (0.9.0)\n",
            "Requirement already satisfied: h2==3.* in /usr/local/lib/python3.7/dist-packages (from httpcore==0.9.*->httpx==0.13.3->googletrans==3.1.0a0) (3.2.0)\n",
            "Requirement already satisfied: hyperframe<6,>=5.2.0 in /usr/local/lib/python3.7/dist-packages (from h2==3.*->httpcore==0.9.*->httpx==0.13.3->googletrans==3.1.0a0) (5.2.0)\n",
            "Requirement already satisfied: hpack<4,>=3.0 in /usr/local/lib/python3.7/dist-packages (from h2==3.*->httpcore==0.9.*->httpx==0.13.3->googletrans==3.1.0a0) (3.0.0)\n",
            "GLICENEX SR 1000 METFORMINA 1000 MG\n"
          ]
        }
      ]
    },
    {
      "cell_type": "code",
      "source": [
        "CHLDiab1DirtyNameU[0]"
      ],
      "metadata": {
        "colab": {
          "base_uri": "https://localhost:8080/",
          "height": 35
        },
        "id": "GoWLBB3LAy2G",
        "outputId": "4b51cf5b-ccd7-42f3-b271-6d9a3ac894cf"
      },
      "id": "GoWLBB3LAy2G",
      "execution_count": null,
      "outputs": [
        {
          "output_type": "execute_result",
          "data": {
            "text/plain": [
              "'GLICENEX SR 1000 METFORMINA 1000 MG'"
            ],
            "application/vnd.google.colaboratory.intrinsic+json": {
              "type": "string"
            }
          },
          "metadata": {},
          "execution_count": 32
        }
      ]
    },
    {
      "cell_type": "code",
      "source": [
        "# get the orignila index about medicine name for each drug name \n",
        "\n",
        "from nltk.tokenize import WordPunctTokenizer  # this function split the string by space\n",
        "tokenizer = WordPunctTokenizer()\n",
        "\n",
        "CHLDiab1DirtyNameUSpl = []\n",
        "for item in CHLDiab1DirtyNameU:\n",
        "  tokenlist = tokenizer.tokenize(item)\n",
        "  CHLDiab1DirtyNameUSpl.append(tokenlist)"
      ],
      "metadata": {
        "id": "N02qArZOGdah"
      },
      "id": "N02qArZOGdah",
      "execution_count": null,
      "outputs": []
    },
    {
      "cell_type": "code",
      "source": [
        "CHLDiab1DirtyNameUSpl[:1]"
      ],
      "metadata": {
        "id": "rea1zClPHshJ",
        "colab": {
          "base_uri": "https://localhost:8080/"
        },
        "outputId": "1cce2fc6-05f8-495c-bb60-b881638bde30"
      },
      "id": "rea1zClPHshJ",
      "execution_count": null,
      "outputs": [
        {
          "output_type": "execute_result",
          "data": {
            "text/plain": [
              "[['GLICENEX', 'SR', '1000', 'METFORMINA', '1000', 'MG']]"
            ]
          },
          "metadata": {},
          "execution_count": 34
        }
      ]
    },
    {
      "cell_type": "code",
      "source": [
        "CHLDiab1DirtyNameIndex = []\n",
        "for item in CHLDiab1DirtyNameUSpl:\n",
        "  templist = []\n",
        "  for subitem in item:\n",
        "    if len(subitem) > 4 and subitem.isdigit() is False:  ## ignoring these elements such as \"MG\", \"+\", ... \n",
        "      templist.append(subitem)\n",
        "  CHLDiab1DirtyNameIndex.append(templist)"
      ],
      "metadata": {
        "id": "VJvAzfXeGdTF"
      },
      "id": "VJvAzfXeGdTF",
      "execution_count": null,
      "outputs": []
    },
    {
      "cell_type": "code",
      "source": [
        "CHLDiab1DirtyNameIndex[:1]"
      ],
      "metadata": {
        "colab": {
          "base_uri": "https://localhost:8080/"
        },
        "id": "ObFaZc3pGdLZ",
        "outputId": "e01473c1-5e9d-41e9-8d11-4af633eed840"
      },
      "id": "ObFaZc3pGdLZ",
      "execution_count": null,
      "outputs": [
        {
          "output_type": "execute_result",
          "data": {
            "text/plain": [
              "[['GLICENEX', 'METFORMINA']]"
            ]
          },
          "metadata": {},
          "execution_count": 36
        }
      ]
    },
    {
      "cell_type": "code",
      "source": [
        "# translate these names (indexes) to English\n",
        "CHLDiab1DirtyNameIndexEng = []\n",
        "\n",
        "for item in CHLDiab1DirtyNameIndex:\n",
        "  temp_sublist = []\n",
        "  for subitem in item:\n",
        "    temp = translator.translate(subitem, dest='en')\n",
        "    temp_sublist.append(temp.text)\n",
        "  CHLDiab1DirtyNameIndexEng.append(temp_sublist)\n",
        "\n",
        "# this block runs 21 mins"
      ],
      "metadata": {
        "id": "ksRWL1L8GdBu"
      },
      "id": "ksRWL1L8GdBu",
      "execution_count": null,
      "outputs": []
    },
    {
      "cell_type": "code",
      "source": [
        "# delete the information in each piece of drug name after SIMILAR\n",
        "def DelSIMILAR(subitem):\n",
        "  finalindex = len(subitem)\n",
        "  for subindex in range(0, len(subitem)):\n",
        "    if subitem[subindex] == 'SIMILAR':\n",
        "      finalindex = subindex\n",
        "  return subitem[:finalindex]"
      ],
      "metadata": {
        "id": "kTbXmZldM5zJ"
      },
      "id": "kTbXmZldM5zJ",
      "execution_count": null,
      "outputs": []
    },
    {
      "cell_type": "code",
      "source": [
        "# delete the information in each piece of drug name after EQUIVALENT\n",
        "def DelEQUIVALENT(subitem):\n",
        "  finalindex = len(subitem)\n",
        "  for subindex in range(0, len(subitem)):\n",
        "    if subitem[subindex] == 'EQUIVALENT':\n",
        "      finalindex = subindex\n",
        "  return subitem[:finalindex]"
      ],
      "metadata": {
        "id": "dwLliOLMMR_x"
      },
      "id": "dwLliOLMMR_x",
      "execution_count": null,
      "outputs": []
    },
    {
      "cell_type": "code",
      "source": [
        "CHLDiab1DirtyNameIndexEngDelSIMILAR = []\n",
        "for item in CHLDiab1DirtyNameIndexEng:\n",
        "  add = DelSIMILAR(item)\n",
        "  add = DelEQUIVALENT(add)\n",
        "  CHLDiab1DirtyNameIndexEngDelSIMILAR.append(add)"
      ],
      "metadata": {
        "id": "FnFCqVbzMR9s"
      },
      "id": "FnFCqVbzMR9s",
      "execution_count": null,
      "outputs": []
    },
    {
      "cell_type": "code",
      "source": [
        "# for the vocabulaies which are included in the medicine index get from clean data set, keep them in the \n",
        "# Chile 1 data index\n",
        "def KeepMetAnd(subitem):\n",
        "  addlist = []\n",
        "  for element in subitem:\n",
        "    if element in CatalogMedName:\n",
        "      addlist.append(element)\n",
        "  return addlist"
      ],
      "metadata": {
        "id": "FDkGewF_MR0j"
      },
      "id": "FDkGewF_MR0j",
      "execution_count": null,
      "outputs": []
    },
    {
      "cell_type": "code",
      "source": [
        "CHIfinIndex = []\n",
        "for sublist in CHLDiab1DirtyNameIndexEngDelSIMILAR:\n",
        "  add = KeepMetAnd(sublist)\n",
        "  CHIfinIndex.append(add)"
      ],
      "metadata": {
        "id": "HzKjNZdQWJMH"
      },
      "id": "HzKjNZdQWJMH",
      "execution_count": null,
      "outputs": []
    },
    {
      "cell_type": "code",
      "source": [
        "# count the number of Chile index sub list which is null []\n",
        "count = 0\n",
        "for i in CHIfinIndex:\n",
        "  if not i:\n",
        "    count += 1"
      ],
      "metadata": {
        "id": "GzZF6yF4Wqim"
      },
      "id": "GzZF6yF4Wqim",
      "execution_count": null,
      "outputs": []
    },
    {
      "cell_type": "code",
      "source": [
        "count"
      ],
      "metadata": {
        "colab": {
          "base_uri": "https://localhost:8080/"
        },
        "id": "iGpBBQGUXC7x",
        "outputId": "6b835dda-5253-42ac-a808-2b8991db31b4"
      },
      "id": "iGpBBQGUXC7x",
      "execution_count": null,
      "outputs": [
        {
          "output_type": "execute_result",
          "data": {
            "text/plain": [
              "447"
            ]
          },
          "metadata": {},
          "execution_count": 44
        }
      ]
    },
    {
      "cell_type": "code",
      "source": [
        "nullindexlist = []\n",
        "for i in range(0, len(CHIfinIndex)):\n",
        "  if not CHIfinIndex[i]:\n",
        "    nullindexlist.append(i)"
      ],
      "metadata": {
        "id": "acNyIkihXQ_A"
      },
      "id": "acNyIkihXQ_A",
      "execution_count": null,
      "outputs": []
    },
    {
      "cell_type": "code",
      "source": [
        "!pip install -U spacy\n",
        "!pip install scispacy"
      ],
      "metadata": {
        "id": "BvqwZPnIXQZd",
        "colab": {
          "base_uri": "https://localhost:8080/"
        },
        "outputId": "1a08149f-a477-4d8f-b490-4ca3a9a3d9dd"
      },
      "id": "BvqwZPnIXQZd",
      "execution_count": null,
      "outputs": [
        {
          "output_type": "stream",
          "name": "stdout",
          "text": [
            "Looking in indexes: https://pypi.org/simple, https://us-python.pkg.dev/colab-wheels/public/simple/\n",
            "Requirement already satisfied: spacy in /usr/local/lib/python3.7/dist-packages (3.0.8)\n",
            "Collecting spacy\n",
            "  Using cached spacy-3.4.1-cp37-cp37m-manylinux_2_17_x86_64.manylinux2014_x86_64.whl (6.3 MB)\n",
            "Requirement already satisfied: spacy-loggers<2.0.0,>=1.0.0 in /usr/local/lib/python3.7/dist-packages (from spacy) (1.0.3)\n",
            "Requirement already satisfied: preshed<3.1.0,>=3.0.2 in /usr/local/lib/python3.7/dist-packages (from spacy) (3.0.6)\n",
            "Requirement already satisfied: setuptools in /usr/local/lib/python3.7/dist-packages (from spacy) (57.4.0)\n",
            "Requirement already satisfied: tqdm<5.0.0,>=4.38.0 in /usr/local/lib/python3.7/dist-packages (from spacy) (4.64.0)\n",
            "Requirement already satisfied: pathy>=0.3.5 in /usr/local/lib/python3.7/dist-packages (from spacy) (0.6.2)\n",
            "Requirement already satisfied: srsly<3.0.0,>=2.4.3 in /usr/local/lib/python3.7/dist-packages (from spacy) (2.4.4)\n",
            "Requirement already satisfied: langcodes<4.0.0,>=3.2.0 in /usr/local/lib/python3.7/dist-packages (from spacy) (3.3.0)\n",
            "Requirement already satisfied: typing-extensions<4.2.0,>=3.7.4 in /usr/local/lib/python3.7/dist-packages (from spacy) (3.10.0.2)\n",
            "Requirement already satisfied: numpy>=1.15.0 in /usr/local/lib/python3.7/dist-packages (from spacy) (1.21.6)\n",
            "Requirement already satisfied: requests<3.0.0,>=2.13.0 in /usr/local/lib/python3.7/dist-packages (from spacy) (2.23.0)\n",
            "Requirement already satisfied: murmurhash<1.1.0,>=0.28.0 in /usr/local/lib/python3.7/dist-packages (from spacy) (1.0.7)\n",
            "Requirement already satisfied: wasabi<1.1.0,>=0.9.1 in /usr/local/lib/python3.7/dist-packages (from spacy) (0.9.1)\n",
            "Requirement already satisfied: catalogue<2.1.0,>=2.0.6 in /usr/local/lib/python3.7/dist-packages (from spacy) (2.0.7)\n",
            "Requirement already satisfied: spacy-legacy<3.1.0,>=3.0.9 in /usr/local/lib/python3.7/dist-packages (from spacy) (3.0.9)\n",
            "Requirement already satisfied: cymem<2.1.0,>=2.0.2 in /usr/local/lib/python3.7/dist-packages (from spacy) (2.0.6)\n",
            "Collecting thinc<8.2.0,>=8.1.0\n",
            "  Downloading thinc-8.1.0-cp37-cp37m-manylinux_2_17_x86_64.manylinux2014_x86_64.whl (821 kB)\n",
            "\u001b[K     |████████████████████████████████| 821 kB 4.3 MB/s \n",
            "\u001b[?25hRequirement already satisfied: typer<0.5.0,>=0.3.0 in /usr/local/lib/python3.7/dist-packages (from spacy) (0.3.2)\n",
            "Requirement already satisfied: pydantic!=1.8,!=1.8.1,<1.10.0,>=1.7.4 in /usr/local/lib/python3.7/dist-packages (from spacy) (1.8.2)\n",
            "Requirement already satisfied: packaging>=20.0 in /usr/local/lib/python3.7/dist-packages (from spacy) (21.3)\n",
            "Requirement already satisfied: jinja2 in /usr/local/lib/python3.7/dist-packages (from spacy) (2.11.3)\n",
            "Requirement already satisfied: zipp>=0.5 in /usr/local/lib/python3.7/dist-packages (from catalogue<2.1.0,>=2.0.6->spacy) (3.8.1)\n",
            "Requirement already satisfied: pyparsing!=3.0.5,>=2.0.2 in /usr/local/lib/python3.7/dist-packages (from packaging>=20.0->spacy) (3.0.9)\n",
            "Requirement already satisfied: smart-open<6.0.0,>=5.2.1 in /usr/local/lib/python3.7/dist-packages (from pathy>=0.3.5->spacy) (5.2.1)\n",
            "Requirement already satisfied: chardet<4,>=3.0.2 in /usr/local/lib/python3.7/dist-packages (from requests<3.0.0,>=2.13.0->spacy) (3.0.4)\n",
            "Requirement already satisfied: idna<3,>=2.5 in /usr/local/lib/python3.7/dist-packages (from requests<3.0.0,>=2.13.0->spacy) (2.10)\n",
            "Requirement already satisfied: urllib3!=1.25.0,!=1.25.1,<1.26,>=1.21.1 in /usr/local/lib/python3.7/dist-packages (from requests<3.0.0,>=2.13.0->spacy) (1.24.3)\n",
            "Requirement already satisfied: certifi>=2017.4.17 in /usr/local/lib/python3.7/dist-packages (from requests<3.0.0,>=2.13.0->spacy) (2022.6.15)\n",
            "Requirement already satisfied: blis<0.8.0,>=0.7.8 in /usr/local/lib/python3.7/dist-packages (from thinc<8.2.0,>=8.1.0->spacy) (0.7.8)\n",
            "Requirement already satisfied: click<7.2.0,>=7.1.1 in /usr/local/lib/python3.7/dist-packages (from typer<0.5.0,>=0.3.0->spacy) (7.1.2)\n",
            "Requirement already satisfied: MarkupSafe>=0.23 in /usr/local/lib/python3.7/dist-packages (from jinja2->spacy) (2.0.1)\n",
            "Installing collected packages: thinc, spacy\n",
            "  Attempting uninstall: thinc\n",
            "    Found existing installation: thinc 8.0.17\n",
            "    Uninstalling thinc-8.0.17:\n",
            "      Successfully uninstalled thinc-8.0.17\n",
            "  Attempting uninstall: spacy\n",
            "    Found existing installation: spacy 3.0.8\n",
            "    Uninstalling spacy-3.0.8:\n",
            "      Successfully uninstalled spacy-3.0.8\n",
            "\u001b[31mERROR: pip's dependency resolver does not currently take into account all the packages that are installed. This behaviour is the source of the following dependency conflicts.\n",
            "scispacy 0.5.0 requires spacy<3.3.0,>=3.2.0, but you have spacy 3.4.1 which is incompatible.\n",
            "en-ner-jnlpba-md 0.4.0 requires spacy<3.1.0,>=3.0.1, but you have spacy 3.4.1 which is incompatible.\n",
            "en-ner-craft-md 0.4.0 requires spacy<3.1.0,>=3.0.1, but you have spacy 3.4.1 which is incompatible.\n",
            "en-ner-bionlp13cg-md 0.4.0 requires spacy<3.1.0,>=3.0.1, but you have spacy 3.4.1 which is incompatible.\n",
            "en-ner-bc5cdr-md 0.4.0 requires spacy<3.1.0,>=3.0.1, but you have spacy 3.4.1 which is incompatible.\n",
            "en-core-sci-sm 0.4.0 requires spacy<3.1.0,>=3.0.1, but you have spacy 3.4.1 which is incompatible.\n",
            "en-core-sci-lg 0.4.0 requires spacy<3.1.0,>=3.0.1, but you have spacy 3.4.1 which is incompatible.\u001b[0m\n",
            "Successfully installed spacy-3.4.1 thinc-8.1.0\n",
            "Looking in indexes: https://pypi.org/simple, https://us-python.pkg.dev/colab-wheels/public/simple/\n",
            "Requirement already satisfied: scispacy in /usr/local/lib/python3.7/dist-packages (0.5.0)\n",
            "Requirement already satisfied: scikit-learn>=0.20.3 in /usr/local/lib/python3.7/dist-packages (from scispacy) (1.0.2)\n",
            "Requirement already satisfied: pysbd in /usr/local/lib/python3.7/dist-packages (from scispacy) (0.3.4)\n",
            "Requirement already satisfied: joblib in /usr/local/lib/python3.7/dist-packages (from scispacy) (1.1.0)\n",
            "Collecting spacy<3.3.0,>=3.2.0\n",
            "  Using cached spacy-3.2.4-cp37-cp37m-manylinux_2_17_x86_64.manylinux2014_x86_64.whl (6.0 MB)\n",
            "Requirement already satisfied: numpy in /usr/local/lib/python3.7/dist-packages (from scispacy) (1.21.6)\n",
            "Requirement already satisfied: nmslib>=1.7.3.6 in /usr/local/lib/python3.7/dist-packages (from scispacy) (2.1.1)\n",
            "Requirement already satisfied: conllu in /usr/local/lib/python3.7/dist-packages (from scispacy) (4.5.1)\n",
            "Requirement already satisfied: requests<3.0.0,>=2.0.0 in /usr/local/lib/python3.7/dist-packages (from scispacy) (2.23.0)\n",
            "Requirement already satisfied: psutil in /usr/local/lib/python3.7/dist-packages (from nmslib>=1.7.3.6->scispacy) (5.4.8)\n",
            "Requirement already satisfied: pybind11<2.6.2 in /usr/local/lib/python3.7/dist-packages (from nmslib>=1.7.3.6->scispacy) (2.6.1)\n",
            "Requirement already satisfied: certifi>=2017.4.17 in /usr/local/lib/python3.7/dist-packages (from requests<3.0.0,>=2.0.0->scispacy) (2022.6.15)\n",
            "Requirement already satisfied: urllib3!=1.25.0,!=1.25.1,<1.26,>=1.21.1 in /usr/local/lib/python3.7/dist-packages (from requests<3.0.0,>=2.0.0->scispacy) (1.24.3)\n",
            "Requirement already satisfied: chardet<4,>=3.0.2 in /usr/local/lib/python3.7/dist-packages (from requests<3.0.0,>=2.0.0->scispacy) (3.0.4)\n",
            "Requirement already satisfied: idna<3,>=2.5 in /usr/local/lib/python3.7/dist-packages (from requests<3.0.0,>=2.0.0->scispacy) (2.10)\n",
            "Requirement already satisfied: threadpoolctl>=2.0.0 in /usr/local/lib/python3.7/dist-packages (from scikit-learn>=0.20.3->scispacy) (3.1.0)\n",
            "Requirement already satisfied: scipy>=1.1.0 in /usr/local/lib/python3.7/dist-packages (from scikit-learn>=0.20.3->scispacy) (1.7.3)\n",
            "Requirement already satisfied: cymem<2.1.0,>=2.0.2 in /usr/local/lib/python3.7/dist-packages (from spacy<3.3.0,>=3.2.0->scispacy) (2.0.6)\n",
            "Requirement already satisfied: spacy-loggers<2.0.0,>=1.0.0 in /usr/local/lib/python3.7/dist-packages (from spacy<3.3.0,>=3.2.0->scispacy) (1.0.3)\n",
            "Requirement already satisfied: spacy-legacy<3.1.0,>=3.0.8 in /usr/local/lib/python3.7/dist-packages (from spacy<3.3.0,>=3.2.0->scispacy) (3.0.9)\n",
            "Requirement already satisfied: catalogue<2.1.0,>=2.0.6 in /usr/local/lib/python3.7/dist-packages (from spacy<3.3.0,>=3.2.0->scispacy) (2.0.7)\n",
            "Requirement already satisfied: blis<0.8.0,>=0.4.0 in /usr/local/lib/python3.7/dist-packages (from spacy<3.3.0,>=3.2.0->scispacy) (0.7.8)\n",
            "Requirement already satisfied: jinja2 in /usr/local/lib/python3.7/dist-packages (from spacy<3.3.0,>=3.2.0->scispacy) (2.11.3)\n",
            "Requirement already satisfied: pydantic!=1.8,!=1.8.1,<1.9.0,>=1.7.4 in /usr/local/lib/python3.7/dist-packages (from spacy<3.3.0,>=3.2.0->scispacy) (1.8.2)\n",
            "Requirement already satisfied: langcodes<4.0.0,>=3.2.0 in /usr/local/lib/python3.7/dist-packages (from spacy<3.3.0,>=3.2.0->scispacy) (3.3.0)\n",
            "Requirement already satisfied: tqdm<5.0.0,>=4.38.0 in /usr/local/lib/python3.7/dist-packages (from spacy<3.3.0,>=3.2.0->scispacy) (4.64.0)\n",
            "Requirement already satisfied: packaging>=20.0 in /usr/local/lib/python3.7/dist-packages (from spacy<3.3.0,>=3.2.0->scispacy) (21.3)\n",
            "Requirement already satisfied: srsly<3.0.0,>=2.4.1 in /usr/local/lib/python3.7/dist-packages (from spacy<3.3.0,>=3.2.0->scispacy) (2.4.4)\n",
            "Requirement already satisfied: typer<0.5.0,>=0.3.0 in /usr/local/lib/python3.7/dist-packages (from spacy<3.3.0,>=3.2.0->scispacy) (0.3.2)\n",
            "Requirement already satisfied: pathy>=0.3.5 in /usr/local/lib/python3.7/dist-packages (from spacy<3.3.0,>=3.2.0->scispacy) (0.6.2)\n",
            "Requirement already satisfied: murmurhash<1.1.0,>=0.28.0 in /usr/local/lib/python3.7/dist-packages (from spacy<3.3.0,>=3.2.0->scispacy) (1.0.7)\n",
            "Requirement already satisfied: wasabi<1.1.0,>=0.8.1 in /usr/local/lib/python3.7/dist-packages (from spacy<3.3.0,>=3.2.0->scispacy) (0.9.1)\n",
            "Requirement already satisfied: typing-extensions<4.0.0.0,>=3.7.4 in /usr/local/lib/python3.7/dist-packages (from spacy<3.3.0,>=3.2.0->scispacy) (3.10.0.2)\n",
            "Requirement already satisfied: setuptools in /usr/local/lib/python3.7/dist-packages (from spacy<3.3.0,>=3.2.0->scispacy) (57.4.0)\n",
            "Requirement already satisfied: preshed<3.1.0,>=3.0.2 in /usr/local/lib/python3.7/dist-packages (from spacy<3.3.0,>=3.2.0->scispacy) (3.0.6)\n",
            "Collecting thinc<8.1.0,>=8.0.12\n",
            "  Using cached thinc-8.0.17-cp37-cp37m-manylinux_2_17_x86_64.manylinux2014_x86_64.whl (660 kB)\n",
            "Requirement already satisfied: click<8.1.0 in /usr/local/lib/python3.7/dist-packages (from spacy<3.3.0,>=3.2.0->scispacy) (7.1.2)\n",
            "Requirement already satisfied: zipp>=0.5 in /usr/local/lib/python3.7/dist-packages (from catalogue<2.1.0,>=2.0.6->spacy<3.3.0,>=3.2.0->scispacy) (3.8.1)\n",
            "Requirement already satisfied: pyparsing!=3.0.5,>=2.0.2 in /usr/local/lib/python3.7/dist-packages (from packaging>=20.0->spacy<3.3.0,>=3.2.0->scispacy) (3.0.9)\n",
            "Requirement already satisfied: smart-open<6.0.0,>=5.2.1 in /usr/local/lib/python3.7/dist-packages (from pathy>=0.3.5->spacy<3.3.0,>=3.2.0->scispacy) (5.2.1)\n",
            "Requirement already satisfied: MarkupSafe>=0.23 in /usr/local/lib/python3.7/dist-packages (from jinja2->spacy<3.3.0,>=3.2.0->scispacy) (2.0.1)\n",
            "Installing collected packages: thinc, spacy\n",
            "  Attempting uninstall: thinc\n",
            "    Found existing installation: thinc 8.1.0\n",
            "    Uninstalling thinc-8.1.0:\n",
            "      Successfully uninstalled thinc-8.1.0\n",
            "  Attempting uninstall: spacy\n",
            "    Found existing installation: spacy 3.4.1\n",
            "    Uninstalling spacy-3.4.1:\n",
            "      Successfully uninstalled spacy-3.4.1\n",
            "\u001b[31mERROR: pip's dependency resolver does not currently take into account all the packages that are installed. This behaviour is the source of the following dependency conflicts.\n",
            "en-ner-jnlpba-md 0.4.0 requires spacy<3.1.0,>=3.0.1, but you have spacy 3.2.4 which is incompatible.\n",
            "en-ner-craft-md 0.4.0 requires spacy<3.1.0,>=3.0.1, but you have spacy 3.2.4 which is incompatible.\n",
            "en-ner-bionlp13cg-md 0.4.0 requires spacy<3.1.0,>=3.0.1, but you have spacy 3.2.4 which is incompatible.\n",
            "en-ner-bc5cdr-md 0.4.0 requires spacy<3.1.0,>=3.0.1, but you have spacy 3.2.4 which is incompatible.\n",
            "en-core-web-sm 3.4.0 requires spacy<3.5.0,>=3.4.0, but you have spacy 3.2.4 which is incompatible.\n",
            "en-core-sci-sm 0.4.0 requires spacy<3.1.0,>=3.0.1, but you have spacy 3.2.4 which is incompatible.\n",
            "en-core-sci-lg 0.4.0 requires spacy<3.1.0,>=3.0.1, but you have spacy 3.2.4 which is incompatible.\u001b[0m\n",
            "Successfully installed spacy-3.2.4 thinc-8.0.17\n"
          ]
        }
      ]
    },
    {
      "cell_type": "code",
      "source": [
        "## Install scispaCy models\n",
        "!pip install https://s3-us-west-2.amazonaws.com/ai2-s2-scispacy/releases/v0.4.0/en_core_sci_sm-0.4.0.tar.gz\n",
        "!pip install https://s3-us-west-2.amazonaws.com/ai2-s2-scispacy/releases/v0.4.0/en_ner_craft_md-0.4.0.tar.gz\n",
        "!pip install https://s3-us-west-2.amazonaws.com/ai2-s2-scispacy/releases/v0.4.0/en_ner_jnlpba_md-0.4.0.tar.gz\n",
        "!pip install https://s3-us-west-2.amazonaws.com/ai2-s2-scispacy/releases/v0.4.0/en_ner_bc5cdr_md-0.4.0.tar.gz\n",
        "!pip install https://s3-us-west-2.amazonaws.com/ai2-s2-scispacy/releases/v0.4.0/en_ner_bionlp13cg_md-0.4.0.tar.gz\n",
        "!pip install https://s3-us-west-2.amazonaws.com/ai2-s2-scispacy/releases/v0.4.0/en_core_sci_lg-0.4.0.tar.gz"
      ],
      "metadata": {
        "id": "sXmrQGYOZWIJ",
        "colab": {
          "base_uri": "https://localhost:8080/"
        },
        "outputId": "0e8b8d7a-59a5-4312-c756-cff5920cc491"
      },
      "id": "sXmrQGYOZWIJ",
      "execution_count": null,
      "outputs": [
        {
          "output_type": "stream",
          "name": "stdout",
          "text": [
            "Looking in indexes: https://pypi.org/simple, https://us-python.pkg.dev/colab-wheels/public/simple/\n",
            "Collecting https://s3-us-west-2.amazonaws.com/ai2-s2-scispacy/releases/v0.4.0/en_core_sci_sm-0.4.0.tar.gz\n",
            "  Using cached https://s3-us-west-2.amazonaws.com/ai2-s2-scispacy/releases/v0.4.0/en_core_sci_sm-0.4.0.tar.gz (15.6 MB)\n",
            "Collecting spacy<3.1.0,>=3.0.1\n",
            "  Using cached spacy-3.0.8-cp37-cp37m-manylinux_2_17_x86_64.manylinux2014_x86_64.whl (5.8 MB)\n",
            "Requirement already satisfied: thinc<8.1.0,>=8.0.3 in /usr/local/lib/python3.7/dist-packages (from spacy<3.1.0,>=3.0.1->en-core-sci-sm==0.4.0) (8.0.17)\n",
            "Requirement already satisfied: typing-extensions<4.0.0.0,>=3.7.4 in /usr/local/lib/python3.7/dist-packages (from spacy<3.1.0,>=3.0.1->en-core-sci-sm==0.4.0) (3.10.0.2)\n",
            "Requirement already satisfied: blis<0.8.0,>=0.4.0 in /usr/local/lib/python3.7/dist-packages (from spacy<3.1.0,>=3.0.1->en-core-sci-sm==0.4.0) (0.7.8)\n",
            "Requirement already satisfied: spacy-legacy<3.1.0,>=3.0.5 in /usr/local/lib/python3.7/dist-packages (from spacy<3.1.0,>=3.0.1->en-core-sci-sm==0.4.0) (3.0.9)\n",
            "Requirement already satisfied: requests<3.0.0,>=2.13.0 in /usr/local/lib/python3.7/dist-packages (from spacy<3.1.0,>=3.0.1->en-core-sci-sm==0.4.0) (2.23.0)\n",
            "Requirement already satisfied: setuptools in /usr/local/lib/python3.7/dist-packages (from spacy<3.1.0,>=3.0.1->en-core-sci-sm==0.4.0) (57.4.0)\n",
            "Requirement already satisfied: catalogue<2.1.0,>=2.0.4 in /usr/local/lib/python3.7/dist-packages (from spacy<3.1.0,>=3.0.1->en-core-sci-sm==0.4.0) (2.0.7)\n",
            "Requirement already satisfied: tqdm<5.0.0,>=4.38.0 in /usr/local/lib/python3.7/dist-packages (from spacy<3.1.0,>=3.0.1->en-core-sci-sm==0.4.0) (4.64.0)\n",
            "Requirement already satisfied: cymem<2.1.0,>=2.0.2 in /usr/local/lib/python3.7/dist-packages (from spacy<3.1.0,>=3.0.1->en-core-sci-sm==0.4.0) (2.0.6)\n",
            "Requirement already satisfied: wasabi<1.1.0,>=0.8.1 in /usr/local/lib/python3.7/dist-packages (from spacy<3.1.0,>=3.0.1->en-core-sci-sm==0.4.0) (0.9.1)\n",
            "Requirement already satisfied: pydantic!=1.8,!=1.8.1,<1.9.0,>=1.7.4 in /usr/local/lib/python3.7/dist-packages (from spacy<3.1.0,>=3.0.1->en-core-sci-sm==0.4.0) (1.8.2)\n",
            "Requirement already satisfied: numpy>=1.15.0 in /usr/local/lib/python3.7/dist-packages (from spacy<3.1.0,>=3.0.1->en-core-sci-sm==0.4.0) (1.21.6)\n",
            "Requirement already satisfied: preshed<3.1.0,>=3.0.2 in /usr/local/lib/python3.7/dist-packages (from spacy<3.1.0,>=3.0.1->en-core-sci-sm==0.4.0) (3.0.6)\n",
            "Requirement already satisfied: murmurhash<1.1.0,>=0.28.0 in /usr/local/lib/python3.7/dist-packages (from spacy<3.1.0,>=3.0.1->en-core-sci-sm==0.4.0) (1.0.7)\n",
            "Requirement already satisfied: jinja2 in /usr/local/lib/python3.7/dist-packages (from spacy<3.1.0,>=3.0.1->en-core-sci-sm==0.4.0) (2.11.3)\n",
            "Requirement already satisfied: typer<0.4.0,>=0.3.0 in /usr/local/lib/python3.7/dist-packages (from spacy<3.1.0,>=3.0.1->en-core-sci-sm==0.4.0) (0.3.2)\n",
            "Requirement already satisfied: pathy>=0.3.5 in /usr/local/lib/python3.7/dist-packages (from spacy<3.1.0,>=3.0.1->en-core-sci-sm==0.4.0) (0.6.2)\n",
            "Requirement already satisfied: srsly<3.0.0,>=2.4.1 in /usr/local/lib/python3.7/dist-packages (from spacy<3.1.0,>=3.0.1->en-core-sci-sm==0.4.0) (2.4.4)\n",
            "Requirement already satisfied: packaging>=20.0 in /usr/local/lib/python3.7/dist-packages (from spacy<3.1.0,>=3.0.1->en-core-sci-sm==0.4.0) (21.3)\n",
            "Requirement already satisfied: zipp>=0.5 in /usr/local/lib/python3.7/dist-packages (from catalogue<2.1.0,>=2.0.4->spacy<3.1.0,>=3.0.1->en-core-sci-sm==0.4.0) (3.8.1)\n",
            "Requirement already satisfied: pyparsing!=3.0.5,>=2.0.2 in /usr/local/lib/python3.7/dist-packages (from packaging>=20.0->spacy<3.1.0,>=3.0.1->en-core-sci-sm==0.4.0) (3.0.9)\n",
            "Requirement already satisfied: smart-open<6.0.0,>=5.2.1 in /usr/local/lib/python3.7/dist-packages (from pathy>=0.3.5->spacy<3.1.0,>=3.0.1->en-core-sci-sm==0.4.0) (5.2.1)\n",
            "Requirement already satisfied: certifi>=2017.4.17 in /usr/local/lib/python3.7/dist-packages (from requests<3.0.0,>=2.13.0->spacy<3.1.0,>=3.0.1->en-core-sci-sm==0.4.0) (2022.6.15)\n",
            "Requirement already satisfied: urllib3!=1.25.0,!=1.25.1,<1.26,>=1.21.1 in /usr/local/lib/python3.7/dist-packages (from requests<3.0.0,>=2.13.0->spacy<3.1.0,>=3.0.1->en-core-sci-sm==0.4.0) (1.24.3)\n",
            "Requirement already satisfied: idna<3,>=2.5 in /usr/local/lib/python3.7/dist-packages (from requests<3.0.0,>=2.13.0->spacy<3.1.0,>=3.0.1->en-core-sci-sm==0.4.0) (2.10)\n",
            "Requirement already satisfied: chardet<4,>=3.0.2 in /usr/local/lib/python3.7/dist-packages (from requests<3.0.0,>=2.13.0->spacy<3.1.0,>=3.0.1->en-core-sci-sm==0.4.0) (3.0.4)\n",
            "Requirement already satisfied: click<7.2.0,>=7.1.1 in /usr/local/lib/python3.7/dist-packages (from typer<0.4.0,>=0.3.0->spacy<3.1.0,>=3.0.1->en-core-sci-sm==0.4.0) (7.1.2)\n",
            "Requirement already satisfied: MarkupSafe>=0.23 in /usr/local/lib/python3.7/dist-packages (from jinja2->spacy<3.1.0,>=3.0.1->en-core-sci-sm==0.4.0) (2.0.1)\n",
            "Installing collected packages: spacy\n",
            "  Attempting uninstall: spacy\n",
            "    Found existing installation: spacy 3.2.4\n",
            "    Uninstalling spacy-3.2.4:\n",
            "      Successfully uninstalled spacy-3.2.4\n",
            "\u001b[31mERROR: pip's dependency resolver does not currently take into account all the packages that are installed. This behaviour is the source of the following dependency conflicts.\n",
            "scispacy 0.5.0 requires spacy<3.3.0,>=3.2.0, but you have spacy 3.0.8 which is incompatible.\n",
            "en-core-web-sm 3.4.0 requires spacy<3.5.0,>=3.4.0, but you have spacy 3.0.8 which is incompatible.\u001b[0m\n",
            "Successfully installed spacy-3.0.8\n",
            "Looking in indexes: https://pypi.org/simple, https://us-python.pkg.dev/colab-wheels/public/simple/\n",
            "Collecting https://s3-us-west-2.amazonaws.com/ai2-s2-scispacy/releases/v0.4.0/en_ner_craft_md-0.4.0.tar.gz\n",
            "  Using cached https://s3-us-west-2.amazonaws.com/ai2-s2-scispacy/releases/v0.4.0/en_ner_craft_md-0.4.0.tar.gz (125.1 MB)\n",
            "Requirement already satisfied: spacy<3.1.0,>=3.0.1 in /usr/local/lib/python3.7/dist-packages (from en-ner-craft-md==0.4.0) (3.0.8)\n",
            "Requirement already satisfied: cymem<2.1.0,>=2.0.2 in /usr/local/lib/python3.7/dist-packages (from spacy<3.1.0,>=3.0.1->en-ner-craft-md==0.4.0) (2.0.6)\n",
            "Requirement already satisfied: setuptools in /usr/local/lib/python3.7/dist-packages (from spacy<3.1.0,>=3.0.1->en-ner-craft-md==0.4.0) (57.4.0)\n",
            "Requirement already satisfied: tqdm<5.0.0,>=4.38.0 in /usr/local/lib/python3.7/dist-packages (from spacy<3.1.0,>=3.0.1->en-ner-craft-md==0.4.0) (4.64.0)\n",
            "Requirement already satisfied: thinc<8.1.0,>=8.0.3 in /usr/local/lib/python3.7/dist-packages (from spacy<3.1.0,>=3.0.1->en-ner-craft-md==0.4.0) (8.0.17)\n",
            "Requirement already satisfied: typing-extensions<4.0.0.0,>=3.7.4 in /usr/local/lib/python3.7/dist-packages (from spacy<3.1.0,>=3.0.1->en-ner-craft-md==0.4.0) (3.10.0.2)\n",
            "Requirement already satisfied: murmurhash<1.1.0,>=0.28.0 in /usr/local/lib/python3.7/dist-packages (from spacy<3.1.0,>=3.0.1->en-ner-craft-md==0.4.0) (1.0.7)\n",
            "Requirement already satisfied: catalogue<2.1.0,>=2.0.4 in /usr/local/lib/python3.7/dist-packages (from spacy<3.1.0,>=3.0.1->en-ner-craft-md==0.4.0) (2.0.7)\n",
            "Requirement already satisfied: pathy>=0.3.5 in /usr/local/lib/python3.7/dist-packages (from spacy<3.1.0,>=3.0.1->en-ner-craft-md==0.4.0) (0.6.2)\n",
            "Requirement already satisfied: requests<3.0.0,>=2.13.0 in /usr/local/lib/python3.7/dist-packages (from spacy<3.1.0,>=3.0.1->en-ner-craft-md==0.4.0) (2.23.0)\n",
            "Requirement already satisfied: srsly<3.0.0,>=2.4.1 in /usr/local/lib/python3.7/dist-packages (from spacy<3.1.0,>=3.0.1->en-ner-craft-md==0.4.0) (2.4.4)\n",
            "Requirement already satisfied: wasabi<1.1.0,>=0.8.1 in /usr/local/lib/python3.7/dist-packages (from spacy<3.1.0,>=3.0.1->en-ner-craft-md==0.4.0) (0.9.1)\n",
            "Requirement already satisfied: pydantic!=1.8,!=1.8.1,<1.9.0,>=1.7.4 in /usr/local/lib/python3.7/dist-packages (from spacy<3.1.0,>=3.0.1->en-ner-craft-md==0.4.0) (1.8.2)\n",
            "Requirement already satisfied: jinja2 in /usr/local/lib/python3.7/dist-packages (from spacy<3.1.0,>=3.0.1->en-ner-craft-md==0.4.0) (2.11.3)\n",
            "Requirement already satisfied: blis<0.8.0,>=0.4.0 in /usr/local/lib/python3.7/dist-packages (from spacy<3.1.0,>=3.0.1->en-ner-craft-md==0.4.0) (0.7.8)\n",
            "Requirement already satisfied: preshed<3.1.0,>=3.0.2 in /usr/local/lib/python3.7/dist-packages (from spacy<3.1.0,>=3.0.1->en-ner-craft-md==0.4.0) (3.0.6)\n",
            "Requirement already satisfied: packaging>=20.0 in /usr/local/lib/python3.7/dist-packages (from spacy<3.1.0,>=3.0.1->en-ner-craft-md==0.4.0) (21.3)\n",
            "Requirement already satisfied: numpy>=1.15.0 in /usr/local/lib/python3.7/dist-packages (from spacy<3.1.0,>=3.0.1->en-ner-craft-md==0.4.0) (1.21.6)\n",
            "Requirement already satisfied: spacy-legacy<3.1.0,>=3.0.5 in /usr/local/lib/python3.7/dist-packages (from spacy<3.1.0,>=3.0.1->en-ner-craft-md==0.4.0) (3.0.9)\n",
            "Requirement already satisfied: typer<0.4.0,>=0.3.0 in /usr/local/lib/python3.7/dist-packages (from spacy<3.1.0,>=3.0.1->en-ner-craft-md==0.4.0) (0.3.2)\n",
            "Requirement already satisfied: zipp>=0.5 in /usr/local/lib/python3.7/dist-packages (from catalogue<2.1.0,>=2.0.4->spacy<3.1.0,>=3.0.1->en-ner-craft-md==0.4.0) (3.8.1)\n",
            "Requirement already satisfied: pyparsing!=3.0.5,>=2.0.2 in /usr/local/lib/python3.7/dist-packages (from packaging>=20.0->spacy<3.1.0,>=3.0.1->en-ner-craft-md==0.4.0) (3.0.9)\n",
            "Requirement already satisfied: smart-open<6.0.0,>=5.2.1 in /usr/local/lib/python3.7/dist-packages (from pathy>=0.3.5->spacy<3.1.0,>=3.0.1->en-ner-craft-md==0.4.0) (5.2.1)\n",
            "Requirement already satisfied: certifi>=2017.4.17 in /usr/local/lib/python3.7/dist-packages (from requests<3.0.0,>=2.13.0->spacy<3.1.0,>=3.0.1->en-ner-craft-md==0.4.0) (2022.6.15)\n",
            "Requirement already satisfied: urllib3!=1.25.0,!=1.25.1,<1.26,>=1.21.1 in /usr/local/lib/python3.7/dist-packages (from requests<3.0.0,>=2.13.0->spacy<3.1.0,>=3.0.1->en-ner-craft-md==0.4.0) (1.24.3)\n",
            "Requirement already satisfied: chardet<4,>=3.0.2 in /usr/local/lib/python3.7/dist-packages (from requests<3.0.0,>=2.13.0->spacy<3.1.0,>=3.0.1->en-ner-craft-md==0.4.0) (3.0.4)\n",
            "Requirement already satisfied: idna<3,>=2.5 in /usr/local/lib/python3.7/dist-packages (from requests<3.0.0,>=2.13.0->spacy<3.1.0,>=3.0.1->en-ner-craft-md==0.4.0) (2.10)\n",
            "Requirement already satisfied: click<7.2.0,>=7.1.1 in /usr/local/lib/python3.7/dist-packages (from typer<0.4.0,>=0.3.0->spacy<3.1.0,>=3.0.1->en-ner-craft-md==0.4.0) (7.1.2)\n",
            "Requirement already satisfied: MarkupSafe>=0.23 in /usr/local/lib/python3.7/dist-packages (from jinja2->spacy<3.1.0,>=3.0.1->en-ner-craft-md==0.4.0) (2.0.1)\n",
            "Looking in indexes: https://pypi.org/simple, https://us-python.pkg.dev/colab-wheels/public/simple/\n",
            "Collecting https://s3-us-west-2.amazonaws.com/ai2-s2-scispacy/releases/v0.4.0/en_ner_jnlpba_md-0.4.0.tar.gz\n",
            "  Using cached https://s3-us-west-2.amazonaws.com/ai2-s2-scispacy/releases/v0.4.0/en_ner_jnlpba_md-0.4.0.tar.gz (125.1 MB)\n",
            "Requirement already satisfied: spacy<3.1.0,>=3.0.1 in /usr/local/lib/python3.7/dist-packages (from en-ner-jnlpba-md==0.4.0) (3.0.8)\n",
            "Requirement already satisfied: requests<3.0.0,>=2.13.0 in /usr/local/lib/python3.7/dist-packages (from spacy<3.1.0,>=3.0.1->en-ner-jnlpba-md==0.4.0) (2.23.0)\n",
            "Requirement already satisfied: typing-extensions<4.0.0.0,>=3.7.4 in /usr/local/lib/python3.7/dist-packages (from spacy<3.1.0,>=3.0.1->en-ner-jnlpba-md==0.4.0) (3.10.0.2)\n",
            "Requirement already satisfied: setuptools in /usr/local/lib/python3.7/dist-packages (from spacy<3.1.0,>=3.0.1->en-ner-jnlpba-md==0.4.0) (57.4.0)\n",
            "Requirement already satisfied: spacy-legacy<3.1.0,>=3.0.5 in /usr/local/lib/python3.7/dist-packages (from spacy<3.1.0,>=3.0.1->en-ner-jnlpba-md==0.4.0) (3.0.9)\n",
            "Requirement already satisfied: srsly<3.0.0,>=2.4.1 in /usr/local/lib/python3.7/dist-packages (from spacy<3.1.0,>=3.0.1->en-ner-jnlpba-md==0.4.0) (2.4.4)\n",
            "Requirement already satisfied: packaging>=20.0 in /usr/local/lib/python3.7/dist-packages (from spacy<3.1.0,>=3.0.1->en-ner-jnlpba-md==0.4.0) (21.3)\n",
            "Requirement already satisfied: pydantic!=1.8,!=1.8.1,<1.9.0,>=1.7.4 in /usr/local/lib/python3.7/dist-packages (from spacy<3.1.0,>=3.0.1->en-ner-jnlpba-md==0.4.0) (1.8.2)\n",
            "Requirement already satisfied: blis<0.8.0,>=0.4.0 in /usr/local/lib/python3.7/dist-packages (from spacy<3.1.0,>=3.0.1->en-ner-jnlpba-md==0.4.0) (0.7.8)\n",
            "Requirement already satisfied: pathy>=0.3.5 in /usr/local/lib/python3.7/dist-packages (from spacy<3.1.0,>=3.0.1->en-ner-jnlpba-md==0.4.0) (0.6.2)\n",
            "Requirement already satisfied: jinja2 in /usr/local/lib/python3.7/dist-packages (from spacy<3.1.0,>=3.0.1->en-ner-jnlpba-md==0.4.0) (2.11.3)\n",
            "Requirement already satisfied: tqdm<5.0.0,>=4.38.0 in /usr/local/lib/python3.7/dist-packages (from spacy<3.1.0,>=3.0.1->en-ner-jnlpba-md==0.4.0) (4.64.0)\n",
            "Requirement already satisfied: catalogue<2.1.0,>=2.0.4 in /usr/local/lib/python3.7/dist-packages (from spacy<3.1.0,>=3.0.1->en-ner-jnlpba-md==0.4.0) (2.0.7)\n",
            "Requirement already satisfied: murmurhash<1.1.0,>=0.28.0 in /usr/local/lib/python3.7/dist-packages (from spacy<3.1.0,>=3.0.1->en-ner-jnlpba-md==0.4.0) (1.0.7)\n",
            "Requirement already satisfied: thinc<8.1.0,>=8.0.3 in /usr/local/lib/python3.7/dist-packages (from spacy<3.1.0,>=3.0.1->en-ner-jnlpba-md==0.4.0) (8.0.17)\n",
            "Requirement already satisfied: numpy>=1.15.0 in /usr/local/lib/python3.7/dist-packages (from spacy<3.1.0,>=3.0.1->en-ner-jnlpba-md==0.4.0) (1.21.6)\n",
            "Requirement already satisfied: preshed<3.1.0,>=3.0.2 in /usr/local/lib/python3.7/dist-packages (from spacy<3.1.0,>=3.0.1->en-ner-jnlpba-md==0.4.0) (3.0.6)\n",
            "Requirement already satisfied: cymem<2.1.0,>=2.0.2 in /usr/local/lib/python3.7/dist-packages (from spacy<3.1.0,>=3.0.1->en-ner-jnlpba-md==0.4.0) (2.0.6)\n",
            "Requirement already satisfied: typer<0.4.0,>=0.3.0 in /usr/local/lib/python3.7/dist-packages (from spacy<3.1.0,>=3.0.1->en-ner-jnlpba-md==0.4.0) (0.3.2)\n",
            "Requirement already satisfied: wasabi<1.1.0,>=0.8.1 in /usr/local/lib/python3.7/dist-packages (from spacy<3.1.0,>=3.0.1->en-ner-jnlpba-md==0.4.0) (0.9.1)\n",
            "Requirement already satisfied: zipp>=0.5 in /usr/local/lib/python3.7/dist-packages (from catalogue<2.1.0,>=2.0.4->spacy<3.1.0,>=3.0.1->en-ner-jnlpba-md==0.4.0) (3.8.1)\n",
            "Requirement already satisfied: pyparsing!=3.0.5,>=2.0.2 in /usr/local/lib/python3.7/dist-packages (from packaging>=20.0->spacy<3.1.0,>=3.0.1->en-ner-jnlpba-md==0.4.0) (3.0.9)\n",
            "Requirement already satisfied: smart-open<6.0.0,>=5.2.1 in /usr/local/lib/python3.7/dist-packages (from pathy>=0.3.5->spacy<3.1.0,>=3.0.1->en-ner-jnlpba-md==0.4.0) (5.2.1)\n",
            "Requirement already satisfied: chardet<4,>=3.0.2 in /usr/local/lib/python3.7/dist-packages (from requests<3.0.0,>=2.13.0->spacy<3.1.0,>=3.0.1->en-ner-jnlpba-md==0.4.0) (3.0.4)\n",
            "Requirement already satisfied: certifi>=2017.4.17 in /usr/local/lib/python3.7/dist-packages (from requests<3.0.0,>=2.13.0->spacy<3.1.0,>=3.0.1->en-ner-jnlpba-md==0.4.0) (2022.6.15)\n",
            "Requirement already satisfied: idna<3,>=2.5 in /usr/local/lib/python3.7/dist-packages (from requests<3.0.0,>=2.13.0->spacy<3.1.0,>=3.0.1->en-ner-jnlpba-md==0.4.0) (2.10)\n",
            "Requirement already satisfied: urllib3!=1.25.0,!=1.25.1,<1.26,>=1.21.1 in /usr/local/lib/python3.7/dist-packages (from requests<3.0.0,>=2.13.0->spacy<3.1.0,>=3.0.1->en-ner-jnlpba-md==0.4.0) (1.24.3)\n",
            "Requirement already satisfied: click<7.2.0,>=7.1.1 in /usr/local/lib/python3.7/dist-packages (from typer<0.4.0,>=0.3.0->spacy<3.1.0,>=3.0.1->en-ner-jnlpba-md==0.4.0) (7.1.2)\n",
            "Requirement already satisfied: MarkupSafe>=0.23 in /usr/local/lib/python3.7/dist-packages (from jinja2->spacy<3.1.0,>=3.0.1->en-ner-jnlpba-md==0.4.0) (2.0.1)\n",
            "Looking in indexes: https://pypi.org/simple, https://us-python.pkg.dev/colab-wheels/public/simple/\n",
            "Collecting https://s3-us-west-2.amazonaws.com/ai2-s2-scispacy/releases/v0.4.0/en_ner_bc5cdr_md-0.4.0.tar.gz\n",
            "  Using cached https://s3-us-west-2.amazonaws.com/ai2-s2-scispacy/releases/v0.4.0/en_ner_bc5cdr_md-0.4.0.tar.gz (125.1 MB)\n",
            "Requirement already satisfied: spacy<3.1.0,>=3.0.1 in /usr/local/lib/python3.7/dist-packages (from en-ner-bc5cdr-md==0.4.0) (3.0.8)\n",
            "Requirement already satisfied: blis<0.8.0,>=0.4.0 in /usr/local/lib/python3.7/dist-packages (from spacy<3.1.0,>=3.0.1->en-ner-bc5cdr-md==0.4.0) (0.7.8)\n",
            "Requirement already satisfied: requests<3.0.0,>=2.13.0 in /usr/local/lib/python3.7/dist-packages (from spacy<3.1.0,>=3.0.1->en-ner-bc5cdr-md==0.4.0) (2.23.0)\n",
            "Requirement already satisfied: typing-extensions<4.0.0.0,>=3.7.4 in /usr/local/lib/python3.7/dist-packages (from spacy<3.1.0,>=3.0.1->en-ner-bc5cdr-md==0.4.0) (3.10.0.2)\n",
            "Requirement already satisfied: murmurhash<1.1.0,>=0.28.0 in /usr/local/lib/python3.7/dist-packages (from spacy<3.1.0,>=3.0.1->en-ner-bc5cdr-md==0.4.0) (1.0.7)\n",
            "Requirement already satisfied: thinc<8.1.0,>=8.0.3 in /usr/local/lib/python3.7/dist-packages (from spacy<3.1.0,>=3.0.1->en-ner-bc5cdr-md==0.4.0) (8.0.17)\n",
            "Requirement already satisfied: numpy>=1.15.0 in /usr/local/lib/python3.7/dist-packages (from spacy<3.1.0,>=3.0.1->en-ner-bc5cdr-md==0.4.0) (1.21.6)\n",
            "Requirement already satisfied: preshed<3.1.0,>=3.0.2 in /usr/local/lib/python3.7/dist-packages (from spacy<3.1.0,>=3.0.1->en-ner-bc5cdr-md==0.4.0) (3.0.6)\n",
            "Requirement already satisfied: cymem<2.1.0,>=2.0.2 in /usr/local/lib/python3.7/dist-packages (from spacy<3.1.0,>=3.0.1->en-ner-bc5cdr-md==0.4.0) (2.0.6)\n",
            "Requirement already satisfied: typer<0.4.0,>=0.3.0 in /usr/local/lib/python3.7/dist-packages (from spacy<3.1.0,>=3.0.1->en-ner-bc5cdr-md==0.4.0) (0.3.2)\n",
            "Requirement already satisfied: pathy>=0.3.5 in /usr/local/lib/python3.7/dist-packages (from spacy<3.1.0,>=3.0.1->en-ner-bc5cdr-md==0.4.0) (0.6.2)\n",
            "Requirement already satisfied: pydantic!=1.8,!=1.8.1,<1.9.0,>=1.7.4 in /usr/local/lib/python3.7/dist-packages (from spacy<3.1.0,>=3.0.1->en-ner-bc5cdr-md==0.4.0) (1.8.2)\n",
            "Requirement already satisfied: spacy-legacy<3.1.0,>=3.0.5 in /usr/local/lib/python3.7/dist-packages (from spacy<3.1.0,>=3.0.1->en-ner-bc5cdr-md==0.4.0) (3.0.9)\n",
            "Requirement already satisfied: tqdm<5.0.0,>=4.38.0 in /usr/local/lib/python3.7/dist-packages (from spacy<3.1.0,>=3.0.1->en-ner-bc5cdr-md==0.4.0) (4.64.0)\n",
            "Requirement already satisfied: jinja2 in /usr/local/lib/python3.7/dist-packages (from spacy<3.1.0,>=3.0.1->en-ner-bc5cdr-md==0.4.0) (2.11.3)\n",
            "Requirement already satisfied: catalogue<2.1.0,>=2.0.4 in /usr/local/lib/python3.7/dist-packages (from spacy<3.1.0,>=3.0.1->en-ner-bc5cdr-md==0.4.0) (2.0.7)\n",
            "Requirement already satisfied: wasabi<1.1.0,>=0.8.1 in /usr/local/lib/python3.7/dist-packages (from spacy<3.1.0,>=3.0.1->en-ner-bc5cdr-md==0.4.0) (0.9.1)\n",
            "Requirement already satisfied: srsly<3.0.0,>=2.4.1 in /usr/local/lib/python3.7/dist-packages (from spacy<3.1.0,>=3.0.1->en-ner-bc5cdr-md==0.4.0) (2.4.4)\n",
            "Requirement already satisfied: setuptools in /usr/local/lib/python3.7/dist-packages (from spacy<3.1.0,>=3.0.1->en-ner-bc5cdr-md==0.4.0) (57.4.0)\n",
            "Requirement already satisfied: packaging>=20.0 in /usr/local/lib/python3.7/dist-packages (from spacy<3.1.0,>=3.0.1->en-ner-bc5cdr-md==0.4.0) (21.3)\n",
            "Requirement already satisfied: zipp>=0.5 in /usr/local/lib/python3.7/dist-packages (from catalogue<2.1.0,>=2.0.4->spacy<3.1.0,>=3.0.1->en-ner-bc5cdr-md==0.4.0) (3.8.1)\n",
            "Requirement already satisfied: pyparsing!=3.0.5,>=2.0.2 in /usr/local/lib/python3.7/dist-packages (from packaging>=20.0->spacy<3.1.0,>=3.0.1->en-ner-bc5cdr-md==0.4.0) (3.0.9)\n",
            "Requirement already satisfied: smart-open<6.0.0,>=5.2.1 in /usr/local/lib/python3.7/dist-packages (from pathy>=0.3.5->spacy<3.1.0,>=3.0.1->en-ner-bc5cdr-md==0.4.0) (5.2.1)\n",
            "Requirement already satisfied: urllib3!=1.25.0,!=1.25.1,<1.26,>=1.21.1 in /usr/local/lib/python3.7/dist-packages (from requests<3.0.0,>=2.13.0->spacy<3.1.0,>=3.0.1->en-ner-bc5cdr-md==0.4.0) (1.24.3)\n",
            "Requirement already satisfied: chardet<4,>=3.0.2 in /usr/local/lib/python3.7/dist-packages (from requests<3.0.0,>=2.13.0->spacy<3.1.0,>=3.0.1->en-ner-bc5cdr-md==0.4.0) (3.0.4)\n",
            "Requirement already satisfied: idna<3,>=2.5 in /usr/local/lib/python3.7/dist-packages (from requests<3.0.0,>=2.13.0->spacy<3.1.0,>=3.0.1->en-ner-bc5cdr-md==0.4.0) (2.10)\n",
            "Requirement already satisfied: certifi>=2017.4.17 in /usr/local/lib/python3.7/dist-packages (from requests<3.0.0,>=2.13.0->spacy<3.1.0,>=3.0.1->en-ner-bc5cdr-md==0.4.0) (2022.6.15)\n",
            "Requirement already satisfied: click<7.2.0,>=7.1.1 in /usr/local/lib/python3.7/dist-packages (from typer<0.4.0,>=0.3.0->spacy<3.1.0,>=3.0.1->en-ner-bc5cdr-md==0.4.0) (7.1.2)\n",
            "Requirement already satisfied: MarkupSafe>=0.23 in /usr/local/lib/python3.7/dist-packages (from jinja2->spacy<3.1.0,>=3.0.1->en-ner-bc5cdr-md==0.4.0) (2.0.1)\n",
            "Looking in indexes: https://pypi.org/simple, https://us-python.pkg.dev/colab-wheels/public/simple/\n",
            "Collecting https://s3-us-west-2.amazonaws.com/ai2-s2-scispacy/releases/v0.4.0/en_ner_bionlp13cg_md-0.4.0.tar.gz\n",
            "  Using cached https://s3-us-west-2.amazonaws.com/ai2-s2-scispacy/releases/v0.4.0/en_ner_bionlp13cg_md-0.4.0.tar.gz (125.1 MB)\n",
            "Requirement already satisfied: spacy<3.1.0,>=3.0.1 in /usr/local/lib/python3.7/dist-packages (from en-ner-bionlp13cg-md==0.4.0) (3.0.8)\n",
            "Requirement already satisfied: tqdm<5.0.0,>=4.38.0 in /usr/local/lib/python3.7/dist-packages (from spacy<3.1.0,>=3.0.1->en-ner-bionlp13cg-md==0.4.0) (4.64.0)\n",
            "Requirement already satisfied: typer<0.4.0,>=0.3.0 in /usr/local/lib/python3.7/dist-packages (from spacy<3.1.0,>=3.0.1->en-ner-bionlp13cg-md==0.4.0) (0.3.2)\n",
            "Requirement already satisfied: cymem<2.1.0,>=2.0.2 in /usr/local/lib/python3.7/dist-packages (from spacy<3.1.0,>=3.0.1->en-ner-bionlp13cg-md==0.4.0) (2.0.6)\n",
            "Requirement already satisfied: jinja2 in /usr/local/lib/python3.7/dist-packages (from spacy<3.1.0,>=3.0.1->en-ner-bionlp13cg-md==0.4.0) (2.11.3)\n",
            "Requirement already satisfied: thinc<8.1.0,>=8.0.3 in /usr/local/lib/python3.7/dist-packages (from spacy<3.1.0,>=3.0.1->en-ner-bionlp13cg-md==0.4.0) (8.0.17)\n",
            "Requirement already satisfied: pathy>=0.3.5 in /usr/local/lib/python3.7/dist-packages (from spacy<3.1.0,>=3.0.1->en-ner-bionlp13cg-md==0.4.0) (0.6.2)\n",
            "Requirement already satisfied: catalogue<2.1.0,>=2.0.4 in /usr/local/lib/python3.7/dist-packages (from spacy<3.1.0,>=3.0.1->en-ner-bionlp13cg-md==0.4.0) (2.0.7)\n",
            "Requirement already satisfied: setuptools in /usr/local/lib/python3.7/dist-packages (from spacy<3.1.0,>=3.0.1->en-ner-bionlp13cg-md==0.4.0) (57.4.0)\n",
            "Requirement already satisfied: packaging>=20.0 in /usr/local/lib/python3.7/dist-packages (from spacy<3.1.0,>=3.0.1->en-ner-bionlp13cg-md==0.4.0) (21.3)\n",
            "Requirement already satisfied: blis<0.8.0,>=0.4.0 in /usr/local/lib/python3.7/dist-packages (from spacy<3.1.0,>=3.0.1->en-ner-bionlp13cg-md==0.4.0) (0.7.8)\n",
            "Requirement already satisfied: numpy>=1.15.0 in /usr/local/lib/python3.7/dist-packages (from spacy<3.1.0,>=3.0.1->en-ner-bionlp13cg-md==0.4.0) (1.21.6)\n",
            "Requirement already satisfied: srsly<3.0.0,>=2.4.1 in /usr/local/lib/python3.7/dist-packages (from spacy<3.1.0,>=3.0.1->en-ner-bionlp13cg-md==0.4.0) (2.4.4)\n",
            "Requirement already satisfied: murmurhash<1.1.0,>=0.28.0 in /usr/local/lib/python3.7/dist-packages (from spacy<3.1.0,>=3.0.1->en-ner-bionlp13cg-md==0.4.0) (1.0.7)\n",
            "Requirement already satisfied: pydantic!=1.8,!=1.8.1,<1.9.0,>=1.7.4 in /usr/local/lib/python3.7/dist-packages (from spacy<3.1.0,>=3.0.1->en-ner-bionlp13cg-md==0.4.0) (1.8.2)\n",
            "Requirement already satisfied: typing-extensions<4.0.0.0,>=3.7.4 in /usr/local/lib/python3.7/dist-packages (from spacy<3.1.0,>=3.0.1->en-ner-bionlp13cg-md==0.4.0) (3.10.0.2)\n",
            "Requirement already satisfied: spacy-legacy<3.1.0,>=3.0.5 in /usr/local/lib/python3.7/dist-packages (from spacy<3.1.0,>=3.0.1->en-ner-bionlp13cg-md==0.4.0) (3.0.9)\n",
            "Requirement already satisfied: wasabi<1.1.0,>=0.8.1 in /usr/local/lib/python3.7/dist-packages (from spacy<3.1.0,>=3.0.1->en-ner-bionlp13cg-md==0.4.0) (0.9.1)\n",
            "Requirement already satisfied: requests<3.0.0,>=2.13.0 in /usr/local/lib/python3.7/dist-packages (from spacy<3.1.0,>=3.0.1->en-ner-bionlp13cg-md==0.4.0) (2.23.0)\n",
            "Requirement already satisfied: preshed<3.1.0,>=3.0.2 in /usr/local/lib/python3.7/dist-packages (from spacy<3.1.0,>=3.0.1->en-ner-bionlp13cg-md==0.4.0) (3.0.6)\n",
            "Requirement already satisfied: zipp>=0.5 in /usr/local/lib/python3.7/dist-packages (from catalogue<2.1.0,>=2.0.4->spacy<3.1.0,>=3.0.1->en-ner-bionlp13cg-md==0.4.0) (3.8.1)\n",
            "Requirement already satisfied: pyparsing!=3.0.5,>=2.0.2 in /usr/local/lib/python3.7/dist-packages (from packaging>=20.0->spacy<3.1.0,>=3.0.1->en-ner-bionlp13cg-md==0.4.0) (3.0.9)\n",
            "Requirement already satisfied: smart-open<6.0.0,>=5.2.1 in /usr/local/lib/python3.7/dist-packages (from pathy>=0.3.5->spacy<3.1.0,>=3.0.1->en-ner-bionlp13cg-md==0.4.0) (5.2.1)\n",
            "Requirement already satisfied: idna<3,>=2.5 in /usr/local/lib/python3.7/dist-packages (from requests<3.0.0,>=2.13.0->spacy<3.1.0,>=3.0.1->en-ner-bionlp13cg-md==0.4.0) (2.10)\n",
            "Requirement already satisfied: certifi>=2017.4.17 in /usr/local/lib/python3.7/dist-packages (from requests<3.0.0,>=2.13.0->spacy<3.1.0,>=3.0.1->en-ner-bionlp13cg-md==0.4.0) (2022.6.15)\n",
            "Requirement already satisfied: chardet<4,>=3.0.2 in /usr/local/lib/python3.7/dist-packages (from requests<3.0.0,>=2.13.0->spacy<3.1.0,>=3.0.1->en-ner-bionlp13cg-md==0.4.0) (3.0.4)\n",
            "Requirement already satisfied: urllib3!=1.25.0,!=1.25.1,<1.26,>=1.21.1 in /usr/local/lib/python3.7/dist-packages (from requests<3.0.0,>=2.13.0->spacy<3.1.0,>=3.0.1->en-ner-bionlp13cg-md==0.4.0) (1.24.3)\n",
            "Requirement already satisfied: click<7.2.0,>=7.1.1 in /usr/local/lib/python3.7/dist-packages (from typer<0.4.0,>=0.3.0->spacy<3.1.0,>=3.0.1->en-ner-bionlp13cg-md==0.4.0) (7.1.2)\n",
            "Requirement already satisfied: MarkupSafe>=0.23 in /usr/local/lib/python3.7/dist-packages (from jinja2->spacy<3.1.0,>=3.0.1->en-ner-bionlp13cg-md==0.4.0) (2.0.1)\n",
            "Looking in indexes: https://pypi.org/simple, https://us-python.pkg.dev/colab-wheels/public/simple/\n",
            "Collecting https://s3-us-west-2.amazonaws.com/ai2-s2-scispacy/releases/v0.4.0/en_core_sci_lg-0.4.0.tar.gz\n",
            "  Using cached https://s3-us-west-2.amazonaws.com/ai2-s2-scispacy/releases/v0.4.0/en_core_sci_lg-0.4.0.tar.gz (538.1 MB)\n",
            "Requirement already satisfied: spacy<3.1.0,>=3.0.1 in /usr/local/lib/python3.7/dist-packages (from en-core-sci-lg==0.4.0) (3.0.8)\n",
            "Requirement already satisfied: thinc<8.1.0,>=8.0.3 in /usr/local/lib/python3.7/dist-packages (from spacy<3.1.0,>=3.0.1->en-core-sci-lg==0.4.0) (8.0.17)\n",
            "Requirement already satisfied: typing-extensions<4.0.0.0,>=3.7.4 in /usr/local/lib/python3.7/dist-packages (from spacy<3.1.0,>=3.0.1->en-core-sci-lg==0.4.0) (3.10.0.2)\n",
            "Requirement already satisfied: murmurhash<1.1.0,>=0.28.0 in /usr/local/lib/python3.7/dist-packages (from spacy<3.1.0,>=3.0.1->en-core-sci-lg==0.4.0) (1.0.7)\n",
            "Requirement already satisfied: cymem<2.1.0,>=2.0.2 in /usr/local/lib/python3.7/dist-packages (from spacy<3.1.0,>=3.0.1->en-core-sci-lg==0.4.0) (2.0.6)\n",
            "Requirement already satisfied: spacy-legacy<3.1.0,>=3.0.5 in /usr/local/lib/python3.7/dist-packages (from spacy<3.1.0,>=3.0.1->en-core-sci-lg==0.4.0) (3.0.9)\n",
            "Requirement already satisfied: wasabi<1.1.0,>=0.8.1 in /usr/local/lib/python3.7/dist-packages (from spacy<3.1.0,>=3.0.1->en-core-sci-lg==0.4.0) (0.9.1)\n",
            "Requirement already satisfied: catalogue<2.1.0,>=2.0.4 in /usr/local/lib/python3.7/dist-packages (from spacy<3.1.0,>=3.0.1->en-core-sci-lg==0.4.0) (2.0.7)\n",
            "Requirement already satisfied: packaging>=20.0 in /usr/local/lib/python3.7/dist-packages (from spacy<3.1.0,>=3.0.1->en-core-sci-lg==0.4.0) (21.3)\n",
            "Requirement already satisfied: typer<0.4.0,>=0.3.0 in /usr/local/lib/python3.7/dist-packages (from spacy<3.1.0,>=3.0.1->en-core-sci-lg==0.4.0) (0.3.2)\n",
            "Requirement already satisfied: numpy>=1.15.0 in /usr/local/lib/python3.7/dist-packages (from spacy<3.1.0,>=3.0.1->en-core-sci-lg==0.4.0) (1.21.6)\n",
            "Requirement already satisfied: blis<0.8.0,>=0.4.0 in /usr/local/lib/python3.7/dist-packages (from spacy<3.1.0,>=3.0.1->en-core-sci-lg==0.4.0) (0.7.8)\n",
            "Requirement already satisfied: requests<3.0.0,>=2.13.0 in /usr/local/lib/python3.7/dist-packages (from spacy<3.1.0,>=3.0.1->en-core-sci-lg==0.4.0) (2.23.0)\n",
            "Requirement already satisfied: setuptools in /usr/local/lib/python3.7/dist-packages (from spacy<3.1.0,>=3.0.1->en-core-sci-lg==0.4.0) (57.4.0)\n",
            "Requirement already satisfied: pathy>=0.3.5 in /usr/local/lib/python3.7/dist-packages (from spacy<3.1.0,>=3.0.1->en-core-sci-lg==0.4.0) (0.6.2)\n",
            "Requirement already satisfied: srsly<3.0.0,>=2.4.1 in /usr/local/lib/python3.7/dist-packages (from spacy<3.1.0,>=3.0.1->en-core-sci-lg==0.4.0) (2.4.4)\n",
            "Requirement already satisfied: jinja2 in /usr/local/lib/python3.7/dist-packages (from spacy<3.1.0,>=3.0.1->en-core-sci-lg==0.4.0) (2.11.3)\n",
            "Requirement already satisfied: preshed<3.1.0,>=3.0.2 in /usr/local/lib/python3.7/dist-packages (from spacy<3.1.0,>=3.0.1->en-core-sci-lg==0.4.0) (3.0.6)\n",
            "Requirement already satisfied: tqdm<5.0.0,>=4.38.0 in /usr/local/lib/python3.7/dist-packages (from spacy<3.1.0,>=3.0.1->en-core-sci-lg==0.4.0) (4.64.0)\n",
            "Requirement already satisfied: pydantic!=1.8,!=1.8.1,<1.9.0,>=1.7.4 in /usr/local/lib/python3.7/dist-packages (from spacy<3.1.0,>=3.0.1->en-core-sci-lg==0.4.0) (1.8.2)\n",
            "Requirement already satisfied: zipp>=0.5 in /usr/local/lib/python3.7/dist-packages (from catalogue<2.1.0,>=2.0.4->spacy<3.1.0,>=3.0.1->en-core-sci-lg==0.4.0) (3.8.1)\n",
            "Requirement already satisfied: pyparsing!=3.0.5,>=2.0.2 in /usr/local/lib/python3.7/dist-packages (from packaging>=20.0->spacy<3.1.0,>=3.0.1->en-core-sci-lg==0.4.0) (3.0.9)\n",
            "Requirement already satisfied: smart-open<6.0.0,>=5.2.1 in /usr/local/lib/python3.7/dist-packages (from pathy>=0.3.5->spacy<3.1.0,>=3.0.1->en-core-sci-lg==0.4.0) (5.2.1)\n",
            "Requirement already satisfied: certifi>=2017.4.17 in /usr/local/lib/python3.7/dist-packages (from requests<3.0.0,>=2.13.0->spacy<3.1.0,>=3.0.1->en-core-sci-lg==0.4.0) (2022.6.15)\n",
            "Requirement already satisfied: chardet<4,>=3.0.2 in /usr/local/lib/python3.7/dist-packages (from requests<3.0.0,>=2.13.0->spacy<3.1.0,>=3.0.1->en-core-sci-lg==0.4.0) (3.0.4)\n",
            "Requirement already satisfied: idna<3,>=2.5 in /usr/local/lib/python3.7/dist-packages (from requests<3.0.0,>=2.13.0->spacy<3.1.0,>=3.0.1->en-core-sci-lg==0.4.0) (2.10)\n",
            "Requirement already satisfied: urllib3!=1.25.0,!=1.25.1,<1.26,>=1.21.1 in /usr/local/lib/python3.7/dist-packages (from requests<3.0.0,>=2.13.0->spacy<3.1.0,>=3.0.1->en-core-sci-lg==0.4.0) (1.24.3)\n",
            "Requirement already satisfied: click<7.2.0,>=7.1.1 in /usr/local/lib/python3.7/dist-packages (from typer<0.4.0,>=0.3.0->spacy<3.1.0,>=3.0.1->en-core-sci-lg==0.4.0) (7.1.2)\n",
            "Requirement already satisfied: MarkupSafe>=0.23 in /usr/local/lib/python3.7/dist-packages (from jinja2->spacy<3.1.0,>=3.0.1->en-core-sci-lg==0.4.0) (2.0.1)\n"
          ]
        }
      ]
    },
    {
      "cell_type": "code",
      "source": [
        "import scispacy\n",
        "import spacy\n",
        "\n",
        "#Core models\n",
        "import en_core_sci_sm\n",
        "import en_core_sci_lg\n",
        "\n",
        "#NER specific models\n",
        "import en_ner_craft_md\n",
        "import en_ner_bc5cdr_md\n",
        "import en_ner_jnlpba_md\n",
        "import en_ner_bionlp13cg_md\n",
        "\n",
        "#Tools for extracting & displaying data\n",
        "from spacy import displacy\n",
        "import pandas as pd"
      ],
      "metadata": {
        "id": "-F2bhjkYxcUj"
      },
      "id": "-F2bhjkYxcUj",
      "execution_count": null,
      "outputs": []
    },
    {
      "cell_type": "code",
      "source": [
        "nullindexlist[:10]"
      ],
      "metadata": {
        "colab": {
          "base_uri": "https://localhost:8080/"
        },
        "id": "GryF2tOoax92",
        "outputId": "b271d04b-ff59-44bf-d1ce-5fdae5e95712"
      },
      "id": "GryF2tOoax92",
      "execution_count": null,
      "outputs": [
        {
          "output_type": "execute_result",
          "data": {
            "text/plain": [
              "[11, 14, 16, 28, 30, 53, 57, 58, 96, 100]"
            ]
          },
          "metadata": {},
          "execution_count": 49
        }
      ]
    },
    {
      "cell_type": "code",
      "source": [
        "CHLDiab1DirtyNameIndexEngDelSIMILAR[11]"
      ],
      "metadata": {
        "colab": {
          "base_uri": "https://localhost:8080/"
        },
        "id": "dBydlWYJbSo_",
        "outputId": "d4e286bf-ce71-4c1b-856e-48f09e217a05"
      },
      "id": "dBydlWYJbSo_",
      "execution_count": null,
      "outputs": [
        {
          "output_type": "execute_result",
          "data": {
            "text/plain": [
              "['HIPOGLUCIN', '1000MG']"
            ]
          },
          "metadata": {},
          "execution_count": 50
        }
      ]
    },
    {
      "cell_type": "code",
      "source": [
        "#Load specific model and pass text through\n",
        "nlp = en_core_sci_lg.load()"
      ],
      "metadata": {
        "id": "aVCgAVkNfyzp"
      },
      "id": "aVCgAVkNfyzp",
      "execution_count": null,
      "outputs": []
    },
    {
      "cell_type": "code",
      "source": [
        "#Load specific model and pass text through\n",
        "#nlp = en_core_sci_lg.load()\n",
        "#doc = nlp(CHLDiab1DirtyNameIndexEngDelSIMILAR3)\n",
        "\n",
        "#Display resulting entity extraction\n",
        "#displacy_image = displacy.render(doc, jupyter=True,style='ent')"
      ],
      "metadata": {
        "colab": {
          "base_uri": "https://localhost:8080/",
          "height": 52
        },
        "id": "p4X72ikdbSkC",
        "outputId": "8e80b0cc-e917-4894-86a7-4225c09c6a31"
      },
      "id": "p4X72ikdbSkC",
      "execution_count": null,
      "outputs": [
        {
          "output_type": "display_data",
          "data": {
            "text/plain": [
              "<IPython.core.display.HTML object>"
            ],
            "text/html": [
              "<span class=\"tex2jax_ignore\"><div class=\"entities\" style=\"line-height: 2.5; direction: ltr\">\n",
              "<mark class=\"entity\" style=\"background: #ddd; padding: 0.45em 0.6em; margin: 0 0.25em; line-height: 1; border-radius: 0.35em;\">\n",
              "    DAPAGLIFOZINA\n",
              "    <span style=\"font-size: 0.8em; font-weight: bold; line-height: 1; border-radius: 0.35em; vertical-align: middle; margin-left: 0.5rem\">ENTITY</span>\n",
              "</mark>\n",
              " METFORMIN TABLETS</div></span>"
            ]
          },
          "metadata": {}
        }
      ]
    },
    {
      "cell_type": "markdown",
      "source": [
        "an example for spacy"
      ],
      "metadata": {
        "id": "ryiR1M92gBJ2"
      },
      "id": "ryiR1M92gBJ2"
    },
    {
      "cell_type": "code",
      "source": [
        "CHLDiab1DirtyNameIndexEngDelSIMILAR[11]"
      ],
      "metadata": {
        "id": "Cv3VX1GnbSdt",
        "colab": {
          "base_uri": "https://localhost:8080/"
        },
        "outputId": "72806d86-1edc-46ff-d9a3-da29f1e86909"
      },
      "id": "Cv3VX1GnbSdt",
      "execution_count": null,
      "outputs": [
        {
          "output_type": "execute_result",
          "data": {
            "text/plain": [
              "['HIPOGLUCIN', '1000MG']"
            ]
          },
          "metadata": {},
          "execution_count": 54
        }
      ]
    },
    {
      "cell_type": "code",
      "source": [
        "CHLDiab1DirtyNameIndexEngDelSIMILAR11 = str(' '.join(CHLDiab1DirtyNameIndexEngDelSIMILAR[11]))"
      ],
      "metadata": {
        "id": "_6nY_NmQbbSs"
      },
      "id": "_6nY_NmQbbSs",
      "execution_count": null,
      "outputs": []
    },
    {
      "cell_type": "code",
      "source": [
        "doc = nlp(CHLDiab1DirtyNameIndexEngDelSIMILAR11)\n",
        "\n",
        "#Display resulting entity extraction\n",
        "displacy_image = displacy.render(doc, jupyter=True,style='ent')"
      ],
      "metadata": {
        "id": "hffvkHfVbSa3",
        "colab": {
          "base_uri": "https://localhost:8080/",
          "height": 52
        },
        "outputId": "8dcb4954-9e63-4b15-a745-24eb4c979c96"
      },
      "id": "hffvkHfVbSa3",
      "execution_count": null,
      "outputs": [
        {
          "output_type": "display_data",
          "data": {
            "text/plain": [
              "<IPython.core.display.HTML object>"
            ],
            "text/html": [
              "<span class=\"tex2jax_ignore\"><div class=\"entities\" style=\"line-height: 2.5; direction: ltr\">\n",
              "<mark class=\"entity\" style=\"background: #ddd; padding: 0.45em 0.6em; margin: 0 0.25em; line-height: 1; border-radius: 0.35em;\">\n",
              "    HIPOGLUCIN\n",
              "    <span style=\"font-size: 0.8em; font-weight: bold; line-height: 1; border-radius: 0.35em; vertical-align: middle; margin-left: 0.5rem\">ENTITY</span>\n",
              "</mark>\n",
              " 1000MG</div></span>"
            ]
          },
          "metadata": {}
        }
      ]
    },
    {
      "cell_type": "code",
      "source": [
        "doc.text"
      ],
      "metadata": {
        "id": "V8sC1nHybSYH",
        "colab": {
          "base_uri": "https://localhost:8080/",
          "height": 35
        },
        "outputId": "938a81a3-3f5d-4147-86a0-b6d1de516377"
      },
      "id": "V8sC1nHybSYH",
      "execution_count": null,
      "outputs": [
        {
          "output_type": "execute_result",
          "data": {
            "text/plain": [
              "'HIPOGLUCIN 1000MG'"
            ],
            "application/vnd.google.colaboratory.intrinsic+json": {
              "type": "string"
            }
          },
          "metadata": {},
          "execution_count": 57
        }
      ]
    },
    {
      "cell_type": "markdown",
      "source": [
        "for these drug names in Chile 1, which are not paired with clean index, use spacy nlp to choose the appropriate name"
      ],
      "metadata": {
        "id": "0jz8eafJgWYQ"
      },
      "id": "0jz8eafJgWYQ"
    },
    {
      "cell_type": "code",
      "source": [
        "Chile1drugOutDataName = []\n",
        "for nullindex in nullindexlist:\n",
        "  tempChiledrugname = CHLDiab1DirtyNameIndexEngDelSIMILAR[nullindex]\n",
        "  tempChiledrugname_str = str(' '.join(tempChiledrugname))\n",
        "  doc = nlp(tempChiledrugname_str)\n",
        "  temptext = doc.text\n",
        "  Chile1drugOutDataName.append(temptext)"
      ],
      "metadata": {
        "id": "CdLfr67qbSVb"
      },
      "id": "CdLfr67qbSVb",
      "execution_count": null,
      "outputs": []
    },
    {
      "cell_type": "code",
      "source": [
        "Chile1drugOutDataName[:10]"
      ],
      "metadata": {
        "id": "Bti0cIvybSSE",
        "colab": {
          "base_uri": "https://localhost:8080/"
        },
        "outputId": "63206148-032c-4dec-d425-2d51b06a0227"
      },
      "id": "Bti0cIvybSSE",
      "execution_count": null,
      "outputs": [
        {
          "output_type": "execute_result",
          "data": {
            "text/plain": [
              "['HIPOGLUCIN 1000MG',\n",
              " 'Decades',\n",
              " 'Decades',\n",
              " 'TABLETS Jalra',\n",
              " 'X IG duo CONTAINER TABLETS',\n",
              " 'GLICENEX',\n",
              " 'GLUCOVANCE',\n",
              " 'GLAFORNIL',\n",
              " 'HIPOGLUCIN TABLETS',\n",
              " 'SYRINGE ACRYLIC 222b 1098']"
            ]
          },
          "metadata": {},
          "execution_count": 59
        }
      ]
    },
    {
      "cell_type": "markdown",
      "source": [
        "there are still 12 drug names without index"
      ],
      "metadata": {
        "id": "LCXkrul1g3xT"
      },
      "id": "LCXkrul1g3xT"
    },
    {
      "cell_type": "code",
      "source": [
        "Chile1drugOutDataNameNullNumber = 0\n",
        "\n",
        "for i in Chile1drugOutDataName:\n",
        "  if not i:\n",
        "    Chile1drugOutDataNameNullNumber += 1"
      ],
      "metadata": {
        "id": "5jTYD4A1bSOZ"
      },
      "id": "5jTYD4A1bSOZ",
      "execution_count": null,
      "outputs": []
    },
    {
      "cell_type": "code",
      "source": [
        "Chile1drugOutDataNameNullNumber"
      ],
      "metadata": {
        "id": "Acf2sQ-PbSHE",
        "colab": {
          "base_uri": "https://localhost:8080/"
        },
        "outputId": "3eb3f8f1-0d2f-4348-ee20-4b84a8f2705e"
      },
      "id": "Acf2sQ-PbSHE",
      "execution_count": null,
      "outputs": [
        {
          "output_type": "execute_result",
          "data": {
            "text/plain": [
              "12"
            ]
          },
          "metadata": {},
          "execution_count": 61
        }
      ]
    },
    {
      "cell_type": "code",
      "source": [
        "Chile1drugOutDataNameNullIndex = []\n",
        "\n",
        "for i in range(0, len(Chile1drugOutDataName)):\n",
        "  if not Chile1drugOutDataName[i]:\n",
        "    Chile1drugOutDataNameNullIndex.append(i)\n"
      ],
      "metadata": {
        "id": "Bv3ZmcmodURa"
      },
      "id": "Bv3ZmcmodURa",
      "execution_count": null,
      "outputs": []
    },
    {
      "cell_type": "code",
      "source": [
        "Chile1drugOutDataNameNullIndex"
      ],
      "metadata": {
        "colab": {
          "base_uri": "https://localhost:8080/"
        },
        "id": "iXcY3KVHdUD9",
        "outputId": "fa26aced-fb0b-45ff-b1d2-13ca9d7f8e6b"
      },
      "id": "iXcY3KVHdUD9",
      "execution_count": null,
      "outputs": [
        {
          "output_type": "execute_result",
          "data": {
            "text/plain": [
              "[31, 36, 41, 56, 95, 116, 122, 158, 336, 347, 381, 418]"
            ]
          },
          "metadata": {},
          "execution_count": 63
        }
      ]
    },
    {
      "cell_type": "code",
      "source": [
        "# for these null element in CHIfnIndex list, use Chile1drugOutDataName to complete them\n",
        "j = 0\n",
        "for i in nullindexlist:\n",
        "  CHIfinIndex[i] = Chile1drugOutDataName[j]\n",
        "  j += 1\n"
      ],
      "metadata": {
        "id": "5sQ3n8uAdprN"
      },
      "id": "5sQ3n8uAdprN",
      "execution_count": null,
      "outputs": []
    },
    {
      "cell_type": "code",
      "source": [
        "len(nullindexlist)"
      ],
      "metadata": {
        "colab": {
          "base_uri": "https://localhost:8080/"
        },
        "id": "pUHH-eAZdpop",
        "outputId": "b8c08a38-43eb-4eba-f4a0-41418c5ee38d"
      },
      "id": "pUHH-eAZdpop",
      "execution_count": null,
      "outputs": [
        {
          "output_type": "execute_result",
          "data": {
            "text/plain": [
              "447"
            ]
          },
          "metadata": {},
          "execution_count": 90
        }
      ]
    },
    {
      "cell_type": "code",
      "source": [
        "for i in range(0, len(CHIfinIndex)):\n",
        "  if not CHIfinIndex[i]:\n",
        "    print(i)"
      ],
      "metadata": {
        "colab": {
          "base_uri": "https://localhost:8080/"
        },
        "id": "AwIgifPpdpdh",
        "outputId": "95ed00af-7799-4008-f0d2-89c9eee04fcb"
      },
      "id": "AwIgifPpdpdh",
      "execution_count": null,
      "outputs": [
        {
          "output_type": "stream",
          "name": "stdout",
          "text": [
            "350\n",
            "404\n",
            "455\n",
            "590\n",
            "906\n",
            "1056\n",
            "1096\n",
            "1375\n",
            "2743\n",
            "2823\n",
            "3121\n",
            "3423\n"
          ]
        }
      ]
    },
    {
      "cell_type": "code",
      "source": [
        "for index in range(len(CHIfinIndex)):\n",
        "  if not CHIfinIndex[index]:\n",
        "    CHIfinIndex[index] = CHLDiab1DirtyNameIndexEngDelSIMILAR[index]"
      ],
      "metadata": {
        "id": "knX3B_4VdpRD"
      },
      "id": "knX3B_4VdpRD",
      "execution_count": null,
      "outputs": []
    },
    {
      "cell_type": "code",
      "source": [
        "nullindex = []\n",
        "for index in range(len(CHIfinIndex)):\n",
        "  if not CHIfinIndex[index]:\n",
        "    nullindex.append(index)"
      ],
      "metadata": {
        "id": "fnxwEHefSfw6"
      },
      "id": "fnxwEHefSfw6",
      "execution_count": null,
      "outputs": []
    },
    {
      "cell_type": "code",
      "source": [
        "nullindex"
      ],
      "metadata": {
        "colab": {
          "base_uri": "https://localhost:8080/"
        },
        "id": "fydn6e1GSftW",
        "outputId": "4c25f683-0cd1-4fb3-9e2a-de6fc989f858"
      },
      "id": "fydn6e1GSftW",
      "execution_count": null,
      "outputs": [
        {
          "output_type": "execute_result",
          "data": {
            "text/plain": [
              "[350, 404, 455, 590, 906, 1056, 1096, 1375, 2743, 2823, 3121, 3423]"
            ]
          },
          "metadata": {},
          "execution_count": 72
        }
      ]
    },
    {
      "cell_type": "markdown",
      "source": [
        "## Part 3: compare one durg name with each index and select one index to pair"
      ],
      "metadata": {
        "id": "7Rh5UiQxqAAf"
      },
      "id": "7Rh5UiQxqAAf"
    },
    {
      "cell_type": "markdown",
      "source": [
        "### part 3 - approach 1 (according to the same vocabularies)"
      ],
      "metadata": {
        "id": "xPgReTHJ1HZ4"
      },
      "id": "xPgReTHJ1HZ4"
    },
    {
      "cell_type": "code",
      "source": [
        "# try to pair the \n",
        "\n",
        "myfirstlist = []\n",
        "\n",
        "for item in CHLDiab1DirtyNameIndexEng[0]:\n",
        "  for index in MainMedicineIndex:\n",
        "    add = False\n",
        "    for subindex in index:\n",
        "      if subindex == item:\n",
        "        add = True\n",
        "    if add == True:\n",
        "      myfirstlist.append(index)\n"
      ],
      "metadata": {
        "id": "7PK7w3uS7og6"
      },
      "id": "7PK7w3uS7og6",
      "execution_count": null,
      "outputs": []
    },
    {
      "cell_type": "code",
      "source": [
        "CHLDiab1DirtyNameIndexEng[0]"
      ],
      "metadata": {
        "colab": {
          "base_uri": "https://localhost:8080/"
        },
        "id": "R8onsqTeZcK-",
        "outputId": "662ea065-5dbf-433d-ce0e-9cde5e4cfc80"
      },
      "id": "R8onsqTeZcK-",
      "execution_count": null,
      "outputs": [
        {
          "output_type": "execute_result",
          "data": {
            "text/plain": [
              "['INSULIN',\n",
              " 'GLULISINA',\n",
              " 'CARTRIDGE',\n",
              " 'DEVICE',\n",
              " 'PRELLENADO',\n",
              " 'DISPOSABLE',\n",
              " 'DISPENSATION']"
            ]
          },
          "metadata": {},
          "execution_count": 34
        }
      ]
    },
    {
      "cell_type": "code",
      "source": [
        "myfirstlist"
      ],
      "metadata": {
        "colab": {
          "base_uri": "https://localhost:8080/"
        },
        "id": "ys8GnL70O8rF",
        "outputId": "b12f4203-5cde-4106-e606-244751f8daa0"
      },
      "id": "ys8GnL70O8rF",
      "execution_count": null,
      "outputs": [
        {
          "output_type": "execute_result",
          "data": {
            "text/plain": [
              "[['INSULIN', 'GLARGINE', 'LIXISENATIDE'],\n",
              " ['INSULIN', 'ASPART'],\n",
              " ['INSULIN', 'LISPRO'],\n",
              " ['INSULIN', 'DEGLUDEC', 'LIIRAGLUTIDE'],\n",
              " ['INSULIN', 'GLARGINE'],\n",
              " ['INSULIN', 'HUMAN'],\n",
              " ['INSULIN', 'SOLUBLE'],\n",
              " ['INSULIN', 'GLARGINE'],\n",
              " ['INSULIN', 'ASPART'],\n",
              " ['INSULIN', 'GLARGINE', 'LIXISENATIDE'],\n",
              " ['INSULIN', 'ASPART'],\n",
              " ['INSULIN', 'HUMAN'],\n",
              " ['INSULIN', 'GLULISINE'],\n",
              " ['INSULIN', 'GLULISINE'],\n",
              " ['INTERMEDIATE', 'ACTING', 'INSULIN'],\n",
              " ['INSULIN'],\n",
              " ['INSULIN'],\n",
              " ['INSULIN', 'DEGLUDEC'],\n",
              " ['INSULIN', 'HUMAN'],\n",
              " ['INSULIN', 'HUMAN'],\n",
              " ['INSULIN', 'GLARGINE'],\n",
              " ['INSULIN', 'DETEMIR'],\n",
              " ['INSULIN', 'LISPRO']]"
            ]
          },
          "metadata": {},
          "execution_count": 35
        }
      ]
    },
    {
      "cell_type": "markdown",
      "source": [
        "### part 3 - approach 2 (using simhash calculate distance)"
      ],
      "metadata": {
        "id": "TI3k25Tb1VdL"
      },
      "id": "TI3k25Tb1VdL"
    },
    {
      "cell_type": "code",
      "source": [
        "# try to pair the againnnnnn\n",
        "\n",
        "!pip install simhash\n",
        "\n",
        "from simhash import Simhash"
      ],
      "metadata": {
        "id": "v0ihtLxvO8j0",
        "colab": {
          "base_uri": "https://localhost:8080/"
        },
        "outputId": "b6daa750-0f09-452a-f9ae-f81e499a8d55"
      },
      "id": "v0ihtLxvO8j0",
      "execution_count": null,
      "outputs": [
        {
          "output_type": "stream",
          "name": "stdout",
          "text": [
            "Looking in indexes: https://pypi.org/simple, https://us-python.pkg.dev/colab-wheels/public/simple/\n",
            "Requirement already satisfied: simhash in /usr/local/lib/python3.7/dist-packages (2.1.2)\n",
            "Requirement already satisfied: numpy in /usr/local/lib/python3.7/dist-packages (from simhash) (1.21.6)\n"
          ]
        }
      ]
    },
    {
      "cell_type": "code",
      "source": [
        "pairIndexlist = []\n",
        "for dirtyname in CHIfinIndex:\n",
        "  distance_list = []\n",
        "  for index in MainMedicineIndex:\n",
        "    distance = Simhash(index).distance(Simhash(dirtyname))\n",
        "    distance_list.append(distance)\n",
        "  index_min = min(range(len(distance_list)), key=distance_list.__getitem__) # get the index which correspond to the minimum distance\n",
        "  add_index = MainMedicineIndex[index_min]\n",
        "  pairIndexlist.append(add_index)"
      ],
      "metadata": {
        "id": "JR3rcjO7cw-c"
      },
      "id": "JR3rcjO7cw-c",
      "execution_count": null,
      "outputs": []
    },
    {
      "cell_type": "code",
      "source": [
        "PairIndexData = {\"Chile 1 drug names\": CHIfinIndex, \"Catalog Index\": pairIndexlist}"
      ],
      "metadata": {
        "id": "cdCrKafQxWIj"
      },
      "id": "cdCrKafQxWIj",
      "execution_count": null,
      "outputs": []
    },
    {
      "cell_type": "code",
      "source": [
        "print(len(CHIfinIndex), len(pairIndexlist))"
      ],
      "metadata": {
        "colab": {
          "base_uri": "https://localhost:8080/"
        },
        "id": "dKTw7lpkx_td",
        "outputId": "3ede1b53-c4d3-4d88-c540-7e365ef378d7"
      },
      "id": "dKTw7lpkx_td",
      "execution_count": null,
      "outputs": [
        {
          "output_type": "stream",
          "name": "stdout",
          "text": [
            "3663 3663\n"
          ]
        }
      ]
    },
    {
      "cell_type": "code",
      "source": [
        "PairIndexData_df = pd.DataFrame(PairIndexData)"
      ],
      "metadata": {
        "id": "571L_3Gkx1SB"
      },
      "id": "571L_3Gkx1SB",
      "execution_count": null,
      "outputs": []
    },
    {
      "cell_type": "code",
      "source": [
        "PairIndexData_df"
      ],
      "metadata": {
        "colab": {
          "base_uri": "https://localhost:8080/",
          "height": 424
        },
        "id": "oiJO88LCx1QS",
        "outputId": "50841822-ef79-4ddf-bcc9-67b4386171d7"
      },
      "id": "oiJO88LCx1QS",
      "execution_count": null,
      "outputs": [
        {
          "output_type": "execute_result",
          "data": {
            "text/plain": [
              "              Chile 1 drug names               Catalog Index\n",
              "0                    [METFORMIN]                 [METFORMIN]\n",
              "1                      [INSULIN]                   [INSULIN]\n",
              "2                    [METFORMIN]                 [METFORMIN]\n",
              "3                    [METFORMIN]                 [METFORMIN]\n",
              "4                      [INSULIN]                   [INSULIN]\n",
              "...                          ...                         ...\n",
              "3658      [INSULIN, RECOMBINANT]          [INSULIN, DETEMIR]\n",
              "3659  [METFORMIN, HYDROCHLORIDE]  [METFORMIN, HYDROCHLORIDE]\n",
              "3660                      GALVUS               [FLUCONAZOLE]\n",
              "3661          THRESIBA FLEXTOUCH  [EMPAGLIFLOZIN, METFORMIN]\n",
              "3662                 [METFORMIN]                 [METFORMIN]\n",
              "\n",
              "[3663 rows x 2 columns]"
            ],
            "text/html": [
              "\n",
              "  <div id=\"df-77f3ced4-7d93-4366-a86b-aefd01a1c6cf\">\n",
              "    <div class=\"colab-df-container\">\n",
              "      <div>\n",
              "<style scoped>\n",
              "    .dataframe tbody tr th:only-of-type {\n",
              "        vertical-align: middle;\n",
              "    }\n",
              "\n",
              "    .dataframe tbody tr th {\n",
              "        vertical-align: top;\n",
              "    }\n",
              "\n",
              "    .dataframe thead th {\n",
              "        text-align: right;\n",
              "    }\n",
              "</style>\n",
              "<table border=\"1\" class=\"dataframe\">\n",
              "  <thead>\n",
              "    <tr style=\"text-align: right;\">\n",
              "      <th></th>\n",
              "      <th>Chile 1 drug names</th>\n",
              "      <th>Catalog Index</th>\n",
              "    </tr>\n",
              "  </thead>\n",
              "  <tbody>\n",
              "    <tr>\n",
              "      <th>0</th>\n",
              "      <td>[METFORMIN]</td>\n",
              "      <td>[METFORMIN]</td>\n",
              "    </tr>\n",
              "    <tr>\n",
              "      <th>1</th>\n",
              "      <td>[INSULIN]</td>\n",
              "      <td>[INSULIN]</td>\n",
              "    </tr>\n",
              "    <tr>\n",
              "      <th>2</th>\n",
              "      <td>[METFORMIN]</td>\n",
              "      <td>[METFORMIN]</td>\n",
              "    </tr>\n",
              "    <tr>\n",
              "      <th>3</th>\n",
              "      <td>[METFORMIN]</td>\n",
              "      <td>[METFORMIN]</td>\n",
              "    </tr>\n",
              "    <tr>\n",
              "      <th>4</th>\n",
              "      <td>[INSULIN]</td>\n",
              "      <td>[INSULIN]</td>\n",
              "    </tr>\n",
              "    <tr>\n",
              "      <th>...</th>\n",
              "      <td>...</td>\n",
              "      <td>...</td>\n",
              "    </tr>\n",
              "    <tr>\n",
              "      <th>3658</th>\n",
              "      <td>[INSULIN, RECOMBINANT]</td>\n",
              "      <td>[INSULIN, DETEMIR]</td>\n",
              "    </tr>\n",
              "    <tr>\n",
              "      <th>3659</th>\n",
              "      <td>[METFORMIN, HYDROCHLORIDE]</td>\n",
              "      <td>[METFORMIN, HYDROCHLORIDE]</td>\n",
              "    </tr>\n",
              "    <tr>\n",
              "      <th>3660</th>\n",
              "      <td>GALVUS</td>\n",
              "      <td>[FLUCONAZOLE]</td>\n",
              "    </tr>\n",
              "    <tr>\n",
              "      <th>3661</th>\n",
              "      <td>THRESIBA FLEXTOUCH</td>\n",
              "      <td>[EMPAGLIFLOZIN, METFORMIN]</td>\n",
              "    </tr>\n",
              "    <tr>\n",
              "      <th>3662</th>\n",
              "      <td>[METFORMIN]</td>\n",
              "      <td>[METFORMIN]</td>\n",
              "    </tr>\n",
              "  </tbody>\n",
              "</table>\n",
              "<p>3663 rows × 2 columns</p>\n",
              "</div>\n",
              "      <button class=\"colab-df-convert\" onclick=\"convertToInteractive('df-77f3ced4-7d93-4366-a86b-aefd01a1c6cf')\"\n",
              "              title=\"Convert this dataframe to an interactive table.\"\n",
              "              style=\"display:none;\">\n",
              "        \n",
              "  <svg xmlns=\"http://www.w3.org/2000/svg\" height=\"24px\"viewBox=\"0 0 24 24\"\n",
              "       width=\"24px\">\n",
              "    <path d=\"M0 0h24v24H0V0z\" fill=\"none\"/>\n",
              "    <path d=\"M18.56 5.44l.94 2.06.94-2.06 2.06-.94-2.06-.94-.94-2.06-.94 2.06-2.06.94zm-11 1L8.5 8.5l.94-2.06 2.06-.94-2.06-.94L8.5 2.5l-.94 2.06-2.06.94zm10 10l.94 2.06.94-2.06 2.06-.94-2.06-.94-.94-2.06-.94 2.06-2.06.94z\"/><path d=\"M17.41 7.96l-1.37-1.37c-.4-.4-.92-.59-1.43-.59-.52 0-1.04.2-1.43.59L10.3 9.45l-7.72 7.72c-.78.78-.78 2.05 0 2.83L4 21.41c.39.39.9.59 1.41.59.51 0 1.02-.2 1.41-.59l7.78-7.78 2.81-2.81c.8-.78.8-2.07 0-2.86zM5.41 20L4 18.59l7.72-7.72 1.47 1.35L5.41 20z\"/>\n",
              "  </svg>\n",
              "      </button>\n",
              "      \n",
              "  <style>\n",
              "    .colab-df-container {\n",
              "      display:flex;\n",
              "      flex-wrap:wrap;\n",
              "      gap: 12px;\n",
              "    }\n",
              "\n",
              "    .colab-df-convert {\n",
              "      background-color: #E8F0FE;\n",
              "      border: none;\n",
              "      border-radius: 50%;\n",
              "      cursor: pointer;\n",
              "      display: none;\n",
              "      fill: #1967D2;\n",
              "      height: 32px;\n",
              "      padding: 0 0 0 0;\n",
              "      width: 32px;\n",
              "    }\n",
              "\n",
              "    .colab-df-convert:hover {\n",
              "      background-color: #E2EBFA;\n",
              "      box-shadow: 0px 1px 2px rgba(60, 64, 67, 0.3), 0px 1px 3px 1px rgba(60, 64, 67, 0.15);\n",
              "      fill: #174EA6;\n",
              "    }\n",
              "\n",
              "    [theme=dark] .colab-df-convert {\n",
              "      background-color: #3B4455;\n",
              "      fill: #D2E3FC;\n",
              "    }\n",
              "\n",
              "    [theme=dark] .colab-df-convert:hover {\n",
              "      background-color: #434B5C;\n",
              "      box-shadow: 0px 1px 3px 1px rgba(0, 0, 0, 0.15);\n",
              "      filter: drop-shadow(0px 1px 2px rgba(0, 0, 0, 0.3));\n",
              "      fill: #FFFFFF;\n",
              "    }\n",
              "  </style>\n",
              "\n",
              "      <script>\n",
              "        const buttonEl =\n",
              "          document.querySelector('#df-77f3ced4-7d93-4366-a86b-aefd01a1c6cf button.colab-df-convert');\n",
              "        buttonEl.style.display =\n",
              "          google.colab.kernel.accessAllowed ? 'block' : 'none';\n",
              "\n",
              "        async function convertToInteractive(key) {\n",
              "          const element = document.querySelector('#df-77f3ced4-7d93-4366-a86b-aefd01a1c6cf');\n",
              "          const dataTable =\n",
              "            await google.colab.kernel.invokeFunction('convertToInteractive',\n",
              "                                                     [key], {});\n",
              "          if (!dataTable) return;\n",
              "\n",
              "          const docLinkHtml = 'Like what you see? Visit the ' +\n",
              "            '<a target=\"_blank\" href=https://colab.research.google.com/notebooks/data_table.ipynb>data table notebook</a>'\n",
              "            + ' to learn more about interactive tables.';\n",
              "          element.innerHTML = '';\n",
              "          dataTable['output_type'] = 'display_data';\n",
              "          await google.colab.output.renderOutput(dataTable, element);\n",
              "          const docLink = document.createElement('div');\n",
              "          docLink.innerHTML = docLinkHtml;\n",
              "          element.appendChild(docLink);\n",
              "        }\n",
              "      </script>\n",
              "    </div>\n",
              "  </div>\n",
              "  "
            ]
          },
          "metadata": {},
          "execution_count": 100
        }
      ]
    },
    {
      "cell_type": "markdown",
      "source": [
        "## Part 4: combine the Chile drug name index pair data frame and full catagol name index data frame to get the result"
      ],
      "metadata": {
        "id": "yDjcfdXF19yT"
      },
      "id": "yDjcfdXF19yT"
    },
    {
      "cell_type": "code",
      "source": [
        "# for Chile pair index dataframe, transform list to string\n",
        "str_pairIndexlist = []\n",
        "for item in pairIndexlist:\n",
        "  newitem = ' '.join(item)\n",
        "  str_pairIndexlist.append(newitem)"
      ],
      "metadata": {
        "id": "85rGZyuH6gIK"
      },
      "id": "85rGZyuH6gIK",
      "execution_count": null,
      "outputs": []
    },
    {
      "cell_type": "code",
      "source": [
        "str_CHIfinIndex = []\n",
        "for item in CHIfinIndex:\n",
        "  newitem = ' '.join(item)\n",
        "  str_CHIfinIndex.append(newitem)"
      ],
      "metadata": {
        "id": "Z0L-Yt-v7k3B"
      },
      "id": "Z0L-Yt-v7k3B",
      "execution_count": null,
      "outputs": []
    },
    {
      "cell_type": "code",
      "source": [
        "newPairIndexData = {\"Chile 1 drug names\": str_CHIfinIndex, \"Catalog Index\": str_pairIndexlist}"
      ],
      "metadata": {
        "id": "q2wyQ-bU70-B"
      },
      "id": "q2wyQ-bU70-B",
      "execution_count": null,
      "outputs": []
    },
    {
      "cell_type": "code",
      "source": [
        "newPairIndexData_df = pd.DataFrame(newPairIndexData)"
      ],
      "metadata": {
        "id": "jWEr3BAZ7_Ch"
      },
      "id": "jWEr3BAZ7_Ch",
      "execution_count": null,
      "outputs": []
    },
    {
      "cell_type": "code",
      "source": [
        "newPairIndexData_df[:2]"
      ],
      "metadata": {
        "colab": {
          "base_uri": "https://localhost:8080/",
          "height": 112
        },
        "id": "zXTBmgbg8De6",
        "outputId": "dfb3cbdc-d285-44c5-9d64-c36835a9bcc0"
      },
      "id": "zXTBmgbg8De6",
      "execution_count": null,
      "outputs": [
        {
          "output_type": "execute_result",
          "data": {
            "text/plain": [
              "  Chile 1 drug names Catalog Index\n",
              "0          METFORMIN     METFORMIN\n",
              "1            INSULIN       INSULIN"
            ],
            "text/html": [
              "\n",
              "  <div id=\"df-085be145-575e-4647-9203-f0f0abf5c8cd\">\n",
              "    <div class=\"colab-df-container\">\n",
              "      <div>\n",
              "<style scoped>\n",
              "    .dataframe tbody tr th:only-of-type {\n",
              "        vertical-align: middle;\n",
              "    }\n",
              "\n",
              "    .dataframe tbody tr th {\n",
              "        vertical-align: top;\n",
              "    }\n",
              "\n",
              "    .dataframe thead th {\n",
              "        text-align: right;\n",
              "    }\n",
              "</style>\n",
              "<table border=\"1\" class=\"dataframe\">\n",
              "  <thead>\n",
              "    <tr style=\"text-align: right;\">\n",
              "      <th></th>\n",
              "      <th>Chile 1 drug names</th>\n",
              "      <th>Catalog Index</th>\n",
              "    </tr>\n",
              "  </thead>\n",
              "  <tbody>\n",
              "    <tr>\n",
              "      <th>0</th>\n",
              "      <td>METFORMIN</td>\n",
              "      <td>METFORMIN</td>\n",
              "    </tr>\n",
              "    <tr>\n",
              "      <th>1</th>\n",
              "      <td>INSULIN</td>\n",
              "      <td>INSULIN</td>\n",
              "    </tr>\n",
              "  </tbody>\n",
              "</table>\n",
              "</div>\n",
              "      <button class=\"colab-df-convert\" onclick=\"convertToInteractive('df-085be145-575e-4647-9203-f0f0abf5c8cd')\"\n",
              "              title=\"Convert this dataframe to an interactive table.\"\n",
              "              style=\"display:none;\">\n",
              "        \n",
              "  <svg xmlns=\"http://www.w3.org/2000/svg\" height=\"24px\"viewBox=\"0 0 24 24\"\n",
              "       width=\"24px\">\n",
              "    <path d=\"M0 0h24v24H0V0z\" fill=\"none\"/>\n",
              "    <path d=\"M18.56 5.44l.94 2.06.94-2.06 2.06-.94-2.06-.94-.94-2.06-.94 2.06-2.06.94zm-11 1L8.5 8.5l.94-2.06 2.06-.94-2.06-.94L8.5 2.5l-.94 2.06-2.06.94zm10 10l.94 2.06.94-2.06 2.06-.94-2.06-.94-.94-2.06-.94 2.06-2.06.94z\"/><path d=\"M17.41 7.96l-1.37-1.37c-.4-.4-.92-.59-1.43-.59-.52 0-1.04.2-1.43.59L10.3 9.45l-7.72 7.72c-.78.78-.78 2.05 0 2.83L4 21.41c.39.39.9.59 1.41.59.51 0 1.02-.2 1.41-.59l7.78-7.78 2.81-2.81c.8-.78.8-2.07 0-2.86zM5.41 20L4 18.59l7.72-7.72 1.47 1.35L5.41 20z\"/>\n",
              "  </svg>\n",
              "      </button>\n",
              "      \n",
              "  <style>\n",
              "    .colab-df-container {\n",
              "      display:flex;\n",
              "      flex-wrap:wrap;\n",
              "      gap: 12px;\n",
              "    }\n",
              "\n",
              "    .colab-df-convert {\n",
              "      background-color: #E8F0FE;\n",
              "      border: none;\n",
              "      border-radius: 50%;\n",
              "      cursor: pointer;\n",
              "      display: none;\n",
              "      fill: #1967D2;\n",
              "      height: 32px;\n",
              "      padding: 0 0 0 0;\n",
              "      width: 32px;\n",
              "    }\n",
              "\n",
              "    .colab-df-convert:hover {\n",
              "      background-color: #E2EBFA;\n",
              "      box-shadow: 0px 1px 2px rgba(60, 64, 67, 0.3), 0px 1px 3px 1px rgba(60, 64, 67, 0.15);\n",
              "      fill: #174EA6;\n",
              "    }\n",
              "\n",
              "    [theme=dark] .colab-df-convert {\n",
              "      background-color: #3B4455;\n",
              "      fill: #D2E3FC;\n",
              "    }\n",
              "\n",
              "    [theme=dark] .colab-df-convert:hover {\n",
              "      background-color: #434B5C;\n",
              "      box-shadow: 0px 1px 3px 1px rgba(0, 0, 0, 0.15);\n",
              "      filter: drop-shadow(0px 1px 2px rgba(0, 0, 0, 0.3));\n",
              "      fill: #FFFFFF;\n",
              "    }\n",
              "  </style>\n",
              "\n",
              "      <script>\n",
              "        const buttonEl =\n",
              "          document.querySelector('#df-085be145-575e-4647-9203-f0f0abf5c8cd button.colab-df-convert');\n",
              "        buttonEl.style.display =\n",
              "          google.colab.kernel.accessAllowed ? 'block' : 'none';\n",
              "\n",
              "        async function convertToInteractive(key) {\n",
              "          const element = document.querySelector('#df-085be145-575e-4647-9203-f0f0abf5c8cd');\n",
              "          const dataTable =\n",
              "            await google.colab.kernel.invokeFunction('convertToInteractive',\n",
              "                                                     [key], {});\n",
              "          if (!dataTable) return;\n",
              "\n",
              "          const docLinkHtml = 'Like what you see? Visit the ' +\n",
              "            '<a target=\"_blank\" href=https://colab.research.google.com/notebooks/data_table.ipynb>data table notebook</a>'\n",
              "            + ' to learn more about interactive tables.';\n",
              "          element.innerHTML = '';\n",
              "          dataTable['output_type'] = 'display_data';\n",
              "          await google.colab.output.renderOutput(dataTable, element);\n",
              "          const docLink = document.createElement('div');\n",
              "          docLink.innerHTML = docLinkHtml;\n",
              "          element.appendChild(docLink);\n",
              "        }\n",
              "      </script>\n",
              "    </div>\n",
              "  </div>\n",
              "  "
            ]
          },
          "metadata": {},
          "execution_count": 85
        }
      ]
    },
    {
      "cell_type": "code",
      "source": [
        "# for catalog name index dataframe, transform list to string\n",
        "str_MainMedicineIndex = []\n",
        "for item in MainMedicineIndex:\n",
        "  newitem = ' '.join(item)\n",
        "  str_MainMedicineIndex.append(newitem)"
      ],
      "metadata": {
        "id": "ew739_VJ8Uzs"
      },
      "id": "ew739_VJ8Uzs",
      "execution_count": null,
      "outputs": []
    },
    {
      "cell_type": "code",
      "source": [
        "newCatalogIndexData = {\"Catalog Name\": CatalogNameU, \"Catalog Index\": str_MainMedicineIndex}"
      ],
      "metadata": {
        "id": "mQ1vUd318Uxq"
      },
      "id": "mQ1vUd318Uxq",
      "execution_count": null,
      "outputs": []
    },
    {
      "cell_type": "code",
      "source": [
        "newCatalogIndexData_df = pd.DataFrame(newCatalogIndexData)"
      ],
      "metadata": {
        "id": "qT9ZyxIw8UlJ"
      },
      "id": "qT9ZyxIw8UlJ",
      "execution_count": null,
      "outputs": []
    },
    {
      "cell_type": "code",
      "source": [
        "newCatalogIndexData_df[:2]"
      ],
      "metadata": {
        "colab": {
          "base_uri": "https://localhost:8080/",
          "height": 112
        },
        "id": "kIR5G11B8UjQ",
        "outputId": "15e2eff7-5cb6-45d8-aff2-c3e0f3d6dd11"
      },
      "id": "kIR5G11B8UjQ",
      "execution_count": null,
      "outputs": [
        {
          "output_type": "execute_result",
          "data": {
            "text/plain": [
              "                       Catalog Name  Catalog Index\n",
              "0  PHENOBARBITAL 50 MG, TABLET, TBD  PHENOBARBITAL\n",
              "1   CARVEDILOL 6.25 MG, TABLET, TBD     CARVEDILOL"
            ],
            "text/html": [
              "\n",
              "  <div id=\"df-5cce8bc9-281b-4d3a-a269-c1f04b1826d3\">\n",
              "    <div class=\"colab-df-container\">\n",
              "      <div>\n",
              "<style scoped>\n",
              "    .dataframe tbody tr th:only-of-type {\n",
              "        vertical-align: middle;\n",
              "    }\n",
              "\n",
              "    .dataframe tbody tr th {\n",
              "        vertical-align: top;\n",
              "    }\n",
              "\n",
              "    .dataframe thead th {\n",
              "        text-align: right;\n",
              "    }\n",
              "</style>\n",
              "<table border=\"1\" class=\"dataframe\">\n",
              "  <thead>\n",
              "    <tr style=\"text-align: right;\">\n",
              "      <th></th>\n",
              "      <th>Catalog Name</th>\n",
              "      <th>Catalog Index</th>\n",
              "    </tr>\n",
              "  </thead>\n",
              "  <tbody>\n",
              "    <tr>\n",
              "      <th>0</th>\n",
              "      <td>PHENOBARBITAL 50 MG, TABLET, TBD</td>\n",
              "      <td>PHENOBARBITAL</td>\n",
              "    </tr>\n",
              "    <tr>\n",
              "      <th>1</th>\n",
              "      <td>CARVEDILOL 6.25 MG, TABLET, TBD</td>\n",
              "      <td>CARVEDILOL</td>\n",
              "    </tr>\n",
              "  </tbody>\n",
              "</table>\n",
              "</div>\n",
              "      <button class=\"colab-df-convert\" onclick=\"convertToInteractive('df-5cce8bc9-281b-4d3a-a269-c1f04b1826d3')\"\n",
              "              title=\"Convert this dataframe to an interactive table.\"\n",
              "              style=\"display:none;\">\n",
              "        \n",
              "  <svg xmlns=\"http://www.w3.org/2000/svg\" height=\"24px\"viewBox=\"0 0 24 24\"\n",
              "       width=\"24px\">\n",
              "    <path d=\"M0 0h24v24H0V0z\" fill=\"none\"/>\n",
              "    <path d=\"M18.56 5.44l.94 2.06.94-2.06 2.06-.94-2.06-.94-.94-2.06-.94 2.06-2.06.94zm-11 1L8.5 8.5l.94-2.06 2.06-.94-2.06-.94L8.5 2.5l-.94 2.06-2.06.94zm10 10l.94 2.06.94-2.06 2.06-.94-2.06-.94-.94-2.06-.94 2.06-2.06.94z\"/><path d=\"M17.41 7.96l-1.37-1.37c-.4-.4-.92-.59-1.43-.59-.52 0-1.04.2-1.43.59L10.3 9.45l-7.72 7.72c-.78.78-.78 2.05 0 2.83L4 21.41c.39.39.9.59 1.41.59.51 0 1.02-.2 1.41-.59l7.78-7.78 2.81-2.81c.8-.78.8-2.07 0-2.86zM5.41 20L4 18.59l7.72-7.72 1.47 1.35L5.41 20z\"/>\n",
              "  </svg>\n",
              "      </button>\n",
              "      \n",
              "  <style>\n",
              "    .colab-df-container {\n",
              "      display:flex;\n",
              "      flex-wrap:wrap;\n",
              "      gap: 12px;\n",
              "    }\n",
              "\n",
              "    .colab-df-convert {\n",
              "      background-color: #E8F0FE;\n",
              "      border: none;\n",
              "      border-radius: 50%;\n",
              "      cursor: pointer;\n",
              "      display: none;\n",
              "      fill: #1967D2;\n",
              "      height: 32px;\n",
              "      padding: 0 0 0 0;\n",
              "      width: 32px;\n",
              "    }\n",
              "\n",
              "    .colab-df-convert:hover {\n",
              "      background-color: #E2EBFA;\n",
              "      box-shadow: 0px 1px 2px rgba(60, 64, 67, 0.3), 0px 1px 3px 1px rgba(60, 64, 67, 0.15);\n",
              "      fill: #174EA6;\n",
              "    }\n",
              "\n",
              "    [theme=dark] .colab-df-convert {\n",
              "      background-color: #3B4455;\n",
              "      fill: #D2E3FC;\n",
              "    }\n",
              "\n",
              "    [theme=dark] .colab-df-convert:hover {\n",
              "      background-color: #434B5C;\n",
              "      box-shadow: 0px 1px 3px 1px rgba(0, 0, 0, 0.15);\n",
              "      filter: drop-shadow(0px 1px 2px rgba(0, 0, 0, 0.3));\n",
              "      fill: #FFFFFF;\n",
              "    }\n",
              "  </style>\n",
              "\n",
              "      <script>\n",
              "        const buttonEl =\n",
              "          document.querySelector('#df-5cce8bc9-281b-4d3a-a269-c1f04b1826d3 button.colab-df-convert');\n",
              "        buttonEl.style.display =\n",
              "          google.colab.kernel.accessAllowed ? 'block' : 'none';\n",
              "\n",
              "        async function convertToInteractive(key) {\n",
              "          const element = document.querySelector('#df-5cce8bc9-281b-4d3a-a269-c1f04b1826d3');\n",
              "          const dataTable =\n",
              "            await google.colab.kernel.invokeFunction('convertToInteractive',\n",
              "                                                     [key], {});\n",
              "          if (!dataTable) return;\n",
              "\n",
              "          const docLinkHtml = 'Like what you see? Visit the ' +\n",
              "            '<a target=\"_blank\" href=https://colab.research.google.com/notebooks/data_table.ipynb>data table notebook</a>'\n",
              "            + ' to learn more about interactive tables.';\n",
              "          element.innerHTML = '';\n",
              "          dataTable['output_type'] = 'display_data';\n",
              "          await google.colab.output.renderOutput(dataTable, element);\n",
              "          const docLink = document.createElement('div');\n",
              "          docLink.innerHTML = docLinkHtml;\n",
              "          element.appendChild(docLink);\n",
              "        }\n",
              "      </script>\n",
              "    </div>\n",
              "  </div>\n",
              "  "
            ]
          },
          "metadata": {},
          "execution_count": 103
        }
      ]
    },
    {
      "cell_type": "code",
      "source": [
        "combine_pair_df = pd.merge(newPairIndexData_df, newCatalogIndexData_df, on='Catalog Index', how='left')"
      ],
      "metadata": {
        "id": "pZEmBd2x1-JZ"
      },
      "id": "pZEmBd2x1-JZ",
      "execution_count": null,
      "outputs": []
    },
    {
      "cell_type": "code",
      "source": [
        "combine_pair_df.to_excel(\"combine_pair_df_chile_1.xlsx\", sheet_name = 'combine_pair_df chile 1')  "
      ],
      "metadata": {
        "id": "1UI9V5a41-nH"
      },
      "id": "1UI9V5a41-nH",
      "execution_count": null,
      "outputs": []
    },
    {
      "cell_type": "markdown",
      "source": [
        "## Part 5: Combine the original drug name in Chile 1 with the pairing data frame we have got, then select for the catalog name second time (compute the distance between the original drug name and the sub set of catalog under each name in our result)"
      ],
      "metadata": {
        "id": "7kRgCKDmNrpM"
      },
      "id": "7kRgCKDmNrpM"
    },
    {
      "cell_type": "code",
      "source": [
        "CHLDiab1DirtyName[:5]"
      ],
      "metadata": {
        "colab": {
          "base_uri": "https://localhost:8080/"
        },
        "id": "ToLM6KhINuoe",
        "outputId": "0708354b-45ea-443b-d864-88a037c378b7"
      },
      "id": "ToLM6KhINuoe",
      "execution_count": null,
      "outputs": [
        {
          "output_type": "execute_result",
          "data": {
            "text/plain": [
              "['Glicenex SR 1000 Metformina 1000 MG',\n",
              " 'INSULINA 100 UI/ML (ULTRARRAPIDA) 3ML DISPOSITIVO MULTIDOSIS',\n",
              " 'Metformina 500 Mg Comprimidos De Liberación Convencional. Envase 500 Comprimidos',\n",
              " 'dapaglifozina metformina 10/1000 x 56 tabletas similar a xigduo',\n",
              " 'JERINGA INSULINA 1CC 29 GX 1/2\\tUnidad']"
            ]
          },
          "metadata": {},
          "execution_count": 106
        }
      ]
    },
    {
      "cell_type": "code",
      "source": [
        "str_CHLDiab1DirtyNameIndexEng[:5]"
      ],
      "metadata": {
        "colab": {
          "base_uri": "https://localhost:8080/"
        },
        "id": "KTgR9eGnNumj",
        "outputId": "e74ea4a1-a7e7-4ea2-e87b-2ae24fa16041"
      },
      "id": "KTgR9eGnNumj",
      "execution_count": null,
      "outputs": [
        {
          "output_type": "execute_result",
          "data": {
            "text/plain": [
              "['GLICENEX METFORMIN',\n",
              " 'INSULIN ULTRA FAST DEVICE MULTIDOSIS',\n",
              " 'METFORMIN TABLETS RELEASE CONVENTIONAL CONTAINER TABLETS',\n",
              " 'DAPAGLIFOZINA METFORMIN TABLETS SIMILAR X IG duo',\n",
              " 'SYRINGE INSULIN UNIT']"
            ]
          },
          "metadata": {},
          "execution_count": 107
        }
      ]
    },
    {
      "cell_type": "code",
      "source": [
        "print(len(CHLDiab1DirtyName), len(str_CHIfinIndex))"
      ],
      "metadata": {
        "colab": {
          "base_uri": "https://localhost:8080/"
        },
        "id": "jXeqyBmpNufE",
        "outputId": "cea4b830-261f-4d6b-a1eb-3682de90d776"
      },
      "id": "jXeqyBmpNufE",
      "execution_count": null,
      "outputs": [
        {
          "output_type": "stream",
          "name": "stdout",
          "text": [
            "3663 3663\n"
          ]
        }
      ]
    },
    {
      "cell_type": "code",
      "source": [
        "# translate the original full drug name into english\n",
        "\n",
        "CHLDiab1DirtyNameEng = []\n",
        "\n",
        "for item in CHLDiab1DirtyName:\n",
        "  temp = translator.translate(item, dest='en')\n",
        "  CHLDiab1DirtyNameEng.append(temp.text)\n",
        "\n",
        "# this block runs 7 mins"
      ],
      "metadata": {
        "id": "xq-r5lW3NuVb"
      },
      "id": "xq-r5lW3NuVb",
      "execution_count": null,
      "outputs": []
    },
    {
      "cell_type": "code",
      "source": [
        "# uppercase everything\n",
        "CHLDiab1DirtyNameEngU = []\n",
        "for i in CHLDiab1DirtyNameEng:\n",
        "  CHLDiab1DirtyNameEngU.append(i.upper())\n",
        "\n",
        "CHLDiab1DirtyNameEngU[:5]"
      ],
      "metadata": {
        "colab": {
          "base_uri": "https://localhost:8080/"
        },
        "id": "huF9SbFPSftB",
        "outputId": "e917f747-46c5-4186-a9c3-79e62cf7ae61"
      },
      "id": "huF9SbFPSftB",
      "execution_count": null,
      "outputs": [
        {
          "output_type": "execute_result",
          "data": {
            "text/plain": [
              "['GLICENEX SR 1000 METFORMINA 1000 MG',\n",
              " 'INSULIN 100 IU/ML (ULTRARAPID) 3ML MULTIDOSE DEVICE',\n",
              " 'METFORMIN 500 MG CONVENTIONAL RELEASE TABLETS. CONTAINER 500 TABLETS',\n",
              " 'DAPAGLIFOZIN METFORMIN 10/1000 X 56 TABLETS SIMILAR TO XIGDUO',\n",
              " 'INSULIN SYRINGE 1CC 29 GX 1/2 UNIT']"
            ]
          },
          "metadata": {},
          "execution_count": 110
        }
      ]
    },
    {
      "cell_type": "code",
      "source": [
        "# combine uppercase english chile 1 drug name with its indexes\n",
        "Chile1drugfn_index = {\"Chile drugs english uppercase names\": CHLDiab1DirtyNameEngU, \"Chile 1 drug names\": str_CHIfinIndex}"
      ],
      "metadata": {
        "id": "3UnCm5vgSnSf"
      },
      "id": "3UnCm5vgSnSf",
      "execution_count": null,
      "outputs": []
    },
    {
      "cell_type": "code",
      "source": [
        "Chile1drugfn_index_df = pd.DataFrame(Chile1drugfn_index)"
      ],
      "metadata": {
        "id": "1ocTbtecTxfz"
      },
      "id": "1ocTbtecTxfz",
      "execution_count": null,
      "outputs": []
    },
    {
      "cell_type": "code",
      "source": [
        "Chile1drugfn_index_df[:2]"
      ],
      "metadata": {
        "colab": {
          "base_uri": "https://localhost:8080/",
          "height": 112
        },
        "id": "0Gj-bz8UTxcD",
        "outputId": "af89d5f3-473c-4467-c60e-d81f1897c92a"
      },
      "id": "0Gj-bz8UTxcD",
      "execution_count": null,
      "outputs": [
        {
          "output_type": "execute_result",
          "data": {
            "text/plain": [
              "                 Chile drugs english uppercase names Chile 1 drug names\n",
              "0                GLICENEX SR 1000 METFORMINA 1000 MG          METFORMIN\n",
              "1  INSULIN 100 IU/ML (ULTRARAPID) 3ML MULTIDOSE D...            INSULIN"
            ],
            "text/html": [
              "\n",
              "  <div id=\"df-684ad9d4-6f8f-4d12-906b-3428d082a42b\">\n",
              "    <div class=\"colab-df-container\">\n",
              "      <div>\n",
              "<style scoped>\n",
              "    .dataframe tbody tr th:only-of-type {\n",
              "        vertical-align: middle;\n",
              "    }\n",
              "\n",
              "    .dataframe tbody tr th {\n",
              "        vertical-align: top;\n",
              "    }\n",
              "\n",
              "    .dataframe thead th {\n",
              "        text-align: right;\n",
              "    }\n",
              "</style>\n",
              "<table border=\"1\" class=\"dataframe\">\n",
              "  <thead>\n",
              "    <tr style=\"text-align: right;\">\n",
              "      <th></th>\n",
              "      <th>Chile drugs english uppercase names</th>\n",
              "      <th>Chile 1 drug names</th>\n",
              "    </tr>\n",
              "  </thead>\n",
              "  <tbody>\n",
              "    <tr>\n",
              "      <th>0</th>\n",
              "      <td>GLICENEX SR 1000 METFORMINA 1000 MG</td>\n",
              "      <td>METFORMIN</td>\n",
              "    </tr>\n",
              "    <tr>\n",
              "      <th>1</th>\n",
              "      <td>INSULIN 100 IU/ML (ULTRARAPID) 3ML MULTIDOSE D...</td>\n",
              "      <td>INSULIN</td>\n",
              "    </tr>\n",
              "  </tbody>\n",
              "</table>\n",
              "</div>\n",
              "      <button class=\"colab-df-convert\" onclick=\"convertToInteractive('df-684ad9d4-6f8f-4d12-906b-3428d082a42b')\"\n",
              "              title=\"Convert this dataframe to an interactive table.\"\n",
              "              style=\"display:none;\">\n",
              "        \n",
              "  <svg xmlns=\"http://www.w3.org/2000/svg\" height=\"24px\"viewBox=\"0 0 24 24\"\n",
              "       width=\"24px\">\n",
              "    <path d=\"M0 0h24v24H0V0z\" fill=\"none\"/>\n",
              "    <path d=\"M18.56 5.44l.94 2.06.94-2.06 2.06-.94-2.06-.94-.94-2.06-.94 2.06-2.06.94zm-11 1L8.5 8.5l.94-2.06 2.06-.94-2.06-.94L8.5 2.5l-.94 2.06-2.06.94zm10 10l.94 2.06.94-2.06 2.06-.94-2.06-.94-.94-2.06-.94 2.06-2.06.94z\"/><path d=\"M17.41 7.96l-1.37-1.37c-.4-.4-.92-.59-1.43-.59-.52 0-1.04.2-1.43.59L10.3 9.45l-7.72 7.72c-.78.78-.78 2.05 0 2.83L4 21.41c.39.39.9.59 1.41.59.51 0 1.02-.2 1.41-.59l7.78-7.78 2.81-2.81c.8-.78.8-2.07 0-2.86zM5.41 20L4 18.59l7.72-7.72 1.47 1.35L5.41 20z\"/>\n",
              "  </svg>\n",
              "      </button>\n",
              "      \n",
              "  <style>\n",
              "    .colab-df-container {\n",
              "      display:flex;\n",
              "      flex-wrap:wrap;\n",
              "      gap: 12px;\n",
              "    }\n",
              "\n",
              "    .colab-df-convert {\n",
              "      background-color: #E8F0FE;\n",
              "      border: none;\n",
              "      border-radius: 50%;\n",
              "      cursor: pointer;\n",
              "      display: none;\n",
              "      fill: #1967D2;\n",
              "      height: 32px;\n",
              "      padding: 0 0 0 0;\n",
              "      width: 32px;\n",
              "    }\n",
              "\n",
              "    .colab-df-convert:hover {\n",
              "      background-color: #E2EBFA;\n",
              "      box-shadow: 0px 1px 2px rgba(60, 64, 67, 0.3), 0px 1px 3px 1px rgba(60, 64, 67, 0.15);\n",
              "      fill: #174EA6;\n",
              "    }\n",
              "\n",
              "    [theme=dark] .colab-df-convert {\n",
              "      background-color: #3B4455;\n",
              "      fill: #D2E3FC;\n",
              "    }\n",
              "\n",
              "    [theme=dark] .colab-df-convert:hover {\n",
              "      background-color: #434B5C;\n",
              "      box-shadow: 0px 1px 3px 1px rgba(0, 0, 0, 0.15);\n",
              "      filter: drop-shadow(0px 1px 2px rgba(0, 0, 0, 0.3));\n",
              "      fill: #FFFFFF;\n",
              "    }\n",
              "  </style>\n",
              "\n",
              "      <script>\n",
              "        const buttonEl =\n",
              "          document.querySelector('#df-684ad9d4-6f8f-4d12-906b-3428d082a42b button.colab-df-convert');\n",
              "        buttonEl.style.display =\n",
              "          google.colab.kernel.accessAllowed ? 'block' : 'none';\n",
              "\n",
              "        async function convertToInteractive(key) {\n",
              "          const element = document.querySelector('#df-684ad9d4-6f8f-4d12-906b-3428d082a42b');\n",
              "          const dataTable =\n",
              "            await google.colab.kernel.invokeFunction('convertToInteractive',\n",
              "                                                     [key], {});\n",
              "          if (!dataTable) return;\n",
              "\n",
              "          const docLinkHtml = 'Like what you see? Visit the ' +\n",
              "            '<a target=\"_blank\" href=https://colab.research.google.com/notebooks/data_table.ipynb>data table notebook</a>'\n",
              "            + ' to learn more about interactive tables.';\n",
              "          element.innerHTML = '';\n",
              "          dataTable['output_type'] = 'display_data';\n",
              "          await google.colab.output.renderOutput(dataTable, element);\n",
              "          const docLink = document.createElement('div');\n",
              "          docLink.innerHTML = docLinkHtml;\n",
              "          element.appendChild(docLink);\n",
              "        }\n",
              "      </script>\n",
              "    </div>\n",
              "  </div>\n",
              "  "
            ]
          },
          "metadata": {},
          "execution_count": 113
        }
      ]
    },
    {
      "cell_type": "code",
      "source": [
        "# combine Chile drug original full name, its index with the result data frame (pair with catalog name)\n",
        "\n",
        "Chile1drugs = pd.merge(Chile1drugfn_index_df, combine_pair_df, on='Chile 1 drug names', how='left')"
      ],
      "metadata": {
        "id": "FUza78HSTxWI"
      },
      "id": "FUza78HSTxWI",
      "execution_count": null,
      "outputs": []
    },
    {
      "cell_type": "code",
      "source": [
        "Chile1drugs[:5]"
      ],
      "metadata": {
        "colab": {
          "base_uri": "https://localhost:8080/",
          "height": 250
        },
        "id": "e7UtPJjzTxOr",
        "outputId": "fa695cbe-7f0b-4662-a254-fd5aec6c7310"
      },
      "id": "e7UtPJjzTxOr",
      "execution_count": null,
      "outputs": [
        {
          "output_type": "execute_result",
          "data": {
            "text/plain": [
              "   Chile drugs english uppercase names Chile 1 drug names Catalog Index  \\\n",
              "0  GLICENEX SR 1000 METFORMINA 1000 MG          METFORMIN     METFORMIN   \n",
              "1  GLICENEX SR 1000 METFORMINA 1000 MG          METFORMIN     METFORMIN   \n",
              "2  GLICENEX SR 1000 METFORMINA 1000 MG          METFORMIN     METFORMIN   \n",
              "3  GLICENEX SR 1000 METFORMINA 1000 MG          METFORMIN     METFORMIN   \n",
              "4  GLICENEX SR 1000 METFORMINA 1000 MG          METFORMIN     METFORMIN   \n",
              "\n",
              "                     Catalog Name  \n",
              "0  METFORMIN 1000 MG, TABLET, TBD  \n",
              "1   METFORMIN 750 MG, TABLET, TBD  \n",
              "2   METFORMIN 850 MG, TABLET, TBD  \n",
              "3   METFORMIN 500 MG, TABLET, TBD  \n",
              "4  METFORMIN 1000 MG, TABLET, TBD  "
            ],
            "text/html": [
              "\n",
              "  <div id=\"df-74686300-adf3-4008-95a8-b43634989bee\">\n",
              "    <div class=\"colab-df-container\">\n",
              "      <div>\n",
              "<style scoped>\n",
              "    .dataframe tbody tr th:only-of-type {\n",
              "        vertical-align: middle;\n",
              "    }\n",
              "\n",
              "    .dataframe tbody tr th {\n",
              "        vertical-align: top;\n",
              "    }\n",
              "\n",
              "    .dataframe thead th {\n",
              "        text-align: right;\n",
              "    }\n",
              "</style>\n",
              "<table border=\"1\" class=\"dataframe\">\n",
              "  <thead>\n",
              "    <tr style=\"text-align: right;\">\n",
              "      <th></th>\n",
              "      <th>Chile drugs english uppercase names</th>\n",
              "      <th>Chile 1 drug names</th>\n",
              "      <th>Catalog Index</th>\n",
              "      <th>Catalog Name</th>\n",
              "    </tr>\n",
              "  </thead>\n",
              "  <tbody>\n",
              "    <tr>\n",
              "      <th>0</th>\n",
              "      <td>GLICENEX SR 1000 METFORMINA 1000 MG</td>\n",
              "      <td>METFORMIN</td>\n",
              "      <td>METFORMIN</td>\n",
              "      <td>METFORMIN 1000 MG, TABLET, TBD</td>\n",
              "    </tr>\n",
              "    <tr>\n",
              "      <th>1</th>\n",
              "      <td>GLICENEX SR 1000 METFORMINA 1000 MG</td>\n",
              "      <td>METFORMIN</td>\n",
              "      <td>METFORMIN</td>\n",
              "      <td>METFORMIN 750 MG, TABLET, TBD</td>\n",
              "    </tr>\n",
              "    <tr>\n",
              "      <th>2</th>\n",
              "      <td>GLICENEX SR 1000 METFORMINA 1000 MG</td>\n",
              "      <td>METFORMIN</td>\n",
              "      <td>METFORMIN</td>\n",
              "      <td>METFORMIN 850 MG, TABLET, TBD</td>\n",
              "    </tr>\n",
              "    <tr>\n",
              "      <th>3</th>\n",
              "      <td>GLICENEX SR 1000 METFORMINA 1000 MG</td>\n",
              "      <td>METFORMIN</td>\n",
              "      <td>METFORMIN</td>\n",
              "      <td>METFORMIN 500 MG, TABLET, TBD</td>\n",
              "    </tr>\n",
              "    <tr>\n",
              "      <th>4</th>\n",
              "      <td>GLICENEX SR 1000 METFORMINA 1000 MG</td>\n",
              "      <td>METFORMIN</td>\n",
              "      <td>METFORMIN</td>\n",
              "      <td>METFORMIN 1000 MG, TABLET, TBD</td>\n",
              "    </tr>\n",
              "  </tbody>\n",
              "</table>\n",
              "</div>\n",
              "      <button class=\"colab-df-convert\" onclick=\"convertToInteractive('df-74686300-adf3-4008-95a8-b43634989bee')\"\n",
              "              title=\"Convert this dataframe to an interactive table.\"\n",
              "              style=\"display:none;\">\n",
              "        \n",
              "  <svg xmlns=\"http://www.w3.org/2000/svg\" height=\"24px\"viewBox=\"0 0 24 24\"\n",
              "       width=\"24px\">\n",
              "    <path d=\"M0 0h24v24H0V0z\" fill=\"none\"/>\n",
              "    <path d=\"M18.56 5.44l.94 2.06.94-2.06 2.06-.94-2.06-.94-.94-2.06-.94 2.06-2.06.94zm-11 1L8.5 8.5l.94-2.06 2.06-.94-2.06-.94L8.5 2.5l-.94 2.06-2.06.94zm10 10l.94 2.06.94-2.06 2.06-.94-2.06-.94-.94-2.06-.94 2.06-2.06.94z\"/><path d=\"M17.41 7.96l-1.37-1.37c-.4-.4-.92-.59-1.43-.59-.52 0-1.04.2-1.43.59L10.3 9.45l-7.72 7.72c-.78.78-.78 2.05 0 2.83L4 21.41c.39.39.9.59 1.41.59.51 0 1.02-.2 1.41-.59l7.78-7.78 2.81-2.81c.8-.78.8-2.07 0-2.86zM5.41 20L4 18.59l7.72-7.72 1.47 1.35L5.41 20z\"/>\n",
              "  </svg>\n",
              "      </button>\n",
              "      \n",
              "  <style>\n",
              "    .colab-df-container {\n",
              "      display:flex;\n",
              "      flex-wrap:wrap;\n",
              "      gap: 12px;\n",
              "    }\n",
              "\n",
              "    .colab-df-convert {\n",
              "      background-color: #E8F0FE;\n",
              "      border: none;\n",
              "      border-radius: 50%;\n",
              "      cursor: pointer;\n",
              "      display: none;\n",
              "      fill: #1967D2;\n",
              "      height: 32px;\n",
              "      padding: 0 0 0 0;\n",
              "      width: 32px;\n",
              "    }\n",
              "\n",
              "    .colab-df-convert:hover {\n",
              "      background-color: #E2EBFA;\n",
              "      box-shadow: 0px 1px 2px rgba(60, 64, 67, 0.3), 0px 1px 3px 1px rgba(60, 64, 67, 0.15);\n",
              "      fill: #174EA6;\n",
              "    }\n",
              "\n",
              "    [theme=dark] .colab-df-convert {\n",
              "      background-color: #3B4455;\n",
              "      fill: #D2E3FC;\n",
              "    }\n",
              "\n",
              "    [theme=dark] .colab-df-convert:hover {\n",
              "      background-color: #434B5C;\n",
              "      box-shadow: 0px 1px 3px 1px rgba(0, 0, 0, 0.15);\n",
              "      filter: drop-shadow(0px 1px 2px rgba(0, 0, 0, 0.3));\n",
              "      fill: #FFFFFF;\n",
              "    }\n",
              "  </style>\n",
              "\n",
              "      <script>\n",
              "        const buttonEl =\n",
              "          document.querySelector('#df-74686300-adf3-4008-95a8-b43634989bee button.colab-df-convert');\n",
              "        buttonEl.style.display =\n",
              "          google.colab.kernel.accessAllowed ? 'block' : 'none';\n",
              "\n",
              "        async function convertToInteractive(key) {\n",
              "          const element = document.querySelector('#df-74686300-adf3-4008-95a8-b43634989bee');\n",
              "          const dataTable =\n",
              "            await google.colab.kernel.invokeFunction('convertToInteractive',\n",
              "                                                     [key], {});\n",
              "          if (!dataTable) return;\n",
              "\n",
              "          const docLinkHtml = 'Like what you see? Visit the ' +\n",
              "            '<a target=\"_blank\" href=https://colab.research.google.com/notebooks/data_table.ipynb>data table notebook</a>'\n",
              "            + ' to learn more about interactive tables.';\n",
              "          element.innerHTML = '';\n",
              "          dataTable['output_type'] = 'display_data';\n",
              "          await google.colab.output.renderOutput(dataTable, element);\n",
              "          const docLink = document.createElement('div');\n",
              "          docLink.innerHTML = docLinkHtml;\n",
              "          element.appendChild(docLink);\n",
              "        }\n",
              "      </script>\n",
              "    </div>\n",
              "  </div>\n",
              "  "
            ]
          },
          "metadata": {},
          "execution_count": 115
        }
      ]
    },
    {
      "cell_type": "code",
      "source": [
        "print(len(Chile1drugs), len(set(Chile1drugs['Chile drugs english uppercase names'])))"
      ],
      "metadata": {
        "colab": {
          "base_uri": "https://localhost:8080/"
        },
        "id": "_XQEdxzlTxCp",
        "outputId": "b3bdc759-ad5c-4300-da25-fc4bc5dcbd8c"
      },
      "id": "_XQEdxzlTxCp",
      "execution_count": null,
      "outputs": [
        {
          "output_type": "stream",
          "name": "stdout",
          "text": [
            "9941941 3404\n"
          ]
        }
      ]
    },
    {
      "cell_type": "code",
      "source": [
        "# get the list that contains first pairing names list for each original drug full name\n",
        "fistpairinglist = []\n",
        "i = 0\n",
        "for name in CHLDiab1DirtyNameEngU:\n",
        "  subpairlist = []\n",
        "  while i < len(Chile1drugs):\n",
        "    if Chile1drugs['Chile drugs english uppercase names'][i] == name:\n",
        "      subpairlist.append(Chile1drugs['Catalog Name'][i])\n",
        "      i += 1\n",
        "    else:\n",
        "      break\n",
        "  fistpairinglist.append(subpairlist)\n",
        "# runs 4 mins"
      ],
      "metadata": {
        "id": "yqRNWRV2qrnT"
      },
      "id": "yqRNWRV2qrnT",
      "execution_count": null,
      "outputs": []
    },
    {
      "cell_type": "code",
      "source": [
        "print(len(fistpairinglist), len(CHLDiab1DirtyNameEngU))"
      ],
      "metadata": {
        "colab": {
          "base_uri": "https://localhost:8080/"
        },
        "id": "Wx8__E7DVfYT",
        "outputId": "fad530ce-4f3f-45b7-e0cf-2d5ae1ba57a9"
      },
      "id": "Wx8__E7DVfYT",
      "execution_count": null,
      "outputs": [
        {
          "output_type": "stream",
          "name": "stdout",
          "text": [
            "3663 3663\n"
          ]
        }
      ]
    },
    {
      "cell_type": "code",
      "source": [
        "finalpairname = []\n",
        "for item in range(len(CHLDiab1DirtyNameEngU)):\n",
        "  distance_list = []\n",
        "  for pairname in fistpairinglist[item]:\n",
        "    distance = Simhash(CHLDiab1DirtyNameEngU[item]).distance(Simhash(pairname))\n",
        "    distance_list.append(distance)\n",
        "  index_min = min(range(len(distance_list)), key=distance_list.__getitem__)\n",
        "  add_index = fistpairinglist[item][index_min]\n",
        "  finalpairname.append(add_index)"
      ],
      "metadata": {
        "id": "zz_3uNkGttzA"
      },
      "id": "zz_3uNkGttzA",
      "execution_count": null,
      "outputs": []
    },
    {
      "cell_type": "code",
      "source": [
        "# combine the final paired name with the Chile 1 drug english name\n",
        "Chile1drugfn_index = {\"Chile drugs english uppercase names\": CHLDiab1DirtyNameEngU, \"Final paired catalog name\": finalpairname}"
      ],
      "metadata": {
        "id": "EYI0jwBtxibO"
      },
      "id": "EYI0jwBtxibO",
      "execution_count": null,
      "outputs": []
    },
    {
      "cell_type": "code",
      "source": [
        "Chile1drugfn_index_df = pd.DataFrame(Chile1drugfn_index)"
      ],
      "metadata": {
        "id": "DbuKX7vsttqv"
      },
      "id": "DbuKX7vsttqv",
      "execution_count": null,
      "outputs": []
    },
    {
      "cell_type": "code",
      "source": [
        "Chile1drugfn_index_df[:5]"
      ],
      "metadata": {
        "id": "yXi3-UbatvKO",
        "colab": {
          "base_uri": "https://localhost:8080/",
          "height": 250
        },
        "outputId": "397b7f9c-b0dc-400e-a1a2-29e8c595a078"
      },
      "id": "yXi3-UbatvKO",
      "execution_count": null,
      "outputs": [
        {
          "output_type": "execute_result",
          "data": {
            "text/plain": [
              "                 Chile drugs english uppercase names  \\\n",
              "0                GLICENEX SR 1000 METFORMINA 1000 MG   \n",
              "1  INSULIN 100 IU/ML (ULTRARAPID) 3ML MULTIDOSE D...   \n",
              "2  METFORMIN 500 MG CONVENTIONAL RELEASE TABLETS....   \n",
              "3  DAPAGLIFOZIN METFORMIN 10/1000 X 56 TABLETS SI...   \n",
              "4                 INSULIN SYRINGE 1CC 29 GX 1/2 UNIT   \n",
              "\n",
              "                           Final paired catalog name  \n",
              "0                     METFORMIN 1000 MG, TABLET, TBD  \n",
              "1  INSULIN NPH 100 UI/ML, SOLUTION FOR INJECTION,...  \n",
              "2                      METFORMIN 850 MG, TABLET, TBD  \n",
              "3                     METFORMIN 1000 MG, TABLET, TBD  \n",
              "4  INSULIN NPH 100 UI/ML, SOLUTION FOR INJECTION,...  "
            ],
            "text/html": [
              "\n",
              "  <div id=\"df-58004dbd-2b0b-40de-9f99-d582435d1562\">\n",
              "    <div class=\"colab-df-container\">\n",
              "      <div>\n",
              "<style scoped>\n",
              "    .dataframe tbody tr th:only-of-type {\n",
              "        vertical-align: middle;\n",
              "    }\n",
              "\n",
              "    .dataframe tbody tr th {\n",
              "        vertical-align: top;\n",
              "    }\n",
              "\n",
              "    .dataframe thead th {\n",
              "        text-align: right;\n",
              "    }\n",
              "</style>\n",
              "<table border=\"1\" class=\"dataframe\">\n",
              "  <thead>\n",
              "    <tr style=\"text-align: right;\">\n",
              "      <th></th>\n",
              "      <th>Chile drugs english uppercase names</th>\n",
              "      <th>Final paired catalog name</th>\n",
              "    </tr>\n",
              "  </thead>\n",
              "  <tbody>\n",
              "    <tr>\n",
              "      <th>0</th>\n",
              "      <td>GLICENEX SR 1000 METFORMINA 1000 MG</td>\n",
              "      <td>METFORMIN 1000 MG, TABLET, TBD</td>\n",
              "    </tr>\n",
              "    <tr>\n",
              "      <th>1</th>\n",
              "      <td>INSULIN 100 IU/ML (ULTRARAPID) 3ML MULTIDOSE D...</td>\n",
              "      <td>INSULIN NPH 100 UI/ML, SOLUTION FOR INJECTION,...</td>\n",
              "    </tr>\n",
              "    <tr>\n",
              "      <th>2</th>\n",
              "      <td>METFORMIN 500 MG CONVENTIONAL RELEASE TABLETS....</td>\n",
              "      <td>METFORMIN 850 MG, TABLET, TBD</td>\n",
              "    </tr>\n",
              "    <tr>\n",
              "      <th>3</th>\n",
              "      <td>DAPAGLIFOZIN METFORMIN 10/1000 X 56 TABLETS SI...</td>\n",
              "      <td>METFORMIN 1000 MG, TABLET, TBD</td>\n",
              "    </tr>\n",
              "    <tr>\n",
              "      <th>4</th>\n",
              "      <td>INSULIN SYRINGE 1CC 29 GX 1/2 UNIT</td>\n",
              "      <td>INSULIN NPH 100 UI/ML, SOLUTION FOR INJECTION,...</td>\n",
              "    </tr>\n",
              "  </tbody>\n",
              "</table>\n",
              "</div>\n",
              "      <button class=\"colab-df-convert\" onclick=\"convertToInteractive('df-58004dbd-2b0b-40de-9f99-d582435d1562')\"\n",
              "              title=\"Convert this dataframe to an interactive table.\"\n",
              "              style=\"display:none;\">\n",
              "        \n",
              "  <svg xmlns=\"http://www.w3.org/2000/svg\" height=\"24px\"viewBox=\"0 0 24 24\"\n",
              "       width=\"24px\">\n",
              "    <path d=\"M0 0h24v24H0V0z\" fill=\"none\"/>\n",
              "    <path d=\"M18.56 5.44l.94 2.06.94-2.06 2.06-.94-2.06-.94-.94-2.06-.94 2.06-2.06.94zm-11 1L8.5 8.5l.94-2.06 2.06-.94-2.06-.94L8.5 2.5l-.94 2.06-2.06.94zm10 10l.94 2.06.94-2.06 2.06-.94-2.06-.94-.94-2.06-.94 2.06-2.06.94z\"/><path d=\"M17.41 7.96l-1.37-1.37c-.4-.4-.92-.59-1.43-.59-.52 0-1.04.2-1.43.59L10.3 9.45l-7.72 7.72c-.78.78-.78 2.05 0 2.83L4 21.41c.39.39.9.59 1.41.59.51 0 1.02-.2 1.41-.59l7.78-7.78 2.81-2.81c.8-.78.8-2.07 0-2.86zM5.41 20L4 18.59l7.72-7.72 1.47 1.35L5.41 20z\"/>\n",
              "  </svg>\n",
              "      </button>\n",
              "      \n",
              "  <style>\n",
              "    .colab-df-container {\n",
              "      display:flex;\n",
              "      flex-wrap:wrap;\n",
              "      gap: 12px;\n",
              "    }\n",
              "\n",
              "    .colab-df-convert {\n",
              "      background-color: #E8F0FE;\n",
              "      border: none;\n",
              "      border-radius: 50%;\n",
              "      cursor: pointer;\n",
              "      display: none;\n",
              "      fill: #1967D2;\n",
              "      height: 32px;\n",
              "      padding: 0 0 0 0;\n",
              "      width: 32px;\n",
              "    }\n",
              "\n",
              "    .colab-df-convert:hover {\n",
              "      background-color: #E2EBFA;\n",
              "      box-shadow: 0px 1px 2px rgba(60, 64, 67, 0.3), 0px 1px 3px 1px rgba(60, 64, 67, 0.15);\n",
              "      fill: #174EA6;\n",
              "    }\n",
              "\n",
              "    [theme=dark] .colab-df-convert {\n",
              "      background-color: #3B4455;\n",
              "      fill: #D2E3FC;\n",
              "    }\n",
              "\n",
              "    [theme=dark] .colab-df-convert:hover {\n",
              "      background-color: #434B5C;\n",
              "      box-shadow: 0px 1px 3px 1px rgba(0, 0, 0, 0.15);\n",
              "      filter: drop-shadow(0px 1px 2px rgba(0, 0, 0, 0.3));\n",
              "      fill: #FFFFFF;\n",
              "    }\n",
              "  </style>\n",
              "\n",
              "      <script>\n",
              "        const buttonEl =\n",
              "          document.querySelector('#df-58004dbd-2b0b-40de-9f99-d582435d1562 button.colab-df-convert');\n",
              "        buttonEl.style.display =\n",
              "          google.colab.kernel.accessAllowed ? 'block' : 'none';\n",
              "\n",
              "        async function convertToInteractive(key) {\n",
              "          const element = document.querySelector('#df-58004dbd-2b0b-40de-9f99-d582435d1562');\n",
              "          const dataTable =\n",
              "            await google.colab.kernel.invokeFunction('convertToInteractive',\n",
              "                                                     [key], {});\n",
              "          if (!dataTable) return;\n",
              "\n",
              "          const docLinkHtml = 'Like what you see? Visit the ' +\n",
              "            '<a target=\"_blank\" href=https://colab.research.google.com/notebooks/data_table.ipynb>data table notebook</a>'\n",
              "            + ' to learn more about interactive tables.';\n",
              "          element.innerHTML = '';\n",
              "          dataTable['output_type'] = 'display_data';\n",
              "          await google.colab.output.renderOutput(dataTable, element);\n",
              "          const docLink = document.createElement('div');\n",
              "          docLink.innerHTML = docLinkHtml;\n",
              "          element.appendChild(docLink);\n",
              "        }\n",
              "      </script>\n",
              "    </div>\n",
              "  </div>\n",
              "  "
            ]
          },
          "metadata": {},
          "execution_count": 122
        }
      ]
    },
    {
      "cell_type": "code",
      "source": [
        "Chile1drugfn_index_df.to_excel(\"Chile1drugfn_index.xlsx\", sheet_name = 'Chile1drugfn_index chile 1')  "
      ],
      "metadata": {
        "id": "wJupuHYPtvEh"
      },
      "id": "wJupuHYPtvEh",
      "execution_count": null,
      "outputs": []
    }
  ],
  "metadata": {
    "kernelspec": {
      "display_name": "Python 3 (ipykernel)",
      "language": "python",
      "name": "python3"
    },
    "language_info": {
      "codemirror_mode": {
        "name": "ipython",
        "version": 3
      },
      "file_extension": ".py",
      "mimetype": "text/x-python",
      "name": "python",
      "nbconvert_exporter": "python",
      "pygments_lexer": "ipython3",
      "version": "3.9.7"
    },
    "colab": {
      "name": "2.0 Data Mapping for Chile 1 (Cleaner Raw Data, use scrapy ).ipynb",
      "provenance": [],
      "include_colab_link": true
    }
  },
  "nbformat": 4,
  "nbformat_minor": 5
}
