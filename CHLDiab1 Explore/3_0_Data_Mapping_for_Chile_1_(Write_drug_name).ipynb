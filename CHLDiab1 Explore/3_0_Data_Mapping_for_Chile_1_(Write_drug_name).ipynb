{
  "cells": [
    {
      "cell_type": "markdown",
      "metadata": {
        "id": "view-in-github",
        "colab_type": "text"
      },
      "source": [
        "<a href=\"https://colab.research.google.com/github/wenjunc2/PAHO-Drug-Data-Cleaning-Summer-2022/blob/main/3_0_Data_Mapping_for_Chile_1_(Write_drug_name).ipynb\" target=\"_parent\"><img src=\"https://colab.research.google.com/assets/colab-badge.svg\" alt=\"Open In Colab\"/></a>"
      ]
    },
    {
      "cell_type": "markdown",
      "source": [
        "## Part 1: Set up indexes for clean catagol drug names"
      ],
      "metadata": {
        "id": "4cvK7YSN1P-C"
      },
      "id": "4cvK7YSN1P-C"
    },
    {
      "cell_type": "code",
      "execution_count": 1,
      "id": "b3fa8107",
      "metadata": {
        "id": "b3fa8107"
      },
      "outputs": [],
      "source": [
        "# read into clean catagol name\n",
        "import pandas as pd\n",
        "CleanDataBase = pd.read_excel('CleanDataBase.xlsx')\n",
        "CatalogName = CleanDataBase['Catalog Name']\n",
        "CatalogName = list(set(CatalogName))\n",
        "CatalogName = [x for x in CatalogName if str(x) != 'nan']\n",
        "\n",
        "CatalogNameCopy = CatalogName.copy()\n",
        "# uppercase everything\n",
        "CatalogNameU = []\n",
        "for i in CatalogNameCopy:\n",
        "  CatalogNameU.append(i.upper())"
      ]
    },
    {
      "cell_type": "code",
      "source": [
        "CatalogNameU[:5]"
      ],
      "metadata": {
        "colab": {
          "base_uri": "https://localhost:8080/"
        },
        "id": "DJJ8iWu4191x",
        "outputId": "736af721-84fa-4bdd-cde1-247171613809"
      },
      "id": "DJJ8iWu4191x",
      "execution_count": 2,
      "outputs": [
        {
          "output_type": "execute_result",
          "data": {
            "text/plain": [
              "['DASATINIB 70 MG, TABLET, TBD',\n",
              " 'GLIBENCLAMIDE 5 MG + METFORMIN 500 MG, TABLET, TBD',\n",
              " 'VALGANCICLOVIR 450 MG, TABLET, BLISTER, 10X3',\n",
              " 'METFORMIN 500 MG + GLIMEPIRIDE 2 MG, TABLET, TBD',\n",
              " 'FLUCONAZOLE 200 MG, TBD, TBD']"
            ]
          },
          "metadata": {},
          "execution_count": 2
        }
      ]
    },
    {
      "cell_type": "code",
      "source": [
        "# split the CatalogNameU\n",
        "#from nltk.tokenize import WordPunctTokenizer  # this function split the string by space\n",
        "#tokenizer = WordPunctTokenizer()\n",
        "\n",
        "CatalogNameUS = []\n",
        "for item in CatalogNameU:\n",
        "  temp = item.split(\",\")\n",
        "  CatalogNameUS.append(temp)"
      ],
      "metadata": {
        "id": "oE6bddCo3Hpt"
      },
      "id": "oE6bddCo3Hpt",
      "execution_count": 3,
      "outputs": []
    },
    {
      "cell_type": "code",
      "source": [
        "CatalogNameUS[:5] # after split by \",\""
      ],
      "metadata": {
        "colab": {
          "base_uri": "https://localhost:8080/"
        },
        "id": "Basg7nHy2Mah",
        "outputId": "f6e14043-78e9-4bba-f02b-e8a84568e100"
      },
      "id": "Basg7nHy2Mah",
      "execution_count": 4,
      "outputs": [
        {
          "output_type": "execute_result",
          "data": {
            "text/plain": [
              "[['DASATINIB 70 MG', ' TABLET', ' TBD'],\n",
              " ['GLIBENCLAMIDE 5 MG + METFORMIN 500 MG', ' TABLET', ' TBD'],\n",
              " ['VALGANCICLOVIR 450 MG', ' TABLET', ' BLISTER', ' 10X3'],\n",
              " ['METFORMIN 500 MG + GLIMEPIRIDE 2 MG', ' TABLET', ' TBD'],\n",
              " ['FLUCONAZOLE 200 MG', ' TBD', ' TBD']]"
            ]
          },
          "metadata": {},
          "execution_count": 4
        }
      ]
    },
    {
      "cell_type": "markdown",
      "source": [
        "Clean Catalog Drug Name - presentation form"
      ],
      "metadata": {
        "id": "4tlL7ZeacX7i"
      },
      "id": "4tlL7ZeacX7i"
    },
    {
      "cell_type": "code",
      "source": [
        "# summary the list of presentation form\n",
        "PresentationForm = []\n",
        "\n",
        "for item in CatalogNameUS:\n",
        "  if len(item) >= 2:\n",
        "    PresentationForm.append(item[1])"
      ],
      "metadata": {
        "id": "SaVz4V6G4LJI"
      },
      "id": "SaVz4V6G4LJI",
      "execution_count": 5,
      "outputs": []
    },
    {
      "cell_type": "code",
      "source": [
        "PresentationForm = list(set(PresentationForm))\n",
        "\n",
        "len(PresentationForm)"
      ],
      "metadata": {
        "colab": {
          "base_uri": "https://localhost:8080/"
        },
        "id": "natrwVE94tJ9",
        "outputId": "34b69fc5-b4cf-415d-92a9-735617b7906f"
      },
      "id": "natrwVE94tJ9",
      "execution_count": 6,
      "outputs": [
        {
          "output_type": "execute_result",
          "data": {
            "text/plain": [
              "29"
            ]
          },
          "metadata": {},
          "execution_count": 6
        }
      ]
    },
    {
      "cell_type": "code",
      "source": [
        "PresentationForm[:5]# the presentation form"
      ],
      "metadata": {
        "colab": {
          "base_uri": "https://localhost:8080/"
        },
        "id": "5KevhLmi4tsE",
        "outputId": "1f261964-1b63-4a49-d4f7-c906747c6722"
      },
      "id": "5KevhLmi4tsE",
      "execution_count": 7,
      "outputs": [
        {
          "output_type": "execute_result",
          "data": {
            "text/plain": [
              "[' CAPSULE',\n",
              " ' A 5 ML VIAL OF SOLUTION CONTAINS 3',\n",
              " ' TABLET (COATED)',\n",
              " ' POWDER FOR INJECTION. 1000MG ROAD BOTTLE.',\n",
              " ' SOLUTION FOR INFUSION']"
            ]
          },
          "metadata": {},
          "execution_count": 7
        }
      ]
    },
    {
      "cell_type": "code",
      "source": [
        "PresentationDiction = []\n",
        "\n",
        "from nltk.tokenize import WordPunctTokenizer  # this function split the string by space\n",
        "tokenizer = WordPunctTokenizer()\n",
        "\n",
        "for item in PresentationForm:\n",
        "  tokenlist = tokenizer.tokenize(item)\n",
        "  PresentationDiction.append(tokenlist)"
      ],
      "metadata": {
        "id": "vpds291oQOCS"
      },
      "id": "vpds291oQOCS",
      "execution_count": 8,
      "outputs": []
    },
    {
      "cell_type": "code",
      "source": [
        "PresentationDiction2 = []\n",
        "\n",
        "for item in PresentationDiction:\n",
        "  for subitem in item:\n",
        "    if len(subitem) > 3:\n",
        "      PresentationDiction2.append(subitem)"
      ],
      "metadata": {
        "id": "gOcsOtnkQzMo"
      },
      "id": "gOcsOtnkQzMo",
      "execution_count": 9,
      "outputs": []
    },
    {
      "cell_type": "code",
      "source": [
        "PresentationDiction2 = list(set(PresentationDiction2))"
      ],
      "metadata": {
        "id": "Z4y8F8p0RZz_"
      },
      "id": "Z4y8F8p0RZz_",
      "execution_count": 10,
      "outputs": []
    },
    {
      "cell_type": "markdown",
      "source": [
        "Clean Catalog Drug Name - main medicine : for get index"
      ],
      "metadata": {
        "id": "0ke1xsH-cfyk"
      },
      "id": "0ke1xsH-cfyk"
    },
    {
      "cell_type": "code",
      "source": [
        "# grab the main medicine \n",
        "MainMedicine = []\n",
        "\n",
        "for item in CatalogNameUS:\n",
        "  MainMedicine.append(item[0])"
      ],
      "metadata": {
        "id": "-E2VlUZR-y0h"
      },
      "id": "-E2VlUZR-y0h",
      "execution_count": 11,
      "outputs": []
    },
    {
      "cell_type": "code",
      "source": [
        "print(len(MainMedicine), MainMedicine[:5])"
      ],
      "metadata": {
        "colab": {
          "base_uri": "https://localhost:8080/"
        },
        "id": "lrIPn9U5-ypz",
        "outputId": "6791af1d-21f9-4312-f539-22b0937be21b"
      },
      "id": "lrIPn9U5-ypz",
      "execution_count": 12,
      "outputs": [
        {
          "output_type": "stream",
          "name": "stdout",
          "text": [
            "462 ['DASATINIB 70 MG', 'GLIBENCLAMIDE 5 MG + METFORMIN 500 MG', 'VALGANCICLOVIR 450 MG', 'METFORMIN 500 MG + GLIMEPIRIDE 2 MG', 'FLUCONAZOLE 200 MG']\n"
          ]
        }
      ]
    },
    {
      "cell_type": "code",
      "source": [
        "# split MainMedicine to get only the medicne name, and use the medicine name as the index\n",
        "from nltk.tokenize import WordPunctTokenizer\n",
        "tokenizer = WordPunctTokenizer()\n",
        "\n",
        "MainMedicineSpl = []\n",
        "for item in MainMedicine:\n",
        "  tokenlist = tokenizer.tokenize(item)\n",
        "  MainMedicineSpl.append(tokenlist)"
      ],
      "metadata": {
        "id": "JGdoxQpZ-ycG"
      },
      "id": "JGdoxQpZ-ycG",
      "execution_count": 13,
      "outputs": []
    },
    {
      "cell_type": "code",
      "source": [
        "MainMedicineSpl[:5]"
      ],
      "metadata": {
        "colab": {
          "base_uri": "https://localhost:8080/"
        },
        "id": "uzztIpM5EM91",
        "outputId": "40ccfd17-ff0d-44e1-e122-3cbf20b835e8"
      },
      "id": "uzztIpM5EM91",
      "execution_count": 14,
      "outputs": [
        {
          "output_type": "execute_result",
          "data": {
            "text/plain": [
              "[['DASATINIB', '70', 'MG'],\n",
              " ['GLIBENCLAMIDE', '5', 'MG', '+', 'METFORMIN', '500', 'MG'],\n",
              " ['VALGANCICLOVIR', '450', 'MG'],\n",
              " ['METFORMIN', '500', 'MG', '+', 'GLIMEPIRIDE', '2', 'MG'],\n",
              " ['FLUCONAZOLE', '200', 'MG']]"
            ]
          },
          "metadata": {},
          "execution_count": 14
        }
      ]
    },
    {
      "cell_type": "code",
      "source": [
        "MainMedicineIndex = []\n",
        "for item in MainMedicineSpl:\n",
        "  templist = []\n",
        "  for subitem in item:\n",
        "    if len(subitem) > 4 and subitem.isdigit() is False:  ## ignoring these elements such as \"MG\", \"+\", ... \n",
        "      templist.append(subitem)\n",
        "  MainMedicineIndex.append(templist)\n"
      ],
      "metadata": {
        "id": "okfTCeikFWyx"
      },
      "id": "okfTCeikFWyx",
      "execution_count": 15,
      "outputs": []
    },
    {
      "cell_type": "code",
      "source": [
        "MainMedicineIndex[:5]"
      ],
      "metadata": {
        "colab": {
          "base_uri": "https://localhost:8080/"
        },
        "id": "k9ZEDPRLFWkB",
        "outputId": "48c40d77-f88d-44f0-b5e4-d050ed35d0fc"
      },
      "id": "k9ZEDPRLFWkB",
      "execution_count": 16,
      "outputs": [
        {
          "output_type": "execute_result",
          "data": {
            "text/plain": [
              "[['DASATINIB'],\n",
              " ['GLIBENCLAMIDE', 'METFORMIN'],\n",
              " ['VALGANCICLOVIR'],\n",
              " ['METFORMIN', 'GLIMEPIRIDE'],\n",
              " ['FLUCONAZOLE']]"
            ]
          },
          "metadata": {},
          "execution_count": 16
        }
      ]
    },
    {
      "cell_type": "code",
      "source": [
        "CatalogIndexData = {\"Catalog Name\": CatalogNameU, \"Catalog Index\": MainMedicineIndex}"
      ],
      "metadata": {
        "id": "aPWF3Cy7FWDj"
      },
      "id": "aPWF3Cy7FWDj",
      "execution_count": 17,
      "outputs": []
    },
    {
      "cell_type": "code",
      "source": [
        "CatalogIndexData_df = pd.DataFrame(CatalogIndexData)"
      ],
      "metadata": {
        "id": "djT7SfnVH8Fg"
      },
      "id": "djT7SfnVH8Fg",
      "execution_count": 18,
      "outputs": []
    },
    {
      "cell_type": "code",
      "source": [
        "len(CatalogIndexData_df)"
      ],
      "metadata": {
        "colab": {
          "base_uri": "https://localhost:8080/"
        },
        "id": "DYpdNJXrH9NS",
        "outputId": "80184e16-535e-4191-a38b-04f5de589698"
      },
      "id": "DYpdNJXrH9NS",
      "execution_count": 19,
      "outputs": [
        {
          "output_type": "execute_result",
          "data": {
            "text/plain": [
              "462"
            ]
          },
          "metadata": {},
          "execution_count": 19
        }
      ]
    },
    {
      "cell_type": "code",
      "source": [
        "CatalogIndexData_df[:5]"
      ],
      "metadata": {
        "id": "XxuebjYlH9HO",
        "colab": {
          "base_uri": "https://localhost:8080/",
          "height": 206
        },
        "outputId": "012d5e9b-152f-480e-e25d-398ae3c39780"
      },
      "id": "XxuebjYlH9HO",
      "execution_count": 20,
      "outputs": [
        {
          "output_type": "execute_result",
          "data": {
            "text/plain": [
              "                                        Catalog Name  \\\n",
              "0                       DASATINIB 70 MG, TABLET, TBD   \n",
              "1  GLIBENCLAMIDE 5 MG + METFORMIN 500 MG, TABLET,...   \n",
              "2       VALGANCICLOVIR 450 MG, TABLET, BLISTER, 10X3   \n",
              "3   METFORMIN 500 MG + GLIMEPIRIDE 2 MG, TABLET, TBD   \n",
              "4                       FLUCONAZOLE 200 MG, TBD, TBD   \n",
              "\n",
              "                Catalog Index  \n",
              "0                 [DASATINIB]  \n",
              "1  [GLIBENCLAMIDE, METFORMIN]  \n",
              "2            [VALGANCICLOVIR]  \n",
              "3    [METFORMIN, GLIMEPIRIDE]  \n",
              "4               [FLUCONAZOLE]  "
            ],
            "text/html": [
              "\n",
              "  <div id=\"df-715a920b-f3df-4678-8810-d193cd6753e7\">\n",
              "    <div class=\"colab-df-container\">\n",
              "      <div>\n",
              "<style scoped>\n",
              "    .dataframe tbody tr th:only-of-type {\n",
              "        vertical-align: middle;\n",
              "    }\n",
              "\n",
              "    .dataframe tbody tr th {\n",
              "        vertical-align: top;\n",
              "    }\n",
              "\n",
              "    .dataframe thead th {\n",
              "        text-align: right;\n",
              "    }\n",
              "</style>\n",
              "<table border=\"1\" class=\"dataframe\">\n",
              "  <thead>\n",
              "    <tr style=\"text-align: right;\">\n",
              "      <th></th>\n",
              "      <th>Catalog Name</th>\n",
              "      <th>Catalog Index</th>\n",
              "    </tr>\n",
              "  </thead>\n",
              "  <tbody>\n",
              "    <tr>\n",
              "      <th>0</th>\n",
              "      <td>DASATINIB 70 MG, TABLET, TBD</td>\n",
              "      <td>[DASATINIB]</td>\n",
              "    </tr>\n",
              "    <tr>\n",
              "      <th>1</th>\n",
              "      <td>GLIBENCLAMIDE 5 MG + METFORMIN 500 MG, TABLET,...</td>\n",
              "      <td>[GLIBENCLAMIDE, METFORMIN]</td>\n",
              "    </tr>\n",
              "    <tr>\n",
              "      <th>2</th>\n",
              "      <td>VALGANCICLOVIR 450 MG, TABLET, BLISTER, 10X3</td>\n",
              "      <td>[VALGANCICLOVIR]</td>\n",
              "    </tr>\n",
              "    <tr>\n",
              "      <th>3</th>\n",
              "      <td>METFORMIN 500 MG + GLIMEPIRIDE 2 MG, TABLET, TBD</td>\n",
              "      <td>[METFORMIN, GLIMEPIRIDE]</td>\n",
              "    </tr>\n",
              "    <tr>\n",
              "      <th>4</th>\n",
              "      <td>FLUCONAZOLE 200 MG, TBD, TBD</td>\n",
              "      <td>[FLUCONAZOLE]</td>\n",
              "    </tr>\n",
              "  </tbody>\n",
              "</table>\n",
              "</div>\n",
              "      <button class=\"colab-df-convert\" onclick=\"convertToInteractive('df-715a920b-f3df-4678-8810-d193cd6753e7')\"\n",
              "              title=\"Convert this dataframe to an interactive table.\"\n",
              "              style=\"display:none;\">\n",
              "        \n",
              "  <svg xmlns=\"http://www.w3.org/2000/svg\" height=\"24px\"viewBox=\"0 0 24 24\"\n",
              "       width=\"24px\">\n",
              "    <path d=\"M0 0h24v24H0V0z\" fill=\"none\"/>\n",
              "    <path d=\"M18.56 5.44l.94 2.06.94-2.06 2.06-.94-2.06-.94-.94-2.06-.94 2.06-2.06.94zm-11 1L8.5 8.5l.94-2.06 2.06-.94-2.06-.94L8.5 2.5l-.94 2.06-2.06.94zm10 10l.94 2.06.94-2.06 2.06-.94-2.06-.94-.94-2.06-.94 2.06-2.06.94z\"/><path d=\"M17.41 7.96l-1.37-1.37c-.4-.4-.92-.59-1.43-.59-.52 0-1.04.2-1.43.59L10.3 9.45l-7.72 7.72c-.78.78-.78 2.05 0 2.83L4 21.41c.39.39.9.59 1.41.59.51 0 1.02-.2 1.41-.59l7.78-7.78 2.81-2.81c.8-.78.8-2.07 0-2.86zM5.41 20L4 18.59l7.72-7.72 1.47 1.35L5.41 20z\"/>\n",
              "  </svg>\n",
              "      </button>\n",
              "      \n",
              "  <style>\n",
              "    .colab-df-container {\n",
              "      display:flex;\n",
              "      flex-wrap:wrap;\n",
              "      gap: 12px;\n",
              "    }\n",
              "\n",
              "    .colab-df-convert {\n",
              "      background-color: #E8F0FE;\n",
              "      border: none;\n",
              "      border-radius: 50%;\n",
              "      cursor: pointer;\n",
              "      display: none;\n",
              "      fill: #1967D2;\n",
              "      height: 32px;\n",
              "      padding: 0 0 0 0;\n",
              "      width: 32px;\n",
              "    }\n",
              "\n",
              "    .colab-df-convert:hover {\n",
              "      background-color: #E2EBFA;\n",
              "      box-shadow: 0px 1px 2px rgba(60, 64, 67, 0.3), 0px 1px 3px 1px rgba(60, 64, 67, 0.15);\n",
              "      fill: #174EA6;\n",
              "    }\n",
              "\n",
              "    [theme=dark] .colab-df-convert {\n",
              "      background-color: #3B4455;\n",
              "      fill: #D2E3FC;\n",
              "    }\n",
              "\n",
              "    [theme=dark] .colab-df-convert:hover {\n",
              "      background-color: #434B5C;\n",
              "      box-shadow: 0px 1px 3px 1px rgba(0, 0, 0, 0.15);\n",
              "      filter: drop-shadow(0px 1px 2px rgba(0, 0, 0, 0.3));\n",
              "      fill: #FFFFFF;\n",
              "    }\n",
              "  </style>\n",
              "\n",
              "      <script>\n",
              "        const buttonEl =\n",
              "          document.querySelector('#df-715a920b-f3df-4678-8810-d193cd6753e7 button.colab-df-convert');\n",
              "        buttonEl.style.display =\n",
              "          google.colab.kernel.accessAllowed ? 'block' : 'none';\n",
              "\n",
              "        async function convertToInteractive(key) {\n",
              "          const element = document.querySelector('#df-715a920b-f3df-4678-8810-d193cd6753e7');\n",
              "          const dataTable =\n",
              "            await google.colab.kernel.invokeFunction('convertToInteractive',\n",
              "                                                     [key], {});\n",
              "          if (!dataTable) return;\n",
              "\n",
              "          const docLinkHtml = 'Like what you see? Visit the ' +\n",
              "            '<a target=\"_blank\" href=https://colab.research.google.com/notebooks/data_table.ipynb>data table notebook</a>'\n",
              "            + ' to learn more about interactive tables.';\n",
              "          element.innerHTML = '';\n",
              "          dataTable['output_type'] = 'display_data';\n",
              "          await google.colab.output.renderOutput(dataTable, element);\n",
              "          const docLink = document.createElement('div');\n",
              "          docLink.innerHTML = docLinkHtml;\n",
              "          element.appendChild(docLink);\n",
              "        }\n",
              "      </script>\n",
              "    </div>\n",
              "  </div>\n",
              "  "
            ]
          },
          "metadata": {},
          "execution_count": 20
        }
      ]
    },
    {
      "cell_type": "markdown",
      "source": [
        "List of main medicine which is used to compare and pair with Chile 1"
      ],
      "metadata": {
        "id": "aNKdOe5tdO2i"
      },
      "id": "aNKdOe5tdO2i"
    },
    {
      "cell_type": "code",
      "source": [
        "# create a list for main medicine from catalog name data set\n",
        "CatalogMedName = []\n",
        "for item in MainMedicineIndex:\n",
        "  for subitem in item:\n",
        "    CatalogMedName.append(subitem)"
      ],
      "metadata": {
        "id": "5Mr8zfwpSMaF"
      },
      "id": "5Mr8zfwpSMaF",
      "execution_count": 21,
      "outputs": []
    },
    {
      "cell_type": "code",
      "source": [
        "CatalogMedName = list(set(CatalogMedName))\n",
        "len(CatalogMedName)"
      ],
      "metadata": {
        "colab": {
          "base_uri": "https://localhost:8080/"
        },
        "id": "EUlIZleWSwg-",
        "outputId": "bad9cb3c-bdd5-4959-99b1-452933004af0"
      },
      "id": "EUlIZleWSwg-",
      "execution_count": 22,
      "outputs": [
        {
          "output_type": "execute_result",
          "data": {
            "text/plain": [
              "206"
            ]
          },
          "metadata": {},
          "execution_count": 22
        }
      ]
    },
    {
      "cell_type": "code",
      "source": [
        "CatalogMedName[:3]"
      ],
      "metadata": {
        "colab": {
          "base_uri": "https://localhost:8080/"
        },
        "id": "MCeqpZc1S57T",
        "outputId": "5a500ca6-988e-41de-e2f2-8695e0da8453"
      },
      "id": "MCeqpZc1S57T",
      "execution_count": 23,
      "outputs": [
        {
          "output_type": "execute_result",
          "data": {
            "text/plain": [
              "['FLUOROURACIL', 'ERYTHROPOIETIN', 'CLOPIDOGREL']"
            ]
          },
          "metadata": {},
          "execution_count": 23
        }
      ]
    },
    {
      "cell_type": "markdown",
      "source": [
        "## Part 2: get the chile 1 data set drug names list"
      ],
      "metadata": {
        "id": "4eziXB_Q7oCh"
      },
      "id": "4eziXB_Q7oCh"
    },
    {
      "cell_type": "code",
      "source": [
        "import chardet\n",
        "with open('CHLDiab1.csv', 'rb') as rawdata:\n",
        "    result = chardet.detect(rawdata.read(100000))\n",
        "result"
      ],
      "metadata": {
        "colab": {
          "base_uri": "https://localhost:8080/"
        },
        "id": "GXsIbk6T7obX",
        "outputId": "9fae3e73-6909-40b2-f39d-1f44d047e051"
      },
      "id": "GXsIbk6T7obX",
      "execution_count": 24,
      "outputs": [
        {
          "output_type": "execute_result",
          "data": {
            "text/plain": [
              "{'confidence': 0.73, 'encoding': 'Windows-1252', 'language': ''}"
            ]
          },
          "metadata": {},
          "execution_count": 24
        }
      ]
    },
    {
      "cell_type": "code",
      "source": [
        "import pandas as pd\n",
        "CHLDiab1 = pd.read_csv('CHLDiab1.csv',encoding='Windows-1252')\n",
        "#CHLDiab1.head(1)"
      ],
      "metadata": {
        "id": "JjYkxJm27o56"
      },
      "id": "JjYkxJm27o56",
      "execution_count": 25,
      "outputs": []
    },
    {
      "cell_type": "code",
      "source": [
        "CHLDiab1DirtyName = CHLDiab1['Descripcion linea Adquisicion']"
      ],
      "metadata": {
        "id": "bURoxyuX7o3k"
      },
      "id": "bURoxyuX7o3k",
      "execution_count": 26,
      "outputs": []
    },
    {
      "cell_type": "code",
      "source": [
        "len(CHLDiab1DirtyName) # length of drug names"
      ],
      "metadata": {
        "colab": {
          "base_uri": "https://localhost:8080/"
        },
        "id": "1gwN4bwa7ozj",
        "outputId": "5f28d546-d4da-428f-957c-0583329ce56f"
      },
      "id": "1gwN4bwa7ozj",
      "execution_count": 27,
      "outputs": [
        {
          "output_type": "execute_result",
          "data": {
            "text/plain": [
              "20606"
            ]
          },
          "metadata": {},
          "execution_count": 27
        }
      ]
    },
    {
      "cell_type": "code",
      "source": [
        "CHLDiab1DirtyName = list(set(CHLDiab1DirtyName))\n",
        "len(CHLDiab1DirtyName) # length of drug names after remove duplicates"
      ],
      "metadata": {
        "colab": {
          "base_uri": "https://localhost:8080/"
        },
        "id": "PkyNQXed7ovj",
        "outputId": "bf7c417d-ac61-446e-828c-2ac971b1cd12"
      },
      "id": "PkyNQXed7ovj",
      "execution_count": 28,
      "outputs": [
        {
          "output_type": "execute_result",
          "data": {
            "text/plain": [
              "3663"
            ]
          },
          "metadata": {},
          "execution_count": 28
        }
      ]
    },
    {
      "cell_type": "code",
      "source": [
        "# uppercase everything\n",
        "CHLDiab1DirtyNameU = []\n",
        "for i in CHLDiab1DirtyName:\n",
        "  CHLDiab1DirtyNameU.append(i.upper())"
      ],
      "metadata": {
        "id": "ph3jhe718shZ"
      },
      "id": "ph3jhe718shZ",
      "execution_count": 29,
      "outputs": []
    },
    {
      "cell_type": "code",
      "source": [
        "CHLDiab1DirtyNameU[:5]"
      ],
      "metadata": {
        "colab": {
          "base_uri": "https://localhost:8080/"
        },
        "id": "SQmW4-sl8sMJ",
        "outputId": "1eec1fd8-558a-453b-ae4e-cc64ac9c5aa6"
      },
      "id": "SQmW4-sl8sMJ",
      "execution_count": 30,
      "outputs": [
        {
          "output_type": "execute_result",
          "data": {
            "text/plain": [
              "['GLAUPAX XR 1.000 MG O SIMILAR (METFORMINA) 30 COMPRIMIDOS POR CAJA.',\n",
              " 'SITAGLIPTINA / METFORMINA 50/100, CAJA 56 COMPRIMIDOS',\n",
              " 'TOUJEO 300U-ML INSULINA GLARGINA',\n",
              " 'JALRA M 50/1000 MG X 28 COMP',\n",
              " 'INSULINA GLARGINA 300 UI/ML X 1,5 ML (LÁPIZ DESECHABLE)']"
            ]
          },
          "metadata": {},
          "execution_count": 30
        }
      ]
    },
    {
      "cell_type": "code",
      "source": [
        "!pip install googletrans==3.1.0a0\n",
        "from googletrans import Translator\n",
        "translator = Translator(service_urls=['translate.googleapis.com'])\n",
        "example = CHLDiab1DirtyNameU[0]\n",
        "translation = translator.translate(example, dest='en')\n",
        "print(translation.text)"
      ],
      "metadata": {
        "id": "NjP8_02b9F0a",
        "colab": {
          "base_uri": "https://localhost:8080/"
        },
        "outputId": "e1e95ba3-d99e-4264-d20e-563f9a45611f"
      },
      "id": "NjP8_02b9F0a",
      "execution_count": 31,
      "outputs": [
        {
          "output_type": "stream",
          "name": "stdout",
          "text": [
            "Looking in indexes: https://pypi.org/simple, https://us-python.pkg.dev/colab-wheels/public/simple/\n",
            "Collecting googletrans==3.1.0a0\n",
            "  Downloading googletrans-3.1.0a0.tar.gz (19 kB)\n",
            "Collecting httpx==0.13.3\n",
            "  Downloading httpx-0.13.3-py3-none-any.whl (55 kB)\n",
            "\u001b[K     |████████████████████████████████| 55 kB 2.5 MB/s \n",
            "\u001b[?25hCollecting sniffio\n",
            "  Downloading sniffio-1.2.0-py3-none-any.whl (10 kB)\n",
            "Requirement already satisfied: certifi in /usr/local/lib/python3.7/dist-packages (from httpx==0.13.3->googletrans==3.1.0a0) (2022.6.15)\n",
            "Collecting httpcore==0.9.*\n",
            "  Downloading httpcore-0.9.1-py3-none-any.whl (42 kB)\n",
            "\u001b[K     |████████████████████████████████| 42 kB 1.4 MB/s \n",
            "\u001b[?25hRequirement already satisfied: idna==2.* in /usr/local/lib/python3.7/dist-packages (from httpx==0.13.3->googletrans==3.1.0a0) (2.10)\n",
            "Collecting rfc3986<2,>=1.3\n",
            "  Downloading rfc3986-1.5.0-py2.py3-none-any.whl (31 kB)\n",
            "Collecting hstspreload\n",
            "  Downloading hstspreload-2022.7.10-py3-none-any.whl (1.4 MB)\n",
            "\u001b[K     |████████████████████████████████| 1.4 MB 10.3 MB/s \n",
            "\u001b[?25hRequirement already satisfied: chardet==3.* in /usr/local/lib/python3.7/dist-packages (from httpx==0.13.3->googletrans==3.1.0a0) (3.0.4)\n",
            "Collecting h2==3.*\n",
            "  Downloading h2-3.2.0-py2.py3-none-any.whl (65 kB)\n",
            "\u001b[K     |████████████████████████████████| 65 kB 4.0 MB/s \n",
            "\u001b[?25hCollecting h11<0.10,>=0.8\n",
            "  Downloading h11-0.9.0-py2.py3-none-any.whl (53 kB)\n",
            "\u001b[K     |████████████████████████████████| 53 kB 2.3 MB/s \n",
            "\u001b[?25hCollecting hpack<4,>=3.0\n",
            "  Downloading hpack-3.0.0-py2.py3-none-any.whl (38 kB)\n",
            "Collecting hyperframe<6,>=5.2.0\n",
            "  Downloading hyperframe-5.2.0-py2.py3-none-any.whl (12 kB)\n",
            "Building wheels for collected packages: googletrans\n",
            "  Building wheel for googletrans (setup.py) ... \u001b[?25l\u001b[?25hdone\n",
            "  Created wheel for googletrans: filename=googletrans-3.1.0a0-py3-none-any.whl size=16367 sha256=81eb50aaeed2735b15c2621d4b80b0d6c8382794d912e2d0613a14e97ad152ed\n",
            "  Stored in directory: /root/.cache/pip/wheels/0c/be/fe/93a6a40ffe386e16089e44dad9018ebab9dc4cb9eb7eab65ae\n",
            "Successfully built googletrans\n",
            "Installing collected packages: hyperframe, hpack, sniffio, h2, h11, rfc3986, httpcore, hstspreload, httpx, googletrans\n",
            "Successfully installed googletrans-3.1.0a0 h11-0.9.0 h2-3.2.0 hpack-3.0.0 hstspreload-2022.7.10 httpcore-0.9.1 httpx-0.13.3 hyperframe-5.2.0 rfc3986-1.5.0 sniffio-1.2.0\n",
            "GLAUPAX XR 1,000 MG OR SIMILAR (METFORMIN) 30 TABLETS PER BOX.\n"
          ]
        }
      ]
    },
    {
      "cell_type": "code",
      "source": [
        "CHLDiab1DirtyNameU[0]"
      ],
      "metadata": {
        "colab": {
          "base_uri": "https://localhost:8080/",
          "height": 35
        },
        "id": "GoWLBB3LAy2G",
        "outputId": "c8a2908f-58bf-4bc3-fbef-e4473eb8ac9a"
      },
      "id": "GoWLBB3LAy2G",
      "execution_count": 32,
      "outputs": [
        {
          "output_type": "execute_result",
          "data": {
            "text/plain": [
              "'GLAUPAX XR 1.000 MG O SIMILAR (METFORMINA) 30 COMPRIMIDOS POR CAJA.'"
            ],
            "application/vnd.google.colaboratory.intrinsic+json": {
              "type": "string"
            }
          },
          "metadata": {},
          "execution_count": 32
        }
      ]
    },
    {
      "cell_type": "code",
      "source": [
        "CHLDiab1DirtyNameUEng = []\n",
        "for item in CHLDiab1DirtyNameU:\n",
        "  translation = translator.translate(item, dest='en')\n",
        "  CHLDiab1DirtyNameUEng.append(translation.text)\n",
        "# runs 10 mins"
      ],
      "metadata": {
        "id": "MXLqsgO2K8BE"
      },
      "id": "MXLqsgO2K8BE",
      "execution_count": 37,
      "outputs": []
    },
    {
      "cell_type": "code",
      "source": [
        "# get the orignila index about medicine name for each drug name \n",
        "\n",
        "from nltk.tokenize import WordPunctTokenizer  # this function split the string by space\n",
        "tokenizer = WordPunctTokenizer()\n",
        "\n",
        "CHLDiab1DirtyNameUSpl = []\n",
        "for item in CHLDiab1DirtyNameU:\n",
        "  tokenlist = tokenizer.tokenize(item)\n",
        "  CHLDiab1DirtyNameUSpl.append(tokenlist)"
      ],
      "metadata": {
        "id": "N02qArZOGdah"
      },
      "id": "N02qArZOGdah",
      "execution_count": 33,
      "outputs": []
    },
    {
      "cell_type": "code",
      "source": [
        "CHLDiab1DirtyNameUSpl[:1]"
      ],
      "metadata": {
        "id": "rea1zClPHshJ",
        "colab": {
          "base_uri": "https://localhost:8080/"
        },
        "outputId": "26ef888e-1da4-47b7-84a8-933e2d47b262"
      },
      "id": "rea1zClPHshJ",
      "execution_count": 34,
      "outputs": [
        {
          "output_type": "execute_result",
          "data": {
            "text/plain": [
              "[['GLAUPAX',\n",
              "  'XR',\n",
              "  '1',\n",
              "  '.',\n",
              "  '000',\n",
              "  'MG',\n",
              "  'O',\n",
              "  'SIMILAR',\n",
              "  '(',\n",
              "  'METFORMINA',\n",
              "  ')',\n",
              "  '30',\n",
              "  'COMPRIMIDOS',\n",
              "  'POR',\n",
              "  'CAJA',\n",
              "  '.']]"
            ]
          },
          "metadata": {},
          "execution_count": 34
        }
      ]
    },
    {
      "cell_type": "code",
      "source": [
        "CHLDiab1DirtyNameIndex = []\n",
        "for item in CHLDiab1DirtyNameUSpl:\n",
        "  templist = []\n",
        "  for subitem in item:\n",
        "    if len(subitem) > 4 and subitem.isdigit() is False:  ## ignoring these elements such as \"MG\", \"+\", ... \n",
        "      templist.append(subitem)\n",
        "  CHLDiab1DirtyNameIndex.append(templist)"
      ],
      "metadata": {
        "id": "VJvAzfXeGdTF"
      },
      "id": "VJvAzfXeGdTF",
      "execution_count": 35,
      "outputs": []
    },
    {
      "cell_type": "code",
      "source": [
        "CHLDiab1DirtyNameIndex[:1]"
      ],
      "metadata": {
        "colab": {
          "base_uri": "https://localhost:8080/"
        },
        "id": "ObFaZc3pGdLZ",
        "outputId": "1bac45f3-2be5-422c-a0b2-2ac0534ab80d"
      },
      "id": "ObFaZc3pGdLZ",
      "execution_count": 36,
      "outputs": [
        {
          "output_type": "execute_result",
          "data": {
            "text/plain": [
              "[['GLAUPAX', 'SIMILAR', 'METFORMINA', 'COMPRIMIDOS']]"
            ]
          },
          "metadata": {},
          "execution_count": 36
        }
      ]
    },
    {
      "cell_type": "code",
      "source": [
        "# translate these names (indexes) to English\n",
        "CHLDiab1DirtyNameIndexEng = []\n",
        "\n",
        "for item in CHLDiab1DirtyNameIndex:\n",
        "  temp_sublist = []\n",
        "  for subitem in item:\n",
        "    temp = translator.translate(subitem, dest='en')\n",
        "    temp_sublist.append(temp.text)\n",
        "  CHLDiab1DirtyNameIndexEng.append(temp_sublist)\n",
        "\n",
        "# this block runs 21 mins"
      ],
      "metadata": {
        "id": "ksRWL1L8GdBu"
      },
      "id": "ksRWL1L8GdBu",
      "execution_count": 41,
      "outputs": []
    },
    {
      "cell_type": "code",
      "source": [
        "# delete the information in each piece of drug name after SIMILAR\n",
        "def DelSIMILAR(subitem):\n",
        "  finalindex = len(subitem)\n",
        "  for subindex in range(0, len(subitem)):\n",
        "    if subitem[subindex] == 'SIMILAR':\n",
        "      finalindex = subindex\n",
        "  return subitem[:finalindex]"
      ],
      "metadata": {
        "id": "kTbXmZldM5zJ"
      },
      "id": "kTbXmZldM5zJ",
      "execution_count": 42,
      "outputs": []
    },
    {
      "cell_type": "code",
      "source": [
        "# delete the information in each piece of drug name after EQUIVALENT\n",
        "def DelEQUIVALENT(subitem):\n",
        "  finalindex = len(subitem)\n",
        "  for subindex in range(0, len(subitem)):\n",
        "    if subitem[subindex] == 'EQUIVALENT':\n",
        "      finalindex = subindex\n",
        "  return subitem[:finalindex]"
      ],
      "metadata": {
        "id": "dwLliOLMMR_x"
      },
      "id": "dwLliOLMMR_x",
      "execution_count": 43,
      "outputs": []
    },
    {
      "cell_type": "code",
      "source": [
        "CHLDiab1DirtyNameIndexEngDelSIMILAR = []\n",
        "for item in CHLDiab1DirtyNameIndexEng:\n",
        "  add = DelSIMILAR(item)\n",
        "  add = DelEQUIVALENT(add)\n",
        "  CHLDiab1DirtyNameIndexEngDelSIMILAR.append(add)"
      ],
      "metadata": {
        "id": "FnFCqVbzMR9s"
      },
      "id": "FnFCqVbzMR9s",
      "execution_count": 44,
      "outputs": []
    },
    {
      "cell_type": "code",
      "source": [
        "# for the vocabulaies which are included in the medicine index get from clean data set, keep them in the \n",
        "# Chile 1 data index\n",
        "def KeepMetAnd(subitem):\n",
        "  addlist = []\n",
        "  for element in subitem:\n",
        "    if element in CatalogMedName:\n",
        "      addlist.append(element)\n",
        "  return addlist"
      ],
      "metadata": {
        "id": "FDkGewF_MR0j"
      },
      "id": "FDkGewF_MR0j",
      "execution_count": 45,
      "outputs": []
    },
    {
      "cell_type": "code",
      "source": [
        "CHIfinIndex = []\n",
        "for sublist in CHLDiab1DirtyNameIndexEngDelSIMILAR:\n",
        "  add = KeepMetAnd(sublist)\n",
        "  CHIfinIndex.append(add)"
      ],
      "metadata": {
        "id": "HzKjNZdQWJMH"
      },
      "id": "HzKjNZdQWJMH",
      "execution_count": 46,
      "outputs": []
    },
    {
      "cell_type": "code",
      "source": [
        "# count the number of Chile index sub list which is null []\n",
        "count = 0\n",
        "for i in CHIfinIndex:\n",
        "  if not i:\n",
        "    count += 1"
      ],
      "metadata": {
        "id": "GzZF6yF4Wqim"
      },
      "id": "GzZF6yF4Wqim",
      "execution_count": 47,
      "outputs": []
    },
    {
      "cell_type": "code",
      "source": [
        "count"
      ],
      "metadata": {
        "colab": {
          "base_uri": "https://localhost:8080/"
        },
        "id": "iGpBBQGUXC7x",
        "outputId": "c6520067-26d8-4343-89f1-14be27b57e1f"
      },
      "id": "iGpBBQGUXC7x",
      "execution_count": 48,
      "outputs": [
        {
          "output_type": "execute_result",
          "data": {
            "text/plain": [
              "447"
            ]
          },
          "metadata": {},
          "execution_count": 48
        }
      ]
    },
    {
      "cell_type": "code",
      "source": [
        "nullindexlist = []\n",
        "for i in range(0, len(CHIfinIndex)):\n",
        "  if not CHIfinIndex[i]:\n",
        "    nullindexlist.append(i)"
      ],
      "metadata": {
        "id": "acNyIkihXQ_A"
      },
      "id": "acNyIkihXQ_A",
      "execution_count": 49,
      "outputs": []
    },
    {
      "cell_type": "code",
      "source": [
        "!pip install -U spacy\n",
        "!pip install scispacy"
      ],
      "metadata": {
        "id": "BvqwZPnIXQZd",
        "colab": {
          "base_uri": "https://localhost:8080/",
          "height": 1000
        },
        "outputId": "c7bca17d-1570-4604-c315-93e8bf88c4e8"
      },
      "id": "BvqwZPnIXQZd",
      "execution_count": 50,
      "outputs": [
        {
          "output_type": "stream",
          "name": "stdout",
          "text": [
            "Looking in indexes: https://pypi.org/simple, https://us-python.pkg.dev/colab-wheels/public/simple/\n",
            "Requirement already satisfied: spacy in /usr/local/lib/python3.7/dist-packages (3.4.0)\n",
            "Collecting spacy\n",
            "  Downloading spacy-3.4.1-cp37-cp37m-manylinux_2_17_x86_64.manylinux2014_x86_64.whl (6.3 MB)\n",
            "\u001b[K     |████████████████████████████████| 6.3 MB 5.1 MB/s \n",
            "\u001b[?25hRequirement already satisfied: typing-extensions<4.2.0,>=3.7.4 in /usr/local/lib/python3.7/dist-packages (from spacy) (4.1.1)\n",
            "Requirement already satisfied: spacy-legacy<3.1.0,>=3.0.9 in /usr/local/lib/python3.7/dist-packages (from spacy) (3.0.9)\n",
            "Requirement already satisfied: spacy-loggers<2.0.0,>=1.0.0 in /usr/local/lib/python3.7/dist-packages (from spacy) (1.0.3)\n",
            "Requirement already satisfied: pydantic!=1.8,!=1.8.1,<1.10.0,>=1.7.4 in /usr/local/lib/python3.7/dist-packages (from spacy) (1.9.1)\n",
            "Requirement already satisfied: tqdm<5.0.0,>=4.38.0 in /usr/local/lib/python3.7/dist-packages (from spacy) (4.64.0)\n",
            "Requirement already satisfied: packaging>=20.0 in /usr/local/lib/python3.7/dist-packages (from spacy) (21.3)\n",
            "Requirement already satisfied: typer<0.5.0,>=0.3.0 in /usr/local/lib/python3.7/dist-packages (from spacy) (0.4.2)\n",
            "Requirement already satisfied: langcodes<4.0.0,>=3.2.0 in /usr/local/lib/python3.7/dist-packages (from spacy) (3.3.0)\n",
            "Requirement already satisfied: pathy>=0.3.5 in /usr/local/lib/python3.7/dist-packages (from spacy) (0.6.2)\n",
            "Requirement already satisfied: cymem<2.1.0,>=2.0.2 in /usr/local/lib/python3.7/dist-packages (from spacy) (2.0.6)\n",
            "Requirement already satisfied: preshed<3.1.0,>=3.0.2 in /usr/local/lib/python3.7/dist-packages (from spacy) (3.0.6)\n",
            "Requirement already satisfied: murmurhash<1.1.0,>=0.28.0 in /usr/local/lib/python3.7/dist-packages (from spacy) (1.0.7)\n",
            "Requirement already satisfied: thinc<8.2.0,>=8.1.0 in /usr/local/lib/python3.7/dist-packages (from spacy) (8.1.0)\n",
            "Requirement already satisfied: setuptools in /usr/local/lib/python3.7/dist-packages (from spacy) (57.4.0)\n",
            "Requirement already satisfied: catalogue<2.1.0,>=2.0.6 in /usr/local/lib/python3.7/dist-packages (from spacy) (2.0.7)\n",
            "Requirement already satisfied: requests<3.0.0,>=2.13.0 in /usr/local/lib/python3.7/dist-packages (from spacy) (2.23.0)\n",
            "Requirement already satisfied: srsly<3.0.0,>=2.4.3 in /usr/local/lib/python3.7/dist-packages (from spacy) (2.4.4)\n",
            "Requirement already satisfied: wasabi<1.1.0,>=0.9.1 in /usr/local/lib/python3.7/dist-packages (from spacy) (0.9.1)\n",
            "Requirement already satisfied: jinja2 in /usr/local/lib/python3.7/dist-packages (from spacy) (2.11.3)\n",
            "Requirement already satisfied: numpy>=1.15.0 in /usr/local/lib/python3.7/dist-packages (from spacy) (1.21.6)\n",
            "Requirement already satisfied: zipp>=0.5 in /usr/local/lib/python3.7/dist-packages (from catalogue<2.1.0,>=2.0.6->spacy) (3.8.1)\n",
            "Requirement already satisfied: pyparsing!=3.0.5,>=2.0.2 in /usr/local/lib/python3.7/dist-packages (from packaging>=20.0->spacy) (3.0.9)\n",
            "Requirement already satisfied: smart-open<6.0.0,>=5.2.1 in /usr/local/lib/python3.7/dist-packages (from pathy>=0.3.5->spacy) (5.2.1)\n",
            "Requirement already satisfied: chardet<4,>=3.0.2 in /usr/local/lib/python3.7/dist-packages (from requests<3.0.0,>=2.13.0->spacy) (3.0.4)\n",
            "Requirement already satisfied: certifi>=2017.4.17 in /usr/local/lib/python3.7/dist-packages (from requests<3.0.0,>=2.13.0->spacy) (2022.6.15)\n",
            "Requirement already satisfied: urllib3!=1.25.0,!=1.25.1,<1.26,>=1.21.1 in /usr/local/lib/python3.7/dist-packages (from requests<3.0.0,>=2.13.0->spacy) (1.24.3)\n",
            "Requirement already satisfied: idna<3,>=2.5 in /usr/local/lib/python3.7/dist-packages (from requests<3.0.0,>=2.13.0->spacy) (2.10)\n",
            "Requirement already satisfied: blis<0.8.0,>=0.7.8 in /usr/local/lib/python3.7/dist-packages (from thinc<8.2.0,>=8.1.0->spacy) (0.7.8)\n",
            "Requirement already satisfied: click<9.0.0,>=7.1.1 in /usr/local/lib/python3.7/dist-packages (from typer<0.5.0,>=0.3.0->spacy) (7.1.2)\n",
            "Requirement already satisfied: MarkupSafe>=0.23 in /usr/local/lib/python3.7/dist-packages (from jinja2->spacy) (2.0.1)\n",
            "Installing collected packages: spacy\n",
            "  Attempting uninstall: spacy\n",
            "    Found existing installation: spacy 3.4.0\n",
            "    Uninstalling spacy-3.4.0:\n",
            "      Successfully uninstalled spacy-3.4.0\n",
            "Successfully installed spacy-3.4.1\n",
            "Looking in indexes: https://pypi.org/simple, https://us-python.pkg.dev/colab-wheels/public/simple/\n",
            "Collecting scispacy\n",
            "  Downloading scispacy-0.5.0-py3-none-any.whl (44 kB)\n",
            "\u001b[K     |████████████████████████████████| 44 kB 1.6 MB/s \n",
            "\u001b[?25hCollecting nmslib>=1.7.3.6\n",
            "  Downloading nmslib-2.1.1-cp37-cp37m-manylinux2010_x86_64.whl (13.5 MB)\n",
            "\u001b[K     |████████████████████████████████| 13.5 MB 9.0 MB/s \n",
            "\u001b[?25hRequirement already satisfied: numpy in /usr/local/lib/python3.7/dist-packages (from scispacy) (1.21.6)\n",
            "Requirement already satisfied: scikit-learn>=0.20.3 in /usr/local/lib/python3.7/dist-packages (from scispacy) (1.0.2)\n",
            "Collecting pysbd\n",
            "  Downloading pysbd-0.3.4-py3-none-any.whl (71 kB)\n",
            "\u001b[K     |████████████████████████████████| 71 kB 8.6 MB/s \n",
            "\u001b[?25hCollecting spacy<3.3.0,>=3.2.0\n",
            "  Downloading spacy-3.2.4-cp37-cp37m-manylinux_2_17_x86_64.manylinux2014_x86_64.whl (6.0 MB)\n",
            "\u001b[K     |████████████████████████████████| 6.0 MB 34.1 MB/s \n",
            "\u001b[?25hRequirement already satisfied: joblib in /usr/local/lib/python3.7/dist-packages (from scispacy) (1.1.0)\n",
            "Collecting conllu\n",
            "  Downloading conllu-4.5.1-py2.py3-none-any.whl (16 kB)\n",
            "Requirement already satisfied: requests<3.0.0,>=2.0.0 in /usr/local/lib/python3.7/dist-packages (from scispacy) (2.23.0)\n",
            "Requirement already satisfied: psutil in /usr/local/lib/python3.7/dist-packages (from nmslib>=1.7.3.6->scispacy) (5.4.8)\n",
            "Collecting pybind11<2.6.2\n",
            "  Downloading pybind11-2.6.1-py2.py3-none-any.whl (188 kB)\n",
            "\u001b[K     |████████████████████████████████| 188 kB 53.0 MB/s \n",
            "\u001b[?25hRequirement already satisfied: chardet<4,>=3.0.2 in /usr/local/lib/python3.7/dist-packages (from requests<3.0.0,>=2.0.0->scispacy) (3.0.4)\n",
            "Requirement already satisfied: idna<3,>=2.5 in /usr/local/lib/python3.7/dist-packages (from requests<3.0.0,>=2.0.0->scispacy) (2.10)\n",
            "Requirement already satisfied: urllib3!=1.25.0,!=1.25.1,<1.26,>=1.21.1 in /usr/local/lib/python3.7/dist-packages (from requests<3.0.0,>=2.0.0->scispacy) (1.24.3)\n",
            "Requirement already satisfied: certifi>=2017.4.17 in /usr/local/lib/python3.7/dist-packages (from requests<3.0.0,>=2.0.0->scispacy) (2022.6.15)\n",
            "Requirement already satisfied: scipy>=1.1.0 in /usr/local/lib/python3.7/dist-packages (from scikit-learn>=0.20.3->scispacy) (1.7.3)\n",
            "Requirement already satisfied: threadpoolctl>=2.0.0 in /usr/local/lib/python3.7/dist-packages (from scikit-learn>=0.20.3->scispacy) (3.1.0)\n",
            "Requirement already satisfied: click<8.1.0 in /usr/local/lib/python3.7/dist-packages (from spacy<3.3.0,>=3.2.0->scispacy) (7.1.2)\n",
            "Requirement already satisfied: murmurhash<1.1.0,>=0.28.0 in /usr/local/lib/python3.7/dist-packages (from spacy<3.3.0,>=3.2.0->scispacy) (1.0.7)\n",
            "Requirement already satisfied: typer<0.5.0,>=0.3.0 in /usr/local/lib/python3.7/dist-packages (from spacy<3.3.0,>=3.2.0->scispacy) (0.4.2)\n",
            "Requirement already satisfied: srsly<3.0.0,>=2.4.1 in /usr/local/lib/python3.7/dist-packages (from spacy<3.3.0,>=3.2.0->scispacy) (2.4.4)\n",
            "Requirement already satisfied: langcodes<4.0.0,>=3.2.0 in /usr/local/lib/python3.7/dist-packages (from spacy<3.3.0,>=3.2.0->scispacy) (3.3.0)\n",
            "Collecting typing-extensions<4.0.0.0,>=3.7.4\n",
            "  Downloading typing_extensions-3.10.0.2-py3-none-any.whl (26 kB)\n",
            "Requirement already satisfied: spacy-legacy<3.1.0,>=3.0.8 in /usr/local/lib/python3.7/dist-packages (from spacy<3.3.0,>=3.2.0->scispacy) (3.0.9)\n",
            "Requirement already satisfied: setuptools in /usr/local/lib/python3.7/dist-packages (from spacy<3.3.0,>=3.2.0->scispacy) (57.4.0)\n",
            "Requirement already satisfied: preshed<3.1.0,>=3.0.2 in /usr/local/lib/python3.7/dist-packages (from spacy<3.3.0,>=3.2.0->scispacy) (3.0.6)\n",
            "Requirement already satisfied: blis<0.8.0,>=0.4.0 in /usr/local/lib/python3.7/dist-packages (from spacy<3.3.0,>=3.2.0->scispacy) (0.7.8)\n",
            "Requirement already satisfied: catalogue<2.1.0,>=2.0.6 in /usr/local/lib/python3.7/dist-packages (from spacy<3.3.0,>=3.2.0->scispacy) (2.0.7)\n",
            "Collecting thinc<8.1.0,>=8.0.12\n",
            "  Downloading thinc-8.0.17-cp37-cp37m-manylinux_2_17_x86_64.manylinux2014_x86_64.whl (660 kB)\n",
            "\u001b[K     |████████████████████████████████| 660 kB 63.7 MB/s \n",
            "\u001b[?25hCollecting pydantic!=1.8,!=1.8.1,<1.9.0,>=1.7.4\n",
            "  Downloading pydantic-1.8.2-cp37-cp37m-manylinux2014_x86_64.whl (10.1 MB)\n",
            "\u001b[K     |████████████████████████████████| 10.1 MB 38.1 MB/s \n",
            "\u001b[?25hRequirement already satisfied: wasabi<1.1.0,>=0.8.1 in /usr/local/lib/python3.7/dist-packages (from spacy<3.3.0,>=3.2.0->scispacy) (0.9.1)\n",
            "Requirement already satisfied: spacy-loggers<2.0.0,>=1.0.0 in /usr/local/lib/python3.7/dist-packages (from spacy<3.3.0,>=3.2.0->scispacy) (1.0.3)\n",
            "Requirement already satisfied: pathy>=0.3.5 in /usr/local/lib/python3.7/dist-packages (from spacy<3.3.0,>=3.2.0->scispacy) (0.6.2)\n",
            "Requirement already satisfied: tqdm<5.0.0,>=4.38.0 in /usr/local/lib/python3.7/dist-packages (from spacy<3.3.0,>=3.2.0->scispacy) (4.64.0)\n",
            "Requirement already satisfied: jinja2 in /usr/local/lib/python3.7/dist-packages (from spacy<3.3.0,>=3.2.0->scispacy) (2.11.3)\n",
            "Requirement already satisfied: cymem<2.1.0,>=2.0.2 in /usr/local/lib/python3.7/dist-packages (from spacy<3.3.0,>=3.2.0->scispacy) (2.0.6)\n",
            "Requirement already satisfied: packaging>=20.0 in /usr/local/lib/python3.7/dist-packages (from spacy<3.3.0,>=3.2.0->scispacy) (21.3)\n",
            "Requirement already satisfied: zipp>=0.5 in /usr/local/lib/python3.7/dist-packages (from catalogue<2.1.0,>=2.0.6->spacy<3.3.0,>=3.2.0->scispacy) (3.8.1)\n",
            "Requirement already satisfied: pyparsing!=3.0.5,>=2.0.2 in /usr/local/lib/python3.7/dist-packages (from packaging>=20.0->spacy<3.3.0,>=3.2.0->scispacy) (3.0.9)\n",
            "Requirement already satisfied: smart-open<6.0.0,>=5.2.1 in /usr/local/lib/python3.7/dist-packages (from pathy>=0.3.5->spacy<3.3.0,>=3.2.0->scispacy) (5.2.1)\n",
            "Requirement already satisfied: MarkupSafe>=0.23 in /usr/local/lib/python3.7/dist-packages (from jinja2->spacy<3.3.0,>=3.2.0->scispacy) (2.0.1)\n",
            "Installing collected packages: typing-extensions, pydantic, thinc, pybind11, spacy, pysbd, nmslib, conllu, scispacy\n",
            "  Attempting uninstall: typing-extensions\n",
            "    Found existing installation: typing-extensions 4.1.1\n",
            "    Uninstalling typing-extensions-4.1.1:\n",
            "      Successfully uninstalled typing-extensions-4.1.1\n",
            "  Attempting uninstall: pydantic\n",
            "    Found existing installation: pydantic 1.9.1\n",
            "    Uninstalling pydantic-1.9.1:\n",
            "      Successfully uninstalled pydantic-1.9.1\n",
            "  Attempting uninstall: thinc\n",
            "    Found existing installation: thinc 8.1.0\n",
            "    Uninstalling thinc-8.1.0:\n",
            "      Successfully uninstalled thinc-8.1.0\n",
            "  Attempting uninstall: spacy\n",
            "    Found existing installation: spacy 3.4.1\n",
            "    Uninstalling spacy-3.4.1:\n",
            "      Successfully uninstalled spacy-3.4.1\n",
            "\u001b[31mERROR: pip's dependency resolver does not currently take into account all the packages that are installed. This behaviour is the source of the following dependency conflicts.\n",
            "en-core-web-sm 3.4.0 requires spacy<3.5.0,>=3.4.0, but you have spacy 3.2.4 which is incompatible.\u001b[0m\n",
            "Successfully installed conllu-4.5.1 nmslib-2.1.1 pybind11-2.6.1 pydantic-1.8.2 pysbd-0.3.4 scispacy-0.5.0 spacy-3.2.4 thinc-8.0.17 typing-extensions-3.10.0.2\n"
          ]
        },
        {
          "output_type": "display_data",
          "data": {
            "application/vnd.colab-display-data+json": {
              "pip_warning": {
                "packages": [
                  "typing_extensions"
                ]
              }
            }
          },
          "metadata": {}
        }
      ]
    },
    {
      "cell_type": "code",
      "source": [
        "## Install scispaCy models\n",
        "!pip install https://s3-us-west-2.amazonaws.com/ai2-s2-scispacy/releases/v0.4.0/en_core_sci_sm-0.4.0.tar.gz\n",
        "!pip install https://s3-us-west-2.amazonaws.com/ai2-s2-scispacy/releases/v0.4.0/en_ner_craft_md-0.4.0.tar.gz\n",
        "!pip install https://s3-us-west-2.amazonaws.com/ai2-s2-scispacy/releases/v0.4.0/en_ner_jnlpba_md-0.4.0.tar.gz\n",
        "!pip install https://s3-us-west-2.amazonaws.com/ai2-s2-scispacy/releases/v0.4.0/en_ner_bc5cdr_md-0.4.0.tar.gz\n",
        "!pip install https://s3-us-west-2.amazonaws.com/ai2-s2-scispacy/releases/v0.4.0/en_ner_bionlp13cg_md-0.4.0.tar.gz\n",
        "!pip install https://s3-us-west-2.amazonaws.com/ai2-s2-scispacy/releases/v0.4.0/en_core_sci_lg-0.4.0.tar.gz"
      ],
      "metadata": {
        "id": "sXmrQGYOZWIJ",
        "colab": {
          "base_uri": "https://localhost:8080/"
        },
        "outputId": "db2ef53a-bab6-44de-daa7-719307312756"
      },
      "id": "sXmrQGYOZWIJ",
      "execution_count": 51,
      "outputs": [
        {
          "output_type": "stream",
          "name": "stdout",
          "text": [
            "Looking in indexes: https://pypi.org/simple, https://us-python.pkg.dev/colab-wheels/public/simple/\n",
            "Collecting https://s3-us-west-2.amazonaws.com/ai2-s2-scispacy/releases/v0.4.0/en_core_sci_sm-0.4.0.tar.gz\n",
            "  Downloading https://s3-us-west-2.amazonaws.com/ai2-s2-scispacy/releases/v0.4.0/en_core_sci_sm-0.4.0.tar.gz (15.6 MB)\n",
            "\u001b[K     |████████████████████████████████| 15.6 MB 6.1 MB/s \n",
            "\u001b[?25hCollecting spacy<3.1.0,>=3.0.1\n",
            "  Downloading spacy-3.0.8-cp37-cp37m-manylinux_2_17_x86_64.manylinux2014_x86_64.whl (5.8 MB)\n",
            "\u001b[K     |████████████████████████████████| 5.8 MB 3.6 MB/s \n",
            "\u001b[?25hRequirement already satisfied: requests<3.0.0,>=2.13.0 in /usr/local/lib/python3.7/dist-packages (from spacy<3.1.0,>=3.0.1->en-core-sci-sm==0.4.0) (2.23.0)\n",
            "Requirement already satisfied: typing-extensions<4.0.0.0,>=3.7.4 in /usr/local/lib/python3.7/dist-packages (from spacy<3.1.0,>=3.0.1->en-core-sci-sm==0.4.0) (3.10.0.2)\n",
            "Requirement already satisfied: murmurhash<1.1.0,>=0.28.0 in /usr/local/lib/python3.7/dist-packages (from spacy<3.1.0,>=3.0.1->en-core-sci-sm==0.4.0) (1.0.7)\n",
            "Collecting typer<0.4.0,>=0.3.0\n",
            "  Downloading typer-0.3.2-py3-none-any.whl (21 kB)\n",
            "Requirement already satisfied: preshed<3.1.0,>=3.0.2 in /usr/local/lib/python3.7/dist-packages (from spacy<3.1.0,>=3.0.1->en-core-sci-sm==0.4.0) (3.0.6)\n",
            "Requirement already satisfied: cymem<2.1.0,>=2.0.2 in /usr/local/lib/python3.7/dist-packages (from spacy<3.1.0,>=3.0.1->en-core-sci-sm==0.4.0) (2.0.6)\n",
            "Requirement already satisfied: blis<0.8.0,>=0.4.0 in /usr/local/lib/python3.7/dist-packages (from spacy<3.1.0,>=3.0.1->en-core-sci-sm==0.4.0) (0.7.8)\n",
            "Requirement already satisfied: tqdm<5.0.0,>=4.38.0 in /usr/local/lib/python3.7/dist-packages (from spacy<3.1.0,>=3.0.1->en-core-sci-sm==0.4.0) (4.64.0)\n",
            "Requirement already satisfied: spacy-legacy<3.1.0,>=3.0.5 in /usr/local/lib/python3.7/dist-packages (from spacy<3.1.0,>=3.0.1->en-core-sci-sm==0.4.0) (3.0.9)\n",
            "Requirement already satisfied: thinc<8.1.0,>=8.0.3 in /usr/local/lib/python3.7/dist-packages (from spacy<3.1.0,>=3.0.1->en-core-sci-sm==0.4.0) (8.0.17)\n",
            "Requirement already satisfied: catalogue<2.1.0,>=2.0.4 in /usr/local/lib/python3.7/dist-packages (from spacy<3.1.0,>=3.0.1->en-core-sci-sm==0.4.0) (2.0.7)\n",
            "Requirement already satisfied: jinja2 in /usr/local/lib/python3.7/dist-packages (from spacy<3.1.0,>=3.0.1->en-core-sci-sm==0.4.0) (2.11.3)\n",
            "Requirement already satisfied: setuptools in /usr/local/lib/python3.7/dist-packages (from spacy<3.1.0,>=3.0.1->en-core-sci-sm==0.4.0) (57.4.0)\n",
            "Requirement already satisfied: srsly<3.0.0,>=2.4.1 in /usr/local/lib/python3.7/dist-packages (from spacy<3.1.0,>=3.0.1->en-core-sci-sm==0.4.0) (2.4.4)\n",
            "Requirement already satisfied: wasabi<1.1.0,>=0.8.1 in /usr/local/lib/python3.7/dist-packages (from spacy<3.1.0,>=3.0.1->en-core-sci-sm==0.4.0) (0.9.1)\n",
            "Requirement already satisfied: numpy>=1.15.0 in /usr/local/lib/python3.7/dist-packages (from spacy<3.1.0,>=3.0.1->en-core-sci-sm==0.4.0) (1.21.6)\n",
            "Requirement already satisfied: pydantic!=1.8,!=1.8.1,<1.9.0,>=1.7.4 in /usr/local/lib/python3.7/dist-packages (from spacy<3.1.0,>=3.0.1->en-core-sci-sm==0.4.0) (1.8.2)\n",
            "Requirement already satisfied: pathy>=0.3.5 in /usr/local/lib/python3.7/dist-packages (from spacy<3.1.0,>=3.0.1->en-core-sci-sm==0.4.0) (0.6.2)\n",
            "Requirement already satisfied: packaging>=20.0 in /usr/local/lib/python3.7/dist-packages (from spacy<3.1.0,>=3.0.1->en-core-sci-sm==0.4.0) (21.3)\n",
            "Requirement already satisfied: zipp>=0.5 in /usr/local/lib/python3.7/dist-packages (from catalogue<2.1.0,>=2.0.4->spacy<3.1.0,>=3.0.1->en-core-sci-sm==0.4.0) (3.8.1)\n",
            "Requirement already satisfied: pyparsing!=3.0.5,>=2.0.2 in /usr/local/lib/python3.7/dist-packages (from packaging>=20.0->spacy<3.1.0,>=3.0.1->en-core-sci-sm==0.4.0) (3.0.9)\n",
            "Requirement already satisfied: smart-open<6.0.0,>=5.2.1 in /usr/local/lib/python3.7/dist-packages (from pathy>=0.3.5->spacy<3.1.0,>=3.0.1->en-core-sci-sm==0.4.0) (5.2.1)\n",
            "Requirement already satisfied: idna<3,>=2.5 in /usr/local/lib/python3.7/dist-packages (from requests<3.0.0,>=2.13.0->spacy<3.1.0,>=3.0.1->en-core-sci-sm==0.4.0) (2.10)\n",
            "Requirement already satisfied: certifi>=2017.4.17 in /usr/local/lib/python3.7/dist-packages (from requests<3.0.0,>=2.13.0->spacy<3.1.0,>=3.0.1->en-core-sci-sm==0.4.0) (2022.6.15)\n",
            "Requirement already satisfied: urllib3!=1.25.0,!=1.25.1,<1.26,>=1.21.1 in /usr/local/lib/python3.7/dist-packages (from requests<3.0.0,>=2.13.0->spacy<3.1.0,>=3.0.1->en-core-sci-sm==0.4.0) (1.24.3)\n",
            "Requirement already satisfied: chardet<4,>=3.0.2 in /usr/local/lib/python3.7/dist-packages (from requests<3.0.0,>=2.13.0->spacy<3.1.0,>=3.0.1->en-core-sci-sm==0.4.0) (3.0.4)\n",
            "Requirement already satisfied: click<7.2.0,>=7.1.1 in /usr/local/lib/python3.7/dist-packages (from typer<0.4.0,>=0.3.0->spacy<3.1.0,>=3.0.1->en-core-sci-sm==0.4.0) (7.1.2)\n",
            "Requirement already satisfied: MarkupSafe>=0.23 in /usr/local/lib/python3.7/dist-packages (from jinja2->spacy<3.1.0,>=3.0.1->en-core-sci-sm==0.4.0) (2.0.1)\n",
            "Building wheels for collected packages: en-core-sci-sm\n",
            "  Building wheel for en-core-sci-sm (setup.py) ... \u001b[?25l\u001b[?25hdone\n",
            "  Created wheel for en-core-sci-sm: filename=en_core_sci_sm-0.4.0-py3-none-any.whl size=15660350 sha256=7047d4664be5548102d58da29fcc58eb9ebe3428b75f6d0e0faf95fb8e358924\n",
            "  Stored in directory: /root/.cache/pip/wheels/31/4b/3a/03f2732eb69789a7df3bf29c1bc010f660ada5f3c295d4073c\n",
            "Successfully built en-core-sci-sm\n",
            "Installing collected packages: typer, spacy, en-core-sci-sm\n",
            "  Attempting uninstall: typer\n",
            "    Found existing installation: typer 0.4.2\n",
            "    Uninstalling typer-0.4.2:\n",
            "      Successfully uninstalled typer-0.4.2\n",
            "  Attempting uninstall: spacy\n",
            "    Found existing installation: spacy 3.2.4\n",
            "    Uninstalling spacy-3.2.4:\n",
            "      Successfully uninstalled spacy-3.2.4\n",
            "\u001b[31mERROR: pip's dependency resolver does not currently take into account all the packages that are installed. This behaviour is the source of the following dependency conflicts.\n",
            "scispacy 0.5.0 requires spacy<3.3.0,>=3.2.0, but you have spacy 3.0.8 which is incompatible.\n",
            "en-core-web-sm 3.4.0 requires spacy<3.5.0,>=3.4.0, but you have spacy 3.0.8 which is incompatible.\u001b[0m\n",
            "Successfully installed en-core-sci-sm-0.4.0 spacy-3.0.8 typer-0.3.2\n",
            "Looking in indexes: https://pypi.org/simple, https://us-python.pkg.dev/colab-wheels/public/simple/\n",
            "Collecting https://s3-us-west-2.amazonaws.com/ai2-s2-scispacy/releases/v0.4.0/en_ner_craft_md-0.4.0.tar.gz\n",
            "  Downloading https://s3-us-west-2.amazonaws.com/ai2-s2-scispacy/releases/v0.4.0/en_ner_craft_md-0.4.0.tar.gz (125.1 MB)\n",
            "\u001b[K     |████████████████████████████████| 125.1 MB 38 kB/s \n",
            "\u001b[?25hRequirement already satisfied: spacy<3.1.0,>=3.0.1 in /usr/local/lib/python3.7/dist-packages (from en-ner-craft-md==0.4.0) (3.0.8)\n",
            "Requirement already satisfied: typer<0.4.0,>=0.3.0 in /usr/local/lib/python3.7/dist-packages (from spacy<3.1.0,>=3.0.1->en-ner-craft-md==0.4.0) (0.3.2)\n",
            "Requirement already satisfied: numpy>=1.15.0 in /usr/local/lib/python3.7/dist-packages (from spacy<3.1.0,>=3.0.1->en-ner-craft-md==0.4.0) (1.21.6)\n",
            "Requirement already satisfied: setuptools in /usr/local/lib/python3.7/dist-packages (from spacy<3.1.0,>=3.0.1->en-ner-craft-md==0.4.0) (57.4.0)\n",
            "Requirement already satisfied: pydantic!=1.8,!=1.8.1,<1.9.0,>=1.7.4 in /usr/local/lib/python3.7/dist-packages (from spacy<3.1.0,>=3.0.1->en-ner-craft-md==0.4.0) (1.8.2)\n",
            "Requirement already satisfied: blis<0.8.0,>=0.4.0 in /usr/local/lib/python3.7/dist-packages (from spacy<3.1.0,>=3.0.1->en-ner-craft-md==0.4.0) (0.7.8)\n",
            "Requirement already satisfied: spacy-legacy<3.1.0,>=3.0.5 in /usr/local/lib/python3.7/dist-packages (from spacy<3.1.0,>=3.0.1->en-ner-craft-md==0.4.0) (3.0.9)\n",
            "Requirement already satisfied: srsly<3.0.0,>=2.4.1 in /usr/local/lib/python3.7/dist-packages (from spacy<3.1.0,>=3.0.1->en-ner-craft-md==0.4.0) (2.4.4)\n",
            "Requirement already satisfied: thinc<8.1.0,>=8.0.3 in /usr/local/lib/python3.7/dist-packages (from spacy<3.1.0,>=3.0.1->en-ner-craft-md==0.4.0) (8.0.17)\n",
            "Requirement already satisfied: tqdm<5.0.0,>=4.38.0 in /usr/local/lib/python3.7/dist-packages (from spacy<3.1.0,>=3.0.1->en-ner-craft-md==0.4.0) (4.64.0)\n",
            "Requirement already satisfied: preshed<3.1.0,>=3.0.2 in /usr/local/lib/python3.7/dist-packages (from spacy<3.1.0,>=3.0.1->en-ner-craft-md==0.4.0) (3.0.6)\n",
            "Requirement already satisfied: catalogue<2.1.0,>=2.0.4 in /usr/local/lib/python3.7/dist-packages (from spacy<3.1.0,>=3.0.1->en-ner-craft-md==0.4.0) (2.0.7)\n",
            "Requirement already satisfied: packaging>=20.0 in /usr/local/lib/python3.7/dist-packages (from spacy<3.1.0,>=3.0.1->en-ner-craft-md==0.4.0) (21.3)\n",
            "Requirement already satisfied: requests<3.0.0,>=2.13.0 in /usr/local/lib/python3.7/dist-packages (from spacy<3.1.0,>=3.0.1->en-ner-craft-md==0.4.0) (2.23.0)\n",
            "Requirement already satisfied: wasabi<1.1.0,>=0.8.1 in /usr/local/lib/python3.7/dist-packages (from spacy<3.1.0,>=3.0.1->en-ner-craft-md==0.4.0) (0.9.1)\n",
            "Requirement already satisfied: pathy>=0.3.5 in /usr/local/lib/python3.7/dist-packages (from spacy<3.1.0,>=3.0.1->en-ner-craft-md==0.4.0) (0.6.2)\n",
            "Requirement already satisfied: typing-extensions<4.0.0.0,>=3.7.4 in /usr/local/lib/python3.7/dist-packages (from spacy<3.1.0,>=3.0.1->en-ner-craft-md==0.4.0) (3.10.0.2)\n",
            "Requirement already satisfied: jinja2 in /usr/local/lib/python3.7/dist-packages (from spacy<3.1.0,>=3.0.1->en-ner-craft-md==0.4.0) (2.11.3)\n",
            "Requirement already satisfied: murmurhash<1.1.0,>=0.28.0 in /usr/local/lib/python3.7/dist-packages (from spacy<3.1.0,>=3.0.1->en-ner-craft-md==0.4.0) (1.0.7)\n",
            "Requirement already satisfied: cymem<2.1.0,>=2.0.2 in /usr/local/lib/python3.7/dist-packages (from spacy<3.1.0,>=3.0.1->en-ner-craft-md==0.4.0) (2.0.6)\n",
            "Requirement already satisfied: zipp>=0.5 in /usr/local/lib/python3.7/dist-packages (from catalogue<2.1.0,>=2.0.4->spacy<3.1.0,>=3.0.1->en-ner-craft-md==0.4.0) (3.8.1)\n",
            "Requirement already satisfied: pyparsing!=3.0.5,>=2.0.2 in /usr/local/lib/python3.7/dist-packages (from packaging>=20.0->spacy<3.1.0,>=3.0.1->en-ner-craft-md==0.4.0) (3.0.9)\n",
            "Requirement already satisfied: smart-open<6.0.0,>=5.2.1 in /usr/local/lib/python3.7/dist-packages (from pathy>=0.3.5->spacy<3.1.0,>=3.0.1->en-ner-craft-md==0.4.0) (5.2.1)\n",
            "Requirement already satisfied: certifi>=2017.4.17 in /usr/local/lib/python3.7/dist-packages (from requests<3.0.0,>=2.13.0->spacy<3.1.0,>=3.0.1->en-ner-craft-md==0.4.0) (2022.6.15)\n",
            "Requirement already satisfied: idna<3,>=2.5 in /usr/local/lib/python3.7/dist-packages (from requests<3.0.0,>=2.13.0->spacy<3.1.0,>=3.0.1->en-ner-craft-md==0.4.0) (2.10)\n",
            "Requirement already satisfied: urllib3!=1.25.0,!=1.25.1,<1.26,>=1.21.1 in /usr/local/lib/python3.7/dist-packages (from requests<3.0.0,>=2.13.0->spacy<3.1.0,>=3.0.1->en-ner-craft-md==0.4.0) (1.24.3)\n",
            "Requirement already satisfied: chardet<4,>=3.0.2 in /usr/local/lib/python3.7/dist-packages (from requests<3.0.0,>=2.13.0->spacy<3.1.0,>=3.0.1->en-ner-craft-md==0.4.0) (3.0.4)\n",
            "Requirement already satisfied: click<7.2.0,>=7.1.1 in /usr/local/lib/python3.7/dist-packages (from typer<0.4.0,>=0.3.0->spacy<3.1.0,>=3.0.1->en-ner-craft-md==0.4.0) (7.1.2)\n",
            "Requirement already satisfied: MarkupSafe>=0.23 in /usr/local/lib/python3.7/dist-packages (from jinja2->spacy<3.1.0,>=3.0.1->en-ner-craft-md==0.4.0) (2.0.1)\n",
            "Building wheels for collected packages: en-ner-craft-md\n",
            "  Building wheel for en-ner-craft-md (setup.py) ... \u001b[?25l\u001b[?25hdone\n",
            "  Created wheel for en-ner-craft-md: filename=en_ner_craft_md-0.4.0-py3-none-any.whl size=125689480 sha256=5a8b3b40f852182cf549990013c2ef20b92995eb3458ba0a6cbb837addc45763\n",
            "  Stored in directory: /root/.cache/pip/wheels/dd/f9/93/049ab5343fded423d6a809bcf595f4cfdd955404382fa8f085\n",
            "Successfully built en-ner-craft-md\n",
            "Installing collected packages: en-ner-craft-md\n",
            "Successfully installed en-ner-craft-md-0.4.0\n",
            "Looking in indexes: https://pypi.org/simple, https://us-python.pkg.dev/colab-wheels/public/simple/\n",
            "Collecting https://s3-us-west-2.amazonaws.com/ai2-s2-scispacy/releases/v0.4.0/en_ner_jnlpba_md-0.4.0.tar.gz\n",
            "  Downloading https://s3-us-west-2.amazonaws.com/ai2-s2-scispacy/releases/v0.4.0/en_ner_jnlpba_md-0.4.0.tar.gz (125.1 MB)\n",
            "\u001b[K     |████████████████████████████████| 125.1 MB 45 kB/s \n",
            "\u001b[?25hRequirement already satisfied: spacy<3.1.0,>=3.0.1 in /usr/local/lib/python3.7/dist-packages (from en-ner-jnlpba-md==0.4.0) (3.0.8)\n",
            "Requirement already satisfied: tqdm<5.0.0,>=4.38.0 in /usr/local/lib/python3.7/dist-packages (from spacy<3.1.0,>=3.0.1->en-ner-jnlpba-md==0.4.0) (4.64.0)\n",
            "Requirement already satisfied: pydantic!=1.8,!=1.8.1,<1.9.0,>=1.7.4 in /usr/local/lib/python3.7/dist-packages (from spacy<3.1.0,>=3.0.1->en-ner-jnlpba-md==0.4.0) (1.8.2)\n",
            "Requirement already satisfied: numpy>=1.15.0 in /usr/local/lib/python3.7/dist-packages (from spacy<3.1.0,>=3.0.1->en-ner-jnlpba-md==0.4.0) (1.21.6)\n",
            "Requirement already satisfied: packaging>=20.0 in /usr/local/lib/python3.7/dist-packages (from spacy<3.1.0,>=3.0.1->en-ner-jnlpba-md==0.4.0) (21.3)\n",
            "Requirement already satisfied: requests<3.0.0,>=2.13.0 in /usr/local/lib/python3.7/dist-packages (from spacy<3.1.0,>=3.0.1->en-ner-jnlpba-md==0.4.0) (2.23.0)\n",
            "Requirement already satisfied: spacy-legacy<3.1.0,>=3.0.5 in /usr/local/lib/python3.7/dist-packages (from spacy<3.1.0,>=3.0.1->en-ner-jnlpba-md==0.4.0) (3.0.9)\n",
            "Requirement already satisfied: thinc<8.1.0,>=8.0.3 in /usr/local/lib/python3.7/dist-packages (from spacy<3.1.0,>=3.0.1->en-ner-jnlpba-md==0.4.0) (8.0.17)\n",
            "Requirement already satisfied: jinja2 in /usr/local/lib/python3.7/dist-packages (from spacy<3.1.0,>=3.0.1->en-ner-jnlpba-md==0.4.0) (2.11.3)\n",
            "Requirement already satisfied: murmurhash<1.1.0,>=0.28.0 in /usr/local/lib/python3.7/dist-packages (from spacy<3.1.0,>=3.0.1->en-ner-jnlpba-md==0.4.0) (1.0.7)\n",
            "Requirement already satisfied: blis<0.8.0,>=0.4.0 in /usr/local/lib/python3.7/dist-packages (from spacy<3.1.0,>=3.0.1->en-ner-jnlpba-md==0.4.0) (0.7.8)\n",
            "Requirement already satisfied: wasabi<1.1.0,>=0.8.1 in /usr/local/lib/python3.7/dist-packages (from spacy<3.1.0,>=3.0.1->en-ner-jnlpba-md==0.4.0) (0.9.1)\n",
            "Requirement already satisfied: cymem<2.1.0,>=2.0.2 in /usr/local/lib/python3.7/dist-packages (from spacy<3.1.0,>=3.0.1->en-ner-jnlpba-md==0.4.0) (2.0.6)\n",
            "Requirement already satisfied: typer<0.4.0,>=0.3.0 in /usr/local/lib/python3.7/dist-packages (from spacy<3.1.0,>=3.0.1->en-ner-jnlpba-md==0.4.0) (0.3.2)\n",
            "Requirement already satisfied: preshed<3.1.0,>=3.0.2 in /usr/local/lib/python3.7/dist-packages (from spacy<3.1.0,>=3.0.1->en-ner-jnlpba-md==0.4.0) (3.0.6)\n",
            "Requirement already satisfied: pathy>=0.3.5 in /usr/local/lib/python3.7/dist-packages (from spacy<3.1.0,>=3.0.1->en-ner-jnlpba-md==0.4.0) (0.6.2)\n",
            "Requirement already satisfied: srsly<3.0.0,>=2.4.1 in /usr/local/lib/python3.7/dist-packages (from spacy<3.1.0,>=3.0.1->en-ner-jnlpba-md==0.4.0) (2.4.4)\n",
            "Requirement already satisfied: catalogue<2.1.0,>=2.0.4 in /usr/local/lib/python3.7/dist-packages (from spacy<3.1.0,>=3.0.1->en-ner-jnlpba-md==0.4.0) (2.0.7)\n",
            "Requirement already satisfied: typing-extensions<4.0.0.0,>=3.7.4 in /usr/local/lib/python3.7/dist-packages (from spacy<3.1.0,>=3.0.1->en-ner-jnlpba-md==0.4.0) (3.10.0.2)\n",
            "Requirement already satisfied: setuptools in /usr/local/lib/python3.7/dist-packages (from spacy<3.1.0,>=3.0.1->en-ner-jnlpba-md==0.4.0) (57.4.0)\n",
            "Requirement already satisfied: zipp>=0.5 in /usr/local/lib/python3.7/dist-packages (from catalogue<2.1.0,>=2.0.4->spacy<3.1.0,>=3.0.1->en-ner-jnlpba-md==0.4.0) (3.8.1)\n",
            "Requirement already satisfied: pyparsing!=3.0.5,>=2.0.2 in /usr/local/lib/python3.7/dist-packages (from packaging>=20.0->spacy<3.1.0,>=3.0.1->en-ner-jnlpba-md==0.4.0) (3.0.9)\n",
            "Requirement already satisfied: smart-open<6.0.0,>=5.2.1 in /usr/local/lib/python3.7/dist-packages (from pathy>=0.3.5->spacy<3.1.0,>=3.0.1->en-ner-jnlpba-md==0.4.0) (5.2.1)\n",
            "Requirement already satisfied: idna<3,>=2.5 in /usr/local/lib/python3.7/dist-packages (from requests<3.0.0,>=2.13.0->spacy<3.1.0,>=3.0.1->en-ner-jnlpba-md==0.4.0) (2.10)\n",
            "Requirement already satisfied: chardet<4,>=3.0.2 in /usr/local/lib/python3.7/dist-packages (from requests<3.0.0,>=2.13.0->spacy<3.1.0,>=3.0.1->en-ner-jnlpba-md==0.4.0) (3.0.4)\n",
            "Requirement already satisfied: urllib3!=1.25.0,!=1.25.1,<1.26,>=1.21.1 in /usr/local/lib/python3.7/dist-packages (from requests<3.0.0,>=2.13.0->spacy<3.1.0,>=3.0.1->en-ner-jnlpba-md==0.4.0) (1.24.3)\n",
            "Requirement already satisfied: certifi>=2017.4.17 in /usr/local/lib/python3.7/dist-packages (from requests<3.0.0,>=2.13.0->spacy<3.1.0,>=3.0.1->en-ner-jnlpba-md==0.4.0) (2022.6.15)\n",
            "Requirement already satisfied: click<7.2.0,>=7.1.1 in /usr/local/lib/python3.7/dist-packages (from typer<0.4.0,>=0.3.0->spacy<3.1.0,>=3.0.1->en-ner-jnlpba-md==0.4.0) (7.1.2)\n",
            "Requirement already satisfied: MarkupSafe>=0.23 in /usr/local/lib/python3.7/dist-packages (from jinja2->spacy<3.1.0,>=3.0.1->en-ner-jnlpba-md==0.4.0) (2.0.1)\n",
            "Building wheels for collected packages: en-ner-jnlpba-md\n",
            "  Building wheel for en-ner-jnlpba-md (setup.py) ... \u001b[?25l\u001b[?25hdone\n",
            "  Created wheel for en-ner-jnlpba-md: filename=en_ner_jnlpba_md-0.4.0-py3-none-any.whl size=125691806 sha256=94737cfd2ddacfd7f3338f2d12cd3c2347280065faca73ac33766bb5e0b387a1\n",
            "  Stored in directory: /root/.cache/pip/wheels/ed/83/4a/2e7f532ded1476eb3750f2dec8ae8e1ebd0d890ca29c9146c7\n",
            "Successfully built en-ner-jnlpba-md\n",
            "Installing collected packages: en-ner-jnlpba-md\n",
            "Successfully installed en-ner-jnlpba-md-0.4.0\n",
            "Looking in indexes: https://pypi.org/simple, https://us-python.pkg.dev/colab-wheels/public/simple/\n",
            "Collecting https://s3-us-west-2.amazonaws.com/ai2-s2-scispacy/releases/v0.4.0/en_ner_bc5cdr_md-0.4.0.tar.gz\n",
            "  Downloading https://s3-us-west-2.amazonaws.com/ai2-s2-scispacy/releases/v0.4.0/en_ner_bc5cdr_md-0.4.0.tar.gz (125.1 MB)\n",
            "\u001b[K     |████████████████████████████████| 125.1 MB 33 kB/s \n",
            "\u001b[?25hRequirement already satisfied: spacy<3.1.0,>=3.0.1 in /usr/local/lib/python3.7/dist-packages (from en-ner-bc5cdr-md==0.4.0) (3.0.8)\n",
            "Requirement already satisfied: pathy>=0.3.5 in /usr/local/lib/python3.7/dist-packages (from spacy<3.1.0,>=3.0.1->en-ner-bc5cdr-md==0.4.0) (0.6.2)\n",
            "Requirement already satisfied: typer<0.4.0,>=0.3.0 in /usr/local/lib/python3.7/dist-packages (from spacy<3.1.0,>=3.0.1->en-ner-bc5cdr-md==0.4.0) (0.3.2)\n",
            "Requirement already satisfied: tqdm<5.0.0,>=4.38.0 in /usr/local/lib/python3.7/dist-packages (from spacy<3.1.0,>=3.0.1->en-ner-bc5cdr-md==0.4.0) (4.64.0)\n",
            "Requirement already satisfied: packaging>=20.0 in /usr/local/lib/python3.7/dist-packages (from spacy<3.1.0,>=3.0.1->en-ner-bc5cdr-md==0.4.0) (21.3)\n",
            "Requirement already satisfied: srsly<3.0.0,>=2.4.1 in /usr/local/lib/python3.7/dist-packages (from spacy<3.1.0,>=3.0.1->en-ner-bc5cdr-md==0.4.0) (2.4.4)\n",
            "Requirement already satisfied: murmurhash<1.1.0,>=0.28.0 in /usr/local/lib/python3.7/dist-packages (from spacy<3.1.0,>=3.0.1->en-ner-bc5cdr-md==0.4.0) (1.0.7)\n",
            "Requirement already satisfied: preshed<3.1.0,>=3.0.2 in /usr/local/lib/python3.7/dist-packages (from spacy<3.1.0,>=3.0.1->en-ner-bc5cdr-md==0.4.0) (3.0.6)\n",
            "Requirement already satisfied: blis<0.8.0,>=0.4.0 in /usr/local/lib/python3.7/dist-packages (from spacy<3.1.0,>=3.0.1->en-ner-bc5cdr-md==0.4.0) (0.7.8)\n",
            "Requirement already satisfied: spacy-legacy<3.1.0,>=3.0.5 in /usr/local/lib/python3.7/dist-packages (from spacy<3.1.0,>=3.0.1->en-ner-bc5cdr-md==0.4.0) (3.0.9)\n",
            "Requirement already satisfied: jinja2 in /usr/local/lib/python3.7/dist-packages (from spacy<3.1.0,>=3.0.1->en-ner-bc5cdr-md==0.4.0) (2.11.3)\n",
            "Requirement already satisfied: setuptools in /usr/local/lib/python3.7/dist-packages (from spacy<3.1.0,>=3.0.1->en-ner-bc5cdr-md==0.4.0) (57.4.0)\n",
            "Requirement already satisfied: catalogue<2.1.0,>=2.0.4 in /usr/local/lib/python3.7/dist-packages (from spacy<3.1.0,>=3.0.1->en-ner-bc5cdr-md==0.4.0) (2.0.7)\n",
            "Requirement already satisfied: wasabi<1.1.0,>=0.8.1 in /usr/local/lib/python3.7/dist-packages (from spacy<3.1.0,>=3.0.1->en-ner-bc5cdr-md==0.4.0) (0.9.1)\n",
            "Requirement already satisfied: requests<3.0.0,>=2.13.0 in /usr/local/lib/python3.7/dist-packages (from spacy<3.1.0,>=3.0.1->en-ner-bc5cdr-md==0.4.0) (2.23.0)\n",
            "Requirement already satisfied: cymem<2.1.0,>=2.0.2 in /usr/local/lib/python3.7/dist-packages (from spacy<3.1.0,>=3.0.1->en-ner-bc5cdr-md==0.4.0) (2.0.6)\n",
            "Requirement already satisfied: typing-extensions<4.0.0.0,>=3.7.4 in /usr/local/lib/python3.7/dist-packages (from spacy<3.1.0,>=3.0.1->en-ner-bc5cdr-md==0.4.0) (3.10.0.2)\n",
            "Requirement already satisfied: numpy>=1.15.0 in /usr/local/lib/python3.7/dist-packages (from spacy<3.1.0,>=3.0.1->en-ner-bc5cdr-md==0.4.0) (1.21.6)\n",
            "Requirement already satisfied: pydantic!=1.8,!=1.8.1,<1.9.0,>=1.7.4 in /usr/local/lib/python3.7/dist-packages (from spacy<3.1.0,>=3.0.1->en-ner-bc5cdr-md==0.4.0) (1.8.2)\n",
            "Requirement already satisfied: thinc<8.1.0,>=8.0.3 in /usr/local/lib/python3.7/dist-packages (from spacy<3.1.0,>=3.0.1->en-ner-bc5cdr-md==0.4.0) (8.0.17)\n",
            "Requirement already satisfied: zipp>=0.5 in /usr/local/lib/python3.7/dist-packages (from catalogue<2.1.0,>=2.0.4->spacy<3.1.0,>=3.0.1->en-ner-bc5cdr-md==0.4.0) (3.8.1)\n",
            "Requirement already satisfied: pyparsing!=3.0.5,>=2.0.2 in /usr/local/lib/python3.7/dist-packages (from packaging>=20.0->spacy<3.1.0,>=3.0.1->en-ner-bc5cdr-md==0.4.0) (3.0.9)\n",
            "Requirement already satisfied: smart-open<6.0.0,>=5.2.1 in /usr/local/lib/python3.7/dist-packages (from pathy>=0.3.5->spacy<3.1.0,>=3.0.1->en-ner-bc5cdr-md==0.4.0) (5.2.1)\n",
            "Requirement already satisfied: chardet<4,>=3.0.2 in /usr/local/lib/python3.7/dist-packages (from requests<3.0.0,>=2.13.0->spacy<3.1.0,>=3.0.1->en-ner-bc5cdr-md==0.4.0) (3.0.4)\n",
            "Requirement already satisfied: urllib3!=1.25.0,!=1.25.1,<1.26,>=1.21.1 in /usr/local/lib/python3.7/dist-packages (from requests<3.0.0,>=2.13.0->spacy<3.1.0,>=3.0.1->en-ner-bc5cdr-md==0.4.0) (1.24.3)\n",
            "Requirement already satisfied: idna<3,>=2.5 in /usr/local/lib/python3.7/dist-packages (from requests<3.0.0,>=2.13.0->spacy<3.1.0,>=3.0.1->en-ner-bc5cdr-md==0.4.0) (2.10)\n",
            "Requirement already satisfied: certifi>=2017.4.17 in /usr/local/lib/python3.7/dist-packages (from requests<3.0.0,>=2.13.0->spacy<3.1.0,>=3.0.1->en-ner-bc5cdr-md==0.4.0) (2022.6.15)\n",
            "Requirement already satisfied: click<7.2.0,>=7.1.1 in /usr/local/lib/python3.7/dist-packages (from typer<0.4.0,>=0.3.0->spacy<3.1.0,>=3.0.1->en-ner-bc5cdr-md==0.4.0) (7.1.2)\n",
            "Requirement already satisfied: MarkupSafe>=0.23 in /usr/local/lib/python3.7/dist-packages (from jinja2->spacy<3.1.0,>=3.0.1->en-ner-bc5cdr-md==0.4.0) (2.0.1)\n",
            "Building wheels for collected packages: en-ner-bc5cdr-md\n",
            "  Building wheel for en-ner-bc5cdr-md (setup.py) ... \u001b[?25l\u001b[?25hdone\n",
            "  Created wheel for en-ner-bc5cdr-md: filename=en_ner_bc5cdr_md-0.4.0-py3-none-any.whl size=125666883 sha256=659b46cd295ef2341faa03256466746395b85df5a08fcd4a24259a0594a20b78\n",
            "  Stored in directory: /root/.cache/pip/wheels/6a/17/04/ed8f50ffdcb9b9e4ce601c0c3cf88361f2b3f54a10c0fa0803\n",
            "Successfully built en-ner-bc5cdr-md\n",
            "Installing collected packages: en-ner-bc5cdr-md\n",
            "Successfully installed en-ner-bc5cdr-md-0.4.0\n",
            "Looking in indexes: https://pypi.org/simple, https://us-python.pkg.dev/colab-wheels/public/simple/\n",
            "Collecting https://s3-us-west-2.amazonaws.com/ai2-s2-scispacy/releases/v0.4.0/en_ner_bionlp13cg_md-0.4.0.tar.gz\n",
            "  Downloading https://s3-us-west-2.amazonaws.com/ai2-s2-scispacy/releases/v0.4.0/en_ner_bionlp13cg_md-0.4.0.tar.gz (125.1 MB)\n",
            "\u001b[K     |████████████████████████████████| 125.1 MB 50 kB/s \n",
            "\u001b[?25hRequirement already satisfied: spacy<3.1.0,>=3.0.1 in /usr/local/lib/python3.7/dist-packages (from en-ner-bionlp13cg-md==0.4.0) (3.0.8)\n",
            "Requirement already satisfied: thinc<8.1.0,>=8.0.3 in /usr/local/lib/python3.7/dist-packages (from spacy<3.1.0,>=3.0.1->en-ner-bionlp13cg-md==0.4.0) (8.0.17)\n",
            "Requirement already satisfied: packaging>=20.0 in /usr/local/lib/python3.7/dist-packages (from spacy<3.1.0,>=3.0.1->en-ner-bionlp13cg-md==0.4.0) (21.3)\n",
            "Requirement already satisfied: typer<0.4.0,>=0.3.0 in /usr/local/lib/python3.7/dist-packages (from spacy<3.1.0,>=3.0.1->en-ner-bionlp13cg-md==0.4.0) (0.3.2)\n",
            "Requirement already satisfied: typing-extensions<4.0.0.0,>=3.7.4 in /usr/local/lib/python3.7/dist-packages (from spacy<3.1.0,>=3.0.1->en-ner-bionlp13cg-md==0.4.0) (3.10.0.2)\n",
            "Requirement already satisfied: cymem<2.1.0,>=2.0.2 in /usr/local/lib/python3.7/dist-packages (from spacy<3.1.0,>=3.0.1->en-ner-bionlp13cg-md==0.4.0) (2.0.6)\n",
            "Requirement already satisfied: catalogue<2.1.0,>=2.0.4 in /usr/local/lib/python3.7/dist-packages (from spacy<3.1.0,>=3.0.1->en-ner-bionlp13cg-md==0.4.0) (2.0.7)\n",
            "Requirement already satisfied: pydantic!=1.8,!=1.8.1,<1.9.0,>=1.7.4 in /usr/local/lib/python3.7/dist-packages (from spacy<3.1.0,>=3.0.1->en-ner-bionlp13cg-md==0.4.0) (1.8.2)\n",
            "Requirement already satisfied: wasabi<1.1.0,>=0.8.1 in /usr/local/lib/python3.7/dist-packages (from spacy<3.1.0,>=3.0.1->en-ner-bionlp13cg-md==0.4.0) (0.9.1)\n",
            "Requirement already satisfied: numpy>=1.15.0 in /usr/local/lib/python3.7/dist-packages (from spacy<3.1.0,>=3.0.1->en-ner-bionlp13cg-md==0.4.0) (1.21.6)\n",
            "Requirement already satisfied: spacy-legacy<3.1.0,>=3.0.5 in /usr/local/lib/python3.7/dist-packages (from spacy<3.1.0,>=3.0.1->en-ner-bionlp13cg-md==0.4.0) (3.0.9)\n",
            "Requirement already satisfied: murmurhash<1.1.0,>=0.28.0 in /usr/local/lib/python3.7/dist-packages (from spacy<3.1.0,>=3.0.1->en-ner-bionlp13cg-md==0.4.0) (1.0.7)\n",
            "Requirement already satisfied: pathy>=0.3.5 in /usr/local/lib/python3.7/dist-packages (from spacy<3.1.0,>=3.0.1->en-ner-bionlp13cg-md==0.4.0) (0.6.2)\n",
            "Requirement already satisfied: tqdm<5.0.0,>=4.38.0 in /usr/local/lib/python3.7/dist-packages (from spacy<3.1.0,>=3.0.1->en-ner-bionlp13cg-md==0.4.0) (4.64.0)\n",
            "Requirement already satisfied: blis<0.8.0,>=0.4.0 in /usr/local/lib/python3.7/dist-packages (from spacy<3.1.0,>=3.0.1->en-ner-bionlp13cg-md==0.4.0) (0.7.8)\n",
            "Requirement already satisfied: requests<3.0.0,>=2.13.0 in /usr/local/lib/python3.7/dist-packages (from spacy<3.1.0,>=3.0.1->en-ner-bionlp13cg-md==0.4.0) (2.23.0)\n",
            "Requirement already satisfied: jinja2 in /usr/local/lib/python3.7/dist-packages (from spacy<3.1.0,>=3.0.1->en-ner-bionlp13cg-md==0.4.0) (2.11.3)\n",
            "Requirement already satisfied: setuptools in /usr/local/lib/python3.7/dist-packages (from spacy<3.1.0,>=3.0.1->en-ner-bionlp13cg-md==0.4.0) (57.4.0)\n",
            "Requirement already satisfied: preshed<3.1.0,>=3.0.2 in /usr/local/lib/python3.7/dist-packages (from spacy<3.1.0,>=3.0.1->en-ner-bionlp13cg-md==0.4.0) (3.0.6)\n",
            "Requirement already satisfied: srsly<3.0.0,>=2.4.1 in /usr/local/lib/python3.7/dist-packages (from spacy<3.1.0,>=3.0.1->en-ner-bionlp13cg-md==0.4.0) (2.4.4)\n",
            "Requirement already satisfied: zipp>=0.5 in /usr/local/lib/python3.7/dist-packages (from catalogue<2.1.0,>=2.0.4->spacy<3.1.0,>=3.0.1->en-ner-bionlp13cg-md==0.4.0) (3.8.1)\n",
            "Requirement already satisfied: pyparsing!=3.0.5,>=2.0.2 in /usr/local/lib/python3.7/dist-packages (from packaging>=20.0->spacy<3.1.0,>=3.0.1->en-ner-bionlp13cg-md==0.4.0) (3.0.9)\n",
            "Requirement already satisfied: smart-open<6.0.0,>=5.2.1 in /usr/local/lib/python3.7/dist-packages (from pathy>=0.3.5->spacy<3.1.0,>=3.0.1->en-ner-bionlp13cg-md==0.4.0) (5.2.1)\n",
            "Requirement already satisfied: idna<3,>=2.5 in /usr/local/lib/python3.7/dist-packages (from requests<3.0.0,>=2.13.0->spacy<3.1.0,>=3.0.1->en-ner-bionlp13cg-md==0.4.0) (2.10)\n",
            "Requirement already satisfied: chardet<4,>=3.0.2 in /usr/local/lib/python3.7/dist-packages (from requests<3.0.0,>=2.13.0->spacy<3.1.0,>=3.0.1->en-ner-bionlp13cg-md==0.4.0) (3.0.4)\n",
            "Requirement already satisfied: certifi>=2017.4.17 in /usr/local/lib/python3.7/dist-packages (from requests<3.0.0,>=2.13.0->spacy<3.1.0,>=3.0.1->en-ner-bionlp13cg-md==0.4.0) (2022.6.15)\n",
            "Requirement already satisfied: urllib3!=1.25.0,!=1.25.1,<1.26,>=1.21.1 in /usr/local/lib/python3.7/dist-packages (from requests<3.0.0,>=2.13.0->spacy<3.1.0,>=3.0.1->en-ner-bionlp13cg-md==0.4.0) (1.24.3)\n",
            "Requirement already satisfied: click<7.2.0,>=7.1.1 in /usr/local/lib/python3.7/dist-packages (from typer<0.4.0,>=0.3.0->spacy<3.1.0,>=3.0.1->en-ner-bionlp13cg-md==0.4.0) (7.1.2)\n",
            "Requirement already satisfied: MarkupSafe>=0.23 in /usr/local/lib/python3.7/dist-packages (from jinja2->spacy<3.1.0,>=3.0.1->en-ner-bionlp13cg-md==0.4.0) (2.0.1)\n",
            "Building wheels for collected packages: en-ner-bionlp13cg-md\n",
            "  Building wheel for en-ner-bionlp13cg-md (setup.py) ... \u001b[?25l\u001b[?25hdone\n",
            "  Created wheel for en-ner-bionlp13cg-md: filename=en_ner_bionlp13cg_md-0.4.0-py3-none-any.whl size=125679333 sha256=07ea0573aebb579a6fa6090bee4af4955cd7226556a41d8fb96346bf7ec46eda\n",
            "  Stored in directory: /root/.cache/pip/wheels/dd/33/4a/14c949fd6eac7b0b20f15f111f1d3a2847e26e509d0a184d3d\n",
            "Successfully built en-ner-bionlp13cg-md\n",
            "Installing collected packages: en-ner-bionlp13cg-md\n",
            "Successfully installed en-ner-bionlp13cg-md-0.4.0\n",
            "Looking in indexes: https://pypi.org/simple, https://us-python.pkg.dev/colab-wheels/public/simple/\n",
            "Collecting https://s3-us-west-2.amazonaws.com/ai2-s2-scispacy/releases/v0.4.0/en_core_sci_lg-0.4.0.tar.gz\n",
            "  Downloading https://s3-us-west-2.amazonaws.com/ai2-s2-scispacy/releases/v0.4.0/en_core_sci_lg-0.4.0.tar.gz (538.1 MB)\n",
            "\u001b[K     |████████████████████████████████| 538.1 MB 4.9 kB/s \n",
            "\u001b[?25hRequirement already satisfied: spacy<3.1.0,>=3.0.1 in /usr/local/lib/python3.7/dist-packages (from en-core-sci-lg==0.4.0) (3.0.8)\n",
            "Requirement already satisfied: packaging>=20.0 in /usr/local/lib/python3.7/dist-packages (from spacy<3.1.0,>=3.0.1->en-core-sci-lg==0.4.0) (21.3)\n",
            "Requirement already satisfied: wasabi<1.1.0,>=0.8.1 in /usr/local/lib/python3.7/dist-packages (from spacy<3.1.0,>=3.0.1->en-core-sci-lg==0.4.0) (0.9.1)\n",
            "Requirement already satisfied: pathy>=0.3.5 in /usr/local/lib/python3.7/dist-packages (from spacy<3.1.0,>=3.0.1->en-core-sci-lg==0.4.0) (0.6.2)\n",
            "Requirement already satisfied: pydantic!=1.8,!=1.8.1,<1.9.0,>=1.7.4 in /usr/local/lib/python3.7/dist-packages (from spacy<3.1.0,>=3.0.1->en-core-sci-lg==0.4.0) (1.8.2)\n",
            "Requirement already satisfied: numpy>=1.15.0 in /usr/local/lib/python3.7/dist-packages (from spacy<3.1.0,>=3.0.1->en-core-sci-lg==0.4.0) (1.21.6)\n",
            "Requirement already satisfied: preshed<3.1.0,>=3.0.2 in /usr/local/lib/python3.7/dist-packages (from spacy<3.1.0,>=3.0.1->en-core-sci-lg==0.4.0) (3.0.6)\n",
            "Requirement already satisfied: typer<0.4.0,>=0.3.0 in /usr/local/lib/python3.7/dist-packages (from spacy<3.1.0,>=3.0.1->en-core-sci-lg==0.4.0) (0.3.2)\n",
            "Requirement already satisfied: catalogue<2.1.0,>=2.0.4 in /usr/local/lib/python3.7/dist-packages (from spacy<3.1.0,>=3.0.1->en-core-sci-lg==0.4.0) (2.0.7)\n",
            "Requirement already satisfied: blis<0.8.0,>=0.4.0 in /usr/local/lib/python3.7/dist-packages (from spacy<3.1.0,>=3.0.1->en-core-sci-lg==0.4.0) (0.7.8)\n",
            "Requirement already satisfied: murmurhash<1.1.0,>=0.28.0 in /usr/local/lib/python3.7/dist-packages (from spacy<3.1.0,>=3.0.1->en-core-sci-lg==0.4.0) (1.0.7)\n",
            "Requirement already satisfied: spacy-legacy<3.1.0,>=3.0.5 in /usr/local/lib/python3.7/dist-packages (from spacy<3.1.0,>=3.0.1->en-core-sci-lg==0.4.0) (3.0.9)\n",
            "Requirement already satisfied: jinja2 in /usr/local/lib/python3.7/dist-packages (from spacy<3.1.0,>=3.0.1->en-core-sci-lg==0.4.0) (2.11.3)\n",
            "Requirement already satisfied: srsly<3.0.0,>=2.4.1 in /usr/local/lib/python3.7/dist-packages (from spacy<3.1.0,>=3.0.1->en-core-sci-lg==0.4.0) (2.4.4)\n",
            "Requirement already satisfied: typing-extensions<4.0.0.0,>=3.7.4 in /usr/local/lib/python3.7/dist-packages (from spacy<3.1.0,>=3.0.1->en-core-sci-lg==0.4.0) (3.10.0.2)\n",
            "Requirement already satisfied: cymem<2.1.0,>=2.0.2 in /usr/local/lib/python3.7/dist-packages (from spacy<3.1.0,>=3.0.1->en-core-sci-lg==0.4.0) (2.0.6)\n",
            "Requirement already satisfied: thinc<8.1.0,>=8.0.3 in /usr/local/lib/python3.7/dist-packages (from spacy<3.1.0,>=3.0.1->en-core-sci-lg==0.4.0) (8.0.17)\n",
            "Requirement already satisfied: setuptools in /usr/local/lib/python3.7/dist-packages (from spacy<3.1.0,>=3.0.1->en-core-sci-lg==0.4.0) (57.4.0)\n",
            "Requirement already satisfied: requests<3.0.0,>=2.13.0 in /usr/local/lib/python3.7/dist-packages (from spacy<3.1.0,>=3.0.1->en-core-sci-lg==0.4.0) (2.23.0)\n",
            "Requirement already satisfied: tqdm<5.0.0,>=4.38.0 in /usr/local/lib/python3.7/dist-packages (from spacy<3.1.0,>=3.0.1->en-core-sci-lg==0.4.0) (4.64.0)\n",
            "Requirement already satisfied: zipp>=0.5 in /usr/local/lib/python3.7/dist-packages (from catalogue<2.1.0,>=2.0.4->spacy<3.1.0,>=3.0.1->en-core-sci-lg==0.4.0) (3.8.1)\n",
            "Requirement already satisfied: pyparsing!=3.0.5,>=2.0.2 in /usr/local/lib/python3.7/dist-packages (from packaging>=20.0->spacy<3.1.0,>=3.0.1->en-core-sci-lg==0.4.0) (3.0.9)\n",
            "Requirement already satisfied: smart-open<6.0.0,>=5.2.1 in /usr/local/lib/python3.7/dist-packages (from pathy>=0.3.5->spacy<3.1.0,>=3.0.1->en-core-sci-lg==0.4.0) (5.2.1)\n",
            "Requirement already satisfied: certifi>=2017.4.17 in /usr/local/lib/python3.7/dist-packages (from requests<3.0.0,>=2.13.0->spacy<3.1.0,>=3.0.1->en-core-sci-lg==0.4.0) (2022.6.15)\n",
            "Requirement already satisfied: idna<3,>=2.5 in /usr/local/lib/python3.7/dist-packages (from requests<3.0.0,>=2.13.0->spacy<3.1.0,>=3.0.1->en-core-sci-lg==0.4.0) (2.10)\n",
            "Requirement already satisfied: chardet<4,>=3.0.2 in /usr/local/lib/python3.7/dist-packages (from requests<3.0.0,>=2.13.0->spacy<3.1.0,>=3.0.1->en-core-sci-lg==0.4.0) (3.0.4)\n",
            "Requirement already satisfied: urllib3!=1.25.0,!=1.25.1,<1.26,>=1.21.1 in /usr/local/lib/python3.7/dist-packages (from requests<3.0.0,>=2.13.0->spacy<3.1.0,>=3.0.1->en-core-sci-lg==0.4.0) (1.24.3)\n",
            "Requirement already satisfied: click<7.2.0,>=7.1.1 in /usr/local/lib/python3.7/dist-packages (from typer<0.4.0,>=0.3.0->spacy<3.1.0,>=3.0.1->en-core-sci-lg==0.4.0) (7.1.2)\n",
            "Requirement already satisfied: MarkupSafe>=0.23 in /usr/local/lib/python3.7/dist-packages (from jinja2->spacy<3.1.0,>=3.0.1->en-core-sci-lg==0.4.0) (2.0.1)\n",
            "Building wheels for collected packages: en-core-sci-lg\n",
            "  Building wheel for en-core-sci-lg (setup.py) ... \u001b[?25l\u001b[?25hdone\n",
            "  Created wheel for en-core-sci-lg: filename=en_core_sci_lg-0.4.0-py3-none-any.whl size=538899689 sha256=a1dc31cd4f412de80e969b6d4f68847b5a4d730b04077bc42b79479a9af70318\n",
            "  Stored in directory: /root/.cache/pip/wheels/87/6f/e6/a51909709009e9a36e5385cff94257a7fc036ff2f9670e71f8\n",
            "Successfully built en-core-sci-lg\n",
            "Installing collected packages: en-core-sci-lg\n",
            "Successfully installed en-core-sci-lg-0.4.0\n"
          ]
        }
      ]
    },
    {
      "cell_type": "code",
      "source": [
        "import scispacy\n",
        "import spacy\n",
        "\n",
        "#Core models\n",
        "import en_core_sci_sm\n",
        "import en_core_sci_lg\n",
        "\n",
        "#NER specific models\n",
        "import en_ner_craft_md\n",
        "import en_ner_bc5cdr_md\n",
        "import en_ner_jnlpba_md\n",
        "import en_ner_bionlp13cg_md\n",
        "\n",
        "#Tools for extracting & displaying data\n",
        "from spacy import displacy\n",
        "import pandas as pd"
      ],
      "metadata": {
        "id": "-F2bhjkYxcUj"
      },
      "id": "-F2bhjkYxcUj",
      "execution_count": 52,
      "outputs": []
    },
    {
      "cell_type": "code",
      "source": [
        "nullindexlist[:10]"
      ],
      "metadata": {
        "colab": {
          "base_uri": "https://localhost:8080/"
        },
        "id": "GryF2tOoax92",
        "outputId": "2217acb8-cdac-449e-c168-72dee2dc1694"
      },
      "id": "GryF2tOoax92",
      "execution_count": 53,
      "outputs": [
        {
          "output_type": "execute_result",
          "data": {
            "text/plain": [
              "[0, 3, 5, 20, 40, 60, 67, 77, 79, 87]"
            ]
          },
          "metadata": {},
          "execution_count": 53
        }
      ]
    },
    {
      "cell_type": "code",
      "source": [
        "CHLDiab1DirtyNameIndexEngDelSIMILAR[11]"
      ],
      "metadata": {
        "colab": {
          "base_uri": "https://localhost:8080/"
        },
        "id": "dBydlWYJbSo_",
        "outputId": "df3e7e82-72dc-4657-b969-74ebb37ce573"
      },
      "id": "dBydlWYJbSo_",
      "execution_count": 54,
      "outputs": [
        {
          "output_type": "execute_result",
          "data": {
            "text/plain": [
              "['METFORMIN',\n",
              " 'PATIENTS',\n",
              " 'INTOLERANTS',\n",
              " 'METFORMIN',\n",
              " 'GENERIC',\n",
              " 'EXCIPIENTS',\n",
              " 'POLYVIDONE',\n",
              " 'STEARATE',\n",
              " 'MAGNESIUM',\n",
              " 'METHYL HYDROXYPROPYL CELLULOSE',\n",
              " 'TABLETS',\n",
              " 'PATIENTS',\n",
              " 'INTOLERANTS',\n",
              " 'METFORMIN',\n",
              " 'GENERIC',\n",
              " 'CONTAINER',\n",
              " 'CLINICAL']"
            ]
          },
          "metadata": {},
          "execution_count": 54
        }
      ]
    },
    {
      "cell_type": "code",
      "source": [
        "#Load specific model and pass text through\n",
        "nlp = en_core_sci_lg.load()"
      ],
      "metadata": {
        "id": "aVCgAVkNfyzp"
      },
      "id": "aVCgAVkNfyzp",
      "execution_count": 55,
      "outputs": []
    },
    {
      "cell_type": "code",
      "source": [
        "#Load specific model and pass text through\n",
        "#nlp = en_core_sci_lg.load()\n",
        "#doc = nlp(CHLDiab1DirtyNameIndexEngDelSIMILAR3)\n",
        "\n",
        "#Display resulting entity extraction\n",
        "#displacy_image = displacy.render(doc, jupyter=True,style='ent')"
      ],
      "metadata": {
        "id": "p4X72ikdbSkC"
      },
      "id": "p4X72ikdbSkC",
      "execution_count": null,
      "outputs": []
    },
    {
      "cell_type": "markdown",
      "source": [
        "an example for spacy"
      ],
      "metadata": {
        "id": "ryiR1M92gBJ2"
      },
      "id": "ryiR1M92gBJ2"
    },
    {
      "cell_type": "code",
      "source": [
        "CHLDiab1DirtyNameIndexEngDelSIMILAR[11]"
      ],
      "metadata": {
        "id": "Cv3VX1GnbSdt",
        "colab": {
          "base_uri": "https://localhost:8080/"
        },
        "outputId": "cc4df663-93e9-45c1-b06e-280130c3284d"
      },
      "id": "Cv3VX1GnbSdt",
      "execution_count": 56,
      "outputs": [
        {
          "output_type": "execute_result",
          "data": {
            "text/plain": [
              "['METFORMIN',\n",
              " 'PATIENTS',\n",
              " 'INTOLERANTS',\n",
              " 'METFORMIN',\n",
              " 'GENERIC',\n",
              " 'EXCIPIENTS',\n",
              " 'POLYVIDONE',\n",
              " 'STEARATE',\n",
              " 'MAGNESIUM',\n",
              " 'METHYL HYDROXYPROPYL CELLULOSE',\n",
              " 'TABLETS',\n",
              " 'PATIENTS',\n",
              " 'INTOLERANTS',\n",
              " 'METFORMIN',\n",
              " 'GENERIC',\n",
              " 'CONTAINER',\n",
              " 'CLINICAL']"
            ]
          },
          "metadata": {},
          "execution_count": 56
        }
      ]
    },
    {
      "cell_type": "code",
      "source": [
        "CHLDiab1DirtyNameIndexEngDelSIMILAR11 = str(' '.join(CHLDiab1DirtyNameIndexEngDelSIMILAR[11]))"
      ],
      "metadata": {
        "id": "_6nY_NmQbbSs"
      },
      "id": "_6nY_NmQbbSs",
      "execution_count": 57,
      "outputs": []
    },
    {
      "cell_type": "code",
      "source": [
        "doc = nlp(CHLDiab1DirtyNameIndexEngDelSIMILAR11)\n",
        "\n",
        "#Display resulting entity extraction\n",
        "displacy_image = displacy.render(doc, jupyter=True,style='ent')"
      ],
      "metadata": {
        "id": "hffvkHfVbSa3",
        "colab": {
          "base_uri": "https://localhost:8080/",
          "height": 122
        },
        "outputId": "edbf2af8-19d5-4cf1-c1be-24b1e6f8fd83"
      },
      "id": "hffvkHfVbSa3",
      "execution_count": 58,
      "outputs": [
        {
          "output_type": "display_data",
          "data": {
            "text/plain": [
              "<IPython.core.display.HTML object>"
            ],
            "text/html": [
              "<span class=\"tex2jax_ignore\"><div class=\"entities\" style=\"line-height: 2.5; direction: ltr\">\n",
              "<mark class=\"entity\" style=\"background: #ddd; padding: 0.45em 0.6em; margin: 0 0.25em; line-height: 1; border-radius: 0.35em;\">\n",
              "    METFORMIN\n",
              "    <span style=\"font-size: 0.8em; font-weight: bold; line-height: 1; border-radius: 0.35em; vertical-align: middle; margin-left: 0.5rem\">ENTITY</span>\n",
              "</mark>\n",
              " PATIENTS \n",
              "<mark class=\"entity\" style=\"background: #ddd; padding: 0.45em 0.6em; margin: 0 0.25em; line-height: 1; border-radius: 0.35em;\">\n",
              "    INTOLERANTS\n",
              "    <span style=\"font-size: 0.8em; font-weight: bold; line-height: 1; border-radius: 0.35em; vertical-align: middle; margin-left: 0.5rem\">ENTITY</span>\n",
              "</mark>\n",
              " METFORMIN \n",
              "<mark class=\"entity\" style=\"background: #ddd; padding: 0.45em 0.6em; margin: 0 0.25em; line-height: 1; border-radius: 0.35em;\">\n",
              "    GENERIC\n",
              "    <span style=\"font-size: 0.8em; font-weight: bold; line-height: 1; border-radius: 0.35em; vertical-align: middle; margin-left: 0.5rem\">ENTITY</span>\n",
              "</mark>\n",
              " EXCIPIENTS \n",
              "<mark class=\"entity\" style=\"background: #ddd; padding: 0.45em 0.6em; margin: 0 0.25em; line-height: 1; border-radius: 0.35em;\">\n",
              "    POLYVIDONE\n",
              "    <span style=\"font-size: 0.8em; font-weight: bold; line-height: 1; border-radius: 0.35em; vertical-align: middle; margin-left: 0.5rem\">ENTITY</span>\n",
              "</mark>\n",
              " STEARATE MAGNESIUM METHYL \n",
              "<mark class=\"entity\" style=\"background: #ddd; padding: 0.45em 0.6em; margin: 0 0.25em; line-height: 1; border-radius: 0.35em;\">\n",
              "    HYDROXYPROPYL\n",
              "    <span style=\"font-size: 0.8em; font-weight: bold; line-height: 1; border-radius: 0.35em; vertical-align: middle; margin-left: 0.5rem\">ENTITY</span>\n",
              "</mark>\n",
              " CELLULOSE TABLETS PATIENTS \n",
              "<mark class=\"entity\" style=\"background: #ddd; padding: 0.45em 0.6em; margin: 0 0.25em; line-height: 1; border-radius: 0.35em;\">\n",
              "    INTOLERANTS\n",
              "    <span style=\"font-size: 0.8em; font-weight: bold; line-height: 1; border-radius: 0.35em; vertical-align: middle; margin-left: 0.5rem\">ENTITY</span>\n",
              "</mark>\n",
              " METFORMIN \n",
              "<mark class=\"entity\" style=\"background: #ddd; padding: 0.45em 0.6em; margin: 0 0.25em; line-height: 1; border-radius: 0.35em;\">\n",
              "    GENERIC\n",
              "    <span style=\"font-size: 0.8em; font-weight: bold; line-height: 1; border-radius: 0.35em; vertical-align: middle; margin-left: 0.5rem\">ENTITY</span>\n",
              "</mark>\n",
              " \n",
              "<mark class=\"entity\" style=\"background: #ddd; padding: 0.45em 0.6em; margin: 0 0.25em; line-height: 1; border-radius: 0.35em;\">\n",
              "    CONTAINER\n",
              "    <span style=\"font-size: 0.8em; font-weight: bold; line-height: 1; border-radius: 0.35em; vertical-align: middle; margin-left: 0.5rem\">ENTITY</span>\n",
              "</mark>\n",
              " CLINICAL</div></span>"
            ]
          },
          "metadata": {}
        }
      ]
    },
    {
      "cell_type": "code",
      "source": [
        "doc.text"
      ],
      "metadata": {
        "id": "V8sC1nHybSYH",
        "colab": {
          "base_uri": "https://localhost:8080/",
          "height": 52
        },
        "outputId": "b30c6ee0-b767-4906-c562-d99f7244fb42"
      },
      "id": "V8sC1nHybSYH",
      "execution_count": 59,
      "outputs": [
        {
          "output_type": "execute_result",
          "data": {
            "text/plain": [
              "'METFORMIN PATIENTS INTOLERANTS METFORMIN GENERIC EXCIPIENTS POLYVIDONE STEARATE MAGNESIUM METHYL HYDROXYPROPYL CELLULOSE TABLETS PATIENTS INTOLERANTS METFORMIN GENERIC CONTAINER CLINICAL'"
            ],
            "application/vnd.google.colaboratory.intrinsic+json": {
              "type": "string"
            }
          },
          "metadata": {},
          "execution_count": 59
        }
      ]
    },
    {
      "cell_type": "markdown",
      "source": [
        "for these drug names in Chile 1, which are not paired with clean index, use spacy nlp to choose the appropriate name"
      ],
      "metadata": {
        "id": "0jz8eafJgWYQ"
      },
      "id": "0jz8eafJgWYQ"
    },
    {
      "cell_type": "code",
      "source": [
        "Chile1drugOutDataName = []\n",
        "for nullindex in nullindexlist:\n",
        "  tempChiledrugname = CHLDiab1DirtyNameIndexEngDelSIMILAR[nullindex]\n",
        "  tempChiledrugname_str = str(' '.join(tempChiledrugname))\n",
        "  doc = nlp(tempChiledrugname_str)\n",
        "  temptext = doc.text\n",
        "  Chile1drugOutDataName.append(temptext)"
      ],
      "metadata": {
        "id": "CdLfr67qbSVb"
      },
      "id": "CdLfr67qbSVb",
      "execution_count": 60,
      "outputs": []
    },
    {
      "cell_type": "code",
      "source": [
        "Chile1drugOutDataName[:10]"
      ],
      "metadata": {
        "id": "Bti0cIvybSSE",
        "colab": {
          "base_uri": "https://localhost:8080/"
        },
        "outputId": "d5343642-71c0-44c3-8035-af408c430e6c"
      },
      "id": "Bti0cIvybSSE",
      "execution_count": 61,
      "outputs": [
        {
          "output_type": "execute_result",
          "data": {
            "text/plain": [
              "['GLAUPAX',\n",
              " 'Jalra',\n",
              " 'Decades',\n",
              " 'JANUMET TABLETS',\n",
              " 'TABLET',\n",
              " 'AMARYL 1000MG',\n",
              " 'JANUMET COVERED',\n",
              " 'SAXAGLYPTINA TABLETS COATED PRESENTATION SALE PUBLIC CONVENIENT SINCE POINT VISTA PRECIO ANY LESS MONTHS EFFECTIVENESS CERTIFICATE BELIEVE IT MANUFACTURED COUNTRIES AGENCIES SURVEILLANCE',\n",
              " 'HIPOGLUCIN',\n",
              " 'X IG duo 1000MG']"
            ]
          },
          "metadata": {},
          "execution_count": 61
        }
      ]
    },
    {
      "cell_type": "markdown",
      "source": [
        "there are still 12 drug names without index"
      ],
      "metadata": {
        "id": "LCXkrul1g3xT"
      },
      "id": "LCXkrul1g3xT"
    },
    {
      "cell_type": "code",
      "source": [
        "Chile1drugOutDataNameNullNumber = 0\n",
        "\n",
        "for i in Chile1drugOutDataName:\n",
        "  if not i:\n",
        "    Chile1drugOutDataNameNullNumber += 1"
      ],
      "metadata": {
        "id": "5jTYD4A1bSOZ"
      },
      "id": "5jTYD4A1bSOZ",
      "execution_count": 62,
      "outputs": []
    },
    {
      "cell_type": "code",
      "source": [
        "Chile1drugOutDataNameNullNumber"
      ],
      "metadata": {
        "id": "Acf2sQ-PbSHE",
        "colab": {
          "base_uri": "https://localhost:8080/"
        },
        "outputId": "1d542c17-8cef-4c77-e7fb-271421381889"
      },
      "id": "Acf2sQ-PbSHE",
      "execution_count": 63,
      "outputs": [
        {
          "output_type": "execute_result",
          "data": {
            "text/plain": [
              "12"
            ]
          },
          "metadata": {},
          "execution_count": 63
        }
      ]
    },
    {
      "cell_type": "code",
      "source": [
        "Chile1drugOutDataNameNullIndex = []\n",
        "\n",
        "for i in range(0, len(Chile1drugOutDataName)):\n",
        "  if not Chile1drugOutDataName[i]:\n",
        "    Chile1drugOutDataNameNullIndex.append(i)\n"
      ],
      "metadata": {
        "id": "Bv3ZmcmodURa"
      },
      "id": "Bv3ZmcmodURa",
      "execution_count": 64,
      "outputs": []
    },
    {
      "cell_type": "code",
      "source": [
        "Chile1drugOutDataNameNullIndex"
      ],
      "metadata": {
        "colab": {
          "base_uri": "https://localhost:8080/"
        },
        "id": "iXcY3KVHdUD9",
        "outputId": "9a18bf7c-1376-4b7a-a082-e861b8d4a27c"
      },
      "id": "iXcY3KVHdUD9",
      "execution_count": 65,
      "outputs": [
        {
          "output_type": "execute_result",
          "data": {
            "text/plain": [
              "[13, 45, 111, 136, 139, 193, 261, 262, 306, 326, 396, 444]"
            ]
          },
          "metadata": {},
          "execution_count": 65
        }
      ]
    },
    {
      "cell_type": "code",
      "source": [
        "# for these null element in CHIfnIndex list, use Chile1drugOutDataName to complete them\n",
        "j = 0\n",
        "for i in nullindexlist:\n",
        "  CHIfinIndex[i] = Chile1drugOutDataName[j]\n",
        "  j += 1\n"
      ],
      "metadata": {
        "id": "5sQ3n8uAdprN"
      },
      "id": "5sQ3n8uAdprN",
      "execution_count": 66,
      "outputs": []
    },
    {
      "cell_type": "code",
      "source": [
        "len(nullindexlist)"
      ],
      "metadata": {
        "colab": {
          "base_uri": "https://localhost:8080/"
        },
        "id": "pUHH-eAZdpop",
        "outputId": "12a07c07-bf43-4f5b-f84c-473362252994"
      },
      "id": "pUHH-eAZdpop",
      "execution_count": 67,
      "outputs": [
        {
          "output_type": "execute_result",
          "data": {
            "text/plain": [
              "447"
            ]
          },
          "metadata": {},
          "execution_count": 67
        }
      ]
    },
    {
      "cell_type": "code",
      "source": [
        "for i in range(0, len(CHIfinIndex)):\n",
        "  if not CHIfinIndex[i]:\n",
        "    print(i)"
      ],
      "metadata": {
        "colab": {
          "base_uri": "https://localhost:8080/"
        },
        "id": "AwIgifPpdpdh",
        "outputId": "d2419778-59f2-4fdd-80db-31cd21966d82"
      },
      "id": "AwIgifPpdpdh",
      "execution_count": 68,
      "outputs": [
        {
          "output_type": "stream",
          "name": "stdout",
          "text": [
            "105\n",
            "350\n",
            "903\n",
            "1063\n",
            "1089\n",
            "1576\n",
            "2090\n",
            "2095\n",
            "2379\n",
            "2510\n",
            "3149\n",
            "3647\n"
          ]
        }
      ]
    },
    {
      "cell_type": "code",
      "source": [
        "for index in range(len(CHIfinIndex)):\n",
        "  if not CHIfinIndex[index]:\n",
        "    CHIfinIndex[index] = CHLDiab1DirtyNameIndexEngDelSIMILAR[index]"
      ],
      "metadata": {
        "id": "knX3B_4VdpRD"
      },
      "id": "knX3B_4VdpRD",
      "execution_count": 69,
      "outputs": []
    },
    {
      "cell_type": "code",
      "source": [
        "nullindex = []\n",
        "for index in range(len(CHIfinIndex)):\n",
        "  if not CHIfinIndex[index]:\n",
        "    nullindex.append(index)"
      ],
      "metadata": {
        "id": "fnxwEHefSfw6"
      },
      "id": "fnxwEHefSfw6",
      "execution_count": 70,
      "outputs": []
    },
    {
      "cell_type": "code",
      "source": [
        "nullindex"
      ],
      "metadata": {
        "colab": {
          "base_uri": "https://localhost:8080/"
        },
        "id": "fydn6e1GSftW",
        "outputId": "92a7d719-f870-40ff-c502-0a9921e67ae4"
      },
      "id": "fydn6e1GSftW",
      "execution_count": 71,
      "outputs": [
        {
          "output_type": "execute_result",
          "data": {
            "text/plain": [
              "[105, 350, 903, 1063, 1089, 1576, 2090, 2095, 2379, 2510, 3149, 3647]"
            ]
          },
          "metadata": {},
          "execution_count": 71
        }
      ]
    },
    {
      "cell_type": "markdown",
      "source": [
        "check for the chile 1 drug index to get the presentation and weight"
      ],
      "metadata": {
        "id": "ijTBNaKTpWxe"
      },
      "id": "ijTBNaKTpWxe"
    },
    {
      "cell_type": "code",
      "source": [
        "ChilePreList = []\n",
        "\n",
        "for item in CHLDiab1DirtyNameIndexEngDelSIMILAR:\n",
        "  addlist = []\n",
        "  for subitem in item:\n",
        "    if subitem in PresentationDiction2:\n",
        "      addlist.append(subitem)\n",
        "  ChilePreList.append(list(set(addlist)))"
      ],
      "metadata": {
        "id": "6KGBWzc3ryH5"
      },
      "id": "6KGBWzc3ryH5",
      "execution_count": 72,
      "outputs": []
    },
    {
      "cell_type": "code",
      "source": [
        "WeightList = []\n",
        "\n",
        "for item in CHLDiab1DirtyNameUSpl:\n",
        "  addlist = []\n",
        "  for subitem in range(0, len(item)):\n",
        "    if item[subitem].isdigit():\n",
        "      if subitem + 1 < len(item):\n",
        "        if item[subitem + 1].lower() in ['mg', 'ml']:\n",
        "          addlist.append(item[subitem])\n",
        "          addlist.append(item[subitem + 1])\n",
        "  WeightList.append(list(set(addlist)))"
      ],
      "metadata": {
        "id": "a3PSv0SsuTed"
      },
      "id": "a3PSv0SsuTed",
      "execution_count": 73,
      "outputs": []
    },
    {
      "cell_type": "code",
      "source": [
        "print(len(CHIfinIndex), len(ChilePreList), len(WeightList))"
      ],
      "metadata": {
        "colab": {
          "base_uri": "https://localhost:8080/"
        },
        "id": "_rtviEqtvVLE",
        "outputId": "e2757d8c-ad39-40a4-ad52-d2af978a3c2a"
      },
      "id": "_rtviEqtvVLE",
      "execution_count": 74,
      "outputs": [
        {
          "output_type": "stream",
          "name": "stdout",
          "text": [
            "3663 3663 3663\n"
          ]
        }
      ]
    },
    {
      "cell_type": "code",
      "source": [
        "# for catalog name index dataframe, transform list to string\n",
        "str_CHIfinIndex = []\n",
        "for item in CHIfinIndex:\n",
        "  if not isinstance(item, str):\n",
        "    addsub = []\n",
        "    for subitem in item:\n",
        "      if subitem:\n",
        "        addsub.append(subitem)\n",
        "        newitem = ' '.join(addsub)\n",
        "  else:\n",
        "    newitem = item\n",
        "\n",
        "  str_CHIfinIndex.append(newitem)"
      ],
      "metadata": {
        "id": "Ik_fYPUwyC_U"
      },
      "id": "Ik_fYPUwyC_U",
      "execution_count": 76,
      "outputs": []
    },
    {
      "cell_type": "code",
      "source": [
        "str_CHIfinIndex[:4]"
      ],
      "metadata": {
        "colab": {
          "base_uri": "https://localhost:8080/"
        },
        "id": "tUQY085Vz0i7",
        "outputId": "e940279d-51b4-4a79-d291-0705571a50cb"
      },
      "id": "tUQY085Vz0i7",
      "execution_count": 77,
      "outputs": [
        {
          "output_type": "execute_result",
          "data": {
            "text/plain": [
              "['GLAUPAX', 'SITAGLIPTIN METFORMIN', 'INSULIN', 'Jalra']"
            ]
          },
          "metadata": {},
          "execution_count": 77
        }
      ]
    },
    {
      "cell_type": "code",
      "source": [
        "str_ChilePreList = []\n",
        "\n",
        "for item in ChilePreList:\n",
        "  newitem = ' '.join(item)\n",
        "  str_ChilePreList.append(newitem)"
      ],
      "metadata": {
        "id": "GeSkk6Xp0p63"
      },
      "id": "GeSkk6Xp0p63",
      "execution_count": 78,
      "outputs": []
    },
    {
      "cell_type": "code",
      "source": [
        "str_WeightList = []\n",
        "\n",
        "for item in WeightList:\n",
        "  newitem = ' '.join(item)\n",
        "  str_WeightList.append(newitem)"
      ],
      "metadata": {
        "id": "IUXnRsOy1JE8"
      },
      "id": "IUXnRsOy1JE8",
      "execution_count": 79,
      "outputs": []
    },
    {
      "cell_type": "code",
      "source": [
        "Chile1DrugDataWrite = {\"Chile Dirty Name English\": CHLDiab1DirtyNameUEng, \"Final Drug Index\": str_CHIfinIndex, \"Presentation Form\": str_ChilePreList, \"Weight\": str_WeightList}"
      ],
      "metadata": {
        "id": "AonCE6KtvU_O"
      },
      "id": "AonCE6KtvU_O",
      "execution_count": 82,
      "outputs": []
    },
    {
      "cell_type": "code",
      "source": [
        "Chile1DrugDataWrite_df = pd.DataFrame(Chile1DrugDataWrite)"
      ],
      "metadata": {
        "id": "vJNxzb-hvVlF"
      },
      "id": "vJNxzb-hvVlF",
      "execution_count": 83,
      "outputs": []
    },
    {
      "cell_type": "code",
      "source": [
        "Chile1DrugDataWrite_df"
      ],
      "metadata": {
        "colab": {
          "base_uri": "https://localhost:8080/",
          "height": 606
        },
        "id": "MjavKtEww-20",
        "outputId": "2340a06d-5bf4-4937-e805-ee36657562a5"
      },
      "id": "MjavKtEww-20",
      "execution_count": 84,
      "outputs": [
        {
          "output_type": "execute_result",
          "data": {
            "text/plain": [
              "                               Chile Dirty Name English  \\\n",
              "0     GLAUPAX XR 1,000 MG OR SIMILAR (METFORMIN) 30 ...   \n",
              "1        SITAGLIPTIN / METFORMIN 50/100, BOX 56 TABLETS   \n",
              "2                      TOUJEO 300U-ML INSULINA GLARGINA   \n",
              "3                          JALRA M 50/1000 MG X 28 COMP   \n",
              "4     INSULIN GLARGINE 300 IU/ML X 1.5 ML (DISPOSABL...   \n",
              "...                                                 ...   \n",
              "3658  LINAGLIPTINE 2.5 MG AND METHFORMINE HYDRODYDRA...   \n",
              "3659  EMPAGLIFLOZIN/METFORMIN 12.5/850 MGENVASE X 60...   \n",
              "3660             FAST CRYSTALLINE INSULIN AMPOULE 10ML.   \n",
              "3661  VILDAGLIPTINE 50MG/ METFORMIN 850MG, AS REQUES...   \n",
              "3662                                METFORMIN 850 MG CM   \n",
              "\n",
              "                         Final Drug Index Presentation Form    Weight  \n",
              "0                                 GLAUPAX                      MG 000  \n",
              "1                   SITAGLIPTIN METFORMIN                              \n",
              "2                                 INSULIN                              \n",
              "3                                   Jalra                     1000 MG  \n",
              "4                                 INSULIN                        ML 5  \n",
              "...                                   ...               ...       ...  \n",
              "3658  LINAGLIPTIN METFORMIN HYDROCHLORIDE                    850 MG 5  \n",
              "3659                            METFORMIN            COATED            \n",
              "3660                              INSULIN            BOTTLE            \n",
              "3661                            METFORMIN                              \n",
              "3662                            METFORMIN                      850 MG  \n",
              "\n",
              "[3663 rows x 4 columns]"
            ],
            "text/html": [
              "\n",
              "  <div id=\"df-1f08077a-2cb2-4dff-9a22-48cf371740ff\">\n",
              "    <div class=\"colab-df-container\">\n",
              "      <div>\n",
              "<style scoped>\n",
              "    .dataframe tbody tr th:only-of-type {\n",
              "        vertical-align: middle;\n",
              "    }\n",
              "\n",
              "    .dataframe tbody tr th {\n",
              "        vertical-align: top;\n",
              "    }\n",
              "\n",
              "    .dataframe thead th {\n",
              "        text-align: right;\n",
              "    }\n",
              "</style>\n",
              "<table border=\"1\" class=\"dataframe\">\n",
              "  <thead>\n",
              "    <tr style=\"text-align: right;\">\n",
              "      <th></th>\n",
              "      <th>Chile Dirty Name English</th>\n",
              "      <th>Final Drug Index</th>\n",
              "      <th>Presentation Form</th>\n",
              "      <th>Weight</th>\n",
              "    </tr>\n",
              "  </thead>\n",
              "  <tbody>\n",
              "    <tr>\n",
              "      <th>0</th>\n",
              "      <td>GLAUPAX XR 1,000 MG OR SIMILAR (METFORMIN) 30 ...</td>\n",
              "      <td>GLAUPAX</td>\n",
              "      <td></td>\n",
              "      <td>MG 000</td>\n",
              "    </tr>\n",
              "    <tr>\n",
              "      <th>1</th>\n",
              "      <td>SITAGLIPTIN / METFORMIN 50/100, BOX 56 TABLETS</td>\n",
              "      <td>SITAGLIPTIN METFORMIN</td>\n",
              "      <td></td>\n",
              "      <td></td>\n",
              "    </tr>\n",
              "    <tr>\n",
              "      <th>2</th>\n",
              "      <td>TOUJEO 300U-ML INSULINA GLARGINA</td>\n",
              "      <td>INSULIN</td>\n",
              "      <td></td>\n",
              "      <td></td>\n",
              "    </tr>\n",
              "    <tr>\n",
              "      <th>3</th>\n",
              "      <td>JALRA M 50/1000 MG X 28 COMP</td>\n",
              "      <td>Jalra</td>\n",
              "      <td></td>\n",
              "      <td>1000 MG</td>\n",
              "    </tr>\n",
              "    <tr>\n",
              "      <th>4</th>\n",
              "      <td>INSULIN GLARGINE 300 IU/ML X 1.5 ML (DISPOSABL...</td>\n",
              "      <td>INSULIN</td>\n",
              "      <td></td>\n",
              "      <td>ML 5</td>\n",
              "    </tr>\n",
              "    <tr>\n",
              "      <th>...</th>\n",
              "      <td>...</td>\n",
              "      <td>...</td>\n",
              "      <td>...</td>\n",
              "      <td>...</td>\n",
              "    </tr>\n",
              "    <tr>\n",
              "      <th>3658</th>\n",
              "      <td>LINAGLIPTINE 2.5 MG AND METHFORMINE HYDRODYDRA...</td>\n",
              "      <td>LINAGLIPTIN METFORMIN HYDROCHLORIDE</td>\n",
              "      <td></td>\n",
              "      <td>850 MG 5</td>\n",
              "    </tr>\n",
              "    <tr>\n",
              "      <th>3659</th>\n",
              "      <td>EMPAGLIFLOZIN/METFORMIN 12.5/850 MGENVASE X 60...</td>\n",
              "      <td>METFORMIN</td>\n",
              "      <td>COATED</td>\n",
              "      <td></td>\n",
              "    </tr>\n",
              "    <tr>\n",
              "      <th>3660</th>\n",
              "      <td>FAST CRYSTALLINE INSULIN AMPOULE 10ML.</td>\n",
              "      <td>INSULIN</td>\n",
              "      <td>BOTTLE</td>\n",
              "      <td></td>\n",
              "    </tr>\n",
              "    <tr>\n",
              "      <th>3661</th>\n",
              "      <td>VILDAGLIPTINE 50MG/ METFORMIN 850MG, AS REQUES...</td>\n",
              "      <td>METFORMIN</td>\n",
              "      <td></td>\n",
              "      <td></td>\n",
              "    </tr>\n",
              "    <tr>\n",
              "      <th>3662</th>\n",
              "      <td>METFORMIN 850 MG CM</td>\n",
              "      <td>METFORMIN</td>\n",
              "      <td></td>\n",
              "      <td>850 MG</td>\n",
              "    </tr>\n",
              "  </tbody>\n",
              "</table>\n",
              "<p>3663 rows × 4 columns</p>\n",
              "</div>\n",
              "      <button class=\"colab-df-convert\" onclick=\"convertToInteractive('df-1f08077a-2cb2-4dff-9a22-48cf371740ff')\"\n",
              "              title=\"Convert this dataframe to an interactive table.\"\n",
              "              style=\"display:none;\">\n",
              "        \n",
              "  <svg xmlns=\"http://www.w3.org/2000/svg\" height=\"24px\"viewBox=\"0 0 24 24\"\n",
              "       width=\"24px\">\n",
              "    <path d=\"M0 0h24v24H0V0z\" fill=\"none\"/>\n",
              "    <path d=\"M18.56 5.44l.94 2.06.94-2.06 2.06-.94-2.06-.94-.94-2.06-.94 2.06-2.06.94zm-11 1L8.5 8.5l.94-2.06 2.06-.94-2.06-.94L8.5 2.5l-.94 2.06-2.06.94zm10 10l.94 2.06.94-2.06 2.06-.94-2.06-.94-.94-2.06-.94 2.06-2.06.94z\"/><path d=\"M17.41 7.96l-1.37-1.37c-.4-.4-.92-.59-1.43-.59-.52 0-1.04.2-1.43.59L10.3 9.45l-7.72 7.72c-.78.78-.78 2.05 0 2.83L4 21.41c.39.39.9.59 1.41.59.51 0 1.02-.2 1.41-.59l7.78-7.78 2.81-2.81c.8-.78.8-2.07 0-2.86zM5.41 20L4 18.59l7.72-7.72 1.47 1.35L5.41 20z\"/>\n",
              "  </svg>\n",
              "      </button>\n",
              "      \n",
              "  <style>\n",
              "    .colab-df-container {\n",
              "      display:flex;\n",
              "      flex-wrap:wrap;\n",
              "      gap: 12px;\n",
              "    }\n",
              "\n",
              "    .colab-df-convert {\n",
              "      background-color: #E8F0FE;\n",
              "      border: none;\n",
              "      border-radius: 50%;\n",
              "      cursor: pointer;\n",
              "      display: none;\n",
              "      fill: #1967D2;\n",
              "      height: 32px;\n",
              "      padding: 0 0 0 0;\n",
              "      width: 32px;\n",
              "    }\n",
              "\n",
              "    .colab-df-convert:hover {\n",
              "      background-color: #E2EBFA;\n",
              "      box-shadow: 0px 1px 2px rgba(60, 64, 67, 0.3), 0px 1px 3px 1px rgba(60, 64, 67, 0.15);\n",
              "      fill: #174EA6;\n",
              "    }\n",
              "\n",
              "    [theme=dark] .colab-df-convert {\n",
              "      background-color: #3B4455;\n",
              "      fill: #D2E3FC;\n",
              "    }\n",
              "\n",
              "    [theme=dark] .colab-df-convert:hover {\n",
              "      background-color: #434B5C;\n",
              "      box-shadow: 0px 1px 3px 1px rgba(0, 0, 0, 0.15);\n",
              "      filter: drop-shadow(0px 1px 2px rgba(0, 0, 0, 0.3));\n",
              "      fill: #FFFFFF;\n",
              "    }\n",
              "  </style>\n",
              "\n",
              "      <script>\n",
              "        const buttonEl =\n",
              "          document.querySelector('#df-1f08077a-2cb2-4dff-9a22-48cf371740ff button.colab-df-convert');\n",
              "        buttonEl.style.display =\n",
              "          google.colab.kernel.accessAllowed ? 'block' : 'none';\n",
              "\n",
              "        async function convertToInteractive(key) {\n",
              "          const element = document.querySelector('#df-1f08077a-2cb2-4dff-9a22-48cf371740ff');\n",
              "          const dataTable =\n",
              "            await google.colab.kernel.invokeFunction('convertToInteractive',\n",
              "                                                     [key], {});\n",
              "          if (!dataTable) return;\n",
              "\n",
              "          const docLinkHtml = 'Like what you see? Visit the ' +\n",
              "            '<a target=\"_blank\" href=https://colab.research.google.com/notebooks/data_table.ipynb>data table notebook</a>'\n",
              "            + ' to learn more about interactive tables.';\n",
              "          element.innerHTML = '';\n",
              "          dataTable['output_type'] = 'display_data';\n",
              "          await google.colab.output.renderOutput(dataTable, element);\n",
              "          const docLink = document.createElement('div');\n",
              "          docLink.innerHTML = docLinkHtml;\n",
              "          element.appendChild(docLink);\n",
              "        }\n",
              "      </script>\n",
              "    </div>\n",
              "  </div>\n",
              "  "
            ]
          },
          "metadata": {},
          "execution_count": 84
        }
      ]
    },
    {
      "cell_type": "code",
      "source": [
        "Chile1DrugDataWrite_df.to_excel(\"Chile1DrugDataWrite.xlsx\", sheet_name = 'Chile1DrugDataWrite')  "
      ],
      "metadata": {
        "id": "63IFNFP1xIWj"
      },
      "id": "63IFNFP1xIWj",
      "execution_count": 85,
      "outputs": []
    },
    {
      "cell_type": "markdown",
      "source": [
        "## Part 3: Analysis about 1.0 Result"
      ],
      "metadata": {
        "id": "sn6bKpQ_Ut9a"
      },
      "id": "sn6bKpQ_Ut9a"
    },
    {
      "cell_type": "code",
      "source": [
        "Chile_1_Result_1_0 = pd.read_excel('1.0 Chile 1 Result.xlsx')"
      ],
      "metadata": {
        "id": "ciUjetZnUzqg"
      },
      "id": "ciUjetZnUzqg",
      "execution_count": 87,
      "outputs": []
    },
    {
      "cell_type": "code",
      "source": [
        "Chile_1_Result_1_0.head(10)"
      ],
      "metadata": {
        "colab": {
          "base_uri": "https://localhost:8080/",
          "height": 563
        },
        "id": "JNkZML1RWPil",
        "outputId": "eef587f8-f6e6-46a4-8d21-5c0bc9748b8d"
      },
      "id": "JNkZML1RWPil",
      "execution_count": 88,
      "outputs": [
        {
          "output_type": "execute_result",
          "data": {
            "text/plain": [
              "   Unnamed: 0                Chile drugs english uppercase names  \\\n",
              "0           0  METFORMIN (HYDROCHLORIDE) COATED TABLET 850 MG...   \n",
              "1           1  METFORMIN 1000 MG PROLONGED RELEASE TABLETS. C...   \n",
              "2           2                      METFORMIN 1000 COATED TABLETS   \n",
              "3           3  INSULIN DEGLUDEC 100 UI /ML X 3 ML SIMILAR TO ...   \n",
              "4           4  • DAPAGLIFLOZIN (AS PROPANEDIOL) 5 MG. AND MET...   \n",
              "5           5                 METFORMIN 500 MG PROLONGED RELEASE   \n",
              "6           6                                INSULINA RP ELECSYS   \n",
              "7           7  METFORMIN 750 MG, PROLONGED RELEASE (SIMILAR T...   \n",
              "8           8  INSULIN GLARGINE 300 IU/ML PENCIL 1.5 ML+15 NE...   \n",
              "9           9  METFORMINA/VILDAGLIPTINA, DE 30 COMP. (50 MG/8...   \n",
              "\n",
              "                           Final paired catalog name Determine  \n",
              "0  METFORMIN 500 MG (HYDROCHLORIDE), TABLET, BLIS...         Y  \n",
              "1  SITAGLIPTIN 100 MG + METFORMIN 1000 MG, TABLET...         H  \n",
              "2                     METFORMIN 1000 MG, TABLET, TBD         Y  \n",
              "3                    AZATHIOPRINE 50 MG, TABLET, TBD         N  \n",
              "4  METFORMIN 500 MG (HYDROCHLORIDE), TABLET, BLIS...         H  \n",
              "5                      METFORMIN 850 MG, TABLET, TBD         Y  \n",
              "6  INSULIN GLULISINE 100 UI/ML, SOLUTION FOR INJE...         Y  \n",
              "7  SITAGLIPTIN 50 MG + METFORMIN 850 MG, TABLET, TBD         H  \n",
              "8                    DAPAGLIFOZIN 10 MG, TABLET, TBD         N  \n",
              "9  EMPAGLIFLOZIN 12.5 MG + METFORMIN 850 MG, TABL...         H  "
            ],
            "text/html": [
              "\n",
              "  <div id=\"df-543c0db2-0ee8-4a84-b3b3-ff5ca77fcc98\">\n",
              "    <div class=\"colab-df-container\">\n",
              "      <div>\n",
              "<style scoped>\n",
              "    .dataframe tbody tr th:only-of-type {\n",
              "        vertical-align: middle;\n",
              "    }\n",
              "\n",
              "    .dataframe tbody tr th {\n",
              "        vertical-align: top;\n",
              "    }\n",
              "\n",
              "    .dataframe thead th {\n",
              "        text-align: right;\n",
              "    }\n",
              "</style>\n",
              "<table border=\"1\" class=\"dataframe\">\n",
              "  <thead>\n",
              "    <tr style=\"text-align: right;\">\n",
              "      <th></th>\n",
              "      <th>Unnamed: 0</th>\n",
              "      <th>Chile drugs english uppercase names</th>\n",
              "      <th>Final paired catalog name</th>\n",
              "      <th>Determine</th>\n",
              "    </tr>\n",
              "  </thead>\n",
              "  <tbody>\n",
              "    <tr>\n",
              "      <th>0</th>\n",
              "      <td>0</td>\n",
              "      <td>METFORMIN (HYDROCHLORIDE) COATED TABLET 850 MG...</td>\n",
              "      <td>METFORMIN 500 MG (HYDROCHLORIDE), TABLET, BLIS...</td>\n",
              "      <td>Y</td>\n",
              "    </tr>\n",
              "    <tr>\n",
              "      <th>1</th>\n",
              "      <td>1</td>\n",
              "      <td>METFORMIN 1000 MG PROLONGED RELEASE TABLETS. C...</td>\n",
              "      <td>SITAGLIPTIN 100 MG + METFORMIN 1000 MG, TABLET...</td>\n",
              "      <td>H</td>\n",
              "    </tr>\n",
              "    <tr>\n",
              "      <th>2</th>\n",
              "      <td>2</td>\n",
              "      <td>METFORMIN 1000 COATED TABLETS</td>\n",
              "      <td>METFORMIN 1000 MG, TABLET, TBD</td>\n",
              "      <td>Y</td>\n",
              "    </tr>\n",
              "    <tr>\n",
              "      <th>3</th>\n",
              "      <td>3</td>\n",
              "      <td>INSULIN DEGLUDEC 100 UI /ML X 3 ML SIMILAR TO ...</td>\n",
              "      <td>AZATHIOPRINE 50 MG, TABLET, TBD</td>\n",
              "      <td>N</td>\n",
              "    </tr>\n",
              "    <tr>\n",
              "      <th>4</th>\n",
              "      <td>4</td>\n",
              "      <td>• DAPAGLIFLOZIN (AS PROPANEDIOL) 5 MG. AND MET...</td>\n",
              "      <td>METFORMIN 500 MG (HYDROCHLORIDE), TABLET, BLIS...</td>\n",
              "      <td>H</td>\n",
              "    </tr>\n",
              "    <tr>\n",
              "      <th>5</th>\n",
              "      <td>5</td>\n",
              "      <td>METFORMIN 500 MG PROLONGED RELEASE</td>\n",
              "      <td>METFORMIN 850 MG, TABLET, TBD</td>\n",
              "      <td>Y</td>\n",
              "    </tr>\n",
              "    <tr>\n",
              "      <th>6</th>\n",
              "      <td>6</td>\n",
              "      <td>INSULINA RP ELECSYS</td>\n",
              "      <td>INSULIN GLULISINE 100 UI/ML, SOLUTION FOR INJE...</td>\n",
              "      <td>Y</td>\n",
              "    </tr>\n",
              "    <tr>\n",
              "      <th>7</th>\n",
              "      <td>7</td>\n",
              "      <td>METFORMIN 750 MG, PROLONGED RELEASE (SIMILAR T...</td>\n",
              "      <td>SITAGLIPTIN 50 MG + METFORMIN 850 MG, TABLET, TBD</td>\n",
              "      <td>H</td>\n",
              "    </tr>\n",
              "    <tr>\n",
              "      <th>8</th>\n",
              "      <td>8</td>\n",
              "      <td>INSULIN GLARGINE 300 IU/ML PENCIL 1.5 ML+15 NE...</td>\n",
              "      <td>DAPAGLIFOZIN 10 MG, TABLET, TBD</td>\n",
              "      <td>N</td>\n",
              "    </tr>\n",
              "    <tr>\n",
              "      <th>9</th>\n",
              "      <td>9</td>\n",
              "      <td>METFORMINA/VILDAGLIPTINA, DE 30 COMP. (50 MG/8...</td>\n",
              "      <td>EMPAGLIFLOZIN 12.5 MG + METFORMIN 850 MG, TABL...</td>\n",
              "      <td>H</td>\n",
              "    </tr>\n",
              "  </tbody>\n",
              "</table>\n",
              "</div>\n",
              "      <button class=\"colab-df-convert\" onclick=\"convertToInteractive('df-543c0db2-0ee8-4a84-b3b3-ff5ca77fcc98')\"\n",
              "              title=\"Convert this dataframe to an interactive table.\"\n",
              "              style=\"display:none;\">\n",
              "        \n",
              "  <svg xmlns=\"http://www.w3.org/2000/svg\" height=\"24px\"viewBox=\"0 0 24 24\"\n",
              "       width=\"24px\">\n",
              "    <path d=\"M0 0h24v24H0V0z\" fill=\"none\"/>\n",
              "    <path d=\"M18.56 5.44l.94 2.06.94-2.06 2.06-.94-2.06-.94-.94-2.06-.94 2.06-2.06.94zm-11 1L8.5 8.5l.94-2.06 2.06-.94-2.06-.94L8.5 2.5l-.94 2.06-2.06.94zm10 10l.94 2.06.94-2.06 2.06-.94-2.06-.94-.94-2.06-.94 2.06-2.06.94z\"/><path d=\"M17.41 7.96l-1.37-1.37c-.4-.4-.92-.59-1.43-.59-.52 0-1.04.2-1.43.59L10.3 9.45l-7.72 7.72c-.78.78-.78 2.05 0 2.83L4 21.41c.39.39.9.59 1.41.59.51 0 1.02-.2 1.41-.59l7.78-7.78 2.81-2.81c.8-.78.8-2.07 0-2.86zM5.41 20L4 18.59l7.72-7.72 1.47 1.35L5.41 20z\"/>\n",
              "  </svg>\n",
              "      </button>\n",
              "      \n",
              "  <style>\n",
              "    .colab-df-container {\n",
              "      display:flex;\n",
              "      flex-wrap:wrap;\n",
              "      gap: 12px;\n",
              "    }\n",
              "\n",
              "    .colab-df-convert {\n",
              "      background-color: #E8F0FE;\n",
              "      border: none;\n",
              "      border-radius: 50%;\n",
              "      cursor: pointer;\n",
              "      display: none;\n",
              "      fill: #1967D2;\n",
              "      height: 32px;\n",
              "      padding: 0 0 0 0;\n",
              "      width: 32px;\n",
              "    }\n",
              "\n",
              "    .colab-df-convert:hover {\n",
              "      background-color: #E2EBFA;\n",
              "      box-shadow: 0px 1px 2px rgba(60, 64, 67, 0.3), 0px 1px 3px 1px rgba(60, 64, 67, 0.15);\n",
              "      fill: #174EA6;\n",
              "    }\n",
              "\n",
              "    [theme=dark] .colab-df-convert {\n",
              "      background-color: #3B4455;\n",
              "      fill: #D2E3FC;\n",
              "    }\n",
              "\n",
              "    [theme=dark] .colab-df-convert:hover {\n",
              "      background-color: #434B5C;\n",
              "      box-shadow: 0px 1px 3px 1px rgba(0, 0, 0, 0.15);\n",
              "      filter: drop-shadow(0px 1px 2px rgba(0, 0, 0, 0.3));\n",
              "      fill: #FFFFFF;\n",
              "    }\n",
              "  </style>\n",
              "\n",
              "      <script>\n",
              "        const buttonEl =\n",
              "          document.querySelector('#df-543c0db2-0ee8-4a84-b3b3-ff5ca77fcc98 button.colab-df-convert');\n",
              "        buttonEl.style.display =\n",
              "          google.colab.kernel.accessAllowed ? 'block' : 'none';\n",
              "\n",
              "        async function convertToInteractive(key) {\n",
              "          const element = document.querySelector('#df-543c0db2-0ee8-4a84-b3b3-ff5ca77fcc98');\n",
              "          const dataTable =\n",
              "            await google.colab.kernel.invokeFunction('convertToInteractive',\n",
              "                                                     [key], {});\n",
              "          if (!dataTable) return;\n",
              "\n",
              "          const docLinkHtml = 'Like what you see? Visit the ' +\n",
              "            '<a target=\"_blank\" href=https://colab.research.google.com/notebooks/data_table.ipynb>data table notebook</a>'\n",
              "            + ' to learn more about interactive tables.';\n",
              "          element.innerHTML = '';\n",
              "          dataTable['output_type'] = 'display_data';\n",
              "          await google.colab.output.renderOutput(dataTable, element);\n",
              "          const docLink = document.createElement('div');\n",
              "          docLink.innerHTML = docLinkHtml;\n",
              "          element.appendChild(docLink);\n",
              "        }\n",
              "      </script>\n",
              "    </div>\n",
              "  </div>\n",
              "  "
            ]
          },
          "metadata": {},
          "execution_count": 88
        }
      ]
    },
    {
      "cell_type": "code",
      "source": [
        "Chile_1_Result_1_0['Determine'].count()"
      ],
      "metadata": {
        "colab": {
          "base_uri": "https://localhost:8080/"
        },
        "id": "oZ7O9e3fWTTQ",
        "outputId": "7f645d56-d780-41e2-80a9-147246946c4a"
      },
      "id": "oZ7O9e3fWTTQ",
      "execution_count": 89,
      "outputs": [
        {
          "output_type": "execute_result",
          "data": {
            "text/plain": [
              "3662"
            ]
          },
          "metadata": {},
          "execution_count": 89
        }
      ]
    },
    {
      "cell_type": "code",
      "source": [
        "Chile_1_Result_1_0['Determine'][Chile_1_Result_1_0['Determine'] == 'Y'].count()"
      ],
      "metadata": {
        "colab": {
          "base_uri": "https://localhost:8080/"
        },
        "id": "ojTWzg2LWwzX",
        "outputId": "b3e4a462-0e9c-42c6-b0d6-f61aa61aa2b8"
      },
      "id": "ojTWzg2LWwzX",
      "execution_count": 91,
      "outputs": [
        {
          "output_type": "execute_result",
          "data": {
            "text/plain": [
              "1501"
            ]
          },
          "metadata": {},
          "execution_count": 91
        }
      ]
    },
    {
      "cell_type": "code",
      "source": [
        "Chile_1_Result_1_0['Determine'][Chile_1_Result_1_0['Determine'] == 'H'].count()"
      ],
      "metadata": {
        "colab": {
          "base_uri": "https://localhost:8080/"
        },
        "id": "c2nZXH7VW4AD",
        "outputId": "3fc4b97a-8267-4d62-e1e7-17603ac0ba54"
      },
      "id": "c2nZXH7VW4AD",
      "execution_count": 92,
      "outputs": [
        {
          "output_type": "execute_result",
          "data": {
            "text/plain": [
              "1213"
            ]
          },
          "metadata": {},
          "execution_count": 92
        }
      ]
    },
    {
      "cell_type": "code",
      "source": [
        "Chile_1_Result_1_0['Determine'][Chile_1_Result_1_0['Determine'] == 'N'].count()"
      ],
      "metadata": {
        "colab": {
          "base_uri": "https://localhost:8080/"
        },
        "id": "wJDVkGx_W-y6",
        "outputId": "2205338a-d614-40d1-814f-7524ccf58baf"
      },
      "id": "wJDVkGx_W-y6",
      "execution_count": 93,
      "outputs": [
        {
          "output_type": "execute_result",
          "data": {
            "text/plain": [
              "948"
            ]
          },
          "metadata": {},
          "execution_count": 93
        }
      ]
    }
  ],
  "metadata": {
    "kernelspec": {
      "display_name": "Python 3 (ipykernel)",
      "language": "python",
      "name": "python3"
    },
    "language_info": {
      "codemirror_mode": {
        "name": "ipython",
        "version": 3
      },
      "file_extension": ".py",
      "mimetype": "text/x-python",
      "name": "python",
      "nbconvert_exporter": "python",
      "pygments_lexer": "ipython3",
      "version": "3.9.7"
    },
    "colab": {
      "name": "3.0 Data Mapping for Chile 1 (Write drug name).ipynb",
      "provenance": [],
      "include_colab_link": true
    }
  },
  "nbformat": 4,
  "nbformat_minor": 5
}
