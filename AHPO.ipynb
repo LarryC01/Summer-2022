{
  "cells": [
    {
      "cell_type": "markdown",
      "metadata": {
        "id": "view-in-github",
        "colab_type": "text"
      },
      "source": [
        "<a href=\"https://colab.research.google.com/github/wenjunc2/Summer-2022/blob/main/AHPO.ipynb\" target=\"_parent\"><img src=\"https://colab.research.google.com/assets/colab-badge.svg\" alt=\"Open In Colab\"/></a>"
      ]
    },
    {
      "cell_type": "markdown",
      "source": [
        "check the work direction"
      ],
      "metadata": {
        "id": "4qriPV8xnPkK"
      },
      "id": "4qriPV8xnPkK"
    },
    {
      "cell_type": "code",
      "execution_count": null,
      "id": "b3fa8107",
      "metadata": {
        "id": "b3fa8107"
      },
      "outputs": [],
      "source": [
        "import pandas as pd"
      ]
    },
    {
      "cell_type": "code",
      "source": [
        "import os\n",
        "cwd = os.getcwd()"
      ],
      "metadata": {
        "id": "2uvLA_LqcdiB"
      },
      "id": "2uvLA_LqcdiB",
      "execution_count": null,
      "outputs": []
    },
    {
      "cell_type": "code",
      "source": [
        "cwd"
      ],
      "metadata": {
        "colab": {
          "base_uri": "https://localhost:8080/",
          "height": 35
        },
        "id": "2XD8nQyQb1Ki",
        "outputId": "cce7dd64-a71b-4820-e7c5-8020ea208921"
      },
      "id": "2XD8nQyQb1Ki",
      "execution_count": null,
      "outputs": [
        {
          "output_type": "execute_result",
          "data": {
            "text/plain": [
              "'/content'"
            ],
            "application/vnd.google.colaboratory.intrinsic+json": {
              "type": "string"
            }
          },
          "metadata": {},
          "execution_count": 3
        }
      ]
    },
    {
      "cell_type": "markdown",
      "source": [
        "read into the data"
      ],
      "metadata": {
        "id": "EduuvGfiimX9"
      },
      "id": "EduuvGfiimX9"
    },
    {
      "cell_type": "code",
      "source": [
        "CleanDataBase = pd.read_excel('CleanDataBase.xlsx')"
      ],
      "metadata": {
        "id": "yusdT6pHiTtA"
      },
      "id": "yusdT6pHiTtA",
      "execution_count": null,
      "outputs": []
    },
    {
      "cell_type": "markdown",
      "source": [
        "### Data Exploretion"
      ],
      "metadata": {
        "id": "u9XupW1dlOY6"
      },
      "id": "u9XupW1dlOY6"
    },
    {
      "cell_type": "markdown",
      "source": [
        "display the structure of dataset, the unique number of country code, and country product name"
      ],
      "metadata": {
        "id": "qApjvtv6lPBq"
      },
      "id": "qApjvtv6lPBq"
    },
    {
      "cell_type": "code",
      "source": [
        "str(CleanDataBase)"
      ],
      "metadata": {
        "colab": {
          "base_uri": "https://localhost:8080/",
          "height": 144
        },
        "id": "Rj5nCaC3ilJJ",
        "outputId": "4e430c04-164d-4031-87cb-e80875af982a"
      },
      "id": "Rj5nCaC3ilJJ",
      "execution_count": null,
      "outputs": [
        {
          "output_type": "execute_result",
          "data": {
            "text/plain": [
              "'      Country Code           Entity Entity Type Point of Delivery  \\\\\\n0              BHS          BHS MOH         MOH               NaN   \\n1              BHS          BHS MOH         MOH               NaN   \\n2              BHS          BHS MOH         MOH               NaN   \\n3              BHS          BHS MOH         MOH               NaN   \\n4              BHS          BHS MOH         MOH               NaN   \\n...            ...              ...         ...               ...   \\n14332          SLV  Ayudame a vivir   Fundacion           Unknown   \\n14333          SLV  Ayudame a vivir   Fundacion           Unknown   \\n14334          SLV  Ayudame a vivir   Fundacion           Unknown   \\n14335          SLV  Ayudame a vivir   Fundacion           Unknown   \\n14336          SLV  Ayudame a vivir   Fundacion           Unknown   \\n\\n      Purchase Mechanism  Program   Region          Therapeutic Area  \\\\\\n0                Unknown      NaN      NaN  Cardiovascular medicines   \\n1                Unknown      NaN      NaN  Cardiovascular medicines   \\n2                Unknown      NaN      NaN  Cardiovascular medicines   \\n3                Unknown      NaN      NaN  Cardiovascular medicines   \\n4                Unknown      NaN      NaN  Cardiovascular medicines   \\n...                  ...      ...      ...                       ...   \\n14332            Unknown  Unknown  Unknown           Antineoplastics   \\n14333            Unknown  Unknown  Unknown           Antineoplastics   \\n14334            Unknown  Unknown  Unknown           Antineoplastics   \\n14335            Unknown  Unknown  Unknown           Antineoplastics   \\n14336            Unknown  Unknown  Unknown           Antineoplastics   \\n\\n                                    Country Product Name  \\\\\\n0                                             AMLODIPINE   \\n1                                             AMLODIPINE   \\n2                                         CHLORTHALIDONE   \\n3                                     HYDROCHLOROTIAZIDE   \\n4                                             LISINOPRIL   \\n...                                                  ...   \\n14332  Asparginasa Pegilada , Un vial de 5 ml de solu...   \\n14333  L-Asparginasa, Polvo para solucion inyectable....   \\n14334                     Metotrexato, Tableta de 2.5mg.   \\n14335  Metotrexato, Solución inyectable. Frasco vial ...   \\n14336  Mitoxantrona, Solución para inyectable. Frasco...   \\n\\n                             Country Product Description  Generic  \\\\\\n0                                                TABLETS  Unknown   \\n1                                                TABLETS  Unknown   \\n2                                                TABLETS  Unknown   \\n3                                                TABLETS  Unknown   \\n4                                                TABLETS  Unknown   \\n...                                                  ...      ...   \\n14332  Un vial de 5 ml de solución contiene 3,750 uni...   Unkown   \\n14333  Polvo para solucion inyectable. Frasco vial de...   Unkown   \\n14334                                  Tableta de 2.5mg.   Unkown   \\n14335     Solución inyectable. Frasco vial de 500mg/20mL   Unkown   \\n14336      Solución para inyectable. Frasco de 20mg/10mL   Unkown   \\n\\n       Subunits per Unit                                       Catalog Name  \\\\\\n0                      1            AMLODIPINE 5 MG, TABLET, BLISTER, 10X30   \\n1                      1          AMLODIPINE 10 MG, TABLET, BLISTER, 10X100   \\n2                      1        CHLORTHALIDONE 25 MG, TABLET, BLISTER, 10X3   \\n3                      1   HYDROCHLOROTHIAZIDE 25 MG, TABLET, BLISTER, 25X4   \\n4                      1            LISINOPRIL 20 MG, TABLET, BLISTER, 10X3   \\n...                  ...                                                ...   \\n14332                  1  PUSHY ASPARGINASE, A 5 ML VIAL OF SOLUTION CON...   \\n14333                  1  ASPARAGINASE\\xa010000\\xa0IU,\\xa0POWDER\\xa0FOR\\xa0INJECTION,\\xa0V...   \\n14334                  1  METHOTREXATE\\xa02.5\\xa0MG\\xa0(SODIUM\\xa0SALT),\\xa0TABLET,\\xa0BLI...   \\n14335                  1     METOTREXATE, INJECTION. 500MG/20ML ROAD BOTTLE   \\n14336                  1  MITOXANTRONA, SOLUTION FOR INJECTABLE. 20MG/10...   \\n\\n      Supplier Manufacturer Purchase Date  Purchase Year  Total Amount  \\\\\\n0      Unknown      Unknown           NaT         2021.0           NaN   \\n1      Unknown      Unknown           NaT         2021.0           NaN   \\n2      Unknown      Unknown           NaT         2021.0           NaN   \\n3      Unknown      Unknown           NaT         2021.0           NaN   \\n4      Unknown      Unknown           NaT         2021.0           NaN   \\n...        ...          ...           ...            ...           ...   \\n14332  Unknown      Unknown           NaT         2022.0        1800.0   \\n14333  Unknown      Unknown           NaT         2022.0          92.5   \\n14334  Unknown      Unknown           NaT         2022.0           0.5   \\n14335  Unknown      Unknown           NaT         2022.0          18.0   \\n14336  Unknown      Unknown           NaT         2022.0          90.0   \\n\\n       Unit Quantity  Min Unit Price USD  \\n0                NaN            0.026000  \\n1                NaN            0.019500  \\n2                NaN            0.186333  \\n3                NaN            0.010000  \\n4                NaN            0.028400  \\n...              ...                 ...  \\n14332            1.0         1800.000000  \\n14333            1.0           92.500000  \\n14334            1.0            0.500000  \\n14335            1.0           18.000000  \\n14336            1.0           90.000000  \\n\\n[14337 rows x 20 columns]'"
            ],
            "application/vnd.google.colaboratory.intrinsic+json": {
              "type": "string"
            }
          },
          "metadata": {},
          "execution_count": 5
        }
      ]
    },
    {
      "cell_type": "code",
      "source": [
        "type(CleanDataBase)"
      ],
      "metadata": {
        "colab": {
          "base_uri": "https://localhost:8080/"
        },
        "id": "DOEpvzKbi1pm",
        "outputId": "8079cef7-6a7f-4989-a15f-1eec342094b5"
      },
      "id": "DOEpvzKbi1pm",
      "execution_count": null,
      "outputs": [
        {
          "output_type": "execute_result",
          "data": {
            "text/plain": [
              "pandas.core.frame.DataFrame"
            ]
          },
          "metadata": {},
          "execution_count": 6
        }
      ]
    },
    {
      "cell_type": "code",
      "source": [
        "CleanDataBase.head()"
      ],
      "metadata": {
        "colab": {
          "base_uri": "https://localhost:8080/",
          "height": 426
        },
        "id": "Yl0fW-2hi-XT",
        "outputId": "f6b30229-25c9-480c-8b5f-2de4a46379de"
      },
      "id": "Yl0fW-2hi-XT",
      "execution_count": null,
      "outputs": [
        {
          "output_type": "execute_result",
          "data": {
            "text/plain": [
              "  Country Code   Entity Entity Type Point of Delivery Purchase Mechanism  \\\n",
              "0          BHS  BHS MOH         MOH               NaN            Unknown   \n",
              "1          BHS  BHS MOH         MOH               NaN            Unknown   \n",
              "2          BHS  BHS MOH         MOH               NaN            Unknown   \n",
              "3          BHS  BHS MOH         MOH               NaN            Unknown   \n",
              "4          BHS  BHS MOH         MOH               NaN            Unknown   \n",
              "\n",
              "  Program Region          Therapeutic Area Country Product Name  \\\n",
              "0     NaN    NaN  Cardiovascular medicines           AMLODIPINE   \n",
              "1     NaN    NaN  Cardiovascular medicines           AMLODIPINE   \n",
              "2     NaN    NaN  Cardiovascular medicines       CHLORTHALIDONE   \n",
              "3     NaN    NaN  Cardiovascular medicines   HYDROCHLOROTIAZIDE   \n",
              "4     NaN    NaN  Cardiovascular medicines           LISINOPRIL   \n",
              "\n",
              "  Country Product Description  Generic  Subunits per Unit  \\\n",
              "0                     TABLETS  Unknown                  1   \n",
              "1                     TABLETS  Unknown                  1   \n",
              "2                     TABLETS  Unknown                  1   \n",
              "3                     TABLETS  Unknown                  1   \n",
              "4                     TABLETS  Unknown                  1   \n",
              "\n",
              "                                       Catalog Name Supplier Manufacturer  \\\n",
              "0           AMLODIPINE 5 MG, TABLET, BLISTER, 10X30  Unknown      Unknown   \n",
              "1         AMLODIPINE 10 MG, TABLET, BLISTER, 10X100  Unknown      Unknown   \n",
              "2       CHLORTHALIDONE 25 MG, TABLET, BLISTER, 10X3  Unknown      Unknown   \n",
              "3  HYDROCHLOROTHIAZIDE 25 MG, TABLET, BLISTER, 25X4  Unknown      Unknown   \n",
              "4           LISINOPRIL 20 MG, TABLET, BLISTER, 10X3  Unknown      Unknown   \n",
              "\n",
              "  Purchase Date  Purchase Year  Total Amount  Unit Quantity  \\\n",
              "0           NaT         2021.0           NaN            NaN   \n",
              "1           NaT         2021.0           NaN            NaN   \n",
              "2           NaT         2021.0           NaN            NaN   \n",
              "3           NaT         2021.0           NaN            NaN   \n",
              "4           NaT         2021.0           NaN            NaN   \n",
              "\n",
              "   Min Unit Price USD  \n",
              "0            0.026000  \n",
              "1            0.019500  \n",
              "2            0.186333  \n",
              "3            0.010000  \n",
              "4            0.028400  "
            ],
            "text/html": [
              "\n",
              "  <div id=\"df-c17dae20-e9da-4993-a6b2-fb5c05d16f65\">\n",
              "    <div class=\"colab-df-container\">\n",
              "      <div>\n",
              "<style scoped>\n",
              "    .dataframe tbody tr th:only-of-type {\n",
              "        vertical-align: middle;\n",
              "    }\n",
              "\n",
              "    .dataframe tbody tr th {\n",
              "        vertical-align: top;\n",
              "    }\n",
              "\n",
              "    .dataframe thead th {\n",
              "        text-align: right;\n",
              "    }\n",
              "</style>\n",
              "<table border=\"1\" class=\"dataframe\">\n",
              "  <thead>\n",
              "    <tr style=\"text-align: right;\">\n",
              "      <th></th>\n",
              "      <th>Country Code</th>\n",
              "      <th>Entity</th>\n",
              "      <th>Entity Type</th>\n",
              "      <th>Point of Delivery</th>\n",
              "      <th>Purchase Mechanism</th>\n",
              "      <th>Program</th>\n",
              "      <th>Region</th>\n",
              "      <th>Therapeutic Area</th>\n",
              "      <th>Country Product Name</th>\n",
              "      <th>Country Product Description</th>\n",
              "      <th>Generic</th>\n",
              "      <th>Subunits per Unit</th>\n",
              "      <th>Catalog Name</th>\n",
              "      <th>Supplier</th>\n",
              "      <th>Manufacturer</th>\n",
              "      <th>Purchase Date</th>\n",
              "      <th>Purchase Year</th>\n",
              "      <th>Total Amount</th>\n",
              "      <th>Unit Quantity</th>\n",
              "      <th>Min Unit Price USD</th>\n",
              "    </tr>\n",
              "  </thead>\n",
              "  <tbody>\n",
              "    <tr>\n",
              "      <th>0</th>\n",
              "      <td>BHS</td>\n",
              "      <td>BHS MOH</td>\n",
              "      <td>MOH</td>\n",
              "      <td>NaN</td>\n",
              "      <td>Unknown</td>\n",
              "      <td>NaN</td>\n",
              "      <td>NaN</td>\n",
              "      <td>Cardiovascular medicines</td>\n",
              "      <td>AMLODIPINE</td>\n",
              "      <td>TABLETS</td>\n",
              "      <td>Unknown</td>\n",
              "      <td>1</td>\n",
              "      <td>AMLODIPINE 5 MG, TABLET, BLISTER, 10X30</td>\n",
              "      <td>Unknown</td>\n",
              "      <td>Unknown</td>\n",
              "      <td>NaT</td>\n",
              "      <td>2021.0</td>\n",
              "      <td>NaN</td>\n",
              "      <td>NaN</td>\n",
              "      <td>0.026000</td>\n",
              "    </tr>\n",
              "    <tr>\n",
              "      <th>1</th>\n",
              "      <td>BHS</td>\n",
              "      <td>BHS MOH</td>\n",
              "      <td>MOH</td>\n",
              "      <td>NaN</td>\n",
              "      <td>Unknown</td>\n",
              "      <td>NaN</td>\n",
              "      <td>NaN</td>\n",
              "      <td>Cardiovascular medicines</td>\n",
              "      <td>AMLODIPINE</td>\n",
              "      <td>TABLETS</td>\n",
              "      <td>Unknown</td>\n",
              "      <td>1</td>\n",
              "      <td>AMLODIPINE 10 MG, TABLET, BLISTER, 10X100</td>\n",
              "      <td>Unknown</td>\n",
              "      <td>Unknown</td>\n",
              "      <td>NaT</td>\n",
              "      <td>2021.0</td>\n",
              "      <td>NaN</td>\n",
              "      <td>NaN</td>\n",
              "      <td>0.019500</td>\n",
              "    </tr>\n",
              "    <tr>\n",
              "      <th>2</th>\n",
              "      <td>BHS</td>\n",
              "      <td>BHS MOH</td>\n",
              "      <td>MOH</td>\n",
              "      <td>NaN</td>\n",
              "      <td>Unknown</td>\n",
              "      <td>NaN</td>\n",
              "      <td>NaN</td>\n",
              "      <td>Cardiovascular medicines</td>\n",
              "      <td>CHLORTHALIDONE</td>\n",
              "      <td>TABLETS</td>\n",
              "      <td>Unknown</td>\n",
              "      <td>1</td>\n",
              "      <td>CHLORTHALIDONE 25 MG, TABLET, BLISTER, 10X3</td>\n",
              "      <td>Unknown</td>\n",
              "      <td>Unknown</td>\n",
              "      <td>NaT</td>\n",
              "      <td>2021.0</td>\n",
              "      <td>NaN</td>\n",
              "      <td>NaN</td>\n",
              "      <td>0.186333</td>\n",
              "    </tr>\n",
              "    <tr>\n",
              "      <th>3</th>\n",
              "      <td>BHS</td>\n",
              "      <td>BHS MOH</td>\n",
              "      <td>MOH</td>\n",
              "      <td>NaN</td>\n",
              "      <td>Unknown</td>\n",
              "      <td>NaN</td>\n",
              "      <td>NaN</td>\n",
              "      <td>Cardiovascular medicines</td>\n",
              "      <td>HYDROCHLOROTIAZIDE</td>\n",
              "      <td>TABLETS</td>\n",
              "      <td>Unknown</td>\n",
              "      <td>1</td>\n",
              "      <td>HYDROCHLOROTHIAZIDE 25 MG, TABLET, BLISTER, 25X4</td>\n",
              "      <td>Unknown</td>\n",
              "      <td>Unknown</td>\n",
              "      <td>NaT</td>\n",
              "      <td>2021.0</td>\n",
              "      <td>NaN</td>\n",
              "      <td>NaN</td>\n",
              "      <td>0.010000</td>\n",
              "    </tr>\n",
              "    <tr>\n",
              "      <th>4</th>\n",
              "      <td>BHS</td>\n",
              "      <td>BHS MOH</td>\n",
              "      <td>MOH</td>\n",
              "      <td>NaN</td>\n",
              "      <td>Unknown</td>\n",
              "      <td>NaN</td>\n",
              "      <td>NaN</td>\n",
              "      <td>Cardiovascular medicines</td>\n",
              "      <td>LISINOPRIL</td>\n",
              "      <td>TABLETS</td>\n",
              "      <td>Unknown</td>\n",
              "      <td>1</td>\n",
              "      <td>LISINOPRIL 20 MG, TABLET, BLISTER, 10X3</td>\n",
              "      <td>Unknown</td>\n",
              "      <td>Unknown</td>\n",
              "      <td>NaT</td>\n",
              "      <td>2021.0</td>\n",
              "      <td>NaN</td>\n",
              "      <td>NaN</td>\n",
              "      <td>0.028400</td>\n",
              "    </tr>\n",
              "  </tbody>\n",
              "</table>\n",
              "</div>\n",
              "      <button class=\"colab-df-convert\" onclick=\"convertToInteractive('df-c17dae20-e9da-4993-a6b2-fb5c05d16f65')\"\n",
              "              title=\"Convert this dataframe to an interactive table.\"\n",
              "              style=\"display:none;\">\n",
              "        \n",
              "  <svg xmlns=\"http://www.w3.org/2000/svg\" height=\"24px\"viewBox=\"0 0 24 24\"\n",
              "       width=\"24px\">\n",
              "    <path d=\"M0 0h24v24H0V0z\" fill=\"none\"/>\n",
              "    <path d=\"M18.56 5.44l.94 2.06.94-2.06 2.06-.94-2.06-.94-.94-2.06-.94 2.06-2.06.94zm-11 1L8.5 8.5l.94-2.06 2.06-.94-2.06-.94L8.5 2.5l-.94 2.06-2.06.94zm10 10l.94 2.06.94-2.06 2.06-.94-2.06-.94-.94-2.06-.94 2.06-2.06.94z\"/><path d=\"M17.41 7.96l-1.37-1.37c-.4-.4-.92-.59-1.43-.59-.52 0-1.04.2-1.43.59L10.3 9.45l-7.72 7.72c-.78.78-.78 2.05 0 2.83L4 21.41c.39.39.9.59 1.41.59.51 0 1.02-.2 1.41-.59l7.78-7.78 2.81-2.81c.8-.78.8-2.07 0-2.86zM5.41 20L4 18.59l7.72-7.72 1.47 1.35L5.41 20z\"/>\n",
              "  </svg>\n",
              "      </button>\n",
              "      \n",
              "  <style>\n",
              "    .colab-df-container {\n",
              "      display:flex;\n",
              "      flex-wrap:wrap;\n",
              "      gap: 12px;\n",
              "    }\n",
              "\n",
              "    .colab-df-convert {\n",
              "      background-color: #E8F0FE;\n",
              "      border: none;\n",
              "      border-radius: 50%;\n",
              "      cursor: pointer;\n",
              "      display: none;\n",
              "      fill: #1967D2;\n",
              "      height: 32px;\n",
              "      padding: 0 0 0 0;\n",
              "      width: 32px;\n",
              "    }\n",
              "\n",
              "    .colab-df-convert:hover {\n",
              "      background-color: #E2EBFA;\n",
              "      box-shadow: 0px 1px 2px rgba(60, 64, 67, 0.3), 0px 1px 3px 1px rgba(60, 64, 67, 0.15);\n",
              "      fill: #174EA6;\n",
              "    }\n",
              "\n",
              "    [theme=dark] .colab-df-convert {\n",
              "      background-color: #3B4455;\n",
              "      fill: #D2E3FC;\n",
              "    }\n",
              "\n",
              "    [theme=dark] .colab-df-convert:hover {\n",
              "      background-color: #434B5C;\n",
              "      box-shadow: 0px 1px 3px 1px rgba(0, 0, 0, 0.15);\n",
              "      filter: drop-shadow(0px 1px 2px rgba(0, 0, 0, 0.3));\n",
              "      fill: #FFFFFF;\n",
              "    }\n",
              "  </style>\n",
              "\n",
              "      <script>\n",
              "        const buttonEl =\n",
              "          document.querySelector('#df-c17dae20-e9da-4993-a6b2-fb5c05d16f65 button.colab-df-convert');\n",
              "        buttonEl.style.display =\n",
              "          google.colab.kernel.accessAllowed ? 'block' : 'none';\n",
              "\n",
              "        async function convertToInteractive(key) {\n",
              "          const element = document.querySelector('#df-c17dae20-e9da-4993-a6b2-fb5c05d16f65');\n",
              "          const dataTable =\n",
              "            await google.colab.kernel.invokeFunction('convertToInteractive',\n",
              "                                                     [key], {});\n",
              "          if (!dataTable) return;\n",
              "\n",
              "          const docLinkHtml = 'Like what you see? Visit the ' +\n",
              "            '<a target=\"_blank\" href=https://colab.research.google.com/notebooks/data_table.ipynb>data table notebook</a>'\n",
              "            + ' to learn more about interactive tables.';\n",
              "          element.innerHTML = '';\n",
              "          dataTable['output_type'] = 'display_data';\n",
              "          await google.colab.output.renderOutput(dataTable, element);\n",
              "          const docLink = document.createElement('div');\n",
              "          docLink.innerHTML = docLinkHtml;\n",
              "          element.appendChild(docLink);\n",
              "        }\n",
              "      </script>\n",
              "    </div>\n",
              "  </div>\n",
              "  "
            ]
          },
          "metadata": {},
          "execution_count": 7
        }
      ]
    },
    {
      "cell_type": "code",
      "source": [
        "Country_Code = CleanDataBase['Country Code'].unique()"
      ],
      "metadata": {
        "id": "pqUb0HOEjLwD"
      },
      "id": "pqUb0HOEjLwD",
      "execution_count": null,
      "outputs": []
    },
    {
      "cell_type": "code",
      "source": [
        "Country_Code # unique country code"
      ],
      "metadata": {
        "colab": {
          "base_uri": "https://localhost:8080/"
        },
        "id": "r6a7ObwTJBGk",
        "outputId": "e5b688e9-dd7b-42d9-be4a-05209f4e9946"
      },
      "id": "r6a7ObwTJBGk",
      "execution_count": null,
      "outputs": [
        {
          "output_type": "execute_result",
          "data": {
            "text/plain": [
              "array(['BHS', 'BMU', 'BRA', 'CHL', 'COM', 'SLV', 'ECU IESS', 'GTM', 'ARG',\n",
              "       'ECU', 'PER', 'PAN', 'COL', 'CRI', 'OECS PPS', 'TTO', 'MEX', 'DOM'],\n",
              "      dtype=object)"
            ]
          },
          "metadata": {},
          "execution_count": 9
        }
      ]
    },
    {
      "cell_type": "code",
      "source": [
        "Coutry_Product_Name = CleanDataBase['Country Product Name'].unique()"
      ],
      "metadata": {
        "id": "88zhYXp4naFc"
      },
      "id": "88zhYXp4naFc",
      "execution_count": null,
      "outputs": []
    },
    {
      "cell_type": "code",
      "source": [
        "import sys\n",
        "import numpy\n",
        "numpy.set_printoptions(threshold=sys.maxsize)"
      ],
      "metadata": {
        "id": "7YKp6JP3oEei"
      },
      "id": "7YKp6JP3oEei",
      "execution_count": null,
      "outputs": []
    },
    {
      "cell_type": "code",
      "source": [
        "#Coutry_Product_Name"
      ],
      "metadata": {
        "id": "Qzuf_jW3n4Bb"
      },
      "id": "Qzuf_jW3n4Bb",
      "execution_count": null,
      "outputs": []
    },
    {
      "cell_type": "code",
      "source": [
        "len(Coutry_Product_Name) # total unique coutry product name number"
      ],
      "metadata": {
        "colab": {
          "base_uri": "https://localhost:8080/"
        },
        "id": "yfSxWEQJoMlq",
        "outputId": "03727605-f09e-4ed3-8883-68e2adac2013"
      },
      "id": "yfSxWEQJoMlq",
      "execution_count": null,
      "outputs": [
        {
          "output_type": "execute_result",
          "data": {
            "text/plain": [
              "5012"
            ]
          },
          "metadata": {},
          "execution_count": 12
        }
      ]
    },
    {
      "cell_type": "markdown",
      "source": [
        "try to display the country product name for BHS"
      ],
      "metadata": {
        "id": "kL1h4yO9o9_-"
      },
      "id": "kL1h4yO9o9_-"
    },
    {
      "cell_type": "code",
      "source": [
        "BHS_Coutry_Product_Name = CleanDataBase[CleanDataBase['Country Code'] == 'BHS']['Country Product Name'].unique()"
      ],
      "metadata": {
        "id": "dCxAC9OjoXjL"
      },
      "id": "dCxAC9OjoXjL",
      "execution_count": null,
      "outputs": []
    },
    {
      "cell_type": "code",
      "source": [
        "BHS_Coutry_Product_Name"
      ],
      "metadata": {
        "colab": {
          "base_uri": "https://localhost:8080/"
        },
        "id": "nOmaSoaMuCEc",
        "outputId": "c85b0c1a-2666-4c5b-b607-846049606001"
      },
      "id": "nOmaSoaMuCEc",
      "execution_count": null,
      "outputs": [
        {
          "output_type": "execute_result",
          "data": {
            "text/plain": [
              "array(['AMLODIPINE', 'CHLORTHALIDONE', 'HYDROCHLOROTIAZIDE', 'LISINOPRIL',\n",
              "       'LISINOPRIL + HYDROCHLOROTHIAZIDE', 'LOSARTAN', 'METOPROLOL',\n",
              "       'TELMISARTAN', 'TELMISARTAN + AMLODIPINE'], dtype=object)"
            ]
          },
          "metadata": {},
          "execution_count": 14
        }
      ]
    },
    {
      "cell_type": "markdown",
      "source": [
        "display the number of product for each country"
      ],
      "metadata": {
        "id": "XiibOr07pqln"
      },
      "id": "XiibOr07pqln"
    },
    {
      "cell_type": "code",
      "source": [
        "Coutry_Product_Name_Number = []\n",
        "\n",
        "for name in Country_Code:\n",
        "  Coutry_Product_Name_Unique = CleanDataBase[CleanDataBase['Country Code'] == name]['Country Product Name'].unique()\n",
        "  number = len(Coutry_Product_Name_Unique)\n",
        "  Coutry_Product_Name_Number.append(number)\n"
      ],
      "metadata": {
        "id": "3Q4OMolvIxMi"
      },
      "id": "3Q4OMolvIxMi",
      "execution_count": null,
      "outputs": []
    },
    {
      "cell_type": "code",
      "source": [
        "Coutry_Product_Name_Number"
      ],
      "metadata": {
        "colab": {
          "base_uri": "https://localhost:8080/"
        },
        "id": "HIBZh7sTIxSX",
        "outputId": "a3963536-ae55-4851-aa1a-716d4921223f"
      },
      "id": "HIBZh7sTIxSX",
      "execution_count": null,
      "outputs": [
        {
          "output_type": "execute_result",
          "data": {
            "text/plain": [
              "[9, 3, 133, 3620, 24, 48, 80, 5, 1, 2, 48, 3, 899, 4, 26, 34, 1, 78]"
            ]
          },
          "metadata": {},
          "execution_count": 16
        }
      ]
    },
    {
      "cell_type": "code",
      "source": [
        "sum(Coutry_Product_Name_Number)"
      ],
      "metadata": {
        "colab": {
          "base_uri": "https://localhost:8080/"
        },
        "id": "O2IacbqukECe",
        "outputId": "eddbc7da-573d-4633-ec0d-160163a2765f"
      },
      "id": "O2IacbqukECe",
      "execution_count": null,
      "outputs": [
        {
          "output_type": "execute_result",
          "data": {
            "text/plain": [
              "5018"
            ]
          },
          "metadata": {},
          "execution_count": 18
        }
      ]
    },
    {
      "cell_type": "code",
      "source": [
        "country_data = {'BHS': [9], 'BMU': [3], 'BRA': [133], 'CHL': [3620], 'COM': [24], 'SLV': [48], 'ECU IESS': [80], 'GTM': [5], 'ARG': [1],\n",
        "       'ECU': [2], 'PER': [48], 'PAN': [3], 'COL': [899], 'CRI': [4], 'OECS PPS': [26], 'TTO': [34], 'MEX': [1], 'DOM': [78]}"
      ],
      "metadata": {
        "id": "Us-mq-MnSf_1"
      },
      "id": "Us-mq-MnSf_1",
      "execution_count": null,
      "outputs": []
    },
    {
      "cell_type": "code",
      "source": [
        "Coutry_Product = pd.DataFrame(data = country_data)"
      ],
      "metadata": {
        "id": "7c5ggtYVM6TD"
      },
      "id": "7c5ggtYVM6TD",
      "execution_count": null,
      "outputs": []
    },
    {
      "cell_type": "code",
      "source": [
        "Coutry_Product"
      ],
      "metadata": {
        "colab": {
          "base_uri": "https://localhost:8080/",
          "height": 81
        },
        "id": "jyU8ZLsRVTs9",
        "outputId": "544d570a-2ba7-451c-ac35-d14b8ffdd831"
      },
      "id": "jyU8ZLsRVTs9",
      "execution_count": null,
      "outputs": [
        {
          "output_type": "execute_result",
          "data": {
            "text/plain": [
              "   BHS  BMU  BRA   CHL  COM  SLV  ECU IESS  GTM  ARG  ECU  PER  PAN  COL  CRI  \\\n",
              "0    9    3  133  3620   24   48        80    5    1    2   48    3  899    4   \n",
              "\n",
              "   OECS PPS  TTO  MEX  DOM  \n",
              "0        26   34    1   78  "
            ],
            "text/html": [
              "\n",
              "  <div id=\"df-6aaff1b2-8a2e-435d-9c53-39ce69552f72\">\n",
              "    <div class=\"colab-df-container\">\n",
              "      <div>\n",
              "<style scoped>\n",
              "    .dataframe tbody tr th:only-of-type {\n",
              "        vertical-align: middle;\n",
              "    }\n",
              "\n",
              "    .dataframe tbody tr th {\n",
              "        vertical-align: top;\n",
              "    }\n",
              "\n",
              "    .dataframe thead th {\n",
              "        text-align: right;\n",
              "    }\n",
              "</style>\n",
              "<table border=\"1\" class=\"dataframe\">\n",
              "  <thead>\n",
              "    <tr style=\"text-align: right;\">\n",
              "      <th></th>\n",
              "      <th>BHS</th>\n",
              "      <th>BMU</th>\n",
              "      <th>BRA</th>\n",
              "      <th>CHL</th>\n",
              "      <th>COM</th>\n",
              "      <th>SLV</th>\n",
              "      <th>ECU IESS</th>\n",
              "      <th>GTM</th>\n",
              "      <th>ARG</th>\n",
              "      <th>ECU</th>\n",
              "      <th>PER</th>\n",
              "      <th>PAN</th>\n",
              "      <th>COL</th>\n",
              "      <th>CRI</th>\n",
              "      <th>OECS PPS</th>\n",
              "      <th>TTO</th>\n",
              "      <th>MEX</th>\n",
              "      <th>DOM</th>\n",
              "    </tr>\n",
              "  </thead>\n",
              "  <tbody>\n",
              "    <tr>\n",
              "      <th>0</th>\n",
              "      <td>9</td>\n",
              "      <td>3</td>\n",
              "      <td>133</td>\n",
              "      <td>3620</td>\n",
              "      <td>24</td>\n",
              "      <td>48</td>\n",
              "      <td>80</td>\n",
              "      <td>5</td>\n",
              "      <td>1</td>\n",
              "      <td>2</td>\n",
              "      <td>48</td>\n",
              "      <td>3</td>\n",
              "      <td>899</td>\n",
              "      <td>4</td>\n",
              "      <td>26</td>\n",
              "      <td>34</td>\n",
              "      <td>1</td>\n",
              "      <td>78</td>\n",
              "    </tr>\n",
              "  </tbody>\n",
              "</table>\n",
              "</div>\n",
              "      <button class=\"colab-df-convert\" onclick=\"convertToInteractive('df-6aaff1b2-8a2e-435d-9c53-39ce69552f72')\"\n",
              "              title=\"Convert this dataframe to an interactive table.\"\n",
              "              style=\"display:none;\">\n",
              "        \n",
              "  <svg xmlns=\"http://www.w3.org/2000/svg\" height=\"24px\"viewBox=\"0 0 24 24\"\n",
              "       width=\"24px\">\n",
              "    <path d=\"M0 0h24v24H0V0z\" fill=\"none\"/>\n",
              "    <path d=\"M18.56 5.44l.94 2.06.94-2.06 2.06-.94-2.06-.94-.94-2.06-.94 2.06-2.06.94zm-11 1L8.5 8.5l.94-2.06 2.06-.94-2.06-.94L8.5 2.5l-.94 2.06-2.06.94zm10 10l.94 2.06.94-2.06 2.06-.94-2.06-.94-.94-2.06-.94 2.06-2.06.94z\"/><path d=\"M17.41 7.96l-1.37-1.37c-.4-.4-.92-.59-1.43-.59-.52 0-1.04.2-1.43.59L10.3 9.45l-7.72 7.72c-.78.78-.78 2.05 0 2.83L4 21.41c.39.39.9.59 1.41.59.51 0 1.02-.2 1.41-.59l7.78-7.78 2.81-2.81c.8-.78.8-2.07 0-2.86zM5.41 20L4 18.59l7.72-7.72 1.47 1.35L5.41 20z\"/>\n",
              "  </svg>\n",
              "      </button>\n",
              "      \n",
              "  <style>\n",
              "    .colab-df-container {\n",
              "      display:flex;\n",
              "      flex-wrap:wrap;\n",
              "      gap: 12px;\n",
              "    }\n",
              "\n",
              "    .colab-df-convert {\n",
              "      background-color: #E8F0FE;\n",
              "      border: none;\n",
              "      border-radius: 50%;\n",
              "      cursor: pointer;\n",
              "      display: none;\n",
              "      fill: #1967D2;\n",
              "      height: 32px;\n",
              "      padding: 0 0 0 0;\n",
              "      width: 32px;\n",
              "    }\n",
              "\n",
              "    .colab-df-convert:hover {\n",
              "      background-color: #E2EBFA;\n",
              "      box-shadow: 0px 1px 2px rgba(60, 64, 67, 0.3), 0px 1px 3px 1px rgba(60, 64, 67, 0.15);\n",
              "      fill: #174EA6;\n",
              "    }\n",
              "\n",
              "    [theme=dark] .colab-df-convert {\n",
              "      background-color: #3B4455;\n",
              "      fill: #D2E3FC;\n",
              "    }\n",
              "\n",
              "    [theme=dark] .colab-df-convert:hover {\n",
              "      background-color: #434B5C;\n",
              "      box-shadow: 0px 1px 3px 1px rgba(0, 0, 0, 0.15);\n",
              "      filter: drop-shadow(0px 1px 2px rgba(0, 0, 0, 0.3));\n",
              "      fill: #FFFFFF;\n",
              "    }\n",
              "  </style>\n",
              "\n",
              "      <script>\n",
              "        const buttonEl =\n",
              "          document.querySelector('#df-6aaff1b2-8a2e-435d-9c53-39ce69552f72 button.colab-df-convert');\n",
              "        buttonEl.style.display =\n",
              "          google.colab.kernel.accessAllowed ? 'block' : 'none';\n",
              "\n",
              "        async function convertToInteractive(key) {\n",
              "          const element = document.querySelector('#df-6aaff1b2-8a2e-435d-9c53-39ce69552f72');\n",
              "          const dataTable =\n",
              "            await google.colab.kernel.invokeFunction('convertToInteractive',\n",
              "                                                     [key], {});\n",
              "          if (!dataTable) return;\n",
              "\n",
              "          const docLinkHtml = 'Like what you see? Visit the ' +\n",
              "            '<a target=\"_blank\" href=https://colab.research.google.com/notebooks/data_table.ipynb>data table notebook</a>'\n",
              "            + ' to learn more about interactive tables.';\n",
              "          element.innerHTML = '';\n",
              "          dataTable['output_type'] = 'display_data';\n",
              "          await google.colab.output.renderOutput(dataTable, element);\n",
              "          const docLink = document.createElement('div');\n",
              "          docLink.innerHTML = docLinkHtml;\n",
              "          element.appendChild(docLink);\n",
              "        }\n",
              "      </script>\n",
              "    </div>\n",
              "  </div>\n",
              "  "
            ]
          },
          "metadata": {},
          "execution_count": 23
        }
      ]
    },
    {
      "cell_type": "markdown",
      "source": [
        "create a list which contains lists about the product names for each country"
      ],
      "metadata": {
        "id": "kTC7RJfPrQv-"
      },
      "id": "kTC7RJfPrQv-"
    },
    {
      "cell_type": "code",
      "source": [
        "BHS_Coutry_Product_Name = CleanDataBase[CleanDataBase['Country Code'] == 'BHS']['Country Product Name'].unique()\n",
        "BMU_Coutry_Product_Name = CleanDataBase[CleanDataBase['Country Code'] == 'BMU']['Country Product Name'].unique()\n",
        "BRA_Coutry_Product_Name = CleanDataBase[CleanDataBase['Country Code'] == 'BRA']['Country Product Name'].unique()\n",
        "CHL_Coutry_Product_Name = CleanDataBase[CleanDataBase['Country Code'] == 'CHL']['Country Product Name'].unique()\n",
        "COM_Coutry_Product_Name = CleanDataBase[CleanDataBase['Country Code'] == 'COM']['Country Product Name'].unique()\n",
        "SLV_Coutry_Product_Name = CleanDataBase[CleanDataBase['Country Code'] == 'SLV']['Country Product Name'].unique()\n",
        "ECU_Coutry_Product_Name = CleanDataBase[CleanDataBase['Country Code'] == 'ECU']['Country Product Name'].unique()\n",
        "IESS_Coutry_Product_Name = CleanDataBase[CleanDataBase['Country Code'] == 'IESS']['Country Product Name'].unique()\n",
        "GTM_Coutry_Product_Name = CleanDataBase[CleanDataBase['Country Code'] == 'GTM']['Country Product Name'].unique()\n",
        "ARG_Coutry_Product_Name = CleanDataBase[CleanDataBase['Country Code'] == 'ARG']['Country Product Name'].unique()\n",
        "ECU_Coutry_Product_Name = CleanDataBase[CleanDataBase['Country Code'] == 'ECU']['Country Product Name'].unique()\n",
        "PER_Coutry_Product_Name = CleanDataBase[CleanDataBase['Country Code'] == 'PER']['Country Product Name'].unique()\n",
        "PAN_Coutry_Product_Name = CleanDataBase[CleanDataBase['Country Code'] == 'PAN']['Country Product Name'].unique()\n",
        "COL_Coutry_Product_Name = CleanDataBase[CleanDataBase['Country Code'] == 'COL']['Country Product Name'].unique()\n",
        "CRI_Coutry_Product_Name = CleanDataBase[CleanDataBase['Country Code'] == 'CRI']['Country Product Name'].unique()\n",
        "OECS_Coutry_Product_Name = CleanDataBase[CleanDataBase['Country Code'] == 'OECS']['Country Product Name'].unique()\n",
        "PPS_Coutry_Product_Name = CleanDataBase[CleanDataBase['Country Code'] == 'PPS']['Country Product Name'].unique()\n",
        "TTO_Coutry_Product_Name = CleanDataBase[CleanDataBase['Country Code'] == 'TTO']['Country Product Name'].unique()\n",
        "MEX_Coutry_Product_Name = CleanDataBase[CleanDataBase['Country Code'] == 'MEX']['Country Product Name'].unique()\n",
        "DOM_Coutry_Product_Name = CleanDataBase[CleanDataBase['Country Code'] == 'DOM']['Country Product Name'].unique()"
      ],
      "metadata": {
        "id": "JRhfKBixVVXr"
      },
      "id": "JRhfKBixVVXr",
      "execution_count": null,
      "outputs": []
    },
    {
      "cell_type": "code",
      "source": [
        "Coutry_Product_Names = [BHS_Coutry_Product_Name, BMU_Coutry_Product_Name, BRA_Coutry_Product_Name, CHL_Coutry_Product_Name, COM_Coutry_Product_Name, \n",
        "                        SLV_Coutry_Product_Name, ECU_Coutry_Product_Name, IESS_Coutry_Product_Name, GTM_Coutry_Product_Name, \n",
        "                        ARG_Coutry_Product_Name, ECU_Coutry_Product_Name, PER_Coutry_Product_Name, PAN_Coutry_Product_Name, \n",
        "                        COL_Coutry_Product_Name, CRI_Coutry_Product_Name, OECS_Coutry_Product_Name, PPS_Coutry_Product_Name,\n",
        "                        TTO_Coutry_Product_Name, MEX_Coutry_Product_Name, DOM_Coutry_Product_Name]"
      ],
      "metadata": {
        "id": "yfzqiJtXmOsn"
      },
      "id": "yfzqiJtXmOsn",
      "execution_count": null,
      "outputs": []
    },
    {
      "cell_type": "markdown",
      "source": [
        "Because CHL_Coutry_Product_Name has the largest number of product name, which is 3620, select CHL_Courty_Product_Name to count the frequency of each product_name, and the frequency of first word in product name (if some product names refer to the same product, the products which have the same first name should have a high possibility to refer to the same medicine?)"
      ],
      "metadata": {
        "id": "EFa-fMmp7-vR"
      },
      "id": "EFa-fMmp7-vR"
    },
    {
      "cell_type": "code",
      "source": [
        "# split the product name to each words\n",
        "CHL_Coutry_Product_Nmae_Dictionary = []\n",
        "for i in range(0, len(CHL_Coutry_Product_Name)):\n",
        "  temp_element = CHL_Coutry_Product_Name[i].split()\n",
        "  for j in range(0, len(temp_element)):\n",
        "    CHL_Coutry_Product_Nmae_Dictionary.append(temp_element[j])\n"
      ],
      "metadata": {
        "id": "hiqxx1YLq_T_"
      },
      "id": "hiqxx1YLq_T_",
      "execution_count": null,
      "outputs": []
    },
    {
      "cell_type": "code",
      "source": [
        "# change every words to upper type\n",
        "CHL_Coutry_Product_Nmae_Dictionary_Upper = []\n",
        "for i in CHL_Coutry_Product_Nmae_Dictionary:\n",
        "  temp_i = i.upper()\n",
        "  CHL_Coutry_Product_Nmae_Dictionary_Upper.append(temp_i)\n"
      ],
      "metadata": {
        "id": "8owaBFpb828K"
      },
      "id": "8owaBFpb828K",
      "execution_count": null,
      "outputs": []
    },
    {
      "cell_type": "code",
      "source": [
        "#CHL_Coutry_Product_Nmae_Dictionary_Upper"
      ],
      "metadata": {
        "id": "8eFIfcdE9lTR"
      },
      "id": "8eFIfcdE9lTR",
      "execution_count": null,
      "outputs": []
    },
    {
      "cell_type": "code",
      "source": [
        "# change list to set to delete the multiple words (only keep the unique one)\n",
        "CHL_Coutry_Product_Nmae_Dictionary_Upper_Set = set(CHL_Coutry_Product_Nmae_Dictionary_Upper)"
      ],
      "metadata": {
        "id": "ep-y9TbO_6uO"
      },
      "id": "ep-y9TbO_6uO",
      "execution_count": null,
      "outputs": []
    },
    {
      "cell_type": "code",
      "source": [
        "len(CHL_Coutry_Product_Nmae_Dictionary_Upper_Set) # unique words"
      ],
      "metadata": {
        "colab": {
          "base_uri": "https://localhost:8080/"
        },
        "id": "ec7M_wuZLHox",
        "outputId": "dca325b0-6ac1-4fa8-98cb-6d5b392aa292"
      },
      "id": "ec7M_wuZLHox",
      "execution_count": null,
      "outputs": [
        {
          "output_type": "execute_result",
          "data": {
            "text/plain": [
              "3015"
            ]
          },
          "metadata": {},
          "execution_count": 29
        }
      ]
    },
    {
      "cell_type": "code",
      "source": [
        "len(CHL_Coutry_Product_Nmae_Dictionary_Upper) # (multiple) words total number"
      ],
      "metadata": {
        "colab": {
          "base_uri": "https://localhost:8080/"
        },
        "id": "v3HjgtBJLUp0",
        "outputId": "cf741df9-1a25-4996-eb0d-087906325187"
      },
      "id": "v3HjgtBJLUp0",
      "execution_count": null,
      "outputs": [
        {
          "output_type": "execute_result",
          "data": {
            "text/plain": [
              "33563"
            ]
          },
          "metadata": {},
          "execution_count": 30
        }
      ]
    },
    {
      "cell_type": "code",
      "source": [
        "import collections\n",
        "CHL_Coutry_Product_Nmae_Dictionary_Upper_counter=collections.Counter(CHL_Coutry_Product_Nmae_Dictionary_Upper)\n"
      ],
      "metadata": {
        "id": "3RaNS-1LLZX1"
      },
      "id": "3RaNS-1LLZX1",
      "execution_count": null,
      "outputs": []
    },
    {
      "cell_type": "code",
      "source": [
        "from itertools import islice\n",
        "\n",
        "def take(n, iterable):\n",
        "    \"Return first n items of the iterable as a list\"\n",
        "    return list(islice(iterable, n))\n",
        "\n",
        "n_items = take(10, CHL_Coutry_Product_Nmae_Dictionary_Upper_counter.items())\n",
        "#print(CHL_Coutry_Product_Nmae_Dictionary_Upper_counter)"
      ],
      "metadata": {
        "id": "6Nlc_FfiVs4q"
      },
      "id": "6Nlc_FfiVs4q",
      "execution_count": null,
      "outputs": []
    },
    {
      "cell_type": "markdown",
      "source": [
        "try to count (only) the first word in each product name"
      ],
      "metadata": {
        "id": "GcTlSMDw5MxN"
      },
      "id": "GcTlSMDw5MxN"
    },
    {
      "cell_type": "code",
      "source": [
        "CHL_Coutry_Product_Nmae_Dictionary_Upper_First = []\n",
        "for i in range(0, len(CHL_Coutry_Product_Name)):\n",
        "  temp_element = CHL_Coutry_Product_Name[i].split()\n",
        "  temp_element_first = temp_element[0].upper()\n",
        "  CHL_Coutry_Product_Nmae_Dictionary_Upper_First.append(temp_element_first)\n"
      ],
      "metadata": {
        "id": "ro0BEZH-V202"
      },
      "id": "ro0BEZH-V202",
      "execution_count": null,
      "outputs": []
    },
    {
      "cell_type": "code",
      "source": [
        "len(CHL_Coutry_Product_Name)"
      ],
      "metadata": {
        "colab": {
          "base_uri": "https://localhost:8080/"
        },
        "id": "EkOsboGIYO_K",
        "outputId": "59ba0557-96ac-4c05-ae4f-c42346e15b6c"
      },
      "id": "EkOsboGIYO_K",
      "execution_count": null,
      "outputs": [
        {
          "output_type": "execute_result",
          "data": {
            "text/plain": [
              "3620"
            ]
          },
          "metadata": {},
          "execution_count": 34
        }
      ]
    },
    {
      "cell_type": "code",
      "source": [
        "len(CHL_Coutry_Product_Nmae_Dictionary_Upper_First)"
      ],
      "metadata": {
        "colab": {
          "base_uri": "https://localhost:8080/"
        },
        "id": "VFU8nFfRYPGZ",
        "outputId": "079e2014-d55c-4e44-f2f3-d173c4c5522c"
      },
      "id": "VFU8nFfRYPGZ",
      "execution_count": null,
      "outputs": [
        {
          "output_type": "execute_result",
          "data": {
            "text/plain": [
              "3620"
            ]
          },
          "metadata": {},
          "execution_count": 35
        }
      ]
    },
    {
      "cell_type": "code",
      "source": [
        "CHL_Coutry_Product_Name_First_Notunique = []\n",
        "CHL_Coutry_Product_Name_Notunique = CleanDataBase[CleanDataBase['Country Code'] == 'CHL']['Country Product Name'].tolist()\n",
        "for i in range(0, len(CHL_Coutry_Product_Name_Notunique)):\n",
        "  temp_element = []\n",
        "  temp_element = CHL_Coutry_Product_Name_Notunique[i].split(\" \")\n",
        "  temp_element_first = temp_element[0].upper()\n",
        "  CHL_Coutry_Product_Name_First_Notunique.append(temp_element_first)"
      ],
      "metadata": {
        "id": "Y4_oXNPEW8pV"
      },
      "id": "Y4_oXNPEW8pV",
      "execution_count": null,
      "outputs": []
    },
    {
      "cell_type": "code",
      "source": [
        "type(CHL_Coutry_Product_Name_Notunique)"
      ],
      "metadata": {
        "colab": {
          "base_uri": "https://localhost:8080/"
        },
        "id": "Zs3dUGbZYNHt",
        "outputId": "7c17dba7-4cbd-4585-db24-0a7d8db3658f"
      },
      "id": "Zs3dUGbZYNHt",
      "execution_count": null,
      "outputs": [
        {
          "output_type": "execute_result",
          "data": {
            "text/plain": [
              "list"
            ]
          },
          "metadata": {},
          "execution_count": 37
        }
      ]
    },
    {
      "cell_type": "code",
      "source": [
        "len(CHL_Coutry_Product_Name_Notunique)"
      ],
      "metadata": {
        "colab": {
          "base_uri": "https://localhost:8080/"
        },
        "id": "g-ab0jtF1z9h",
        "outputId": "bf5562ab-4496-4e0c-e0a6-2889e9d3336c"
      },
      "id": "g-ab0jtF1z9h",
      "execution_count": null,
      "outputs": [
        {
          "output_type": "execute_result",
          "data": {
            "text/plain": [
              "6899"
            ]
          },
          "metadata": {},
          "execution_count": 38
        }
      ]
    },
    {
      "cell_type": "markdown",
      "source": [
        "The result is not as expected "
      ],
      "metadata": {
        "id": "A-G6aWwpB_G1"
      },
      "id": "A-G6aWwpB_G1"
    },
    {
      "cell_type": "code",
      "source": [
        "CHL_Coutry_Product_Name_Notunique_counter=collections.Counter(CHL_Coutry_Product_Name_Notunique)\n",
        "#print(CHL_Coutry_Product_Name_Notunique_counter)"
      ],
      "metadata": {
        "id": "lA9uM1QaW8rZ"
      },
      "id": "lA9uM1QaW8rZ",
      "execution_count": 46,
      "outputs": []
    },
    {
      "cell_type": "code",
      "source": [
        ""
      ],
      "metadata": {
        "id": "OvttXh344jY7"
      },
      "id": "OvttXh344jY7",
      "execution_count": null,
      "outputs": []
    }
  ],
  "metadata": {
    "kernelspec": {
      "display_name": "Python 3 (ipykernel)",
      "language": "python",
      "name": "python3"
    },
    "language_info": {
      "codemirror_mode": {
        "name": "ipython",
        "version": 3
      },
      "file_extension": ".py",
      "mimetype": "text/x-python",
      "name": "python",
      "nbconvert_exporter": "python",
      "pygments_lexer": "ipython3",
      "version": "3.9.7"
    },
    "colab": {
      "name": "AHPO.ipynb",
      "provenance": [],
      "collapsed_sections": [],
      "include_colab_link": true
    }
  },
  "nbformat": 4,
  "nbformat_minor": 5
}