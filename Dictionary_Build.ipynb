{
  "cells": [
    {
      "cell_type": "markdown",
      "metadata": {
        "id": "view-in-github",
        "colab_type": "text"
      },
      "source": [
        "<a href=\"https://colab.research.google.com/github/wenjunc2/Summer-2022/blob/main/Dictionary_Build.ipynb\" target=\"_parent\"><img src=\"https://colab.research.google.com/assets/colab-badge.svg\" alt=\"Open In Colab\"/></a>"
      ]
    },
    {
      "cell_type": "markdown",
      "source": [
        "# get Chile Product Names"
      ],
      "metadata": {
        "id": "4f-5hiE4X_bP"
      },
      "id": "4f-5hiE4X_bP"
    },
    {
      "cell_type": "code",
      "execution_count": 1,
      "id": "b3fa8107",
      "metadata": {
        "colab": {
          "base_uri": "https://localhost:8080/"
        },
        "id": "b3fa8107",
        "outputId": "5c5dc317-5307-4550-a8d0-31280445c7e3"
      },
      "outputs": [
        {
          "output_type": "execute_result",
          "data": {
            "text/plain": [
              "3480"
            ]
          },
          "metadata": {},
          "execution_count": 1
        }
      ],
      "source": [
        "# read into dataset\n",
        "import random\n",
        "random.seed(9)\n",
        "import pandas as pd\n",
        "CleanDataBase = pd.read_excel('CleanDataBase.xlsx')\n",
        "\n",
        "# keep unique product name\n",
        "ChileProductNames_Perm = CleanDataBase[CleanDataBase['Country Code'] == 'CHL']['Country Product Name'].unique()\n",
        "\n",
        "# lowercase everything\n",
        "ChileProductNames = []\n",
        "for i in ChileProductNames_Perm:\n",
        "  ChileProductNames.append(i.lower())\n",
        "\n",
        "# keep unique names after lowercasing\n",
        "ChileProductNames = set(ChileProductNames)\n",
        "\n",
        "ChileProductNames = list(ChileProductNames)\n",
        "\n",
        "len(ChileProductNames)"
      ]
    },
    {
      "cell_type": "markdown",
      "source": [
        "# Split names to get each single vocabulary"
      ],
      "metadata": {
        "id": "hsAXvT5_YT2_"
      },
      "id": "hsAXvT5_YT2_"
    },
    {
      "cell_type": "code",
      "source": [
        "# word tokenize\n",
        "from nltk.tokenize import WordPunctTokenizer\n",
        "tokenizer = WordPunctTokenizer()\n",
        "\n",
        "# extract tokens with tokenizer\n",
        "# data_tok is a list of lists of tokens for each line in data\n",
        "data_tok = []\n",
        "for i in ChileProductNames:\n",
        "  tokenlist = tokenizer.tokenize(i)\n",
        "  data_tok.append(tokenlist)\n",
        "\n",
        "# print([' '.join(row) for row in data_tok[:2]])"
      ],
      "metadata": {
        "id": "VkEJWsuJ3tTv"
      },
      "id": "VkEJWsuJ3tTv",
      "execution_count": 2,
      "outputs": []
    },
    {
      "cell_type": "markdown",
      "source": [
        "## ignore vocabularies which have length less than 4 or longer than 20\n",
        "## (to delete punctuation)"
      ],
      "metadata": {
        "id": "UAzWMpERYrTt"
      },
      "id": "UAzWMpERYrTt"
    },
    {
      "cell_type": "code",
      "source": [
        "dictionary = []\n",
        "\n",
        "for i in data_tok:\n",
        "  for j in i:\n",
        "    if len(j) >= 4 and len(j) <= 20:\n",
        "      dictionary.append(j)"
      ],
      "metadata": {
        "id": "xv3qnjns3tMM"
      },
      "id": "xv3qnjns3tMM",
      "execution_count": 3,
      "outputs": []
    },
    {
      "cell_type": "code",
      "source": [
        "dictionary = set(dictionary)\n",
        "dictionary = list(dictionary)\n",
        "len(dictionary)"
      ],
      "metadata": {
        "colab": {
          "base_uri": "https://localhost:8080/"
        },
        "id": "IpQZCwCy3tAo",
        "outputId": "e073a27c-5d35-4af9-9b6a-a5c3a0fc21d8"
      },
      "id": "IpQZCwCy3tAo",
      "execution_count": 4,
      "outputs": [
        {
          "output_type": "execute_result",
          "data": {
            "text/plain": [
              "1441"
            ]
          },
          "metadata": {},
          "execution_count": 4
        }
      ]
    },
    {
      "cell_type": "markdown",
      "source": [
        "## delete the numeric variables, keep verbal "
      ],
      "metadata": {
        "id": "m1QV1Cdcad-V"
      },
      "id": "m1QV1Cdcad-V"
    },
    {
      "cell_type": "code",
      "source": [
        "dictionary_2 = []\n",
        "for i in dictionary:\n",
        "  num = False\n",
        "  for j in i:\n",
        "    if j.isdigit() is True:\n",
        "      num = True\n",
        "  if num == False:\n",
        "    dictionary_2.append(i)"
      ],
      "metadata": {
        "id": "1siCxKCf5Noa"
      },
      "id": "1siCxKCf5Noa",
      "execution_count": 5,
      "outputs": []
    },
    {
      "cell_type": "code",
      "source": [
        "len(dictionary_2)"
      ],
      "metadata": {
        "colab": {
          "base_uri": "https://localhost:8080/"
        },
        "id": "ved7C1Ic_3YO",
        "outputId": "17a6f784-2e29-40a3-a2a8-d228a76b5f9a"
      },
      "id": "ved7C1Ic_3YO",
      "execution_count": 6,
      "outputs": [
        {
          "output_type": "execute_result",
          "data": {
            "text/plain": [
              "1060"
            ]
          },
          "metadata": {},
          "execution_count": 6
        }
      ]
    },
    {
      "cell_type": "markdown",
      "source": [
        "## create new list about drug names in excel\n",
        "## select drug names from dictionary_2"
      ],
      "metadata": {
        "id": "X9GKNMCabl4G"
      },
      "id": "X9GKNMCabl4G"
    },
    {
      "cell_type": "code",
      "source": [
        "DictionaryBuild = pd.read_excel('Dictionary-Build.xlsx')\n",
        "dictionary_medicine_name = DictionaryBuild['Medicine']"
      ],
      "metadata": {
        "id": "ES_5pLyr3sx3"
      },
      "id": "ES_5pLyr3sx3",
      "execution_count": 7,
      "outputs": []
    },
    {
      "cell_type": "code",
      "source": [
        "dictionary_medicine_name = list(dictionary_medicine_name)\n",
        "dictionary_medicine_name.sort()"
      ],
      "metadata": {
        "id": "BjZhLinAGP3b"
      },
      "id": "BjZhLinAGP3b",
      "execution_count": 8,
      "outputs": []
    },
    {
      "cell_type": "code",
      "source": [
        "dictionary_medicine_name[0:10]"
      ],
      "metadata": {
        "id": "r9Ah75bMGPtk",
        "colab": {
          "base_uri": "https://localhost:8080/"
        },
        "outputId": "bbac0524-252e-446f-982d-b4c8be61ad5e"
      },
      "id": "r9Ah75bMGPtk",
      "execution_count": 9,
      "outputs": [
        {
          "output_type": "execute_result",
          "data": {
            "text/plain": [
              "['abacav',\n",
              " 'abacavir',\n",
              " 'acarbosa',\n",
              " 'acetaminofeno',\n",
              " 'acetato',\n",
              " 'acetilsalicílico',\n",
              " 'alprazolam',\n",
              " 'amfotericina',\n",
              " 'amiodarona',\n",
              " 'amitriptilina']"
            ]
          },
          "metadata": {},
          "execution_count": 9
        }
      ]
    },
    {
      "cell_type": "markdown",
      "source": [
        "## for each drug name, select its full product name \n",
        "## wirte into excel"
      ],
      "metadata": {
        "id": "W9oQ9jBkb974"
      },
      "id": "W9oQ9jBkb974"
    },
    {
      "cell_type": "markdown",
      "source": [
        "### in this part, I first delete each sub list under each drug name from original list. but get sublist from original list for each drug name after about 20 kinds of drug names"
      ],
      "metadata": {
        "id": "S9kczVHDcKQa"
      },
      "id": "S9kczVHDcKQa"
    },
    {
      "cell_type": "code",
      "source": [
        "abacav_abacavir_set = []\n",
        "data_tok_0 = data_tok.copy()\n",
        "for i in data_tok_0:\n",
        "  add = False\n",
        "  for j in i:\n",
        "    if j == 'abacav' or j == 'abacavir':\n",
        "      add = True\n",
        "  if add == True:\n",
        "    abacav_abacavir_set.append(i)\n",
        "    data_tok_0.remove(i)\n"
      ],
      "metadata": {
        "id": "yrYPnKjgJ0FM"
      },
      "id": "yrYPnKjgJ0FM",
      "execution_count": 10,
      "outputs": []
    },
    {
      "cell_type": "code",
      "source": [
        "print(len(data_tok), len(data_tok_0), len(abacav_abacavir_set))"
      ],
      "metadata": {
        "colab": {
          "base_uri": "https://localhost:8080/"
        },
        "id": "i3cnFptfJz96",
        "outputId": "c141f536-2fdc-4213-f542-5dc966b27255"
      },
      "id": "i3cnFptfJz96",
      "execution_count": 11,
      "outputs": [
        {
          "output_type": "stream",
          "name": "stdout",
          "text": [
            "3480 3477 3\n"
          ]
        }
      ]
    },
    {
      "cell_type": "code",
      "source": [
        "abacav_abacavir_set = [' '.join(row) for row in abacav_abacavir_set]\n",
        "abacav_abacavir_set"
      ],
      "metadata": {
        "colab": {
          "base_uri": "https://localhost:8080/"
        },
        "id": "yU0szdYOJz2T",
        "outputId": "47151ec6-be47-4f68-ceac-1961f1cdc6da"
      },
      "id": "yU0szdYOJz2T",
      "execution_count": 12,
      "outputs": [
        {
          "output_type": "execute_result",
          "data": {
            "text/plain": [
              "['abacav / lamiv / dolutegrav 600 / 300 / 50 mg cm',\n",
              " 'abacavir 20 mg / ml sol . oral x ml',\n",
              " 'abacavir 300 mg cm rec .']"
            ]
          },
          "metadata": {},
          "execution_count": 12
        }
      ]
    },
    {
      "cell_type": "code",
      "source": [
        "acarbosa_set = []\n",
        "data_tok_1 = data_tok_0.copy()\n",
        "for i in data_tok_1:\n",
        "  add = False\n",
        "  for j in i:\n",
        "    if j == 'acarbosa':\n",
        "      add = True\n",
        "  if add == True:\n",
        "    acarbosa_set.append(i)\n",
        "    data_tok_1.remove(i)"
      ],
      "metadata": {
        "id": "OCISim9dM34b"
      },
      "id": "OCISim9dM34b",
      "execution_count": 13,
      "outputs": []
    },
    {
      "cell_type": "code",
      "source": [
        "print(len(data_tok_0), len(data_tok_1), len(acarbosa_set))"
      ],
      "metadata": {
        "colab": {
          "base_uri": "https://localhost:8080/"
        },
        "id": "V15t53kmM32x",
        "outputId": "e09fdffc-893c-4d3a-ef87-b207d5e656dd"
      },
      "id": "V15t53kmM32x",
      "execution_count": 14,
      "outputs": [
        {
          "output_type": "stream",
          "name": "stdout",
          "text": [
            "3477 3476 1\n"
          ]
        }
      ]
    },
    {
      "cell_type": "code",
      "source": [
        "acarbosa_set = [' '.join(row) for row in acarbosa_set]\n",
        "acarbosa_set"
      ],
      "metadata": {
        "colab": {
          "base_uri": "https://localhost:8080/"
        },
        "id": "ii-fLbgsN4Wg",
        "outputId": "f86f7fa6-171f-4332-ae16-ed1f90e33685"
      },
      "id": "ii-fLbgsN4Wg",
      "execution_count": 15,
      "outputs": [
        {
          "output_type": "execute_result",
          "data": {
            "text/plain": [
              "['acarbosa']"
            ]
          },
          "metadata": {},
          "execution_count": 15
        }
      ]
    },
    {
      "cell_type": "code",
      "source": [
        "acetaminofeno_acetato_set = []\n",
        "data_tok_2 = data_tok_1.copy()\n",
        "for i in data_tok_2:\n",
        "  add = False\n",
        "  for j in i:\n",
        "    if j == 'acetaminofeno' or j == 'acetato':\n",
        "      add = True\n",
        "  if add == True:\n",
        "    acetaminofeno_acetato_set.append(i)\n",
        "    data_tok_2.remove(i)"
      ],
      "metadata": {
        "id": "uxUZqnsMOEeB"
      },
      "id": "uxUZqnsMOEeB",
      "execution_count": 16,
      "outputs": []
    },
    {
      "cell_type": "code",
      "source": [
        "print(len(data_tok_1), len(data_tok_2), len(acetaminofeno_acetato_set))"
      ],
      "metadata": {
        "colab": {
          "base_uri": "https://localhost:8080/"
        },
        "id": "CO3UGOCDOINI",
        "outputId": "1741744a-acce-4b44-ec48-b4a998ea45db"
      },
      "id": "CO3UGOCDOINI",
      "execution_count": 17,
      "outputs": [
        {
          "output_type": "stream",
          "name": "stdout",
          "text": [
            "3476 3474 2\n"
          ]
        }
      ]
    },
    {
      "cell_type": "code",
      "source": [
        "acetaminofeno_acetato_set = [' '.join(row) for row in acetaminofeno_acetato_set]\n",
        "acetaminofeno_acetato_set"
      ],
      "metadata": {
        "colab": {
          "base_uri": "https://localhost:8080/"
        },
        "id": "Ri_7q5uYOIG6",
        "outputId": "b0bab9de-388d-42d8-8d8e-76df06754691"
      },
      "id": "Ri_7q5uYOIG6",
      "execution_count": 18,
      "outputs": [
        {
          "output_type": "execute_result",
          "data": {
            "text/plain": [
              "['combinación clorfeniramina - acetaminofeno',\n",
              " 'insulina detemir producida por la tecnología adn recombinante en saccharomyces cerevisiae en concentración 100 ui / ml con excipientes manitol , fenol , metacresol , acetato de zinc , fosfato disódico dihidratado , cloruro de sodio , ( ver base )']"
            ]
          },
          "metadata": {},
          "execution_count": 18
        }
      ]
    },
    {
      "cell_type": "code",
      "source": [
        "acetilsalicílico_set = []\n",
        "data_tok_3 = data_tok_2.copy()\n",
        "for i in data_tok_3:\n",
        "  add = False\n",
        "  for j in i:\n",
        "    if j == 'acetilsalicílico':\n",
        "      add = True\n",
        "  if add == True:\n",
        "    acetilsalicílico_set.append(i)\n",
        "    data_tok_3.remove(i)"
      ],
      "metadata": {
        "id": "VbKzRoZYOIAu"
      },
      "id": "VbKzRoZYOIAu",
      "execution_count": 19,
      "outputs": []
    },
    {
      "cell_type": "code",
      "source": [
        "print(len(data_tok_2), len(data_tok_3), len(acetilsalicílico_set))"
      ],
      "metadata": {
        "colab": {
          "base_uri": "https://localhost:8080/"
        },
        "id": "biJkj8hLOH4x",
        "outputId": "191a2b21-7d0a-42e5-ce2d-b7a4a68169b5"
      },
      "id": "biJkj8hLOH4x",
      "execution_count": 20,
      "outputs": [
        {
          "output_type": "stream",
          "name": "stdout",
          "text": [
            "3474 3473 1\n"
          ]
        }
      ]
    },
    {
      "cell_type": "code",
      "source": [
        "acetilsalicílico_set = [' '.join(row) for row in acetilsalicílico_set]\n",
        "acetilsalicílico_set"
      ],
      "metadata": {
        "colab": {
          "base_uri": "https://localhost:8080/"
        },
        "id": "mYkCGlbdPjLO",
        "outputId": "9f8792ef-bfe6-416b-a944-900b9cdab279"
      },
      "id": "mYkCGlbdPjLO",
      "execution_count": 21,
      "outputs": [
        {
          "output_type": "execute_result",
          "data": {
            "text/plain": [
              "['ácido acetilsalicílico']"
            ]
          },
          "metadata": {},
          "execution_count": 21
        }
      ]
    },
    {
      "cell_type": "code",
      "source": [
        "alprazolam_set = []\n",
        "data_tok_4 = data_tok_3.copy()\n",
        "for i in data_tok_4:\n",
        "  add = False\n",
        "  for j in i:\n",
        "    if j == 'alprazolam':\n",
        "      add = True\n",
        "  if add == True:\n",
        "    alprazolam_set.append(i)\n",
        "    data_tok_4.remove(i)"
      ],
      "metadata": {
        "id": "Gq5-c48rP_Ck"
      },
      "id": "Gq5-c48rP_Ck",
      "execution_count": 22,
      "outputs": []
    },
    {
      "cell_type": "code",
      "source": [
        "print(len(data_tok_3), len(data_tok_4), len(alprazolam_set))"
      ],
      "metadata": {
        "colab": {
          "base_uri": "https://localhost:8080/"
        },
        "id": "jQIpCGkzP-6p",
        "outputId": "eb1e0557-42e9-4015-e6cd-69a78428bf43"
      },
      "id": "jQIpCGkzP-6p",
      "execution_count": 23,
      "outputs": [
        {
          "output_type": "stream",
          "name": "stdout",
          "text": [
            "3473 3472 1\n"
          ]
        }
      ]
    },
    {
      "cell_type": "code",
      "source": [
        "alprazolam_set = [' '.join(row) for row in alprazolam_set]\n",
        "alprazolam_set"
      ],
      "metadata": {
        "colab": {
          "base_uri": "https://localhost:8080/"
        },
        "id": "4wJuhrx7P-wc",
        "outputId": "3bdc6e61-179b-44f8-9931-d8c5e857e6b1"
      },
      "id": "4wJuhrx7P-wc",
      "execution_count": 24,
      "outputs": [
        {
          "output_type": "execute_result",
          "data": {
            "text/plain": [
              "['alprazolam']"
            ]
          },
          "metadata": {},
          "execution_count": 24
        }
      ]
    },
    {
      "cell_type": "code",
      "source": [
        "amfotericina_set = []\n",
        "data_tok_5 = data_tok_4.copy()\n",
        "for i in data_tok_5:\n",
        "  add = False\n",
        "  for j in i:\n",
        "    if j == 'amfotericina':\n",
        "      add = True\n",
        "  if add == True:\n",
        "    amfotericina_set.append(i)\n",
        "    data_tok_5.remove(i)"
      ],
      "metadata": {
        "id": "KkP8ROlXQTJf"
      },
      "id": "KkP8ROlXQTJf",
      "execution_count": 25,
      "outputs": []
    },
    {
      "cell_type": "code",
      "source": [
        "print(len(data_tok_4), len(data_tok_5), len(amfotericina_set))"
      ],
      "metadata": {
        "colab": {
          "base_uri": "https://localhost:8080/"
        },
        "id": "4chaLrmUQTCO",
        "outputId": "4287f952-b473-447a-f422-2c337b33d93a"
      },
      "id": "4chaLrmUQTCO",
      "execution_count": 26,
      "outputs": [
        {
          "output_type": "stream",
          "name": "stdout",
          "text": [
            "3472 3453 19\n"
          ]
        }
      ]
    },
    {
      "cell_type": "code",
      "source": [
        "amfotericina_set = [' '.join(row) for row in amfotericina_set]\n",
        "amfotericina_set"
      ],
      "metadata": {
        "colab": {
          "base_uri": "https://localhost:8080/"
        },
        "id": "CmBoFdRfQS49",
        "outputId": "e765408c-4487-4f3e-cd51-e8940aea726a"
      },
      "id": "CmBoFdRfQS49",
      "execution_count": 27,
      "outputs": [
        {
          "output_type": "execute_result",
          "data": {
            "text/plain": [
              "['amfotericina b liposomal , liofilizado para solución para perfusión 50 mg , con solvente',\n",
              " 'amfotericina b liposomal 50 mg inyectable ( codigo hms 108513 )',\n",
              " 'amfotericina b 50 mg / 10 ml mg polvo liof o susp . iny',\n",
              " 'amfotericina b 50mg liof p / s . iny am / fam ( 100000131 )',\n",
              " 'amfotericina b 50 mg ev',\n",
              " '2130032 amfotericina b liposomal liofilizado para perfusion con solvente 50mg',\n",
              " 'amfotericina b 50mg liof p / s . iny am / fam',\n",
              " 'amfotericina b liposomal 50 mg fam ( 100003899 )',\n",
              " 'amfotericina b 50 mg liof o susp am / fam ( 100000131 )',\n",
              " 'amfotericina b complejo lipídico 50 mg ev',\n",
              " '[ 2130025 ] amfotericina b 50 mg liof o susp am / fam',\n",
              " 'amfotericina b 50 mg inyectable ( codigo hms 137018 ) _x000d__x000d__x000d__x000d__x000d__x000d__x000d__x000d_',\n",
              " '3002130025 amfotericina b 50 mg polvo para solución inyectable',\n",
              " '[ 2130023 ] amfotericina b liposomal 50mg liof . sol . iny iv fa',\n",
              " 'amfotericina - b liofilizado para solucion inyectable',\n",
              " 'amfotericina b liposomal 50 mg fam',\n",
              " 'amfotericina b 50 mg polvo liofilizado para solución inyectable . frasco ampolla de vidrio .',\n",
              " '5341 aj5203 r / amfotericina b fa 50mg ( r )///',\n",
              " '262 - 0099 amfotericina - b 50 mg polvo liofilizado para solución inyectable frasco ampolla 10 ml unidad']"
            ]
          },
          "metadata": {},
          "execution_count": 27
        }
      ]
    },
    {
      "cell_type": "code",
      "source": [
        "amiodarona_set = []\n",
        "data_tok_6 = data_tok_5.copy()\n",
        "for i in data_tok_6:\n",
        "  add = False\n",
        "  for j in i:\n",
        "    if j == 'amiodarona':\n",
        "      add = True\n",
        "  if add == True:\n",
        "    amiodarona_set.append(i)\n",
        "    data_tok_6.remove(i)"
      ],
      "metadata": {
        "id": "fNQ4MlflQaD5"
      },
      "id": "fNQ4MlflQaD5",
      "execution_count": 28,
      "outputs": []
    },
    {
      "cell_type": "code",
      "source": [
        "print(len(data_tok_5), len(data_tok_6), len(amiodarona_set))"
      ],
      "metadata": {
        "colab": {
          "base_uri": "https://localhost:8080/"
        },
        "id": "Yfbi1WsmQZ_X",
        "outputId": "dd7b416d-5870-40af-81b4-5f1f1c3444de"
      },
      "id": "Yfbi1WsmQZ_X",
      "execution_count": 29,
      "outputs": [
        {
          "output_type": "stream",
          "name": "stdout",
          "text": [
            "3453 3452 1\n"
          ]
        }
      ]
    },
    {
      "cell_type": "code",
      "source": [
        "amiodarona_set = [' '.join(row) for row in amiodarona_set]\n",
        "amiodarona_set"
      ],
      "metadata": {
        "colab": {
          "base_uri": "https://localhost:8080/"
        },
        "id": "Qn_vBze7QZ7e",
        "outputId": "2ce0636a-7165-4d9f-e707-6888d96476d6"
      },
      "id": "Qn_vBze7QZ7e",
      "execution_count": 30,
      "outputs": [
        {
          "output_type": "execute_result",
          "data": {
            "text/plain": [
              "['clorhidrato de amiodarona']"
            ]
          },
          "metadata": {},
          "execution_count": 30
        }
      ]
    },
    {
      "cell_type": "code",
      "source": [
        "amitriptilina_set = []\n",
        "data_tok_7 = data_tok_6.copy()\n",
        "for i in data_tok_7:\n",
        "  add = False\n",
        "  for j in i:\n",
        "    if j == 'amitriptilina':\n",
        "      add = True\n",
        "  if add == True:\n",
        "    amitriptilina_set.append(i)\n",
        "    data_tok_7.remove(i)"
      ],
      "metadata": {
        "id": "tfPkG7KnRXIq"
      },
      "id": "tfPkG7KnRXIq",
      "execution_count": 31,
      "outputs": []
    },
    {
      "cell_type": "code",
      "source": [
        "print(len(data_tok_6), len(data_tok_7), len(amitriptilina_set))"
      ],
      "metadata": {
        "colab": {
          "base_uri": "https://localhost:8080/"
        },
        "id": "kufAXNQyRXDv",
        "outputId": "7069f79d-1f47-4632-d8cb-d4ad059918ee"
      },
      "id": "kufAXNQyRXDv",
      "execution_count": 32,
      "outputs": [
        {
          "output_type": "stream",
          "name": "stdout",
          "text": [
            "3452 3451 1\n"
          ]
        }
      ]
    },
    {
      "cell_type": "code",
      "source": [
        "amitriptilina_set = [' '.join(row) for row in amitriptilina_set]\n",
        "amitriptilina_set"
      ],
      "metadata": {
        "colab": {
          "base_uri": "https://localhost:8080/"
        },
        "id": "a6sgJWrNSpSa",
        "outputId": "b7d4a8bd-f6aa-4ed7-ff09-10bb0b0129c2"
      },
      "id": "a6sgJWrNSpSa",
      "execution_count": 33,
      "outputs": [
        {
          "output_type": "execute_result",
          "data": {
            "text/plain": [
              "['hidrocloruro de amitriptilina']"
            ]
          },
          "metadata": {},
          "execution_count": 33
        }
      ]
    },
    {
      "cell_type": "code",
      "source": [
        "dictionary_medicine_name[10:20]"
      ],
      "metadata": {
        "colab": {
          "base_uri": "https://localhost:8080/"
        },
        "id": "NP9lOgj_RW_F",
        "outputId": "818d0d24-1cb0-40fd-a952-a210c6267e7f"
      },
      "id": "NP9lOgj_RW_F",
      "execution_count": 34,
      "outputs": [
        {
          "output_type": "execute_result",
          "data": {
            "text/plain": [
              "['amlodipina',\n",
              " 'amlodipio',\n",
              " 'amlodipno',\n",
              " 'amlodopino',\n",
              " 'amoxic',\n",
              " 'amoxicil',\n",
              " 'amoxicilina',\n",
              " 'anfotericina',\n",
              " 'antibióticos',\n",
              " 'antihemofilico']"
            ]
          },
          "metadata": {},
          "execution_count": 34
        }
      ]
    },
    {
      "cell_type": "code",
      "source": [
        "amlodipina_set = []\n",
        "data_tok_8 = data_tok_7.copy()\n",
        "for i in data_tok_8:\n",
        "  add = False\n",
        "  for j in i:\n",
        "    if j == 'amlodipina' or j == 'amlodipio' or j == 'amlodipno' or j == 'amlodopino':\n",
        "      add = True\n",
        "  if add == True:\n",
        "    amlodipina_set.append(i)\n",
        "    data_tok_8.remove(i)"
      ],
      "metadata": {
        "id": "exLei8gSSVM7"
      },
      "id": "exLei8gSSVM7",
      "execution_count": 35,
      "outputs": []
    },
    {
      "cell_type": "code",
      "source": [
        "print(len(data_tok_7), len(data_tok_8), len(amlodipina_set))"
      ],
      "metadata": {
        "colab": {
          "base_uri": "https://localhost:8080/"
        },
        "id": "hfkXpL69SVH0",
        "outputId": "79c74223-5258-44b5-ffcb-48007a0eb047"
      },
      "id": "hfkXpL69SVH0",
      "execution_count": 36,
      "outputs": [
        {
          "output_type": "stream",
          "name": "stdout",
          "text": [
            "3451 3436 15\n"
          ]
        }
      ]
    },
    {
      "cell_type": "code",
      "source": [
        "amlodipina_set = [' '.join(row) for row in amlodipina_set]\n",
        "list(set(amlodipina_set))"
      ],
      "metadata": {
        "colab": {
          "base_uri": "https://localhost:8080/"
        },
        "id": "x2Ps6iYVSVCx",
        "outputId": "b7e13856-43f5-41cd-b810-afdb2c1847b9"
      },
      "id": "x2Ps6iYVSVCx",
      "execution_count": 40,
      "outputs": [
        {
          "output_type": "execute_result",
          "data": {
            "text/plain": [
              "['a   m   l   o   d   i   p   i   n   a       1   0       m   g       b   i   o   e   q   u   i   v   a   l   e   n   t   e',\n",
              " 'c   m       d   e       a   m   l   o   d   i   p   i   o       d   e       1   0       m   g',\n",
              " 'a   m   l   o   d   i   p   i   n   a       1   0       m   g',\n",
              " 'a   m   l   o   d   o   p   i   n   o       1   0   m   g       c   o   n       f   e   c   h   a       d   e       v   e   n   c   i   m   i   e   n   t   o   s       2   0   2   3       o       s   u   p   e   r   i   o   r',\n",
              " 'a   m   l   o   d   o   p   i   n   o       5   m   g',\n",
              " 'a   m   l   o   d   i   p   i   n   a       5       m   g',\n",
              " 'a   m   l   o   d   i   p   i   n   a       1   0       m   g       c   o   m   p   r   i   m   i   d   o   s',\n",
              " 'a   m   l   o   d   i   p   i   n   a       5       m   g       c   o   m   p   r   i   m   i   d   o   s',\n",
              " 'm   0   1   d   0   1   8   2       a   m   l   o   d   i   p   i   n   a       5   m   g       c   m',\n",
              " 'a   m   l   o   d   i   p   n   o       c   o   m   p       .       x   l       5       m   g       .',\n",
              " 'b   e   s   i   l   a   t   o       d   e       a   m   l   o   d   i   p   i   n   a       1   0       m   g       .       c   m       /       c   m       r   e   c       .',\n",
              " 'a   m   l   o   d   i   p   i   n   a       5       m   g       .       c   m       .       v   e   n   c   i   m   i   e   n   t   o       s   u   p   e   r   i   o   r       a       1   2       m   e   s   e   s',\n",
              " 'b   e   s   i   l   a   t   o       d   e       a   m   l   o   d   i   p   i   n   a',\n",
              " 'a   m   l   o   d   i   p   i   n   a       1   0       m   g       .']"
            ]
          },
          "metadata": {},
          "execution_count": 40
        }
      ]
    },
    {
      "cell_type": "code",
      "source": [
        "amoxic_set = []\n",
        "data_tok_9 = data_tok_8.copy()\n",
        "for i in data_tok_9:\n",
        "  add = False\n",
        "  for j in i:\n",
        "    if j == 'amoxic' or j == 'amoxicil' or j == 'amoxicilina':\n",
        "      add = True\n",
        "  if add == True:\n",
        "    amoxic_set.append(i)\n",
        "    data_tok_9.remove(i)"
      ],
      "metadata": {
        "id": "i0chqvscT-b7"
      },
      "id": "i0chqvscT-b7",
      "execution_count": 41,
      "outputs": []
    },
    {
      "cell_type": "code",
      "source": [
        "print(len(data_tok_9), len(data_tok_8), len(amoxic_set))"
      ],
      "metadata": {
        "colab": {
          "base_uri": "https://localhost:8080/"
        },
        "id": "pU8sRxutT-Wt",
        "outputId": "d97ccc4e-1d73-488f-896c-b8a5ad795866"
      },
      "id": "pU8sRxutT-Wt",
      "execution_count": 42,
      "outputs": [
        {
          "output_type": "stream",
          "name": "stdout",
          "text": [
            "3433 3436 3\n"
          ]
        }
      ]
    },
    {
      "cell_type": "code",
      "source": [
        "amoxic_set = [' '.join(row) for row in amoxic_set]\n",
        "amoxic_set"
      ],
      "metadata": {
        "colab": {
          "base_uri": "https://localhost:8080/"
        },
        "id": "IgJhgh6JT-R3",
        "outputId": "11acde85-84de-4c03-afef-f40dfb3ebd17"
      },
      "id": "IgJhgh6JT-R3",
      "execution_count": 43,
      "outputs": [
        {
          "output_type": "execute_result",
          "data": {
            "text/plain": [
              "['amoxic / clavulan 500 / 125 mg cp / cm / cm rec',\n",
              " 'amoxicil / clavulan 875 / 125 mg cm / cm rec',\n",
              " 'amoxicilina']"
            ]
          },
          "metadata": {},
          "execution_count": 43
        }
      ]
    },
    {
      "cell_type": "code",
      "source": [
        "anfotericina_set = []\n",
        "data_tok_10 = data_tok_9.copy()\n",
        "for i in data_tok_10:\n",
        "  add = False\n",
        "  for j in i:\n",
        "    if j == 'anfotericina':\n",
        "      add = True\n",
        "  if add == True:\n",
        "    anfotericina_set.append(i)\n",
        "    data_tok_10.remove(i)"
      ],
      "metadata": {
        "id": "y-rSuFN1T992"
      },
      "id": "y-rSuFN1T992",
      "execution_count": 44,
      "outputs": []
    },
    {
      "cell_type": "code",
      "source": [
        "print(len(data_tok_10), len(data_tok_9), len(anfotericina_set))"
      ],
      "metadata": {
        "colab": {
          "base_uri": "https://localhost:8080/"
        },
        "id": "_cwoCw_vT94K",
        "outputId": "fbb9cd58-c705-4559-b642-2d81a10b08fb"
      },
      "id": "_cwoCw_vT94K",
      "execution_count": 45,
      "outputs": [
        {
          "output_type": "stream",
          "name": "stdout",
          "text": [
            "3368 3433 65\n"
          ]
        }
      ]
    },
    {
      "cell_type": "code",
      "source": [
        "anfotericina_set = [' '.join(row) for row in anfotericina_set]\n",
        "anfotericina_set"
      ],
      "metadata": {
        "colab": {
          "base_uri": "https://localhost:8080/"
        },
        "id": "4uRkhQoVT9py",
        "outputId": "ca9ba29f-22ac-45c7-fa83-3e1da07bda41"
      },
      "id": "4uRkhQoVT9py",
      "execution_count": 46,
      "outputs": [
        {
          "output_type": "execute_result",
          "data": {
            "text/plain": [
              "['50 - 213 - 300 - 001 - 00 anfotericina b 50mg',\n",
              " '36 .- anfotericina b f . a . 50 mg liof . hosdip aj5203',\n",
              " '3002130025 anfotericina b 50 mg polvo para solución inyectable',\n",
              " 'anfotericina b liposomal 50 mg fam',\n",
              " '50 - 213 - 300 - 019 - 00 anfotericina b liposomal 50mg / 10ml_x000d__x000d__x000d__x000d__x000d__x000d__x000d__x000d_',\n",
              " '1130850 anfotericina b 50mg fa polvo solución inyectable iv',\n",
              " 'anfotericina b 50 mg',\n",
              " '213 - 0020 anfotericina b fa_x000d__x000d__x000d__x000d__x000d__x000d__x000d__x000d_',\n",
              " 'anfotericina b ( deoxicolato ) 50 mg',\n",
              " '213 - 0049 anfotericina b liposomal 50 mg polvo para solución inyectable',\n",
              " '5553390 anfotericina b 50 mg inyectable',\n",
              " 'anfotericina b deoxicolato 50 mg ( cód . 2138288 )',\n",
              " 'item n ° 1 anfotericina b liposomal , según especificaciones técnicas .',\n",
              " '1400057 anfotericina b liposomal liofilizado para sln . para perfusion 50 mg . uso ocasional',\n",
              " '213 - 0630 anfotericina b deoxicolato',\n",
              " '213 - 0106 anfotericina b liposomal fa',\n",
              " '50 - 213 - 300 - 019 - 00 anfotericina b liposomal 50mg / 10ml ** compra extra mm 284 **',\n",
              " 'item n ° 3 , anfotericina 50 mg deoxicolato , según especificaciones técnicas .',\n",
              " 'anfotericina 50 mg ( 10 - 100 - 213 - 018 - 00 ) polvo para solucion inyectable , para 24 meses',\n",
              " 'anfotericina b fa 50 mg',\n",
              " 'anfotericina b liposomal 50 mg , polvo liofilizado para solucion inyectable ( 213 - 224 )',\n",
              " '213 - 0629 anfotericina b liposomal 50 mg',\n",
              " 'anfotericina b liposomal 50 mg ( 2130111 )',\n",
              " '105 - 0048 anfotericina liposomal fa 50 mg',\n",
              " 'suministro de anfotericina b liposomal 50 mg ( cantidad estimada mensual 120 frasco )( ofertar según factor de empaque de acuerdo a lo estipulado en el articulo 39 ° de las bases )',\n",
              " 'anfotericina b fa 50 mg ( cod . int 2130450',\n",
              " '0170010003 anfotericina - b 50 mg polv liof fa',\n",
              " '50 - 213 - 300 - 001 - 00 anfotericina b 50mg_x000d__x000d__x000d__x000d__x000d__x000d__x000d__x000d_',\n",
              " 'anfotericina b liposomal 50 mg cod . int . 40400060396',\n",
              " '16 .- anfotericina b - liposomal f . a . 50 mg . hosdip aj5202',\n",
              " '216 - 0003 anfotericina b liposomal 50mg fa_x000d__x000d__x000d__x000d__x000d__x000d__x000d__x000d_',\n",
              " '213 - 0106 anfotericina b liposomal fa .',\n",
              " '213 - 03291 | anfotericina liposomal fa 50mg',\n",
              " 'anfotericina b fa 50 mg ( fung $ 2130450 $ fa',\n",
              " '50 - 213 - 300 - 019 - 00 anfotericina b liposomal 50mg / 10ml ( compra extra mm / 166 )',\n",
              " '213 - 0290 anfotericina b liposomal 50mg liofilizado solucion frasco ampolla 54',\n",
              " '216 - 0003 anfotericina b liposomal 50mg _x000d__x000d__x000d__x000d__x000d__x000d__x000d__x000d_',\n",
              " 'anfotericina b fa 50 mg ( fungi cod . int 2130450',\n",
              " '2 .- anfotericina b liposomal polvo liofilizado 50 mg ( 213 - 0177 )',\n",
              " '50 - 213 - 300 - 019 - 00 anfotericina b liposomal 50mg / 10ml ( compra extra paciente folio 1935 ) _x000d__x000d__x000d__x000d__x000d__x000d__x000d__x000d_',\n",
              " '50 - 213 - 300 - 019 - 00 anfotericina b liposomal 50mg / 10ml ( compra extra paciente folio 1561 )',\n",
              " 'anfotericina fa 50 mg',\n",
              " 'anfotericina b deoxicolato fa 50 mg 2138288',\n",
              " '213 - 0329 | anfotericina deoxicolato fa 50 mg',\n",
              " '3002130049 anfotericina b liposomal 50 mg polvo para solución inyectable',\n",
              " '105 - 0047 anfotericina b frasco amp . 50mg',\n",
              " 'm01c0010 anfotericina b 50mg fco . amp .',\n",
              " '50 - 213 - 300 - 019 - 00 anfotericina b liposomal 50mg / 10ml',\n",
              " 'anfotericina b fa 50 mg ( fung $ 2130450fa',\n",
              " '213 - 0020 anfotericina b_x000d__x000d__x000d__x000d__x000d__x000d__x000d__x000d_',\n",
              " 'anfotericina b liposomal , especificar marca , caracteristicas y presentacion . consumo promedio semestral 50 frascos aproximados .',\n",
              " 'anfotericina b en liposomas 50 mg .',\n",
              " '50 - 213 - 300 - 019 - 00 anfotericina b liposomal 50mg / 10ml ( compra extra mm / 296 )',\n",
              " 'anfotericina b - liposomal f . a . 50 mg . hosdip aj5202',\n",
              " '213 - 0164 anfotericina b liposomal fa 50 mg_x000d__x000d__x000d__x000d__x000d__x000d__x000d__x000d_',\n",
              " 'c04 - 0003 anfotericina b 50 mg fco_x000d__x000d__x000d__x000d__x000d__x000d__x000d__x000d_ _x000d__x000d__x000d__x000d__x000d__x000d__x000d__x000d_ _x000d__x000d__x000d__x000d__x000d__x000d__x000d__x000d_ _x000d__x000d__x000d__x000d__x000d__x000d__x000d__x000d_ _x000d__x000d__x000d__x000d__x000d__x000d__x000d__x000d_ _x000d__x000d__x000d__x000d__x000d__x000d__x000d__x000d_ _x000d__x000d__x000d__x000d__x000d__x000d__x000d__x000d_ _x000d__x000d__x000d__x000d__x000d__x000d__x000d__x000d_',\n",
              " '213 - 0171 anfotericina b desoxicoloto 50 mg . liofilizado solucion inyectable frasco ampolla 270',\n",
              " 'anfotericina b liposomal 50 mg . frasco ampolla de vidrio .',\n",
              " 'anfotericina b fa 50 mg / 5ml fungizon , especificar marca , caracteristicas y presentacion . consumo promedio semestral 15 frascos aproximados .',\n",
              " 'anfotericina b 50mg [ 213p025 ]',\n",
              " 'anfotericina b desoxicolato 50 mg ( cod . int . 040400060263 )',\n",
              " '213 - 0630 anfotericina b 50 mg polvo',\n",
              " 'm01c0010 anfotericina b 50mg fco . amp .',\n",
              " '650011 - anfotericina b lip . 50mg , fco . ampolla , con _x000d__x000d__x000d__x000d__x000d__x000d__x000d__x000d_ vigencia superior de un año , adjuntar politicas de canje .',\n",
              " 'anfotericina b 50 mg inyectable']"
            ]
          },
          "metadata": {},
          "execution_count": 46
        }
      ]
    },
    {
      "cell_type": "code",
      "source": [
        "antibióticos_set = []\n",
        "data_tok_11 = data_tok_10.copy()\n",
        "for i in data_tok_11:\n",
        "  add = False\n",
        "  for j in i:\n",
        "    if j == 'antibióticos':\n",
        "      add = True\n",
        "  if add == True:\n",
        "    antibióticos_set.append(i)\n",
        "    data_tok_11.remove(i)"
      ],
      "metadata": {
        "id": "3R0lhno2Y3YH"
      },
      "id": "3R0lhno2Y3YH",
      "execution_count": 47,
      "outputs": []
    },
    {
      "cell_type": "code",
      "source": [
        "print(len(data_tok_11), len(data_tok_10), len(antibióticos_set))"
      ],
      "metadata": {
        "colab": {
          "base_uri": "https://localhost:8080/"
        },
        "id": "37OK-WrdY3Sn",
        "outputId": "05ad42fc-c4d6-4e0a-aec3-a076fda1a652"
      },
      "id": "37OK-WrdY3Sn",
      "execution_count": 48,
      "outputs": [
        {
          "output_type": "stream",
          "name": "stdout",
          "text": [
            "3367 3368 1\n"
          ]
        }
      ]
    },
    {
      "cell_type": "code",
      "source": [
        "antibióticos_set = [' '.join(row) for row in antibióticos_set]\n",
        "antibióticos_set"
      ],
      "metadata": {
        "colab": {
          "base_uri": "https://localhost:8080/"
        },
        "id": "d2adtqv5Y3Ko",
        "outputId": "fdf410bf-aad8-4c5c-ae59-442197b8e469"
      },
      "id": "d2adtqv5Y3Ko",
      "execution_count": 49,
      "outputs": [
        {
          "output_type": "execute_result",
          "data": {
            "text/plain": [
              "['medicamentos antibióticos especificados en anexo 1 carta oferta . son 44 en total los solicitados en esta licitación .']"
            ]
          },
          "metadata": {},
          "execution_count": 49
        }
      ]
    },
    {
      "cell_type": "code",
      "source": [
        "antihemofilico_set = []\n",
        "data_tok_12 = data_tok_11.copy()\n",
        "for i in data_tok_12:\n",
        "  add = False\n",
        "  for j in i:\n",
        "    if j == 'antihemofilico':\n",
        "      add = True\n",
        "  if add == True:\n",
        "    antihemofilico_set.append(i)\n",
        "    data_tok_12.remove(i)"
      ],
      "metadata": {
        "id": "ijCbt90_VCAD"
      },
      "id": "ijCbt90_VCAD",
      "execution_count": 50,
      "outputs": []
    },
    {
      "cell_type": "code",
      "source": [
        "print(len(data_tok_12), len(data_tok_11), len(antihemofilico_set))"
      ],
      "metadata": {
        "colab": {
          "base_uri": "https://localhost:8080/"
        },
        "id": "pe7p7tFAVB8Q",
        "outputId": "fb237014-ae08-4169-9d9a-59831053cbf5"
      },
      "id": "pe7p7tFAVB8Q",
      "execution_count": 51,
      "outputs": [
        {
          "output_type": "stream",
          "name": "stdout",
          "text": [
            "3362 3367 5\n"
          ]
        }
      ]
    },
    {
      "cell_type": "code",
      "source": [
        "antihemofilico_set = [' '.join(row) for row in antihemofilico_set]\n",
        "antihemofilico_set"
      ],
      "metadata": {
        "colab": {
          "base_uri": "https://localhost:8080/"
        },
        "id": "d05LWIizVB39",
        "outputId": "28ce5568-d3c2-45ce-b718-cf0698c71473"
      },
      "id": "d05LWIizVB39",
      "execution_count": 52,
      "outputs": [
        {
          "output_type": "execute_result",
          "data": {
            "text/plain": [
              "['fact antihemofilico viii hum 1000 ui kit',\n",
              " 'fact antihemofilico viii hum 500 ui kit',\n",
              " 'factor antihemofilico ix humano x ui',\n",
              " 'fact antihemofilico viii hum 250 ui kit',\n",
              " 'factor antihemofilico viii humano x ui']"
            ]
          },
          "metadata": {},
          "execution_count": 52
        }
      ]
    },
    {
      "cell_type": "code",
      "source": [
        "dictionary_medicine_name[20:30]"
      ],
      "metadata": {
        "colab": {
          "base_uri": "https://localhost:8080/"
        },
        "id": "IRpv1Zv3ZeqG",
        "outputId": "9b37fefd-65ba-4810-b03d-6f5dc940c2d7"
      },
      "id": "IRpv1Zv3ZeqG",
      "execution_count": 53,
      "outputs": [
        {
          "output_type": "execute_result",
          "data": {
            "text/plain": [
              "['antihipertensivo',\n",
              " 'antipirina',\n",
              " 'apidra',\n",
              " 'asparaginasa',\n",
              " 'aspart',\n",
              " 'aspartata',\n",
              " 'aspartato',\n",
              " 'aspartic',\n",
              " 'aspartica',\n",
              " 'asparto']"
            ]
          },
          "metadata": {},
          "execution_count": 53
        }
      ]
    },
    {
      "cell_type": "code",
      "source": [
        "antihipertensivo_set = []\n",
        "data_tok_13 = data_tok_12.copy()\n",
        "for i in data_tok_13:\n",
        "  add = False\n",
        "  for j in i:\n",
        "    if j == 'antihipertensivo':\n",
        "      add = True\n",
        "  if add == True:\n",
        "    antihipertensivo_set.append(i)\n",
        "    data_tok_13.remove(i)"
      ],
      "metadata": {
        "id": "hYWfM14CZemK"
      },
      "id": "hYWfM14CZemK",
      "execution_count": 54,
      "outputs": []
    },
    {
      "cell_type": "code",
      "source": [
        "print(len(data_tok_13), len(data_tok_12), len(antihipertensivo_set))"
      ],
      "metadata": {
        "colab": {
          "base_uri": "https://localhost:8080/"
        },
        "id": "Hg0SGMk2Zeg5",
        "outputId": "b2b6f2f2-85c5-4805-c62e-111b8c6d549f"
      },
      "id": "Hg0SGMk2Zeg5",
      "execution_count": 55,
      "outputs": [
        {
          "output_type": "stream",
          "name": "stdout",
          "text": [
            "3361 3362 1\n"
          ]
        }
      ]
    },
    {
      "cell_type": "code",
      "source": [
        "antihipertensivo_set = [' '.join(row) for row in antihipertensivo_set]\n",
        "antihipertensivo_set"
      ],
      "metadata": {
        "colab": {
          "base_uri": "https://localhost:8080/"
        },
        "id": "S8v-h0BraFLI",
        "outputId": "3d0ba875-501f-4e3a-c1b9-a7de4f68ecec"
      },
      "id": "S8v-h0BraFLI",
      "execution_count": 56,
      "outputs": [
        {
          "output_type": "execute_result",
          "data": {
            "text/plain": [
              "['antihipertensivo / losartan 50 mg x 30_x000d__x000d__x000d__x000d__x000d__x000d_ _x000d__x000d__x000d__x000d__x000d__x000d_']"
            ]
          },
          "metadata": {},
          "execution_count": 56
        }
      ]
    },
    {
      "cell_type": "code",
      "source": [
        "antipirina_set = []\n",
        "data_tok_14 = data_tok_13.copy()\n",
        "for i in data_tok_14:\n",
        "  add = False\n",
        "  for j in i:\n",
        "    if j == 'antipirina':\n",
        "      add = True\n",
        "  if add == True:\n",
        "    antipirina_set.append(i)\n",
        "    data_tok_14.remove(i)\n",
        "\n",
        "print(len(data_tok_14), len(data_tok_13), len(antipirina_set))"
      ],
      "metadata": {
        "colab": {
          "base_uri": "https://localhost:8080/"
        },
        "id": "Q3r1VtHvaFIG",
        "outputId": "ec8723da-4363-4e1d-ff46-23a508f31d22"
      },
      "id": "Q3r1VtHvaFIG",
      "execution_count": 57,
      "outputs": [
        {
          "output_type": "stream",
          "name": "stdout",
          "text": [
            "3360 3361 1\n"
          ]
        }
      ]
    },
    {
      "cell_type": "code",
      "source": [
        "antipirina_set = [' '.join(row) for row in antipirina_set]\n",
        "antipirina_set"
      ],
      "metadata": {
        "colab": {
          "base_uri": "https://localhost:8080/"
        },
        "id": "WQFzdbKmaFBP",
        "outputId": "14302957-cff2-42ee-d06d-def475ed1a80"
      },
      "id": "WQFzdbKmaFBP",
      "execution_count": 58,
      "outputs": [
        {
          "output_type": "execute_result",
          "data": {
            "text/plain": [
              "['solución de benzocaína y antipirina']"
            ]
          },
          "metadata": {},
          "execution_count": 58
        }
      ]
    },
    {
      "cell_type": "code",
      "source": [
        "apidra_set = []\n",
        "data_tok_15 = data_tok_14.copy()\n",
        "for i in data_tok_15:\n",
        "  add = False\n",
        "  for j in i:\n",
        "    if j == 'apidra':\n",
        "      add = True\n",
        "  if add == True:\n",
        "    apidra_set.append(i)\n",
        "    data_tok_15.remove(i)\n",
        "\n",
        "print(len(data_tok_15), len(data_tok_14), len(apidra_set))"
      ],
      "metadata": {
        "colab": {
          "base_uri": "https://localhost:8080/"
        },
        "id": "TF3AVBljaE3P",
        "outputId": "8146cf30-b50a-4869-d3d9-3d16c5c4c22a"
      },
      "id": "TF3AVBljaE3P",
      "execution_count": 59,
      "outputs": [
        {
          "output_type": "stream",
          "name": "stdout",
          "text": [
            "3353 3360 7\n"
          ]
        }
      ]
    },
    {
      "cell_type": "code",
      "source": [
        "apidra_set = [' '.join(row) for row in apidra_set]\n",
        "apidra_set"
      ],
      "metadata": {
        "colab": {
          "base_uri": "https://localhost:8080/"
        },
        "id": "v6mDaxQbwTLP",
        "outputId": "3d33328c-a484-4aaa-dda5-0c018acadac6"
      },
      "id": "v6mDaxQbwTLP",
      "execution_count": 60,
      "outputs": [
        {
          "output_type": "execute_result",
          "data": {
            "text/plain": [
              "['apidra solostar',\n",
              " 'insulina glulisina 100 ui / ml lapiz x 3 ml , apidra o similar debe incluir agujas ( para despacho parcializado de 300 unidades mensuales )',\n",
              " 'insulina glulisina 100 ui / ml lapiz , apidra o similar debe incluir agujas , ( para despacho parcializado de 300 unid mensuales )',\n",
              " '1400116 analogo de insulina rapida glulisina 100 u / ml lapiz solostar x 3 ml sc , similar apidra solostar sol . iny . lapiz_x000d__x000d__x000d__x000d__x000d__x000d__x000d__x000d_',\n",
              " '1092022 - 1 cada lapiz de insulina de accion ultra - _x000d__x000d__x000d__x000d__x000d__x000d__x000d__x000d_ rapida contiene cada 1ml 100ui de insulina humana o equivalente a ins . apidra - sol . 3ml',\n",
              " 'apidra solostar cartucho 3 ml_x000d__x000d__x000d__x000d__x000d__x000d__x000d__x000d_',\n",
              " 'apidra solostar cartucho 3 ml_x000d__x000d__x000d__x000d__x000d__x000d__x000d_']"
            ]
          },
          "metadata": {},
          "execution_count": 60
        }
      ]
    },
    {
      "cell_type": "code",
      "source": [
        "asparaginasa_set = []\n",
        "data_tok_16 = data_tok_15.copy()\n",
        "for i in data_tok_16:\n",
        "  add = False\n",
        "  for j in i:\n",
        "    if j == 'asparaginasa':\n",
        "      add = True\n",
        "  if add == True:\n",
        "    asparaginasa_set.append(i)\n",
        "    data_tok_16.remove(i)\n",
        "\n",
        "print(len(data_tok_16), len(data_tok_15), len(asparaginasa_set))"
      ],
      "metadata": {
        "colab": {
          "base_uri": "https://localhost:8080/"
        },
        "id": "HPOnYIlVwTDt",
        "outputId": "0d730fee-578d-4a41-b620-df5d496ca79f"
      },
      "id": "HPOnYIlVwTDt",
      "execution_count": 61,
      "outputs": [
        {
          "output_type": "stream",
          "name": "stdout",
          "text": [
            "3352 3353 1\n"
          ]
        }
      ]
    },
    {
      "cell_type": "code",
      "source": [
        "asparaginasa_set = [' '.join(row) for row in asparaginasa_set]\n",
        "asparaginasa_set"
      ],
      "metadata": {
        "colab": {
          "base_uri": "https://localhost:8080/"
        },
        "id": "bT_XRmJSwT3W",
        "outputId": "f16f0f5c-1772-43ae-ddbd-995d074c0ba0"
      },
      "id": "bT_XRmJSwT3W",
      "execution_count": 62,
      "outputs": [
        {
          "output_type": "execute_result",
          "data": {
            "text/plain": [
              "['asparaginasa 10 . 000 ui sol inyect fam']"
            ]
          },
          "metadata": {},
          "execution_count": 62
        }
      ]
    },
    {
      "cell_type": "code",
      "source": [
        "aspart_set = []\n",
        "data_tok_17 = data_tok_16.copy()\n",
        "for i in data_tok_17:\n",
        "  add = False\n",
        "  for j in i:\n",
        "    if j == 'aspart':\n",
        "      add = True\n",
        "  if add == True:\n",
        "    aspart_set.append(i)\n",
        "    data_tok_17.remove(i)\n",
        "\n",
        "print(len(data_tok_17), len(data_tok_16), len(aspart_set))"
      ],
      "metadata": {
        "colab": {
          "base_uri": "https://localhost:8080/"
        },
        "id": "Q9TjIXMdwTxf",
        "outputId": "596929de-de23-4a5e-97f7-5e03c06a551d"
      },
      "id": "Q9TjIXMdwTxf",
      "execution_count": 63,
      "outputs": [
        {
          "output_type": "stream",
          "name": "stdout",
          "text": [
            "3350 3352 2\n"
          ]
        }
      ]
    },
    {
      "cell_type": "code",
      "source": [
        "aspart_set = [' '.join(row) for row in aspart_set]\n",
        "aspart_set"
      ],
      "metadata": {
        "colab": {
          "base_uri": "https://localhost:8080/"
        },
        "id": "Gwoe3neQwTr5",
        "outputId": "101e09f7-e15d-4864-f70d-f41bbf90a7f8"
      },
      "id": "Gwoe3neQwTr5",
      "execution_count": 64,
      "outputs": [
        {
          "output_type": "execute_result",
          "data": {
            "text/plain": [
              "['insulina aspart tipo lapiz 0 , 5 u . i debe incluir el medicamento a administrar y el dispositivo de que otorgue la administración de 0 . 5 u . i de dosis',\n",
              " 'insulina aspart tipo lapiz 0 , 5 u . i . debe incluir el medicamento a administrar y el dispositivo de que otorgue la administración de 0 . 5 u . i de dosis .']"
            ]
          },
          "metadata": {},
          "execution_count": 64
        }
      ]
    },
    {
      "cell_type": "code",
      "source": [
        "aspartata_set = []\n",
        "data_tok_18 = data_tok_17.copy()\n",
        "for i in data_tok_18:\n",
        "  add = False\n",
        "  for j in i:\n",
        "    if j == 'aspartata' or j == 'aspartato' or j == 'aspartic' or j == 'aspartica' or j == 'asparto':\n",
        "      add = True\n",
        "  if add == True:\n",
        "    aspartata_set.append(i)\n",
        "    data_tok_18.remove(i)\n",
        "\n",
        "print(len(data_tok_18), len(data_tok_17), len(aspartata_set))"
      ],
      "metadata": {
        "colab": {
          "base_uri": "https://localhost:8080/"
        },
        "id": "ijgoqe_lySz0",
        "outputId": "d668fbe5-d9b2-4e26-82a1-010aa5122fd9"
      },
      "id": "ijgoqe_lySz0",
      "execution_count": 65,
      "outputs": [
        {
          "output_type": "stream",
          "name": "stdout",
          "text": [
            "3300 3350 50\n"
          ]
        }
      ]
    },
    {
      "cell_type": "code",
      "source": [
        "aspartata_set = [' '.join(row) for row in aspartata_set]\n",
        "set(aspartata_set)"
      ],
      "metadata": {
        "colab": {
          "base_uri": "https://localhost:8080/"
        },
        "id": "0ougFB5QyfI5",
        "outputId": "e77dc833-aacb-441d-a5e6-f05d70636332"
      },
      "id": "0ougFB5QyfI5",
      "execution_count": 66,
      "outputs": [
        {
          "output_type": "execute_result",
          "data": {
            "text/plain": [
              "{'( 26200077 ) insulina asparto 100 ui / ml , solucion inyectable en vial de 10 ml , analogo de insulina de accion rapida',\n",
              " '( 26222003 ) insulina asparto 100 ui / ml dispositivo ( tipo lapiz ) pre - cargado de 3 ml ( debe incluir una bonificacion de 10 agujas 32 g x 4 mm por lapiz )',\n",
              " '007 - 0070 insulina asparto recombinante 100 ui / ml cartridge 3 ml c / dispositivo prellenado desechable para dispensación',\n",
              " '007 - 0072 insulina asparto solución inyectable 100 ui / ml cartucho 3 ml',\n",
              " '01 - 001 - 262 - 015_x000d__x000d__x000d__x000d__x000d__x000d__x000d__x000d_ insulina ultrarapida ( aspartato ) 100 ui / ml sol iny cart vidr 3 ml , con agujas y lápiz aplicador .',\n",
              " '1092023 - 9 insulina aspartato recombinante 100ui / ml , en lapiz _x000d__x000d__x000d__x000d__x000d__x000d__x000d__x000d_ 3ml , con vigencia superior a un año o equivalente a ins . novorapid 3ml flexpen',\n",
              " '216 - 5166 insulina asparto recombinante 100 u / ml 3 ml cartridge',\n",
              " '2200067 insulina asparto 100 u / ml 3 ml ( media unidad )',\n",
              " '262 - 0068 insulina asparto 100ui / mlx3 ml . _x000d__x000d__x000d__x000d__x000d__x000d__x000d__x000d_ se debe considerar bonificacion de 10 agujas por lapiz . lapiz desechable 2560_x000d__x000d__x000d__x000d__x000d__x000d__x000d__x000d_',\n",
              " '262 - 0068 insulina asparto solucion inyectable 100ui / mlx3 ml . ( lapiz ).',\n",
              " '262 - 0068 insulina asparto solucion inyectable 100ui / mlx3 ml . se debe considerar bonificación de 10 agujas por lápiz .',\n",
              " '262 - 0212 insulina aspartica 100 ui / ml solucion inyectable envasado en dispositivo inyector ( tipo penfill ) de 3 ml unidad 800',\n",
              " '2628730 insulina aspartica ultrarapida 100 u / ml 10 ml frasco ampolla sol iny',\n",
              " '2628739 insulina aspartica ultrarapida 100 u / ml 3ml lapiz sol iny',\n",
              " '2628740 insulina aspartica 100ui / ml / 3ml cartridge catriidge 300ui total multidosis',\n",
              " '3002161364 insulina aspartica 100 ui / 3 ml solución inyectable',\n",
              " 'cód .: 2200046_x000d__x000d__x000d__x000d__x000d__x000d__x000d__x000d_ insulina aspartica 100 u . i ./ ml solucion inyectable dispositivo tipo flexpen 3 ml con agujas de 32g x 4 mm compatibles para uso del dispositivo tipo flex pen_x000d__x000d__x000d__x000d__x000d__x000d__x000d__x000d_',\n",
              " 'fa03 - 0005 insulina aspartato 100 ui / ml lapiz 3 ml ( ultra raida ) ( ui )',\n",
              " 'fa03 - 0005 insulina aspartato 100 ui / ml lapiz 3 ml ( ultra rapida ) ( incluye 15 agujas por cada lápiz )',\n",
              " 'fa03 - 0005 insulina aspartato 100 ui / ml lapiz 3 ml ( ultra rapida ) ( ui )',\n",
              " 'fa03 - 0005 insulina aspartato 100 ui / ml lapiz 3 ml ( ultra rapída ) incluye 15 agujas por cada lapiz',\n",
              " 'ins aspartic sol / iny100ui / ml flexpen + agu ( 100005592 )',\n",
              " 'insulina analoga aspartica 100 ui / ml lapiz desechable 3ml . uso autorizado en el embarazo ( 2620231 )',\n",
              " 'insulina aspartato 100 u / ml . solución inyectable , caja x 1 cartucho 3 ml . similar a novorapid flexpen .....( indicar fecha de vencimiento y registro isp ).. _x000d__x000d__x000d__x000d__x000d__x000d__x000d__x000d_',\n",
              " 'insulina aspartato 100 u / ml 5x 3 ml similar a novorapid flexpen',\n",
              " 'insulina aspartato 100 ui / ml cartucho 3 ml ( 2620052 ) _x000d__x000d__x000d__x000d__x000d__x000d__x000d__x000d_',\n",
              " 'insulina aspartato 100 ui / ml lapiz desechable ( 2620231 ) _x000d__x000d__x000d__x000d__x000d__x000d__x000d__x000d_',\n",
              " 'insulina aspartato 300 ui / 3 ml penfil ( presentación lápiz )',\n",
              " 'insulina aspartato bifasica 100 u / ml 3 ml ( novomix 30 flexpen ) novo nordisk_x000d__x000d__x000d__x000d__x000d__x000d__x000d__x000d_',\n",
              " 'insulina aspartato bifasica 100 u / ml 3 ml cod . int . 40400170058',\n",
              " 'insulina aspartato bifasica 30 / 70 lapiz 100 ui / ml fc 3 ml',\n",
              " 'insulina aspartato cartridge 3 ml',\n",
              " 'insulina aspartato recombinante , solución inyectable 100 ui ml , lápiz descartable de 3 ml . unidad lápiz',\n",
              " 'insulina aspartato recombinante , solución inyectable 100 ui ml , penfil ( cartridge ) de 3 ml . se debe entregar por paciente un lápiz para dispensar medias unidades . cartridge',\n",
              " 'insulina aspartica 100 ui / ml novorapid flexpen caja conteniendo 5 cartuchos_x000d__x000d__x000d__x000d__x000d__x000d__x000d__x000d_',\n",
              " 'insulina aspartica 100 ui / ml x 3 ml ( lápiz desechable )',\n",
              " 'insulina aspartica cartucho 3 ml_x000d__x000d__x000d__x000d__x000d__x000d__x000d__x000d_',\n",
              " 'insulina asparto bifasica 30 - 70 recombinante humana empaque 5 lapiz descartables por 3 ml cada uno incluidas lancetas',\n",
              " 'insulina asparto recombinante 100 u . i ./ ml solución inyectable para administración subcutánea . dispositivo prellenado de 3 ml',\n",
              " 'insulina asparto recombinante 100 ui / ml solución inyectable en dispositivo para inyección prellenado tipo lápiz descartable 3 ml ; mas 15 agujas en donación . vencimiento mayor a 18 meses desde el envío de oc',\n",
              " 'insulina lispro o aspartato 100ui / ml x 3ml catridge o cartucho vidrio compatible con dispositivo inyector con capacidad de adminsitrar 0 , 5',\n",
              " 'insulina ultra rapida aspartica , lispro o glulisina , adn recombinante 100 u . i / ml , 10 ml ( 1000 u . i )',\n",
              " 'insulina ultrarapida aspartata 100 u / ml flexpen cod int . 40400170141',\n",
              " 'insulina ultrarapida aspartata 100 u / ml penfill cod int . 40400170053',\n",
              " 'insulina ultrarapida aspartato 100ui / ml x 10ml ( tipo novorapid o equivalente ) frasco - ampolla',\n",
              " 'insulina ultrarapida aspartato 100ui / ml x 3ml ( tipo novorapid o equivalente ) dispositivo inyector desechable',\n",
              " 'insulina ultrarrapida ( tipo lispro , aspartica , glulisina ) lapiz 100 ui / ml fc 3 ml',\n",
              " 'inuslina ultra rápida aspartica , lispro o glulisina 100 u . i / ml fa o cartucho 10 ml ( 1000 u . i .)'}"
            ]
          },
          "metadata": {},
          "execution_count": 66
        }
      ]
    },
    {
      "cell_type": "code",
      "source": [
        "total_list = []\n",
        "for i in dictionary_medicine_name[30:]:\n",
        "  temp_list = []\n",
        "  for k in data_tok_18:\n",
        "    add = False\n",
        "    for j in k:\n",
        "      if j == i:\n",
        "        add = True\n",
        "      if add == True:\n",
        "        temp_list.append(k)\n",
        "        #data_tok_18.remove(k)\n",
        "  total_list.append(temp_list)"
      ],
      "metadata": {
        "id": "62c3ISWxyfGD"
      },
      "id": "62c3ISWxyfGD",
      "execution_count": 70,
      "outputs": []
    },
    {
      "cell_type": "code",
      "source": [
        "dictionary_medicine_name[30]"
      ],
      "metadata": {
        "colab": {
          "base_uri": "https://localhost:8080/",
          "height": 35
        },
        "id": "sTG3hu3h17MC",
        "outputId": "4567bc57-fff6-4e11-dd10-505d46cc2617"
      },
      "id": "sTG3hu3h17MC",
      "execution_count": 71,
      "outputs": [
        {
          "output_type": "execute_result",
          "data": {
            "text/plain": [
              "'aspártica'"
            ],
            "application/vnd.google.colaboratory.intrinsic+json": {
              "type": "string"
            }
          },
          "metadata": {},
          "execution_count": 71
        }
      ]
    },
    {
      "cell_type": "code",
      "source": [
        "total_list_30 = [' '.join(row) for row in total_list[0]]\n",
        "set(total_list_30)"
      ],
      "metadata": {
        "colab": {
          "base_uri": "https://localhost:8080/"
        },
        "id": "FSYRtkxGyfDA",
        "outputId": "9c6d934e-a9dd-4a2d-d116-425e43833440"
      },
      "id": "FSYRtkxGyfDA",
      "execution_count": 72,
      "outputs": [
        {
          "output_type": "execute_result",
          "data": {
            "text/plain": [
              "{'111 - 0025 cartridge insulina análoga aspártica de acción ultrarapida 100 ui / ml c / aguja 3ml',\n",
              " '262 - 0096 insulina análoga aspártica 100 ui / ml',\n",
              " '262 - 0097 insulina análoga aspártica 100 ui / ml',\n",
              " '262 - 2509 insulina ultrarapida penfill ( análoga aspártica ) cartucho 100 ui / ml',\n",
              " 'insulina análoga aspártica de acción ultra rápida 100 ui / ml , lápiz prellenado desechable ; equivalente a novo rapid 100 ui / ml 5 flexpen 3 ml',\n",
              " 'insulina análoga de acción bifásica . 30 % aspártica soluble y 70 % aspártica retardada con protamina 100 ui / ml en presentación de lápiz prellenado desechable ; equivalente a novo mix 30 100 ui / ml 5 flexpen 3 ml',\n",
              " 'insulina aspártica 100 ui / ml envasado en cartucho de 3 ml mas dispositivo inyector desechable tipo lapiz . _x000d__x000d__x000d__x000d__x000d__x000d__x000d__x000d_ debe incluir por cada dispositivo inyector desechable 10 agujas de 32g x 4 mm_x000d__x000d__x000d__x000d__x000d__x000d__x000d__x000d_'}"
            ]
          },
          "metadata": {},
          "execution_count": 72
        }
      ]
    },
    {
      "cell_type": "code",
      "source": [
        "total_list_31 = [' '.join(row) for row in total_list[1]]\n",
        "set(total_list_31)\n",
        "#dictionary_medicine_name[31]"
      ],
      "metadata": {
        "colab": {
          "base_uri": "https://localhost:8080/"
        },
        "id": "leHA-xGSye_c",
        "outputId": "436fe901-8455-43a9-fc08-6b81d0f00b1c"
      },
      "id": "leHA-xGSye_c",
      "execution_count": 73,
      "outputs": [
        {
          "output_type": "execute_result",
          "data": {
            "text/plain": [
              "{'atazanavir / cobicistat 300 / 150 mg cm rec .', 'atazanavir 300 mg cp'}"
            ]
          },
          "metadata": {},
          "execution_count": 73
        }
      ]
    },
    {
      "cell_type": "code",
      "source": [
        "dictionary_medicine_name[31]"
      ],
      "metadata": {
        "colab": {
          "base_uri": "https://localhost:8080/",
          "height": 35
        },
        "id": "HCo0bcMPye6P",
        "outputId": "62ff07b3-53dd-4d6b-b12a-449c42e948b1"
      },
      "id": "HCo0bcMPye6P",
      "execution_count": 74,
      "outputs": [
        {
          "output_type": "execute_result",
          "data": {
            "text/plain": [
              "'atazanavir'"
            ],
            "application/vnd.google.colaboratory.intrinsic+json": {
              "type": "string"
            }
          },
          "metadata": {},
          "execution_count": 74
        }
      ]
    },
    {
      "cell_type": "code",
      "source": [
        "total_list_32 = [' '.join(row) for row in total_list[2]]\n",
        "set(total_list_32)\n",
        "#dictionary_medicine_name[32]"
      ],
      "metadata": {
        "colab": {
          "base_uri": "https://localhost:8080/"
        },
        "id": "y9wcIa06yezQ",
        "outputId": "aff44d85-54a5-4ece-9e67-5ab1e82634cb"
      },
      "id": "y9wcIa06yezQ",
      "execution_count": 75,
      "outputs": [
        {
          "output_type": "execute_result",
          "data": {
            "text/plain": [
              "{'atenolol', 'atenolol 50 mg cm'}"
            ]
          },
          "metadata": {},
          "execution_count": 75
        }
      ]
    },
    {
      "cell_type": "code",
      "source": [
        "dictionary_medicine_name[32]"
      ],
      "metadata": {
        "colab": {
          "base_uri": "https://localhost:8080/",
          "height": 35
        },
        "id": "VgeviqBJ-m62",
        "outputId": "80ab6220-efb9-47bc-f0dc-2d36e21acf0a"
      },
      "id": "VgeviqBJ-m62",
      "execution_count": 76,
      "outputs": [
        {
          "output_type": "execute_result",
          "data": {
            "text/plain": [
              "'atenolol'"
            ],
            "application/vnd.google.colaboratory.intrinsic+json": {
              "type": "string"
            }
          },
          "metadata": {},
          "execution_count": 76
        }
      ]
    },
    {
      "cell_type": "code",
      "source": [
        "total_list_33 = [' '.join(row) for row in total_list[3]]\n",
        "set(total_list_33)\n",
        "#dictionary_medicine_name[33]"
      ],
      "metadata": {
        "colab": {
          "base_uri": "https://localhost:8080/"
        },
        "id": "1vLdeLGK-m4K",
        "outputId": "da01679d-74a4-41d1-c815-8db2de9273e7"
      },
      "id": "1vLdeLGK-m4K",
      "execution_count": 77,
      "outputs": [
        {
          "output_type": "execute_result",
          "data": {
            "text/plain": [
              "{'atorvastatina',\n",
              " 'atorvastatina 10 mg gg / cm / cm rec',\n",
              " 'atorvastatina 20 mg gg / cm / cm rec',\n",
              " 'atorvastatina 40 mg cm rec .',\n",
              " 'atorvastatina 80mg cm rec'}"
            ]
          },
          "metadata": {},
          "execution_count": 77
        }
      ]
    },
    {
      "cell_type": "code",
      "source": [
        "dictionary_medicine_name[33]"
      ],
      "metadata": {
        "colab": {
          "base_uri": "https://localhost:8080/",
          "height": 35
        },
        "id": "IEkPX0Lf-m1F",
        "outputId": "3e1b6fb5-2432-42ad-dce2-632cd96ba5a2"
      },
      "id": "IEkPX0Lf-m1F",
      "execution_count": 78,
      "outputs": [
        {
          "output_type": "execute_result",
          "data": {
            "text/plain": [
              "'atorvastatina'"
            ],
            "application/vnd.google.colaboratory.intrinsic+json": {
              "type": "string"
            }
          },
          "metadata": {},
          "execution_count": 78
        }
      ]
    },
    {
      "cell_type": "code",
      "source": [
        "total_list_34 = [' '.join(row) for row in total_list[4]]\n",
        "set(total_list_34)\n",
        "#dictionary_medicine_name[34]"
      ],
      "metadata": {
        "colab": {
          "base_uri": "https://localhost:8080/"
        },
        "id": "B4z3Coyk-myF",
        "outputId": "e2ed6395-6a13-4606-a79e-56ac95479223"
      },
      "id": "B4z3Coyk-myF",
      "execution_count": 79,
      "outputs": [
        {
          "output_type": "execute_result",
          "data": {
            "text/plain": [
              "{'bedaquilina 100 mg cm / cp'}"
            ]
          },
          "metadata": {},
          "execution_count": 79
        }
      ]
    },
    {
      "cell_type": "code",
      "source": [
        "dictionary_medicine_name[34]"
      ],
      "metadata": {
        "colab": {
          "base_uri": "https://localhost:8080/",
          "height": 35
        },
        "id": "MSnqbvDe-mtz",
        "outputId": "d234a3f2-6422-4e8f-8721-b52e4e060e5b"
      },
      "id": "MSnqbvDe-mtz",
      "execution_count": 80,
      "outputs": [
        {
          "output_type": "execute_result",
          "data": {
            "text/plain": [
              "'bedaquilina'"
            ],
            "application/vnd.google.colaboratory.intrinsic+json": {
              "type": "string"
            }
          },
          "metadata": {},
          "execution_count": 80
        }
      ]
    },
    {
      "cell_type": "code",
      "source": [
        "total_list_35 = [' '.join(row) for row in total_list[5]]\n",
        "set(total_list_35)\n",
        "#dictionary_medicine_name[35]"
      ],
      "metadata": {
        "colab": {
          "base_uri": "https://localhost:8080/"
        },
        "id": "EwQYSY2r-mpl",
        "outputId": "457b09c9-8c91-46e7-a971-f048457b47ac"
      },
      "id": "EwQYSY2r-mpl",
      "execution_count": 81,
      "outputs": [
        {
          "output_type": "execute_result",
          "data": {
            "text/plain": [
              "{'amlodipino belisato 10 mg , bioequivalente , birranurado , con vencimiento dic / 22 y registro isp .',\n",
              " 'amlodipino belisato 5 mg , bioequivalente , con vencimiento ene / 23 y registro isp'}"
            ]
          },
          "metadata": {},
          "execution_count": 81
        }
      ]
    },
    {
      "cell_type": "code",
      "source": [
        "dictionary_medicine_name[35]"
      ],
      "metadata": {
        "colab": {
          "base_uri": "https://localhost:8080/",
          "height": 35
        },
        "id": "pWV_PpNq-mjR",
        "outputId": "75ac4f0d-2558-4cc5-f948-adfe0eb3abdb"
      },
      "id": "pWV_PpNq-mjR",
      "execution_count": 82,
      "outputs": [
        {
          "output_type": "execute_result",
          "data": {
            "text/plain": [
              "'belisato'"
            ],
            "application/vnd.google.colaboratory.intrinsic+json": {
              "type": "string"
            }
          },
          "metadata": {},
          "execution_count": 82
        }
      ]
    },
    {
      "cell_type": "code",
      "source": [
        "total_list_36 = [' '.join(row) for row in total_list[6]]\n",
        "total_list_36\n",
        "#dictionary_medicine_name[36]"
      ],
      "metadata": {
        "colab": {
          "base_uri": "https://localhost:8080/"
        },
        "id": "59584yfQ-mZo",
        "outputId": "060f3b12-bb43-48a6-fb8f-9c25666f5139"
      },
      "id": "59584yfQ-mZo",
      "execution_count": 83,
      "outputs": [
        {
          "output_type": "execute_result",
          "data": {
            "text/plain": [
              "[]"
            ]
          },
          "metadata": {},
          "execution_count": 83
        }
      ]
    },
    {
      "cell_type": "code",
      "source": [
        "dictionary_medicine_name[36]"
      ],
      "metadata": {
        "colab": {
          "base_uri": "https://localhost:8080/",
          "height": 35
        },
        "id": "9JC9GQI6-mVk",
        "outputId": "220a0932-ffa2-47ec-f014-590cff0fc16e"
      },
      "id": "9JC9GQI6-mVk",
      "execution_count": 84,
      "outputs": [
        {
          "output_type": "execute_result",
          "data": {
            "text/plain": [
              "'benzocaína'"
            ],
            "application/vnd.google.colaboratory.intrinsic+json": {
              "type": "string"
            }
          },
          "metadata": {},
          "execution_count": 84
        }
      ]
    },
    {
      "cell_type": "code",
      "source": [
        "total_list_37 = [' '.join(row) for row in total_list[7]]\n",
        "set(total_list_37)"
      ],
      "metadata": {
        "colab": {
          "base_uri": "https://localhost:8080/"
        },
        "id": "kOKEzyIC-mRO",
        "outputId": "ceb20e0c-ba36-4f05-cd6e-800aacb35e29"
      },
      "id": "kOKEzyIC-mRO",
      "execution_count": 85,
      "outputs": [
        {
          "output_type": "execute_result",
          "data": {
            "text/plain": [
              "{'004 - 0348 amlodipino besilato 10 mg comprimido oral',\n",
              " '004 - 0374 amlodipino besilato 5 mg comprimido oral',\n",
              " 'amlodipino 10 mg cm / cm rec : amlodipino besilato 10 mg , comprimidos',\n",
              " 'amlodipino besilato 10 mg , comprimidos birranurados , bioequivalente , registro sanitario , vencimiento superior a 24 meses',\n",
              " 'amlodipino besilato 10 mg comp . ( equivalente terapéutico / presentación por envase 30 o 1000 comp / regist . sanitario vigente / proveedor con autor . sanitaria vigente )',\n",
              " 'amlodipino besilato 10 mg comprimidos',\n",
              " 'amlodipino besilato 10 mg comprimidos recubiertos . envase aluminio / pvc .',\n",
              " 'amlodipino besilato 5 mg comprimidos',\n",
              " 'amlodipino besilato 5 mg comprimidos recubiertos . envase aluminio / pvc .'}"
            ]
          },
          "metadata": {},
          "execution_count": 85
        }
      ]
    },
    {
      "cell_type": "code",
      "source": [
        "dictionary_medicine_name[37]"
      ],
      "metadata": {
        "colab": {
          "base_uri": "https://localhost:8080/",
          "height": 35
        },
        "id": "tCRg38PEACgq",
        "outputId": "982607d6-42bb-4b52-8c91-3aa0bf7c66ba"
      },
      "id": "tCRg38PEACgq",
      "execution_count": 86,
      "outputs": [
        {
          "output_type": "execute_result",
          "data": {
            "text/plain": [
              "'besilato'"
            ],
            "application/vnd.google.colaboratory.intrinsic+json": {
              "type": "string"
            }
          },
          "metadata": {},
          "execution_count": 86
        }
      ]
    },
    {
      "cell_type": "code",
      "source": [
        "total_list_38 = [' '.join(row) for row in total_list[8]]\n",
        "set(total_list_38)\n",
        "#dictionary_medicine_name[38]"
      ],
      "metadata": {
        "colab": {
          "base_uri": "https://localhost:8080/"
        },
        "id": "wvo9NZq6AW21",
        "outputId": "355b0c7d-1e0b-43ae-f761-6a6540336ba6"
      },
      "id": "wvo9NZq6AW21",
      "execution_count": 87,
      "outputs": [
        {
          "output_type": "execute_result",
          "data": {
            "text/plain": [
              "{'bevacizumab 100 mg / 4 ml sol . p / inf . fam'}"
            ]
          },
          "metadata": {},
          "execution_count": 87
        }
      ]
    },
    {
      "cell_type": "code",
      "source": [
        "dictionary_medicine_name[38]"
      ],
      "metadata": {
        "colab": {
          "base_uri": "https://localhost:8080/",
          "height": 35
        },
        "id": "X-MAzGd0AWxL",
        "outputId": "0da9acf7-89ba-4e50-f3ec-1b6e36f736b2"
      },
      "id": "X-MAzGd0AWxL",
      "execution_count": 88,
      "outputs": [
        {
          "output_type": "execute_result",
          "data": {
            "text/plain": [
              "'bevacizumab'"
            ],
            "application/vnd.google.colaboratory.intrinsic+json": {
              "type": "string"
            }
          },
          "metadata": {},
          "execution_count": 88
        }
      ]
    },
    {
      "cell_type": "code",
      "source": [
        "total_list_39 = [' '.join(row) for row in total_list[9]]\n",
        "set(total_list_39)\n",
        "#dictionary_medicine_name[39]"
      ],
      "metadata": {
        "colab": {
          "base_uri": "https://localhost:8080/"
        },
        "id": "_W_mLQ3NAWtR",
        "outputId": "d35058f8-ea92-4a05-ad49-1541376c5b6b"
      },
      "id": "_W_mLQ3NAWtR",
      "execution_count": 89,
      "outputs": [
        {
          "output_type": "execute_result",
          "data": {
            "text/plain": [
              "{'amlodipino belisato 10 mg , bioequivalente , birranurado , con vencimiento dic / 22 y registro isp .'}"
            ]
          },
          "metadata": {},
          "execution_count": 89
        }
      ]
    },
    {
      "cell_type": "code",
      "source": [
        "dictionary_medicine_name[39]"
      ],
      "metadata": {
        "colab": {
          "base_uri": "https://localhost:8080/",
          "height": 35
        },
        "id": "eu7Lin-mAWqf",
        "outputId": "d00865be-772b-410b-b7f8-05bd030ebfc5"
      },
      "id": "eu7Lin-mAWqf",
      "execution_count": 90,
      "outputs": [
        {
          "output_type": "execute_result",
          "data": {
            "text/plain": [
              "'birranurado'"
            ],
            "application/vnd.google.colaboratory.intrinsic+json": {
              "type": "string"
            }
          },
          "metadata": {},
          "execution_count": 90
        }
      ]
    },
    {
      "cell_type": "code",
      "source": [
        "total_list_40 = [' '.join(row) for row in total_list[10]]\n",
        "set(total_list_40)\n",
        "#dictionary_medicine_name[40]"
      ],
      "metadata": {
        "colab": {
          "base_uri": "https://localhost:8080/"
        },
        "id": "XSd43vqhAWm_",
        "outputId": "138c63bd-70f9-4b98-f01e-e8bcf90612e9"
      },
      "id": "XSd43vqhAWm_",
      "execution_count": 91,
      "outputs": [
        {
          "output_type": "execute_result",
          "data": {
            "text/plain": [
              "{'amlodipino besilato 10 mg , comprimidos birranurados , bioequivalente , registro sanitario , vencimiento superior a 24 meses'}"
            ]
          },
          "metadata": {},
          "execution_count": 91
        }
      ]
    },
    {
      "cell_type": "code",
      "source": [
        "dictionary_medicine_name[40]"
      ],
      "metadata": {
        "colab": {
          "base_uri": "https://localhost:8080/",
          "height": 35
        },
        "id": "M7xmSQLUAWjR",
        "outputId": "35902f1b-f417-4a3a-b124-32547c408f5e"
      },
      "id": "M7xmSQLUAWjR",
      "execution_count": 92,
      "outputs": [
        {
          "output_type": "execute_result",
          "data": {
            "text/plain": [
              "'birranurados'"
            ],
            "application/vnd.google.colaboratory.intrinsic+json": {
              "type": "string"
            }
          },
          "metadata": {},
          "execution_count": 92
        }
      ]
    },
    {
      "cell_type": "code",
      "source": [
        "total_list_41 = [' '.join(row) for row in total_list[11]]\n",
        "set(total_list_41)\n",
        "#dictionary_medicine_name[41]"
      ],
      "metadata": {
        "colab": {
          "base_uri": "https://localhost:8080/"
        },
        "id": "zT326WICBAI_",
        "outputId": "02dd3451-ac81-474c-b897-43b879f6a716"
      },
      "id": "zT326WICBAI_",
      "execution_count": 93,
      "outputs": [
        {
          "output_type": "execute_result",
          "data": {
            "text/plain": [
              "{'bisoprolol 1 , 25 mg cm / cm rec .',\n",
              " 'bisoprolol 10 mg cm / cm rec .',\n",
              " 'bisoprolol 2 , 5 mg cm / cm rec .',\n",
              " 'bisoprolol 5 mg cm / cm rec .',\n",
              " 'fumarato de bisoprolol'}"
            ]
          },
          "metadata": {},
          "execution_count": 93
        }
      ]
    },
    {
      "cell_type": "code",
      "source": [
        "dictionary_medicine_name[41]"
      ],
      "metadata": {
        "colab": {
          "base_uri": "https://localhost:8080/",
          "height": 35
        },
        "id": "xtmrod2uBAty",
        "outputId": "eae9c8be-7d47-4d63-e9c4-725920d82ded"
      },
      "id": "xtmrod2uBAty",
      "execution_count": 94,
      "outputs": [
        {
          "output_type": "execute_result",
          "data": {
            "text/plain": [
              "'bisoprolol'"
            ],
            "application/vnd.google.colaboratory.intrinsic+json": {
              "type": "string"
            }
          },
          "metadata": {},
          "execution_count": 94
        }
      ]
    },
    {
      "cell_type": "code",
      "source": [
        "total_list_42 = [' '.join(row) for row in total_list[12]]\n",
        "set(total_list_42)\n",
        "#dictionary_medicine_name[42]"
      ],
      "metadata": {
        "colab": {
          "base_uri": "https://localhost:8080/"
        },
        "id": "yQ__LsVNBBHb",
        "outputId": "88ee3fe6-c08e-479d-e36b-d966319754d1"
      },
      "id": "yQ__LsVNBBHb",
      "execution_count": 95,
      "outputs": [
        {
          "output_type": "execute_result",
          "data": {
            "text/plain": [
              "{'glibenclamida 5 mg , caja con blisters x 60 comprimidos',\n",
              " 'metformina 500 mg / glibenclamida 2 , 5 mg , caja con blisters x 30 comprimidos recubiertos',\n",
              " 'metformina 850 mg , caja con blisters x 60 comprimidos recubiertos',\n",
              " 'saxagliptina 5 mg / metformina 1000 mg , caja con blisters x 100 comprimidos recubiertos de liberacion prolongada',\n",
              " 'vidagliptina 50 mg , caja con blisters x 28 o 56 comprimidos'}"
            ]
          },
          "metadata": {},
          "execution_count": 95
        }
      ]
    },
    {
      "cell_type": "code",
      "source": [
        "dictionary_medicine_name[42]"
      ],
      "metadata": {
        "colab": {
          "base_uri": "https://localhost:8080/",
          "height": 35
        },
        "id": "6Yv3RyR6Cwav",
        "outputId": "16ebafde-03f8-4134-8dd8-516432e41caa"
      },
      "id": "6Yv3RyR6Cwav",
      "execution_count": 96,
      "outputs": [
        {
          "output_type": "execute_result",
          "data": {
            "text/plain": [
              "'blisters'"
            ],
            "application/vnd.google.colaboratory.intrinsic+json": {
              "type": "string"
            }
          },
          "metadata": {},
          "execution_count": 96
        }
      ]
    },
    {
      "cell_type": "code",
      "source": [
        "total_list_43 = [' '.join(row) for row in total_list[13]]\n",
        "total_list_43\n",
        "#dictionary_medicine_name[43]"
      ],
      "metadata": {
        "colab": {
          "base_uri": "https://localhost:8080/"
        },
        "id": "OBehTqtICwVg",
        "outputId": "f7e79187-f737-4083-ba71-9e33f7d6d6b3"
      },
      "id": "OBehTqtICwVg",
      "execution_count": 97,
      "outputs": [
        {
          "output_type": "execute_result",
          "data": {
            "text/plain": [
              "['bromhexina']"
            ]
          },
          "metadata": {},
          "execution_count": 97
        }
      ]
    },
    {
      "cell_type": "code",
      "source": [
        "dictionary_medicine_name[43]"
      ],
      "metadata": {
        "colab": {
          "base_uri": "https://localhost:8080/",
          "height": 35
        },
        "id": "bYYM9DAWCwRK",
        "outputId": "2a404294-f74e-45bb-8491-1ca01ed617ef"
      },
      "id": "bYYM9DAWCwRK",
      "execution_count": 98,
      "outputs": [
        {
          "output_type": "execute_result",
          "data": {
            "text/plain": [
              "'bromhexina'"
            ],
            "application/vnd.google.colaboratory.intrinsic+json": {
              "type": "string"
            }
          },
          "metadata": {},
          "execution_count": 98
        }
      ]
    },
    {
      "cell_type": "code",
      "source": [
        "total_list_44 = [' '.join(row) for row in total_list[14]]\n",
        "set(total_list_44)\n",
        "#dictionary_medicine_name[44]"
      ],
      "metadata": {
        "colab": {
          "base_uri": "https://localhost:8080/"
        },
        "id": "WevS3Wg7CwNh",
        "outputId": "7c0ae61a-a8a4-43a2-fde1-11fb47925d70"
      },
      "id": "WevS3Wg7CwNh",
      "execution_count": 99,
      "outputs": [
        {
          "output_type": "execute_result",
          "data": {
            "text/plain": [
              "{'canagliflozina + metformina 150 / 1000 mg _x000d__x000d__x000d__x000d__x000d__x000d__x000d__x000d_',\n",
              " 'canagliflozina 150 mg / metformina 1000 mg envase comercial conteniendo 60 comprimidos',\n",
              " 'canagliflozina 300 mg . envase comercial conteniendo 30 comprimidos recubiertos similar a invokana',\n",
              " 'canagliflozina 50 mg ; metformina 1000 mg . comprimidos . envase sellado , resistente e inadulterado . similar a vokanamet'}"
            ]
          },
          "metadata": {},
          "execution_count": 99
        }
      ]
    },
    {
      "cell_type": "code",
      "source": [
        "dictionary_medicine_name[44]"
      ],
      "metadata": {
        "colab": {
          "base_uri": "https://localhost:8080/",
          "height": 35
        },
        "id": "8y_Lb8r_CwI8",
        "outputId": "4dea7605-f7e5-4cfd-80be-e85e499289ed"
      },
      "id": "8y_Lb8r_CwI8",
      "execution_count": 100,
      "outputs": [
        {
          "output_type": "execute_result",
          "data": {
            "text/plain": [
              "'canagliflozina'"
            ],
            "application/vnd.google.colaboratory.intrinsic+json": {
              "type": "string"
            }
          },
          "metadata": {},
          "execution_count": 100
        }
      ]
    },
    {
      "cell_type": "code",
      "source": [
        "total_list_45 = [' '.join(row) for row in total_list[15]]\n",
        "set(total_list_45)\n",
        "#dictionary_medicine_name[45]"
      ],
      "metadata": {
        "colab": {
          "base_uri": "https://localhost:8080/"
        },
        "id": "guejg9oWCwD6",
        "outputId": "e186da6f-e4cb-46f2-a3c7-831b731185a5"
      },
      "id": "guejg9oWCwD6",
      "execution_count": 101,
      "outputs": [
        {
          "output_type": "execute_result",
          "data": {
            "text/plain": [
              "{'capecitabina 150 mg cm rec', 'capecitabina 500 mg cm rec .'}"
            ]
          },
          "metadata": {},
          "execution_count": 101
        }
      ]
    },
    {
      "cell_type": "code",
      "source": [
        "dictionary_medicine_name[45]"
      ],
      "metadata": {
        "colab": {
          "base_uri": "https://localhost:8080/",
          "height": 35
        },
        "id": "su-C9VolDZ2i",
        "outputId": "bcf2ca88-5c15-4800-f358-539a2f0f4412"
      },
      "id": "su-C9VolDZ2i",
      "execution_count": 102,
      "outputs": [
        {
          "output_type": "execute_result",
          "data": {
            "text/plain": [
              "'capecitabina'"
            ],
            "application/vnd.google.colaboratory.intrinsic+json": {
              "type": "string"
            }
          },
          "metadata": {},
          "execution_count": 102
        }
      ]
    },
    {
      "cell_type": "code",
      "source": [
        "total_list_46 = [' '.join(row) for row in total_list[16]]\n",
        "set(total_list_46)\n",
        "#dictionary_medicine_name[46]"
      ],
      "metadata": {
        "colab": {
          "base_uri": "https://localhost:8080/"
        },
        "id": "XnC-38sUDZw_",
        "outputId": "f21ee396-a0ee-4587-8bd3-68d3d451470a"
      },
      "id": "XnC-38sUDZw_",
      "execution_count": 103,
      "outputs": [
        {
          "output_type": "execute_result",
          "data": {
            "text/plain": [
              "{'captopril 25 mg cm'}"
            ]
          },
          "metadata": {},
          "execution_count": 103
        }
      ]
    },
    {
      "cell_type": "code",
      "source": [
        "dictionary_medicine_name[46]"
      ],
      "metadata": {
        "colab": {
          "base_uri": "https://localhost:8080/",
          "height": 35
        },
        "id": "QP-JoFDgDZuB",
        "outputId": "41cb87cf-5220-4678-9658-d152eb5b3609"
      },
      "id": "QP-JoFDgDZuB",
      "execution_count": 104,
      "outputs": [
        {
          "output_type": "execute_result",
          "data": {
            "text/plain": [
              "'captopril'"
            ],
            "application/vnd.google.colaboratory.intrinsic+json": {
              "type": "string"
            }
          },
          "metadata": {},
          "execution_count": 104
        }
      ]
    },
    {
      "cell_type": "code",
      "source": [
        "total_list_47 = [' '.join(row) for row in total_list[17]]\n",
        "set(total_list_47)\n",
        "#dictionary_medicine_name[47]"
      ],
      "metadata": {
        "colab": {
          "base_uri": "https://localhost:8080/"
        },
        "id": "6GUOQh5LDZrN",
        "outputId": "d2c79c6d-f60e-4bad-f8cc-0ee91983cd6b"
      },
      "id": "6GUOQh5LDZrN",
      "execution_count": 105,
      "outputs": [
        {
          "output_type": "execute_result",
          "data": {
            "text/plain": [
              "{'metformina clorh . 1000 mg x 30 tab de lib . prolongada por sistema de doble matriz de polímero hidrofílico , inscripción sr1000 en una de sus caras y caja con impresión en braille , en blíster pvdc / aluminio . exc .: estearato de magnesio , carboximetilcelulosa e',\n",
              " 'metformina clorh . 500 mg x 30 tab de lib . prolongada por sistema de doble matriz de polímero hidrofílico , inscripción sr500 en una de sus caras y caja con impresión en braille , en blíster pvdc / aluminio . exc .: estearato de magnesio , carboximetilcelulosa e hi',\n",
              " 'metformina clorh . 750 mg x 30 tab de lib . prolongada por sistema de doble matriz de polímero hidrofílico , inscripción sr750 en una de sus caras y caja con impresión en braille , en blíster pvdc / aluminio . exc .: estearato de magnesio , carboximetilcelulosa e hi'}"
            ]
          },
          "metadata": {},
          "execution_count": 105
        }
      ]
    },
    {
      "cell_type": "code",
      "source": [
        "dictionary_medicine_name[47]"
      ],
      "metadata": {
        "colab": {
          "base_uri": "https://localhost:8080/",
          "height": 35
        },
        "id": "T2-vfz3xDZn_",
        "outputId": "2fa0f5d4-1d91-4eee-81bf-d18e900e3dcc"
      },
      "id": "T2-vfz3xDZn_",
      "execution_count": 106,
      "outputs": [
        {
          "output_type": "execute_result",
          "data": {
            "text/plain": [
              "'carboximetilcelulosa'"
            ],
            "application/vnd.google.colaboratory.intrinsic+json": {
              "type": "string"
            }
          },
          "metadata": {},
          "execution_count": 106
        }
      ]
    },
    {
      "cell_type": "code",
      "source": [
        "total_list_48 = [' '.join(row) for row in total_list[18]]\n",
        "set(total_list_48)\n",
        "#dictionary_medicine_name[48]"
      ],
      "metadata": {
        "colab": {
          "base_uri": "https://localhost:8080/"
        },
        "id": "kJrN5sZKDZlH",
        "outputId": "8367cfb2-b030-433d-a1f4-63eea23d6cc8"
      },
      "id": "kJrN5sZKDZlH",
      "execution_count": 107,
      "outputs": [
        {
          "output_type": "execute_result",
          "data": {
            "text/plain": [
              "{'carvedilol',\n",
              " 'carvedilol 12 , 5 mg cm / cm rec .',\n",
              " 'carvedilol 25 mg cm / cm rec .',\n",
              " 'carvedilol 6 , 25 mg cm / cm rec .'}"
            ]
          },
          "metadata": {},
          "execution_count": 107
        }
      ]
    },
    {
      "cell_type": "code",
      "source": [
        "dictionary_medicine_name[48]"
      ],
      "metadata": {
        "colab": {
          "base_uri": "https://localhost:8080/",
          "height": 35
        },
        "id": "Kf26WnmSDZhi",
        "outputId": "a0f1ae3b-0a3c-4bbf-a34f-a51049445a0a"
      },
      "id": "Kf26WnmSDZhi",
      "execution_count": 108,
      "outputs": [
        {
          "output_type": "execute_result",
          "data": {
            "text/plain": [
              "'carvedilol'"
            ],
            "application/vnd.google.colaboratory.intrinsic+json": {
              "type": "string"
            }
          },
          "metadata": {},
          "execution_count": 108
        }
      ]
    },
    {
      "cell_type": "code",
      "source": [
        "total_list_49 = [' '.join(row) for row in total_list[19]]\n",
        "set(total_list_49)\n",
        "#dictionary_medicine_name[49]"
      ],
      "metadata": {
        "colab": {
          "base_uri": "https://localhost:8080/"
        },
        "id": "3RCl_J3fEEzn",
        "outputId": "95129615-1148-43ac-f8a8-0c6ba4b8de0c"
      },
      "id": "3RCl_J3fEEzn",
      "execution_count": 109,
      "outputs": [
        {
          "output_type": "execute_result",
          "data": {
            "text/plain": [
              "{'insulina degludec * . * producida en saccharomyces cerevisiae por medio de la tecnología de adn recombinante , similar a insulina tresiba . solución inyectable ( flextouch ®)',\n",
              " 'insulina degludec , cada ml contiene 100 ui . un dispositivo prellenado contiene : 300 unidades de isnulina degludec en 3 ml de solucion . producida en saccharomyces cerevisiae por medio de la tecnologia de adn recombinante . tresiba o similar .',\n",
              " 'insulina humana , adnr ( producida por tecnología del adn recombinante en saccharomyces cerevisiae ) similar a insulatrad penfill . 100 ui / 1 ml suspensión inyectable .',\n",
              " 'insulina humana biosintética de origen adn recombinante , producida a partir de saccharomyces cerevisiae con excipientes cloruro de zinc , glicerol , metacresol , hidróxido de sodio , ácido clorhídrico y agua para inyectables . ( ver base )',\n",
              " 'insulina lenta humana , adnr ( producida por tecnología del adn recombinante en saccharomyces cerevisiae ). cada 1 ml contiene : 100 ui de insulina humana . una ui ( unidad internacional ) corresponde a 0 . 035 mg de insulina humana anhidra . cantidad estimada 50 f'}"
            ]
          },
          "metadata": {},
          "execution_count": 109
        }
      ]
    },
    {
      "cell_type": "code",
      "source": [
        "dictionary_medicine_name[49]"
      ],
      "metadata": {
        "colab": {
          "base_uri": "https://localhost:8080/",
          "height": 35
        },
        "id": "5Cou0d1lEEw6",
        "outputId": "2472ac32-c69e-4db4-ccc6-3e46077ecd75"
      },
      "id": "5Cou0d1lEEw6",
      "execution_count": 110,
      "outputs": [
        {
          "output_type": "execute_result",
          "data": {
            "text/plain": [
              "'cerevisiae'"
            ],
            "application/vnd.google.colaboratory.intrinsic+json": {
              "type": "string"
            }
          },
          "metadata": {},
          "execution_count": 110
        }
      ]
    },
    {
      "cell_type": "code",
      "source": [
        "total_list_50 = [' '.join(row) for row in total_list[20]]\n",
        "set(total_list_50)\n",
        "#dictionary_medicine_name[50]"
      ],
      "metadata": {
        "colab": {
          "base_uri": "https://localhost:8080/"
        },
        "id": "gAYTtuIxEEtv",
        "outputId": "4d1b6141-b64d-4745-ffaa-19a48c602877"
      },
      "id": "gAYTtuIxEEtv",
      "execution_count": 111,
      "outputs": [
        {
          "output_type": "execute_result",
          "data": {
            "text/plain": [
              "{'ciclofosfamida 1g fam polvo / polvo liofil'}"
            ]
          },
          "metadata": {},
          "execution_count": 111
        }
      ]
    },
    {
      "cell_type": "code",
      "source": [
        "dictionary_medicine_name[50]"
      ],
      "metadata": {
        "colab": {
          "base_uri": "https://localhost:8080/",
          "height": 35
        },
        "id": "ybqqxiQlEEpx",
        "outputId": "1dc070c9-3d3c-4c06-d208-78dc7786a801"
      },
      "id": "ybqqxiQlEEpx",
      "execution_count": 112,
      "outputs": [
        {
          "output_type": "execute_result",
          "data": {
            "text/plain": [
              "'ciclofosfamida'"
            ],
            "application/vnd.google.colaboratory.intrinsic+json": {
              "type": "string"
            }
          },
          "metadata": {},
          "execution_count": 112
        }
      ]
    },
    {
      "cell_type": "code",
      "source": [
        "total_list_51 = [' '.join(row) for row in total_list[21]]\n",
        "set(total_list_51)\n",
        "#dictionary_medicine_name[51]"
      ],
      "metadata": {
        "colab": {
          "base_uri": "https://localhost:8080/"
        },
        "id": "S-hljnIjEEmK",
        "outputId": "0473fa08-3ca7-4c9b-8208-18585794192b"
      },
      "id": "S-hljnIjEEmK",
      "execution_count": 113,
      "outputs": [
        {
          "output_type": "execute_result",
          "data": {
            "text/plain": [
              "{'ciclosporina 10 mg cp blanda',\n",
              " 'ciclosporina 100 mg cp blanda',\n",
              " 'ciclosporina 25 mg cp blanda',\n",
              " 'ciclosporina 50 mg cp blanda',\n",
              " 'ciclosporina 50mg / ml sol . inyec . am / fam',\n",
              " 'ciclosporina oral 100mg / ml fra 50 a 60ml'}"
            ]
          },
          "metadata": {},
          "execution_count": 113
        }
      ]
    },
    {
      "cell_type": "code",
      "source": [
        "dictionary_medicine_name[51]"
      ],
      "metadata": {
        "colab": {
          "base_uri": "https://localhost:8080/",
          "height": 35
        },
        "id": "W7gA_szNEEfq",
        "outputId": "1fa452c4-0783-404d-ba2a-0e8bb3c41746"
      },
      "id": "W7gA_szNEEfq",
      "execution_count": 114,
      "outputs": [
        {
          "output_type": "execute_result",
          "data": {
            "text/plain": [
              "'ciclosporina'"
            ],
            "application/vnd.google.colaboratory.intrinsic+json": {
              "type": "string"
            }
          },
          "metadata": {},
          "execution_count": 114
        }
      ]
    },
    {
      "cell_type": "code",
      "source": [
        "total_list_52 = [' '.join(row) for row in total_list[22]]\n",
        "set(total_list_52)\n",
        "#dictionary_medicine_name[52]"
      ],
      "metadata": {
        "colab": {
          "base_uri": "https://localhost:8080/"
        },
        "id": "2aQo1Vf5E1uV",
        "outputId": "11112ab7-6e3a-4365-e7f9-4a617faade95"
      },
      "id": "2aQo1Vf5E1uV",
      "execution_count": 115,
      "outputs": [
        {
          "output_type": "execute_result",
          "data": {
            "text/plain": [
              "{'imipenem - cilastatina 500 / 500 mg liof fam'}"
            ]
          },
          "metadata": {},
          "execution_count": 115
        }
      ]
    },
    {
      "cell_type": "code",
      "source": [
        "dictionary_medicine_name[52]"
      ],
      "metadata": {
        "colab": {
          "base_uri": "https://localhost:8080/",
          "height": 35
        },
        "id": "SQTp77suE1rx",
        "outputId": "9d9910f0-9d81-4e2a-be00-a987160354ee"
      },
      "id": "SQTp77suE1rx",
      "execution_count": 116,
      "outputs": [
        {
          "output_type": "execute_result",
          "data": {
            "text/plain": [
              "'cilastatina'"
            ],
            "application/vnd.google.colaboratory.intrinsic+json": {
              "type": "string"
            }
          },
          "metadata": {},
          "execution_count": 116
        }
      ]
    },
    {
      "cell_type": "code",
      "source": [
        "total_list_53 = [' '.join(row) for row in total_list[23]]\n",
        "total_list_53\n",
        "#dictionary_medicine_name[53]"
      ],
      "metadata": {
        "colab": {
          "base_uri": "https://localhost:8080/"
        },
        "id": "msTp6Yw8E1ob",
        "outputId": "64015cbc-944b-49ef-c091-64f093450ea2"
      },
      "id": "msTp6Yw8E1ob",
      "execution_count": 117,
      "outputs": [
        {
          "output_type": "execute_result",
          "data": {
            "text/plain": [
              "[]"
            ]
          },
          "metadata": {},
          "execution_count": 117
        }
      ]
    },
    {
      "cell_type": "code",
      "source": [
        "dictionary_medicine_name[53]"
      ],
      "metadata": {
        "colab": {
          "base_uri": "https://localhost:8080/",
          "height": 35
        },
        "id": "Q69izUkwE1lO",
        "outputId": "199b6181-01b1-4d8d-85e8-9034e003cfae"
      },
      "id": "Q69izUkwE1lO",
      "execution_count": 118,
      "outputs": [
        {
          "output_type": "execute_result",
          "data": {
            "text/plain": [
              "'clara '"
            ],
            "application/vnd.google.colaboratory.intrinsic+json": {
              "type": "string"
            }
          },
          "metadata": {},
          "execution_count": 118
        }
      ]
    },
    {
      "cell_type": "code",
      "source": [
        "total_list_54 = [' '.join(row) for row in total_list[24]]\n",
        "total_list_54\n",
        "#dictionary_medicine_name[54]"
      ],
      "metadata": {
        "colab": {
          "base_uri": "https://localhost:8080/"
        },
        "id": "mJTfZBrrE1hn",
        "outputId": "a2cccb33-b5c1-4ea0-b30d-289cfc095178"
      },
      "id": "mJTfZBrrE1hn",
      "execution_count": 119,
      "outputs": [
        {
          "output_type": "execute_result",
          "data": {
            "text/plain": [
              "[]"
            ]
          },
          "metadata": {},
          "execution_count": 119
        }
      ]
    },
    {
      "cell_type": "code",
      "source": [
        "dictionary_medicine_name[54]"
      ],
      "metadata": {
        "id": "WYmCaAQhHu2q",
        "colab": {
          "base_uri": "https://localhost:8080/",
          "height": 35
        },
        "outputId": "c0e66b74-6833-401c-ee8d-447820372662"
      },
      "id": "WYmCaAQhHu2q",
      "execution_count": 120,
      "outputs": [
        {
          "output_type": "execute_result",
          "data": {
            "text/plain": [
              "'clavulan'"
            ],
            "application/vnd.google.colaboratory.intrinsic+json": {
              "type": "string"
            }
          },
          "metadata": {},
          "execution_count": 120
        }
      ]
    },
    {
      "cell_type": "code",
      "source": [
        "total_list_55 = [' '.join(row) for row in total_list[25]]\n",
        "set(total_list_55)\n",
        "#dictionary_medicine_name[55]"
      ],
      "metadata": {
        "colab": {
          "base_uri": "https://localhost:8080/"
        },
        "id": "iINoYJtKE1bU",
        "outputId": "fdaabb62-0df0-4624-e6a8-e7870fa6b4d7"
      },
      "id": "iINoYJtKE1bU",
      "execution_count": 121,
      "outputs": [
        {
          "output_type": "execute_result",
          "data": {
            "text/plain": [
              "{'metformina ( clohidrato ) comp . recubiertos 850 mg'}"
            ]
          },
          "metadata": {},
          "execution_count": 121
        }
      ]
    },
    {
      "cell_type": "code",
      "source": [
        "dictionary_medicine_name[55]"
      ],
      "metadata": {
        "colab": {
          "base_uri": "https://localhost:8080/",
          "height": 35
        },
        "id": "MA-1JIQVHyVc",
        "outputId": "23049914-25c4-4979-af4b-bcef03803f9d"
      },
      "id": "MA-1JIQVHyVc",
      "execution_count": null,
      "outputs": [
        {
          "output_type": "execute_result",
          "data": {
            "text/plain": [
              "'clohidrato'"
            ],
            "application/vnd.google.colaboratory.intrinsic+json": {
              "type": "string"
            }
          },
          "metadata": {},
          "execution_count": 116
        }
      ]
    },
    {
      "cell_type": "code",
      "source": [
        "total_list_56 = [' '.join(row) for row in total_list[26]]\n",
        "set(total_list_56)\n",
        "#dictionary_medicine_name[56]"
      ],
      "metadata": {
        "colab": {
          "base_uri": "https://localhost:8080/"
        },
        "id": "qMRjMZZAHySl",
        "outputId": "fb578601-43ed-42c1-af52-1fee7dde8296"
      },
      "id": "qMRjMZZAHySl",
      "execution_count": null,
      "outputs": [
        {
          "output_type": "execute_result",
          "data": {
            "text/plain": [
              "[]"
            ]
          },
          "metadata": {},
          "execution_count": 117
        }
      ]
    },
    {
      "cell_type": "code",
      "source": [
        "dictionary_medicine_name[56]"
      ],
      "metadata": {
        "colab": {
          "base_uri": "https://localhost:8080/",
          "height": 35
        },
        "id": "nahjxSDDHyPj",
        "outputId": "7c65585a-d196-413b-bbb3-2527880517ef"
      },
      "id": "nahjxSDDHyPj",
      "execution_count": null,
      "outputs": [
        {
          "output_type": "execute_result",
          "data": {
            "text/plain": [
              "'clorfeniramina'"
            ],
            "application/vnd.google.colaboratory.intrinsic+json": {
              "type": "string"
            }
          },
          "metadata": {},
          "execution_count": 118
        }
      ]
    },
    {
      "cell_type": "code",
      "source": [
        "total_list_57 = [' '.join(row) for row in total_list[27]]\n",
        "set(total_list_57)\n",
        "#dictionary_medicine_name[57]"
      ],
      "metadata": {
        "colab": {
          "base_uri": "https://localhost:8080/"
        },
        "id": "JJuDlileHyMn",
        "outputId": "372e2a62-4438-44e0-c374-4d0ea4dbebfe"
      },
      "id": "JJuDlileHyMn",
      "execution_count": 122,
      "outputs": [
        {
          "output_type": "execute_result",
          "data": {
            "text/plain": [
              "{'004 - 0073 metformina clorhidrato comprimido ranurado oral 850 mg',\n",
              " '1093016 - 2 cada comprimido de liberacion prolongado contiene_x000d__x000d__x000d__x000d__x000d__x000d__x000d__x000d_ metformina clorhidrato 750 mg o equivalente a glicenex sr 750mg x 30 comp',\n",
              " '1093057 - 6 cada comprimido recubierto contiene 50mg de sitagliptina y 500mg de metformina clorhidrato . envase conteniendo 56 comp recubiertos . o equivalente a janumet 50 / 500 x 56 comp',\n",
              " '1093063 - 4 cada compromido de liberacion prolongada contiene _x000d__x000d__x000d__x000d__x000d__x000d__x000d__x000d_ metformina clorhidrato 750 mg . excepientes celulosa_x000d__x000d__x000d__x000d__x000d__x000d__x000d__x000d_ microcristalina , hipromelosa , etilcelulosa y estearato o equivalente a hipoglucin lp 750 mg x 60 comp .',\n",
              " '1093087 - 3 cada comprimido de liberación prolongrada contiene_x000d__x000d__x000d__x000d__x000d__x000d__x000d__x000d_ metformina clorhidrato 750 mg o equivalente a glaupax xr 750mg x 30 comp .',\n",
              " '111 - 0028 metformina clorhidrato cm recubierto 850mg',\n",
              " '12145144000 metformina clorhidrato cm recubierto 850 mg',\n",
              " '214 - 0070 metformina clorhidrato cm 850 mg_x000d__x000d__x000d__x000d__x000d__x000d__x000d__x000d_',\n",
              " '214 - 5142 metformina clorhidrato cm 850 mg envasado blister',\n",
              " '214 - 5142 metformina clorhidrato cm 850 mg envasado en blister',\n",
              " '2140163 metformina clorhidrato 850 mg comprimido',\n",
              " '25 . 000 metformina ( clorhidrato ) 1000 mg comprimido liberacion prolongada',\n",
              " '25 . 000 metformina ( clorhidrato ) 500 mg 1 comprimido',\n",
              " '300 . 000 metformina ( clorhidrato ) 850 mg 1 comprimido ( fofar )',\n",
              " '3002140031 metformina clorhidrato 850 mg comprimido',\n",
              " '50 - 214 - 700 - 006 - 00 metformina ( clorhidrato ) 850 mg_x000d__x000d__x000d__x000d__x000d__x000d__x000d__x000d_',\n",
              " '50 mg sitagliptina / 1000 mg metformina clorhidrato de liberación prolongada 30 comprimidos ( referencia janumet )',\n",
              " '50 mg sitagliptina / 500 mg metformina clorhidrato de liberación prolongada 30 comprimidos ( referencia janumet )',\n",
              " '50 mg sitagliptina / 850 mg metformina clorhidrato de liberación prolongada 30 comprimidos ( referencia janumet )',\n",
              " '5551520 metformina clorhidrato 850 mg comprimido recubierto',\n",
              " '64 . 25 mg de sitaglipina como fosfato monohidratado y metformina clorhidrato , equivalente a 50 mg de sitaglipina como base libre y 1000 mg de metformina clorhidrato ( janumet 50 mg / 1000 mg ).',\n",
              " '80 . 000 metformina ( clorhidrato ) 850 mg 1 comprimido',\n",
              " 'cada comprimido recubierto contiene : linagliptina 2 . 5 mg y metformina clorhidrato 1000 mg caja conteniendo 60 comprimidos . trayenta duo o similar_x000d__x000d__x000d__x000d__x000d__x000d__x000d__x000d_',\n",
              " 'cada comprimido recubierto contiene : linagliptina 2 . 5 mg y metformina clorhidrato 500 mg caja conteniendo 60 comprimidos . trayenta duo o similar_x000d__x000d__x000d__x000d__x000d__x000d__x000d__x000d_ _x000d__x000d__x000d__x000d__x000d__x000d__x000d__x000d_',\n",
              " 'caja 60 comprimido recubierto contiene : linagliptina 2 . 5 mg y metformina clorhidrato 1000 mg . similar a trayenta duo 2 . 5 / 1000',\n",
              " 'caja de 28 comp . recubiertos de liberacion prolongada contiene : dapagliflozina ( como propanodiol ) 10 mg y metformina clorhidrato 1000 mg . similar a xigduo xr 10 / 1000',\n",
              " 'caja de 28 comprimidos que contienen 128 . mg de sitagliptina monohidrato de fosfato ( equivalente a 100 mg de sitagliptina como base libre ) y 1000 mg de metformina clorhidrato de liberación prolongada ( 100 mg / 1000 mg ). similar a janumet xr 100 / 1000',\n",
              " 'caja de 28 comprimidos recubiertos de liberación prolongada contiene : dapagliflozina ( como propanodiol ) 10 mg y metformina clorhidrato 1000 mg . similar a xigduo 10 / 1000',\n",
              " 'caja de 28 comprimidos recubiertos de liberación prolongada contiene : dapagliflozina ( como propanodiol ) 5 mg y metformina clorhidrato 1000 mg . similar a xigduo 5 / 1000',\n",
              " 'caja de 30 comprimido contiene : metformina clorhidrato 1000 mg , liberación prolongada . similar a glaupax xr 1000mg',\n",
              " 'caja de 30 comprimido contiene : metformina clorhidrato 850 mg , liberación prolongada . similar a glaupax 850mg',\n",
              " 'caja de 56 comp . contiene : fosfato de sitagliptina monohidratado 50mg y metformina clorhidrato 850mg . similar a janumet 50 / 850',\n",
              " 'caja de 56 comprimidos que contienen 64 . 25 mg de sitagliptina monohidrato ( equivalente a 50 mg de sitagliptina como base libre ) y , 1000 mg de metformina clorhidrato de liberación prolongada ( 50 mg / 1000 mg ). similar a janumet xr 50 / 1000 x 56',\n",
              " 'caja de 60 comprimido contiene : metformina clorhidrato 850 mg , comprimidos recubiertos . similar a glaupax',\n",
              " 'caja de 60 comprimido contiene : metformina clorhidrato 850 mg , comprimidos recubiertos . similar a glidanil',\n",
              " 'caja de 60 comprimido de liberación prolongada contiene : metformina clorhidrato 750 mg . similar a hipoglucin lp 750mg',\n",
              " 'caja de 60 comprimido recubierto contiene : empagliflozina 12 . 5 mg y clorhidrato de metformina 850 mg . similar a jardiance duo 12 . 5 / 850',\n",
              " 'caja de 60 comprimido recubierto contiene : linagliptina 2 . 5 mg y metformina clorhidrato 1000 mg . similar a trayenta duo 2 . 5 / 1000',\n",
              " 'caja de 60 comprimido recubierto contiene : linagliptina 2 . 5 mg y metformina clorhidrato 850 mg . similar a trayenta duo 2 . 5 / 850',\n",
              " 'cajas de dapagliflozina 5mg + metformina clorhidrato 1000mg x 56 comp . liberacion prolongada',\n",
              " 'cajas de metformina clorhidrato 750mg x 30 comp . liberación prolongada',\n",
              " 'clorhidrato de clordiazepóxido',\n",
              " 'clorhidrato de diltiazem',\n",
              " 'clorhidrato de metronidazol',\n",
              " 'dapagliflozina ( como propanodiol ) 10 mg + metformina clorhidrato 1000 mg . envase conteniendo 28 comprimidos recubiertos de liberación prolongada .',\n",
              " 'dapagliflozina ( como propanodiol ) 10 mg + metformina clorhidrato 1000 mg x 28 comprimidos recubiertos de liberación prolongada , similar a xigduo xr 10 / 1000 mg x 28 comprimidos recubiertos de liberación prolongada',\n",
              " 'dapagliflozina ( como propanodiol ) 10 mg + metformina clorhidrato 1000 x 28 comp . de liberación prolongada , similar a xigduo xr 10 / 1000 mg x 28 comprimidos recubiertos de liberación prolongada',\n",
              " 'dapagliflozina ( como propanodiol ) 5 mg + metformina clorhidrato 1000 mg . envase conteniendo 56 comprimidos recubiertos de liberación prolongada .',\n",
              " 'dapagliflozina ( como propanodiol ) 5 mg + metformina clorhidrato 1000 mg . similar a xigduo 5 / 1000 mg',\n",
              " 'dapagliflozina ( como propanodiol ) 5 mg + metformina clorhidrato 1000 mg x 28 comprimidos de liberacion prolongada , similar a _x000d__x000d__x000d__x000d__x000d__x000d__x000d__x000d_ xigduo xr 5 / 1000 mg comprimidos recubiertos de liberación prolongada',\n",
              " 'dapagliflozina ( como propanodiol ) 5 mg + metformina clorhidrato 1000 mg x 56 comp_x000d__x000d__x000d__x000d__x000d__x000d__x000d__x000d_ ( xigduo xr 5 / 1000 mg )',\n",
              " 'dapagliflozina ( como propanodiol ) 5 mg + metformina clorhidrato 1000 mg x 56 comp_x000d__x000d__x000d__x000d__x000d__x000d__x000d__x000d_ ( xigduo xr 5 / 1000 mg ) _x000d__x000d__x000d__x000d__x000d__x000d__x000d__x000d_',\n",
              " 'dapagliflozina ( como propanodiol ) 5 mg + metformina clorhidrato 1000 mg x 56 comprimidos recubiertos de liberación prolongada , similar a xigduo xr 5 / 1000 mg x 56 comprimidos recubiertos de liberación prolongada',\n",
              " 'dapagliflozina ( como propanodiol ) 5 mg y metformina clorhidrato 1000 mg x 56 comp_x000d__x000d__x000d__x000d__x000d__x000d__x000d__x000d_',\n",
              " 'dapagliflozina / clorhidrato de metformina xr 10 / 1000 x 28 comp similar a xigduo xr _x000d__x000d__x000d__x000d__x000d__x000d__x000d__x000d_',\n",
              " 'dapagliflozina 10 mg + metformina clorhidrato 1000 mg x 28 comprimidos de liberación prolongada , similar a xigduo xr 10 / 1000 mg x 28 comprimidos recubiertos de liberación prolongada',\n",
              " 'dapaglifozina 10 mg + metformina clorhidrato 1000 mg , similar a xig duo 10 / 1000 mg por 60 comprimidos recubiertos de liberación prolongada',\n",
              " 'dapaglifozina 5 mg + metformina clorhidrato 1000 mg . similar a xig duo 5 / 1000 mg por r 60 comprimidos recubiertos de liberación prolongada',\n",
              " 'empagliflozina 12 . 5 mg + clorhidrato de metformina 850 mg x 60 comprimidos recubiertos , similar a jardiance duo 12 , 5 / 850 mg x 60 comprimidos recubiertos',\n",
              " 'empaglifozina 12 , 5 mg clorhidrato de metformina 850 mg',\n",
              " 'envase de 30 comprimidos que contiene : clorhidrato de metformina 500 mg , similar o igual a glafornil xr 500 mg .',\n",
              " 'envase de 30 comprimidos que contiene : clorhidrato de metformina 750 mg , similar o igual a glafornil xr 750 mg .',\n",
              " 'envase de 30 comprimidos que contiene : metformina clorhidrato 1000 mg ; similar o igual a glafornil xr 1000 mg .',\n",
              " 'envase de 30 comprimidos que contiene : metformina clorhidrato 500 mg ; similar o igual a glafornil xr 500 mg .',\n",
              " 'envase de 30 comprimidos que contiene : metformina clorhidrato 750 mg ; similar o igual a glafornil xr 750 mg .',\n",
              " 'envase de 56 comprimidos que contiene : sitagliptina 50 mg ; metformina clorhidrato 850 mg . similar o igual a janumet 50 / 850 mg .',\n",
              " 'glafornil 500 mg - metformina clorhidrato 500 mg ( referente terapéutico )',\n",
              " 'glafornil xr 1000 - metformina clorhidrato 1000 ( referente terapéutico )',\n",
              " 'glibenclamida / metformina clorhidrato 5 mg / 500 mg comprimido',\n",
              " 'glifortex metformina clorhidrato 850 mg , 60 comprimidos',\n",
              " 'linagliptina / clorhidrato metformina , 2 , 5mg / 850 mg x 60 comprimido recubierto .',\n",
              " 'linagliptina / metformina clorhidrato , de 60 comp . ( 2 , 5mg / 850 mg )',\n",
              " 'linagliptina 2 , 5 mg / metformina clorhidrato 1000 mg , caja x 60 comprimidos recubiertos ( equivalente a trayenta duo )',\n",
              " 'linagliptina 2 , 5 mg y 1000 mg clorhidrato de metformina comprimidos recubiertos ; equivalente a trayenta duo 2 . 5 / 1000 mg 60 comp',\n",
              " 'linagliptina 2 . 5 mg + metformina clorhidrato 1000 mg x 30 comprimidos , similar a trayenta duo 2 , 5 / 1000 mg comprimidos recubiertos',\n",
              " 'linagliptina 2 . 5 mg + metformina clorhidrato 1000 mg x 60 comp_x000d__x000d__x000d__x000d__x000d__x000d__x000d__x000d_ ( trayenta duo 2 , 5 / 1000 )',\n",
              " 'linagliptina 2 . 5 mg + metformina clorhidrato 1000 mg x 60 comprimidos , similar a trayenta duo 2 . 5 / 1000 mg x 60 comp .',\n",
              " 'linagliptina 2 . 5 mg + metformina clorhidrato 1000 mg x 60 comprimidos , similar a trayenta duo 2 . 5 / 1000 x 60 comprimidos',\n",
              " 'linagliptina 2 . 5 mg + metformina clorhidrato 1000 mg x 60 comprimidos , similar a trayenta duo comprimidos recubiertos x 60 comp .',\n",
              " 'linagliptina 2 . 5 mg + metformina clorhidrato 1000 mg x 60 comprimidos , similar a trayenta duo x 60 comprimidos recubiertos',\n",
              " 'linagliptina 2 . 5 mg + metformina clorhidrato 850 mg similar a trayenta 2 , 5 / 850mg comprimidos recubiertos',\n",
              " 'linagliptina 2 . 5 mg y metformina clorhidrato 850 mg x 60 comp',\n",
              " 'linagliptina 2 . 5 mg y metformina clorhidrato 850 mg x 60 comp rec similar a trayenta duo',\n",
              " 'lo que se requiere es dapagliflozina 10 mg y metformina clorhidrato 1000 mg . comprimidos de liberacion prolongada tipo xigduo',\n",
              " 'lo que se requiere es dapagliflozina 10 mg y metformina clorhidrato 1000 mg x 56 caomp tipo xigduo xr',\n",
              " 'línea 13 : metformina ( clorhidrato ) 850mg ( comprimido )',\n",
              " 'merformina clorhidrato cm o cm recubierto 850 mg',\n",
              " 'merformina clorhidrato comprimido o recubierto 850 mg',\n",
              " 'metformina ( clorhidrato ) - comprimido 1000 mg liberancion prolongada - via oral _x000d__x000d__x000d__x000d__x000d__x000d__x000d__x000d_',\n",
              " 'metformina ( clorhidrato ) 500 mg comprimido de liberación prolongada / xr - lp / documentacion tecnica solicitada : certificado de farmavigilancia , certificado de analisis de lote , bioequivalencia , estado del registro sanitario , envase comercial o enva',\n",
              " 'metformina ( clorhidrato ) 850 mg . comprimido o comprimido recubierto .',\n",
              " 'metformina ( clorhidrato ) 850 mg comprimido .',\n",
              " 'metformina ( clorhidrato ) 850 mg comprimido o comprimido recubierto , indicar laboratorio , fecha de vencimiento , plazo de entrega , monto mínimo despacho en especificaciones del proveedor .',\n",
              " 'metformina ( clorhidrato ) 850 mg comprimidos recubierto',\n",
              " 'metformina ( clorhidrato ) 850 mg solido oral venc . superior 12 meses comprimidos oblongos ranurables documentacion tecnica solicitada : certificado de farmavigilancia , certificado de analisis de lote , bioequivalencia , estado del registro sanitario , enva',\n",
              " 'metformina ( clorhidrato ) 850mg comp ranurado',\n",
              " 'metformina ( clorhidrato ) comprimido 850 mg',\n",
              " 'metformina ( clorhidrato ) comprimido o comprimido recubierto 850 mg',\n",
              " 'metformina ( clorhidrato ) comprimido o comprimido recubierto 850 mg 7000',\n",
              " 'metformina ( clorhidrato ) comprimido o comprimido recubierto 850 mg _x000d__x000d__x000d__x000d__x000d__x000d__x000d__x000d_',\n",
              " 'metformina ( clorhidrato ) comprimido o comprimido recubierto 850 mg_x000d__x000d__x000d__x000d__x000d__x000d__x000d__x000d_',\n",
              " 'metformina ( clorhidrato ) comprimido recubierto 500 mg equivalente a glafornil_x000d__x000d__x000d__x000d__x000d__x000d__x000d__x000d_',\n",
              " 'metformina ( clorhidrato ) comprimido recubierto 850 mg',\n",
              " 'metformina ( clorhidrato ) comprimido recubierto 850 mg equivalente a glafornil_x000d__x000d__x000d__x000d__x000d__x000d__x000d__x000d_',\n",
              " 'metformina ( clorhidrato ) comprimidos recubiertos 850',\n",
              " 'metformina clorhidrato 1000 lp',\n",
              " 'metformina clorhidrato 1000 mg',\n",
              " 'metformina clorhidrato 1000 mg , comprimidos de liberacion prolongada , envasados en blister de pvc o similar y aluminio impreso , envase 30 comprimidos de liberación prolongada . certificación fda o ema , gmp de la planta productora ( despacho parcializado ) _x000d__x000d__x000d__x000d__x000d__x000d__x000d__x000d_',\n",
              " 'metformina clorhidrato 1000 mg , comprimidos de liberacion prolongada , envasados en blister de pvc o similar y aluminio impreso , envase 30 comprimidos de liberación prolongada . certificación fda o ema , gmp de la planta productora ( despacho parcializado ) _x000d__x000d__x000d__x000d__x000d__x000d__x000d__x000d_ _x000d_',\n",
              " 'metformina clorhidrato 1000 mg , comprimidos de liberacion prolongada , envasados en blister de pvc o similar y aluminio impreso , envase 30 comprimidos de liberación prolongada . certificación fda o ema , gmp de la planta productora _x000d__x000d__x000d__x000d__x000d__x000d__x000d__x000d_ _x000d__x000d__x000d__x000d__x000d__x000d__x000d__x000d_ _x000d__x000d__x000d__x000d__x000d__x000d__x000d__x000d_',\n",
              " 'metformina clorhidrato 1000 mg , comprimidos de liberacion prolongada , envasados en blister de pvc o similar y aluminio impreso , envase 30 comprimidos de liberación prolongada . despacho parcializado_x000d__x000d__x000d__x000d__x000d__x000d__x000d__x000d_ _x000d__x000d__x000d__x000d__x000d__x000d__x000d__x000d_',\n",
              " 'metformina clorhidrato 1000 mg , comprimidos de liberación , bioequivalente , registro sanitario , vencimiento superior a 24 meses .',\n",
              " 'metformina clorhidrato 1000 mg , comprimidos de liberación prolongada ( np nº155 - fofar )',\n",
              " 'metformina clorhidrato 1000 mg . envase x 30 comp . liberacion prolongada . similar glaupax xr',\n",
              " 'metformina clorhidrato 1000 mg . envase x 30 comp . liberación prolongada . similar glaupax 1000 xr',\n",
              " 'metformina clorhidrato 1000 mg comprimido de liberación prolongada_x000d__x000d__x000d__x000d__x000d__x000d__x000d__x000d_',\n",
              " 'metformina clorhidrato 1000 mg comprimidos de liberacion prolongada_x000d__x000d__x000d__x000d__x000d__x000d__x000d__x000d_',\n",
              " 'metformina clorhidrato 1000 mg comprimidos de liberación prolongada',\n",
              " 'metformina clorhidrato 1000 mg comprimidos de liberación prolongada vencimiento superior a 1 año adjuntar carta de canje',\n",
              " 'metformina clorhidrato 1000 mg en comprimidos',\n",
              " 'metformina clorhidrato 1000 mg liberacion prolongada',\n",
              " 'metformina clorhidrato 1000 mg x 56 comp lib . prolongada_x000d__x000d__x000d__x000d__x000d__x000d__x000d__x000d_ ( glaupax xr , glifortx xr , glimefor xr , hipoglucin lp , tavist xr ) _x000d__x000d__x000d__x000d__x000d__x000d__x000d__x000d_',\n",
              " 'metformina clorhidrato 1000 mg x 56 comprimidos lib . prolongada ( glaupax xr , glifortex xr , glimefor xr , hipoglucin lp , tavist xr )',\n",
              " 'metformina clorhidrato 500 mg + glibenclamida 5 mg en comprimidos recubiertos . envase conteniendo 60 comprimidos .',\n",
              " 'metformina clorhidrato 500 mg + sitagliptina 50 mg . envase comercial en comprimidos de liberación convencional . fecha de vencimiento no menor a 12 meses desde la entrega .',\n",
              " 'metformina clorhidrato 500 mg , comprimido liberacion prolongada',\n",
              " 'metformina clorhidrato 500 mg . envase x 30 comp . liberacion prolongada . similar glaupax xr',\n",
              " 'metformina clorhidrato 500 mg . envase x 30 comp . liberación prolongada . similar glaupax 500 xr',\n",
              " 'metformina clorhidrato 500 mg . x 56 comprimidos , recubiertos ( glafornil , glicenex , glifortex , glidanil , hipoglucin , metformina )',\n",
              " 'metformina clorhidrato 500 mg / glibenclamida 2 , 5 mg x 30 comp _x000d__x000d__x000d__x000d__x000d__x000d__x000d__x000d_',\n",
              " 'metformina clorhidrato 500 mg / glibenclamida 5 mg en comprimidos',\n",
              " 'metformina clorhidrato 500 mg / glibenclamida 5mg',\n",
              " 'metformina clorhidrato 500 mg glibenclamida 2 , 5 mg , comprimidos , envasados en blister de pvc o similar y aluminio impreso , envase 30 comprimidos . _x000d__x000d__x000d__x000d__x000d__x000d__x000d__x000d_',\n",
              " 'metformina clorhidrato 500 mg glibenclamida 5 mg , comprimidos , envasados en blister de pvc o similar y aluminio impreso , envase 30 comprimidos . _x000d__x000d__x000d__x000d__x000d__x000d__x000d__x000d_',\n",
              " 'metformina clorhidrato 500 mg x 56 comp lib . prolongada',\n",
              " 'metformina clorhidrato 750 mg , comprimidos de liberacion prolongada , envasados en blister de pvc o similar y aluminio impreso , envase 30 comprimidos de liberación prolongada . certificación fda o ema , gmp de la planta productora _x000d__x000d__x000d__x000d__x000d__x000d__x000d__x000d_ _x000d__x000d__x000d__x000d__x000d__x000d__x000d__x000d_ _x000d__x000d__x000d__x000d__x000d__x000d__x000d__x000d_ _x000d__x000d__x000d__x000d__x000d__x000d__x000d__x000d_',\n",
              " 'metformina clorhidrato 750 mg , comprimidos de liberacion prolongada , envasados en blister de pvc o similar y aluminio impreso , envase 60 comprimidos de liberación prolongada . despacho parcializado_x000d__x000d__x000d__x000d__x000d__x000d__x000d__x000d_',\n",
              " 'metformina clorhidrato 750 mg . envase x 30 comp . liberacion prolongada . similar glaupax xr',\n",
              " 'metformina clorhidrato 750 mg . envase x 30 comp . liberación prolongada . similar glaupax 750 xr',\n",
              " 'metformina clorhidrato 750 mg x 1000 comp',\n",
              " 'metformina clorhidrato 750 xr similar a glafornil 750 xr',\n",
              " 'metformina clorhidrato 850 mg',\n",
              " 'metformina clorhidrato 850 mg , bioequivalente comprimido con registro sanitario vigente , vencimiento superior a 12 meses',\n",
              " 'metformina clorhidrato 850 mg , comprimido recubierto',\n",
              " 'metformina clorhidrato 850 mg , comprimidos , bioequivalente , registro sanitario , vencimiento superior a 24 meses',\n",
              " 'metformina clorhidrato 850 mg .',\n",
              " 'metformina clorhidrato 850 mg . comprimidos',\n",
              " 'metformina clorhidrato 850 mg . comprimidos recubiertos',\n",
              " 'metformina clorhidrato 850 mg . comprimidos recubiertos .',\n",
              " 'metformina clorhidrato 850 mg ., comprimido recubierto , ranurado , ovoide de tamaño pequeño para fácil deglución',\n",
              " 'metformina clorhidrato 850 mg ./ envase comercial',\n",
              " 'metformina clorhidrato 850 mg ; caja x 60 comprimidos bioequivalente , con excipientes : polividona , crospovidona , celulosa microcristalina , acido esteárico , alcohol polivinilico , dióxido de titanio , macrogol 3000 , talco .',\n",
              " 'metformina clorhidrato 850 mg cm',\n",
              " 'metformina clorhidrato 850 mg cm_x000d__x000d__x000d__x000d__x000d__x000d__x000d__x000d_',\n",
              " 'metformina clorhidrato 850 mg comp ( equivalente terapéutico / presentación por envase 30 o 1000 comp / regist . sanitario vigente / proveedor con autor . sanitaria vigente )',\n",
              " 'metformina clorhidrato 850 mg comprimido',\n",
              " 'metformina clorhidrato 850 mg comprimido f_x000d__x000d__x000d__x000d__x000d__x000d__x000d__x000d_',\n",
              " 'metformina clorhidrato 850 mg comprimido recubierto envasado en blister envase resistente con sello que asegure inviolabilidad del contenido .',\n",
              " 'metformina clorhidrato 850 mg comprimido_x000d__x000d__x000d__x000d__x000d__x000d__x000d_',\n",
              " 'metformina clorhidrato 850 mg comprimidos',\n",
              " 'metformina clorhidrato 850 mg comprimidos recubierto',\n",
              " 'metformina clorhidrato 850 mg comprimidos recubiertos',\n",
              " 'metformina clorhidrato 850 mg en comprimidos',\n",
              " 'metformina clorhidrato 850 mg envases clinicos por 1000 comprimidos_x000d__x000d__x000d__x000d__x000d__x000d__x000d__x000d_',\n",
              " 'metformina clorhidrato 850 mg x 1000 o 1200 cja venc . cja venc . superior 2 años 1000 caja venc . superior 2 años documentacion tecnica , certificado de farmavigilancia , politica de canje , devoluciones',\n",
              " 'metformina clorhidrato 850 mg x 1000 o 1200 cja venc . superior 1 años documentacion tecnica solicitada : certificado de farmavigilancia , politica de canje y devolucion , certificado de analisis de lote',\n",
              " 'metformina clorhidrato 850 mg x 1000 o 1200 cja venc . superior 2 años documentacion tecnica solicitada : certificado de farmavigilancia , politica de canje y devolucion , certificado de analisis de lote',\n",
              " 'metformina clorhidrato 850mg',\n",
              " 'metformina clorhidrato 850mg ; caja x 60 comprimidos ; bioequivalente . excipientes : povidona , crospovidona , celulosa microcristalina , acido esteárico ; producto elaborado en chile',\n",
              " 'metformina clorhidrato 850mg ; caja x 60 comprimidos ; bioequivalente . excipientes : povidona , crospovidona , celulosa microcristalina , acido esteárico ; producto elaborado en chile .',\n",
              " 'metformina clorhidrato ; comprimido 850 mg .',\n",
              " 'metformina clorhidrato cm 850 mg',\n",
              " 'metformina clorhidrato cm 850 mg .',\n",
              " 'metformina clorhidrato cm 850 mg _x000d__x000d__x000d__x000d__x000d__x000d__x000d__x000d_',\n",
              " 'metformina clorhidrato cm o cm recubierto 850 mg',\n",
              " 'metformina clorhidrato cm o cm recubierto 850 mg . _x000d__x000d__x000d__x000d__x000d__x000d__x000d__x000d_ _x000d__x000d__x000d__x000d__x000d__x000d__x000d__x000d_ ( cod . siabi 118834 )',\n",
              " 'metformina clorhidrato cm rec 850mg',\n",
              " 'metformina clorhidrato cm recubierto 850 mg',\n",
              " 'metformina clorhidrato comprimido 850 mg_x000d__x000d__x000d__x000d__x000d__x000d__x000d__x000d_',\n",
              " 'metformina clorhidrato comprimido o comprimido recubierto 850 mg',\n",
              " 'metformina clorhidrato comprimido o comprimido recubierto 850 mg_x000d__x000d__x000d__x000d__x000d__x000d__x000d__x000d_ vencimiento mayor a 12 meses',\n",
              " 'metformina clorhidrato comprimido recubierto 850 mg',\n",
              " 'metformina clorhidrato comprimido recubierto 850 mg .',\n",
              " 'metformina clorhidrato comprimidos 850mg',\n",
              " 'metformina clorhidrato comprimidos liberacion prolongada 1000 mg x 20 - 30 - 500 - 1000 cm venc . superior 2 años documentacion tecnica solicitada : certificado de farmavigilancia , politica de canje y devolucion , certificado de analisis de lote',\n",
              " 'metformina clorhidrato comprimidos recubierto 850 mg cajas x 60 comp .',\n",
              " 'metformina clorhidrato comprimidos recubiertos 850 mg',\n",
              " 'metformina clorhidrato comprimidos recubiertos 850 mg cajas por 60 comp',\n",
              " 'metformina clorhidrato de 1000 mg bioequivalente de 30 comp . vencimiento superior a 2 años',\n",
              " 'metformina clorhidrato recubierto 850 mg _x000d__x000d__x000d__x000d__x000d__x000d__x000d__x000d_',\n",
              " 'saxagliptina 5 mg + metformina clorhidrato 1000 mg x 28 comprimidos de liberación prolongada , similar a kombiglyze x 28 comprimidos recubiertos de liberación extendida',\n",
              " 'se requiere adquirir mertformina clorhidrato 1000 xr / cm',\n",
              " 'se requiere adquirir metformina clorhidrato 1000 mg / cm . liberacion prolongada',\n",
              " 'se requiere metformina clorhidrato 500mg / glibenclamida 2 , 5mg . envase comercial de 30 comprimidos recubiertos , fecha de vencimiento igual o superior a 12 meses , debe ingresar la información indicando dia mes y año .',\n",
              " 'se requiere saxagliptina 2 , 5mg / metformina clorhidrato 1000 mg . envase comercial de 56 comprimidos , fecha de vencimiento igual o superior a 12 meses , debe ingresar la informacion indicando dia mes y año .',\n",
              " 'se requiere saxagliptina 5 mg / metformina clorhidrato 1000 mg . envase comercial de 28 comprimidos , fecha de vencimiento igual o superior a 12 meses , debe ingresar la informacion indicando dia mes y año_x000d__x000d__x000d__x000d__x000d__x000d__x000d_',\n",
              " 'sitaglipina 50 mg + metformina clorhidrato 1000 mg x 56 comp_x000d__x000d__x000d__x000d__x000d__x000d__x000d__x000d_ ( janumet 50 / 1000 )',\n",
              " 'sitaglipina 50 mg + metformina clorhidrato 850 mg x 56 comp_x000d__x000d__x000d__x000d__x000d__x000d__x000d__x000d_ ( janumet 50 / 850 )',\n",
              " 'sitaglipina 50 mg . + metformina clorhidrato 1000 mg x 56 comprimidos ( janumet 50 / 1000 )',\n",
              " 'sitaglipina 50 mg y metformina clorhidrato 1000 mg . caja x 56 comp . similar janumet 50 mg / 1000 mg',\n",
              " 'sitaglipina como fosfato monohidratado 50 mg + metformina clorhidrato 1000 mg x 56 comprimidos , similar a janumet xr 50 / 1000 x 56 comprimidos',\n",
              " 'sitaglipina como fosfato monohidratado 50 mg + metformina clorhidrato 850 mg x 56 comprimidos , similar a janumet 50 / 850 mg x 56 comprimidos',\n",
              " 'sitagliptina 100 + metformina clorhidrato de liberación prolongada 1000 mg , similar janumet xr 100 / 1000 mg',\n",
              " 'sitagliptina 50 mg + metformina clorhidrato 1000 mg x 56 comprimidos , similar a janumet 50 / 1000 mg x 56 comprimidos recubiertos',\n",
              " 'sitagliptina 50 mg + metformina clorhidrato 850 mg x 56 comprimidos , similar a janumet 50 / 850 mg x 56 comprimidos recubiertos',\n",
              " 'sitagliptina 50 mg metformina clorhidrato 1000 mg , comprimidos , envasados en blister de pvc o similar y aluminio impreso , envase 56 comprimidos . tipo janumet 50 / 1000mg _x000d__x000d__x000d__x000d__x000d__x000d__x000d__x000d_',\n",
              " 'sitagliptina 50 mg metformina clorhidrato 1000 mg , comprimidos de liberacion prolongada , envasados en blister de pvc o similar y aluminio impreso , envase 56 comprimidos . tipo janumet 50 / 1000mg xr_x000d__x000d__x000d__x000d__x000d__x000d__x000d__x000d_',\n",
              " 'suministro de linagliptina 2 . 5 mg / clorhidrato de metformina 1000 mg , caja 60 comprimidos recubiertos',\n",
              " 'suministro de metformina clorhidrato 500 mg , caja 30 o 60 compr liberacion prolongada',\n",
              " 'suministro de metformina clorhidrato 500 mg / glibenclamida 5 mg , caja 30 o 60 comprimidos',\n",
              " 'suministro de metformina clorhidrato 500 mg / glibenclamida 5 mg equivalente a glukaut 500 / 5 , caja 60 comprimidos recubiertos',\n",
              " 'suministro de metformina clorhidrato 750 mg , caja 30 o 60 compr liberacion prolongada',\n",
              " 'suministro de metformina clorhidrato 850 mg , caja 30 o 60 comprimidos recubiertos',\n",
              " 'suministro de sitaglipina 50 mg / metformina clorhidrato 1000 mg equivalente a janumet 50 / 1000 , caja 28 o 56 comprimidos recubiertos',\n",
              " 'suministro de sitaglipina 50 mg / metformina clorhidrato 500 mg equivalente a janumet 50 / 500 , caja 28 o 56 comprimidos recubiertos',\n",
              " 'suministro de sitaglipina 50 mg / metformina clorhidrato 850 mg equivalente a janumet 50 / 850 , caja 28 o 56 comprimidos recubiertos',\n",
              " 'suministro de sitagliptina 50 mg / metformina clorhidrato 1000 mg equivalente a janumet xr 50 / 1000 , caja 56 comprimidos liberacion prolongada',\n",
              " 'suministro linagliptina 2 . 5 mg / clorhidrato de metformina 850 mg , caja 60 comprimidos recubiertos',\n",
              " 'trayenta duo ( linagliptina 2 . 5 mg y clorhidrato de metformina 500 mg ) x28comp . o similar . _x000d__x000d__x000d__x000d__x000d__x000d__x000d__x000d_',\n",
              " 'trayenta duo ( o similar ) ( linagliptina 2 . 5 mg y clorhidrato de metformina 500 mg ).',\n",
              " 'vildagliptina 50 / mg metformina clorhidrato 500 mg , según especificaciones en bases técnicas .',\n",
              " 'vildagliptina 50 mg + clorhidrato de metformina 1000 mg',\n",
              " 'vildagliptina 50 mg + metformina clorhidrato 850 mg x 56 comp . _x000d__x000d__x000d__x000d__x000d__x000d__x000d__x000d_ ( galvus met 50 / 850 ) _x000d__x000d__x000d__x000d__x000d__x000d__x000d__x000d_',\n",
              " 'vildagliptina 50 mg / metformina clorhidrato 1000 mg , según especificaciones en bases técnicas .',\n",
              " 'vildagliptina50mg + clorhidrato de metformina 1000mg ; similar a jalra m 50 / 1000 por 28 compr .',\n",
              " 'ítem n ° 12 .- metformina clorhidrato 850 mg . gragea / comprimido o comprimido recubierto .',\n",
              " '• dapagliflozina ( como propanodiol ) 5 mg . y metformina clorhidrato 1000 mg . forma farmacéutica , comprimidos recubiertos de liberación prolongada .',\n",
              " '• sitagliptina / metformina clorhidrato 100 / 1000 x 28 comprimidos recubiertos de liberación prolongada',\n",
              " '• sitagliptina / metformina clorhidrato 50 / 1000 x 56 comprimidos recubiertos',\n",
              " '• sitagliptina / metformina clorhidrato 50 / 1000 x 56 comprimidos recubiertos de liberación prolongada',\n",
              " '• sitagliptina / metformina clorhidrato 50 / 500 x 56 comprimidos recubiertos',\n",
              " '• sitagliptina / metformina clorhidrato 50 / 850 x 56 comprimidos recubiertos'}"
            ]
          },
          "metadata": {},
          "execution_count": 122
        }
      ]
    },
    {
      "cell_type": "code",
      "source": [
        "dictionary_medicine_name[57]"
      ],
      "metadata": {
        "colab": {
          "base_uri": "https://localhost:8080/",
          "height": 35
        },
        "id": "rMOb8Gz0HyJh",
        "outputId": "fe8fe6d5-7262-4228-9b5b-ed8433b6e740"
      },
      "id": "rMOb8Gz0HyJh",
      "execution_count": null,
      "outputs": [
        {
          "output_type": "execute_result",
          "data": {
            "text/plain": [
              "'clorhidrato'"
            ],
            "application/vnd.google.colaboratory.intrinsic+json": {
              "type": "string"
            }
          },
          "metadata": {},
          "execution_count": 120
        }
      ]
    },
    {
      "cell_type": "code",
      "source": [
        "total_list_58 = [' '.join(row) for row in total_list[28]]\n",
        "total_list_58\n",
        "#dictionary_medicine_name[58]"
      ],
      "metadata": {
        "colab": {
          "base_uri": "https://localhost:8080/"
        },
        "id": "1KyjcVbyHyF6",
        "outputId": "0c33c860-0a4f-4f4d-e1e3-6b878507f748"
      },
      "id": "1KyjcVbyHyF6",
      "execution_count": null,
      "outputs": [
        {
          "output_type": "execute_result",
          "data": {
            "text/plain": [
              "[]"
            ]
          },
          "metadata": {},
          "execution_count": 121
        }
      ]
    },
    {
      "cell_type": "code",
      "source": [
        "dictionary_medicine_name[58]"
      ],
      "metadata": {
        "colab": {
          "base_uri": "https://localhost:8080/",
          "height": 35
        },
        "id": "QFUG9e1lHx7I",
        "outputId": "88837d73-cbc3-417e-e45d-56ba4d2233b6"
      },
      "id": "QFUG9e1lHx7I",
      "execution_count": null,
      "outputs": [
        {
          "output_type": "execute_result",
          "data": {
            "text/plain": [
              "'clorhidriico '"
            ],
            "application/vnd.google.colaboratory.intrinsic+json": {
              "type": "string"
            }
          },
          "metadata": {},
          "execution_count": 122
        }
      ]
    },
    {
      "cell_type": "code",
      "source": [
        "total_list_59 = [' '.join(row) for row in total_list[29]]\n",
        "set(total_list_59)\n",
        "#dictionary_medicine_name[59]"
      ],
      "metadata": {
        "colab": {
          "base_uri": "https://localhost:8080/"
        },
        "id": "4xzThBm9Hxuu",
        "outputId": "aab3cf99-aef7-4a69-9854-1da5e06dd215"
      },
      "id": "4xzThBm9Hxuu",
      "execution_count": 123,
      "outputs": [
        {
          "output_type": "execute_result",
          "data": {
            "text/plain": [
              "{'insulina glulisina 100 ui / ml lápiz x 3 ml excipientes : m - cresol , trometamol , cloruro de sodio , polisorbato 20 , acido clorhídrico y / o hidróxido de sodio , agua para inyectables más aguja compatible de 32g 4mm ( 15 agujas por lapiz )',\n",
              " 'insulina humana biosintética de origen adn recombinante , producida a partir de saccharomyces cerevisiae con excipientes cloruro de zinc , glicerol , metacresol , hidróxido de sodio , ácido clorhídrico y agua para inyectables . ( ver base )'}"
            ]
          },
          "metadata": {},
          "execution_count": 123
        }
      ]
    },
    {
      "cell_type": "code",
      "source": [
        "dictionary_medicine_name[59]"
      ],
      "metadata": {
        "colab": {
          "base_uri": "https://localhost:8080/",
          "height": 35
        },
        "id": "_h_2jh9HIcMy",
        "outputId": "1742d204-e55b-4320-e79d-db8315853532"
      },
      "id": "_h_2jh9HIcMy",
      "execution_count": null,
      "outputs": [
        {
          "output_type": "execute_result",
          "data": {
            "text/plain": [
              "'clorhídrico'"
            ],
            "application/vnd.google.colaboratory.intrinsic+json": {
              "type": "string"
            }
          },
          "metadata": {},
          "execution_count": 124
        }
      ]
    },
    {
      "cell_type": "code",
      "source": [
        "total_list_60 = [' '.join(row) for row in total_list[30]]\n",
        "set(total_list_60)\n",
        "#dictionary_medicine_name[60]"
      ],
      "metadata": {
        "colab": {
          "base_uri": "https://localhost:8080/"
        },
        "id": "QQCCxkX0IcKQ",
        "outputId": "56bcc0c4-c0fd-4444-f621-6c764aea48c1"
      },
      "id": "QQCCxkX0IcKQ",
      "execution_count": 124,
      "outputs": [
        {
          "output_type": "execute_result",
          "data": {
            "text/plain": [
              "{'atazanavir / cobicistat 300 / 150 mg cm rec .',\n",
              " 'darunavir / cobicistat 800 / 150 mg cm rec'}"
            ]
          },
          "metadata": {},
          "execution_count": 124
        }
      ]
    },
    {
      "cell_type": "code",
      "source": [
        "dictionary_medicine_name[60]"
      ],
      "metadata": {
        "colab": {
          "base_uri": "https://localhost:8080/",
          "height": 35
        },
        "id": "yhmQBkiAIcF2",
        "outputId": "12f6fc62-21d8-4c19-db3a-2766ea6ab656"
      },
      "id": "yhmQBkiAIcF2",
      "execution_count": null,
      "outputs": [
        {
          "output_type": "execute_result",
          "data": {
            "text/plain": [
              "'cobicistat'"
            ],
            "application/vnd.google.colaboratory.intrinsic+json": {
              "type": "string"
            }
          },
          "metadata": {},
          "execution_count": 126
        }
      ]
    },
    {
      "cell_type": "code",
      "source": [
        "total_list_61 = [' '.join(row) for row in total_list[31]]\n",
        "set(total_list_61)\n",
        "#dictionary_medicine_name[61]"
      ],
      "metadata": {
        "colab": {
          "base_uri": "https://localhost:8080/"
        },
        "id": "LZhksfpjIcDQ",
        "outputId": "21f6dc3d-460f-4d6a-a57f-6c43b344587e"
      },
      "id": "LZhksfpjIcDQ",
      "execution_count": 125,
      "outputs": [
        {
          "output_type": "execute_result",
          "data": {
            "text/plain": [
              "{'compuestos orgánicos nitrados o nitrosados'}"
            ]
          },
          "metadata": {},
          "execution_count": 125
        }
      ]
    },
    {
      "cell_type": "code",
      "source": [
        "dictionary_medicine_name[61]"
      ],
      "metadata": {
        "colab": {
          "base_uri": "https://localhost:8080/",
          "height": 35
        },
        "id": "o1rLwxwKIcA6",
        "outputId": "2baf54e3-0951-4492-a652-55182b42ac05"
      },
      "id": "o1rLwxwKIcA6",
      "execution_count": null,
      "outputs": [
        {
          "output_type": "execute_result",
          "data": {
            "text/plain": [
              "'compuestos'"
            ],
            "application/vnd.google.colaboratory.intrinsic+json": {
              "type": "string"
            }
          },
          "metadata": {},
          "execution_count": 128
        }
      ]
    },
    {
      "cell_type": "code",
      "source": [
        "total_list_62 = [' '.join(row) for row in total_list[32]]\n",
        "set(total_list_62)\n",
        "#dictionary_medicine_name[62]"
      ],
      "metadata": {
        "colab": {
          "base_uri": "https://localhost:8080/"
        },
        "id": "jT8s_rB9Ib8O",
        "outputId": "7cb1f70d-dc98-4096-960b-c2a2a3ffd30f"
      },
      "id": "jT8s_rB9Ib8O",
      "execution_count": 126,
      "outputs": [
        {
          "output_type": "execute_result",
          "data": {
            "text/plain": [
              "{'insulina glulisina 100 ui / ml lápiz x 3 ml excipientes : m - cresol , trometamol , cloruro de sodio , polisorbato 20 , acido clorhídrico y / o hidróxido de sodio , agua para inyectables más aguja compatible de 32g 4mm ( 15 agujas por lapiz )'}"
            ]
          },
          "metadata": {},
          "execution_count": 126
        }
      ]
    },
    {
      "cell_type": "code",
      "source": [
        "dictionary_medicine_name[62]"
      ],
      "metadata": {
        "colab": {
          "base_uri": "https://localhost:8080/",
          "height": 35
        },
        "id": "-hwwBqBNIb2t",
        "outputId": "699768ad-4e6b-42e8-83a0-12abc7002902"
      },
      "id": "-hwwBqBNIb2t",
      "execution_count": null,
      "outputs": [
        {
          "output_type": "execute_result",
          "data": {
            "text/plain": [
              "'cresol'"
            ],
            "application/vnd.google.colaboratory.intrinsic+json": {
              "type": "string"
            }
          },
          "metadata": {},
          "execution_count": 130
        }
      ]
    },
    {
      "cell_type": "code",
      "source": [
        "total_list_63 = [' '.join(row) for row in total_list[33]]\n",
        "set(total_list_63)\n",
        "#dictionary_medicine_name[63]"
      ],
      "metadata": {
        "colab": {
          "base_uri": "https://localhost:8080/"
        },
        "id": "1WQ2DXbtIbyZ",
        "outputId": "020f1617-5daf-4f26-ca58-55cdde310114"
      },
      "id": "1WQ2DXbtIbyZ",
      "execution_count": 129,
      "outputs": [
        {
          "output_type": "execute_result",
          "data": {
            "text/plain": [
              "{'metformina clorhidrato 850 mg ; caja x 60 comprimidos bioequivalente , con excipientes : polividona , crospovidona , celulosa microcristalina , acido esteárico , alcohol polivinilico , dióxido de titanio , macrogol 3000 , talco .',\n",
              " 'metformina clorhidrato 850mg ; caja x 60 comprimidos ; bioequivalente . excipientes : povidona , crospovidona , celulosa microcristalina , acido esteárico ; producto elaborado en chile',\n",
              " 'metformina clorhidrato 850mg ; caja x 60 comprimidos ; bioequivalente . excipientes : povidona , crospovidona , celulosa microcristalina , acido esteárico ; producto elaborado en chile .'}"
            ]
          },
          "metadata": {},
          "execution_count": 129
        }
      ]
    },
    {
      "cell_type": "code",
      "source": [
        "dictionary_medicine_name[63]"
      ],
      "metadata": {
        "colab": {
          "base_uri": "https://localhost:8080/",
          "height": 35
        },
        "id": "3_IBBwZBIbul",
        "outputId": "361f45bc-c80c-476c-8de2-88695d1f47a5"
      },
      "id": "3_IBBwZBIbul",
      "execution_count": null,
      "outputs": [
        {
          "output_type": "execute_result",
          "data": {
            "text/plain": [
              "'crospovidona'"
            ],
            "application/vnd.google.colaboratory.intrinsic+json": {
              "type": "string"
            }
          },
          "metadata": {},
          "execution_count": 132
        }
      ]
    },
    {
      "cell_type": "code",
      "source": [
        "total_list_64 = [' '.join(row) for row in total_list[34]]\n",
        "total_list_64\n",
        "#dictionary_medicine_name[64]"
      ],
      "metadata": {
        "colab": {
          "base_uri": "https://localhost:8080/"
        },
        "id": "kFVy4FlEIbl4",
        "outputId": "83263a51-badd-41a6-9753-84ddf8979b96"
      },
      "id": "kFVy4FlEIbl4",
      "execution_count": null,
      "outputs": [
        {
          "output_type": "execute_result",
          "data": {
            "text/plain": [
              "['metformina comprimidos de 850 mg cantidad estimada 10000 comprimidos / cápsulas']"
            ]
          },
          "metadata": {},
          "execution_count": 133
        }
      ]
    },
    {
      "cell_type": "code",
      "source": [
        "dictionary_medicine_name[64]"
      ],
      "metadata": {
        "colab": {
          "base_uri": "https://localhost:8080/",
          "height": 35
        },
        "id": "vIj9fJljLSkE",
        "outputId": "7232ed31-6892-4107-a544-367680d74193"
      },
      "id": "vIj9fJljLSkE",
      "execution_count": null,
      "outputs": [
        {
          "output_type": "execute_result",
          "data": {
            "text/plain": [
              "'cápsulas'"
            ],
            "application/vnd.google.colaboratory.intrinsic+json": {
              "type": "string"
            }
          },
          "metadata": {},
          "execution_count": 134
        }
      ]
    },
    {
      "cell_type": "code",
      "source": [
        "total_list_65 = [' '.join(row) for row in total_list[35]]\n",
        "set(total_list_65)\n",
        "#dictionary_medicine_name[65]"
      ],
      "metadata": {
        "colab": {
          "base_uri": "https://localhost:8080/"
        },
        "id": "SSKfOdGRLbCz",
        "outputId": "523f42bb-1eb1-40a6-cb3f-37b23e409d70"
      },
      "id": "SSKfOdGRLbCz",
      "execution_count": 130,
      "outputs": [
        {
          "output_type": "execute_result",
          "data": {
            "text/plain": [
              "{'metform / dapagliflo 1000 / 10 mg cm lib pro',\n",
              " 'metform / dapagliflo 1000 / 10 mg cm lib pro ( 100004978 )',\n",
              " 'metform / dapagliflo 1000 / 5 mg cm lib pro',\n",
              " 'metform / dapagliflo 1000 / 5 mg cm lib pro ( 100004979 )'}"
            ]
          },
          "metadata": {},
          "execution_count": 130
        }
      ]
    },
    {
      "cell_type": "code",
      "source": [
        "dictionary_medicine_name[65]"
      ],
      "metadata": {
        "colab": {
          "base_uri": "https://localhost:8080/",
          "height": 35
        },
        "id": "jZ2IhLFfLa_0",
        "outputId": "7af38446-1b62-4d9a-9c3f-5488bac3ab10"
      },
      "id": "jZ2IhLFfLa_0",
      "execution_count": null,
      "outputs": [
        {
          "output_type": "execute_result",
          "data": {
            "text/plain": [
              "'dapagliflo'"
            ],
            "application/vnd.google.colaboratory.intrinsic+json": {
              "type": "string"
            }
          },
          "metadata": {},
          "execution_count": 136
        }
      ]
    },
    {
      "cell_type": "code",
      "source": [
        "total_list_66 = [' '.join(row) for row in total_list[36]]\n",
        "set(total_list_66)\n",
        "#dictionary_medicine_name[66]"
      ],
      "metadata": {
        "colab": {
          "base_uri": "https://localhost:8080/"
        },
        "id": "phRHNnDOLa9N",
        "outputId": "57e148cf-6c28-435a-af8f-9a3087f747bc"
      },
      "id": "phRHNnDOLa9N",
      "execution_count": 131,
      "outputs": [
        {
          "output_type": "execute_result",
          "data": {
            "text/plain": [
              "{'dapaglifoxina / metformina 10mg / 1000mg',\n",
              " 'dapaglifoxina / metformina5 mg / 1000mg',\n",
              " 'dapaglifoxina 10 mg'}"
            ]
          },
          "metadata": {},
          "execution_count": 131
        }
      ]
    },
    {
      "cell_type": "code",
      "source": [
        "dictionary_medicine_name[66]"
      ],
      "metadata": {
        "colab": {
          "base_uri": "https://localhost:8080/",
          "height": 35
        },
        "id": "v6f5OVg2La6A",
        "outputId": "15ad594a-df85-43fe-d7af-9a416f307421"
      },
      "id": "v6f5OVg2La6A",
      "execution_count": null,
      "outputs": [
        {
          "output_type": "execute_result",
          "data": {
            "text/plain": [
              "'dapaglifoxina'"
            ],
            "application/vnd.google.colaboratory.intrinsic+json": {
              "type": "string"
            }
          },
          "metadata": {},
          "execution_count": 138
        }
      ]
    },
    {
      "cell_type": "code",
      "source": [
        "total_list_67 = [' '.join(row) for row in total_list[37]]\n",
        "set(total_list_67)\n",
        "#dictionary_medicine_name[67]"
      ],
      "metadata": {
        "colab": {
          "base_uri": "https://localhost:8080/"
        },
        "id": "MPIDKCCvLa3I",
        "outputId": "c66ae460-8cd9-447c-9ed9-21459da65fe4"
      },
      "id": "MPIDKCCvLa3I",
      "execution_count": 132,
      "outputs": [
        {
          "output_type": "execute_result",
          "data": {
            "text/plain": [
              "{'\" dapaglifozina 5mg + metformina 1000 mg x 56 comp . prol . similar a xigduo xr . . .. . . . . . . . . . . . ..( se adjuntan bases administrativas y técnicas \"\" leerlas p / ofertar )\"',\n",
              " 'dapaglifozina + metformina 10 / 1000 mg comp . lp',\n",
              " 'dapaglifozina + metformina 10 / 1000 mg x 28 comp . lp',\n",
              " 'dapaglifozina + metformina 5 / 1000 mg comp . lp',\n",
              " 'dapaglifozina / metformina 5 / 1000 similar a xigduo 5 / 1000',\n",
              " 'dapaglifozina / metformina xr 10 / 1000 x 28 comp similar a xigduo',\n",
              " 'dapaglifozina / metformina xr 5 / 1000 x 56 comp similar a xigduo',\n",
              " 'dapaglifozina 10 mg',\n",
              " 'dapaglifozina 10 mg + metformina 1000 mg x 28 comprimidos recubiertos liberacion prolongada .. .( indicar fecha de vencimiento y registro isp )..',\n",
              " 'dapaglifozina 10 mg + metformina 1000 mg x 56 comp . similar a xigduo 10 / 1000_x000d__x000d__x000d__x000d__x000d__x000d__x000d__x000d_',\n",
              " 'dapaglifozina 10 mg + metformina 1000 mg x 56 comp . similar a xigduo 5 / 1000_x000d__x000d__x000d__x000d__x000d__x000d__x000d__x000d_',\n",
              " 'dapaglifozina 10 mg + metformina clorhidrato 1000 mg , similar a xig duo 10 / 1000 mg por 60 comprimidos recubiertos de liberación prolongada',\n",
              " 'dapaglifozina 10 mg . caja x 28 comp . rec . similar a forxiga . . ... .. .. . . . . ..( se adjuntan bases administrativas y técnicas ) _x000d__x000d__x000d__x000d__x000d__x000d__x000d__x000d_',\n",
              " 'dapaglifozina 10 mg ; metformina 1000 mg envase de 28 comprimidos recubiertos de liberacion prolongada ( eq a xigduo ). maximo a pagar $ 24 . 200 .-',\n",
              " 'dapaglifozina 10 mg cm recubierto',\n",
              " 'dapaglifozina 5 mg + metformina 1000 mg ( similar xigduo 5 / 1000 ) caja de 56 comprimidos .',\n",
              " 'dapaglifozina 5 mg + metformina clorhidrato 1000 mg . similar a xig duo 5 / 1000 mg por r 60 comprimidos recubiertos de liberación prolongada',\n",
              " 'dapaglifozina cm 10 mg',\n",
              " 'lo que se requiere es dapaglifozina 5 mg metformina 1000 x 56 comp',\n",
              " 'metformina 1000mg / dapaglifozina 10mg , según lo solicitado en bases administrativas , técnicas y anexos adjuntos .',\n",
              " 'metformina 1000mg / dapaglifozina 5mg , según lo solicitado en bases administrativas , técnicas y anexos adjuntos .',\n",
              " 'xig duo 5 / 1000 mg ( dapaglifozina / metformina 5 / 1000 mg ) * caja de 56 comprimidos',\n",
              " 'xigduo xr 5 / 1000 mg dapaglifozina / metformina , caja de 56 comp',\n",
              " 'xigduo xr dapaglifozina / metformina 10 / 1000mg , 56 comprimidos',\n",
              " 'xigduo xr dapaglifozina / metformina 5 / 1000mg , 56 comprimidos'}"
            ]
          },
          "metadata": {},
          "execution_count": 132
        }
      ]
    },
    {
      "cell_type": "code",
      "source": [
        "dictionary_medicine_name[67]"
      ],
      "metadata": {
        "colab": {
          "base_uri": "https://localhost:8080/",
          "height": 35
        },
        "id": "bbGWh_0zLaz5",
        "outputId": "5ad425e8-c0cf-4daa-c02f-7e080dce0bf0"
      },
      "id": "bbGWh_0zLaz5",
      "execution_count": null,
      "outputs": [
        {
          "output_type": "execute_result",
          "data": {
            "text/plain": [
              "'dapaglifozina'"
            ],
            "application/vnd.google.colaboratory.intrinsic+json": {
              "type": "string"
            }
          },
          "metadata": {},
          "execution_count": 140
        }
      ]
    },
    {
      "cell_type": "code",
      "source": [
        "total_list_68 = [' '.join(row) for row in total_list[38]]\n",
        "set(total_list_68)\n",
        "#dictionary_medicine_name[68]"
      ],
      "metadata": {
        "colab": {
          "base_uri": "https://localhost:8080/"
        },
        "id": "l6wVfdRDLawu",
        "outputId": "b8d59c6c-1a2a-4b0d-8dac-f5ff00fbbe0b"
      },
      "id": "l6wVfdRDLawu",
      "execution_count": 133,
      "outputs": [
        {
          "output_type": "execute_result",
          "data": {
            "text/plain": [
              "{'darunavir / cobicistat 800 / 150 mg cm rec',\n",
              " 'darunavir 400 mg cm rec',\n",
              " 'darunavir 600 mg cm rec'}"
            ]
          },
          "metadata": {},
          "execution_count": 133
        }
      ]
    },
    {
      "cell_type": "code",
      "source": [
        "dictionary_medicine_name[68]"
      ],
      "metadata": {
        "colab": {
          "base_uri": "https://localhost:8080/",
          "height": 35
        },
        "id": "dYHaEQgeLanM",
        "outputId": "463f3ad6-f302-4535-f436-c76200df626a"
      },
      "id": "dYHaEQgeLanM",
      "execution_count": null,
      "outputs": [
        {
          "output_type": "execute_result",
          "data": {
            "text/plain": [
              "'darunavir'"
            ],
            "application/vnd.google.colaboratory.intrinsic+json": {
              "type": "string"
            }
          },
          "metadata": {},
          "execution_count": 142
        }
      ]
    },
    {
      "cell_type": "code",
      "source": [
        "total_list_69 = [' '.join(row) for row in total_list[39]]\n",
        "set(total_list_69)\n",
        "#dictionary_medicine_name[69]"
      ],
      "metadata": {
        "colab": {
          "base_uri": "https://localhost:8080/"
        },
        "id": "KUMVFMWHL2Nu",
        "outputId": "bd044d44-1656-4007-e3ce-04ae3eb6dc4d"
      },
      "id": "KUMVFMWHL2Nu",
      "execution_count": 134,
      "outputs": [
        {
          "output_type": "execute_result",
          "data": {
            "text/plain": [
              "{'insulina deglodec solucion inyectable en dispositivo prellenado igual o superior a tresiba _x000d__x000d__x000d__x000d__x000d__x000d__x000d_ nota : se sugiere fecha de vencimiento superior a 1 año o en caso contrario contar con politicas de canje'}"
            ]
          },
          "metadata": {},
          "execution_count": 134
        }
      ]
    },
    {
      "cell_type": "code",
      "source": [
        "dictionary_medicine_name[69]"
      ],
      "metadata": {
        "colab": {
          "base_uri": "https://localhost:8080/",
          "height": 35
        },
        "id": "6gFrnIvYL2LI",
        "outputId": "15e5ba8f-1ded-4328-cfc7-c3ef95bd1383"
      },
      "id": "6gFrnIvYL2LI",
      "execution_count": null,
      "outputs": [
        {
          "output_type": "execute_result",
          "data": {
            "text/plain": [
              "'deglodec'"
            ],
            "application/vnd.google.colaboratory.intrinsic+json": {
              "type": "string"
            }
          },
          "metadata": {},
          "execution_count": 144
        }
      ]
    },
    {
      "cell_type": "code",
      "source": [
        "total_list_70 = [' '.join(row) for row in total_list[40]]\n",
        "set(total_list_70)\n",
        "#dictionary_medicine_name[70]"
      ],
      "metadata": {
        "colab": {
          "base_uri": "https://localhost:8080/"
        },
        "id": "7UdIoGntL2IO",
        "outputId": "56d02a0c-8658-419f-dc18-7a0ca017dee9"
      },
      "id": "7UdIoGntL2IO",
      "execution_count": 135,
      "outputs": [
        {
          "output_type": "execute_result",
          "data": {
            "text/plain": [
              "{'1092030 - 4 insulina degludec ( adn recombinante ) 100 u / ml _x000d__x000d__x000d__x000d__x000d__x000d__x000d__x000d_ flexpen 3ml o equivalente a ins . tresiba 100 u / ml plexpen 3ml',\n",
              " '1092030 - 4 insulina degludec ( adn recombinante ) 100 u / ml flexpen 3ml o equivalente a ins . tresiba 100 u / ml plexpen 3ml .',\n",
              " '1400034 analogo de insulina lenta degludec 100 u / ml x 3 ml sc similar tresiba flextouch . uso ocasional sol . iny . lapiz_x000d__x000d__x000d__x000d__x000d__x000d__x000d__x000d_',\n",
              " '216 - 5171 insulina degludec 100ui / ml 3 ml lapiz prellenado',\n",
              " '2200102 insulina degludec solución inyectable 100 u / ml lápiz descartable x 3 ml',\n",
              " '262 - 0114 insulina degludec 100 ui / ml x 3 ml . _x000d__x000d__x000d__x000d__x000d__x000d__x000d__x000d_ se debe considerar bonificacion de 10 agujas por lapiz . lapiz desechable 5600_x000d__x000d__x000d__x000d__x000d__x000d__x000d__x000d_',\n",
              " '262 - 0114 insulina glargina degludec 300 ui / 3 ml se debe considerar bonificación de 10 agujas por lápiz',\n",
              " '262 - 0264 insulina degludec 100 u . i ./ ml solucion inyectable cartucho 3ml dispositivo inyector 3 ml_x000d__x000d__x000d__x000d__x000d__x000d__x000d__x000d_',\n",
              " '2620056 insulina degludec 100ui / ml 3ml lapiz sol iny',\n",
              " '2620056 insulina degludec 100ui / ml 3ml lapiz sol iny 300ui total multidosis',\n",
              " '3002168452 insulina degludec 100 ui / ml sol inyectable',\n",
              " 'cód .: 2200043_x000d__x000d__x000d__x000d__x000d__x000d__x000d__x000d_ insulina degludec ( ultralenta ) 100ui / ml solucion inyectable lapiz prellenado 3ml',\n",
              " 'dispositivo prellenado contiene : 300 unidades de insulina degludec en 3 ml de solución . similar a tresiba',\n",
              " 'insulina degludec ( tresiba ) 100 ui / ml sol . inyectable',\n",
              " 'insulina degludec * . * producida en saccharomyces cerevisiae por medio de la tecnología de adn recombinante , similar a insulina tresiba . solución inyectable ( flextouch ®)',\n",
              " 'insulina degludec , cada ml contiene 100 ui . un dispositivo prellenado contiene : 300 unidades de isnulina degludec en 3 ml de solucion . producida en saccharomyces cerevisiae por medio de la tecnologia de adn recombinante . tresiba o similar .',\n",
              " 'insulina degludec , similar tresiba 100 ui / ml , caja de 1 dispositivo prellenado de 3 ml , uso subcutaneo',\n",
              " 'insulina degludec , similar tresiba 100 ui / ml , caja de 1 dispositivo prellenado de 3 ml , uso subcutaneo .',\n",
              " 'insulina degludec . solucion inyectable 100 ui / ml . envase con 1 dispositivo prellenado de 3 ml . similar a tresiba flextouch',\n",
              " 'insulina degludec . solucion inyectable 100 ui / ml . envase con 1 dispositivo prellenado de 3 ml . similar a tresiba flextouch ®.',\n",
              " 'insulina degludec 100 u / ml , solución inyectable en dispositivo prellenado , producto deseado tresiba solución inyectable 100 u / ml',\n",
              " 'insulina degludec 100 u / ml 1 x 3 ml similar a tresiba flextouch',\n",
              " 'insulina degludec 100 u / ml solución inyectable en dispositivo prellenado _x000d__x000d__x000d__x000d__x000d__x000d__x000d_ nota : se sugiere fecha de vencimiento superior a 1 año o en caso contrario contar con políticas de canje',\n",
              " 'insulina degludec 100 u / ml x 3 ml similar a tresiba flextouch',\n",
              " 'insulina degludec 100 ui ( 3 , 66 mg ). adn recombinante en dispositivo desechable .; equivalente a tresiba flex touch 100 ui / ml lápiz 3 ml',\n",
              " 'insulina degludec 100 ui , según especificaciones en bases técnicas .',\n",
              " 'insulina degludec 100 ui / ml 3 ml',\n",
              " 'insulina degludec 100 ui / ml disp iny 3ml ( 100004348 )',\n",
              " 'insulina degludec 100 ui / ml en lapiz desechable , especificar marca , caracteristicas y presentacion . consumo promedio mensual 40 unidades aproximadas .',\n",
              " 'insulina degludec 100 ui / ml lapiz inyectable - vencimiento mayor a 1 año , no se aceptan cartas de canje',\n",
              " 'insulina degludec 100 ui / ml lapiz prellenado de 3 ml ( similar tresiba )',\n",
              " 'insulina degludec 100 ui / ml solución inyectable en dispositivo para inyección prellenado tipo lápiz descartable 3 ml ; mas 15 agujas en donación . vencimiento mayor a 18 meses desde el envío de la orden .',\n",
              " 'insulina degludec 100ui / ml dispositivo ( tipo lapiz ) pre - cargado de 3 ml ( debe incluir una boniticacion de 10 agujas 32 g x 4 mm por lapiz )',\n",
              " 'insulina degludec 100ui / ml dispositivo ( tipo lapiz ) pre - cargado de 3 ml . debe incluir una bonificación de10 agujas 32 gx 4 mm por lápiz',\n",
              " 'insulina degludec 100ui / ml solución inyectable en dispositivo prellenado 3 ml_x000d__x000d__x000d__x000d__x000d__x000d__x000d__x000d_',\n",
              " 'insulina degludec 100ui / ml solución inyectable similar tresiba',\n",
              " 'insulina degludec dispositivo tipo lapiz',\n",
              " 'insulina degludec lapiz similar a tresiba',\n",
              " 'insulina degludec lápiz , según lo exigido en bases administrativas y técnicas .',\n",
              " 'insulina degludec lápiz , según lo indicado en bases administrativas , técnicas y anexos adjuntos .',\n",
              " 'insulina degludec solución inyectable 100 u / ml para aadministración parenteral . dispositivo inyector .',\n",
              " 'insulina ultralenta degludec 100ui / ml lapiz desechable 3ml ( 2620067 )',\n",
              " 'insulina ultralenta degludec 100ui / ml x 3ml ( tipo tresiba o equivalente ) dispositivo inyector desechable',\n",
              " 'insulinda degludec 100u / ml x 3 ml similar a tresiba flex touch',\n",
              " 'insuñlina degludec 100 ui / ml x 3 ml similar a tresiba flex touch',\n",
              " 'lo que se requiere es insulina degludec 100 ui / ml lapicera prellenada 3 ml tipo tresiba',\n",
              " 'lo que se requiere es insulina degludec en 3 ml lapiz',\n",
              " 'unidad insulina degludec 100 unidades por ml de solucion ( 1 x 3 ml ) _x000d__x000d__x000d__x000d__x000d__x000d__x000d_ nota : se sugiere fecha de vencimiento superior a 1 año o en caso contrario contar con politicas de canje'}"
            ]
          },
          "metadata": {},
          "execution_count": 135
        }
      ]
    },
    {
      "cell_type": "code",
      "source": [
        "dictionary_medicine_name[70]"
      ],
      "metadata": {
        "colab": {
          "base_uri": "https://localhost:8080/",
          "height": 35
        },
        "id": "z_CmF6liL2EV",
        "outputId": "a523c85e-1612-4f83-8648-4e117ca41f9c"
      },
      "id": "z_CmF6liL2EV",
      "execution_count": null,
      "outputs": [
        {
          "output_type": "execute_result",
          "data": {
            "text/plain": [
              "'degludec'"
            ],
            "application/vnd.google.colaboratory.intrinsic+json": {
              "type": "string"
            }
          },
          "metadata": {},
          "execution_count": 146
        }
      ]
    },
    {
      "cell_type": "code",
      "source": [
        "total_list_71 = [' '.join(row) for row in total_list[41]]\n",
        "set(total_list_71)\n",
        "#dictionary_medicine_name[71]"
      ],
      "metadata": {
        "colab": {
          "base_uri": "https://localhost:8080/"
        },
        "id": "_GMF13NML1_W",
        "outputId": "115e7e06-f0dd-48eb-cf10-51616f2499b9"
      },
      "id": "_GMF13NML1_W",
      "execution_count": 136,
      "outputs": [
        {
          "output_type": "execute_result",
          "data": {
            "text/plain": [
              "{'insulina degludex , solución inyectable 100 ui / ml , lápiz descartable 3 ml . unidad lápiz'}"
            ]
          },
          "metadata": {},
          "execution_count": 136
        }
      ]
    },
    {
      "cell_type": "code",
      "source": [
        "dictionary_medicine_name[71]"
      ],
      "metadata": {
        "colab": {
          "base_uri": "https://localhost:8080/",
          "height": 35
        },
        "id": "sqkLZhyPMyzD",
        "outputId": "e0859102-beab-4502-8e6f-865767d7dccd"
      },
      "id": "sqkLZhyPMyzD",
      "execution_count": null,
      "outputs": [
        {
          "output_type": "execute_result",
          "data": {
            "text/plain": [
              "'degludex'"
            ],
            "application/vnd.google.colaboratory.intrinsic+json": {
              "type": "string"
            }
          },
          "metadata": {},
          "execution_count": 148
        }
      ]
    },
    {
      "cell_type": "code",
      "source": [
        "total_list_72 = [' '.join(row) for row in total_list[42]]\n",
        "set(total_list_72)\n",
        "#dictionary_medicine_name[72]"
      ],
      "metadata": {
        "colab": {
          "base_uri": "https://localhost:8080/"
        },
        "id": "xCdVgiU1MywE",
        "outputId": "b864020b-2ea0-45a0-a588-24f4c7f26340"
      },
      "id": "xCdVgiU1MywE",
      "execution_count": 137,
      "outputs": [
        {
          "output_type": "execute_result",
          "data": {
            "text/plain": [
              "{'insulina deglutec 100 ui / ml_x000d__x000d__x000d__x000d__x000d__x000d__x000d__x000d_ 262 - 078'}"
            ]
          },
          "metadata": {},
          "execution_count": 137
        }
      ]
    },
    {
      "cell_type": "code",
      "source": [
        "dictionary_medicine_name[72]"
      ],
      "metadata": {
        "colab": {
          "base_uri": "https://localhost:8080/",
          "height": 35
        },
        "id": "nL1c9PsSMytS",
        "outputId": "83c03284-738a-4785-a036-44a9567d3fbe"
      },
      "id": "nL1c9PsSMytS",
      "execution_count": null,
      "outputs": [
        {
          "output_type": "execute_result",
          "data": {
            "text/plain": [
              "'deglutec'"
            ],
            "application/vnd.google.colaboratory.intrinsic+json": {
              "type": "string"
            }
          },
          "metadata": {},
          "execution_count": 150
        }
      ]
    },
    {
      "cell_type": "code",
      "source": [
        "total_list_73 = [' '.join(row) for row in total_list[43]]\n",
        "set(total_list_73)\n",
        "#dictionary_medicine_name[73]"
      ],
      "metadata": {
        "colab": {
          "base_uri": "https://localhost:8080/"
        },
        "id": "oxL9e3H2MyqT",
        "outputId": "a3f1c425-2e45-435a-a8f9-c45b7f1c849d"
      },
      "id": "oxL9e3H2MyqT",
      "execution_count": 138,
      "outputs": [
        {
          "output_type": "execute_result",
          "data": {
            "text/plain": [
              "{'delamanid 50 mg cm / cp'}"
            ]
          },
          "metadata": {},
          "execution_count": 138
        }
      ]
    },
    {
      "cell_type": "code",
      "source": [
        "dictionary_medicine_name[73]"
      ],
      "metadata": {
        "colab": {
          "base_uri": "https://localhost:8080/",
          "height": 35
        },
        "id": "5O86tdZOMynV",
        "outputId": "7e230793-460b-4a2d-95e9-60e8224359e3"
      },
      "id": "5O86tdZOMynV",
      "execution_count": null,
      "outputs": [
        {
          "output_type": "execute_result",
          "data": {
            "text/plain": [
              "'delamanid'"
            ],
            "application/vnd.google.colaboratory.intrinsic+json": {
              "type": "string"
            }
          },
          "metadata": {},
          "execution_count": 152
        }
      ]
    },
    {
      "cell_type": "code",
      "source": [
        "total_list_74 = [' '.join(row) for row in total_list[44]]\n",
        "total_list_74\n",
        "#dictionary_medicine_name[74]"
      ],
      "metadata": {
        "colab": {
          "base_uri": "https://localhost:8080/"
        },
        "id": "vC964JF7Myki",
        "outputId": "1fe99518-1ffc-4c98-9d95-296b484592f6"
      },
      "id": "vC964JF7Myki",
      "execution_count": null,
      "outputs": [
        {
          "output_type": "execute_result",
          "data": {
            "text/plain": [
              "[]"
            ]
          },
          "metadata": {},
          "execution_count": 153
        }
      ]
    },
    {
      "cell_type": "code",
      "source": [
        "dictionary_medicine_name[74]"
      ],
      "metadata": {
        "colab": {
          "base_uri": "https://localhost:8080/",
          "height": 35
        },
        "id": "wrJYAQMvMyht",
        "outputId": "7d19a601-4ac2-4a57-8a03-1f4fe334b950"
      },
      "id": "wrJYAQMvMyht",
      "execution_count": null,
      "outputs": [
        {
          "output_type": "execute_result",
          "data": {
            "text/plain": [
              "'deoxicolato'"
            ],
            "application/vnd.google.colaboratory.intrinsic+json": {
              "type": "string"
            }
          },
          "metadata": {},
          "execution_count": 154
        }
      ]
    },
    {
      "cell_type": "code",
      "source": [
        "total_list_75 = [' '.join(row) for row in total_list[45]]\n",
        "total_list_75\n",
        "#dictionary_medicine_name[75]"
      ],
      "metadata": {
        "colab": {
          "base_uri": "https://localhost:8080/"
        },
        "id": "zK8hs6M3Mydk",
        "outputId": "167b9628-0aba-41da-c24d-a9f7ac865db2"
      },
      "id": "zK8hs6M3Mydk",
      "execution_count": null,
      "outputs": [
        {
          "output_type": "execute_result",
          "data": {
            "text/plain": [
              "[]"
            ]
          },
          "metadata": {},
          "execution_count": 155
        }
      ]
    },
    {
      "cell_type": "code",
      "source": [
        "dictionary_medicine_name[75]"
      ],
      "metadata": {
        "colab": {
          "base_uri": "https://localhost:8080/",
          "height": 35
        },
        "id": "n0p4HmAIMyaC",
        "outputId": "a1edb945-dfcf-4b75-c2d5-da283ff98a44"
      },
      "id": "n0p4HmAIMyaC",
      "execution_count": null,
      "outputs": [
        {
          "output_type": "execute_result",
          "data": {
            "text/plain": [
              "'desoxicolato'"
            ],
            "application/vnd.google.colaboratory.intrinsic+json": {
              "type": "string"
            }
          },
          "metadata": {},
          "execution_count": 156
        }
      ]
    },
    {
      "cell_type": "code",
      "source": [
        "total_list_76 = [' '.join(row) for row in total_list[46]]\n",
        "set(total_list_76)\n",
        "#dictionary_medicine_name[76]"
      ],
      "metadata": {
        "colab": {
          "base_uri": "https://localhost:8080/"
        },
        "id": "OL22HO1QMyVK",
        "outputId": "6e2e3c5f-18da-498e-9e59-bd86821fe272"
      },
      "id": "OL22HO1QMyVK",
      "execution_count": 139,
      "outputs": [
        {
          "output_type": "execute_result",
          "data": {
            "text/plain": [
              "{'1160010 insulina detemir , rdna accion prolongada 100 u / ml 3ml lapiz sol iny',\n",
              " '1400121 analogo de insulina lenta detemir adn recombinante 100 u / ml 5 lapices x 3 ml sc , similar levemir flexpen sol . iny . lapiz_x000d__x000d__x000d__x000d__x000d__x000d__x000d__x000d_',\n",
              " '216 - 5173 insulina detemir 100ui / ml 3 ml lapiz prellenado',\n",
              " '262 - 0112 insulina detemir 100 ui / mlx 3 ml . lapiz 420',\n",
              " 'insul detemir sol / inyect 100 u . i ./ ml pen ( 100005501 )',\n",
              " 'insulina detemir ( levemir ) flexpen ( lapiz ) ( 2620021 ) _x000d__x000d__x000d__x000d__x000d__x000d__x000d__x000d_',\n",
              " 'insulina detemir , cada 1 ml de solucion contiene : 100 u de insulina detemir * ( equivalente a 14 . 2 mg ) 1 dispositivo prellenado contiene : 3 ml equivalente a 300 u . caja conteniendo 5 dispositivos . levemir o similar .',\n",
              " 'insulina detemir 100 ui / ml , especificar marca , características y presentación . consumo promedio mensual 10 unidades aprox .',\n",
              " 'insulina detemir 100 ui / ml - lapiz descartable cod . int . 40400170085',\n",
              " 'insulina detemir 100 ui lápiz _x000d__x000d__x000d__x000d__x000d__x000d__x000d__x000d_ 262 - 061',\n",
              " 'insulina detemir 300 ui / 3 ml ( 100 ui / ml ) inyectable en cartucho',\n",
              " 'insulina detemir cartridge 3 ml',\n",
              " 'insulina detemir recombinante , solución inyectable , 100 ui / ml , lápiz descartable de 3 ml . unidad lápiz',\n",
              " 'insulina ultralenta detemir 100 ui / ml lapiz desechable 3ml ( 2620021 )',\n",
              " 'insulina ultralenta detemir 100ui / ml x 3ml ( tipo levemir o equivalente ) dispositivo inyector desechable'}"
            ]
          },
          "metadata": {},
          "execution_count": 139
        }
      ]
    },
    {
      "cell_type": "code",
      "source": [
        "dictionary_medicine_name[76]"
      ],
      "metadata": {
        "colab": {
          "base_uri": "https://localhost:8080/",
          "height": 35
        },
        "id": "wzVKNDwfMyKS",
        "outputId": "e07b0e19-f9fa-453e-c749-ee56e0ec70c9"
      },
      "id": "wzVKNDwfMyKS",
      "execution_count": null,
      "outputs": [
        {
          "output_type": "execute_result",
          "data": {
            "text/plain": [
              "'detemir'"
            ],
            "application/vnd.google.colaboratory.intrinsic+json": {
              "type": "string"
            }
          },
          "metadata": {},
          "execution_count": 158
        }
      ]
    },
    {
      "cell_type": "code",
      "source": [
        "total_list_77 = [' '.join(row) for row in total_list[47]]\n",
        "set(total_list_77)\n",
        "#dictionary_medicine_name[77]"
      ],
      "metadata": {
        "colab": {
          "base_uri": "https://localhost:8080/"
        },
        "id": "DwE_7HIONZUP",
        "outputId": "56202790-3b83-4db5-8a6a-77607412c7a2"
      },
      "id": "DwE_7HIONZUP",
      "execution_count": 140,
      "outputs": [
        {
          "output_type": "execute_result",
          "data": {
            "text/plain": [
              "{'1092018 - 9 insulina determir 100ui / ml , en lapiz de 3ml , _x000d__x000d__x000d__x000d__x000d__x000d__x000d__x000d_ con vigencia superior a un año o equivalente a insul . levemir flexpen 100 ui',\n",
              " '1092018 - 9 o insulina determir 100ui / ml , en lapiz de 3ml , equivalente a insul . levemir flexpen 100 ui .'}"
            ]
          },
          "metadata": {},
          "execution_count": 140
        }
      ]
    },
    {
      "cell_type": "code",
      "source": [
        "dictionary_medicine_name[77]"
      ],
      "metadata": {
        "colab": {
          "base_uri": "https://localhost:8080/",
          "height": 35
        },
        "id": "JHJOyR2LNZRY",
        "outputId": "8d6c7457-9ad2-4b3b-c467-1a02d2243a3e"
      },
      "id": "JHJOyR2LNZRY",
      "execution_count": null,
      "outputs": [
        {
          "output_type": "execute_result",
          "data": {
            "text/plain": [
              "'determir'"
            ],
            "application/vnd.google.colaboratory.intrinsic+json": {
              "type": "string"
            }
          },
          "metadata": {},
          "execution_count": 160
        }
      ]
    },
    {
      "cell_type": "code",
      "source": [
        "total_list_78 = [' '.join(row) for row in total_list[48]]\n",
        "set(total_list_78)\n",
        "#dictionary_medicine_name[78]"
      ],
      "metadata": {
        "colab": {
          "base_uri": "https://localhost:8080/"
        },
        "id": "6e6aX4A9NZOE",
        "outputId": "d82c6653-d524-4767-9c98-9f19a16c1e68"
      },
      "id": "6e6aX4A9NZOE",
      "execution_count": 141,
      "outputs": [
        {
          "output_type": "execute_result",
          "data": {
            "text/plain": [
              "{'diamicron 60 mg x 30 comp . _x000d__x000d__x000d__x000d__x000d__x000d__x000d__x000d_',\n",
              " 'diamicron 60mg',\n",
              " 'diamicron mg 60 mg x 30',\n",
              " 'diamicron mr 60mg'}"
            ]
          },
          "metadata": {},
          "execution_count": 141
        }
      ]
    },
    {
      "cell_type": "code",
      "source": [
        "dictionary_medicine_name[78]"
      ],
      "metadata": {
        "colab": {
          "base_uri": "https://localhost:8080/",
          "height": 35
        },
        "id": "9Q8BopnCNZLM",
        "outputId": "b4e7a165-d5e3-4121-eb1d-ddb930c56333"
      },
      "id": "9Q8BopnCNZLM",
      "execution_count": null,
      "outputs": [
        {
          "output_type": "execute_result",
          "data": {
            "text/plain": [
              "'diamicron'"
            ],
            "application/vnd.google.colaboratory.intrinsic+json": {
              "type": "string"
            }
          },
          "metadata": {},
          "execution_count": 162
        }
      ]
    },
    {
      "cell_type": "code",
      "source": [
        "total_list_79 = [' '.join(row) for row in total_list[49]]\n",
        "total_list_79\n",
        "#dictionary_medicine_name[79]"
      ],
      "metadata": {
        "colab": {
          "base_uri": "https://localhost:8080/"
        },
        "id": "7vCLKNPyNZHj",
        "outputId": "2cff30d9-6a1b-43ed-d887-4768c910fd82"
      },
      "id": "7vCLKNPyNZHj",
      "execution_count": null,
      "outputs": [
        {
          "output_type": "execute_result",
          "data": {
            "text/plain": [
              "['diclofenaco potásico', 'diclofenaco potásico']"
            ]
          },
          "metadata": {},
          "execution_count": 163
        }
      ]
    },
    {
      "cell_type": "code",
      "source": [
        "dictionary_medicine_name[79]"
      ],
      "metadata": {
        "colab": {
          "base_uri": "https://localhost:8080/",
          "height": 35
        },
        "id": "6lzbGB-NNZBE",
        "outputId": "a8b56750-8e7e-41f5-d169-210001d7e434"
      },
      "id": "6lzbGB-NNZBE",
      "execution_count": null,
      "outputs": [
        {
          "output_type": "execute_result",
          "data": {
            "text/plain": [
              "'diclofenaco'"
            ],
            "application/vnd.google.colaboratory.intrinsic+json": {
              "type": "string"
            }
          },
          "metadata": {},
          "execution_count": 164
        }
      ]
    },
    {
      "cell_type": "code",
      "source": [
        "total_list_80 = [' '.join(row) for row in total_list[50]]\n",
        "total_list_80\n",
        "#dictionary_medicine_name[80]"
      ],
      "metadata": {
        "colab": {
          "base_uri": "https://localhost:8080/"
        },
        "id": "LIW7cUI9NY7k",
        "outputId": "fbc36e22-8b94-4ad1-cfbb-ba8573f2f909"
      },
      "id": "LIW7cUI9NY7k",
      "execution_count": null,
      "outputs": [
        {
          "output_type": "execute_result",
          "data": {
            "text/plain": [
              "['dicumarol']"
            ]
          },
          "metadata": {},
          "execution_count": 165
        }
      ]
    },
    {
      "cell_type": "code",
      "source": [
        "dictionary_medicine_name[80]"
      ],
      "metadata": {
        "colab": {
          "base_uri": "https://localhost:8080/",
          "height": 35
        },
        "id": "a0FzgF7ZNY1u",
        "outputId": "6b3ecd12-f2ba-4b76-e02d-53cfb08972f9"
      },
      "id": "a0FzgF7ZNY1u",
      "execution_count": null,
      "outputs": [
        {
          "output_type": "execute_result",
          "data": {
            "text/plain": [
              "'dicumarol'"
            ],
            "application/vnd.google.colaboratory.intrinsic+json": {
              "type": "string"
            }
          },
          "metadata": {},
          "execution_count": 166
        }
      ]
    },
    {
      "cell_type": "code",
      "source": [
        "total_list_81 = [' '.join(row) for row in total_list[51]]\n",
        "total_list_81\n",
        "#dictionary_medicine_name[81]"
      ],
      "metadata": {
        "colab": {
          "base_uri": "https://localhost:8080/"
        },
        "id": "UeY5KUJWNYx2",
        "outputId": "4278a775-e51e-4ea6-ba08-8fa0cc55002d"
      },
      "id": "UeY5KUJWNYx2",
      "execution_count": null,
      "outputs": [
        {
          "output_type": "execute_result",
          "data": {
            "text/plain": [
              "[]"
            ]
          },
          "metadata": {},
          "execution_count": 167
        }
      ]
    },
    {
      "cell_type": "code",
      "source": [
        "dictionary_medicine_name[81]"
      ],
      "metadata": {
        "colab": {
          "base_uri": "https://localhost:8080/",
          "height": 35
        },
        "id": "xuRemZ8RNYuT",
        "outputId": "53b10184-81e4-43bf-8b4f-390815c3d146"
      },
      "id": "xuRemZ8RNYuT",
      "execution_count": null,
      "outputs": [
        {
          "output_type": "execute_result",
          "data": {
            "text/plain": [
              "'dihidratado'"
            ],
            "application/vnd.google.colaboratory.intrinsic+json": {
              "type": "string"
            }
          },
          "metadata": {},
          "execution_count": 168
        }
      ]
    },
    {
      "cell_type": "code",
      "source": [
        "total_list_82 = [' '.join(row) for row in total_list[52]]\n",
        "total_list_82\n",
        "#dictionary_medicine_name[82]"
      ],
      "metadata": {
        "colab": {
          "base_uri": "https://localhost:8080/"
        },
        "id": "4yM_KlzhNYqx",
        "outputId": "ab19abd5-315a-4d1b-c519-71d4872ffa9b"
      },
      "id": "4yM_KlzhNYqx",
      "execution_count": null,
      "outputs": [
        {
          "output_type": "execute_result",
          "data": {
            "text/plain": [
              "['clorhidrato de diltiazem']"
            ]
          },
          "metadata": {},
          "execution_count": 169
        }
      ]
    },
    {
      "cell_type": "code",
      "source": [
        "dictionary_medicine_name[82]"
      ],
      "metadata": {
        "colab": {
          "base_uri": "https://localhost:8080/",
          "height": 35
        },
        "id": "D4Z2pOghNYnC",
        "outputId": "336230bc-c7bc-47e9-9ea4-63cec6dd249c"
      },
      "id": "D4Z2pOghNYnC",
      "execution_count": null,
      "outputs": [
        {
          "output_type": "execute_result",
          "data": {
            "text/plain": [
              "'diltiazem'"
            ],
            "application/vnd.google.colaboratory.intrinsic+json": {
              "type": "string"
            }
          },
          "metadata": {},
          "execution_count": 170
        }
      ]
    },
    {
      "cell_type": "code",
      "source": [
        "total_list_83 = [' '.join(row) for row in total_list[53]]\n",
        "set(total_list_83)\n",
        "#dictionary_medicine_name[83]"
      ],
      "metadata": {
        "colab": {
          "base_uri": "https://localhost:8080/"
        },
        "id": "9BZ6jCIZNYhi",
        "outputId": "03d63c5b-a7db-42c5-d539-d464a86ef643"
      },
      "id": "9BZ6jCIZNYhi",
      "execution_count": 142,
      "outputs": [
        {
          "output_type": "execute_result",
          "data": {
            "text/plain": [
              "{'tenofovir disoproxil 300 mg cm rec'}"
            ]
          },
          "metadata": {},
          "execution_count": 142
        }
      ]
    },
    {
      "cell_type": "code",
      "source": [
        "dictionary_medicine_name[83]"
      ],
      "metadata": {
        "colab": {
          "base_uri": "https://localhost:8080/",
          "height": 35
        },
        "id": "XHeYuzyuNYZ8",
        "outputId": "6fc0b0ef-d143-43a7-d068-e16b06a34193"
      },
      "id": "XHeYuzyuNYZ8",
      "execution_count": null,
      "outputs": [
        {
          "output_type": "execute_result",
          "data": {
            "text/plain": [
              "'disoproxil'"
            ],
            "application/vnd.google.colaboratory.intrinsic+json": {
              "type": "string"
            }
          },
          "metadata": {},
          "execution_count": 172
        }
      ]
    },
    {
      "cell_type": "code",
      "source": [
        "total_list_84 = [' '.join(row) for row in total_list[54]]\n",
        "total_list_84\n",
        "#dictionary_medicine_name[84]"
      ],
      "metadata": {
        "colab": {
          "base_uri": "https://localhost:8080/"
        },
        "id": "TMRgquWYP4bw",
        "outputId": "c33bf421-fb67-465b-932d-4be7445d4126"
      },
      "id": "TMRgquWYP4bw",
      "execution_count": null,
      "outputs": [
        {
          "output_type": "execute_result",
          "data": {
            "text/plain": [
              "[]"
            ]
          },
          "metadata": {},
          "execution_count": 173
        }
      ]
    },
    {
      "cell_type": "code",
      "source": [
        "dictionary_medicine_name[84]"
      ],
      "metadata": {
        "colab": {
          "base_uri": "https://localhost:8080/",
          "height": 35
        },
        "id": "O6o0kWANP4XN",
        "outputId": "8e679546-19d1-46b9-d877-3be5f7ccde22"
      },
      "id": "O6o0kWANP4XN",
      "execution_count": null,
      "outputs": [
        {
          "output_type": "execute_result",
          "data": {
            "text/plain": [
              "'disódico'"
            ],
            "application/vnd.google.colaboratory.intrinsic+json": {
              "type": "string"
            }
          },
          "metadata": {},
          "execution_count": 174
        }
      ]
    },
    {
      "cell_type": "code",
      "source": [
        "total_list_85 = [' '.join(row) for row in total_list[55]]\n",
        "set(total_list_85)\n",
        "#dictionary_medicine_name[85]"
      ],
      "metadata": {
        "colab": {
          "base_uri": "https://localhost:8080/"
        },
        "id": "fVXrVCcFP4Rh",
        "outputId": "ed09a741-c40e-4f07-e9d3-d09b1e1356da"
      },
      "id": "fVXrVCcFP4Rh",
      "execution_count": 143,
      "outputs": [
        {
          "output_type": "execute_result",
          "data": {
            "text/plain": [
              "{'docetaxel 20 mg / 2ml sol . admin . iv fam',\n",
              " 'docetaxel 80 mg / 2ml sol . admin . iv fam'}"
            ]
          },
          "metadata": {},
          "execution_count": 143
        }
      ]
    },
    {
      "cell_type": "code",
      "source": [
        "dictionary_medicine_name[85]"
      ],
      "metadata": {
        "colab": {
          "base_uri": "https://localhost:8080/",
          "height": 35
        },
        "id": "TjlV61GbP4JS",
        "outputId": "c2a04afb-7c56-43a4-936b-d3f996e9a296"
      },
      "id": "TjlV61GbP4JS",
      "execution_count": null,
      "outputs": [
        {
          "output_type": "execute_result",
          "data": {
            "text/plain": [
              "'docetaxel'"
            ],
            "application/vnd.google.colaboratory.intrinsic+json": {
              "type": "string"
            }
          },
          "metadata": {},
          "execution_count": 176
        }
      ]
    },
    {
      "cell_type": "code",
      "source": [
        "total_list_86 = [' '.join(row) for row in total_list[56]]\n",
        "total_list_86\n",
        "#dictionary_medicine_name[86]"
      ],
      "metadata": {
        "colab": {
          "base_uri": "https://localhost:8080/"
        },
        "id": "hxm0rHz8P4C5",
        "outputId": "75ba4ab1-1d6a-4b9b-e933-a980d421d911"
      },
      "id": "hxm0rHz8P4C5",
      "execution_count": null,
      "outputs": [
        {
          "output_type": "execute_result",
          "data": {
            "text/plain": [
              "[]"
            ]
          },
          "metadata": {},
          "execution_count": 177
        }
      ]
    },
    {
      "cell_type": "code",
      "source": [
        "dictionary_medicine_name[86]"
      ],
      "metadata": {
        "colab": {
          "base_uri": "https://localhost:8080/",
          "height": 35
        },
        "id": "qlmoZIjTP39d",
        "outputId": "035b7f60-f9da-4a3a-cc98-2e85890404c3"
      },
      "id": "qlmoZIjTP39d",
      "execution_count": null,
      "outputs": [
        {
          "output_type": "execute_result",
          "data": {
            "text/plain": [
              "'dolutegrav'"
            ],
            "application/vnd.google.colaboratory.intrinsic+json": {
              "type": "string"
            }
          },
          "metadata": {},
          "execution_count": 178
        }
      ]
    },
    {
      "cell_type": "code",
      "source": [
        "total_list_87 = [' '.join(row) for row in total_list[57]]\n",
        "set(total_list_87)\n",
        "#dictionary_medicine_name[87]"
      ],
      "metadata": {
        "colab": {
          "base_uri": "https://localhost:8080/"
        },
        "id": "KL_n_G3IP32U",
        "outputId": "2e62f3b1-6505-4ff7-ad18-c8eb3db0447a"
      },
      "id": "KL_n_G3IP32U",
      "execution_count": 144,
      "outputs": [
        {
          "output_type": "execute_result",
          "data": {
            "text/plain": [
              "{'dolutegravir 50 mg cm rec .'}"
            ]
          },
          "metadata": {},
          "execution_count": 144
        }
      ]
    },
    {
      "cell_type": "code",
      "source": [
        "dictionary_medicine_name[87]"
      ],
      "metadata": {
        "colab": {
          "base_uri": "https://localhost:8080/",
          "height": 35
        },
        "id": "p_8T8xcTP3wd",
        "outputId": "bf766636-f3c3-48c4-b0d2-8250871e5a21"
      },
      "id": "p_8T8xcTP3wd",
      "execution_count": null,
      "outputs": [
        {
          "output_type": "execute_result",
          "data": {
            "text/plain": [
              "'dolutegravir'"
            ],
            "application/vnd.google.colaboratory.intrinsic+json": {
              "type": "string"
            }
          },
          "metadata": {},
          "execution_count": 180
        }
      ]
    },
    {
      "cell_type": "code",
      "source": [
        "total_list_88 = [' '.join(row) for row in total_list[58]]\n",
        "set(total_list_88)\n",
        "#dictionary_medicine_name[88]"
      ],
      "metadata": {
        "colab": {
          "base_uri": "https://localhost:8080/"
        },
        "id": "DUNDTJR9P3pc",
        "outputId": "2c012e7d-ae28-4b57-e17c-eff5a5f5607d"
      },
      "id": "DUNDTJR9P3pc",
      "execution_count": 145,
      "outputs": [
        {
          "output_type": "execute_result",
          "data": {
            "text/plain": [
              "{'doxorubicina 2mg / ml sol . inyec fam 10ml',\n",
              " 'doxorubicina 2mg / ml sol . inyec fam 25ml'}"
            ]
          },
          "metadata": {},
          "execution_count": 145
        }
      ]
    },
    {
      "cell_type": "code",
      "source": [
        "dictionary_medicine_name[88]"
      ],
      "metadata": {
        "colab": {
          "base_uri": "https://localhost:8080/",
          "height": 35
        },
        "id": "rm1od5AZP3h6",
        "outputId": "5658db8d-63ff-46a1-88d9-c410af644ed7"
      },
      "id": "rm1od5AZP3h6",
      "execution_count": null,
      "outputs": [
        {
          "output_type": "execute_result",
          "data": {
            "text/plain": [
              "'doxorubicina'"
            ],
            "application/vnd.google.colaboratory.intrinsic+json": {
              "type": "string"
            }
          },
          "metadata": {},
          "execution_count": 182
        }
      ]
    },
    {
      "cell_type": "code",
      "source": [
        "total_list_89 = [' '.join(row) for row in total_list[59]]\n",
        "set(total_list_89)\n",
        "#dictionary_medicine_name[89]"
      ],
      "metadata": {
        "colab": {
          "base_uri": "https://localhost:8080/"
        },
        "id": "s-8Y7ubNP3Yi",
        "outputId": "a157d0e1-dc24-4d8c-9eb0-69182517dac6"
      },
      "id": "s-8Y7ubNP3Yi",
      "execution_count": 146,
      "outputs": [
        {
          "output_type": "execute_result",
          "data": {
            "text/plain": [
              "{'efavirenz 600 mg cm rec .'}"
            ]
          },
          "metadata": {},
          "execution_count": 146
        }
      ]
    },
    {
      "cell_type": "code",
      "source": [
        "dictionary_medicine_name[89]"
      ],
      "metadata": {
        "colab": {
          "base_uri": "https://localhost:8080/",
          "height": 35
        },
        "id": "OdLJaWZjVQe8",
        "outputId": "cb1c8b5d-1c9d-43b0-88ab-c12e636c5199"
      },
      "id": "OdLJaWZjVQe8",
      "execution_count": null,
      "outputs": [
        {
          "output_type": "execute_result",
          "data": {
            "text/plain": [
              "'efavirenz'"
            ],
            "application/vnd.google.colaboratory.intrinsic+json": {
              "type": "string"
            }
          },
          "metadata": {},
          "execution_count": 184
        }
      ]
    },
    {
      "cell_type": "code",
      "source": [
        "total_list_90 = [' '.join(row) for row in total_list[60]]\n",
        "set(total_list_90)\n",
        "#dictionary_medicine_name[90]"
      ],
      "metadata": {
        "colab": {
          "base_uri": "https://localhost:8080/"
        },
        "id": "D1H9CHaXVQcK",
        "outputId": "9475316b-d5aa-4457-a947-2415fda71367"
      },
      "id": "D1H9CHaXVQcK",
      "execution_count": 147,
      "outputs": [
        {
          "output_type": "execute_result",
          "data": {
            "text/plain": [
              "{'caja de 60 comprimido recubierto contiene : empagliflozina 12 . 5 mg y clorhidrato de metformina 850 mg . similar a jardiance duo 12 . 5 / 850',\n",
              " 'empagliflozina 12 , 5 / metformina 850mg x 60 comprimidos recubiertos , caja 60 comprimidos recubiertos',\n",
              " 'empagliflozina 12 , 5 mg + metformina 850 mg x 60 comp_x000d__x000d__x000d__x000d__x000d__x000d__x000d__x000d_ ( jardiance duo )',\n",
              " 'empagliflozina 12 . 5 mg + clorhidrato de metformina 850 mg x 60 comprimidos recubiertos , similar a jardiance duo 12 , 5 / 850 mg x 60 comprimidos recubiertos',\n",
              " 'empagliflozina 12 . 5 mg + metformina 850 mg x 30 comprimidos recubiertos , similar a jardiance duo 12 , 5mg / 850 mg x 30 comprimidos recubiertos',\n",
              " 'empagliflozina 25 mg cm rec'}"
            ]
          },
          "metadata": {},
          "execution_count": 147
        }
      ]
    },
    {
      "cell_type": "code",
      "source": [
        "dictionary_medicine_name[90]"
      ],
      "metadata": {
        "colab": {
          "base_uri": "https://localhost:8080/",
          "height": 35
        },
        "id": "YcdRaBOGVQZA",
        "outputId": "46695995-65e5-48b5-8db9-a08bb8bf4678"
      },
      "id": "YcdRaBOGVQZA",
      "execution_count": null,
      "outputs": [
        {
          "output_type": "execute_result",
          "data": {
            "text/plain": [
              "'empagliflozina'"
            ],
            "application/vnd.google.colaboratory.intrinsic+json": {
              "type": "string"
            }
          },
          "metadata": {},
          "execution_count": 186
        }
      ]
    },
    {
      "cell_type": "code",
      "source": [
        "total_list_91 = [' '.join(row) for row in total_list[61]]\n",
        "set(total_list_91)\n",
        "#dictionary_medicine_name[91]"
      ],
      "metadata": {
        "colab": {
          "base_uri": "https://localhost:8080/"
        },
        "id": "w8FZnaTbVQWU",
        "outputId": "f9253065-f7d7-4ae6-c4b9-7d8bbefc09bf"
      },
      "id": "w8FZnaTbVQWU",
      "execution_count": 148,
      "outputs": [
        {
          "output_type": "execute_result",
          "data": {
            "text/plain": [
              "{'empaglifozina / metformina 12 , 5 / 1000 mg x 60 comprimidos_x000d__x000d__x000d__x000d__x000d__x000d__x000d__x000d_',\n",
              " 'empaglifozina / metformina 12 , 5 / 850 similar a jardiance 12 , 5 / 850',\n",
              " 'empaglifozina / metformina 12 . 05 / 850 mg ., caja 60 comprimidos',\n",
              " 'empaglifozina / metformina 12 . 5 / 850mg . caja de 60 comprimidos .',\n",
              " 'empaglifozina 10 mg cm rec .',\n",
              " 'empaglifozina 12 , 5 / metformina 850 x 60 comp rec similar a jardiance_x000d__x000d__x000d__x000d__x000d__x000d__x000d__x000d_',\n",
              " 'empaglifozina 12 , 5 mg clorhidrato de metformina 850 mg',\n",
              " 'empaglifozina 12 , 5 mg metformina 850 comprimidos , envasadas en blister pvc o similar y aluminio impreso , envase contenido 30 comprimidos recubiertos , certificacion gmp de la planta productora .',\n",
              " 'empaglifozina 12 , 5mg + metformina 1000mg caja x 60 comp_x000d__x000d__x000d__x000d__x000d__x000d__x000d__x000d_',\n",
              " 'empaglifozina 12 . 5 mg / metformina 100 mg ., caja 60 comprimidos',\n",
              " 'empaglifozina 12 . 5mg / metformina 1000mg x 60 comp_x000d__x000d__x000d__x000d__x000d__x000d__x000d__x000d_ _x000d__x000d__x000d__x000d__x000d__x000d__x000d__x000d_'}"
            ]
          },
          "metadata": {},
          "execution_count": 148
        }
      ]
    },
    {
      "cell_type": "code",
      "source": [
        "dictionary_medicine_name[91]"
      ],
      "metadata": {
        "colab": {
          "base_uri": "https://localhost:8080/",
          "height": 35
        },
        "id": "7dwn7S3qVQSh",
        "outputId": "60f08049-e1b0-40e4-b12b-7a6678bb96fb"
      },
      "id": "7dwn7S3qVQSh",
      "execution_count": null,
      "outputs": [
        {
          "output_type": "execute_result",
          "data": {
            "text/plain": [
              "'empaglifozina'"
            ],
            "application/vnd.google.colaboratory.intrinsic+json": {
              "type": "string"
            }
          },
          "metadata": {},
          "execution_count": 188
        }
      ]
    },
    {
      "cell_type": "code",
      "source": [
        "total_list_91 = [' '.join(row) for row in total_list[61]]\n",
        "set(total_list_91)\n",
        "#dictionary_medicine_name[91]"
      ],
      "metadata": {
        "id": "wHQ9KnehVQPC",
        "colab": {
          "base_uri": "https://localhost:8080/"
        },
        "outputId": "0cdd9ff6-e1a2-4cc4-cc5e-b158e6f4be04"
      },
      "id": "wHQ9KnehVQPC",
      "execution_count": 149,
      "outputs": [
        {
          "output_type": "execute_result",
          "data": {
            "text/plain": [
              "{'empaglifozina / metformina 12 , 5 / 1000 mg x 60 comprimidos_x000d__x000d__x000d__x000d__x000d__x000d__x000d__x000d_',\n",
              " 'empaglifozina / metformina 12 , 5 / 850 similar a jardiance 12 , 5 / 850',\n",
              " 'empaglifozina / metformina 12 . 05 / 850 mg ., caja 60 comprimidos',\n",
              " 'empaglifozina / metformina 12 . 5 / 850mg . caja de 60 comprimidos .',\n",
              " 'empaglifozina 10 mg cm rec .',\n",
              " 'empaglifozina 12 , 5 / metformina 850 x 60 comp rec similar a jardiance_x000d__x000d__x000d__x000d__x000d__x000d__x000d__x000d_',\n",
              " 'empaglifozina 12 , 5 mg clorhidrato de metformina 850 mg',\n",
              " 'empaglifozina 12 , 5 mg metformina 850 comprimidos , envasadas en blister pvc o similar y aluminio impreso , envase contenido 30 comprimidos recubiertos , certificacion gmp de la planta productora .',\n",
              " 'empaglifozina 12 , 5mg + metformina 1000mg caja x 60 comp_x000d__x000d__x000d__x000d__x000d__x000d__x000d__x000d_',\n",
              " 'empaglifozina 12 . 5 mg / metformina 100 mg ., caja 60 comprimidos',\n",
              " 'empaglifozina 12 . 5mg / metformina 1000mg x 60 comp_x000d__x000d__x000d__x000d__x000d__x000d__x000d__x000d_ _x000d__x000d__x000d__x000d__x000d__x000d__x000d__x000d_'}"
            ]
          },
          "metadata": {},
          "execution_count": 149
        }
      ]
    },
    {
      "cell_type": "code",
      "source": [
        "total_list_92 = [' '.join(row) for row in total_list[62]]\n",
        "set(total_list_92)\n",
        "#dictionary_medicine_name[92]"
      ],
      "metadata": {
        "colab": {
          "base_uri": "https://localhost:8080/"
        },
        "id": "Q04kLW6yVQMR",
        "outputId": "4ccb18eb-0587-44e7-ce7f-2ed9435827e4"
      },
      "id": "Q04kLW6yVQMR",
      "execution_count": 150,
      "outputs": [
        {
          "output_type": "execute_result",
          "data": {
            "text/plain": [
              "{'empagliofozina 12 . 5 mg / metformina 850 mg ., caja 60 comprimidos'}"
            ]
          },
          "metadata": {},
          "execution_count": 150
        }
      ]
    },
    {
      "cell_type": "code",
      "source": [
        "dictionary_medicine_name[92]"
      ],
      "metadata": {
        "colab": {
          "base_uri": "https://localhost:8080/",
          "height": 35
        },
        "id": "UgxQqwHFVQG0",
        "outputId": "0f94c987-2c9f-4f9e-a66a-127518966298"
      },
      "id": "UgxQqwHFVQG0",
      "execution_count": null,
      "outputs": [
        {
          "output_type": "execute_result",
          "data": {
            "text/plain": [
              "'empagliofozina'"
            ],
            "application/vnd.google.colaboratory.intrinsic+json": {
              "type": "string"
            }
          },
          "metadata": {},
          "execution_count": 191
        }
      ]
    },
    {
      "cell_type": "code",
      "source": [
        "total_list_93 = [' '.join(row) for row in total_list[63]]\n",
        "set(total_list_93)\n",
        "#dictionary_medicine_name[93]"
      ],
      "metadata": {
        "colab": {
          "base_uri": "https://localhost:8080/"
        },
        "id": "3IAPFmiNVP_I",
        "outputId": "74d1d037-8f47-48ba-ec9c-43dd596225a2"
      },
      "id": "3IAPFmiNVP_I",
      "execution_count": 151,
      "outputs": [
        {
          "output_type": "execute_result",
          "data": {
            "text/plain": [
              "{'tenof / emtricit / efav 300 / 200 / 600mg cm rec'}"
            ]
          },
          "metadata": {},
          "execution_count": 151
        }
      ]
    },
    {
      "cell_type": "code",
      "source": [
        "dictionary_medicine_name[93]"
      ],
      "metadata": {
        "colab": {
          "base_uri": "https://localhost:8080/",
          "height": 35
        },
        "id": "zhVk4T4XVP3D",
        "outputId": "a69328c8-c5f9-4bc9-fda5-fa1ad4801a65"
      },
      "id": "zhVk4T4XVP3D",
      "execution_count": null,
      "outputs": [
        {
          "output_type": "execute_result",
          "data": {
            "text/plain": [
              "'emtricit'"
            ],
            "application/vnd.google.colaboratory.intrinsic+json": {
              "type": "string"
            }
          },
          "metadata": {},
          "execution_count": 193
        }
      ]
    },
    {
      "cell_type": "code",
      "source": [
        "total_list_94 = [' '.join(row) for row in total_list[64]]\n",
        "set(total_list_94)\n",
        "#dictionary_medicine_name[94]"
      ],
      "metadata": {
        "colab": {
          "base_uri": "https://localhost:8080/"
        },
        "id": "EJ5Qz6DsVPtG",
        "outputId": "0762de6f-2c9c-47fe-acc7-104f844f964f"
      },
      "id": "EJ5Qz6DsVPtG",
      "execution_count": 152,
      "outputs": [
        {
          "output_type": "execute_result",
          "data": {
            "text/plain": [
              "{'tenofovir / emtricitabina 300 / 200mg cm rec'}"
            ]
          },
          "metadata": {},
          "execution_count": 152
        }
      ]
    },
    {
      "cell_type": "code",
      "source": [
        "dictionary_medicine_name[94]"
      ],
      "metadata": {
        "colab": {
          "base_uri": "https://localhost:8080/",
          "height": 35
        },
        "id": "v1SbfLD7WgMu",
        "outputId": "8f95ed58-d38e-4a5c-b064-e01346f14bab"
      },
      "id": "v1SbfLD7WgMu",
      "execution_count": null,
      "outputs": [
        {
          "output_type": "execute_result",
          "data": {
            "text/plain": [
              "'emtricitabina'"
            ],
            "application/vnd.google.colaboratory.intrinsic+json": {
              "type": "string"
            }
          },
          "metadata": {},
          "execution_count": 195
        }
      ]
    },
    {
      "cell_type": "code",
      "source": [
        "total_list_95 = [' '.join(row) for row in total_list[65]]\n",
        "set(total_list_95)\n",
        "#dictionary_medicine_name[95]"
      ],
      "metadata": {
        "colab": {
          "base_uri": "https://localhost:8080/"
        },
        "id": "u52tnJYsWgJ3",
        "outputId": "1663fc8f-803a-4aaa-ffa0-9bae3a2fea22"
      },
      "id": "u52tnJYsWgJ3",
      "execution_count": 153,
      "outputs": [
        {
          "output_type": "execute_result",
          "data": {
            "text/plain": [
              "{'enalapril',\n",
              " 'enalapril 10 mg cm / cm rec',\n",
              " 'enalapril 20 mg cm / cm rec',\n",
              " 'enalapril 5 mg cm / cm recubierto'}"
            ]
          },
          "metadata": {},
          "execution_count": 153
        }
      ]
    },
    {
      "cell_type": "code",
      "source": [
        "dictionary_medicine_name[95]"
      ],
      "metadata": {
        "colab": {
          "base_uri": "https://localhost:8080/",
          "height": 35
        },
        "id": "7BetP9R9WgHD",
        "outputId": "cf4e1e38-8519-4436-c5f6-a1a4601e670e"
      },
      "id": "7BetP9R9WgHD",
      "execution_count": null,
      "outputs": [
        {
          "output_type": "execute_result",
          "data": {
            "text/plain": [
              "'enalapril'"
            ],
            "application/vnd.google.colaboratory.intrinsic+json": {
              "type": "string"
            }
          },
          "metadata": {},
          "execution_count": 197
        }
      ]
    },
    {
      "cell_type": "code",
      "source": [
        "total_list_96 = [' '.join(row) for row in total_list[66]]\n",
        "total_list_96\n",
        "#dictionary_medicine_name[96]"
      ],
      "metadata": {
        "colab": {
          "base_uri": "https://localhost:8080/"
        },
        "id": "9MgqI76cWgD7",
        "outputId": "1f46c911-5dbf-4d49-a35c-bcf89580962a"
      },
      "id": "9MgqI76cWgD7",
      "execution_count": null,
      "outputs": [
        {
          "output_type": "execute_result",
          "data": {
            "text/plain": [
              "['maleato de enalpril']"
            ]
          },
          "metadata": {},
          "execution_count": 198
        }
      ]
    },
    {
      "cell_type": "code",
      "source": [
        "dictionary_medicine_name[96]"
      ],
      "metadata": {
        "colab": {
          "base_uri": "https://localhost:8080/",
          "height": 35
        },
        "id": "I0oPwPKwWgA8",
        "outputId": "8c59379b-27ee-4c23-d582-ea1091db9150"
      },
      "id": "I0oPwPKwWgA8",
      "execution_count": null,
      "outputs": [
        {
          "output_type": "execute_result",
          "data": {
            "text/plain": [
              "'enalpril'"
            ],
            "application/vnd.google.colaboratory.intrinsic+json": {
              "type": "string"
            }
          },
          "metadata": {},
          "execution_count": 199
        }
      ]
    },
    {
      "cell_type": "code",
      "source": [
        "total_list_97 = [' '.join(row) for row in total_list[67]]\n",
        "set(total_list_97)\n",
        "#dictionary_medicine_name[97]"
      ],
      "metadata": {
        "colab": {
          "base_uri": "https://localhost:8080/"
        },
        "id": "FuFmg9cGWf9y",
        "outputId": "8d71e1bd-93fa-4bff-9c13-726a3b430735"
      },
      "id": "FuFmg9cGWf9y",
      "execution_count": 154,
      "outputs": [
        {
          "output_type": "execute_result",
          "data": {
            "text/plain": [
              "{'entecavir 0 , 5 mg cm rec', 'entecavir 1 mg cm rec'}"
            ]
          },
          "metadata": {},
          "execution_count": 154
        }
      ]
    },
    {
      "cell_type": "code",
      "source": [
        "dictionary_medicine_name[97]"
      ],
      "metadata": {
        "colab": {
          "base_uri": "https://localhost:8080/",
          "height": 35
        },
        "id": "BzQrUQzoWf6w",
        "outputId": "418ae710-3235-4894-e0bd-f4fa7b63067e"
      },
      "id": "BzQrUQzoWf6w",
      "execution_count": null,
      "outputs": [
        {
          "output_type": "execute_result",
          "data": {
            "text/plain": [
              "'entecavir'"
            ],
            "application/vnd.google.colaboratory.intrinsic+json": {
              "type": "string"
            }
          },
          "metadata": {},
          "execution_count": 201
        }
      ]
    },
    {
      "cell_type": "code",
      "source": [
        "total_list_98 = [' '.join(row) for row in total_list[68]]\n",
        "total_list_98\n",
        "#dictionary_medicine_name[98]"
      ],
      "metadata": {
        "colab": {
          "base_uri": "https://localhost:8080/"
        },
        "id": "iipVfK0bWf3g",
        "outputId": "02ff7689-ac5d-496e-f80f-4c439d9cd148"
      },
      "id": "iipVfK0bWf3g",
      "execution_count": null,
      "outputs": [
        {
          "output_type": "execute_result",
          "data": {
            "text/plain": [
              "['perindopril erbumina']"
            ]
          },
          "metadata": {},
          "execution_count": 202
        }
      ]
    },
    {
      "cell_type": "code",
      "source": [
        "dictionary_medicine_name[98]"
      ],
      "metadata": {
        "colab": {
          "base_uri": "https://localhost:8080/",
          "height": 35
        },
        "id": "1LaqPbzyWfzN",
        "outputId": "205b5559-53c1-4701-af1e-6b832db268c9"
      },
      "id": "1LaqPbzyWfzN",
      "execution_count": null,
      "outputs": [
        {
          "output_type": "execute_result",
          "data": {
            "text/plain": [
              "'erbumina'"
            ],
            "application/vnd.google.colaboratory.intrinsic+json": {
              "type": "string"
            }
          },
          "metadata": {},
          "execution_count": 203
        }
      ]
    },
    {
      "cell_type": "code",
      "source": [
        "total_list_99 = [' '.join(row) for row in total_list[69]]\n",
        "total_list_99\n",
        "#dictionary_medicine_name[99]"
      ],
      "metadata": {
        "colab": {
          "base_uri": "https://localhost:8080/"
        },
        "id": "UUWXNLKvWftx",
        "outputId": "6977a591-3e32-49b6-9b53-a700433dab77"
      },
      "id": "UUWXNLKvWftx",
      "execution_count": null,
      "outputs": [
        {
          "output_type": "execute_result",
          "data": {
            "text/plain": [
              "['oxalato de escitalopram']"
            ]
          },
          "metadata": {},
          "execution_count": 204
        }
      ]
    },
    {
      "cell_type": "code",
      "source": [
        "dictionary_medicine_name[99]"
      ],
      "metadata": {
        "colab": {
          "base_uri": "https://localhost:8080/",
          "height": 35
        },
        "id": "d1aSkFi2XUOt",
        "outputId": "87b7f3b2-dd2b-451d-cc95-4ed815eb7753"
      },
      "id": "d1aSkFi2XUOt",
      "execution_count": null,
      "outputs": [
        {
          "output_type": "execute_result",
          "data": {
            "text/plain": [
              "'escitalopram'"
            ],
            "application/vnd.google.colaboratory.intrinsic+json": {
              "type": "string"
            }
          },
          "metadata": {},
          "execution_count": 205
        }
      ]
    },
    {
      "cell_type": "code",
      "source": [
        "total_list_100 = [' '.join(row) for row in total_list[70]]\n",
        "total_list_100\n",
        "#dictionary_medicine_name[100]"
      ],
      "metadata": {
        "colab": {
          "base_uri": "https://localhost:8080/"
        },
        "id": "AM2MKGnnXUI3",
        "outputId": "2c61dd11-fbeb-409a-e100-71067e483852"
      },
      "id": "AM2MKGnnXUI3",
      "execution_count": null,
      "outputs": [
        {
          "output_type": "execute_result",
          "data": {
            "text/plain": [
              "['espironolactona']"
            ]
          },
          "metadata": {},
          "execution_count": 206
        }
      ]
    },
    {
      "cell_type": "code",
      "source": [
        "dictionary_medicine_name[100]"
      ],
      "metadata": {
        "colab": {
          "base_uri": "https://localhost:8080/",
          "height": 35
        },
        "id": "J-eLsclrXUE0",
        "outputId": "fd9e2c3f-53ce-417c-afb9-7de5013eaf0f"
      },
      "id": "J-eLsclrXUE0",
      "execution_count": null,
      "outputs": [
        {
          "output_type": "execute_result",
          "data": {
            "text/plain": [
              "'espironolactona'"
            ],
            "application/vnd.google.colaboratory.intrinsic+json": {
              "type": "string"
            }
          },
          "metadata": {},
          "execution_count": 207
        }
      ]
    },
    {
      "cell_type": "code",
      "source": [
        "total_list_101 = [' '.join(row) for row in total_list[71]]\n",
        "set(total_list_101)\n",
        "#dictionary_medicine_name[101]"
      ],
      "metadata": {
        "colab": {
          "base_uri": "https://localhost:8080/"
        },
        "id": "Haf2n0QqXUAl",
        "outputId": "8a1b50b5-d8b9-4510-e389-d602726ca19b"
      },
      "id": "Haf2n0QqXUAl",
      "execution_count": 155,
      "outputs": [
        {
          "output_type": "execute_result",
          "data": {
            "text/plain": [
              "{'1093063 - 4 cada compromido de liberacion prolongada contiene _x000d__x000d__x000d__x000d__x000d__x000d__x000d__x000d_ metformina clorhidrato 750 mg . excepientes celulosa_x000d__x000d__x000d__x000d__x000d__x000d__x000d__x000d_ microcristalina , hipromelosa , etilcelulosa y estearato o equivalente a hipoglucin lp 750 mg x 60 comp .',\n",
              " 'metformina 850 mg . excipientes : polividona k30 , estearato de magnesio , metilhidroxipropilcelulosa comprimidos para pacientes intolerantes metformina genérica ) equivalente glafornil ( fofar )',\n",
              " 'metformina clorh . 1000 mg ( eq . a 780 mg ) x 30 tab de liberacion prolongada por sistema de doble matriz de polímero hidrofílico , inscripción sr1000 en una de sus caras y caja con impresión en braille , en blíster pvdc / aluminio . exc .: estearato de magnesio , ca',\n",
              " 'metformina clorh . 1000 mg x 30 tab de lib . prolongada por sistema de doble matriz de polímero hidrofílico , inscripción sr1000 en una de sus caras y caja con impresión en braille , en blíster pvdc / aluminio . exc .: estearato de magnesio , carboximetilcelulosa e',\n",
              " 'metformina clorh . 500 mg x 30 tab de lib . prolongada por sistema de doble matriz de polímero hidrofílico , inscripción sr500 en una de sus caras y caja con impresión en braille , en blíster pvdc / aluminio . exc .: estearato de magnesio , carboximetilcelulosa e hi',\n",
              " 'metformina clorh . 750 mg x 30 tab de lib . prolongada por sistema de doble matriz de polímero hidrofílico , inscripción sr750 en una de sus caras y caja con impresión en braille , en blíster pvdc / aluminio . exc .: estearato de magnesio , carboximetilcelulosa e hi'}"
            ]
          },
          "metadata": {},
          "execution_count": 155
        }
      ]
    },
    {
      "cell_type": "code",
      "source": [
        "dictionary_medicine_name[101]"
      ],
      "metadata": {
        "colab": {
          "base_uri": "https://localhost:8080/",
          "height": 35
        },
        "id": "NCYqjdRqXT9y",
        "outputId": "49886029-2ae6-4f79-d155-f5edc17dd52a"
      },
      "id": "NCYqjdRqXT9y",
      "execution_count": null,
      "outputs": [
        {
          "output_type": "execute_result",
          "data": {
            "text/plain": [
              "'estearato'"
            ],
            "application/vnd.google.colaboratory.intrinsic+json": {
              "type": "string"
            }
          },
          "metadata": {},
          "execution_count": 209
        }
      ]
    },
    {
      "cell_type": "code",
      "source": [
        "total_list_102 = [' '.join(row) for row in total_list[72]]\n",
        "set(total_list_102)\n",
        "#dictionary_medicine_name[102]"
      ],
      "metadata": {
        "colab": {
          "base_uri": "https://localhost:8080/"
        },
        "id": "D0UwR9lEXT6e",
        "outputId": "6aa5c40d-7a12-44e8-cc6e-fd04091c749d"
      },
      "id": "D0UwR9lEXT6e",
      "execution_count": 156,
      "outputs": [
        {
          "output_type": "execute_result",
          "data": {
            "text/plain": [
              "{'metformina clorhidrato 850 mg ; caja x 60 comprimidos bioequivalente , con excipientes : polividona , crospovidona , celulosa microcristalina , acido esteárico , alcohol polivinilico , dióxido de titanio , macrogol 3000 , talco .',\n",
              " 'metformina clorhidrato 850mg ; caja x 60 comprimidos ; bioequivalente . excipientes : povidona , crospovidona , celulosa microcristalina , acido esteárico ; producto elaborado en chile',\n",
              " 'metformina clorhidrato 850mg ; caja x 60 comprimidos ; bioequivalente . excipientes : povidona , crospovidona , celulosa microcristalina , acido esteárico ; producto elaborado en chile .'}"
            ]
          },
          "metadata": {},
          "execution_count": 156
        }
      ]
    },
    {
      "cell_type": "code",
      "source": [
        "dictionary_medicine_name[102]"
      ],
      "metadata": {
        "colab": {
          "base_uri": "https://localhost:8080/",
          "height": 35
        },
        "id": "zYTiOi3TXT1T",
        "outputId": "6ebd0120-ff77-46dc-ca0b-192b29f4711a"
      },
      "id": "zYTiOi3TXT1T",
      "execution_count": null,
      "outputs": [
        {
          "output_type": "execute_result",
          "data": {
            "text/plain": [
              "'esteárico'"
            ],
            "application/vnd.google.colaboratory.intrinsic+json": {
              "type": "string"
            }
          },
          "metadata": {},
          "execution_count": 211
        }
      ]
    },
    {
      "cell_type": "code",
      "source": [
        "total_list_103 = [' '.join(row) for row in total_list[73]]\n",
        "set(total_list_103)\n",
        "#dictionary_medicine_name[103]"
      ],
      "metadata": {
        "colab": {
          "base_uri": "https://localhost:8080/"
        },
        "id": "3WoBQm7vXTvr",
        "outputId": "fbb7adf1-1bc1-400f-e23d-b4c6344da576"
      },
      "id": "3WoBQm7vXTvr",
      "execution_count": 157,
      "outputs": [
        {
          "output_type": "execute_result",
          "data": {
            "text/plain": [
              "{'etanercept 25 mg / 0 , 5 ml sol . iny . jrp',\n",
              " 'etanercept 25 mg liof . p / sol iny . fam',\n",
              " 'etanercept 50mg / ml sol . iny jrp / autoiny'}"
            ]
          },
          "metadata": {},
          "execution_count": 157
        }
      ]
    },
    {
      "cell_type": "code",
      "source": [
        "dictionary_medicine_name[103]"
      ],
      "metadata": {
        "colab": {
          "base_uri": "https://localhost:8080/",
          "height": 35
        },
        "id": "wXX2Zd2UXTi8",
        "outputId": "2abf7618-0fcd-49b2-a576-72f45bf55713"
      },
      "id": "wXX2Zd2UXTi8",
      "execution_count": null,
      "outputs": [
        {
          "output_type": "execute_result",
          "data": {
            "text/plain": [
              "'etanercept'"
            ],
            "application/vnd.google.colaboratory.intrinsic+json": {
              "type": "string"
            }
          },
          "metadata": {},
          "execution_count": 213
        }
      ]
    },
    {
      "cell_type": "code",
      "source": [
        "total_list_104 = [' '.join(row) for row in total_list[74]]\n",
        "set(total_list_104)\n",
        "#dictionary_medicine_name[104]"
      ],
      "metadata": {
        "colab": {
          "base_uri": "https://localhost:8080/"
        },
        "id": "ptTUcPJNXTac",
        "outputId": "13d705eb-081f-4670-fa25-3c13a7062bfc"
      },
      "id": "ptTUcPJNXTac",
      "execution_count": 158,
      "outputs": [
        {
          "output_type": "execute_result",
          "data": {
            "text/plain": [
              "{'1093063 - 4 cada compromido de liberacion prolongada contiene _x000d__x000d__x000d__x000d__x000d__x000d__x000d__x000d_ metformina clorhidrato 750 mg . excepientes celulosa_x000d__x000d__x000d__x000d__x000d__x000d__x000d__x000d_ microcristalina , hipromelosa , etilcelulosa y estearato o equivalente a hipoglucin lp 750 mg x 60 comp .'}"
            ]
          },
          "metadata": {},
          "execution_count": 158
        }
      ]
    },
    {
      "cell_type": "code",
      "source": [
        "dictionary_medicine_name[104]"
      ],
      "metadata": {
        "colab": {
          "base_uri": "https://localhost:8080/",
          "height": 35
        },
        "id": "jL8Kyy84aXab",
        "outputId": "7e0d2cb4-76ac-44be-e858-9b4e861b8d75"
      },
      "id": "jL8Kyy84aXab",
      "execution_count": null,
      "outputs": [
        {
          "output_type": "execute_result",
          "data": {
            "text/plain": [
              "'etilcelulosa'"
            ],
            "application/vnd.google.colaboratory.intrinsic+json": {
              "type": "string"
            }
          },
          "metadata": {},
          "execution_count": 215
        }
      ]
    },
    {
      "cell_type": "code",
      "source": [
        "total_list_105 = [' '.join(row) for row in total_list[75]]\n",
        "set(total_list_105)\n",
        "#dictionary_medicine_name[105]"
      ],
      "metadata": {
        "colab": {
          "base_uri": "https://localhost:8080/"
        },
        "id": "0crm9nYdaXXG",
        "outputId": "2660e52e-b464-41ac-9490-64b0bf0cf369"
      },
      "id": "0crm9nYdaXXG",
      "execution_count": 159,
      "outputs": [
        {
          "output_type": "execute_result",
          "data": {
            "text/plain": [
              "{'etoposido 100 mg / 5 ml sol . iny . fam'}"
            ]
          },
          "metadata": {},
          "execution_count": 159
        }
      ]
    },
    {
      "cell_type": "code",
      "source": [
        "dictionary_medicine_name[105]"
      ],
      "metadata": {
        "colab": {
          "base_uri": "https://localhost:8080/",
          "height": 35
        },
        "id": "tKAzBk32aXTg",
        "outputId": "51b0e243-ca8f-4a5c-e5b6-a59f88468a73"
      },
      "id": "tKAzBk32aXTg",
      "execution_count": null,
      "outputs": [
        {
          "output_type": "execute_result",
          "data": {
            "text/plain": [
              "'etoposido'"
            ],
            "application/vnd.google.colaboratory.intrinsic+json": {
              "type": "string"
            }
          },
          "metadata": {},
          "execution_count": 217
        }
      ]
    },
    {
      "cell_type": "code",
      "source": [
        "total_list_106 = [' '.join(row) for row in total_list[76]]\n",
        "set(total_list_106)\n",
        "#dictionary_medicine_name[106]"
      ],
      "metadata": {
        "colab": {
          "base_uri": "https://localhost:8080/"
        },
        "id": "UQTVvNFKaXP-",
        "outputId": "4b112770-58de-4d87-a875-2c1805183bf0"
      },
      "id": "UQTVvNFKaXP-",
      "execution_count": 160,
      "outputs": [
        {
          "output_type": "execute_result",
          "data": {
            "text/plain": [
              "{'etravirina 200 mg cm'}"
            ]
          },
          "metadata": {},
          "execution_count": 160
        }
      ]
    },
    {
      "cell_type": "code",
      "source": [
        "dictionary_medicine_name[106]"
      ],
      "metadata": {
        "colab": {
          "base_uri": "https://localhost:8080/",
          "height": 35
        },
        "id": "pigR3gKRaXMZ",
        "outputId": "59ee28b6-8239-4cc0-8649-3f392cc4a83f"
      },
      "id": "pigR3gKRaXMZ",
      "execution_count": null,
      "outputs": [
        {
          "output_type": "execute_result",
          "data": {
            "text/plain": [
              "'etravirina'"
            ],
            "application/vnd.google.colaboratory.intrinsic+json": {
              "type": "string"
            }
          },
          "metadata": {},
          "execution_count": 219
        }
      ]
    },
    {
      "cell_type": "code",
      "source": [
        "total_list_107 = [' '.join(row) for row in total_list[77]]\n",
        "set(total_list_107)\n",
        "#dictionary_medicine_name[107]"
      ],
      "metadata": {
        "colab": {
          "base_uri": "https://localhost:8080/"
        },
        "id": "mkw5mClnaXJE",
        "outputId": "533cbca7-26ed-4329-9dad-bdc868683853"
      },
      "id": "mkw5mClnaXJE",
      "execution_count": 161,
      "outputs": [
        {
          "output_type": "execute_result",
          "data": {
            "text/plain": [
              "{'1093063 - 4 cada compromido de liberacion prolongada contiene _x000d__x000d__x000d__x000d__x000d__x000d__x000d__x000d_ metformina clorhidrato 750 mg . excepientes celulosa_x000d__x000d__x000d__x000d__x000d__x000d__x000d__x000d_ microcristalina , hipromelosa , etilcelulosa y estearato o equivalente a hipoglucin lp 750 mg x 60 comp .'}"
            ]
          },
          "metadata": {},
          "execution_count": 161
        }
      ]
    },
    {
      "cell_type": "code",
      "source": [
        "dictionary_medicine_name[107]"
      ],
      "metadata": {
        "colab": {
          "base_uri": "https://localhost:8080/",
          "height": 35
        },
        "id": "OEZSezyiaXDT",
        "outputId": "92628a7f-f34a-4aa8-8853-0f3e3a2e4d99"
      },
      "id": "OEZSezyiaXDT",
      "execution_count": null,
      "outputs": [
        {
          "output_type": "execute_result",
          "data": {
            "text/plain": [
              "'excepientes'"
            ],
            "application/vnd.google.colaboratory.intrinsic+json": {
              "type": "string"
            }
          },
          "metadata": {},
          "execution_count": 221
        }
      ]
    },
    {
      "cell_type": "code",
      "source": [
        "total_list_108 = [' '.join(row) for row in total_list[78]]\n",
        "total_list_108\n",
        "#dictionary_medicine_name[108]"
      ],
      "metadata": {
        "colab": {
          "base_uri": "https://localhost:8080/"
        },
        "id": "zCsC7s-KaW-7",
        "outputId": "681e1b98-3e10-463b-f9f2-2ad44cfbb706"
      },
      "id": "zCsC7s-KaW-7",
      "execution_count": null,
      "outputs": [
        {
          "output_type": "execute_result",
          "data": {
            "text/plain": [
              "[]"
            ]
          },
          "metadata": {},
          "execution_count": 222
        }
      ]
    },
    {
      "cell_type": "code",
      "source": [
        "dictionary_medicine_name[108]"
      ],
      "metadata": {
        "colab": {
          "base_uri": "https://localhost:8080/",
          "height": 35
        },
        "id": "NBkWtV1XaW49",
        "outputId": "2f49d54e-5eb9-4298-d625-33e7112fba79"
      },
      "id": "NBkWtV1XaW49",
      "execution_count": null,
      "outputs": [
        {
          "output_type": "execute_result",
          "data": {
            "text/plain": [
              "'fenol'"
            ],
            "application/vnd.google.colaboratory.intrinsic+json": {
              "type": "string"
            }
          },
          "metadata": {},
          "execution_count": 223
        }
      ]
    },
    {
      "cell_type": "code",
      "source": [
        "total_list_109 = [' '.join(row) for row in total_list[79]]\n",
        "set(total_list_109)\n",
        "#dictionary_medicine_name[109]"
      ],
      "metadata": {
        "colab": {
          "base_uri": "https://localhost:8080/"
        },
        "id": "AIyTk6LPaWwn",
        "outputId": "a59d2d02-cdd9-4935-8922-42bc07d08b39"
      },
      "id": "AIyTk6LPaWwn",
      "execution_count": 162,
      "outputs": [
        {
          "output_type": "execute_result",
          "data": {
            "text/plain": [
              "{'fentanilo 0 , 1 mg / 2ml sol . iny . am / fam / jpr',\n",
              " 'fentanilo 0 , 5 mg / 10 ml sol . iny . am / fam',\n",
              " 'fentanilo 25mcg / hora parche transdermico',\n",
              " 'fentanilo 50mcg / hora parche transdermico'}"
            ]
          },
          "metadata": {},
          "execution_count": 162
        }
      ]
    },
    {
      "cell_type": "code",
      "source": [
        "dictionary_medicine_name[109]"
      ],
      "metadata": {
        "colab": {
          "base_uri": "https://localhost:8080/",
          "height": 35
        },
        "id": "c9REytNuaWmz",
        "outputId": "ec242f22-6f74-4406-abe1-c9bdad6b2d47"
      },
      "id": "c9REytNuaWmz",
      "execution_count": null,
      "outputs": [
        {
          "output_type": "execute_result",
          "data": {
            "text/plain": [
              "'fentanilo'"
            ],
            "application/vnd.google.colaboratory.intrinsic+json": {
              "type": "string"
            }
          },
          "metadata": {},
          "execution_count": 225
        }
      ]
    },
    {
      "cell_type": "code",
      "source": [
        "total_list_110 = [' '.join(row) for row in total_list[80]]\n",
        "total_list_110\n",
        "#dictionary_medicine_name[110]"
      ],
      "metadata": {
        "id": "OIOcARPubyw5",
        "colab": {
          "base_uri": "https://localhost:8080/"
        },
        "outputId": "e434caea-dc5a-414f-b124-5de15b6f69a0"
      },
      "id": "OIOcARPubyw5",
      "execution_count": null,
      "outputs": [
        {
          "output_type": "execute_result",
          "data": {
            "text/plain": [
              "['comprimidos o gotas de fluoruro']"
            ]
          },
          "metadata": {},
          "execution_count": 226
        }
      ]
    },
    {
      "cell_type": "code",
      "source": [
        "dictionary_medicine_name[110]"
      ],
      "metadata": {
        "colab": {
          "base_uri": "https://localhost:8080/",
          "height": 35
        },
        "id": "jIKQeTwYbyip",
        "outputId": "09e48162-e3b6-471c-d7a1-dd97958b4fbe"
      },
      "id": "jIKQeTwYbyip",
      "execution_count": null,
      "outputs": [
        {
          "output_type": "execute_result",
          "data": {
            "text/plain": [
              "'fluoruro'"
            ],
            "application/vnd.google.colaboratory.intrinsic+json": {
              "type": "string"
            }
          },
          "metadata": {},
          "execution_count": 227
        }
      ]
    },
    {
      "cell_type": "code",
      "source": [
        "total_list_111 = [' '.join(row) for row in total_list[81]]\n",
        "set(total_list_111)\n",
        "#dictionary_medicine_name[111]"
      ],
      "metadata": {
        "id": "q-BToKfabyfU",
        "colab": {
          "base_uri": "https://localhost:8080/"
        },
        "outputId": "5f45e9eb-4a95-46e4-b1a8-74dc93064255"
      },
      "id": "q-BToKfabyfU",
      "execution_count": 163,
      "outputs": [
        {
          "output_type": "execute_result",
          "data": {
            "text/plain": [
              "{'64 . 25 mg de sitaglipina como fosfato monohidratado y metformina clorhidrato , equivalente a 50 mg de sitaglipina como base libre y 1000 mg de metformina clorhidrato ( janumet 50 mg / 1000 mg ).',\n",
              " 'caja de 28 comprimidos que contienen 128 . mg de sitagliptina monohidrato de fosfato ( equivalente a 100 mg de sitagliptina como base libre ) y 1000 mg de metformina clorhidrato de liberación prolongada ( 100 mg / 1000 mg ). similar a janumet xr 100 / 1000',\n",
              " 'caja de 56 comp . contiene : fosfato de sitagliptina monohidratado 50mg y metformina clorhidrato 850mg . similar a janumet 50 / 850',\n",
              " 'fosfato de calcio dibase',\n",
              " 'sitaglipina como fosfato monohidratado 50 mg + metformina clorhidrato 1000 mg x 56 comprimidos , similar a janumet xr 50 / 1000 x 56 comprimidos',\n",
              " 'sitaglipina como fosfato monohidratado 50 mg + metformina clorhidrato 850 mg x 56 comprimidos , similar a janumet 50 / 850 mg x 56 comprimidos'}"
            ]
          },
          "metadata": {},
          "execution_count": 163
        }
      ]
    },
    {
      "cell_type": "code",
      "source": [
        "dictionary_medicine_name[111]"
      ],
      "metadata": {
        "id": "N3u-RGWpbyb7",
        "colab": {
          "base_uri": "https://localhost:8080/",
          "height": 35
        },
        "outputId": "0bb3f726-0d86-4c32-80db-f0ba006d5133"
      },
      "id": "N3u-RGWpbyb7",
      "execution_count": null,
      "outputs": [
        {
          "output_type": "execute_result",
          "data": {
            "text/plain": [
              "'fosfato'"
            ],
            "application/vnd.google.colaboratory.intrinsic+json": {
              "type": "string"
            }
          },
          "metadata": {},
          "execution_count": 229
        }
      ]
    },
    {
      "cell_type": "code",
      "source": [
        "total_list_112 = [' '.join(row) for row in total_list[82]]\n",
        "total_list_112\n",
        "#dictionary_medicine_name[112]"
      ],
      "metadata": {
        "id": "IQD22SjUbyYf",
        "colab": {
          "base_uri": "https://localhost:8080/"
        },
        "outputId": "c228b4b4-0cea-4a31-cb6d-ca11bb2638fc"
      },
      "id": "IQD22SjUbyYf",
      "execution_count": null,
      "outputs": [
        {
          "output_type": "execute_result",
          "data": {
            "text/plain": [
              "['fumarato de bisoprolol', 'fumarato de bisoprolol', 'fumarato de bisoprolol']"
            ]
          },
          "metadata": {},
          "execution_count": 234
        }
      ]
    },
    {
      "cell_type": "code",
      "source": [
        "dictionary_medicine_name[112]"
      ],
      "metadata": {
        "id": "I32q6v36byUY",
        "colab": {
          "base_uri": "https://localhost:8080/",
          "height": 35
        },
        "outputId": "36660cf4-0716-474d-9597-9196ac898a60"
      },
      "id": "I32q6v36byUY",
      "execution_count": null,
      "outputs": [
        {
          "output_type": "execute_result",
          "data": {
            "text/plain": [
              "'fumarato'"
            ],
            "application/vnd.google.colaboratory.intrinsic+json": {
              "type": "string"
            }
          },
          "metadata": {},
          "execution_count": 235
        }
      ]
    },
    {
      "cell_type": "code",
      "source": [
        "total_list_113 = [' '.join(row) for row in total_list[83]]\n",
        "total_list_113\n",
        "#dictionary_medicine_name[113]"
      ],
      "metadata": {
        "id": "6PywpW1ibyQF",
        "colab": {
          "base_uri": "https://localhost:8080/"
        },
        "outputId": "afbe034a-6ba2-4f3c-cb65-76324ccf1778"
      },
      "id": "6PywpW1ibyQF",
      "execution_count": null,
      "outputs": [
        {
          "output_type": "execute_result",
          "data": {
            "text/plain": [
              "[]"
            ]
          },
          "metadata": {},
          "execution_count": 237
        }
      ]
    },
    {
      "cell_type": "code",
      "source": [
        "dictionary_medicine_name[113]"
      ],
      "metadata": {
        "id": "PKVFsFoybyJO",
        "colab": {
          "base_uri": "https://localhost:8080/",
          "height": 35
        },
        "outputId": "e37eaea7-2a02-4893-af25-f06745a8e890"
      },
      "id": "PKVFsFoybyJO",
      "execution_count": null,
      "outputs": [
        {
          "output_type": "execute_result",
          "data": {
            "text/plain": [
              "'fungizon'"
            ],
            "application/vnd.google.colaboratory.intrinsic+json": {
              "type": "string"
            }
          },
          "metadata": {},
          "execution_count": 236
        }
      ]
    },
    {
      "cell_type": "code",
      "source": [
        "total_list_114 = [' '.join(row) for row in total_list[84]]\n",
        "set(total_list_114)\n",
        "#dictionary_medicine_name[114]"
      ],
      "metadata": {
        "id": "Hhf5tIkSbyFY",
        "colab": {
          "base_uri": "https://localhost:8080/"
        },
        "outputId": "6d7a9049-f344-4c1c-e87a-e4f74de45d5a"
      },
      "id": "Hhf5tIkSbyFY",
      "execution_count": 164,
      "outputs": [
        {
          "output_type": "execute_result",
          "data": {
            "text/plain": [
              "{'metformina 1000 mg comprimidos de liberación prolongada envasado en blister de pvc y / o similar con aluminio impreso , fármaco de referencia o bioequivalente'}"
            ]
          },
          "metadata": {},
          "execution_count": 164
        }
      ]
    },
    {
      "cell_type": "code",
      "source": [
        "dictionary_medicine_name[114]"
      ],
      "metadata": {
        "id": "J2eaBeIEbyBy",
        "colab": {
          "base_uri": "https://localhost:8080/",
          "height": 35
        },
        "outputId": "4c1ca75a-d61f-4b55-9cdc-57bdad660f18"
      },
      "id": "J2eaBeIEbyBy",
      "execution_count": null,
      "outputs": [
        {
          "output_type": "execute_result",
          "data": {
            "text/plain": [
              "'fármaco'"
            ],
            "application/vnd.google.colaboratory.intrinsic+json": {
              "type": "string"
            }
          },
          "metadata": {},
          "execution_count": 238
        }
      ]
    },
    {
      "cell_type": "code",
      "source": [
        "total_list_115 = [' '.join(row) for row in total_list[85]]\n",
        "set(total_list_115)\n",
        "#dictionary_medicine_name[115]"
      ],
      "metadata": {
        "id": "O5BLIc6sbx-g",
        "colab": {
          "base_uri": "https://localhost:8080/"
        },
        "outputId": "3124ea63-6a34-4768-c8d3-84226bd536a8"
      },
      "id": "O5BLIc6sbx-g",
      "execution_count": 165,
      "outputs": [
        {
          "output_type": "execute_result",
          "data": {
            "text/plain": [
              "{'1093034 - 5 envase x56compr . comprimido contiene 50mg del principio activo hipoglicemiante vildagliptina . forma farmaceutica de compr para administracion via oral . o equivalente a galvus 50 mg x 56 comp',\n",
              " '11 . vildagliptina 50 mg tipo : galvus',\n",
              " 'caja de 56 comprimido contiene : vildagliptina 50 mg . similar a galvus',\n",
              " 'caja de 56 comprimido contiene : vildagliptina 50 mg . similar a galvus 50mg',\n",
              " 'galvus ( o similar ) ( vidagliptina 50 mg x 30 comp ).',\n",
              " 'galvus 50 mg',\n",
              " 'galvus 50 mg . x 56 comprimidos',\n",
              " 'galvus 50 mg caja x 56 com . ( o equivalente )',\n",
              " 'galvus 50 mg caja x 56 com .( o equivalente )',\n",
              " 'galvus 50 mg x 28 comp .',\n",
              " 'galvus 50 mg x 56',\n",
              " 'galvus 50 mg x 56 cm . ( o equivalente )',\n",
              " 'galvus 50 mg x 56 comp',\n",
              " 'galvus 50mg x 28 comp o similar',\n",
              " 'galvus 50mg x 56 comp .',\n",
              " 'galvus 50mg x 56 comp o similar',\n",
              " 'galvus met 50 / 500mg',\n",
              " 'galvus vildagliptina 50 mg , 56 comprimidos',\n",
              " 'metformina 1000 mg + vildagliptina 50mg . caja x 28 comp . rec . similar a galvus met .....( indicar fecha de vencimiento y registro isp ).. _x000d__x000d__x000d__x000d__x000d__x000d__x000d__x000d_',\n",
              " 'vildagliptina + metfomirna 50 / 1000 mg ( similar galvus met 50 / 1000 ) caja de 28 comprimidos',\n",
              " 'vildagliptina 50 comprimidos , envasadas en blister pvc o similar y aluminio impreso , envase contenido 56 comprimidos recubiertos , certificacion gmp de la planta productora , tipo galvus .',\n",
              " 'vildagliptina 50 mg ** galvus 50mg ** x56 comprimidos',\n",
              " 'vildagliptina 50 mg + metformina 850 mg ( similar galvus met 50 / 850 mg ) caja de 28 comprimidos .',\n",
              " 'vildagliptina 50 mg + metformina clorhidrato 850 mg x 56 comp . _x000d__x000d__x000d__x000d__x000d__x000d__x000d__x000d_ ( galvus met 50 / 850 ) _x000d__x000d__x000d__x000d__x000d__x000d__x000d__x000d_',\n",
              " 'vildagliptina 50 mg , similar a galvus 50 mg en comprimidos',\n",
              " 'vildagliptina 50 mg . tipo : galvus 50 mg',\n",
              " 'vildagliptina 50 mg . tipo : galvus 50 mg .',\n",
              " 'vildagliptina 50 mg / metformina 500 mg x 56 comp . rec . similar galvus met',\n",
              " 'vildagliptina 50 mg x 28 comp . o 56 comp . _x000d__x000d__x000d__x000d__x000d__x000d__x000d__x000d_ ( jalra , galvus )',\n",
              " 'vildagliptina 50 mg x 56 comp . re . similar galvus',\n",
              " 'vildagliptina 50 mg x 56 comprimidos , similar a galvus 50 mg x 56 comp .',\n",
              " 'vildagliptina 50 mg x 56 comprimidos , similar a galvus 50 mg x 56 comprimidos',\n",
              " 'vildagliptina 50mg comprimidos recubiertos similar galvus',\n",
              " 'vildagliptina equivalente a galvus 50 mg , caja de 56 comprimidos'}"
            ]
          },
          "metadata": {},
          "execution_count": 165
        }
      ]
    },
    {
      "cell_type": "code",
      "source": [
        "dictionary_medicine_name[115]"
      ],
      "metadata": {
        "id": "mg_tVo3ybx0S",
        "colab": {
          "base_uri": "https://localhost:8080/",
          "height": 35
        },
        "outputId": "74363109-566c-4b0a-d866-803fcf9e40ab"
      },
      "id": "mg_tVo3ybx0S",
      "execution_count": null,
      "outputs": [
        {
          "output_type": "execute_result",
          "data": {
            "text/plain": [
              "'galvus'"
            ],
            "application/vnd.google.colaboratory.intrinsic+json": {
              "type": "string"
            }
          },
          "metadata": {},
          "execution_count": 240
        }
      ]
    },
    {
      "cell_type": "code",
      "source": [
        "total_list_116 = [' '.join(row) for row in total_list[86]]\n",
        "set(total_list_116)\n",
        "#dictionary_medicine_name[116]"
      ],
      "metadata": {
        "colab": {
          "base_uri": "https://localhost:8080/"
        },
        "id": "dwTqiRkmgfoq",
        "outputId": "7de5356d-e996-4ad3-d9db-5dbe4b8ebc1e"
      },
      "id": "dwTqiRkmgfoq",
      "execution_count": 166,
      "outputs": [
        {
          "output_type": "execute_result",
          "data": {
            "text/plain": [
              "{'caja de 30 comprimidos recubiertos de larga duracion contiene : metformina xr 500mg , similar a glafornil xr 500',\n",
              " 'caja de 30 comprimidos recubiertos de larga duracion contiene : metformina xr 750mg , similar a glafornil xr 750',\n",
              " 'envase de 30 comprimidos que contiene : clorhidrato de metformina 500 mg , similar o igual a glafornil xr 500 mg .',\n",
              " 'envase de 30 comprimidos que contiene : clorhidrato de metformina 750 mg , similar o igual a glafornil xr 750 mg .',\n",
              " 'envase de 30 comprimidos que contiene : metformina clorhidrato 1000 mg ; similar o igual a glafornil xr 1000 mg .',\n",
              " 'envase de 30 comprimidos que contiene : metformina clorhidrato 500 mg ; similar o igual a glafornil xr 500 mg .',\n",
              " 'envase de 30 comprimidos que contiene : metformina clorhidrato 750 mg ; similar o igual a glafornil xr 750 mg .',\n",
              " 'glafornil 1000 mg caja x 30 com . ( o equivalente )',\n",
              " 'glafornil 1000 mg lp',\n",
              " 'glafornil 1000 xr , 30 comp',\n",
              " 'glafornil 500',\n",
              " 'glafornil 500 mg - metformina clorhidrato 500 mg ( referente terapéutico )',\n",
              " 'glafornil 500 mg caja x 30 com ( o equivalente )',\n",
              " 'glafornil 500 mg caja x 30 com . ( o equivalente )',\n",
              " 'glafornil 750 xr , 30 comp',\n",
              " 'glafornil 850 mg - metformina 850 mg ( referente terapéutico )',\n",
              " 'glafornil 850 mg . caja x 60 comp',\n",
              " 'glafornil 850 mg caja x 60 com . ( o equivalente )',\n",
              " 'glafornil 850 mg comprimidos envase clinico',\n",
              " 'glafornil 850 mg x 30 comp',\n",
              " 'glafornil xr 1 . 000 comp .',\n",
              " 'glafornil xr 1000 - metformina clorhidrato 1000 ( referente terapéutico )',\n",
              " 'glafornil xr 1000 mg . caja x 30 comp',\n",
              " 'glafornil xr 1000 mg caja x 30 com .( o equivalente )',\n",
              " 'glafornil xr 1000 mg metformina , caja de 30 comprimidos',\n",
              " 'glafornil xr 1000 mg x 30',\n",
              " 'glafornil xr 1000mg x 30 comp o similar',\n",
              " 'glafornil xr 500 mg ( metformina ), 30 comp . por caja',\n",
              " 'glafornil xr 500 mg - metformina 500 mg ( referente terapéutico )',\n",
              " 'glafornil xr 500 mg . x 30 comp',\n",
              " 'glafornil xr 500 mg . x 30 comprimidos',\n",
              " 'glafornil xr 500 mg caja x 30 com . ( o equivalente )',\n",
              " 'glafornil xr 500 mg x 30',\n",
              " 'glafornil xr 500mg x 30 comp o similar',\n",
              " 'glafornil xr 750 mg - metformina 750 mg ( referente terapéutico )',\n",
              " 'glafornil xr 750 mg metformina , caja de 30 compr',\n",
              " 'glafornil xr 750 mg x 30',\n",
              " 'glafornil xr 750 mg x 30 cm . liberacion prolongada ( o equivalente )',\n",
              " 'glafornil xr 750mg ( metformina ), 30 comp . por caja',\n",
              " 'glafornil xr 750mg ** 30 comprimidos **',\n",
              " 'glafornil xr 750mg x 30 comp o similar',\n",
              " 'glafornil xr metformina 1000 mg',\n",
              " 'metformina 1000 mg x 60 comp liberacion prolongada_x000d__x000d__x000d__x000d__x000d__x000d__x000d__x000d_ ( glafornil xr , glicenex sr , glifortex xr , glucopage xr , hipoglucin lp , metformina hcl )',\n",
              " 'metformina 1000 mg x 60 comp liberacion prolongada_x000d__x000d__x000d__x000d__x000d__x000d__x000d__x000d_ ( glafornil xr , glicenex sr , glifortex xr , glucopage xr , hipoglucin lp , metformina hcl ) _x000d__x000d__x000d__x000d__x000d__x000d__x000d__x000d_',\n",
              " 'metformina 1000 mg xr ( similar glafornil 1000 mg xr ) _x000d__x000d__x000d__x000d__x000d__x000d__x000d__x000d_ ver especificaciones tecnicas en la clausula 8 . 2 . 2 de las bases',\n",
              " 'metformina 1000mg comprimidos de liberación prolongada similar glafornil xr',\n",
              " 'metformina 500 mg . comprimidos de liberacion prolongada . envase sellado , resistente e inadulterado . similar a glafornil xr',\n",
              " 'metformina 500 mg comprimidos recubiertos x 30 comprimidos equivalente a glafornil xr',\n",
              " 'metformina 500 mg x 60 comp liberacion prolongada_x000d__x000d__x000d__x000d__x000d__x000d__x000d__x000d_ ( glafornil xr , glicenex sr , glifortex xr , glucopage xr , hipoglucin lp , metformina hcl )',\n",
              " 'metformina 500 mg x 60 comp_x000d__x000d__x000d__x000d__x000d__x000d__x000d__x000d_ ( glafornil , glicenex , glidanil , glifortex , glucopage , hipoglucin , metformina hcl )',\n",
              " 'metformina 500mg comprimidos recubiertos similar glafornil',\n",
              " 'metformina 750 mg , liberacion prolongada ( similar glafornil 750 mg ) caja de 30 comprimidos',\n",
              " 'metformina 750 mg . comprimidos de liberacion prolongada . envase sellado , resistente e inadulterado . similar a glafornil xr',\n",
              " 'metformina 750 mg x 60 comp liberacion prolongada_x000d__x000d__x000d__x000d__x000d__x000d__x000d__x000d_ ( glafornil xr , glicenex sr , glifortex xr , glucopage xr , hipoglucin lp , metformina hcl )',\n",
              " 'metformina 750 mg x 60 comp liberacion prolongada_x000d__x000d__x000d__x000d__x000d__x000d__x000d__x000d_ ( glafornil xr , glicenex sr , glifortex xr , glucopage xr , hipoglucin lp , metformina hcl ) _x000d__x000d__x000d__x000d__x000d__x000d__x000d__x000d_',\n",
              " 'metformina 850 [ mg ] comprimidos recubiertos ( similar glafornil ) _x000d__x000d__x000d__x000d__x000d__x000d__x000d__x000d_',\n",
              " 'metformina 850 mg ( producto sin almidon en excipientes , similar a glafornil )',\n",
              " 'metformina 850 mg . comprimidos recubiertos ( similar o tipo glafornil , hipoglucin , glifortex , glicenex , glaupax o glucophage .)',\n",
              " 'metformina 850 mg . excipientes : polividona k30 , estearato de magnesio , metilhidroxipropilcelulosa comprimidos para pacientes intolerantes metformina genérica ) equivalente glafornil ( fofar )',\n",
              " 'metformina 850 mg comprimidos recubiertos : metformina 850 mg recubierto similar a glafornil',\n",
              " 'metformina 850 mg glafornil merck',\n",
              " 'metformina 850 mg x 60 comp liberacion prolongada_x000d__x000d__x000d__x000d__x000d__x000d__x000d__x000d_ ( glafornil xr , glicenex sr , glifortex xr , glucopage xr , hipoglucin lp , metformina hcl )',\n",
              " 'metformina 850 mg x 60 comp_x000d__x000d__x000d__x000d__x000d__x000d__x000d__x000d_ ( glafornil , glicenex , glidanil , glifortex , glucopage , hipoglucin , metformina hcl )',\n",
              " 'metformina 850 mg x 60 comp_x000d__x000d__x000d__x000d__x000d__x000d__x000d__x000d_ ( glafornil , glicenex , glidanil , glifortex , glucopage , hipoglucin , metformina hcl ) _x000d__x000d__x000d__x000d__x000d__x000d__x000d__x000d_',\n",
              " 'metformina 850mg comprimidos similar glafornil',\n",
              " 'metformina clorhidrato 500 mg . x 56 comprimidos , recubiertos ( glafornil , glicenex , glifortex , glidanil , hipoglucin , metformina )',\n",
              " 'metformina clorhidrato 750 xr similar a glafornil 750 xr',\n",
              " 'metformina cmp . 850 mg . con excipientes polividona k30 , esterato de magnesio metilhidroxipropil celulosa envase 500 cmp . equivalente glafornil 850 mg .( pacientes intolerantes a metformina generica )',\n",
              " 'metformina liberacion prolongada 750 mg ** glafornil xr 750 ** x30 comprimidos .',\n",
              " 'metformina xr 750 mg , caja x 30 comprimidos de liberación prolongada ( equivalente a glafornil xr 750 ).'}"
            ]
          },
          "metadata": {},
          "execution_count": 166
        }
      ]
    },
    {
      "cell_type": "code",
      "source": [
        "dictionary_medicine_name[116]"
      ],
      "metadata": {
        "colab": {
          "base_uri": "https://localhost:8080/",
          "height": 35
        },
        "id": "tkkoC2ShgfiI",
        "outputId": "a02b50b4-b822-42c9-c864-365782a88aaa"
      },
      "id": "tkkoC2ShgfiI",
      "execution_count": null,
      "outputs": [
        {
          "output_type": "execute_result",
          "data": {
            "text/plain": [
              "'glafornil'"
            ],
            "application/vnd.google.colaboratory.intrinsic+json": {
              "type": "string"
            }
          },
          "metadata": {},
          "execution_count": 242
        }
      ]
    },
    {
      "cell_type": "code",
      "source": [
        "total_list_117 = [' '.join(row) for row in total_list[87]]\n",
        "set(total_list_117)\n",
        "#dictionary_medicine_name[117]"
      ],
      "metadata": {
        "colab": {
          "base_uri": "https://localhost:8080/"
        },
        "id": "Qh1dabnrgfbV",
        "outputId": "585e29e4-9a45-4c11-9a06-3491ad5d794c"
      },
      "id": "Qh1dabnrgfbV",
      "execution_count": 167,
      "outputs": [
        {
          "output_type": "execute_result",
          "data": {
            "text/plain": [
              "{'metformina 850 mg , liberación normal , sin almidón en sus excipientes , producto similar a glafornol ( fofar 2020 )'}"
            ]
          },
          "metadata": {},
          "execution_count": 167
        }
      ]
    },
    {
      "cell_type": "code",
      "source": [
        "dictionary_medicine_name[117]"
      ],
      "metadata": {
        "colab": {
          "base_uri": "https://localhost:8080/",
          "height": 35
        },
        "id": "INQnnqHWgfTl",
        "outputId": "a8c015f3-5ae5-437b-a3c1-d2231f15630b"
      },
      "id": "INQnnqHWgfTl",
      "execution_count": null,
      "outputs": [
        {
          "output_type": "execute_result",
          "data": {
            "text/plain": [
              "'glafornol'"
            ],
            "application/vnd.google.colaboratory.intrinsic+json": {
              "type": "string"
            }
          },
          "metadata": {},
          "execution_count": 244
        }
      ]
    },
    {
      "cell_type": "code",
      "source": [
        "total_list_118 = [' '.join(row) for row in total_list[88]]\n",
        "set(total_list_118)\n",
        "#dictionary_medicine_name[118]"
      ],
      "metadata": {
        "colab": {
          "base_uri": "https://localhost:8080/"
        },
        "id": "H7nuI7CygfL1",
        "outputId": "14420cdb-2a57-4f2d-9b1b-f2393118a58d"
      },
      "id": "H7nuI7CygfL1",
      "execution_count": 168,
      "outputs": [
        {
          "output_type": "execute_result",
          "data": {
            "text/plain": [
              "{'metformina equivalente a glafornyl xr 1000 . debe indicar fecha de vencimiento expresado en mes y año , ademas de lo solicitado en las bases .'}"
            ]
          },
          "metadata": {},
          "execution_count": 168
        }
      ]
    },
    {
      "cell_type": "code",
      "source": [
        "dictionary_medicine_name[118]"
      ],
      "metadata": {
        "colab": {
          "base_uri": "https://localhost:8080/",
          "height": 35
        },
        "id": "7RDb478VgfD_",
        "outputId": "1e150ed5-2440-402b-b5f6-4df74c22a6c7"
      },
      "id": "7RDb478VgfD_",
      "execution_count": null,
      "outputs": [
        {
          "output_type": "execute_result",
          "data": {
            "text/plain": [
              "'glafornyl'"
            ],
            "application/vnd.google.colaboratory.intrinsic+json": {
              "type": "string"
            }
          },
          "metadata": {},
          "execution_count": 246
        }
      ]
    },
    {
      "cell_type": "code",
      "source": [
        "total_list_119 = [' '.join(row) for row in total_list[89]]\n",
        "set(total_list_119)\n",
        "#dictionary_medicine_name[119]"
      ],
      "metadata": {
        "colab": {
          "base_uri": "https://localhost:8080/"
        },
        "id": "B1SARdhtge7v",
        "outputId": "02ad5b28-320e-4371-f0e9-d928bbbf239c"
      },
      "id": "B1SARdhtge7v",
      "execution_count": 169,
      "outputs": [
        {
          "output_type": "execute_result",
          "data": {
            "text/plain": [
              "{'007 - 0066 insulina glargina humana recombinante 100 ui cartridge c / dispositivo prellenado desechable para dispensación',\n",
              " '007 - 0117 insulina glargina humana recombinante 300 ui / ml en dispositivo prellenado desechable para dispensación',\n",
              " '1 insulina glargina 450 ui / 1 , 5 ml ( 300 ui / ml ) inyectable en lapiz prellenado inyectable 12000',\n",
              " '1092013 - 0 cada ml de solucion inyectable contiene 300 unidades de insulina glargina . o equivalente a toujeo sol . inyec . 300 ui / ml',\n",
              " '1092013 - 0 cada ml de solucion inyectable contiene 300 unidades de insulina glargina . o equivalete a toujeo sol . inyec . 300 ui / ml',\n",
              " '1092013 - 0 cada ml de solucion inyectable contiene 300 unidades de insulina glargina o equivalente a toujeo sol . inyec . 300 ui / ml o equivalente a toujeo sol . inyec . 300 ui / ml',\n",
              " '1092019 - 7 cada ml de solucion inyectable contiene insulina _x000d__x000d__x000d__x000d__x000d__x000d__x000d__x000d_ glargina 3 , 64mg equivalente a 100 ui de insulina humana hipoglicemiante anti - diabetico o equivalente a ins . lantus - sol . 3 ml lapiz',\n",
              " '1092019 - 7 cada ml de solución inyectable contiene insulina _x000d__x000d__x000d__x000d__x000d__x000d__x000d__x000d_ glargina 3 , 64mg equivalente a 100 ui de insulina humana hipoglicemiante anti - diabetico o equivalente a ins . lantus - sol . 3 ml lapiz',\n",
              " '1092019 - 7 ins . lantus - sol . 100ui 3 ml lapiz , insulina glargina 100ui 3ml lapicera pre llenada .',\n",
              " '1092019 - 7 insulina glargina 100ui 3ml lapicera pre llenada o equivalente a ins . lantus - sol . 100ui 3 ml lapiz',\n",
              " '1092019 - 7 insulina glargina 100ui 3ml lapicera pre llenada o equivalente a ins . lantus - sol . 100ui 3 ml lapiz .',\n",
              " '1092019 - 7 insulina glargina o equivalente a insulina glargina 100ui 3ml lapicera pre llenada .',\n",
              " '1400020 analogo de insulina lenta glargina adn recombinante 300 ml lapiz x 1 , 5 ml , similar toujeo uso ocasional sol . iny . lapiz_x000d__x000d__x000d__x000d__x000d__x000d__x000d__x000d_',\n",
              " '1400069 analogo de insulina lenta glargina adn recombinante 100 u / ml lapiz solostar x 3 ml sc , similar lantus solostar . sol . iny . lapiz_x000d__x000d__x000d__x000d__x000d__x000d__x000d__x000d_',\n",
              " '1629804 insulina glargina accion prolongada 100 u / ml 10 ml frasco solución inyectable sc',\n",
              " '1629829 insulina glargina accion prolongada 100 u / ml 3ml lapiz solución inyectable sc',\n",
              " '216 - 5175 insulina humana glargina recombinante lapiz precargado 100ui / ml 3ml',\n",
              " '216 - 5691 insulina glargina 100ui / ml dispositivo descartable 3 ml con 20 agujas por unidad de lapiz',\n",
              " '2200072 insulina glargina catridge 3 ml ( según bases técnicas y sus formularios )',\n",
              " '262 - 0012 insulina prolongada ( glargina 300ui ) lapicera prellenada descartable',\n",
              " '262 - 0031 insulina glargina 300 ui / mlx1ml . _x000d__x000d__x000d__x000d__x000d__x000d__x000d__x000d_ se debe considerar bonificacion de 10 agujas por lapiz . lapiz desechable 640_x000d__x000d__x000d__x000d__x000d__x000d__x000d__x000d_',\n",
              " '262 - 0031 insulina glargina 300 ui / mlx1ml lapiz 1 . 375',\n",
              " '262 - 0031 insulina glargina 300 ui / mlx1ml se debe considerar bonificación de 10 agujas por lápiz',\n",
              " '262 - 0065 insulina glargina ( dna recombinante ) 100 ui / ml',\n",
              " '262 - 0114 insulina glargina degludec 300 ui / 3 ml se debe considerar bonificación de 10 agujas por lápiz',\n",
              " '262 - 0115 insulina glargina 100ui / ml x 3ml lapiz 5 . 000',\n",
              " '262 - 1330 insulina glargina 300 ui / 1 , 5 ml',\n",
              " '2628455 insulina glargina accion prolongada 300ui / ml 1 , 5ml lapiz solución inyectable sc',\n",
              " '3002161380 insulina glargina 100 ui / ml / 3 ml solucion inyectable',\n",
              " '3002161382 insulina glargina 300 ui / ml 1 , 5 ml solución inyectable',\n",
              " '40400170056 insulina glargina 100 ui / 3 ml . solución inyectable',\n",
              " '40400170196 insulina glargina 300 ui lápiz 1 , 5 ml . lapicera prellenada 1 , 5 ml . solución inyectable ( los oferentes deberán considerar la entrega de 30 agujas de 4 mm por cada lápiz .) _x000d__x000d__x000d__x000d__x000d__x000d__x000d__x000d_ _x000d__x000d__x000d__x000d__x000d__x000d__x000d__x000d_ _x000d__x000d__x000d__x000d__x000d__x000d__x000d__x000d_',\n",
              " '511 - 1939 insulina humana glargina 300 ui / ml lapiz 3 ml solucion inyectable',\n",
              " 'caja de 1 lapicera inyectable contiene : 300 unidades de insulina glargina ( equivalentes a 10 . 91 mg ). cada lapicera contiene 1 . 5 ml de solución inyectable , equivalentes a 450 unidades . similar a toujeo',\n",
              " 'caja de 1 lápiz conteniendo : cada ml 3000 unidades de insulina glargina ( equivalentes a 10 . 91 mg ). cada lapicera contiene 1 . 5 ml de solución inyectable , equivalentes a 450 unidades . similar a toujeo',\n",
              " 'faaa10003 insulina glargina 100 ui / ml car iny 3 ml',\n",
              " 'faaa10004 insulina glargina 100 ui / ml iny 10 ml',\n",
              " 'insul glargina 300u / ml s / iny lapiz1 , 5 + ag',\n",
              " 'insulina glargina ( tougeo ) 300u / ml , lapiz de 1 , 5 ml',\n",
              " 'insulina glargina , lápiz desechable 3 ml , 100 ui / ml . unidad lápiz',\n",
              " 'insulina glargina 100 / ui tipo lápiz 3 ml',\n",
              " 'insulina glargina 100 u . i ./ ml lapiz 3 ml',\n",
              " 'insulina glargina 100 u / 1 mi . estuche con 1 lápiz aplicador desechable , prellenado con 3 ml . similar lantus solostar .',\n",
              " 'insulina glargina 100 u / ml estuche con 1 lápiz prellenado con 3 ml similar lantus solostar',\n",
              " 'insulina glargina 100 u / ml lapiz similar a lantuz solostar',\n",
              " 'insulina glargina 100 ui / 3 ml ( cod . int . 40400170056 )',\n",
              " 'insulina glargina 100 ui / ml - tipo lapiz',\n",
              " 'insulina glargina 100 ui / ml 1 cartucho 3 ml similar a lantus solostar',\n",
              " 'insulina glargina 100 ui / ml accion ultra lenta , debe incluir ajugas ultra fine 4 mm_x000d__x000d__x000d__x000d__x000d__x000d__x000d__x000d_ _x000d__x000d__x000d__x000d__x000d__x000d__x000d__x000d_',\n",
              " 'insulina glargina 100 ui / ml dispositivo ( tipo lapiz ) pre . cargado de 3 ml . * oferta debe incluir bonificación de 10 agujas 31 gx 4 mm por lápiz *',\n",
              " 'insulina glargina 100 ui / ml en lapices aplicadores prellenados , similar a lantus solostar',\n",
              " 'insulina glargina 100 ui / ml fa accion ultra lenta_x000d__x000d__x000d__x000d__x000d__x000d__x000d__x000d_',\n",
              " 'insulina glargina 100 ui / ml fa accion ultra lenta_x000d__x000d__x000d__x000d__x000d__x000d__x000d__x000d_ _x000d__x000d__x000d__x000d__x000d__x000d__x000d__x000d_ _x000d__x000d__x000d__x000d__x000d__x000d__x000d__x000d_',\n",
              " 'insulina glargina 100 ui / ml fa acción ultra lenta aplicador inyectable tipo lápiz 3 ml',\n",
              " 'insulina glargina 100 ui / ml lapiz 3 ml + 15 agujas por lapiz',\n",
              " 'insulina glargina 100 ui / ml lapiz 3 ml + 15 agujas por lapiz + estuche termico con gel',\n",
              " 'insulina glargina 100 ui / ml lapiz x 3 ml , lantus o similar deben incluir agujas ( para despacho parcializado de 300 unidades mensuales )',\n",
              " 'insulina glargina 100 ui / ml sugerencia , lantus caja conteniendo 1 lapiz _x000d__x000d__x000d__x000d__x000d__x000d__x000d__x000d_',\n",
              " 'insulina glargina 100 ui / ml x 3 ml ( lápiz desechable , con comodato de equipo )',\n",
              " 'insulina glargina 100 ui / ml x 3 ml solucion inyectable similar solostar',\n",
              " 'insulina glargina 100 ui / ml x 3 ml solucion inyectable similar solostar ( penfil )',\n",
              " 'insulina glargina 100 ui / ml x 3 ml solucion inyectable solostar ( penfil )',\n",
              " 'insulina glargina 100 ui x 10 ml',\n",
              " 'insulina glargina 100 ui x 10 ml fco amp . ( lantus )',\n",
              " 'insulina glargina 100 ui_x000d__x000d__x000d__x000d__x000d__x000d__x000d__x000d_ 262 - 054',\n",
              " 'insulina glargina 100 unidades ( equivalente a 3 . 64 mg ) por ml en dispositivo inyector de 3ml . presentación por 1 - 10 inyectores . _x000d__x000d__x000d__x000d__x000d__x000d__x000d__x000d_',\n",
              " 'insulina glargina 100mg / ml frasco 10 ml',\n",
              " 'insulina glargina 100u / ml x 3 ml lapiz similar a lantus solostar',\n",
              " 'insulina glargina 100u / ml x lapiz 3 ml similar a lantus solostar',\n",
              " 'insulina glargina 100ui / 1ml lapiz descartable 3ml',\n",
              " 'insulina glargina 100ui / ml . solución inyectable x 1 cartucho 3ml . similar a lantus solostar .....( indicar fecha de vencimiento y registro isp ).. _x000d__x000d__x000d__x000d__x000d__x000d__x000d__x000d_',\n",
              " 'insulina glargina 100ui / ml x 10ml ( tipo lantus o equivalente ) frasco - ampolla',\n",
              " 'insulina glargina 100ui / ml x 3ml ( tipo lantus o equivalente ) dispositivo inyector desechable',\n",
              " 'insulina glargina 100ui / ml x 3ml similar a lantus solostar',\n",
              " 'insulina glargina 3 , 6378 mg , similar a lantus 100u / ml',\n",
              " 'insulina glargina 3 . 64 mg , correspondiente a 100 u . i . de insulina humana . presentación en frasco vial ; equivalente a lantus 100 ui / ml frasco 10 ml',\n",
              " 'insulina glargina 3 . 64 mg , equivalentes a 100 u . i . de insulina humana en 3 ml presentación en dispositivo solostar prellenado desechable .; equivalente a lantus solostar 100 u / ml lápiz 3 ml - _x000d__x000d__x000d__x000d__x000d__x000d__x000d__x000d_ ver base',\n",
              " 'insulina glargina 300 u . i ./ ml lapiz 1 . 5 ml',\n",
              " 'insulina glargina 300 u / ml ( insulina glargina humana recombinante ) dispositivo tipo lapiz . pre cargado * oferta debe incluir bonificación de 10 agujas 31 gx 4 mm por lápiz *',\n",
              " 'insulina glargina 300 ui / 3 ml ( 100 ui / ml ) inyectable en lapiz prellenado',\n",
              " 'insulina glargina 300 ui / ml ( toujeo ( r )) con agujas por lapiz',\n",
              " 'insulina glargina 300 ui / ml , dispositivo inyector desechable ( tipo lapicera ), prellenado , conteniendo un cartucho cartridge 1 , 5 ml . unidad lápiz',\n",
              " 'insulina glargina 300 ui / ml . lapiz prellenado 1 . 5ml . similar a toujeo . . . . .. .. .. . .. .. ( se adjuntan bases administrativas y técnicas leerlas p / ofertar ) _x000d__x000d__x000d__x000d__x000d__x000d__x000d__x000d_',\n",
              " 'insulina glargina 300 ui / ml cartridge',\n",
              " 'insulina glargina 300 ui / ml l $ 2628451ud',\n",
              " 'insulina glargina 300 ui / ml lapiz 1 . 5 ml',\n",
              " 'insulina glargina 300 ui / ml lapiz 1 . 5 ml + 15 agujas por lapiz + estuche termico con gel',\n",
              " 'insulina glargina 300 ui / ml lapiz 1 . 5 ml .',\n",
              " 'insulina glargina 300 ui / ml lapiz prellenado / con 10 agujas 32 g x 4 mm por dispositivo de inyeccion tipo lapicera',\n",
              " 'insulina glargina 300 ui / ml lápiz 1 , 5ml igual a tujeo',\n",
              " 'insulina glargina 300 ui / ml lápiz 1 . 5 ml similar toujeo',\n",
              " 'insulina glargina 300 ui / ml x 1 , 5 ml ( lápiz desechable )',\n",
              " 'insulina glargina 300u / ml ( cod . int . 40400170196 )',\n",
              " 'insulina glargina 300u / ml , similar o equivalente a insulina toujeo , según lo requerido en bases administrativas , técnicas y anexos adjuntos .',\n",
              " 'insulina glargina 300ui / ml lapiz inyectable . fecha de vencimiento superior a 1 año desde la fecha de entrega . no se aceptan cartas de canje',\n",
              " 'insulina glargina 300ul ampolla',\n",
              " 'insulina glargina 450 ui / 1 , 5 ml ( 300 ui / ml ) inyectable en lapiz prellenado',\n",
              " 'insulina glargina 450 ui lapiz ( toujeo )',\n",
              " 'insulina glargina 450 ui lapiz ( toujeo ) _x000d__x000d__x000d__x000d__x000d__x000d__x000d__x000d_',\n",
              " 'insulina glargina caja 1 lápiz 3 ml 100 ui / ml , caja 1 lápiz',\n",
              " 'insulina glargina de 100ui / ml , lapiz aplicador desechable , se adjuntan especificaciones tecnicas .',\n",
              " 'insulina glargina fa 100 u . i ./ ml lapiz 3 ml solucion inyectable',\n",
              " 'insulina glargina fa 100 u . i / ml lapiz 3 ml solucion inyectable',\n",
              " 'insulina glargina fa 300 u . i ./ ml lapiz 1 . 5 ml solucion inyectable',\n",
              " 'insulina glargina humana 100 ui / ml , jeringa prellenada . especificar marca , características y presentación . consumo promedio mensual 600 unidades aprox',\n",
              " 'insulina glargina humana recombinante 100 u . i ./ ml soluc . iny 10 ml',\n",
              " 'insulina glargina humana recombinante 100 u . i / ml fa 10 ml',\n",
              " 'insulina glargina humana recombinante 100 ui / ml solución inyectable en dispositivo para inyección prellenado tipo lápiz descartable 3 ml ; mas 15 agujas en donación . vencimiento mayor a 18 meses desde el envío de oc',\n",
              " 'insulina glargina humana recombinante 100 ui / ml solución inyectable para administración subcutánea . dispositivo prellenado descartable de 3 ml .',\n",
              " 'insulina glargina humana recombinante 300 ui / ml solución inyectable para administración subcutánea . dispositivo prellenado de vidrio descartable de 1 , 5 ml .',\n",
              " 'insulina glargina humana recombinante solucion inyectable 100 ui / ml fc 10 ml_x000d__x000d__x000d__x000d__x000d__x000d__x000d__x000d_',\n",
              " 'insulina glargina humana solucion inyectable 300 u . i ./ ml dispositivo inyector desechable ( tipo lapicera )',\n",
              " 'insulina glargina lapiz 300 ui / ml',\n",
              " 'insulina glargina lápiz , según lo indicado en bases administrativas , técnicas y anexos adjuntos .',\n",
              " 'insulina glargina lápiz 100ui / ml x 3 ml excipientes : metacresol , cloruro de zinc , glicerol ( 85 %), hidróxido de sodio , acido clorhidriico concentrado , agua para inyectables c . s . similar a lantus más agujas compatible de 32g 4mm ( 15 agujas por lapiz ) entreg',\n",
              " 'insulina glargina lápiz 100ui / ml x 3 ml lantus más agujas compatible de 32g 4mm ( 15 agujas por lapiz )',\n",
              " 'insulina glargina lápiz 100ui / ml x 3 ml lantus más agujas compatible de 32g 4mm ( 15 agujas por lapiz ) entrega de forma parcializada según acuerdo .',\n",
              " 'insulina glargina rec 100 ui / ml fam10 ml',\n",
              " 'insulina glargina rec 100 ui / ml fam10 ml ( 100002079 )',\n",
              " 'insulina glargina rec 100 ui / ml fam10 ml 100002079',\n",
              " 'insulina glargina recomb 300 ui / ml lapiz 1 . 5ml_x000d__x000d__x000d__x000d__x000d__x000d__x000d__x000d_',\n",
              " 'insulina glargina recomb 300 ui / ml lapiz 100004060',\n",
              " 'insulina glargina solostar x 3 ml similar a lantus',\n",
              " 'insulina glargina tipo lapiz',\n",
              " 'insulina glargina tipo lapiz 0 , 5 u . i debe incluir el medicamento a administrar y el dispositivo de que otorgue la administracion de 0 . 5 u . i de dosis',\n",
              " 'insulina glargina tipo lápiz 0 , 5 u . i . debe incluir el medicamento a administrar y el dispositivo de que otorgue la administración de 0 . 5 u . i de dosis .',\n",
              " 'insulina glargina vial , según lo indicado en bases administrativas , técnicas y anexos adjuntos .',\n",
              " 'insulina humana recombinante glargina lenta lapiz autoinyectable',\n",
              " 'insulina ultra lenta glargina 300ui / 1ml lapiz 1 . 5ml , 10 agujas x lapiz',\n",
              " 'insulina ultralenta glargina 100 ui / ml lapiz desechable 3ml . jeringa prellenada ( 2620928 )',\n",
              " 'insulina ultralenta glargina 100 ui / ml lápiz desechable 3ml . jeringa prellenada ( 2620928 )',\n",
              " 'insulina ultralenta glargina 300 ui / ml lapiz desechable 1 , 5 ml ( 2620047 )',\n",
              " 'lantus 100 u / ml insulina glargina , solucion inyectable',\n",
              " 'suministro de insulina glargina : 3 . 6378 mg ( equivalentes a 100 u de insulina recombinante humana / ml ) equivalente a lantus solostar , caja dispositivo prellenado x 3 ml'}"
            ]
          },
          "metadata": {},
          "execution_count": 169
        }
      ]
    },
    {
      "cell_type": "code",
      "source": [
        "dictionary_medicine_name[119]"
      ],
      "metadata": {
        "colab": {
          "base_uri": "https://localhost:8080/",
          "height": 35
        },
        "id": "j9eN4Kkbhkxs",
        "outputId": "c2af491a-26fe-4fa1-f9ca-6e815948fcf4"
      },
      "id": "j9eN4Kkbhkxs",
      "execution_count": null,
      "outputs": [
        {
          "output_type": "execute_result",
          "data": {
            "text/plain": [
              "'glargina'"
            ],
            "application/vnd.google.colaboratory.intrinsic+json": {
              "type": "string"
            }
          },
          "metadata": {},
          "execution_count": 249
        }
      ]
    },
    {
      "cell_type": "code",
      "source": [
        "total_list_120 = [' '.join(row) for row in total_list[90]]\n",
        "set(total_list_120)\n",
        "#dictionary_medicine_name[120]"
      ],
      "metadata": {
        "colab": {
          "base_uri": "https://localhost:8080/"
        },
        "id": "qSYDFe3uhkuL",
        "outputId": "0cc87cc6-eef6-4c9d-93b5-bde2ff7a98f2"
      },
      "id": "qSYDFe3uhkuL",
      "execution_count": 170,
      "outputs": [
        {
          "output_type": "execute_result",
          "data": {
            "text/plain": [
              "{'1093087 - 3 cada comprimido de liberación prolongrada contiene_x000d__x000d__x000d__x000d__x000d__x000d__x000d__x000d_ metformina clorhidrato 750 mg o equivalente a glaupax xr 750mg x 30 comp .',\n",
              " 'caja de 30 comprimido contiene : metformina clorhidrato 1000 mg , liberación prolongada . similar a glaupax xr 1000mg',\n",
              " 'caja de 30 comprimido contiene : metformina clorhidrato 850 mg , liberación prolongada . similar a glaupax 850mg',\n",
              " 'caja de 60 comprimido contiene : metformina clorhidrato 850 mg , comprimidos recubiertos . similar a glaupax',\n",
              " 'glaupax 500 mg x 30 comp .',\n",
              " 'glaupax xr 1000 mg caja x 30 com ( o equivalente )',\n",
              " 'glaupax xr 1000 mg caja x 30 com . ( o equivalente )',\n",
              " 'glaupax xr 1000 mg caja x 30 com .( o equivalente )',\n",
              " 'glaupax xr 1000 mg x 30 comp .',\n",
              " 'glaupax xr 1000mg ( metformina ), 30 comp . por caja',\n",
              " 'glaupax xr 500 mg caja x 30 com ( o equivalente )',\n",
              " 'glaupax xr 500 mg x 30 comp .',\n",
              " 'glaupax xr 500 mg x 30 coomp .',\n",
              " 'glaupax xr 750 mg caja x 30 com . ( o equivalente )',\n",
              " 'glaupax xr 750 mg caja x 30 com .( o equivalente )',\n",
              " 'glaupax xr 750 mg x 30 comp .',\n",
              " 'metformina 1000 mg x 30 comprimidos de liberación prolongada , similar a glaupax 1000 xr x 30 comp .',\n",
              " 'metformina 1000 mg x 30 comprimidos de liberación prolongada , similar a glaupax xr 1000 mg x 30 comp .',\n",
              " 'metformina 1000 mg x 30 comprimidos rec . de liberación prolongada , similar a glaupax 1000 mg xr x 30 comprimidos',\n",
              " 'metformina 500 mg x 60 comp lib . prolongada_x000d__x000d__x000d__x000d__x000d__x000d__x000d__x000d_ ( glaupax xr , glifortx xr , glimefor xr , hipoglucin lp , tavist xr )',\n",
              " 'metformina 750 mg x 30 comprimidos de liberación prolongada , similar a glaupax xr 750 mg x 30 comp .',\n",
              " 'metformina 750 mg x 30 comprimidos de liberación prolongada , similar a glaupax xr 750 mg x 30 comprimidos',\n",
              " 'metformina 750 mg x 30 comprimidos liberación prolongada , similar a glaupax 750 mg xr x 30 comprimidos',\n",
              " 'metformina 750 mg x 60 comp lib . prolongada_x000d__x000d__x000d__x000d__x000d__x000d__x000d__x000d_ ( glaupax xr , glifortx xr , glimefor xr , hipoglucin lp , tavist xr )',\n",
              " 'metformina 850 mg . comprimidos recubiertos ( similar o tipo glafornil , hipoglucin , glifortex , glicenex , glaupax o glucophage .)',\n",
              " 'metformina clorhidrato 1000 mg . envase x 30 comp . liberacion prolongada . similar glaupax xr',\n",
              " 'metformina clorhidrato 1000 mg . envase x 30 comp . liberación prolongada . similar glaupax 1000 xr',\n",
              " 'metformina clorhidrato 1000 mg x 56 comp lib . prolongada_x000d__x000d__x000d__x000d__x000d__x000d__x000d__x000d_ ( glaupax xr , glifortx xr , glimefor xr , hipoglucin lp , tavist xr ) _x000d__x000d__x000d__x000d__x000d__x000d__x000d__x000d_',\n",
              " 'metformina clorhidrato 1000 mg x 56 comprimidos lib . prolongada ( glaupax xr , glifortex xr , glimefor xr , hipoglucin lp , tavist xr )',\n",
              " 'metformina clorhidrato 500 mg . envase x 30 comp . liberacion prolongada . similar glaupax xr',\n",
              " 'metformina clorhidrato 500 mg . envase x 30 comp . liberación prolongada . similar glaupax 500 xr',\n",
              " 'metformina clorhidrato 750 mg . envase x 30 comp . liberacion prolongada . similar glaupax xr',\n",
              " 'metformina clorhidrato 750 mg . envase x 30 comp . liberación prolongada . similar glaupax 750 xr',\n",
              " 'metformina xr 1000 mg x 30 comprimidos , similar a glaupax xr 1000 mg x 30 comp .'}"
            ]
          },
          "metadata": {},
          "execution_count": 170
        }
      ]
    },
    {
      "cell_type": "code",
      "source": [
        "dictionary_medicine_name[120]"
      ],
      "metadata": {
        "colab": {
          "base_uri": "https://localhost:8080/",
          "height": 35
        },
        "id": "j43gHKzGhkqr",
        "outputId": "c6bcd57f-f348-4732-d334-3c39347c66b5"
      },
      "id": "j43gHKzGhkqr",
      "execution_count": null,
      "outputs": [
        {
          "output_type": "execute_result",
          "data": {
            "text/plain": [
              "'glaupax'"
            ],
            "application/vnd.google.colaboratory.intrinsic+json": {
              "type": "string"
            }
          },
          "metadata": {},
          "execution_count": 250
        }
      ]
    },
    {
      "cell_type": "code",
      "source": [
        "total_list_121 = [' '.join(row) for row in total_list[91]]\n",
        "total_list_121\n",
        "#dictionary_medicine_name[121]"
      ],
      "metadata": {
        "colab": {
          "base_uri": "https://localhost:8080/"
        },
        "id": "1iQ9BRAnhkle",
        "outputId": "abd2d849-13cf-453b-ee3f-8688b33519a6"
      },
      "id": "1iQ9BRAnhkle",
      "execution_count": null,
      "outputs": [
        {
          "output_type": "execute_result",
          "data": {
            "text/plain": [
              "['glibencalmida 5 mg', 'glibencalmida 5 mg', 'glibencalmida 5 mg']"
            ]
          },
          "metadata": {},
          "execution_count": 253
        }
      ]
    },
    {
      "cell_type": "code",
      "source": [
        "dictionary_medicine_name[121]"
      ],
      "metadata": {
        "colab": {
          "base_uri": "https://localhost:8080/",
          "height": 35
        },
        "id": "WUpU4VUxhkfI",
        "outputId": "2760c03d-c3b9-4a8a-e3ca-81a51c31c7ec"
      },
      "id": "WUpU4VUxhkfI",
      "execution_count": null,
      "outputs": [
        {
          "output_type": "execute_result",
          "data": {
            "text/plain": [
              "'glibencalmida'"
            ],
            "application/vnd.google.colaboratory.intrinsic+json": {
              "type": "string"
            }
          },
          "metadata": {},
          "execution_count": 252
        }
      ]
    },
    {
      "cell_type": "code",
      "source": [
        "total_list_122 = [' '.join(row) for row in total_list[92]]\n",
        "set(total_list_122)\n",
        "#dictionary_medicine_name[122]"
      ],
      "metadata": {
        "colab": {
          "base_uri": "https://localhost:8080/"
        },
        "id": "ha0HVDMZhkZP",
        "outputId": "e35dab74-7600-4693-831f-8fe58b0c9268"
      },
      "id": "ha0HVDMZhkZP",
      "execution_count": 171,
      "outputs": [
        {
          "output_type": "execute_result",
          "data": {
            "text/plain": [
              "{'glibencamida 5mg',\n",
              " 'glibencamida cm 5mg',\n",
              " 'glucovance 1000 / 5 mg metformina + glibencamida , 30 tabletas',\n",
              " 'metformina / glibencamida 500 / 5 . presentación 30 comprimidos'}"
            ]
          },
          "metadata": {},
          "execution_count": 171
        }
      ]
    },
    {
      "cell_type": "code",
      "source": [
        "dictionary_medicine_name[122]"
      ],
      "metadata": {
        "colab": {
          "base_uri": "https://localhost:8080/",
          "height": 35
        },
        "id": "Dx71N4l9hkQH",
        "outputId": "b82ec04f-27f1-45b5-b029-d93cbf6acf65"
      },
      "id": "Dx71N4l9hkQH",
      "execution_count": null,
      "outputs": [
        {
          "output_type": "execute_result",
          "data": {
            "text/plain": [
              "'glibencamida'"
            ],
            "application/vnd.google.colaboratory.intrinsic+json": {
              "type": "string"
            }
          },
          "metadata": {},
          "execution_count": 254
        }
      ]
    },
    {
      "cell_type": "code",
      "source": [
        "total_list_123 = [' '.join(row) for row in total_list[93]]\n",
        "set(total_list_123)\n",
        "#dictionary_medicine_name[123]"
      ],
      "metadata": {
        "colab": {
          "base_uri": "https://localhost:8080/"
        },
        "id": "2WIYzZhpik70",
        "outputId": "69dcfc96-aa25-4ed5-c1cd-86cf6d20f781"
      },
      "id": "2WIYzZhpik70",
      "execution_count": 172,
      "outputs": [
        {
          "output_type": "execute_result",
          "data": {
            "text/plain": [
              "{'glibenclaamida 5mg comprimidos'}"
            ]
          },
          "metadata": {},
          "execution_count": 172
        }
      ]
    },
    {
      "cell_type": "code",
      "source": [
        "dictionary_medicine_name[123]"
      ],
      "metadata": {
        "colab": {
          "base_uri": "https://localhost:8080/",
          "height": 35
        },
        "id": "YmYpGyTZik20",
        "outputId": "44eb6bf3-ae7d-4ce9-9d9c-e401be9e44dd"
      },
      "id": "YmYpGyTZik20",
      "execution_count": null,
      "outputs": [
        {
          "output_type": "execute_result",
          "data": {
            "text/plain": [
              "'glibenclaamida'"
            ],
            "application/vnd.google.colaboratory.intrinsic+json": {
              "type": "string"
            }
          },
          "metadata": {},
          "execution_count": 256
        }
      ]
    },
    {
      "cell_type": "code",
      "source": [
        "total_list_124 = [' '.join(row) for row in total_list[94]]\n",
        "set(total_list_124)\n",
        "#dictionary_medicine_name[124]"
      ],
      "metadata": {
        "colab": {
          "base_uri": "https://localhost:8080/"
        },
        "id": "lgyjpLEmikyj",
        "outputId": "5f9fe61d-08a6-42aa-aff1-4467668c5d59"
      },
      "id": "lgyjpLEmikyj",
      "execution_count": 173,
      "outputs": [
        {
          "output_type": "execute_result",
          "data": {
            "text/plain": [
              "{'glibenclam . / metfor . 5 / 500 mg cm / cm rec',\n",
              " 'glibenclam ./ metfor . 5 / 500 mg cm / cm rec',\n",
              " 'glibenclam ./ metfor . 5 / 500 mg cm / cm rec ( 100000717 )',\n",
              " 'glibenclam ./ metfor . 5 / 500 mg cm / cm rec_x000d__x000d__x000d__x000d__x000d__x000d__x000d__x000d_'}"
            ]
          },
          "metadata": {},
          "execution_count": 173
        }
      ]
    },
    {
      "cell_type": "code",
      "source": [
        "dictionary_medicine_name[124]"
      ],
      "metadata": {
        "colab": {
          "base_uri": "https://localhost:8080/",
          "height": 35
        },
        "id": "DZFuIZY7iktT",
        "outputId": "de932a04-f981-4a23-cb0c-72ac7aea70ef"
      },
      "id": "DZFuIZY7iktT",
      "execution_count": null,
      "outputs": [
        {
          "output_type": "execute_result",
          "data": {
            "text/plain": [
              "'glibenclam'"
            ],
            "application/vnd.google.colaboratory.intrinsic+json": {
              "type": "string"
            }
          },
          "metadata": {},
          "execution_count": 259
        }
      ]
    },
    {
      "cell_type": "code",
      "source": [
        "total_list_125 = [' '.join(row) for row in total_list[95]]\n",
        "total_list_125\n",
        "#dictionary_medicine_name[125]"
      ],
      "metadata": {
        "colab": {
          "base_uri": "https://localhost:8080/"
        },
        "id": "70FUgxX8ikme",
        "outputId": "12de914a-0464-41f3-bfcb-a04a65aa1fe8"
      },
      "id": "70FUgxX8ikme",
      "execution_count": null,
      "outputs": [
        {
          "output_type": "execute_result",
          "data": {
            "text/plain": [
              "['glibenclamica 5mg', 'glibenclamica 5mg']"
            ]
          },
          "metadata": {},
          "execution_count": 262
        }
      ]
    },
    {
      "cell_type": "code",
      "source": [
        "dictionary_medicine_name[125]"
      ],
      "metadata": {
        "colab": {
          "base_uri": "https://localhost:8080/",
          "height": 35
        },
        "id": "rtQVz4BhikeO",
        "outputId": "82d8669a-e94e-4186-911d-9c6a9ef3a720"
      },
      "id": "rtQVz4BhikeO",
      "execution_count": null,
      "outputs": [
        {
          "output_type": "execute_result",
          "data": {
            "text/plain": [
              "'glibenclamica'"
            ],
            "application/vnd.google.colaboratory.intrinsic+json": {
              "type": "string"
            }
          },
          "metadata": {},
          "execution_count": 261
        }
      ]
    },
    {
      "cell_type": "code",
      "source": [
        "total_list_126 = [' '.join(row) for row in total_list[96]]\n",
        "set(total_list_126)\n",
        "#dictionary_medicine_name[126]"
      ],
      "metadata": {
        "colab": {
          "base_uri": "https://localhost:8080/"
        },
        "id": "9O0mjzyfikab",
        "outputId": "1d578bc6-2d39-4d44-e0f7-c73e3a26458c"
      },
      "id": "9O0mjzyfikab",
      "execution_count": 174,
      "outputs": [
        {
          "output_type": "execute_result",
          "data": {
            "text/plain": [
              "{'\" glibenclamida 5 m . comprimidos . .. . . . .. .. . . . .( se adjuntan bases adminstrativas y técnicas \"\" leerlas p / ofertar \"\")\"',\n",
              " '\" glibenclamida 5 mg . comprimidos . . . . . . .. . . . . . .( se adjuntan bases administrativas y técnicas \"\" leerlas p / ofertar \"\")\"',\n",
              " '004 - 0055 glibenclamida comprimido oral 5 mg bioequivalente envase blister',\n",
              " '0220020002 glibenclamida 5 mg cm',\n",
              " '10 - 100 - 214 - 430 - 00 glibenclamida 5 mg comprimidos en bister',\n",
              " '1300036 glibenclamida cm 5 mg . _x000d__x000d__x000d__x000d__x000d__x000d__x000d__x000d_',\n",
              " '17 cajas x 1000 comprimidos glibenclamida 5mg',\n",
              " '19 .- glibenclamida 5 mg - comprimido .',\n",
              " '214 - 0036 glibenclamida 5 mg . comprimido 6 . 000',\n",
              " '214 - 0072 glibenclamida 5 mg cm_x000d__x000d__x000d__x000d__x000d__x000d__x000d__x000d_',\n",
              " '214 - 3130 glibenclamida 5 mg comprimidos ranurados , en blister , bioequivalente / innovador / referente',\n",
              " '214 - 3200 glibenclamida cm 5 mg envasado blister',\n",
              " '214 - 3200 glibenclamida cm 5 mg envasado en blister',\n",
              " '214 - 3200 | glibenclamida cm 5 mg',\n",
              " '214 - 5060 glibenclamida 5 mg',\n",
              " '2140125 glibenclamida 5 mg comprimido',\n",
              " '2143200 glibenclamida 5mg comprimido oral',\n",
              " '40400170023 glibenclamida 5 mg_x000d__x000d__x000d__x000d__x000d__x000d__x000d__x000d_',\n",
              " '50 - 214 - 700 - 004 - 00 glibenclamida 5mg_x000d__x000d__x000d__x000d__x000d__x000d__x000d__x000d_',\n",
              " '5551060 glibenclamida 5 mg comprimido',\n",
              " '7 cajas x 1000 comprimidos glibenclamida 5 mg',\n",
              " 'cm . glibenclamida 5 mg . _x000d__x000d__x000d__x000d__x000d__x000d__x000d__x000d_',\n",
              " 'cm glibenclamida cm 5 mg',\n",
              " 'fa01 - 0064 glibenclamida 5 mg comprimido',\n",
              " 'glibenclamida',\n",
              " 'glibenclamida , comprimidos 5mg',\n",
              " 'glibenclamida - comprimido 5 mg - via oral . 10 - 100 - 214 - 430 - 00',\n",
              " 'glibenclamida / metformina 2 , 5 / 500 x 30 comp rec',\n",
              " 'glibenclamida / metformina 5 / 500 caja por 60 comprimidos .',\n",
              " 'glibenclamida / metformina 5 / 500 mg .',\n",
              " 'glibenclamida / metformina 5 / 500 mg cm / cm rec',\n",
              " 'glibenclamida / metformina 5 / 500 mg comprimido o comprimido recubierto envasado en blister .',\n",
              " 'glibenclamida / metformina 5 / 500 mg comprimidos',\n",
              " 'glibenclamida / metformina 500 / 5 mg',\n",
              " 'glibenclamida / metformina 5mg ./ 500mg cm',\n",
              " 'glibenclamida / metformina 5mg / 500mg',\n",
              " 'glibenclamida / metformina : 5 mg glibenclamida / 500 mg metformina , comprimidos',\n",
              " 'glibenclamida / metformina clorhidrato 5 mg / 500 mg comprimido',\n",
              " 'glibenclamida / metformina comprimido 5mg / 500mg_x000d__x000d__x000d__x000d__x000d__x000d__x000d__x000d_',\n",
              " 'glibenclamida 4 mg . caja de 1000 comprimidos',\n",
              " 'glibenclamida 5 [ mg ] _x000d__x000d__x000d__x000d__x000d__x000d__x000d__x000d_',\n",
              " 'glibenclamida 5 mg',\n",
              " 'glibenclamida 5 mg ( cod int . 40400170023 )',\n",
              " 'glibenclamida 5 mg ( comprimido ) _x000d__x000d__x000d__x000d__x000d__x000d__x000d__x000d_ revisar bases adjuntas',\n",
              " 'glibenclamida 5 mg ( indicar valor unitario neto ). _x000d__x000d__x000d__x000d__x000d__x000d__x000d__x000d_',\n",
              " 'glibenclamida 5 mg ( ver bases administrativas y técnicas adjuntas )',\n",
              " 'glibenclamida 5 mg , bioequivalente , con vencimiento dic / 22 y registro isp',\n",
              " 'glibenclamida 5 mg , caja con blisters x 60 comprimidos',\n",
              " 'glibenclamida 5 mg , comprimido',\n",
              " 'glibenclamida 5 mg , vencimiento mayor a 18 meses',\n",
              " 'glibenclamida 5 mg - caja x 1 . 000 comprimidos',\n",
              " 'glibenclamida 5 mg - presentación : comprimido_x000d__x000d__x000d__x000d__x000d__x000d__x000d__x000d_',\n",
              " 'glibenclamida 5 mg - presentación comprimido_x000d__x000d__x000d__x000d__x000d__x000d__x000d__x000d_',\n",
              " 'glibenclamida 5 mg .',\n",
              " 'glibenclamida 5 mg . / envase comercial',\n",
              " 'glibenclamida 5 mg . _x000d__x000d__x000d__x000d__x000d__x000d__x000d__x000d_',\n",
              " 'glibenclamida 5 mg . cm .',\n",
              " 'glibenclamida 5 mg . cm . vencimiento superior a 12 meses',\n",
              " 'glibenclamida 5 mg . cm . vencimiento superior a 12 meses .',\n",
              " 'glibenclamida 5 mg . comp .',\n",
              " 'glibenclamida 5 mg . comp . _x000d__x000d__x000d__x000d__x000d__x000d__x000d__x000d_',\n",
              " 'glibenclamida 5 mg . comprimido',\n",
              " 'glibenclamida 5 mg . comprimido . indicar fecha de vencimiento en la presentación de los productos .',\n",
              " 'glibenclamida 5 mg . comprimidos',\n",
              " 'glibenclamida 5 mg . comprimidos . _x000d__x000d__x000d__x000d__x000d__x000d__x000d__x000d_ ( caja x 1 . 000 comprimidos )',\n",
              " 'glibenclamida 5 mg . comprimidos . envase sellado , resistente e inadulterado .',\n",
              " 'glibenclamida 5 mg . comprimidos . envase sellado , resistente e inadulterado . deseable envase clinico',\n",
              " 'glibenclamida 5 mg . comprimidos . vencimiento mínimo junio 2022 .',\n",
              " 'glibenclamida 5 mg . comprimidos ranurados',\n",
              " 'glibenclamida 5 mg . presentar fecha de vencimiento . revisar bases adjuntas',\n",
              " 'glibenclamida 5 mg . vencimiento superior a 12 meses',\n",
              " 'glibenclamida 5 mg .-',\n",
              " 'glibenclamida 5 mg .. comprimidos ...( indicar fecha de vencimiento y registro isp )..',\n",
              " 'glibenclamida 5 mg ... con estudios de bioequivalencia ...( indicar registro isp )..',\n",
              " 'glibenclamida 5 mg / comprimidos',\n",
              " 'glibenclamida 5 mg / metformina 1000 mg , caja x 30 comprimidos recubiertos ( equivalente a glucovance 5 / 1000 ).',\n",
              " 'glibenclamida 5 mg / metformina 500 mg , cm',\n",
              " 'glibenclamida 5 mg / metformina 500 mg cm',\n",
              " 'glibenclamida 5 mg // cardiovascular //',\n",
              " 'glibenclamida 5 mg 60 comp beq',\n",
              " 'glibenclamida 5 mg _x000d__x000d__x000d__x000d__x000d__x000d__x000d__x000d_',\n",
              " 'glibenclamida 5 mg caja por 1000 comprimidos .',\n",
              " 'glibenclamida 5 mg cm',\n",
              " 'glibenclamida 5 mg cm ( 2143200 )',\n",
              " 'glibenclamida 5 mg cm ( consumo prom . mens : 20 . 000 ) _x000d__x000d__x000d__x000d__x000d__x000d__x000d__x000d_ _x000d__x000d__x000d__x000d__x000d__x000d__x000d__x000d_',\n",
              " 'glibenclamida 5 mg cm ( glibenclamida o gliburida )= 15 . 000 comprimidos , ver bases adjuntas .-',\n",
              " 'glibenclamida 5 mg cm / cm rec',\n",
              " 'glibenclamida 5 mg cm / cm rec ( 100000718 )',\n",
              " 'glibenclamida 5 mg cm / cm rec ( item n ° 71 de las especificaciones técnicas ).',\n",
              " 'glibenclamida 5 mg cm / cm rec .',\n",
              " 'glibenclamida 5 mg cm / cm rec_x000d__x000d__x000d__x000d__x000d__x000d__x000d__x000d_',\n",
              " 'glibenclamida 5 mg cm oral',\n",
              " 'glibenclamida 5 mg cm_x000d__x000d__x000d__x000d__x000d__x000d__x000d__x000d_',\n",
              " 'glibenclamida 5 mg cm_x000d__x000d__x000d__x000d__x000d__x000d__x000d__x000d_ _x000d__x000d__x000d__x000d__x000d__x000d__x000d__x000d_ _x000d__x000d__x000d__x000d__x000d__x000d__x000d__x000d_ _x000d__x000d__x000d__x000d__x000d__x000d__x000d__x000d_',\n",
              " 'glibenclamida 5 mg comp',\n",
              " 'glibenclamida 5 mg comp . ( linea 84 )',\n",
              " 'glibenclamida 5 mg comprimido',\n",
              " 'glibenclamida 5 mg comprimido _x000d__x000d__x000d__x000d__x000d__x000d__x000d_ nota : se sugiere fecha de vencimiento superior a 1 año o en caso contrario contar con politicas de canje',\n",
              " 'glibenclamida 5 mg comprimido _x000d__x000d__x000d__x000d__x000d__x000d__x000d__x000d_',\n",
              " 'glibenclamida 5 mg comprimido envasado en blister envase resistente con sello que asegure inviolabilidad del contenido .',\n",
              " 'glibenclamida 5 mg comprimido envase clinico',\n",
              " 'glibenclamida 5 mg comprimido o comprimido recubierto envasado en blister',\n",
              " 'glibenclamida 5 mg comprimido o comprimido recubierto envasado en blister .',\n",
              " 'glibenclamida 5 mg comprimido o comprimido recubierto envasado enblister .',\n",
              " 'glibenclamida 5 mg comprimido ranurado',\n",
              " 'glibenclamida 5 mg comprimido ranurado_x000d__x000d__x000d__x000d__x000d__x000d__x000d__x000d_',\n",
              " 'glibenclamida 5 mg comprimido unitario envase clinico',\n",
              " 'glibenclamida 5 mg comprimido_x000d__x000d__x000d__x000d__x000d__x000d__x000d__x000d_',\n",
              " 'glibenclamida 5 mg comprimidos',\n",
              " 'glibenclamida 5 mg comprimidos ( envase clinico ).',\n",
              " 'glibenclamida 5 mg comprimidos , envasados en blister pvc y / o similar y aluminio impreso , farmaco de referencia o medicamento bioequivalente ( se requerirã ¡ despachos parcializados ) _x000d__x000d__x000d__x000d__x000d__x000d__x000d__x000d_',\n",
              " 'glibenclamida 5 mg comprimidos , según presentación de anexo n ° 5',\n",
              " 'glibenclamida 5 mg comprimidos . envase que contenga 1000 comprimidos convenio fofar',\n",
              " 'glibenclamida 5 mg comprimidos envase clinico',\n",
              " 'glibenclamida 5 mg comprimidos envase clinico x 1000 un .',\n",
              " 'glibenclamida 5 mg comprimidos recubiertos , bioequivalente ( fecha vencimiento 12 meses o mas )',\n",
              " 'glibenclamida 5 mg comprimidos vencimiento superior a 1 año adjuntar carta de canje',\n",
              " 'glibenclamida 5 mg en comprimidos',\n",
              " 'glibenclamida 5 mg envase clinico',\n",
              " 'glibenclamida 5 mg envase de 60 comprimidos',\n",
              " 'glibenclamida 5 mg envase x 60 comprimidos _x000d__x000d__x000d__x000d__x000d__x000d__x000d_',\n",
              " 'glibenclamida 5 mg segun bases',\n",
              " 'glibenclamida 5 mg vo',\n",
              " 'glibenclamida 5 mg x 1000 caja venc . superior 1años documentacion tecnica solicitada : certificado de farmavigilancia , politica de canje y devolucion , certificado de analisis de lote',\n",
              " 'glibenclamida 5 mg x 1000 caja venc . superior 2 años 1000 caja venc . superior 2 años documentacion tecnica solicitada : certificado de farmavigilancia , politica de canje y devolucion , certificado de analisis de lote',\n",
              " 'glibenclamida 5 mg x 1000 caja venc . superior 2 años documentacion tecnica solicitada : certificado de farmavigilancia , politica de canje y devolucion , certificado de analisis de lote',\n",
              " 'glibenclamida 5 mg x 1000 comp rec ,',\n",
              " 'glibenclamida 5 mg x 1000 comprimidos o equivalente terapeutico_x000d__x000d__x000d__x000d__x000d__x000d__x000d__x000d_',\n",
              " 'glibenclamida 5 mg x 30 comp',\n",
              " 'glibenclamida 5 mg x 30 comp_x000d__x000d__x000d__x000d__x000d__x000d__x000d__x000d_ ( glibenclamida ) _x000d__x000d__x000d__x000d__x000d__x000d__x000d__x000d_',\n",
              " 'glibenclamida 5 mg x 30 comp_x000d__x000d__x000d__x000d__x000d__x000d__x000d__x000d_ ( glibenclamida , hipexal )',\n",
              " 'glibenclamida 5 mg x 40 comprimidos',\n",
              " 'glibenclamida 5 mg x 60',\n",
              " 'glibenclamida 5 mg x 60 comp .',\n",
              " 'glibenclamida 5 mg x 60 comprimidos',\n",
              " 'glibenclamida 5 mg x 60 comprimidos , caja 60 comprimidos',\n",
              " 'glibenclamida 5 mg x 60 comprimidos_x000d__x000d__x000d__x000d__x000d__x000d__x000d__x000d_',\n",
              " 'glibenclamida 5 mg x caja 60 comprimidos',\n",
              " 'glibenclamida 5 mg_x000d__x000d__x000d__x000d__x000d__x000d__x000d_ _x000d__x000d__x000d__x000d__x000d__x000d__x000d_',\n",
              " 'glibenclamida 5 mg_x000d__x000d__x000d__x000d__x000d__x000d__x000d__x000d_',\n",
              " 'glibenclamida 5 mgs / metformina 500 mgs cm',\n",
              " 'glibenclamida 5 mgs / metformina 500mgs , cm',\n",
              " 'glibenclamida 5mg',\n",
              " 'glibenclamida 5mg ** cardiovascular **',\n",
              " 'glibenclamida 5mg ** cardivascular **',\n",
              " 'glibenclamida 5mg , caja x 60 comprimidos',\n",
              " 'glibenclamida 5mg , comprimido ( f )',\n",
              " 'glibenclamida 5mg , comprimido envasado en blister',\n",
              " 'glibenclamida 5mg , en blister , envase clinico , vcto . superior a 1 año .',\n",
              " 'glibenclamida 5mg .',\n",
              " 'glibenclamida 5mg . caja x 60 comp . . ... .. .. . . . . ..( se adjuntan bases administrativas y técnicas ) _x000d__x000d__x000d__x000d__x000d__x000d__x000d__x000d_',\n",
              " 'glibenclamida 5mg . comprimido . indicar fecha de vencimiento , plazos de entrega e indicar cantidades x envasado .',\n",
              " 'glibenclamida 5mg . comprimido . indicar fecha de vencimiento , plazos de entrega y presentación de los productos .',\n",
              " 'glibenclamida 5mg . comprimido recubierto ranurado_x000d__x000d__x000d__x000d__x000d__x000d__x000d__x000d_',\n",
              " 'glibenclamida 5mg . comprimidos . indicar fecha de vencimiento , plazo de entrega y envasado de los productos .-',\n",
              " 'glibenclamida 5mg . con fecha vencimiento enero 2023 .',\n",
              " 'glibenclamida 5mg . con fecha vencimiento septiembre de 2021 .',\n",
              " 'glibenclamida 5mg . cotizar por comprimido . vencimiento igual o superior a 12 meses . indicar monto mínimo de facturación y despacho .',\n",
              " 'glibenclamida 5mg . cotizar por comprimido . vencimiento igual o superior a 18 meses . indicar vencimiento y monto mínimo de facturación y despacho por linea . ¨ cotizar solo con stock ¨.',\n",
              " 'glibenclamida 5mg / metformina 1000 mg x 30 comp rec_x000d__x000d__x000d__x000d__x000d__x000d__x000d__x000d_',\n",
              " 'glibenclamida 5mg / metformina 1000mg x 30 comprimidos recubiertos _x000d__x000d__x000d__x000d__x000d__x000d__x000d__x000d_',\n",
              " 'glibenclamida 5mg // salud mental //',\n",
              " 'glibenclamida 5mg ; bioequivalente , envase clínico x 1000 comprimidos .',\n",
              " 'glibenclamida 5mg caja x 60 comp_x000d__x000d__x000d__x000d__x000d__x000d__x000d__x000d_',\n",
              " 'glibenclamida 5mg cm',\n",
              " 'glibenclamida 5mg comp .',\n",
              " 'glibenclamida 5mg comp ranurado',\n",
              " 'glibenclamida 5mg compr . comprimidos_x000d__x000d__x000d__x000d__x000d__x000d__x000d__x000d_',\n",
              " 'glibenclamida 5mg comprimido',\n",
              " 'glibenclamida 5mg comprimido . fecha de vencimiento superior a 1 año desde la fecha de entrega . no se aceptan cartas de canje',\n",
              " 'glibenclamida 5mg comprimido ranurado',\n",
              " 'glibenclamida 5mg comprimido_x000d__x000d__x000d__x000d__x000d__x000d__x000d__x000d_',\n",
              " 'glibenclamida 5mg comprimidos',\n",
              " 'glibenclamida 5mg comprimodos',\n",
              " 'glibenclamida 5mg con fecha de vencimientos 2023 o superior',\n",
              " 'glibenclamida 5mg x 60 comp o similar',\n",
              " 'glibenclamida 5mg_x000d__x000d__x000d__x000d__x000d__x000d__x000d__x000d_ revisar bases adjuntas',\n",
              " 'glibenclamida 5mgs / metformina 500mgs',\n",
              " 'glibenclamida 60 comprimidos_x000d__x000d__x000d__x000d__x000d__x000d__x000d__x000d_',\n",
              " 'glibenclamida ; comprimido 5 mg .',\n",
              " 'glibenclamida cm / cm rec ranurado 5 mg',\n",
              " 'glibenclamida cm 5 mg',\n",
              " 'glibenclamida cm 5 mg ( cjx100 $ 2143200cm',\n",
              " 'glibenclamida cm 5 mg _x000d__x000d__x000d__x000d__x000d__x000d__x000d__x000d_',\n",
              " 'glibenclamida cm 5 mg comprimido',\n",
              " 'glibenclamida cm 5 mg_x000d__x000d__x000d__x000d__x000d__x000d__x000d__x000d_',\n",
              " 'glibenclamida cm 5mg',\n",
              " 'glibenclamida cm o cm ranurado 5 mg',\n",
              " 'glibenclamida cm o cm recubierto 5 mg envasado en blister envase resistente con sello que asegure inviolabilidad del contenido caja por 30 unidades',\n",
              " 'glibenclamida cm ranurado 5 mg',\n",
              " 'glibenclamida cm ranurado 5 mg_x000d__x000d__x000d__x000d__x000d__x000d__x000d__x000d_ ( cod . siabi 118820 )',\n",
              " 'glibenclamida cm ranurados 5 mg',\n",
              " 'glibenclamida cmp . 5 mg .',\n",
              " 'glibenclamida cmp . 5 mg . x 1000',\n",
              " 'glibenclamida comp . 5 mg',\n",
              " 'glibenclamida comp . 5 mg ( linea 41 )',\n",
              " 'glibenclamida comp . 5 mg ( linea 70 )',\n",
              " 'glibenclamida comp . 5 mg .',\n",
              " 'glibenclamida comp . 5 mg_x000d__x000d__x000d__x000d__x000d__x000d__x000d__x000d_',\n",
              " 'glibenclamida comp . 5mg',\n",
              " 'glibenclamida comp 5 mg',\n",
              " 'glibenclamida comprimido ( ver bases tecnicas y administrativas )',\n",
              " 'glibenclamida comprimido 5 mg',\n",
              " 'glibenclamida comprimido 5 mg _x000d__x000d__x000d__x000d__x000d__x000d__x000d__x000d_',\n",
              " 'glibenclamida comprimido 5 mg bioequivalente',\n",
              " 'glibenclamida comprimido 5 mg envase clinico 1 . 000 comprimidos_x000d__x000d__x000d__x000d__x000d__x000d__x000d__x000d_',\n",
              " 'glibenclamida comprimido 5 mg_x000d__x000d__x000d__x000d__x000d__x000d__x000d__x000d_',\n",
              " 'glibenclamida comprimido 5mg',\n",
              " 'glibenclamida comprimido o comprimido ranurado 5 mg',\n",
              " 'glibenclamida comprimido o comprimido ranurado 5 mg_x000d__x000d__x000d__x000d__x000d__x000d__x000d__x000d_',\n",
              " 'glibenclamida comprimidos 5 mg_x000d__x000d__x000d__x000d__x000d__x000d__x000d__x000d_',\n",
              " 'glibenclamida comprimidos 5mg',\n",
              " 'glibenclamida de 5 mg .',\n",
              " 'glibenclamida de 5mg',\n",
              " 'glibenclamida micronizada 5 mg comprimidos ranurados . envase de pvc ámbar / aluminio .',\n",
              " 'glibenclamida venc . superior 24 meses 5 mg comprimidos ranurables documentacion tecnica solicitada : certificado de farmavigilancia , certificado de analisis de lote , bioequivalencia , estado del registro sanitario - envase clinico',\n",
              " 'glucovance 500 / 2 . 5 mg metformina / glibenclamida , caja de 30 comprimidos',\n",
              " 'glukaut 500 / 5 mg metformina / glibenclamida , caja por 30 comp',\n",
              " 'hipoglicemiante / glibenclamida 5 mg x 60 comprimido_x000d__x000d__x000d__x000d__x000d__x000d__x000d__x000d_ _x000d__x000d__x000d__x000d__x000d__x000d__x000d__x000d_',\n",
              " 'hipoglucin ( metformina 500mg / glibenclamida 5mg ), 30 comp . por caja',\n",
              " 'hipoglucin da 500 / 2 . 5 mg metformina / glibenclamida , caja de 30 comprimidos',\n",
              " 'item n ° 46 glibenclamida 5mg ; según especificaciones técnicas .',\n",
              " 'lo que se requiere es glibenclamida 5 mg',\n",
              " 'lo que se requiere es metformina 1000 glibenclamida 5 mg x 30 comp',\n",
              " 'lo que se requiere es metformina 500 glibenclamida 5 x 30',\n",
              " 'línea 10 : glibenclamida 5mg ( comprimido )',\n",
              " 'metfomina 500mg + glibenclamida 5 mg ( similar glucovance 500 / 5 ) caja de 30 cmprimidos',\n",
              " 'metformina + glibenclamida - comprimido [ metformina 500 mg + _x000d__x000d__x000d__x000d__x000d__x000d__x000d__x000d_ glibenclamida 5 mg ] - via oral',\n",
              " 'metformina + glibenclamida - comprimido [ metformina 500 mg + glibenclamida 5 mg ] - via oral',\n",
              " 'metformina + glibenclamida 500 / 2 . 5mg',\n",
              " 'metformina + glibenclamida 500 / 2 . 5mg ** cardiovascular **',\n",
              " 'metformina + glibenclamida 500 / 2 . 5mg ** cardivascular **',\n",
              " 'metformina + glibenclamida 500 / 2 // salud mental //',\n",
              " 'metformina + glibenclamida 500 / 5 comprimidos recubiertos',\n",
              " 'metformina + glibenclamida 500 / 5 mg',\n",
              " 'metformina + glibenclamida 500 / 5mg',\n",
              " 'metformina - glibenclamida 500 mg / 5mg cm',\n",
              " 'metformina / glibenclamida',\n",
              " 'metformina / glibenclamida 2 , 5 / 5 similar a glucovance',\n",
              " 'metformina / glibenclamida 500 / 2 , 5 comprimidos recubiertos , envasado en blister de pvc o similar y alumino impreso , envase 30 comprimidos recubiertos . certificacion gmp de la planta ( despacho parcializado )',\n",
              " 'metformina / glibenclamida 500 / 2 . 5mg // cardiovascular //',\n",
              " 'metformina / glibenclamida 500 / 5 comprimidos recubiertos_x000d__x000d__x000d__x000d__x000d__x000d__x000d__x000d_',\n",
              " 'metformina / glibenclamida 500 / 5 mg , caja de 30 comprimidos',\n",
              " 'metformina / glibenclamida 500 / 5 mg caja por 60 comprimidos',\n",
              " 'metformina / glibenclamida 500 / 5 mg caja por 60 comprimidos .',\n",
              " 'metformina / glibenclamida 500 / 5 mg caja por 60 comprimidos_x000d__x000d__x000d__x000d__x000d__x000d__x000d__x000d_',\n",
              " 'metformina / glibenclamida 500 / 5mg',\n",
              " 'metformina / glibenclamida 500 / 5mg comprimidos . fecha de vencimiento mayor a 1 año desde la fecha de recepción . no se aceptan cartas de canje',\n",
              " 'metformina / glibenclamida 500 / 5mg_x000d__x000d__x000d__x000d__x000d__x000d__x000d__x000d_ revisar bases adjuntas',\n",
              " 'metformina / glibenclamida 500 mg / 5 mg x 30 comprimidos recubiertos equivalente a glucovance 500mg / 5mg o hipoglucin 500 mg / 5 mg',\n",
              " 'metformina / glibenclamida ; comprimido 500 / 5mg',\n",
              " 'metformina / glibenclamida compr 500 / 5_x000d__x000d__x000d__x000d__x000d__x000d__x000d__x000d_',\n",
              " 'metformina / glibenclamida comprimido 500 mg / 5 mg venc . superior 24 meses comprimidos oblongos ranurables documentacion tecnica solicitada : certificado de farmavigilancia , certificado de analisis de lote , bioequivalencia , estado del registro sanitario',\n",
              " 'metformina 1000 mg ; glibenclamida 5 mg . comprimidos recubiertos . envase sellado , resistente e inadulterado . similar a glucovance',\n",
              " 'metformina 1000 mg glibenclamida 5 mg x 30 comprimido',\n",
              " 'metformina 500 + glibenclamida 2 , 5 mg similar a glukaut 500 / 2 , 5 mg',\n",
              " 'metformina 500 + glibenclamida 5 mg similar a glukaut 500 / 5 mg',\n",
              " 'metformina 500 / glibenclamida mg .',\n",
              " 'metformina 500 mg + glibenclamida 2 , 5 mg comprimido',\n",
              " 'metformina 500 mg + glibenclamida 2 . 5 mg x 60 comp o caps_x000d__x000d__x000d__x000d__x000d__x000d__x000d__x000d_',\n",
              " 'metformina 500 mg + glibenclamida 2 . 50 mg , glucovance x 30 comp_x000d__x000d__x000d__x000d__x000d__x000d__x000d__x000d_',\n",
              " 'metformina 500 mg + glibenclamida 5 mg',\n",
              " 'metformina 500 mg + glibenclamida 5 mg ( consumo prom . mens : 20 . 000 ) _x000d__x000d__x000d__x000d__x000d__x000d__x000d__x000d_ _x000d__x000d__x000d__x000d__x000d__x000d__x000d__x000d_',\n",
              " 'metformina 500 mg + glibenclamida 5 mg , comprimido , según presentación de anexo n ° 5',\n",
              " 'metformina 500 mg + glibenclamida 5 mg .',\n",
              " 'metformina 500 mg + glibenclamida 5 mg comp .',\n",
              " 'metformina 500 mg + glibenclamida 5 mg comp . _x000d__x000d__x000d__x000d__x000d__x000d__x000d__x000d_ _x000d__x000d__x000d__x000d__x000d__x000d__x000d__x000d_',\n",
              " 'metformina 500 mg + glibenclamida 5 mg comp . recubiertos',\n",
              " 'metformina 500 mg + glibenclamida 5 mg comprimido , , envase clinico x 1000 un .',\n",
              " 'metformina 500 mg + glibenclamida 5 mg comprimido , , envase clínico x 1000 un .',\n",
              " 'metformina 500 mg + glibenclamida 5 mg comprimido , envase clinico x 1000 un',\n",
              " 'metformina 500 mg + glibenclamida 5 mg comprimido o cápsula',\n",
              " 'metformina 500 mg + glibenclamida 5 mg comprimido o cápsula_x000d__x000d__x000d__x000d__x000d__x000d__x000d__x000d_',\n",
              " 'metformina 500 mg + glibenclamida 5 mg comprimidos',\n",
              " 'metformina 500 mg . + glibenclamida 5 mg ., envases clínicos x 1 . 000 comprimidos',\n",
              " 'metformina 500 mg / glibenclamida 2 , 5 mg , caja con blisters x 30 comprimidos recubiertos',\n",
              " 'metformina 500 mg / glibenclamida 2 , 5 mg , caja x 60 comprimidos recubiertos ( equivalente a glucovance 500 / 2 , 5 )',\n",
              " 'metformina 500 mg / glibenclamida 2 , 5 mg x 30 comp rec',\n",
              " 'metformina 500 mg / glibenclamida 2 . 5 mg x caja con 30 a 60 comprimidos',\n",
              " 'metformina 500 mg / glibenclamida 5 mg',\n",
              " 'metformina 500 mg / glibenclamida 5 mg , caja x 60 comprimidos recubiertos ( equivalente a glucovance 500 / 5 )',\n",
              " 'metformina 500 mg / glibenclamida 5 mg _x000d__x000d__x000d__x000d__x000d__x000d__x000d__x000d_',\n",
              " 'metformina 500 mg ; glibenclamida 2 , 5 mg . comprimidos , envase sellado , resistente e inadulterado',\n",
              " 'metformina 500 mg ; glibenclamida 2 , 5 mg . comprimidos . envase sellado , resistente e inadulterado .',\n",
              " 'metformina 500 mg ; glibenclamida 2 , 5 mg . comprmidos recubiertos . envase sellado , resistente e inadulterado . similar a glucovance',\n",
              " 'metformina 500 mg ; glibenclamida 5 mg . comprimidos . envase sellado , resistente e inadulterado',\n",
              " 'metformina 500 mg ; glibenclamida 5 mg . comprimidos . envase sellado , resistente e inadulterado .',\n",
              " 'metformina 500 mg ; glibenclamida 5 mg . comprmidos recubiertos . envase sellado , resistente e inadulterado . similar a glucovance',\n",
              " 'metformina 500 mg mas glibenclamida 5 mg .',\n",
              " 'metformina 500mg + glibenclamida 5mg',\n",
              " 'metformina 500mg + glibenclamida 5mg cm .',\n",
              " 'metformina 500mg + glibenclamida 5mg comprimido , envase clinico x 1000 unid .',\n",
              " 'metformina 500mg ./ glibenclamida 2 . 5mg . comprimidos recubiertos',\n",
              " 'metformina 500mg / glibenclamida 5 mg comp . _x000d__x000d__x000d__x000d__x000d__x000d__x000d__x000d_',\n",
              " 'metformina 500mg / glibenclamida 5mg comprimidos recubiertos',\n",
              " 'metformina 850 / glibenclamida 5 mg .',\n",
              " 'metformina clorhidrato 500 mg + glibenclamida 5 mg en comprimidos recubiertos . envase conteniendo 60 comprimidos .',\n",
              " 'metformina clorhidrato 500 mg / glibenclamida 2 , 5 mg x 30 comp _x000d__x000d__x000d__x000d__x000d__x000d__x000d__x000d_',\n",
              " 'metformina clorhidrato 500 mg / glibenclamida 5 mg en comprimidos',\n",
              " 'metformina clorhidrato 500 mg / glibenclamida 5mg',\n",
              " 'metformina clorhidrato 500 mg glibenclamida 2 , 5 mg , comprimidos , envasados en blister de pvc o similar y aluminio impreso , envase 30 comprimidos . _x000d__x000d__x000d__x000d__x000d__x000d__x000d__x000d_',\n",
              " 'metformina clorhidrato 500 mg glibenclamida 5 mg , comprimidos , envasados en blister de pvc o similar y aluminio impreso , envase 30 comprimidos . _x000d__x000d__x000d__x000d__x000d__x000d__x000d__x000d_',\n",
              " 'metformina glibenclamida 500 / 2 , 5 x 30 comp rec',\n",
              " 'metformina glibenclamida 500 mg / 5 mg cm',\n",
              " 'se requiere metformina clorhidrato 500mg / glibenclamida 2 , 5mg . envase comercial de 30 comprimidos recubiertos , fecha de vencimiento igual o superior a 12 meses , debe ingresar la información indicando dia mes y año .',\n",
              " 'suministro de glibenclamida / metformina 5 / 500 mg cm / cm rec',\n",
              " 'suministro de glibenclamida cm 5 mg comprimidos',\n",
              " 'suministro de metformina clorhidrato 500 mg / glibenclamida 5 mg , caja 30 o 60 comprimidos',\n",
              " 'suministro de metformina clorhidrato 500 mg / glibenclamida 5 mg equivalente a glukaut 500 / 5 , caja 60 comprimidos recubiertos',\n",
              " 'ítem n ° 9 .- glibenclamida 5 mg . gragea / comprimido o comprimido recubierto .'}"
            ]
          },
          "metadata": {},
          "execution_count": 174
        }
      ]
    },
    {
      "cell_type": "code",
      "source": [
        "dictionary_medicine_name[126]"
      ],
      "metadata": {
        "colab": {
          "base_uri": "https://localhost:8080/",
          "height": 35
        },
        "id": "ZsfB6VfSikXd",
        "outputId": "f6efb647-de5a-49af-a109-08908d2c9d8a"
      },
      "id": "ZsfB6VfSikXd",
      "execution_count": null,
      "outputs": [
        {
          "output_type": "execute_result",
          "data": {
            "text/plain": [
              "'glibenclamida'"
            ],
            "application/vnd.google.colaboratory.intrinsic+json": {
              "type": "string"
            }
          },
          "metadata": {},
          "execution_count": 264
        }
      ]
    },
    {
      "cell_type": "code",
      "source": [
        "total_list_127 = [' '.join(row) for row in total_list[97]]\n",
        "total_list_127\n",
        "#dictionary_medicine_name[127]"
      ],
      "metadata": {
        "colab": {
          "base_uri": "https://localhost:8080/"
        },
        "id": "iwbQp7YlikUS",
        "outputId": "27d65f1b-aebe-4f70-f119-1f5691cae0e4"
      },
      "id": "iwbQp7YlikUS",
      "execution_count": null,
      "outputs": [
        {
          "output_type": "execute_result",
          "data": {
            "text/plain": [
              "['glibenclamidas 5 mg', 'glibenclamidas 5 mg', 'glibenclamidas 5 mg']"
            ]
          },
          "metadata": {},
          "execution_count": 266
        }
      ]
    },
    {
      "cell_type": "code",
      "source": [
        "dictionary_medicine_name[127]"
      ],
      "metadata": {
        "colab": {
          "base_uri": "https://localhost:8080/",
          "height": 35
        },
        "id": "gs2BepFWikOh",
        "outputId": "d47cd67e-4dc1-40fe-b815-2086a2622753"
      },
      "id": "gs2BepFWikOh",
      "execution_count": null,
      "outputs": [
        {
          "output_type": "execute_result",
          "data": {
            "text/plain": [
              "'glibenclamidas'"
            ],
            "application/vnd.google.colaboratory.intrinsic+json": {
              "type": "string"
            }
          },
          "metadata": {},
          "execution_count": 265
        }
      ]
    },
    {
      "cell_type": "code",
      "source": [
        "total_list_128 = [' '.join(row) for row in total_list[98]]\n",
        "total_list_128\n",
        "#dictionary_medicine_name[128]"
      ],
      "metadata": {
        "id": "47vIRBDKikG6"
      },
      "id": "47vIRBDKikG6",
      "execution_count": null,
      "outputs": []
    },
    {
      "cell_type": "code",
      "source": [
        "dictionary_medicine_name[128]"
      ],
      "metadata": {
        "colab": {
          "base_uri": "https://localhost:8080/",
          "height": 35
        },
        "id": "AmRh0QwzjKjo",
        "outputId": "ecc76edd-0ab6-486b-8755-f5262dca321a"
      },
      "id": "AmRh0QwzjKjo",
      "execution_count": null,
      "outputs": [
        {
          "output_type": "execute_result",
          "data": {
            "text/plain": [
              "'glibenlcamida'"
            ],
            "application/vnd.google.colaboratory.intrinsic+json": {
              "type": "string"
            }
          },
          "metadata": {},
          "execution_count": 267
        }
      ]
    },
    {
      "cell_type": "code",
      "source": [
        "total_list_129 = [' '.join(row) for row in total_list[99]]\n",
        "set(total_list_129)\n",
        "#dictionary_medicine_name[129]"
      ],
      "metadata": {
        "colab": {
          "base_uri": "https://localhost:8080/"
        },
        "id": "PNHc5oyujKgp",
        "outputId": "6f1c8091-1ae7-4c6a-9311-0931e8de2e37"
      },
      "id": "PNHc5oyujKgp",
      "execution_count": 175,
      "outputs": [
        {
          "output_type": "execute_result",
          "data": {
            "text/plain": [
              "{'glibenclamida 5 mg cm ( glibenclamida o gliburida )= 15 . 000 comprimidos , ver bases adjuntas .-'}"
            ]
          },
          "metadata": {},
          "execution_count": 175
        }
      ]
    },
    {
      "cell_type": "code",
      "source": [
        "dictionary_medicine_name[129]"
      ],
      "metadata": {
        "colab": {
          "base_uri": "https://localhost:8080/",
          "height": 35
        },
        "id": "6pBlhr1UjKVl",
        "outputId": "55e3d01d-5f0e-4e99-9013-efe52c281224"
      },
      "id": "6pBlhr1UjKVl",
      "execution_count": null,
      "outputs": [
        {
          "output_type": "execute_result",
          "data": {
            "text/plain": [
              "'gliburida'"
            ],
            "application/vnd.google.colaboratory.intrinsic+json": {
              "type": "string"
            }
          },
          "metadata": {},
          "execution_count": 268
        }
      ]
    },
    {
      "cell_type": "code",
      "source": [
        "total_list_130 = [' '.join(row) for row in total_list[100]]\n",
        "set(total_list_130)\n",
        "#dictionary_medicine_name[130]"
      ],
      "metadata": {
        "colab": {
          "base_uri": "https://localhost:8080/"
        },
        "id": "Ylwm35rTjKRA",
        "outputId": "c5737c6e-6fec-4ac3-ecdd-ff154847e676"
      },
      "id": "Ylwm35rTjKRA",
      "execution_count": 176,
      "outputs": [
        {
          "output_type": "execute_result",
          "data": {
            "text/plain": [
              "{'glicacida 60 mg x 30 comprimidos'}"
            ]
          },
          "metadata": {},
          "execution_count": 176
        }
      ]
    },
    {
      "cell_type": "code",
      "source": [
        "dictionary_medicine_name[130]"
      ],
      "metadata": {
        "colab": {
          "base_uri": "https://localhost:8080/",
          "height": 35
        },
        "id": "s3UeTbNtjKHQ",
        "outputId": "d7b29a8b-13fe-4475-830e-f4d4bdc2a9e0"
      },
      "id": "s3UeTbNtjKHQ",
      "execution_count": null,
      "outputs": [
        {
          "output_type": "execute_result",
          "data": {
            "text/plain": [
              "'glicacida'"
            ],
            "application/vnd.google.colaboratory.intrinsic+json": {
              "type": "string"
            }
          },
          "metadata": {},
          "execution_count": 271
        }
      ]
    },
    {
      "cell_type": "code",
      "source": [
        "total_list_131 = [' '.join(row) for row in total_list[101]]\n",
        "set(total_list_131)\n",
        "#dictionary_medicine_name[131]"
      ],
      "metadata": {
        "colab": {
          "base_uri": "https://localhost:8080/"
        },
        "id": "fUL79YHfjJ-M",
        "outputId": "2cf54bc0-765f-4ffb-a6eb-974166a708df"
      },
      "id": "fUL79YHfjJ-M",
      "execution_count": 177,
      "outputs": [
        {
          "output_type": "execute_result",
          "data": {
            "text/plain": [
              "{'insulina glargina lápiz 100ui / ml x 3 ml excipientes : metacresol , cloruro de zinc , glicerol ( 85 %), hidróxido de sodio , acido clorhidriico concentrado , agua para inyectables c . s . similar a lantus más agujas compatible de 32g 4mm ( 15 agujas por lapiz ) entreg',\n",
              " 'insulina humana biosintética de origen adn recombinante , producida a partir de saccharomyces cerevisiae con excipientes cloruro de zinc , glicerol , metacresol , hidróxido de sodio , ácido clorhídrico y agua para inyectables . ( ver base )'}"
            ]
          },
          "metadata": {},
          "execution_count": 177
        }
      ]
    },
    {
      "cell_type": "code",
      "source": [
        "dictionary_medicine_name[131]"
      ],
      "metadata": {
        "colab": {
          "base_uri": "https://localhost:8080/",
          "height": 35
        },
        "id": "_-mnJcVRjJ2V",
        "outputId": "9b6b2e2a-b7ea-4f9a-838c-cc4ee4286e7d"
      },
      "id": "_-mnJcVRjJ2V",
      "execution_count": null,
      "outputs": [
        {
          "output_type": "execute_result",
          "data": {
            "text/plain": [
              "'glicerol'"
            ],
            "application/vnd.google.colaboratory.intrinsic+json": {
              "type": "string"
            }
          },
          "metadata": {},
          "execution_count": 274
        }
      ]
    },
    {
      "cell_type": "code",
      "source": [
        "total_list_132 = [' '.join(row) for row in total_list[102]]\n",
        "set(total_list_132)\n",
        "#dictionary_medicine_name[132]"
      ],
      "metadata": {
        "colab": {
          "base_uri": "https://localhost:8080/"
        },
        "id": "mNWB7Yu2jJzV",
        "outputId": "fed41222-5e31-4e28-ed4a-26f12a8dd9db"
      },
      "id": "mNWB7Yu2jJzV",
      "execution_count": 178,
      "outputs": [
        {
          "output_type": "execute_result",
          "data": {
            "text/plain": [
              "{'gliclazida 60 mg ., caja 30 comprimidos liberacion prolongada',\n",
              " 'gliclazida 60 mg 30 comprimidos liberación prolongada',\n",
              " 'gliclazida 60 mg comprimidos',\n",
              " 'gliclazida 60 mg en comprimidos de liberacion prolongada . envase conteniendo 30 comprimidos .',\n",
              " 'gliclazida 60 mg x 30 comprimidos ...( indicar fecha de vencimiento y registro isp )..'}"
            ]
          },
          "metadata": {},
          "execution_count": 178
        }
      ]
    },
    {
      "cell_type": "code",
      "source": [
        "dictionary_medicine_name[132]"
      ],
      "metadata": {
        "colab": {
          "base_uri": "https://localhost:8080/",
          "height": 35
        },
        "id": "r5ID0EJ5jJrr",
        "outputId": "e013a62f-40dc-4793-8d3b-82071abc13a3"
      },
      "id": "r5ID0EJ5jJrr",
      "execution_count": null,
      "outputs": [
        {
          "output_type": "execute_result",
          "data": {
            "text/plain": [
              "'gliclazida'"
            ],
            "application/vnd.google.colaboratory.intrinsic+json": {
              "type": "string"
            }
          },
          "metadata": {},
          "execution_count": 276
        }
      ]
    },
    {
      "cell_type": "code",
      "source": [
        "total_list_133 = [' '.join(row) for row in total_list[103]]\n",
        "set(total_list_133)\n",
        "#dictionary_medicine_name[133]"
      ],
      "metadata": {
        "colab": {
          "base_uri": "https://localhost:8080/"
        },
        "id": "_nQruWDCjJpF",
        "outputId": "10e35f68-80ab-40ad-fc91-f2efce3b60f6"
      },
      "id": "_nQruWDCjJpF",
      "execution_count": 179,
      "outputs": [
        {
          "output_type": "execute_result",
          "data": {
            "text/plain": [
              "{'caja de 60 comprimido contiene : metformina clorhidrato 850 mg , comprimidos recubiertos . similar a glidanil',\n",
              " 'metformina 500 mg x 60 comp_x000d__x000d__x000d__x000d__x000d__x000d__x000d__x000d_ ( glafornil , glicenex , glidanil , glifortex , glucopage , hipoglucin , metformina hcl )',\n",
              " 'metformina 850 mg x 60 comp_x000d__x000d__x000d__x000d__x000d__x000d__x000d__x000d_ ( glafornil , glicenex , glidanil , glifortex , glucopage , hipoglucin , metformina hcl )',\n",
              " 'metformina 850 mg x 60 comp_x000d__x000d__x000d__x000d__x000d__x000d__x000d__x000d_ ( glafornil , glicenex , glidanil , glifortex , glucopage , hipoglucin , metformina hcl ) _x000d__x000d__x000d__x000d__x000d__x000d__x000d__x000d_',\n",
              " 'metformina clorhidrato 500 mg . x 56 comprimidos , recubiertos ( glafornil , glicenex , glifortex , glidanil , hipoglucin , metformina )'}"
            ]
          },
          "metadata": {},
          "execution_count": 179
        }
      ]
    },
    {
      "cell_type": "code",
      "source": [
        "dictionary_medicine_name[133]"
      ],
      "metadata": {
        "colab": {
          "base_uri": "https://localhost:8080/",
          "height": 35
        },
        "id": "nrC22WYPjJjW",
        "outputId": "973eb610-5006-4cdc-938d-291432a4f9e3"
      },
      "id": "nrC22WYPjJjW",
      "execution_count": null,
      "outputs": [
        {
          "output_type": "execute_result",
          "data": {
            "text/plain": [
              "'glidanil'"
            ],
            "application/vnd.google.colaboratory.intrinsic+json": {
              "type": "string"
            }
          },
          "metadata": {},
          "execution_count": 279
        }
      ]
    },
    {
      "cell_type": "code",
      "source": [
        "total_list_134 = [' '.join(row) for row in total_list[104]]\n",
        "set(total_list_134)\n",
        "#dictionary_medicine_name[134]"
      ],
      "metadata": {
        "colab": {
          "base_uri": "https://localhost:8080/"
        },
        "id": "PeM80qvGjJge",
        "outputId": "d116000c-2696-4f53-eaa3-e84a7a26a9d3"
      },
      "id": "PeM80qvGjJge",
      "execution_count": 180,
      "outputs": [
        {
          "output_type": "execute_result",
          "data": {
            "text/plain": [
              "{'caja de 30 comp recubiertos de liberación prolongada contiene : metformina 750mg . similar a glifortex xr 750mg',\n",
              " 'glifortex 1000 mg comp',\n",
              " 'glifortex 1000mg x 30 comp o similar',\n",
              " 'glifortex 500mg x 30 comp o similar',\n",
              " 'glifortex 750 xr',\n",
              " 'glifortex 750mg x 30 comp o similar',\n",
              " 'glifortex 850mg x 60 comp o similar',\n",
              " 'glifortex g 500 / 5 comprimido',\n",
              " 'glifortex g comprimidos',\n",
              " 'glifortex metf comp 1000 mg',\n",
              " 'glifortex metf comp 850 mg',\n",
              " 'glifortex metformina clorhidrato 850 mg , 60 comprimidos',\n",
              " 'glifortex xr 1000 mg , metformina , caja de 30 compr',\n",
              " 'glifortex xr 1000 mg metformina , caja de 30 comprimidos',\n",
              " 'glifortex xr 1000mg',\n",
              " 'glifortex xr 500 mg',\n",
              " 'glifortex xr 500 mg - metformina 500 mg ( bioequivalente )',\n",
              " 'glifortex xr 500 mg x 30',\n",
              " 'glifortex xr 750 - metformina 750 mg ( bioequivalente )',\n",
              " 'glifortex xr 750 mg . caja x 30 comp',\n",
              " 'glifortex xr 750 mg x 30',\n",
              " 'glifortex xr 750 mg x 30 comp . _x000d__x000d__x000d__x000d__x000d__x000d__x000d__x000d_',\n",
              " 'glifortex xr 750mg',\n",
              " 'metformina 1000 mg x 60 comp liberacion prolongada_x000d__x000d__x000d__x000d__x000d__x000d__x000d__x000d_ ( glafornil xr , glicenex sr , glifortex xr , glucopage xr , hipoglucin lp , metformina hcl )',\n",
              " 'metformina 1000 mg x 60 comp liberacion prolongada_x000d__x000d__x000d__x000d__x000d__x000d__x000d__x000d_ ( glafornil xr , glicenex sr , glifortex xr , glucopage xr , hipoglucin lp , metformina hcl ) _x000d__x000d__x000d__x000d__x000d__x000d__x000d__x000d_',\n",
              " 'metformina 500 mg x 60 comp liberacion prolongada_x000d__x000d__x000d__x000d__x000d__x000d__x000d__x000d_ ( glafornil xr , glicenex sr , glifortex xr , glucopage xr , hipoglucin lp , metformina hcl )',\n",
              " 'metformina 500 mg x 60 comp_x000d__x000d__x000d__x000d__x000d__x000d__x000d__x000d_ ( glafornil , glicenex , glidanil , glifortex , glucopage , hipoglucin , metformina hcl )',\n",
              " 'metformina 750 mg x 60 comp liberacion prolongada_x000d__x000d__x000d__x000d__x000d__x000d__x000d__x000d_ ( glafornil xr , glicenex sr , glifortex xr , glucopage xr , hipoglucin lp , metformina hcl )',\n",
              " 'metformina 750 mg x 60 comp liberacion prolongada_x000d__x000d__x000d__x000d__x000d__x000d__x000d__x000d_ ( glafornil xr , glicenex sr , glifortex xr , glucopage xr , hipoglucin lp , metformina hcl ) _x000d__x000d__x000d__x000d__x000d__x000d__x000d__x000d_',\n",
              " 'metformina 850 mg . comprimidos recubiertos ( similar o tipo glafornil , hipoglucin , glifortex , glicenex , glaupax o glucophage .)',\n",
              " 'metformina 850 mg comp . rec . caja x 30 comprimidos recubiertos . similar glifortex 850 mg',\n",
              " 'metformina 850 mg x 60 comp liberacion prolongada_x000d__x000d__x000d__x000d__x000d__x000d__x000d__x000d_ ( glafornil xr , glicenex sr , glifortex xr , glucopage xr , hipoglucin lp , metformina hcl )',\n",
              " 'metformina 850 mg x 60 comp_x000d__x000d__x000d__x000d__x000d__x000d__x000d__x000d_ ( glafornil , glicenex , glidanil , glifortex , glucopage , hipoglucin , metformina hcl )',\n",
              " 'metformina 850 mg x 60 comp_x000d__x000d__x000d__x000d__x000d__x000d__x000d__x000d_ ( glafornil , glicenex , glidanil , glifortex , glucopage , hipoglucin , metformina hcl ) _x000d__x000d__x000d__x000d__x000d__x000d__x000d__x000d_',\n",
              " 'metformina clorhidrato 1000 mg x 56 comprimidos lib . prolongada ( glaupax xr , glifortex xr , glimefor xr , hipoglucin lp , tavist xr )',\n",
              " 'metformina clorhidrato 500 mg . x 56 comprimidos , recubiertos ( glafornil , glicenex , glifortex , glidanil , hipoglucin , metformina )',\n",
              " 'metformina xr 1000 mg , caja x 30 comprimidos de liberación prolongada ( equivalente a glifortex xr 1000 )',\n",
              " 'metformina xr 1000 mg x 30 comp rec , similar a glifortex',\n",
              " 'metformina xr 750 x 30 comp similar a glifortex'}"
            ]
          },
          "metadata": {},
          "execution_count": 180
        }
      ]
    },
    {
      "cell_type": "code",
      "source": [
        "dictionary_medicine_name[134]"
      ],
      "metadata": {
        "colab": {
          "base_uri": "https://localhost:8080/",
          "height": 35
        },
        "id": "IEKldGwIok1I",
        "outputId": "f6f91120-2f71-4da1-82a1-ea678e843800"
      },
      "id": "IEKldGwIok1I",
      "execution_count": null,
      "outputs": [
        {
          "output_type": "execute_result",
          "data": {
            "text/plain": [
              "'glifortex'"
            ],
            "application/vnd.google.colaboratory.intrinsic+json": {
              "type": "string"
            }
          },
          "metadata": {},
          "execution_count": 281
        }
      ]
    },
    {
      "cell_type": "code",
      "source": [
        "total_list_135 = [' '.join(row) for row in total_list[105]]\n",
        "set(total_list_135)\n",
        "#dictionary_medicine_name[135]"
      ],
      "metadata": {
        "colab": {
          "base_uri": "https://localhost:8080/"
        },
        "id": "mUM2gtIQoktD",
        "outputId": "4bc0d8db-8df5-472b-d068-bc90f156bb21"
      },
      "id": "mUM2gtIQoktD",
      "execution_count": 181,
      "outputs": [
        {
          "output_type": "execute_result",
          "data": {
            "text/plain": [
              "{'cajas de glimepirida 4mg / metformina 1000mg ; presentación caja de 30 comprimidos',\n",
              " 'glimepirida 4 mg / metformina 1000 , caja x 16 comp .'}"
            ]
          },
          "metadata": {},
          "execution_count": 181
        }
      ]
    },
    {
      "cell_type": "code",
      "source": [
        "dictionary_medicine_name[135]"
      ],
      "metadata": {
        "colab": {
          "base_uri": "https://localhost:8080/",
          "height": 35
        },
        "id": "6uerMUw1okI4",
        "outputId": "61d90051-d6fa-46f9-d8fd-721037b96211"
      },
      "id": "6uerMUw1okI4",
      "execution_count": null,
      "outputs": [
        {
          "output_type": "execute_result",
          "data": {
            "text/plain": [
              "'glimepirida'"
            ],
            "application/vnd.google.colaboratory.intrinsic+json": {
              "type": "string"
            }
          },
          "metadata": {},
          "execution_count": 283
        }
      ]
    },
    {
      "cell_type": "code",
      "source": [
        "total_list_136 = [' '.join(row) for row in total_list[106]]\n",
        "set(total_list_136)\n",
        "#dictionary_medicine_name[136]"
      ],
      "metadata": {
        "colab": {
          "base_uri": "https://localhost:8080/"
        },
        "id": "B3eQqVfGokDg",
        "outputId": "24bd126e-ccc9-431e-c91b-3930ee2b4012"
      },
      "id": "B3eQqVfGokDg",
      "execution_count": 182,
      "outputs": [
        {
          "output_type": "execute_result",
          "data": {
            "text/plain": [
              "{'metformina 1000 mg x 60 comp liberacion prolongada_x000d__x000d__x000d__x000d__x000d__x000d__x000d__x000d_ ( glafornil xr , glicenex sr , glifortex xr , glucopage xr , hipoglucin lp , metformina hcl )',\n",
              " 'metformina 1000 mg x 60 comp liberacion prolongada_x000d__x000d__x000d__x000d__x000d__x000d__x000d__x000d_ ( glafornil xr , glicenex sr , glifortex xr , glucopage xr , hipoglucin lp , metformina hcl ) _x000d__x000d__x000d__x000d__x000d__x000d__x000d__x000d_',\n",
              " 'metformina 500 mg x 60 comp liberacion prolongada_x000d__x000d__x000d__x000d__x000d__x000d__x000d__x000d_ ( glafornil xr , glicenex sr , glifortex xr , glucopage xr , hipoglucin lp , metformina hcl )',\n",
              " 'metformina 500 mg x 60 comp_x000d__x000d__x000d__x000d__x000d__x000d__x000d__x000d_ ( glafornil , glicenex , glidanil , glifortex , glucopage , hipoglucin , metformina hcl )',\n",
              " 'metformina 750 mg x 60 comp liberacion prolongada_x000d__x000d__x000d__x000d__x000d__x000d__x000d__x000d_ ( glafornil xr , glicenex sr , glifortex xr , glucopage xr , hipoglucin lp , metformina hcl )',\n",
              " 'metformina 750 mg x 60 comp liberacion prolongada_x000d__x000d__x000d__x000d__x000d__x000d__x000d__x000d_ ( glafornil xr , glicenex sr , glifortex xr , glucopage xr , hipoglucin lp , metformina hcl ) _x000d__x000d__x000d__x000d__x000d__x000d__x000d__x000d_',\n",
              " 'metformina 850 mg x 60 comp liberacion prolongada_x000d__x000d__x000d__x000d__x000d__x000d__x000d__x000d_ ( glafornil xr , glicenex sr , glifortex xr , glucopage xr , hipoglucin lp , metformina hcl )',\n",
              " 'metformina 850 mg x 60 comp_x000d__x000d__x000d__x000d__x000d__x000d__x000d__x000d_ ( glafornil , glicenex , glidanil , glifortex , glucopage , hipoglucin , metformina hcl )',\n",
              " 'metformina 850 mg x 60 comp_x000d__x000d__x000d__x000d__x000d__x000d__x000d__x000d_ ( glafornil , glicenex , glidanil , glifortex , glucopage , hipoglucin , metformina hcl ) _x000d__x000d__x000d__x000d__x000d__x000d__x000d__x000d_'}"
            ]
          },
          "metadata": {},
          "execution_count": 182
        }
      ]
    },
    {
      "cell_type": "code",
      "source": [
        "dictionary_medicine_name[136]"
      ],
      "metadata": {
        "colab": {
          "base_uri": "https://localhost:8080/",
          "height": 35
        },
        "id": "48mBptQPoj-6",
        "outputId": "77263ea2-cce9-4426-a4b7-d988a4b111ce"
      },
      "id": "48mBptQPoj-6",
      "execution_count": null,
      "outputs": [
        {
          "output_type": "execute_result",
          "data": {
            "text/plain": [
              "'glucopage'"
            ],
            "application/vnd.google.colaboratory.intrinsic+json": {
              "type": "string"
            }
          },
          "metadata": {},
          "execution_count": 285
        }
      ]
    },
    {
      "cell_type": "code",
      "source": [
        "total_list_137 = [' '.join(row) for row in total_list[107]]\n",
        "set(total_list_137)\n",
        "#dictionary_medicine_name[137]"
      ],
      "metadata": {
        "colab": {
          "base_uri": "https://localhost:8080/"
        },
        "id": "VLPUhDgKoj7G",
        "outputId": "804a724c-be1b-489e-b5c0-834062f87d12"
      },
      "id": "VLPUhDgKoj7G",
      "execution_count": 183,
      "outputs": [
        {
          "output_type": "execute_result",
          "data": {
            "text/plain": [
              "{'glucophage xr 500 mg envase de 30 comprimidos',\n",
              " 'metformina 850 mg . comprimidos recubiertos ( similar o tipo glafornil , hipoglucin , glifortex , glicenex , glaupax o glucophage .)'}"
            ]
          },
          "metadata": {},
          "execution_count": 183
        }
      ]
    },
    {
      "cell_type": "code",
      "source": [
        "dictionary_medicine_name[137]"
      ],
      "metadata": {
        "colab": {
          "base_uri": "https://localhost:8080/",
          "height": 35
        },
        "id": "AbDDjer6oj4F",
        "outputId": "7a12c0ee-273d-46b4-817a-621141fc99c8"
      },
      "id": "AbDDjer6oj4F",
      "execution_count": null,
      "outputs": [
        {
          "output_type": "execute_result",
          "data": {
            "text/plain": [
              "'glucophage'"
            ],
            "application/vnd.google.colaboratory.intrinsic+json": {
              "type": "string"
            }
          },
          "metadata": {},
          "execution_count": 288
        }
      ]
    },
    {
      "cell_type": "code",
      "source": [
        "total_list_138 = [' '.join(row) for row in total_list[108]]\n",
        "set(total_list_138)\n",
        "#dictionary_medicine_name[138]"
      ],
      "metadata": {
        "colab": {
          "base_uri": "https://localhost:8080/"
        },
        "id": "MdOqRd6-oj0r",
        "outputId": "047e9f31-efcd-4b89-cf51-933598bff37d"
      },
      "id": "MdOqRd6-oj0r",
      "execution_count": 184,
      "outputs": [
        {
          "output_type": "execute_result",
          "data": {
            "text/plain": [
              "{'glibenclamida 5 mg / metformina 1000 mg , caja x 30 comprimidos recubiertos ( equivalente a glucovance 5 / 1000 ).',\n",
              " 'glucovance 1000 / 5 mg metformina + glibencamida , 30 tabletas',\n",
              " 'glucovance 500 / 2 , 5 mg caja x 30 com . ( o equivalente )',\n",
              " 'glucovance 500 / 2 . 5',\n",
              " 'glucovance 500 / 2 . 5 mg',\n",
              " 'glucovance 500 / 2 . 5 mg metformina / glibenclamida , caja de 30 comprimidos',\n",
              " 'glucovance 500 / 2 . 5 x 30 tab',\n",
              " 'glucovance 500 / 5',\n",
              " 'glucovance 500 / 5 mg',\n",
              " 'glucovance 500 / 5 mg envase de 30 comprimidos',\n",
              " 'glucovance 500 / 5mg',\n",
              " 'metfomina 500mg + glibenclamida 5 mg ( similar glucovance 500 / 5 ) caja de 30 cmprimidos',\n",
              " 'metformina / glibenclamida 2 , 5 / 5 similar a glucovance',\n",
              " 'metformina / glibenclamida 500 mg / 5 mg x 30 comprimidos recubiertos equivalente a glucovance 500mg / 5mg o hipoglucin 500 mg / 5 mg',\n",
              " 'metformina 1000 mg ; glibenclamida 5 mg . comprimidos recubiertos . envase sellado , resistente e inadulterado . similar a glucovance',\n",
              " 'metformina 500 mg + glibenclamida 2 . 50 mg , glucovance x 30 comp_x000d__x000d__x000d__x000d__x000d__x000d__x000d__x000d_',\n",
              " 'metformina 500 mg / glibenclamida 2 , 5 mg , caja x 60 comprimidos recubiertos ( equivalente a glucovance 500 / 2 , 5 )',\n",
              " 'metformina 500 mg / glibenclamida 5 mg , caja x 60 comprimidos recubiertos ( equivalente a glucovance 500 / 5 )',\n",
              " 'metformina 500 mg ; glibenclamida 2 , 5 mg . comprmidos recubiertos . envase sellado , resistente e inadulterado . similar a glucovance',\n",
              " 'metformina 500 mg ; glibenclamida 5 mg . comprmidos recubiertos . envase sellado , resistente e inadulterado . similar a glucovance'}"
            ]
          },
          "metadata": {},
          "execution_count": 184
        }
      ]
    },
    {
      "cell_type": "code",
      "source": [
        "dictionary_medicine_name[138]"
      ],
      "metadata": {
        "colab": {
          "base_uri": "https://localhost:8080/",
          "height": 35
        },
        "id": "2pjm0v1rojxQ",
        "outputId": "77e1c141-da88-4b9c-fb37-f13d694934e6"
      },
      "id": "2pjm0v1rojxQ",
      "execution_count": null,
      "outputs": [
        {
          "output_type": "execute_result",
          "data": {
            "text/plain": [
              "'glucovance'"
            ],
            "application/vnd.google.colaboratory.intrinsic+json": {
              "type": "string"
            }
          },
          "metadata": {},
          "execution_count": 292
        }
      ]
    },
    {
      "cell_type": "code",
      "source": [
        "total_list_139 = [' '.join(row) for row in total_list[109]]\n",
        "set(total_list_139)\n",
        "#dictionary_medicine_name[139]"
      ],
      "metadata": {
        "colab": {
          "base_uri": "https://localhost:8080/"
        },
        "id": "Q_4sPT7RojpU",
        "outputId": "6ae1eff4-1502-4a5d-836f-7a1a9d7d28af"
      },
      "id": "Q_4sPT7RojpU",
      "execution_count": 185,
      "outputs": [
        {
          "output_type": "execute_result",
          "data": {
            "text/plain": [
              "{'glukaut 2 . 5 / 500 mg',\n",
              " 'glukaut 500 / 5 mg envase de 60 comprimidos',\n",
              " 'glukaut 500 / 5 mg metformina / glibenclamida , caja por 30 comp',\n",
              " 'glukaut 500 / 5mg',\n",
              " 'metformina 500 + glibenclamida 2 , 5 mg similar a glukaut 500 / 2 , 5 mg',\n",
              " 'metformina 500 + glibenclamida 5 mg similar a glukaut 500 / 5 mg',\n",
              " 'suministro de metformina clorhidrato 500 mg / glibenclamida 5 mg equivalente a glukaut 500 / 5 , caja 60 comprimidos recubiertos'}"
            ]
          },
          "metadata": {},
          "execution_count": 185
        }
      ]
    },
    {
      "cell_type": "code",
      "source": [
        "dictionary_medicine_name[139]"
      ],
      "metadata": {
        "colab": {
          "base_uri": "https://localhost:8080/",
          "height": 35
        },
        "id": "-D2p17P7qv07",
        "outputId": "5928ed27-48eb-4013-bc6a-d93ba92f2e09"
      },
      "id": "-D2p17P7qv07",
      "execution_count": null,
      "outputs": [
        {
          "output_type": "execute_result",
          "data": {
            "text/plain": [
              "'glukaut'"
            ],
            "application/vnd.google.colaboratory.intrinsic+json": {
              "type": "string"
            }
          },
          "metadata": {},
          "execution_count": 294
        }
      ]
    },
    {
      "cell_type": "code",
      "source": [
        "total_list_140 = [' '.join(row) for row in total_list[110]]\n",
        "set(total_list_140)\n",
        "#dictionary_medicine_name[140]"
      ],
      "metadata": {
        "colab": {
          "base_uri": "https://localhost:8080/"
        },
        "id": "f2OdPO93qvx0",
        "outputId": "6665256a-60b4-41ed-fb69-4858ed8f3cfc"
      },
      "id": "f2OdPO93qvx0",
      "execution_count": 186,
      "outputs": [
        {
          "output_type": "execute_result",
          "data": {
            "text/plain": [
              "{'insu glulis sol / iny 100ui / ml x dispositi'}"
            ]
          },
          "metadata": {},
          "execution_count": 186
        }
      ]
    },
    {
      "cell_type": "code",
      "source": [
        "dictionary_medicine_name[140]"
      ],
      "metadata": {
        "colab": {
          "base_uri": "https://localhost:8080/",
          "height": 35
        },
        "id": "I9wCQ4ivqvvA",
        "outputId": "ac88a378-d484-475b-dce6-b6c32b87266a"
      },
      "id": "I9wCQ4ivqvvA",
      "execution_count": null,
      "outputs": [
        {
          "output_type": "execute_result",
          "data": {
            "text/plain": [
              "'glulis'"
            ],
            "application/vnd.google.colaboratory.intrinsic+json": {
              "type": "string"
            }
          },
          "metadata": {},
          "execution_count": 296
        }
      ]
    },
    {
      "cell_type": "code",
      "source": [
        "total_list_141 = [' '.join(row) for row in total_list[111]]\n",
        "set(total_list_141)\n",
        "#dictionary_medicine_name[141]"
      ],
      "metadata": {
        "colab": {
          "base_uri": "https://localhost:8080/"
        },
        "id": "_Lg4tFgPqvrp",
        "outputId": "7f6ce1b5-f5cc-488d-8efa-b3d07bde4da3"
      },
      "id": "_Lg4tFgPqvrp",
      "execution_count": 187,
      "outputs": [
        {
          "output_type": "execute_result",
          "data": {
            "text/plain": [
              "{'111 - 0038 análogo de insulina humana glulisina de acción rápida y corta duración 100 ui / ml . aplicador pre - llenado descartable c / aguja 3ml',\n",
              " '2200067 insulina glulisina 3 ml catridge ( según bases técnicas y sus formularios )',\n",
              " '262 - 0098 insulina glulisina 100 ui / ml',\n",
              " '262 - 0113 insulina glulisina 100 ui / mlx 3 ml . _x000d__x000d__x000d__x000d__x000d__x000d__x000d__x000d_ se debe considerar bonificacion de 10 agujas por lapiz . lapiz desechable 10400_x000d__x000d__x000d__x000d__x000d__x000d__x000d__x000d_',\n",
              " '262 - 0113 insulina glulisina 100 ui / mlx 3 ml lapiz 5 . 000',\n",
              " '262 - 8446 | insulina ultrarapida ( glulisina ) cartridge 3 ml',\n",
              " '40400170113 insulina ultrarapida glulisina solostar 100 ui / ml 3 ml ( jeringa prellenada )',\n",
              " 'insulina glulisina 100 u . i ./ ml ( ultrarapida ) lapiz desechable 3 ml',\n",
              " 'insulina glulisina 100 ui / ml lapiz 3 ml + 15 agujas por lapiz',\n",
              " 'insulina glulisina 100 ui / ml lapiz 3 ml + 15 agujas por lapiz + estuche termico con gel',\n",
              " 'insulina glulisina 100 ui / ml lápiz x 3 ml excipientes : m - cresol , trometamol , cloruro de sodio , polisorbato 20 , acido clorhídrico y / o hidróxido de sodio , agua para inyectables más aguja compatible de 32g 4mm ( 15 agujas por lapiz )',\n",
              " 'insulina glulisina 100 ui / ml lápiz x 3 ml más aguja compatible de 32g 4mm ( 15 agujas por lapiz )',\n",
              " 'insulina glulisina 100 ui / ml solucion inyectable envasado en aplicador ( lapiz ) descartable mas 10 agujas de 32g x4mm compatible para uso aplicador ( lapiz ) descartable',\n",
              " 'insulina glulisina 100 ui / ml solución inyectable . vencimiento mayor a 18 meses desde el envió de la oc .',\n",
              " 'insulina glulisina 100 ui / ml x 3 ml ( lápiz desechable )',\n",
              " 'insulina glulisina 300 ui / 3 ml ( 100 ui / ml ) inyectable en lapiz prellenado',\n",
              " 'insulina glulisina 300 ui / 3 ml ( 100 ui / ml ) inyectable lápiz prellenado',\n",
              " 'insulina glulisina fa 100 ui / ml ultra rapida aplicador inyectable . debe incluir agujas para lápiz',\n",
              " 'insulina glulisina fa 100 ui / ml ultra rapida aplicador inyectable_x000d__x000d__x000d__x000d__x000d__x000d__x000d__x000d_',\n",
              " 'insulina glulisina solostar x 3 ml similar apidra_x000d__x000d__x000d__x000d__x000d__x000d__x000d__x000d_',\n",
              " 'insulina ultrarapida glulisina 100 ui / ml 3 ml ( cod . int . 40400170113 )'}"
            ]
          },
          "metadata": {},
          "execution_count": 187
        }
      ]
    },
    {
      "cell_type": "code",
      "source": [
        "dictionary_medicine_name[141]"
      ],
      "metadata": {
        "colab": {
          "base_uri": "https://localhost:8080/",
          "height": 35
        },
        "id": "FA5jyOYDqvnx",
        "outputId": "3b663e5c-f123-408b-d99e-08f4db3b0b8e"
      },
      "id": "FA5jyOYDqvnx",
      "execution_count": null,
      "outputs": [
        {
          "output_type": "execute_result",
          "data": {
            "text/plain": [
              "'glulisina'"
            ],
            "application/vnd.google.colaboratory.intrinsic+json": {
              "type": "string"
            }
          },
          "metadata": {},
          "execution_count": 298
        }
      ]
    },
    {
      "cell_type": "code",
      "source": [
        "total_list_142 = [' '.join(row) for row in total_list[112]]\n",
        "set(total_list_142)\n",
        "#dictionary_medicine_name[142]"
      ],
      "metadata": {
        "colab": {
          "base_uri": "https://localhost:8080/"
        },
        "id": "FdFLUcunqvk2",
        "outputId": "397a9f0b-2025-423c-fc4d-f7a8725bb7b5"
      },
      "id": "FdFLUcunqvk2",
      "execution_count": 188,
      "outputs": [
        {
          "output_type": "execute_result",
          "data": {
            "text/plain": [
              "{'telmisartan / hidroclorot . 80mg / 12 , 5mg cm'}"
            ]
          },
          "metadata": {},
          "execution_count": 188
        }
      ]
    },
    {
      "cell_type": "code",
      "source": [
        "dictionary_medicine_name[142]"
      ],
      "metadata": {
        "colab": {
          "base_uri": "https://localhost:8080/",
          "height": 35
        },
        "id": "11QI3_GLqvhj",
        "outputId": "c7191646-c7a8-49dc-b866-d106619197d2"
      },
      "id": "11QI3_GLqvhj",
      "execution_count": null,
      "outputs": [
        {
          "output_type": "execute_result",
          "data": {
            "text/plain": [
              "'hidroclorot'"
            ],
            "application/vnd.google.colaboratory.intrinsic+json": {
              "type": "string"
            }
          },
          "metadata": {},
          "execution_count": 303
        }
      ]
    },
    {
      "cell_type": "code",
      "source": [
        "total_list_143 = [' '.join(row) for row in total_list[113]]\n",
        "set(total_list_143)\n",
        "#dictionary_medicine_name[143]"
      ],
      "metadata": {
        "colab": {
          "base_uri": "https://localhost:8080/"
        },
        "id": "L431y-ZKqvcV",
        "outputId": "b3b84e16-740b-46ac-c5fc-c00caac55ab6"
      },
      "id": "L431y-ZKqvcV",
      "execution_count": 189,
      "outputs": [
        {
          "output_type": "execute_result",
          "data": {
            "text/plain": [
              "{'hidroclorotiaz ./ triamtereno 25 / 50 mg cm'}"
            ]
          },
          "metadata": {},
          "execution_count": 189
        }
      ]
    },
    {
      "cell_type": "code",
      "source": [
        "dictionary_medicine_name[143]"
      ],
      "metadata": {
        "colab": {
          "base_uri": "https://localhost:8080/",
          "height": 35
        },
        "id": "vQQWUmmcqvWR",
        "outputId": "021bbb79-6c3e-41ac-cab2-db0115429ad9"
      },
      "id": "vQQWUmmcqvWR",
      "execution_count": null,
      "outputs": [
        {
          "output_type": "execute_result",
          "data": {
            "text/plain": [
              "'hidroclorotiaz'"
            ],
            "application/vnd.google.colaboratory.intrinsic+json": {
              "type": "string"
            }
          },
          "metadata": {},
          "execution_count": 307
        }
      ]
    },
    {
      "cell_type": "code",
      "source": [
        "total_list_144 = [' '.join(row) for row in total_list[114]]\n",
        "set(total_list_144)\n",
        "#dictionary_medicine_name[144]"
      ],
      "metadata": {
        "colab": {
          "base_uri": "https://localhost:8080/"
        },
        "id": "FEHiqWLLqvNU",
        "outputId": "7c2602e3-0dfb-43a0-b715-3541dd4fd361"
      },
      "id": "FEHiqWLLqvNU",
      "execution_count": 190,
      "outputs": [
        {
          "output_type": "execute_result",
          "data": {
            "text/plain": [
              "{'hidroclorotiazida 50 mg cm',\n",
              " 'losartan 50 mg y hidroclorotiazida 12 , 5 mg comprimidos , envasado en blister de pvc o similar y alumino impreso , envase contiene 30 comprimidos recubiertos . certificacion gmp de la planta productora ( despacho parcializado ) _x000d__x000d__x000d__x000d__x000d__x000d_',\n",
              " 'losartan potásico 50 mg / hidroclorotiazida 12 . 5 mg simperten d 50 / 12 , 5mg caja x 30 comprimidos'}"
            ]
          },
          "metadata": {},
          "execution_count": 190
        }
      ]
    },
    {
      "cell_type": "code",
      "source": [
        "dictionary_medicine_name[144]"
      ],
      "metadata": {
        "colab": {
          "base_uri": "https://localhost:8080/",
          "height": 35
        },
        "id": "TUPOFOzcqvKT",
        "outputId": "6d5e39b7-cdab-4031-e354-3a3f600b77c4"
      },
      "id": "TUPOFOzcqvKT",
      "execution_count": null,
      "outputs": [
        {
          "output_type": "execute_result",
          "data": {
            "text/plain": [
              "'hidroclorotiazida'"
            ],
            "application/vnd.google.colaboratory.intrinsic+json": {
              "type": "string"
            }
          },
          "metadata": {},
          "execution_count": 309
        }
      ]
    },
    {
      "cell_type": "code",
      "source": [
        "total_list_145 = [' '.join(row) for row in total_list[115]]\n",
        "total_list_145\n",
        "#dictionary_medicine_name[145]"
      ],
      "metadata": {
        "colab": {
          "base_uri": "https://localhost:8080/"
        },
        "id": "uP8J2Z9SsW9y",
        "outputId": "0e50bc1f-9f7c-4672-863b-0e9694002870"
      },
      "id": "uP8J2Z9SsW9y",
      "execution_count": null,
      "outputs": [
        {
          "output_type": "execute_result",
          "data": {
            "text/plain": [
              "[]"
            ]
          },
          "metadata": {},
          "execution_count": 314
        }
      ]
    },
    {
      "cell_type": "code",
      "source": [
        "dictionary_medicine_name[145]"
      ],
      "metadata": {
        "colab": {
          "base_uri": "https://localhost:8080/",
          "height": 35
        },
        "id": "gNL0LKiTsW6P",
        "outputId": "a983ad1b-5e1d-4128-fa13-727de4bdfcde"
      },
      "id": "gNL0LKiTsW6P",
      "execution_count": null,
      "outputs": [
        {
          "output_type": "execute_result",
          "data": {
            "text/plain": [
              "'hidrocloruro'"
            ],
            "application/vnd.google.colaboratory.intrinsic+json": {
              "type": "string"
            }
          },
          "metadata": {},
          "execution_count": 312
        }
      ]
    },
    {
      "cell_type": "code",
      "source": [
        "total_list_146 = [' '.join(row) for row in total_list[116]]\n",
        "set(total_list_146)\n",
        "#dictionary_medicine_name[146]"
      ],
      "metadata": {
        "colab": {
          "base_uri": "https://localhost:8080/"
        },
        "id": "pmdzLcGcsW3A",
        "outputId": "e6f69c26-0709-4102-b9c6-384520bd41d8"
      },
      "id": "pmdzLcGcsW3A",
      "execution_count": 191,
      "outputs": [
        {
          "output_type": "execute_result",
          "data": {
            "text/plain": [
              "{'1092019 - 7 cada ml de solucion inyectable contiene insulina _x000d__x000d__x000d__x000d__x000d__x000d__x000d__x000d_ glargina 3 , 64mg equivalente a 100 ui de insulina humana hipoglicemiante anti - diabetico o equivalente a ins . lantus - sol . 3 ml lapiz',\n",
              " '1092019 - 7 cada ml de solución inyectable contiene insulina _x000d__x000d__x000d__x000d__x000d__x000d__x000d__x000d_ glargina 3 , 64mg equivalente a 100 ui de insulina humana hipoglicemiante anti - diabetico o equivalente a ins . lantus - sol . 3 ml lapiz',\n",
              " '1093034 - 5 envase x56compr . comprimido contiene 50mg del principio activo hipoglicemiante vildagliptina . forma farmaceutica de compr para administracion via oral . o equivalente a galvus 50 mg x 56 comp',\n",
              " 'hipoglicemiante / glibenclamida 5 mg x 60 comprimido_x000d__x000d__x000d__x000d__x000d__x000d__x000d__x000d_ _x000d__x000d__x000d__x000d__x000d__x000d__x000d__x000d_',\n",
              " 'hipoglicemiante / metformina 850mg x 30 comp . _x000d__x000d__x000d__x000d__x000d__x000d__x000d__x000d_ _x000d__x000d__x000d__x000d__x000d__x000d__x000d__x000d_'}"
            ]
          },
          "metadata": {},
          "execution_count": 191
        }
      ]
    },
    {
      "cell_type": "code",
      "source": [
        "dictionary_medicine_name[146]"
      ],
      "metadata": {
        "colab": {
          "base_uri": "https://localhost:8080/",
          "height": 35
        },
        "id": "tLXeZbYxsW0A",
        "outputId": "e4a96223-eba7-49ef-e62a-aa32491d8519"
      },
      "id": "tLXeZbYxsW0A",
      "execution_count": null,
      "outputs": [
        {
          "output_type": "execute_result",
          "data": {
            "text/plain": [
              "'hipoglicemiante'"
            ],
            "application/vnd.google.colaboratory.intrinsic+json": {
              "type": "string"
            }
          },
          "metadata": {},
          "execution_count": 315
        }
      ]
    },
    {
      "cell_type": "code",
      "source": [
        "total_list_147 = [' '.join(row) for row in total_list[117]]\n",
        "set(total_list_147)\n",
        "#dictionary_medicine_name[147]"
      ],
      "metadata": {
        "colab": {
          "base_uri": "https://localhost:8080/"
        },
        "id": "9B8A8qBHsWwT",
        "outputId": "7430c879-5f5e-4b40-8c51-95d2f07fbffe"
      },
      "id": "9B8A8qBHsWwT",
      "execution_count": 192,
      "outputs": [
        {
          "output_type": "execute_result",
          "data": {
            "text/plain": [
              "{'1093063 - 4 cada compromido de liberacion prolongada contiene _x000d__x000d__x000d__x000d__x000d__x000d__x000d__x000d_ metformina clorhidrato 750 mg . excepientes celulosa_x000d__x000d__x000d__x000d__x000d__x000d__x000d__x000d_ microcristalina , hipromelosa , etilcelulosa y estearato o equivalente a hipoglucin lp 750 mg x 60 comp .',\n",
              " 'caja de 60 comprimido de liberación prolongada contiene : metformina clorhidrato 750 mg . similar a hipoglucin lp 750mg',\n",
              " 'hipoglucin ( metformina 500mg / glibenclamida 5mg ), 30 comp . por caja',\n",
              " 'hipoglucin 1000 lp , 30 comp',\n",
              " 'hipoglucin 1000 lp envase x 30 com . ( o equivalente )',\n",
              " 'hipoglucin 1000 xr . caja x 60 comp .',\n",
              " 'hipoglucin 1000 xr x 60 comp . _x000d__x000d__x000d__x000d__x000d__x000d__x000d__x000d_',\n",
              " 'hipoglucin 500 lp envase x 30 com .( o equivalente )',\n",
              " 'hipoglucin 750 lp',\n",
              " 'hipoglucin 750 lp ** 30 comprimidos **',\n",
              " 'hipoglucin 750 lp x 60 comp_x000d__x000d__x000d__x000d__x000d__x000d__x000d__x000d_',\n",
              " 'hipoglucin 750 lp x 60 comprimidos o equivalente terapeutico_x000d__x000d__x000d__x000d__x000d__x000d__x000d__x000d_',\n",
              " 'hipoglucin 750lp ( 30 comp )',\n",
              " 'hipoglucin da 500 / 2 . 5 mg metformina / glibenclamida , caja de 30 comprimidos',\n",
              " 'hipoglucin lp 1000 mg metformina , caja de 30 comp',\n",
              " 'hipoglucin lp 1000 mg x 30 comp . lib . prol .',\n",
              " 'hipoglucin lp 500 mg x 30 comp . lib . prol .',\n",
              " 'hipoglucin lp 750mg x 60 comp o similar',\n",
              " 'metformina / glibenclamida 500 mg / 5 mg x 30 comprimidos recubiertos equivalente a glucovance 500mg / 5mg o hipoglucin 500 mg / 5 mg',\n",
              " 'metformina 1 grs , caja x 30 comprimidos recubiertos ( equivalente a hipoglucin 1 gramo )',\n",
              " 'metformina 1000 mg x 30 comprimidos de liberacion prolongada , similar a hipoglucin 1000 mg lp x 30 comp .',\n",
              " 'metformina 1000 mg x 30 comprimidos de liberación prolongada , similar a hipoglucin lp 1000 x 30 comp .',\n",
              " 'metformina 1000 mg x 60 comp liberacion prolongada_x000d__x000d__x000d__x000d__x000d__x000d__x000d__x000d_ ( glafornil xr , glicenex sr , glifortex xr , glucopage xr , hipoglucin lp , metformina hcl )',\n",
              " 'metformina 1000 mg x 60 comp liberacion prolongada_x000d__x000d__x000d__x000d__x000d__x000d__x000d__x000d_ ( glafornil xr , glicenex sr , glifortex xr , glucopage xr , hipoglucin lp , metformina hcl ) _x000d__x000d__x000d__x000d__x000d__x000d__x000d__x000d_',\n",
              " 'metformina 500 mg x 60 comp lib . prolongada_x000d__x000d__x000d__x000d__x000d__x000d__x000d__x000d_ ( glaupax xr , glifortx xr , glimefor xr , hipoglucin lp , tavist xr )',\n",
              " 'metformina 500 mg x 60 comp liberacion prolongada_x000d__x000d__x000d__x000d__x000d__x000d__x000d__x000d_ ( glafornil xr , glicenex sr , glifortex xr , glucopage xr , hipoglucin lp , metformina hcl )',\n",
              " 'metformina 500 mg x 60 comp_x000d__x000d__x000d__x000d__x000d__x000d__x000d__x000d_ ( glafornil , glicenex , glidanil , glifortex , glucopage , hipoglucin , metformina hcl )',\n",
              " 'metformina 500 xr caja por 60 comprimidos hipoglucin o similar_x000d__x000d__x000d__x000d__x000d__x000d__x000d__x000d_ _x000d__x000d__x000d__x000d__x000d__x000d__x000d__x000d_',\n",
              " 'metformina 750 mg x 60 comp lib . prolongada_x000d__x000d__x000d__x000d__x000d__x000d__x000d__x000d_ ( glaupax xr , glifortx xr , glimefor xr , hipoglucin lp , tavist xr )',\n",
              " 'metformina 750 mg x 60 comp liberacion prolongada_x000d__x000d__x000d__x000d__x000d__x000d__x000d__x000d_ ( glafornil xr , glicenex sr , glifortex xr , glucopage xr , hipoglucin lp , metformina hcl )',\n",
              " 'metformina 750 mg x 60 comp liberacion prolongada_x000d__x000d__x000d__x000d__x000d__x000d__x000d__x000d_ ( glafornil xr , glicenex sr , glifortex xr , glucopage xr , hipoglucin lp , metformina hcl ) _x000d__x000d__x000d__x000d__x000d__x000d__x000d__x000d_',\n",
              " 'metformina 850 mg , caja x 60 comprimidos ( equivalente a hipoglucin ).',\n",
              " 'metformina 850 mg . comprimidos recubiertos ( similar o tipo glafornil , hipoglucin , glifortex , glicenex , glaupax o glucophage .)',\n",
              " 'metformina 850 mg tipo hipoglucin comprimidos',\n",
              " 'metformina 850 mg x 60 comp liberacion prolongada_x000d__x000d__x000d__x000d__x000d__x000d__x000d__x000d_ ( glafornil xr , glicenex sr , glifortex xr , glucopage xr , hipoglucin lp , metformina hcl )',\n",
              " 'metformina 850 mg x 60 comp_x000d__x000d__x000d__x000d__x000d__x000d__x000d__x000d_ ( glafornil , glicenex , glidanil , glifortex , glucopage , hipoglucin , metformina hcl )',\n",
              " 'metformina 850 mg x 60 comp_x000d__x000d__x000d__x000d__x000d__x000d__x000d__x000d_ ( glafornil , glicenex , glidanil , glifortex , glucopage , hipoglucin , metformina hcl ) _x000d__x000d__x000d__x000d__x000d__x000d__x000d__x000d_',\n",
              " 'metformina 850mg comprimidos recubiertos hipoglucin',\n",
              " 'metformina clorhidrato 1000 mg x 56 comp lib . prolongada_x000d__x000d__x000d__x000d__x000d__x000d__x000d__x000d_ ( glaupax xr , glifortx xr , glimefor xr , hipoglucin lp , tavist xr ) _x000d__x000d__x000d__x000d__x000d__x000d__x000d__x000d_',\n",
              " 'metformina clorhidrato 1000 mg x 56 comprimidos lib . prolongada ( glaupax xr , glifortex xr , glimefor xr , hipoglucin lp , tavist xr )',\n",
              " 'metformina clorhidrato 500 mg . x 56 comprimidos , recubiertos ( glafornil , glicenex , glifortex , glidanil , hipoglucin , metformina )',\n",
              " 'metformina cm 850 mg recubierto ( tipo hipoglucin )',\n",
              " 'metformina lp 500 mg , caja x 30 comprimidos de liberación prolongada ( equivalente a hipoglucin 500 lp )'}"
            ]
          },
          "metadata": {},
          "execution_count": 192
        }
      ]
    },
    {
      "cell_type": "code",
      "source": [
        "dictionary_medicine_name[147]"
      ],
      "metadata": {
        "colab": {
          "base_uri": "https://localhost:8080/",
          "height": 35
        },
        "id": "vpjwj2t9sWtD",
        "outputId": "3f9b64cc-46e7-4434-8cae-910f81da963b"
      },
      "id": "vpjwj2t9sWtD",
      "execution_count": null,
      "outputs": [
        {
          "output_type": "execute_result",
          "data": {
            "text/plain": [
              "'hipoglucin'"
            ],
            "application/vnd.google.colaboratory.intrinsic+json": {
              "type": "string"
            }
          },
          "metadata": {},
          "execution_count": 318
        }
      ]
    },
    {
      "cell_type": "code",
      "source": [
        "total_list_148 = [' '.join(row) for row in total_list[118]]\n",
        "set(total_list_148)\n",
        "#dictionary_medicine_name[148]"
      ],
      "metadata": {
        "colab": {
          "base_uri": "https://localhost:8080/"
        },
        "id": "CT_TXYuqsWp3",
        "outputId": "2ec9afd2-55ee-427d-b92e-3ffa7b664283"
      },
      "id": "CT_TXYuqsWp3",
      "execution_count": 193,
      "outputs": [
        {
          "output_type": "execute_result",
          "data": {
            "text/plain": [
              "{'1093063 - 4 cada compromido de liberacion prolongada contiene _x000d__x000d__x000d__x000d__x000d__x000d__x000d__x000d_ metformina clorhidrato 750 mg . excepientes celulosa_x000d__x000d__x000d__x000d__x000d__x000d__x000d__x000d_ microcristalina , hipromelosa , etilcelulosa y estearato o equivalente a hipoglucin lp 750 mg x 60 comp .'}"
            ]
          },
          "metadata": {},
          "execution_count": 193
        }
      ]
    },
    {
      "cell_type": "code",
      "source": [
        "dictionary_medicine_name[148]"
      ],
      "metadata": {
        "colab": {
          "base_uri": "https://localhost:8080/",
          "height": 35
        },
        "id": "JlChMvKWsWmU",
        "outputId": "cd633037-3eba-46a8-ca91-b010b80c5e3f"
      },
      "id": "JlChMvKWsWmU",
      "execution_count": null,
      "outputs": [
        {
          "output_type": "execute_result",
          "data": {
            "text/plain": [
              "'hipromelosa'"
            ],
            "application/vnd.google.colaboratory.intrinsic+json": {
              "type": "string"
            }
          },
          "metadata": {},
          "execution_count": 320
        }
      ]
    },
    {
      "cell_type": "code",
      "source": [
        "total_list_149 = [' '.join(row) for row in total_list[119]]\n",
        "set(total_list_149)\n",
        "#dictionary_medicine_name[149]"
      ],
      "metadata": {
        "colab": {
          "base_uri": "https://localhost:8080/"
        },
        "id": "fesgrROQsWhq",
        "outputId": "3de74227-cb0c-43f5-8fa0-6db3825efc97"
      },
      "id": "fesgrROQsWhq",
      "execution_count": 194,
      "outputs": [
        {
          "output_type": "execute_result",
          "data": {
            "text/plain": [
              "{'imatinib 100 mg cp / cm rec .', 'imatinib 400 mg cp / cm rec .'}"
            ]
          },
          "metadata": {},
          "execution_count": 194
        }
      ]
    },
    {
      "cell_type": "code",
      "source": [
        "dictionary_medicine_name[149]"
      ],
      "metadata": {
        "colab": {
          "base_uri": "https://localhost:8080/",
          "height": 35
        },
        "id": "2UAdTh17sWbL",
        "outputId": "aa4b89b1-0ca1-4078-d31f-5e30dd1df608"
      },
      "id": "2UAdTh17sWbL",
      "execution_count": null,
      "outputs": [
        {
          "output_type": "execute_result",
          "data": {
            "text/plain": [
              "'imatinib'"
            ],
            "application/vnd.google.colaboratory.intrinsic+json": {
              "type": "string"
            }
          },
          "metadata": {},
          "execution_count": 322
        }
      ]
    },
    {
      "cell_type": "code",
      "source": [
        "total_list_150 = [' '.join(row) for row in total_list[120]]\n",
        "set(total_list_150)\n",
        "#dictionary_medicine_name[150]"
      ],
      "metadata": {
        "colab": {
          "base_uri": "https://localhost:8080/"
        },
        "id": "CbwC0Y2CsWVH",
        "outputId": "6515c1af-9fc0-4612-99e5-652dcaa14309"
      },
      "id": "CbwC0Y2CsWVH",
      "execution_count": 195,
      "outputs": [
        {
          "output_type": "execute_result",
          "data": {
            "text/plain": [
              "{'imipenem - cilastatina 500 / 500 mg liof fam'}"
            ]
          },
          "metadata": {},
          "execution_count": 195
        }
      ]
    },
    {
      "cell_type": "code",
      "source": [
        "dictionary_medicine_name[150]"
      ],
      "metadata": {
        "colab": {
          "base_uri": "https://localhost:8080/",
          "height": 35
        },
        "id": "5B1cbhSosWMC",
        "outputId": "7da0faa1-0cbb-405c-911c-61e53dd125ae"
      },
      "id": "5B1cbhSosWMC",
      "execution_count": null,
      "outputs": [
        {
          "output_type": "execute_result",
          "data": {
            "text/plain": [
              "'imipenem'"
            ],
            "application/vnd.google.colaboratory.intrinsic+json": {
              "type": "string"
            }
          },
          "metadata": {},
          "execution_count": 325
        }
      ]
    },
    {
      "cell_type": "code",
      "source": [
        "total_list_151 = [' '.join(row) for row in total_list[121]]\n",
        "total_list_151\n",
        "#dictionary_medicine_name[151]"
      ],
      "metadata": {
        "colab": {
          "base_uri": "https://localhost:8080/"
        },
        "id": "ThwlCTF-ufQp",
        "outputId": "fdcc3c65-fc93-4e65-9065-c4776a0f6b8c"
      },
      "id": "ThwlCTF-ufQp",
      "execution_count": null,
      "outputs": [
        {
          "output_type": "execute_result",
          "data": {
            "text/plain": [
              "['lactato de inamrinona']"
            ]
          },
          "metadata": {},
          "execution_count": 328
        }
      ]
    },
    {
      "cell_type": "code",
      "source": [
        "dictionary_medicine_name[151]"
      ],
      "metadata": {
        "colab": {
          "base_uri": "https://localhost:8080/",
          "height": 35
        },
        "id": "Ch4QGHBoufHj",
        "outputId": "f28e3054-1ff2-4130-f379-02f0cf778a7f"
      },
      "id": "Ch4QGHBoufHj",
      "execution_count": null,
      "outputs": [
        {
          "output_type": "execute_result",
          "data": {
            "text/plain": [
              "'inamrinona'"
            ],
            "application/vnd.google.colaboratory.intrinsic+json": {
              "type": "string"
            }
          },
          "metadata": {},
          "execution_count": 327
        }
      ]
    },
    {
      "cell_type": "code",
      "source": [
        "total_list_152 = [' '.join(row) for row in total_list[122]]\n",
        "set(total_list_152)\n",
        "#dictionary_medicine_name[152]"
      ],
      "metadata": {
        "colab": {
          "base_uri": "https://localhost:8080/"
        },
        "id": "a8uiz7H1ue_Y",
        "outputId": "301e1a24-881d-46a4-ef72-20ce8afcdae0"
      },
      "id": "a8uiz7H1ue_Y",
      "execution_count": 196,
      "outputs": [
        {
          "output_type": "execute_result",
          "data": {
            "text/plain": [
              "{'infliximab 100 mg liof p / sol inyec fam'}"
            ]
          },
          "metadata": {},
          "execution_count": 196
        }
      ]
    },
    {
      "cell_type": "code",
      "source": [
        "dictionary_medicine_name[152]"
      ],
      "metadata": {
        "colab": {
          "base_uri": "https://localhost:8080/",
          "height": 35
        },
        "id": "6yyqxxNBue1n",
        "outputId": "bea4d322-3c41-4f52-b385-44f4b162c090"
      },
      "id": "6yyqxxNBue1n",
      "execution_count": null,
      "outputs": [
        {
          "output_type": "execute_result",
          "data": {
            "text/plain": [
              "'infliximab'"
            ],
            "application/vnd.google.colaboratory.intrinsic+json": {
              "type": "string"
            }
          },
          "metadata": {},
          "execution_count": 329
        }
      ]
    },
    {
      "cell_type": "code",
      "source": [
        "total_list_153 = [' '.join(row) for row in total_list[123]]\n",
        "set(total_list_153)\n",
        "#dictionary_medicine_name[153]"
      ],
      "metadata": {
        "colab": {
          "base_uri": "https://localhost:8080/"
        },
        "id": "8AquKQJuuelN",
        "outputId": "8e424fe3-243f-457f-d5db-c039c49ed263"
      },
      "id": "8AquKQJuuelN",
      "execution_count": 197,
      "outputs": [
        {
          "output_type": "execute_result",
          "data": {
            "text/plain": [
              "{'inmunoglobulina g humana fam x gramo'}"
            ]
          },
          "metadata": {},
          "execution_count": 197
        }
      ]
    },
    {
      "cell_type": "code",
      "source": [
        "dictionary_medicine_name[153]"
      ],
      "metadata": {
        "colab": {
          "base_uri": "https://localhost:8080/",
          "height": 35
        },
        "id": "zqgrCeNrvD47",
        "outputId": "e0316734-c9ed-48e3-8dbf-f791b4b48195"
      },
      "id": "zqgrCeNrvD47",
      "execution_count": null,
      "outputs": [
        {
          "output_type": "execute_result",
          "data": {
            "text/plain": [
              "'inmunoglobulina'"
            ],
            "application/vnd.google.colaboratory.intrinsic+json": {
              "type": "string"
            }
          },
          "metadata": {},
          "execution_count": 332
        }
      ]
    },
    {
      "cell_type": "code",
      "source": [
        "total_list_154 = [' '.join(row) for row in total_list[124]]\n",
        "set(total_list_154)\n",
        "#dictionary_medicine_name[154]"
      ],
      "metadata": {
        "colab": {
          "base_uri": "https://localhost:8080/"
        },
        "id": "MzkGpWPIvD0d",
        "outputId": "028b5a95-c5ac-4608-9dca-78ce03cae06e"
      },
      "id": "MzkGpWPIvD0d",
      "execution_count": 198,
      "outputs": [
        {
          "output_type": "execute_result",
          "data": {
            "text/plain": [
              "{'\" insulina isofánica 100 ui / ml . frasco suspension x 10 ml . similar a insulatard hm . . . . . . .. . .. . .. . . . .( se adjuntan bases administrativas y técnicas \"\" leerlas p / ofertar \"\")\"',\n",
              " '\" insulina isofánica 100 ui / ml . frasco suspensión x 10 ml . similar a insulatard hm . . .. . . . . . . . . . . . ..( se adjuntan bases administrativas y técnicas \"\" leerlas p / ofertar )\"',\n",
              " '( 216 - 5692 ) insulina mixtard 70 / 30',\n",
              " '007 - 0015 insulina cristalina humana solucion inyectable 100 ui / ml frasco ampolla 10 ml',\n",
              " '007 - 0015 insulina cristalina humana solución inyectable 100 ui / ml frasco ampolla 10 ml',\n",
              " '007 - 0017 insulina retardada n . p . h . solucion inyectable 100 ui / ml frasco ampolla 10 ml',\n",
              " '007 - 0066 insulina glargina humana recombinante 100 ui cartridge c / dispositivo prellenado desechable para dispensación',\n",
              " '007 - 0117 insulina glargina humana recombinante 300 ui / ml en dispositivo prellenado desechable para dispensación',\n",
              " '1 insulina glargina 450 ui / 1 , 5 ml ( 300 ui / ml ) inyectable en lapiz prellenado inyectable 12000',\n",
              " '1092011 - 4 insulina humana nph 100ui / ml frasco ampolla contiene 10ml o equivalente a insulina insulatard 100ui f . amp',\n",
              " '1092011 - 4 insulina isofánica humana recombinantea 100ui / ml 10ml fco amp . suspension inyectable , o equivalente a insulina insuman n 100ui / ml intermedia',\n",
              " '1092011 - 4 insulina isofánica humana recombinantea 100ui / ml _x000d__x000d__x000d__x000d__x000d__x000d__x000d__x000d_ 10ml fco amp . suspension inyectable , o equivalente a insulina insuman n 100ui / ml intermedia',\n",
              " '1092011 - 4 insulina lenta insulina humana nph 100ui / ml frasco ampolla contiene 10ml',\n",
              " '1092012 - 2 insulina humana adn recombinante 100ui / ml fco amp . 10ml , supension inyectable , o equivalente a insulina actrapid 100ui / ml fco ampolla',\n",
              " '1092012 - 2 insulina soluble neutra , humana biosintetica 100 ui frasco ampolla de 10 ml o equivalente a ins . actrapid 100 ui f . amp .',\n",
              " '1092013 - 0 cada ml de solucion inyectable contiene 300 unidades de insulina glargina . o equivalente a toujeo sol . inyec . 300 ui / ml',\n",
              " '1092013 - 0 cada ml de solucion inyectable contiene 300 unidades de insulina glargina . o equivalete a toujeo sol . inyec . 300 ui / ml',\n",
              " '1092013 - 0 cada ml de solucion inyectable contiene 300 unidades de insulina glargina o equivalente a toujeo sol . inyec . 300 ui / ml o equivalente a toujeo sol . inyec . 300 ui / ml',\n",
              " '1092018 - 9 insulina determir 100ui / ml , en lapiz de 3ml , _x000d__x000d__x000d__x000d__x000d__x000d__x000d__x000d_ con vigencia superior a un año o equivalente a insul . levemir flexpen 100 ui',\n",
              " '1092018 - 9 o insulina determir 100ui / ml , en lapiz de 3ml , equivalente a insul . levemir flexpen 100 ui .',\n",
              " '1092019 - 7 cada ml de solucion inyectable contiene insulina _x000d__x000d__x000d__x000d__x000d__x000d__x000d__x000d_ glargina 3 , 64mg equivalente a 100 ui de insulina humana hipoglicemiante anti - diabetico o equivalente a ins . lantus - sol . 3 ml lapiz',\n",
              " '1092019 - 7 cada ml de solución inyectable contiene insulina _x000d__x000d__x000d__x000d__x000d__x000d__x000d__x000d_ glargina 3 , 64mg equivalente a 100 ui de insulina humana hipoglicemiante anti - diabetico o equivalente a ins . lantus - sol . 3 ml lapiz',\n",
              " '1092019 - 7 ins . lantus - sol . 100ui 3 ml lapiz , insulina glargina 100ui 3ml lapicera pre llenada .',\n",
              " '1092019 - 7 insulina glargina 100ui 3ml lapicera pre llenada o equivalente a ins . lantus - sol . 100ui 3 ml lapiz',\n",
              " '1092019 - 7 insulina glargina 100ui 3ml lapicera pre llenada o equivalente a ins . lantus - sol . 100ui 3 ml lapiz .',\n",
              " '1092019 - 7 insulina glargina o equivalente a insulina glargina 100ui 3ml lapicera pre llenada .',\n",
              " '1092020 - 5 insulina ultra rapida insulina ultrarapida lispro en lapiz o equivalente a humalog kwikpen',\n",
              " '1092025 - 4 cada ml solucion inyectable contiene 100 ui de_x000d__x000d__x000d__x000d__x000d__x000d__x000d__x000d_ insulina o equivalente a insulina rapida',\n",
              " '1092025 - 4 insulina humana rapida',\n",
              " '1092028 - 8 insulina lenta nph 100ui / ml en lapiz de 3ml _x000d__x000d__x000d__x000d__x000d__x000d__x000d__x000d_ con vigencia superior a un año o equivalente a insulina insulatard penfill',\n",
              " '1092030 - 4 insulina degludec ( adn recombinante ) 100 u / ml _x000d__x000d__x000d__x000d__x000d__x000d__x000d__x000d_ flexpen 3ml o equivalente a ins . tresiba 100 u / ml plexpen 3ml',\n",
              " '1092030 - 4 insulina degludec ( adn recombinante ) 100 u / ml flexpen 3ml o equivalente a ins . tresiba 100 u / ml plexpen 3ml .',\n",
              " '1092031 - 2 insulina glardina 300u / ml lapicera de 1 . 5ml o equivalente a ins . toujeo 300u / ml flexpen 1 . 5ml',\n",
              " '1092031 - 2 insulina glardina 300u / ml lapicera de 1 . 5ml o equivalente a ins . toujeo 300u / ml flexpen 1 . 5ml .',\n",
              " '111 - 0025 cartridge insulina análoga aspártica de acción ultrarapida 100 ui / ml c / aguja 3ml',\n",
              " '111 - 0027 insulina de accion prolongada solucion inyectable 100 u . i ./ ml ( 3ml ) tipo lapicera similar a lantus',\n",
              " '111 - 0038 análogo de insulina humana glulisina de acción rápida y corta duración 100 ui / ml . aplicador pre - llenado descartable c / aguja 3ml',\n",
              " '1160010 insulina detemir , rdna accion prolongada 100 u / ml 3ml lapiz sol iny',\n",
              " '1400019 insulina rapida humana adn recombinante 100 u / ml x 10 ml sc , similar actrapid uso ocasional sol . iny . ( fc ) _x000d__x000d__x000d__x000d__x000d__x000d__x000d__x000d_',\n",
              " '1400020 analogo de insulina lenta glargina adn recombinante 300 ml lapiz x 1 , 5 ml , similar toujeo uso ocasional sol . iny . lapiz_x000d__x000d__x000d__x000d__x000d__x000d__x000d__x000d_',\n",
              " '1400034 analogo de insulina lenta degludec 100 u / ml x 3 ml sc similar tresiba flextouch . uso ocasional sol . iny . lapiz_x000d__x000d__x000d__x000d__x000d__x000d__x000d__x000d_',\n",
              " '1400040 analogo de insulina rapida asparta adn recombinante 100 u / ml 5 cartuchos x 3 ml sc , similar novorapid penfill . sol . iny . cartucho_x000d__x000d__x000d__x000d__x000d__x000d__x000d__x000d_',\n",
              " '1400069 analogo de insulina lenta glargina adn recombinante 100 u / ml lapiz solostar x 3 ml sc , similar lantus solostar . sol . iny . lapiz_x000d__x000d__x000d__x000d__x000d__x000d__x000d__x000d_',\n",
              " '1400103 analogo de insulina rapida asparta adn recombinante 100 u / ml 5 lapices x 3 ml sc , similar novorapid flexpen . sol . iny . lapiz_x000d__x000d__x000d__x000d__x000d__x000d__x000d__x000d_',\n",
              " '1400121 analogo de insulina lenta detemir adn recombinante 100 u / ml 5 lapices x 3 ml sc , similar levemir flexpen sol . iny . lapiz_x000d__x000d__x000d__x000d__x000d__x000d__x000d__x000d_',\n",
              " '1629804 insulina glargina accion prolongada 100 u / ml 10 ml frasco solución inyectable sc',\n",
              " '1629829 insulina glargina accion prolongada 100 u / ml 3ml lapiz solución inyectable sc',\n",
              " '216 - 5158 insulina cristalina humana monocomponente adn recombinante 100 u . i ./ ml 10 ml',\n",
              " '216 - 5168 análogo de insulina rápida lápiz 100ui / ml 3ml',\n",
              " '216 - 5171 insulina degludec 100ui / ml 3 ml lapiz prellenado',\n",
              " '216 - 5173 insulina detemir 100ui / ml 3 ml lapiz prellenado',\n",
              " '216 - 5175 insulina humana glargina recombinante lapiz precargado 100ui / ml 3ml',\n",
              " '216 - 5691 insulina glargina 100ui / ml dispositivo descartable 3 ml con 20 agujas por unidad de lapiz',\n",
              " '2200039 insulina cristalina 100 ui / ml 3 ml catridge',\n",
              " '2200067 insulina glulisina 3 ml catridge ( según bases técnicas y sus formularios )',\n",
              " '2200068 insulina nph 100 ui / ml catridge 3 ml',\n",
              " '2200072 insulina glargina catridge 3 ml ( según bases técnicas y sus formularios )',\n",
              " '2200102 insulina degludec solución inyectable 100 u / ml lápiz descartable x 3 ml',\n",
              " '220030032 insulina lenta ( nph ) 100 ui / ml sol iny cartucho 3 ml',\n",
              " '262 - 0003 insulina rápida 100 ui / ml',\n",
              " '262 - 0004 insulina lenta ( nph ) 10 ui / ml',\n",
              " '262 - 0012 insulina prolongada ( glargina 300ui ) lapicera prellenada descartable',\n",
              " '262 - 0014 insulina ultrarapida ( glusina 300ui ) lapicera prellenada descartable',\n",
              " '262 - 0031 insulina glargina 300 ui / mlx1ml . _x000d__x000d__x000d__x000d__x000d__x000d__x000d__x000d_ se debe considerar bonificacion de 10 agujas por lapiz . lapiz desechable 640_x000d__x000d__x000d__x000d__x000d__x000d__x000d__x000d_',\n",
              " '262 - 0031 insulina glargina 300 ui / mlx1ml lapiz 1 . 375',\n",
              " '262 - 0031 insulina glargina 300 ui / mlx1ml se debe considerar bonificación de 10 agujas por lápiz',\n",
              " '262 - 0065 insulina glargina ( dna recombinante ) 100 ui / ml',\n",
              " '262 - 0096 insulina análoga aspártica 100 ui / ml',\n",
              " '262 - 0097 insulina análoga aspártica 100 ui / ml',\n",
              " '262 - 0098 insulina glulisina 100 ui / ml',\n",
              " '262 - 0112 insulina detemir 100 ui / mlx 3 ml . lapiz 420',\n",
              " '262 - 0112 insulina detemir100 ui / mlx 3 ml . _x000d__x000d__x000d__x000d__x000d__x000d__x000d__x000d_ se debe considerar bonificacion de 10 agujas por lapiz . lapiz desechable 560_x000d__x000d__x000d__x000d__x000d__x000d__x000d__x000d_',\n",
              " '262 - 0112 insulina detemir100 ui / mlx 3 ml . se debe considerar bonificación de 10 agujas por lápiz .',\n",
              " '262 - 0113 insulina glulisina 100 ui / mlx 3 ml . _x000d__x000d__x000d__x000d__x000d__x000d__x000d__x000d_ se debe considerar bonificacion de 10 agujas por lapiz . lapiz desechable 10400_x000d__x000d__x000d__x000d__x000d__x000d__x000d__x000d_',\n",
              " '262 - 0113 insulina glulisina 100 ui / mlx 3 ml lapiz 5 . 000',\n",
              " '262 - 0114 insulina degludec 100 ui / ml x 3 ml . _x000d__x000d__x000d__x000d__x000d__x000d__x000d__x000d_ se debe considerar bonificacion de 10 agujas por lapiz . lapiz desechable 5600_x000d__x000d__x000d__x000d__x000d__x000d__x000d__x000d_',\n",
              " '262 - 0114 insulina glargina degludec 300 ui / 3 ml se debe considerar bonificación de 10 agujas por lápiz',\n",
              " '262 - 0115 insulina glargina 100ui / ml x 3ml lapiz 5 . 000',\n",
              " '262 - 0115 insulina glargina100ui / ml x 3ml',\n",
              " '262 - 0115 insulina glargina100ui / ml x 3ml . se debe considerar bonificacion de 10 agujas por lapiz . se solicita equipo en comodato , ver punto 1 . 3 bases tecnicas .',\n",
              " '262 - 0115 insulina glargina100ui / ml x 3ml se debe considerar bonificación de 10 agujas por lápiz',\n",
              " '262 - 0116 insulina asparta recombinante 100ui / ml 10m . frasco ampolla 400',\n",
              " '262 - 0116 insulina aspartica100ui / ml 10m',\n",
              " '262 - 0213 insulina acción prolongada 100 u / ml lápiz 3ml',\n",
              " '262 - 0214 insulina ultrarapida 100 u / ml lapiz 3 ml',\n",
              " '262 - 0260 insulina ultra rapida asparta 100ui / ml penfill cartucho 3 ml _x000d__x000d__x000d__x000d__x000d__x000d__x000d__x000d_',\n",
              " '262 - 0264 insulina degludec 100 u . i ./ ml solucion inyectable cartucho 3ml dispositivo inyector 3 ml_x000d__x000d__x000d__x000d__x000d__x000d__x000d__x000d_',\n",
              " '262 - 0710 insulina acción prolongada 100 u / ml uso en embarazadas',\n",
              " '262 - 1330 insulina glargina 300 ui / 1 , 5 ml',\n",
              " '262 - 2509 insulina ultrarapida penfill ( análoga aspártica ) cartucho 100 ui / ml',\n",
              " '262 - 8434 insulina accion rapida 100 u / ml vial 10 ml ( cristalina )',\n",
              " '262 - 8434 insulina acción rápida 100 u / ml vial 10 ml ( cristalina )',\n",
              " '262 - 8434 insulina cristalina hum 100ui / ml fco 10ml',\n",
              " '262 - 8446 | insulina ultrarapida ( glulisina ) cartridge 3 ml',\n",
              " '262 - 8454 insulina acción intermedia 100u / ml vial 10 ml ( nph )',\n",
              " '262 - 8454 insulina isofana hum 100ui / ml fco 10ml',\n",
              " '262 - 8455 lantus 100 ui insulina glargina_x000d__x000d__x000d__x000d__x000d__x000d__x000d__x000d_',\n",
              " '2620056 insulina degludec 100ui / ml 3ml lapiz sol iny',\n",
              " '2620056 insulina degludec 100ui / ml 3ml lapiz sol iny 300ui total multidosis',\n",
              " '2628434 insulina cristalina hm 100 u / ml 10 ml frasco ampolla sol iny',\n",
              " '2628453 insulina nph hm 100 u / ml 10 ml frasco ampolla sol iny',\n",
              " '2628454 insulina asparta bifásica 30 / 70 ( 100ui / ml ) 3ml lápiz',\n",
              " '2628455 insulina glargina accion prolongada 300ui / ml 1 , 5ml lapiz solución inyectable sc',\n",
              " '300 frascos insulina nph 100 ui / ml ( insulatard x 10 ml )',\n",
              " '3002161380 insulina glargina 100 ui / ml / 3 ml solucion inyectable',\n",
              " '3002161382 insulina glargina 300 ui / ml 1 , 5 ml solución inyectable',\n",
              " '3002168427 insulina humana 100 ui / ml / 10 ml solución inyectable',\n",
              " '3002168452 insulina degludec 100 ui / ml sol inyectable',\n",
              " '3002168453 insulina isofónica humana 100 ui / ml / 10 ml suspensión inyectable',\n",
              " '40400170028 insulina retardada humana 100 ui / ml 10 ml ( lapiz ), solucion inyectable',\n",
              " '40400170029 insulina cristalina humana 100 ui 10 ml ( lapiz ), solucion inyectable',\n",
              " '40400170030 insulina 30 / 70 humana ui / ml 10 ml , suspension inyectable .',\n",
              " '40400170056 insulina glargina 100 ui / 3 ml . solución inyectable',\n",
              " '40400170113 insulina ultrarapida glulisina solostar 100 ui / ml 3 ml ( jeringa prellenada )',\n",
              " '40400170196 insulina glargina 300 ui lápiz 1 , 5 ml . lapicera prellenada 1 , 5 ml . solución inyectable ( los oferentes deberán considerar la entrega de 30 agujas de 4 mm por cada lápiz .) _x000d__x000d__x000d__x000d__x000d__x000d__x000d__x000d_ _x000d__x000d__x000d__x000d__x000d__x000d__x000d__x000d_ _x000d__x000d__x000d__x000d__x000d__x000d__x000d__x000d_',\n",
              " '50 - 216 - 700 - 004 - 00 insulina cristalina humana 100ui / ml frasco ampolla 10ml_x000d__x000d__x000d__x000d__x000d__x000d__x000d__x000d_',\n",
              " '511 - 1939 insulina humana glargina 300 ui / ml lapiz 3 ml solucion inyectable',\n",
              " '5276 - ai5207 lápiz insulina humana intermedia 300 ui / 3 ml',\n",
              " '5558880 insulina ultrarapida 300 ui 3 ml inyectable',\n",
              " '[ 2628433 ] insulina humana cristalina 100ui / ml sol . iny iv / sc fa',\n",
              " '[ 2628453 ] insulina humana lenta 100ui / ml sol . iny sc fa',\n",
              " 'caja de 1 lapicera inyectable contiene : 300 unidades de insulina glargina ( equivalentes a 10 . 91 mg ). cada lapicera contiene 1 . 5 ml de solución inyectable , equivalentes a 450 unidades . similar a toujeo',\n",
              " 'caja de 1 lápiz conteniendo : cada ml 3000 unidades de insulina glargina ( equivalentes a 10 . 91 mg ). cada lapicera contiene 1 . 5 ml de solución inyectable , equivalentes a 450 unidades . similar a toujeo',\n",
              " 'convenio de suministro de insulina n . p . h . 100ui / 10ml para el servicio de salud metropolitano oriente',\n",
              " 'cód .: 2200040_x000d__x000d__x000d__x000d__x000d__x000d__x000d__x000d_ insulina cristalina humana monocomponente adn recombinante 100ui / ml solucion inyectable frasco ampolla frasco ampolla 10ml _x000d__x000d__x000d__x000d__x000d__x000d__x000d__x000d_',\n",
              " 'cód .: 2200042_x000d__x000d__x000d__x000d__x000d__x000d__x000d__x000d_ insulina humana monocomponente isofanica nph adn recombinante 100ui / ml suspension inyectable frasco ampolla 10 ml_x000d__x000d__x000d__x000d__x000d__x000d__x000d__x000d_',\n",
              " 'cód .: 2200043_x000d__x000d__x000d__x000d__x000d__x000d__x000d__x000d_ insulina degludec ( ultralenta ) 100ui / ml solucion inyectable lapiz prellenado 3ml',\n",
              " 'dispositivo prellenado contiene : 300 unidades de insulina degludec en 3 ml de solución . similar a tresiba',\n",
              " 'fa insulina cristalina fa 100 ui / ml',\n",
              " 'fa insulina nph humana fa 100 ui / ml',\n",
              " 'fa03 - 0006 insulina cristalina fco amp ( rapida ) ( ui )',\n",
              " 'fa03 - 0006 insulina cristalina fco amp ( rápida )',\n",
              " 'fa03 - 0008 insulina nph fco amp ( lenta )',\n",
              " 'fa03 - 0008 insulina nph fco amp ( lenta ) ( amp )',\n",
              " 'fa03 - 0017 insulina glargine 300 ui / ml lapiz 1 , 5 ml ( ultra lenta ) ( incluye 15 agujas por cada lápiz )',\n",
              " 'faaa10003 insulina glargina 100 ui / ml car iny 3 ml',\n",
              " 'faaa10004 insulina glargina 100 ui / ml iny 10 ml',\n",
              " 'faaa10008 insulina ultrarrápida 100 ui / ml car iny',\n",
              " 'insulina 100 ui / ml ( ultrarrapida ) 3ml dispositivo multidosis',\n",
              " 'insulina 30 / 70 ui / 10 ml fc . cotizar x frasco indicar vencimiento',\n",
              " 'insulina accion prolongada ( lantus ) 100 ui / ml fc 3 ml',\n",
              " 'insulina analoga acción ultrarapida pen',\n",
              " 'insulina analoga aspartica100 ui / ml cartucho 3 ml . uso autorizado en niños a partir de 2 años ( 2620052 )',\n",
              " 'insulina análoga aspártica de acción ultra rápida 100 ui / ml , lápiz prellenado desechable ; equivalente a novo rapid 100 ui / ml 5 flexpen 3 ml',\n",
              " 'insulina análoga de acción bifásica . 30 % aspártica soluble y 70 % aspártica retardada con protamina 100 ui / ml en presentación de lápiz prellenado desechable ; equivalente a novo mix 30 100 ui / ml 5 flexpen 3 ml',\n",
              " 'insulina asparta 100 u lapiz 3 ml similar a novorapid flexpen',\n",
              " 'insulina asparta 3 . 5 mg ( equivalente a 100 u / ml ) equivalente a novorapid flexpen , caja 1 , 5 o 10 dispositivo prellenado x 3 ml',\n",
              " 'insulina asparta 300 ui / 3 ml ( 100 ui / ml ) inyectable en cartucho',\n",
              " 'insulina asparta 300 ui / 3 ml ( 100 ui / ml ) inyectable en lapiz prellenado',\n",
              " 'insulina asparta 300 ui / 3 ml ( 100 ui / ml ) inyectable en lapiz prellenado_x000d__x000d__x000d__x000d__x000d__x000d__x000d__x000d_',\n",
              " 'insulina asparta 300 ui / 3 ml lapiz inyectable',\n",
              " 'insulina asparta 300 ui / 3 ml lapiz inyectable_x000d__x000d__x000d__x000d__x000d__x000d__x000d__x000d_',\n",
              " 'insulina asparta 300 ui inyectable',\n",
              " 'insulina asparta adn recombinante 100 u / m x 3 ml disp . prellenado ( lápiz )',\n",
              " 'insulina asparta bifásica 30 / 70 100 ui / ml x 5 lápices , caja 5 lápices',\n",
              " 'insulina asparta bifásica 30 / 70 100 ui / ml x 5 lápices_x000d__x000d__x000d__x000d__x000d__x000d__x000d__x000d_',\n",
              " 'insulina asparta recombinante 100 ui / ml , flexpen deben incluir agujas .( despacho parcializado de 50 unidades mensuales )',\n",
              " 'insulina asparta recombinante 100u / ml 10 ml frasco ampolla , frasco ampolla 10 ml',\n",
              " 'insulina asparta recombinante lexpen 100 ui / ml deben incluir agujas , ( para despacho parcializado de 50 unid mensuales )',\n",
              " 'insulina asparta soluble 100 ui x un flexpen',\n",
              " 'insulina aspártica 100 ui / ml envasado en cartucho de 3 ml mas dispositivo inyector desechable tipo lapiz . _x000d__x000d__x000d__x000d__x000d__x000d__x000d__x000d_ debe incluir por cada dispositivo inyector desechable 10 agujas de 32g x 4 mm_x000d__x000d__x000d__x000d__x000d__x000d__x000d__x000d_',\n",
              " 'insulina cris . human 100 ui / ml fam 10 ml',\n",
              " 'insulina cris . human 100 ui / ml fam 10 ml ( 100000822 )',\n",
              " 'insulina cris . human 100 ui / ml fam 10 ml_x000d__x000d__x000d__x000d__x000d__x000d__x000d__x000d_',\n",
              " 'insulina cristalina',\n",
              " 'insulina cristalina , solución inyectable 100 ui / ml , frasco ampolla 10 ml .',\n",
              " 'insulina cristalina 100 u . i / ml . frasco ampolla 10 ml . solicitud por unidad .',\n",
              " 'insulina cristalina 100 ui ( acción rápida )',\n",
              " 'insulina cristalina 100 ui / 10 ml , cotizar x frasco indicar vencimiento',\n",
              " 'insulina cristalina 100 ui / ml',\n",
              " 'insulina cristalina 100 ui / ml en frasco',\n",
              " 'insulina cristalina 100 ui / ml fa ( consumo prom . mens : 150 ) _x000d__x000d__x000d__x000d__x000d__x000d__x000d__x000d_ _x000d__x000d__x000d__x000d__x000d__x000d__x000d__x000d_',\n",
              " 'insulina cristalina 100 ui / ml fc 10 ml',\n",
              " 'insulina cristalina 100 ui / ml fc 10 ml_x000d__x000d__x000d__x000d__x000d__x000d__x000d__x000d_',\n",
              " 'insulina cristalina 100 ui / ml fc 10 ml_x000d__x000d__x000d__x000d__x000d__x000d__x000d__x000d_ _x000d__x000d__x000d__x000d__x000d__x000d__x000d__x000d_ _x000d__x000d__x000d__x000d__x000d__x000d__x000d__x000d_ _x000d__x000d__x000d__x000d__x000d__x000d__x000d__x000d_ _x000d__x000d__x000d__x000d__x000d__x000d__x000d__x000d_',\n",
              " 'insulina cristalina 100 ui / ml fc 10 ml_x000d__x000d__x000d__x000d__x000d__x000d__x000d__x000d_ _x000d__x000d__x000d__x000d__x000d__x000d__x000d__x000d_ _x000d__x000d__x000d__x000d__x000d__x000d__x000d__x000d_ _x000d__x000d__x000d__x000d__x000d__x000d__x000d__x000d_ _x000d__x000d__x000d__x000d__x000d__x000d__x000d__x000d_ _x000d__x000d__x000d__x000d__x000d__x000d__x000d__x000d_ _x000d__x000d__x000d__x000d__x000d__x000d__x000d__x000d_ _x000d__x000d__x000d__x000d__x000d__x000d__x000d__x000d_ _x000d__x000d__x000d__x000d__x000d__x000d__x000d__x000d_ _x000d__x000d__x000d__x000d__x000d__x000d__x000d__x000d_ _x000d__x000d__x000d__x000d__x000d__x000d__x000d__x000d_ _x000d__x000d__x000d__x000d__x000d__x000d__x000d__x000d_ _x000d__x000d__x000d__x000d__x000d__x000d__x000d__x000d_ _x000d__x000d__x000d__x000d__x000d__x000d__x000d__x000d_ _x000d__x000d__x000d__x000d__x000d__x000d__x000d__x000d_ _x000d__x000d__x000d__x000d__x000d__x000d__x000d__x000d_ _x000d__x000d__x000d__x000d__x000d__x000d__x000d__x000d_ _x000d__x000d__x000d__x000d__x000d__x000d__x000d__x000d_ _x000d__x000d__x000d__x000d__x000d__x000d__x000d__x000d_ _x000d__x000d__x000d__x000d__x000d__x000d__x000d__x000d_ _x000d__x000d__x000d__x000d__x000d__x000d__x000d__x000d_ _x000d__x000d__x000d__x000d__x000d__x000d__x000d__x000d_ _x000d__x000d__x000d__x000d__x000d__x000d__x000d__x000d_ _x000d__x000d__x000d__x000d__x000d__x000d__x000d__x000d_ _x000d__x000d__x000d__x000d__x000d__x000d__x000d__x000d_ _x000d__x000d__x000d__x000d__x000d__x000d__x000d__x000d_ _x000d__x000d__x000d__x000d__x000d__x000d__x000d__x000d_ _x000d__x000d__x000d__x000d__x000d__x000d__x000d__x000d_ _x000d__x000d__x000d__x000d__x000d__x000d__x000d__x000d_ _x000d__x000d__x000d__x000d__x000d__x000d__x000d__x000d_ _x000d__x000d__x000d__x000d__x000d__x000d__x000d__x000d_ _x000d__x000d__x000d__x000d__x000d__x000d__x000d__x000d_ _x000d__x000d__x000d__x000d__x000d__x000d__x000d__x000d_',\n",
              " 'insulina cristalina 100ui / ml',\n",
              " 'insulina cristalina 100ui / ml ( indicar valor unitario neto ). _x000d__x000d__x000d__x000d__x000d__x000d__x000d__x000d_ _x000d__x000d__x000d__x000d__x000d__x000d__x000d__x000d_',\n",
              " 'insulina cristalina 100ui / ml 10 ml',\n",
              " 'insulina cristalina 100ui / ml frasco ampolla 10 ml_x000d__x000d__x000d__x000d__x000d__x000d__x000d_',\n",
              " 'insulina cristalina ampolla 10 ml 100 ui / ml',\n",
              " 'insulina cristalina fa 100 ui / ml',\n",
              " 'insulina cristalina fa 100 ui / ml 10ml solucion inyectable',\n",
              " 'insulina cristalina frasco ampolla 10ml 100ui / ml solucion inyectable',\n",
              " 'insulina cristalina frascos ampolla 10 ml 100 ui / ml solucion inyectable',\n",
              " 'insulina cristalina frascos ampolla de 10 ml 100ui / ml solucion inyectable',\n",
              " 'insulina cristalina humana 100 ui / ml fa 10 ml _x000d__x000d__x000d__x000d__x000d__x000d__x000d__x000d_',\n",
              " 'insulina cristalina humana 100 ui / ml fam 10 ml',\n",
              " 'insulina cristalina humana 100 ui 10 ml ( actrapid ) novo nordisk',\n",
              " 'insulina cristalina humana 100 ui 10 ml ( actrapid ) novo nordisk_x000d__x000d__x000d__x000d__x000d__x000d__x000d__x000d_',\n",
              " 'insulina cristalina humana 100 ui 5 ml o 10 ml cod . int . 40400170063',\n",
              " 'insulina cristalina humana adn recombinante 100 u . i ./ ml suspensión inyectable para administración endovenosa y subcutánea . frasco ampolla de vidrio . ( acción rápida )',\n",
              " 'insulina cristalina humana monocompetente adn recombinente 100 u . i / ml f . a 10 ml',\n",
              " 'insulina cristalina humana monocomponente adn recombinante 100 u . i ./ m 10 ml',\n",
              " 'insulina cristalina humana monocomponente adn recombinante 100 u . i ./ ml suspension o solucion inyectable frasco ampolla 10 ml',\n",
              " 'insulina cristalina humana monocomponente adn recombinante 100 u . i ./ msuspension o solucion inyectable frasco ampolla 10 ml',\n",
              " 'insulina cristalina humana monocomponente adn recombinante susp inyectable 100 ui fa 10 ml',\n",
              " 'insulina cristalina solucion inyectable 100 ui / ml',\n",
              " 'insulina cristalina solucion inyectable 100 ui / ml fc 10 ml',\n",
              " 'insulina cristalizada 100 ui / ml',\n",
              " 'insulina deglodec solucion inyectable en dispositivo prellenado igual o superior a tresiba _x000d__x000d__x000d__x000d__x000d__x000d__x000d_ nota : se sugiere fecha de vencimiento superior a 1 año o en caso contrario contar con politicas de canje',\n",
              " 'insulina degludec ( tresiba ) 100 ui / ml sol . inyectable',\n",
              " 'insulina degludec * . * producida en saccharomyces cerevisiae por medio de la tecnología de adn recombinante , similar a insulina tresiba . solución inyectable ( flextouch ®)',\n",
              " 'insulina degludec , cada ml contiene 100 ui . un dispositivo prellenado contiene : 300 unidades de isnulina degludec en 3 ml de solucion . producida en saccharomyces cerevisiae por medio de la tecnologia de adn recombinante . tresiba o similar .',\n",
              " 'insulina degludec , similar tresiba 100 ui / ml , caja de 1 dispositivo prellenado de 3 ml , uso subcutaneo',\n",
              " 'insulina degludec , similar tresiba 100 ui / ml , caja de 1 dispositivo prellenado de 3 ml , uso subcutaneo .',\n",
              " 'insulina degludec . solucion inyectable 100 ui / ml . envase con 1 dispositivo prellenado de 3 ml . similar a tresiba flextouch',\n",
              " 'insulina degludec . solucion inyectable 100 ui / ml . envase con 1 dispositivo prellenado de 3 ml . similar a tresiba flextouch ®.',\n",
              " 'insulina degludec 100 u / ml , solución inyectable en dispositivo prellenado , producto deseado tresiba solución inyectable 100 u / ml',\n",
              " 'insulina degludec 100 u / ml 1 x 3 ml similar a tresiba flextouch',\n",
              " 'insulina degludec 100 u / ml solución inyectable en dispositivo prellenado _x000d__x000d__x000d__x000d__x000d__x000d__x000d_ nota : se sugiere fecha de vencimiento superior a 1 año o en caso contrario contar con políticas de canje',\n",
              " 'insulina degludec 100 u / ml x 3 ml similar a tresiba flextouch',\n",
              " 'insulina degludec 100 ui ( 3 , 66 mg ). adn recombinante en dispositivo desechable .; equivalente a tresiba flex touch 100 ui / ml lápiz 3 ml',\n",
              " 'insulina degludec 100 ui , según especificaciones en bases técnicas .',\n",
              " 'insulina degludec 100 ui / ml 3 ml',\n",
              " 'insulina degludec 100 ui / ml disp iny 3ml ( 100004348 )',\n",
              " 'insulina degludec 100 ui / ml en lapiz desechable , especificar marca , caracteristicas y presentacion . consumo promedio mensual 40 unidades aproximadas .',\n",
              " 'insulina degludec 100 ui / ml lapiz inyectable - vencimiento mayor a 1 año , no se aceptan cartas de canje',\n",
              " 'insulina degludec 100 ui / ml lapiz prellenado de 3 ml ( similar tresiba )',\n",
              " 'insulina degludec 100 ui / ml solución inyectable en dispositivo para inyección prellenado tipo lápiz descartable 3 ml ; mas 15 agujas en donación . vencimiento mayor a 18 meses desde el envío de la orden .',\n",
              " 'insulina degludec 100ui / ml dispositivo ( tipo lapiz ) pre - cargado de 3 ml ( debe incluir una boniticacion de 10 agujas 32 g x 4 mm por lapiz )',\n",
              " 'insulina degludec 100ui / ml dispositivo ( tipo lapiz ) pre - cargado de 3 ml . debe incluir una bonificación de10 agujas 32 gx 4 mm por lápiz',\n",
              " 'insulina degludec 100ui / ml solución inyectable en dispositivo prellenado 3 ml_x000d__x000d__x000d__x000d__x000d__x000d__x000d__x000d_',\n",
              " 'insulina degludec 100ui / ml solución inyectable similar tresiba',\n",
              " 'insulina degludec dispositivo tipo lapiz',\n",
              " 'insulina degludec lapiz similar a tresiba',\n",
              " 'insulina degludec lápiz , según lo exigido en bases administrativas y técnicas .',\n",
              " 'insulina degludec lápiz , según lo indicado en bases administrativas , técnicas y anexos adjuntos .',\n",
              " 'insulina degludec solución inyectable 100 u / ml para aadministración parenteral . dispositivo inyector .',\n",
              " 'insulina degludex , solución inyectable 100 ui / ml , lápiz descartable 3 ml . unidad lápiz',\n",
              " 'insulina deglutec 100 ui / ml_x000d__x000d__x000d__x000d__x000d__x000d__x000d__x000d_ 262 - 078',\n",
              " 'insulina detemir ( levemir ) flexpen ( lapiz ) ( 2620021 ) _x000d__x000d__x000d__x000d__x000d__x000d__x000d__x000d_',\n",
              " 'insulina detemir , cada 1 ml de solucion contiene : 100 u de insulina detemir * ( equivalente a 14 . 2 mg ) 1 dispositivo prellenado contiene : 3 ml equivalente a 300 u . caja conteniendo 5 dispositivos . levemir o similar .',\n",
              " 'insulina detemir 100 ui / ml , especificar marca , características y presentación . consumo promedio mensual 10 unidades aprox .',\n",
              " 'insulina detemir 100 ui / ml - lapiz descartable cod . int . 40400170085',\n",
              " 'insulina detemir 100 ui lápiz _x000d__x000d__x000d__x000d__x000d__x000d__x000d__x000d_ 262 - 061',\n",
              " 'insulina detemir 300 ui / 3 ml ( 100 ui / ml ) inyectable en cartucho',\n",
              " 'insulina detemir cartridge 3 ml',\n",
              " 'insulina detemir recombinante , solución inyectable , 100 ui / ml , lápiz descartable de 3 ml . unidad lápiz',\n",
              " 'insulina glangina 300 ui / ml lápiz 1 . 5 ml',\n",
              " 'insulina glangina recomb 300 ui / ml lapiz',\n",
              " 'insulina glargina ( tougeo ) 300u / ml , lapiz de 1 , 5 ml',\n",
              " 'insulina glargina , lápiz desechable 3 ml , 100 ui / ml . unidad lápiz',\n",
              " 'insulina glargina 100 / ui tipo lápiz 3 ml',\n",
              " 'insulina glargina 100 u . i ./ ml lapiz 3 ml',\n",
              " 'insulina glargina 100 u / 1 mi . estuche con 1 lápiz aplicador desechable , prellenado con 3 ml . similar lantus solostar .',\n",
              " 'insulina glargina 100 u / ml estuche con 1 lápiz prellenado con 3 ml similar lantus solostar',\n",
              " 'insulina glargina 100 u / ml lapiz similar a lantuz solostar',\n",
              " 'insulina glargina 100 ui / 3 ml ( cod . int . 40400170056 )',\n",
              " 'insulina glargina 100 ui / ml - tipo lapiz',\n",
              " 'insulina glargina 100 ui / ml 1 cartucho 3 ml similar a lantus solostar',\n",
              " 'insulina glargina 100 ui / ml accion ultra lenta , debe incluir ajugas ultra fine 4 mm_x000d__x000d__x000d__x000d__x000d__x000d__x000d__x000d_ _x000d__x000d__x000d__x000d__x000d__x000d__x000d__x000d_',\n",
              " 'insulina glargina 100 ui / ml dispositivo ( tipo lapiz ) pre . cargado de 3 ml . * oferta debe incluir bonificación de 10 agujas 31 gx 4 mm por lápiz *',\n",
              " 'insulina glargina 100 ui / ml en lapices aplicadores prellenados , similar a lantus solostar',\n",
              " 'insulina glargina 100 ui / ml fa accion ultra lenta_x000d__x000d__x000d__x000d__x000d__x000d__x000d__x000d_',\n",
              " 'insulina glargina 100 ui / ml fa accion ultra lenta_x000d__x000d__x000d__x000d__x000d__x000d__x000d__x000d_ _x000d__x000d__x000d__x000d__x000d__x000d__x000d__x000d_ _x000d__x000d__x000d__x000d__x000d__x000d__x000d__x000d_',\n",
              " 'insulina glargina 100 ui / ml fa acción ultra lenta aplicador inyectable tipo lápiz 3 ml',\n",
              " 'insulina glargina 100 ui / ml lapiz 3 ml + 15 agujas por lapiz',\n",
              " 'insulina glargina 100 ui / ml lapiz 3 ml + 15 agujas por lapiz + estuche termico con gel',\n",
              " 'insulina glargina 100 ui / ml lapiz x 3 ml , lantus o similar deben incluir agujas ( para despacho parcializado de 300 unidades mensuales )',\n",
              " 'insulina glargina 100 ui / ml sugerencia , lantus caja conteniendo 1 lapiz _x000d__x000d__x000d__x000d__x000d__x000d__x000d__x000d_',\n",
              " 'insulina glargina 100 ui / ml x 3 ml ( lápiz desechable , con comodato de equipo )',\n",
              " 'insulina glargina 100 ui / ml x 3 ml solucion inyectable similar solostar',\n",
              " 'insulina glargina 100 ui / ml x 3 ml solucion inyectable similar solostar ( penfil )',\n",
              " 'insulina glargina 100 ui / ml x 3 ml solucion inyectable solostar ( penfil )',\n",
              " 'insulina glargina 100 ui x 10 ml',\n",
              " 'insulina glargina 100 ui x 10 ml fco amp . ( lantus )',\n",
              " 'insulina glargina 100 ui_x000d__x000d__x000d__x000d__x000d__x000d__x000d__x000d_ 262 - 054',\n",
              " 'insulina glargina 100 unidades ( equivalente a 3 . 64 mg ) por ml en dispositivo inyector de 3ml . presentación por 1 - 10 inyectores . _x000d__x000d__x000d__x000d__x000d__x000d__x000d__x000d_',\n",
              " 'insulina glargina 100mg / ml frasco 10 ml',\n",
              " 'insulina glargina 100u / ml x 3 ml lapiz similar a lantus solostar',\n",
              " 'insulina glargina 100u / ml x lapiz 3 ml similar a lantus solostar',\n",
              " 'insulina glargina 100ui / 1ml lapiz descartable 3ml',\n",
              " 'insulina glargina 100ui / ml . solución inyectable x 1 cartucho 3ml . similar a lantus solostar .....( indicar fecha de vencimiento y registro isp ).. _x000d__x000d__x000d__x000d__x000d__x000d__x000d__x000d_',\n",
              " 'insulina glargina 100ui / ml x 10ml ( tipo lantus o equivalente ) frasco - ampolla',\n",
              " 'insulina glargina 100ui / ml x 3ml ( tipo lantus o equivalente ) dispositivo inyector desechable',\n",
              " 'insulina glargina 100ui / ml x 3ml similar a lantus solostar',\n",
              " 'insulina glargina 3 , 6378 mg , similar a lantus 100u / ml',\n",
              " 'insulina glargina 3 . 64 mg , correspondiente a 100 u . i . de insulina humana . presentación en frasco vial ; equivalente a lantus 100 ui / ml frasco 10 ml',\n",
              " 'insulina glargina 3 . 64 mg , equivalentes a 100 u . i . de insulina humana en 3 ml presentación en dispositivo solostar prellenado desechable .; equivalente a lantus solostar 100 u / ml lápiz 3 ml - _x000d__x000d__x000d__x000d__x000d__x000d__x000d__x000d_ ver base',\n",
              " 'insulina glargina 300 u . i ./ ml lapiz 1 . 5 ml',\n",
              " 'insulina glargina 300 u / ml ( insulina glargina humana recombinante ) dispositivo tipo lapiz . pre cargado * oferta debe incluir bonificación de 10 agujas 31 gx 4 mm por lápiz *',\n",
              " 'insulina glargina 300 ui / 3 ml ( 100 ui / ml ) inyectable en lapiz prellenado',\n",
              " 'insulina glargina 300 ui / ml ( toujeo ( r )) con agujas por lapiz',\n",
              " 'insulina glargina 300 ui / ml , dispositivo inyector desechable ( tipo lapicera ), prellenado , conteniendo un cartucho cartridge 1 , 5 ml . unidad lápiz',\n",
              " 'insulina glargina 300 ui / ml . lapiz prellenado 1 . 5ml . similar a toujeo . . . . .. .. .. . .. .. ( se adjuntan bases administrativas y técnicas leerlas p / ofertar ) _x000d__x000d__x000d__x000d__x000d__x000d__x000d__x000d_',\n",
              " 'insulina glargina 300 ui / ml cartridge',\n",
              " 'insulina glargina 300 ui / ml l $ 2628451ud',\n",
              " 'insulina glargina 300 ui / ml lapiz 1 . 5 ml',\n",
              " 'insulina glargina 300 ui / ml lapiz 1 . 5 ml + 15 agujas por lapiz + estuche termico con gel',\n",
              " 'insulina glargina 300 ui / ml lapiz 1 . 5 ml .',\n",
              " 'insulina glargina 300 ui / ml lapiz prellenado / con 10 agujas 32 g x 4 mm por dispositivo de inyeccion tipo lapicera',\n",
              " 'insulina glargina 300 ui / ml lápiz 1 , 5ml igual a tujeo',\n",
              " 'insulina glargina 300 ui / ml lápiz 1 . 5 ml similar toujeo',\n",
              " 'insulina glargina 300 ui / ml x 1 , 5 ml ( lápiz desechable )',\n",
              " 'insulina glargina 300u / ml ( cod . int . 40400170196 )',\n",
              " 'insulina glargina 300u / ml , similar o equivalente a insulina toujeo , según lo requerido en bases administrativas , técnicas y anexos adjuntos .',\n",
              " 'insulina glargina 300ui / ml lapiz inyectable . fecha de vencimiento superior a 1 año desde la fecha de entrega . no se aceptan cartas de canje',\n",
              " 'insulina glargina 300ul ampolla',\n",
              " 'insulina glargina 450 ui / 1 , 5 ml ( 300 ui / ml ) inyectable en lapiz prellenado',\n",
              " 'insulina glargina 450 ui lapiz ( toujeo )',\n",
              " 'insulina glargina 450 ui lapiz ( toujeo ) _x000d__x000d__x000d__x000d__x000d__x000d__x000d__x000d_',\n",
              " 'insulina glargina caja 1 lápiz 3 ml 100 ui / ml , caja 1 lápiz',\n",
              " 'insulina glargina de 100ui / ml , lapiz aplicador desechable , se adjuntan especificaciones tecnicas .',\n",
              " 'insulina glargina fa 100 u . i ./ ml lapiz 3 ml solucion inyectable',\n",
              " 'insulina glargina fa 100 u . i / ml lapiz 3 ml solucion inyectable',\n",
              " 'insulina glargina fa 300 u . i ./ ml lapiz 1 . 5 ml solucion inyectable',\n",
              " 'insulina glargina humana 100 ui / ml , jeringa prellenada . especificar marca , características y presentación . consumo promedio mensual 600 unidades aprox',\n",
              " 'insulina glargina humana recombinante 100 u . i ./ ml soluc . iny 10 ml',\n",
              " 'insulina glargina humana recombinante 100 u . i / ml fa 10 ml',\n",
              " 'insulina glargina humana recombinante 100 ui / ml solución inyectable en dispositivo para inyección prellenado tipo lápiz descartable 3 ml ; mas 15 agujas en donación . vencimiento mayor a 18 meses desde el envío de oc',\n",
              " 'insulina glargina humana recombinante 100 ui / ml solución inyectable para administración subcutánea . dispositivo prellenado descartable de 3 ml .',\n",
              " 'insulina glargina humana recombinante 300 ui / ml solución inyectable para administración subcutánea . dispositivo prellenado de vidrio descartable de 1 , 5 ml .',\n",
              " 'insulina glargina humana recombinante solucion inyectable 100 ui / ml fc 10 ml_x000d__x000d__x000d__x000d__x000d__x000d__x000d__x000d_',\n",
              " 'insulina glargina humana solucion inyectable 300 u . i ./ ml dispositivo inyector desechable ( tipo lapicera )',\n",
              " 'insulina glargina lapiz 300 ui / ml',\n",
              " 'insulina glargina lápiz , según lo indicado en bases administrativas , técnicas y anexos adjuntos .',\n",
              " 'insulina glargina lápiz 100ui / ml x 3 ml excipientes : metacresol , cloruro de zinc , glicerol ( 85 %), hidróxido de sodio , acido clorhidriico concentrado , agua para inyectables c . s . similar a lantus más agujas compatible de 32g 4mm ( 15 agujas por lapiz ) entreg',\n",
              " 'insulina glargina lápiz 100ui / ml x 3 ml lantus más agujas compatible de 32g 4mm ( 15 agujas por lapiz )',\n",
              " 'insulina glargina lápiz 100ui / ml x 3 ml lantus más agujas compatible de 32g 4mm ( 15 agujas por lapiz ) entrega de forma parcializada según acuerdo .',\n",
              " 'insulina glargina rec 100 ui / ml fam10 ml',\n",
              " 'insulina glargina rec 100 ui / ml fam10 ml ( 100002079 )',\n",
              " 'insulina glargina rec 100 ui / ml fam10 ml 100002079',\n",
              " 'insulina glargina recomb 300 ui / ml lapiz 1 . 5ml_x000d__x000d__x000d__x000d__x000d__x000d__x000d__x000d_',\n",
              " 'insulina glargina recomb 300 ui / ml lapiz 100004060',\n",
              " 'insulina glargina solostar x 3 ml similar a lantus',\n",
              " 'insulina glargina tipo lapiz',\n",
              " 'insulina glargina tipo lapiz 0 , 5 u . i debe incluir el medicamento a administrar y el dispositivo de que otorgue la administracion de 0 . 5 u . i de dosis',\n",
              " 'insulina glargina tipo lápiz 0 , 5 u . i . debe incluir el medicamento a administrar y el dispositivo de que otorgue la administración de 0 . 5 u . i de dosis .',\n",
              " 'insulina glargina vial , según lo indicado en bases administrativas , técnicas y anexos adjuntos .',\n",
              " 'insulina glulisina 100 u . i ./ ml ( ultrarapida ) lapiz desechable 3 ml',\n",
              " 'insulina glulisina 100 ui / ml lapiz 3 ml + 15 agujas por lapiz',\n",
              " 'insulina glulisina 100 ui / ml lapiz 3 ml + 15 agujas por lapiz + estuche termico con gel',\n",
              " 'insulina glulisina 100 ui / ml lápiz x 3 ml excipientes : m - cresol , trometamol , cloruro de sodio , polisorbato 20 , acido clorhídrico y / o hidróxido de sodio , agua para inyectables más aguja compatible de 32g 4mm ( 15 agujas por lapiz )',\n",
              " 'insulina glulisina 100 ui / ml lápiz x 3 ml más aguja compatible de 32g 4mm ( 15 agujas por lapiz )',\n",
              " 'insulina glulisina 100 ui / ml solucion inyectable envasado en aplicador ( lapiz ) descartable mas 10 agujas de 32g x4mm compatible para uso aplicador ( lapiz ) descartable',\n",
              " 'insulina glulisina 100 ui / ml solución inyectable . vencimiento mayor a 18 meses desde el envió de la oc .',\n",
              " 'insulina glulisina 100 ui / ml x 3 ml ( lápiz desechable )',\n",
              " 'insulina glulisina 300 ui / 3 ml ( 100 ui / ml ) inyectable en lapiz prellenado',\n",
              " 'insulina glulisina 300 ui / 3 ml ( 100 ui / ml ) inyectable lápiz prellenado',\n",
              " 'insulina glulisina fa 100 ui / ml ultra rapida aplicador inyectable . debe incluir agujas para lápiz',\n",
              " 'insulina glulisina fa 100 ui / ml ultra rapida aplicador inyectable_x000d__x000d__x000d__x000d__x000d__x000d__x000d__x000d_',\n",
              " 'insulina glulisina solostar x 3 ml similar apidra_x000d__x000d__x000d__x000d__x000d__x000d__x000d__x000d_',\n",
              " 'insulina humalog frasco 100 ui / ml , frasco 10 ml',\n",
              " 'insulina humana , adnr ( producida por tecnología del adn recombinante en saccharomyces cerevisiae ) similar a insulatrad penfill . 100 ui / 1 ml suspensión inyectable .',\n",
              " 'insulina humana 100 ui / ml 1 vial x 10 ml similar a actrapid',\n",
              " 'insulina humana 30 % soluble / 70 % isofanica 100 ui / ml 10 ml cod . int . 40400170030_x000d__x000d__x000d__x000d__x000d__x000d__x000d__x000d_',\n",
              " 'insulina humana adn r 100 ui / ml . solución iny . x 10 ml . similar a actrapid . .....( indicar fecha de vencimiento y registro isp ).. _x000d__x000d__x000d__x000d__x000d__x000d__x000d__x000d_',\n",
              " 'insulina humana adn recombinante ( isofána ) 100 u . i ./ ml suspensión inyectable para administración subcutánea . frasco ampolla de vidrio . ( acción lenta )',\n",
              " 'insulina humana adn recombinante solucion inyectable vial 100 ui 1 vial de 10 ml contiene 1000 ui soluble biositentica',\n",
              " 'insulina humana bifasica insulina regular / insulina nph proporcion 30 / 70 frasco ampolla 100 u . i ./ 1 ml fc 10 ml',\n",
              " 'insulina humana biosintética de origen adn recombinante , producida a partir de saccharomyces cerevisiae con excipientes cloruro de zinc , glicerol , metacresol , hidróxido de sodio , ácido clorhídrico y agua para inyectables . ( ver base )',\n",
              " 'insulina humana cristalina - solucion inyectable 100 ui / 1 ml - via subcutanea - frasco ampolla multidosis 1000 ui_x000d__x000d__x000d__x000d__x000d__x000d__x000d__x000d_',\n",
              " 'insulina humana cristalina 100 ui / ml ( f . a . 10 ml ) ( aiu206 ) hosdip ai5206',\n",
              " 'insulina humana cristalina 100ui / ml solución inyectable 10ml',\n",
              " 'insulina humana cristalina fa 1000 , código hospital 2620046 .',\n",
              " 'insulina humana cristalina frasco ampolla 100 ui / ml solución inyectable . vencimiento mayor a 18 meses desde el envío de oc .',\n",
              " 'insulina humana cristalina sol . inyectable 100 iu / ml',\n",
              " 'insulina humana cristalina solucion inyectable 100 u . i ./ ml frasco 10 ml equivalente a actrapid_x000d__x000d__x000d__x000d__x000d__x000d__x000d__x000d_',\n",
              " 'insulina humana cristalina solucion inyectable subcutanea e intravenosa esteril , envase resistente con sello que asegure la inviolabilidad del contenido fecha de vencimiento superior a dos años',\n",
              " 'insulina humana cristalina – solución inyectable 100 ui / 10 ml – vía subcutánea – frasco ampolla multidosis 1 . 000 ui ( debe incluir insumos para administración como : agujas , bolsa para transporte y mantención de cadena de frio ( 262 - 050 - 00 )',\n",
              " 'insulina humana de acción intermedia isofana ( nph ). 100 u . i . cada 1 ml . presentación en cartridges para administración con dispositivo .; equivalente a insulatard hm 100 ui / ml 5 penfill 3 ml',\n",
              " 'insulina humana de acción intermedia isofana ( nph ). 100 u . i . cada 1 ml . presentación en frasco vial ; equivalente a i insulatard hm 100 ui / ml frasco 10 ml',\n",
              " 'insulina humana isofana ( adn recombinante ) equivalente a cada frasco ampolla contiene 100ui / ml de insulina humana isofana .',\n",
              " 'insulina humana isofana ( nph ) 100ui / ml suspension inyectable 10ml',\n",
              " 'insulina humana isofana ( nph ) sol . inyectable 100 iu / ml',\n",
              " 'insulina humana isofana ( nph ) suspension inyectable 100 u . i ./ ml frasco 10 ml equivalente a insulatard_x000d__x000d__x000d__x000d__x000d__x000d__x000d__x000d_',\n",
              " 'insulina humana isofana nph novo lenta 100 ui / ml',\n",
              " 'insulina humana isófana adn recombinante suspensión inyectable en vial 100 ui / ml envasado en vial de vidrio 10 ml vía de administración subcutánea envase resistente con sello que asegure inviolabilidad del contenido .',\n",
              " 'insulina humana isófana biosintética 100ui / ml frasco 10ml similar insulina insulatard hm',\n",
              " 'insulina humana lenta nph fa 1000 , código hospital 2620039 .',\n",
              " 'insulina humana monocomponente isofanica nph adn recombinante 100 u . i ./ ml susp iny 10 ml',\n",
              " 'insulina humana monocomponente isofanica nph adn recombinante 100 u . i ./ ml suspension inyectable frasco ampolla 10ml',\n",
              " 'insulina humana monocomponente isofanica nph adn recombinante 100u . i ./ ml suspension inyectable frasco ampolla 10 ml',\n",
              " 'insulina humana monocomponente isofanica nph adn recombinante100u . i ./ mlsuspension inyectable frasco ampolla 10 ml',\n",
              " 'insulina humana nph 1000 ui / 10 ml ( 100 ui / ml ) inyectable',\n",
              " 'insulina humana nph 1000 ui / 10 ml ( 100 ui / ml ) inyectable_x000d__x000d__x000d__x000d__x000d__x000d__x000d__x000d_',\n",
              " 'insulina humana nph cristalina fco amp . 100ui / ml ( linea 78 )',\n",
              " 'insulina humana rapida equivalente a cada ml solucion inyectable contiene 100 ui de insulina',\n",
              " 'insulina humana recombinante 100ui / ml , solucion inyectable en vial de 10 ml , insulina humanan de acción rápida',\n",
              " 'insulina humana recombinante 100ui / ml , solución inyectable en vial de 10 ml , insulina humana de acción rápida .',\n",
              " 'insulina humana recombinante glargina lenta lapiz autoinyectable',\n",
              " 'insulina humana soluble biosintética 100 u . i penfill similar actrapid penfill',\n",
              " 'insulina humana soluble biosintética 100ui / ml frasco 10ml similar actrapid',\n",
              " 'insulina insulatard ( humana )',\n",
              " 'insulina insulatard ( nph ) 100 u / ml x 10 ml',\n",
              " 'insulina insulatard nph lenta fa 100 ui frasco ampolla , especificar marca , características y presentacion . consumo promedio mensual 200 frascos aproximados .',\n",
              " 'insulina insulatard suspension inyectable 100 ui ml fa 10 ml . registro isp b - 1620 - 16 . vencimiento 31 - 08 - 2018 . lote fs60n01',\n",
              " 'insulina insulina lispro solucion inyectable 100 uiml x fa 10 ml , tipo humalog .',\n",
              " 'insulina intermedia humana , isofana adn recombinante 100 u / ml x 10 ml sc , similar insulatard uso ocasional sol . iny . ( fc ) _x000d__x000d__x000d__x000d__x000d__x000d__x000d__x000d_',\n",
              " 'insulina isofanica 100 ui / ml 5 ml o 10 ml cod . int . 40400170005',\n",
              " 'insulina isofanica humana ( n . p . h ) 100 ui / ml suspensión inyectable 10 ml_x000d__x000d__x000d__x000d__x000d__x000d__x000d__x000d_',\n",
              " 'insulina lantus solostar 100ui / ml',\n",
              " 'insulina lenta , según lo requerido en bases administrativas , técnicas y anexos adjuntos .',\n",
              " 'insulina lenta , suspensión inyectable 100 ui / ml , frasco ampolla 10 ml .',\n",
              " 'insulina lenta , suspensión inyectable 100 ui / ml , penfil ( cartridge ) de 3 ml . cartridge',\n",
              " 'insulina lenta 100 ui',\n",
              " 'insulina lenta fco . amp . ( linea 85 )',\n",
              " 'insulina lenta humana , adnr ( producida por tecnología del adn recombinante en saccharomyces cerevisiae ). cada 1 ml contiene : 100 ui de insulina humana . una ui ( unidad internacional ) corresponde a 0 . 035 mg de insulina humana anhidra . cantidad estimada 50 f',\n",
              " 'insulina lenta humana c / adn recombinante 100 u . i ./ 10 ml . vencimiento no inferior a junio 2021 , por lo cual el oferente debe consignar la fecha de vencimiento en su oferta técnica , asi como la forma farmacéutica .',\n",
              " 'insulina lenta humana isófana ( adn recombinante ), según lo exigido en bases administrativas y técnicas .',\n",
              " 'insulina lenta nph fc 20 ml',\n",
              " 'insulina lispro ( origen adn recombinante ) 100 u . 1 vial de 10 ml similar a humalog_x000d__x000d__x000d__x000d__x000d__x000d__x000d__x000d_',\n",
              " 'insulina lispro 100 u / ml 5 x 3 ml similar a humalog kwikpen',\n",
              " 'insulina lispro 100 u / ml 5 x 3ml similar a humalog kwikpen',\n",
              " 'insulina lispro 100ui / ml x 5 inyectores similar a humalog kwipen',\n",
              " 'insulina lispro catridge ( 2620034 )',\n",
              " 'insulina mezcla , suspensión inyectable 100 ui / ml , 30 % de insulina soluble asparta y 70 % de insulina asparta cristalizada con protamina , lápiz descartable 3 ml . unidad lápiz',\n",
              " 'insulina novorapid 100 ui / ml x 300 ui o equivalente terapeutico_x000d__x000d__x000d__x000d__x000d__x000d__x000d__x000d_ _x000d__x000d__x000d__x000d__x000d__x000d__x000d__x000d_',\n",
              " 'insulina nph ( isofana ) solucion inyectable 100 ui / ml',\n",
              " 'insulina nph ( isofana ) solucion inyectable 100 ui / ml fc 10 ml_x000d__x000d__x000d__x000d__x000d__x000d__x000d__x000d_',\n",
              " 'insulina nph 10 ui / ml , frasco ampolla',\n",
              " 'insulina nph 10 ui / ml fa ( consumo prom . mens : 1 . 500 ) _x000d__x000d__x000d__x000d__x000d__x000d__x000d__x000d_ _x000d__x000d__x000d__x000d__x000d__x000d__x000d__x000d_',\n",
              " 'insulina nph 100 u . i / ml , frasco ampolla 10 ml',\n",
              " 'insulina nph 100 u . i / ml . frasco ampolla 10 ml . solicitud por unidad .',\n",
              " 'insulina nph 100 ui / ml',\n",
              " 'insulina nph 100 ui / ml ( f . a . 10 ml ) ( aiu207 ) hosdip ai5207',\n",
              " 'insulina nph 100 ui / ml , lápiz 3 ml',\n",
              " 'insulina nph 100 ui / ml frasco ampolla 10 ml',\n",
              " 'insulina nph 100 ui / ml frasco ampolla 10 ml_x000d__x000d__x000d__x000d__x000d__x000d__x000d_ _x000d__x000d__x000d__x000d__x000d__x000d__x000d_',\n",
              " 'insulina nph 100 ui / ml frascos de 10 ml_x000d__x000d__x000d__x000d__x000d__x000d__x000d__x000d_',\n",
              " 'insulina nph 100 ui / ml sol . inyectable',\n",
              " 'insulina nph 100ui / ml',\n",
              " 'insulina nph 100ui / ml , solucion inyectable en vial de 10 ml , insulina humana de larga duracion',\n",
              " 'insulina nph 100ui / ml , solución inyectable en vial de 10 ml , insulina humana de larga duración',\n",
              " 'insulina nph 100ui / ml . cotizar por frasco ampolla . vencimiento igual o superior a 12 meses . indicar por linea vencimiento y monto mínimo de facturación y despacho . cotizar solo con stock .',\n",
              " 'insulina nph cartucho 100ui / ml 3 ml , código hospital 2620029 .',\n",
              " 'insulina nph f 100 ui / ml 10 ml solucion inyectable',\n",
              " 'insulina nph fa 100 ui / ml 10 ml solucion inyectable',\n",
              " 'insulina nph frasco',\n",
              " 'insulina nph frasco 100 ui / ml frascos .',\n",
              " 'insulina nph frasco _x000d__x000d__x000d__x000d__x000d__x000d__x000d__x000d_',\n",
              " 'insulina nph humana 100 ui',\n",
              " 'insulina nph humana 100 ui / ml fam 10 ml',\n",
              " 'insulina nph humana 100 ui / ml fam 10 ml ( 100000824 ) n',\n",
              " 'insulina nph humana 100 ui / ml fam 10 ml_x000d__x000d__x000d__x000d__x000d__x000d__x000d__x000d_',\n",
              " 'insulina nph humana 100 ui / ml penfill ( 100005506 ) _x000d__x000d__x000d__x000d__x000d__x000d__x000d__x000d_',\n",
              " 'insulina nph humana fa 100 ui / ml',\n",
              " 'insulina nph lenta fa',\n",
              " 'insulina rapida . cada ml de solución contiene : 100 u de insulina asparta * ( equivalente a 3 . 5 mg ). 1 vial contiene : 10 ml equivalentes a 1 . 000 u . cantidad estimada 50 frascos',\n",
              " 'insulina rapida humana c / adn recombinante 100 ui / 10 ml . vencimiento no inferior a junio 2021 , por lo cual el oferente debe consignar la fecha de vencimiento en su oferta técnica , asi como la forma farmacéutica .',\n",
              " 'insulina rapida para lapiz 1 / 2 u . i . cartucho , especificar marca , caracteristicas y presentacion . ( consumo promedio mensual 50 frascos aproximados ).',\n",
              " 'insulina retard 100ui / ml ( indicar valor unitario neto ).',\n",
              " 'insulina retarda nph humana 100 ui / ml 10ml ( debe incluir insumos para administración como : agujas , bolsa para transporte y mantención de cadena de frio ( 262 - 051 - 00 )',\n",
              " 'insulina retardada 10 ml ( insulatard ) novo nordisk',\n",
              " 'insulina retardada 10 ml ( insulatard ) novo nordisk_x000d__x000d__x000d__x000d__x000d__x000d__x000d__x000d_',\n",
              " 'insulina retardada 10 ml / 100 ui , cotizar x frasco , indicar vencimiento .',\n",
              " 'insulina retardada 100 ui / 10 ml , cotizar x frasco indicar vencimiento',\n",
              " 'insulina retardada 100ui / ml 10 ml',\n",
              " 'insulina retardada humana 100 ui / ml 10 ml . fa . con vencimiento superior a 12 meses .',\n",
              " 'insulina retardada humana 100ui / ml iny',\n",
              " 'insulina retardada humana monocomponente isofanica nph adn recombinante susp inyectable 100 ui / ml fa 10 ml',\n",
              " 'insulina retardada n . p . h . humana 100 ui / 1 ml fa 10 ml _x000d__x000d__x000d__x000d__x000d__x000d__x000d__x000d_',\n",
              " 'insulina retardada nph 100 ui / ml ( lenta )',\n",
              " 'insulina retardada nph 100 ui / ml fc 10 ml_x000d__x000d__x000d__x000d__x000d__x000d__x000d__x000d_',\n",
              " 'insulina retardada nph 100 ui / mlsolucion inyectable . vencimiento mayor a 18 meses desde el envió de la oc .',\n",
              " 'insulina rápida , según lo requerido en bases administrativas , técnicas y anexos adjuntos .',\n",
              " 'insulina rápida humana ( adn recombinante ), según lo exigido en bases administrativas y técnicas .',\n",
              " 'insulina rápida lápiz , según lo requerido en bases administrativas , técnicas y anexos adjuntos .',\n",
              " 'insulina tresiba',\n",
              " 'insulina tresiba 100 u / ml 1 x 3 ml lápiz',\n",
              " 'insulina tresiba 100 ui / ml 300 ui o equivalente terapeutico_x000d__x000d__x000d__x000d__x000d__x000d__x000d__x000d_',\n",
              " 'insulina tresiba flextouch 100u / ml cod . int . 040400170201',\n",
              " 'insulina ultra lenta glargina 300ui / 1ml lapiz 1 . 5ml , 10 agujas x lapiz',\n",
              " 'insulina ultra rapida 100 u / ml fam / cge',\n",
              " 'insulina ultra rapida 100 u / ml fam / cge 100001970',\n",
              " 'insulina ultra rapida 100 ui / ml fam / cge ( 100001970 )',\n",
              " 'insulina ultra rapida 100ui / ml fam / cge',\n",
              " 'insulina ultralenta degludec 100ui / ml lapiz desechable 3ml ( 2620067 )',\n",
              " 'insulina ultralenta degludec 100ui / ml x 3ml ( tipo tresiba o equivalente ) dispositivo inyector desechable',\n",
              " 'insulina ultralenta detemir 100 ui / ml lapiz desechable 3ml ( 2620021 )',\n",
              " 'insulina ultralenta detemir 100ui / ml x 3ml ( tipo levemir o equivalente ) dispositivo inyector desechable',\n",
              " 'insulina ultralenta glargina 100 ui / ml lapiz desechable 3ml . jeringa prellenada ( 2620928 )',\n",
              " 'insulina ultralenta glargina 100 ui / ml lápiz desechable 3ml . jeringa prellenada ( 2620928 )',\n",
              " 'insulina ultralenta glargina 300 ui / ml lapiz desechable 1 , 5 ml ( 2620047 )',\n",
              " 'insulina ultrapida lispro 100 ui / ml cartucho 3ml ( 2620034 )',\n",
              " 'insulina ultrarapida 100ui / ml , lapiz con 3ml_x000d__x000d__x000d__x000d__x000d__x000d__x000d__x000d_ 262 - 057 - 01_x000d__x000d__x000d__x000d__x000d__x000d__x000d__x000d_',\n",
              " 'insulina ultrarapida glulisina 100 ui / ml 3 ml ( cod . int . 40400170113 )',\n",
              " 'item n ° 33 , insulina cristalina 100ui / ml según especificaciones técnicas .',\n",
              " 'item n ° 34 , insulina lenta humana 100ui . según especificaciones técnicas .',\n",
              " 'lantus 100 u / ml insulina glargina , solucion inyectable',\n",
              " 'lantus 100ui / ml 3ml x1 cartucho , insulina glargina_x000d__x000d__x000d__x000d__x000d__x000d__x000d_',\n",
              " 'lo que se requiere es insulina asparta bifasica 30 / 70',\n",
              " 'lo que se requiere es insulina degludec 100 ui / ml lapicera prellenada 3 ml tipo tresiba',\n",
              " 'lo que se requiere es insulina degludec en 3 ml lapiz',\n",
              " 'lo que se requiere es insulina glardina 300 ui lapiz que contenga 1 . 5 ml de solución',\n",
              " 'm01f0042 insulina cristalina 100ui / ml 10 ml',\n",
              " 'm01f0043 insulina lenta nph 100ui / ml fco . 10',\n",
              " 'se requiere adquirir insulina isofanica humana ( n . p . h ) 100 ui / ml suspension inyectable 10 ml / fco',\n",
              " 'suministro de insulina cris . humana 100 ui / ml frasco 10ml',\n",
              " 'suministro de insulina glargina : 3 . 6378 mg ( equivalentes a 100 u de insulina recombinante humana / ml ) equivalente a lantus solostar , caja dispositivo prellenado x 3 ml',\n",
              " 'suministro de insulina nph 100 ui / ml frasco ampolla',\n",
              " 'tresiba insulina',\n",
              " 'unidad insulina degludec 100 unidades por ml de solucion ( 1 x 3 ml ) _x000d__x000d__x000d__x000d__x000d__x000d__x000d_ nota : se sugiere fecha de vencimiento superior a 1 año o en caso contrario contar con politicas de canje'}"
            ]
          },
          "metadata": {},
          "execution_count": 198
        }
      ]
    },
    {
      "cell_type": "code",
      "source": [
        "dictionary_medicine_name[154]"
      ],
      "metadata": {
        "colab": {
          "base_uri": "https://localhost:8080/",
          "height": 35
        },
        "id": "c0ya5Kw_vDw3",
        "outputId": "3844c130-f0a5-419a-cd2b-f69948114095"
      },
      "id": "c0ya5Kw_vDw3",
      "execution_count": null,
      "outputs": [
        {
          "output_type": "execute_result",
          "data": {
            "text/plain": [
              "'insulina'"
            ],
            "application/vnd.google.colaboratory.intrinsic+json": {
              "type": "string"
            }
          },
          "metadata": {},
          "execution_count": 334
        }
      ]
    },
    {
      "cell_type": "code",
      "source": [
        "total_list_155 = [' '.join(row) for row in total_list[125]]\n",
        "set(total_list_155)\n",
        "#dictionary_medicine_name[155]"
      ],
      "metadata": {
        "colab": {
          "base_uri": "https://localhost:8080/"
        },
        "id": "EULUc2T4vDtf",
        "outputId": "d92d94e8-f06c-4585-aabf-85858dd654c3"
      },
      "id": "EULUc2T4vDtf",
      "execution_count": 199,
      "outputs": [
        {
          "output_type": "execute_result",
          "data": {
            "text/plain": [
              "{'262 - 0214 insulinas análoga uitra rápida 300 u / 3ml con evidencia para uso en embarazo o mujeres en edad fértil y para poblaciones con alto riesgo de hipoglicemias en dm1 o población adulto mayor .”'}"
            ]
          },
          "metadata": {},
          "execution_count": 199
        }
      ]
    },
    {
      "cell_type": "code",
      "source": [
        "dictionary_medicine_name[155]"
      ],
      "metadata": {
        "colab": {
          "base_uri": "https://localhost:8080/",
          "height": 35
        },
        "id": "19jmSCJvvDng",
        "outputId": "70880e68-67f5-4fe2-d445-da9cdcb9bfcb"
      },
      "id": "19jmSCJvvDng",
      "execution_count": null,
      "outputs": [
        {
          "output_type": "execute_result",
          "data": {
            "text/plain": [
              "'insulinas'"
            ],
            "application/vnd.google.colaboratory.intrinsic+json": {
              "type": "string"
            }
          },
          "metadata": {},
          "execution_count": 336
        }
      ]
    },
    {
      "cell_type": "code",
      "source": [
        "total_list_156 = [' '.join(row) for row in total_list[126]]\n",
        "set(total_list_156)\n",
        "#dictionary_medicine_name[156]"
      ],
      "metadata": {
        "colab": {
          "base_uri": "https://localhost:8080/"
        },
        "id": "oBGTUDTxvDeW",
        "outputId": "3dd1372e-b91f-4f52-e977-3921290456b7"
      },
      "id": "oBGTUDTxvDeW",
      "execution_count": 200,
      "outputs": [
        {
          "output_type": "execute_result",
          "data": {
            "text/plain": [
              "{'insulinda degludec 100u / ml x 3 ml similar a tresiba flex touch'}"
            ]
          },
          "metadata": {},
          "execution_count": 200
        }
      ]
    },
    {
      "cell_type": "code",
      "source": [
        "dictionary_medicine_name[156]"
      ],
      "metadata": {
        "colab": {
          "base_uri": "https://localhost:8080/",
          "height": 35
        },
        "id": "5_QcGS5hvDUA",
        "outputId": "9313b428-ee1a-4e0d-dfd3-57f4dcb1c0d2"
      },
      "id": "5_QcGS5hvDUA",
      "execution_count": null,
      "outputs": [
        {
          "output_type": "execute_result",
          "data": {
            "text/plain": [
              "'insulinda'"
            ],
            "application/vnd.google.colaboratory.intrinsic+json": {
              "type": "string"
            }
          },
          "metadata": {},
          "execution_count": 338
        }
      ]
    },
    {
      "cell_type": "code",
      "source": [
        "total_list_157 = [' '.join(row) for row in total_list[127]]\n",
        "set(total_list_157)\n",
        "#dictionary_medicine_name[157]"
      ],
      "metadata": {
        "colab": {
          "base_uri": "https://localhost:8080/"
        },
        "id": "iXK_zJ0TvDJs",
        "outputId": "0ce391ef-7ac2-44d7-ced5-d38bb421e4de"
      },
      "id": "iXK_zJ0TvDJs",
      "execution_count": 201,
      "outputs": [
        {
          "output_type": "execute_result",
          "data": {
            "text/plain": [
              "{'1092011 - 4 insulina isofánica humana recombinantea 100ui / ml 10ml fco amp . suspension inyectable , o equivalente a insulina insuman n 100ui / ml intermedia',\n",
              " '1092011 - 4 insulina isofánica humana recombinantea 100ui / ml _x000d__x000d__x000d__x000d__x000d__x000d__x000d__x000d_ 10ml fco amp . suspension inyectable , o equivalente a insulina insuman n 100ui / ml intermedia'}"
            ]
          },
          "metadata": {},
          "execution_count": 201
        }
      ]
    },
    {
      "cell_type": "code",
      "source": [
        "dictionary_medicine_name[157]"
      ],
      "metadata": {
        "colab": {
          "base_uri": "https://localhost:8080/",
          "height": 35
        },
        "id": "l0A2xBQfwFWU",
        "outputId": "2869df99-6702-43bb-e64c-eb1879b4631b"
      },
      "id": "l0A2xBQfwFWU",
      "execution_count": null,
      "outputs": [
        {
          "output_type": "execute_result",
          "data": {
            "text/plain": [
              "'insuman'"
            ],
            "application/vnd.google.colaboratory.intrinsic+json": {
              "type": "string"
            }
          },
          "metadata": {},
          "execution_count": 342
        }
      ]
    },
    {
      "cell_type": "code",
      "source": [
        "total_list_158 = [' '.join(row) for row in total_list[128]]\n",
        "set(total_list_158)\n",
        "#dictionary_medicine_name[158]"
      ],
      "metadata": {
        "colab": {
          "base_uri": "https://localhost:8080/"
        },
        "id": "VQVuUWI-wFSM",
        "outputId": "4716978e-bb26-4822-e29e-84a7c639e795"
      },
      "id": "VQVuUWI-wFSM",
      "execution_count": 202,
      "outputs": [
        {
          "output_type": "execute_result",
          "data": {
            "text/plain": [
              "{'insuñlina degludec 100 ui / ml x 3 ml similar a tresiba flex touch'}"
            ]
          },
          "metadata": {},
          "execution_count": 202
        }
      ]
    },
    {
      "cell_type": "code",
      "source": [
        "dictionary_medicine_name[158]"
      ],
      "metadata": {
        "colab": {
          "base_uri": "https://localhost:8080/",
          "height": 35
        },
        "id": "jZJsKx80wFO5",
        "outputId": "8176be88-d48b-4a9e-e7e5-73859090c14c"
      },
      "id": "jZJsKx80wFO5",
      "execution_count": null,
      "outputs": [
        {
          "output_type": "execute_result",
          "data": {
            "text/plain": [
              "'insuñlina'"
            ],
            "application/vnd.google.colaboratory.intrinsic+json": {
              "type": "string"
            }
          },
          "metadata": {},
          "execution_count": 344
        }
      ]
    },
    {
      "cell_type": "code",
      "source": [
        "total_list_159 = [' '.join(row) for row in total_list[129]]\n",
        "total_list_159\n",
        "#dictionary_medicine_name[159]"
      ],
      "metadata": {
        "colab": {
          "base_uri": "https://localhost:8080/"
        },
        "id": "ryugzsEQwFLa",
        "outputId": "509234d2-1fee-437e-a760-05c4ba51f29c"
      },
      "id": "ryugzsEQwFLa",
      "execution_count": null,
      "outputs": [
        {
          "output_type": "execute_result",
          "data": {
            "text/plain": [
              "[]"
            ]
          },
          "metadata": {},
          "execution_count": 347
        }
      ]
    },
    {
      "cell_type": "code",
      "source": [
        "dictionary_medicine_name[159]"
      ],
      "metadata": {
        "colab": {
          "base_uri": "https://localhost:8080/",
          "height": 35
        },
        "id": "wl4Q_V5pwFH8",
        "outputId": "7a873a81-5015-4257-e0a9-74613edeb843"
      },
      "id": "wl4Q_V5pwFH8",
      "execution_count": null,
      "outputs": [
        {
          "output_type": "execute_result",
          "data": {
            "text/plain": [
              "'inuslina'"
            ],
            "application/vnd.google.colaboratory.intrinsic+json": {
              "type": "string"
            }
          },
          "metadata": {},
          "execution_count": 346
        }
      ]
    },
    {
      "cell_type": "code",
      "source": [
        "total_list_160 = [' '.join(row) for row in total_list[130]]\n",
        "set(total_list_160)\n",
        "#dictionary_medicine_name[160]"
      ],
      "metadata": {
        "colab": {
          "base_uri": "https://localhost:8080/"
        },
        "id": "n7VaQbA_wFE5",
        "outputId": "1a2258b7-be62-4f34-8e3a-25b528de47d0"
      },
      "id": "n7VaQbA_wFE5",
      "execution_count": 203,
      "outputs": [
        {
          "output_type": "execute_result",
          "data": {
            "text/plain": [
              "{'insulina degludec , cada ml contiene 100 ui . un dispositivo prellenado contiene : 300 unidades de isnulina degludec en 3 ml de solucion . producida en saccharomyces cerevisiae por medio de la tecnologia de adn recombinante . tresiba o similar .'}"
            ]
          },
          "metadata": {},
          "execution_count": 203
        }
      ]
    },
    {
      "cell_type": "code",
      "source": [
        "dictionary_medicine_name[160]"
      ],
      "metadata": {
        "colab": {
          "base_uri": "https://localhost:8080/",
          "height": 35
        },
        "id": "C9MMNnFpwFBe",
        "outputId": "429a10b3-902a-4a44-f5fa-d8caed675be0"
      },
      "id": "C9MMNnFpwFBe",
      "execution_count": null,
      "outputs": [
        {
          "output_type": "execute_result",
          "data": {
            "text/plain": [
              "'isnulina'"
            ],
            "application/vnd.google.colaboratory.intrinsic+json": {
              "type": "string"
            }
          },
          "metadata": {},
          "execution_count": 348
        }
      ]
    },
    {
      "cell_type": "code",
      "source": [
        "total_list_161 = [' '.join(row) for row in total_list[131]]\n",
        "set(total_list_161)\n",
        "#dictionary_medicine_name[161]"
      ],
      "metadata": {
        "colab": {
          "base_uri": "https://localhost:8080/"
        },
        "id": "HJxGoumWwE9x",
        "outputId": "36d7a32f-6a76-4314-c4ad-8efeb1c8f291"
      },
      "id": "HJxGoumWwE9x",
      "execution_count": 204,
      "outputs": [
        {
          "output_type": "execute_result",
          "data": {
            "text/plain": [
              "{'262 - 8454 insulina isofana hum 100ui / ml fco 10ml',\n",
              " 'insulina humana de acción intermedia isofana ( nph ). 100 u . i . cada 1 ml . presentación en cartridges para administración con dispositivo .; equivalente a insulatard hm 100 ui / ml 5 penfill 3 ml',\n",
              " 'insulina humana de acción intermedia isofana ( nph ). 100 u . i . cada 1 ml . presentación en frasco vial ; equivalente a i insulatard hm 100 ui / ml frasco 10 ml',\n",
              " 'insulina humana isofana ( adn recombinante ) equivalente a cada frasco ampolla contiene 100ui / ml de insulina humana isofana .',\n",
              " 'insulina humana isofana ( nph ) 100ui / ml suspension inyectable 10ml',\n",
              " 'insulina humana isofana ( nph ) sol . inyectable 100 iu / ml',\n",
              " 'insulina humana isofana ( nph ) suspension inyectable 100 u . i ./ ml frasco 10 ml equivalente a insulatard_x000d__x000d__x000d__x000d__x000d__x000d__x000d__x000d_',\n",
              " 'insulina humana isofana nph novo lenta 100 ui / ml',\n",
              " 'insulina intermedia humana , isofana adn recombinante 100 u / ml x 10 ml sc , similar insulatard uso ocasional sol . iny . ( fc ) _x000d__x000d__x000d__x000d__x000d__x000d__x000d__x000d_',\n",
              " 'insulina nph ( isofana ) solucion inyectable 100 ui / ml',\n",
              " 'insulina nph ( isofana ) solucion inyectable 100 ui / ml fc 10 ml_x000d__x000d__x000d__x000d__x000d__x000d__x000d__x000d_'}"
            ]
          },
          "metadata": {},
          "execution_count": 204
        }
      ]
    },
    {
      "cell_type": "code",
      "source": [
        "dictionary_medicine_name[161]"
      ],
      "metadata": {
        "colab": {
          "base_uri": "https://localhost:8080/",
          "height": 35
        },
        "id": "1fg33QDIwE6K",
        "outputId": "18453960-6f99-4b27-f773-de9a23446134"
      },
      "id": "1fg33QDIwE6K",
      "execution_count": null,
      "outputs": [
        {
          "output_type": "execute_result",
          "data": {
            "text/plain": [
              "'isofana'"
            ],
            "application/vnd.google.colaboratory.intrinsic+json": {
              "type": "string"
            }
          },
          "metadata": {},
          "execution_count": 350
        }
      ]
    },
    {
      "cell_type": "code",
      "source": [
        "total_list_162 = [' '.join(row) for row in total_list[132]]\n",
        "set(total_list_162)\n",
        "#dictionary_medicine_name[162]"
      ],
      "metadata": {
        "colab": {
          "base_uri": "https://localhost:8080/"
        },
        "id": "SB7cNTwrwE2N",
        "outputId": "7e41c3b9-29a8-486c-a212-637b0a2aa72f"
      },
      "id": "SB7cNTwrwE2N",
      "execution_count": 205,
      "outputs": [
        {
          "output_type": "execute_result",
          "data": {
            "text/plain": [
              "{'cód .: 2200042_x000d__x000d__x000d__x000d__x000d__x000d__x000d__x000d_ insulina humana monocomponente isofanica nph adn recombinante 100ui / ml suspension inyectable frasco ampolla 10 ml_x000d__x000d__x000d__x000d__x000d__x000d__x000d__x000d_',\n",
              " 'insulina humana 30 % soluble / 70 % isofanica 100 ui / ml 10 ml cod . int . 40400170030_x000d__x000d__x000d__x000d__x000d__x000d__x000d__x000d_',\n",
              " 'insulina humana monocomponente isofanica nph adn recombinante 100 u . i ./ ml susp iny 10 ml',\n",
              " 'insulina humana monocomponente isofanica nph adn recombinante 100 u . i ./ ml suspension inyectable frasco ampolla 10ml',\n",
              " 'insulina humana monocomponente isofanica nph adn recombinante 100u . i ./ ml suspension inyectable frasco ampolla 10 ml',\n",
              " 'insulina humana monocomponente isofanica nph adn recombinante100u . i ./ mlsuspension inyectable frasco ampolla 10 ml',\n",
              " 'insulina isofanica 100 ui / ml 5 ml o 10 ml cod . int . 40400170005',\n",
              " 'insulina isofanica humana ( n . p . h ) 100 ui / ml suspensión inyectable 10 ml_x000d__x000d__x000d__x000d__x000d__x000d__x000d__x000d_',\n",
              " 'insulina retardada humana monocomponente isofanica nph adn recombinante susp inyectable 100 ui / ml fa 10 ml',\n",
              " 'se requiere adquirir insulina isofanica humana ( n . p . h ) 100 ui / ml suspension inyectable 10 ml / fco'}"
            ]
          },
          "metadata": {},
          "execution_count": 205
        }
      ]
    },
    {
      "cell_type": "code",
      "source": [
        "dictionary_medicine_name[162]"
      ],
      "metadata": {
        "colab": {
          "base_uri": "https://localhost:8080/",
          "height": 35
        },
        "id": "XQWMn5YnwEyq",
        "outputId": "96c4ade1-49cc-4782-f059-b39c1930ee55"
      },
      "id": "XQWMn5YnwEyq",
      "execution_count": null,
      "outputs": [
        {
          "output_type": "execute_result",
          "data": {
            "text/plain": [
              "'isofanica'"
            ],
            "application/vnd.google.colaboratory.intrinsic+json": {
              "type": "string"
            }
          },
          "metadata": {},
          "execution_count": 352
        }
      ]
    },
    {
      "cell_type": "code",
      "source": [
        "total_list_163 = [' '.join(row) for row in total_list[133]]\n",
        "set(total_list_163)\n",
        "#dictionary_medicine_name[163]"
      ],
      "metadata": {
        "colab": {
          "base_uri": "https://localhost:8080/"
        },
        "id": "3sfRhi2EwEuN",
        "outputId": "1690acee-b667-4bbe-ce0c-2d04baefcf71"
      },
      "id": "3sfRhi2EwEuN",
      "execution_count": 206,
      "outputs": [
        {
          "output_type": "execute_result",
          "data": {
            "text/plain": [
              "{'insulina humana adn recombinante ( isofána ) 100 u . i ./ ml suspensión inyectable para administración subcutánea . frasco ampolla de vidrio . ( acción lenta )'}"
            ]
          },
          "metadata": {},
          "execution_count": 206
        }
      ]
    },
    {
      "cell_type": "code",
      "source": [
        "dictionary_medicine_name[163]"
      ],
      "metadata": {
        "colab": {
          "base_uri": "https://localhost:8080/",
          "height": 35
        },
        "id": "881n410D3Id6",
        "outputId": "76decd65-667a-46ad-b4d8-6f2adde59b28"
      },
      "id": "881n410D3Id6",
      "execution_count": null,
      "outputs": [
        {
          "output_type": "execute_result",
          "data": {
            "text/plain": [
              "'isofána'"
            ],
            "application/vnd.google.colaboratory.intrinsic+json": {
              "type": "string"
            }
          },
          "metadata": {},
          "execution_count": 354
        }
      ]
    },
    {
      "cell_type": "code",
      "source": [
        "total_list_164 = [' '.join(row) for row in total_list[134]]\n",
        "set(total_list_164)\n",
        "#dictionary_medicine_name[164]"
      ],
      "metadata": {
        "colab": {
          "base_uri": "https://localhost:8080/"
        },
        "id": "CyBMztIt3IY5",
        "outputId": "8ce47534-ccc1-45aa-91c1-a08ce99f79ca"
      },
      "id": "CyBMztIt3IY5",
      "execution_count": 207,
      "outputs": [
        {
          "output_type": "execute_result",
          "data": {
            "text/plain": [
              "{'\" insulina isofánica 100 ui / ml . frasco suspension x 10 ml . similar a insulatard hm . . . . . . .. . .. . .. . . . .( se adjuntan bases administrativas y técnicas \"\" leerlas p / ofertar \"\")\"',\n",
              " '\" insulina isofánica 100 ui / ml . frasco suspensión x 10 ml . similar a insulatard hm . . .. . . . . . . . . . . . ..( se adjuntan bases administrativas y técnicas \"\" leerlas p / ofertar )\"',\n",
              " '1092011 - 4 insulina isofánica humana recombinantea 100ui / ml 10ml fco amp . suspension inyectable , o equivalente a insulina insuman n 100ui / ml intermedia',\n",
              " '1092011 - 4 insulina isofánica humana recombinantea 100ui / ml _x000d__x000d__x000d__x000d__x000d__x000d__x000d__x000d_ 10ml fco amp . suspension inyectable , o equivalente a insulina insuman n 100ui / ml intermedia'}"
            ]
          },
          "metadata": {},
          "execution_count": 207
        }
      ]
    },
    {
      "cell_type": "code",
      "source": [
        "dictionary_medicine_name[164]"
      ],
      "metadata": {
        "colab": {
          "base_uri": "https://localhost:8080/",
          "height": 35
        },
        "id": "qp0Vh5J63ISA",
        "outputId": "77e95829-42b2-45fe-d3f7-ff299733209c"
      },
      "id": "qp0Vh5J63ISA",
      "execution_count": null,
      "outputs": [
        {
          "output_type": "execute_result",
          "data": {
            "text/plain": [
              "'isofánica'"
            ],
            "application/vnd.google.colaboratory.intrinsic+json": {
              "type": "string"
            }
          },
          "metadata": {},
          "execution_count": 356
        }
      ]
    },
    {
      "cell_type": "code",
      "source": [
        "total_list_165 = [' '.join(row) for row in total_list[135]]\n",
        "total_list_165\n",
        "#dictionary_medicine_name[165]"
      ],
      "metadata": {
        "colab": {
          "base_uri": "https://localhost:8080/"
        },
        "id": "ff2aDEk23INb",
        "outputId": "fd19dd6a-3fad-4962-e268-0c060a47907f"
      },
      "id": "ff2aDEk23INb",
      "execution_count": null,
      "outputs": [
        {
          "output_type": "execute_result",
          "data": {
            "text/plain": [
              "['isradipina']"
            ]
          },
          "metadata": {},
          "execution_count": 360
        }
      ]
    },
    {
      "cell_type": "code",
      "source": [
        "dictionary_medicine_name[165]"
      ],
      "metadata": {
        "colab": {
          "base_uri": "https://localhost:8080/",
          "height": 35
        },
        "id": "Wd2APc6D3IJ0",
        "outputId": "c3efe3e4-ae72-49ce-fd73-4304cedbebac"
      },
      "id": "Wd2APc6D3IJ0",
      "execution_count": null,
      "outputs": [
        {
          "output_type": "execute_result",
          "data": {
            "text/plain": [
              "'isradipina'"
            ],
            "application/vnd.google.colaboratory.intrinsic+json": {
              "type": "string"
            }
          },
          "metadata": {},
          "execution_count": 359
        }
      ]
    },
    {
      "cell_type": "code",
      "source": [
        "total_list_166 = [' '.join(row) for row in total_list[136]]\n",
        "set(total_list_166)\n",
        "#dictionary_medicine_name[166]"
      ],
      "metadata": {
        "colab": {
          "base_uri": "https://localhost:8080/"
        },
        "id": "w7d8_Ppi3IFx",
        "outputId": "ada4e911-1536-4777-9146-0f270285a3cb"
      },
      "id": "w7d8_Ppi3IFx",
      "execution_count": 208,
      "outputs": [
        {
          "output_type": "execute_result",
          "data": {
            "text/plain": [
              "{'insulina humana isófana adn recombinante suspensión inyectable en vial 100 ui / ml envasado en vial de vidrio 10 ml vía de administración subcutánea envase resistente con sello que asegure inviolabilidad del contenido .',\n",
              " 'insulina humana isófana biosintética 100ui / ml frasco 10ml similar insulina insulatard hm',\n",
              " 'insulina lenta humana isófana ( adn recombinante ), según lo exigido en bases administrativas y técnicas .'}"
            ]
          },
          "metadata": {},
          "execution_count": 208
        }
      ]
    },
    {
      "cell_type": "code",
      "source": [
        "dictionary_medicine_name[166]"
      ],
      "metadata": {
        "colab": {
          "base_uri": "https://localhost:8080/",
          "height": 35
        },
        "id": "5c8nYVwL3ICb",
        "outputId": "4133c53c-6ee6-4efb-890e-57cf48c2b535"
      },
      "id": "5c8nYVwL3ICb",
      "execution_count": null,
      "outputs": [
        {
          "output_type": "execute_result",
          "data": {
            "text/plain": [
              "'isófana'"
            ],
            "application/vnd.google.colaboratory.intrinsic+json": {
              "type": "string"
            }
          },
          "metadata": {},
          "execution_count": 361
        }
      ]
    },
    {
      "cell_type": "code",
      "source": [
        "total_list_167 = [' '.join(row) for row in total_list[137]]\n",
        "set(total_list_167)\n",
        "#dictionary_medicine_name[167]"
      ],
      "metadata": {
        "colab": {
          "base_uri": "https://localhost:8080/"
        },
        "id": "DOSxepzm3H9h",
        "outputId": "d1c8257c-9eb6-4ca2-97ae-0f9f0bc4e928"
      },
      "id": "DOSxepzm3H9h",
      "execution_count": 209,
      "outputs": [
        {
          "output_type": "execute_result",
          "data": {
            "text/plain": [
              "{'caja de 28 comprimidos conteniendo : vildagliptina 50mg , metformina 850mg . similar a jalra m 50 / 850',\n",
              " 'jalra ( vildagliptina 50mg )',\n",
              " 'jalra m 50 / 1000 mg x 28 comp',\n",
              " 'jalra m 50 / 1000mg',\n",
              " 'jalra m 50 / 850 mg',\n",
              " 'jalra m 50 / 850mg',\n",
              " 'metformina 500 mg + vildagliptina 50mg . caja x 28 comp . rec . similar a jalra m .....( indicar fecha de vencimiento y registro isp ).. _x000d__x000d__x000d__x000d__x000d__x000d__x000d__x000d_',\n",
              " 'metformina 850 mg + vildagliptina 50mg . caja x 28 comp . rec . similar a jalra m .....( indicar fecha de vencimiento y registro isp ).. _x000d__x000d__x000d__x000d__x000d__x000d__x000d__x000d_',\n",
              " 'vildagliptina 50 mg , caja x 56 comprimidos . ( equivalente a jalra )',\n",
              " 'vildagliptina 50 mg . comprimidos ; equivalente a jalra 50 mg 28 comp',\n",
              " 'vildagliptina 50 mg x 28 comp . o 56 comp . _x000d__x000d__x000d__x000d__x000d__x000d__x000d__x000d_ ( jalra , galvus )',\n",
              " 'vildagliptina50mg + clorhidrato de metformina 1000mg ; similar a jalra m 50 / 1000 por 28 compr .'}"
            ]
          },
          "metadata": {},
          "execution_count": 209
        }
      ]
    },
    {
      "cell_type": "code",
      "source": [
        "dictionary_medicine_name[167]"
      ],
      "metadata": {
        "colab": {
          "base_uri": "https://localhost:8080/",
          "height": 35
        },
        "id": "na4b4Oq33H5T",
        "outputId": "7e090a9f-be9d-4f0e-c2ff-2631e42ba320"
      },
      "id": "na4b4Oq33H5T",
      "execution_count": null,
      "outputs": [
        {
          "output_type": "execute_result",
          "data": {
            "text/plain": [
              "'jalra'"
            ],
            "application/vnd.google.colaboratory.intrinsic+json": {
              "type": "string"
            }
          },
          "metadata": {},
          "execution_count": 363
        }
      ]
    },
    {
      "cell_type": "code",
      "source": [
        "total_list_168 = [' '.join(row) for row in total_list[138]]\n",
        "set(total_list_168)\n",
        "#dictionary_medicine_name[168]"
      ],
      "metadata": {
        "colab": {
          "base_uri": "https://localhost:8080/"
        },
        "id": "KnHSqE2N3Hw7",
        "outputId": "01945f7e-2c92-42e1-d453-d1cfba396ffc"
      },
      "id": "KnHSqE2N3Hw7",
      "execution_count": 210,
      "outputs": [
        {
          "output_type": "execute_result",
          "data": {
            "text/plain": [
              "{'caja de 60 comprimido recubierto contiene : empagliflozina 12 . 5 mg y clorhidrato de metformina 850 mg . similar a jardiance duo 12 . 5 / 850',\n",
              " 'empagliflozina 12 , 5 mg + metformina 850 mg x 60 comp_x000d__x000d__x000d__x000d__x000d__x000d__x000d__x000d_ ( jardiance duo )',\n",
              " 'empagliflozina 12 . 5 mg + clorhidrato de metformina 850 mg x 60 comprimidos recubiertos , similar a jardiance duo 12 , 5 / 850 mg x 60 comprimidos recubiertos',\n",
              " 'empagliflozina 12 . 5 mg + metformina 850 mg x 30 comprimidos recubiertos , similar a jardiance duo 12 , 5mg / 850 mg x 30 comprimidos recubiertos',\n",
              " 'empagliflozina12 . 5 mg + metformina 850 mg . caja x 60 comp . rec . similar a jardiance duo . ... .. .. . . . . ..( se adjuntan bases administrativas y técnicas ) _x000d__x000d__x000d__x000d__x000d__x000d__x000d__x000d_',\n",
              " 'empaglifozina / metformina 12 , 5 / 850 similar a jardiance 12 , 5 / 850',\n",
              " 'jardiance duo 12 , 5 / 1000 ( 30comp )',\n",
              " 'jardiance duo 12 , 5 / 580 mg caja x 60 com . ( o equivalente )',\n",
              " 'jardiance duo 12 , 5 / 850 mg x 60 comp'}"
            ]
          },
          "metadata": {},
          "execution_count": 210
        }
      ]
    },
    {
      "cell_type": "code",
      "source": [
        "dictionary_medicine_name[168]"
      ],
      "metadata": {
        "colab": {
          "base_uri": "https://localhost:8080/",
          "height": 35
        },
        "id": "KgAMpJS04VBn",
        "outputId": "42bf2ed0-2fc6-4fbb-fb37-d757a41e1c32"
      },
      "id": "KgAMpJS04VBn",
      "execution_count": null,
      "outputs": [
        {
          "output_type": "execute_result",
          "data": {
            "text/plain": [
              "'jardiance'"
            ],
            "application/vnd.google.colaboratory.intrinsic+json": {
              "type": "string"
            }
          },
          "metadata": {},
          "execution_count": 366
        }
      ]
    },
    {
      "cell_type": "code",
      "source": [
        "total_list_169 = [' '.join(row) for row in total_list[139]]\n",
        "set(total_list_169)\n",
        "#dictionary_medicine_name[169]"
      ],
      "metadata": {
        "id": "hi5JSZbH4U-A"
      },
      "id": "hi5JSZbH4U-A",
      "execution_count": null,
      "outputs": []
    },
    {
      "cell_type": "code",
      "source": [
        "dictionary_medicine_name[169]"
      ],
      "metadata": {
        "colab": {
          "base_uri": "https://localhost:8080/",
          "height": 35
        },
        "id": "OsUxtEgi4U6s",
        "outputId": "70d26ba8-1fac-409a-e38d-18777d5ecae7"
      },
      "id": "OsUxtEgi4U6s",
      "execution_count": null,
      "outputs": [
        {
          "output_type": "execute_result",
          "data": {
            "text/plain": [
              "'kombiglize'"
            ],
            "application/vnd.google.colaboratory.intrinsic+json": {
              "type": "string"
            }
          },
          "metadata": {},
          "execution_count": 369
        }
      ]
    },
    {
      "cell_type": "code",
      "source": [
        "total_list_170 = [' '.join(row) for row in total_list[140]]\n",
        "set(total_list_170)\n",
        "#dictionary_medicine_name[170]"
      ],
      "metadata": {
        "colab": {
          "base_uri": "https://localhost:8080/"
        },
        "id": "ARgutv-e4U1J",
        "outputId": "3254665d-ba31-4097-e6d6-97069a92f522"
      },
      "id": "ARgutv-e4U1J",
      "execution_count": null,
      "outputs": [
        {
          "output_type": "execute_result",
          "data": {
            "text/plain": [
              "['saxagliptina 2 , 5 mg / metformina 1000 mg , caja x 56 comprimidos recubiertos ( equivalente a kombiglyze xr )',\n",
              " 'saxagliptina 2 , 5 mg / metformina 1000 mg , caja x 56 comprimidos recubiertos ( equivalente a kombiglyze xr )',\n",
              " 'saxagliptina 2 , 5 mg / metformina 1000 mg , caja x 56 comprimidos recubiertos ( equivalente a kombiglyze xr )',\n",
              " 'saxagliptina 2 . 5mg / metformina 1000mg comprimidos recubiertos de liberación extendida similar kombiglyze xr',\n",
              " 'saxagliptina 2 . 5mg / metformina 1000mg comprimidos recubiertos de liberación extendida similar kombiglyze xr',\n",
              " 'saxagliptina / metformina 5 / 1000 mg similar a kombiglyze xr 5 / 1000 mg x 28 comprimidos',\n",
              " 'saxagliptina / metformina 5 / 1000 mg similar a kombiglyze xr 5 / 1000 mg x 28 comprimidos',\n",
              " 'saxagliptina / metformina 5 / 1000 mg similar a kombiglyze xr 5 / 1000 mg x 28 comprimidos',\n",
              " 'saxagliptina / metformina 5 / 1000 mg similar a kombiglyze xr 5 / 1000 mg x 28 comprimidos',\n",
              " 'saxagliptina / metformina 5 / 1000 mg similar a kombiglyze xr 5 / 1000 mg x 28 comprimidos',\n",
              " 'saxagliptina / metformina 5 / 1000 mg similar a kombiglyze xr 5 / 1000 mg x 28 comprimidos',\n",
              " 'saxagliptina / metformina 5 / 1000 mg similar a kombiglyze xr 5 / 1000 mg x 28 comprimidos',\n",
              " 'saxagliptina / metformina 5 / 1000 mg similar a kombiglyze xr 5 / 1000 mg x 28 comprimidos',\n",
              " 'saxagliptina / metformina 5 / 1000 mg similar a kombiglyze xr 5 / 1000 mg x 28 comprimidos',\n",
              " 'saxagliptina 5mg / metformina 1000mg comprimidos recubrimientosde liberación extendida similar kombiglyze xr',\n",
              " 'saxagliptina 5mg / metformina 1000mg comprimidos recubrimientosde liberación extendida similar kombiglyze xr',\n",
              " 'kombiglyze xr 2 , 5 / 1000 caja x 56 com . ( o equivalente )',\n",
              " 'kombiglyze xr 2 , 5 / 1000 caja x 56 com . ( o equivalente )',\n",
              " 'kombiglyze xr 2 , 5 / 1000 caja x 56 com . ( o equivalente )',\n",
              " 'kombiglyze xr 2 , 5 / 1000 caja x 56 com . ( o equivalente )',\n",
              " 'kombiglyze xr 2 , 5 / 1000 caja x 56 com . ( o equivalente )',\n",
              " 'kombiglyze xr 2 , 5 / 1000 caja x 56 com . ( o equivalente )',\n",
              " 'kombiglyze xr 2 , 5 / 1000 caja x 56 com . ( o equivalente )',\n",
              " 'kombiglyze xr 2 , 5 / 1000 caja x 56 com . ( o equivalente )',\n",
              " 'kombiglyze xr 2 , 5 / 1000 caja x 56 com . ( o equivalente )',\n",
              " 'kombiglyze xr 2 , 5 / 1000 caja x 56 com . ( o equivalente )',\n",
              " 'kombiglyze xr 2 , 5 / 1000 caja x 56 com . ( o equivalente )',\n",
              " 'kombiglyze xr 2 , 5 / 1000 caja x 56 com . ( o equivalente )',\n",
              " 'kombiglyze xr 2 , 5 / 1000 caja x 56 com . ( o equivalente )',\n",
              " 'kombiglyze xr 2 , 5 / 1000 caja x 56 com . ( o equivalente )',\n",
              " 'kombiglyze xr 2 , 5 / 1000 caja x 56 com . ( o equivalente )',\n",
              " 'kombiglyze xr 2 , 5 / 1000 caja x 56 com . ( o equivalente )',\n",
              " 'saxagliptina 5 mg + metformina 1000 mg x 28 comprimidos de liberación prolongada , similar a kombiglyze xr 5 / 1000 mg x 28 comp . de liberación prolongada',\n",
              " 'saxagliptina 5 mg + metformina 1000 mg x 28 comprimidos de liberación prolongada , similar a kombiglyze xr 5 / 1000 mg x 28 comp . de liberación prolongada',\n",
              " 'saxagliptina 5 mg + metformina 1000 mg x 28 comprimidos de liberación prolongada , similar a kombiglyze xr 5 / 1000 mg x 28 comp . de liberación prolongada',\n",
              " 'saxagliptina 5 mg + metformina 1000 mg x 28 comprimidos de liberación prolongada , similar a kombiglyze xr 5 / 1000 mg x 28 comp . de liberación prolongada',\n",
              " 'saxagliptina 5 mg + metformina 1000 mg x 28 comprimidos de liberación prolongada , similar a kombiglyze xr 5 / 1000 mg x 28 comp . de liberación prolongada',\n",
              " 'saxagliptina 5 mg + metformina 1000 mg x 28 comprimidos de liberación prolongada , similar a kombiglyze xr 5 / 1000 mg x 28 comp . de liberación prolongada',\n",
              " 'saxagliptina 5 mg + metformina 1000 mg x 28 comprimidos de liberación prolongada , similar a kombiglyze xr 5 / 1000 mg x 28 comp . de liberación prolongada',\n",
              " 'saxagliptina 5 mg + metformina 1000 mg x 28 comprimidos de liberación prolongada , similar a kombiglyze xr 5 / 1000 mg x 28 comp . de liberación prolongada',\n",
              " 'saxagliptina 5 mg + metformina 1000 mg x 28 comprimidos de liberación prolongada , similar a kombiglyze xr 5 / 1000 mg x 28 comp . de liberación prolongada',\n",
              " 'saxagliptina 5 mg + metformina 1000 mg x 28 comprimidos de liberación prolongada , similar a kombiglyze xr 5 / 1000 mg x 28 comp . de liberación prolongada',\n",
              " 'saxagliptina 5 mg + metformina 1000 mg x 28 comprimidos de liberación prolongada , similar a kombiglyze xr 5 / 1000 mg x 28 comp . de liberación prolongada',\n",
              " 'saxagliptina 5 mg + metformina 1000 mg x 28 comprimidos de liberación prolongada , similar a kombiglyze xr 5 / 1000 mg x 28 comp . de liberación prolongada',\n",
              " 'saxagliptina 5 mg + metformina 1000 mg x 28 comprimidos de liberación prolongada , similar a kombiglyze xr 5 / 1000 mg x 28 comp . de liberación prolongada',\n",
              " 'kombiglyze xr 5 / 1000 caja x 28 com . ( o equivalente )',\n",
              " 'kombiglyze xr 5 / 1000 caja x 28 com . ( o equivalente )',\n",
              " 'kombiglyze xr 5 / 1000 caja x 28 com . ( o equivalente )',\n",
              " 'kombiglyze xr 5 / 1000 caja x 28 com . ( o equivalente )',\n",
              " 'kombiglyze xr 5 / 1000 caja x 28 com . ( o equivalente )',\n",
              " 'kombiglyze xr 5 / 1000 caja x 28 com . ( o equivalente )',\n",
              " 'kombiglyze xr 5 / 1000 caja x 28 com . ( o equivalente )',\n",
              " 'kombiglyze xr 5 / 1000 caja x 28 com . ( o equivalente )',\n",
              " 'kombiglyze xr 5 / 1000 caja x 28 com . ( o equivalente )',\n",
              " 'kombiglyze xr 5 / 1000 caja x 28 com . ( o equivalente )',\n",
              " 'kombiglyze xr 5 / 1000 caja x 28 com . ( o equivalente )',\n",
              " 'kombiglyze xr 5 / 1000 caja x 28 com . ( o equivalente )',\n",
              " 'kombiglyze xr 5 / 1000 caja x 28 com . ( o equivalente )',\n",
              " 'kombiglyze xr 5 / 1000 caja x 28 com . ( o equivalente )',\n",
              " 'kombiglyze xr 5 / 1000 caja x 28 com . ( o equivalente )',\n",
              " 'kombiglyze xr 5 / 1000 caja x 28 com . ( o equivalente )',\n",
              " 'kombiglyze xr 5 / 1000 caja x 28 com . ( o equivalente )',\n",
              " 'kombiglyze xr 5 / 1000 caja x 28 com . ( o equivalente )',\n",
              " 'kombiglyze xr 5 / 1000 caja x 28 com . ( o equivalente )',\n",
              " 'kombiglyze xr 5 / 1000 caja x 28 com . ( o equivalente )',\n",
              " 'kombiglyze xr 5 / 1000 caja x 28 com . ( o equivalente )',\n",
              " 'kombiglyze xr 5 / 1000 caja x 28 com . ( o equivalente )',\n",
              " 'kombiglyze xr 5 / 1000 caja x 28 com . ( o equivalente )',\n",
              " 'kombiglyze xr 5 / 1000 caja x 28 com . ( o equivalente )',\n",
              " 'kombiglyze xr 5 / 1000 caja x 28 com . ( o equivalente )',\n",
              " 'kombiglyze xr 5 / 1000 caja x 28 com . ( o equivalente )',\n",
              " 'kombiglyze xr 5 / 1000 caja x 28 com . ( o equivalente )',\n",
              " 'kombiglyze xr 5 / 1000 caja x 28 com . ( o equivalente )',\n",
              " 'saxagliptina 2 , 5 mg / metformina 1000 mg x 28 similar a kombiglyze xr',\n",
              " 'saxagliptina 2 , 5 mg / metformina 1000 mg x 28 similar a kombiglyze xr',\n",
              " 'kombiglyze 5 / 1000 mg x 28 cm . recubierto ( o equivalente )',\n",
              " 'kombiglyze 5 / 1000 mg x 28 cm . recubierto ( o equivalente )',\n",
              " 'kombiglyze 5 / 1000 mg x 28 cm . recubierto ( o equivalente )',\n",
              " 'kombiglyze 5 / 1000 mg x 28 cm . recubierto ( o equivalente )',\n",
              " 'kombiglyze 5 / 1000 mg x 28 cm . recubierto ( o equivalente )',\n",
              " 'kombiglyze 5 / 1000 mg x 28 cm . recubierto ( o equivalente )',\n",
              " 'kombiglyze 5 / 1000 mg x 28 cm . recubierto ( o equivalente )',\n",
              " 'kombiglyze 5 / 1000 mg x 28 cm . recubierto ( o equivalente )',\n",
              " 'kombiglyze 5 / 1000 mg x 28 cm . recubierto ( o equivalente )',\n",
              " 'kombiglyze 5 / 1000 mg x 28 cm . recubierto ( o equivalente )',\n",
              " 'kombiglyze 5 / 1000 mg x 28 cm . recubierto ( o equivalente )',\n",
              " 'kombiglyze 5 / 1000 mg x 28 cm . recubierto ( o equivalente )',\n",
              " 'kombiglyze 5 / 1000 mg x 28 cm . recubierto ( o equivalente )',\n",
              " 'kombiglyze 5 / 1000 mg x 28 cm . recubierto ( o equivalente )',\n",
              " 'saxagliptina 5 mg + metformina clorhidrato 1000 mg x 28 comprimidos de liberación prolongada , similar a kombiglyze x 28 comprimidos recubiertos de liberación extendida',\n",
              " 'saxagliptina 5 mg + metformina clorhidrato 1000 mg x 28 comprimidos de liberación prolongada , similar a kombiglyze x 28 comprimidos recubiertos de liberación extendida',\n",
              " 'saxagliptina 5 mg + metformina clorhidrato 1000 mg x 28 comprimidos de liberación prolongada , similar a kombiglyze x 28 comprimidos recubiertos de liberación extendida',\n",
              " 'saxagliptina 5 mg + metformina clorhidrato 1000 mg x 28 comprimidos de liberación prolongada , similar a kombiglyze x 28 comprimidos recubiertos de liberación extendida',\n",
              " 'saxagliptina 5 mg + metformina clorhidrato 1000 mg x 28 comprimidos de liberación prolongada , similar a kombiglyze x 28 comprimidos recubiertos de liberación extendida',\n",
              " 'saxagliptina 5 mg + metformina clorhidrato 1000 mg x 28 comprimidos de liberación prolongada , similar a kombiglyze x 28 comprimidos recubiertos de liberación extendida',\n",
              " 'saxagliptina 5 mg + metformina clorhidrato 1000 mg x 28 comprimidos de liberación prolongada , similar a kombiglyze x 28 comprimidos recubiertos de liberación extendida',\n",
              " 'saxagliptina 5 mg + metformina clorhidrato 1000 mg x 28 comprimidos de liberación prolongada , similar a kombiglyze x 28 comprimidos recubiertos de liberación extendida',\n",
              " 'kombiglyze saxagliptina + metformina 5 / 1000mg , comprimidos rcubiertos de liberación prolongada , caja x 28 comprimidos',\n",
              " 'kombiglyze saxagliptina + metformina 5 / 1000mg , comprimidos rcubiertos de liberación prolongada , caja x 28 comprimidos',\n",
              " 'kombiglyze saxagliptina + metformina 5 / 1000mg , comprimidos rcubiertos de liberación prolongada , caja x 28 comprimidos',\n",
              " 'kombiglyze saxagliptina + metformina 5 / 1000mg , comprimidos rcubiertos de liberación prolongada , caja x 28 comprimidos',\n",
              " 'kombiglyze saxagliptina + metformina 5 / 1000mg , comprimidos rcubiertos de liberación prolongada , caja x 28 comprimidos',\n",
              " 'kombiglyze saxagliptina + metformina 5 / 1000mg , comprimidos rcubiertos de liberación prolongada , caja x 28 comprimidos',\n",
              " 'kombiglyze saxagliptina + metformina 5 / 1000mg , comprimidos rcubiertos de liberación prolongada , caja x 28 comprimidos',\n",
              " 'kombiglyze saxagliptina + metformina 5 / 1000mg , comprimidos rcubiertos de liberación prolongada , caja x 28 comprimidos',\n",
              " 'kombiglyze saxagliptina + metformina 5 / 1000mg , comprimidos rcubiertos de liberación prolongada , caja x 28 comprimidos',\n",
              " 'kombiglyze saxagliptina + metformina 5 / 1000mg , comprimidos rcubiertos de liberación prolongada , caja x 28 comprimidos',\n",
              " 'kombiglyze saxagliptina + metformina 5 / 1000mg , comprimidos rcubiertos de liberación prolongada , caja x 28 comprimidos',\n",
              " 'kombiglyze saxagliptina + metformina 5 / 1000mg , comprimidos rcubiertos de liberación prolongada , caja x 28 comprimidos',\n",
              " 'kombiglyze saxagliptina + metformina 5 / 1000mg , comprimidos rcubiertos de liberación prolongada , caja x 28 comprimidos',\n",
              " 'kombiglyze saxagliptina + metformina 5 / 1000mg , comprimidos rcubiertos de liberación prolongada , caja x 28 comprimidos',\n",
              " 'kombiglyze saxagliptina + metformina 5 / 1000mg , comprimidos rcubiertos de liberación prolongada , caja x 28 comprimidos',\n",
              " 'kombiglyze saxagliptina + metformina 5 / 1000mg , comprimidos rcubiertos de liberación prolongada , caja x 28 comprimidos',\n",
              " 'kombiglyze saxagliptina + metformina 5 / 1000mg , comprimidos rcubiertos de liberación prolongada , caja x 28 comprimidos',\n",
              " 'kombiglyze saxagliptina + metformina 5 / 1000mg , comprimidos rcubiertos de liberación prolongada , caja x 28 comprimidos',\n",
              " '\" metformina / saxagliptina los comprimidos son de color rosado , biconvexos en forma de capsula con la marca \"\" 5 / 100 \"\" impresa en un lado . cada caja contiene 28 comprimidos con metformina 1000 mg y 5 mg saxagliptina . kombiglyze o similar .\"',\n",
              " '\" metformina / saxagliptina los comprimidos son de color rosado , biconvexos en forma de capsula con la marca \"\" 5 / 100 \"\" impresa en un lado . cada caja contiene 28 comprimidos con metformina 1000 mg y 5 mg saxagliptina . kombiglyze o similar .\"',\n",
              " '\" metformina / saxagliptina los comprimidos son de color rosado , biconvexos en forma de capsula con la marca \"\" 5 / 100 \"\" impresa en un lado . cada caja contiene 28 comprimidos con metformina 1000 mg y 5 mg saxagliptina . kombiglyze o similar .\"',\n",
              " '\" metformina / saxagliptina los comprimidos son de color rosado , biconvexos en forma de capsula con la marca \"\" 5 / 100 \"\" impresa en un lado . cada caja contiene 28 comprimidos con metformina 1000 mg y 5 mg saxagliptina . kombiglyze o similar .\"',\n",
              " 'kombiglyze xr 5 / 1000 mg x 28',\n",
              " 'kombiglyze xr 5 / 1000 mg x 28',\n",
              " 'kombiglyze xr 5 / 1000 mg x 28',\n",
              " 'kombiglyze xr 5 / 1000 mg x 28',\n",
              " 'kombiglyze xr 5 / 1000 mg x 28',\n",
              " 'kombiglyze xr 5 / 1000 mg x 28',\n",
              " 'kombiglyze xr 5 / 1000 mg x 28',\n",
              " 'kombiglyze xr 5 / 1000 mg x 28',\n",
              " 'kombiglyze xr 2 , 5 / 1000 mg x 56 cm . recubierto ( o equivalente )',\n",
              " 'kombiglyze xr 2 , 5 / 1000 mg x 56 cm . recubierto ( o equivalente )',\n",
              " 'kombiglyze xr 2 , 5 / 1000 mg x 56 cm . recubierto ( o equivalente )',\n",
              " 'kombiglyze xr 2 , 5 / 1000 mg x 56 cm . recubierto ( o equivalente )',\n",
              " 'kombiglyze xr 2 , 5 / 1000 mg x 56 cm . recubierto ( o equivalente )',\n",
              " 'kombiglyze xr 2 , 5 / 1000 mg x 56 cm . recubierto ( o equivalente )',\n",
              " 'kombiglyze xr 2 , 5 / 1000 mg x 56 cm . recubierto ( o equivalente )',\n",
              " 'kombiglyze xr 2 , 5 / 1000 mg x 56 cm . recubierto ( o equivalente )',\n",
              " 'kombiglyze xr 2 , 5 / 1000 mg x 56 cm . recubierto ( o equivalente )',\n",
              " 'kombiglyze xr 2 , 5 / 1000 mg x 56 cm . recubierto ( o equivalente )',\n",
              " 'kombiglyze xr 2 , 5 / 1000 mg x 56 cm . recubierto ( o equivalente )',\n",
              " 'kombiglyze xr 2 , 5 / 1000 mg x 56 cm . recubierto ( o equivalente )',\n",
              " 'kombiglyze xr 2 , 5 / 1000 mg x 56 cm . recubierto ( o equivalente )',\n",
              " 'kombiglyze xr 2 , 5 / 1000 mg x 56 cm . recubierto ( o equivalente )',\n",
              " 'kombiglyze xr 2 , 5 / 1000 mg x 56 cm . recubierto ( o equivalente )',\n",
              " 'kombiglyze xr 2 , 5 / 1000 mg x 56 cm . recubierto ( o equivalente )',\n",
              " 'kombiglyze xr 2 , 5 / 1000 mg x 56 cm . recubierto ( o equivalente )',\n",
              " 'kombiglyze xr 2 . 5 / 1000 mg x 56',\n",
              " 'kombiglyze xr 2 . 5 / 1000 mg x 56',\n",
              " 'kombiglyze xr 2 . 5 / 1000 mg x 56',\n",
              " 'kombiglyze xr 2 . 5 / 1000 mg x 56',\n",
              " 'kombiglyze xr 2 . 5 / 1000 mg x 56',\n",
              " 'kombiglyze xr 2 . 5 / 1000 mg x 56',\n",
              " 'kombiglyze xr 2 . 5 / 1000 mg x 56',\n",
              " 'kombiglyze xr 2 . 5 / 1000 mg x 56',\n",
              " 'kombiglyze xr 2 . 5 / 1000 mg x 56',\n",
              " 'kombiglyze xr 2 . 5 / 1000 mg x 56']"
            ]
          },
          "metadata": {},
          "execution_count": 372
        }
      ]
    },
    {
      "cell_type": "code",
      "source": [
        "dictionary_medicine_name[170]"
      ],
      "metadata": {
        "colab": {
          "base_uri": "https://localhost:8080/",
          "height": 35
        },
        "id": "LUM3nxwZ4Utv",
        "outputId": "f36c3052-4345-4b74-a2d3-40c8108dbb27"
      },
      "id": "LUM3nxwZ4Utv",
      "execution_count": null,
      "outputs": [
        {
          "output_type": "execute_result",
          "data": {
            "text/plain": [
              "'kombiglyze'"
            ],
            "application/vnd.google.colaboratory.intrinsic+json": {
              "type": "string"
            }
          },
          "metadata": {},
          "execution_count": 371
        }
      ]
    },
    {
      "cell_type": "code",
      "source": [
        "total_list_171 = [' '.join(row) for row in total_list[141]]\n",
        "set(total_list_171)\n",
        "#dictionary_medicine_name[171]"
      ],
      "metadata": {
        "colab": {
          "base_uri": "https://localhost:8080/"
        },
        "id": "sEbunm784UpS",
        "outputId": "a11243f6-ffc7-4794-8736-9ad8bc812b51"
      },
      "id": "sEbunm784UpS",
      "execution_count": 212,
      "outputs": [
        {
          "output_type": "execute_result",
          "data": {
            "text/plain": [
              "{'lactato de calcio', 'lactato de inamrinona'}"
            ]
          },
          "metadata": {},
          "execution_count": 212
        }
      ]
    },
    {
      "cell_type": "code",
      "source": [
        "dictionary_medicine_name[171]"
      ],
      "metadata": {
        "colab": {
          "base_uri": "https://localhost:8080/",
          "height": 35
        },
        "id": "GLSFia2m4UlZ",
        "outputId": "74e5ba27-46a2-4ff5-a153-a384ab546c36"
      },
      "id": "GLSFia2m4UlZ",
      "execution_count": null,
      "outputs": [
        {
          "output_type": "execute_result",
          "data": {
            "text/plain": [
              "'lactato'"
            ],
            "application/vnd.google.colaboratory.intrinsic+json": {
              "type": "string"
            }
          },
          "metadata": {},
          "execution_count": 373
        }
      ]
    },
    {
      "cell_type": "code",
      "source": [
        "total_list_172 = [' '.join(row) for row in total_list[142]]\n",
        "total_list_172\n",
        "#dictionary_medicine_name[172]"
      ],
      "metadata": {
        "colab": {
          "base_uri": "https://localhost:8080/"
        },
        "id": "QwYOqUM74Uhz",
        "outputId": "1bdd8820-e9e6-406e-807e-9b0d6861c37e"
      },
      "id": "QwYOqUM74Uhz",
      "execution_count": null,
      "outputs": [
        {
          "output_type": "execute_result",
          "data": {
            "text/plain": [
              "[]"
            ]
          },
          "metadata": {},
          "execution_count": 376
        }
      ]
    },
    {
      "cell_type": "code",
      "source": [
        "dictionary_medicine_name[172]"
      ],
      "metadata": {
        "colab": {
          "base_uri": "https://localhost:8080/",
          "height": 35
        },
        "id": "1ROe9wqT5vay",
        "outputId": "bcbe3c02-44b4-4f18-ea10-a24412ff930c"
      },
      "id": "1ROe9wqT5vay",
      "execution_count": null,
      "outputs": [
        {
          "output_type": "execute_result",
          "data": {
            "text/plain": [
              "'lamiv'"
            ],
            "application/vnd.google.colaboratory.intrinsic+json": {
              "type": "string"
            }
          },
          "metadata": {},
          "execution_count": 375
        }
      ]
    },
    {
      "cell_type": "code",
      "source": [
        "total_list_173 = [' '.join(row) for row in total_list[143]]\n",
        "set(total_list_173)\n",
        "#dictionary_medicine_name[173]"
      ],
      "metadata": {
        "colab": {
          "base_uri": "https://localhost:8080/"
        },
        "id": "xqg6oxAU5vXZ",
        "outputId": "4832a6c6-0c43-4d47-f1b8-58fb2cc053c6"
      },
      "id": "xqg6oxAU5vXZ",
      "execution_count": 213,
      "outputs": [
        {
          "output_type": "execute_result",
          "data": {
            "text/plain": [
              "{'lamivudina',\n",
              " 'lamivudina / zidovudina 150 / 300 mg cm rec',\n",
              " 'lamivudina 10mg / ml solucion oral x ml',\n",
              " 'lamivudina 150 mg cm rec .'}"
            ]
          },
          "metadata": {},
          "execution_count": 213
        }
      ]
    },
    {
      "cell_type": "code",
      "source": [
        "dictionary_medicine_name[173]"
      ],
      "metadata": {
        "colab": {
          "base_uri": "https://localhost:8080/",
          "height": 35
        },
        "id": "wxoL8NjN5vUA",
        "outputId": "d16d20ab-4bb3-40ae-905e-fe0b4639cc42"
      },
      "id": "wxoL8NjN5vUA",
      "execution_count": null,
      "outputs": [
        {
          "output_type": "execute_result",
          "data": {
            "text/plain": [
              "'lamivudina'"
            ],
            "application/vnd.google.colaboratory.intrinsic+json": {
              "type": "string"
            }
          },
          "metadata": {},
          "execution_count": 377
        }
      ]
    },
    {
      "cell_type": "code",
      "source": [
        "total_list_174 = [' '.join(row) for row in total_list[144]]\n",
        "set(total_list_174)\n",
        "#dictionary_medicine_name[174]"
      ],
      "metadata": {
        "colab": {
          "base_uri": "https://localhost:8080/"
        },
        "id": "KERmZhHy6AJQ",
        "outputId": "baf9ea3e-8df0-47cf-d343-82832f7f949c"
      },
      "id": "KERmZhHy6AJQ",
      "execution_count": 214,
      "outputs": [
        {
          "output_type": "execute_result",
          "data": {
            "text/plain": [
              "{'1092019 - 7 cada ml de solucion inyectable contiene insulina _x000d__x000d__x000d__x000d__x000d__x000d__x000d__x000d_ glargina 3 , 64mg equivalente a 100 ui de insulina humana hipoglicemiante anti - diabetico o equivalente a ins . lantus - sol . 3 ml lapiz',\n",
              " '1092019 - 7 cada ml de solución inyectable contiene insulina _x000d__x000d__x000d__x000d__x000d__x000d__x000d__x000d_ glargina 3 , 64mg equivalente a 100 ui de insulina humana hipoglicemiante anti - diabetico o equivalente a ins . lantus - sol . 3 ml lapiz',\n",
              " '1092019 - 7 ins . lantus - sol . 100ui 3 ml lapiz , insulina glargina 100ui 3ml lapicera pre llenada .',\n",
              " '1092019 - 7 insulina glargina 100ui 3ml lapicera pre llenada o equivalente a ins . lantus - sol . 100ui 3 ml lapiz',\n",
              " '1092019 - 7 insulina glargina 100ui 3ml lapicera pre llenada o equivalente a ins . lantus - sol . 100ui 3 ml lapiz .',\n",
              " '111 - 0027 insulina de accion prolongada solucion inyectable 100 u . i ./ ml ( 3ml ) tipo lapicera similar a lantus',\n",
              " '1400069 analogo de insulina lenta glargina adn recombinante 100 u / ml lapiz solostar x 3 ml sc , similar lantus solostar . sol . iny . lapiz_x000d__x000d__x000d__x000d__x000d__x000d__x000d__x000d_',\n",
              " '262 - 8455 lantus 100 ui insulina glargina_x000d__x000d__x000d__x000d__x000d__x000d__x000d__x000d_',\n",
              " 'insulina accion prolongada ( lantus ) 100 ui / ml fc 3 ml',\n",
              " 'insulina glargina 100 u / 1 mi . estuche con 1 lápiz aplicador desechable , prellenado con 3 ml . similar lantus solostar .',\n",
              " 'insulina glargina 100 u / ml estuche con 1 lápiz prellenado con 3 ml similar lantus solostar',\n",
              " 'insulina glargina 100 ui / ml 1 cartucho 3 ml similar a lantus solostar',\n",
              " 'insulina glargina 100 ui / ml en lapices aplicadores prellenados , similar a lantus solostar',\n",
              " 'insulina glargina 100 ui / ml lapiz x 3 ml , lantus o similar deben incluir agujas ( para despacho parcializado de 300 unidades mensuales )',\n",
              " 'insulina glargina 100 ui / ml sugerencia , lantus caja conteniendo 1 lapiz _x000d__x000d__x000d__x000d__x000d__x000d__x000d__x000d_',\n",
              " 'insulina glargina 100 ui x 10 ml fco amp . ( lantus )',\n",
              " 'insulina glargina 100u / ml x 3 ml lapiz similar a lantus solostar',\n",
              " 'insulina glargina 100u / ml x lapiz 3 ml similar a lantus solostar',\n",
              " 'insulina glargina 100ui / ml . solución inyectable x 1 cartucho 3ml . similar a lantus solostar .....( indicar fecha de vencimiento y registro isp ).. _x000d__x000d__x000d__x000d__x000d__x000d__x000d__x000d_',\n",
              " 'insulina glargina 100ui / ml x 10ml ( tipo lantus o equivalente ) frasco - ampolla',\n",
              " 'insulina glargina 100ui / ml x 3ml ( tipo lantus o equivalente ) dispositivo inyector desechable',\n",
              " 'insulina glargina 100ui / ml x 3ml similar a lantus solostar',\n",
              " 'insulina glargina 3 , 6378 mg , similar a lantus 100u / ml',\n",
              " 'insulina glargina 3 . 64 mg , correspondiente a 100 u . i . de insulina humana . presentación en frasco vial ; equivalente a lantus 100 ui / ml frasco 10 ml',\n",
              " 'insulina glargina 3 . 64 mg , equivalentes a 100 u . i . de insulina humana en 3 ml presentación en dispositivo solostar prellenado desechable .; equivalente a lantus solostar 100 u / ml lápiz 3 ml - _x000d__x000d__x000d__x000d__x000d__x000d__x000d__x000d_ ver base',\n",
              " 'insulina glargina lápiz 100ui / ml x 3 ml excipientes : metacresol , cloruro de zinc , glicerol ( 85 %), hidróxido de sodio , acido clorhidriico concentrado , agua para inyectables c . s . similar a lantus más agujas compatible de 32g 4mm ( 15 agujas por lapiz ) entreg',\n",
              " 'insulina glargina lápiz 100ui / ml x 3 ml lantus más agujas compatible de 32g 4mm ( 15 agujas por lapiz )',\n",
              " 'insulina glargina lápiz 100ui / ml x 3 ml lantus más agujas compatible de 32g 4mm ( 15 agujas por lapiz ) entrega de forma parcializada según acuerdo .',\n",
              " 'insulina glargina solostar x 3 ml similar a lantus',\n",
              " 'insulina lantus solostar 100ui / ml',\n",
              " 'lantus 100 u / ml ( solostar )',\n",
              " 'lantus 100 u / ml cartucho 3 ml _x000d__x000d__x000d__x000d__x000d__x000d__x000d_',\n",
              " 'lantus 100 u / ml insulina glargina , solucion inyectable',\n",
              " 'lantus 100ui / ml 3ml x1 cartucho , insulina glargina_x000d__x000d__x000d__x000d__x000d__x000d__x000d_',\n",
              " 'lantus solostar lapiz ( 100 ui / ml * catridge de 3 ml )',\n",
              " 'suministro de insulina glargina : 3 . 6378 mg ( equivalentes a 100 u de insulina recombinante humana / ml ) equivalente a lantus solostar , caja dispositivo prellenado x 3 ml'}"
            ]
          },
          "metadata": {},
          "execution_count": 214
        }
      ]
    },
    {
      "cell_type": "code",
      "source": [
        "dictionary_medicine_name[174]"
      ],
      "metadata": {
        "colab": {
          "base_uri": "https://localhost:8080/",
          "height": 35
        },
        "id": "KlZTRu9Q6AAE",
        "outputId": "dacc254c-5811-4f70-d65e-72c0070fafea"
      },
      "id": "KlZTRu9Q6AAE",
      "execution_count": null,
      "outputs": [
        {
          "output_type": "execute_result",
          "data": {
            "text/plain": [
              "'lantus'"
            ],
            "application/vnd.google.colaboratory.intrinsic+json": {
              "type": "string"
            }
          },
          "metadata": {},
          "execution_count": 379
        }
      ]
    },
    {
      "cell_type": "code",
      "source": [
        "total_list_175 = [' '.join(row) for row in total_list[145]]\n",
        "total_list_175\n",
        "#dictionary_medicine_name[175]"
      ],
      "metadata": {
        "colab": {
          "base_uri": "https://localhost:8080/"
        },
        "id": "UZO40cZd5vP1",
        "outputId": "3aed4952-8c43-4883-97c3-fdac79ff7cc7"
      },
      "id": "UZO40cZd5vP1",
      "execution_count": null,
      "outputs": [
        {
          "output_type": "execute_result",
          "data": {
            "text/plain": [
              "['insulina glargina 100 u / ml lapiz similar a lantuz solostar',\n",
              " 'insulina glargina 100 u / ml lapiz similar a lantuz solostar']"
            ]
          },
          "metadata": {},
          "execution_count": 382
        }
      ]
    },
    {
      "cell_type": "code",
      "source": [
        "dictionary_medicine_name[175]"
      ],
      "metadata": {
        "colab": {
          "base_uri": "https://localhost:8080/",
          "height": 35
        },
        "id": "fqlqQ6P-5vLq",
        "outputId": "c88b2fa2-5f1a-4a44-c79b-c368379400ae"
      },
      "id": "fqlqQ6P-5vLq",
      "execution_count": null,
      "outputs": [
        {
          "output_type": "execute_result",
          "data": {
            "text/plain": [
              "'lantuz'"
            ],
            "application/vnd.google.colaboratory.intrinsic+json": {
              "type": "string"
            }
          },
          "metadata": {},
          "execution_count": 381
        }
      ]
    },
    {
      "cell_type": "code",
      "source": [
        "total_list_176 = [' '.join(row) for row in total_list[146]]\n",
        "set(total_list_176)\n",
        "#dictionary_medicine_name[176]"
      ],
      "metadata": {
        "colab": {
          "base_uri": "https://localhost:8080/"
        },
        "id": "MZVysxco6lXJ",
        "outputId": "2347a466-07a1-4970-dd4a-493234f24fa2"
      },
      "id": "MZVysxco6lXJ",
      "execution_count": 215,
      "outputs": [
        {
          "output_type": "execute_result",
          "data": {
            "text/plain": [
              "{'1092011 - 4 insulina lenta insulina humana nph 100ui / ml frasco ampolla contiene 10ml',\n",
              " '1092028 - 8 insulina lenta nph 100ui / ml en lapiz de 3ml _x000d__x000d__x000d__x000d__x000d__x000d__x000d__x000d_ con vigencia superior a un año o equivalente a insulina insulatard penfill',\n",
              " '1400020 analogo de insulina lenta glargina adn recombinante 300 ml lapiz x 1 , 5 ml , similar toujeo uso ocasional sol . iny . lapiz_x000d__x000d__x000d__x000d__x000d__x000d__x000d__x000d_',\n",
              " '1400034 analogo de insulina lenta degludec 100 u / ml x 3 ml sc similar tresiba flextouch . uso ocasional sol . iny . lapiz_x000d__x000d__x000d__x000d__x000d__x000d__x000d__x000d_',\n",
              " '1400069 analogo de insulina lenta glargina adn recombinante 100 u / ml lapiz solostar x 3 ml sc , similar lantus solostar . sol . iny . lapiz_x000d__x000d__x000d__x000d__x000d__x000d__x000d__x000d_',\n",
              " '1400121 analogo de insulina lenta detemir adn recombinante 100 u / ml 5 lapices x 3 ml sc , similar levemir flexpen sol . iny . lapiz_x000d__x000d__x000d__x000d__x000d__x000d__x000d__x000d_',\n",
              " '220030032 insulina lenta ( nph ) 100 ui / ml sol iny cartucho 3 ml',\n",
              " '262 - 0004 insulina lenta ( nph ) 10 ui / ml',\n",
              " '[ 2628453 ] insulina humana lenta 100ui / ml sol . iny sc fa',\n",
              " 'fa03 - 0008 insulina nph fco amp ( lenta )',\n",
              " 'fa03 - 0008 insulina nph fco amp ( lenta ) ( amp )',\n",
              " 'fa03 - 0017 insulina glargine 300 ui / ml lapiz 1 , 5 ml ( ultra lenta ) ( incluye 15 agujas por cada lápiz )',\n",
              " 'insulina glargina 100 ui / ml accion ultra lenta , debe incluir ajugas ultra fine 4 mm_x000d__x000d__x000d__x000d__x000d__x000d__x000d__x000d_ _x000d__x000d__x000d__x000d__x000d__x000d__x000d__x000d_',\n",
              " 'insulina glargina 100 ui / ml fa acción ultra lenta aplicador inyectable tipo lápiz 3 ml',\n",
              " 'insulina humana adn recombinante ( isofána ) 100 u . i ./ ml suspensión inyectable para administración subcutánea . frasco ampolla de vidrio . ( acción lenta )',\n",
              " 'insulina humana isofana nph novo lenta 100 ui / ml',\n",
              " 'insulina humana lenta nph fa 1000 , código hospital 2620039 .',\n",
              " 'insulina humana recombinante glargina lenta lapiz autoinyectable',\n",
              " 'insulina insulatard nph lenta fa 100 ui frasco ampolla , especificar marca , características y presentacion . consumo promedio mensual 200 frascos aproximados .',\n",
              " 'insulina lenta , según lo requerido en bases administrativas , técnicas y anexos adjuntos .',\n",
              " 'insulina lenta , suspensión inyectable 100 ui / ml , frasco ampolla 10 ml .',\n",
              " 'insulina lenta , suspensión inyectable 100 ui / ml , penfil ( cartridge ) de 3 ml . cartridge',\n",
              " 'insulina lenta 100 ui',\n",
              " 'insulina lenta fco . amp . ( linea 85 )',\n",
              " 'insulina lenta humana , adnr ( producida por tecnología del adn recombinante en saccharomyces cerevisiae ). cada 1 ml contiene : 100 ui de insulina humana . una ui ( unidad internacional ) corresponde a 0 . 035 mg de insulina humana anhidra . cantidad estimada 50 f',\n",
              " 'insulina lenta humana c / adn recombinante 100 u . i ./ 10 ml . vencimiento no inferior a junio 2021 , por lo cual el oferente debe consignar la fecha de vencimiento en su oferta técnica , asi como la forma farmacéutica .',\n",
              " 'insulina lenta humana isófana ( adn recombinante ), según lo exigido en bases administrativas y técnicas .',\n",
              " 'insulina lenta nph fc 20 ml',\n",
              " 'insulina nph lenta fa',\n",
              " 'insulina retardada nph 100 ui / ml ( lenta )',\n",
              " 'insulina ultra lenta glargina 300ui / 1ml lapiz 1 . 5ml , 10 agujas x lapiz',\n",
              " 'item n ° 34 , insulina lenta humana 100ui . según especificaciones técnicas .',\n",
              " 'm01f0043 insulina lenta nph 100ui / ml fco . 10'}"
            ]
          },
          "metadata": {},
          "execution_count": 215
        }
      ]
    },
    {
      "cell_type": "code",
      "source": [
        "dictionary_medicine_name[176]"
      ],
      "metadata": {
        "colab": {
          "base_uri": "https://localhost:8080/",
          "height": 35
        },
        "id": "ACBVycHz6lPU",
        "outputId": "064c0146-43aa-460c-9149-c8d713ff5a5e"
      },
      "id": "ACBVycHz6lPU",
      "execution_count": null,
      "outputs": [
        {
          "output_type": "execute_result",
          "data": {
            "text/plain": [
              "'lenta'"
            ],
            "application/vnd.google.colaboratory.intrinsic+json": {
              "type": "string"
            }
          },
          "metadata": {},
          "execution_count": 383
        }
      ]
    },
    {
      "cell_type": "code",
      "source": [
        "total_list_177 = [' '.join(row) for row in total_list[147]]\n",
        "total_list_177\n",
        "#dictionary_medicine_name[177]"
      ],
      "metadata": {
        "colab": {
          "base_uri": "https://localhost:8080/"
        },
        "id": "QpFmS_rI5vEZ",
        "outputId": "e9408a54-97ae-488f-ce57-ac07f33c0a66"
      },
      "id": "QpFmS_rI5vEZ",
      "execution_count": null,
      "outputs": [
        {
          "output_type": "execute_result",
          "data": {
            "text/plain": [
              "['levenir flex pencil', 'levenir flex pencil', 'levenir flex pencil']"
            ]
          },
          "metadata": {},
          "execution_count": 387
        }
      ]
    },
    {
      "cell_type": "code",
      "source": [
        "dictionary_medicine_name[177]"
      ],
      "metadata": {
        "colab": {
          "base_uri": "https://localhost:8080/",
          "height": 35
        },
        "id": "C9ZMJFDd5u5f",
        "outputId": "043bc997-f269-45fa-80fc-624e1ea36959"
      },
      "id": "C9ZMJFDd5u5f",
      "execution_count": null,
      "outputs": [
        {
          "output_type": "execute_result",
          "data": {
            "text/plain": [
              "'levenir'"
            ],
            "application/vnd.google.colaboratory.intrinsic+json": {
              "type": "string"
            }
          },
          "metadata": {},
          "execution_count": 385
        }
      ]
    },
    {
      "cell_type": "code",
      "source": [
        "total_list_178 = [' '.join(row) for row in total_list[148]]\n",
        "set(total_list_178)\n",
        "#dictionary_medicine_name[178]"
      ],
      "metadata": {
        "colab": {
          "base_uri": "https://localhost:8080/"
        },
        "id": "rGwUHCLu6qJv",
        "outputId": "38d21e8f-cdb4-4fca-dde1-8001fbd813ce"
      },
      "id": "rGwUHCLu6qJv",
      "execution_count": 216,
      "outputs": [
        {
          "output_type": "execute_result",
          "data": {
            "text/plain": [
              "{'linaglioptina / metformina 2 , 5 / 1000 mg ( similar trayenta duo 2 , 5 / 1000 mg ) caja de 60 comprimidos .',\n",
              " 'linaglioptina / metformina 2 , 5 / 850 mg ( similar trayenta duo 2 , 5 / 850 mg ) caja de 60 comprimidos .'}"
            ]
          },
          "metadata": {},
          "execution_count": 216
        }
      ]
    },
    {
      "cell_type": "code",
      "source": [
        "dictionary_medicine_name[178]"
      ],
      "metadata": {
        "colab": {
          "base_uri": "https://localhost:8080/",
          "height": 35
        },
        "id": "kkmITQZY-lI3",
        "outputId": "c8554792-cb7c-4a30-e4ac-29f5c1a14945"
      },
      "id": "kkmITQZY-lI3",
      "execution_count": null,
      "outputs": [
        {
          "output_type": "execute_result",
          "data": {
            "text/plain": [
              "'linaglioptina'"
            ],
            "application/vnd.google.colaboratory.intrinsic+json": {
              "type": "string"
            }
          },
          "metadata": {},
          "execution_count": 388
        }
      ]
    },
    {
      "cell_type": "code",
      "source": [
        "total_list_179 = [' '.join(row) for row in total_list[149]]\n",
        "set(total_list_179)\n",
        "#dictionary_medicine_name[179]"
      ],
      "metadata": {
        "colab": {
          "base_uri": "https://localhost:8080/"
        },
        "id": "lpFrSsL66qGa",
        "outputId": "9d96fd4c-13c9-432c-bea1-11a0679b6c2f"
      },
      "id": "lpFrSsL66qGa",
      "execution_count": 217,
      "outputs": [
        {
          "output_type": "execute_result",
          "data": {
            "text/plain": [
              "{'\" linagliptina 2 . 5 mg + metformina 1000 mg . caja x 60 comp . similar a trayenta duo . . .. . . . . . . . . . . . ..( se adjuntan bases administrativas y técnicas \"\" leerlas p / ofertar )\"',\n",
              " '0220020012 linagliptina / metformina 2 . 5 mg / 850 mg cm rec',\n",
              " 'cada comprimido recubierto contiene : linagliptina 2 . 5 mg y metformina clorhidrato 1000 mg caja conteniendo 60 comprimidos . trayenta duo o similar_x000d__x000d__x000d__x000d__x000d__x000d__x000d__x000d_',\n",
              " 'cada comprimido recubierto contiene : linagliptina 2 . 5 mg y metformina clorhidrato 500 mg caja conteniendo 60 comprimidos . trayenta duo o similar_x000d__x000d__x000d__x000d__x000d__x000d__x000d__x000d_ _x000d__x000d__x000d__x000d__x000d__x000d__x000d__x000d_',\n",
              " 'caja 60 comprimido recubierto contiene : linagliptina 2 . 5 mg y metformina clorhidrato 1000 mg . similar a trayenta duo 2 . 5 / 1000',\n",
              " 'caja de 60 comprimido recubierto contiene : linagliptina 2 . 5 mg y metformina clorhidrato 1000 mg . similar a trayenta duo 2 . 5 / 1000',\n",
              " 'caja de 60 comprimido recubierto contiene : linagliptina 2 . 5 mg y metformina clorhidrato 850 mg . similar a trayenta duo 2 . 5 / 850',\n",
              " 'caja linagliptina metformina 2 , 5 mg / 1000 mg por 60 comprimidos _x000d__x000d__x000d__x000d__x000d__x000d__x000d_ nota : se sugiere fecha de vencimiento superior a 1 año o en caso contrario contar con politicas de canje',\n",
              " 'caja linagliptina metformina 2 , 5 mg / 850 mg por 60 comprimidos _x000d__x000d__x000d__x000d__x000d__x000d__x000d_ nota : se sugiere fecha de vencimiento superior a 1 año o en caso contrario contar con politicas de canje',\n",
              " 'cajas de linagliptina 2 , 5 mg + metformina 850mg x 60 comp .',\n",
              " 'cajas de linagliptina 2 , 5mg + metformina 1000 mg x 60 comp .',\n",
              " 'cajas de linagliptina 2 , 5mg + metformina 1000mg x 60 comp .',\n",
              " 'cajas de linagliptina 2 , 5mg + metformina 850mg x 60 comp . recubiertos',\n",
              " 'cajas de linagliptina 2 , 5mg / metformina 1000mg ; presentación caja de 30 tabletas ; similar trayenta duo',\n",
              " 'cajas de linagliptina 2 , 5mg / metformina 850mg ; presentación caja de 30 tabletas ; similar trayecta duo .',\n",
              " 'cajas linagliptina 2 , 5 mg / metformina 1000 mg , similar a trayenta duo 2 , 5 / 1000 mg x 60 comprimidos',\n",
              " 'cajas linagliptina 2 , 5 mg / metformina 850 mg , similar a trayenta duo 2 , 5 / 850 mg x 60 comprimidos',\n",
              " 'linagliptina + metformina 2 , 5 / 1000 mg x 60 comp .',\n",
              " 'linagliptina / clorhidrato metformina , 2 , 5mg / 850 mg x 60 comprimido recubierto .',\n",
              " 'linagliptina / metfomina 2 , 5 / 1000 mg . comprimido o capsula',\n",
              " 'linagliptina / metformi_x000d__x000d__x000d__x000d__x000d__x000d__x000d__x000d_ _x000d__x000d__x000d__x000d__x000d__x000d__x000d__x000d_ na 2 , 5 / 850mg trayenta duo comprimido caja x 60_x000d__x000d__x000d__x000d__x000d__x000d__x000d__x000d_ se aumentará la cantidad según la necesidad de la farmacia popular',\n",
              " 'linagliptina / metformina , similar trayenta duo 2 , 5 / 1000 mg x 60 comp .',\n",
              " 'linagliptina / metformina , similar trayenta duo 2 , 5 / 850 mg x 60 comp .',\n",
              " 'linagliptina / metformina 2 , 5 / 1000 mg x 60 capsulas similar a trayenta duo 2 , 5 / 1000 mg x 60 capsulas',\n",
              " 'linagliptina / metformina 2 , 5 / 1000 mg x 60 comp rec similar a trayenta',\n",
              " 'linagliptina / metformina 2 , 5 / 1000 mg x 60 comp rec similar a trayenta duo 2 , 5 / 1000 mg x 60',\n",
              " 'linagliptina / metformina 2 , 5 / 1000 similar a trayenta duo',\n",
              " 'linagliptina / metformina 2 , 5 / 1000 x 30 tabletas similar a trayenta duo',\n",
              " 'linagliptina / metformina 2 , 5 / 1000mg . caja de 60 comprimidos .',\n",
              " 'linagliptina / metformina 2 , 5 / 1000mg comprimido recubierto . fecha de vencimiento superior a 1 año desde la fecha de entrega , no se aceptan cartas de canje',\n",
              " 'linagliptina / metformina 2 , 5 / 1000mg trayenta duo comprimido caja x 60_x000d__x000d__x000d__x000d__x000d__x000d__x000d__x000d_ se aumentará la cantidad según la necesidad de la farmacia popular',\n",
              " 'linagliptina / metformina 2 , 5 / 500 mg envase x 60 comprimidos recubiertos _x000d__x000d__x000d__x000d__x000d__x000d__x000d_',\n",
              " 'linagliptina / metformina 2 , 5 / 500 mg x 60 comp rec similar a trayenta duo 2 , 5 / 500 mg x 60',\n",
              " 'linagliptina / metformina 2 , 5 / 500 x 60 comp similar a trayenta duo',\n",
              " 'linagliptina / metformina 2 , 5 / 850 mg x 60 capsulas similar a trayenta duo 2 , 5 / 850 mg x 60 capsulas',\n",
              " 'linagliptina / metformina 2 , 5 / 850 mg x 60 comp rec similar a trayenta duo 2 , 5 / 850 mg x 60',\n",
              " 'linagliptina / metformina 2 , 5 / 850 mg x 60 comprimidos , caja 60 comprimidos',\n",
              " 'linagliptina / metformina 2 , 5 / 850 mg x 60 comprimidos , caja 60 comprimidos recubiertos',\n",
              " 'linagliptina / metformina 2 , 5 / 850mg . caja de 60 comprimidos .',\n",
              " 'linagliptina / metformina 2 , 5 mg / 100 mg x 60 comprimidos _x000d__x000d__x000d__x000d__x000d__x000d__x000d_ nota : se sugiere fecha de vencimiento superior a 1 año o en caso contrario contar con politicas de canje',\n",
              " 'linagliptina / metformina 2 , 5 mg / 1000 mg x 60 comprimidos_x000d__x000d__x000d__x000d__x000d__x000d__x000d_',\n",
              " 'linagliptina / metformina 2 , 5mg / 1000mg comprimido recubierto . fecha de vencimiento superior a 1 año desde la fecha de entrega',\n",
              " 'linagliptina / metformina 2 , 5mg / 850mg comprimido recubierto',\n",
              " 'linagliptina / metformina 2 . 5 / 1000 mg . caja de 60 comprimidos .',\n",
              " 'linagliptina / metformina 2 . 5 / 1000 mg ., caja 60 comprimidos',\n",
              " 'linagliptina / metformina 2 . 5 / 1000 mg ., caja 60 comprimidos recubiertos',\n",
              " 'linagliptina / metformina 2 . 5 / 1000mg comprimidos recubiertos',\n",
              " 'linagliptina / metformina 2 . 5 / 500 mg . caja de 60 comprimidos .',\n",
              " 'linagliptina / metformina 2 . 5 / 850 comprimidos',\n",
              " 'linagliptina / metformina 2 . 5 / 850 mg . caja de 60 comprimidos .',\n",
              " 'linagliptina / metformina 2 . 5 / 850 mg ., caja 60 comprimidos',\n",
              " 'linagliptina / metformina 2 . 5mg / 1000mg comp recubierto . vencimiento mayor a 12 meses , no se aceptan cartas de canje .',\n",
              " 'linagliptina / metformina 2 . 5mg / 1000mg comprimido recubierto . fecha de vencimiento superior a 1 año desde la fecha de entrega . no se aceptan cartas de canje',\n",
              " 'linagliptina / metformina 2 . 5mg / 850mg comp recubierto . vencimiento mayor a 12 meses , no se aceptan cartas de canje .',\n",
              " 'linagliptina / metformina 2 . 5mg / 850mg comprimido recubierto . vencimiento superior a 1 año desde la fecha de entrega .',\n",
              " 'linagliptina / metformina : 2 , 5 mg linagliptina / 1000 mg metformina , comprimidos recubiertos',\n",
              " 'linagliptina / metformina : 2 , 5 mg linagliptina / 500 mg metformina comprimidos recubiertos',\n",
              " 'linagliptina / metformina : 2 , 5 mg linagliptina / 850 mg metformina , comprimido recubierto',\n",
              " 'linagliptina / metformina clorhidrato , de 60 comp . ( 2 , 5mg / 850 mg )',\n",
              " 'linagliptina 2 , 5 mg + metformina 1000 mg ( similar trayenta duo 2 , 5 / 1000 ) caja de 60 comprimidos',\n",
              " 'linagliptina 2 , 5 mg + metformina 1000 x 60 comprimidos recubiertos .',\n",
              " 'linagliptina 2 , 5 mg + metformina 850 x 60 comprimidos recubiertos .',\n",
              " 'linagliptina 2 , 5 mg . metformina 1 . 000 mg .',\n",
              " 'linagliptina 2 , 5 mg / metformina 1000 mg comprimidos recubiertos . envase comercial conteniendo 60 comprimidos recubiertos',\n",
              " 'linagliptina 2 , 5 mg / metformina 1000 mg x 60 com p rec similar a trayenta',\n",
              " 'linagliptina 2 , 5 mg / metformina 1000 mg x 60 comp recubiertos , caja 60 comp . recubiertos',\n",
              " 'linagliptina 2 , 5 mg / metformina 1000 mg x 60 comp recubiertos , caja 60 comprimidos recubiertos',\n",
              " 'linagliptina 2 , 5 mg / metformina 500 mg . envase conteniendo 60 comprimidos recubiertos . trayenta duo 2 , 5 / 500 mg o similar',\n",
              " 'linagliptina 2 , 5 mg / metformina 500 mg x 60 comp . recubiertos , caja 60 comprimidos',\n",
              " 'linagliptina 2 , 5 mg / metformina 500 mg x 60 comp rec . similar trayenta duo',\n",
              " 'linagliptina 2 , 5 mg / metformina 850 mg comprimidos recubiertos . envase comercial conteniendo 60 comprimidos recubiertos',\n",
              " 'linagliptina 2 , 5 mg / metformina 850 mg x 60 com p rec similar a trayenta',\n",
              " 'linagliptina 2 , 5 mg / metformina clorhidrato 1000 mg , caja x 60 comprimidos recubiertos ( equivalente a trayenta duo )',\n",
              " 'linagliptina 2 , 5 mg ; metformina 1000 mg envase de 60 comprimidos ( eq a trayenta duo ). maximo a pagar $ 27 . 000',\n",
              " 'linagliptina 2 , 5 mg ; metformina 1000 mg envase de 60 comprimidos ( eq a trayenta duo ). maximo a pagar $ 29 . 000 .-',\n",
              " 'linagliptina 2 , 5 mg ; metformina 850 mg envase de 60 comprimidos ( eq a trayenta duo ). maximo a pagar $ 27 . 000',\n",
              " 'linagliptina 2 , 5 mg ; metformina 850 mg envase de 60 comprimidos ( eq a trayenta duo ). maximo a pagar $ 29 . 000 .-',\n",
              " 'linagliptina 2 , 5 mg metformina 1000 mg comprimidos , envasadas en blister pvc o similar y aluminio impreso , envase contenido 30 comprimidos recubiertos , certificacion gmp de la planta productora .( despacho parcializado ) _x000d__x000d__x000d__x000d__x000d__x000d__x000d__x000d_',\n",
              " 'linagliptina 2 , 5 mg metformina 850 mg comprimidos , envasadas en blister pvc o similar y aluminio impreso , envase contenido 60 comprimidos recubiertos , certificacion gmp de la planta productora . ( despacho parcializado ) _x000d__x000d__x000d__x000d__x000d__x000d__x000d__x000d_',\n",
              " 'linagliptina 2 , 5 mg mtformina 1000 mg comprimido envasados en blister pvc o similar y aluminio impreso , envase contenido 60 comprimidos , certificacion gmp de la planta productora . _x000d__x000d__x000d__x000d__x000d__x000d__x000d__x000d_',\n",
              " 'linagliptina 2 , 5 mg mtformina 850 mg comprimido envasados en blister pvc o similar y aluminio impreso , envase contenido 60 comprimidos , certificacion gmp de la planta productora . _x000d__x000d__x000d__x000d__x000d__x000d__x000d__x000d_ _x000d__x000d__x000d__x000d__x000d__x000d__x000d__x000d_ _x000d__x000d__x000d__x000d__x000d__x000d__x000d__x000d_',\n",
              " 'linagliptina 2 , 5 mg y 1000 mg clorhidrato de metformina comprimidos recubiertos ; equivalente a trayenta duo 2 . 5 / 1000 mg 60 comp',\n",
              " 'linagliptina 2 , 5mg / 1000mg metformina x 60 comprimidos recubiertos_x000d__x000d__x000d__x000d__x000d__x000d__x000d__x000d_',\n",
              " 'linagliptina 2 , 5mg / 850mg metformina x 60 comprimidos recubiertos_x000d__x000d__x000d__x000d__x000d__x000d__x000d__x000d_',\n",
              " 'linagliptina 2 . 5 + metformina 1000 mg x 60 comprimidos similar a trayenta duo 2 . 5 / 1000 mg .',\n",
              " 'linagliptina 2 . 5 + metformina 850 mg x 60 comprimidos similar a trayenta duo 2 . 5 / 850 mg .',\n",
              " 'linagliptina 2 . 5 / metformina 500 mg ., caja 60 comprimidos',\n",
              " 'linagliptina 2 . 5 mg + metformina 1000 mg x 60 comp_x000d__x000d__x000d__x000d__x000d__x000d__x000d__x000d_ ( trayenta duo )',\n",
              " 'linagliptina 2 . 5 mg + metformina 850 mg . caja x 60 comp . similar a trayenta duo .....( indicar fecha de vencimiento y registro isp ).. _x000d__x000d__x000d__x000d__x000d__x000d__x000d__x000d_',\n",
              " 'linagliptina 2 . 5 mg + metformina clorhidrato 1000 mg x 30 comprimidos , similar a trayenta duo 2 , 5 / 1000 mg comprimidos recubiertos',\n",
              " 'linagliptina 2 . 5 mg + metformina clorhidrato 1000 mg x 60 comp_x000d__x000d__x000d__x000d__x000d__x000d__x000d__x000d_ ( trayenta duo 2 , 5 / 1000 )',\n",
              " 'linagliptina 2 . 5 mg + metformina clorhidrato 1000 mg x 60 comprimidos , similar a trayenta duo 2 . 5 / 1000 mg x 60 comp .',\n",
              " 'linagliptina 2 . 5 mg + metformina clorhidrato 1000 mg x 60 comprimidos , similar a trayenta duo 2 . 5 / 1000 x 60 comprimidos',\n",
              " 'linagliptina 2 . 5 mg + metformina clorhidrato 1000 mg x 60 comprimidos , similar a trayenta duo comprimidos recubiertos x 60 comp .',\n",
              " 'linagliptina 2 . 5 mg + metformina clorhidrato 1000 mg x 60 comprimidos , similar a trayenta duo x 60 comprimidos recubiertos',\n",
              " 'linagliptina 2 . 5 mg + metformina clorhidrato 850 mg similar a trayenta 2 , 5 / 850mg comprimidos recubiertos',\n",
              " 'linagliptina 2 . 5 mg .+ metformina 850 mg ., ( caja de 30 tabletas )',\n",
              " 'linagliptina 2 . 5 mg / metformina 1000 mg x 60 comp rec , similar trayenta duo',\n",
              " 'linagliptina 2 . 5 mg / metformina 1000 mg x 60 comp rec , similar trayenta duo_x000d__x000d__x000d__x000d__x000d__x000d__x000d__x000d_',\n",
              " 'linagliptina 2 . 5 mg / metformina 500 mg , caja 60 comprimidos',\n",
              " 'linagliptina 2 . 5 mg / metformina 500 mg_x000d__x000d__x000d__x000d__x000d__x000d__x000d__x000d_',\n",
              " 'linagliptina 2 . 5 mg / metformina 850 mg x 60 comp rec . similar trayenta duo_x000d__x000d__x000d__x000d__x000d__x000d__x000d__x000d_',\n",
              " 'linagliptina 2 . 5 mg ; metformina 1000 mg',\n",
              " 'linagliptina 2 . 5 mg ; metformina 500 mg',\n",
              " 'linagliptina 2 . 5 mg ; metformina 850 mg',\n",
              " 'linagliptina 2 . 5 mg y metformina clorhidrato 850 mg x 60 comp',\n",
              " 'linagliptina 2 . 5 mg y metformina clorhidrato 850 mg x 60 comp rec similar a trayenta duo',\n",
              " 'linagliptina 2 . 5mg + metformina 850mg comprimidos ( similar generico o bioequivalente ) caja x30',\n",
              " 'linagliptina 2 . 5mg / metformina 1000 mg x 60 comp_x000d__x000d__x000d__x000d__x000d__x000d__x000d__x000d_',\n",
              " 'linagliptina 2 . 5mg / metformina 1000mg',\n",
              " 'linagliptina 2 . 5mg / metformina 1000mg comprimidos recubiertos similar trayenta duo',\n",
              " 'linagliptina 2 . 5mg / metformina 1000mg x 60 comp rec_x000d__x000d__x000d__x000d__x000d__x000d__x000d__x000d_',\n",
              " 'linagliptina 2 . 5mg / metformina 850 mg x60 ** trayenta duo **',\n",
              " 'linagliptina 2 . 5mg / metformina 850mg comprimidos recubiertos similar trayenta duo',\n",
              " 'lo que se requiere es linagliptina 2 . 5 mg metformina 1000 x 56 cm',\n",
              " 'lo que se requiere es linagliptina 2 . 5 mg metformina 850 x 56 c',\n",
              " 'metformina 1000 mg / linagliptina 2 , 5 mg , envase con 60 comprimidos . fecha de vencimiento no menor a 12 meses .',\n",
              " 'metformina 500 mg + linagliptina 2 , 5 mg , envase con 60 comprimidos . fecha de vencimiento no menor a 12 meses .',\n",
              " 'metformina 500 mg linagliptina 2 , 5 mg , envase con 60 comprimidos . fecha de vencimiento no menor a 8 meses .',\n",
              " 'metformina 500mg / linagliptina 2 . 5mg , según lo solicitado en bases administrativas , técnicas y anexos adjuntos .',\n",
              " 'metformina 850 mg + linagliptina 2 , 5 mg , envase con 60 comprimidos . fecha de vencimiento no menor a 12 meses .',\n",
              " 'metformina 850 mg linagliptina 2 , 5 mg , envase con 60 comprimidos . fecha de vencimiento no menor a 8 meses .',\n",
              " 'suministro de linagliptina 2 . 5 mg / clorhidrato de metformina 1000 mg , caja 60 comprimidos recubiertos',\n",
              " 'suministro linagliptina 2 . 5 mg / clorhidrato de metformina 850 mg , caja 60 comprimidos recubiertos',\n",
              " 'trayenta duo ( linagliptina 2 . 5 mg y clorhidrato de metformina 500 mg ) x28comp . o similar . _x000d__x000d__x000d__x000d__x000d__x000d__x000d__x000d_',\n",
              " 'trayenta duo ( o similar ) ( linagliptina 2 . 5 mg y clorhidrato de metformina 500 mg ).',\n",
              " 'trayenta duo 2 , 5 / 850 - linagliptina 2 , 5 mg / metformina 850 mg'}"
            ]
          },
          "metadata": {},
          "execution_count": 217
        }
      ]
    },
    {
      "cell_type": "code",
      "source": [
        "dictionary_medicine_name[179]"
      ],
      "metadata": {
        "colab": {
          "base_uri": "https://localhost:8080/",
          "height": 35
        },
        "id": "Wo_bs-EY6p8n",
        "outputId": "3161912e-f6e5-4429-f83c-65a2dddca821"
      },
      "id": "Wo_bs-EY6p8n",
      "execution_count": null,
      "outputs": [
        {
          "output_type": "execute_result",
          "data": {
            "text/plain": [
              "'linagliptina'"
            ],
            "application/vnd.google.colaboratory.intrinsic+json": {
              "type": "string"
            }
          },
          "metadata": {},
          "execution_count": 390
        }
      ]
    },
    {
      "cell_type": "code",
      "source": [
        "total_list_180 = [' '.join(row) for row in total_list[150]]\n",
        "set(total_list_180)\n",
        "#dictionary_medicine_name[180]"
      ],
      "metadata": {
        "colab": {
          "base_uri": "https://localhost:8080/"
        },
        "id": "PREYwKaR-_N_",
        "outputId": "38a799dd-4ff6-4989-a7bf-28aff7a7b4ec"
      },
      "id": "PREYwKaR-_N_",
      "execution_count": 218,
      "outputs": [
        {
          "output_type": "execute_result",
          "data": {
            "text/plain": [
              "{'linezolid 600 mg cm rec', 'linezolid 600mg / 300ml soluc . iny . iv'}"
            ]
          },
          "metadata": {},
          "execution_count": 218
        }
      ]
    },
    {
      "cell_type": "code",
      "source": [
        "dictionary_medicine_name[180]"
      ],
      "metadata": {
        "colab": {
          "base_uri": "https://localhost:8080/",
          "height": 35
        },
        "id": "e2HS0Y_Z-_CY",
        "outputId": "e8615004-6cfd-4e83-a0bd-fcd96432a5be"
      },
      "id": "e2HS0Y_Z-_CY",
      "execution_count": null,
      "outputs": [
        {
          "output_type": "execute_result",
          "data": {
            "text/plain": [
              "'linezolid'"
            ],
            "application/vnd.google.colaboratory.intrinsic+json": {
              "type": "string"
            }
          },
          "metadata": {},
          "execution_count": 392
        }
      ]
    },
    {
      "cell_type": "code",
      "source": [
        "total_list_181 = [' '.join(row) for row in total_list[151]]\n",
        "set(total_list_181)\n",
        "#dictionary_medicine_name[181]"
      ],
      "metadata": {
        "colab": {
          "base_uri": "https://localhost:8080/"
        },
        "id": "_uBfwkLB--zv",
        "outputId": "8c9316bd-0054-410c-fa23-e7d88fa1895d"
      },
      "id": "_uBfwkLB--zv",
      "execution_count": 219,
      "outputs": [
        {
          "output_type": "execute_result",
          "data": {
            "text/plain": [
              "{'1092020 - 5 inisulina ultrarspida lispro en lapiz o equivalente a humalog kwikpen .',\n",
              " '1092020 - 5 insulina ultra rapida insulina ultrarapida lispro en lapiz o equivalente a humalog kwikpen',\n",
              " 'insulina insulina lispro solucion inyectable 100 uiml x fa 10 ml , tipo humalog .',\n",
              " 'insulina lispro ( origen adn recombinante ) 100 u . 1 vial de 10 ml similar a humalog_x000d__x000d__x000d__x000d__x000d__x000d__x000d__x000d_',\n",
              " 'insulina lispro 100 u / ml 5 x 3 ml similar a humalog kwikpen',\n",
              " 'insulina lispro 100 u / ml 5 x 3ml similar a humalog kwikpen',\n",
              " 'insulina lispro 100ui / ml x 5 inyectores similar a humalog kwipen',\n",
              " 'insulina lispro catridge ( 2620034 )',\n",
              " 'insulina ultrapida lispro 100 ui / ml cartucho 3ml ( 2620034 )'}"
            ]
          },
          "metadata": {},
          "execution_count": 219
        }
      ]
    },
    {
      "cell_type": "code",
      "source": [
        "dictionary_medicine_name[181]"
      ],
      "metadata": {
        "colab": {
          "base_uri": "https://localhost:8080/",
          "height": 35
        },
        "id": "0dvQhSfu--mf",
        "outputId": "b2d872eb-f909-42e2-f65a-735b95a50578"
      },
      "id": "0dvQhSfu--mf",
      "execution_count": null,
      "outputs": [
        {
          "output_type": "execute_result",
          "data": {
            "text/plain": [
              "'lispro'"
            ],
            "application/vnd.google.colaboratory.intrinsic+json": {
              "type": "string"
            }
          },
          "metadata": {},
          "execution_count": 394
        }
      ]
    },
    {
      "cell_type": "code",
      "source": [
        "total_list_182 = [' '.join(row) for row in total_list[152]]\n",
        "set(total_list_182)\n",
        "#dictionary_medicine_name[182]"
      ],
      "metadata": {
        "colab": {
          "base_uri": "https://localhost:8080/"
        },
        "id": "jygeJUQd--hI",
        "outputId": "1a60e53b-09f8-492a-dbe1-bb4255456fb5"
      },
      "id": "jygeJUQd--hI",
      "execution_count": 220,
      "outputs": [
        {
          "output_type": "execute_result",
          "data": {
            "text/plain": [
              "{'lopinavir / ritonav 80 / 20 mg / ml x ml',\n",
              " 'lopinavir / ritonavir 200 / 50 mg cm rec .'}"
            ]
          },
          "metadata": {},
          "execution_count": 220
        }
      ]
    },
    {
      "cell_type": "code",
      "source": [
        "dictionary_medicine_name[182]"
      ],
      "metadata": {
        "colab": {
          "base_uri": "https://localhost:8080/",
          "height": 35
        },
        "id": "G6T4diTX_efp",
        "outputId": "82238bef-49b8-4ea7-c37f-1f138b182ee5"
      },
      "id": "G6T4diTX_efp",
      "execution_count": null,
      "outputs": [
        {
          "output_type": "execute_result",
          "data": {
            "text/plain": [
              "'lopinavir'"
            ],
            "application/vnd.google.colaboratory.intrinsic+json": {
              "type": "string"
            }
          },
          "metadata": {},
          "execution_count": 396
        }
      ]
    },
    {
      "cell_type": "code",
      "source": [
        "total_list_183 = [' '.join(row) for row in total_list[153]]\n",
        "total_list_183\n",
        "#dictionary_medicine_name[183]"
      ],
      "metadata": {
        "colab": {
          "base_uri": "https://localhost:8080/"
        },
        "id": "bSiriH9U_ea_",
        "outputId": "4d66c9a4-5b16-4dbd-c2a2-1554e8d31fcf"
      },
      "id": "bSiriH9U_ea_",
      "execution_count": null,
      "outputs": [
        {
          "output_type": "execute_result",
          "data": {
            "text/plain": [
              "['loratadina']"
            ]
          },
          "metadata": {},
          "execution_count": 399
        }
      ]
    },
    {
      "cell_type": "code",
      "source": [
        "dictionary_medicine_name[183]"
      ],
      "metadata": {
        "colab": {
          "base_uri": "https://localhost:8080/",
          "height": 35
        },
        "id": "wTchBeau_eWo",
        "outputId": "d7b71a45-bf0d-4b6d-84f0-aec62e8a29ca"
      },
      "id": "wTchBeau_eWo",
      "execution_count": null,
      "outputs": [
        {
          "output_type": "execute_result",
          "data": {
            "text/plain": [
              "'loratadina'"
            ],
            "application/vnd.google.colaboratory.intrinsic+json": {
              "type": "string"
            }
          },
          "metadata": {},
          "execution_count": 398
        }
      ]
    },
    {
      "cell_type": "code",
      "source": [
        "total_list_184 = [' '.join(row) for row in total_list[154]]\n",
        "total_list_184\n",
        "#dictionary_medicine_name[184]"
      ],
      "metadata": {
        "colab": {
          "base_uri": "https://localhost:8080/"
        },
        "id": "tLOzHJLm_eSd",
        "outputId": "d9e86362-32d4-4a9a-b628-50b8392a5098"
      },
      "id": "tLOzHJLm_eSd",
      "execution_count": null,
      "outputs": [
        {
          "output_type": "execute_result",
          "data": {
            "text/plain": [
              "['lorazepam']"
            ]
          },
          "metadata": {},
          "execution_count": 401
        }
      ]
    },
    {
      "cell_type": "code",
      "source": [
        "dictionary_medicine_name[184]"
      ],
      "metadata": {
        "colab": {
          "base_uri": "https://localhost:8080/",
          "height": 35
        },
        "id": "9HkKPEAu_eO9",
        "outputId": "7b18e307-4386-44c0-ae6d-d520e7afa7e0"
      },
      "id": "9HkKPEAu_eO9",
      "execution_count": null,
      "outputs": [
        {
          "output_type": "execute_result",
          "data": {
            "text/plain": [
              "'lorazepam'"
            ],
            "application/vnd.google.colaboratory.intrinsic+json": {
              "type": "string"
            }
          },
          "metadata": {},
          "execution_count": 400
        }
      ]
    },
    {
      "cell_type": "code",
      "source": [
        "total_list_185 = [' '.join(row) for row in total_list[155]]\n",
        "set(total_list_185)\n",
        "#dictionary_medicine_name[185]"
      ],
      "metadata": {
        "colab": {
          "base_uri": "https://localhost:8080/"
        },
        "id": "waoXlGm3_eKC",
        "outputId": "7656f43f-3646-437d-da75-a5fec0d8c376"
      },
      "id": "waoXlGm3_eKC",
      "execution_count": 221,
      "outputs": [
        {
          "output_type": "execute_result",
          "data": {
            "text/plain": [
              "{'\" losartan 50 mg . comprimidos . . . . . . . .. . . . . . . . . ( se adjuntan bases administrativas y técnicas \"\" leerlas para ofertar \"\")\"',\n",
              " '\" losartan 50 mg . comprimidos ... .. . . . .. .. . . . .( se adjuntan bases adminstrativas y técnicas \"\" leerlas p / ofertar \"\")\"',\n",
              " '( 214 - 6200 ) losartan potasico 50mg_x000d__x000d__x000d__x000d__x000d__x000d_',\n",
              " '12145704000 losartan potasico cm 50 mg',\n",
              " '1300167 losartan potasico 50 mg uso ocasional cm_x000d__x000d__x000d__x000d__x000d__x000d_',\n",
              " '150 . 000 losartan ( potasico ) 50 mg 1 comprimido',\n",
              " '170 cajas x 1000 comprimidos losartan 50mg',\n",
              " '200 . 000 losartan 50 mg , comprimidos',\n",
              " '214 - 0057 losartan cm 50 mg envasado en blister',\n",
              " '214 - 0057 losartan comprimido 50mg . envasado en blister',\n",
              " '214 - 0173 losartan potasico 50 mg . _x000d__x000d__x000d__x000d__x000d__x000d_',\n",
              " '214 - 0299 losartan 50 mg . comprimido 450 . 000',\n",
              " '214 - 2550 losartan 50 mg cm_x000d__x000d__x000d__x000d__x000d__x000d_',\n",
              " '214 - 4730 losartan potasico comprimidos recubiertos 50 mg . en blister bioequivalente',\n",
              " '214 - 8904 | losartan cm 50 mg',\n",
              " '214 - r029 losartan potasico 50 mg',\n",
              " '2140151 losartan 50mg comprimido',\n",
              " '28000 comprimidos recubiertos losartan potasio 50mg . con fecha vencimiento 28 febrero de 2021 .',\n",
              " '40400110061 losartan potasico 50 mg',\n",
              " '50 - 214 - 100 - 010 - 00 losartan 50 mg cmp_x000d__x000d__x000d__x000d__x000d__x000d_',\n",
              " '50 - 214 - 100 - 010 - 00 losartan 50 mg_x000d__x000d__x000d__x000d__x000d__x000d_',\n",
              " '50 - 214 - 100 - 017 - 00 losartan 50mg cmp_x000d__x000d__x000d__x000d__x000d__x000d_',\n",
              " '50000 cm losartan 50 mg',\n",
              " '50000 cm losartan 50mg',\n",
              " '600 . 000 comprimidos de losartan ( potásico ) 50 mg ( fofar )',\n",
              " '80 cajas x 1000 comprimidos losartan 50 mg',\n",
              " '84 cajas x 1000 comprimidos losartan 50mg',\n",
              " 'cm . losartan 50 mg . _x000d__x000d__x000d__x000d__x000d__x000d_',\n",
              " 'cm de losartan de 50 mg',\n",
              " 'cm losartan cm 50 mg',\n",
              " 'com . losartan 50 mg',\n",
              " 'comprimidos de losartan 50 mg',\n",
              " 'comprimidos de losartan potasico de 50 mg',\n",
              " 'comprimidos losartan de 50 mg',\n",
              " 'comprimidos losartan potasio 50 mg',\n",
              " 'item 14 : losartan 50 mg comprimido o comprimido recubierto ( be',\n",
              " 'item n ° 60 losartan 50 mg ; según especificaciones técnicas .',\n",
              " 'lo que se requiere es losartan 50 mg',\n",
              " 'lo que se requiere es losartan 50 mg x 30 comp',\n",
              " 'losartan ( potasico ) - comprimido 50 mg - via oral . 10 - 100 - 214 - 022 - 00',\n",
              " 'losartan ( potasico ) - comprimido 50 mg - via oral_x000d__x000d__x000d__x000d__x000d__x000d_',\n",
              " 'losartan ( potasico ) 50 mg . comprimido .',\n",
              " 'losartan ( potasico ) 50 mg comprimido , indicar en especificaciones del proveedor fecha de vencimiento , laboratorio , plazo de entrega y monto mínimo para el despacho .',\n",
              " 'losartan ( potasico ) comprimido 50 mg',\n",
              " 'losartan ( potasico ) comprimido 500 mg',\n",
              " 'losartan ( potasico ) comprimidos 50 mg',\n",
              " 'losartan ( potasico ) comprimidos de 50 mg',\n",
              " 'losartan ( potasio ) 50mg comprimidos',\n",
              " 'losartan ( potásico ) comprimido 50 mg_x000d__x000d__x000d__x000d__x000d__x000d_',\n",
              " 'losartan , 50 mg comprimido_x000d__x000d__x000d__x000d__x000d__x000d_',\n",
              " 'losartan , comprimido 50mg .',\n",
              " 'losartan 100 mg cm / cm rec',\n",
              " 'losartan 50 [ mg ] _x000d__x000d__x000d__x000d__x000d__x000d_',\n",
              " 'losartan 50 mg',\n",
              " 'losartan 50 mg ( ver bases tecnicas y administrativas )',\n",
              " 'losartan 50 mg , comprimidos',\n",
              " 'losartan 50 mg , envase comercial _x000d__x000d__x000d__x000d__x000d__x000d_',\n",
              " 'losartan 50 mg - comprimidos',\n",
              " 'losartan 50 mg - presentación : comprimido_x000d__x000d__x000d__x000d__x000d__x000d_',\n",
              " 'losartan 50 mg .',\n",
              " 'losartan 50 mg . cm / cm . rec .',\n",
              " 'losartan 50 mg . comp .',\n",
              " 'losartan 50 mg . comprimido',\n",
              " 'losartan 50 mg . comprimido ( fofar )',\n",
              " 'losartan 50 mg . comprimido - vencimiento igual o superior a 12 meses . - registro sanitario vigente . - bioequivalente - cumplir la descripcion de articulo requerida .',\n",
              " 'losartan 50 mg . comprimido o capsula',\n",
              " 'losartan 50 mg . comprimido recubierto',\n",
              " 'losartan 50 mg . comprimidos',\n",
              " 'losartan 50 mg . comprimidos , envase sellado , resistente e inadulterado . deseable envase clínico',\n",
              " 'losartan 50 mg . comprimidos . envase sellado , resistente e inadulterado .',\n",
              " 'losartan 50 mg . comprimidos . envase sellado , resistente e inadulterado . deseable envase no superior a 30 comprimidos',\n",
              " 'losartan 50 mg . comprimidos . envase sellado , resistente e inadulterado . deseable envase no superior a 30 unidades .',\n",
              " 'losartan 50 mg .-',\n",
              " 'losartan 50 mg .....( indicar fecha de vencimiento y registro isp ).',\n",
              " 'losartan 50 mg .....( indicar registro isp )..',\n",
              " 'losartan 50 mg / cm rec',\n",
              " 'losartan 50 mg // salud mental //',\n",
              " 'losartan 50 mg 10 - 100 - 214 - 022 - 00 vencimiento superior a 12 meses',\n",
              " 'losartan 50 mg _x000d__x000d__x000d__x000d__x000d__x000d_ envase de 30 comprimidos',\n",
              " 'losartan 50 mg bioequivalente ( vencimiento superior a 1 año )',\n",
              " 'losartan 50 mg caja x 30 com . ( o equivalente )',\n",
              " 'losartan 50 mg cm',\n",
              " 'losartan 50 mg cm ( 2140552 )',\n",
              " 'losartan 50 mg cm ( consumo prom . mens : 400 . 000 ) _x000d__x000d__x000d__x000d__x000d__x000d_',\n",
              " 'losartan 50 mg cm . cotizar x comprimidos y vencimientos minimo 18 / 24 meses',\n",
              " 'losartan 50 mg cm . cotizar x comprimidos y vencimientos mínimo 18 / 24 meses',\n",
              " 'losartan 50 mg cm / cm rec',\n",
              " 'losartan 50 mg cm / cm rec $ 2144920 $ cm',\n",
              " 'losartan 50 mg cm / cm rec ., indicar fecha de vencimiento , laboratorio , plazo de entrega y monto despacho mínimo en especificaciones del proveedor .',\n",
              " 'losartan 50 mg cm / cm rec : losartan 50 mg , comprimidos',\n",
              " 'losartan 50 mg cm bioequivalente',\n",
              " 'losartan 50 mg cm_x000d__x000d__x000d__x000d__x000d__x000d_',\n",
              " 'losartan 50 mg cm_x000d__x000d__x000d__x000d__x000d__x000d_ _x000d__x000d__x000d__x000d__x000d__x000d_',\n",
              " 'losartan 50 mg comp',\n",
              " 'losartan 50 mg comp ( linea 92 )',\n",
              " 'losartan 50 mg comp .',\n",
              " 'losartan 50 mg comprimido',\n",
              " 'losartan 50 mg comprimido , entregas parcializadas cada 2 mses',\n",
              " 'losartan 50 mg comprimido .',\n",
              " 'losartan 50 mg comprimido _x000d__x000d__x000d__x000d__x000d__x000d_ nota : se sugiere fecha de vencimiento superior a 1 año o en caso contrario contar con politicas de canje',\n",
              " 'losartan 50 mg comprimido bioequivalente',\n",
              " 'losartan 50 mg comprimido en blister . vencimiento mayor a 18 meses desde el envio de la oc .',\n",
              " 'losartan 50 mg comprimido envasado en blister',\n",
              " 'losartan 50 mg comprimido o comprimido recubierto envasado en blister',\n",
              " 'losartan 50 mg comprimido o comprimido recubierto envasado en blister .',\n",
              " 'losartan 50 mg comprimido o comprimido recubierto envasado en blister . envase resistente con sello que asegure la inviolabilidad del contenido . _x000d__x000d__x000d__x000d__x000d__x000d_',\n",
              " 'losartan 50 mg comprimido ranurado caja de 1000 comp . vencimiento superior a 2 años documentacion tecnica solicitada : certificado de farmacovigilancia , politica de canje y devolucion , certificado de analisis de lote',\n",
              " 'losartan 50 mg comprimido ranurado oral envasado en blister . envase resistente con sello que asegure la inviolabilidad del contenido .',\n",
              " 'losartan 50 mg comprimido ranurado vencimiento superior a 2 años documentacion tecnica solicitada : certificado de farmacovigilancia , politica de canje y devolucion , certificado de analisis de lote',\n",
              " 'losartan 50 mg comprimido recubierto',\n",
              " 'losartan 50 mg comprimido_x000d__x000d__x000d__x000d__x000d__x000d_',\n",
              " 'losartan 50 mg comprimido_x000d__x000d__x000d__x000d__x000d__x000d_ nota : se sugiere fecha de vencimiento superior a 1 año o en caso contrario contar con políticas de canje',\n",
              " 'losartan 50 mg comprimidos',\n",
              " 'losartan 50 mg comprimidos , envasados en blister de pvc o similar y alumino impreso , certificación gmp de la planta productora ( despacho parcializado ) _x000d__x000d__x000d__x000d__x000d__x000d_',\n",
              " 'losartan 50 mg comprimidos 20 . 000 unidades con feche de vencimiento de un año .',\n",
              " 'losartan 50 mg comprimidos 30 . 000 unidades con fecha de vto superior a un año',\n",
              " 'losartan 50 mg comprimidos bioequivalentes / cajas x 1000',\n",
              " 'losartan 50 mg comprimidos envase clinico',\n",
              " 'losartan 50 mg comprimidos ranurados según bases tecnicas',\n",
              " 'losartan 50 mg comprimidos recubiertos , envasados en blister pvc y / o similar y aluminio impreso , farmaco de referencia o medicamento bioequivalente ( se requerira despachos parcializados )',\n",
              " 'losartan 50 mg comprimidos recubiertos , envasados en blister pvc y / o similar y aluminio impreso , farmaco de referencia o medicamento bioequivalente ( se requerira despachos parcializados ) _x000d__x000d__x000d__x000d__x000d__x000d_',\n",
              " 'losartan 50 mg en comprimido',\n",
              " 'losartan 50 mg vo',\n",
              " 'losartan 50 mg x 30 comprimidos , bioequivalente',\n",
              " 'losartan 50 mg x caja con 30 comprimidos',\n",
              " 'losartan 50 mg y hidroclorotiazida 12 , 5 mg comprimidos , envasado en blister de pvc o similar y alumino impreso , envase contiene 30 comprimidos recubiertos . certificacion gmp de la planta productora ( despacho parcializado ) _x000d__x000d__x000d__x000d__x000d__x000d_',\n",
              " 'losartan 50 mg_x000d__x000d__x000d__x000d__x000d_',\n",
              " 'losartan 50 mg_x000d__x000d__x000d__x000d__x000d__x000d_',\n",
              " 'losartan 50 mgs',\n",
              " 'losartan 50mg',\n",
              " 'losartan 50mg ( bioequivalente )',\n",
              " 'losartan 50mg ** cardiovascular **',\n",
              " 'losartan 50mg , comprimido',\n",
              " 'losartan 50mg , comprimidos',\n",
              " 'losartan 50mg . comprimido . indicar fecha de vencimiento en la presentación de los productos .',\n",
              " 'losartan 50mg . comprimido recubierto ranurado',\n",
              " 'losartan 50mg . comprimidos . vencimiento igual o superior a 12 meses',\n",
              " 'losartan 50mg . cotizar por comprimido . vencimiento igual o superior a 12 meses . indicar monto mínimo de facturación y despacho .',\n",
              " 'losartan 50mg . cotizar por comprimido . vencimiento igual o superior a 12 meses . indicar monto mínimo de facturación y despacho por linea .',\n",
              " 'losartan 50mg . cotizar por comprimido . vencimiento igual o superior a 12 meses . indicar vencimiento y monto mínimo de facturación y despacho por linea .',\n",
              " 'losartan 50mg // cardiovascular //',\n",
              " 'losartan 50mg caja x 30 comp',\n",
              " 'losartan 50mg caja x 30 comp_x000d__x000d__x000d__x000d__x000d__x000d_',\n",
              " 'losartan 50mg cm ( 2140552 )',\n",
              " 'losartan 50mg comp .',\n",
              " 'losartan 50mg comp / rec',\n",
              " 'losartan 50mg comp_x000d__x000d__x000d__x000d__x000d__x000d_ ver indicaciones técnicas en la cláusula n ° 8 . 2 . 2 de las bases .',\n",
              " 'losartan 50mg comprimido',\n",
              " 'losartan 50mg comprimido_x000d__x000d__x000d__x000d__x000d__x000d_',\n",
              " 'losartan 50mg comprimidos',\n",
              " 'losartan 50mg con fecha de vencimientos 2023 o superior',\n",
              " 'losartan 50mg con vencimientos igual o superior a 2022',\n",
              " 'losartan 50mg ranurado',\n",
              " 'losartan 50mg x cm / cm rec ( bioequivalente )',\n",
              " 'losartan cm . 50 mg .',\n",
              " 'losartan cm 50 mg',\n",
              " 'losartan cm 50 mg _x000d__x000d__x000d__x000d__x000d__x000d_',\n",
              " 'losartan cm 50 mg cm _x000d__x000d__x000d__x000d__x000d__x000d_',\n",
              " 'losartan cm 50 mg comprimido',\n",
              " 'losartan cm 50 mg_x000d__x000d__x000d__x000d__x000d__x000d_',\n",
              " 'losartan cm 50mg',\n",
              " 'losartan cmp . 50 mg .',\n",
              " 'losartan cmp . 50 mg . x 1000',\n",
              " 'losartan comp . 50 mg .',\n",
              " 'losartan comp . 50 mg hosdip ac4209',\n",
              " 'losartan comp . x 50 mg .',\n",
              " 'losartan comp 50 mg',\n",
              " 'losartan comp 50mg',\n",
              " 'losartan comprimido 50mg bioequivalente',\n",
              " 'losartan comprimidos de 50mg',\n",
              " 'losartan de 50 mg , comprimidos',\n",
              " 'losartan de 50 mg .',\n",
              " 'losartan de 50mg',\n",
              " 'losartan en comprimidos de 50 mg',\n",
              " 'losartan potas . cm 50 mg ( cjx $ 2144920cm',\n",
              " 'losartan potasico , comprimidos recubiertos de 50 mg .',\n",
              " 'losartan potasico 40 mg indicar unidad de presentación , precio por comprimido , fecha de vencimiento superior a 12 meses y monto mínimo para despacho y / o facturación .',\n",
              " 'losartan potasico 50 mg',\n",
              " 'losartan potasico 50 mg , compromido / comprimido recubierto ( np nº7 - fofar )',\n",
              " 'losartan potasico 50 mg - presentación : comprimido_x000d__x000d__x000d__x000d__x000d__x000d_',\n",
              " 'losartan potasico 50 mg . _x000d__x000d__x000d__x000d__x000d__x000d_ comprimidos',\n",
              " 'losartan potasico 50 mg . cm . vencimiento superior a 12 meses',\n",
              " 'losartan potasico 50 mg . comprimido',\n",
              " 'losartan potasico 50 mg . comprimidos',\n",
              " 'losartan potasico 50 mg ., especificar marca , caracteristicas y presentacion . consumo promedio mensual 10000 comprimidos aproximados .',\n",
              " 'losartan potasico 50 mg bioequivalente ( vencimiento superior a 1 año )',\n",
              " 'losartan potasico 50 mg cm',\n",
              " 'losartan potasico 50 mg cm / cm rec',\n",
              " 'losartan potasico 50 mg cm despacho fraccionado_x000d__x000d__x000d__x000d__x000d__x000d_ _x000d__x000d__x000d__x000d__x000d__x000d_ 60 . 000 30 abril - 60 . 000 2 de junio',\n",
              " 'losartan potasico 50 mg cm ranurado beq .',\n",
              " 'losartan potasico 50 mg cm ranurado beq . _x000d__x000d__x000d__x000d__x000d__x000d_',\n",
              " 'losartan potasico 50 mg cm_x000d__x000d__x000d__x000d__x000d__x000d_',\n",
              " 'losartan potasico 50 mg cod . int . 40400110061',\n",
              " 'losartan potasico 50 mg comp .',\n",
              " 'losartan potasico 50 mg comp . ( linea 60 )',\n",
              " 'losartan potasico 50 mg comprimido',\n",
              " 'losartan potasico 50 mg comprimido f_x000d__x000d__x000d__x000d__x000d__x000d_',\n",
              " 'losartan potasico 50 mg comprimidos',\n",
              " 'losartan potasico 50 mg comprimidos ( equivalente terapéutico / presentación por envase 30 o 1000 comp / regist . sanitario vigente / proveedor con autor . sanitaria vigente )',\n",
              " 'losartan potasico 50 mg comprimidos ( original o bioequivalente )',\n",
              " 'losartan potasico 50 mg comprimidos .',\n",
              " 'losartan potasico 50 mg oral',\n",
              " 'losartan potasico 50mg',\n",
              " 'losartan potasico 50mg , comprimido , caja 1000 comprimidos ( f )',\n",
              " 'losartan potasico 50mg . cm . vencimiento superior a 12 meses .',\n",
              " 'losartan potasico cm 50 mg',\n",
              " 'losartan potasico cm 50 mg . _x000d__x000d__x000d__x000d__x000d__x000d_ ( cod . siabi 118841 ) _x000d__x000d__x000d__x000d__x000d__x000d_',\n",
              " 'losartan potasico cm 50 mg _x000d__x000d__x000d__x000d__x000d__x000d_ $ 2144920 $ cm',\n",
              " 'losartan potasico cm 50 mg _x000d__x000d__x000d__x000d__x000d__x000d_ ( cod . siabi 118841 )',\n",
              " 'losartan potasico cm 50 mg x 1000 cm',\n",
              " 'losartan potasico cm o cm recubierto 50 mg envasado en blister envase resistente con sello que asegure inviolabilidad del contenido',\n",
              " 'losartan potasico comp . recubiertos 50 mg .',\n",
              " 'losartan potasico comprimido 50 mg 70 . 000 inmediato',\n",
              " 'losartan potasico comprimidos 50 mg',\n",
              " 'losartan potasico comprimidos recubiertos 50 mg',\n",
              " 'losartan potasico comprimidos recubiertos 50 mg _x000d__x000d__x000d__x000d__x000d__x000d_',\n",
              " 'losartan potasico comprimidos recubiertos 50 mg bioequivalente ( vencimiento superior a 1 año )',\n",
              " 'losartan potasico comprimidos recubiertos 50 mg_x000d__x000d__x000d__x000d__x000d__x000d_',\n",
              " 'losartan potasico comprimidos recubiertos 50mg',\n",
              " 'losartan potasico recubierto 50mg',\n",
              " 'losartan potasio 50mg . comprimidos recubiertos , con fecha vencimiento 30 de septiembre de 2021 .',\n",
              " 'losartan potasio 50mg . comprimidos recubiertos , con fecha vencimiento septiembre de 2021 .',\n",
              " 'losartan potásico',\n",
              " 'losartan potásico .',\n",
              " 'losartan potásico 50 mg',\n",
              " 'losartan potásico 50 mg , comprimido',\n",
              " 'losartan potásico 50 mg . cm . vencimiento superior a 12 meses',\n",
              " 'losartan potásico 50 mg . revisar bases adjuntas',\n",
              " 'losartan potásico 50 mg . vencimiento superior a 12 meses',\n",
              " 'losartan potásico 50 mg / hidroclorotiazida 12 . 5 mg simperten d 50 / 12 , 5mg caja x 30 comprimidos',\n",
              " 'losartan potásico 50 mg x 30 comp recubiertos , caja 30 comprimidos',\n",
              " 'losartan potásico 50 mg x 30 comp recubiertos_x000d__x000d__x000d__x000d__x000d__x000d_',\n",
              " 'losartan potásico 50 mg_x000d__x000d__x000d__x000d__x000d__x000d_',\n",
              " 'losartan potásico 50mg',\n",
              " 'losartan potásico 50mg .',\n",
              " 'losartan potásico cm 50mg',\n",
              " 'm01d0114 losartan 50mg comp .',\n",
              " 'se requiere adquirir losartan 50 mg / cm',\n",
              " 'se requiere adquirir losartan 50mg / cm',\n",
              " 'se requiere adquirir losartan potasico 50 mg / cm',\n",
              " 'suministro de losartan cm 50 mg comprimidos',\n",
              " 'suministro de losartan potásico 50 mg',\n",
              " 'unidades de losartan 50mg . comprimidos'}"
            ]
          },
          "metadata": {},
          "execution_count": 221
        }
      ]
    },
    {
      "cell_type": "code",
      "source": [
        "dictionary_medicine_name[185]"
      ],
      "metadata": {
        "colab": {
          "base_uri": "https://localhost:8080/",
          "height": 35
        },
        "id": "3xeepv3PAGRD",
        "outputId": "1a42cf49-1ec0-40a9-e852-c0b085523003"
      },
      "id": "3xeepv3PAGRD",
      "execution_count": null,
      "outputs": [
        {
          "output_type": "execute_result",
          "data": {
            "text/plain": [
              "'losartan'"
            ],
            "application/vnd.google.colaboratory.intrinsic+json": {
              "type": "string"
            }
          },
          "metadata": {},
          "execution_count": 402
        }
      ]
    },
    {
      "cell_type": "code",
      "source": [
        "total_list_186 = [' '.join(row) for row in total_list[156]]\n",
        "set(total_list_186)\n",
        "#dictionary_medicine_name[186]"
      ],
      "metadata": {
        "colab": {
          "base_uri": "https://localhost:8080/"
        },
        "id": "cgZHCVpqAIG1",
        "outputId": "fe76986a-b2da-4b6c-b690-5f2c8da2bb75"
      },
      "id": "cgZHCVpqAIG1",
      "execution_count": 222,
      "outputs": [
        {
          "output_type": "execute_result",
          "data": {
            "text/plain": [
              "{'3002140078 losartán potásico 50 mg comprimido',\n",
              " 'cada comprimido recubierto contiene : losartán potásico 50 . 00 mg . cantidad estimada 20000 comprimidos',\n",
              " 'losartán 50 mg',\n",
              " 'losartán 50 mg .',\n",
              " 'losartán 50 mg . cm .',\n",
              " 'losartán 50 mg . cm / cm . rec .',\n",
              " 'losartán 50 mg : 30 . 000 comprimidos',\n",
              " 'losartán 50 mg cm',\n",
              " 'losartán 50 mg comprimido recubierto , ranurado , bioequivalente , envase clínico',\n",
              " 'losartán 50 mg comprimido recubierto , ranurado , bioequivalente envase clínico de 1 . 000 comprimidos con sobres de 10 comprimidos en su interior .',\n",
              " 'losartán 50 mg comprimidos - vencimiento mínimo de 12 ( individualizar vencimiento )',\n",
              " 'losartán 50 mg_x000d__x000d__x000d__x000d__x000d__x000d_',\n",
              " 'losartán 50mg',\n",
              " 'losartán 50mg . comprimido recubierto , según especificaciones en bases técnicas',\n",
              " 'losartán 50mg comprimido envasado en blister . cotizar por comprimido .',\n",
              " 'losartán 50mg comprimidos',\n",
              " 'losartán potásico , comprimidos recubiertos 50mg .',\n",
              " 'losartán potásico 50 mg . comprimidos recubiertos .',\n",
              " 'losartán potásico 50 mg comprimido',\n",
              " 'losartán potásico 50 mg comprimido . _x000d__x000d__x000d__x000d__x000d__x000d_ vencimiento superior a 1 año al momento de la recepción . _x000d__x000d__x000d__x000d__x000d__x000d_',\n",
              " 'losartán potásico ; comprimido 50 mg .',\n",
              " 'losartán potásico comprimido 50 mg .',\n",
              " 'losartán potásico comprimidos recubiertos 50 mg'}"
            ]
          },
          "metadata": {},
          "execution_count": 222
        }
      ]
    },
    {
      "cell_type": "code",
      "source": [
        "dictionary_medicine_name[186]"
      ],
      "metadata": {
        "colab": {
          "base_uri": "https://localhost:8080/",
          "height": 35
        },
        "id": "h9qc1BBEAH8l",
        "outputId": "bf925d5b-1943-4d4f-bce7-6370f6476844"
      },
      "id": "h9qc1BBEAH8l",
      "execution_count": null,
      "outputs": [
        {
          "output_type": "execute_result",
          "data": {
            "text/plain": [
              "'losartán'"
            ],
            "application/vnd.google.colaboratory.intrinsic+json": {
              "type": "string"
            }
          },
          "metadata": {},
          "execution_count": 404
        }
      ]
    },
    {
      "cell_type": "code",
      "source": [
        "total_list_187 = [' '.join(row) for row in total_list[157]]\n",
        "set(total_list_187)\n",
        "#dictionary_medicine_name[187]"
      ],
      "metadata": {
        "colab": {
          "base_uri": "https://localhost:8080/"
        },
        "id": "FepjvZYLAHw_",
        "outputId": "ebf1f084-1e08-4e6e-9697-d1eaddaa3524"
      },
      "id": "FepjvZYLAHw_",
      "execution_count": 223,
      "outputs": [
        {
          "output_type": "execute_result",
          "data": {
            "text/plain": [
              "{'metformina clorhidrato 850 mg ; caja x 60 comprimidos bioequivalente , con excipientes : polividona , crospovidona , celulosa microcristalina , acido esteárico , alcohol polivinilico , dióxido de titanio , macrogol 3000 , talco .'}"
            ]
          },
          "metadata": {},
          "execution_count": 223
        }
      ]
    },
    {
      "cell_type": "code",
      "source": [
        "dictionary_medicine_name[187]"
      ],
      "metadata": {
        "colab": {
          "base_uri": "https://localhost:8080/",
          "height": 35
        },
        "id": "VXPXjyzCAHnT",
        "outputId": "dfd85ecc-dabb-49ed-f506-6050d39c154c"
      },
      "id": "VXPXjyzCAHnT",
      "execution_count": null,
      "outputs": [
        {
          "output_type": "execute_result",
          "data": {
            "text/plain": [
              "'macrogol'"
            ],
            "application/vnd.google.colaboratory.intrinsic+json": {
              "type": "string"
            }
          },
          "metadata": {},
          "execution_count": 406
        }
      ]
    },
    {
      "cell_type": "code",
      "source": [
        "total_list_188 = [' '.join(row) for row in total_list[158]]\n",
        "set(total_list_188)\n",
        "#dictionary_medicine_name[188]"
      ],
      "metadata": {
        "colab": {
          "base_uri": "https://localhost:8080/"
        },
        "id": "apwN8ru9AHc7",
        "outputId": "4ebfe0fd-0ed0-4231-ffaf-69333f0fb224"
      },
      "id": "apwN8ru9AHc7",
      "execution_count": 224,
      "outputs": [
        {
          "output_type": "execute_result",
          "data": {
            "text/plain": [
              "{'magnesio mg',\n",
              " 'metformina 850 mg . excipientes : polividona k30 , estearato de magnesio , metilhidroxipropilcelulosa comprimidos para pacientes intolerantes metformina genérica ) equivalente glafornil ( fofar )',\n",
              " 'metformina clorh . 1000 mg ( eq . a 780 mg ) x 30 tab de liberacion prolongada por sistema de doble matriz de polímero hidrofílico , inscripción sr1000 en una de sus caras y caja con impresión en braille , en blíster pvdc / aluminio . exc .: estearato de magnesio , ca',\n",
              " 'metformina clorh . 1000 mg x 30 tab de lib . prolongada por sistema de doble matriz de polímero hidrofílico , inscripción sr1000 en una de sus caras y caja con impresión en braille , en blíster pvdc / aluminio . exc .: estearato de magnesio , carboximetilcelulosa e',\n",
              " 'metformina clorh . 500 mg x 30 tab de lib . prolongada por sistema de doble matriz de polímero hidrofílico , inscripción sr500 en una de sus caras y caja con impresión en braille , en blíster pvdc / aluminio . exc .: estearato de magnesio , carboximetilcelulosa e hi',\n",
              " 'metformina clorh . 750 mg x 30 tab de lib . prolongada por sistema de doble matriz de polímero hidrofílico , inscripción sr750 en una de sus caras y caja con impresión en braille , en blíster pvdc / aluminio . exc .: estearato de magnesio , carboximetilcelulosa e hi',\n",
              " 'metformina cmp . 850 mg . con excipientes polividona k30 , esterato de magnesio metilhidroxipropil celulosa envase 30 o 60 comp .',\n",
              " 'metformina cmp . 850 mg . con excipientes polividona k30 , esterato de magnesio metilhidroxipropil celulosa envase 500 cmp . equivalente glafornil 850 mg .( pacientes intolerantes a metformina generica )'}"
            ]
          },
          "metadata": {},
          "execution_count": 224
        }
      ]
    },
    {
      "cell_type": "code",
      "source": [
        "dictionary_medicine_name[188]"
      ],
      "metadata": {
        "colab": {
          "base_uri": "https://localhost:8080/",
          "height": 35
        },
        "id": "wgFo_C-gAHSB",
        "outputId": "dfa358c9-99be-4052-922c-06edeaa60325"
      },
      "id": "wgFo_C-gAHSB",
      "execution_count": null,
      "outputs": [
        {
          "output_type": "execute_result",
          "data": {
            "text/plain": [
              "'magnesio'"
            ],
            "application/vnd.google.colaboratory.intrinsic+json": {
              "type": "string"
            }
          },
          "metadata": {},
          "execution_count": 408
        }
      ]
    },
    {
      "cell_type": "code",
      "source": [
        "total_list_189 = [' '.join(row) for row in total_list[159]]\n",
        "set(total_list_189)\n",
        "#dictionary_medicine_name[189]"
      ],
      "metadata": {
        "colab": {
          "base_uri": "https://localhost:8080/"
        },
        "id": "4TymtF9dAHH8",
        "outputId": "013693d8-af41-4086-c92a-4e5f1d7c1cdc"
      },
      "id": "4TymtF9dAHH8",
      "execution_count": 225,
      "outputs": [
        {
          "output_type": "execute_result",
          "data": {
            "text/plain": [
              "{'amlodipino maleato 10 mg',\n",
              " 'amlodipino maleato 10 mg comprimido',\n",
              " 'amlodipino maleato 10 mg comprimido f_x000d__x000d__x000d__x000d__x000d__x000d_',\n",
              " 'amlodipino maleato 10mg comprimido f',\n",
              " 'maleato de enalpril'}"
            ]
          },
          "metadata": {},
          "execution_count": 225
        }
      ]
    },
    {
      "cell_type": "code",
      "source": [
        "dictionary_medicine_name[189]"
      ],
      "metadata": {
        "colab": {
          "base_uri": "https://localhost:8080/",
          "height": 35
        },
        "id": "XluvBtJLAs-m",
        "outputId": "68020609-7850-41d2-9c7f-4ff5348e2edf"
      },
      "id": "XluvBtJLAs-m",
      "execution_count": null,
      "outputs": [
        {
          "output_type": "execute_result",
          "data": {
            "text/plain": [
              "'maleato'"
            ],
            "application/vnd.google.colaboratory.intrinsic+json": {
              "type": "string"
            }
          },
          "metadata": {},
          "execution_count": 410
        }
      ]
    },
    {
      "cell_type": "code",
      "source": [
        "total_list_190 = [' '.join(row) for row in total_list[160]]\n",
        "total_list_190\n",
        "#dictionary_medicine_name[190]"
      ],
      "metadata": {
        "colab": {
          "base_uri": "https://localhost:8080/"
        },
        "id": "129xMyIKAs1j",
        "outputId": "b39ca479-d6fb-4099-a591-59a036f92b66"
      },
      "id": "129xMyIKAs1j",
      "execution_count": null,
      "outputs": [
        {
          "output_type": "execute_result",
          "data": {
            "text/plain": [
              "[]"
            ]
          },
          "metadata": {},
          "execution_count": 413
        }
      ]
    },
    {
      "cell_type": "code",
      "source": [
        "dictionary_medicine_name[190]"
      ],
      "metadata": {
        "colab": {
          "base_uri": "https://localhost:8080/",
          "height": 35
        },
        "id": "JylFO71aBCHw",
        "outputId": "579ab1a3-7dc1-42c0-c187-dc5ad068e6ec"
      },
      "id": "JylFO71aBCHw",
      "execution_count": null,
      "outputs": [
        {
          "output_type": "execute_result",
          "data": {
            "text/plain": [
              "'manitol'"
            ],
            "application/vnd.google.colaboratory.intrinsic+json": {
              "type": "string"
            }
          },
          "metadata": {},
          "execution_count": 412
        }
      ]
    },
    {
      "cell_type": "code",
      "source": [
        "total_list_191 = [' '.join(row) for row in total_list[161]]\n",
        "set(total_list_191)\n",
        "#dictionary_medicine_name[191]"
      ],
      "metadata": {
        "colab": {
          "base_uri": "https://localhost:8080/"
        },
        "id": "HI0X29wFBCvT",
        "outputId": "4eb02ae4-0293-4d94-90b9-c972776161d9"
      },
      "id": "HI0X29wFBCvT",
      "execution_count": 226,
      "outputs": [
        {
          "output_type": "execute_result",
          "data": {
            "text/plain": [
              "{'medformina 850 mg .'}"
            ]
          },
          "metadata": {},
          "execution_count": 226
        }
      ]
    },
    {
      "cell_type": "code",
      "source": [
        "dictionary_medicine_name[191]"
      ],
      "metadata": {
        "colab": {
          "base_uri": "https://localhost:8080/",
          "height": 35
        },
        "id": "R4RcPcRLBDAc",
        "outputId": "f2dff9d8-67da-4770-c473-720d1da29626"
      },
      "id": "R4RcPcRLBDAc",
      "execution_count": null,
      "outputs": [
        {
          "output_type": "execute_result",
          "data": {
            "text/plain": [
              "'medformina'"
            ],
            "application/vnd.google.colaboratory.intrinsic+json": {
              "type": "string"
            }
          },
          "metadata": {},
          "execution_count": 414
        }
      ]
    },
    {
      "cell_type": "code",
      "source": [
        "total_list_192 = [' '.join(row) for row in total_list[162]]\n",
        "set(total_list_192)\n",
        "#dictionary_medicine_name[192]"
      ],
      "metadata": {
        "colab": {
          "base_uri": "https://localhost:8080/"
        },
        "id": "qslEqqttBd-O",
        "outputId": "feb7e2dd-ce44-40a6-f5b2-648d53a72753"
      },
      "id": "qslEqqttBd-O",
      "execution_count": 227,
      "outputs": [
        {
          "output_type": "execute_result",
          "data": {
            "text/plain": [
              "{'insulina degludec * . * producida en saccharomyces cerevisiae por medio de la tecnología de adn recombinante , similar a insulina tresiba . solución inyectable ( flextouch ®)',\n",
              " 'insulina degludec , cada ml contiene 100 ui . un dispositivo prellenado contiene : 300 unidades de isnulina degludec en 3 ml de solucion . producida en saccharomyces cerevisiae por medio de la tecnologia de adn recombinante . tresiba o similar .'}"
            ]
          },
          "metadata": {},
          "execution_count": 227
        }
      ]
    },
    {
      "cell_type": "code",
      "source": [
        "dictionary_medicine_name[192]"
      ],
      "metadata": {
        "colab": {
          "base_uri": "https://localhost:8080/",
          "height": 35
        },
        "id": "bQm9hK2DBd6n",
        "outputId": "34ee1108-da72-481f-a6de-11b853d48b59"
      },
      "id": "bQm9hK2DBd6n",
      "execution_count": null,
      "outputs": [
        {
          "output_type": "execute_result",
          "data": {
            "text/plain": [
              "'medio'"
            ],
            "application/vnd.google.colaboratory.intrinsic+json": {
              "type": "string"
            }
          },
          "metadata": {},
          "execution_count": 417
        }
      ]
    },
    {
      "cell_type": "code",
      "source": [
        "total_list_193 = [' '.join(row) for row in total_list[163]]\n",
        "set(total_list_193)\n",
        "#dictionary_medicine_name[193]"
      ],
      "metadata": {
        "colab": {
          "base_uri": "https://localhost:8080/"
        },
        "id": "a0wIxFG_Bdq-",
        "outputId": "679681ea-fca7-4097-9d59-b039191b410a"
      },
      "id": "a0wIxFG_Bdq-",
      "execution_count": 228,
      "outputs": [
        {
          "output_type": "execute_result",
          "data": {
            "text/plain": [
              "{'merformina clorhidrato cm o cm recubierto 850 mg',\n",
              " 'merformina clorhidrato comprimido o recubierto 850 mg'}"
            ]
          },
          "metadata": {},
          "execution_count": 228
        }
      ]
    },
    {
      "cell_type": "code",
      "source": [
        "dictionary_medicine_name[193]"
      ],
      "metadata": {
        "colab": {
          "base_uri": "https://localhost:8080/",
          "height": 35
        },
        "id": "KzN93e04BdnC",
        "outputId": "0f25d4bc-5dd9-45c4-ca05-db2ef52dfaa1"
      },
      "id": "KzN93e04BdnC",
      "execution_count": null,
      "outputs": [
        {
          "output_type": "execute_result",
          "data": {
            "text/plain": [
              "'merformina'"
            ],
            "application/vnd.google.colaboratory.intrinsic+json": {
              "type": "string"
            }
          },
          "metadata": {},
          "execution_count": 419
        }
      ]
    },
    {
      "cell_type": "code",
      "source": [
        "total_list_194 = [' '.join(row) for row in total_list[164]]\n",
        "set(total_list_194)\n",
        "#dictionary_medicine_name[194]"
      ],
      "metadata": {
        "colab": {
          "base_uri": "https://localhost:8080/"
        },
        "id": "3MJgKQJiE88C",
        "outputId": "45da8744-a880-4547-af05-da4c0507752a"
      },
      "id": "3MJgKQJiE88C",
      "execution_count": 229,
      "outputs": [
        {
          "output_type": "execute_result",
          "data": {
            "text/plain": [
              "{'meropenem 1g polv / liof p / sol . iny . fam',\n",
              " 'meropenem 500 mg polvo / liof . fam'}"
            ]
          },
          "metadata": {},
          "execution_count": 229
        }
      ]
    },
    {
      "cell_type": "code",
      "source": [
        "dictionary_medicine_name[194]"
      ],
      "metadata": {
        "colab": {
          "base_uri": "https://localhost:8080/",
          "height": 35
        },
        "id": "xUPWzK4cE8wl",
        "outputId": "f9cda4c3-a045-4726-ba6b-e67ee48ffb18"
      },
      "id": "xUPWzK4cE8wl",
      "execution_count": null,
      "outputs": [
        {
          "output_type": "execute_result",
          "data": {
            "text/plain": [
              "'meropenem'"
            ],
            "application/vnd.google.colaboratory.intrinsic+json": {
              "type": "string"
            }
          },
          "metadata": {},
          "execution_count": 421
        }
      ]
    },
    {
      "cell_type": "code",
      "source": [
        "total_list_195 = [' '.join(row) for row in total_list[165]]\n",
        "set(total_list_195)\n",
        "#dictionary_medicine_name[195]"
      ],
      "metadata": {
        "colab": {
          "base_uri": "https://localhost:8080/"
        },
        "id": "GQM58_y5BddD",
        "outputId": "82de8487-6066-49b3-8f62-f8e10cc065c2"
      },
      "id": "GQM58_y5BddD",
      "execution_count": 230,
      "outputs": [
        {
          "output_type": "execute_result",
          "data": {
            "text/plain": [
              "{'se requiere adquirir mertformina clorhidrato 1000 xr / cm'}"
            ]
          },
          "metadata": {},
          "execution_count": 230
        }
      ]
    },
    {
      "cell_type": "code",
      "source": [
        "dictionary_medicine_name[195]"
      ],
      "metadata": {
        "colab": {
          "base_uri": "https://localhost:8080/",
          "height": 35
        },
        "id": "_HlrHe7bBdZI",
        "outputId": "571b80a4-5a17-4b32-f37c-b41238bf62d2"
      },
      "id": "_HlrHe7bBdZI",
      "execution_count": null,
      "outputs": [
        {
          "output_type": "execute_result",
          "data": {
            "text/plain": [
              "'mertformina'"
            ],
            "application/vnd.google.colaboratory.intrinsic+json": {
              "type": "string"
            }
          },
          "metadata": {},
          "execution_count": 423
        }
      ]
    },
    {
      "cell_type": "code",
      "source": [
        "total_list_196 = [' '.join(row) for row in total_list[166]]\n",
        "set(total_list_196)\n",
        "#dictionary_medicine_name[196]"
      ],
      "metadata": {
        "colab": {
          "base_uri": "https://localhost:8080/"
        },
        "id": "_f_Jd87LBDK9",
        "outputId": "0ab1a72d-14e0-4f2a-b07f-ddd3942ffb2e"
      },
      "id": "_f_Jd87LBDK9",
      "execution_count": 231,
      "outputs": [
        {
          "output_type": "execute_result",
          "data": {
            "text/plain": [
              "{'amlodipino mesilato 5 mg comprimido f_x000d__x000d__x000d__x000d__x000d__x000d_'}"
            ]
          },
          "metadata": {},
          "execution_count": 231
        }
      ]
    },
    {
      "cell_type": "code",
      "source": [
        "dictionary_medicine_name[196]"
      ],
      "metadata": {
        "colab": {
          "base_uri": "https://localhost:8080/",
          "height": 35
        },
        "id": "z9-guMDkBDWa",
        "outputId": "37168583-e4eb-48d2-a8d6-a48f8a1c726c"
      },
      "id": "z9-guMDkBDWa",
      "execution_count": null,
      "outputs": [
        {
          "output_type": "execute_result",
          "data": {
            "text/plain": [
              "'mesilato'"
            ],
            "application/vnd.google.colaboratory.intrinsic+json": {
              "type": "string"
            }
          },
          "metadata": {},
          "execution_count": 425
        }
      ]
    },
    {
      "cell_type": "code",
      "source": [
        "total_list_197 = [' '.join(row) for row in total_list[167]]\n",
        "set(total_list_197)\n",
        "#dictionary_medicine_name[197]"
      ],
      "metadata": {
        "colab": {
          "base_uri": "https://localhost:8080/"
        },
        "id": "mpN9D_QrFV61",
        "outputId": "a9e80663-c599-424d-9bc4-d3025b882607"
      },
      "id": "mpN9D_QrFV61",
      "execution_count": 232,
      "outputs": [
        {
          "output_type": "execute_result",
          "data": {
            "text/plain": [
              "{'mesna 400 mg / 4 ml fam / am'}"
            ]
          },
          "metadata": {},
          "execution_count": 232
        }
      ]
    },
    {
      "cell_type": "code",
      "source": [
        "dictionary_medicine_name[197]"
      ],
      "metadata": {
        "colab": {
          "base_uri": "https://localhost:8080/",
          "height": 35
        },
        "id": "Ac1ZljRXFV1h",
        "outputId": "89706751-1903-4792-96cf-b3e523bdfed4"
      },
      "id": "Ac1ZljRXFV1h",
      "execution_count": null,
      "outputs": [
        {
          "output_type": "execute_result",
          "data": {
            "text/plain": [
              "'mesna'"
            ],
            "application/vnd.google.colaboratory.intrinsic+json": {
              "type": "string"
            }
          },
          "metadata": {},
          "execution_count": 427
        }
      ]
    },
    {
      "cell_type": "code",
      "source": [
        "total_list_198 = [' '.join(row) for row in total_list[168]]\n",
        "set(total_list_198)\n",
        "#dictionary_medicine_name[198]"
      ],
      "metadata": {
        "colab": {
          "base_uri": "https://localhost:8080/"
        },
        "id": "ZhGaajG5FVv1",
        "outputId": "08922a03-e997-4839-8ca9-e55ae021e27a"
      },
      "id": "ZhGaajG5FVv1",
      "execution_count": 233,
      "outputs": [
        {
          "output_type": "execute_result",
          "data": {
            "text/plain": [
              "{'insulina glargina lápiz 100ui / ml x 3 ml excipientes : metacresol , cloruro de zinc , glicerol ( 85 %), hidróxido de sodio , acido clorhidriico concentrado , agua para inyectables c . s . similar a lantus más agujas compatible de 32g 4mm ( 15 agujas por lapiz ) entreg',\n",
              " 'insulina humana biosintética de origen adn recombinante , producida a partir de saccharomyces cerevisiae con excipientes cloruro de zinc , glicerol , metacresol , hidróxido de sodio , ácido clorhídrico y agua para inyectables . ( ver base )'}"
            ]
          },
          "metadata": {},
          "execution_count": 233
        }
      ]
    },
    {
      "cell_type": "code",
      "source": [
        "dictionary_medicine_name[198]"
      ],
      "metadata": {
        "colab": {
          "base_uri": "https://localhost:8080/",
          "height": 35
        },
        "id": "tTYE7bgRFVo8",
        "outputId": "1e06c514-6a3d-45a1-e80b-218990936062"
      },
      "id": "tTYE7bgRFVo8",
      "execution_count": null,
      "outputs": [
        {
          "output_type": "execute_result",
          "data": {
            "text/plain": [
              "'metacresol'"
            ],
            "application/vnd.google.colaboratory.intrinsic+json": {
              "type": "string"
            }
          },
          "metadata": {},
          "execution_count": 429
        }
      ]
    },
    {
      "cell_type": "code",
      "source": [
        "total_list_199 = [' '.join(row) for row in total_list[169]]\n",
        "set(total_list_199)\n",
        "#dictionary_medicine_name[199]"
      ],
      "metadata": {
        "colab": {
          "base_uri": "https://localhost:8080/"
        },
        "id": "wcgAbawqFVi4",
        "outputId": "02051927-0761-41d9-e01c-796d2ebd5b0b"
      },
      "id": "wcgAbawqFVi4",
      "execution_count": 234,
      "outputs": [
        {
          "output_type": "execute_result",
          "data": {
            "text/plain": [
              "{'linagliptina / metfomina 2 , 5 / 1000 mg . comprimido o capsula',\n",
              " 'metfomina 1000 mg cm xr',\n",
              " 'metfomina 1000 mg comprimido de_x000d__x000d__x000d__x000d__x000d__x000d__x000d__x000d_ liberacion prolongada_x000d__x000d__x000d__x000d__x000d__x000d__x000d__x000d_ nota : registro sanitario vigente_x000d__x000d__x000d__x000d__x000d__x000d__x000d__x000d_ nota : vigencia oferta 90 dias_x000d__x000d__x000d__x000d__x000d__x000d__x000d__x000d_ nota : se sugiere fecha de_x000d__x000d__x000d__x000d__x000d__x000d__x000d__x000d_ vencimiento superior a 1 año o en_x000d__x000d__x000d__x000d__x000d__x000d__x000d__x000d_ caso contrario contar con_x000d__x000d__x000d__x000d__x000d__x000d__x000d__x000d_ politicas de canje',\n",
              " 'metfomina 500mg + glibenclamida 5 mg ( similar glucovance 500 / 5 ) caja de 30 cmprimidos',\n",
              " 'metfomina 850 mg cm',\n",
              " 'metfomina 850 mg comprimido_x000d__x000d__x000d__x000d__x000d__x000d__x000d__x000d_',\n",
              " 'metfomina 850 mg comprimidos',\n",
              " 'metfomina 850 mg comprimidos o comprimidos recubierto',\n",
              " 'sitagliptina / metfomina 100mg / 1000 mg ( similar janumet 100 / 1000 xr ), caja de 28 comprimidos',\n",
              " 'sitagliptina / metfomina 50mg / 1000 mg ( similar janumet 50 / 1000 xr ), caja de 28 comprimidos'}"
            ]
          },
          "metadata": {},
          "execution_count": 234
        }
      ]
    },
    {
      "cell_type": "code",
      "source": [
        "dictionary_medicine_name[199]"
      ],
      "metadata": {
        "colab": {
          "base_uri": "https://localhost:8080/",
          "height": 35
        },
        "id": "OcHTCjeAFVcU",
        "outputId": "0f54628d-e22d-4614-8a84-ec6c94135c61"
      },
      "id": "OcHTCjeAFVcU",
      "execution_count": null,
      "outputs": [
        {
          "output_type": "execute_result",
          "data": {
            "text/plain": [
              "'metfomina'"
            ],
            "application/vnd.google.colaboratory.intrinsic+json": {
              "type": "string"
            }
          },
          "metadata": {},
          "execution_count": 431
        }
      ]
    },
    {
      "cell_type": "code",
      "source": [
        "total_list_200 = [' '.join(row) for row in total_list[170]]\n",
        "set(total_list_200)\n",
        "#dictionary_medicine_name[200]"
      ],
      "metadata": {
        "colab": {
          "base_uri": "https://localhost:8080/"
        },
        "id": "73zGovX9GQCQ",
        "outputId": "d230878b-749b-4729-dc73-921c076b1b73"
      },
      "id": "73zGovX9GQCQ",
      "execution_count": 235,
      "outputs": [
        {
          "output_type": "execute_result",
          "data": {
            "text/plain": [
              "{'vildagliptina + metfomirna 50 / 1000 mg ( similar galvus met 50 / 1000 ) caja de 28 comprimidos'}"
            ]
          },
          "metadata": {},
          "execution_count": 235
        }
      ]
    },
    {
      "cell_type": "code",
      "source": [
        "dictionary_medicine_name[200]"
      ],
      "metadata": {
        "colab": {
          "base_uri": "https://localhost:8080/",
          "height": 35
        },
        "id": "CEf7_cwXGP-V",
        "outputId": "c8658f49-ad77-4e11-fcef-c31d8b01d65c"
      },
      "id": "CEf7_cwXGP-V",
      "execution_count": null,
      "outputs": [
        {
          "output_type": "execute_result",
          "data": {
            "text/plain": [
              "'metfomirna'"
            ],
            "application/vnd.google.colaboratory.intrinsic+json": {
              "type": "string"
            }
          },
          "metadata": {},
          "execution_count": 433
        }
      ]
    },
    {
      "cell_type": "code",
      "source": [
        "total_list_201 = [' '.join(row) for row in total_list[171]]\n",
        "set(total_list_201)\n",
        "#dictionary_medicine_name[201]"
      ],
      "metadata": {
        "colab": {
          "base_uri": "https://localhost:8080/"
        },
        "id": "ZuVMvBmeGP5Y",
        "outputId": "de412a41-bc17-426b-fdb5-4bee982cc07a"
      },
      "id": "ZuVMvBmeGP5Y",
      "execution_count": 236,
      "outputs": [
        {
          "output_type": "execute_result",
          "data": {
            "text/plain": [
              "{'glibenclam . / metfor . 5 / 500 mg cm / cm rec',\n",
              " 'glibenclam ./ metfor . 5 / 500 mg cm / cm rec',\n",
              " 'glibenclam ./ metfor . 5 / 500 mg cm / cm rec ( 100000717 )',\n",
              " 'glibenclam ./ metfor . 5 / 500 mg cm / cm rec_x000d__x000d__x000d__x000d__x000d__x000d__x000d__x000d_'}"
            ]
          },
          "metadata": {},
          "execution_count": 236
        }
      ]
    },
    {
      "cell_type": "code",
      "source": [
        "dictionary_medicine_name[201]"
      ],
      "metadata": {
        "colab": {
          "base_uri": "https://localhost:8080/",
          "height": 35
        },
        "id": "TNN3-IccGP0s",
        "outputId": "738df777-a87c-4e88-b713-d3f74f094312"
      },
      "id": "TNN3-IccGP0s",
      "execution_count": null,
      "outputs": [
        {
          "output_type": "execute_result",
          "data": {
            "text/plain": [
              "'metfor'"
            ],
            "application/vnd.google.colaboratory.intrinsic+json": {
              "type": "string"
            }
          },
          "metadata": {},
          "execution_count": 435
        }
      ]
    },
    {
      "cell_type": "code",
      "source": [
        "total_list_202 = [' '.join(row) for row in total_list[172]]\n",
        "set(total_list_202)\n",
        "#dictionary_medicine_name[202]"
      ],
      "metadata": {
        "colab": {
          "base_uri": "https://localhost:8080/"
        },
        "id": "f6C5RHCDGPql",
        "outputId": "a2c5385c-43cd-4018-b291-18b32a3e365a"
      },
      "id": "f6C5RHCDGPql",
      "execution_count": 237,
      "outputs": [
        {
          "output_type": "execute_result",
          "data": {
            "text/plain": [
              "{'metformida de liberación prolongada ( xr ) 1000mg .'}"
            ]
          },
          "metadata": {},
          "execution_count": 237
        }
      ]
    },
    {
      "cell_type": "code",
      "source": [
        "dictionary_medicine_name[202]"
      ],
      "metadata": {
        "colab": {
          "base_uri": "https://localhost:8080/",
          "height": 35
        },
        "id": "d8ALVGVhGPgp",
        "outputId": "14bc5d79-9f36-4e65-d3d3-eb7030165df2"
      },
      "id": "d8ALVGVhGPgp",
      "execution_count": null,
      "outputs": [
        {
          "output_type": "execute_result",
          "data": {
            "text/plain": [
              "'metformida'"
            ],
            "application/vnd.google.colaboratory.intrinsic+json": {
              "type": "string"
            }
          },
          "metadata": {},
          "execution_count": 437
        }
      ]
    },
    {
      "cell_type": "code",
      "source": [
        "total_list_203 = [' '.join(row) for row in total_list[173]]\n",
        "set(total_list_203)\n",
        "#dictionary_medicine_name[203]"
      ],
      "metadata": {
        "colab": {
          "base_uri": "https://localhost:8080/"
        },
        "id": "s9jta2AJFVSr",
        "outputId": "464bccc1-3365-4ec0-d61d-ec835faa2511"
      },
      "id": "s9jta2AJFVSr",
      "execution_count": 238,
      "outputs": [
        {
          "output_type": "execute_result",
          "data": {
            "text/plain": [
              "{'vildagliptin / metformin 50 / 1000mg cm rec',\n",
              " 'vildagliptin / metformin 50 / 500mg cm rec'}"
            ]
          },
          "metadata": {},
          "execution_count": 238
        }
      ]
    },
    {
      "cell_type": "code",
      "source": [
        "dictionary_medicine_name[203]"
      ],
      "metadata": {
        "colab": {
          "base_uri": "https://localhost:8080/",
          "height": 35
        },
        "id": "XUR-Yb2FFVGy",
        "outputId": "5c1022dd-da52-4576-cf6e-5047fb2b9ce5"
      },
      "id": "XUR-Yb2FFVGy",
      "execution_count": null,
      "outputs": [
        {
          "output_type": "execute_result",
          "data": {
            "text/plain": [
              "'metformin'"
            ],
            "application/vnd.google.colaboratory.intrinsic+json": {
              "type": "string"
            }
          },
          "metadata": {},
          "execution_count": 440
        }
      ]
    },
    {
      "cell_type": "code",
      "source": [
        "total_list_204 = [' '.join(row) for row in total_list[174]]\n",
        "set(total_list_204)\n",
        "#dictionary_medicine_name[204]"
      ],
      "metadata": {
        "colab": {
          "base_uri": "https://localhost:8080/"
        },
        "id": "cXQPYqI3G-bC",
        "outputId": "f301aaed-a7c7-4145-97c9-6e316e5f38c4"
      },
      "id": "cXQPYqI3G-bC",
      "execution_count": 239,
      "outputs": [
        {
          "output_type": "execute_result",
          "data": {
            "text/plain": [
              "{'metfornina 850 mg segun bases',\n",
              " 'metfornina xr 1000 comprimidos envase clinico'}"
            ]
          },
          "metadata": {},
          "execution_count": 239
        }
      ]
    },
    {
      "cell_type": "code",
      "source": [
        "dictionary_medicine_name[204]"
      ],
      "metadata": {
        "colab": {
          "base_uri": "https://localhost:8080/",
          "height": 35
        },
        "id": "xJqHFLMLG-Sf",
        "outputId": "b22e61bc-ee09-445b-bc4e-9a165953e408"
      },
      "id": "xJqHFLMLG-Sf",
      "execution_count": null,
      "outputs": [
        {
          "output_type": "execute_result",
          "data": {
            "text/plain": [
              "'metfornina'"
            ],
            "application/vnd.google.colaboratory.intrinsic+json": {
              "type": "string"
            }
          },
          "metadata": {},
          "execution_count": 441
        }
      ]
    },
    {
      "cell_type": "code",
      "source": [
        "total_list_205 = [' '.join(row) for row in total_list[175]]\n",
        "set(total_list_205)\n",
        "#dictionary_medicine_name[205]"
      ],
      "metadata": {
        "colab": {
          "base_uri": "https://localhost:8080/"
        },
        "id": "oudeB0sfG-O1",
        "outputId": "708188b6-dd57-40ab-9e4c-521479bb0610"
      },
      "id": "oudeB0sfG-O1",
      "execution_count": null,
      "outputs": [
        {
          "output_type": "execute_result",
          "data": {
            "text/plain": [
              "{'metfotmina 750 liberacion prolongada x 30 comprimidos_x000d__x000d__x000d__x000d__x000d__x000d__x000d_'}"
            ]
          },
          "metadata": {},
          "execution_count": 447
        }
      ]
    },
    {
      "cell_type": "code",
      "source": [
        "dictionary_medicine_name[205]"
      ],
      "metadata": {
        "colab": {
          "base_uri": "https://localhost:8080/",
          "height": 35
        },
        "id": "nbsKj81cG-Kr",
        "outputId": "11b905f6-1f42-4866-e414-32fc3a112223"
      },
      "id": "nbsKj81cG-Kr",
      "execution_count": null,
      "outputs": [
        {
          "output_type": "execute_result",
          "data": {
            "text/plain": [
              "'metfotmina'"
            ],
            "application/vnd.google.colaboratory.intrinsic+json": {
              "type": "string"
            }
          },
          "metadata": {},
          "execution_count": 444
        }
      ]
    },
    {
      "cell_type": "code",
      "source": [
        "total_list_206 = [' '.join(row) for row in total_list[176]]\n",
        "set(total_list_206)\n",
        "#dictionary_medicine_name[206]"
      ],
      "metadata": {
        "colab": {
          "base_uri": "https://localhost:8080/"
        },
        "id": "kgOwf5NnG-Gy",
        "outputId": "b7091755-97d1-4ffb-ee30-6bf56eb27d75"
      },
      "id": "kgOwf5NnG-Gy",
      "execution_count": null,
      "outputs": [
        {
          "output_type": "execute_result",
          "data": {
            "text/plain": [
              "{'metfromina 850 mg x 1000 comp rec . _x000d__x000d__x000d__x000d__x000d__x000d__x000d__x000d_',\n",
              " 'metfromina 850mg',\n",
              " 'metfromina 850mg comprimidos'}"
            ]
          },
          "metadata": {},
          "execution_count": 449
        }
      ]
    },
    {
      "cell_type": "code",
      "source": [
        "dictionary_medicine_name[206]"
      ],
      "metadata": {
        "colab": {
          "base_uri": "https://localhost:8080/",
          "height": 35
        },
        "id": "eo-78ls8G-AT",
        "outputId": "0db82c0a-c860-4b69-aad4-5b435886cf30"
      },
      "id": "eo-78ls8G-AT",
      "execution_count": null,
      "outputs": [
        {
          "output_type": "execute_result",
          "data": {
            "text/plain": [
              "'metfromina'"
            ],
            "application/vnd.google.colaboratory.intrinsic+json": {
              "type": "string"
            }
          },
          "metadata": {},
          "execution_count": 448
        }
      ]
    },
    {
      "cell_type": "code",
      "source": [
        "total_list_207 = [' '.join(row) for row in total_list[177]]\n",
        "set(total_list_207)\n",
        "#dictionary_medicine_name[207]"
      ],
      "metadata": {
        "colab": {
          "base_uri": "https://localhost:8080/"
        },
        "id": "xgzm81rmG94I",
        "outputId": "c5d79263-02d7-4a0c-bcad-a758db5eb6f8"
      },
      "id": "xgzm81rmG94I",
      "execution_count": null,
      "outputs": [
        {
          "output_type": "execute_result",
          "data": {
            "text/plain": [
              "{'metildopa'}"
            ]
          },
          "metadata": {},
          "execution_count": 451
        }
      ]
    },
    {
      "cell_type": "code",
      "source": [
        "dictionary_medicine_name[207]"
      ],
      "metadata": {
        "colab": {
          "base_uri": "https://localhost:8080/",
          "height": 35
        },
        "id": "QPbyHd88G9vb",
        "outputId": "c4b7c156-a928-40f4-b4e0-e7cfb5eef191"
      },
      "id": "QPbyHd88G9vb",
      "execution_count": null,
      "outputs": [
        {
          "output_type": "execute_result",
          "data": {
            "text/plain": [
              "'metildopa'"
            ],
            "application/vnd.google.colaboratory.intrinsic+json": {
              "type": "string"
            }
          },
          "metadata": {},
          "execution_count": 450
        }
      ]
    },
    {
      "cell_type": "code",
      "source": [
        "total_list_208 = [' '.join(row) for row in total_list[178]]\n",
        "set(total_list_208)\n",
        "#dictionary_medicine_name[208]"
      ],
      "metadata": {
        "colab": {
          "base_uri": "https://localhost:8080/"
        },
        "id": "Eg9iRChXG9hi",
        "outputId": "081963fd-643f-44bc-e495-3f615a091015"
      },
      "id": "Eg9iRChXG9hi",
      "execution_count": null,
      "outputs": [
        {
          "output_type": "execute_result",
          "data": {
            "text/plain": [
              "{'metformina cmp . 850 mg . con excipientes polividona k30 , esterato de magnesio metilhidroxipropil celulosa envase 30 o 60 comp .',\n",
              " 'metformina cmp . 850 mg . con excipientes polividona k30 , esterato de magnesio metilhidroxipropil celulosa envase 500 cmp . equivalente glafornil 850 mg .( pacientes intolerantes a metformina generica )'}"
            ]
          },
          "metadata": {},
          "execution_count": 453
        }
      ]
    },
    {
      "cell_type": "code",
      "source": [
        "dictionary_medicine_name[208]"
      ],
      "metadata": {
        "colab": {
          "base_uri": "https://localhost:8080/",
          "height": 35
        },
        "id": "PPMPKN5AKeeX",
        "outputId": "edfae375-744f-4688-8331-2649f2c4f889"
      },
      "id": "PPMPKN5AKeeX",
      "execution_count": null,
      "outputs": [
        {
          "output_type": "execute_result",
          "data": {
            "text/plain": [
              "'metilhidroxipropil'"
            ],
            "application/vnd.google.colaboratory.intrinsic+json": {
              "type": "string"
            }
          },
          "metadata": {},
          "execution_count": 452
        }
      ]
    },
    {
      "cell_type": "code",
      "source": [
        "total_list_209 = [' '.join(row) for row in total_list[179]]\n",
        "set(total_list_209)\n",
        "#dictionary_medicine_name[209]"
      ],
      "metadata": {
        "colab": {
          "base_uri": "https://localhost:8080/"
        },
        "id": "AdAuC5X6KeVq",
        "outputId": "34e83287-c99a-4f2f-b669-554a59a64246"
      },
      "id": "AdAuC5X6KeVq",
      "execution_count": null,
      "outputs": [
        {
          "output_type": "execute_result",
          "data": {
            "text/plain": [
              "{'metoformina de 850 mg'}"
            ]
          },
          "metadata": {},
          "execution_count": 455
        }
      ]
    },
    {
      "cell_type": "code",
      "source": [
        "dictionary_medicine_name[209]"
      ],
      "metadata": {
        "colab": {
          "base_uri": "https://localhost:8080/",
          "height": 35
        },
        "id": "k3b1XwdHKeRb",
        "outputId": "ba677e89-8342-44a9-f8ac-705b29037a6a"
      },
      "id": "k3b1XwdHKeRb",
      "execution_count": null,
      "outputs": [
        {
          "output_type": "execute_result",
          "data": {
            "text/plain": [
              "'metoformina'"
            ],
            "application/vnd.google.colaboratory.intrinsic+json": {
              "type": "string"
            }
          },
          "metadata": {},
          "execution_count": 454
        }
      ]
    },
    {
      "cell_type": "code",
      "source": [
        "total_list_210 = [' '.join(row) for row in total_list[180]]\n",
        "set(total_list_210)\n",
        "#dictionary_medicine_name[210]"
      ],
      "metadata": {
        "colab": {
          "base_uri": "https://localhost:8080/"
        },
        "id": "2kbXxCNIKeJF",
        "outputId": "ea6e3634-e38a-4f11-a504-5e65bee876e1"
      },
      "id": "2kbXxCNIKeJF",
      "execution_count": null,
      "outputs": [
        {
          "output_type": "execute_result",
          "data": {
            "text/plain": [
              "{'metoprolol 50 mg cm / cm rec lib prolongad'}"
            ]
          },
          "metadata": {},
          "execution_count": 458
        }
      ]
    },
    {
      "cell_type": "code",
      "source": [
        "dictionary_medicine_name[210]"
      ],
      "metadata": {
        "colab": {
          "base_uri": "https://localhost:8080/",
          "height": 35
        },
        "id": "jm5DEWlGKeE7",
        "outputId": "78fba1f0-29e4-4ed3-b323-ceb9f43edbcf"
      },
      "id": "jm5DEWlGKeE7",
      "execution_count": null,
      "outputs": [
        {
          "output_type": "execute_result",
          "data": {
            "text/plain": [
              "'metoprolol'"
            ],
            "application/vnd.google.colaboratory.intrinsic+json": {
              "type": "string"
            }
          },
          "metadata": {},
          "execution_count": 457
        }
      ]
    },
    {
      "cell_type": "code",
      "source": [
        "total_list_211 = [' '.join(row) for row in total_list[181]]\n",
        "set(total_list_211)\n",
        "#dictionary_medicine_name[211]"
      ],
      "metadata": {
        "colab": {
          "base_uri": "https://localhost:8080/"
        },
        "id": "vw2a3IGnKd9F",
        "outputId": "55e9e094-6f27-468b-f52a-43c4fce6617d"
      },
      "id": "vw2a3IGnKd9F",
      "execution_count": null,
      "outputs": [
        {
          "output_type": "execute_result",
          "data": {
            "text/plain": [
              "{'clorhidrato de metronidazol'}"
            ]
          },
          "metadata": {},
          "execution_count": 460
        }
      ]
    },
    {
      "cell_type": "code",
      "source": [
        "dictionary_medicine_name[211]"
      ],
      "metadata": {
        "colab": {
          "base_uri": "https://localhost:8080/",
          "height": 35
        },
        "id": "dgjjW_arKd5U",
        "outputId": "bbbfaf6a-f1f3-456e-b8a3-a6ef22e9feb6"
      },
      "id": "dgjjW_arKd5U",
      "execution_count": null,
      "outputs": [
        {
          "output_type": "execute_result",
          "data": {
            "text/plain": [
              "'metronidazol'"
            ],
            "application/vnd.google.colaboratory.intrinsic+json": {
              "type": "string"
            }
          },
          "metadata": {},
          "execution_count": 459
        }
      ]
    },
    {
      "cell_type": "code",
      "source": [
        "total_list_212 = [' '.join(row) for row in total_list[182]]\n",
        "set(total_list_212)\n",
        "#dictionary_medicine_name[212]"
      ],
      "metadata": {
        "colab": {
          "base_uri": "https://localhost:8080/"
        },
        "id": "zvFwLsd_Kdup",
        "outputId": "ee01b4d2-c547-4dc2-acf2-b4f045e05cb9"
      },
      "id": "zvFwLsd_Kdup",
      "execution_count": null,
      "outputs": [
        {
          "output_type": "execute_result",
          "data": {
            "text/plain": [
              "{'dapagliflozina / metformina 5 / 1000 mgenvase x 56 comprimidos recubiertos de liberación prolongada_x000d__x000d__x000d__x000d__x000d__x000d__x000d_'}"
            ]
          },
          "metadata": {},
          "execution_count": 462
        }
      ]
    },
    {
      "cell_type": "code",
      "source": [
        "dictionary_medicine_name[212]"
      ],
      "metadata": {
        "colab": {
          "base_uri": "https://localhost:8080/",
          "height": 35
        },
        "id": "R8_9xQESL_JE",
        "outputId": "ac2ed737-b44a-422c-ee56-61889a9937ff"
      },
      "id": "R8_9xQESL_JE",
      "execution_count": null,
      "outputs": [
        {
          "output_type": "execute_result",
          "data": {
            "text/plain": [
              "'mgenvase'"
            ],
            "application/vnd.google.colaboratory.intrinsic+json": {
              "type": "string"
            }
          },
          "metadata": {},
          "execution_count": 461
        }
      ]
    },
    {
      "cell_type": "code",
      "source": [
        "total_list_213 = [' '.join(row) for row in total_list[183]]\n",
        "set(total_list_213)\n",
        "#dictionary_medicine_name[213]"
      ],
      "metadata": {
        "colab": {
          "base_uri": "https://localhost:8080/"
        },
        "id": "1_MGXQ_bL_A-",
        "outputId": "b81229b0-36a8-492e-a2de-11e5e674bc30"
      },
      "id": "1_MGXQ_bL_A-",
      "execution_count": null,
      "outputs": [
        {
          "output_type": "execute_result",
          "data": {
            "text/plain": [
              "{'micofenolato mofetilo 250 mg cm rec / cp',\n",
              " 'micofenolato mofetilo 500 mg cm rec .'}"
            ]
          },
          "metadata": {},
          "execution_count": 465
        }
      ]
    },
    {
      "cell_type": "code",
      "source": [
        "dictionary_medicine_name[213]"
      ],
      "metadata": {
        "colab": {
          "base_uri": "https://localhost:8080/",
          "height": 35
        },
        "id": "oHui135RL-4W",
        "outputId": "3d80e96c-c6d9-4163-ce9d-92d33a74d58c"
      },
      "id": "oHui135RL-4W",
      "execution_count": null,
      "outputs": [
        {
          "output_type": "execute_result",
          "data": {
            "text/plain": [
              "'micofenolato'"
            ],
            "application/vnd.google.colaboratory.intrinsic+json": {
              "type": "string"
            }
          },
          "metadata": {},
          "execution_count": 464
        }
      ]
    },
    {
      "cell_type": "code",
      "source": [
        "total_list_214 = [' '.join(row) for row in total_list[184]]\n",
        "set(total_list_214)\n",
        "#dictionary_medicine_name[214]"
      ],
      "metadata": {
        "colab": {
          "base_uri": "https://localhost:8080/"
        },
        "id": "Y1begfIfL-vS",
        "outputId": "5c321032-eca9-4ae6-fbc4-675150154d77"
      },
      "id": "Y1begfIfL-vS",
      "execution_count": null,
      "outputs": [
        {
          "output_type": "execute_result",
          "data": {
            "text/plain": [
              "{'insulina humana monocomponente isofanica nph adn recombinante100u . i ./ mlsuspension inyectable frasco ampolla 10 ml'}"
            ]
          },
          "metadata": {},
          "execution_count": 467
        }
      ]
    },
    {
      "cell_type": "code",
      "source": [
        "dictionary_medicine_name[214]"
      ],
      "metadata": {
        "colab": {
          "base_uri": "https://localhost:8080/",
          "height": 35
        },
        "id": "Y6qNPuhEL-nH",
        "outputId": "8aa8cf49-a71b-4a4f-fed6-1ed1fa54271a"
      },
      "id": "Y6qNPuhEL-nH",
      "execution_count": null,
      "outputs": [
        {
          "output_type": "execute_result",
          "data": {
            "text/plain": [
              "'mlsuspension'"
            ],
            "application/vnd.google.colaboratory.intrinsic+json": {
              "type": "string"
            }
          },
          "metadata": {},
          "execution_count": 466
        }
      ]
    },
    {
      "cell_type": "code",
      "source": [
        "total_list_215 = [' '.join(row) for row in total_list[185]]\n",
        "set(total_list_215)\n",
        "#dictionary_medicine_name[215]"
      ],
      "metadata": {
        "colab": {
          "base_uri": "https://localhost:8080/"
        },
        "id": "JcrQ4N29L-fD",
        "outputId": "c800fdba-c77b-4629-86df-a3af6f459b49"
      },
      "id": "JcrQ4N29L-fD",
      "execution_count": null,
      "outputs": [
        {
          "output_type": "execute_result",
          "data": {
            "text/plain": [
              "{'micofenolato mofetilo 250 mg cm rec / cp',\n",
              " 'micofenolato mofetilo 500 mg cm rec .'}"
            ]
          },
          "metadata": {},
          "execution_count": 469
        }
      ]
    },
    {
      "cell_type": "code",
      "source": [
        "dictionary_medicine_name[215]"
      ],
      "metadata": {
        "colab": {
          "base_uri": "https://localhost:8080/",
          "height": 35
        },
        "id": "iupLfo5rL-YM",
        "outputId": "e9a1ba8e-e1d0-497b-ef5d-1312ed8d6480"
      },
      "id": "iupLfo5rL-YM",
      "execution_count": null,
      "outputs": [
        {
          "output_type": "execute_result",
          "data": {
            "text/plain": [
              "'mofetilo'"
            ],
            "application/vnd.google.colaboratory.intrinsic+json": {
              "type": "string"
            }
          },
          "metadata": {},
          "execution_count": 468
        }
      ]
    },
    {
      "cell_type": "code",
      "source": [
        "total_list_216 = [' '.join(row) for row in total_list[186]]\n",
        "set(total_list_216)\n",
        "#dictionary_medicine_name[216]"
      ],
      "metadata": {
        "colab": {
          "base_uri": "https://localhost:8080/"
        },
        "id": "nlxSWDzjNPWh",
        "outputId": "a95e9860-9e38-4717-c3b0-f6b352177289"
      },
      "id": "nlxSWDzjNPWh",
      "execution_count": null,
      "outputs": [
        {
          "output_type": "execute_result",
          "data": {
            "text/plain": [
              "{'insulina cristalina humana monocompetente adn recombinente 100 u . i / ml f . a 10 ml'}"
            ]
          },
          "metadata": {},
          "execution_count": 471
        }
      ]
    },
    {
      "cell_type": "code",
      "source": [
        "dictionary_medicine_name[216]"
      ],
      "metadata": {
        "colab": {
          "base_uri": "https://localhost:8080/",
          "height": 35
        },
        "id": "LsHemKJKNPSr",
        "outputId": "26ed01b8-50e8-4165-ca7e-b8636d69477f"
      },
      "id": "LsHemKJKNPSr",
      "execution_count": null,
      "outputs": [
        {
          "output_type": "execute_result",
          "data": {
            "text/plain": [
              "'monocompetente'"
            ],
            "application/vnd.google.colaboratory.intrinsic+json": {
              "type": "string"
            }
          },
          "metadata": {},
          "execution_count": 470
        }
      ]
    },
    {
      "cell_type": "code",
      "source": [
        "total_list_217 = [' '.join(row) for row in total_list[187]]\n",
        "set(total_list_217)\n",
        "#dictionary_medicine_name[217]"
      ],
      "metadata": {
        "colab": {
          "base_uri": "https://localhost:8080/"
        },
        "id": "IZT7Y2qGNPOO",
        "outputId": "ebeab224-3e2d-4be1-cf15-f1e33f290a7c"
      },
      "id": "IZT7Y2qGNPOO",
      "execution_count": null,
      "outputs": [
        {
          "output_type": "execute_result",
          "data": {
            "text/plain": [
              "{'morfina 10 mg / ml sol . iny . am',\n",
              " 'morfina 20 mg / ml sol oral hasta 60ml xml',\n",
              " 'morfina 20mg / 1ml sol . iny . am',\n",
              " 'morfina 30 mg cp / cm rec lib prolongada'}"
            ]
          },
          "metadata": {},
          "execution_count": 474
        }
      ]
    },
    {
      "cell_type": "code",
      "source": [
        "dictionary_medicine_name[217]"
      ],
      "metadata": {
        "colab": {
          "base_uri": "https://localhost:8080/",
          "height": 35
        },
        "id": "gXXBmrIiNPGi",
        "outputId": "e8e92945-2cbf-48e2-b521-948d0e761f10"
      },
      "id": "gXXBmrIiNPGi",
      "execution_count": null,
      "outputs": [
        {
          "output_type": "execute_result",
          "data": {
            "text/plain": [
              "'morfina'"
            ],
            "application/vnd.google.colaboratory.intrinsic+json": {
              "type": "string"
            }
          },
          "metadata": {},
          "execution_count": 472
        }
      ]
    },
    {
      "cell_type": "code",
      "source": [
        "total_list_218 = [' '.join(row) for row in total_list[188]]\n",
        "set(total_list_218)\n",
        "#dictionary_medicine_name[218]"
      ],
      "metadata": {
        "colab": {
          "base_uri": "https://localhost:8080/"
        },
        "id": "eTHg7poKNvM8",
        "outputId": "f7ecb589-690a-4ba7-9f3c-06cb9685c94b"
      },
      "id": "eTHg7poKNvM8",
      "execution_count": null,
      "outputs": [
        {
          "output_type": "execute_result",
          "data": {
            "text/plain": [
              "{'moxifloxacino 400 mg cm recubierto'}"
            ]
          },
          "metadata": {},
          "execution_count": 476
        }
      ]
    },
    {
      "cell_type": "code",
      "source": [
        "dictionary_medicine_name[218]"
      ],
      "metadata": {
        "colab": {
          "base_uri": "https://localhost:8080/",
          "height": 35
        },
        "id": "_UYJVeg0NvHR",
        "outputId": "19604370-ff05-446c-daa8-0fc0106e238a"
      },
      "id": "_UYJVeg0NvHR",
      "execution_count": null,
      "outputs": [
        {
          "output_type": "execute_result",
          "data": {
            "text/plain": [
              "'moxifloxacino'"
            ],
            "application/vnd.google.colaboratory.intrinsic+json": {
              "type": "string"
            }
          },
          "metadata": {},
          "execution_count": 475
        }
      ]
    },
    {
      "cell_type": "code",
      "source": [
        "total_list_219 = [' '.join(row) for row in total_list[189]]\n",
        "set(total_list_219)\n",
        "#dictionary_medicine_name[219]"
      ],
      "metadata": {
        "colab": {
          "base_uri": "https://localhost:8080/"
        },
        "id": "NI7oHutTNvCh",
        "outputId": "1beabaee-4dc0-4190-c8d8-5bb48aa2a485"
      },
      "id": "NI7oHutTNvCh",
      "execution_count": null,
      "outputs": [
        {
          "output_type": "execute_result",
          "data": {
            "text/plain": [
              "{'linagliptina 2 , 5 mg mtformina 1000 mg comprimido envasados en blister pvc o similar y aluminio impreso , envase contenido 60 comprimidos , certificacion gmp de la planta productora . _x000d__x000d__x000d__x000d__x000d__x000d__x000d__x000d_',\n",
              " 'linagliptina 2 , 5 mg mtformina 850 mg comprimido envasados en blister pvc o similar y aluminio impreso , envase contenido 60 comprimidos , certificacion gmp de la planta productora . _x000d__x000d__x000d__x000d__x000d__x000d__x000d__x000d_ _x000d__x000d__x000d__x000d__x000d__x000d__x000d__x000d_ _x000d__x000d__x000d__x000d__x000d__x000d__x000d__x000d_'}"
            ]
          },
          "metadata": {},
          "execution_count": 478
        }
      ]
    },
    {
      "cell_type": "code",
      "source": [
        "dictionary_medicine_name[219]"
      ],
      "metadata": {
        "colab": {
          "base_uri": "https://localhost:8080/",
          "height": 35
        },
        "id": "7XuBCCGtNu-J",
        "outputId": "a455c890-457e-4ff4-f1ab-01a8ca5c4fab"
      },
      "id": "7XuBCCGtNu-J",
      "execution_count": null,
      "outputs": [
        {
          "output_type": "execute_result",
          "data": {
            "text/plain": [
              "'mtformina'"
            ],
            "application/vnd.google.colaboratory.intrinsic+json": {
              "type": "string"
            }
          },
          "metadata": {},
          "execution_count": 477
        }
      ]
    },
    {
      "cell_type": "code",
      "source": [
        "total_list_220 = [' '.join(row) for row in total_list[190]]\n",
        "set(total_list_220)\n",
        "#dictionary_medicine_name[220]"
      ],
      "metadata": {
        "colab": {
          "base_uri": "https://localhost:8080/"
        },
        "id": "YoSvoHVXNu6L",
        "outputId": "c1bd5d26-cfff-45d6-989d-e39c0cab31c4"
      },
      "id": "YoSvoHVXNu6L",
      "execution_count": null,
      "outputs": [
        {
          "output_type": "execute_result",
          "data": {
            "text/plain": [
              "{'nevirapina 10mg / ml suspension oral x ml', 'nevirapina 200 mg cm'}"
            ]
          },
          "metadata": {},
          "execution_count": 481
        }
      ]
    },
    {
      "cell_type": "code",
      "source": [
        "dictionary_medicine_name[220]"
      ],
      "metadata": {
        "colab": {
          "base_uri": "https://localhost:8080/",
          "height": 35
        },
        "id": "FXP-v7AUNu0-",
        "outputId": "454c88bb-60f1-405d-ac23-a9df0eda66a7"
      },
      "id": "FXP-v7AUNu0-",
      "execution_count": null,
      "outputs": [
        {
          "output_type": "execute_result",
          "data": {
            "text/plain": [
              "'nevirapina'"
            ],
            "application/vnd.google.colaboratory.intrinsic+json": {
              "type": "string"
            }
          },
          "metadata": {},
          "execution_count": 479
        }
      ]
    },
    {
      "cell_type": "code",
      "source": [
        "total_list_221 = [' '.join(row) for row in total_list[191]]\n",
        "set(total_list_221)\n",
        "#dictionary_medicine_name[221]"
      ],
      "metadata": {
        "colab": {
          "base_uri": "https://localhost:8080/"
        },
        "id": "VLu68Ri_Nuvz",
        "outputId": "ae169872-bc7f-4ff8-b486-8fbd941d9aec"
      },
      "id": "VLu68Ri_Nuvz",
      "execution_count": null,
      "outputs": [
        {
          "output_type": "execute_result",
          "data": {
            "text/plain": [
              "{'nifedipina'}"
            ]
          },
          "metadata": {},
          "execution_count": 483
        }
      ]
    },
    {
      "cell_type": "code",
      "source": [
        "dictionary_medicine_name[221]"
      ],
      "metadata": {
        "colab": {
          "base_uri": "https://localhost:8080/",
          "height": 35
        },
        "id": "3d8gUBnTNuqu",
        "outputId": "e8f197f0-b018-41b6-d49c-ed9e40ebee88"
      },
      "id": "3d8gUBnTNuqu",
      "execution_count": null,
      "outputs": [
        {
          "output_type": "execute_result",
          "data": {
            "text/plain": [
              "'nifedipina'"
            ],
            "application/vnd.google.colaboratory.intrinsic+json": {
              "type": "string"
            }
          },
          "metadata": {},
          "execution_count": 482
        }
      ]
    },
    {
      "cell_type": "code",
      "source": [
        "total_list_222 = [' '.join(row) for row in total_list[192]]\n",
        "set(total_list_222)\n",
        "#dictionary_medicine_name[222]"
      ],
      "metadata": {
        "colab": {
          "base_uri": "https://localhost:8080/"
        },
        "id": "sNexvR_mNujM",
        "outputId": "3dea5f7e-8d60-4070-db1d-2f15e48dd2da"
      },
      "id": "sNexvR_mNujM",
      "execution_count": null,
      "outputs": [
        {
          "output_type": "execute_result",
          "data": {
            "text/plain": [
              "{'nifedipino 20mg cm rec lp / cp lp'}"
            ]
          },
          "metadata": {},
          "execution_count": 485
        }
      ]
    },
    {
      "cell_type": "code",
      "source": [
        "dictionary_medicine_name[222]"
      ],
      "metadata": {
        "colab": {
          "base_uri": "https://localhost:8080/",
          "height": 35
        },
        "id": "Lp82bs8NNO-d",
        "outputId": "073846c9-204e-4646-854c-c964204d9f24"
      },
      "id": "Lp82bs8NNO-d",
      "execution_count": null,
      "outputs": [
        {
          "output_type": "execute_result",
          "data": {
            "text/plain": [
              "'nifedipino'"
            ],
            "application/vnd.google.colaboratory.intrinsic+json": {
              "type": "string"
            }
          },
          "metadata": {},
          "execution_count": 484
        }
      ]
    },
    {
      "cell_type": "code",
      "source": [
        "total_list_223 = [' '.join(row) for row in total_list[193]]\n",
        "set(total_list_223)\n",
        "#dictionary_medicine_name[223]"
      ],
      "metadata": {
        "colab": {
          "base_uri": "https://localhost:8080/"
        },
        "id": "BsCWFcMOO5v7",
        "outputId": "d91392c6-a8ce-4578-98df-c77e029f3141"
      },
      "id": "BsCWFcMOO5v7",
      "execution_count": null,
      "outputs": [
        {
          "output_type": "execute_result",
          "data": {
            "text/plain": [
              "{'nilotinib 200 mg cp'}"
            ]
          },
          "metadata": {},
          "execution_count": 487
        }
      ]
    },
    {
      "cell_type": "code",
      "source": [
        "dictionary_medicine_name[223]"
      ],
      "metadata": {
        "colab": {
          "base_uri": "https://localhost:8080/",
          "height": 35
        },
        "id": "CGj8LDklO6nl",
        "outputId": "3b9d504d-0841-4a79-baa9-2c195487469e"
      },
      "id": "CGj8LDklO6nl",
      "execution_count": null,
      "outputs": [
        {
          "output_type": "execute_result",
          "data": {
            "text/plain": [
              "'nilotinib'"
            ],
            "application/vnd.google.colaboratory.intrinsic+json": {
              "type": "string"
            }
          },
          "metadata": {},
          "execution_count": 486
        }
      ]
    },
    {
      "cell_type": "code",
      "source": [
        "total_list_224 = [' '.join(row) for row in total_list[194]]\n",
        "set(total_list_224)\n",
        "#dictionary_medicine_name[224]"
      ],
      "metadata": {
        "colab": {
          "base_uri": "https://localhost:8080/"
        },
        "id": "WLFb2dBXO6bf",
        "outputId": "3281fc35-313f-4f2c-d972-40012c5dd562"
      },
      "id": "WLFb2dBXO6bf",
      "execution_count": null,
      "outputs": [
        {
          "output_type": "execute_result",
          "data": {
            "text/plain": [
              "{'compuestos orgánicos nitrados o nitrosados'}"
            ]
          },
          "metadata": {},
          "execution_count": 489
        }
      ]
    },
    {
      "cell_type": "code",
      "source": [
        "dictionary_medicine_name[224]"
      ],
      "metadata": {
        "colab": {
          "base_uri": "https://localhost:8080/",
          "height": 35
        },
        "id": "3yDLoACpO6OS",
        "outputId": "0adead79-4213-478b-f50a-5e530e91bbc1"
      },
      "id": "3yDLoACpO6OS",
      "execution_count": null,
      "outputs": [
        {
          "output_type": "execute_result",
          "data": {
            "text/plain": [
              "'nitrados'"
            ],
            "application/vnd.google.colaboratory.intrinsic+json": {
              "type": "string"
            }
          },
          "metadata": {},
          "execution_count": 488
        }
      ]
    },
    {
      "cell_type": "code",
      "source": [
        "total_list_225 = [' '.join(row) for row in total_list[195]]\n",
        "set(total_list_225)\n",
        "#dictionary_medicine_name[225]"
      ],
      "metadata": {
        "colab": {
          "base_uri": "https://localhost:8080/"
        },
        "id": "GgNzwARnO6J3",
        "outputId": "741ffc14-c186-4df6-b215-c12e78b14dcb"
      },
      "id": "GgNzwARnO6J3",
      "execution_count": null,
      "outputs": [
        {
          "output_type": "execute_result",
          "data": {
            "text/plain": [
              "{'novomix 30 100 ui / ml flexpen envase de 5 frasco ampulla',\n",
              " 'novomix 30 recombinante 30 / 70 flexpen 100 u / ml',\n",
              " 'novomix 30 recombinante 30 / 70 flexpen 100 u / ml_x000d__x000d__x000d__x000d__x000d__x000d__x000d__x000d_'}"
            ]
          },
          "metadata": {},
          "execution_count": 491
        }
      ]
    },
    {
      "cell_type": "code",
      "source": [
        "dictionary_medicine_name[225]"
      ],
      "metadata": {
        "colab": {
          "base_uri": "https://localhost:8080/",
          "height": 35
        },
        "id": "vDu2kf-fPW1j",
        "outputId": "41b667f8-eb2b-4cbb-bfea-640c11e33cde"
      },
      "id": "vDu2kf-fPW1j",
      "execution_count": null,
      "outputs": [
        {
          "output_type": "execute_result",
          "data": {
            "text/plain": [
              "'novomix'"
            ],
            "application/vnd.google.colaboratory.intrinsic+json": {
              "type": "string"
            }
          },
          "metadata": {},
          "execution_count": 490
        }
      ]
    },
    {
      "cell_type": "code",
      "source": [
        "total_list_226 = [' '.join(row) for row in total_list[196]]\n",
        "set(total_list_226)\n",
        "#dictionary_medicine_name[226]"
      ],
      "metadata": {
        "colab": {
          "base_uri": "https://localhost:8080/"
        },
        "id": "yI-Pkk94PWxW",
        "outputId": "2f2171ab-76f8-4b58-ceed-aaf9327b5190"
      },
      "id": "yI-Pkk94PWxW",
      "execution_count": null,
      "outputs": [
        {
          "output_type": "execute_result",
          "data": {
            "text/plain": [
              "{'1400040 analogo de insulina rapida asparta adn recombinante 100 u / ml 5 cartuchos x 3 ml sc , similar novorapid penfill . sol . iny . cartucho_x000d__x000d__x000d__x000d__x000d__x000d__x000d__x000d_',\n",
              " '1400103 analogo de insulina rapida asparta adn recombinante 100 u / ml 5 lapices x 3 ml sc , similar novorapid flexpen . sol . iny . lapiz_x000d__x000d__x000d__x000d__x000d__x000d__x000d__x000d_',\n",
              " 'insulina asparta 100 u lapiz 3 ml similar a novorapid flexpen',\n",
              " 'insulina asparta 3 . 5 mg ( equivalente a 100 u / ml ) equivalente a novorapid flexpen , caja 1 , 5 o 10 dispositivo prellenado x 3 ml',\n",
              " 'insulina novorapid 100 ui / ml x 300 ui o equivalente terapeutico_x000d__x000d__x000d__x000d__x000d__x000d__x000d__x000d_ _x000d__x000d__x000d__x000d__x000d__x000d__x000d__x000d_',\n",
              " 'novorapid flexpen 100 ui / ml'}"
            ]
          },
          "metadata": {},
          "execution_count": 493
        }
      ]
    },
    {
      "cell_type": "code",
      "source": [
        "dictionary_medicine_name[226]"
      ],
      "metadata": {
        "colab": {
          "base_uri": "https://localhost:8080/",
          "height": 35
        },
        "id": "GohIIgYsPWtY",
        "outputId": "405b70d7-e9ef-4096-aac8-5d3ca9e88b5d"
      },
      "id": "GohIIgYsPWtY",
      "execution_count": null,
      "outputs": [
        {
          "output_type": "execute_result",
          "data": {
            "text/plain": [
              "'novorapid'"
            ],
            "application/vnd.google.colaboratory.intrinsic+json": {
              "type": "string"
            }
          },
          "metadata": {},
          "execution_count": 492
        }
      ]
    },
    {
      "cell_type": "code",
      "source": [
        "total_list_227 = [' '.join(row) for row in total_list[197]]\n",
        "set(total_list_227)\n",
        "#dictionary_medicine_name[227]"
      ],
      "metadata": {
        "colab": {
          "base_uri": "https://localhost:8080/"
        },
        "id": "3Uu_iolOPWoo",
        "outputId": "5c19973a-2aeb-42e2-818f-83dfe22d7cad"
      },
      "id": "3Uu_iolOPWoo",
      "execution_count": null,
      "outputs": [
        {
          "output_type": "execute_result",
          "data": {
            "text/plain": [
              "{'nsulina cristalina fa 100 ui ., especificar marca , caracteristicas y presentacion , consumo promedio mensual 80 unidades .'}"
            ]
          },
          "metadata": {},
          "execution_count": 495
        }
      ]
    },
    {
      "cell_type": "code",
      "source": [
        "dictionary_medicine_name[227]"
      ],
      "metadata": {
        "colab": {
          "base_uri": "https://localhost:8080/",
          "height": 35
        },
        "id": "GHrPbfgbPWkt",
        "outputId": "4af85a39-25a3-4a51-8100-f93154dd069c"
      },
      "id": "GHrPbfgbPWkt",
      "execution_count": null,
      "outputs": [
        {
          "output_type": "execute_result",
          "data": {
            "text/plain": [
              "'nsulina'"
            ],
            "application/vnd.google.colaboratory.intrinsic+json": {
              "type": "string"
            }
          },
          "metadata": {},
          "execution_count": 494
        }
      ]
    },
    {
      "cell_type": "code",
      "source": [
        "total_list_228 = [' '.join(row) for row in total_list[198]]\n",
        "set(total_list_228)\n",
        "#dictionary_medicine_name[228]"
      ],
      "metadata": {
        "colab": {
          "base_uri": "https://localhost:8080/"
        },
        "id": "oKmdz6bDPWgM",
        "outputId": "4a853ce9-6ce9-4b24-e7d4-0ac85f27ff0b"
      },
      "id": "oKmdz6bDPWgM",
      "execution_count": null,
      "outputs": [
        {
          "output_type": "execute_result",
          "data": {
            "text/plain": [
              "{'ongliza 5 mg comp'}"
            ]
          },
          "metadata": {},
          "execution_count": 497
        }
      ]
    },
    {
      "cell_type": "code",
      "source": [
        "dictionary_medicine_name[228]"
      ],
      "metadata": {
        "colab": {
          "base_uri": "https://localhost:8080/",
          "height": 35
        },
        "id": "A_Z6H5mBPWY0",
        "outputId": "087e4eff-60be-42b7-c764-54022420e5f8"
      },
      "id": "A_Z6H5mBPWY0",
      "execution_count": null,
      "outputs": [
        {
          "output_type": "execute_result",
          "data": {
            "text/plain": [
              "'ongliza'"
            ],
            "application/vnd.google.colaboratory.intrinsic+json": {
              "type": "string"
            }
          },
          "metadata": {},
          "execution_count": 496
        }
      ]
    },
    {
      "cell_type": "code",
      "source": [
        "total_list_229 = [' '.join(row) for row in total_list[199]]\n",
        "set(total_list_229)\n",
        "#dictionary_medicine_name[229]"
      ],
      "metadata": {
        "colab": {
          "base_uri": "https://localhost:8080/"
        },
        "id": "N9N04d6JQTnE",
        "outputId": "f02ce6ad-377d-4c69-964c-8d249d77ef9c"
      },
      "id": "N9N04d6JQTnE",
      "execution_count": null,
      "outputs": [
        {
          "output_type": "execute_result",
          "data": {
            "text/plain": [
              "{'onglyza 5 mg - saxagliptina 5 mg',\n",
              " 'onglyza 5 mg caja x 28 com . ( o equivalente )',\n",
              " 'onglyza 5 mg caja x 28 com .( o equivalente )',\n",
              " 'saxagliptina 5mg comprimidos recubiertos similar onglyza',\n",
              " 'suministro de saxagliptina 5 mg equivalente a onglyza 5 mg , caja 28 comprimidos recubiertos'}"
            ]
          },
          "metadata": {},
          "execution_count": 499
        }
      ]
    },
    {
      "cell_type": "code",
      "source": [
        "dictionary_medicine_name[229]"
      ],
      "metadata": {
        "colab": {
          "base_uri": "https://localhost:8080/",
          "height": 35
        },
        "id": "a8u2JWW1QTgw",
        "outputId": "31bef0bc-de84-4c02-9f44-3c9b0c24036b"
      },
      "id": "a8u2JWW1QTgw",
      "execution_count": null,
      "outputs": [
        {
          "output_type": "execute_result",
          "data": {
            "text/plain": [
              "'onglyza'"
            ],
            "application/vnd.google.colaboratory.intrinsic+json": {
              "type": "string"
            }
          },
          "metadata": {},
          "execution_count": 498
        }
      ]
    },
    {
      "cell_type": "code",
      "source": [
        "total_list_230 = [' '.join(row) for row in total_list[200]]\n",
        "set(total_list_230)\n",
        "#dictionary_medicine_name[230]"
      ],
      "metadata": {
        "colab": {
          "base_uri": "https://localhost:8080/"
        },
        "id": "HINApskjQTZc",
        "outputId": "4ab6feab-7f31-4008-d4df-45b2fa7cf6ec"
      },
      "id": "HINApskjQTZc",
      "execution_count": null,
      "outputs": [
        {
          "output_type": "execute_result",
          "data": {
            "text/plain": [
              "{'oxalato de escitalopram'}"
            ]
          },
          "metadata": {},
          "execution_count": 502
        }
      ]
    },
    {
      "cell_type": "code",
      "source": [
        "dictionary_medicine_name[230]"
      ],
      "metadata": {
        "colab": {
          "base_uri": "https://localhost:8080/",
          "height": 35
        },
        "id": "yQrrrQoEQTSf",
        "outputId": "c67772b1-f5b4-4c8b-8ff7-bc2455b01310"
      },
      "id": "yQrrrQoEQTSf",
      "execution_count": null,
      "outputs": [
        {
          "output_type": "execute_result",
          "data": {
            "text/plain": [
              "'oxalato'"
            ],
            "application/vnd.google.colaboratory.intrinsic+json": {
              "type": "string"
            }
          },
          "metadata": {},
          "execution_count": 501
        }
      ]
    },
    {
      "cell_type": "code",
      "source": [
        "total_list_231 = [' '.join(row) for row in total_list[201]]\n",
        "set(total_list_231)\n",
        "#dictionary_medicine_name[231]"
      ],
      "metadata": {
        "colab": {
          "base_uri": "https://localhost:8080/"
        },
        "id": "5XdHkpTIQTNM",
        "outputId": "c56583de-2a91-4d5b-a384-8a07ccc68d48"
      },
      "id": "5XdHkpTIQTNM",
      "execution_count": null,
      "outputs": [
        {
          "output_type": "execute_result",
          "data": {
            "text/plain": [
              "{'insulina glargina 100 ui / ml x 3 ml solucion inyectable similar solostar ( penfil )',\n",
              " 'insulina glargina 100 ui / ml x 3 ml solucion inyectable solostar ( penfil )',\n",
              " 'insulina lenta , suspensión inyectable 100 ui / ml , penfil ( cartridge ) de 3 ml . cartridge'}"
            ]
          },
          "metadata": {},
          "execution_count": 504
        }
      ]
    },
    {
      "cell_type": "code",
      "source": [
        "dictionary_medicine_name[231]"
      ],
      "metadata": {
        "colab": {
          "base_uri": "https://localhost:8080/",
          "height": 35
        },
        "id": "1F9ITRw0QTIr",
        "outputId": "fa2c35f9-bfb0-4eb4-c41d-e806c34dd79b"
      },
      "id": "1F9ITRw0QTIr",
      "execution_count": null,
      "outputs": [
        {
          "output_type": "execute_result",
          "data": {
            "text/plain": [
              "'penfil'"
            ],
            "application/vnd.google.colaboratory.intrinsic+json": {
              "type": "string"
            }
          },
          "metadata": {},
          "execution_count": 503
        }
      ]
    },
    {
      "cell_type": "code",
      "source": [
        "total_list_232 = [' '.join(row) for row in total_list[202]]\n",
        "set(total_list_232)\n",
        "#dictionary_medicine_name[232]"
      ],
      "metadata": {
        "colab": {
          "base_uri": "https://localhost:8080/"
        },
        "id": "a1fpE2hyQTDe",
        "outputId": "d747582c-61b5-436c-8d6b-63b748362b4b"
      },
      "id": "a1fpE2hyQTDe",
      "execution_count": null,
      "outputs": [
        {
          "output_type": "execute_result",
          "data": {
            "text/plain": [
              "{'perindopril erbumina'}"
            ]
          },
          "metadata": {},
          "execution_count": 506
        }
      ]
    },
    {
      "cell_type": "code",
      "source": [
        "dictionary_medicine_name[232]"
      ],
      "metadata": {
        "colab": {
          "base_uri": "https://localhost:8080/",
          "height": 35
        },
        "id": "lzjbTj-iQS-4",
        "outputId": "ce785e0d-bdca-4169-e076-e0290237b7b5"
      },
      "id": "lzjbTj-iQS-4",
      "execution_count": null,
      "outputs": [
        {
          "output_type": "execute_result",
          "data": {
            "text/plain": [
              "'perindopril'"
            ],
            "application/vnd.google.colaboratory.intrinsic+json": {
              "type": "string"
            }
          },
          "metadata": {},
          "execution_count": 505
        }
      ]
    },
    {
      "cell_type": "code",
      "source": [
        "total_list_233 = [' '.join(row) for row in total_list[203]]\n",
        "set(total_list_233)\n",
        "#dictionary_medicine_name[233]"
      ],
      "metadata": {
        "colab": {
          "base_uri": "https://localhost:8080/"
        },
        "id": "5JoTcisuQS2a",
        "outputId": "255c9c78-b3a2-48bf-ef40-c9cb1d11a828"
      },
      "id": "5JoTcisuQS2a",
      "execution_count": null,
      "outputs": [
        {
          "output_type": "execute_result",
          "data": {
            "text/plain": [
              "{'1092030 - 4 insulina degludec ( adn recombinante ) 100 u / ml _x000d__x000d__x000d__x000d__x000d__x000d__x000d__x000d_ flexpen 3ml o equivalente a ins . tresiba 100 u / ml plexpen 3ml',\n",
              " '1092030 - 4 insulina degludec ( adn recombinante ) 100 u / ml flexpen 3ml o equivalente a ins . tresiba 100 u / ml plexpen 3ml .'}"
            ]
          },
          "metadata": {},
          "execution_count": 508
        }
      ]
    },
    {
      "cell_type": "code",
      "source": [
        "dictionary_medicine_name[233]"
      ],
      "metadata": {
        "colab": {
          "base_uri": "https://localhost:8080/",
          "height": 35
        },
        "id": "GwpZMR8XRnSF",
        "outputId": "66462222-bb0d-46b8-a4a6-01780b1562fc"
      },
      "id": "GwpZMR8XRnSF",
      "execution_count": null,
      "outputs": [
        {
          "output_type": "execute_result",
          "data": {
            "text/plain": [
              "'plexpen'"
            ],
            "application/vnd.google.colaboratory.intrinsic+json": {
              "type": "string"
            }
          },
          "metadata": {},
          "execution_count": 507
        }
      ]
    },
    {
      "cell_type": "code",
      "source": [
        "total_list_234 = [' '.join(row) for row in total_list[204]]\n",
        "set(total_list_234)\n",
        "#dictionary_medicine_name[234]"
      ],
      "metadata": {
        "colab": {
          "base_uri": "https://localhost:8080/"
        },
        "id": "7X8sAqiyRnNW",
        "outputId": "e9bfeaf0-2a2f-4125-c8de-0b6e2d670780"
      },
      "id": "7X8sAqiyRnNW",
      "execution_count": null,
      "outputs": [
        {
          "output_type": "execute_result",
          "data": {
            "text/plain": [
              "{'insulina glulisina 100 ui / ml lápiz x 3 ml excipientes : m - cresol , trometamol , cloruro de sodio , polisorbato 20 , acido clorhídrico y / o hidróxido de sodio , agua para inyectables más aguja compatible de 32g 4mm ( 15 agujas por lapiz )'}"
            ]
          },
          "metadata": {},
          "execution_count": 510
        }
      ]
    },
    {
      "cell_type": "code",
      "source": [
        "dictionary_medicine_name[234]"
      ],
      "metadata": {
        "colab": {
          "base_uri": "https://localhost:8080/",
          "height": 35
        },
        "id": "jZahhvVPRnJA",
        "outputId": "70730b9e-c1ec-4efb-d4a8-88712caab96c"
      },
      "id": "jZahhvVPRnJA",
      "execution_count": null,
      "outputs": [
        {
          "output_type": "execute_result",
          "data": {
            "text/plain": [
              "'polisorbato'"
            ],
            "application/vnd.google.colaboratory.intrinsic+json": {
              "type": "string"
            }
          },
          "metadata": {},
          "execution_count": 509
        }
      ]
    },
    {
      "cell_type": "code",
      "source": [
        "total_list_235 = [' '.join(row) for row in total_list[205]]\n",
        "set(total_list_235)\n",
        "#dictionary_medicine_name[235]"
      ],
      "metadata": {
        "colab": {
          "base_uri": "https://localhost:8080/"
        },
        "id": "xP9SkHaxRnEz",
        "outputId": "3abd4412-22e3-4be2-f27a-eac3a45873f4"
      },
      "id": "xP9SkHaxRnEz",
      "execution_count": null,
      "outputs": [
        {
          "output_type": "execute_result",
          "data": {
            "text/plain": [
              "{'metformina 850 mg . excipientes : polividona k30 , estearato de magnesio , metilhidroxipropilcelulosa comprimidos para pacientes intolerantes metformina genérica ) equivalente glafornil ( fofar )',\n",
              " 'metformina clorhidrato 850 mg ; caja x 60 comprimidos bioequivalente , con excipientes : polividona , crospovidona , celulosa microcristalina , acido esteárico , alcohol polivinilico , dióxido de titanio , macrogol 3000 , talco .',\n",
              " 'metformina cmp . 850 mg . con excipientes polividona k30 , esterato de magnesio metilhidroxipropil celulosa envase 30 o 60 comp .',\n",
              " 'metformina cmp . 850 mg . con excipientes polividona k30 , esterato de magnesio metilhidroxipropil celulosa envase 500 cmp . equivalente glafornil 850 mg .( pacientes intolerantes a metformina generica )'}"
            ]
          },
          "metadata": {},
          "execution_count": 512
        }
      ]
    },
    {
      "cell_type": "code",
      "source": [
        "dictionary_medicine_name[235]"
      ],
      "metadata": {
        "colab": {
          "base_uri": "https://localhost:8080/",
          "height": 35
        },
        "id": "cGhfDaYPRnAq",
        "outputId": "22211efd-d79f-4cf2-ea0a-1a09bae6fe49"
      },
      "id": "cGhfDaYPRnAq",
      "execution_count": null,
      "outputs": [
        {
          "output_type": "execute_result",
          "data": {
            "text/plain": [
              "'polividona'"
            ],
            "application/vnd.google.colaboratory.intrinsic+json": {
              "type": "string"
            }
          },
          "metadata": {},
          "execution_count": 511
        }
      ]
    },
    {
      "cell_type": "code",
      "source": [
        "total_list_236 = [' '.join(row) for row in total_list[206]]\n",
        "set(total_list_236)\n",
        "#dictionary_medicine_name[236]"
      ],
      "metadata": {
        "colab": {
          "base_uri": "https://localhost:8080/"
        },
        "id": "ncmohQMBRm6a",
        "outputId": "27ad37ee-d272-45a1-9e8d-44ec69c058a0"
      },
      "id": "ncmohQMBRm6a",
      "execution_count": null,
      "outputs": [
        {
          "output_type": "execute_result",
          "data": {
            "text/plain": [
              "{'metformina clorhidrato 850 mg ; caja x 60 comprimidos bioequivalente , con excipientes : polividona , crospovidona , celulosa microcristalina , acido esteárico , alcohol polivinilico , dióxido de titanio , macrogol 3000 , talco .'}"
            ]
          },
          "metadata": {},
          "execution_count": 514
        }
      ]
    },
    {
      "cell_type": "code",
      "source": [
        "dictionary_medicine_name[236]"
      ],
      "metadata": {
        "colab": {
          "base_uri": "https://localhost:8080/",
          "height": 35
        },
        "id": "Qq8DfMhzRmzq",
        "outputId": "b97dac5a-7e02-48c7-c878-50109ce4a74e"
      },
      "id": "Qq8DfMhzRmzq",
      "execution_count": null,
      "outputs": [
        {
          "output_type": "execute_result",
          "data": {
            "text/plain": [
              "'polivinilico'"
            ],
            "application/vnd.google.colaboratory.intrinsic+json": {
              "type": "string"
            }
          },
          "metadata": {},
          "execution_count": 513
        }
      ]
    },
    {
      "cell_type": "code",
      "source": [
        "total_list_237 = [' '.join(row) for row in total_list[207]]\n",
        "set(total_list_237)\n",
        "#dictionary_medicine_name[237]"
      ],
      "metadata": {
        "colab": {
          "base_uri": "https://localhost:8080/"
        },
        "id": "sDiqtjQ4Smof",
        "outputId": "c405c326-58f0-4d21-dc8b-185aecbc8e18"
      },
      "id": "sDiqtjQ4Smof",
      "execution_count": null,
      "outputs": [
        {
          "output_type": "execute_result",
          "data": {
            "text/plain": [
              "{'28000 comprimidos recubiertos losartan potasio 50mg . con fecha vencimiento 28 febrero de 2021 .',\n",
              " 'comprimidos losartan potasio 50 mg',\n",
              " 'losartan ( potasio ) 50mg comprimidos',\n",
              " 'losartan potasio 50mg . comprimidos recubiertos , con fecha vencimiento 30 de septiembre de 2021 .',\n",
              " 'losartan potasio 50mg . comprimidos recubiertos , con fecha vencimiento septiembre de 2021 .'}"
            ]
          },
          "metadata": {},
          "execution_count": 516
        }
      ]
    },
    {
      "cell_type": "code",
      "source": [
        "dictionary_medicine_name[237]"
      ],
      "metadata": {
        "colab": {
          "base_uri": "https://localhost:8080/",
          "height": 35
        },
        "id": "lx3A33COSmdN",
        "outputId": "c7e9b47a-bf7c-4896-d795-e95e7563de6a"
      },
      "id": "lx3A33COSmdN",
      "execution_count": null,
      "outputs": [
        {
          "output_type": "execute_result",
          "data": {
            "text/plain": [
              "'potasio'"
            ],
            "application/vnd.google.colaboratory.intrinsic+json": {
              "type": "string"
            }
          },
          "metadata": {},
          "execution_count": 515
        }
      ]
    },
    {
      "cell_type": "code",
      "source": [
        "total_list_238 = [' '.join(row) for row in total_list[208]]\n",
        "set(total_list_238)\n",
        "#dictionary_medicine_name[238]"
      ],
      "metadata": {
        "colab": {
          "base_uri": "https://localhost:8080/"
        },
        "id": "XNxkUbjkSmXe",
        "outputId": "a610539c-6f0d-46b6-c763-84bbade1d68a"
      },
      "id": "XNxkUbjkSmXe",
      "execution_count": null,
      "outputs": [
        {
          "output_type": "execute_result",
          "data": {
            "text/plain": [
              "{'3002140078 losartán potásico 50 mg comprimido',\n",
              " '600 . 000 comprimidos de losartan ( potásico ) 50 mg ( fofar )',\n",
              " 'cada comprimido recubierto contiene : losartán potásico 50 . 00 mg . cantidad estimada 20000 comprimidos',\n",
              " 'diclofenaco potásico',\n",
              " 'losartan ( potásico ) comprimido 50 mg_x000d__x000d__x000d__x000d__x000d__x000d_',\n",
              " 'losartan potásico',\n",
              " 'losartan potásico .',\n",
              " 'losartan potásico 50 mg',\n",
              " 'losartan potásico 50 mg , comprimido',\n",
              " 'losartan potásico 50 mg . cm . vencimiento superior a 12 meses',\n",
              " 'losartan potásico 50 mg . revisar bases adjuntas',\n",
              " 'losartan potásico 50 mg . vencimiento superior a 12 meses',\n",
              " 'losartan potásico 50 mg / hidroclorotiazida 12 . 5 mg simperten d 50 / 12 , 5mg caja x 30 comprimidos',\n",
              " 'losartan potásico 50 mg x 30 comp recubiertos , caja 30 comprimidos',\n",
              " 'losartan potásico 50 mg x 30 comp recubiertos_x000d__x000d__x000d__x000d__x000d__x000d_',\n",
              " 'losartan potásico 50 mg_x000d__x000d__x000d__x000d__x000d__x000d_',\n",
              " 'losartan potásico 50mg',\n",
              " 'losartan potásico 50mg .',\n",
              " 'losartan potásico cm 50mg',\n",
              " 'losartán potásico , comprimidos recubiertos 50mg .',\n",
              " 'losartán potásico 50 mg . comprimidos recubiertos .',\n",
              " 'losartán potásico 50 mg comprimido',\n",
              " 'losartán potásico 50 mg comprimido . _x000d__x000d__x000d__x000d__x000d__x000d_ vencimiento superior a 1 año al momento de la recepción . _x000d__x000d__x000d__x000d__x000d__x000d_',\n",
              " 'losartán potásico ; comprimido 50 mg .',\n",
              " 'losartán potásico comprimido 50 mg .',\n",
              " 'losartán potásico comprimidos recubiertos 50 mg',\n",
              " 'suministro de losartan potásico 50 mg'}"
            ]
          },
          "metadata": {},
          "execution_count": 518
        }
      ]
    },
    {
      "cell_type": "code",
      "source": [
        "dictionary_medicine_name[238]"
      ],
      "metadata": {
        "colab": {
          "base_uri": "https://localhost:8080/",
          "height": 35
        },
        "id": "PkYL7howSmQ5",
        "outputId": "39a9fcf8-bd6a-4ebe-f4b5-7850bf5c902c"
      },
      "id": "PkYL7howSmQ5",
      "execution_count": null,
      "outputs": [
        {
          "output_type": "execute_result",
          "data": {
            "text/plain": [
              "'potásico'"
            ],
            "application/vnd.google.colaboratory.intrinsic+json": {
              "type": "string"
            }
          },
          "metadata": {},
          "execution_count": 517
        }
      ]
    },
    {
      "cell_type": "code",
      "source": [
        "total_list_239 = [' '.join(row) for row in total_list[209]]\n",
        "set(total_list_239)\n",
        "#dictionary_medicine_name[239]"
      ],
      "metadata": {
        "colab": {
          "base_uri": "https://localhost:8080/"
        },
        "id": "BPky1GmxTFT9",
        "outputId": "feedb874-e013-4f7a-fd16-cf54195732c3"
      },
      "id": "BPky1GmxTFT9",
      "execution_count": null,
      "outputs": [
        {
          "output_type": "execute_result",
          "data": {
            "text/plain": [
              "{'007 - 0066 insulina glargina humana recombinante 100 ui cartridge c / dispositivo prellenado desechable para dispensación',\n",
              " '007 - 0117 insulina glargina humana recombinante 300 ui / ml en dispositivo prellenado desechable para dispensación',\n",
              " '1 insulina glargina 450 ui / 1 , 5 ml ( 300 ui / ml ) inyectable en lapiz prellenado inyectable 12000',\n",
              " '216 - 5171 insulina degludec 100ui / ml 3 ml lapiz prellenado',\n",
              " '216 - 5173 insulina detemir 100ui / ml 3 ml lapiz prellenado',\n",
              " 'cód .: 2200043_x000d__x000d__x000d__x000d__x000d__x000d__x000d__x000d_ insulina degludec ( ultralenta ) 100ui / ml solucion inyectable lapiz prellenado 3ml',\n",
              " 'dispositivo prellenado contiene : 300 unidades de insulina degludec en 3 ml de solución . similar a tresiba',\n",
              " 'insulina análoga aspártica de acción ultra rápida 100 ui / ml , lápiz prellenado desechable ; equivalente a novo rapid 100 ui / ml 5 flexpen 3 ml',\n",
              " 'insulina análoga de acción bifásica . 30 % aspártica soluble y 70 % aspártica retardada con protamina 100 ui / ml en presentación de lápiz prellenado desechable ; equivalente a novo mix 30 100 ui / ml 5 flexpen 3 ml',\n",
              " 'insulina asparta 3 . 5 mg ( equivalente a 100 u / ml ) equivalente a novorapid flexpen , caja 1 , 5 o 10 dispositivo prellenado x 3 ml',\n",
              " 'insulina asparta 300 ui / 3 ml ( 100 ui / ml ) inyectable en lapiz prellenado',\n",
              " 'insulina asparta adn recombinante 100 u / m x 3 ml disp . prellenado ( lápiz )',\n",
              " 'insulina deglodec solucion inyectable en dispositivo prellenado igual o superior a tresiba _x000d__x000d__x000d__x000d__x000d__x000d__x000d_ nota : se sugiere fecha de vencimiento superior a 1 año o en caso contrario contar con politicas de canje',\n",
              " 'insulina degludec , cada ml contiene 100 ui . un dispositivo prellenado contiene : 300 unidades de isnulina degludec en 3 ml de solucion . producida en saccharomyces cerevisiae por medio de la tecnologia de adn recombinante . tresiba o similar .',\n",
              " 'insulina degludec , similar tresiba 100 ui / ml , caja de 1 dispositivo prellenado de 3 ml , uso subcutaneo',\n",
              " 'insulina degludec , similar tresiba 100 ui / ml , caja de 1 dispositivo prellenado de 3 ml , uso subcutaneo .',\n",
              " 'insulina degludec . solucion inyectable 100 ui / ml . envase con 1 dispositivo prellenado de 3 ml . similar a tresiba flextouch',\n",
              " 'insulina degludec . solucion inyectable 100 ui / ml . envase con 1 dispositivo prellenado de 3 ml . similar a tresiba flextouch ®.',\n",
              " 'insulina degludec 100 u / ml , solución inyectable en dispositivo prellenado , producto deseado tresiba solución inyectable 100 u / ml',\n",
              " 'insulina degludec 100 u / ml solución inyectable en dispositivo prellenado _x000d__x000d__x000d__x000d__x000d__x000d__x000d_ nota : se sugiere fecha de vencimiento superior a 1 año o en caso contrario contar con políticas de canje',\n",
              " 'insulina degludec 100 ui / ml lapiz prellenado de 3 ml ( similar tresiba )',\n",
              " 'insulina degludec 100 ui / ml solución inyectable en dispositivo para inyección prellenado tipo lápiz descartable 3 ml ; mas 15 agujas en donación . vencimiento mayor a 18 meses desde el envío de la orden .',\n",
              " 'insulina degludec 100ui / ml solución inyectable en dispositivo prellenado 3 ml_x000d__x000d__x000d__x000d__x000d__x000d__x000d__x000d_',\n",
              " 'insulina detemir , cada 1 ml de solucion contiene : 100 u de insulina detemir * ( equivalente a 14 . 2 mg ) 1 dispositivo prellenado contiene : 3 ml equivalente a 300 u . caja conteniendo 5 dispositivos . levemir o similar .',\n",
              " 'insulina glargina 100 u / 1 mi . estuche con 1 lápiz aplicador desechable , prellenado con 3 ml . similar lantus solostar .',\n",
              " 'insulina glargina 100 u / ml estuche con 1 lápiz prellenado con 3 ml similar lantus solostar',\n",
              " 'insulina glargina 3 . 64 mg , equivalentes a 100 u . i . de insulina humana en 3 ml presentación en dispositivo solostar prellenado desechable .; equivalente a lantus solostar 100 u / ml lápiz 3 ml - _x000d__x000d__x000d__x000d__x000d__x000d__x000d__x000d_ ver base',\n",
              " 'insulina glargina 300 ui / 3 ml ( 100 ui / ml ) inyectable en lapiz prellenado',\n",
              " 'insulina glargina 300 ui / ml , dispositivo inyector desechable ( tipo lapicera ), prellenado , conteniendo un cartucho cartridge 1 , 5 ml . unidad lápiz',\n",
              " 'insulina glargina 300 ui / ml . lapiz prellenado 1 . 5ml . similar a toujeo . . . . .. .. .. . .. .. ( se adjuntan bases administrativas y técnicas leerlas p / ofertar ) _x000d__x000d__x000d__x000d__x000d__x000d__x000d__x000d_',\n",
              " 'insulina glargina 300 ui / ml lapiz prellenado / con 10 agujas 32 g x 4 mm por dispositivo de inyeccion tipo lapicera',\n",
              " 'insulina glargina 450 ui / 1 , 5 ml ( 300 ui / ml ) inyectable en lapiz prellenado',\n",
              " 'insulina glargina humana recombinante 100 ui / ml solución inyectable en dispositivo para inyección prellenado tipo lápiz descartable 3 ml ; mas 15 agujas en donación . vencimiento mayor a 18 meses desde el envío de oc',\n",
              " 'insulina glargina humana recombinante 100 ui / ml solución inyectable para administración subcutánea . dispositivo prellenado descartable de 3 ml .',\n",
              " 'insulina glargina humana recombinante 300 ui / ml solución inyectable para administración subcutánea . dispositivo prellenado de vidrio descartable de 1 , 5 ml .',\n",
              " 'insulina glulisina 300 ui / 3 ml ( 100 ui / ml ) inyectable en lapiz prellenado',\n",
              " 'insulina glulisina 300 ui / 3 ml ( 100 ui / ml ) inyectable lápiz prellenado',\n",
              " 'suministro de insulina glargina : 3 . 6378 mg ( equivalentes a 100 u de insulina recombinante humana / ml ) equivalente a lantus solostar , caja dispositivo prellenado x 3 ml',\n",
              " 'tresiba flextouch 100 u / ml dispositivo prellenado ( o equivalente )'}"
            ]
          },
          "metadata": {},
          "execution_count": 520
        }
      ]
    },
    {
      "cell_type": "code",
      "source": [
        "dictionary_medicine_name[239]"
      ],
      "metadata": {
        "colab": {
          "base_uri": "https://localhost:8080/",
          "height": 35
        },
        "id": "4OfqnFSjTFPH",
        "outputId": "59723b48-7a1b-4ab0-c86f-e9bb72e887dd"
      },
      "id": "4OfqnFSjTFPH",
      "execution_count": null,
      "outputs": [
        {
          "output_type": "execute_result",
          "data": {
            "text/plain": [
              "'prellenado'"
            ],
            "application/vnd.google.colaboratory.intrinsic+json": {
              "type": "string"
            }
          },
          "metadata": {},
          "execution_count": 519
        }
      ]
    },
    {
      "cell_type": "code",
      "source": [
        "total_list_240 = [' '.join(row) for row in total_list[210]]\n",
        "set(total_list_240)\n",
        "#dictionary_medicine_name[240]"
      ],
      "metadata": {
        "colab": {
          "base_uri": "https://localhost:8080/"
        },
        "id": "7ckrcGj5TFKh",
        "outputId": "96e2eb7e-aa9c-4ec7-a72d-a3317969568d"
      },
      "id": "7ckrcGj5TFKh",
      "execution_count": null,
      "outputs": [
        {
          "output_type": "execute_result",
          "data": {
            "text/plain": [
              "{'insulina glargina 100 ui / ml en lapices aplicadores prellenados , similar a lantus solostar'}"
            ]
          },
          "metadata": {},
          "execution_count": 523
        }
      ]
    },
    {
      "cell_type": "code",
      "source": [
        "dictionary_medicine_name[240]"
      ],
      "metadata": {
        "colab": {
          "base_uri": "https://localhost:8080/",
          "height": 35
        },
        "id": "K-Qz4xJwTFGs",
        "outputId": "8fea1524-6377-427b-fba3-bf90c0167033"
      },
      "id": "K-Qz4xJwTFGs",
      "execution_count": null,
      "outputs": [
        {
          "output_type": "execute_result",
          "data": {
            "text/plain": [
              "'prellenados'"
            ],
            "application/vnd.google.colaboratory.intrinsic+json": {
              "type": "string"
            }
          },
          "metadata": {},
          "execution_count": 522
        }
      ]
    },
    {
      "cell_type": "code",
      "source": [
        "total_list_241 = [' '.join(row) for row in total_list[211]]\n",
        "set(total_list_241)\n",
        "#dictionary_medicine_name[241]"
      ],
      "metadata": {
        "colab": {
          "base_uri": "https://localhost:8080/"
        },
        "id": "vc5tg-MrTFAw",
        "outputId": "a3cd0bea-cbaf-4e32-e390-3c464bda1215"
      },
      "id": "vc5tg-MrTFAw",
      "execution_count": null,
      "outputs": [
        {
          "output_type": "execute_result",
          "data": {
            "text/plain": [
              "{'caja de 28 comp . recubiertos de liberacion prolongada contiene : dapagliflozina ( como propanodiol ) 10 mg y metformina clorhidrato 1000 mg . similar a xigduo xr 10 / 1000',\n",
              " 'caja de 28 comprimidos recubiertos de liberación prolongada contiene : dapagliflozina ( como propanodiol ) 10 mg y metformina clorhidrato 1000 mg . similar a xigduo 10 / 1000',\n",
              " 'caja de 28 comprimidos recubiertos de liberación prolongada contiene : dapagliflozina ( como propanodiol ) 5 mg y metformina clorhidrato 1000 mg . similar a xigduo 5 / 1000',\n",
              " 'dapagliflozina ( como propanodiol ) 10 mg + metformina clorhidrato 1000 mg . envase conteniendo 28 comprimidos recubiertos de liberación prolongada .',\n",
              " 'dapagliflozina ( como propanodiol ) 10 mg + metformina clorhidrato 1000 mg x 28 comprimidos recubiertos de liberación prolongada , similar a xigduo xr 10 / 1000 mg x 28 comprimidos recubiertos de liberación prolongada',\n",
              " 'dapagliflozina ( como propanodiol ) 10 mg + metformina clorhidrato 1000 x 28 comp . de liberación prolongada , similar a xigduo xr 10 / 1000 mg x 28 comprimidos recubiertos de liberación prolongada',\n",
              " 'dapagliflozina ( como propanodiol ) 5 mg + metformina clorhidrato 1000 mg . envase conteniendo 56 comprimidos recubiertos de liberación prolongada .',\n",
              " 'dapagliflozina ( como propanodiol ) 5 mg + metformina clorhidrato 1000 mg . similar a xigduo 5 / 1000 mg',\n",
              " 'dapagliflozina ( como propanodiol ) 5 mg + metformina clorhidrato 1000 mg x 28 comprimidos de liberacion prolongada , similar a _x000d__x000d__x000d__x000d__x000d__x000d__x000d__x000d_ xigduo xr 5 / 1000 mg comprimidos recubiertos de liberación prolongada',\n",
              " 'dapagliflozina ( como propanodiol ) 5 mg + metformina clorhidrato 1000 mg x 56 comp_x000d__x000d__x000d__x000d__x000d__x000d__x000d__x000d_ ( xigduo xr 5 / 1000 mg )',\n",
              " 'dapagliflozina ( como propanodiol ) 5 mg + metformina clorhidrato 1000 mg x 56 comp_x000d__x000d__x000d__x000d__x000d__x000d__x000d__x000d_ ( xigduo xr 5 / 1000 mg ) _x000d__x000d__x000d__x000d__x000d__x000d__x000d__x000d_',\n",
              " 'dapagliflozina ( como propanodiol ) 5 mg + metformina clorhidrato 1000 mg x 56 comprimidos recubiertos de liberación prolongada , similar a xigduo xr 5 / 1000 mg x 56 comprimidos recubiertos de liberación prolongada',\n",
              " 'dapagliflozina ( como propanodiol ) 5 mg y metformina clorhidrato 1000 mg x 56 comp_x000d__x000d__x000d__x000d__x000d__x000d__x000d__x000d_',\n",
              " '• dapagliflozina ( como propanodiol ) 5 mg . y metformina clorhidrato 1000 mg . forma farmacéutica , comprimidos recubiertos de liberación prolongada .'}"
            ]
          },
          "metadata": {},
          "execution_count": 525
        }
      ]
    },
    {
      "cell_type": "code",
      "source": [
        "dictionary_medicine_name[241]"
      ],
      "metadata": {
        "colab": {
          "base_uri": "https://localhost:8080/",
          "height": 35
        },
        "id": "ibP_Z4niSmIm",
        "outputId": "d5900166-a618-4a7b-f29c-b0b50b30f382"
      },
      "id": "ibP_Z4niSmIm",
      "execution_count": null,
      "outputs": [
        {
          "output_type": "execute_result",
          "data": {
            "text/plain": [
              "'propanodiol'"
            ],
            "application/vnd.google.colaboratory.intrinsic+json": {
              "type": "string"
            }
          },
          "metadata": {},
          "execution_count": 524
        }
      ]
    },
    {
      "cell_type": "code",
      "source": [
        "total_list_242 = [' '.join(row) for row in total_list[212]]\n",
        "set(total_list_242)\n",
        "#dictionary_medicine_name[242]"
      ],
      "metadata": {
        "colab": {
          "base_uri": "https://localhost:8080/"
        },
        "id": "bTnl8W4ESl9v",
        "outputId": "e6afebcc-1185-47d6-b24d-90465fa178bb"
      },
      "id": "bTnl8W4ESl9v",
      "execution_count": null,
      "outputs": [
        {
          "output_type": "execute_result",
          "data": {
            "text/plain": [
              "{'propofol 10 mg / ml ( 1 %) am / fam 100 ml',\n",
              " 'propofol 10 mg / ml ( 1 %) am / fam 50 ml',\n",
              " 'propofol 10 mg / ml ( 1 %) emu iny am / fam20 ml',\n",
              " 'propofol 20 mg / ml emu iny am / fam 100 ml',\n",
              " 'propofol 20 mg / ml emu iny am / fam50 ml'}"
            ]
          },
          "metadata": {},
          "execution_count": 528
        }
      ]
    },
    {
      "cell_type": "code",
      "source": [
        "dictionary_medicine_name[242]"
      ],
      "metadata": {
        "colab": {
          "base_uri": "https://localhost:8080/",
          "height": 35
        },
        "id": "xl_ugwYqT169",
        "outputId": "e36edc48-5112-4fb7-b1c0-b600ba4a129f"
      },
      "id": "xl_ugwYqT169",
      "execution_count": null,
      "outputs": [
        {
          "output_type": "execute_result",
          "data": {
            "text/plain": [
              "'propofol'"
            ],
            "application/vnd.google.colaboratory.intrinsic+json": {
              "type": "string"
            }
          },
          "metadata": {},
          "execution_count": 526
        }
      ]
    },
    {
      "cell_type": "code",
      "source": [
        "total_list_243 = [' '.join(row) for row in total_list[213]]\n",
        "set(total_list_243)\n",
        "#dictionary_medicine_name[243]"
      ],
      "metadata": {
        "colab": {
          "base_uri": "https://localhost:8080/"
        },
        "id": "Ld6k7sSaT12V",
        "outputId": "047aa782-f0f3-499f-83a5-61ae233d8dd3"
      },
      "id": "Ld6k7sSaT12V",
      "execution_count": null,
      "outputs": [
        {
          "output_type": "execute_result",
          "data": {
            "text/plain": [
              "{'insulina análoga de acción bifásica . 30 % aspártica soluble y 70 % aspártica retardada con protamina 100 ui / ml en presentación de lápiz prellenado desechable ; equivalente a novo mix 30 100 ui / ml 5 flexpen 3 ml',\n",
              " 'insulina mezcla , suspensión inyectable 100 ui / ml , 30 % de insulina soluble asparta y 70 % de insulina asparta cristalizada con protamina , lápiz descartable 3 ml . unidad lápiz'}"
            ]
          },
          "metadata": {},
          "execution_count": 530
        }
      ]
    },
    {
      "cell_type": "code",
      "source": [
        "dictionary_medicine_name[243]"
      ],
      "metadata": {
        "colab": {
          "base_uri": "https://localhost:8080/",
          "height": 35
        },
        "id": "GEEjcqg8T1yK",
        "outputId": "b9d04a85-2932-44b5-b6bd-f9b28528f5cc"
      },
      "id": "GEEjcqg8T1yK",
      "execution_count": null,
      "outputs": [
        {
          "output_type": "execute_result",
          "data": {
            "text/plain": [
              "'protamina'"
            ],
            "application/vnd.google.colaboratory.intrinsic+json": {
              "type": "string"
            }
          },
          "metadata": {},
          "execution_count": 529
        }
      ]
    },
    {
      "cell_type": "code",
      "source": [
        "total_list_244 = [' '.join(row) for row in total_list[214]]\n",
        "set(total_list_244)\n",
        "#dictionary_medicine_name[244]"
      ],
      "metadata": {
        "colab": {
          "base_uri": "https://localhost:8080/"
        },
        "id": "TpjZ6Qw8T1sl",
        "outputId": "a13d56c6-3589-4dea-f044-8ae0c3ce49cc"
      },
      "id": "TpjZ6Qw8T1sl",
      "execution_count": null,
      "outputs": [
        {
          "output_type": "execute_result",
          "data": {
            "text/plain": [
              "{'metformina clorh . 1000 mg ( eq . a 780 mg ) x 30 tab de liberacion prolongada por sistema de doble matriz de polímero hidrofílico , inscripción sr1000 en una de sus caras y caja con impresión en braille , en blíster pvdc / aluminio . exc .: estearato de magnesio , ca',\n",
              " 'metformina clorh . 1000 mg x 30 tab de lib . prolongada por sistema de doble matriz de polímero hidrofílico , inscripción sr1000 en una de sus caras y caja con impresión en braille , en blíster pvdc / aluminio . exc .: estearato de magnesio , carboximetilcelulosa e',\n",
              " 'metformina clorh . 500 mg x 30 tab de lib . prolongada por sistema de doble matriz de polímero hidrofílico , inscripción sr500 en una de sus caras y caja con impresión en braille , en blíster pvdc / aluminio . exc .: estearato de magnesio , carboximetilcelulosa e hi',\n",
              " 'metformina clorh . 750 mg x 30 tab de lib . prolongada por sistema de doble matriz de polímero hidrofílico , inscripción sr750 en una de sus caras y caja con impresión en braille , en blíster pvdc / aluminio . exc .: estearato de magnesio , carboximetilcelulosa e hi'}"
            ]
          },
          "metadata": {},
          "execution_count": 532
        }
      ]
    },
    {
      "cell_type": "code",
      "source": [
        "dictionary_medicine_name[244]"
      ],
      "metadata": {
        "colab": {
          "base_uri": "https://localhost:8080/",
          "height": 35
        },
        "id": "XHdDLUpjT1nZ",
        "outputId": "965362d8-5615-426b-d0cc-f7625763b407"
      },
      "id": "XHdDLUpjT1nZ",
      "execution_count": null,
      "outputs": [
        {
          "output_type": "execute_result",
          "data": {
            "text/plain": [
              "'pvdc'"
            ],
            "application/vnd.google.colaboratory.intrinsic+json": {
              "type": "string"
            }
          },
          "metadata": {},
          "execution_count": 531
        }
      ]
    },
    {
      "cell_type": "code",
      "source": [
        "total_list_245 = [' '.join(row) for row in total_list[215]]\n",
        "set(total_list_245)\n",
        "#dictionary_medicine_name[245]"
      ],
      "metadata": {
        "colab": {
          "base_uri": "https://localhost:8080/"
        },
        "id": "wv5x3sozT1hs",
        "outputId": "e5d79017-0722-4720-be60-e2f5497d57f1"
      },
      "id": "wv5x3sozT1hs",
      "execution_count": null,
      "outputs": [
        {
          "output_type": "execute_result",
          "data": {
            "text/plain": [
              "{'raltegravir 400 mg cm rec', 'raltegravir 600 mg cm rec'}"
            ]
          },
          "metadata": {},
          "execution_count": 534
        }
      ]
    },
    {
      "cell_type": "code",
      "source": [
        "dictionary_medicine_name[245]"
      ],
      "metadata": {
        "colab": {
          "base_uri": "https://localhost:8080/",
          "height": 35
        },
        "id": "d2iJKLzQT1b2",
        "outputId": "c281a5fd-0f5b-4a98-aff7-4a69518ed271"
      },
      "id": "d2iJKLzQT1b2",
      "execution_count": null,
      "outputs": [
        {
          "output_type": "execute_result",
          "data": {
            "text/plain": [
              "'raltegravir'"
            ],
            "application/vnd.google.colaboratory.intrinsic+json": {
              "type": "string"
            }
          },
          "metadata": {},
          "execution_count": 533
        }
      ]
    },
    {
      "cell_type": "code",
      "source": [
        "total_list_246 = [' '.join(row) for row in total_list[216]]\n",
        "set(total_list_246)\n",
        "#dictionary_medicine_name[246]"
      ],
      "metadata": {
        "colab": {
          "base_uri": "https://localhost:8080/"
        },
        "id": "q7DJDWzOW0HI",
        "outputId": "67d054c9-06d9-4fd4-e2d3-5b158220ec69"
      },
      "id": "q7DJDWzOW0HI",
      "execution_count": null,
      "outputs": [
        {
          "output_type": "execute_result",
          "data": {
            "text/plain": [
              "{'1160010 insulina detemir , rdna accion prolongada 100 u / ml 3ml lapiz sol iny'}"
            ]
          },
          "metadata": {},
          "execution_count": 536
        }
      ]
    },
    {
      "cell_type": "code",
      "source": [
        "dictionary_medicine_name[246]"
      ],
      "metadata": {
        "colab": {
          "base_uri": "https://localhost:8080/",
          "height": 35
        },
        "id": "19n8FG98W0A9",
        "outputId": "c87ac537-e6c3-4e7a-9348-a2edefee73f3"
      },
      "id": "19n8FG98W0A9",
      "execution_count": null,
      "outputs": [
        {
          "output_type": "execute_result",
          "data": {
            "text/plain": [
              "'rdna'"
            ],
            "application/vnd.google.colaboratory.intrinsic+json": {
              "type": "string"
            }
          },
          "metadata": {},
          "execution_count": 535
        }
      ]
    },
    {
      "cell_type": "code",
      "source": [
        "total_list_247 = [' '.join(row) for row in total_list[217]]\n",
        "set(total_list_247)\n",
        "#dictionary_medicine_name[247]"
      ],
      "metadata": {
        "colab": {
          "base_uri": "https://localhost:8080/"
        },
        "id": "8xk0fFnRWz8l",
        "outputId": "2f1bdc27-0031-488a-80d7-423e3848b84c"
      },
      "id": "8xk0fFnRWz8l",
      "execution_count": null,
      "outputs": [
        {
          "output_type": "execute_result",
          "data": {
            "text/plain": [
              "{'1092011 - 4 insulina isofánica humana recombinantea 100ui / ml 10ml fco amp . suspension inyectable , o equivalente a insulina insuman n 100ui / ml intermedia',\n",
              " '1092011 - 4 insulina isofánica humana recombinantea 100ui / ml _x000d__x000d__x000d__x000d__x000d__x000d__x000d__x000d_ 10ml fco amp . suspension inyectable , o equivalente a insulina insuman n 100ui / ml intermedia'}"
            ]
          },
          "metadata": {},
          "execution_count": 538
        }
      ]
    },
    {
      "cell_type": "code",
      "source": [
        "dictionary_medicine_name[247]"
      ],
      "metadata": {
        "colab": {
          "base_uri": "https://localhost:8080/",
          "height": 35
        },
        "id": "i2ewCrAjWzxo",
        "outputId": "8c957bcc-89e6-42d6-f3af-9caea31fa7e8"
      },
      "id": "i2ewCrAjWzxo",
      "execution_count": null,
      "outputs": [
        {
          "output_type": "execute_result",
          "data": {
            "text/plain": [
              "'recombinantea'"
            ],
            "application/vnd.google.colaboratory.intrinsic+json": {
              "type": "string"
            }
          },
          "metadata": {},
          "execution_count": 537
        }
      ]
    },
    {
      "cell_type": "code",
      "source": [
        "total_list_248 = [' '.join(row) for row in total_list[218]]\n",
        "set(total_list_248)\n",
        "#dictionary_medicine_name[248]"
      ],
      "metadata": {
        "colab": {
          "base_uri": "https://localhost:8080/"
        },
        "id": "xFNacvNUXMRX",
        "outputId": "6a9b6451-a94c-4b2a-fc97-6691ff7d9f18"
      },
      "id": "xFNacvNUXMRX",
      "execution_count": null,
      "outputs": [
        {
          "output_type": "execute_result",
          "data": {
            "text/plain": [
              "{'saxagliptina 5mg / metformina 1000mg comprimidos recubrimientosde liberación extendida similar kombiglyze xr'}"
            ]
          },
          "metadata": {},
          "execution_count": 540
        }
      ]
    },
    {
      "cell_type": "code",
      "source": [
        "dictionary_medicine_name[248]"
      ],
      "metadata": {
        "colab": {
          "base_uri": "https://localhost:8080/",
          "height": 35
        },
        "id": "gjC7Q22cXMLo",
        "outputId": "2ca7ca9c-c827-4db5-95b4-5faeb12f59b6"
      },
      "id": "gjC7Q22cXMLo",
      "execution_count": null,
      "outputs": [
        {
          "output_type": "execute_result",
          "data": {
            "text/plain": [
              "'recubrimientosde'"
            ],
            "application/vnd.google.colaboratory.intrinsic+json": {
              "type": "string"
            }
          },
          "metadata": {},
          "execution_count": 539
        }
      ]
    },
    {
      "cell_type": "code",
      "source": [
        "total_list_249 = [' '.join(row) for row in total_list[219]]\n",
        "set(total_list_249)\n",
        "#dictionary_medicine_name[249]"
      ],
      "metadata": {
        "colab": {
          "base_uri": "https://localhost:8080/"
        },
        "id": "5PAWhq40XMF8",
        "outputId": "2087a66b-5a96-4173-eb7a-a650d0b059d6"
      },
      "id": "5PAWhq40XMF8",
      "execution_count": null,
      "outputs": [
        {
          "output_type": "execute_result",
          "data": {
            "text/plain": [
              "{'rifampicina 100 mg / 5 ml susp / oral x ml',\n",
              " 'rifampicina 600mg liof / sol inyect fam'}"
            ]
          },
          "metadata": {},
          "execution_count": 542
        }
      ]
    },
    {
      "cell_type": "code",
      "source": [
        "dictionary_medicine_name[249]"
      ],
      "metadata": {
        "colab": {
          "base_uri": "https://localhost:8080/",
          "height": 35
        },
        "id": "4BGKNQHSXMB6",
        "outputId": "1ba85725-8324-4457-8b90-65cdf5c1fc54"
      },
      "id": "4BGKNQHSXMB6",
      "execution_count": null,
      "outputs": [
        {
          "output_type": "execute_result",
          "data": {
            "text/plain": [
              "'rifampicina'"
            ],
            "application/vnd.google.colaboratory.intrinsic+json": {
              "type": "string"
            }
          },
          "metadata": {},
          "execution_count": 541
        }
      ]
    },
    {
      "cell_type": "code",
      "source": [
        "total_list_250 = [' '.join(row) for row in total_list[220]]\n",
        "set(total_list_250)\n",
        "#dictionary_medicine_name[250]"
      ],
      "metadata": {
        "colab": {
          "base_uri": "https://localhost:8080/"
        },
        "id": "ZwJtYeRtXL8s",
        "outputId": "cee2928f-ad2b-444a-934f-b5050ca0ade6"
      },
      "id": "ZwJtYeRtXL8s",
      "execution_count": null,
      "outputs": [
        {
          "output_type": "execute_result",
          "data": {
            "text/plain": [
              "{'rifapentina 150 mg cm'}"
            ]
          },
          "metadata": {},
          "execution_count": 545
        }
      ]
    },
    {
      "cell_type": "code",
      "source": [
        "dictionary_medicine_name[250]"
      ],
      "metadata": {
        "colab": {
          "base_uri": "https://localhost:8080/",
          "height": 35
        },
        "id": "AhwHmyjrXL1e",
        "outputId": "cddd5bd8-f0f3-46db-db4d-e232bac9cefa"
      },
      "id": "AhwHmyjrXL1e",
      "execution_count": null,
      "outputs": [
        {
          "output_type": "execute_result",
          "data": {
            "text/plain": [
              "'rifapentina'"
            ],
            "application/vnd.google.colaboratory.intrinsic+json": {
              "type": "string"
            }
          },
          "metadata": {},
          "execution_count": 544
        }
      ]
    },
    {
      "cell_type": "code",
      "source": [
        "total_list_251 = [' '.join(row) for row in total_list[221]]\n",
        "set(total_list_251)\n",
        "#dictionary_medicine_name[251]"
      ],
      "metadata": {
        "colab": {
          "base_uri": "https://localhost:8080/"
        },
        "id": "oRruu9ePX7I9",
        "outputId": "87ed07c3-5e16-47f1-b6ab-7d95c083c27b"
      },
      "id": "oRruu9ePX7I9",
      "execution_count": null,
      "outputs": [
        {
          "output_type": "execute_result",
          "data": {
            "text/plain": [
              "{'lopinavir / ritonav 80 / 20 mg / ml x ml'}"
            ]
          },
          "metadata": {},
          "execution_count": 547
        }
      ]
    },
    {
      "cell_type": "code",
      "source": [
        "dictionary_medicine_name[251]"
      ],
      "metadata": {
        "colab": {
          "base_uri": "https://localhost:8080/",
          "height": 35
        },
        "id": "iriJiTliX6-0",
        "outputId": "6ad8d0e6-96a9-4a7d-9a7b-b5b11ecc4ffc"
      },
      "id": "iriJiTliX6-0",
      "execution_count": null,
      "outputs": [
        {
          "output_type": "execute_result",
          "data": {
            "text/plain": [
              "'ritonav'"
            ],
            "application/vnd.google.colaboratory.intrinsic+json": {
              "type": "string"
            }
          },
          "metadata": {},
          "execution_count": 546
        }
      ]
    },
    {
      "cell_type": "code",
      "source": [
        "total_list_252 = [' '.join(row) for row in total_list[222]]\n",
        "set(total_list_252)\n",
        "#dictionary_medicine_name[252]"
      ],
      "metadata": {
        "colab": {
          "base_uri": "https://localhost:8080/"
        },
        "id": "qsf065s5X61E",
        "outputId": "28339fc6-9d74-4f1c-df0c-1eef3283f499"
      },
      "id": "qsf065s5X61E",
      "execution_count": null,
      "outputs": [
        {
          "output_type": "execute_result",
          "data": {
            "text/plain": [
              "{'lopinavir / ritonavir 200 / 50 mg cm rec .', 'ritonavir 100 mg cm rec'}"
            ]
          },
          "metadata": {},
          "execution_count": 549
        }
      ]
    },
    {
      "cell_type": "code",
      "source": [
        "dictionary_medicine_name[252]"
      ],
      "metadata": {
        "colab": {
          "base_uri": "https://localhost:8080/",
          "height": 35
        },
        "id": "5nh5KvaCYNPb",
        "outputId": "86b357b0-c2a8-489d-976b-0f338dac52fd"
      },
      "id": "5nh5KvaCYNPb",
      "execution_count": null,
      "outputs": [
        {
          "output_type": "execute_result",
          "data": {
            "text/plain": [
              "'ritonavir'"
            ],
            "application/vnd.google.colaboratory.intrinsic+json": {
              "type": "string"
            }
          },
          "metadata": {},
          "execution_count": 548
        }
      ]
    },
    {
      "cell_type": "code",
      "source": [
        "total_list_253 = [' '.join(row) for row in total_list[223]]\n",
        "set(total_list_253)\n",
        "#dictionary_medicine_name[253]"
      ],
      "metadata": {
        "colab": {
          "base_uri": "https://localhost:8080/"
        },
        "id": "6c2HDDNrYNIB",
        "outputId": "64a5ff20-42e5-45cf-ac57-335ac56522d0"
      },
      "id": "6c2HDDNrYNIB",
      "execution_count": null,
      "outputs": [
        {
          "output_type": "execute_result",
          "data": {
            "text/plain": [
              "{'rituximab 100 mg / 10ml sol . iny . fam',\n",
              " 'rituximab 10mg / ml soluc . inyec . fam 50 ml',\n",
              " 'rituximab 1400mg / 11 , 7ml sol inyect fam'}"
            ]
          },
          "metadata": {},
          "execution_count": 551
        }
      ]
    },
    {
      "cell_type": "code",
      "source": [
        "dictionary_medicine_name[253]"
      ],
      "metadata": {
        "colab": {
          "base_uri": "https://localhost:8080/",
          "height": 35
        },
        "id": "ebLKBcTiYNCa",
        "outputId": "60fb908c-4d98-4e5b-ca1f-dbd5a146f88a"
      },
      "id": "ebLKBcTiYNCa",
      "execution_count": null,
      "outputs": [
        {
          "output_type": "execute_result",
          "data": {
            "text/plain": [
              "'rituximab'"
            ],
            "application/vnd.google.colaboratory.intrinsic+json": {
              "type": "string"
            }
          },
          "metadata": {},
          "execution_count": 550
        }
      ]
    },
    {
      "cell_type": "code",
      "source": [
        "total_list_254 = [' '.join(row) for row in total_list[224]]\n",
        "set(total_list_254)\n",
        "#dictionary_medicine_name[254]"
      ],
      "metadata": {
        "colab": {
          "base_uri": "https://localhost:8080/"
        },
        "id": "vV1bh2n7X6ZO",
        "outputId": "f7b27574-ce02-4d79-ba03-3e09e28e58e2"
      },
      "id": "vV1bh2n7X6ZO",
      "execution_count": null,
      "outputs": [
        {
          "output_type": "execute_result",
          "data": {
            "text/plain": [
              "{'rosuvastatina 10 mg cm rec .',\n",
              " 'rosuvastatina 20 mg cm rec',\n",
              " 'rosuvastatina 40 mg cm rec'}"
            ]
          },
          "metadata": {},
          "execution_count": 553
        }
      ]
    },
    {
      "cell_type": "code",
      "source": [
        "dictionary_medicine_name[254]"
      ],
      "metadata": {
        "colab": {
          "base_uri": "https://localhost:8080/",
          "height": 35
        },
        "id": "vGEFG1sMXLth",
        "outputId": "fbc7156a-5bec-4280-9639-52232dafcc79"
      },
      "id": "vGEFG1sMXLth",
      "execution_count": null,
      "outputs": [
        {
          "output_type": "execute_result",
          "data": {
            "text/plain": [
              "'rosuvastatina'"
            ],
            "application/vnd.google.colaboratory.intrinsic+json": {
              "type": "string"
            }
          },
          "metadata": {},
          "execution_count": 552
        }
      ]
    },
    {
      "cell_type": "code",
      "source": [
        "total_list_255 = [' '.join(row) for row in total_list[225]]\n",
        "set(total_list_255)\n",
        "#dictionary_medicine_name[255]"
      ],
      "metadata": {
        "colab": {
          "base_uri": "https://localhost:8080/"
        },
        "id": "w4ngRDSWY3kz",
        "outputId": "4becb046-042b-43af-a7a2-96d578a5fa4f"
      },
      "id": "w4ngRDSWY3kz",
      "execution_count": null,
      "outputs": [
        {
          "output_type": "execute_result",
          "data": {
            "text/plain": [
              "{'insulina degludec * . * producida en saccharomyces cerevisiae por medio de la tecnología de adn recombinante , similar a insulina tresiba . solución inyectable ( flextouch ®)',\n",
              " 'insulina degludec , cada ml contiene 100 ui . un dispositivo prellenado contiene : 300 unidades de isnulina degludec en 3 ml de solucion . producida en saccharomyces cerevisiae por medio de la tecnologia de adn recombinante . tresiba o similar .',\n",
              " 'insulina humana , adnr ( producida por tecnología del adn recombinante en saccharomyces cerevisiae ) similar a insulatrad penfill . 100 ui / 1 ml suspensión inyectable .',\n",
              " 'insulina humana biosintética de origen adn recombinante , producida a partir de saccharomyces cerevisiae con excipientes cloruro de zinc , glicerol , metacresol , hidróxido de sodio , ácido clorhídrico y agua para inyectables . ( ver base )',\n",
              " 'insulina lenta humana , adnr ( producida por tecnología del adn recombinante en saccharomyces cerevisiae ). cada 1 ml contiene : 100 ui de insulina humana . una ui ( unidad internacional ) corresponde a 0 . 035 mg de insulina humana anhidra . cantidad estimada 50 f'}"
            ]
          },
          "metadata": {},
          "execution_count": 556
        }
      ]
    },
    {
      "cell_type": "code",
      "source": [
        "dictionary_medicine_name[255]"
      ],
      "metadata": {
        "colab": {
          "base_uri": "https://localhost:8080/",
          "height": 35
        },
        "id": "fUfsDC_XY3ge",
        "outputId": "8c6ed496-ee86-4657-d33d-7a1426f08606"
      },
      "id": "fUfsDC_XY3ge",
      "execution_count": null,
      "outputs": [
        {
          "output_type": "execute_result",
          "data": {
            "text/plain": [
              "'saccharomyces'"
            ],
            "application/vnd.google.colaboratory.intrinsic+json": {
              "type": "string"
            }
          },
          "metadata": {},
          "execution_count": 555
        }
      ]
    },
    {
      "cell_type": "code",
      "source": [
        "total_list_256 = [' '.join(row) for row in total_list[226]]\n",
        "set(total_list_256)\n",
        "#dictionary_medicine_name[256]"
      ],
      "metadata": {
        "colab": {
          "base_uri": "https://localhost:8080/"
        },
        "id": "NdwlcYcJY3Xa",
        "outputId": "d4f58018-402d-4000-9014-942ad30241fb"
      },
      "id": "NdwlcYcJY3Xa",
      "execution_count": null,
      "outputs": [
        {
          "output_type": "execute_result",
          "data": {
            "text/plain": [
              "{'ácido salicílico'}"
            ]
          },
          "metadata": {},
          "execution_count": 558
        }
      ]
    },
    {
      "cell_type": "code",
      "source": [
        "dictionary_medicine_name[256]"
      ],
      "metadata": {
        "colab": {
          "base_uri": "https://localhost:8080/",
          "height": 35
        },
        "id": "7zA8VFYOY3N-",
        "outputId": "7824d793-794f-4616-f09d-d3ddf593e9f4"
      },
      "id": "7zA8VFYOY3N-",
      "execution_count": null,
      "outputs": [
        {
          "output_type": "execute_result",
          "data": {
            "text/plain": [
              "'salicílico'"
            ],
            "application/vnd.google.colaboratory.intrinsic+json": {
              "type": "string"
            }
          },
          "metadata": {},
          "execution_count": 557
        }
      ]
    },
    {
      "cell_type": "code",
      "source": [
        "total_list_257 = [' '.join(row) for row in total_list[227]]\n",
        "set(total_list_257)\n",
        "#dictionary_medicine_name[257]"
      ],
      "metadata": {
        "colab": {
          "base_uri": "https://localhost:8080/"
        },
        "id": "4OennrtlY3Hb",
        "outputId": "3f924250-0f47-4d26-8f12-93792b25617e"
      },
      "id": "4OennrtlY3Hb",
      "execution_count": null,
      "outputs": [
        {
          "output_type": "execute_result",
          "data": {
            "text/plain": [
              "{'metform / saxaglipti 1000 / 2 , 5mg cm lib ext',\n",
              " 'metform / saxaglipti 1000 / 2 , 5mg cm lib ext ( 100004981 )'}"
            ]
          },
          "metadata": {},
          "execution_count": 562
        }
      ]
    },
    {
      "cell_type": "code",
      "source": [
        "dictionary_medicine_name[257]"
      ],
      "metadata": {
        "colab": {
          "base_uri": "https://localhost:8080/",
          "height": 35
        },
        "id": "H9Z1z4BcY3By",
        "outputId": "e959e1df-ae66-427a-ac0a-bc6ffbfeab3c"
      },
      "id": "H9Z1z4BcY3By",
      "execution_count": null,
      "outputs": [
        {
          "output_type": "execute_result",
          "data": {
            "text/plain": [
              "'saxaglipti'"
            ],
            "application/vnd.google.colaboratory.intrinsic+json": {
              "type": "string"
            }
          },
          "metadata": {},
          "execution_count": 560
        }
      ]
    },
    {
      "cell_type": "code",
      "source": [
        "total_list_258 = [' '.join(row) for row in total_list[228]]\n",
        "set(total_list_258)\n",
        "#dictionary_medicine_name[258]"
      ],
      "metadata": {
        "colab": {
          "base_uri": "https://localhost:8080/"
        },
        "id": "e-YsQxD4Y26w",
        "outputId": "15f0b7df-b86d-4519-a376-5d113d3479da"
      },
      "id": "e-YsQxD4Y26w",
      "execution_count": null,
      "outputs": [
        {
          "output_type": "execute_result",
          "data": {
            "text/plain": [
              "{'metform / saxagliptin 1000 / 5 mg cm lib ext',\n",
              " 'metform / saxagliptin 1000 / 5 mg cm lib ext ( 100004977 )'}"
            ]
          },
          "metadata": {},
          "execution_count": 564
        }
      ]
    },
    {
      "cell_type": "code",
      "source": [
        "dictionary_medicine_name[258]"
      ],
      "metadata": {
        "colab": {
          "base_uri": "https://localhost:8080/",
          "height": 35
        },
        "id": "RdnyeZ-zcAHu",
        "outputId": "5959ac18-203d-4fb6-b2ac-8e3db8ae83bd"
      },
      "id": "RdnyeZ-zcAHu",
      "execution_count": null,
      "outputs": [
        {
          "output_type": "execute_result",
          "data": {
            "text/plain": [
              "'saxagliptin'"
            ],
            "application/vnd.google.colaboratory.intrinsic+json": {
              "type": "string"
            }
          },
          "metadata": {},
          "execution_count": 563
        }
      ]
    },
    {
      "cell_type": "code",
      "source": [
        "total_list_259 = [' '.join(row) for row in total_list[229]]\n",
        "set(total_list_259)\n",
        "#dictionary_medicine_name[259]"
      ],
      "metadata": {
        "colab": {
          "base_uri": "https://localhost:8080/"
        },
        "id": "DqVjIPF-cADP",
        "outputId": "c7e60907-9459-495e-ea17-1b9b082884e4"
      },
      "id": "DqVjIPF-cADP",
      "execution_count": null,
      "outputs": [
        {
          "output_type": "execute_result",
          "data": {
            "text/plain": [
              "{'\" metformina / saxagliptina los comprimidos son de color rosado , biconvexos en forma de capsula con la marca \"\" 5 / 100 \"\" impresa en un lado . cada caja contiene 28 comprimidos con metformina 1000 mg y 5 mg saxagliptina . kombiglyze o similar .\"',\n",
              " '\" saxagliptina 5mg + metformina 1000mg . caja x 28 comp . lib . prol . ( similar a kombiglize xr ). . . . .. .. . .. .. . ( se adjuntan bases administrativas y tecnicas \"\" leerlas p / ofertar \"\")\"',\n",
              " 'cajas de saxagliptina 5mg x 28 comp .',\n",
              " 'kombiglyza xr 2 , 5 / 1000 mg - saxagliptina 2 , 5 mg / metformina 1000 mg',\n",
              " 'kombiglyze saxagliptina + metformina 5 / 1000mg , comprimidos rcubiertos de liberación prolongada , caja x 28 comprimidos',\n",
              " 'lo que se requiere es saxagliptina 2 . 5 metformina 1000 xr x 60 c',\n",
              " 'lo que se requiere es saxagliptina 5 metformina 1000 xr x 60 c',\n",
              " 'lo que se requiere es saxagliptina 5 mg / metformina 500 mg x 60 comp',\n",
              " 'onglyza 5 mg - saxagliptina 5 mg',\n",
              " 'saxagliptina + metformina 5 / 1000 mg x 28 comp . lp',\n",
              " 'saxagliptina / metformina 5 / 1000 mg similar a kombiglyze xr 5 / 1000 mg x 28 comprimidos',\n",
              " 'saxagliptina / metformina 5 / 1000 mg x 28 comp ., caja 28 comprimidos',\n",
              " 'saxagliptina / metformina : 2 , 5 mg saxagliptina / 1000 mg metformina , comprimidoss de liberacion extendida',\n",
              " 'saxagliptina / metformina : 5 mg saxagliptina / 1000 mg metformina comprimidoss de liberacion extendida',\n",
              " 'saxagliptina / metformina sin especificar cm 5 / 1000 mg_x000d__x000d__x000d__x000d__x000d__x000d__x000d__x000d_',\n",
              " 'saxagliptina / metformina sin especificar cm 5 / 1000 mg_x000d__x000d__x000d__x000d__x000d__x000d__x000d__x000d_ _x000d__x000d__x000d__x000d__x000d__x000d__x000d__x000d_ _x000d__x000d__x000d__x000d__x000d__x000d__x000d__x000d_ _x000d__x000d__x000d__x000d__x000d__x000d__x000d__x000d_ _x000d__x000d__x000d__x000d__x000d__x000d__x000d__x000d_ _x000d__x000d__x000d__x000d__x000d__x000d__x000d__x000d_ _x000d__x000d__x000d__x000d__x000d__x000d__x000d__x000d_ _x000d__x000d__x000d__x000d__x000d__x000d__x000d__x000d_',\n",
              " 'saxagliptina / metformina sin especificar cm 5 / 1000 mg_x000d__x000d__x000d__x000d__x000d__x000d__x000d__x000d_ _x000d__x000d__x000d__x000d__x000d__x000d__x000d__x000d_ _x000d__x000d__x000d__x000d__x000d__x000d__x000d__x000d_ _x000d__x000d__x000d__x000d__x000d__x000d__x000d__x000d_ _x000d__x000d__x000d__x000d__x000d__x000d__x000d__x000d_ _x000d__x000d__x000d__x000d__x000d__x000d__x000d__x000d_ _x000d__x000d__x000d__x000d__x000d__x000d__x000d__x000d_ _x000d__x000d__x000d__x000d__x000d__x000d__x000d__x000d_ _x000d__x000d__x000d__x000d__x000d__x000d__x000d__x000d_ _x000d__x000d__x000d__x000d__x000d__x000d__x000d__x000d_ _x000d__x000d__x000d__x000d__x000d__x000d__x000d__x000d_ _x000d__x000d__x000d__x000d__x000d__x000d__x000d__x000d_ _x000d__x000d__x000d__x000d__x000d__x000d__x000d__x000d_ _x000d__x000d__x000d__x000d__x000d__x000d__x000d__x000d_ _x000d__x000d__x000d__x000d__x000d__x000d__x000d__x000d_ _x000d__x000d__x000d__x000d__x000d__x000d__x000d__x000d_ _x000d__x000d__x000d__x000d__x000d__x000d__x000d__x000d_ _x000d__x000d__x000d__x000d__x000d__x000d__x000d__x000d_',\n",
              " 'saxagliptina 2 , 5 mg / metformina 1000 mg , caja x 56 comprimidos recubiertos ( equivalente a kombiglyze xr )',\n",
              " 'saxagliptina 2 , 5 mg / metformina 1000 mg x 28 similar a kombiglyze xr',\n",
              " 'saxagliptina 2 , 5mg / metformina 1000 mg x 56 comprimidos recubiertos de liberación extendida_x000d__x000d__x000d__x000d__x000d__x000d__x000d__x000d_',\n",
              " 'saxagliptina 2 . 5mg / metformina 1000mg comprimidos recubiertos de liberación extendida similar kombiglyze xr',\n",
              " 'saxagliptina 2 . 5mg / metformina 1000mg comprimidos recubiertos de liberación extendida_x000d__x000d__x000d__x000d__x000d__x000d__x000d__x000d_',\n",
              " 'saxagliptina 5 mg + metformina 1000 mg x 28 comprimidos de liberación prolongada , similar a kombiglyze xr 5 / 1000 mg x 28 comp . de liberación prolongada',\n",
              " 'saxagliptina 5 mg + metformina clorhidrato 1000 mg x 28 comprimidos de liberación prolongada , similar a kombiglyze x 28 comprimidos recubiertos de liberación extendida',\n",
              " 'saxagliptina 5 mg / metformina 1000 mg , caja con blisters x 100 comprimidos recubiertos de liberacion prolongada',\n",
              " 'saxagliptina 5 mg cm rec ( 100004983 )',\n",
              " 'saxagliptina 5mg / metformina 1000mg comprimidos recubrimientosde liberación extendida similar kombiglyze xr',\n",
              " 'saxagliptina 5mg comprimidos recubiertos similar onglyza',\n",
              " 'se requiere saxagliptina 2 , 5mg / metformina clorhidrato 1000 mg . envase comercial de 56 comprimidos , fecha de vencimiento igual o superior a 12 meses , debe ingresar la informacion indicando dia mes y año .',\n",
              " 'se requiere saxagliptina 5 mg / metformina clorhidrato 1000 mg . envase comercial de 28 comprimidos , fecha de vencimiento igual o superior a 12 meses , debe ingresar la informacion indicando dia mes y año_x000d__x000d__x000d__x000d__x000d__x000d__x000d_',\n",
              " 'suministro de saxagliptina 5 mg equivalente a onglyza 5 mg , caja 28 comprimidos recubiertos'}"
            ]
          },
          "metadata": {},
          "execution_count": 565
        }
      ]
    },
    {
      "cell_type": "code",
      "source": [
        "dictionary_medicine_name[259]"
      ],
      "metadata": {
        "colab": {
          "base_uri": "https://localhost:8080/",
          "height": 35
        },
        "id": "-h5CqC0ab_9v",
        "outputId": "9a8e8857-1a92-433b-ddc3-12854294f523"
      },
      "id": "-h5CqC0ab_9v",
      "execution_count": null,
      "outputs": [
        {
          "output_type": "execute_result",
          "data": {
            "text/plain": [
              "'saxagliptina'"
            ],
            "application/vnd.google.colaboratory.intrinsic+json": {
              "type": "string"
            }
          },
          "metadata": {},
          "execution_count": 566
        }
      ]
    },
    {
      "cell_type": "code",
      "source": [
        "total_list_260 = [' '.join(row) for row in total_list[230]]\n",
        "set(total_list_260)\n",
        "#dictionary_medicine_name[260]"
      ],
      "metadata": {
        "colab": {
          "base_uri": "https://localhost:8080/"
        },
        "id": "UrKzczlfb_5A",
        "outputId": "f9b4ff3c-f9da-4c66-da88-7d49dd6b4452"
      },
      "id": "UrKzczlfb_5A",
      "execution_count": null,
      "outputs": [
        {
          "output_type": "execute_result",
          "data": {
            "text/plain": [
              "{'64 . 25 mg de sitaglipina como fosfato monohidratado y metformina clorhidrato , equivalente a 50 mg de sitaglipina como base libre y 1000 mg de metformina clorhidrato ( janumet 50 mg / 1000 mg ).',\n",
              " 'sitaglipina 50 mg + metformina 1000 mg x 56 comprimidos , similar a janumet 50 / 1000 mg x 56 comprimidos',\n",
              " 'sitaglipina 50 mg + metformina 850 mg x 56 comprimidos , similar a janumet 50 / 850 mg x 56 comprimidos',\n",
              " 'sitaglipina 50 mg + metformina clorhidrato 1000 mg x 56 comp_x000d__x000d__x000d__x000d__x000d__x000d__x000d__x000d_ ( janumet 50 / 1000 )',\n",
              " 'sitaglipina 50 mg + metformina clorhidrato 850 mg x 56 comp_x000d__x000d__x000d__x000d__x000d__x000d__x000d__x000d_ ( janumet 50 / 850 )',\n",
              " 'sitaglipina 50 mg . + metformina clorhidrato 1000 mg x 56 comprimidos ( janumet 50 / 1000 )',\n",
              " 'sitaglipina 50 mg y metformina clorhidrato 1000 mg . caja x 56 comp . similar janumet 50 mg / 1000 mg',\n",
              " 'sitaglipina como fosfato monohidratado 50 mg + metformina clorhidrato 1000 mg x 56 comprimidos , similar a janumet xr 50 / 1000 x 56 comprimidos',\n",
              " 'sitaglipina como fosfato monohidratado 50 mg + metformina clorhidrato 850 mg x 56 comprimidos , similar a janumet 50 / 850 mg x 56 comprimidos',\n",
              " 'suministro de sitaglipina 50 mg / metformina clorhidrato 1000 mg equivalente a janumet 50 / 1000 , caja 28 o 56 comprimidos recubiertos',\n",
              " 'suministro de sitaglipina 50 mg / metformina clorhidrato 500 mg equivalente a janumet 50 / 500 , caja 28 o 56 comprimidos recubiertos',\n",
              " 'suministro de sitaglipina 50 mg / metformina clorhidrato 850 mg equivalente a janumet 50 / 850 , caja 28 o 56 comprimidos recubiertos'}"
            ]
          },
          "metadata": {},
          "execution_count": 568
        }
      ]
    },
    {
      "cell_type": "code",
      "source": [
        "dictionary_medicine_name[260]"
      ],
      "metadata": {
        "colab": {
          "base_uri": "https://localhost:8080/",
          "height": 35
        },
        "id": "C-3pmiuyb_0d",
        "outputId": "28411347-7bb3-4ab4-bb70-c0ba487720ec"
      },
      "id": "C-3pmiuyb_0d",
      "execution_count": null,
      "outputs": [
        {
          "output_type": "execute_result",
          "data": {
            "text/plain": [
              "'sitaglipina'"
            ],
            "application/vnd.google.colaboratory.intrinsic+json": {
              "type": "string"
            }
          },
          "metadata": {},
          "execution_count": 567
        }
      ]
    },
    {
      "cell_type": "code",
      "source": [
        "total_list_261 = [' '.join(row) for row in total_list[231]]\n",
        "set(total_list_261)\n",
        "#dictionary_medicine_name[261]"
      ],
      "metadata": {
        "colab": {
          "base_uri": "https://localhost:8080/"
        },
        "id": "FFo0tz6vb_wB",
        "outputId": "d6738c48-a1a7-4ac8-dda8-37c960a61ce4"
      },
      "id": "FFo0tz6vb_wB",
      "execution_count": null,
      "outputs": [
        {
          "output_type": "execute_result",
          "data": {
            "text/plain": [
              "{'\" metformina 1000 mg + sitagliptina 50 mg . caja x 56 comp . similar a janumet . . .. . . . . . . . . . . . ..( se adjuntan bases administrativas y técnicas \"\" leerlas p / ofertar )\"',\n",
              " '1093057 - 6 cada comprimido recubierto contiene 50mg de sitagliptina y 500mg de metformina clorhidrato . envase conteniendo 56 comp recubiertos . o equivalente a janumet 50 / 500 x 56 comp',\n",
              " '1093058 - 4 cada comp . recub . contiene 50 mg de sitagliptina y 850 mg de metformina envase conteniendo 56 comprimidos o equivalente a janumet 50 / 850 x 56 comp .',\n",
              " '1093058 - 4 cada comp recub contiene 50mg de sitagliptina y 850mg de metformina envase conteniendo 56 comp . o equivalente a janumet 50 / 850 x 56 comp .',\n",
              " '1093059 - 2 cada comp contiene los principios activos sitagliptina ( 50mg ) y metformina ( 1000mg ) para administracion por via oral en la forma farmaceutica de comp con recubrimiento . o equivalente a janumet 50 / 1000 x 56 comp',\n",
              " '1093059 - 2 cada comprimido contiene los principios activos sitagliptina 50mg y metformina 1000mg para administracion por via oral en la forma farmaceutica de comprimidos con _x000d__x000d__x000d__x000d__x000d__x000d__x000d__x000d_ recubrimiento o equivalente a janumet 50 / 1000 x 56 comp .',\n",
              " '50 mg sitagliptina / 1000 mg metformina clorhidrato de liberación prolongada 30 comprimidos ( referencia janumet )',\n",
              " '50 mg sitagliptina / 500 mg metformina clorhidrato de liberación prolongada 30 comprimidos ( referencia janumet )',\n",
              " '50 mg sitagliptina / 850 mg metformina clorhidrato de liberación prolongada 30 comprimidos ( referencia janumet )',\n",
              " 'caja de 28 comprimidos que contienen 128 . mg de sitagliptina monohidrato de fosfato ( equivalente a 100 mg de sitagliptina como base libre ) y 1000 mg de metformina clorhidrato de liberación prolongada ( 100 mg / 1000 mg ). similar a janumet xr 100 / 1000',\n",
              " 'caja de 56 comp . contiene : fosfato de sitagliptina monohidratado 50mg y metformina clorhidrato 850mg . similar a janumet 50 / 850',\n",
              " 'caja de 56 comprimidos que contienen 64 . 25 mg de sitagliptina monohidrato ( equivalente a 50 mg de sitagliptina como base libre ) y , 1000 mg de metformina clorhidrato de liberación prolongada ( 50 mg / 1000 mg ). similar a janumet xr 50 / 1000 x 56',\n",
              " 'caja de sitagliptina 50 mg / _x000d__x000d__x000d__x000d__x000d__x000d__x000d_ metformina 1000 mg x 28_x000d__x000d__x000d__x000d__x000d__x000d__x000d_ comprimidos_x000d__x000d__x000d__x000d__x000d__x000d__x000d_ nota : se sugiere fecha de_x000d__x000d__x000d__x000d__x000d__x000d__x000d_ vencimiento superior a 1 año o en_x000d__x000d__x000d__x000d__x000d__x000d__x000d_ caso contrario contar con_x000d__x000d__x000d__x000d__x000d__x000d__x000d_ politicas de canje',\n",
              " 'caja de sitagliptina 50 mg / _x000d__x000d__x000d__x000d__x000d__x000d__x000d_ metformina 850 mg x 28_x000d__x000d__x000d__x000d__x000d__x000d__x000d_ comprimidos_x000d__x000d__x000d__x000d__x000d__x000d__x000d_ nota : se sugiere fecha de_x000d__x000d__x000d__x000d__x000d__x000d__x000d_ vencimiento superior a 1 año o en_x000d__x000d__x000d__x000d__x000d__x000d__x000d_ caso contrario contar con_x000d__x000d__x000d__x000d__x000d__x000d__x000d_ politicas de canje_x000d__x000d__x000d__x000d__x000d__x000d__x000d_',\n",
              " 'caja sitagliptina 50 mg / metformina 1000 mg x 28 comprimidos _x000d__x000d__x000d__x000d__x000d__x000d__x000d_ nota : se sugiere fecha de vencimiento superior a 1 año o en caso contrario contar con politicas de canje',\n",
              " 'caja sitagliptina 50 mg / metformina 850 mg x 28 comprimidos _x000d__x000d__x000d__x000d__x000d__x000d__x000d_ nota : se sugiere fecha de vencimiento superior a 1 año o en caso contrario contar con politicas de canje',\n",
              " 'cajas de sitagliptina + metformina 50 / 1000 mg x 56 comp .',\n",
              " 'cajas de sitagliptina + metformina 50 / 850 mg x 56 comp .',\n",
              " 'cajas de sitagliptina 50 mg + metformina 500 mg x 28 comp .',\n",
              " 'cajas de sitagliptina 50mg + metformina 1000mg x 56 comp .',\n",
              " 'cajas de sitagliptina 50mg + metformina 850mg x 56 comp .',\n",
              " 'cajas de sitagliptina 50mg / metformina 1000mg ; presentación caja de 28 a 56 comprimido',\n",
              " 'cajas sitagliptina 50 mg / metformina 1000 mg , similar a janumet duo 50 / 1000 mg x 56 comprimidos',\n",
              " 'envase de 56 comprimidos que contiene : sitagliptina 50 mg ; metformina clorhidrato 850 mg . similar o igual a janumet 50 / 850 mg .',\n",
              " 'janumet 50 / 850 sitagliptina / metformina , caja de 56 comp',\n",
              " 'janumet xr 100 / 1000 sitagliptina / metformina',\n",
              " 'lo que se requiere es metformina 1000 / sitagliptina 50 mg x 56 comp',\n",
              " 'lo que se requiere es sitagliptina 50 mg metformina 1000 x 56',\n",
              " 'lo que se requiere es sitagliptina 50 mg metformina 850 x 56 c',\n",
              " 'metformina / sitagliptina , de 56 comp . ( 50 mg ./ 850 mg .)',\n",
              " 'metformina / sitagliptina 100 / 1000 mg por 28 comprimidos . janumet o similar_x000d__x000d__x000d__x000d__x000d__x000d__x000d__x000d_',\n",
              " 'metformina / sitagliptina 1000 / 50 caja por 56 comprimidos recubiertos . janumet o similar .',\n",
              " 'metformina / sitagliptina 50 / 1000 mg . comprimido o capsula',\n",
              " 'metformina / sitagliptina 50 / 1000 mg por 56 comprimidos . janumet o similar .',\n",
              " 'metformina / sitagliptina 50 / 1000 mg por 56 comprimidos . janumet o similar_x000d__x000d__x000d__x000d__x000d__x000d__x000d__x000d_',\n",
              " 'metformina / sitagliptina 50 / 1000 mg por 56 comprimidos . janumet o similar_x000d__x000d__x000d__x000d__x000d__x000d__x000d__x000d_ _x000d__x000d__x000d__x000d__x000d__x000d__x000d__x000d_ _x000d__x000d__x000d__x000d__x000d__x000d__x000d__x000d_',\n",
              " 'metformina / sitagliptina 50 / 500 mg por 56 comprimidos . janumet o similar . _x000d__x000d__x000d__x000d__x000d__x000d__x000d__x000d_',\n",
              " 'metformina / sitagliptina 50 / 500 mg por 56 comprimidos . janumet o similar_x000d__x000d__x000d__x000d__x000d__x000d__x000d__x000d_',\n",
              " 'metformina / sitagliptina 50 / 500mg por 56 comprimidos . janumet o similar .',\n",
              " 'metformina / sitagliptina 50 / 850 mg . comprimido o capsula',\n",
              " 'metformina / sitagliptina 50 / 850 mg por 56 comprimidos . janumet o similar .',\n",
              " 'metformina / sitagliptina 50 / 850 mg por 56 comprimidos . janumet o similar_x000d__x000d__x000d__x000d__x000d__x000d__x000d__x000d_',\n",
              " 'metformina 100 / sitagliptina 50mg x56 ** janumet **',\n",
              " 'metformina 1000 / sitagliptina 50mg x28 ** janumet **',\n",
              " 'metformina 1000 mg + sitagliptina 50 mg , envase con 56 comprimidos . fecha de vencimiento no menor a 12 meses .',\n",
              " 'metformina 1000 mg + sitagliptina 50 mg comprimido_x000d__x000d__x000d__x000d__x000d__x000d__x000d__x000d_',\n",
              " 'metformina 1000 mg + sitagliptina 50 mg comprimido_x000d__x000d__x000d__x000d__x000d__x000d__x000d__x000d_ _x000d__x000d__x000d__x000d__x000d__x000d__x000d__x000d_ _x000d__x000d__x000d__x000d__x000d__x000d__x000d__x000d_',\n",
              " 'metformina 1000 mg + sitagliptina 50 mg comprimido_x000d__x000d__x000d__x000d__x000d__x000d__x000d__x000d_ _x000d__x000d__x000d__x000d__x000d__x000d__x000d__x000d_ _x000d__x000d__x000d__x000d__x000d__x000d__x000d__x000d_ _x000d__x000d__x000d__x000d__x000d__x000d__x000d__x000d_ _x000d__x000d__x000d__x000d__x000d__x000d__x000d__x000d_ _x000d__x000d__x000d__x000d__x000d__x000d__x000d__x000d_ _x000d__x000d__x000d__x000d__x000d__x000d__x000d__x000d_ _x000d__x000d__x000d__x000d__x000d__x000d__x000d__x000d_ _x000d__x000d__x000d__x000d__x000d__x000d__x000d__x000d_',\n",
              " 'metformina 1000 mg + sitagliptina 50 mg x 56 comprimidos liberacion prolongada ...( indicar fecha de vencimiento y registro isp )..',\n",
              " 'metformina 1000 mg ; sitagliptina 50 mg . comprimidos recubiertos . envase sellado , resistente e inadulterado . similar a janumet',\n",
              " 'metformina 1000 mg ; sitagliptina 50 mg . comprmidos recubiertos . envase sellado , resistente e inadulterado . similar a janumet ®.',\n",
              " 'metformina 1000mg + sitagliptina 50mg comprimidos ( similar generico o bioequivalente ) caja x56',\n",
              " 'metformina 1000mg / sitagliptina 50mg x56',\n",
              " 'metformina 1000mg asociado a sitagliptina 50mg , según lo exigido en bases administrativas , técnicas y anexos adjuntos .',\n",
              " 'metformina 500 / sitagliptina 50mg x28 ** janumet **',\n",
              " 'metformina 500 mg + sitagliptina 50 mg , envase con 56 comprimidos . fecha de vencimiento no menor a 8 meses .',\n",
              " 'metformina 500 mg + sitagliptina 50 mg .. caja x 28 comprimidos .. similar a janumet .....( indicar fecha de vencimiento y registro isp )..',\n",
              " 'metformina 850 / sitagliptina 50mg x28 ** janumet **',\n",
              " 'metformina 850 / sitagliptina 50mg x56 ** janumet **',\n",
              " 'metformina 850 mg + sitagliptina 50 mg , envase con 56 comprimidos . fecha de vencimiento no menor a 12 meses .',\n",
              " 'metformina 850 mg + sitagliptina 50 mg .. caja x 28 comprimidos .. similar a janumet .....( indicar fecha de vencimiento y registro isp )..',\n",
              " 'metformina 850 mg / sitagliptina 50 mg',\n",
              " 'metformina 850mg + sitagliptina 50mg comprimidos ( similar generico o bioequivalente ) caja x56',\n",
              " 'metformina clorhidrato 500 mg + sitagliptina 50 mg . envase comercial en comprimidos de liberación convencional . fecha de vencimiento no menor a 12 meses desde la entrega .',\n",
              " 'sitagliptina',\n",
              " 'sitagliptina ( en capa del comp . lib . inmediata ) 50 mg + 1000 mg de metformina ( en núcleo del comp de lib . prol .). envase por 56 comp . rec .',\n",
              " 'sitagliptina + metformina 50 / 1000 , caja x 56 comp',\n",
              " 'sitagliptina + metformina 50 / 1000 mg comp .',\n",
              " 'sitagliptina + metformina 50 / 1000 mg x 56 comp',\n",
              " 'sitagliptina + metformina 50 / 80 , caja x 56 comp .',\n",
              " 'sitagliptina + metformina 50 / 850 mg comp .',\n",
              " 'sitagliptina + metformina 50 / 850 mg x 56 comp .',\n",
              " 'sitagliptina / metfomina 100mg / 1000 mg ( similar janumet 100 / 1000 xr ), caja de 28 comprimidos',\n",
              " 'sitagliptina / metfomina 50mg / 1000 mg ( similar janumet 50 / 1000 xr ), caja de 28 comprimidos',\n",
              " 'sitagliptina / metformina 100 / 1000 mg . xr , caja 28 comprimidos de liberacion prolongada',\n",
              " 'sitagliptina / metformina 50 / 100 , caja 56 comprimidos',\n",
              " 'sitagliptina / metformina 50 / 1000 mg',\n",
              " 'sitagliptina / metformina 50 / 1000 mg , caja de 56 comprimidos .',\n",
              " 'sitagliptina / metformina 50 / 1000 mg , de liberación prolongada , producto similar a janumet 50 / 1000 mg xr',\n",
              " 'sitagliptina / metformina 50 / 1000 mg ., caja 30 comprimidos',\n",
              " 'sitagliptina / metformina 50 / 1000 mg ., caja 56 comprimidos',\n",
              " 'sitagliptina / metformina 50 / 1000 mg comprimidos',\n",
              " 'sitagliptina / metformina 50 / 1000 mg x 28 comprimidos',\n",
              " 'sitagliptina / metformina 50 / 1000 mg x 28 comprimidos_x000d__x000d__x000d__x000d__x000d__x000d__x000d_',\n",
              " 'sitagliptina / metformina 50 / 1000 mg x 28 comprimidos_x000d__x000d__x000d__x000d__x000d__x000d__x000d__x000d_',\n",
              " 'sitagliptina / metformina 50 / 1000 mg x 56 comp rec similar a janumet',\n",
              " 'sitagliptina / metformina 50 / 1000 mg x 56 comp recubiertos , caja 56 comprimidos',\n",
              " 'sitagliptina / metformina 50 / 1000 mg x 56 comp recubiertos , caja 56 comprimidos recubiertos',\n",
              " 'sitagliptina / metformina 50 / 1000 mg x 56 comp recubiertos_x000d__x000d__x000d__x000d__x000d__x000d__x000d__x000d_',\n",
              " 'sitagliptina / metformina 50 / 1000 x 56 comp',\n",
              " 'sitagliptina / metformina 50 / 1000 x 56 comprimidos lp',\n",
              " 'sitagliptina / metformina 50 / 1000 x 56 comprimidos lp_x000d__x000d__x000d__x000d__x000d__x000d__x000d__x000d_',\n",
              " 'sitagliptina / metformina 50 / 1000mg . caja de 60 comprimidos .',\n",
              " 'sitagliptina / metformina 50 / 1000mg x 56 comp . ( similar a janumet )',\n",
              " 'sitagliptina / metformina 50 / 1000mg x 56 comprimidos .',\n",
              " 'sitagliptina / metformina 50 / 500 mg . caja de 56 comprimidos .',\n",
              " 'sitagliptina / metformina 50 / 500 mg ., caja 56 comprimidos',\n",
              " 'sitagliptina / metformina 50 / 500 mg x 28 comprimidos_x000d__x000d__x000d__x000d__x000d__x000d__x000d__x000d_',\n",
              " 'sitagliptina / metformina 50 / 500 x 28 comprimidos',\n",
              " 'sitagliptina / metformina 50 / 500 x 28 comprimidos_x000d__x000d__x000d__x000d__x000d__x000d__x000d_ _x000d__x000d__x000d__x000d__x000d__x000d__x000d_',\n",
              " 'sitagliptina / metformina 50 / 500 x 28 comprimidos_x000d__x000d__x000d__x000d__x000d__x000d__x000d__x000d_',\n",
              " 'sitagliptina / metformina 50 / 500mg . caja de 56 comprimidos .',\n",
              " 'sitagliptina / metformina 50 / 850 mg , caja de 56 comprimidos .',\n",
              " 'sitagliptina / metformina 50 / 850 mg ., caja 56 comprimidos',\n",
              " 'sitagliptina / metformina 50 / 850 mg comprimidos',\n",
              " 'sitagliptina / metformina 50 / 850 mg x 28 comprimidos',\n",
              " 'sitagliptina / metformina 50 / 850 mg x 28 comprimidos_x000d__x000d__x000d__x000d__x000d__x000d__x000d__x000d_',\n",
              " 'sitagliptina / metformina 50 / 850 mg x 56 comp . ( similar a janumet )',\n",
              " 'sitagliptina / metformina 50 / 850 mg x 56 comp recubiertos , caja 56 comprimidos',\n",
              " 'sitagliptina / metformina 50 / 850 mg x 56 comp recubiertos , caja 56 comprimidos recubiertos',\n",
              " 'sitagliptina / metformina 50 / 850 mg x 56 comp recubiertos_x000d__x000d__x000d__x000d__x000d__x000d__x000d__x000d_',\n",
              " 'sitagliptina / metformina 50 / 850mg . caja de 56 comprimidos .',\n",
              " 'sitagliptina / metformina 50 / 850mg x 56 comp . ( similar a janumet )',\n",
              " 'sitagliptina / metformina 50 ; 500 mg ., caja 28 o 56 comprimidos',\n",
              " 'sitagliptina / metformina 50 ; 850 mg ., caja 28 o 56 comprimidos',\n",
              " 'sitagliptina / metformina 50 mg / 1000 mg',\n",
              " 'sitagliptina / metformina 50mg / 1000mg',\n",
              " 'sitagliptina / metformina 50mg / 850mg',\n",
              " 'sitagliptina / metformina liberacion prolongada 100 / 1000 . caja de 28 comprimidos de liberacion prolongada .',\n",
              " 'sitagliptina / metformina liberacion prolongada 100 / 1000 mg ., caja 28 comprimidos',\n",
              " 'sitagliptina / metformina liberacion prolongada 50 / 1000 . caja de 28 comprimidos de liberacion prolongada',\n",
              " 'sitagliptina / metformina liberación prolongada 100 / 1000 mg . caja de 28 comprimidos .',\n",
              " 'sitagliptina / metformina liberación prolongada 50 / 1000 mg . caja de 56 comprimidos .',\n",
              " 'sitagliptina /* metformina 50 / 1000 mg . xr , caja 56 comprimidos de liberacion prolongada',\n",
              " 'sitagliptina 100 + metformina clorhidrato de liberación prolongada 1000 mg , similar janumet xr 100 / 1000 mg',\n",
              " 'sitagliptina 100 / metformina 1000 x 28 comprimidos liberacion prolongada .',\n",
              " 'sitagliptina 100 mg ( en capa del comp . lib . inmediata ) + metformina clorh . de l . p . 1000 mg x 28 comprimidos recubiertos de color azul , biconvexos y ovalados .',\n",
              " 'sitagliptina 100 mg / metformina 1000 mg x caja con 28 comprimidos de liberacion prolongada ( eq a janumet xr 100 / 1000 )',\n",
              " 'sitagliptina 100mg / metformina 1000 mg x 28 comprimidos de liberación prolongada_x000d__x000d__x000d__x000d__x000d__x000d__x000d__x000d_',\n",
              " 'sitagliptina 50 / metformina 1000 x 56 comp . rec similar a janumet 50 / 1000',\n",
              " 'sitagliptina 50 / metformina 1000 x 56 comp . rec similar a janumet 50 / 850',\n",
              " 'sitagliptina 50 / metformina 500 mg similar a janumet',\n",
              " 'sitagliptina 50 / metformina 500 x 56 comp . rec similar a janumet 50 / 500',\n",
              " 'sitagliptina 50 / metformina 500 x 56 comp . rec similar a janumet 50 / 850',\n",
              " 'sitagliptina 50 / metformina 850 x 56 comp . rec similar a janumet 50 / 850',\n",
              " 'sitagliptina 50 mg + 1000 mg de metformina ( en núcleo del comp de lib . prol .) x 56 comp . rec . biconvexos y ovalados .',\n",
              " 'sitagliptina 50 mg + 1000 mg de metformina ( núcleo del comprimido de liberacion prolongada .) x 56 comp . rec . biconvexos y ovalados .',\n",
              " 'sitagliptina 50 mg + 1000 mg de metformina x 56 comprimidos recubiertos biconvexos y ovalados .',\n",
              " 'sitagliptina 50 mg + 850 mg de metformina ( en núcleo del comp de lib . prol .) x 28 comp . rec . biconvexos y ovalados .',\n",
              " 'sitagliptina 50 mg + 850 mg de metformina x 56 comprimidos recubiertos biconvexos y ovalados',\n",
              " 'sitagliptina 50 mg + metformina 1000 mg ( similar janumet 50 / 1000 ) caja de 28 comp',\n",
              " 'sitagliptina 50 mg + metformina 1000 mg ( similar janumet 50 / 1000 ) caja de 28 comp .',\n",
              " 'sitagliptina 50 mg + metformina 1000 mg , ( con núcleo de metformina de liberación prolongada y con una capa de liberación inmediata de la sitagliptina ). similar a janumet xr 50 / 1000 mg comprimidos recubiertos',\n",
              " 'sitagliptina 50 mg + metformina 1000 mg x 56 comprimidos , similar a janumet 50 / 1000 mg x 56 comp .',\n",
              " 'sitagliptina 50 mg + metformina 1000 mg x 56 comprimidos , similar a janumet 50 / 1000 mg x 56 comprimidos recubiertos',\n",
              " 'sitagliptina 50 mg + metformina 1000 mg x 56 comprimidos , similar a janumet 50 / 1000 mg xr comprimidos recubiertos',\n",
              " 'sitagliptina 50 mg + metformina 1000 mg x 56 comprimidos de liberación prolongada , similar a janumet xr 50 / 1000 mg x 56 comp .',\n",
              " 'sitagliptina 50 mg + metformina 850 mg x 56 comp . rec , similar a janumet 50 / 850',\n",
              " 'sitagliptina 50 mg + metformina 850 mg x 56 comprimidos , similar a janumet 50 / 1000 mg x 56 comprimidos recubiertos',\n",
              " 'sitagliptina 50 mg + metformina 850 mg x 56 comprimidos , similar a janumet 50 / 850 mg x 56 comp .',\n",
              " 'sitagliptina 50 mg + metformina 850 x 56 comprimidos , similar a janumet 50 / 850 mg x 56 comprimidos recubiertos',\n",
              " 'sitagliptina 50 mg + metformina clorhidrato 1000 mg x 56 comprimidos , similar a janumet 50 / 1000 mg x 56 comprimidos recubiertos',\n",
              " 'sitagliptina 50 mg + metformina clorhidrato 850 mg x 56 comprimidos , similar a janumet 50 / 850 mg x 56 comprimidos recubiertos',\n",
              " 'sitagliptina 50 mg ./ metformina 500 mg ., caja 56 comprimidos',\n",
              " 'sitagliptina 50 mg / metformina 100 mg_x000d__x000d__x000d__x000d__x000d__x000d__x000d__x000d_',\n",
              " 'sitagliptina 50 mg / metformina 1000 mg comprimidos recubiertos . envase comercial conteniendo 56 comprimidos recubiertos , producto deseado janumet 50 / 1000 mg',\n",
              " 'sitagliptina 50 mg / metformina 1000 mg x 28 comprimidos _x000d__x000d__x000d__x000d__x000d__x000d__x000d_ nota : se sugiere fecha de vencimiento superior a 1 año o en caso contrario contar con politicas de canje',\n",
              " 'sitagliptina 50 mg / metformina 1000 mg x 56 comp rec siilar janumet',\n",
              " 'sitagliptina 50 mg / metformina 1000mg x 56 comp rec similar a janumet xr',\n",
              " 'sitagliptina 50 mg / metformina 500 mg comprimidos recubiertos . envase comercial conteniendo 56 comprimidos recubiertos',\n",
              " 'sitagliptina 50 mg / metformina 500 mg x 28 comprimidos _x000d__x000d__x000d__x000d__x000d__x000d__x000d_ nota : se sugiere fecha de vencimiento superior a 1 año o en caso contrario contar con politicas de canje',\n",
              " 'sitagliptina 50 mg / metformina 500 mg x 56 comp rec similar janumet 50 / 500',\n",
              " 'sitagliptina 50 mg / metformina 850 mg ( similar janumet50 / 850 ) caja de 28 comprimidos .',\n",
              " 'sitagliptina 50 mg / metformina 850 mg comprimidos recubiertos . envase comercial conteniendo 56 comprimidos recubiertos',\n",
              " 'sitagliptina 50 mg / metformina 850 mg x 28 comprimidos _x000d__x000d__x000d__x000d__x000d__x000d__x000d_ nota : se sugiere fecha de vencimiento superior a 1 año o en caso contrario contar con politicas de canje',\n",
              " 'sitagliptina 50 mg / metformina 850 mg x 56 comp rec siilar janumet',\n",
              " 'sitagliptina 50 mg / metformina 850 mg x 56 comp rec similar a janumet',\n",
              " 'sitagliptina 50 mg / metformina 850 mg x 56 comp rec similar janumet',\n",
              " 'sitagliptina 50 mg / metformina 850 mg x 56 comp rec similar janumet 50 / 850',\n",
              " 'sitagliptina 50 mg / metformina 850 mg x 56 comp rec_x000d__x000d__x000d__x000d__x000d__x000d__x000d__x000d_',\n",
              " 'sitagliptina 50 mg / metformina mg 1000 x 56 comprimidos .',\n",
              " 'sitagliptina 50 mg / metformina mg 850 x 56 comprimidos .',\n",
              " 'sitagliptina 50 mg ; metformina 1000 mg . envase x 56 comprimidos de liberación prolongada . similar janumet 50 / 1000',\n",
              " 'sitagliptina 50 mg metformina 1000 mg x 56 comprimidos de liberacion prolongada janumet xr o similar _x000d__x000d__x000d__x000d__x000d__x000d__x000d__x000d_',\n",
              " 'sitagliptina 50 mg metformina clorhidrato 1000 mg , comprimidos , envasados en blister de pvc o similar y aluminio impreso , envase 56 comprimidos . tipo janumet 50 / 1000mg _x000d__x000d__x000d__x000d__x000d__x000d__x000d__x000d_',\n",
              " 'sitagliptina 50 mg metformina clorhidrato 1000 mg , comprimidos de liberacion prolongada , envasados en blister de pvc o similar y aluminio impreso , envase 56 comprimidos . tipo janumet 50 / 1000mg xr_x000d__x000d__x000d__x000d__x000d__x000d__x000d__x000d_',\n",
              " 'sitagliptina 50mg .+ metformina 850mg . comprimidos recubiertos envase contenido 56 unidades .',\n",
              " 'sitagliptina 50mg / metformina 1000 mg x 56 comprimidos de liberación prolongada_x000d__x000d__x000d__x000d__x000d__x000d__x000d__x000d_',\n",
              " 'sitagliptina 50mg / metformina 1000mg . liberación prolongada , caja de 56 comprimidos .',\n",
              " 'sitagliptina 50mg / metformina 850 mg similar a janumet',\n",
              " 'sitagliptina de 50mg mas metformina de 1 . 000mg caja 28 comprimidos',\n",
              " 'sitagliptina metformina 50 - 1000 liberacion prolongada _x000d__x000d__x000d__x000d__x000d__x000d__x000d__x000d_ _x000d__x000d__x000d__x000d__x000d__x000d__x000d__x000d_ _x000d__x000d__x000d__x000d__x000d__x000d__x000d__x000d_',\n",
              " 'sitagliptina xr 100 mg / metformina 1000 mg , caja x 28 comprimidos de liberación prolongada ( equivalente a janumet xr )',\n",
              " 'suministro de sitagliptina 50 mg / metformina clorhidrato 1000 mg equivalente a janumet xr 50 / 1000 , caja 56 comprimidos liberacion prolongada',\n",
              " '• sitagliptina / metformina clorhidrato 100 / 1000 x 28 comprimidos recubiertos de liberación prolongada',\n",
              " '• sitagliptina / metformina clorhidrato 50 / 1000 x 56 comprimidos recubiertos',\n",
              " '• sitagliptina / metformina clorhidrato 50 / 1000 x 56 comprimidos recubiertos de liberación prolongada',\n",
              " '• sitagliptina / metformina clorhidrato 50 / 500 x 56 comprimidos recubiertos',\n",
              " '• sitagliptina / metformina clorhidrato 50 / 850 x 56 comprimidos recubiertos'}"
            ]
          },
          "metadata": {},
          "execution_count": 571
        }
      ]
    },
    {
      "cell_type": "code",
      "source": [
        "dictionary_medicine_name[261]"
      ],
      "metadata": {
        "colab": {
          "base_uri": "https://localhost:8080/",
          "height": 35
        },
        "id": "gkyebHJbb_q7",
        "outputId": "699c98ad-5ea7-4e99-b6e1-1668be81e7e6"
      },
      "id": "gkyebHJbb_q7",
      "execution_count": null,
      "outputs": [
        {
          "output_type": "execute_result",
          "data": {
            "text/plain": [
              "'sitagliptina'"
            ],
            "application/vnd.google.colaboratory.intrinsic+json": {
              "type": "string"
            }
          },
          "metadata": {},
          "execution_count": 570
        }
      ]
    },
    {
      "cell_type": "code",
      "source": [
        "total_list_262 = [' '.join(row) for row in total_list[232]]\n",
        "set(total_list_262)\n",
        "#dictionary_medicine_name[262]"
      ],
      "metadata": {
        "colab": {
          "base_uri": "https://localhost:8080/"
        },
        "id": "VfOj5fWIb_lL",
        "outputId": "d914bd64-8223-42e1-97b9-34db4cdd20bc"
      },
      "id": "VfOj5fWIb_lL",
      "execution_count": null,
      "outputs": [
        {
          "output_type": "execute_result",
          "data": {
            "text/plain": [
              "{'insulina glargina lápiz 100ui / ml x 3 ml excipientes : metacresol , cloruro de zinc , glicerol ( 85 %), hidróxido de sodio , acido clorhidriico concentrado , agua para inyectables c . s . similar a lantus más agujas compatible de 32g 4mm ( 15 agujas por lapiz ) entreg',\n",
              " 'insulina glulisina 100 ui / ml lápiz x 3 ml excipientes : m - cresol , trometamol , cloruro de sodio , polisorbato 20 , acido clorhídrico y / o hidróxido de sodio , agua para inyectables más aguja compatible de 32g 4mm ( 15 agujas por lapiz )',\n",
              " 'insulina humana biosintética de origen adn recombinante , producida a partir de saccharomyces cerevisiae con excipientes cloruro de zinc , glicerol , metacresol , hidróxido de sodio , ácido clorhídrico y agua para inyectables . ( ver base )'}"
            ]
          },
          "metadata": {},
          "execution_count": 573
        }
      ]
    },
    {
      "cell_type": "code",
      "source": [
        "dictionary_medicine_name[262]"
      ],
      "metadata": {
        "colab": {
          "base_uri": "https://localhost:8080/",
          "height": 35
        },
        "id": "gH38QLJWb_gC",
        "outputId": "cee32a92-754f-4b41-afdb-fc8b89b792d9"
      },
      "id": "gH38QLJWb_gC",
      "execution_count": null,
      "outputs": [
        {
          "output_type": "execute_result",
          "data": {
            "text/plain": [
              "'sodio'"
            ],
            "application/vnd.google.colaboratory.intrinsic+json": {
              "type": "string"
            }
          },
          "metadata": {},
          "execution_count": 572
        }
      ]
    },
    {
      "cell_type": "code",
      "source": [
        "total_list_263 = [' '.join(row) for row in total_list[233]]\n",
        "set(total_list_263)\n",
        "#dictionary_medicine_name[263]"
      ],
      "metadata": {
        "colab": {
          "base_uri": "https://localhost:8080/"
        },
        "id": "T3RR6a2ddAts",
        "outputId": "997509ca-e6fc-465f-bd44-0ea070ead370"
      },
      "id": "T3RR6a2ddAts",
      "execution_count": null,
      "outputs": [
        {
          "output_type": "execute_result",
          "data": {
            "text/plain": [
              "{'sofosbuvir / velpatasvir 400 / 100 mg cm rec'}"
            ]
          },
          "metadata": {},
          "execution_count": 575
        }
      ]
    },
    {
      "cell_type": "code",
      "source": [
        "dictionary_medicine_name[263]"
      ],
      "metadata": {
        "colab": {
          "base_uri": "https://localhost:8080/",
          "height": 35
        },
        "id": "jRT_8NA3dApp",
        "outputId": "83bd405d-de85-4e03-ff06-3305536209d6"
      },
      "id": "jRT_8NA3dApp",
      "execution_count": null,
      "outputs": [
        {
          "output_type": "execute_result",
          "data": {
            "text/plain": [
              "'sofosbuvir'"
            ],
            "application/vnd.google.colaboratory.intrinsic+json": {
              "type": "string"
            }
          },
          "metadata": {},
          "execution_count": 574
        }
      ]
    },
    {
      "cell_type": "code",
      "source": [
        "total_list_264 = [' '.join(row) for row in total_list[234]]\n",
        "set(total_list_264)\n",
        "#dictionary_medicine_name[264]"
      ],
      "metadata": {
        "colab": {
          "base_uri": "https://localhost:8080/"
        },
        "id": "tEuP3CZ3dAjo",
        "outputId": "967106f8-fcbb-4a64-e13c-df3a23e41517"
      },
      "id": "tEuP3CZ3dAjo",
      "execution_count": null,
      "outputs": [
        {
          "output_type": "execute_result",
          "data": {
            "text/plain": [
              "{'1400069 analogo de insulina lenta glargina adn recombinante 100 u / ml lapiz solostar x 3 ml sc , similar lantus solostar . sol . iny . lapiz_x000d__x000d__x000d__x000d__x000d__x000d__x000d__x000d_',\n",
              " '40400170113 insulina ultrarapida glulisina solostar 100 ui / ml 3 ml ( jeringa prellenada )',\n",
              " 'insulina glargina 100 u / 1 mi . estuche con 1 lápiz aplicador desechable , prellenado con 3 ml . similar lantus solostar .',\n",
              " 'insulina glargina 100 u / ml estuche con 1 lápiz prellenado con 3 ml similar lantus solostar',\n",
              " 'insulina glargina 100 u / ml lapiz similar a lantuz solostar',\n",
              " 'insulina glargina 100 ui / ml 1 cartucho 3 ml similar a lantus solostar',\n",
              " 'insulina glargina 100 ui / ml en lapices aplicadores prellenados , similar a lantus solostar',\n",
              " 'insulina glargina 100 ui / ml x 3 ml solucion inyectable similar solostar',\n",
              " 'insulina glargina 100 ui / ml x 3 ml solucion inyectable similar solostar ( penfil )',\n",
              " 'insulina glargina 100 ui / ml x 3 ml solucion inyectable solostar ( penfil )',\n",
              " 'insulina glargina 100u / ml x 3 ml lapiz similar a lantus solostar',\n",
              " 'insulina glargina 100u / ml x lapiz 3 ml similar a lantus solostar',\n",
              " 'insulina glargina 100ui / ml . solución inyectable x 1 cartucho 3ml . similar a lantus solostar .....( indicar fecha de vencimiento y registro isp ).. _x000d__x000d__x000d__x000d__x000d__x000d__x000d__x000d_',\n",
              " 'insulina glargina 100ui / ml x 3ml similar a lantus solostar',\n",
              " 'insulina glargina 3 . 64 mg , equivalentes a 100 u . i . de insulina humana en 3 ml presentación en dispositivo solostar prellenado desechable .; equivalente a lantus solostar 100 u / ml lápiz 3 ml - _x000d__x000d__x000d__x000d__x000d__x000d__x000d__x000d_ ver base',\n",
              " 'insulina glargina solostar x 3 ml similar a lantus',\n",
              " 'insulina glulisina solostar x 3 ml similar apidra_x000d__x000d__x000d__x000d__x000d__x000d__x000d__x000d_',\n",
              " 'insulina lantus solostar 100ui / ml',\n",
              " 'lantus 100 u / ml ( solostar )',\n",
              " 'lantus solostar lapiz ( 100 ui / ml * catridge de 3 ml )',\n",
              " 'suministro de insulina glargina : 3 . 6378 mg ( equivalentes a 100 u de insulina recombinante humana / ml ) equivalente a lantus solostar , caja dispositivo prellenado x 3 ml',\n",
              " 'toujeo solostar 300 units / ml'}"
            ]
          },
          "metadata": {},
          "execution_count": 577
        }
      ]
    },
    {
      "cell_type": "code",
      "source": [
        "dictionary_medicine_name[264]"
      ],
      "metadata": {
        "colab": {
          "base_uri": "https://localhost:8080/",
          "height": 35
        },
        "id": "9WN7R2jNdAfb",
        "outputId": "462cae19-c9e8-4884-9a15-056899d16a96"
      },
      "id": "9WN7R2jNdAfb",
      "execution_count": null,
      "outputs": [
        {
          "output_type": "execute_result",
          "data": {
            "text/plain": [
              "'solostar'"
            ],
            "application/vnd.google.colaboratory.intrinsic+json": {
              "type": "string"
            }
          },
          "metadata": {},
          "execution_count": 576
        }
      ]
    },
    {
      "cell_type": "code",
      "source": [
        "total_list_265 = [' '.join(row) for row in total_list[235]]\n",
        "set(total_list_265)\n",
        "#dictionary_medicine_name[265]"
      ],
      "metadata": {
        "colab": {
          "base_uri": "https://localhost:8080/"
        },
        "id": "Q9uETUXndAZf",
        "outputId": "efec10be-7757-4677-e50b-a9658c1b8a00"
      },
      "id": "Q9uETUXndAZf",
      "execution_count": null,
      "outputs": [
        {
          "output_type": "execute_result",
          "data": {
            "text/plain": [
              "{'1092012 - 2 insulina soluble neutra , humana biosintetica 100 ui frasco ampolla de 10 ml o equivalente a ins . actrapid 100 ui f . amp .',\n",
              " 'insulina análoga de acción bifásica . 30 % aspártica soluble y 70 % aspártica retardada con protamina 100 ui / ml en presentación de lápiz prellenado desechable ; equivalente a novo mix 30 100 ui / ml 5 flexpen 3 ml',\n",
              " 'insulina asparta soluble 100 ui x un flexpen',\n",
              " 'insulina humana 30 % soluble / 70 % isofanica 100 ui / ml 10 ml cod . int . 40400170030_x000d__x000d__x000d__x000d__x000d__x000d__x000d__x000d_',\n",
              " 'insulina humana adn recombinante solucion inyectable vial 100 ui 1 vial de 10 ml contiene 1000 ui soluble biositentica',\n",
              " 'insulina humana soluble biosintética 100 u . i penfill similar actrapid penfill',\n",
              " 'insulina humana soluble biosintética 100ui / ml frasco 10ml similar actrapid',\n",
              " 'insulina mezcla , suspensión inyectable 100 ui / ml , 30 % de insulina soluble asparta y 70 % de insulina asparta cristalizada con protamina , lápiz descartable 3 ml . unidad lápiz'}"
            ]
          },
          "metadata": {},
          "execution_count": 579
        }
      ]
    },
    {
      "cell_type": "code",
      "source": [
        "dictionary_medicine_name[265]"
      ],
      "metadata": {
        "colab": {
          "base_uri": "https://localhost:8080/",
          "height": 35
        },
        "id": "_KJrpxw5dASW",
        "outputId": "4a25804d-26ab-4621-dc17-f7fa0b297caa"
      },
      "id": "_KJrpxw5dASW",
      "execution_count": null,
      "outputs": [
        {
          "output_type": "execute_result",
          "data": {
            "text/plain": [
              "'soluble'"
            ],
            "application/vnd.google.colaboratory.intrinsic+json": {
              "type": "string"
            }
          },
          "metadata": {},
          "execution_count": 578
        }
      ]
    },
    {
      "cell_type": "code",
      "source": [
        "total_list_266 = [' '.join(row) for row in total_list[236]]\n",
        "set(total_list_266)\n",
        "#dictionary_medicine_name[266]"
      ],
      "metadata": {
        "colab": {
          "base_uri": "https://localhost:8080/"
        },
        "id": "91PxsgJQdALV",
        "outputId": "0464030f-7995-430a-ca2d-3c2cbd2cde92"
      },
      "id": "91PxsgJQdALV",
      "execution_count": null,
      "outputs": [
        {
          "output_type": "execute_result",
          "data": {
            "text/plain": [
              "set()"
            ]
          },
          "metadata": {},
          "execution_count": 581
        }
      ]
    },
    {
      "cell_type": "code",
      "source": [
        "dictionary_medicine_name[266]"
      ],
      "metadata": {
        "colab": {
          "base_uri": "https://localhost:8080/",
          "height": 35
        },
        "id": "AGpPp54Xdq84",
        "outputId": "ae3d20ed-3d1f-4681-cdc8-33aa1357a911"
      },
      "id": "AGpPp54Xdq84",
      "execution_count": null,
      "outputs": [
        {
          "output_type": "execute_result",
          "data": {
            "text/plain": [
              "'solvente'"
            ],
            "application/vnd.google.colaboratory.intrinsic+json": {
              "type": "string"
            }
          },
          "metadata": {},
          "execution_count": 580
        }
      ]
    },
    {
      "cell_type": "code",
      "source": [
        "total_list_267 = [' '.join(row) for row in total_list[237]]\n",
        "set(total_list_267)\n",
        "#dictionary_medicine_name[267]"
      ],
      "metadata": {
        "colab": {
          "base_uri": "https://localhost:8080/"
        },
        "id": "c2psLndLeBeu",
        "outputId": "7a1414a6-f1c5-4c86-beb7-47ad2dae3846"
      },
      "id": "c2psLndLeBeu",
      "execution_count": null,
      "outputs": [
        {
          "output_type": "execute_result",
          "data": {
            "text/plain": [
              "{'tacrolimus 0 , 5 mg cp',\n",
              " 'tacrolimus 0 , 5 mg cp lib . prol . blister',\n",
              " 'tacrolimus 1 mg cp',\n",
              " 'tacrolimus 1 mg cp lib . prolong . blister',\n",
              " 'tacrolimus 3 mg cp lib . prolong . blister',\n",
              " 'tacrolimus 5 mg cp blister',\n",
              " 'tacrolimus 5 mg cp lib prolongad blister'}"
            ]
          },
          "metadata": {},
          "execution_count": 583
        }
      ]
    },
    {
      "cell_type": "code",
      "source": [
        "dictionary_medicine_name[267]"
      ],
      "metadata": {
        "colab": {
          "base_uri": "https://localhost:8080/",
          "height": 35
        },
        "id": "tZ0oaQwDeBTK",
        "outputId": "98a30d2f-5423-4a04-9039-a029d6f09141"
      },
      "id": "tZ0oaQwDeBTK",
      "execution_count": null,
      "outputs": [
        {
          "output_type": "execute_result",
          "data": {
            "text/plain": [
              "'tacrolimus'"
            ],
            "application/vnd.google.colaboratory.intrinsic+json": {
              "type": "string"
            }
          },
          "metadata": {},
          "execution_count": 582
        }
      ]
    },
    {
      "cell_type": "code",
      "source": [
        "total_list_268 = [' '.join(row) for row in total_list[238]]\n",
        "set(total_list_268)\n",
        "#dictionary_medicine_name[268]"
      ],
      "metadata": {
        "colab": {
          "base_uri": "https://localhost:8080/"
        },
        "id": "BGcKwZmXeEi0",
        "outputId": "d38263b3-7347-458b-ca4d-c933bd74176a"
      },
      "id": "BGcKwZmXeEi0",
      "execution_count": null,
      "outputs": [
        {
          "output_type": "execute_result",
          "data": {
            "text/plain": [
              "{'tamoxifeno 20 mg cm / cm rec .'}"
            ]
          },
          "metadata": {},
          "execution_count": 585
        }
      ]
    },
    {
      "cell_type": "code",
      "source": [
        "dictionary_medicine_name[268]"
      ],
      "metadata": {
        "colab": {
          "base_uri": "https://localhost:8080/",
          "height": 35
        },
        "id": "mCLbB-OgeFQO",
        "outputId": "6edf8f81-31d7-41d9-cecc-92b0550777d0"
      },
      "id": "mCLbB-OgeFQO",
      "execution_count": null,
      "outputs": [
        {
          "output_type": "execute_result",
          "data": {
            "text/plain": [
              "'tamoxifeno'"
            ],
            "application/vnd.google.colaboratory.intrinsic+json": {
              "type": "string"
            }
          },
          "metadata": {},
          "execution_count": 584
        }
      ]
    },
    {
      "cell_type": "code",
      "source": [
        "total_list_269 = [' '.join(row) for row in total_list[239]]\n",
        "set(total_list_269)\n",
        "#dictionary_medicine_name[269]"
      ],
      "metadata": {
        "colab": {
          "base_uri": "https://localhost:8080/"
        },
        "id": "EJgCvQEtdzl4",
        "outputId": "38803a15-2a23-4f21-8ffe-09944088116c"
      },
      "id": "EJgCvQEtdzl4",
      "execution_count": null,
      "outputs": [
        {
          "output_type": "execute_result",
          "data": {
            "text/plain": [
              "{'metformina 500 mg x 60 comp lib . prolongada_x000d__x000d__x000d__x000d__x000d__x000d__x000d__x000d_ ( glaupax xr , glifortx xr , glimefor xr , hipoglucin lp , tavist xr )',\n",
              " 'metformina 750 mg x 60 comp lib . prolongada_x000d__x000d__x000d__x000d__x000d__x000d__x000d__x000d_ ( glaupax xr , glifortx xr , glimefor xr , hipoglucin lp , tavist xr )',\n",
              " 'metformina clorhidrato 1000 mg x 56 comp lib . prolongada_x000d__x000d__x000d__x000d__x000d__x000d__x000d__x000d_ ( glaupax xr , glifortx xr , glimefor xr , hipoglucin lp , tavist xr ) _x000d__x000d__x000d__x000d__x000d__x000d__x000d__x000d_',\n",
              " 'metformina clorhidrato 1000 mg x 56 comprimidos lib . prolongada ( glaupax xr , glifortex xr , glimefor xr , hipoglucin lp , tavist xr )'}"
            ]
          },
          "metadata": {},
          "execution_count": 588
        }
      ]
    },
    {
      "cell_type": "code",
      "source": [
        "dictionary_medicine_name[269]"
      ],
      "metadata": {
        "colab": {
          "base_uri": "https://localhost:8080/",
          "height": 35
        },
        "id": "8QVOWTzsdzek",
        "outputId": "befa8630-fd18-4248-9282-06e79f3d4de1"
      },
      "id": "8QVOWTzsdzek",
      "execution_count": null,
      "outputs": [
        {
          "output_type": "execute_result",
          "data": {
            "text/plain": [
              "'tavist'"
            ],
            "application/vnd.google.colaboratory.intrinsic+json": {
              "type": "string"
            }
          },
          "metadata": {},
          "execution_count": 586
        }
      ]
    },
    {
      "cell_type": "code",
      "source": [
        "total_list_270 = [' '.join(row) for row in total_list[240]]\n",
        "set(total_list_270)\n",
        "#dictionary_medicine_name[270]"
      ],
      "metadata": {
        "colab": {
          "base_uri": "https://localhost:8080/"
        },
        "id": "NmF-dQ6geb9l",
        "outputId": "17d19a90-cdd1-493a-90c9-94a8bf9a00b2"
      },
      "id": "NmF-dQ6geb9l",
      "execution_count": null,
      "outputs": [
        {
          "output_type": "execute_result",
          "data": {
            "text/plain": [
              "{'tenofovir / emtricitabina 300 / 200mg cm rec',\n",
              " 'tenofovir disoproxil 300 mg cm rec'}"
            ]
          },
          "metadata": {},
          "execution_count": 590
        }
      ]
    },
    {
      "cell_type": "code",
      "source": [
        "dictionary_medicine_name[270]"
      ],
      "metadata": {
        "colab": {
          "base_uri": "https://localhost:8080/",
          "height": 35
        },
        "id": "NxHyM08beb43",
        "outputId": "8cfd89ce-67fc-4f18-d821-b49960bb6b19"
      },
      "id": "NxHyM08beb43",
      "execution_count": null,
      "outputs": [
        {
          "output_type": "execute_result",
          "data": {
            "text/plain": [
              "'tenofovir'"
            ],
            "application/vnd.google.colaboratory.intrinsic+json": {
              "type": "string"
            }
          },
          "metadata": {},
          "execution_count": 589
        }
      ]
    },
    {
      "cell_type": "code",
      "source": [
        "total_list_271 = [' '.join(row) for row in total_list[241]]\n",
        "set(total_list_271)\n",
        "#dictionary_medicine_name[271]"
      ],
      "metadata": {
        "colab": {
          "base_uri": "https://localhost:8080/"
        },
        "id": "mPZCqG8ceb0J",
        "outputId": "aee94457-4529-4d16-bc6c-ff2abc9a6563"
      },
      "id": "mPZCqG8ceb0J",
      "execution_count": null,
      "outputs": [
        {
          "output_type": "execute_result",
          "data": {
            "text/plain": [
              "{'metformina 750 mg mg comprimidos tetraranurados , envasados en blister pvc o similar impreso , envase contenido 50 comprimidos , certificado deaprobación fda y emea , certificación gmp planta productora . despacho parcializado_x000d__x000d__x000d__x000d__x000d__x000d__x000d__x000d_'}"
            ]
          },
          "metadata": {},
          "execution_count": 592
        }
      ]
    },
    {
      "cell_type": "code",
      "source": [
        "dictionary_medicine_name[271]"
      ],
      "metadata": {
        "colab": {
          "base_uri": "https://localhost:8080/",
          "height": 35
        },
        "id": "_RAChvW3ebvJ",
        "outputId": "6c1d925f-0194-45c3-8166-f4a0d2c61d2d"
      },
      "id": "_RAChvW3ebvJ",
      "execution_count": null,
      "outputs": [
        {
          "output_type": "execute_result",
          "data": {
            "text/plain": [
              "'tetraranurados'"
            ],
            "application/vnd.google.colaboratory.intrinsic+json": {
              "type": "string"
            }
          },
          "metadata": {},
          "execution_count": 591
        }
      ]
    },
    {
      "cell_type": "code",
      "source": [
        "total_list_272 = [' '.join(row) for row in total_list[242]]\n",
        "set(total_list_272)\n",
        "#dictionary_medicine_name[272]"
      ],
      "metadata": {
        "colab": {
          "base_uri": "https://localhost:8080/"
        },
        "id": "T-GiuAgTebqV",
        "outputId": "91b2d0a3-440f-4826-8919-2374f7567256"
      },
      "id": "T-GiuAgTebqV",
      "execution_count": null,
      "outputs": [
        {
          "output_type": "execute_result",
          "data": {
            "text/plain": [
              "{'tocilizumab 162 mg / 0 , 9 ml sol . iny . jrp',\n",
              " 'tocilizumab 200 mg / 10 ml sol . p / inf . fam',\n",
              " 'tocilizumab 400 mg / 20 ml sol . p / inf . fam',\n",
              " 'tocilizumab 80 mg / 4 ml sol . p / inf . fam'}"
            ]
          },
          "metadata": {},
          "execution_count": 594
        }
      ]
    },
    {
      "cell_type": "code",
      "source": [
        "dictionary_medicine_name[272]"
      ],
      "metadata": {
        "colab": {
          "base_uri": "https://localhost:8080/",
          "height": 35
        },
        "id": "2sQyMtoyebkF",
        "outputId": "a9bdf026-aac1-4101-cb05-d4d2f5c47ccd"
      },
      "id": "2sQyMtoyebkF",
      "execution_count": null,
      "outputs": [
        {
          "output_type": "execute_result",
          "data": {
            "text/plain": [
              "'tocilizumab'"
            ],
            "application/vnd.google.colaboratory.intrinsic+json": {
              "type": "string"
            }
          },
          "metadata": {},
          "execution_count": 593
        }
      ]
    },
    {
      "cell_type": "code",
      "source": [
        "total_list_273 = [' '.join(row) for row in total_list[243]]\n",
        "set(total_list_273)\n",
        "#dictionary_medicine_name[273]"
      ],
      "metadata": {
        "colab": {
          "base_uri": "https://localhost:8080/"
        },
        "id": "36TpEz5Eebdi",
        "outputId": "a5b3aed7-85d1-4017-fe39-9882d44cdba8"
      },
      "id": "36TpEz5Eebdi",
      "execution_count": null,
      "outputs": [
        {
          "output_type": "execute_result",
          "data": {
            "text/plain": [
              "{'insulina glargina ( tougeo ) 300u / ml , lapiz de 1 , 5 ml'}"
            ]
          },
          "metadata": {},
          "execution_count": 596
        }
      ]
    },
    {
      "cell_type": "code",
      "source": [
        "dictionary_medicine_name[273]"
      ],
      "metadata": {
        "colab": {
          "base_uri": "https://localhost:8080/",
          "height": 35
        },
        "id": "wjzTbMoiebYB",
        "outputId": "ed6e9dee-3e72-4de2-b90c-dd7ea6e1744b"
      },
      "id": "wjzTbMoiebYB",
      "execution_count": null,
      "outputs": [
        {
          "output_type": "execute_result",
          "data": {
            "text/plain": [
              "'tougeo'"
            ],
            "application/vnd.google.colaboratory.intrinsic+json": {
              "type": "string"
            }
          },
          "metadata": {},
          "execution_count": 595
        }
      ]
    },
    {
      "cell_type": "code",
      "source": [
        "total_list_274 = [' '.join(row) for row in total_list[244]]\n",
        "set(total_list_274)\n",
        "#dictionary_medicine_name[274]"
      ],
      "metadata": {
        "colab": {
          "base_uri": "https://localhost:8080/"
        },
        "id": "1B-7aFrVebTN",
        "outputId": "f73dc8c0-b8c9-430a-c19a-2c2694e047ee"
      },
      "id": "1B-7aFrVebTN",
      "execution_count": null,
      "outputs": [
        {
          "output_type": "execute_result",
          "data": {
            "text/plain": [
              "{'1092013 - 0 cada ml de solucion inyectable contiene 300 unidades de insulina glargina . o equivalente a toujeo sol . inyec . 300 ui / ml',\n",
              " '1092013 - 0 cada ml de solucion inyectable contiene 300 unidades de insulina glargina . o equivalete a toujeo sol . inyec . 300 ui / ml',\n",
              " '1092013 - 0 cada ml de solucion inyectable contiene 300 unidades de insulina glargina o equivalente a toujeo sol . inyec . 300 ui / ml o equivalente a toujeo sol . inyec . 300 ui / ml',\n",
              " '1092031 - 2 insulina glardina 300u / ml lapicera de 1 . 5ml o equivalente a ins . toujeo 300u / ml flexpen 1 . 5ml',\n",
              " '1092031 - 2 insulina glardina 300u / ml lapicera de 1 . 5ml o equivalente a ins . toujeo 300u / ml flexpen 1 . 5ml .',\n",
              " '1400020 analogo de insulina lenta glargina adn recombinante 300 ml lapiz x 1 , 5 ml , similar toujeo uso ocasional sol . iny . lapiz_x000d__x000d__x000d__x000d__x000d__x000d__x000d__x000d_',\n",
              " 'caja de 1 lapicera inyectable contiene : 300 unidades de insulina glargina ( equivalentes a 10 . 91 mg ). cada lapicera contiene 1 . 5 ml de solución inyectable , equivalentes a 450 unidades . similar a toujeo',\n",
              " 'caja de 1 lápiz conteniendo : cada ml 3000 unidades de insulina glargina ( equivalentes a 10 . 91 mg ). cada lapicera contiene 1 . 5 ml de solución inyectable , equivalentes a 450 unidades . similar a toujeo',\n",
              " 'insulina glargina 300 ui / ml ( toujeo ( r )) con agujas por lapiz',\n",
              " 'insulina glargina 300 ui / ml . lapiz prellenado 1 . 5ml . similar a toujeo . . . . .. .. .. . .. .. ( se adjuntan bases administrativas y técnicas leerlas p / ofertar ) _x000d__x000d__x000d__x000d__x000d__x000d__x000d__x000d_',\n",
              " 'insulina glargina 300 ui / ml lápiz 1 . 5 ml similar toujeo',\n",
              " 'insulina glargina 300u / ml , similar o equivalente a insulina toujeo , según lo requerido en bases administrativas , técnicas y anexos adjuntos .',\n",
              " 'insulina glargina 450 ui lapiz ( toujeo )',\n",
              " 'insulina glargina 450 ui lapiz ( toujeo ) _x000d__x000d__x000d__x000d__x000d__x000d__x000d__x000d_',\n",
              " 'toujeo solostar 300 units / ml'}"
            ]
          },
          "metadata": {},
          "execution_count": 598
        }
      ]
    },
    {
      "cell_type": "code",
      "source": [
        "dictionary_medicine_name[274]"
      ],
      "metadata": {
        "colab": {
          "base_uri": "https://localhost:8080/",
          "height": 35
        },
        "id": "i9qubzrZebOM",
        "outputId": "b4b82c2a-1947-49e4-9496-b137dd87ce52"
      },
      "id": "i9qubzrZebOM",
      "execution_count": null,
      "outputs": [
        {
          "output_type": "execute_result",
          "data": {
            "text/plain": [
              "'toujeo'"
            ],
            "application/vnd.google.colaboratory.intrinsic+json": {
              "type": "string"
            }
          },
          "metadata": {},
          "execution_count": 597
        }
      ]
    },
    {
      "cell_type": "code",
      "source": [
        "total_list_275 = [' '.join(row) for row in total_list[245]]\n",
        "set(total_list_275)\n",
        "#dictionary_medicine_name[275]"
      ],
      "metadata": {
        "colab": {
          "base_uri": "https://localhost:8080/"
        },
        "id": "D2dDuo1RebJH",
        "outputId": "e50cfff8-cf0f-4748-da91-fb1a12026c1b"
      },
      "id": "D2dDuo1RebJH",
      "execution_count": null,
      "outputs": [
        {
          "output_type": "execute_result",
          "data": {
            "text/plain": [
              "{'trastuzumab 440 mg liofil p / inf . iv fam',\n",
              " 'trastuzumab 600mg / 5ml sol . iny',\n",
              " 'trastuzumab liofilizado o sol . iny . fam'}"
            ]
          },
          "metadata": {},
          "execution_count": 600
        }
      ]
    },
    {
      "cell_type": "code",
      "source": [
        "dictionary_medicine_name[275]"
      ],
      "metadata": {
        "colab": {
          "base_uri": "https://localhost:8080/",
          "height": 35
        },
        "id": "9O023uOyebDi",
        "outputId": "0ca47569-c21a-48c3-806f-e6d074f170cd"
      },
      "id": "9O023uOyebDi",
      "execution_count": null,
      "outputs": [
        {
          "output_type": "execute_result",
          "data": {
            "text/plain": [
              "'trastuzumab'"
            ],
            "application/vnd.google.colaboratory.intrinsic+json": {
              "type": "string"
            }
          },
          "metadata": {},
          "execution_count": 599
        }
      ]
    },
    {
      "cell_type": "code",
      "source": [
        "total_list_276 = [' '.join(row) for row in total_list[246]]\n",
        "set(total_list_276)\n",
        "#dictionary_medicine_name[276]"
      ],
      "metadata": {
        "colab": {
          "base_uri": "https://localhost:8080/"
        },
        "id": "rCygg7feea-U",
        "outputId": "6eeaa8ed-2465-4e83-881b-71f56d99bab7"
      },
      "id": "rCygg7feea-U",
      "execution_count": null,
      "outputs": [
        {
          "output_type": "execute_result",
          "data": {
            "text/plain": [
              "{'\" linagliptina 2 . 5 mg + metformina 1000 mg . caja x 60 comp . similar a trayenta duo . . .. . . . . . . . . . . . ..( se adjuntan bases administrativas y técnicas \"\" leerlas p / ofertar )\"',\n",
              " 'cada comprimido recubierto contiene : linagliptina 2 . 5 mg y metformina clorhidrato 1000 mg caja conteniendo 60 comprimidos . trayenta duo o similar_x000d__x000d__x000d__x000d__x000d__x000d__x000d__x000d_',\n",
              " 'cada comprimido recubierto contiene : linagliptina 2 . 5 mg y metformina clorhidrato 500 mg caja conteniendo 60 comprimidos . trayenta duo o similar_x000d__x000d__x000d__x000d__x000d__x000d__x000d__x000d_ _x000d__x000d__x000d__x000d__x000d__x000d__x000d__x000d_',\n",
              " 'caja 60 comprimido recubierto contiene : linagliptina 2 . 5 mg y metformina clorhidrato 1000 mg . similar a trayenta duo 2 . 5 / 1000',\n",
              " 'caja de 60 comprimido recubierto contiene : linagliptina 2 . 5 mg y metformina clorhidrato 1000 mg . similar a trayenta duo 2 . 5 / 1000',\n",
              " 'caja de 60 comprimido recubierto contiene : linagliptina 2 . 5 mg y metformina clorhidrato 850 mg . similar a trayenta duo 2 . 5 / 850',\n",
              " 'cajas de linagliptina 2 , 5mg / metformina 1000mg ; presentación caja de 30 tabletas ; similar trayenta duo',\n",
              " 'cajas linagliptina 2 , 5 mg / metformina 1000 mg , similar a trayenta duo 2 , 5 / 1000 mg x 60 comprimidos',\n",
              " 'cajas linagliptina 2 , 5 mg / metformina 850 mg , similar a trayenta duo 2 , 5 / 850 mg x 60 comprimidos',\n",
              " 'linaglioptina / metformina 2 , 5 / 1000 mg ( similar trayenta duo 2 , 5 / 1000 mg ) caja de 60 comprimidos .',\n",
              " 'linaglioptina / metformina 2 , 5 / 850 mg ( similar trayenta duo 2 , 5 / 850 mg ) caja de 60 comprimidos .',\n",
              " 'linagliptina / metformi_x000d__x000d__x000d__x000d__x000d__x000d__x000d__x000d_ _x000d__x000d__x000d__x000d__x000d__x000d__x000d__x000d_ na 2 , 5 / 850mg trayenta duo comprimido caja x 60_x000d__x000d__x000d__x000d__x000d__x000d__x000d__x000d_ se aumentará la cantidad según la necesidad de la farmacia popular',\n",
              " 'linagliptina / metformina , similar trayenta duo 2 , 5 / 1000 mg x 60 comp .',\n",
              " 'linagliptina / metformina , similar trayenta duo 2 , 5 / 850 mg x 60 comp .',\n",
              " 'linagliptina / metformina 2 , 5 / 1000 mg x 60 capsulas similar a trayenta duo 2 , 5 / 1000 mg x 60 capsulas',\n",
              " 'linagliptina / metformina 2 , 5 / 1000 mg x 60 comp rec similar a trayenta',\n",
              " 'linagliptina / metformina 2 , 5 / 1000 mg x 60 comp rec similar a trayenta duo 2 , 5 / 1000 mg x 60',\n",
              " 'linagliptina / metformina 2 , 5 / 1000 similar a trayenta duo',\n",
              " 'linagliptina / metformina 2 , 5 / 1000 x 30 tabletas similar a trayenta duo',\n",
              " 'linagliptina / metformina 2 , 5 / 1000mg trayenta duo comprimido caja x 60_x000d__x000d__x000d__x000d__x000d__x000d__x000d__x000d_ se aumentará la cantidad según la necesidad de la farmacia popular',\n",
              " 'linagliptina / metformina 2 , 5 / 500 mg x 60 comp rec similar a trayenta duo 2 , 5 / 500 mg x 60',\n",
              " 'linagliptina / metformina 2 , 5 / 500 x 60 comp similar a trayenta duo',\n",
              " 'linagliptina / metformina 2 , 5 / 850 mg x 60 capsulas similar a trayenta duo 2 , 5 / 850 mg x 60 capsulas',\n",
              " 'linagliptina / metformina 2 , 5 / 850 mg x 60 comp rec similar a trayenta duo 2 , 5 / 850 mg x 60',\n",
              " 'linagliptina 2 , 5 mg + metformina 1000 mg ( similar trayenta duo 2 , 5 / 1000 ) caja de 60 comprimidos',\n",
              " 'linagliptina 2 , 5 mg / metformina 1000 mg x 60 com p rec similar a trayenta',\n",
              " 'linagliptina 2 , 5 mg / metformina 500 mg . envase conteniendo 60 comprimidos recubiertos . trayenta duo 2 , 5 / 500 mg o similar',\n",
              " 'linagliptina 2 , 5 mg / metformina 500 mg x 60 comp rec . similar trayenta duo',\n",
              " 'linagliptina 2 , 5 mg / metformina 850 mg x 60 com p rec similar a trayenta',\n",
              " 'linagliptina 2 , 5 mg / metformina clorhidrato 1000 mg , caja x 60 comprimidos recubiertos ( equivalente a trayenta duo )',\n",
              " 'linagliptina 2 , 5 mg ; metformina 1000 mg envase de 60 comprimidos ( eq a trayenta duo ). maximo a pagar $ 27 . 000',\n",
              " 'linagliptina 2 , 5 mg ; metformina 1000 mg envase de 60 comprimidos ( eq a trayenta duo ). maximo a pagar $ 29 . 000 .-',\n",
              " 'linagliptina 2 , 5 mg ; metformina 850 mg envase de 60 comprimidos ( eq a trayenta duo ). maximo a pagar $ 27 . 000',\n",
              " 'linagliptina 2 , 5 mg ; metformina 850 mg envase de 60 comprimidos ( eq a trayenta duo ). maximo a pagar $ 29 . 000 .-',\n",
              " 'linagliptina 2 , 5 mg y 1000 mg clorhidrato de metformina comprimidos recubiertos ; equivalente a trayenta duo 2 . 5 / 1000 mg 60 comp',\n",
              " 'linagliptina 2 . 5 + metformina 1000 mg x 60 comprimidos similar a trayenta duo 2 . 5 / 1000 mg .',\n",
              " 'linagliptina 2 . 5 + metformina 850 mg x 60 comprimidos similar a trayenta duo 2 . 5 / 850 mg .',\n",
              " 'linagliptina 2 . 5 mg + metformina 1000 mg x 60 comp_x000d__x000d__x000d__x000d__x000d__x000d__x000d__x000d_ ( trayenta duo )',\n",
              " 'linagliptina 2 . 5 mg + metformina 850 mg . caja x 60 comp . similar a trayenta duo .....( indicar fecha de vencimiento y registro isp ).. _x000d__x000d__x000d__x000d__x000d__x000d__x000d__x000d_',\n",
              " 'linagliptina 2 . 5 mg + metformina clorhidrato 1000 mg x 30 comprimidos , similar a trayenta duo 2 , 5 / 1000 mg comprimidos recubiertos',\n",
              " 'linagliptina 2 . 5 mg + metformina clorhidrato 1000 mg x 60 comp_x000d__x000d__x000d__x000d__x000d__x000d__x000d__x000d_ ( trayenta duo 2 , 5 / 1000 )',\n",
              " 'linagliptina 2 . 5 mg + metformina clorhidrato 1000 mg x 60 comprimidos , similar a trayenta duo 2 . 5 / 1000 mg x 60 comp .',\n",
              " 'linagliptina 2 . 5 mg + metformina clorhidrato 1000 mg x 60 comprimidos , similar a trayenta duo 2 . 5 / 1000 x 60 comprimidos',\n",
              " 'linagliptina 2 . 5 mg + metformina clorhidrato 1000 mg x 60 comprimidos , similar a trayenta duo comprimidos recubiertos x 60 comp .',\n",
              " 'linagliptina 2 . 5 mg + metformina clorhidrato 1000 mg x 60 comprimidos , similar a trayenta duo x 60 comprimidos recubiertos',\n",
              " 'linagliptina 2 . 5 mg + metformina clorhidrato 850 mg similar a trayenta 2 , 5 / 850mg comprimidos recubiertos',\n",
              " 'linagliptina 2 . 5 mg / metformina 1000 mg x 60 comp rec , similar trayenta duo',\n",
              " 'linagliptina 2 . 5 mg / metformina 1000 mg x 60 comp rec , similar trayenta duo_x000d__x000d__x000d__x000d__x000d__x000d__x000d__x000d_',\n",
              " 'linagliptina 2 . 5 mg / metformina 850 mg x 60 comp rec . similar trayenta duo_x000d__x000d__x000d__x000d__x000d__x000d__x000d__x000d_',\n",
              " 'linagliptina 2 . 5 mg y metformina clorhidrato 850 mg x 60 comp rec similar a trayenta duo',\n",
              " 'linagliptina 2 . 5mg / metformina 1000mg comprimidos recubiertos similar trayenta duo',\n",
              " 'linagliptina 2 . 5mg / metformina 850 mg x60 ** trayenta duo **',\n",
              " 'linagliptina 2 . 5mg / metformina 850mg comprimidos recubiertos similar trayenta duo',\n",
              " 'trayenta 2 . 5 / 500 mg comp',\n",
              " 'trayenta 2 . 5 / 850 mg',\n",
              " 'trayenta duo ( linagliptina 2 . 5 mg y clorhidrato de metformina 500 mg ) x28comp . o similar . _x000d__x000d__x000d__x000d__x000d__x000d__x000d__x000d_',\n",
              " 'trayenta duo ( o similar ) ( linagliptina 2 . 5 mg y clorhidrato de metformina 500 mg ).',\n",
              " 'trayenta duo , 30 comp',\n",
              " 'trayenta duo 2 , 5 / 1000',\n",
              " 'trayenta duo 2 , 5 / 1000 mg envase de 60 comprmidos',\n",
              " 'trayenta duo 2 , 5 / 1000 mg x 60 comp .',\n",
              " 'trayenta duo 2 , 5 / 1000 mg x 60 comp . _x000d__x000d__x000d__x000d__x000d__x000d__x000d__x000d_',\n",
              " 'trayenta duo 2 , 5 / 1000 x 60 comp',\n",
              " 'trayenta duo 2 , 5 / 1000 x 60 comp o similar',\n",
              " 'trayenta duo 2 , 5 / 1g caja x 60 com . ( o equivalente )',\n",
              " 'trayenta duo 2 , 5 / 850 - linagliptina 2 , 5 mg / metformina 850 mg',\n",
              " 'trayenta duo 2 , 5 / 850 mg caja x 60 com . ( o equivalente )',\n",
              " 'trayenta duo 2 , 5 / 850 mg envase de 60 comprmidos',\n",
              " 'trayenta duo 2 , 5 / 850 x 60 comp o similar',\n",
              " 'trayenta duo 2 , 5 mg / 1 g caja x 60 com ( o equivalente )',\n",
              " 'trayenta duo 2 , 5 mg / 1g caja x 60 com . ( o equivalente )',\n",
              " 'trayenta duo 2 , 5mg / 1g caja x 60 com . ( o equivalente )',\n",
              " 'trayenta duo 2 . 5 / 1000 mg comp',\n",
              " 'trayenta duo 2 . 5 / 1000 mg x 60',\n",
              " 'trayenta duo 2 . 5 / 850 mg x 360 comp . recub .',\n",
              " 'trayenta duo 2 . 5 mg / 1000 mg x 60 comprimidos',\n",
              " 'trayenta duo 2 . 5 mg / 1000 mg x 60 comprimidos_x000d__x000d__x000d__x000d__x000d__x000d__x000d__x000d_',\n",
              " 'trayenta duo 2 . 5mg / 1000mg , 60 com'}"
            ]
          },
          "metadata": {},
          "execution_count": 602
        }
      ]
    },
    {
      "cell_type": "code",
      "source": [
        "dictionary_medicine_name[276]"
      ],
      "metadata": {
        "colab": {
          "base_uri": "https://localhost:8080/",
          "height": 35
        },
        "id": "jmklTCqBf7aP",
        "outputId": "8c3744ba-3e4c-4d91-de23-7616051b07ed"
      },
      "id": "jmklTCqBf7aP",
      "execution_count": null,
      "outputs": [
        {
          "output_type": "execute_result",
          "data": {
            "text/plain": [
              "'trayenta'"
            ],
            "application/vnd.google.colaboratory.intrinsic+json": {
              "type": "string"
            }
          },
          "metadata": {},
          "execution_count": 601
        }
      ]
    },
    {
      "cell_type": "code",
      "source": [
        "total_list_277 = [' '.join(row) for row in total_list[247]]\n",
        "set(total_list_277)\n",
        "#dictionary_medicine_name[277]"
      ],
      "metadata": {
        "colab": {
          "base_uri": "https://localhost:8080/"
        },
        "id": "tLpp4cRGf7OB",
        "outputId": "40b18494-6686-4878-defe-218443a2e1bd"
      },
      "id": "tLpp4cRGf7OB",
      "execution_count": null,
      "outputs": [
        {
          "output_type": "execute_result",
          "data": {
            "text/plain": [
              "{'1092030 - 4 insulina degludec ( adn recombinante ) 100 u / ml _x000d__x000d__x000d__x000d__x000d__x000d__x000d__x000d_ flexpen 3ml o equivalente a ins . tresiba 100 u / ml plexpen 3ml',\n",
              " '1092030 - 4 insulina degludec ( adn recombinante ) 100 u / ml flexpen 3ml o equivalente a ins . tresiba 100 u / ml plexpen 3ml .',\n",
              " '1400034 analogo de insulina lenta degludec 100 u / ml x 3 ml sc similar tresiba flextouch . uso ocasional sol . iny . lapiz_x000d__x000d__x000d__x000d__x000d__x000d__x000d__x000d_',\n",
              " 'dispositivo prellenado contiene : 300 unidades de insulina degludec en 3 ml de solución . similar a tresiba',\n",
              " 'insulina deglodec solucion inyectable en dispositivo prellenado igual o superior a tresiba _x000d__x000d__x000d__x000d__x000d__x000d__x000d_ nota : se sugiere fecha de vencimiento superior a 1 año o en caso contrario contar con politicas de canje',\n",
              " 'insulina degludec ( tresiba ) 100 ui / ml sol . inyectable',\n",
              " 'insulina degludec * . * producida en saccharomyces cerevisiae por medio de la tecnología de adn recombinante , similar a insulina tresiba . solución inyectable ( flextouch ®)',\n",
              " 'insulina degludec , cada ml contiene 100 ui . un dispositivo prellenado contiene : 300 unidades de isnulina degludec en 3 ml de solucion . producida en saccharomyces cerevisiae por medio de la tecnologia de adn recombinante . tresiba o similar .',\n",
              " 'insulina degludec , similar tresiba 100 ui / ml , caja de 1 dispositivo prellenado de 3 ml , uso subcutaneo',\n",
              " 'insulina degludec , similar tresiba 100 ui / ml , caja de 1 dispositivo prellenado de 3 ml , uso subcutaneo .',\n",
              " 'insulina degludec . solucion inyectable 100 ui / ml . envase con 1 dispositivo prellenado de 3 ml . similar a tresiba flextouch',\n",
              " 'insulina degludec . solucion inyectable 100 ui / ml . envase con 1 dispositivo prellenado de 3 ml . similar a tresiba flextouch ®.',\n",
              " 'insulina degludec 100 u / ml , solución inyectable en dispositivo prellenado , producto deseado tresiba solución inyectable 100 u / ml',\n",
              " 'insulina degludec 100 u / ml 1 x 3 ml similar a tresiba flextouch',\n",
              " 'insulina degludec 100 u / ml x 3 ml similar a tresiba flextouch',\n",
              " 'insulina degludec 100 ui ( 3 , 66 mg ). adn recombinante en dispositivo desechable .; equivalente a tresiba flex touch 100 ui / ml lápiz 3 ml',\n",
              " 'insulina degludec 100 ui / ml lapiz prellenado de 3 ml ( similar tresiba )',\n",
              " 'insulina degludec 100ui / ml solución inyectable similar tresiba',\n",
              " 'insulina degludec lapiz similar a tresiba',\n",
              " 'insulina tresiba',\n",
              " 'insulina tresiba 100 u / ml 1 x 3 ml lápiz',\n",
              " 'insulina tresiba 100 ui / ml 300 ui o equivalente terapeutico_x000d__x000d__x000d__x000d__x000d__x000d__x000d__x000d_',\n",
              " 'insulina tresiba flextouch 100u / ml cod . int . 040400170201',\n",
              " 'insulina ultralenta degludec 100ui / ml x 3ml ( tipo tresiba o equivalente ) dispositivo inyector desechable',\n",
              " 'insulinda degludec 100u / ml x 3 ml similar a tresiba flex touch',\n",
              " 'insuñlina degludec 100 ui / ml x 3 ml similar a tresiba flex touch',\n",
              " 'lo que se requiere es insulina degludec 100 ui / ml lapicera prellenada 3 ml tipo tresiba',\n",
              " 'tresiba 100u / ml o similar',\n",
              " 'tresiba flex touch 100 bu / ml',\n",
              " 'tresiba flextouch 100 / ml',\n",
              " 'tresiba flextouch 100 u / ml dispositivo prellenado ( o equivalente )',\n",
              " 'tresiba flextouch 100 ui / ml 1x3 ml',\n",
              " 'tresiba flextouch 100 ui / ml 1x3 ml_x000d__x000d__x000d__x000d__x000d__x000d__x000d__x000d_',\n",
              " 'tresiba insulina'}"
            ]
          },
          "metadata": {},
          "execution_count": 604
        }
      ]
    },
    {
      "cell_type": "code",
      "source": [
        "dictionary_medicine_name[277]"
      ],
      "metadata": {
        "colab": {
          "base_uri": "https://localhost:8080/",
          "height": 35
        },
        "id": "zoSa_MdTf7E1",
        "outputId": "a3b9a24b-2faa-4386-ae4b-dd1e310d3203"
      },
      "id": "zoSa_MdTf7E1",
      "execution_count": null,
      "outputs": [
        {
          "output_type": "execute_result",
          "data": {
            "text/plain": [
              "'tresiba'"
            ],
            "application/vnd.google.colaboratory.intrinsic+json": {
              "type": "string"
            }
          },
          "metadata": {},
          "execution_count": 603
        }
      ]
    },
    {
      "cell_type": "code",
      "source": [
        "total_list_278 = [' '.join(row) for row in total_list[248]]\n",
        "set(total_list_278)\n",
        "#dictionary_medicine_name[278]"
      ],
      "metadata": {
        "colab": {
          "base_uri": "https://localhost:8080/"
        },
        "id": "lfqwxYIbf69n",
        "outputId": "7584672d-a38e-4b26-c536-c8e5df9b2b82"
      },
      "id": "lfqwxYIbf69n",
      "execution_count": null,
      "outputs": [
        {
          "output_type": "execute_result",
          "data": {
            "text/plain": [
              "{'hidroclorotiaz ./ triamtereno 25 / 50 mg cm'}"
            ]
          },
          "metadata": {},
          "execution_count": 606
        }
      ]
    },
    {
      "cell_type": "code",
      "source": [
        "dictionary_medicine_name[278]"
      ],
      "metadata": {
        "colab": {
          "base_uri": "https://localhost:8080/",
          "height": 35
        },
        "id": "pDy_eEs1gidl",
        "outputId": "b54a07d5-33c2-4b09-e183-1f0ea83b06e8"
      },
      "id": "pDy_eEs1gidl",
      "execution_count": null,
      "outputs": [
        {
          "output_type": "execute_result",
          "data": {
            "text/plain": [
              "'triamtereno'"
            ],
            "application/vnd.google.colaboratory.intrinsic+json": {
              "type": "string"
            }
          },
          "metadata": {},
          "execution_count": 605
        }
      ]
    },
    {
      "cell_type": "code",
      "source": [
        "total_list_279 = [' '.join(row) for row in total_list[249]]\n",
        "set(total_list_279)\n",
        "#dictionary_medicine_name[279]"
      ],
      "metadata": {
        "colab": {
          "base_uri": "https://localhost:8080/"
        },
        "id": "10hCbZMNgiYd",
        "outputId": "7885720e-3bde-4bdf-dc04-5f948d62de7b"
      },
      "id": "10hCbZMNgiYd",
      "execution_count": null,
      "outputs": [
        {
          "output_type": "execute_result",
          "data": {
            "text/plain": [
              "{'insulina glulisina 100 ui / ml lápiz x 3 ml excipientes : m - cresol , trometamol , cloruro de sodio , polisorbato 20 , acido clorhídrico y / o hidróxido de sodio , agua para inyectables más aguja compatible de 32g 4mm ( 15 agujas por lapiz )'}"
            ]
          },
          "metadata": {},
          "execution_count": 608
        }
      ]
    },
    {
      "cell_type": "code",
      "source": [
        "dictionary_medicine_name[279]"
      ],
      "metadata": {
        "colab": {
          "base_uri": "https://localhost:8080/",
          "height": 35
        },
        "id": "QWxStMFfgiTa",
        "outputId": "8991dc96-9525-4d1c-c090-e975795592cd"
      },
      "id": "QWxStMFfgiTa",
      "execution_count": null,
      "outputs": [
        {
          "output_type": "execute_result",
          "data": {
            "text/plain": [
              "'trometamol'"
            ],
            "application/vnd.google.colaboratory.intrinsic+json": {
              "type": "string"
            }
          },
          "metadata": {},
          "execution_count": 607
        }
      ]
    },
    {
      "cell_type": "code",
      "source": [
        "total_list_280 = [' '.join(row) for row in total_list[250]]\n",
        "set(total_list_280)\n",
        "#dictionary_medicine_name[280]"
      ],
      "metadata": {
        "colab": {
          "base_uri": "https://localhost:8080/"
        },
        "id": "eT7vxHddgiNp",
        "outputId": "8d592cda-c69d-4cf0-bc9b-2ed92e017628"
      },
      "id": "eT7vxHddgiNp",
      "execution_count": null,
      "outputs": [
        {
          "output_type": "execute_result",
          "data": {
            "text/plain": [
              "{'insulina glargina 300 ui / ml lápiz 1 , 5ml igual a tujeo'}"
            ]
          },
          "metadata": {},
          "execution_count": 610
        }
      ]
    },
    {
      "cell_type": "code",
      "source": [
        "dictionary_medicine_name[280]"
      ],
      "metadata": {
        "colab": {
          "base_uri": "https://localhost:8080/",
          "height": 35
        },
        "id": "VaW-rhJMgiH8",
        "outputId": "25c20dde-868c-497e-d569-b4283c6251db"
      },
      "id": "VaW-rhJMgiH8",
      "execution_count": null,
      "outputs": [
        {
          "output_type": "execute_result",
          "data": {
            "text/plain": [
              "'tujeo'"
            ],
            "application/vnd.google.colaboratory.intrinsic+json": {
              "type": "string"
            }
          },
          "metadata": {},
          "execution_count": 609
        }
      ]
    },
    {
      "cell_type": "code",
      "source": [
        "total_list_281 = [' '.join(row) for row in total_list[251]]\n",
        "set(total_list_281)\n",
        "#dictionary_medicine_name[281]"
      ],
      "metadata": {
        "colab": {
          "base_uri": "https://localhost:8080/"
        },
        "id": "23TY2nXneazf",
        "outputId": "bef37a33-3466-4203-d758-0d187d31d238"
      },
      "id": "23TY2nXneazf",
      "execution_count": null,
      "outputs": [
        {
          "output_type": "execute_result",
          "data": {
            "text/plain": [
              "{'cód .: 2200043_x000d__x000d__x000d__x000d__x000d__x000d__x000d__x000d_ insulina degludec ( ultralenta ) 100ui / ml solucion inyectable lapiz prellenado 3ml',\n",
              " 'insulina ultralenta degludec 100ui / ml lapiz desechable 3ml ( 2620067 )',\n",
              " 'insulina ultralenta degludec 100ui / ml x 3ml ( tipo tresiba o equivalente ) dispositivo inyector desechable',\n",
              " 'insulina ultralenta detemir 100 ui / ml lapiz desechable 3ml ( 2620021 )',\n",
              " 'insulina ultralenta detemir 100ui / ml x 3ml ( tipo levemir o equivalente ) dispositivo inyector desechable',\n",
              " 'insulina ultralenta glargina 100 ui / ml lapiz desechable 3ml . jeringa prellenada ( 2620928 )',\n",
              " 'insulina ultralenta glargina 100 ui / ml lápiz desechable 3ml . jeringa prellenada ( 2620928 )',\n",
              " 'insulina ultralenta glargina 300 ui / ml lapiz desechable 1 , 5 ml ( 2620047 )'}"
            ]
          },
          "metadata": {},
          "execution_count": 612
        }
      ]
    },
    {
      "cell_type": "code",
      "source": [
        "dictionary_medicine_name[281]"
      ],
      "metadata": {
        "colab": {
          "base_uri": "https://localhost:8080/",
          "height": 35
        },
        "id": "w5gNXIhkhHhO",
        "outputId": "261e5010-d41c-4ee6-8d8f-1ee2326020d1"
      },
      "id": "w5gNXIhkhHhO",
      "execution_count": null,
      "outputs": [
        {
          "output_type": "execute_result",
          "data": {
            "text/plain": [
              "'ultralenta'"
            ],
            "application/vnd.google.colaboratory.intrinsic+json": {
              "type": "string"
            }
          },
          "metadata": {},
          "execution_count": 611
        }
      ]
    },
    {
      "cell_type": "code",
      "source": [
        "total_list_282 = [' '.join(row) for row in total_list[252]]\n",
        "set(total_list_282)\n",
        "#dictionary_medicine_name[282]"
      ],
      "metadata": {
        "colab": {
          "base_uri": "https://localhost:8080/"
        },
        "id": "fS8-RFs_hHb5",
        "outputId": "ed3c39a9-b696-42a7-8e75-f1a4fde8536b"
      },
      "id": "fS8-RFs_hHb5",
      "execution_count": null,
      "outputs": [
        {
          "output_type": "execute_result",
          "data": {
            "text/plain": [
              "{'valganciclovir 450 mg cm rec .'}"
            ]
          },
          "metadata": {},
          "execution_count": 614
        }
      ]
    },
    {
      "cell_type": "code",
      "source": [
        "dictionary_medicine_name[282]"
      ],
      "metadata": {
        "colab": {
          "base_uri": "https://localhost:8080/",
          "height": 35
        },
        "id": "jvrGL78OhHWw",
        "outputId": "1b807eda-3984-4bd0-dda0-4791f99a97f9"
      },
      "id": "jvrGL78OhHWw",
      "execution_count": null,
      "outputs": [
        {
          "output_type": "execute_result",
          "data": {
            "text/plain": [
              "'valganciclovir'"
            ],
            "application/vnd.google.colaboratory.intrinsic+json": {
              "type": "string"
            }
          },
          "metadata": {},
          "execution_count": 613
        }
      ]
    },
    {
      "cell_type": "code",
      "source": [
        "total_list_283 = [' '.join(row) for row in total_list[253]]\n",
        "set(total_list_283)\n",
        "#dictionary_medicine_name[283]"
      ],
      "metadata": {
        "colab": {
          "base_uri": "https://localhost:8080/"
        },
        "id": "gy9noEv5hHRw",
        "outputId": "6498fe13-3035-48d7-8e49-6b51e1950f21"
      },
      "id": "gy9noEv5hHRw",
      "execution_count": null,
      "outputs": [
        {
          "output_type": "execute_result",
          "data": {
            "text/plain": [
              "{'amlodipino / valsartan 10 / 160 mg cm rec',\n",
              " 'amlodipino / valsartan 5 / 160 mg cm rec',\n",
              " 'amlodipino / valsartan 5 / 80 mg cm rec',\n",
              " 'valsartan 160 mg cp / cm rec',\n",
              " 'valsartan 80 mg cp / cm rec .'}"
            ]
          },
          "metadata": {},
          "execution_count": 616
        }
      ]
    },
    {
      "cell_type": "code",
      "source": [
        "dictionary_medicine_name[283]"
      ],
      "metadata": {
        "colab": {
          "base_uri": "https://localhost:8080/",
          "height": 35
        },
        "id": "nwXba0KphHLu",
        "outputId": "4ae35b81-b245-44ea-a34e-f00fa8e15868"
      },
      "id": "nwXba0KphHLu",
      "execution_count": null,
      "outputs": [
        {
          "output_type": "execute_result",
          "data": {
            "text/plain": [
              "'valsartan'"
            ],
            "application/vnd.google.colaboratory.intrinsic+json": {
              "type": "string"
            }
          },
          "metadata": {},
          "execution_count": 615
        }
      ]
    },
    {
      "cell_type": "code",
      "source": [
        "total_list_284 = [' '.join(row) for row in total_list[254]]\n",
        "set(total_list_284)\n",
        "#dictionary_medicine_name[284]"
      ],
      "metadata": {
        "colab": {
          "base_uri": "https://localhost:8080/"
        },
        "id": "svk2uW-yhHG4",
        "outputId": "ded838b6-c9be-4b3f-8159-23fc6a9d85fb"
      },
      "id": "svk2uW-yhHG4",
      "execution_count": null,
      "outputs": [
        {
          "output_type": "execute_result",
          "data": {
            "text/plain": [
              "{'sofosbuvir / velpatasvir 400 / 100 mg cm rec'}"
            ]
          },
          "metadata": {},
          "execution_count": 618
        }
      ]
    },
    {
      "cell_type": "code",
      "source": [
        "dictionary_medicine_name[284]"
      ],
      "metadata": {
        "colab": {
          "base_uri": "https://localhost:8080/",
          "height": 35
        },
        "id": "dR7ulk6hhHB2",
        "outputId": "4e71c3af-844d-4971-8db0-ec6bc32104ef"
      },
      "id": "dR7ulk6hhHB2",
      "execution_count": null,
      "outputs": [
        {
          "output_type": "execute_result",
          "data": {
            "text/plain": [
              "'velpatasvir'"
            ],
            "application/vnd.google.colaboratory.intrinsic+json": {
              "type": "string"
            }
          },
          "metadata": {},
          "execution_count": 617
        }
      ]
    },
    {
      "cell_type": "code",
      "source": [
        "total_list_285 = [' '.join(row) for row in total_list[255]]\n",
        "set(total_list_285)\n",
        "#dictionary_medicine_name[285]"
      ],
      "metadata": {
        "colab": {
          "base_uri": "https://localhost:8080/"
        },
        "id": "iJr_ZY19hG88",
        "outputId": "0afc5d8f-d6ca-4ea1-92c4-0a22d726725e"
      },
      "id": "iJr_ZY19hG88",
      "execution_count": null,
      "outputs": [
        {
          "output_type": "execute_result",
          "data": {
            "text/plain": [
              "{'galvus ( o similar ) ( vidagliptina 50 mg x 30 comp ).',\n",
              " 'vidagliptina 50 mg',\n",
              " 'vidagliptina 50 mg , caja con blisters x 28 o 56 comprimidos',\n",
              " 'vidagliptina 50 mg x 56 comp _x000d__x000d__x000d__x000d__x000d__x000d__x000d__x000d_',\n",
              " 'vidagliptina 50 mg_x000d__x000d__x000d__x000d__x000d__x000d__x000d__x000d_',\n",
              " 'vidagliptina comp .'}"
            ]
          },
          "metadata": {},
          "execution_count": 620
        }
      ]
    },
    {
      "cell_type": "code",
      "source": [
        "dictionary_medicine_name[285]"
      ],
      "metadata": {
        "colab": {
          "base_uri": "https://localhost:8080/",
          "height": 35
        },
        "id": "uKhO_-ALhG24",
        "outputId": "6ea651eb-6da8-4c50-ddcf-194d861730c0"
      },
      "id": "uKhO_-ALhG24",
      "execution_count": null,
      "outputs": [
        {
          "output_type": "execute_result",
          "data": {
            "text/plain": [
              "'vidagliptina'"
            ],
            "application/vnd.google.colaboratory.intrinsic+json": {
              "type": "string"
            }
          },
          "metadata": {},
          "execution_count": 619
        }
      ]
    },
    {
      "cell_type": "code",
      "source": [
        "total_list_286 = [' '.join(row) for row in total_list[256]]\n",
        "set(total_list_286)\n",
        "#dictionary_medicine_name[286]"
      ],
      "metadata": {
        "colab": {
          "base_uri": "https://localhost:8080/"
        },
        "id": "e-NKdMFohGwq",
        "outputId": "3435d54d-865e-4d87-e06e-ed914d2f999c"
      },
      "id": "e-NKdMFohGwq",
      "execution_count": null,
      "outputs": [
        {
          "output_type": "execute_result",
          "data": {
            "text/plain": [
              "{'vildagliptin / metformin 50 / 1000mg cm rec',\n",
              " 'vildagliptin / metformin 50 / 500mg cm rec',\n",
              " 'vildagliptin / metformina 50 / 850mg cm rec'}"
            ]
          },
          "metadata": {},
          "execution_count": 622
        }
      ]
    },
    {
      "cell_type": "code",
      "source": [
        "dictionary_medicine_name[286]"
      ],
      "metadata": {
        "colab": {
          "base_uri": "https://localhost:8080/",
          "height": 35
        },
        "id": "HzujBgI2hGrf",
        "outputId": "d5b5adf7-d9db-48a9-fcf1-cf165b3ba478"
      },
      "id": "HzujBgI2hGrf",
      "execution_count": null,
      "outputs": [
        {
          "output_type": "execute_result",
          "data": {
            "text/plain": [
              "'vildagliptin'"
            ],
            "application/vnd.google.colaboratory.intrinsic+json": {
              "type": "string"
            }
          },
          "metadata": {},
          "execution_count": 621
        }
      ]
    },
    {
      "cell_type": "code",
      "source": [
        "total_list_287 = [' '.join(row) for row in total_list[257]]\n",
        "set(total_list_287)\n",
        "#dictionary_medicine_name[287]"
      ],
      "metadata": {
        "colab": {
          "base_uri": "https://localhost:8080/"
        },
        "id": "xF8z2WpsiGAh",
        "outputId": "80ce2cba-002c-44d4-8bf1-3f4e878a6d8d"
      },
      "id": "xF8z2WpsiGAh",
      "execution_count": null,
      "outputs": [
        {
          "output_type": "execute_result",
          "data": {
            "text/plain": [
              "{'1093034 - 5 envase x56compr . comprimido contiene 50mg del principio activo hipoglicemiante vildagliptina . forma farmaceutica de compr para administracion via oral . o equivalente a galvus 50 mg x 56 comp',\n",
              " '11 . vildagliptina 50 mg tipo : galvus',\n",
              " '214 - 0484 vildagliptina 50mg comprimido 129 . 360',\n",
              " '2145143 vildagliptina 50 mg comprimido oral',\n",
              " '3002140169 vildagliptina 50 mg comprimido',\n",
              " 'caja de 28 comprimidos conteniendo : vildagliptina 50mg , metformina 850mg . similar a jalra m 50 / 850',\n",
              " 'caja de 56 comprimido contiene : vildagliptina 50 mg . similar a galvus',\n",
              " 'caja de 56 comprimido contiene : vildagliptina 50 mg . similar a galvus 50mg',\n",
              " 'cajas de vildagliptina 50mg / metformina 1000mg ; presentación caja de 56 comprimidos',\n",
              " 'cajas de vildagliptina 50mg x 56 comp .',\n",
              " 'cajas de vildagliptina 50mg x 56 comp ..',\n",
              " 'fa01 - 0171 vildagliptina 50 mg comprimido',\n",
              " 'galvus vildagliptina 50 mg , 56 comprimidos',\n",
              " 'jalra ( vildagliptina 50mg )',\n",
              " 'lko que se requiere es vildagliptina 50 mg x 56 comp',\n",
              " 'lo que se requiere es vildagliptina 50 mg x 56',\n",
              " 'lo que se requiere es vildagliptina 50 mg x 56 comp',\n",
              " 'metformina / vildagliptina 500mg / 50mg , caja de 28 o 30 comprimidos',\n",
              " 'metformina 1000 mg + vildagliptina 50mg . caja x 28 comp . rec . similar a galvus met .....( indicar fecha de vencimiento y registro isp ).. _x000d__x000d__x000d__x000d__x000d__x000d__x000d__x000d_',\n",
              " 'metformina 500 mg + vildagliptina 50mg . caja x 28 comp . rec . similar a jalra m .....( indicar fecha de vencimiento y registro isp ).. _x000d__x000d__x000d__x000d__x000d__x000d__x000d__x000d_',\n",
              " 'metformina 850 mg + vildagliptina 50mg . caja x 28 comp . rec . similar a jalra m .....( indicar fecha de vencimiento y registro isp ).. _x000d__x000d__x000d__x000d__x000d__x000d__x000d__x000d_',\n",
              " 'se requiere medicamento vildagliptina 50 mg / metformina 850 mg , envase comercial de 28 o 30 comprimidos recubiertos , fecha de vencimiento igual o superior a 12 meses , debe ingresar la informacion indicando dia mes y año .',\n",
              " 'suministro de vildagliptina 50 mg , caja 28 o 56 comprimidos',\n",
              " 'vildagliptina + metfomirna 50 / 1000 mg ( similar galvus met 50 / 1000 ) caja de 28 comprimidos',\n",
              " 'vildagliptina 50 + metformina 1000 mg , caja de 28 0 56 comprimidos .',\n",
              " 'vildagliptina 50 + metformina 500 mg , caja de 28 o 56 comprimidos .',\n",
              " 'vildagliptina 50 / mg metformina clorhidrato 500 mg , según especificaciones en bases técnicas .',\n",
              " 'vildagliptina 50 comprimidos , envasadas en blister pvc o similar y aluminio impreso , envase contenido 56 comprimidos recubiertos , certificacion gmp de la planta productora , tipo galvus .',\n",
              " 'vildagliptina 50 mg',\n",
              " 'vildagliptina 50 mg ** galvus 50mg ** x56 comprimidos',\n",
              " 'vildagliptina 50 mg + clorhidrato de metformina 1000 mg',\n",
              " 'vildagliptina 50 mg + metformina 850 mg ( similar galvus met 50 / 850 mg ) caja de 28 comprimidos .',\n",
              " 'vildagliptina 50 mg + metformina clorhidrato 850 mg x 56 comp . _x000d__x000d__x000d__x000d__x000d__x000d__x000d__x000d_ ( galvus met 50 / 850 ) _x000d__x000d__x000d__x000d__x000d__x000d__x000d__x000d_',\n",
              " 'vildagliptina 50 mg , caja de 28 o 56 comprimidos',\n",
              " 'vildagliptina 50 mg , caja de 56 o 60 comprimidos',\n",
              " 'vildagliptina 50 mg , caja x 56 comprimidos . ( equivalente a jalra )',\n",
              " 'vildagliptina 50 mg , envase comercial',\n",
              " 'vildagliptina 50 mg , similar a galvus 50 mg en comprimidos',\n",
              " 'vildagliptina 50 mg . _x000d__x000d__x000d__x000d__x000d__x000d__x000d_',\n",
              " 'vildagliptina 50 mg . cm .',\n",
              " 'vildagliptina 50 mg . comprimido',\n",
              " 'vildagliptina 50 mg . comprimido o capsula',\n",
              " 'vildagliptina 50 mg . comprimidos ; equivalente a jalra 50 mg 28 comp',\n",
              " 'vildagliptina 50 mg . tipo : galvus 50 mg',\n",
              " 'vildagliptina 50 mg . tipo : galvus 50 mg .',\n",
              " 'vildagliptina 50 mg / metformina 500 mg x 56 comp . rec . similar galvus met',\n",
              " 'vildagliptina 50 mg / metformina clorhidrato 1000 mg , según especificaciones en bases técnicas .',\n",
              " 'vildagliptina 50 mg 56 comprimidos_x000d__x000d__x000d__x000d__x000d__x000d__x000d__x000d_',\n",
              " 'vildagliptina 50 mg caja x 56 com . ( o equivalente )',\n",
              " 'vildagliptina 50 mg cm ( 100004362 )',\n",
              " 'vildagliptina 50 mg comp .',\n",
              " 'vildagliptina 50 mg comprimidos',\n",
              " 'vildagliptina 50 mg comprimidos con recubrimiento entérico , según especificaciones técnicas .',\n",
              " 'vildagliptina 50 mg x 28 comp . o 56 comp . _x000d__x000d__x000d__x000d__x000d__x000d__x000d__x000d_ ( jalra , galvus )',\n",
              " 'vildagliptina 50 mg x 28 comprimidos',\n",
              " 'vildagliptina 50 mg x 28 comprimidos_x000d__x000d__x000d__x000d__x000d__x000d__x000d__x000d_',\n",
              " 'vildagliptina 50 mg x 30 comprimidos_x000d__x000d__x000d__x000d__x000d__x000d__x000d__x000d_',\n",
              " 'vildagliptina 50 mg x 56 comp .',\n",
              " 'vildagliptina 50 mg x 56 comp . re . similar galvus',\n",
              " 'vildagliptina 50 mg x 56 comprimidos',\n",
              " 'vildagliptina 50 mg x 56 comprimidos , similar a galvus 50 mg x 56 comp .',\n",
              " 'vildagliptina 50 mg x 56 comprimidos , similar a galvus 50 mg x 56 comprimidos',\n",
              " 'vildagliptina 50 mg x 56 comprimidos .',\n",
              " 'vildagliptina 50 mg x 56 comprimidos o equivalente terapeutico_x000d__x000d__x000d__x000d__x000d__x000d__x000d__x000d_ _x000d__x000d__x000d__x000d__x000d__x000d__x000d__x000d_',\n",
              " 'vildagliptina 50 mg x 56 comprimidos_x000d__x000d__x000d__x000d__x000d__x000d__x000d__x000d_',\n",
              " 'vildagliptina 50 mg x caja 56 comprimidos',\n",
              " 'vildagliptina 50mg .',\n",
              " 'vildagliptina 50mg caja x 56 comp_x000d__x000d__x000d__x000d__x000d__x000d__x000d__x000d_',\n",
              " 'vildagliptina 50mg comp x 56 comp_x000d__x000d__x000d__x000d__x000d__x000d__x000d__x000d_',\n",
              " 'vildagliptina 50mg comprimido',\n",
              " 'vildagliptina 50mg comprimido . fecha vencimiento mayor a 1 año desde la recepción . no se aceptan cartas de canje',\n",
              " 'vildagliptina 50mg comprimido recubierto . fecha de vencimiento superior a 1 año desde la fecha de entrega , no se aceptan cartas de canje',\n",
              " 'vildagliptina 50mg comprimidos recubiertos similar galvus',\n",
              " 'vildagliptina 50mg x 56 comp recubiertos de liberación prolongada_x000d__x000d__x000d__x000d__x000d__x000d__x000d__x000d_ _x000d__x000d__x000d__x000d__x000d__x000d__x000d__x000d_',\n",
              " 'vildagliptina 50mg x 56 comp_x000d__x000d__x000d__x000d__x000d__x000d__x000d__x000d_',\n",
              " 'vildagliptina 50mg x56',\n",
              " 'vildagliptina comprimido 50 mg .',\n",
              " 'vildagliptina equivalente a galvus 50 mg , caja de 56 comprimidos'}"
            ]
          },
          "metadata": {},
          "execution_count": 624
        }
      ]
    },
    {
      "cell_type": "code",
      "source": [
        "dictionary_medicine_name[287]"
      ],
      "metadata": {
        "colab": {
          "base_uri": "https://localhost:8080/",
          "height": 35
        },
        "id": "qj6pe3wFiF7J",
        "outputId": "1c8b79a5-af70-4aab-f60d-e40bd9997d4e"
      },
      "id": "qj6pe3wFiF7J",
      "execution_count": null,
      "outputs": [
        {
          "output_type": "execute_result",
          "data": {
            "text/plain": [
              "'vildagliptina'"
            ],
            "application/vnd.google.colaboratory.intrinsic+json": {
              "type": "string"
            }
          },
          "metadata": {},
          "execution_count": 623
        }
      ]
    },
    {
      "cell_type": "code",
      "source": [
        "total_list_288 = [' '.join(row) for row in total_list[258]]\n",
        "set(total_list_288)\n",
        "#dictionary_medicine_name[288]"
      ],
      "metadata": {
        "colab": {
          "base_uri": "https://localhost:8080/"
        },
        "id": "Sro7WWVmiF0S",
        "outputId": "f1ae4463-25f8-4cb3-8eb4-b36b157a76ac"
      },
      "id": "Sro7WWVmiF0S",
      "execution_count": null,
      "outputs": [
        {
          "output_type": "execute_result",
          "data": {
            "text/plain": [
              "{'vincristina 1mg / ml sol . inyect i . v . fam'}"
            ]
          },
          "metadata": {},
          "execution_count": 626
        }
      ]
    },
    {
      "cell_type": "code",
      "source": [
        "dictionary_medicine_name[288]"
      ],
      "metadata": {
        "colab": {
          "base_uri": "https://localhost:8080/",
          "height": 35
        },
        "id": "33Sa77loiFu_",
        "outputId": "233c1452-c944-4a2b-cd3b-7d8484f2c0ab"
      },
      "id": "33Sa77loiFu_",
      "execution_count": null,
      "outputs": [
        {
          "output_type": "execute_result",
          "data": {
            "text/plain": [
              "'vincristina'"
            ],
            "application/vnd.google.colaboratory.intrinsic+json": {
              "type": "string"
            }
          },
          "metadata": {},
          "execution_count": 625
        }
      ]
    },
    {
      "cell_type": "code",
      "source": [
        "total_list_289 = [' '.join(row) for row in total_list[259]]\n",
        "set(total_list_289)\n",
        "#dictionary_medicine_name[289]"
      ],
      "metadata": {
        "colab": {
          "base_uri": "https://localhost:8080/"
        },
        "id": "MpTL_W3qiFoc",
        "outputId": "68f0bd15-54c7-4d35-e46b-4094f6a36dcf"
      },
      "id": "MpTL_W3qiFoc",
      "execution_count": null,
      "outputs": [
        {
          "output_type": "execute_result",
          "data": {
            "text/plain": [
              "{'suplementos vitamínicos'}"
            ]
          },
          "metadata": {},
          "execution_count": 628
        }
      ]
    },
    {
      "cell_type": "code",
      "source": [
        "dictionary_medicine_name[289]"
      ],
      "metadata": {
        "colab": {
          "base_uri": "https://localhost:8080/",
          "height": 35
        },
        "id": "LQhlB0vnjN5p",
        "outputId": "773e4f4c-7f6c-41c1-cdcc-56144e34dcd2"
      },
      "id": "LQhlB0vnjN5p",
      "execution_count": null,
      "outputs": [
        {
          "output_type": "execute_result",
          "data": {
            "text/plain": [
              "'vitamínicos'"
            ],
            "application/vnd.google.colaboratory.intrinsic+json": {
              "type": "string"
            }
          },
          "metadata": {},
          "execution_count": 627
        }
      ]
    },
    {
      "cell_type": "code",
      "source": [
        "total_list_290 = [' '.join(row) for row in total_list[260]]\n",
        "set(total_list_290)\n",
        "#dictionary_medicine_name[290]"
      ],
      "metadata": {
        "colab": {
          "base_uri": "https://localhost:8080/"
        },
        "id": "OarBrAtDjN1L",
        "outputId": "b78c4e2c-5e52-4894-f111-05666012dd6f"
      },
      "id": "OarBrAtDjN1L",
      "execution_count": null,
      "outputs": [
        {
          "output_type": "execute_result",
          "data": {
            "text/plain": [
              "{'\" dapaglifozina 5mg + metformina 1000 mg x 56 comp . prol . similar a xigduo xr . . .. . . . . . . . . . . . ..( se adjuntan bases administrativas y técnicas \"\" leerlas p / ofertar )\"',\n",
              " 'caja de 28 comp . recubiertos de liberacion prolongada contiene : dapagliflozina ( como propanodiol ) 10 mg y metformina clorhidrato 1000 mg . similar a xigduo xr 10 / 1000',\n",
              " 'caja de 28 comprimidos recubiertos de liberación prolongada contiene : dapagliflozina ( como propanodiol ) 10 mg y metformina clorhidrato 1000 mg . similar a xigduo 10 / 1000',\n",
              " 'caja de 28 comprimidos recubiertos de liberación prolongada contiene : dapagliflozina ( como propanodiol ) 5 mg y metformina clorhidrato 1000 mg . similar a xigduo 5 / 1000',\n",
              " 'dapagliflozina ( como propanodiol ) 10 mg + metformina clorhidrato 1000 mg x 28 comprimidos recubiertos de liberación prolongada , similar a xigduo xr 10 / 1000 mg x 28 comprimidos recubiertos de liberación prolongada',\n",
              " 'dapagliflozina ( como propanodiol ) 10 mg + metformina clorhidrato 1000 x 28 comp . de liberación prolongada , similar a xigduo xr 10 / 1000 mg x 28 comprimidos recubiertos de liberación prolongada',\n",
              " 'dapagliflozina ( como propanodiol ) 5 mg + metformina clorhidrato 1000 mg . similar a xigduo 5 / 1000 mg',\n",
              " 'dapagliflozina ( como propanodiol ) 5 mg + metformina clorhidrato 1000 mg x 28 comprimidos de liberacion prolongada , similar a _x000d__x000d__x000d__x000d__x000d__x000d__x000d__x000d_ xigduo xr 5 / 1000 mg comprimidos recubiertos de liberación prolongada',\n",
              " 'dapagliflozina ( como propanodiol ) 5 mg + metformina clorhidrato 1000 mg x 56 comp_x000d__x000d__x000d__x000d__x000d__x000d__x000d__x000d_ ( xigduo xr 5 / 1000 mg )',\n",
              " 'dapagliflozina ( como propanodiol ) 5 mg + metformina clorhidrato 1000 mg x 56 comp_x000d__x000d__x000d__x000d__x000d__x000d__x000d__x000d_ ( xigduo xr 5 / 1000 mg ) _x000d__x000d__x000d__x000d__x000d__x000d__x000d__x000d_',\n",
              " 'dapagliflozina ( como propanodiol ) 5 mg + metformina clorhidrato 1000 mg x 56 comprimidos recubiertos de liberación prolongada , similar a xigduo xr 5 / 1000 mg x 56 comprimidos recubiertos de liberación prolongada',\n",
              " 'dapagliflozina / clorhidrato de metformina xr 10 / 1000 x 28 comp similar a xigduo xr _x000d__x000d__x000d__x000d__x000d__x000d__x000d__x000d_',\n",
              " 'dapagliflozina / metformina 10 / 1000mg xigduo xr 10 / 1000mg caja por 28 comprimidos_x000d__x000d__x000d__x000d__x000d__x000d__x000d__x000d_',\n",
              " 'dapagliflozina / metformina 5 / 1000mg xigduo xr 5 / 1000mg caja por 56 comprimidos_x000d__x000d__x000d__x000d__x000d__x000d__x000d__x000d_',\n",
              " 'dapagliflozina 10 mg + metformina 1000 mg x 28 comprimidos , similar a xigduo 10 / 1000 mg x 28 comprimidos',\n",
              " 'dapagliflozina 10 mg + metformina 1000 mg x 28 comprimidos de liberación prolongada , similar a xigduo xr 10 / 1000 mg comprimidos recubiertos de liberación prolongada',\n",
              " 'dapagliflozina 10 mg + metformina clorhidrato 1000 mg x 28 comprimidos de liberación prolongada , similar a xigduo xr 10 / 1000 mg x 28 comprimidos recubiertos de liberación prolongada',\n",
              " 'dapagliflozina 10 mg ; metformina 1000 mg . comprimidos recubiertos de liberacion prolongada . envase sellado , resistente e inadulterado . similar a xigduo xr .',\n",
              " 'dapagliflozina 10 mg ; metformina 1000 mg . comprimidos recubiertos de liberación prolongada . envase sellado , resistente e inadulterado . similar a xigduo xr',\n",
              " 'dapagliflozina 5 mg + metformina 1000 mg x 28 comprimidos de liberación prolongada , similar a xigduo xr 5 / 1000 mg comprimidos recubiertos de liberación prolongada',\n",
              " 'dapagliflozina 5 mg ; metformina 1000 mg . comprimidos recubiertos de liberacion prolongada . envase sellado , resistente e inadulterado . similar a xigduo xr',\n",
              " 'dapagliflozina 5 mg ; metformina 1000 mg . comprimidos recubiertos de liberacion prolongada . envase sellado , resistente e inadulterado . similar a xigduo xr .',\n",
              " 'dapagliflozina 5mg + metformina 1000mg sugerencia , xigduo xr caja conteniendo 56 comprimidos recubiertos_x000d__x000d__x000d__x000d__x000d__x000d__x000d__x000d_',\n",
              " 'dapagliflozina10 mg / metformina 1000 mg , caja x 28 comprimidos de liberación prolongada ( equivalente a xigduo xr )',\n",
              " 'dapaglifozina / metformina 5 / 1000 similar a xigduo 5 / 1000',\n",
              " 'dapaglifozina / metformina xr 10 / 1000 x 28 comp similar a xigduo',\n",
              " 'dapaglifozina / metformina xr 5 / 1000 x 56 comp similar a xigduo',\n",
              " 'dapaglifozina 10 mg + metformina 1000 mg x 56 comp . similar a xigduo 10 / 1000_x000d__x000d__x000d__x000d__x000d__x000d__x000d__x000d_',\n",
              " 'dapaglifozina 10 mg + metformina 1000 mg x 56 comp . similar a xigduo 5 / 1000_x000d__x000d__x000d__x000d__x000d__x000d__x000d__x000d_',\n",
              " 'dapaglifozina 10 mg ; metformina 1000 mg envase de 28 comprimidos recubiertos de liberacion prolongada ( eq a xigduo ). maximo a pagar $ 24 . 200 .-',\n",
              " 'dapaglifozina 5 mg + metformina 1000 mg ( similar xigduo 5 / 1000 ) caja de 56 comprimidos .',\n",
              " 'lo que se requiere es dapagliflozina 10 mg y metformina clorhidrato 1000 mg . comprimidos de liberacion prolongada tipo xigduo',\n",
              " 'lo que se requiere es dapagliflozina 10 mg y metformina clorhidrato 1000 mg x 56 caomp tipo xigduo xr',\n",
              " 'xigduo 10 / 1000 x 56 comp .',\n",
              " 'xigduo 10 / 1000mg xr',\n",
              " 'xigduo 5 / 1000 mg',\n",
              " 'xigduo 5 / 1000 mg x 56 comp .',\n",
              " 'xigduo xr 10 / 1000 - dapagliflozina 10 mg / metformina 1000 mg',\n",
              " 'xigduo xr 10 / 1000 mg 28 com . ( o equivalente )',\n",
              " 'xigduo xr 10 / 1000 mg caja x 28 com ( o equivalente )',\n",
              " 'xigduo xr 10 / 1000 mg caja x 28 com . ( o equivalente )',\n",
              " 'xigduo xr 10 / 1000 mg x 28 comprimidos_x000d__x000d__x000d__x000d__x000d__x000d__x000d__x000d_',\n",
              " 'xigduo xr 10 mg / 1000 mg x 28 cm . recubierto lp ( o equivalente )',\n",
              " 'xigduo xr 5 / 1000 mg 56 com . ( o equivalente )',\n",
              " 'xigduo xr 5 / 1000 mg caja x 56 com . ( o equivalente )',\n",
              " 'xigduo xr 5 / 1000 mg dapaglifozina / metformina , caja de 56 comp',\n",
              " 'xigduo xr 5 / 1000 mg envase de 56 comprimidos',\n",
              " 'xigduo xr 5 mg / 1000 mg x 56 cm . recubierto lp ( o equivalente )',\n",
              " 'xigduo xr dapaglifozina / metformina 10 / 1000mg , 56 comprimidos',\n",
              " 'xigduo xr dapaglifozina / metformina 5 / 1000mg , 56 comprimidos'}"
            ]
          },
          "metadata": {},
          "execution_count": 630
        }
      ]
    },
    {
      "cell_type": "code",
      "source": [
        "dictionary_medicine_name[290]"
      ],
      "metadata": {
        "colab": {
          "base_uri": "https://localhost:8080/",
          "height": 35
        },
        "id": "z2HEd-lRjNv4",
        "outputId": "09560e03-7ae0-482b-c314-e331d3901839"
      },
      "id": "z2HEd-lRjNv4",
      "execution_count": null,
      "outputs": [
        {
          "output_type": "execute_result",
          "data": {
            "text/plain": [
              "'xigduo'"
            ],
            "application/vnd.google.colaboratory.intrinsic+json": {
              "type": "string"
            }
          },
          "metadata": {},
          "execution_count": 629
        }
      ]
    },
    {
      "cell_type": "code",
      "source": [
        "total_list_291 = [' '.join(row) for row in total_list[261]]\n",
        "set(total_list_291)\n",
        "#dictionary_medicine_name[291]"
      ],
      "metadata": {
        "colab": {
          "base_uri": "https://localhost:8080/"
        },
        "id": "Na8l5GFVjNqz",
        "outputId": "f230cd88-3f8c-4b53-9e0c-36d70db93358"
      },
      "id": "Na8l5GFVjNqz",
      "execution_count": null,
      "outputs": [
        {
          "output_type": "execute_result",
          "data": {
            "text/plain": [
              "{'lamivudina / zidovudina 150 / 300 mg cm rec',\n",
              " 'zidovudina 200 mg / 20 ml sol . iny . fam',\n",
              " 'zidovudina 300 mg cm rec'}"
            ]
          },
          "metadata": {},
          "execution_count": 632
        }
      ]
    },
    {
      "cell_type": "code",
      "source": [
        "dictionary_medicine_name[291]"
      ],
      "metadata": {
        "colab": {
          "base_uri": "https://localhost:8080/",
          "height": 35
        },
        "id": "rRHE-lewjNl3",
        "outputId": "f886cb2d-a414-40dc-fb07-438aebca4967"
      },
      "id": "rRHE-lewjNl3",
      "execution_count": null,
      "outputs": [
        {
          "output_type": "execute_result",
          "data": {
            "text/plain": [
              "'zidovudina'"
            ],
            "application/vnd.google.colaboratory.intrinsic+json": {
              "type": "string"
            }
          },
          "metadata": {},
          "execution_count": 631
        }
      ]
    },
    {
      "cell_type": "code",
      "source": [
        "total_list_292 = [' '.join(row) for row in total_list[262]]\n",
        "set(total_list_292)\n",
        "#dictionary_medicine_name[292]"
      ],
      "metadata": {
        "colab": {
          "base_uri": "https://localhost:8080/"
        },
        "id": "J9Hyxj_ljNgb",
        "outputId": "0d01ac7b-2e6c-4825-e9d2-a93fdb7861ae"
      },
      "id": "J9Hyxj_ljNgb",
      "execution_count": null,
      "outputs": [
        {
          "output_type": "execute_result",
          "data": {
            "text/plain": [
              "{'insulina humana biosintética de origen adn recombinante , producida a partir de saccharomyces cerevisiae con excipientes cloruro de zinc , glicerol , metacresol , hidróxido de sodio , ácido clorhídrico y agua para inyectables . ( ver base )',\n",
              " 'ácido salicílico'}"
            ]
          },
          "metadata": {},
          "execution_count": 634
        }
      ]
    },
    {
      "cell_type": "code",
      "source": [
        "dictionary_medicine_name[292]"
      ],
      "metadata": {
        "colab": {
          "base_uri": "https://localhost:8080/",
          "height": 35
        },
        "id": "nNzoDTT0jNZP",
        "outputId": "8a04b810-60c2-4dcf-97c0-cad1ff0924c2"
      },
      "id": "nNzoDTT0jNZP",
      "execution_count": null,
      "outputs": [
        {
          "output_type": "execute_result",
          "data": {
            "text/plain": [
              "'ácido'"
            ],
            "application/vnd.google.colaboratory.intrinsic+json": {
              "type": "string"
            }
          },
          "metadata": {},
          "execution_count": 633
        }
      ]
    },
    {
      "cell_type": "code",
      "source": [
        "total_list_293 = [' '.join(row) for row in total_list[263]]\n",
        "set(total_list_293)\n",
        "#dictionary_medicine_name[293]"
      ],
      "metadata": {
        "colab": {
          "base_uri": "https://localhost:8080/"
        },
        "id": "eJHxGzqdjNTm",
        "outputId": "c8c446e3-c79e-4040-e87e-e7b8bbac4480"
      },
      "id": "eJHxGzqdjNTm",
      "execution_count": null,
      "outputs": [
        {
          "output_type": "execute_result",
          "data": {
            "text/plain": [
              "{'glibenclamida micronizada 5 mg comprimidos ranurados . envase de pvc ámbar / aluminio .'}"
            ]
          },
          "metadata": {},
          "execution_count": 636
        }
      ]
    },
    {
      "cell_type": "code",
      "source": [
        "dictionary_medicine_name[293]"
      ],
      "metadata": {
        "colab": {
          "base_uri": "https://localhost:8080/",
          "height": 35
        },
        "id": "AP_M1KGGkRco",
        "outputId": "7017f3db-a7b9-4310-bf32-d0489ced9db6"
      },
      "id": "AP_M1KGGkRco",
      "execution_count": null,
      "outputs": [
        {
          "output_type": "execute_result",
          "data": {
            "text/plain": [
              "'ámbar'"
            ],
            "application/vnd.google.colaboratory.intrinsic+json": {
              "type": "string"
            }
          },
          "metadata": {},
          "execution_count": 635
        }
      ]
    },
    {
      "cell_type": "code",
      "source": [
        ""
      ],
      "metadata": {
        "id": "3hjE33ixkRXP"
      },
      "id": "3hjE33ixkRXP",
      "execution_count": null,
      "outputs": []
    },
    {
      "cell_type": "code",
      "source": [
        ""
      ],
      "metadata": {
        "id": "plLN0qs3kRSE"
      },
      "id": "plLN0qs3kRSE",
      "execution_count": null,
      "outputs": []
    },
    {
      "cell_type": "code",
      "source": [
        ""
      ],
      "metadata": {
        "id": "aX7nj9mVkRMs"
      },
      "id": "aX7nj9mVkRMs",
      "execution_count": null,
      "outputs": []
    },
    {
      "cell_type": "code",
      "source": [
        ""
      ],
      "metadata": {
        "id": "hjwVGgC_kRHO"
      },
      "id": "hjwVGgC_kRHO",
      "execution_count": null,
      "outputs": []
    },
    {
      "cell_type": "code",
      "source": [
        ""
      ],
      "metadata": {
        "id": "yKw4TxNWkRBg"
      },
      "id": "yKw4TxNWkRBg",
      "execution_count": null,
      "outputs": []
    },
    {
      "cell_type": "code",
      "source": [
        ""
      ],
      "metadata": {
        "id": "Ax7E1bq7kQ7i"
      },
      "id": "Ax7E1bq7kQ7i",
      "execution_count": null,
      "outputs": []
    },
    {
      "cell_type": "code",
      "source": [
        ""
      ],
      "metadata": {
        "id": "dqtO0u7CkQ1b"
      },
      "id": "dqtO0u7CkQ1b",
      "execution_count": null,
      "outputs": []
    }
  ],
  "metadata": {
    "kernelspec": {
      "display_name": "Python 3 (ipykernel)",
      "language": "python",
      "name": "python3"
    },
    "language_info": {
      "codemirror_mode": {
        "name": "ipython",
        "version": 3
      },
      "file_extension": ".py",
      "mimetype": "text/x-python",
      "name": "python",
      "nbconvert_exporter": "python",
      "pygments_lexer": "ipython3",
      "version": "3.9.7"
    },
    "colab": {
      "name": "Dictionary-Build.ipynb",
      "provenance": [],
      "collapsed_sections": [],
      "include_colab_link": true
    }
  },
  "nbformat": 4,
  "nbformat_minor": 5
}