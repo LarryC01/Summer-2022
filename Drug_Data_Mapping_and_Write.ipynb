{
  "cells": [
    {
      "cell_type": "markdown",
      "metadata": {
        "id": "view-in-github",
        "colab_type": "text"
      },
      "source": [
        "<a href=\"https://colab.research.google.com/github/wenjunc2/PAHO-Drug-Data-Cleaning-Summer-2022/blob/main/Drug_Data_Mapping_and_Write.ipynb\" target=\"_parent\"><img src=\"https://colab.research.google.com/assets/colab-badge.svg\" alt=\"Open In Colab\"/></a>"
      ]
    },
    {
      "cell_type": "markdown",
      "source": [
        "## Part 1: Read into one dataset and get its indexes"
      ],
      "metadata": {
        "id": "rv4IVPfwSCO3"
      },
      "id": "rv4IVPfwSCO3"
    },
    {
      "cell_type": "code",
      "execution_count": 1,
      "id": "b3fa8107",
      "metadata": {
        "colab": {
          "base_uri": "https://localhost:8080/"
        },
        "id": "b3fa8107",
        "outputId": "a365983f-b12c-4e72-ebc0-74f9cbd5fffc"
      },
      "outputs": [
        {
          "output_type": "execute_result",
          "data": {
            "text/plain": [
              "{'confidence': 0.73, 'encoding': 'ISO-8859-1', 'language': ''}"
            ]
          },
          "metadata": {},
          "execution_count": 1
        }
      ],
      "source": [
        "import chardet\n",
        "with open('CHLDiab2.csv', 'rb') as rawdata:\n",
        "    result = chardet.detect(rawdata.read(100000))\n",
        "result"
      ]
    },
    {
      "cell_type": "code",
      "source": [
        "import pandas as pd\n",
        "DataSet = pd.read_csv('CHLDiab2.csv',encoding='ISO-8859-1')\n",
        "DataSet.head(1)"
      ],
      "metadata": {
        "colab": {
          "base_uri": "https://localhost:8080/",
          "height": 278
        },
        "id": "Wv9_NKk2Splc",
        "outputId": "7fa8daf3-cfcd-4555-ffc2-75832c605f6d"
      },
      "id": "Wv9_NKk2Splc",
      "execution_count": 2,
      "outputs": [
        {
          "output_type": "execute_result",
          "data": {
            "text/plain": [
              "   Unnamed: 0   Codigo                           Tipo de Adquisicion  Estado  \\\n",
              "0           1  8636737  Licitación Pública Entre 100 y 1000 UTM (LE)       8   \n",
              "\n",
              "                 Nombre Organismo      Region Unidad Codigo Moneda  \\\n",
              "0  I MUNICIPALIDAD DE CHIGUAYANTE  Región del Biobío           CLP   \n",
              "\n",
              "  Fecha Creacion Fecha Publicacion Fecha Adjudicacion  ...  \\\n",
              "0     2020-01-07        2020-01-10         2020-01-24  ...   \n",
              "\n",
              "  Valor Total Ofertado Cantidad Adjudicada Monto Linea Adjudica  \\\n",
              "0             516000.0              1200.0             516000.0   \n",
              "\n",
              "  Fecha Envio Oferta Oferta seleccionada     CHL-USD  \\\n",
              "0         2020-01-15        Seleccionada  773.730435   \n",
              "\n",
              "   Monto Unitario Oferta USD Monto Linea Adjudica USD  \\\n",
              "0                   0.555749               666.898931   \n",
              "\n",
              "   Valor Total Ofertado USD  Tipo de Institucion  \n",
              "0                666.898931        Municipalidad  \n",
              "\n",
              "[1 rows x 29 columns]"
            ],
            "text/html": [
              "\n",
              "  <div id=\"df-04a418e6-7230-470a-8eb1-7de4a374b690\">\n",
              "    <div class=\"colab-df-container\">\n",
              "      <div>\n",
              "<style scoped>\n",
              "    .dataframe tbody tr th:only-of-type {\n",
              "        vertical-align: middle;\n",
              "    }\n",
              "\n",
              "    .dataframe tbody tr th {\n",
              "        vertical-align: top;\n",
              "    }\n",
              "\n",
              "    .dataframe thead th {\n",
              "        text-align: right;\n",
              "    }\n",
              "</style>\n",
              "<table border=\"1\" class=\"dataframe\">\n",
              "  <thead>\n",
              "    <tr style=\"text-align: right;\">\n",
              "      <th></th>\n",
              "      <th>Unnamed: 0</th>\n",
              "      <th>Codigo</th>\n",
              "      <th>Tipo de Adquisicion</th>\n",
              "      <th>Estado</th>\n",
              "      <th>Nombre Organismo</th>\n",
              "      <th>Region Unidad</th>\n",
              "      <th>Codigo Moneda</th>\n",
              "      <th>Fecha Creacion</th>\n",
              "      <th>Fecha Publicacion</th>\n",
              "      <th>Fecha Adjudicacion</th>\n",
              "      <th>...</th>\n",
              "      <th>Valor Total Ofertado</th>\n",
              "      <th>Cantidad Adjudicada</th>\n",
              "      <th>Monto Linea Adjudica</th>\n",
              "      <th>Fecha Envio Oferta</th>\n",
              "      <th>Oferta seleccionada</th>\n",
              "      <th>CHL-USD</th>\n",
              "      <th>Monto Unitario Oferta USD</th>\n",
              "      <th>Monto Linea Adjudica USD</th>\n",
              "      <th>Valor Total Ofertado USD</th>\n",
              "      <th>Tipo de Institucion</th>\n",
              "    </tr>\n",
              "  </thead>\n",
              "  <tbody>\n",
              "    <tr>\n",
              "      <th>0</th>\n",
              "      <td>1</td>\n",
              "      <td>8636737</td>\n",
              "      <td>Licitación Pública Entre 100 y 1000 UTM (LE)</td>\n",
              "      <td>8</td>\n",
              "      <td>I MUNICIPALIDAD DE CHIGUAYANTE</td>\n",
              "      <td>Región del Biobío</td>\n",
              "      <td>CLP</td>\n",
              "      <td>2020-01-07</td>\n",
              "      <td>2020-01-10</td>\n",
              "      <td>2020-01-24</td>\n",
              "      <td>...</td>\n",
              "      <td>516000.0</td>\n",
              "      <td>1200.0</td>\n",
              "      <td>516000.0</td>\n",
              "      <td>2020-01-15</td>\n",
              "      <td>Seleccionada</td>\n",
              "      <td>773.730435</td>\n",
              "      <td>0.555749</td>\n",
              "      <td>666.898931</td>\n",
              "      <td>666.898931</td>\n",
              "      <td>Municipalidad</td>\n",
              "    </tr>\n",
              "  </tbody>\n",
              "</table>\n",
              "<p>1 rows × 29 columns</p>\n",
              "</div>\n",
              "      <button class=\"colab-df-convert\" onclick=\"convertToInteractive('df-04a418e6-7230-470a-8eb1-7de4a374b690')\"\n",
              "              title=\"Convert this dataframe to an interactive table.\"\n",
              "              style=\"display:none;\">\n",
              "        \n",
              "  <svg xmlns=\"http://www.w3.org/2000/svg\" height=\"24px\"viewBox=\"0 0 24 24\"\n",
              "       width=\"24px\">\n",
              "    <path d=\"M0 0h24v24H0V0z\" fill=\"none\"/>\n",
              "    <path d=\"M18.56 5.44l.94 2.06.94-2.06 2.06-.94-2.06-.94-.94-2.06-.94 2.06-2.06.94zm-11 1L8.5 8.5l.94-2.06 2.06-.94-2.06-.94L8.5 2.5l-.94 2.06-2.06.94zm10 10l.94 2.06.94-2.06 2.06-.94-2.06-.94-.94-2.06-.94 2.06-2.06.94z\"/><path d=\"M17.41 7.96l-1.37-1.37c-.4-.4-.92-.59-1.43-.59-.52 0-1.04.2-1.43.59L10.3 9.45l-7.72 7.72c-.78.78-.78 2.05 0 2.83L4 21.41c.39.39.9.59 1.41.59.51 0 1.02-.2 1.41-.59l7.78-7.78 2.81-2.81c.8-.78.8-2.07 0-2.86zM5.41 20L4 18.59l7.72-7.72 1.47 1.35L5.41 20z\"/>\n",
              "  </svg>\n",
              "      </button>\n",
              "      \n",
              "  <style>\n",
              "    .colab-df-container {\n",
              "      display:flex;\n",
              "      flex-wrap:wrap;\n",
              "      gap: 12px;\n",
              "    }\n",
              "\n",
              "    .colab-df-convert {\n",
              "      background-color: #E8F0FE;\n",
              "      border: none;\n",
              "      border-radius: 50%;\n",
              "      cursor: pointer;\n",
              "      display: none;\n",
              "      fill: #1967D2;\n",
              "      height: 32px;\n",
              "      padding: 0 0 0 0;\n",
              "      width: 32px;\n",
              "    }\n",
              "\n",
              "    .colab-df-convert:hover {\n",
              "      background-color: #E2EBFA;\n",
              "      box-shadow: 0px 1px 2px rgba(60, 64, 67, 0.3), 0px 1px 3px 1px rgba(60, 64, 67, 0.15);\n",
              "      fill: #174EA6;\n",
              "    }\n",
              "\n",
              "    [theme=dark] .colab-df-convert {\n",
              "      background-color: #3B4455;\n",
              "      fill: #D2E3FC;\n",
              "    }\n",
              "\n",
              "    [theme=dark] .colab-df-convert:hover {\n",
              "      background-color: #434B5C;\n",
              "      box-shadow: 0px 1px 3px 1px rgba(0, 0, 0, 0.15);\n",
              "      filter: drop-shadow(0px 1px 2px rgba(0, 0, 0, 0.3));\n",
              "      fill: #FFFFFF;\n",
              "    }\n",
              "  </style>\n",
              "\n",
              "      <script>\n",
              "        const buttonEl =\n",
              "          document.querySelector('#df-04a418e6-7230-470a-8eb1-7de4a374b690 button.colab-df-convert');\n",
              "        buttonEl.style.display =\n",
              "          google.colab.kernel.accessAllowed ? 'block' : 'none';\n",
              "\n",
              "        async function convertToInteractive(key) {\n",
              "          const element = document.querySelector('#df-04a418e6-7230-470a-8eb1-7de4a374b690');\n",
              "          const dataTable =\n",
              "            await google.colab.kernel.invokeFunction('convertToInteractive',\n",
              "                                                     [key], {});\n",
              "          if (!dataTable) return;\n",
              "\n",
              "          const docLinkHtml = 'Like what you see? Visit the ' +\n",
              "            '<a target=\"_blank\" href=https://colab.research.google.com/notebooks/data_table.ipynb>data table notebook</a>'\n",
              "            + ' to learn more about interactive tables.';\n",
              "          element.innerHTML = '';\n",
              "          dataTable['output_type'] = 'display_data';\n",
              "          await google.colab.output.renderOutput(dataTable, element);\n",
              "          const docLink = document.createElement('div');\n",
              "          docLink.innerHTML = docLinkHtml;\n",
              "          element.appendChild(docLink);\n",
              "        }\n",
              "      </script>\n",
              "    </div>\n",
              "  </div>\n",
              "  "
            ]
          },
          "metadata": {},
          "execution_count": 2
        }
      ]
    },
    {
      "cell_type": "code",
      "source": [
        "DrugNames = DataSet['Descripcion linea Adquisicion']"
      ],
      "metadata": {
        "id": "VK-s-IPnS1gb"
      },
      "id": "VK-s-IPnS1gb",
      "execution_count": 3,
      "outputs": []
    },
    {
      "cell_type": "code",
      "source": [
        "len(DrugNames) # length of drug names"
      ],
      "metadata": {
        "colab": {
          "base_uri": "https://localhost:8080/"
        },
        "id": "Ks3iwGzqTUlL",
        "outputId": "b0b751b3-9cbc-42e3-af07-7d0cacf9851f"
      },
      "id": "Ks3iwGzqTUlL",
      "execution_count": 4,
      "outputs": [
        {
          "output_type": "execute_result",
          "data": {
            "text/plain": [
              "5331"
            ]
          },
          "metadata": {},
          "execution_count": 4
        }
      ]
    },
    {
      "cell_type": "code",
      "source": [
        "DrugNames = list(set(DrugNames))\n",
        "len(DrugNames) # length of drug names after remove duplicates"
      ],
      "metadata": {
        "colab": {
          "base_uri": "https://localhost:8080/"
        },
        "id": "SCiL15mITXv8",
        "outputId": "18216143-999b-4235-98c9-773c0642352a"
      },
      "id": "SCiL15mITXv8",
      "execution_count": 5,
      "outputs": [
        {
          "output_type": "execute_result",
          "data": {
            "text/plain": [
              "952"
            ]
          },
          "metadata": {},
          "execution_count": 5
        }
      ]
    },
    {
      "cell_type": "code",
      "source": [
        "# uppercase everything\n",
        "DrugNamesU = []\n",
        "for i in DrugNames:\n",
        "  DrugNamesU.append(i.upper())"
      ],
      "metadata": {
        "id": "uCOmcYZSTcS0"
      },
      "id": "uCOmcYZSTcS0",
      "execution_count": 6,
      "outputs": []
    },
    {
      "cell_type": "code",
      "source": [
        "DrugNamesU[:5]"
      ],
      "metadata": {
        "colab": {
          "base_uri": "https://localhost:8080/"
        },
        "id": "UyRM63mpTj_d",
        "outputId": "b4e5e135-48eb-43b0-b07e-44723dcd6d54"
      },
      "id": "UyRM63mpTj_d",
      "execution_count": 7,
      "outputs": [
        {
          "output_type": "execute_result",
          "data": {
            "text/plain": [
              "['GLIBENCLAMIDA 5 MG.',\n",
              " 'GLIBENCLAMIDA 5MG. CON FECHA VENCIMIENTO ENERO 2023.',\n",
              " 'GALVUS 50 MG, CAJA DE 56 COMPRIMIDOS',\n",
              " 'GLIBENCLAMIDA 5 MG. COMPRIMIDO.  INDICAR FECHA DE VENCIMIENTO EN LA PRESENTACIÓN DE LOS PRODUCTOS.',\n",
              " 'GLIBENCLAMIDA 5 MG EN COMPRIMIDOS']"
            ]
          },
          "metadata": {},
          "execution_count": 7
        }
      ]
    },
    {
      "cell_type": "code",
      "source": [
        "!pip install googletrans==3.1.0a0\n",
        "from googletrans import Translator\n",
        "translator = Translator(service_urls=['translate.googleapis.com'])\n",
        "example = DrugNamesU[0]\n",
        "translation = translator.translate(example, dest='en')\n",
        "print(translation.text)"
      ],
      "metadata": {
        "colab": {
          "base_uri": "https://localhost:8080/"
        },
        "id": "HLlDLeNgTn3L",
        "outputId": "8fcd66e6-f8ec-44af-eb6b-8e0cd3f43169"
      },
      "id": "HLlDLeNgTn3L",
      "execution_count": 8,
      "outputs": [
        {
          "output_type": "stream",
          "name": "stdout",
          "text": [
            "Looking in indexes: https://pypi.org/simple, https://us-python.pkg.dev/colab-wheels/public/simple/\n",
            "Collecting googletrans==3.1.0a0\n",
            "  Downloading googletrans-3.1.0a0.tar.gz (19 kB)\n",
            "Collecting httpx==0.13.3\n",
            "  Downloading httpx-0.13.3-py3-none-any.whl (55 kB)\n",
            "\u001b[K     |████████████████████████████████| 55 kB 1.7 MB/s \n",
            "\u001b[?25hRequirement already satisfied: idna==2.* in /usr/local/lib/python3.7/dist-packages (from httpx==0.13.3->googletrans==3.1.0a0) (2.10)\n",
            "Collecting sniffio\n",
            "  Downloading sniffio-1.2.0-py3-none-any.whl (10 kB)\n",
            "Collecting httpcore==0.9.*\n",
            "  Downloading httpcore-0.9.1-py3-none-any.whl (42 kB)\n",
            "\u001b[K     |████████████████████████████████| 42 kB 1.4 MB/s \n",
            "\u001b[?25hRequirement already satisfied: certifi in /usr/local/lib/python3.7/dist-packages (from httpx==0.13.3->googletrans==3.1.0a0) (2022.6.15)\n",
            "Collecting hstspreload\n",
            "  Downloading hstspreload-2022.8.1-py3-none-any.whl (1.4 MB)\n",
            "\u001b[K     |████████████████████████████████| 1.4 MB 5.4 MB/s \n",
            "\u001b[?25hRequirement already satisfied: chardet==3.* in /usr/local/lib/python3.7/dist-packages (from httpx==0.13.3->googletrans==3.1.0a0) (3.0.4)\n",
            "Collecting rfc3986<2,>=1.3\n",
            "  Downloading rfc3986-1.5.0-py2.py3-none-any.whl (31 kB)\n",
            "Collecting h2==3.*\n",
            "  Downloading h2-3.2.0-py2.py3-none-any.whl (65 kB)\n",
            "\u001b[K     |████████████████████████████████| 65 kB 3.6 MB/s \n",
            "\u001b[?25hCollecting h11<0.10,>=0.8\n",
            "  Downloading h11-0.9.0-py2.py3-none-any.whl (53 kB)\n",
            "\u001b[K     |████████████████████████████████| 53 kB 2.0 MB/s \n",
            "\u001b[?25hCollecting hpack<4,>=3.0\n",
            "  Downloading hpack-3.0.0-py2.py3-none-any.whl (38 kB)\n",
            "Collecting hyperframe<6,>=5.2.0\n",
            "  Downloading hyperframe-5.2.0-py2.py3-none-any.whl (12 kB)\n",
            "Building wheels for collected packages: googletrans\n",
            "  Building wheel for googletrans (setup.py) ... \u001b[?25l\u001b[?25hdone\n",
            "  Created wheel for googletrans: filename=googletrans-3.1.0a0-py3-none-any.whl size=16367 sha256=af9be5c4c3d567d07e5fe49d04283c43d995114875fb6f0ffa592af908d7c676\n",
            "  Stored in directory: /root/.cache/pip/wheels/0c/be/fe/93a6a40ffe386e16089e44dad9018ebab9dc4cb9eb7eab65ae\n",
            "Successfully built googletrans\n",
            "Installing collected packages: hyperframe, hpack, sniffio, h2, h11, rfc3986, httpcore, hstspreload, httpx, googletrans\n",
            "Successfully installed googletrans-3.1.0a0 h11-0.9.0 h2-3.2.0 hpack-3.0.0 hstspreload-2022.8.1 httpcore-0.9.1 httpx-0.13.3 hyperframe-5.2.0 rfc3986-1.5.0 sniffio-1.2.0\n",
            "GLIBENCLAMIDA 5 MG.\n"
          ]
        }
      ]
    },
    {
      "cell_type": "code",
      "source": [
        "DrugNamesU[0]"
      ],
      "metadata": {
        "colab": {
          "base_uri": "https://localhost:8080/",
          "height": 35
        },
        "id": "u-Apgp1JTynW",
        "outputId": "fc1fe752-a6c0-42ba-a591-21e03d6356bb"
      },
      "id": "u-Apgp1JTynW",
      "execution_count": 9,
      "outputs": [
        {
          "output_type": "execute_result",
          "data": {
            "text/plain": [
              "'GLIBENCLAMIDA 5 MG.'"
            ],
            "application/vnd.google.colaboratory.intrinsic+json": {
              "type": "string"
            }
          },
          "metadata": {},
          "execution_count": 9
        }
      ]
    },
    {
      "cell_type": "code",
      "source": [
        "DrugNamesUEng = []\n",
        "for item in DrugNamesU:\n",
        "  translation = translator.translate(item, dest='en')\n",
        "  DrugNamesUEng.append(translation.text)\n",
        "# runs 1 mins"
      ],
      "metadata": {
        "id": "3B0bYaKcTyj6"
      },
      "id": "3B0bYaKcTyj6",
      "execution_count": 10,
      "outputs": []
    },
    {
      "cell_type": "code",
      "source": [
        "DrugNamesUEng[:5]"
      ],
      "metadata": {
        "colab": {
          "base_uri": "https://localhost:8080/"
        },
        "id": "YdVLZnSaTygu",
        "outputId": "be852361-d2f9-4ccf-ab87-390c916f1035"
      },
      "id": "YdVLZnSaTygu",
      "execution_count": 11,
      "outputs": [
        {
          "output_type": "execute_result",
          "data": {
            "text/plain": [
              "['GLIBENCLAMIDA 5 MG.',\n",
              " 'GLYBENCLAMIDE 5MG. WITH DUE DATE JANUARY 2023.',\n",
              " 'GALVUS 50 MG, BOX OF 56 TABLETS',\n",
              " 'GLYBENCLAMIDE 5 MG. COMPRESSED. INDICATE EXPIRATION DATE IN THE PRESENTATION OF THE PRODUCTS.',\n",
              " 'GLIBENCLAMIDE 5 MG TABLETS']"
            ]
          },
          "metadata": {},
          "execution_count": 11
        }
      ]
    },
    {
      "cell_type": "code",
      "source": [
        "# get the orignila index about medicine name for each drug name \n",
        "\n",
        "from nltk.tokenize import WordPunctTokenizer  # this function split the string by space\n",
        "tokenizer = WordPunctTokenizer()\n",
        "\n",
        "DrugNamesUEngSpl = []\n",
        "for item in DrugNamesUEng:\n",
        "  tokenlist = tokenizer.tokenize(item)\n",
        "  DrugNamesUEngSpl.append(tokenlist)"
      ],
      "metadata": {
        "id": "TMqmPXdbTyU1"
      },
      "id": "TMqmPXdbTyU1",
      "execution_count": 12,
      "outputs": []
    },
    {
      "cell_type": "code",
      "source": [
        "DrugNamesUEngSpl[:1]"
      ],
      "metadata": {
        "id": "2R7ajm9DTyRP",
        "colab": {
          "base_uri": "https://localhost:8080/"
        },
        "outputId": "001721a2-9f84-4f29-a9ad-f1e904ebca17"
      },
      "id": "2R7ajm9DTyRP",
      "execution_count": 13,
      "outputs": [
        {
          "output_type": "execute_result",
          "data": {
            "text/plain": [
              "[['GLIBENCLAMIDA', '5', 'MG', '.']]"
            ]
          },
          "metadata": {},
          "execution_count": 13
        }
      ]
    },
    {
      "cell_type": "code",
      "source": [
        "DrugNamesIndex  = []\n",
        "for item in DrugNamesUEngSpl:\n",
        "  templist = []\n",
        "  for subitem in item:\n",
        "    if len(subitem) > 4 and subitem.isdigit() is False:  ## ignoring these elements such as \"MG\", \"+\", ... \n",
        "      templist.append(subitem)\n",
        "  DrugNamesIndex.append(templist)"
      ],
      "metadata": {
        "id": "b0mkQExkTyOc"
      },
      "id": "b0mkQExkTyOc",
      "execution_count": 14,
      "outputs": []
    },
    {
      "cell_type": "code",
      "source": [
        "len(DrugNamesIndex)"
      ],
      "metadata": {
        "id": "4zrilN2KTyLA",
        "colab": {
          "base_uri": "https://localhost:8080/"
        },
        "outputId": "062b834f-90f2-4426-bcef-7a4fe154ddbf"
      },
      "id": "4zrilN2KTyLA",
      "execution_count": 15,
      "outputs": [
        {
          "output_type": "execute_result",
          "data": {
            "text/plain": [
              "952"
            ]
          },
          "metadata": {},
          "execution_count": 15
        }
      ]
    },
    {
      "cell_type": "code",
      "source": [
        "DrugNamesIndex[:5]"
      ],
      "metadata": {
        "id": "0X1dTFqTTyIB",
        "colab": {
          "base_uri": "https://localhost:8080/"
        },
        "outputId": "9435cfb5-9ed9-40b2-d188-2f4084b9a0cc"
      },
      "id": "0X1dTFqTTyIB",
      "execution_count": 16,
      "outputs": [
        {
          "output_type": "execute_result",
          "data": {
            "text/plain": [
              "[['GLIBENCLAMIDA'],\n",
              " ['GLYBENCLAMIDE', 'JANUARY'],\n",
              " ['GALVUS', 'TABLETS'],\n",
              " ['GLYBENCLAMIDE',\n",
              "  'COMPRESSED',\n",
              "  'INDICATE',\n",
              "  'EXPIRATION',\n",
              "  'PRESENTATION',\n",
              "  'PRODUCTS'],\n",
              " ['GLIBENCLAMIDE', 'TABLETS']]"
            ]
          },
          "metadata": {},
          "execution_count": 16
        }
      ]
    },
    {
      "cell_type": "code",
      "source": [
        "# delete the information in each piece of drug name after SIMILAR\n",
        "def DelSIMILAR(subitem):\n",
        "  finalindex = len(subitem)\n",
        "  for subindex in range(0, len(subitem)):\n",
        "    if subitem[subindex] == 'SIMILAR':\n",
        "      finalindex = subindex\n",
        "  return subitem[:finalindex]"
      ],
      "metadata": {
        "id": "raOEuV5uTyGi"
      },
      "id": "raOEuV5uTyGi",
      "execution_count": 17,
      "outputs": []
    },
    {
      "cell_type": "code",
      "source": [
        "# delete the information in each piece of drug name after EQUIVALENT\n",
        "def DelEQUIVALENT(subitem):\n",
        "  finalindex = len(subitem)\n",
        "  for subindex in range(0, len(subitem)):\n",
        "    if subitem[subindex] == 'EQUIVALENT':\n",
        "      finalindex = subindex\n",
        "  return subitem[:finalindex]"
      ],
      "metadata": {
        "id": "vjarzxANTyA6"
      },
      "id": "vjarzxANTyA6",
      "execution_count": 18,
      "outputs": []
    },
    {
      "cell_type": "code",
      "source": [
        "DrugNamesIndexDelSIMILAR = []\n",
        "for item in DrugNamesIndex:\n",
        "  add = DelSIMILAR(item)\n",
        "  add = DelEQUIVALENT(add)\n",
        "  DrugNamesIndexDelSIMILAR.append(add)"
      ],
      "metadata": {
        "id": "EU6vILueTx3T"
      },
      "id": "EU6vILueTx3T",
      "execution_count": 19,
      "outputs": []
    },
    {
      "cell_type": "code",
      "source": [
        "DrugNamesIndexDelSIMILAR[:5]"
      ],
      "metadata": {
        "colab": {
          "base_uri": "https://localhost:8080/"
        },
        "id": "xTB0iYoT5CfJ",
        "outputId": "b2744ee4-0d10-4bdb-8b00-49610b77f371"
      },
      "id": "xTB0iYoT5CfJ",
      "execution_count": 20,
      "outputs": [
        {
          "output_type": "execute_result",
          "data": {
            "text/plain": [
              "[['GLIBENCLAMIDA'],\n",
              " ['GLYBENCLAMIDE', 'JANUARY'],\n",
              " ['GALVUS', 'TABLETS'],\n",
              " ['GLYBENCLAMIDE',\n",
              "  'COMPRESSED',\n",
              "  'INDICATE',\n",
              "  'EXPIRATION',\n",
              "  'PRESENTATION',\n",
              "  'PRODUCTS'],\n",
              " ['GLIBENCLAMIDE', 'TABLETS']]"
            ]
          },
          "metadata": {},
          "execution_count": 20
        }
      ]
    },
    {
      "cell_type": "markdown",
      "source": [
        "## Part 2: Set up indexes for clean catagol drug names"
      ],
      "metadata": {
        "id": "IrN1IQf15h61"
      },
      "id": "IrN1IQf15h61"
    },
    {
      "cell_type": "code",
      "source": [
        "# read into clean catagol name\n",
        "import pandas as pd\n",
        "CleanDataBase = pd.read_excel('CleanDataBase.xlsx')\n",
        "CatalogName = CleanDataBase['Catalog Name']\n",
        "CatalogName = list(set(CatalogName))\n",
        "CatalogName = [x for x in CatalogName if str(x) != 'nan']\n",
        "\n",
        "CatalogNameCopy = CatalogName.copy()\n",
        "# uppercase everything\n",
        "CatalogNameU = []\n",
        "for i in CatalogNameCopy:\n",
        "  CatalogNameU.append(i.upper())"
      ],
      "metadata": {
        "id": "PStHpPpH5Cch"
      },
      "id": "PStHpPpH5Cch",
      "execution_count": 21,
      "outputs": []
    },
    {
      "cell_type": "code",
      "source": [
        "# split the CatalogNameU\n",
        "#from nltk.tokenize import WordPunctTokenizer  # this function split the string by space\n",
        "#tokenizer = WordPunctTokenizer()\n",
        "\n",
        "CatalogNameUS = []\n",
        "for item in CatalogNameU:\n",
        "  temp = item.split(\",\")\n",
        "  CatalogNameUS.append(temp)"
      ],
      "metadata": {
        "id": "KorUhY995CZX"
      },
      "id": "KorUhY995CZX",
      "execution_count": 22,
      "outputs": []
    },
    {
      "cell_type": "code",
      "source": [
        "CatalogNameUS[:5] # after split by \",\""
      ],
      "metadata": {
        "colab": {
          "base_uri": "https://localhost:8080/"
        },
        "id": "-FeTx-id5CVe",
        "outputId": "1d950b42-1f1c-4e49-c023-e7dfda4d4de3"
      },
      "id": "-FeTx-id5CVe",
      "execution_count": 23,
      "outputs": [
        {
          "output_type": "execute_result",
          "data": {
            "text/plain": [
              "[['METFORMIN 1000 MG + GLIMEPIRIDE 4 MG', ' TABLET', ' TBD'],\n",
              " ['CYCLOSPORINE 10 MG', ' TBD', ' TBD'],\n",
              " ['ETOPOSIDE 20 MG/ML', ' INJECTION', ' 5 ML AMPOULE', ' 1X1'],\n",
              " ['EFAVIRENZ 600 MG + EMTRICITABINE 200 MG + TENOFOVIR 300 MG',\n",
              "  ' TABLET',\n",
              "  ' 30 TABLETS BOTTLE'],\n",
              " ['SOFOSBUVIR 400 MG', ' TABLET', ' 28 TABLETS BOTTLE']]"
            ]
          },
          "metadata": {},
          "execution_count": 23
        }
      ]
    },
    {
      "cell_type": "code",
      "source": [
        "# summary the list of presentation form\n",
        "PresentationForm = []\n",
        "\n",
        "for item in CatalogNameUS:\n",
        "  if len(item) >= 2:\n",
        "    PresentationForm.append(item[1])"
      ],
      "metadata": {
        "id": "qWU0WmJH6AHe"
      },
      "id": "qWU0WmJH6AHe",
      "execution_count": 24,
      "outputs": []
    },
    {
      "cell_type": "code",
      "source": [
        "PresentationForm = list(set(PresentationForm))\n",
        "\n",
        "len(PresentationForm)"
      ],
      "metadata": {
        "colab": {
          "base_uri": "https://localhost:8080/"
        },
        "id": "KmwYkrqS6AEg",
        "outputId": "8688fb7a-a18e-47d5-bea7-620d6afef4eb"
      },
      "id": "KmwYkrqS6AEg",
      "execution_count": 25,
      "outputs": [
        {
          "output_type": "execute_result",
          "data": {
            "text/plain": [
              "29"
            ]
          },
          "metadata": {},
          "execution_count": 25
        }
      ]
    },
    {
      "cell_type": "code",
      "source": [
        "PresentationForm[:5]# the presentation form"
      ],
      "metadata": {
        "colab": {
          "base_uri": "https://localhost:8080/"
        },
        "id": "UpXC9pLR5__X",
        "outputId": "7395e214-7529-4a3e-d5af-f1ce9a3d9683"
      },
      "id": "UpXC9pLR5__X",
      "execution_count": 26,
      "outputs": [
        {
          "output_type": "execute_result",
          "data": {
            "text/plain": [
              "[' CAPSULE (PRONLONGED RELEASE)',\n",
              " ' ORAL SUSPENSION',\n",
              " ' TBD',\n",
              " ' 4MG TABLET',\n",
              " ' INJECTION. 500MG/20ML ROAD BOTTLE']"
            ]
          },
          "metadata": {},
          "execution_count": 26
        }
      ]
    },
    {
      "cell_type": "code",
      "source": [
        "PresentationDiction = []\n",
        "\n",
        "from nltk.tokenize import WordPunctTokenizer  # this function split the string by space\n",
        "tokenizer = WordPunctTokenizer()\n",
        "\n",
        "for item in PresentationForm:\n",
        "  tokenlist = tokenizer.tokenize(item)\n",
        "  PresentationDiction.append(tokenlist)"
      ],
      "metadata": {
        "id": "7NugcUUN5_8U"
      },
      "id": "7NugcUUN5_8U",
      "execution_count": 27,
      "outputs": []
    },
    {
      "cell_type": "code",
      "source": [
        "PresentationDiction2 = []\n",
        "\n",
        "for item in PresentationDiction:\n",
        "  for subitem in item:\n",
        "    if len(subitem) > 3:\n",
        "      PresentationDiction2.append(subitem)"
      ],
      "metadata": {
        "id": "NH5tzc1p5_5y"
      },
      "id": "NH5tzc1p5_5y",
      "execution_count": 28,
      "outputs": []
    },
    {
      "cell_type": "code",
      "source": [
        "PresentationDiction2 = list(set(PresentationDiction2))"
      ],
      "metadata": {
        "id": "lw_OTrbZ5_3T"
      },
      "id": "lw_OTrbZ5_3T",
      "execution_count": 29,
      "outputs": []
    },
    {
      "cell_type": "code",
      "source": [
        "# grab the main medicine \n",
        "MainMedicine = []\n",
        "\n",
        "for item in CatalogNameUS:\n",
        "  MainMedicine.append(item[0])"
      ],
      "metadata": {
        "id": "Z91QYsBa5_0H"
      },
      "id": "Z91QYsBa5_0H",
      "execution_count": 30,
      "outputs": []
    },
    {
      "cell_type": "code",
      "source": [
        "print(len(MainMedicine), MainMedicine[:5])"
      ],
      "metadata": {
        "colab": {
          "base_uri": "https://localhost:8080/"
        },
        "id": "MCPlfpME5_x4",
        "outputId": "995f39ae-5733-4d35-d512-5aae79b1e044"
      },
      "id": "MCPlfpME5_x4",
      "execution_count": 31,
      "outputs": [
        {
          "output_type": "stream",
          "name": "stdout",
          "text": [
            "462 ['METFORMIN 1000 MG + GLIMEPIRIDE 4 MG', 'CYCLOSPORINE 10 MG', 'ETOPOSIDE 20 MG/ML', 'EFAVIRENZ 600 MG + EMTRICITABINE 200 MG + TENOFOVIR 300 MG', 'SOFOSBUVIR 400 MG']\n"
          ]
        }
      ]
    },
    {
      "cell_type": "code",
      "source": [
        "# split MainMedicine to get only the medicne name, and use the medicine name as the index\n",
        "from nltk.tokenize import WordPunctTokenizer\n",
        "tokenizer = WordPunctTokenizer()\n",
        "\n",
        "MainMedicineSpl = []\n",
        "for item in MainMedicine:\n",
        "  tokenlist = tokenizer.tokenize(item)\n",
        "  MainMedicineSpl.append(tokenlist)"
      ],
      "metadata": {
        "id": "7BBSbQ285_uZ"
      },
      "id": "7BBSbQ285_uZ",
      "execution_count": 32,
      "outputs": []
    },
    {
      "cell_type": "code",
      "source": [
        "MainMedicineSpl[:5]"
      ],
      "metadata": {
        "colab": {
          "base_uri": "https://localhost:8080/"
        },
        "id": "lpN_k0Yf5_qw",
        "outputId": "05f6b162-aa23-47cf-8ad0-f09153a06164"
      },
      "id": "lpN_k0Yf5_qw",
      "execution_count": 33,
      "outputs": [
        {
          "output_type": "execute_result",
          "data": {
            "text/plain": [
              "[['METFORMIN', '1000', 'MG', '+', 'GLIMEPIRIDE', '4', 'MG'],\n",
              " ['CYCLOSPORINE', '10', 'MG'],\n",
              " ['ETOPOSIDE', '20', 'MG', '/', 'ML'],\n",
              " ['EFAVIRENZ',\n",
              "  '600',\n",
              "  'MG',\n",
              "  '+',\n",
              "  'EMTRICITABINE',\n",
              "  '200',\n",
              "  'MG',\n",
              "  '+',\n",
              "  'TENOFOVIR',\n",
              "  '300',\n",
              "  'MG'],\n",
              " ['SOFOSBUVIR', '400', 'MG']]"
            ]
          },
          "metadata": {},
          "execution_count": 33
        }
      ]
    },
    {
      "cell_type": "code",
      "source": [
        "MainMedicineIndex = []\n",
        "for item in MainMedicineSpl:\n",
        "  templist = []\n",
        "  for subitem in item:\n",
        "    if len(subitem) > 4 and subitem.isdigit() is False:  ## ignoring these elements such as \"MG\", \"+\", ... \n",
        "      templist.append(subitem)\n",
        "  MainMedicineIndex.append(templist)"
      ],
      "metadata": {
        "id": "4JPD2wnK6eEX"
      },
      "id": "4JPD2wnK6eEX",
      "execution_count": 34,
      "outputs": []
    },
    {
      "cell_type": "code",
      "source": [
        "MainMedicineIndex[:5]"
      ],
      "metadata": {
        "colab": {
          "base_uri": "https://localhost:8080/"
        },
        "id": "wGezPaxJ6eBk",
        "outputId": "37e215a2-9c79-407b-cdf8-7fd4725869fc"
      },
      "id": "wGezPaxJ6eBk",
      "execution_count": 35,
      "outputs": [
        {
          "output_type": "execute_result",
          "data": {
            "text/plain": [
              "[['METFORMIN', 'GLIMEPIRIDE'],\n",
              " ['CYCLOSPORINE'],\n",
              " ['ETOPOSIDE'],\n",
              " ['EFAVIRENZ', 'EMTRICITABINE', 'TENOFOVIR'],\n",
              " ['SOFOSBUVIR']]"
            ]
          },
          "metadata": {},
          "execution_count": 35
        }
      ]
    },
    {
      "cell_type": "code",
      "source": [
        "CatalogIndexData = {\"Catalog Name\": CatalogNameU, \"Catalog Index\": MainMedicineIndex}"
      ],
      "metadata": {
        "id": "uMGwSN876d-s"
      },
      "id": "uMGwSN876d-s",
      "execution_count": 36,
      "outputs": []
    },
    {
      "cell_type": "code",
      "source": [
        "CatalogIndexData_df = pd.DataFrame(CatalogIndexData)"
      ],
      "metadata": {
        "id": "t8X8_Jq06d6j"
      },
      "id": "t8X8_Jq06d6j",
      "execution_count": 37,
      "outputs": []
    },
    {
      "cell_type": "code",
      "source": [
        "len(CatalogIndexData_df)"
      ],
      "metadata": {
        "colab": {
          "base_uri": "https://localhost:8080/"
        },
        "id": "2A9ocEOl6d2V",
        "outputId": "c79912bb-08ca-40d3-e949-021d9b40ad0c"
      },
      "id": "2A9ocEOl6d2V",
      "execution_count": 38,
      "outputs": [
        {
          "output_type": "execute_result",
          "data": {
            "text/plain": [
              "462"
            ]
          },
          "metadata": {},
          "execution_count": 38
        }
      ]
    },
    {
      "cell_type": "code",
      "source": [
        "CatalogIndexData_df[:5]"
      ],
      "metadata": {
        "colab": {
          "base_uri": "https://localhost:8080/",
          "height": 0
        },
        "id": "78VYvI3-92gV",
        "outputId": "20c2b75e-4d2b-4e69-9800-3dadb7301ec0"
      },
      "id": "78VYvI3-92gV",
      "execution_count": 39,
      "outputs": [
        {
          "output_type": "execute_result",
          "data": {
            "text/plain": [
              "                                        Catalog Name  \\\n",
              "0  METFORMIN 1000 MG + GLIMEPIRIDE 4 MG, TABLET, TBD   \n",
              "1                       CYCLOSPORINE 10 MG, TBD, TBD   \n",
              "2   ETOPOSIDE 20 MG/ML, INJECTION, 5 ML AMPOULE, 1X1   \n",
              "3  EFAVIRENZ 600 MG + EMTRICITABINE 200 MG + TENO...   \n",
              "4       SOFOSBUVIR 400 MG, TABLET, 28 TABLETS BOTTLE   \n",
              "\n",
              "                           Catalog Index  \n",
              "0               [METFORMIN, GLIMEPIRIDE]  \n",
              "1                         [CYCLOSPORINE]  \n",
              "2                            [ETOPOSIDE]  \n",
              "3  [EFAVIRENZ, EMTRICITABINE, TENOFOVIR]  \n",
              "4                           [SOFOSBUVIR]  "
            ],
            "text/html": [
              "\n",
              "  <div id=\"df-e29f7e92-a3d8-40b3-9267-b5807a99d7c1\">\n",
              "    <div class=\"colab-df-container\">\n",
              "      <div>\n",
              "<style scoped>\n",
              "    .dataframe tbody tr th:only-of-type {\n",
              "        vertical-align: middle;\n",
              "    }\n",
              "\n",
              "    .dataframe tbody tr th {\n",
              "        vertical-align: top;\n",
              "    }\n",
              "\n",
              "    .dataframe thead th {\n",
              "        text-align: right;\n",
              "    }\n",
              "</style>\n",
              "<table border=\"1\" class=\"dataframe\">\n",
              "  <thead>\n",
              "    <tr style=\"text-align: right;\">\n",
              "      <th></th>\n",
              "      <th>Catalog Name</th>\n",
              "      <th>Catalog Index</th>\n",
              "    </tr>\n",
              "  </thead>\n",
              "  <tbody>\n",
              "    <tr>\n",
              "      <th>0</th>\n",
              "      <td>METFORMIN 1000 MG + GLIMEPIRIDE 4 MG, TABLET, TBD</td>\n",
              "      <td>[METFORMIN, GLIMEPIRIDE]</td>\n",
              "    </tr>\n",
              "    <tr>\n",
              "      <th>1</th>\n",
              "      <td>CYCLOSPORINE 10 MG, TBD, TBD</td>\n",
              "      <td>[CYCLOSPORINE]</td>\n",
              "    </tr>\n",
              "    <tr>\n",
              "      <th>2</th>\n",
              "      <td>ETOPOSIDE 20 MG/ML, INJECTION, 5 ML AMPOULE, 1X1</td>\n",
              "      <td>[ETOPOSIDE]</td>\n",
              "    </tr>\n",
              "    <tr>\n",
              "      <th>3</th>\n",
              "      <td>EFAVIRENZ 600 MG + EMTRICITABINE 200 MG + TENO...</td>\n",
              "      <td>[EFAVIRENZ, EMTRICITABINE, TENOFOVIR]</td>\n",
              "    </tr>\n",
              "    <tr>\n",
              "      <th>4</th>\n",
              "      <td>SOFOSBUVIR 400 MG, TABLET, 28 TABLETS BOTTLE</td>\n",
              "      <td>[SOFOSBUVIR]</td>\n",
              "    </tr>\n",
              "  </tbody>\n",
              "</table>\n",
              "</div>\n",
              "      <button class=\"colab-df-convert\" onclick=\"convertToInteractive('df-e29f7e92-a3d8-40b3-9267-b5807a99d7c1')\"\n",
              "              title=\"Convert this dataframe to an interactive table.\"\n",
              "              style=\"display:none;\">\n",
              "        \n",
              "  <svg xmlns=\"http://www.w3.org/2000/svg\" height=\"24px\"viewBox=\"0 0 24 24\"\n",
              "       width=\"24px\">\n",
              "    <path d=\"M0 0h24v24H0V0z\" fill=\"none\"/>\n",
              "    <path d=\"M18.56 5.44l.94 2.06.94-2.06 2.06-.94-2.06-.94-.94-2.06-.94 2.06-2.06.94zm-11 1L8.5 8.5l.94-2.06 2.06-.94-2.06-.94L8.5 2.5l-.94 2.06-2.06.94zm10 10l.94 2.06.94-2.06 2.06-.94-2.06-.94-.94-2.06-.94 2.06-2.06.94z\"/><path d=\"M17.41 7.96l-1.37-1.37c-.4-.4-.92-.59-1.43-.59-.52 0-1.04.2-1.43.59L10.3 9.45l-7.72 7.72c-.78.78-.78 2.05 0 2.83L4 21.41c.39.39.9.59 1.41.59.51 0 1.02-.2 1.41-.59l7.78-7.78 2.81-2.81c.8-.78.8-2.07 0-2.86zM5.41 20L4 18.59l7.72-7.72 1.47 1.35L5.41 20z\"/>\n",
              "  </svg>\n",
              "      </button>\n",
              "      \n",
              "  <style>\n",
              "    .colab-df-container {\n",
              "      display:flex;\n",
              "      flex-wrap:wrap;\n",
              "      gap: 12px;\n",
              "    }\n",
              "\n",
              "    .colab-df-convert {\n",
              "      background-color: #E8F0FE;\n",
              "      border: none;\n",
              "      border-radius: 50%;\n",
              "      cursor: pointer;\n",
              "      display: none;\n",
              "      fill: #1967D2;\n",
              "      height: 32px;\n",
              "      padding: 0 0 0 0;\n",
              "      width: 32px;\n",
              "    }\n",
              "\n",
              "    .colab-df-convert:hover {\n",
              "      background-color: #E2EBFA;\n",
              "      box-shadow: 0px 1px 2px rgba(60, 64, 67, 0.3), 0px 1px 3px 1px rgba(60, 64, 67, 0.15);\n",
              "      fill: #174EA6;\n",
              "    }\n",
              "\n",
              "    [theme=dark] .colab-df-convert {\n",
              "      background-color: #3B4455;\n",
              "      fill: #D2E3FC;\n",
              "    }\n",
              "\n",
              "    [theme=dark] .colab-df-convert:hover {\n",
              "      background-color: #434B5C;\n",
              "      box-shadow: 0px 1px 3px 1px rgba(0, 0, 0, 0.15);\n",
              "      filter: drop-shadow(0px 1px 2px rgba(0, 0, 0, 0.3));\n",
              "      fill: #FFFFFF;\n",
              "    }\n",
              "  </style>\n",
              "\n",
              "      <script>\n",
              "        const buttonEl =\n",
              "          document.querySelector('#df-e29f7e92-a3d8-40b3-9267-b5807a99d7c1 button.colab-df-convert');\n",
              "        buttonEl.style.display =\n",
              "          google.colab.kernel.accessAllowed ? 'block' : 'none';\n",
              "\n",
              "        async function convertToInteractive(key) {\n",
              "          const element = document.querySelector('#df-e29f7e92-a3d8-40b3-9267-b5807a99d7c1');\n",
              "          const dataTable =\n",
              "            await google.colab.kernel.invokeFunction('convertToInteractive',\n",
              "                                                     [key], {});\n",
              "          if (!dataTable) return;\n",
              "\n",
              "          const docLinkHtml = 'Like what you see? Visit the ' +\n",
              "            '<a target=\"_blank\" href=https://colab.research.google.com/notebooks/data_table.ipynb>data table notebook</a>'\n",
              "            + ' to learn more about interactive tables.';\n",
              "          element.innerHTML = '';\n",
              "          dataTable['output_type'] = 'display_data';\n",
              "          await google.colab.output.renderOutput(dataTable, element);\n",
              "          const docLink = document.createElement('div');\n",
              "          docLink.innerHTML = docLinkHtml;\n",
              "          element.appendChild(docLink);\n",
              "        }\n",
              "      </script>\n",
              "    </div>\n",
              "  </div>\n",
              "  "
            ]
          },
          "metadata": {},
          "execution_count": 39
        }
      ]
    },
    {
      "cell_type": "code",
      "source": [
        "# create a list for main medicine from catalog name data set\n",
        "CatalogMedName = []\n",
        "for item in MainMedicineIndex:\n",
        "  for subitem in item:\n",
        "    CatalogMedName.append(subitem)"
      ],
      "metadata": {
        "id": "SKXlIAT492Yq"
      },
      "id": "SKXlIAT492Yq",
      "execution_count": 40,
      "outputs": []
    },
    {
      "cell_type": "code",
      "source": [
        "CatalogMedName = list(set(CatalogMedName))\n",
        "len(CatalogMedName)"
      ],
      "metadata": {
        "colab": {
          "base_uri": "https://localhost:8080/"
        },
        "id": "J72O0BEs92Sa",
        "outputId": "b45e3040-300c-4948-9c61-3592052da3ec"
      },
      "id": "J72O0BEs92Sa",
      "execution_count": 41,
      "outputs": [
        {
          "output_type": "execute_result",
          "data": {
            "text/plain": [
              "206"
            ]
          },
          "metadata": {},
          "execution_count": 41
        }
      ]
    },
    {
      "cell_type": "code",
      "source": [
        "CatalogMedName[:3]"
      ],
      "metadata": {
        "colab": {
          "base_uri": "https://localhost:8080/"
        },
        "id": "ghexrd0e92L7",
        "outputId": "86e047b8-ade8-4421-e345-2dc4a73b15fa"
      },
      "id": "ghexrd0e92L7",
      "execution_count": 42,
      "outputs": [
        {
          "output_type": "execute_result",
          "data": {
            "text/plain": [
              "['METHYLDOPA', 'DACARBAZINE', 'VORICONAZOLE']"
            ]
          },
          "metadata": {},
          "execution_count": 42
        }
      ]
    },
    {
      "cell_type": "markdown",
      "source": [
        "## Part 3: Write the Chile 2 Index Data Set According to the Catalog Name Index"
      ],
      "metadata": {
        "id": "sau0AnJP_R3C"
      },
      "id": "sau0AnJP_R3C"
    },
    {
      "cell_type": "code",
      "source": [
        "# for the vocabulaies which are included in the medicine index get from clean data set, keep them in the \n",
        "# Chile 2 data index\n",
        "def KeepMetAnd(subitem):\n",
        "  addlist = []\n",
        "  for element in subitem:\n",
        "    if element in CatalogMedName:\n",
        "      addlist.append(element)\n",
        "  return addlist"
      ],
      "metadata": {
        "id": "y8ayvGha9_Ng"
      },
      "id": "y8ayvGha9_Ng",
      "execution_count": 43,
      "outputs": []
    },
    {
      "cell_type": "code",
      "source": [
        "finIndex = []\n",
        "for sublist in DrugNamesIndexDelSIMILAR:\n",
        "  add = KeepMetAnd(sublist)\n",
        "  finIndex.append(add)"
      ],
      "metadata": {
        "id": "ChBj8_4F9_KK"
      },
      "id": "ChBj8_4F9_KK",
      "execution_count": 44,
      "outputs": []
    },
    {
      "cell_type": "code",
      "source": [
        "# count the number of Chile index sub list which is null []\n",
        "count = 0\n",
        "for i in finIndex:\n",
        "  if not i:\n",
        "    count += 1"
      ],
      "metadata": {
        "id": "1MW1y5bQ9_Dj"
      },
      "id": "1MW1y5bQ9_Dj",
      "execution_count": 45,
      "outputs": []
    },
    {
      "cell_type": "code",
      "source": [
        "print(len(finIndex), count) # the total number of drug names and the names with null index"
      ],
      "metadata": {
        "colab": {
          "base_uri": "https://localhost:8080/"
        },
        "id": "9xFQlbxNAImb",
        "outputId": "b7ce78d3-6705-4a0b-981b-267ebcb528bc"
      },
      "id": "9xFQlbxNAImb",
      "execution_count": 46,
      "outputs": [
        {
          "output_type": "stream",
          "name": "stdout",
          "text": [
            "952 427\n"
          ]
        }
      ]
    },
    {
      "cell_type": "code",
      "source": [
        "nullindexlist = []\n",
        "for i in range(0, len(finIndex)):\n",
        "  if not finIndex[i]:\n",
        "    nullindexlist.append(i)"
      ],
      "metadata": {
        "id": "kEqwupxj9-8h"
      },
      "id": "kEqwupxj9-8h",
      "execution_count": 47,
      "outputs": []
    },
    {
      "cell_type": "code",
      "source": [
        "!pip install -U spacy\n",
        "!pip install scispacy"
      ],
      "metadata": {
        "id": "M7rkN7ii9-47",
        "colab": {
          "base_uri": "https://localhost:8080/",
          "height": 1000
        },
        "outputId": "e5ac31eb-f85b-4842-cb7d-4e5c9808ff74"
      },
      "id": "M7rkN7ii9-47",
      "execution_count": 48,
      "outputs": [
        {
          "output_type": "stream",
          "name": "stdout",
          "text": [
            "Looking in indexes: https://pypi.org/simple, https://us-python.pkg.dev/colab-wheels/public/simple/\n",
            "Requirement already satisfied: spacy in /usr/local/lib/python3.7/dist-packages (3.4.1)\n",
            "Requirement already satisfied: numpy>=1.15.0 in /usr/local/lib/python3.7/dist-packages (from spacy) (1.21.6)\n",
            "Requirement already satisfied: langcodes<4.0.0,>=3.2.0 in /usr/local/lib/python3.7/dist-packages (from spacy) (3.3.0)\n",
            "Requirement already satisfied: spacy-loggers<2.0.0,>=1.0.0 in /usr/local/lib/python3.7/dist-packages (from spacy) (1.0.3)\n",
            "Requirement already satisfied: pathy>=0.3.5 in /usr/local/lib/python3.7/dist-packages (from spacy) (0.6.2)\n",
            "Requirement already satisfied: preshed<3.1.0,>=3.0.2 in /usr/local/lib/python3.7/dist-packages (from spacy) (3.0.6)\n",
            "Requirement already satisfied: typing-extensions<4.2.0,>=3.7.4 in /usr/local/lib/python3.7/dist-packages (from spacy) (4.1.1)\n",
            "Requirement already satisfied: pydantic!=1.8,!=1.8.1,<1.10.0,>=1.7.4 in /usr/local/lib/python3.7/dist-packages (from spacy) (1.9.1)\n",
            "Requirement already satisfied: jinja2 in /usr/local/lib/python3.7/dist-packages (from spacy) (2.11.3)\n",
            "Requirement already satisfied: setuptools in /usr/local/lib/python3.7/dist-packages (from spacy) (57.4.0)\n",
            "Requirement already satisfied: requests<3.0.0,>=2.13.0 in /usr/local/lib/python3.7/dist-packages (from spacy) (2.23.0)\n",
            "Requirement already satisfied: typer<0.5.0,>=0.3.0 in /usr/local/lib/python3.7/dist-packages (from spacy) (0.4.2)\n",
            "Requirement already satisfied: packaging>=20.0 in /usr/local/lib/python3.7/dist-packages (from spacy) (21.3)\n",
            "Requirement already satisfied: wasabi<1.1.0,>=0.9.1 in /usr/local/lib/python3.7/dist-packages (from spacy) (0.10.1)\n",
            "Requirement already satisfied: murmurhash<1.1.0,>=0.28.0 in /usr/local/lib/python3.7/dist-packages (from spacy) (1.0.7)\n",
            "Requirement already satisfied: catalogue<2.1.0,>=2.0.6 in /usr/local/lib/python3.7/dist-packages (from spacy) (2.0.8)\n",
            "Requirement already satisfied: srsly<3.0.0,>=2.4.3 in /usr/local/lib/python3.7/dist-packages (from spacy) (2.4.4)\n",
            "Requirement already satisfied: cymem<2.1.0,>=2.0.2 in /usr/local/lib/python3.7/dist-packages (from spacy) (2.0.6)\n",
            "Requirement already satisfied: tqdm<5.0.0,>=4.38.0 in /usr/local/lib/python3.7/dist-packages (from spacy) (4.64.0)\n",
            "Requirement already satisfied: spacy-legacy<3.1.0,>=3.0.9 in /usr/local/lib/python3.7/dist-packages (from spacy) (3.0.9)\n",
            "Requirement already satisfied: thinc<8.2.0,>=8.1.0 in /usr/local/lib/python3.7/dist-packages (from spacy) (8.1.0)\n",
            "Requirement already satisfied: zipp>=0.5 in /usr/local/lib/python3.7/dist-packages (from catalogue<2.1.0,>=2.0.6->spacy) (3.8.1)\n",
            "Requirement already satisfied: pyparsing!=3.0.5,>=2.0.2 in /usr/local/lib/python3.7/dist-packages (from packaging>=20.0->spacy) (3.0.9)\n",
            "Requirement already satisfied: smart-open<6.0.0,>=5.2.1 in /usr/local/lib/python3.7/dist-packages (from pathy>=0.3.5->spacy) (5.2.1)\n",
            "Requirement already satisfied: urllib3!=1.25.0,!=1.25.1,<1.26,>=1.21.1 in /usr/local/lib/python3.7/dist-packages (from requests<3.0.0,>=2.13.0->spacy) (1.24.3)\n",
            "Requirement already satisfied: idna<3,>=2.5 in /usr/local/lib/python3.7/dist-packages (from requests<3.0.0,>=2.13.0->spacy) (2.10)\n",
            "Requirement already satisfied: certifi>=2017.4.17 in /usr/local/lib/python3.7/dist-packages (from requests<3.0.0,>=2.13.0->spacy) (2022.6.15)\n",
            "Requirement already satisfied: chardet<4,>=3.0.2 in /usr/local/lib/python3.7/dist-packages (from requests<3.0.0,>=2.13.0->spacy) (3.0.4)\n",
            "Requirement already satisfied: blis<0.8.0,>=0.7.8 in /usr/local/lib/python3.7/dist-packages (from thinc<8.2.0,>=8.1.0->spacy) (0.7.8)\n",
            "Requirement already satisfied: click<9.0.0,>=7.1.1 in /usr/local/lib/python3.7/dist-packages (from typer<0.5.0,>=0.3.0->spacy) (7.1.2)\n",
            "Requirement already satisfied: MarkupSafe>=0.23 in /usr/local/lib/python3.7/dist-packages (from jinja2->spacy) (2.0.1)\n",
            "Looking in indexes: https://pypi.org/simple, https://us-python.pkg.dev/colab-wheels/public/simple/\n",
            "Collecting scispacy\n",
            "  Downloading scispacy-0.5.0-py3-none-any.whl (44 kB)\n",
            "\u001b[K     |████████████████████████████████| 44 kB 1.4 MB/s \n",
            "\u001b[?25hRequirement already satisfied: requests<3.0.0,>=2.0.0 in /usr/local/lib/python3.7/dist-packages (from scispacy) (2.23.0)\n",
            "Collecting nmslib>=1.7.3.6\n",
            "  Downloading nmslib-2.1.1-cp37-cp37m-manylinux2010_x86_64.whl (13.5 MB)\n",
            "\u001b[K     |████████████████████████████████| 13.5 MB 6.6 MB/s \n",
            "\u001b[?25hRequirement already satisfied: scikit-learn>=0.20.3 in /usr/local/lib/python3.7/dist-packages (from scispacy) (1.0.2)\n",
            "Collecting pysbd\n",
            "  Downloading pysbd-0.3.4-py3-none-any.whl (71 kB)\n",
            "\u001b[K     |████████████████████████████████| 71 kB 10.1 MB/s \n",
            "\u001b[?25hCollecting conllu\n",
            "  Downloading conllu-4.5.2-py2.py3-none-any.whl (16 kB)\n",
            "Requirement already satisfied: joblib in /usr/local/lib/python3.7/dist-packages (from scispacy) (1.1.0)\n",
            "Collecting spacy<3.3.0,>=3.2.0\n",
            "  Downloading spacy-3.2.4-cp37-cp37m-manylinux_2_17_x86_64.manylinux2014_x86_64.whl (6.0 MB)\n",
            "\u001b[K     |████████████████████████████████| 6.0 MB 44.6 MB/s \n",
            "\u001b[?25hRequirement already satisfied: numpy in /usr/local/lib/python3.7/dist-packages (from scispacy) (1.21.6)\n",
            "Collecting pybind11<2.6.2\n",
            "  Downloading pybind11-2.6.1-py2.py3-none-any.whl (188 kB)\n",
            "\u001b[K     |████████████████████████████████| 188 kB 53.4 MB/s \n",
            "\u001b[?25hRequirement already satisfied: psutil in /usr/local/lib/python3.7/dist-packages (from nmslib>=1.7.3.6->scispacy) (5.4.8)\n",
            "Requirement already satisfied: chardet<4,>=3.0.2 in /usr/local/lib/python3.7/dist-packages (from requests<3.0.0,>=2.0.0->scispacy) (3.0.4)\n",
            "Requirement already satisfied: idna<3,>=2.5 in /usr/local/lib/python3.7/dist-packages (from requests<3.0.0,>=2.0.0->scispacy) (2.10)\n",
            "Requirement already satisfied: urllib3!=1.25.0,!=1.25.1,<1.26,>=1.21.1 in /usr/local/lib/python3.7/dist-packages (from requests<3.0.0,>=2.0.0->scispacy) (1.24.3)\n",
            "Requirement already satisfied: certifi>=2017.4.17 in /usr/local/lib/python3.7/dist-packages (from requests<3.0.0,>=2.0.0->scispacy) (2022.6.15)\n",
            "Requirement already satisfied: threadpoolctl>=2.0.0 in /usr/local/lib/python3.7/dist-packages (from scikit-learn>=0.20.3->scispacy) (3.1.0)\n",
            "Requirement already satisfied: scipy>=1.1.0 in /usr/local/lib/python3.7/dist-packages (from scikit-learn>=0.20.3->scispacy) (1.7.3)\n",
            "Requirement already satisfied: typer<0.5.0,>=0.3.0 in /usr/local/lib/python3.7/dist-packages (from spacy<3.3.0,>=3.2.0->scispacy) (0.4.2)\n",
            "Requirement already satisfied: tqdm<5.0.0,>=4.38.0 in /usr/local/lib/python3.7/dist-packages (from spacy<3.3.0,>=3.2.0->scispacy) (4.64.0)\n",
            "Requirement already satisfied: setuptools in /usr/local/lib/python3.7/dist-packages (from spacy<3.3.0,>=3.2.0->scispacy) (57.4.0)\n",
            "Requirement already satisfied: murmurhash<1.1.0,>=0.28.0 in /usr/local/lib/python3.7/dist-packages (from spacy<3.3.0,>=3.2.0->scispacy) (1.0.7)\n",
            "Requirement already satisfied: click<8.1.0 in /usr/local/lib/python3.7/dist-packages (from spacy<3.3.0,>=3.2.0->scispacy) (7.1.2)\n",
            "Requirement already satisfied: preshed<3.1.0,>=3.0.2 in /usr/local/lib/python3.7/dist-packages (from spacy<3.3.0,>=3.2.0->scispacy) (3.0.6)\n",
            "Requirement already satisfied: spacy-loggers<2.0.0,>=1.0.0 in /usr/local/lib/python3.7/dist-packages (from spacy<3.3.0,>=3.2.0->scispacy) (1.0.3)\n",
            "Requirement already satisfied: srsly<3.0.0,>=2.4.1 in /usr/local/lib/python3.7/dist-packages (from spacy<3.3.0,>=3.2.0->scispacy) (2.4.4)\n",
            "Requirement already satisfied: blis<0.8.0,>=0.4.0 in /usr/local/lib/python3.7/dist-packages (from spacy<3.3.0,>=3.2.0->scispacy) (0.7.8)\n",
            "Collecting pydantic!=1.8,!=1.8.1,<1.9.0,>=1.7.4\n",
            "  Downloading pydantic-1.8.2-cp37-cp37m-manylinux2014_x86_64.whl (10.1 MB)\n",
            "\u001b[K     |████████████████████████████████| 10.1 MB 52.6 MB/s \n",
            "\u001b[?25hCollecting typing-extensions<4.0.0.0,>=3.7.4\n",
            "  Downloading typing_extensions-3.10.0.2-py3-none-any.whl (26 kB)\n",
            "Collecting thinc<8.1.0,>=8.0.12\n",
            "  Downloading thinc-8.0.17-cp37-cp37m-manylinux_2_17_x86_64.manylinux2014_x86_64.whl (660 kB)\n",
            "\u001b[K     |████████████████████████████████| 660 kB 52.3 MB/s \n",
            "\u001b[?25hRequirement already satisfied: spacy-legacy<3.1.0,>=3.0.8 in /usr/local/lib/python3.7/dist-packages (from spacy<3.3.0,>=3.2.0->scispacy) (3.0.9)\n",
            "Requirement already satisfied: jinja2 in /usr/local/lib/python3.7/dist-packages (from spacy<3.3.0,>=3.2.0->scispacy) (2.11.3)\n",
            "Requirement already satisfied: wasabi<1.1.0,>=0.8.1 in /usr/local/lib/python3.7/dist-packages (from spacy<3.3.0,>=3.2.0->scispacy) (0.10.1)\n",
            "Requirement already satisfied: packaging>=20.0 in /usr/local/lib/python3.7/dist-packages (from spacy<3.3.0,>=3.2.0->scispacy) (21.3)\n",
            "Requirement already satisfied: langcodes<4.0.0,>=3.2.0 in /usr/local/lib/python3.7/dist-packages (from spacy<3.3.0,>=3.2.0->scispacy) (3.3.0)\n",
            "Requirement already satisfied: catalogue<2.1.0,>=2.0.6 in /usr/local/lib/python3.7/dist-packages (from spacy<3.3.0,>=3.2.0->scispacy) (2.0.8)\n",
            "Requirement already satisfied: pathy>=0.3.5 in /usr/local/lib/python3.7/dist-packages (from spacy<3.3.0,>=3.2.0->scispacy) (0.6.2)\n",
            "Requirement already satisfied: cymem<2.1.0,>=2.0.2 in /usr/local/lib/python3.7/dist-packages (from spacy<3.3.0,>=3.2.0->scispacy) (2.0.6)\n",
            "Requirement already satisfied: zipp>=0.5 in /usr/local/lib/python3.7/dist-packages (from catalogue<2.1.0,>=2.0.6->spacy<3.3.0,>=3.2.0->scispacy) (3.8.1)\n",
            "Requirement already satisfied: pyparsing!=3.0.5,>=2.0.2 in /usr/local/lib/python3.7/dist-packages (from packaging>=20.0->spacy<3.3.0,>=3.2.0->scispacy) (3.0.9)\n",
            "Requirement already satisfied: smart-open<6.0.0,>=5.2.1 in /usr/local/lib/python3.7/dist-packages (from pathy>=0.3.5->spacy<3.3.0,>=3.2.0->scispacy) (5.2.1)\n",
            "Requirement already satisfied: MarkupSafe>=0.23 in /usr/local/lib/python3.7/dist-packages (from jinja2->spacy<3.3.0,>=3.2.0->scispacy) (2.0.1)\n",
            "Installing collected packages: typing-extensions, pydantic, thinc, pybind11, spacy, pysbd, nmslib, conllu, scispacy\n",
            "  Attempting uninstall: typing-extensions\n",
            "    Found existing installation: typing-extensions 4.1.1\n",
            "    Uninstalling typing-extensions-4.1.1:\n",
            "      Successfully uninstalled typing-extensions-4.1.1\n",
            "  Attempting uninstall: pydantic\n",
            "    Found existing installation: pydantic 1.9.1\n",
            "    Uninstalling pydantic-1.9.1:\n",
            "      Successfully uninstalled pydantic-1.9.1\n",
            "  Attempting uninstall: thinc\n",
            "    Found existing installation: thinc 8.1.0\n",
            "    Uninstalling thinc-8.1.0:\n",
            "      Successfully uninstalled thinc-8.1.0\n",
            "  Attempting uninstall: spacy\n",
            "    Found existing installation: spacy 3.4.1\n",
            "    Uninstalling spacy-3.4.1:\n",
            "      Successfully uninstalled spacy-3.4.1\n",
            "\u001b[31mERROR: pip's dependency resolver does not currently take into account all the packages that are installed. This behaviour is the source of the following dependency conflicts.\n",
            "en-core-web-sm 3.4.0 requires spacy<3.5.0,>=3.4.0, but you have spacy 3.2.4 which is incompatible.\u001b[0m\n",
            "Successfully installed conllu-4.5.2 nmslib-2.1.1 pybind11-2.6.1 pydantic-1.8.2 pysbd-0.3.4 scispacy-0.5.0 spacy-3.2.4 thinc-8.0.17 typing-extensions-3.10.0.2\n"
          ]
        },
        {
          "output_type": "display_data",
          "data": {
            "application/vnd.colab-display-data+json": {
              "pip_warning": {
                "packages": [
                  "typing_extensions"
                ]
              }
            }
          },
          "metadata": {}
        }
      ]
    },
    {
      "cell_type": "code",
      "source": [
        "## Install scispaCy models\n",
        "!pip install https://s3-us-west-2.amazonaws.com/ai2-s2-scispacy/releases/v0.4.0/en_core_sci_sm-0.4.0.tar.gz\n",
        "!pip install https://s3-us-west-2.amazonaws.com/ai2-s2-scispacy/releases/v0.4.0/en_ner_craft_md-0.4.0.tar.gz\n",
        "!pip install https://s3-us-west-2.amazonaws.com/ai2-s2-scispacy/releases/v0.4.0/en_ner_jnlpba_md-0.4.0.tar.gz\n",
        "!pip install https://s3-us-west-2.amazonaws.com/ai2-s2-scispacy/releases/v0.4.0/en_ner_bc5cdr_md-0.4.0.tar.gz\n",
        "!pip install https://s3-us-west-2.amazonaws.com/ai2-s2-scispacy/releases/v0.4.0/en_ner_bionlp13cg_md-0.4.0.tar.gz\n",
        "!pip install https://s3-us-west-2.amazonaws.com/ai2-s2-scispacy/releases/v0.4.0/en_core_sci_lg-0.4.0.tar.gz"
      ],
      "metadata": {
        "id": "lxXzFCXjAxiD",
        "colab": {
          "base_uri": "https://localhost:8080/"
        },
        "outputId": "07fbb00e-d5d4-45c4-e144-434083b7bcb6"
      },
      "id": "lxXzFCXjAxiD",
      "execution_count": 49,
      "outputs": [
        {
          "output_type": "stream",
          "name": "stdout",
          "text": [
            "Looking in indexes: https://pypi.org/simple, https://us-python.pkg.dev/colab-wheels/public/simple/\n",
            "Collecting https://s3-us-west-2.amazonaws.com/ai2-s2-scispacy/releases/v0.4.0/en_core_sci_sm-0.4.0.tar.gz\n",
            "  Downloading https://s3-us-west-2.amazonaws.com/ai2-s2-scispacy/releases/v0.4.0/en_core_sci_sm-0.4.0.tar.gz (15.6 MB)\n",
            "\u001b[K     |████████████████████████████████| 15.6 MB 1.7 MB/s \n",
            "\u001b[?25hCollecting spacy<3.1.0,>=3.0.1\n",
            "  Downloading spacy-3.0.8-cp37-cp37m-manylinux_2_17_x86_64.manylinux2014_x86_64.whl (5.8 MB)\n",
            "\u001b[K     |████████████████████████████████| 5.8 MB 2.5 MB/s \n",
            "\u001b[?25hRequirement already satisfied: spacy-legacy<3.1.0,>=3.0.5 in /usr/local/lib/python3.7/dist-packages (from spacy<3.1.0,>=3.0.1->en-core-sci-sm==0.4.0) (3.0.9)\n",
            "Requirement already satisfied: pathy>=0.3.5 in /usr/local/lib/python3.7/dist-packages (from spacy<3.1.0,>=3.0.1->en-core-sci-sm==0.4.0) (0.6.2)\n",
            "Requirement already satisfied: cymem<2.1.0,>=2.0.2 in /usr/local/lib/python3.7/dist-packages (from spacy<3.1.0,>=3.0.1->en-core-sci-sm==0.4.0) (2.0.6)\n",
            "Requirement already satisfied: murmurhash<1.1.0,>=0.28.0 in /usr/local/lib/python3.7/dist-packages (from spacy<3.1.0,>=3.0.1->en-core-sci-sm==0.4.0) (1.0.7)\n",
            "Requirement already satisfied: jinja2 in /usr/local/lib/python3.7/dist-packages (from spacy<3.1.0,>=3.0.1->en-core-sci-sm==0.4.0) (2.11.3)\n",
            "Requirement already satisfied: tqdm<5.0.0,>=4.38.0 in /usr/local/lib/python3.7/dist-packages (from spacy<3.1.0,>=3.0.1->en-core-sci-sm==0.4.0) (4.64.0)\n",
            "Requirement already satisfied: setuptools in /usr/local/lib/python3.7/dist-packages (from spacy<3.1.0,>=3.0.1->en-core-sci-sm==0.4.0) (57.4.0)\n",
            "Requirement already satisfied: typing-extensions<4.0.0.0,>=3.7.4 in /usr/local/lib/python3.7/dist-packages (from spacy<3.1.0,>=3.0.1->en-core-sci-sm==0.4.0) (3.10.0.2)\n",
            "Requirement already satisfied: catalogue<2.1.0,>=2.0.4 in /usr/local/lib/python3.7/dist-packages (from spacy<3.1.0,>=3.0.1->en-core-sci-sm==0.4.0) (2.0.8)\n",
            "Requirement already satisfied: preshed<3.1.0,>=3.0.2 in /usr/local/lib/python3.7/dist-packages (from spacy<3.1.0,>=3.0.1->en-core-sci-sm==0.4.0) (3.0.6)\n",
            "Requirement already satisfied: wasabi<1.1.0,>=0.8.1 in /usr/local/lib/python3.7/dist-packages (from spacy<3.1.0,>=3.0.1->en-core-sci-sm==0.4.0) (0.10.1)\n",
            "Requirement already satisfied: pydantic!=1.8,!=1.8.1,<1.9.0,>=1.7.4 in /usr/local/lib/python3.7/dist-packages (from spacy<3.1.0,>=3.0.1->en-core-sci-sm==0.4.0) (1.8.2)\n",
            "Requirement already satisfied: srsly<3.0.0,>=2.4.1 in /usr/local/lib/python3.7/dist-packages (from spacy<3.1.0,>=3.0.1->en-core-sci-sm==0.4.0) (2.4.4)\n",
            "Requirement already satisfied: packaging>=20.0 in /usr/local/lib/python3.7/dist-packages (from spacy<3.1.0,>=3.0.1->en-core-sci-sm==0.4.0) (21.3)\n",
            "Requirement already satisfied: thinc<8.1.0,>=8.0.3 in /usr/local/lib/python3.7/dist-packages (from spacy<3.1.0,>=3.0.1->en-core-sci-sm==0.4.0) (8.0.17)\n",
            "Requirement already satisfied: blis<0.8.0,>=0.4.0 in /usr/local/lib/python3.7/dist-packages (from spacy<3.1.0,>=3.0.1->en-core-sci-sm==0.4.0) (0.7.8)\n",
            "Requirement already satisfied: requests<3.0.0,>=2.13.0 in /usr/local/lib/python3.7/dist-packages (from spacy<3.1.0,>=3.0.1->en-core-sci-sm==0.4.0) (2.23.0)\n",
            "Requirement already satisfied: numpy>=1.15.0 in /usr/local/lib/python3.7/dist-packages (from spacy<3.1.0,>=3.0.1->en-core-sci-sm==0.4.0) (1.21.6)\n",
            "Collecting typer<0.4.0,>=0.3.0\n",
            "  Downloading typer-0.3.2-py3-none-any.whl (21 kB)\n",
            "Requirement already satisfied: zipp>=0.5 in /usr/local/lib/python3.7/dist-packages (from catalogue<2.1.0,>=2.0.4->spacy<3.1.0,>=3.0.1->en-core-sci-sm==0.4.0) (3.8.1)\n",
            "Requirement already satisfied: pyparsing!=3.0.5,>=2.0.2 in /usr/local/lib/python3.7/dist-packages (from packaging>=20.0->spacy<3.1.0,>=3.0.1->en-core-sci-sm==0.4.0) (3.0.9)\n",
            "Requirement already satisfied: smart-open<6.0.0,>=5.2.1 in /usr/local/lib/python3.7/dist-packages (from pathy>=0.3.5->spacy<3.1.0,>=3.0.1->en-core-sci-sm==0.4.0) (5.2.1)\n",
            "Requirement already satisfied: idna<3,>=2.5 in /usr/local/lib/python3.7/dist-packages (from requests<3.0.0,>=2.13.0->spacy<3.1.0,>=3.0.1->en-core-sci-sm==0.4.0) (2.10)\n",
            "Requirement already satisfied: chardet<4,>=3.0.2 in /usr/local/lib/python3.7/dist-packages (from requests<3.0.0,>=2.13.0->spacy<3.1.0,>=3.0.1->en-core-sci-sm==0.4.0) (3.0.4)\n",
            "Requirement already satisfied: certifi>=2017.4.17 in /usr/local/lib/python3.7/dist-packages (from requests<3.0.0,>=2.13.0->spacy<3.1.0,>=3.0.1->en-core-sci-sm==0.4.0) (2022.6.15)\n",
            "Requirement already satisfied: urllib3!=1.25.0,!=1.25.1,<1.26,>=1.21.1 in /usr/local/lib/python3.7/dist-packages (from requests<3.0.0,>=2.13.0->spacy<3.1.0,>=3.0.1->en-core-sci-sm==0.4.0) (1.24.3)\n",
            "Requirement already satisfied: click<7.2.0,>=7.1.1 in /usr/local/lib/python3.7/dist-packages (from typer<0.4.0,>=0.3.0->spacy<3.1.0,>=3.0.1->en-core-sci-sm==0.4.0) (7.1.2)\n",
            "Requirement already satisfied: MarkupSafe>=0.23 in /usr/local/lib/python3.7/dist-packages (from jinja2->spacy<3.1.0,>=3.0.1->en-core-sci-sm==0.4.0) (2.0.1)\n",
            "Building wheels for collected packages: en-core-sci-sm\n",
            "  Building wheel for en-core-sci-sm (setup.py) ... \u001b[?25l\u001b[?25hdone\n",
            "  Created wheel for en-core-sci-sm: filename=en_core_sci_sm-0.4.0-py3-none-any.whl size=15660350 sha256=0a7e3731b7eccee821a4d3c4924506502740588d50ec33a3b4cdc41ef48bf254\n",
            "  Stored in directory: /root/.cache/pip/wheels/31/4b/3a/03f2732eb69789a7df3bf29c1bc010f660ada5f3c295d4073c\n",
            "Successfully built en-core-sci-sm\n",
            "Installing collected packages: typer, spacy, en-core-sci-sm\n",
            "  Attempting uninstall: typer\n",
            "    Found existing installation: typer 0.4.2\n",
            "    Uninstalling typer-0.4.2:\n",
            "      Successfully uninstalled typer-0.4.2\n",
            "  Attempting uninstall: spacy\n",
            "    Found existing installation: spacy 3.2.4\n",
            "    Uninstalling spacy-3.2.4:\n",
            "      Successfully uninstalled spacy-3.2.4\n",
            "\u001b[31mERROR: pip's dependency resolver does not currently take into account all the packages that are installed. This behaviour is the source of the following dependency conflicts.\n",
            "scispacy 0.5.0 requires spacy<3.3.0,>=3.2.0, but you have spacy 3.0.8 which is incompatible.\n",
            "en-core-web-sm 3.4.0 requires spacy<3.5.0,>=3.4.0, but you have spacy 3.0.8 which is incompatible.\u001b[0m\n",
            "Successfully installed en-core-sci-sm-0.4.0 spacy-3.0.8 typer-0.3.2\n",
            "Looking in indexes: https://pypi.org/simple, https://us-python.pkg.dev/colab-wheels/public/simple/\n",
            "Collecting https://s3-us-west-2.amazonaws.com/ai2-s2-scispacy/releases/v0.4.0/en_ner_craft_md-0.4.0.tar.gz\n",
            "  Downloading https://s3-us-west-2.amazonaws.com/ai2-s2-scispacy/releases/v0.4.0/en_ner_craft_md-0.4.0.tar.gz (125.1 MB)\n",
            "\u001b[K     |████████████████████████████████| 125.1 MB 41 kB/s \n",
            "\u001b[?25hRequirement already satisfied: spacy<3.1.0,>=3.0.1 in /usr/local/lib/python3.7/dist-packages (from en-ner-craft-md==0.4.0) (3.0.8)\n",
            "Requirement already satisfied: requests<3.0.0,>=2.13.0 in /usr/local/lib/python3.7/dist-packages (from spacy<3.1.0,>=3.0.1->en-ner-craft-md==0.4.0) (2.23.0)\n",
            "Requirement already satisfied: spacy-legacy<3.1.0,>=3.0.5 in /usr/local/lib/python3.7/dist-packages (from spacy<3.1.0,>=3.0.1->en-ner-craft-md==0.4.0) (3.0.9)\n",
            "Requirement already satisfied: cymem<2.1.0,>=2.0.2 in /usr/local/lib/python3.7/dist-packages (from spacy<3.1.0,>=3.0.1->en-ner-craft-md==0.4.0) (2.0.6)\n",
            "Requirement already satisfied: typing-extensions<4.0.0.0,>=3.7.4 in /usr/local/lib/python3.7/dist-packages (from spacy<3.1.0,>=3.0.1->en-ner-craft-md==0.4.0) (3.10.0.2)\n",
            "Requirement already satisfied: setuptools in /usr/local/lib/python3.7/dist-packages (from spacy<3.1.0,>=3.0.1->en-ner-craft-md==0.4.0) (57.4.0)\n",
            "Requirement already satisfied: srsly<3.0.0,>=2.4.1 in /usr/local/lib/python3.7/dist-packages (from spacy<3.1.0,>=3.0.1->en-ner-craft-md==0.4.0) (2.4.4)\n",
            "Requirement already satisfied: packaging>=20.0 in /usr/local/lib/python3.7/dist-packages (from spacy<3.1.0,>=3.0.1->en-ner-craft-md==0.4.0) (21.3)\n",
            "Requirement already satisfied: pathy>=0.3.5 in /usr/local/lib/python3.7/dist-packages (from spacy<3.1.0,>=3.0.1->en-ner-craft-md==0.4.0) (0.6.2)\n",
            "Requirement already satisfied: preshed<3.1.0,>=3.0.2 in /usr/local/lib/python3.7/dist-packages (from spacy<3.1.0,>=3.0.1->en-ner-craft-md==0.4.0) (3.0.6)\n",
            "Requirement already satisfied: jinja2 in /usr/local/lib/python3.7/dist-packages (from spacy<3.1.0,>=3.0.1->en-ner-craft-md==0.4.0) (2.11.3)\n",
            "Requirement already satisfied: murmurhash<1.1.0,>=0.28.0 in /usr/local/lib/python3.7/dist-packages (from spacy<3.1.0,>=3.0.1->en-ner-craft-md==0.4.0) (1.0.7)\n",
            "Requirement already satisfied: tqdm<5.0.0,>=4.38.0 in /usr/local/lib/python3.7/dist-packages (from spacy<3.1.0,>=3.0.1->en-ner-craft-md==0.4.0) (4.64.0)\n",
            "Requirement already satisfied: pydantic!=1.8,!=1.8.1,<1.9.0,>=1.7.4 in /usr/local/lib/python3.7/dist-packages (from spacy<3.1.0,>=3.0.1->en-ner-craft-md==0.4.0) (1.8.2)\n",
            "Requirement already satisfied: numpy>=1.15.0 in /usr/local/lib/python3.7/dist-packages (from spacy<3.1.0,>=3.0.1->en-ner-craft-md==0.4.0) (1.21.6)\n",
            "Requirement already satisfied: thinc<8.1.0,>=8.0.3 in /usr/local/lib/python3.7/dist-packages (from spacy<3.1.0,>=3.0.1->en-ner-craft-md==0.4.0) (8.0.17)\n",
            "Requirement already satisfied: typer<0.4.0,>=0.3.0 in /usr/local/lib/python3.7/dist-packages (from spacy<3.1.0,>=3.0.1->en-ner-craft-md==0.4.0) (0.3.2)\n",
            "Requirement already satisfied: blis<0.8.0,>=0.4.0 in /usr/local/lib/python3.7/dist-packages (from spacy<3.1.0,>=3.0.1->en-ner-craft-md==0.4.0) (0.7.8)\n",
            "Requirement already satisfied: catalogue<2.1.0,>=2.0.4 in /usr/local/lib/python3.7/dist-packages (from spacy<3.1.0,>=3.0.1->en-ner-craft-md==0.4.0) (2.0.8)\n",
            "Requirement already satisfied: wasabi<1.1.0,>=0.8.1 in /usr/local/lib/python3.7/dist-packages (from spacy<3.1.0,>=3.0.1->en-ner-craft-md==0.4.0) (0.10.1)\n",
            "Requirement already satisfied: zipp>=0.5 in /usr/local/lib/python3.7/dist-packages (from catalogue<2.1.0,>=2.0.4->spacy<3.1.0,>=3.0.1->en-ner-craft-md==0.4.0) (3.8.1)\n",
            "Requirement already satisfied: pyparsing!=3.0.5,>=2.0.2 in /usr/local/lib/python3.7/dist-packages (from packaging>=20.0->spacy<3.1.0,>=3.0.1->en-ner-craft-md==0.4.0) (3.0.9)\n",
            "Requirement already satisfied: smart-open<6.0.0,>=5.2.1 in /usr/local/lib/python3.7/dist-packages (from pathy>=0.3.5->spacy<3.1.0,>=3.0.1->en-ner-craft-md==0.4.0) (5.2.1)\n",
            "Requirement already satisfied: chardet<4,>=3.0.2 in /usr/local/lib/python3.7/dist-packages (from requests<3.0.0,>=2.13.0->spacy<3.1.0,>=3.0.1->en-ner-craft-md==0.4.0) (3.0.4)\n",
            "Requirement already satisfied: idna<3,>=2.5 in /usr/local/lib/python3.7/dist-packages (from requests<3.0.0,>=2.13.0->spacy<3.1.0,>=3.0.1->en-ner-craft-md==0.4.0) (2.10)\n",
            "Requirement already satisfied: urllib3!=1.25.0,!=1.25.1,<1.26,>=1.21.1 in /usr/local/lib/python3.7/dist-packages (from requests<3.0.0,>=2.13.0->spacy<3.1.0,>=3.0.1->en-ner-craft-md==0.4.0) (1.24.3)\n",
            "Requirement already satisfied: certifi>=2017.4.17 in /usr/local/lib/python3.7/dist-packages (from requests<3.0.0,>=2.13.0->spacy<3.1.0,>=3.0.1->en-ner-craft-md==0.4.0) (2022.6.15)\n",
            "Requirement already satisfied: click<7.2.0,>=7.1.1 in /usr/local/lib/python3.7/dist-packages (from typer<0.4.0,>=0.3.0->spacy<3.1.0,>=3.0.1->en-ner-craft-md==0.4.0) (7.1.2)\n",
            "Requirement already satisfied: MarkupSafe>=0.23 in /usr/local/lib/python3.7/dist-packages (from jinja2->spacy<3.1.0,>=3.0.1->en-ner-craft-md==0.4.0) (2.0.1)\n",
            "Building wheels for collected packages: en-ner-craft-md\n",
            "  Building wheel for en-ner-craft-md (setup.py) ... \u001b[?25l\u001b[?25hdone\n",
            "  Created wheel for en-ner-craft-md: filename=en_ner_craft_md-0.4.0-py3-none-any.whl size=125689480 sha256=d25ee5b70f688b457da6a2208152a2c6a0ca2a5d46aa8cffa8e3786f8364d5ae\n",
            "  Stored in directory: /root/.cache/pip/wheels/dd/f9/93/049ab5343fded423d6a809bcf595f4cfdd955404382fa8f085\n",
            "Successfully built en-ner-craft-md\n",
            "Installing collected packages: en-ner-craft-md\n",
            "Successfully installed en-ner-craft-md-0.4.0\n",
            "Looking in indexes: https://pypi.org/simple, https://us-python.pkg.dev/colab-wheels/public/simple/\n",
            "Collecting https://s3-us-west-2.amazonaws.com/ai2-s2-scispacy/releases/v0.4.0/en_ner_jnlpba_md-0.4.0.tar.gz\n",
            "  Downloading https://s3-us-west-2.amazonaws.com/ai2-s2-scispacy/releases/v0.4.0/en_ner_jnlpba_md-0.4.0.tar.gz (125.1 MB)\n",
            "\u001b[K     |████████████████████████████████| 125.1 MB 58 kB/s \n",
            "\u001b[?25hRequirement already satisfied: spacy<3.1.0,>=3.0.1 in /usr/local/lib/python3.7/dist-packages (from en-ner-jnlpba-md==0.4.0) (3.0.8)\n",
            "Requirement already satisfied: jinja2 in /usr/local/lib/python3.7/dist-packages (from spacy<3.1.0,>=3.0.1->en-ner-jnlpba-md==0.4.0) (2.11.3)\n",
            "Requirement already satisfied: cymem<2.1.0,>=2.0.2 in /usr/local/lib/python3.7/dist-packages (from spacy<3.1.0,>=3.0.1->en-ner-jnlpba-md==0.4.0) (2.0.6)\n",
            "Requirement already satisfied: blis<0.8.0,>=0.4.0 in /usr/local/lib/python3.7/dist-packages (from spacy<3.1.0,>=3.0.1->en-ner-jnlpba-md==0.4.0) (0.7.8)\n",
            "Requirement already satisfied: setuptools in /usr/local/lib/python3.7/dist-packages (from spacy<3.1.0,>=3.0.1->en-ner-jnlpba-md==0.4.0) (57.4.0)\n",
            "Requirement already satisfied: preshed<3.1.0,>=3.0.2 in /usr/local/lib/python3.7/dist-packages (from spacy<3.1.0,>=3.0.1->en-ner-jnlpba-md==0.4.0) (3.0.6)\n",
            "Requirement already satisfied: thinc<8.1.0,>=8.0.3 in /usr/local/lib/python3.7/dist-packages (from spacy<3.1.0,>=3.0.1->en-ner-jnlpba-md==0.4.0) (8.0.17)\n",
            "Requirement already satisfied: typing-extensions<4.0.0.0,>=3.7.4 in /usr/local/lib/python3.7/dist-packages (from spacy<3.1.0,>=3.0.1->en-ner-jnlpba-md==0.4.0) (3.10.0.2)\n",
            "Requirement already satisfied: typer<0.4.0,>=0.3.0 in /usr/local/lib/python3.7/dist-packages (from spacy<3.1.0,>=3.0.1->en-ner-jnlpba-md==0.4.0) (0.3.2)\n",
            "Requirement already satisfied: catalogue<2.1.0,>=2.0.4 in /usr/local/lib/python3.7/dist-packages (from spacy<3.1.0,>=3.0.1->en-ner-jnlpba-md==0.4.0) (2.0.8)\n",
            "Requirement already satisfied: tqdm<5.0.0,>=4.38.0 in /usr/local/lib/python3.7/dist-packages (from spacy<3.1.0,>=3.0.1->en-ner-jnlpba-md==0.4.0) (4.64.0)\n",
            "Requirement already satisfied: numpy>=1.15.0 in /usr/local/lib/python3.7/dist-packages (from spacy<3.1.0,>=3.0.1->en-ner-jnlpba-md==0.4.0) (1.21.6)\n",
            "Requirement already satisfied: murmurhash<1.1.0,>=0.28.0 in /usr/local/lib/python3.7/dist-packages (from spacy<3.1.0,>=3.0.1->en-ner-jnlpba-md==0.4.0) (1.0.7)\n",
            "Requirement already satisfied: srsly<3.0.0,>=2.4.1 in /usr/local/lib/python3.7/dist-packages (from spacy<3.1.0,>=3.0.1->en-ner-jnlpba-md==0.4.0) (2.4.4)\n",
            "Requirement already satisfied: packaging>=20.0 in /usr/local/lib/python3.7/dist-packages (from spacy<3.1.0,>=3.0.1->en-ner-jnlpba-md==0.4.0) (21.3)\n",
            "Requirement already satisfied: pathy>=0.3.5 in /usr/local/lib/python3.7/dist-packages (from spacy<3.1.0,>=3.0.1->en-ner-jnlpba-md==0.4.0) (0.6.2)\n",
            "Requirement already satisfied: wasabi<1.1.0,>=0.8.1 in /usr/local/lib/python3.7/dist-packages (from spacy<3.1.0,>=3.0.1->en-ner-jnlpba-md==0.4.0) (0.10.1)\n",
            "Requirement already satisfied: requests<3.0.0,>=2.13.0 in /usr/local/lib/python3.7/dist-packages (from spacy<3.1.0,>=3.0.1->en-ner-jnlpba-md==0.4.0) (2.23.0)\n",
            "Requirement already satisfied: spacy-legacy<3.1.0,>=3.0.5 in /usr/local/lib/python3.7/dist-packages (from spacy<3.1.0,>=3.0.1->en-ner-jnlpba-md==0.4.0) (3.0.9)\n",
            "Requirement already satisfied: pydantic!=1.8,!=1.8.1,<1.9.0,>=1.7.4 in /usr/local/lib/python3.7/dist-packages (from spacy<3.1.0,>=3.0.1->en-ner-jnlpba-md==0.4.0) (1.8.2)\n",
            "Requirement already satisfied: zipp>=0.5 in /usr/local/lib/python3.7/dist-packages (from catalogue<2.1.0,>=2.0.4->spacy<3.1.0,>=3.0.1->en-ner-jnlpba-md==0.4.0) (3.8.1)\n",
            "Requirement already satisfied: pyparsing!=3.0.5,>=2.0.2 in /usr/local/lib/python3.7/dist-packages (from packaging>=20.0->spacy<3.1.0,>=3.0.1->en-ner-jnlpba-md==0.4.0) (3.0.9)\n",
            "Requirement already satisfied: smart-open<6.0.0,>=5.2.1 in /usr/local/lib/python3.7/dist-packages (from pathy>=0.3.5->spacy<3.1.0,>=3.0.1->en-ner-jnlpba-md==0.4.0) (5.2.1)\n",
            "Requirement already satisfied: chardet<4,>=3.0.2 in /usr/local/lib/python3.7/dist-packages (from requests<3.0.0,>=2.13.0->spacy<3.1.0,>=3.0.1->en-ner-jnlpba-md==0.4.0) (3.0.4)\n",
            "Requirement already satisfied: certifi>=2017.4.17 in /usr/local/lib/python3.7/dist-packages (from requests<3.0.0,>=2.13.0->spacy<3.1.0,>=3.0.1->en-ner-jnlpba-md==0.4.0) (2022.6.15)\n",
            "Requirement already satisfied: idna<3,>=2.5 in /usr/local/lib/python3.7/dist-packages (from requests<3.0.0,>=2.13.0->spacy<3.1.0,>=3.0.1->en-ner-jnlpba-md==0.4.0) (2.10)\n",
            "Requirement already satisfied: urllib3!=1.25.0,!=1.25.1,<1.26,>=1.21.1 in /usr/local/lib/python3.7/dist-packages (from requests<3.0.0,>=2.13.0->spacy<3.1.0,>=3.0.1->en-ner-jnlpba-md==0.4.0) (1.24.3)\n",
            "Requirement already satisfied: click<7.2.0,>=7.1.1 in /usr/local/lib/python3.7/dist-packages (from typer<0.4.0,>=0.3.0->spacy<3.1.0,>=3.0.1->en-ner-jnlpba-md==0.4.0) (7.1.2)\n",
            "Requirement already satisfied: MarkupSafe>=0.23 in /usr/local/lib/python3.7/dist-packages (from jinja2->spacy<3.1.0,>=3.0.1->en-ner-jnlpba-md==0.4.0) (2.0.1)\n",
            "Building wheels for collected packages: en-ner-jnlpba-md\n",
            "  Building wheel for en-ner-jnlpba-md (setup.py) ... \u001b[?25l\u001b[?25hdone\n",
            "  Created wheel for en-ner-jnlpba-md: filename=en_ner_jnlpba_md-0.4.0-py3-none-any.whl size=125691806 sha256=2dd8abd1d046ee36dd14efd209ad3ac39e0f44542d3bacfa0bb976d7aa18211b\n",
            "  Stored in directory: /root/.cache/pip/wheels/ed/83/4a/2e7f532ded1476eb3750f2dec8ae8e1ebd0d890ca29c9146c7\n",
            "Successfully built en-ner-jnlpba-md\n",
            "Installing collected packages: en-ner-jnlpba-md\n",
            "Successfully installed en-ner-jnlpba-md-0.4.0\n",
            "Looking in indexes: https://pypi.org/simple, https://us-python.pkg.dev/colab-wheels/public/simple/\n",
            "Collecting https://s3-us-west-2.amazonaws.com/ai2-s2-scispacy/releases/v0.4.0/en_ner_bc5cdr_md-0.4.0.tar.gz\n",
            "  Downloading https://s3-us-west-2.amazonaws.com/ai2-s2-scispacy/releases/v0.4.0/en_ner_bc5cdr_md-0.4.0.tar.gz (125.1 MB)\n",
            "\u001b[K     |████████████████████████████████| 125.1 MB 35 kB/s \n",
            "\u001b[?25hRequirement already satisfied: spacy<3.1.0,>=3.0.1 in /usr/local/lib/python3.7/dist-packages (from en-ner-bc5cdr-md==0.4.0) (3.0.8)\n",
            "Requirement already satisfied: packaging>=20.0 in /usr/local/lib/python3.7/dist-packages (from spacy<3.1.0,>=3.0.1->en-ner-bc5cdr-md==0.4.0) (21.3)\n",
            "Requirement already satisfied: setuptools in /usr/local/lib/python3.7/dist-packages (from spacy<3.1.0,>=3.0.1->en-ner-bc5cdr-md==0.4.0) (57.4.0)\n",
            "Requirement already satisfied: requests<3.0.0,>=2.13.0 in /usr/local/lib/python3.7/dist-packages (from spacy<3.1.0,>=3.0.1->en-ner-bc5cdr-md==0.4.0) (2.23.0)\n",
            "Requirement already satisfied: srsly<3.0.0,>=2.4.1 in /usr/local/lib/python3.7/dist-packages (from spacy<3.1.0,>=3.0.1->en-ner-bc5cdr-md==0.4.0) (2.4.4)\n",
            "Requirement already satisfied: cymem<2.1.0,>=2.0.2 in /usr/local/lib/python3.7/dist-packages (from spacy<3.1.0,>=3.0.1->en-ner-bc5cdr-md==0.4.0) (2.0.6)\n",
            "Requirement already satisfied: typer<0.4.0,>=0.3.0 in /usr/local/lib/python3.7/dist-packages (from spacy<3.1.0,>=3.0.1->en-ner-bc5cdr-md==0.4.0) (0.3.2)\n",
            "Requirement already satisfied: catalogue<2.1.0,>=2.0.4 in /usr/local/lib/python3.7/dist-packages (from spacy<3.1.0,>=3.0.1->en-ner-bc5cdr-md==0.4.0) (2.0.8)\n",
            "Requirement already satisfied: pathy>=0.3.5 in /usr/local/lib/python3.7/dist-packages (from spacy<3.1.0,>=3.0.1->en-ner-bc5cdr-md==0.4.0) (0.6.2)\n",
            "Requirement already satisfied: spacy-legacy<3.1.0,>=3.0.5 in /usr/local/lib/python3.7/dist-packages (from spacy<3.1.0,>=3.0.1->en-ner-bc5cdr-md==0.4.0) (3.0.9)\n",
            "Requirement already satisfied: wasabi<1.1.0,>=0.8.1 in /usr/local/lib/python3.7/dist-packages (from spacy<3.1.0,>=3.0.1->en-ner-bc5cdr-md==0.4.0) (0.10.1)\n",
            "Requirement already satisfied: jinja2 in /usr/local/lib/python3.7/dist-packages (from spacy<3.1.0,>=3.0.1->en-ner-bc5cdr-md==0.4.0) (2.11.3)\n",
            "Requirement already satisfied: numpy>=1.15.0 in /usr/local/lib/python3.7/dist-packages (from spacy<3.1.0,>=3.0.1->en-ner-bc5cdr-md==0.4.0) (1.21.6)\n",
            "Requirement already satisfied: murmurhash<1.1.0,>=0.28.0 in /usr/local/lib/python3.7/dist-packages (from spacy<3.1.0,>=3.0.1->en-ner-bc5cdr-md==0.4.0) (1.0.7)\n",
            "Requirement already satisfied: preshed<3.1.0,>=3.0.2 in /usr/local/lib/python3.7/dist-packages (from spacy<3.1.0,>=3.0.1->en-ner-bc5cdr-md==0.4.0) (3.0.6)\n",
            "Requirement already satisfied: tqdm<5.0.0,>=4.38.0 in /usr/local/lib/python3.7/dist-packages (from spacy<3.1.0,>=3.0.1->en-ner-bc5cdr-md==0.4.0) (4.64.0)\n",
            "Requirement already satisfied: typing-extensions<4.0.0.0,>=3.7.4 in /usr/local/lib/python3.7/dist-packages (from spacy<3.1.0,>=3.0.1->en-ner-bc5cdr-md==0.4.0) (3.10.0.2)\n",
            "Requirement already satisfied: pydantic!=1.8,!=1.8.1,<1.9.0,>=1.7.4 in /usr/local/lib/python3.7/dist-packages (from spacy<3.1.0,>=3.0.1->en-ner-bc5cdr-md==0.4.0) (1.8.2)\n",
            "Requirement already satisfied: blis<0.8.0,>=0.4.0 in /usr/local/lib/python3.7/dist-packages (from spacy<3.1.0,>=3.0.1->en-ner-bc5cdr-md==0.4.0) (0.7.8)\n",
            "Requirement already satisfied: thinc<8.1.0,>=8.0.3 in /usr/local/lib/python3.7/dist-packages (from spacy<3.1.0,>=3.0.1->en-ner-bc5cdr-md==0.4.0) (8.0.17)\n",
            "Requirement already satisfied: zipp>=0.5 in /usr/local/lib/python3.7/dist-packages (from catalogue<2.1.0,>=2.0.4->spacy<3.1.0,>=3.0.1->en-ner-bc5cdr-md==0.4.0) (3.8.1)\n",
            "Requirement already satisfied: pyparsing!=3.0.5,>=2.0.2 in /usr/local/lib/python3.7/dist-packages (from packaging>=20.0->spacy<3.1.0,>=3.0.1->en-ner-bc5cdr-md==0.4.0) (3.0.9)\n",
            "Requirement already satisfied: smart-open<6.0.0,>=5.2.1 in /usr/local/lib/python3.7/dist-packages (from pathy>=0.3.5->spacy<3.1.0,>=3.0.1->en-ner-bc5cdr-md==0.4.0) (5.2.1)\n",
            "Requirement already satisfied: urllib3!=1.25.0,!=1.25.1,<1.26,>=1.21.1 in /usr/local/lib/python3.7/dist-packages (from requests<3.0.0,>=2.13.0->spacy<3.1.0,>=3.0.1->en-ner-bc5cdr-md==0.4.0) (1.24.3)\n",
            "Requirement already satisfied: chardet<4,>=3.0.2 in /usr/local/lib/python3.7/dist-packages (from requests<3.0.0,>=2.13.0->spacy<3.1.0,>=3.0.1->en-ner-bc5cdr-md==0.4.0) (3.0.4)\n",
            "Requirement already satisfied: idna<3,>=2.5 in /usr/local/lib/python3.7/dist-packages (from requests<3.0.0,>=2.13.0->spacy<3.1.0,>=3.0.1->en-ner-bc5cdr-md==0.4.0) (2.10)\n",
            "Requirement already satisfied: certifi>=2017.4.17 in /usr/local/lib/python3.7/dist-packages (from requests<3.0.0,>=2.13.0->spacy<3.1.0,>=3.0.1->en-ner-bc5cdr-md==0.4.0) (2022.6.15)\n",
            "Requirement already satisfied: click<7.2.0,>=7.1.1 in /usr/local/lib/python3.7/dist-packages (from typer<0.4.0,>=0.3.0->spacy<3.1.0,>=3.0.1->en-ner-bc5cdr-md==0.4.0) (7.1.2)\n",
            "Requirement already satisfied: MarkupSafe>=0.23 in /usr/local/lib/python3.7/dist-packages (from jinja2->spacy<3.1.0,>=3.0.1->en-ner-bc5cdr-md==0.4.0) (2.0.1)\n",
            "Building wheels for collected packages: en-ner-bc5cdr-md\n",
            "  Building wheel for en-ner-bc5cdr-md (setup.py) ... \u001b[?25l\u001b[?25hdone\n",
            "  Created wheel for en-ner-bc5cdr-md: filename=en_ner_bc5cdr_md-0.4.0-py3-none-any.whl size=125666883 sha256=2538238c83a9f3dfa0b74af33d373ac21cf0221d07600a06db8ae9ac7639ceff\n",
            "  Stored in directory: /root/.cache/pip/wheels/6a/17/04/ed8f50ffdcb9b9e4ce601c0c3cf88361f2b3f54a10c0fa0803\n",
            "Successfully built en-ner-bc5cdr-md\n",
            "Installing collected packages: en-ner-bc5cdr-md\n",
            "Successfully installed en-ner-bc5cdr-md-0.4.0\n",
            "Looking in indexes: https://pypi.org/simple, https://us-python.pkg.dev/colab-wheels/public/simple/\n",
            "Collecting https://s3-us-west-2.amazonaws.com/ai2-s2-scispacy/releases/v0.4.0/en_ner_bionlp13cg_md-0.4.0.tar.gz\n",
            "  Downloading https://s3-us-west-2.amazonaws.com/ai2-s2-scispacy/releases/v0.4.0/en_ner_bionlp13cg_md-0.4.0.tar.gz (125.1 MB)\n",
            "\u001b[K     |████████████████████████████████| 125.1 MB 55 kB/s \n",
            "\u001b[?25hRequirement already satisfied: spacy<3.1.0,>=3.0.1 in /usr/local/lib/python3.7/dist-packages (from en-ner-bionlp13cg-md==0.4.0) (3.0.8)\n",
            "Requirement already satisfied: typer<0.4.0,>=0.3.0 in /usr/local/lib/python3.7/dist-packages (from spacy<3.1.0,>=3.0.1->en-ner-bionlp13cg-md==0.4.0) (0.3.2)\n",
            "Requirement already satisfied: jinja2 in /usr/local/lib/python3.7/dist-packages (from spacy<3.1.0,>=3.0.1->en-ner-bionlp13cg-md==0.4.0) (2.11.3)\n",
            "Requirement already satisfied: catalogue<2.1.0,>=2.0.4 in /usr/local/lib/python3.7/dist-packages (from spacy<3.1.0,>=3.0.1->en-ner-bionlp13cg-md==0.4.0) (2.0.8)\n",
            "Requirement already satisfied: srsly<3.0.0,>=2.4.1 in /usr/local/lib/python3.7/dist-packages (from spacy<3.1.0,>=3.0.1->en-ner-bionlp13cg-md==0.4.0) (2.4.4)\n",
            "Requirement already satisfied: blis<0.8.0,>=0.4.0 in /usr/local/lib/python3.7/dist-packages (from spacy<3.1.0,>=3.0.1->en-ner-bionlp13cg-md==0.4.0) (0.7.8)\n",
            "Requirement already satisfied: thinc<8.1.0,>=8.0.3 in /usr/local/lib/python3.7/dist-packages (from spacy<3.1.0,>=3.0.1->en-ner-bionlp13cg-md==0.4.0) (8.0.17)\n",
            "Requirement already satisfied: cymem<2.1.0,>=2.0.2 in /usr/local/lib/python3.7/dist-packages (from spacy<3.1.0,>=3.0.1->en-ner-bionlp13cg-md==0.4.0) (2.0.6)\n",
            "Requirement already satisfied: typing-extensions<4.0.0.0,>=3.7.4 in /usr/local/lib/python3.7/dist-packages (from spacy<3.1.0,>=3.0.1->en-ner-bionlp13cg-md==0.4.0) (3.10.0.2)\n",
            "Requirement already satisfied: pathy>=0.3.5 in /usr/local/lib/python3.7/dist-packages (from spacy<3.1.0,>=3.0.1->en-ner-bionlp13cg-md==0.4.0) (0.6.2)\n",
            "Requirement already satisfied: spacy-legacy<3.1.0,>=3.0.5 in /usr/local/lib/python3.7/dist-packages (from spacy<3.1.0,>=3.0.1->en-ner-bionlp13cg-md==0.4.0) (3.0.9)\n",
            "Requirement already satisfied: pydantic!=1.8,!=1.8.1,<1.9.0,>=1.7.4 in /usr/local/lib/python3.7/dist-packages (from spacy<3.1.0,>=3.0.1->en-ner-bionlp13cg-md==0.4.0) (1.8.2)\n",
            "Requirement already satisfied: packaging>=20.0 in /usr/local/lib/python3.7/dist-packages (from spacy<3.1.0,>=3.0.1->en-ner-bionlp13cg-md==0.4.0) (21.3)\n",
            "Requirement already satisfied: murmurhash<1.1.0,>=0.28.0 in /usr/local/lib/python3.7/dist-packages (from spacy<3.1.0,>=3.0.1->en-ner-bionlp13cg-md==0.4.0) (1.0.7)\n",
            "Requirement already satisfied: requests<3.0.0,>=2.13.0 in /usr/local/lib/python3.7/dist-packages (from spacy<3.1.0,>=3.0.1->en-ner-bionlp13cg-md==0.4.0) (2.23.0)\n",
            "Requirement already satisfied: preshed<3.1.0,>=3.0.2 in /usr/local/lib/python3.7/dist-packages (from spacy<3.1.0,>=3.0.1->en-ner-bionlp13cg-md==0.4.0) (3.0.6)\n",
            "Requirement already satisfied: setuptools in /usr/local/lib/python3.7/dist-packages (from spacy<3.1.0,>=3.0.1->en-ner-bionlp13cg-md==0.4.0) (57.4.0)\n",
            "Requirement already satisfied: tqdm<5.0.0,>=4.38.0 in /usr/local/lib/python3.7/dist-packages (from spacy<3.1.0,>=3.0.1->en-ner-bionlp13cg-md==0.4.0) (4.64.0)\n",
            "Requirement already satisfied: numpy>=1.15.0 in /usr/local/lib/python3.7/dist-packages (from spacy<3.1.0,>=3.0.1->en-ner-bionlp13cg-md==0.4.0) (1.21.6)\n",
            "Requirement already satisfied: wasabi<1.1.0,>=0.8.1 in /usr/local/lib/python3.7/dist-packages (from spacy<3.1.0,>=3.0.1->en-ner-bionlp13cg-md==0.4.0) (0.10.1)\n",
            "Requirement already satisfied: zipp>=0.5 in /usr/local/lib/python3.7/dist-packages (from catalogue<2.1.0,>=2.0.4->spacy<3.1.0,>=3.0.1->en-ner-bionlp13cg-md==0.4.0) (3.8.1)\n",
            "Requirement already satisfied: pyparsing!=3.0.5,>=2.0.2 in /usr/local/lib/python3.7/dist-packages (from packaging>=20.0->spacy<3.1.0,>=3.0.1->en-ner-bionlp13cg-md==0.4.0) (3.0.9)\n",
            "Requirement already satisfied: smart-open<6.0.0,>=5.2.1 in /usr/local/lib/python3.7/dist-packages (from pathy>=0.3.5->spacy<3.1.0,>=3.0.1->en-ner-bionlp13cg-md==0.4.0) (5.2.1)\n",
            "Requirement already satisfied: urllib3!=1.25.0,!=1.25.1,<1.26,>=1.21.1 in /usr/local/lib/python3.7/dist-packages (from requests<3.0.0,>=2.13.0->spacy<3.1.0,>=3.0.1->en-ner-bionlp13cg-md==0.4.0) (1.24.3)\n",
            "Requirement already satisfied: certifi>=2017.4.17 in /usr/local/lib/python3.7/dist-packages (from requests<3.0.0,>=2.13.0->spacy<3.1.0,>=3.0.1->en-ner-bionlp13cg-md==0.4.0) (2022.6.15)\n",
            "Requirement already satisfied: idna<3,>=2.5 in /usr/local/lib/python3.7/dist-packages (from requests<3.0.0,>=2.13.0->spacy<3.1.0,>=3.0.1->en-ner-bionlp13cg-md==0.4.0) (2.10)\n",
            "Requirement already satisfied: chardet<4,>=3.0.2 in /usr/local/lib/python3.7/dist-packages (from requests<3.0.0,>=2.13.0->spacy<3.1.0,>=3.0.1->en-ner-bionlp13cg-md==0.4.0) (3.0.4)\n",
            "Requirement already satisfied: click<7.2.0,>=7.1.1 in /usr/local/lib/python3.7/dist-packages (from typer<0.4.0,>=0.3.0->spacy<3.1.0,>=3.0.1->en-ner-bionlp13cg-md==0.4.0) (7.1.2)\n",
            "Requirement already satisfied: MarkupSafe>=0.23 in /usr/local/lib/python3.7/dist-packages (from jinja2->spacy<3.1.0,>=3.0.1->en-ner-bionlp13cg-md==0.4.0) (2.0.1)\n",
            "Building wheels for collected packages: en-ner-bionlp13cg-md\n",
            "  Building wheel for en-ner-bionlp13cg-md (setup.py) ... \u001b[?25l\u001b[?25hdone\n",
            "  Created wheel for en-ner-bionlp13cg-md: filename=en_ner_bionlp13cg_md-0.4.0-py3-none-any.whl size=125679333 sha256=18e00b219c64f637e4ba2f51f0572abd8f01309ed6d6f3a833c03dcf752064fd\n",
            "  Stored in directory: /root/.cache/pip/wheels/dd/33/4a/14c949fd6eac7b0b20f15f111f1d3a2847e26e509d0a184d3d\n",
            "Successfully built en-ner-bionlp13cg-md\n",
            "Installing collected packages: en-ner-bionlp13cg-md\n",
            "Successfully installed en-ner-bionlp13cg-md-0.4.0\n",
            "Looking in indexes: https://pypi.org/simple, https://us-python.pkg.dev/colab-wheels/public/simple/\n",
            "Collecting https://s3-us-west-2.amazonaws.com/ai2-s2-scispacy/releases/v0.4.0/en_core_sci_lg-0.4.0.tar.gz\n",
            "  Downloading https://s3-us-west-2.amazonaws.com/ai2-s2-scispacy/releases/v0.4.0/en_core_sci_lg-0.4.0.tar.gz (538.1 MB)\n",
            "\u001b[K     |████████████████████████████████| 538.1 MB 5.8 kB/s \n",
            "\u001b[?25hRequirement already satisfied: spacy<3.1.0,>=3.0.1 in /usr/local/lib/python3.7/dist-packages (from en-core-sci-lg==0.4.0) (3.0.8)\n",
            "Requirement already satisfied: pydantic!=1.8,!=1.8.1,<1.9.0,>=1.7.4 in /usr/local/lib/python3.7/dist-packages (from spacy<3.1.0,>=3.0.1->en-core-sci-lg==0.4.0) (1.8.2)\n",
            "Requirement already satisfied: tqdm<5.0.0,>=4.38.0 in /usr/local/lib/python3.7/dist-packages (from spacy<3.1.0,>=3.0.1->en-core-sci-lg==0.4.0) (4.64.0)\n",
            "Requirement already satisfied: catalogue<2.1.0,>=2.0.4 in /usr/local/lib/python3.7/dist-packages (from spacy<3.1.0,>=3.0.1->en-core-sci-lg==0.4.0) (2.0.8)\n",
            "Requirement already satisfied: wasabi<1.1.0,>=0.8.1 in /usr/local/lib/python3.7/dist-packages (from spacy<3.1.0,>=3.0.1->en-core-sci-lg==0.4.0) (0.10.1)\n",
            "Requirement already satisfied: thinc<8.1.0,>=8.0.3 in /usr/local/lib/python3.7/dist-packages (from spacy<3.1.0,>=3.0.1->en-core-sci-lg==0.4.0) (8.0.17)\n",
            "Requirement already satisfied: numpy>=1.15.0 in /usr/local/lib/python3.7/dist-packages (from spacy<3.1.0,>=3.0.1->en-core-sci-lg==0.4.0) (1.21.6)\n",
            "Requirement already satisfied: cymem<2.1.0,>=2.0.2 in /usr/local/lib/python3.7/dist-packages (from spacy<3.1.0,>=3.0.1->en-core-sci-lg==0.4.0) (2.0.6)\n",
            "Requirement already satisfied: murmurhash<1.1.0,>=0.28.0 in /usr/local/lib/python3.7/dist-packages (from spacy<3.1.0,>=3.0.1->en-core-sci-lg==0.4.0) (1.0.7)\n",
            "Requirement already satisfied: spacy-legacy<3.1.0,>=3.0.5 in /usr/local/lib/python3.7/dist-packages (from spacy<3.1.0,>=3.0.1->en-core-sci-lg==0.4.0) (3.0.9)\n",
            "Requirement already satisfied: packaging>=20.0 in /usr/local/lib/python3.7/dist-packages (from spacy<3.1.0,>=3.0.1->en-core-sci-lg==0.4.0) (21.3)\n",
            "Requirement already satisfied: typing-extensions<4.0.0.0,>=3.7.4 in /usr/local/lib/python3.7/dist-packages (from spacy<3.1.0,>=3.0.1->en-core-sci-lg==0.4.0) (3.10.0.2)\n",
            "Requirement already satisfied: pathy>=0.3.5 in /usr/local/lib/python3.7/dist-packages (from spacy<3.1.0,>=3.0.1->en-core-sci-lg==0.4.0) (0.6.2)\n",
            "Requirement already satisfied: preshed<3.1.0,>=3.0.2 in /usr/local/lib/python3.7/dist-packages (from spacy<3.1.0,>=3.0.1->en-core-sci-lg==0.4.0) (3.0.6)\n",
            "Requirement already satisfied: typer<0.4.0,>=0.3.0 in /usr/local/lib/python3.7/dist-packages (from spacy<3.1.0,>=3.0.1->en-core-sci-lg==0.4.0) (0.3.2)\n",
            "Requirement already satisfied: blis<0.8.0,>=0.4.0 in /usr/local/lib/python3.7/dist-packages (from spacy<3.1.0,>=3.0.1->en-core-sci-lg==0.4.0) (0.7.8)\n",
            "Requirement already satisfied: requests<3.0.0,>=2.13.0 in /usr/local/lib/python3.7/dist-packages (from spacy<3.1.0,>=3.0.1->en-core-sci-lg==0.4.0) (2.23.0)\n",
            "Requirement already satisfied: setuptools in /usr/local/lib/python3.7/dist-packages (from spacy<3.1.0,>=3.0.1->en-core-sci-lg==0.4.0) (57.4.0)\n",
            "Requirement already satisfied: srsly<3.0.0,>=2.4.1 in /usr/local/lib/python3.7/dist-packages (from spacy<3.1.0,>=3.0.1->en-core-sci-lg==0.4.0) (2.4.4)\n",
            "Requirement already satisfied: jinja2 in /usr/local/lib/python3.7/dist-packages (from spacy<3.1.0,>=3.0.1->en-core-sci-lg==0.4.0) (2.11.3)\n",
            "Requirement already satisfied: zipp>=0.5 in /usr/local/lib/python3.7/dist-packages (from catalogue<2.1.0,>=2.0.4->spacy<3.1.0,>=3.0.1->en-core-sci-lg==0.4.0) (3.8.1)\n",
            "Requirement already satisfied: pyparsing!=3.0.5,>=2.0.2 in /usr/local/lib/python3.7/dist-packages (from packaging>=20.0->spacy<3.1.0,>=3.0.1->en-core-sci-lg==0.4.0) (3.0.9)\n",
            "Requirement already satisfied: smart-open<6.0.0,>=5.2.1 in /usr/local/lib/python3.7/dist-packages (from pathy>=0.3.5->spacy<3.1.0,>=3.0.1->en-core-sci-lg==0.4.0) (5.2.1)\n",
            "Requirement already satisfied: chardet<4,>=3.0.2 in /usr/local/lib/python3.7/dist-packages (from requests<3.0.0,>=2.13.0->spacy<3.1.0,>=3.0.1->en-core-sci-lg==0.4.0) (3.0.4)\n",
            "Requirement already satisfied: certifi>=2017.4.17 in /usr/local/lib/python3.7/dist-packages (from requests<3.0.0,>=2.13.0->spacy<3.1.0,>=3.0.1->en-core-sci-lg==0.4.0) (2022.6.15)\n",
            "Requirement already satisfied: idna<3,>=2.5 in /usr/local/lib/python3.7/dist-packages (from requests<3.0.0,>=2.13.0->spacy<3.1.0,>=3.0.1->en-core-sci-lg==0.4.0) (2.10)\n",
            "Requirement already satisfied: urllib3!=1.25.0,!=1.25.1,<1.26,>=1.21.1 in /usr/local/lib/python3.7/dist-packages (from requests<3.0.0,>=2.13.0->spacy<3.1.0,>=3.0.1->en-core-sci-lg==0.4.0) (1.24.3)\n",
            "Requirement already satisfied: click<7.2.0,>=7.1.1 in /usr/local/lib/python3.7/dist-packages (from typer<0.4.0,>=0.3.0->spacy<3.1.0,>=3.0.1->en-core-sci-lg==0.4.0) (7.1.2)\n",
            "Requirement already satisfied: MarkupSafe>=0.23 in /usr/local/lib/python3.7/dist-packages (from jinja2->spacy<3.1.0,>=3.0.1->en-core-sci-lg==0.4.0) (2.0.1)\n",
            "Building wheels for collected packages: en-core-sci-lg\n",
            "  Building wheel for en-core-sci-lg (setup.py) ... \u001b[?25l\u001b[?25hdone\n",
            "  Created wheel for en-core-sci-lg: filename=en_core_sci_lg-0.4.0-py3-none-any.whl size=538899689 sha256=b42af97845e91d7fa3bbfe910c869f1bfcb0075c3ca8a0a12ee99389e966c8c2\n",
            "  Stored in directory: /root/.cache/pip/wheels/87/6f/e6/a51909709009e9a36e5385cff94257a7fc036ff2f9670e71f8\n",
            "Successfully built en-core-sci-lg\n",
            "Installing collected packages: en-core-sci-lg\n",
            "Successfully installed en-core-sci-lg-0.4.0\n"
          ]
        }
      ]
    },
    {
      "cell_type": "code",
      "source": [
        "import scispacy\n",
        "import spacy\n",
        "\n",
        "#Core models\n",
        "import en_core_sci_sm\n",
        "import en_core_sci_lg\n",
        "\n",
        "#NER specific models\n",
        "import en_ner_craft_md\n",
        "import en_ner_bc5cdr_md\n",
        "import en_ner_jnlpba_md\n",
        "import en_ner_bionlp13cg_md\n",
        "\n",
        "#Tools for extracting & displaying data\n",
        "from spacy import displacy\n",
        "import pandas as pd"
      ],
      "metadata": {
        "id": "yikwS9kh9-0M"
      },
      "id": "yikwS9kh9-0M",
      "execution_count": 50,
      "outputs": []
    },
    {
      "cell_type": "code",
      "source": [
        "#Load specific model and pass text through\n",
        "nlp = en_core_sci_lg.load()"
      ],
      "metadata": {
        "id": "oCLBN8oeAf6H"
      },
      "id": "oCLBN8oeAf6H",
      "execution_count": 51,
      "outputs": []
    },
    {
      "cell_type": "code",
      "source": [
        "drugOutDataName = []\n",
        "for nullindex in nullindexlist:\n",
        "  tempChiledrugname = DrugNamesIndexDelSIMILAR[nullindex]\n",
        "  tempChiledrugname_str = str(' '.join(tempChiledrugname))\n",
        "  doc = nlp(tempChiledrugname_str)\n",
        "  temptext = doc.text\n",
        "  drugOutDataName.append(temptext)"
      ],
      "metadata": {
        "id": "a-4AUg5PAfvU"
      },
      "id": "a-4AUg5PAfvU",
      "execution_count": 52,
      "outputs": []
    },
    {
      "cell_type": "code",
      "source": [
        "drugOutDataNameNullNumber = 0\n",
        "\n",
        "for i in drugOutDataName:\n",
        "  if not i:\n",
        "    drugOutDataNameNullNumber += 1"
      ],
      "metadata": {
        "id": "AoSCQuNkAesz"
      },
      "id": "AoSCQuNkAesz",
      "execution_count": 53,
      "outputs": []
    },
    {
      "cell_type": "code",
      "source": [
        "drugOutDataNameNullNumber"
      ],
      "metadata": {
        "colab": {
          "base_uri": "https://localhost:8080/"
        },
        "id": "V8Lu5snrAel_",
        "outputId": "fbb18f7d-dd16-47c2-bc27-0c102cc33078"
      },
      "id": "V8Lu5snrAel_",
      "execution_count": 54,
      "outputs": [
        {
          "output_type": "execute_result",
          "data": {
            "text/plain": [
              "2"
            ]
          },
          "metadata": {},
          "execution_count": 54
        }
      ]
    },
    {
      "cell_type": "code",
      "source": [
        "# for these null element in CHIfnIndex list, use Chile1drugOutDataName to complete them\n",
        "j = 0\n",
        "for i in nullindexlist:\n",
        "  finIndex[i] = drugOutDataName[j]\n",
        "  j += 1"
      ],
      "metadata": {
        "id": "_9oYyeLbuyNE"
      },
      "id": "_9oYyeLbuyNE",
      "execution_count": 55,
      "outputs": []
    },
    {
      "cell_type": "markdown",
      "source": [
        "## Part 4: Use SimHash select cloest index for drug names"
      ],
      "metadata": {
        "id": "mwVqGJ4PoEil"
      },
      "id": "mwVqGJ4PoEil"
    },
    {
      "cell_type": "code",
      "source": [
        "!pip install simhash\n",
        "\n",
        "from simhash import Simhash"
      ],
      "metadata": {
        "colab": {
          "base_uri": "https://localhost:8080/"
        },
        "id": "asEHfITnoDPm",
        "outputId": "c55a2b52-3d49-4209-fe75-85ddc6524488"
      },
      "id": "asEHfITnoDPm",
      "execution_count": 56,
      "outputs": [
        {
          "output_type": "stream",
          "name": "stdout",
          "text": [
            "Looking in indexes: https://pypi.org/simple, https://us-python.pkg.dev/colab-wheels/public/simple/\n",
            "Collecting simhash\n",
            "  Downloading simhash-2.1.2-py3-none-any.whl (4.7 kB)\n",
            "Requirement already satisfied: numpy in /usr/local/lib/python3.7/dist-packages (from simhash) (1.21.6)\n",
            "Installing collected packages: simhash\n",
            "Successfully installed simhash-2.1.2\n"
          ]
        }
      ]
    },
    {
      "cell_type": "code",
      "source": [
        "pairIndexlist = []\n",
        "for dirtyname in finIndex:\n",
        "  distance_list = []\n",
        "  for index in MainMedicineIndex:\n",
        "    distance = Simhash(index).distance(Simhash(dirtyname))\n",
        "    distance_list.append(distance)\n",
        "  index_min = min(range(len(distance_list)), key=distance_list.__getitem__) # get the index which correspond to the minimum distance\n",
        "  add_index = MainMedicineIndex[index_min]\n",
        "  pairIndexlist.append(add_index)"
      ],
      "metadata": {
        "id": "Iz9t43A4oDNd"
      },
      "id": "Iz9t43A4oDNd",
      "execution_count": 57,
      "outputs": []
    },
    {
      "cell_type": "code",
      "source": [
        "PairIndexData = {\"drug names\": finIndex, \"Catalog Index\": pairIndexlist}"
      ],
      "metadata": {
        "id": "Cwih9JwDuAuk"
      },
      "id": "Cwih9JwDuAuk",
      "execution_count": 58,
      "outputs": []
    },
    {
      "cell_type": "code",
      "source": [
        "print(len(finIndex), len(pairIndexlist))"
      ],
      "metadata": {
        "colab": {
          "base_uri": "https://localhost:8080/"
        },
        "id": "2hmgmMLouAmI",
        "outputId": "ab1ed6a0-b21d-4e9e-9b7b-70f55f868596"
      },
      "id": "2hmgmMLouAmI",
      "execution_count": 59,
      "outputs": [
        {
          "output_type": "stream",
          "name": "stdout",
          "text": [
            "952 952\n"
          ]
        }
      ]
    },
    {
      "cell_type": "code",
      "source": [
        "PairIndexData_df = pd.DataFrame(PairIndexData)"
      ],
      "metadata": {
        "id": "5vIKoRkDuAka"
      },
      "id": "5vIKoRkDuAka",
      "execution_count": 60,
      "outputs": []
    },
    {
      "cell_type": "code",
      "source": [
        "PairIndexData_df"
      ],
      "metadata": {
        "colab": {
          "base_uri": "https://localhost:8080/",
          "height": 0
        },
        "id": "whQDpDiDuAaA",
        "outputId": "e1b4f0f8-3bc7-4d29-e1ae-9fa1886aee63"
      },
      "id": "whQDpDiDuAaA",
      "execution_count": 61,
      "outputs": [
        {
          "output_type": "execute_result",
          "data": {
            "text/plain": [
              "                                            drug names  \\\n",
              "0                                        GLIBENCLAMIDA   \n",
              "1                                GLYBENCLAMIDE JANUARY   \n",
              "2                                       GALVUS TABLETS   \n",
              "3    GLYBENCLAMIDE COMPRESSED INDICATE EXPIRATION P...   \n",
              "4                                      [GLIBENCLAMIDE]   \n",
              "..                                                 ...   \n",
              "947                     METFORMINA 500MG GLIBENCLAMIDA   \n",
              "948                         [GLIBENCLAMIDE, METFORMIN]   \n",
              "949            METFORMINA GLIBENCLAMIDA CARDIOVASCULAR   \n",
              "950                                      GLIBENCLAMIDA   \n",
              "951                                      GLIBENCLAMIDA   \n",
              "\n",
              "                         Catalog Index  \n",
              "0    [IRBESARTAN, HYDROCHLOROTHIAZIDE]  \n",
              "1                       [ITRACONAZOLE]  \n",
              "2             [MEGLUMINE, ANTIMONIATE]  \n",
              "3            [VILDAGLIPTIN, METFORMIN]  \n",
              "4                      [GLIBENCLAMIDE]  \n",
              "..                                 ...  \n",
              "947                         [PROPOFOL]  \n",
              "948         [GLIBENCLAMIDE, METFORMIN]  \n",
              "949           [MEGLUMINE, ANTIMONIATE]  \n",
              "950  [IRBESARTAN, HYDROCHLOROTHIAZIDE]  \n",
              "951  [IRBESARTAN, HYDROCHLOROTHIAZIDE]  \n",
              "\n",
              "[952 rows x 2 columns]"
            ],
            "text/html": [
              "\n",
              "  <div id=\"df-c8ddfa32-e1a7-47cd-a711-6f0d46361b36\">\n",
              "    <div class=\"colab-df-container\">\n",
              "      <div>\n",
              "<style scoped>\n",
              "    .dataframe tbody tr th:only-of-type {\n",
              "        vertical-align: middle;\n",
              "    }\n",
              "\n",
              "    .dataframe tbody tr th {\n",
              "        vertical-align: top;\n",
              "    }\n",
              "\n",
              "    .dataframe thead th {\n",
              "        text-align: right;\n",
              "    }\n",
              "</style>\n",
              "<table border=\"1\" class=\"dataframe\">\n",
              "  <thead>\n",
              "    <tr style=\"text-align: right;\">\n",
              "      <th></th>\n",
              "      <th>drug names</th>\n",
              "      <th>Catalog Index</th>\n",
              "    </tr>\n",
              "  </thead>\n",
              "  <tbody>\n",
              "    <tr>\n",
              "      <th>0</th>\n",
              "      <td>GLIBENCLAMIDA</td>\n",
              "      <td>[IRBESARTAN, HYDROCHLOROTHIAZIDE]</td>\n",
              "    </tr>\n",
              "    <tr>\n",
              "      <th>1</th>\n",
              "      <td>GLYBENCLAMIDE JANUARY</td>\n",
              "      <td>[ITRACONAZOLE]</td>\n",
              "    </tr>\n",
              "    <tr>\n",
              "      <th>2</th>\n",
              "      <td>GALVUS TABLETS</td>\n",
              "      <td>[MEGLUMINE, ANTIMONIATE]</td>\n",
              "    </tr>\n",
              "    <tr>\n",
              "      <th>3</th>\n",
              "      <td>GLYBENCLAMIDE COMPRESSED INDICATE EXPIRATION P...</td>\n",
              "      <td>[VILDAGLIPTIN, METFORMIN]</td>\n",
              "    </tr>\n",
              "    <tr>\n",
              "      <th>4</th>\n",
              "      <td>[GLIBENCLAMIDE]</td>\n",
              "      <td>[GLIBENCLAMIDE]</td>\n",
              "    </tr>\n",
              "    <tr>\n",
              "      <th>...</th>\n",
              "      <td>...</td>\n",
              "      <td>...</td>\n",
              "    </tr>\n",
              "    <tr>\n",
              "      <th>947</th>\n",
              "      <td>METFORMINA 500MG GLIBENCLAMIDA</td>\n",
              "      <td>[PROPOFOL]</td>\n",
              "    </tr>\n",
              "    <tr>\n",
              "      <th>948</th>\n",
              "      <td>[GLIBENCLAMIDE, METFORMIN]</td>\n",
              "      <td>[GLIBENCLAMIDE, METFORMIN]</td>\n",
              "    </tr>\n",
              "    <tr>\n",
              "      <th>949</th>\n",
              "      <td>METFORMINA GLIBENCLAMIDA CARDIOVASCULAR</td>\n",
              "      <td>[MEGLUMINE, ANTIMONIATE]</td>\n",
              "    </tr>\n",
              "    <tr>\n",
              "      <th>950</th>\n",
              "      <td>GLIBENCLAMIDA</td>\n",
              "      <td>[IRBESARTAN, HYDROCHLOROTHIAZIDE]</td>\n",
              "    </tr>\n",
              "    <tr>\n",
              "      <th>951</th>\n",
              "      <td>GLIBENCLAMIDA</td>\n",
              "      <td>[IRBESARTAN, HYDROCHLOROTHIAZIDE]</td>\n",
              "    </tr>\n",
              "  </tbody>\n",
              "</table>\n",
              "<p>952 rows × 2 columns</p>\n",
              "</div>\n",
              "      <button class=\"colab-df-convert\" onclick=\"convertToInteractive('df-c8ddfa32-e1a7-47cd-a711-6f0d46361b36')\"\n",
              "              title=\"Convert this dataframe to an interactive table.\"\n",
              "              style=\"display:none;\">\n",
              "        \n",
              "  <svg xmlns=\"http://www.w3.org/2000/svg\" height=\"24px\"viewBox=\"0 0 24 24\"\n",
              "       width=\"24px\">\n",
              "    <path d=\"M0 0h24v24H0V0z\" fill=\"none\"/>\n",
              "    <path d=\"M18.56 5.44l.94 2.06.94-2.06 2.06-.94-2.06-.94-.94-2.06-.94 2.06-2.06.94zm-11 1L8.5 8.5l.94-2.06 2.06-.94-2.06-.94L8.5 2.5l-.94 2.06-2.06.94zm10 10l.94 2.06.94-2.06 2.06-.94-2.06-.94-.94-2.06-.94 2.06-2.06.94z\"/><path d=\"M17.41 7.96l-1.37-1.37c-.4-.4-.92-.59-1.43-.59-.52 0-1.04.2-1.43.59L10.3 9.45l-7.72 7.72c-.78.78-.78 2.05 0 2.83L4 21.41c.39.39.9.59 1.41.59.51 0 1.02-.2 1.41-.59l7.78-7.78 2.81-2.81c.8-.78.8-2.07 0-2.86zM5.41 20L4 18.59l7.72-7.72 1.47 1.35L5.41 20z\"/>\n",
              "  </svg>\n",
              "      </button>\n",
              "      \n",
              "  <style>\n",
              "    .colab-df-container {\n",
              "      display:flex;\n",
              "      flex-wrap:wrap;\n",
              "      gap: 12px;\n",
              "    }\n",
              "\n",
              "    .colab-df-convert {\n",
              "      background-color: #E8F0FE;\n",
              "      border: none;\n",
              "      border-radius: 50%;\n",
              "      cursor: pointer;\n",
              "      display: none;\n",
              "      fill: #1967D2;\n",
              "      height: 32px;\n",
              "      padding: 0 0 0 0;\n",
              "      width: 32px;\n",
              "    }\n",
              "\n",
              "    .colab-df-convert:hover {\n",
              "      background-color: #E2EBFA;\n",
              "      box-shadow: 0px 1px 2px rgba(60, 64, 67, 0.3), 0px 1px 3px 1px rgba(60, 64, 67, 0.15);\n",
              "      fill: #174EA6;\n",
              "    }\n",
              "\n",
              "    [theme=dark] .colab-df-convert {\n",
              "      background-color: #3B4455;\n",
              "      fill: #D2E3FC;\n",
              "    }\n",
              "\n",
              "    [theme=dark] .colab-df-convert:hover {\n",
              "      background-color: #434B5C;\n",
              "      box-shadow: 0px 1px 3px 1px rgba(0, 0, 0, 0.15);\n",
              "      filter: drop-shadow(0px 1px 2px rgba(0, 0, 0, 0.3));\n",
              "      fill: #FFFFFF;\n",
              "    }\n",
              "  </style>\n",
              "\n",
              "      <script>\n",
              "        const buttonEl =\n",
              "          document.querySelector('#df-c8ddfa32-e1a7-47cd-a711-6f0d46361b36 button.colab-df-convert');\n",
              "        buttonEl.style.display =\n",
              "          google.colab.kernel.accessAllowed ? 'block' : 'none';\n",
              "\n",
              "        async function convertToInteractive(key) {\n",
              "          const element = document.querySelector('#df-c8ddfa32-e1a7-47cd-a711-6f0d46361b36');\n",
              "          const dataTable =\n",
              "            await google.colab.kernel.invokeFunction('convertToInteractive',\n",
              "                                                     [key], {});\n",
              "          if (!dataTable) return;\n",
              "\n",
              "          const docLinkHtml = 'Like what you see? Visit the ' +\n",
              "            '<a target=\"_blank\" href=https://colab.research.google.com/notebooks/data_table.ipynb>data table notebook</a>'\n",
              "            + ' to learn more about interactive tables.';\n",
              "          element.innerHTML = '';\n",
              "          dataTable['output_type'] = 'display_data';\n",
              "          await google.colab.output.renderOutput(dataTable, element);\n",
              "          const docLink = document.createElement('div');\n",
              "          docLink.innerHTML = docLinkHtml;\n",
              "          element.appendChild(docLink);\n",
              "        }\n",
              "      </script>\n",
              "    </div>\n",
              "  </div>\n",
              "  "
            ]
          },
          "metadata": {},
          "execution_count": 61
        }
      ]
    },
    {
      "cell_type": "markdown",
      "source": [
        "## Part 5: combine the Chile drug name index pair data frame and full catagol name index data frame to get the result"
      ],
      "metadata": {
        "id": "uj_gM4EnvmqL"
      },
      "id": "uj_gM4EnvmqL"
    },
    {
      "cell_type": "code",
      "source": [
        "# for Chile pair index dataframe, transform list to string\n",
        "str_pairIndexlist = []\n",
        "for item in pairIndexlist:\n",
        "  newitem = ' '.join(item)\n",
        "  str_pairIndexlist.append(newitem)"
      ],
      "metadata": {
        "id": "YEvoYs2TuAQb"
      },
      "id": "YEvoYs2TuAQb",
      "execution_count": 62,
      "outputs": []
    },
    {
      "cell_type": "code",
      "source": [
        "str_finIndex = []\n",
        "for item in finIndex:\n",
        "  newitem = ''.join(item)\n",
        "  str_finIndex.append(newitem)"
      ],
      "metadata": {
        "id": "tuWmg239uAGT"
      },
      "id": "tuWmg239uAGT",
      "execution_count": 63,
      "outputs": []
    },
    {
      "cell_type": "code",
      "source": [
        "newPairIndexData = {\"drug names\": str_finIndex, \"Catalog Index\": str_pairIndexlist}"
      ],
      "metadata": {
        "id": "b_yJzJ6jt_7Q"
      },
      "id": "b_yJzJ6jt_7Q",
      "execution_count": 64,
      "outputs": []
    },
    {
      "cell_type": "code",
      "source": [
        "newPairIndexData_df = pd.DataFrame(newPairIndexData)"
      ],
      "metadata": {
        "id": "ec6gl-LBJi8A"
      },
      "id": "ec6gl-LBJi8A",
      "execution_count": 65,
      "outputs": []
    },
    {
      "cell_type": "code",
      "source": [
        "newPairIndexData_df[:2]"
      ],
      "metadata": {
        "colab": {
          "base_uri": "https://localhost:8080/",
          "height": 0
        },
        "id": "5Nz6ATTYJi4-",
        "outputId": "7cb6d496-7ab2-478f-ba67-1958256d2004"
      },
      "id": "5Nz6ATTYJi4-",
      "execution_count": 66,
      "outputs": [
        {
          "output_type": "execute_result",
          "data": {
            "text/plain": [
              "              drug names                   Catalog Index\n",
              "0          GLIBENCLAMIDA  IRBESARTAN HYDROCHLOROTHIAZIDE\n",
              "1  GLYBENCLAMIDE JANUARY                    ITRACONAZOLE"
            ],
            "text/html": [
              "\n",
              "  <div id=\"df-e57bbc4f-3a01-4ebc-9fdd-91c9d1bf40c0\">\n",
              "    <div class=\"colab-df-container\">\n",
              "      <div>\n",
              "<style scoped>\n",
              "    .dataframe tbody tr th:only-of-type {\n",
              "        vertical-align: middle;\n",
              "    }\n",
              "\n",
              "    .dataframe tbody tr th {\n",
              "        vertical-align: top;\n",
              "    }\n",
              "\n",
              "    .dataframe thead th {\n",
              "        text-align: right;\n",
              "    }\n",
              "</style>\n",
              "<table border=\"1\" class=\"dataframe\">\n",
              "  <thead>\n",
              "    <tr style=\"text-align: right;\">\n",
              "      <th></th>\n",
              "      <th>drug names</th>\n",
              "      <th>Catalog Index</th>\n",
              "    </tr>\n",
              "  </thead>\n",
              "  <tbody>\n",
              "    <tr>\n",
              "      <th>0</th>\n",
              "      <td>GLIBENCLAMIDA</td>\n",
              "      <td>IRBESARTAN HYDROCHLOROTHIAZIDE</td>\n",
              "    </tr>\n",
              "    <tr>\n",
              "      <th>1</th>\n",
              "      <td>GLYBENCLAMIDE JANUARY</td>\n",
              "      <td>ITRACONAZOLE</td>\n",
              "    </tr>\n",
              "  </tbody>\n",
              "</table>\n",
              "</div>\n",
              "      <button class=\"colab-df-convert\" onclick=\"convertToInteractive('df-e57bbc4f-3a01-4ebc-9fdd-91c9d1bf40c0')\"\n",
              "              title=\"Convert this dataframe to an interactive table.\"\n",
              "              style=\"display:none;\">\n",
              "        \n",
              "  <svg xmlns=\"http://www.w3.org/2000/svg\" height=\"24px\"viewBox=\"0 0 24 24\"\n",
              "       width=\"24px\">\n",
              "    <path d=\"M0 0h24v24H0V0z\" fill=\"none\"/>\n",
              "    <path d=\"M18.56 5.44l.94 2.06.94-2.06 2.06-.94-2.06-.94-.94-2.06-.94 2.06-2.06.94zm-11 1L8.5 8.5l.94-2.06 2.06-.94-2.06-.94L8.5 2.5l-.94 2.06-2.06.94zm10 10l.94 2.06.94-2.06 2.06-.94-2.06-.94-.94-2.06-.94 2.06-2.06.94z\"/><path d=\"M17.41 7.96l-1.37-1.37c-.4-.4-.92-.59-1.43-.59-.52 0-1.04.2-1.43.59L10.3 9.45l-7.72 7.72c-.78.78-.78 2.05 0 2.83L4 21.41c.39.39.9.59 1.41.59.51 0 1.02-.2 1.41-.59l7.78-7.78 2.81-2.81c.8-.78.8-2.07 0-2.86zM5.41 20L4 18.59l7.72-7.72 1.47 1.35L5.41 20z\"/>\n",
              "  </svg>\n",
              "      </button>\n",
              "      \n",
              "  <style>\n",
              "    .colab-df-container {\n",
              "      display:flex;\n",
              "      flex-wrap:wrap;\n",
              "      gap: 12px;\n",
              "    }\n",
              "\n",
              "    .colab-df-convert {\n",
              "      background-color: #E8F0FE;\n",
              "      border: none;\n",
              "      border-radius: 50%;\n",
              "      cursor: pointer;\n",
              "      display: none;\n",
              "      fill: #1967D2;\n",
              "      height: 32px;\n",
              "      padding: 0 0 0 0;\n",
              "      width: 32px;\n",
              "    }\n",
              "\n",
              "    .colab-df-convert:hover {\n",
              "      background-color: #E2EBFA;\n",
              "      box-shadow: 0px 1px 2px rgba(60, 64, 67, 0.3), 0px 1px 3px 1px rgba(60, 64, 67, 0.15);\n",
              "      fill: #174EA6;\n",
              "    }\n",
              "\n",
              "    [theme=dark] .colab-df-convert {\n",
              "      background-color: #3B4455;\n",
              "      fill: #D2E3FC;\n",
              "    }\n",
              "\n",
              "    [theme=dark] .colab-df-convert:hover {\n",
              "      background-color: #434B5C;\n",
              "      box-shadow: 0px 1px 3px 1px rgba(0, 0, 0, 0.15);\n",
              "      filter: drop-shadow(0px 1px 2px rgba(0, 0, 0, 0.3));\n",
              "      fill: #FFFFFF;\n",
              "    }\n",
              "  </style>\n",
              "\n",
              "      <script>\n",
              "        const buttonEl =\n",
              "          document.querySelector('#df-e57bbc4f-3a01-4ebc-9fdd-91c9d1bf40c0 button.colab-df-convert');\n",
              "        buttonEl.style.display =\n",
              "          google.colab.kernel.accessAllowed ? 'block' : 'none';\n",
              "\n",
              "        async function convertToInteractive(key) {\n",
              "          const element = document.querySelector('#df-e57bbc4f-3a01-4ebc-9fdd-91c9d1bf40c0');\n",
              "          const dataTable =\n",
              "            await google.colab.kernel.invokeFunction('convertToInteractive',\n",
              "                                                     [key], {});\n",
              "          if (!dataTable) return;\n",
              "\n",
              "          const docLinkHtml = 'Like what you see? Visit the ' +\n",
              "            '<a target=\"_blank\" href=https://colab.research.google.com/notebooks/data_table.ipynb>data table notebook</a>'\n",
              "            + ' to learn more about interactive tables.';\n",
              "          element.innerHTML = '';\n",
              "          dataTable['output_type'] = 'display_data';\n",
              "          await google.colab.output.renderOutput(dataTable, element);\n",
              "          const docLink = document.createElement('div');\n",
              "          docLink.innerHTML = docLinkHtml;\n",
              "          element.appendChild(docLink);\n",
              "        }\n",
              "      </script>\n",
              "    </div>\n",
              "  </div>\n",
              "  "
            ]
          },
          "metadata": {},
          "execution_count": 66
        }
      ]
    },
    {
      "cell_type": "code",
      "source": [
        "# for catalog name index dataframe, transform list to string\n",
        "str_MainMedicineIndex = []\n",
        "for item in MainMedicineIndex:\n",
        "  newitem = ' '.join(item)\n",
        "  str_MainMedicineIndex.append(newitem)"
      ],
      "metadata": {
        "id": "DBCBsBRDJi2W"
      },
      "id": "DBCBsBRDJi2W",
      "execution_count": 67,
      "outputs": []
    },
    {
      "cell_type": "code",
      "source": [
        "newCatalogIndexData = {\"Catalog Name\": CatalogNameU, \"Catalog Index\": str_MainMedicineIndex}"
      ],
      "metadata": {
        "id": "VLV2Sk28JizP"
      },
      "id": "VLV2Sk28JizP",
      "execution_count": 68,
      "outputs": []
    },
    {
      "cell_type": "code",
      "source": [
        "newCatalogIndexData_df = pd.DataFrame(newCatalogIndexData)"
      ],
      "metadata": {
        "id": "5cBlskNkJivw"
      },
      "id": "5cBlskNkJivw",
      "execution_count": 69,
      "outputs": []
    },
    {
      "cell_type": "code",
      "source": [
        "newCatalogIndexData_df[:2]"
      ],
      "metadata": {
        "colab": {
          "base_uri": "https://localhost:8080/",
          "height": 0
        },
        "id": "UIbzui_PKC1o",
        "outputId": "5a897ce9-aa36-40fb-f0f9-88d254c8939d"
      },
      "id": "UIbzui_PKC1o",
      "execution_count": 70,
      "outputs": [
        {
          "output_type": "execute_result",
          "data": {
            "text/plain": [
              "                                        Catalog Name          Catalog Index\n",
              "0  METFORMIN 1000 MG + GLIMEPIRIDE 4 MG, TABLET, TBD  METFORMIN GLIMEPIRIDE\n",
              "1                       CYCLOSPORINE 10 MG, TBD, TBD           CYCLOSPORINE"
            ],
            "text/html": [
              "\n",
              "  <div id=\"df-cf092e71-c489-4331-8643-c4d5f45326ce\">\n",
              "    <div class=\"colab-df-container\">\n",
              "      <div>\n",
              "<style scoped>\n",
              "    .dataframe tbody tr th:only-of-type {\n",
              "        vertical-align: middle;\n",
              "    }\n",
              "\n",
              "    .dataframe tbody tr th {\n",
              "        vertical-align: top;\n",
              "    }\n",
              "\n",
              "    .dataframe thead th {\n",
              "        text-align: right;\n",
              "    }\n",
              "</style>\n",
              "<table border=\"1\" class=\"dataframe\">\n",
              "  <thead>\n",
              "    <tr style=\"text-align: right;\">\n",
              "      <th></th>\n",
              "      <th>Catalog Name</th>\n",
              "      <th>Catalog Index</th>\n",
              "    </tr>\n",
              "  </thead>\n",
              "  <tbody>\n",
              "    <tr>\n",
              "      <th>0</th>\n",
              "      <td>METFORMIN 1000 MG + GLIMEPIRIDE 4 MG, TABLET, TBD</td>\n",
              "      <td>METFORMIN GLIMEPIRIDE</td>\n",
              "    </tr>\n",
              "    <tr>\n",
              "      <th>1</th>\n",
              "      <td>CYCLOSPORINE 10 MG, TBD, TBD</td>\n",
              "      <td>CYCLOSPORINE</td>\n",
              "    </tr>\n",
              "  </tbody>\n",
              "</table>\n",
              "</div>\n",
              "      <button class=\"colab-df-convert\" onclick=\"convertToInteractive('df-cf092e71-c489-4331-8643-c4d5f45326ce')\"\n",
              "              title=\"Convert this dataframe to an interactive table.\"\n",
              "              style=\"display:none;\">\n",
              "        \n",
              "  <svg xmlns=\"http://www.w3.org/2000/svg\" height=\"24px\"viewBox=\"0 0 24 24\"\n",
              "       width=\"24px\">\n",
              "    <path d=\"M0 0h24v24H0V0z\" fill=\"none\"/>\n",
              "    <path d=\"M18.56 5.44l.94 2.06.94-2.06 2.06-.94-2.06-.94-.94-2.06-.94 2.06-2.06.94zm-11 1L8.5 8.5l.94-2.06 2.06-.94-2.06-.94L8.5 2.5l-.94 2.06-2.06.94zm10 10l.94 2.06.94-2.06 2.06-.94-2.06-.94-.94-2.06-.94 2.06-2.06.94z\"/><path d=\"M17.41 7.96l-1.37-1.37c-.4-.4-.92-.59-1.43-.59-.52 0-1.04.2-1.43.59L10.3 9.45l-7.72 7.72c-.78.78-.78 2.05 0 2.83L4 21.41c.39.39.9.59 1.41.59.51 0 1.02-.2 1.41-.59l7.78-7.78 2.81-2.81c.8-.78.8-2.07 0-2.86zM5.41 20L4 18.59l7.72-7.72 1.47 1.35L5.41 20z\"/>\n",
              "  </svg>\n",
              "      </button>\n",
              "      \n",
              "  <style>\n",
              "    .colab-df-container {\n",
              "      display:flex;\n",
              "      flex-wrap:wrap;\n",
              "      gap: 12px;\n",
              "    }\n",
              "\n",
              "    .colab-df-convert {\n",
              "      background-color: #E8F0FE;\n",
              "      border: none;\n",
              "      border-radius: 50%;\n",
              "      cursor: pointer;\n",
              "      display: none;\n",
              "      fill: #1967D2;\n",
              "      height: 32px;\n",
              "      padding: 0 0 0 0;\n",
              "      width: 32px;\n",
              "    }\n",
              "\n",
              "    .colab-df-convert:hover {\n",
              "      background-color: #E2EBFA;\n",
              "      box-shadow: 0px 1px 2px rgba(60, 64, 67, 0.3), 0px 1px 3px 1px rgba(60, 64, 67, 0.15);\n",
              "      fill: #174EA6;\n",
              "    }\n",
              "\n",
              "    [theme=dark] .colab-df-convert {\n",
              "      background-color: #3B4455;\n",
              "      fill: #D2E3FC;\n",
              "    }\n",
              "\n",
              "    [theme=dark] .colab-df-convert:hover {\n",
              "      background-color: #434B5C;\n",
              "      box-shadow: 0px 1px 3px 1px rgba(0, 0, 0, 0.15);\n",
              "      filter: drop-shadow(0px 1px 2px rgba(0, 0, 0, 0.3));\n",
              "      fill: #FFFFFF;\n",
              "    }\n",
              "  </style>\n",
              "\n",
              "      <script>\n",
              "        const buttonEl =\n",
              "          document.querySelector('#df-cf092e71-c489-4331-8643-c4d5f45326ce button.colab-df-convert');\n",
              "        buttonEl.style.display =\n",
              "          google.colab.kernel.accessAllowed ? 'block' : 'none';\n",
              "\n",
              "        async function convertToInteractive(key) {\n",
              "          const element = document.querySelector('#df-cf092e71-c489-4331-8643-c4d5f45326ce');\n",
              "          const dataTable =\n",
              "            await google.colab.kernel.invokeFunction('convertToInteractive',\n",
              "                                                     [key], {});\n",
              "          if (!dataTable) return;\n",
              "\n",
              "          const docLinkHtml = 'Like what you see? Visit the ' +\n",
              "            '<a target=\"_blank\" href=https://colab.research.google.com/notebooks/data_table.ipynb>data table notebook</a>'\n",
              "            + ' to learn more about interactive tables.';\n",
              "          element.innerHTML = '';\n",
              "          dataTable['output_type'] = 'display_data';\n",
              "          await google.colab.output.renderOutput(dataTable, element);\n",
              "          const docLink = document.createElement('div');\n",
              "          docLink.innerHTML = docLinkHtml;\n",
              "          element.appendChild(docLink);\n",
              "        }\n",
              "      </script>\n",
              "    </div>\n",
              "  </div>\n",
              "  "
            ]
          },
          "metadata": {},
          "execution_count": 70
        }
      ]
    },
    {
      "cell_type": "code",
      "source": [
        "combine_pair_df = pd.merge(newPairIndexData_df, newCatalogIndexData_df, on='Catalog Index', how='left')"
      ],
      "metadata": {
        "id": "DDlEJfacKCzz"
      },
      "id": "DDlEJfacKCzz",
      "execution_count": 71,
      "outputs": []
    },
    {
      "cell_type": "markdown",
      "source": [
        "## Part 6: Combine the original drug name in Chile 1 with the pairing data frame we have got, then select for the catalog name second time (compute the distance between the original drug name and the sub set of catalog under each name in our result)"
      ],
      "metadata": {
        "id": "RySNOS_PKJ_z"
      },
      "id": "RySNOS_PKJ_z"
    },
    {
      "cell_type": "code",
      "source": [
        "print(len(DrugNames), len(str_finIndex))"
      ],
      "metadata": {
        "colab": {
          "base_uri": "https://localhost:8080/"
        },
        "id": "DnFdLB3KKCrA",
        "outputId": "f9a46ae2-64c3-484e-b4c4-5ea59284618b"
      },
      "id": "DnFdLB3KKCrA",
      "execution_count": 72,
      "outputs": [
        {
          "output_type": "stream",
          "name": "stdout",
          "text": [
            "952 952\n"
          ]
        }
      ]
    },
    {
      "cell_type": "code",
      "source": [
        "# combine uppercase english chile 1 drug name with its indexes\n",
        "drugfn_index = {\"drugs english uppercase names\": DrugNamesUEng, \"drug names\": str_finIndex}"
      ],
      "metadata": {
        "id": "Au6OYuriKCoX"
      },
      "id": "Au6OYuriKCoX",
      "execution_count": 73,
      "outputs": []
    },
    {
      "cell_type": "code",
      "source": [
        "hile1drugfn_index_df = pd.DataFrame(drugfn_index)"
      ],
      "metadata": {
        "id": "I0YpYEBYKCma"
      },
      "id": "I0YpYEBYKCma",
      "execution_count": 74,
      "outputs": []
    },
    {
      "cell_type": "code",
      "source": [
        "hile1drugfn_index_df[:5]"
      ],
      "metadata": {
        "colab": {
          "base_uri": "https://localhost:8080/",
          "height": 250
        },
        "id": "WzYeHeOsLPCB",
        "outputId": "48cac6fb-2011-4177-f4e5-4c4a15a61226"
      },
      "id": "WzYeHeOsLPCB",
      "execution_count": 75,
      "outputs": [
        {
          "output_type": "execute_result",
          "data": {
            "text/plain": [
              "                       drugs english uppercase names  \\\n",
              "0                                GLIBENCLAMIDA 5 MG.   \n",
              "1     GLYBENCLAMIDE 5MG. WITH DUE DATE JANUARY 2023.   \n",
              "2                    GALVUS 50 MG, BOX OF 56 TABLETS   \n",
              "3  GLYBENCLAMIDE 5 MG. COMPRESSED. INDICATE EXPIR...   \n",
              "4                         GLIBENCLAMIDE 5 MG TABLETS   \n",
              "\n",
              "                                          drug names  \n",
              "0                                      GLIBENCLAMIDA  \n",
              "1                              GLYBENCLAMIDE JANUARY  \n",
              "2                                     GALVUS TABLETS  \n",
              "3  GLYBENCLAMIDE COMPRESSED INDICATE EXPIRATION P...  \n",
              "4                                      GLIBENCLAMIDE  "
            ],
            "text/html": [
              "\n",
              "  <div id=\"df-a87d9032-9b29-425d-a185-4d56fb4ee87f\">\n",
              "    <div class=\"colab-df-container\">\n",
              "      <div>\n",
              "<style scoped>\n",
              "    .dataframe tbody tr th:only-of-type {\n",
              "        vertical-align: middle;\n",
              "    }\n",
              "\n",
              "    .dataframe tbody tr th {\n",
              "        vertical-align: top;\n",
              "    }\n",
              "\n",
              "    .dataframe thead th {\n",
              "        text-align: right;\n",
              "    }\n",
              "</style>\n",
              "<table border=\"1\" class=\"dataframe\">\n",
              "  <thead>\n",
              "    <tr style=\"text-align: right;\">\n",
              "      <th></th>\n",
              "      <th>drugs english uppercase names</th>\n",
              "      <th>drug names</th>\n",
              "    </tr>\n",
              "  </thead>\n",
              "  <tbody>\n",
              "    <tr>\n",
              "      <th>0</th>\n",
              "      <td>GLIBENCLAMIDA 5 MG.</td>\n",
              "      <td>GLIBENCLAMIDA</td>\n",
              "    </tr>\n",
              "    <tr>\n",
              "      <th>1</th>\n",
              "      <td>GLYBENCLAMIDE 5MG. WITH DUE DATE JANUARY 2023.</td>\n",
              "      <td>GLYBENCLAMIDE JANUARY</td>\n",
              "    </tr>\n",
              "    <tr>\n",
              "      <th>2</th>\n",
              "      <td>GALVUS 50 MG, BOX OF 56 TABLETS</td>\n",
              "      <td>GALVUS TABLETS</td>\n",
              "    </tr>\n",
              "    <tr>\n",
              "      <th>3</th>\n",
              "      <td>GLYBENCLAMIDE 5 MG. COMPRESSED. INDICATE EXPIR...</td>\n",
              "      <td>GLYBENCLAMIDE COMPRESSED INDICATE EXPIRATION P...</td>\n",
              "    </tr>\n",
              "    <tr>\n",
              "      <th>4</th>\n",
              "      <td>GLIBENCLAMIDE 5 MG TABLETS</td>\n",
              "      <td>GLIBENCLAMIDE</td>\n",
              "    </tr>\n",
              "  </tbody>\n",
              "</table>\n",
              "</div>\n",
              "      <button class=\"colab-df-convert\" onclick=\"convertToInteractive('df-a87d9032-9b29-425d-a185-4d56fb4ee87f')\"\n",
              "              title=\"Convert this dataframe to an interactive table.\"\n",
              "              style=\"display:none;\">\n",
              "        \n",
              "  <svg xmlns=\"http://www.w3.org/2000/svg\" height=\"24px\"viewBox=\"0 0 24 24\"\n",
              "       width=\"24px\">\n",
              "    <path d=\"M0 0h24v24H0V0z\" fill=\"none\"/>\n",
              "    <path d=\"M18.56 5.44l.94 2.06.94-2.06 2.06-.94-2.06-.94-.94-2.06-.94 2.06-2.06.94zm-11 1L8.5 8.5l.94-2.06 2.06-.94-2.06-.94L8.5 2.5l-.94 2.06-2.06.94zm10 10l.94 2.06.94-2.06 2.06-.94-2.06-.94-.94-2.06-.94 2.06-2.06.94z\"/><path d=\"M17.41 7.96l-1.37-1.37c-.4-.4-.92-.59-1.43-.59-.52 0-1.04.2-1.43.59L10.3 9.45l-7.72 7.72c-.78.78-.78 2.05 0 2.83L4 21.41c.39.39.9.59 1.41.59.51 0 1.02-.2 1.41-.59l7.78-7.78 2.81-2.81c.8-.78.8-2.07 0-2.86zM5.41 20L4 18.59l7.72-7.72 1.47 1.35L5.41 20z\"/>\n",
              "  </svg>\n",
              "      </button>\n",
              "      \n",
              "  <style>\n",
              "    .colab-df-container {\n",
              "      display:flex;\n",
              "      flex-wrap:wrap;\n",
              "      gap: 12px;\n",
              "    }\n",
              "\n",
              "    .colab-df-convert {\n",
              "      background-color: #E8F0FE;\n",
              "      border: none;\n",
              "      border-radius: 50%;\n",
              "      cursor: pointer;\n",
              "      display: none;\n",
              "      fill: #1967D2;\n",
              "      height: 32px;\n",
              "      padding: 0 0 0 0;\n",
              "      width: 32px;\n",
              "    }\n",
              "\n",
              "    .colab-df-convert:hover {\n",
              "      background-color: #E2EBFA;\n",
              "      box-shadow: 0px 1px 2px rgba(60, 64, 67, 0.3), 0px 1px 3px 1px rgba(60, 64, 67, 0.15);\n",
              "      fill: #174EA6;\n",
              "    }\n",
              "\n",
              "    [theme=dark] .colab-df-convert {\n",
              "      background-color: #3B4455;\n",
              "      fill: #D2E3FC;\n",
              "    }\n",
              "\n",
              "    [theme=dark] .colab-df-convert:hover {\n",
              "      background-color: #434B5C;\n",
              "      box-shadow: 0px 1px 3px 1px rgba(0, 0, 0, 0.15);\n",
              "      filter: drop-shadow(0px 1px 2px rgba(0, 0, 0, 0.3));\n",
              "      fill: #FFFFFF;\n",
              "    }\n",
              "  </style>\n",
              "\n",
              "      <script>\n",
              "        const buttonEl =\n",
              "          document.querySelector('#df-a87d9032-9b29-425d-a185-4d56fb4ee87f button.colab-df-convert');\n",
              "        buttonEl.style.display =\n",
              "          google.colab.kernel.accessAllowed ? 'block' : 'none';\n",
              "\n",
              "        async function convertToInteractive(key) {\n",
              "          const element = document.querySelector('#df-a87d9032-9b29-425d-a185-4d56fb4ee87f');\n",
              "          const dataTable =\n",
              "            await google.colab.kernel.invokeFunction('convertToInteractive',\n",
              "                                                     [key], {});\n",
              "          if (!dataTable) return;\n",
              "\n",
              "          const docLinkHtml = 'Like what you see? Visit the ' +\n",
              "            '<a target=\"_blank\" href=https://colab.research.google.com/notebooks/data_table.ipynb>data table notebook</a>'\n",
              "            + ' to learn more about interactive tables.';\n",
              "          element.innerHTML = '';\n",
              "          dataTable['output_type'] = 'display_data';\n",
              "          await google.colab.output.renderOutput(dataTable, element);\n",
              "          const docLink = document.createElement('div');\n",
              "          docLink.innerHTML = docLinkHtml;\n",
              "          element.appendChild(docLink);\n",
              "        }\n",
              "      </script>\n",
              "    </div>\n",
              "  </div>\n",
              "  "
            ]
          },
          "metadata": {},
          "execution_count": 75
        }
      ]
    },
    {
      "cell_type": "code",
      "source": [
        "# combine Chile drug original full name, its index with the result data frame (pair with catalog name)\n",
        "drugs = pd.merge(hile1drugfn_index_df, combine_pair_df, on='drug names', how='left')"
      ],
      "metadata": {
        "id": "QTfynpDoLO7h"
      },
      "id": "QTfynpDoLO7h",
      "execution_count": 76,
      "outputs": []
    },
    {
      "cell_type": "code",
      "source": [
        "drugs[:5]"
      ],
      "metadata": {
        "colab": {
          "base_uri": "https://localhost:8080/",
          "height": 354
        },
        "id": "UPwKdDG2LOxa",
        "outputId": "61a3a70b-612d-4024-a7b3-8f0dd8f5e974"
      },
      "id": "UPwKdDG2LOxa",
      "execution_count": 77,
      "outputs": [
        {
          "output_type": "execute_result",
          "data": {
            "text/plain": [
              "  drugs english uppercase names     drug names  \\\n",
              "0           GLIBENCLAMIDA 5 MG.  GLIBENCLAMIDA   \n",
              "1           GLIBENCLAMIDA 5 MG.  GLIBENCLAMIDA   \n",
              "2           GLIBENCLAMIDA 5 MG.  GLIBENCLAMIDA   \n",
              "3           GLIBENCLAMIDA 5 MG.  GLIBENCLAMIDA   \n",
              "4           GLIBENCLAMIDA 5 MG.  GLIBENCLAMIDA   \n",
              "\n",
              "                    Catalog Index  \\\n",
              "0  IRBESARTAN HYDROCHLOROTHIAZIDE   \n",
              "1  IRBESARTAN HYDROCHLOROTHIAZIDE   \n",
              "2  IRBESARTAN HYDROCHLOROTHIAZIDE   \n",
              "3  IRBESARTAN HYDROCHLOROTHIAZIDE   \n",
              "4  IRBESARTAN HYDROCHLOROTHIAZIDE   \n",
              "\n",
              "                                        Catalog Name  \n",
              "0  IRBESARTAN 150 MG + HYDROCHLOROTHIAZIDE 25 MG,...  \n",
              "1  IRBESARTAN 300 MG + HYDROCHLOROTHIAZIDE 25 MG,...  \n",
              "2  IRBESARTAN 300 MG + HYDROCHLOROTHIAZIDE 25 MG,...  \n",
              "3  IRBESARTAN 150 MG + HYDROCHLOROTHIAZIDE 25 MG,...  \n",
              "4  IRBESARTAN 300 MG + HYDROCHLOROTHIAZIDE 25 MG,...  "
            ],
            "text/html": [
              "\n",
              "  <div id=\"df-9cd1f95d-d241-4535-bd4e-e168aa9b7fd7\">\n",
              "    <div class=\"colab-df-container\">\n",
              "      <div>\n",
              "<style scoped>\n",
              "    .dataframe tbody tr th:only-of-type {\n",
              "        vertical-align: middle;\n",
              "    }\n",
              "\n",
              "    .dataframe tbody tr th {\n",
              "        vertical-align: top;\n",
              "    }\n",
              "\n",
              "    .dataframe thead th {\n",
              "        text-align: right;\n",
              "    }\n",
              "</style>\n",
              "<table border=\"1\" class=\"dataframe\">\n",
              "  <thead>\n",
              "    <tr style=\"text-align: right;\">\n",
              "      <th></th>\n",
              "      <th>drugs english uppercase names</th>\n",
              "      <th>drug names</th>\n",
              "      <th>Catalog Index</th>\n",
              "      <th>Catalog Name</th>\n",
              "    </tr>\n",
              "  </thead>\n",
              "  <tbody>\n",
              "    <tr>\n",
              "      <th>0</th>\n",
              "      <td>GLIBENCLAMIDA 5 MG.</td>\n",
              "      <td>GLIBENCLAMIDA</td>\n",
              "      <td>IRBESARTAN HYDROCHLOROTHIAZIDE</td>\n",
              "      <td>IRBESARTAN 150 MG + HYDROCHLOROTHIAZIDE 25 MG,...</td>\n",
              "    </tr>\n",
              "    <tr>\n",
              "      <th>1</th>\n",
              "      <td>GLIBENCLAMIDA 5 MG.</td>\n",
              "      <td>GLIBENCLAMIDA</td>\n",
              "      <td>IRBESARTAN HYDROCHLOROTHIAZIDE</td>\n",
              "      <td>IRBESARTAN 300 MG + HYDROCHLOROTHIAZIDE 25 MG,...</td>\n",
              "    </tr>\n",
              "    <tr>\n",
              "      <th>2</th>\n",
              "      <td>GLIBENCLAMIDA 5 MG.</td>\n",
              "      <td>GLIBENCLAMIDA</td>\n",
              "      <td>IRBESARTAN HYDROCHLOROTHIAZIDE</td>\n",
              "      <td>IRBESARTAN 300 MG + HYDROCHLOROTHIAZIDE 25 MG,...</td>\n",
              "    </tr>\n",
              "    <tr>\n",
              "      <th>3</th>\n",
              "      <td>GLIBENCLAMIDA 5 MG.</td>\n",
              "      <td>GLIBENCLAMIDA</td>\n",
              "      <td>IRBESARTAN HYDROCHLOROTHIAZIDE</td>\n",
              "      <td>IRBESARTAN 150 MG + HYDROCHLOROTHIAZIDE 25 MG,...</td>\n",
              "    </tr>\n",
              "    <tr>\n",
              "      <th>4</th>\n",
              "      <td>GLIBENCLAMIDA 5 MG.</td>\n",
              "      <td>GLIBENCLAMIDA</td>\n",
              "      <td>IRBESARTAN HYDROCHLOROTHIAZIDE</td>\n",
              "      <td>IRBESARTAN 300 MG + HYDROCHLOROTHIAZIDE 25 MG,...</td>\n",
              "    </tr>\n",
              "  </tbody>\n",
              "</table>\n",
              "</div>\n",
              "      <button class=\"colab-df-convert\" onclick=\"convertToInteractive('df-9cd1f95d-d241-4535-bd4e-e168aa9b7fd7')\"\n",
              "              title=\"Convert this dataframe to an interactive table.\"\n",
              "              style=\"display:none;\">\n",
              "        \n",
              "  <svg xmlns=\"http://www.w3.org/2000/svg\" height=\"24px\"viewBox=\"0 0 24 24\"\n",
              "       width=\"24px\">\n",
              "    <path d=\"M0 0h24v24H0V0z\" fill=\"none\"/>\n",
              "    <path d=\"M18.56 5.44l.94 2.06.94-2.06 2.06-.94-2.06-.94-.94-2.06-.94 2.06-2.06.94zm-11 1L8.5 8.5l.94-2.06 2.06-.94-2.06-.94L8.5 2.5l-.94 2.06-2.06.94zm10 10l.94 2.06.94-2.06 2.06-.94-2.06-.94-.94-2.06-.94 2.06-2.06.94z\"/><path d=\"M17.41 7.96l-1.37-1.37c-.4-.4-.92-.59-1.43-.59-.52 0-1.04.2-1.43.59L10.3 9.45l-7.72 7.72c-.78.78-.78 2.05 0 2.83L4 21.41c.39.39.9.59 1.41.59.51 0 1.02-.2 1.41-.59l7.78-7.78 2.81-2.81c.8-.78.8-2.07 0-2.86zM5.41 20L4 18.59l7.72-7.72 1.47 1.35L5.41 20z\"/>\n",
              "  </svg>\n",
              "      </button>\n",
              "      \n",
              "  <style>\n",
              "    .colab-df-container {\n",
              "      display:flex;\n",
              "      flex-wrap:wrap;\n",
              "      gap: 12px;\n",
              "    }\n",
              "\n",
              "    .colab-df-convert {\n",
              "      background-color: #E8F0FE;\n",
              "      border: none;\n",
              "      border-radius: 50%;\n",
              "      cursor: pointer;\n",
              "      display: none;\n",
              "      fill: #1967D2;\n",
              "      height: 32px;\n",
              "      padding: 0 0 0 0;\n",
              "      width: 32px;\n",
              "    }\n",
              "\n",
              "    .colab-df-convert:hover {\n",
              "      background-color: #E2EBFA;\n",
              "      box-shadow: 0px 1px 2px rgba(60, 64, 67, 0.3), 0px 1px 3px 1px rgba(60, 64, 67, 0.15);\n",
              "      fill: #174EA6;\n",
              "    }\n",
              "\n",
              "    [theme=dark] .colab-df-convert {\n",
              "      background-color: #3B4455;\n",
              "      fill: #D2E3FC;\n",
              "    }\n",
              "\n",
              "    [theme=dark] .colab-df-convert:hover {\n",
              "      background-color: #434B5C;\n",
              "      box-shadow: 0px 1px 3px 1px rgba(0, 0, 0, 0.15);\n",
              "      filter: drop-shadow(0px 1px 2px rgba(0, 0, 0, 0.3));\n",
              "      fill: #FFFFFF;\n",
              "    }\n",
              "  </style>\n",
              "\n",
              "      <script>\n",
              "        const buttonEl =\n",
              "          document.querySelector('#df-9cd1f95d-d241-4535-bd4e-e168aa9b7fd7 button.colab-df-convert');\n",
              "        buttonEl.style.display =\n",
              "          google.colab.kernel.accessAllowed ? 'block' : 'none';\n",
              "\n",
              "        async function convertToInteractive(key) {\n",
              "          const element = document.querySelector('#df-9cd1f95d-d241-4535-bd4e-e168aa9b7fd7');\n",
              "          const dataTable =\n",
              "            await google.colab.kernel.invokeFunction('convertToInteractive',\n",
              "                                                     [key], {});\n",
              "          if (!dataTable) return;\n",
              "\n",
              "          const docLinkHtml = 'Like what you see? Visit the ' +\n",
              "            '<a target=\"_blank\" href=https://colab.research.google.com/notebooks/data_table.ipynb>data table notebook</a>'\n",
              "            + ' to learn more about interactive tables.';\n",
              "          element.innerHTML = '';\n",
              "          dataTable['output_type'] = 'display_data';\n",
              "          await google.colab.output.renderOutput(dataTable, element);\n",
              "          const docLink = document.createElement('div');\n",
              "          docLink.innerHTML = docLinkHtml;\n",
              "          element.appendChild(docLink);\n",
              "        }\n",
              "      </script>\n",
              "    </div>\n",
              "  </div>\n",
              "  "
            ]
          },
          "metadata": {},
          "execution_count": 77
        }
      ]
    },
    {
      "cell_type": "code",
      "source": [
        "print(len(drugs), len(set(drugs['drugs english uppercase names'])))"
      ],
      "metadata": {
        "colab": {
          "base_uri": "https://localhost:8080/"
        },
        "id": "X2oq2UacOCHE",
        "outputId": "50ead507-7197-4f7e-f3b9-17f1c8083e0a"
      },
      "id": "X2oq2UacOCHE",
      "execution_count": 78,
      "outputs": [
        {
          "output_type": "stream",
          "name": "stdout",
          "text": [
            "91484 841\n"
          ]
        }
      ]
    },
    {
      "cell_type": "code",
      "source": [
        "# get the list that contains first pairing names list for each original drug full name\n",
        "fistpairinglist = []\n",
        "i = 0\n",
        "for name in DrugNamesUEng:\n",
        "  subpairlist = []\n",
        "  while i < len(drugs):\n",
        "    if drugs['drugs english uppercase names'][i] == name:\n",
        "      subpairlist.append(drugs['Catalog Name'][i])\n",
        "      i += 1\n",
        "    else:\n",
        "      break\n",
        "  fistpairinglist.append(subpairlist)\n",
        "# runs 4 mins"
      ],
      "metadata": {
        "id": "5Y4mHdJkOCFI"
      },
      "id": "5Y4mHdJkOCFI",
      "execution_count": 79,
      "outputs": []
    },
    {
      "cell_type": "code",
      "source": [
        "print(len(fistpairinglist), len(DrugNamesUEng))"
      ],
      "metadata": {
        "colab": {
          "base_uri": "https://localhost:8080/"
        },
        "id": "wQFzkbR0OB85",
        "outputId": "1e730fca-bd72-43ab-dd0b-e040e0a46cdd"
      },
      "id": "wQFzkbR0OB85",
      "execution_count": 80,
      "outputs": [
        {
          "output_type": "stream",
          "name": "stdout",
          "text": [
            "952 952\n"
          ]
        }
      ]
    },
    {
      "cell_type": "code",
      "source": [
        "for i in range(0, len(fistpairinglist)):\n",
        "  if not fistpairinglist[i]:\n",
        "    fistpairinglist[i] = DrugNamesUEng[i]"
      ],
      "metadata": {
        "id": "gHAs0UTYSPar"
      },
      "id": "gHAs0UTYSPar",
      "execution_count": 81,
      "outputs": []
    },
    {
      "cell_type": "code",
      "source": [
        "finalpairname = []\n",
        "for item in range(len(DrugNamesUEng)):\n",
        "  distance_list = []\n",
        "  for pairname in fistpairinglist[item]:\n",
        "    distance = Simhash(DrugNamesUEng[item]).distance(Simhash(pairname))\n",
        "    distance_list.append(distance)\n",
        "  index_min = min(range(len(distance_list)), key=distance_list.__getitem__)\n",
        "  add_index = fistpairinglist[item][index_min]\n",
        "  finalpairname.append(add_index)"
      ],
      "metadata": {
        "id": "4w8xSEGTOB2t"
      },
      "id": "4w8xSEGTOB2t",
      "execution_count": 82,
      "outputs": []
    },
    {
      "cell_type": "code",
      "source": [
        "# combine the final paired name with the Chile 1 drug english name\n",
        "drugfn_index = {\"drugs english uppercase names\": DrugNamesUEng, \"Final paired catalog name\": finalpairname}"
      ],
      "metadata": {
        "id": "hf_JFbrBOBvt"
      },
      "id": "hf_JFbrBOBvt",
      "execution_count": 83,
      "outputs": []
    },
    {
      "cell_type": "code",
      "source": [
        "len(finalpairname)"
      ],
      "metadata": {
        "colab": {
          "base_uri": "https://localhost:8080/"
        },
        "id": "KNj5sLJjOBo4",
        "outputId": "17b07adb-d58a-45d0-ff76-dffc168c5a50"
      },
      "id": "KNj5sLJjOBo4",
      "execution_count": 84,
      "outputs": [
        {
          "output_type": "execute_result",
          "data": {
            "text/plain": [
              "952"
            ]
          },
          "metadata": {},
          "execution_count": 84
        }
      ]
    },
    {
      "cell_type": "code",
      "source": [
        "len(DrugNamesUEng)"
      ],
      "metadata": {
        "colab": {
          "base_uri": "https://localhost:8080/"
        },
        "id": "bCQzyX0mRHNx",
        "outputId": "6196e40c-97a1-464a-e02c-ea18fba27410"
      },
      "id": "bCQzyX0mRHNx",
      "execution_count": 85,
      "outputs": [
        {
          "output_type": "execute_result",
          "data": {
            "text/plain": [
              "952"
            ]
          },
          "metadata": {},
          "execution_count": 85
        }
      ]
    },
    {
      "cell_type": "code",
      "source": [
        "drugfn_index_df = pd.DataFrame(drugfn_index)\n"
      ],
      "metadata": {
        "id": "vM_0oK6oVFfD"
      },
      "id": "vM_0oK6oVFfD",
      "execution_count": 86,
      "outputs": []
    },
    {
      "cell_type": "code",
      "source": [
        "drugfn_index_df"
      ],
      "metadata": {
        "colab": {
          "base_uri": "https://localhost:8080/",
          "height": 468
        },
        "id": "PbOk-G-QVBMC",
        "outputId": "21e2c3a8-15d7-4492-dc60-7f8d3ab4c5b5"
      },
      "id": "PbOk-G-QVBMC",
      "execution_count": 113,
      "outputs": [
        {
          "output_type": "execute_result",
          "data": {
            "text/plain": [
              "                         drugs english uppercase names  \\\n",
              "0                                  GLIBENCLAMIDA 5 MG.   \n",
              "1       GLYBENCLAMIDE 5MG. WITH DUE DATE JANUARY 2023.   \n",
              "2                      GALVUS 50 MG, BOX OF 56 TABLETS   \n",
              "3    GLYBENCLAMIDE 5 MG. COMPRESSED. INDICATE EXPIR...   \n",
              "4                           GLIBENCLAMIDE 5 MG TABLETS   \n",
              "..                                                 ...   \n",
              "947      METFORMINA 500MG/ GLIBENCLAMIDA 5MG X 60 COMP   \n",
              "948              GLIBENCLAMIDE/METFORMIN 5MG./500MG CM   \n",
              "949  METFORMINA + GLIBENCLAMIDA 500/2.5MG **CARDIOV...   \n",
              "950               50-214-700-004-00\\tGLIBENCLAMIDA 5MG   \n",
              "951                          CM\\tGLIBENCLAMIDA CM 5 MG   \n",
              "\n",
              "                             Final paired catalog name  \n",
              "0    IRBESARTAN 300 MG + HYDROCHLOROTHIAZIDE 25 MG,...  \n",
              "1           ITRACONAZOLE 100 MG, CAPSULE, BLISTER, 5X3  \n",
              "2    MEGLUMINE ANTIMONIATE 300 MG/ML, INJECTION, 5 ...  \n",
              "3    VILDAGLIPTIN 50 MG + METFORMIN 500 MG, TABLET,...  \n",
              "4                      GLIBENCLAMIDE 5 MG, TABLET, TBD  \n",
              "..                                                 ...  \n",
              "947                        PROPOFOL 20 MG/ML, TBD, TBD  \n",
              "948  GLIBENCLAMIDE 5 MG + METFORMIN 1000 MG, TABLET...  \n",
              "949  MEGLUMINE ANTIMONIATE 300 MG/ML, INJECTION, 5 ...  \n",
              "950  IRBESARTAN 300 MG + HYDROCHLOROTHIAZIDE 25 MG,...  \n",
              "951  IRBESARTAN 300 MG + HYDROCHLOROTHIAZIDE 25 MG,...  \n",
              "\n",
              "[952 rows x 2 columns]"
            ],
            "text/html": [
              "\n",
              "  <div id=\"df-0053e52e-716c-437f-b3be-f21a0944acb1\">\n",
              "    <div class=\"colab-df-container\">\n",
              "      <div>\n",
              "<style scoped>\n",
              "    .dataframe tbody tr th:only-of-type {\n",
              "        vertical-align: middle;\n",
              "    }\n",
              "\n",
              "    .dataframe tbody tr th {\n",
              "        vertical-align: top;\n",
              "    }\n",
              "\n",
              "    .dataframe thead th {\n",
              "        text-align: right;\n",
              "    }\n",
              "</style>\n",
              "<table border=\"1\" class=\"dataframe\">\n",
              "  <thead>\n",
              "    <tr style=\"text-align: right;\">\n",
              "      <th></th>\n",
              "      <th>drugs english uppercase names</th>\n",
              "      <th>Final paired catalog name</th>\n",
              "    </tr>\n",
              "  </thead>\n",
              "  <tbody>\n",
              "    <tr>\n",
              "      <th>0</th>\n",
              "      <td>GLIBENCLAMIDA 5 MG.</td>\n",
              "      <td>IRBESARTAN 300 MG + HYDROCHLOROTHIAZIDE 25 MG,...</td>\n",
              "    </tr>\n",
              "    <tr>\n",
              "      <th>1</th>\n",
              "      <td>GLYBENCLAMIDE 5MG. WITH DUE DATE JANUARY 2023.</td>\n",
              "      <td>ITRACONAZOLE 100 MG, CAPSULE, BLISTER, 5X3</td>\n",
              "    </tr>\n",
              "    <tr>\n",
              "      <th>2</th>\n",
              "      <td>GALVUS 50 MG, BOX OF 56 TABLETS</td>\n",
              "      <td>MEGLUMINE ANTIMONIATE 300 MG/ML, INJECTION, 5 ...</td>\n",
              "    </tr>\n",
              "    <tr>\n",
              "      <th>3</th>\n",
              "      <td>GLYBENCLAMIDE 5 MG. COMPRESSED. INDICATE EXPIR...</td>\n",
              "      <td>VILDAGLIPTIN 50 MG + METFORMIN 500 MG, TABLET,...</td>\n",
              "    </tr>\n",
              "    <tr>\n",
              "      <th>4</th>\n",
              "      <td>GLIBENCLAMIDE 5 MG TABLETS</td>\n",
              "      <td>GLIBENCLAMIDE 5 MG, TABLET, TBD</td>\n",
              "    </tr>\n",
              "    <tr>\n",
              "      <th>...</th>\n",
              "      <td>...</td>\n",
              "      <td>...</td>\n",
              "    </tr>\n",
              "    <tr>\n",
              "      <th>947</th>\n",
              "      <td>METFORMINA 500MG/ GLIBENCLAMIDA 5MG X 60 COMP</td>\n",
              "      <td>PROPOFOL 20 MG/ML, TBD, TBD</td>\n",
              "    </tr>\n",
              "    <tr>\n",
              "      <th>948</th>\n",
              "      <td>GLIBENCLAMIDE/METFORMIN 5MG./500MG CM</td>\n",
              "      <td>GLIBENCLAMIDE 5 MG + METFORMIN 1000 MG, TABLET...</td>\n",
              "    </tr>\n",
              "    <tr>\n",
              "      <th>949</th>\n",
              "      <td>METFORMINA + GLIBENCLAMIDA 500/2.5MG **CARDIOV...</td>\n",
              "      <td>MEGLUMINE ANTIMONIATE 300 MG/ML, INJECTION, 5 ...</td>\n",
              "    </tr>\n",
              "    <tr>\n",
              "      <th>950</th>\n",
              "      <td>50-214-700-004-00\\tGLIBENCLAMIDA 5MG</td>\n",
              "      <td>IRBESARTAN 300 MG + HYDROCHLOROTHIAZIDE 25 MG,...</td>\n",
              "    </tr>\n",
              "    <tr>\n",
              "      <th>951</th>\n",
              "      <td>CM\\tGLIBENCLAMIDA CM 5 MG</td>\n",
              "      <td>IRBESARTAN 300 MG + HYDROCHLOROTHIAZIDE 25 MG,...</td>\n",
              "    </tr>\n",
              "  </tbody>\n",
              "</table>\n",
              "<p>952 rows × 2 columns</p>\n",
              "</div>\n",
              "      <button class=\"colab-df-convert\" onclick=\"convertToInteractive('df-0053e52e-716c-437f-b3be-f21a0944acb1')\"\n",
              "              title=\"Convert this dataframe to an interactive table.\"\n",
              "              style=\"display:none;\">\n",
              "        \n",
              "  <svg xmlns=\"http://www.w3.org/2000/svg\" height=\"24px\"viewBox=\"0 0 24 24\"\n",
              "       width=\"24px\">\n",
              "    <path d=\"M0 0h24v24H0V0z\" fill=\"none\"/>\n",
              "    <path d=\"M18.56 5.44l.94 2.06.94-2.06 2.06-.94-2.06-.94-.94-2.06-.94 2.06-2.06.94zm-11 1L8.5 8.5l.94-2.06 2.06-.94-2.06-.94L8.5 2.5l-.94 2.06-2.06.94zm10 10l.94 2.06.94-2.06 2.06-.94-2.06-.94-.94-2.06-.94 2.06-2.06.94z\"/><path d=\"M17.41 7.96l-1.37-1.37c-.4-.4-.92-.59-1.43-.59-.52 0-1.04.2-1.43.59L10.3 9.45l-7.72 7.72c-.78.78-.78 2.05 0 2.83L4 21.41c.39.39.9.59 1.41.59.51 0 1.02-.2 1.41-.59l7.78-7.78 2.81-2.81c.8-.78.8-2.07 0-2.86zM5.41 20L4 18.59l7.72-7.72 1.47 1.35L5.41 20z\"/>\n",
              "  </svg>\n",
              "      </button>\n",
              "      \n",
              "  <style>\n",
              "    .colab-df-container {\n",
              "      display:flex;\n",
              "      flex-wrap:wrap;\n",
              "      gap: 12px;\n",
              "    }\n",
              "\n",
              "    .colab-df-convert {\n",
              "      background-color: #E8F0FE;\n",
              "      border: none;\n",
              "      border-radius: 50%;\n",
              "      cursor: pointer;\n",
              "      display: none;\n",
              "      fill: #1967D2;\n",
              "      height: 32px;\n",
              "      padding: 0 0 0 0;\n",
              "      width: 32px;\n",
              "    }\n",
              "\n",
              "    .colab-df-convert:hover {\n",
              "      background-color: #E2EBFA;\n",
              "      box-shadow: 0px 1px 2px rgba(60, 64, 67, 0.3), 0px 1px 3px 1px rgba(60, 64, 67, 0.15);\n",
              "      fill: #174EA6;\n",
              "    }\n",
              "\n",
              "    [theme=dark] .colab-df-convert {\n",
              "      background-color: #3B4455;\n",
              "      fill: #D2E3FC;\n",
              "    }\n",
              "\n",
              "    [theme=dark] .colab-df-convert:hover {\n",
              "      background-color: #434B5C;\n",
              "      box-shadow: 0px 1px 3px 1px rgba(0, 0, 0, 0.15);\n",
              "      filter: drop-shadow(0px 1px 2px rgba(0, 0, 0, 0.3));\n",
              "      fill: #FFFFFF;\n",
              "    }\n",
              "  </style>\n",
              "\n",
              "      <script>\n",
              "        const buttonEl =\n",
              "          document.querySelector('#df-0053e52e-716c-437f-b3be-f21a0944acb1 button.colab-df-convert');\n",
              "        buttonEl.style.display =\n",
              "          google.colab.kernel.accessAllowed ? 'block' : 'none';\n",
              "\n",
              "        async function convertToInteractive(key) {\n",
              "          const element = document.querySelector('#df-0053e52e-716c-437f-b3be-f21a0944acb1');\n",
              "          const dataTable =\n",
              "            await google.colab.kernel.invokeFunction('convertToInteractive',\n",
              "                                                     [key], {});\n",
              "          if (!dataTable) return;\n",
              "\n",
              "          const docLinkHtml = 'Like what you see? Visit the ' +\n",
              "            '<a target=\"_blank\" href=https://colab.research.google.com/notebooks/data_table.ipynb>data table notebook</a>'\n",
              "            + ' to learn more about interactive tables.';\n",
              "          element.innerHTML = '';\n",
              "          dataTable['output_type'] = 'display_data';\n",
              "          await google.colab.output.renderOutput(dataTable, element);\n",
              "          const docLink = document.createElement('div');\n",
              "          docLink.innerHTML = docLinkHtml;\n",
              "          element.appendChild(docLink);\n",
              "        }\n",
              "      </script>\n",
              "    </div>\n",
              "  </div>\n",
              "  "
            ]
          },
          "metadata": {},
          "execution_count": 113
        }
      ]
    },
    {
      "cell_type": "code",
      "source": [
        "#drugfn_index_df.to_excel(\"Chile2drugfn_index.xlsx\", sheet_name = 'Chile2drugfn_index chile 1')  "
      ],
      "metadata": {
        "id": "5B8AUFeaVBE-"
      },
      "id": "5B8AUFeaVBE-",
      "execution_count": 88,
      "outputs": []
    },
    {
      "cell_type": "code",
      "source": [
        ""
      ],
      "metadata": {
        "id": "15cyYXhq5fXG"
      },
      "id": "15cyYXhq5fXG",
      "execution_count": 88,
      "outputs": []
    },
    {
      "cell_type": "markdown",
      "source": [
        "## Part 7: Combine (Add) the write result "
      ],
      "metadata": {
        "id": "v4CUKgx5_8v9"
      },
      "id": "v4CUKgx5_8v9"
    },
    {
      "cell_type": "code",
      "source": [
        "#finIndex"
      ],
      "metadata": {
        "id": "BsNMp7L3BXZq"
      },
      "id": "BsNMp7L3BXZq",
      "execution_count": null,
      "outputs": []
    },
    {
      "cell_type": "code",
      "source": [
        "PreList = []\n",
        "\n",
        "for item in DrugNamesUEngSpl:\n",
        "  addlist = []\n",
        "  for subitem in item:\n",
        "    if subitem in PresentationDiction2:\n",
        "      addlist.append(subitem)\n",
        "  PreList.append(list(set(addlist)))"
      ],
      "metadata": {
        "id": "upjfYpzvBX8x"
      },
      "id": "upjfYpzvBX8x",
      "execution_count": 89,
      "outputs": []
    },
    {
      "cell_type": "code",
      "source": [
        "WeightList = []\n",
        "\n",
        "for item in DrugNamesUEngSpl:\n",
        "  addlist = []\n",
        "  for subitem in range(0, len(item)):\n",
        "    if item[subitem].isdigit():\n",
        "      if subitem + 1 < len(item):\n",
        "        if item[subitem + 1].lower() in ['mg', 'ml']:\n",
        "          addlist.append(item[subitem])\n",
        "          addlist.append(item[subitem + 1])\n",
        "  WeightList.append(list(set(addlist)))"
      ],
      "metadata": {
        "id": "zEL1sW0aBX5u"
      },
      "id": "zEL1sW0aBX5u",
      "execution_count": 90,
      "outputs": []
    },
    {
      "cell_type": "code",
      "source": [
        "print(len(finIndex), len(PreList), len(WeightList))"
      ],
      "metadata": {
        "colab": {
          "base_uri": "https://localhost:8080/"
        },
        "id": "K4A_sNWjBX2m",
        "outputId": "ad077c35-7642-49e1-b1fb-11c8745245b6"
      },
      "id": "K4A_sNWjBX2m",
      "execution_count": 91,
      "outputs": [
        {
          "output_type": "stream",
          "name": "stdout",
          "text": [
            "952 952 952\n"
          ]
        }
      ]
    },
    {
      "cell_type": "code",
      "source": [
        "# for catalog name index dataframe, transform list to string\n",
        "str_finIndex = []\n",
        "for item in finIndex:\n",
        "  if not isinstance(item, str):\n",
        "    addsub = []\n",
        "    for subitem in item:\n",
        "      if subitem:\n",
        "        addsub.append(subitem)\n",
        "        newitem = ' '.join(addsub)\n",
        "  else:\n",
        "    newitem = item\n",
        "\n",
        "  str_finIndex.append(newitem)"
      ],
      "metadata": {
        "id": "Xxx4SvTkBXxh"
      },
      "id": "Xxx4SvTkBXxh",
      "execution_count": 93,
      "outputs": []
    },
    {
      "cell_type": "code",
      "source": [
        "str_finIndex[:4]"
      ],
      "metadata": {
        "colab": {
          "base_uri": "https://localhost:8080/"
        },
        "id": "7xZU5-zoBXrX",
        "outputId": "e282800b-f1ac-40ee-86a4-f8e71e589c73"
      },
      "id": "7xZU5-zoBXrX",
      "execution_count": 94,
      "outputs": [
        {
          "output_type": "execute_result",
          "data": {
            "text/plain": [
              "['GLIBENCLAMIDA',\n",
              " 'GLYBENCLAMIDE JANUARY',\n",
              " 'GALVUS TABLETS',\n",
              " 'GLYBENCLAMIDE COMPRESSED INDICATE EXPIRATION PRESENTATION PRODUCTS']"
            ]
          },
          "metadata": {},
          "execution_count": 94
        }
      ]
    },
    {
      "cell_type": "code",
      "source": [
        "str_PreList = []\n",
        "\n",
        "for item in PreList:\n",
        "  newitem = ' '.join(item)\n",
        "  str_PreList.append(newitem)"
      ],
      "metadata": {
        "id": "lKHdZ3c1EoID"
      },
      "id": "lKHdZ3c1EoID",
      "execution_count": 95,
      "outputs": []
    },
    {
      "cell_type": "code",
      "source": [
        "str_WeightList = []\n",
        "\n",
        "for item in WeightList:\n",
        "  newitem = ' '.join(item)\n",
        "  str_WeightList.append(newitem)"
      ],
      "metadata": {
        "id": "NeJaxQauEoE1"
      },
      "id": "NeJaxQauEoE1",
      "execution_count": 96,
      "outputs": []
    },
    {
      "cell_type": "code",
      "source": [
        "DrugDataWrite = {\"drugs english uppercase names\": DrugNamesUEng, \"Final Drug Index\": str_finIndex, \"Presentation Form\": str_PreList, \"Weight\": str_WeightList}"
      ],
      "metadata": {
        "id": "_zUzQDWWEoBS"
      },
      "id": "_zUzQDWWEoBS",
      "execution_count": 104,
      "outputs": []
    },
    {
      "cell_type": "code",
      "source": [
        "DrugDataWrite_df = pd.DataFrame(DrugDataWrite)"
      ],
      "metadata": {
        "id": "RZ5Sv3JgGJUp"
      },
      "id": "RZ5Sv3JgGJUp",
      "execution_count": 105,
      "outputs": []
    },
    {
      "cell_type": "code",
      "source": [
        "DrugDataWrite_df"
      ],
      "metadata": {
        "colab": {
          "base_uri": "https://localhost:8080/",
          "height": 572
        },
        "id": "ANbdE4qWGS92",
        "outputId": "0660a8a3-80ef-405d-9c61-c85c67e11ac0"
      },
      "id": "ANbdE4qWGS92",
      "execution_count": 106,
      "outputs": [
        {
          "output_type": "execute_result",
          "data": {
            "text/plain": [
              "                         drugs english uppercase names  \\\n",
              "0                                  GLIBENCLAMIDA 5 MG.   \n",
              "1       GLYBENCLAMIDE 5MG. WITH DUE DATE JANUARY 2023.   \n",
              "2                      GALVUS 50 MG, BOX OF 56 TABLETS   \n",
              "3    GLYBENCLAMIDE 5 MG. COMPRESSED. INDICATE EXPIR...   \n",
              "4                           GLIBENCLAMIDE 5 MG TABLETS   \n",
              "..                                                 ...   \n",
              "947      METFORMINA 500MG/ GLIBENCLAMIDA 5MG X 60 COMP   \n",
              "948              GLIBENCLAMIDE/METFORMIN 5MG./500MG CM   \n",
              "949  METFORMINA + GLIBENCLAMIDA 500/2.5MG **CARDIOV...   \n",
              "950               50-214-700-004-00\\tGLIBENCLAMIDA 5MG   \n",
              "951                          CM\\tGLIBENCLAMIDA CM 5 MG   \n",
              "\n",
              "                                      Final Drug Index Presentation Form  \\\n",
              "0                                        GLIBENCLAMIDA                     \n",
              "1                                GLYBENCLAMIDE JANUARY                     \n",
              "2                                       GALVUS TABLETS                     \n",
              "3    GLYBENCLAMIDE COMPRESSED INDICATE EXPIRATION P...                     \n",
              "4                                        GLIBENCLAMIDE                     \n",
              "..                                                 ...               ...   \n",
              "947                     METFORMINA 500MG GLIBENCLAMIDA             500MG   \n",
              "948                            GLIBENCLAMIDE METFORMIN             500MG   \n",
              "949            METFORMINA GLIBENCLAMIDA CARDIOVASCULAR                     \n",
              "950                                      GLIBENCLAMIDA                     \n",
              "951                                      GLIBENCLAMIDA                     \n",
              "\n",
              "    Weight  \n",
              "0     MG 5  \n",
              "1           \n",
              "2    MG 50  \n",
              "3     MG 5  \n",
              "4     MG 5  \n",
              "..     ...  \n",
              "947         \n",
              "948         \n",
              "949         \n",
              "950         \n",
              "951   MG 5  \n",
              "\n",
              "[952 rows x 4 columns]"
            ],
            "text/html": [
              "\n",
              "  <div id=\"df-cfb44657-4fb7-456c-a7d4-1a31fa9ccb60\">\n",
              "    <div class=\"colab-df-container\">\n",
              "      <div>\n",
              "<style scoped>\n",
              "    .dataframe tbody tr th:only-of-type {\n",
              "        vertical-align: middle;\n",
              "    }\n",
              "\n",
              "    .dataframe tbody tr th {\n",
              "        vertical-align: top;\n",
              "    }\n",
              "\n",
              "    .dataframe thead th {\n",
              "        text-align: right;\n",
              "    }\n",
              "</style>\n",
              "<table border=\"1\" class=\"dataframe\">\n",
              "  <thead>\n",
              "    <tr style=\"text-align: right;\">\n",
              "      <th></th>\n",
              "      <th>drugs english uppercase names</th>\n",
              "      <th>Final Drug Index</th>\n",
              "      <th>Presentation Form</th>\n",
              "      <th>Weight</th>\n",
              "    </tr>\n",
              "  </thead>\n",
              "  <tbody>\n",
              "    <tr>\n",
              "      <th>0</th>\n",
              "      <td>GLIBENCLAMIDA 5 MG.</td>\n",
              "      <td>GLIBENCLAMIDA</td>\n",
              "      <td></td>\n",
              "      <td>MG 5</td>\n",
              "    </tr>\n",
              "    <tr>\n",
              "      <th>1</th>\n",
              "      <td>GLYBENCLAMIDE 5MG. WITH DUE DATE JANUARY 2023.</td>\n",
              "      <td>GLYBENCLAMIDE JANUARY</td>\n",
              "      <td></td>\n",
              "      <td></td>\n",
              "    </tr>\n",
              "    <tr>\n",
              "      <th>2</th>\n",
              "      <td>GALVUS 50 MG, BOX OF 56 TABLETS</td>\n",
              "      <td>GALVUS TABLETS</td>\n",
              "      <td></td>\n",
              "      <td>MG 50</td>\n",
              "    </tr>\n",
              "    <tr>\n",
              "      <th>3</th>\n",
              "      <td>GLYBENCLAMIDE 5 MG. COMPRESSED. INDICATE EXPIR...</td>\n",
              "      <td>GLYBENCLAMIDE COMPRESSED INDICATE EXPIRATION P...</td>\n",
              "      <td></td>\n",
              "      <td>MG 5</td>\n",
              "    </tr>\n",
              "    <tr>\n",
              "      <th>4</th>\n",
              "      <td>GLIBENCLAMIDE 5 MG TABLETS</td>\n",
              "      <td>GLIBENCLAMIDE</td>\n",
              "      <td></td>\n",
              "      <td>MG 5</td>\n",
              "    </tr>\n",
              "    <tr>\n",
              "      <th>...</th>\n",
              "      <td>...</td>\n",
              "      <td>...</td>\n",
              "      <td>...</td>\n",
              "      <td>...</td>\n",
              "    </tr>\n",
              "    <tr>\n",
              "      <th>947</th>\n",
              "      <td>METFORMINA 500MG/ GLIBENCLAMIDA 5MG X 60 COMP</td>\n",
              "      <td>METFORMINA 500MG GLIBENCLAMIDA</td>\n",
              "      <td>500MG</td>\n",
              "      <td></td>\n",
              "    </tr>\n",
              "    <tr>\n",
              "      <th>948</th>\n",
              "      <td>GLIBENCLAMIDE/METFORMIN 5MG./500MG CM</td>\n",
              "      <td>GLIBENCLAMIDE METFORMIN</td>\n",
              "      <td>500MG</td>\n",
              "      <td></td>\n",
              "    </tr>\n",
              "    <tr>\n",
              "      <th>949</th>\n",
              "      <td>METFORMINA + GLIBENCLAMIDA 500/2.5MG **CARDIOV...</td>\n",
              "      <td>METFORMINA GLIBENCLAMIDA CARDIOVASCULAR</td>\n",
              "      <td></td>\n",
              "      <td></td>\n",
              "    </tr>\n",
              "    <tr>\n",
              "      <th>950</th>\n",
              "      <td>50-214-700-004-00\\tGLIBENCLAMIDA 5MG</td>\n",
              "      <td>GLIBENCLAMIDA</td>\n",
              "      <td></td>\n",
              "      <td></td>\n",
              "    </tr>\n",
              "    <tr>\n",
              "      <th>951</th>\n",
              "      <td>CM\\tGLIBENCLAMIDA CM 5 MG</td>\n",
              "      <td>GLIBENCLAMIDA</td>\n",
              "      <td></td>\n",
              "      <td>MG 5</td>\n",
              "    </tr>\n",
              "  </tbody>\n",
              "</table>\n",
              "<p>952 rows × 4 columns</p>\n",
              "</div>\n",
              "      <button class=\"colab-df-convert\" onclick=\"convertToInteractive('df-cfb44657-4fb7-456c-a7d4-1a31fa9ccb60')\"\n",
              "              title=\"Convert this dataframe to an interactive table.\"\n",
              "              style=\"display:none;\">\n",
              "        \n",
              "  <svg xmlns=\"http://www.w3.org/2000/svg\" height=\"24px\"viewBox=\"0 0 24 24\"\n",
              "       width=\"24px\">\n",
              "    <path d=\"M0 0h24v24H0V0z\" fill=\"none\"/>\n",
              "    <path d=\"M18.56 5.44l.94 2.06.94-2.06 2.06-.94-2.06-.94-.94-2.06-.94 2.06-2.06.94zm-11 1L8.5 8.5l.94-2.06 2.06-.94-2.06-.94L8.5 2.5l-.94 2.06-2.06.94zm10 10l.94 2.06.94-2.06 2.06-.94-2.06-.94-.94-2.06-.94 2.06-2.06.94z\"/><path d=\"M17.41 7.96l-1.37-1.37c-.4-.4-.92-.59-1.43-.59-.52 0-1.04.2-1.43.59L10.3 9.45l-7.72 7.72c-.78.78-.78 2.05 0 2.83L4 21.41c.39.39.9.59 1.41.59.51 0 1.02-.2 1.41-.59l7.78-7.78 2.81-2.81c.8-.78.8-2.07 0-2.86zM5.41 20L4 18.59l7.72-7.72 1.47 1.35L5.41 20z\"/>\n",
              "  </svg>\n",
              "      </button>\n",
              "      \n",
              "  <style>\n",
              "    .colab-df-container {\n",
              "      display:flex;\n",
              "      flex-wrap:wrap;\n",
              "      gap: 12px;\n",
              "    }\n",
              "\n",
              "    .colab-df-convert {\n",
              "      background-color: #E8F0FE;\n",
              "      border: none;\n",
              "      border-radius: 50%;\n",
              "      cursor: pointer;\n",
              "      display: none;\n",
              "      fill: #1967D2;\n",
              "      height: 32px;\n",
              "      padding: 0 0 0 0;\n",
              "      width: 32px;\n",
              "    }\n",
              "\n",
              "    .colab-df-convert:hover {\n",
              "      background-color: #E2EBFA;\n",
              "      box-shadow: 0px 1px 2px rgba(60, 64, 67, 0.3), 0px 1px 3px 1px rgba(60, 64, 67, 0.15);\n",
              "      fill: #174EA6;\n",
              "    }\n",
              "\n",
              "    [theme=dark] .colab-df-convert {\n",
              "      background-color: #3B4455;\n",
              "      fill: #D2E3FC;\n",
              "    }\n",
              "\n",
              "    [theme=dark] .colab-df-convert:hover {\n",
              "      background-color: #434B5C;\n",
              "      box-shadow: 0px 1px 3px 1px rgba(0, 0, 0, 0.15);\n",
              "      filter: drop-shadow(0px 1px 2px rgba(0, 0, 0, 0.3));\n",
              "      fill: #FFFFFF;\n",
              "    }\n",
              "  </style>\n",
              "\n",
              "      <script>\n",
              "        const buttonEl =\n",
              "          document.querySelector('#df-cfb44657-4fb7-456c-a7d4-1a31fa9ccb60 button.colab-df-convert');\n",
              "        buttonEl.style.display =\n",
              "          google.colab.kernel.accessAllowed ? 'block' : 'none';\n",
              "\n",
              "        async function convertToInteractive(key) {\n",
              "          const element = document.querySelector('#df-cfb44657-4fb7-456c-a7d4-1a31fa9ccb60');\n",
              "          const dataTable =\n",
              "            await google.colab.kernel.invokeFunction('convertToInteractive',\n",
              "                                                     [key], {});\n",
              "          if (!dataTable) return;\n",
              "\n",
              "          const docLinkHtml = 'Like what you see? Visit the ' +\n",
              "            '<a target=\"_blank\" href=https://colab.research.google.com/notebooks/data_table.ipynb>data table notebook</a>'\n",
              "            + ' to learn more about interactive tables.';\n",
              "          element.innerHTML = '';\n",
              "          dataTable['output_type'] = 'display_data';\n",
              "          await google.colab.output.renderOutput(dataTable, element);\n",
              "          const docLink = document.createElement('div');\n",
              "          docLink.innerHTML = docLinkHtml;\n",
              "          element.appendChild(docLink);\n",
              "        }\n",
              "      </script>\n",
              "    </div>\n",
              "  </div>\n",
              "  "
            ]
          },
          "metadata": {},
          "execution_count": 106
        }
      ]
    },
    {
      "cell_type": "code",
      "source": [
        "drugs_write_map = pd.merge(drugfn_index_df, DrugDataWrite_df, on='drugs english uppercase names')"
      ],
      "metadata": {
        "id": "6CIZ-rsqFKd-"
      },
      "id": "6CIZ-rsqFKd-",
      "execution_count": 114,
      "outputs": []
    },
    {
      "cell_type": "code",
      "source": [
        "drugs_write_map"
      ],
      "metadata": {
        "colab": {
          "base_uri": "https://localhost:8080/",
          "height": 693
        },
        "id": "xOB5o7ymE1pN",
        "outputId": "8c8629d4-9fea-4078-b808-cfd345b12e83"
      },
      "id": "xOB5o7ymE1pN",
      "execution_count": 115,
      "outputs": [
        {
          "output_type": "execute_result",
          "data": {
            "text/plain": [
              "                          drugs english uppercase names  \\\n",
              "0                                   GLIBENCLAMIDA 5 MG.   \n",
              "1                                   GLIBENCLAMIDA 5 MG.   \n",
              "2                                   GLIBENCLAMIDA 5 MG.   \n",
              "3                                   GLIBENCLAMIDA 5 MG.   \n",
              "4                                   GLIBENCLAMIDA 5 MG.   \n",
              "...                                                 ...   \n",
              "1415      METFORMINA 500MG/ GLIBENCLAMIDA 5MG X 60 COMP   \n",
              "1416              GLIBENCLAMIDE/METFORMIN 5MG./500MG CM   \n",
              "1417  METFORMINA + GLIBENCLAMIDA 500/2.5MG **CARDIOV...   \n",
              "1418               50-214-700-004-00\\tGLIBENCLAMIDA 5MG   \n",
              "1419                          CM\\tGLIBENCLAMIDA CM 5 MG   \n",
              "\n",
              "                              Final paired catalog name  \\\n",
              "0     IRBESARTAN 300 MG + HYDROCHLOROTHIAZIDE 25 MG,...   \n",
              "1     IRBESARTAN 300 MG + HYDROCHLOROTHIAZIDE 25 MG,...   \n",
              "2     IRBESARTAN 300 MG + HYDROCHLOROTHIAZIDE 25 MG,...   \n",
              "3     IRBESARTAN 300 MG + HYDROCHLOROTHIAZIDE 25 MG,...   \n",
              "4     IRBESARTAN 300 MG + HYDROCHLOROTHIAZIDE 25 MG,...   \n",
              "...                                                 ...   \n",
              "1415                        PROPOFOL 20 MG/ML, TBD, TBD   \n",
              "1416  GLIBENCLAMIDE 5 MG + METFORMIN 1000 MG, TABLET...   \n",
              "1417  MEGLUMINE ANTIMONIATE 300 MG/ML, INJECTION, 5 ...   \n",
              "1418  IRBESARTAN 300 MG + HYDROCHLOROTHIAZIDE 25 MG,...   \n",
              "1419  IRBESARTAN 300 MG + HYDROCHLOROTHIAZIDE 25 MG,...   \n",
              "\n",
              "                             Final Drug Index Presentation Form Weight  \n",
              "0                               GLIBENCLAMIDA                     MG 5  \n",
              "1                               GLIBENCLAMIDA                     MG 5  \n",
              "2                               GLIBENCLAMIDA                     MG 5  \n",
              "3                               GLIBENCLAMIDA                     MG 5  \n",
              "4                               GLIBENCLAMIDA                     MG 5  \n",
              "...                                       ...               ...    ...  \n",
              "1415           METFORMINA 500MG GLIBENCLAMIDA             500MG         \n",
              "1416                  GLIBENCLAMIDE METFORMIN             500MG         \n",
              "1417  METFORMINA GLIBENCLAMIDA CARDIOVASCULAR                           \n",
              "1418                            GLIBENCLAMIDA                           \n",
              "1419                            GLIBENCLAMIDA                     MG 5  \n",
              "\n",
              "[1420 rows x 5 columns]"
            ],
            "text/html": [
              "\n",
              "  <div id=\"df-c643d4b8-07eb-4b13-a95c-e1c25b0906aa\">\n",
              "    <div class=\"colab-df-container\">\n",
              "      <div>\n",
              "<style scoped>\n",
              "    .dataframe tbody tr th:only-of-type {\n",
              "        vertical-align: middle;\n",
              "    }\n",
              "\n",
              "    .dataframe tbody tr th {\n",
              "        vertical-align: top;\n",
              "    }\n",
              "\n",
              "    .dataframe thead th {\n",
              "        text-align: right;\n",
              "    }\n",
              "</style>\n",
              "<table border=\"1\" class=\"dataframe\">\n",
              "  <thead>\n",
              "    <tr style=\"text-align: right;\">\n",
              "      <th></th>\n",
              "      <th>drugs english uppercase names</th>\n",
              "      <th>Final paired catalog name</th>\n",
              "      <th>Final Drug Index</th>\n",
              "      <th>Presentation Form</th>\n",
              "      <th>Weight</th>\n",
              "    </tr>\n",
              "  </thead>\n",
              "  <tbody>\n",
              "    <tr>\n",
              "      <th>0</th>\n",
              "      <td>GLIBENCLAMIDA 5 MG.</td>\n",
              "      <td>IRBESARTAN 300 MG + HYDROCHLOROTHIAZIDE 25 MG,...</td>\n",
              "      <td>GLIBENCLAMIDA</td>\n",
              "      <td></td>\n",
              "      <td>MG 5</td>\n",
              "    </tr>\n",
              "    <tr>\n",
              "      <th>1</th>\n",
              "      <td>GLIBENCLAMIDA 5 MG.</td>\n",
              "      <td>IRBESARTAN 300 MG + HYDROCHLOROTHIAZIDE 25 MG,...</td>\n",
              "      <td>GLIBENCLAMIDA</td>\n",
              "      <td></td>\n",
              "      <td>MG 5</td>\n",
              "    </tr>\n",
              "    <tr>\n",
              "      <th>2</th>\n",
              "      <td>GLIBENCLAMIDA 5 MG.</td>\n",
              "      <td>IRBESARTAN 300 MG + HYDROCHLOROTHIAZIDE 25 MG,...</td>\n",
              "      <td>GLIBENCLAMIDA</td>\n",
              "      <td></td>\n",
              "      <td>MG 5</td>\n",
              "    </tr>\n",
              "    <tr>\n",
              "      <th>3</th>\n",
              "      <td>GLIBENCLAMIDA 5 MG.</td>\n",
              "      <td>IRBESARTAN 300 MG + HYDROCHLOROTHIAZIDE 25 MG,...</td>\n",
              "      <td>GLIBENCLAMIDA</td>\n",
              "      <td></td>\n",
              "      <td>MG 5</td>\n",
              "    </tr>\n",
              "    <tr>\n",
              "      <th>4</th>\n",
              "      <td>GLIBENCLAMIDA 5 MG.</td>\n",
              "      <td>IRBESARTAN 300 MG + HYDROCHLOROTHIAZIDE 25 MG,...</td>\n",
              "      <td>GLIBENCLAMIDA</td>\n",
              "      <td></td>\n",
              "      <td>MG 5</td>\n",
              "    </tr>\n",
              "    <tr>\n",
              "      <th>...</th>\n",
              "      <td>...</td>\n",
              "      <td>...</td>\n",
              "      <td>...</td>\n",
              "      <td>...</td>\n",
              "      <td>...</td>\n",
              "    </tr>\n",
              "    <tr>\n",
              "      <th>1415</th>\n",
              "      <td>METFORMINA 500MG/ GLIBENCLAMIDA 5MG X 60 COMP</td>\n",
              "      <td>PROPOFOL 20 MG/ML, TBD, TBD</td>\n",
              "      <td>METFORMINA 500MG GLIBENCLAMIDA</td>\n",
              "      <td>500MG</td>\n",
              "      <td></td>\n",
              "    </tr>\n",
              "    <tr>\n",
              "      <th>1416</th>\n",
              "      <td>GLIBENCLAMIDE/METFORMIN 5MG./500MG CM</td>\n",
              "      <td>GLIBENCLAMIDE 5 MG + METFORMIN 1000 MG, TABLET...</td>\n",
              "      <td>GLIBENCLAMIDE METFORMIN</td>\n",
              "      <td>500MG</td>\n",
              "      <td></td>\n",
              "    </tr>\n",
              "    <tr>\n",
              "      <th>1417</th>\n",
              "      <td>METFORMINA + GLIBENCLAMIDA 500/2.5MG **CARDIOV...</td>\n",
              "      <td>MEGLUMINE ANTIMONIATE 300 MG/ML, INJECTION, 5 ...</td>\n",
              "      <td>METFORMINA GLIBENCLAMIDA CARDIOVASCULAR</td>\n",
              "      <td></td>\n",
              "      <td></td>\n",
              "    </tr>\n",
              "    <tr>\n",
              "      <th>1418</th>\n",
              "      <td>50-214-700-004-00\\tGLIBENCLAMIDA 5MG</td>\n",
              "      <td>IRBESARTAN 300 MG + HYDROCHLOROTHIAZIDE 25 MG,...</td>\n",
              "      <td>GLIBENCLAMIDA</td>\n",
              "      <td></td>\n",
              "      <td></td>\n",
              "    </tr>\n",
              "    <tr>\n",
              "      <th>1419</th>\n",
              "      <td>CM\\tGLIBENCLAMIDA CM 5 MG</td>\n",
              "      <td>IRBESARTAN 300 MG + HYDROCHLOROTHIAZIDE 25 MG,...</td>\n",
              "      <td>GLIBENCLAMIDA</td>\n",
              "      <td></td>\n",
              "      <td>MG 5</td>\n",
              "    </tr>\n",
              "  </tbody>\n",
              "</table>\n",
              "<p>1420 rows × 5 columns</p>\n",
              "</div>\n",
              "      <button class=\"colab-df-convert\" onclick=\"convertToInteractive('df-c643d4b8-07eb-4b13-a95c-e1c25b0906aa')\"\n",
              "              title=\"Convert this dataframe to an interactive table.\"\n",
              "              style=\"display:none;\">\n",
              "        \n",
              "  <svg xmlns=\"http://www.w3.org/2000/svg\" height=\"24px\"viewBox=\"0 0 24 24\"\n",
              "       width=\"24px\">\n",
              "    <path d=\"M0 0h24v24H0V0z\" fill=\"none\"/>\n",
              "    <path d=\"M18.56 5.44l.94 2.06.94-2.06 2.06-.94-2.06-.94-.94-2.06-.94 2.06-2.06.94zm-11 1L8.5 8.5l.94-2.06 2.06-.94-2.06-.94L8.5 2.5l-.94 2.06-2.06.94zm10 10l.94 2.06.94-2.06 2.06-.94-2.06-.94-.94-2.06-.94 2.06-2.06.94z\"/><path d=\"M17.41 7.96l-1.37-1.37c-.4-.4-.92-.59-1.43-.59-.52 0-1.04.2-1.43.59L10.3 9.45l-7.72 7.72c-.78.78-.78 2.05 0 2.83L4 21.41c.39.39.9.59 1.41.59.51 0 1.02-.2 1.41-.59l7.78-7.78 2.81-2.81c.8-.78.8-2.07 0-2.86zM5.41 20L4 18.59l7.72-7.72 1.47 1.35L5.41 20z\"/>\n",
              "  </svg>\n",
              "      </button>\n",
              "      \n",
              "  <style>\n",
              "    .colab-df-container {\n",
              "      display:flex;\n",
              "      flex-wrap:wrap;\n",
              "      gap: 12px;\n",
              "    }\n",
              "\n",
              "    .colab-df-convert {\n",
              "      background-color: #E8F0FE;\n",
              "      border: none;\n",
              "      border-radius: 50%;\n",
              "      cursor: pointer;\n",
              "      display: none;\n",
              "      fill: #1967D2;\n",
              "      height: 32px;\n",
              "      padding: 0 0 0 0;\n",
              "      width: 32px;\n",
              "    }\n",
              "\n",
              "    .colab-df-convert:hover {\n",
              "      background-color: #E2EBFA;\n",
              "      box-shadow: 0px 1px 2px rgba(60, 64, 67, 0.3), 0px 1px 3px 1px rgba(60, 64, 67, 0.15);\n",
              "      fill: #174EA6;\n",
              "    }\n",
              "\n",
              "    [theme=dark] .colab-df-convert {\n",
              "      background-color: #3B4455;\n",
              "      fill: #D2E3FC;\n",
              "    }\n",
              "\n",
              "    [theme=dark] .colab-df-convert:hover {\n",
              "      background-color: #434B5C;\n",
              "      box-shadow: 0px 1px 3px 1px rgba(0, 0, 0, 0.15);\n",
              "      filter: drop-shadow(0px 1px 2px rgba(0, 0, 0, 0.3));\n",
              "      fill: #FFFFFF;\n",
              "    }\n",
              "  </style>\n",
              "\n",
              "      <script>\n",
              "        const buttonEl =\n",
              "          document.querySelector('#df-c643d4b8-07eb-4b13-a95c-e1c25b0906aa button.colab-df-convert');\n",
              "        buttonEl.style.display =\n",
              "          google.colab.kernel.accessAllowed ? 'block' : 'none';\n",
              "\n",
              "        async function convertToInteractive(key) {\n",
              "          const element = document.querySelector('#df-c643d4b8-07eb-4b13-a95c-e1c25b0906aa');\n",
              "          const dataTable =\n",
              "            await google.colab.kernel.invokeFunction('convertToInteractive',\n",
              "                                                     [key], {});\n",
              "          if (!dataTable) return;\n",
              "\n",
              "          const docLinkHtml = 'Like what you see? Visit the ' +\n",
              "            '<a target=\"_blank\" href=https://colab.research.google.com/notebooks/data_table.ipynb>data table notebook</a>'\n",
              "            + ' to learn more about interactive tables.';\n",
              "          element.innerHTML = '';\n",
              "          dataTable['output_type'] = 'display_data';\n",
              "          await google.colab.output.renderOutput(dataTable, element);\n",
              "          const docLink = document.createElement('div');\n",
              "          docLink.innerHTML = docLinkHtml;\n",
              "          element.appendChild(docLink);\n",
              "        }\n",
              "      </script>\n",
              "    </div>\n",
              "  </div>\n",
              "  "
            ]
          },
          "metadata": {},
          "execution_count": 115
        }
      ]
    },
    {
      "cell_type": "code",
      "source": [
        "drugs_write_map = drugs_write_map.drop_duplicates(subset=['drugs english uppercase names'], keep='first')"
      ],
      "metadata": {
        "id": "78h2ZgMmEn7n"
      },
      "id": "78h2ZgMmEn7n",
      "execution_count": 124,
      "outputs": []
    },
    {
      "cell_type": "code",
      "source": [
        "len(DrugNamesUEng)"
      ],
      "metadata": {
        "colab": {
          "base_uri": "https://localhost:8080/"
        },
        "id": "knQApyjGEn0e",
        "outputId": "9450dbcd-9b40-437d-b608-934b4d32c7ab"
      },
      "id": "knQApyjGEn0e",
      "execution_count": 117,
      "outputs": [
        {
          "output_type": "execute_result",
          "data": {
            "text/plain": [
              "952"
            ]
          },
          "metadata": {},
          "execution_count": 117
        }
      ]
    },
    {
      "cell_type": "code",
      "source": [
        "len(list(DrugNamesUEng))"
      ],
      "metadata": {
        "colab": {
          "base_uri": "https://localhost:8080/"
        },
        "id": "IMz9m367E__-",
        "outputId": "8dddfce3-704a-4073-b4ca-7d2ac0a8be28"
      },
      "id": "IMz9m367E__-",
      "execution_count": 118,
      "outputs": [
        {
          "output_type": "execute_result",
          "data": {
            "text/plain": [
              "952"
            ]
          },
          "metadata": {},
          "execution_count": 118
        }
      ]
    },
    {
      "cell_type": "code",
      "source": [
        "drugs_write_map.to_excel(\"CHLDiab2drugs_write_map.xlsx\", sheet_name = 'CHLDiab2drugs_write_map')  "
      ],
      "metadata": {
        "id": "ouYl0wcpE_4V"
      },
      "id": "ouYl0wcpE_4V",
      "execution_count": 125,
      "outputs": []
    },
    {
      "cell_type": "code",
      "source": [
        ""
      ],
      "metadata": {
        "id": "NL6EIg_ME_wS"
      },
      "id": "NL6EIg_ME_wS",
      "execution_count": null,
      "outputs": []
    }
  ],
  "metadata": {
    "kernelspec": {
      "display_name": "Python 3 (ipykernel)",
      "language": "python",
      "name": "python3"
    },
    "language_info": {
      "codemirror_mode": {
        "name": "ipython",
        "version": 3
      },
      "file_extension": ".py",
      "mimetype": "text/x-python",
      "name": "python",
      "nbconvert_exporter": "python",
      "pygments_lexer": "ipython3",
      "version": "3.9.7"
    },
    "colab": {
      "name": "Drug Data Mapping and Write.ipynb",
      "provenance": [],
      "collapsed_sections": [
        "IrN1IQf15h61",
        "sau0AnJP_R3C",
        "mwVqGJ4PoEil",
        "uj_gM4EnvmqL"
      ],
      "include_colab_link": true
    }
  },
  "nbformat": 4,
  "nbformat_minor": 5
}