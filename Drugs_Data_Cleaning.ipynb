{
  "cells": [
    {
      "cell_type": "markdown",
      "metadata": {
        "id": "view-in-github",
        "colab_type": "text"
      },
      "source": [
        "<a href=\"https://colab.research.google.com/github/wenjunc2/Summer-2022/blob/main/Drugs_Data_Cleaning.ipynb\" target=\"_parent\"><img src=\"https://colab.research.google.com/assets/colab-badge.svg\" alt=\"Open In Colab\"/></a>"
      ]
    },
    {
      "cell_type": "markdown",
      "source": [
        "check the work direction"
      ],
      "metadata": {
        "id": "4qriPV8xnPkK"
      },
      "id": "4qriPV8xnPkK"
    },
    {
      "cell_type": "code",
      "execution_count": 1,
      "id": "b3fa8107",
      "metadata": {
        "id": "b3fa8107"
      },
      "outputs": [],
      "source": [
        "import pandas as pd"
      ]
    },
    {
      "cell_type": "code",
      "source": [
        "import os\n",
        "cwd = os.getcwd()"
      ],
      "metadata": {
        "id": "2uvLA_LqcdiB"
      },
      "id": "2uvLA_LqcdiB",
      "execution_count": 2,
      "outputs": []
    },
    {
      "cell_type": "code",
      "source": [
        "cwd"
      ],
      "metadata": {
        "colab": {
          "base_uri": "https://localhost:8080/",
          "height": 35
        },
        "id": "2XD8nQyQb1Ki",
        "outputId": "ff5a65cc-4c34-4de9-e30d-b119fdb8bf85"
      },
      "id": "2XD8nQyQb1Ki",
      "execution_count": 3,
      "outputs": [
        {
          "output_type": "execute_result",
          "data": {
            "text/plain": [
              "'/content'"
            ],
            "application/vnd.google.colaboratory.intrinsic+json": {
              "type": "string"
            }
          },
          "metadata": {},
          "execution_count": 3
        }
      ]
    },
    {
      "cell_type": "markdown",
      "source": [
        "read into the data"
      ],
      "metadata": {
        "id": "EduuvGfiimX9"
      },
      "id": "EduuvGfiimX9"
    },
    {
      "cell_type": "code",
      "source": [
        "CleanDataBase = pd.read_excel('CleanDataBase.xlsx')"
      ],
      "metadata": {
        "id": "yusdT6pHiTtA"
      },
      "id": "yusdT6pHiTtA",
      "execution_count": 4,
      "outputs": []
    },
    {
      "cell_type": "markdown",
      "source": [
        "### Data Exploretion"
      ],
      "metadata": {
        "id": "u9XupW1dlOY6"
      },
      "id": "u9XupW1dlOY6"
    },
    {
      "cell_type": "markdown",
      "source": [
        "display the structure of dataset, the unique number of country code, and country product name"
      ],
      "metadata": {
        "id": "qApjvtv6lPBq"
      },
      "id": "qApjvtv6lPBq"
    },
    {
      "cell_type": "code",
      "source": [
        "str(CleanDataBase)"
      ],
      "metadata": {
        "colab": {
          "base_uri": "https://localhost:8080/",
          "height": 144
        },
        "id": "Rj5nCaC3ilJJ",
        "outputId": "354e95fa-f191-488d-ad63-04edbfffcdbe"
      },
      "id": "Rj5nCaC3ilJJ",
      "execution_count": 5,
      "outputs": [
        {
          "output_type": "execute_result",
          "data": {
            "text/plain": [
              "'      Country Code           Entity Entity Type Point of Delivery  \\\\\\n0              BHS          BHS MOH         MOH               NaN   \\n1              BHS          BHS MOH         MOH               NaN   \\n2              BHS          BHS MOH         MOH               NaN   \\n3              BHS          BHS MOH         MOH               NaN   \\n4              BHS          BHS MOH         MOH               NaN   \\n...            ...              ...         ...               ...   \\n14332          SLV  Ayudame a vivir   Fundacion           Unknown   \\n14333          SLV  Ayudame a vivir   Fundacion           Unknown   \\n14334          SLV  Ayudame a vivir   Fundacion           Unknown   \\n14335          SLV  Ayudame a vivir   Fundacion           Unknown   \\n14336          SLV  Ayudame a vivir   Fundacion           Unknown   \\n\\n      Purchase Mechanism  Program   Region          Therapeutic Area  \\\\\\n0                Unknown      NaN      NaN  Cardiovascular medicines   \\n1                Unknown      NaN      NaN  Cardiovascular medicines   \\n2                Unknown      NaN      NaN  Cardiovascular medicines   \\n3                Unknown      NaN      NaN  Cardiovascular medicines   \\n4                Unknown      NaN      NaN  Cardiovascular medicines   \\n...                  ...      ...      ...                       ...   \\n14332            Unknown  Unknown  Unknown           Antineoplastics   \\n14333            Unknown  Unknown  Unknown           Antineoplastics   \\n14334            Unknown  Unknown  Unknown           Antineoplastics   \\n14335            Unknown  Unknown  Unknown           Antineoplastics   \\n14336            Unknown  Unknown  Unknown           Antineoplastics   \\n\\n                                    Country Product Name  \\\\\\n0                                             AMLODIPINE   \\n1                                             AMLODIPINE   \\n2                                         CHLORTHALIDONE   \\n3                                     HYDROCHLOROTIAZIDE   \\n4                                             LISINOPRIL   \\n...                                                  ...   \\n14332  Asparginasa Pegilada , Un vial de 5 ml de solu...   \\n14333  L-Asparginasa, Polvo para solucion inyectable....   \\n14334                     Metotrexato, Tableta de 2.5mg.   \\n14335  Metotrexato, Solución inyectable. Frasco vial ...   \\n14336  Mitoxantrona, Solución para inyectable. Frasco...   \\n\\n                             Country Product Description  Generic  \\\\\\n0                                                TABLETS  Unknown   \\n1                                                TABLETS  Unknown   \\n2                                                TABLETS  Unknown   \\n3                                                TABLETS  Unknown   \\n4                                                TABLETS  Unknown   \\n...                                                  ...      ...   \\n14332  Un vial de 5 ml de solución contiene 3,750 uni...   Unkown   \\n14333  Polvo para solucion inyectable. Frasco vial de...   Unkown   \\n14334                                  Tableta de 2.5mg.   Unkown   \\n14335     Solución inyectable. Frasco vial de 500mg/20mL   Unkown   \\n14336      Solución para inyectable. Frasco de 20mg/10mL   Unkown   \\n\\n       Subunits per Unit                                       Catalog Name  \\\\\\n0                      1            AMLODIPINE 5 MG, TABLET, BLISTER, 10X30   \\n1                      1          AMLODIPINE 10 MG, TABLET, BLISTER, 10X100   \\n2                      1        CHLORTHALIDONE 25 MG, TABLET, BLISTER, 10X3   \\n3                      1   HYDROCHLOROTHIAZIDE 25 MG, TABLET, BLISTER, 25X4   \\n4                      1            LISINOPRIL 20 MG, TABLET, BLISTER, 10X3   \\n...                  ...                                                ...   \\n14332                  1  PUSHY ASPARGINASE, A 5 ML VIAL OF SOLUTION CON...   \\n14333                  1  ASPARAGINASE\\xa010000\\xa0IU,\\xa0POWDER\\xa0FOR\\xa0INJECTION,\\xa0V...   \\n14334                  1  METHOTREXATE\\xa02.5\\xa0MG\\xa0(SODIUM\\xa0SALT),\\xa0TABLET,\\xa0BLI...   \\n14335                  1     METOTREXATE, INJECTION. 500MG/20ML ROAD BOTTLE   \\n14336                  1  MITOXANTRONA, SOLUTION FOR INJECTABLE. 20MG/10...   \\n\\n      Supplier Manufacturer Purchase Date  Purchase Year  Total Amount  \\\\\\n0      Unknown      Unknown           NaT         2021.0           NaN   \\n1      Unknown      Unknown           NaT         2021.0           NaN   \\n2      Unknown      Unknown           NaT         2021.0           NaN   \\n3      Unknown      Unknown           NaT         2021.0           NaN   \\n4      Unknown      Unknown           NaT         2021.0           NaN   \\n...        ...          ...           ...            ...           ...   \\n14332  Unknown      Unknown           NaT         2022.0        1800.0   \\n14333  Unknown      Unknown           NaT         2022.0          92.5   \\n14334  Unknown      Unknown           NaT         2022.0           0.5   \\n14335  Unknown      Unknown           NaT         2022.0          18.0   \\n14336  Unknown      Unknown           NaT         2022.0          90.0   \\n\\n       Unit Quantity  Min Unit Price USD  \\n0                NaN            0.026000  \\n1                NaN            0.019500  \\n2                NaN            0.186333  \\n3                NaN            0.010000  \\n4                NaN            0.028400  \\n...              ...                 ...  \\n14332            1.0         1800.000000  \\n14333            1.0           92.500000  \\n14334            1.0            0.500000  \\n14335            1.0           18.000000  \\n14336            1.0           90.000000  \\n\\n[14337 rows x 20 columns]'"
            ],
            "application/vnd.google.colaboratory.intrinsic+json": {
              "type": "string"
            }
          },
          "metadata": {},
          "execution_count": 5
        }
      ]
    },
    {
      "cell_type": "code",
      "source": [
        "type(CleanDataBase)"
      ],
      "metadata": {
        "colab": {
          "base_uri": "https://localhost:8080/"
        },
        "id": "DOEpvzKbi1pm",
        "outputId": "1e153cdd-2633-4e34-e753-3906f72b34bf"
      },
      "id": "DOEpvzKbi1pm",
      "execution_count": 6,
      "outputs": [
        {
          "output_type": "execute_result",
          "data": {
            "text/plain": [
              "pandas.core.frame.DataFrame"
            ]
          },
          "metadata": {},
          "execution_count": 6
        }
      ]
    },
    {
      "cell_type": "code",
      "source": [
        "CleanDataBase.head()"
      ],
      "metadata": {
        "colab": {
          "base_uri": "https://localhost:8080/",
          "height": 426
        },
        "id": "Yl0fW-2hi-XT",
        "outputId": "00cd2d4d-4770-4e8c-c5cb-2ba69524c120"
      },
      "id": "Yl0fW-2hi-XT",
      "execution_count": 7,
      "outputs": [
        {
          "output_type": "execute_result",
          "data": {
            "text/plain": [
              "  Country Code   Entity Entity Type Point of Delivery Purchase Mechanism  \\\n",
              "0          BHS  BHS MOH         MOH               NaN            Unknown   \n",
              "1          BHS  BHS MOH         MOH               NaN            Unknown   \n",
              "2          BHS  BHS MOH         MOH               NaN            Unknown   \n",
              "3          BHS  BHS MOH         MOH               NaN            Unknown   \n",
              "4          BHS  BHS MOH         MOH               NaN            Unknown   \n",
              "\n",
              "  Program Region          Therapeutic Area Country Product Name  \\\n",
              "0     NaN    NaN  Cardiovascular medicines           AMLODIPINE   \n",
              "1     NaN    NaN  Cardiovascular medicines           AMLODIPINE   \n",
              "2     NaN    NaN  Cardiovascular medicines       CHLORTHALIDONE   \n",
              "3     NaN    NaN  Cardiovascular medicines   HYDROCHLOROTIAZIDE   \n",
              "4     NaN    NaN  Cardiovascular medicines           LISINOPRIL   \n",
              "\n",
              "  Country Product Description  Generic  Subunits per Unit  \\\n",
              "0                     TABLETS  Unknown                  1   \n",
              "1                     TABLETS  Unknown                  1   \n",
              "2                     TABLETS  Unknown                  1   \n",
              "3                     TABLETS  Unknown                  1   \n",
              "4                     TABLETS  Unknown                  1   \n",
              "\n",
              "                                       Catalog Name Supplier Manufacturer  \\\n",
              "0           AMLODIPINE 5 MG, TABLET, BLISTER, 10X30  Unknown      Unknown   \n",
              "1         AMLODIPINE 10 MG, TABLET, BLISTER, 10X100  Unknown      Unknown   \n",
              "2       CHLORTHALIDONE 25 MG, TABLET, BLISTER, 10X3  Unknown      Unknown   \n",
              "3  HYDROCHLOROTHIAZIDE 25 MG, TABLET, BLISTER, 25X4  Unknown      Unknown   \n",
              "4           LISINOPRIL 20 MG, TABLET, BLISTER, 10X3  Unknown      Unknown   \n",
              "\n",
              "  Purchase Date  Purchase Year  Total Amount  Unit Quantity  \\\n",
              "0           NaT         2021.0           NaN            NaN   \n",
              "1           NaT         2021.0           NaN            NaN   \n",
              "2           NaT         2021.0           NaN            NaN   \n",
              "3           NaT         2021.0           NaN            NaN   \n",
              "4           NaT         2021.0           NaN            NaN   \n",
              "\n",
              "   Min Unit Price USD  \n",
              "0            0.026000  \n",
              "1            0.019500  \n",
              "2            0.186333  \n",
              "3            0.010000  \n",
              "4            0.028400  "
            ],
            "text/html": [
              "\n",
              "  <div id=\"df-30de704d-2ef1-4081-98a3-e94a58fb3fcf\">\n",
              "    <div class=\"colab-df-container\">\n",
              "      <div>\n",
              "<style scoped>\n",
              "    .dataframe tbody tr th:only-of-type {\n",
              "        vertical-align: middle;\n",
              "    }\n",
              "\n",
              "    .dataframe tbody tr th {\n",
              "        vertical-align: top;\n",
              "    }\n",
              "\n",
              "    .dataframe thead th {\n",
              "        text-align: right;\n",
              "    }\n",
              "</style>\n",
              "<table border=\"1\" class=\"dataframe\">\n",
              "  <thead>\n",
              "    <tr style=\"text-align: right;\">\n",
              "      <th></th>\n",
              "      <th>Country Code</th>\n",
              "      <th>Entity</th>\n",
              "      <th>Entity Type</th>\n",
              "      <th>Point of Delivery</th>\n",
              "      <th>Purchase Mechanism</th>\n",
              "      <th>Program</th>\n",
              "      <th>Region</th>\n",
              "      <th>Therapeutic Area</th>\n",
              "      <th>Country Product Name</th>\n",
              "      <th>Country Product Description</th>\n",
              "      <th>Generic</th>\n",
              "      <th>Subunits per Unit</th>\n",
              "      <th>Catalog Name</th>\n",
              "      <th>Supplier</th>\n",
              "      <th>Manufacturer</th>\n",
              "      <th>Purchase Date</th>\n",
              "      <th>Purchase Year</th>\n",
              "      <th>Total Amount</th>\n",
              "      <th>Unit Quantity</th>\n",
              "      <th>Min Unit Price USD</th>\n",
              "    </tr>\n",
              "  </thead>\n",
              "  <tbody>\n",
              "    <tr>\n",
              "      <th>0</th>\n",
              "      <td>BHS</td>\n",
              "      <td>BHS MOH</td>\n",
              "      <td>MOH</td>\n",
              "      <td>NaN</td>\n",
              "      <td>Unknown</td>\n",
              "      <td>NaN</td>\n",
              "      <td>NaN</td>\n",
              "      <td>Cardiovascular medicines</td>\n",
              "      <td>AMLODIPINE</td>\n",
              "      <td>TABLETS</td>\n",
              "      <td>Unknown</td>\n",
              "      <td>1</td>\n",
              "      <td>AMLODIPINE 5 MG, TABLET, BLISTER, 10X30</td>\n",
              "      <td>Unknown</td>\n",
              "      <td>Unknown</td>\n",
              "      <td>NaT</td>\n",
              "      <td>2021.0</td>\n",
              "      <td>NaN</td>\n",
              "      <td>NaN</td>\n",
              "      <td>0.026000</td>\n",
              "    </tr>\n",
              "    <tr>\n",
              "      <th>1</th>\n",
              "      <td>BHS</td>\n",
              "      <td>BHS MOH</td>\n",
              "      <td>MOH</td>\n",
              "      <td>NaN</td>\n",
              "      <td>Unknown</td>\n",
              "      <td>NaN</td>\n",
              "      <td>NaN</td>\n",
              "      <td>Cardiovascular medicines</td>\n",
              "      <td>AMLODIPINE</td>\n",
              "      <td>TABLETS</td>\n",
              "      <td>Unknown</td>\n",
              "      <td>1</td>\n",
              "      <td>AMLODIPINE 10 MG, TABLET, BLISTER, 10X100</td>\n",
              "      <td>Unknown</td>\n",
              "      <td>Unknown</td>\n",
              "      <td>NaT</td>\n",
              "      <td>2021.0</td>\n",
              "      <td>NaN</td>\n",
              "      <td>NaN</td>\n",
              "      <td>0.019500</td>\n",
              "    </tr>\n",
              "    <tr>\n",
              "      <th>2</th>\n",
              "      <td>BHS</td>\n",
              "      <td>BHS MOH</td>\n",
              "      <td>MOH</td>\n",
              "      <td>NaN</td>\n",
              "      <td>Unknown</td>\n",
              "      <td>NaN</td>\n",
              "      <td>NaN</td>\n",
              "      <td>Cardiovascular medicines</td>\n",
              "      <td>CHLORTHALIDONE</td>\n",
              "      <td>TABLETS</td>\n",
              "      <td>Unknown</td>\n",
              "      <td>1</td>\n",
              "      <td>CHLORTHALIDONE 25 MG, TABLET, BLISTER, 10X3</td>\n",
              "      <td>Unknown</td>\n",
              "      <td>Unknown</td>\n",
              "      <td>NaT</td>\n",
              "      <td>2021.0</td>\n",
              "      <td>NaN</td>\n",
              "      <td>NaN</td>\n",
              "      <td>0.186333</td>\n",
              "    </tr>\n",
              "    <tr>\n",
              "      <th>3</th>\n",
              "      <td>BHS</td>\n",
              "      <td>BHS MOH</td>\n",
              "      <td>MOH</td>\n",
              "      <td>NaN</td>\n",
              "      <td>Unknown</td>\n",
              "      <td>NaN</td>\n",
              "      <td>NaN</td>\n",
              "      <td>Cardiovascular medicines</td>\n",
              "      <td>HYDROCHLOROTIAZIDE</td>\n",
              "      <td>TABLETS</td>\n",
              "      <td>Unknown</td>\n",
              "      <td>1</td>\n",
              "      <td>HYDROCHLOROTHIAZIDE 25 MG, TABLET, BLISTER, 25X4</td>\n",
              "      <td>Unknown</td>\n",
              "      <td>Unknown</td>\n",
              "      <td>NaT</td>\n",
              "      <td>2021.0</td>\n",
              "      <td>NaN</td>\n",
              "      <td>NaN</td>\n",
              "      <td>0.010000</td>\n",
              "    </tr>\n",
              "    <tr>\n",
              "      <th>4</th>\n",
              "      <td>BHS</td>\n",
              "      <td>BHS MOH</td>\n",
              "      <td>MOH</td>\n",
              "      <td>NaN</td>\n",
              "      <td>Unknown</td>\n",
              "      <td>NaN</td>\n",
              "      <td>NaN</td>\n",
              "      <td>Cardiovascular medicines</td>\n",
              "      <td>LISINOPRIL</td>\n",
              "      <td>TABLETS</td>\n",
              "      <td>Unknown</td>\n",
              "      <td>1</td>\n",
              "      <td>LISINOPRIL 20 MG, TABLET, BLISTER, 10X3</td>\n",
              "      <td>Unknown</td>\n",
              "      <td>Unknown</td>\n",
              "      <td>NaT</td>\n",
              "      <td>2021.0</td>\n",
              "      <td>NaN</td>\n",
              "      <td>NaN</td>\n",
              "      <td>0.028400</td>\n",
              "    </tr>\n",
              "  </tbody>\n",
              "</table>\n",
              "</div>\n",
              "      <button class=\"colab-df-convert\" onclick=\"convertToInteractive('df-30de704d-2ef1-4081-98a3-e94a58fb3fcf')\"\n",
              "              title=\"Convert this dataframe to an interactive table.\"\n",
              "              style=\"display:none;\">\n",
              "        \n",
              "  <svg xmlns=\"http://www.w3.org/2000/svg\" height=\"24px\"viewBox=\"0 0 24 24\"\n",
              "       width=\"24px\">\n",
              "    <path d=\"M0 0h24v24H0V0z\" fill=\"none\"/>\n",
              "    <path d=\"M18.56 5.44l.94 2.06.94-2.06 2.06-.94-2.06-.94-.94-2.06-.94 2.06-2.06.94zm-11 1L8.5 8.5l.94-2.06 2.06-.94-2.06-.94L8.5 2.5l-.94 2.06-2.06.94zm10 10l.94 2.06.94-2.06 2.06-.94-2.06-.94-.94-2.06-.94 2.06-2.06.94z\"/><path d=\"M17.41 7.96l-1.37-1.37c-.4-.4-.92-.59-1.43-.59-.52 0-1.04.2-1.43.59L10.3 9.45l-7.72 7.72c-.78.78-.78 2.05 0 2.83L4 21.41c.39.39.9.59 1.41.59.51 0 1.02-.2 1.41-.59l7.78-7.78 2.81-2.81c.8-.78.8-2.07 0-2.86zM5.41 20L4 18.59l7.72-7.72 1.47 1.35L5.41 20z\"/>\n",
              "  </svg>\n",
              "      </button>\n",
              "      \n",
              "  <style>\n",
              "    .colab-df-container {\n",
              "      display:flex;\n",
              "      flex-wrap:wrap;\n",
              "      gap: 12px;\n",
              "    }\n",
              "\n",
              "    .colab-df-convert {\n",
              "      background-color: #E8F0FE;\n",
              "      border: none;\n",
              "      border-radius: 50%;\n",
              "      cursor: pointer;\n",
              "      display: none;\n",
              "      fill: #1967D2;\n",
              "      height: 32px;\n",
              "      padding: 0 0 0 0;\n",
              "      width: 32px;\n",
              "    }\n",
              "\n",
              "    .colab-df-convert:hover {\n",
              "      background-color: #E2EBFA;\n",
              "      box-shadow: 0px 1px 2px rgba(60, 64, 67, 0.3), 0px 1px 3px 1px rgba(60, 64, 67, 0.15);\n",
              "      fill: #174EA6;\n",
              "    }\n",
              "\n",
              "    [theme=dark] .colab-df-convert {\n",
              "      background-color: #3B4455;\n",
              "      fill: #D2E3FC;\n",
              "    }\n",
              "\n",
              "    [theme=dark] .colab-df-convert:hover {\n",
              "      background-color: #434B5C;\n",
              "      box-shadow: 0px 1px 3px 1px rgba(0, 0, 0, 0.15);\n",
              "      filter: drop-shadow(0px 1px 2px rgba(0, 0, 0, 0.3));\n",
              "      fill: #FFFFFF;\n",
              "    }\n",
              "  </style>\n",
              "\n",
              "      <script>\n",
              "        const buttonEl =\n",
              "          document.querySelector('#df-30de704d-2ef1-4081-98a3-e94a58fb3fcf button.colab-df-convert');\n",
              "        buttonEl.style.display =\n",
              "          google.colab.kernel.accessAllowed ? 'block' : 'none';\n",
              "\n",
              "        async function convertToInteractive(key) {\n",
              "          const element = document.querySelector('#df-30de704d-2ef1-4081-98a3-e94a58fb3fcf');\n",
              "          const dataTable =\n",
              "            await google.colab.kernel.invokeFunction('convertToInteractive',\n",
              "                                                     [key], {});\n",
              "          if (!dataTable) return;\n",
              "\n",
              "          const docLinkHtml = 'Like what you see? Visit the ' +\n",
              "            '<a target=\"_blank\" href=https://colab.research.google.com/notebooks/data_table.ipynb>data table notebook</a>'\n",
              "            + ' to learn more about interactive tables.';\n",
              "          element.innerHTML = '';\n",
              "          dataTable['output_type'] = 'display_data';\n",
              "          await google.colab.output.renderOutput(dataTable, element);\n",
              "          const docLink = document.createElement('div');\n",
              "          docLink.innerHTML = docLinkHtml;\n",
              "          element.appendChild(docLink);\n",
              "        }\n",
              "      </script>\n",
              "    </div>\n",
              "  </div>\n",
              "  "
            ]
          },
          "metadata": {},
          "execution_count": 7
        }
      ]
    },
    {
      "cell_type": "code",
      "source": [
        "Country_Code = CleanDataBase['Country Code'].unique()"
      ],
      "metadata": {
        "id": "pqUb0HOEjLwD"
      },
      "id": "pqUb0HOEjLwD",
      "execution_count": 8,
      "outputs": []
    },
    {
      "cell_type": "code",
      "source": [
        "Country_Code # unique country code"
      ],
      "metadata": {
        "colab": {
          "base_uri": "https://localhost:8080/"
        },
        "id": "r6a7ObwTJBGk",
        "outputId": "450344c8-795e-42e8-eb01-761802617997"
      },
      "id": "r6a7ObwTJBGk",
      "execution_count": 9,
      "outputs": [
        {
          "output_type": "execute_result",
          "data": {
            "text/plain": [
              "array(['BHS', 'BMU', 'BRA', 'CHL', 'COM', 'SLV', 'ECU IESS', 'GTM', 'ARG',\n",
              "       'ECU', 'PER', 'PAN', 'COL', 'CRI', 'OECS PPS', 'TTO', 'MEX', 'DOM'],\n",
              "      dtype=object)"
            ]
          },
          "metadata": {},
          "execution_count": 9
        }
      ]
    },
    {
      "cell_type": "code",
      "source": [
        "Coutry_Product_Name = CleanDataBase['Country Product Name'].unique()"
      ],
      "metadata": {
        "id": "88zhYXp4naFc"
      },
      "id": "88zhYXp4naFc",
      "execution_count": null,
      "outputs": []
    },
    {
      "cell_type": "code",
      "source": [
        "import sys\n",
        "import numpy\n",
        "numpy.set_printoptions(threshold=sys.maxsize)"
      ],
      "metadata": {
        "id": "7YKp6JP3oEei"
      },
      "id": "7YKp6JP3oEei",
      "execution_count": null,
      "outputs": []
    },
    {
      "cell_type": "code",
      "source": [
        "#Coutry_Product_Name"
      ],
      "metadata": {
        "id": "Qzuf_jW3n4Bb"
      },
      "id": "Qzuf_jW3n4Bb",
      "execution_count": null,
      "outputs": []
    },
    {
      "cell_type": "code",
      "source": [
        "len(Coutry_Product_Name) # total unique coutry product name number"
      ],
      "metadata": {
        "colab": {
          "base_uri": "https://localhost:8080/"
        },
        "id": "yfSxWEQJoMlq",
        "outputId": "03727605-f09e-4ed3-8883-68e2adac2013"
      },
      "id": "yfSxWEQJoMlq",
      "execution_count": null,
      "outputs": [
        {
          "output_type": "execute_result",
          "data": {
            "text/plain": [
              "5012"
            ]
          },
          "metadata": {},
          "execution_count": 12
        }
      ]
    },
    {
      "cell_type": "markdown",
      "source": [
        "try to display the country product name for BHS"
      ],
      "metadata": {
        "id": "kL1h4yO9o9_-"
      },
      "id": "kL1h4yO9o9_-"
    },
    {
      "cell_type": "code",
      "source": [
        "BHS_Coutry_Product_Name = CleanDataBase[CleanDataBase['Country Code'] == 'BHS']['Country Product Name'].unique()"
      ],
      "metadata": {
        "id": "dCxAC9OjoXjL"
      },
      "id": "dCxAC9OjoXjL",
      "execution_count": null,
      "outputs": []
    },
    {
      "cell_type": "code",
      "source": [
        "BHS_Coutry_Product_Name"
      ],
      "metadata": {
        "colab": {
          "base_uri": "https://localhost:8080/"
        },
        "id": "nOmaSoaMuCEc",
        "outputId": "c85b0c1a-2666-4c5b-b607-846049606001"
      },
      "id": "nOmaSoaMuCEc",
      "execution_count": null,
      "outputs": [
        {
          "output_type": "execute_result",
          "data": {
            "text/plain": [
              "array(['AMLODIPINE', 'CHLORTHALIDONE', 'HYDROCHLOROTIAZIDE', 'LISINOPRIL',\n",
              "       'LISINOPRIL + HYDROCHLOROTHIAZIDE', 'LOSARTAN', 'METOPROLOL',\n",
              "       'TELMISARTAN', 'TELMISARTAN + AMLODIPINE'], dtype=object)"
            ]
          },
          "metadata": {},
          "execution_count": 14
        }
      ]
    },
    {
      "cell_type": "markdown",
      "source": [
        "display the number of product for each country"
      ],
      "metadata": {
        "id": "XiibOr07pqln"
      },
      "id": "XiibOr07pqln"
    },
    {
      "cell_type": "code",
      "source": [
        "Coutry_Product_Name_Number = []\n",
        "\n",
        "for name in Country_Code:\n",
        "  Coutry_Product_Name_Unique = CleanDataBase[CleanDataBase['Country Code'] == name]['Country Product Name'].unique()\n",
        "  number = len(Coutry_Product_Name_Unique)\n",
        "  Coutry_Product_Name_Number.append(number)\n"
      ],
      "metadata": {
        "id": "3Q4OMolvIxMi"
      },
      "id": "3Q4OMolvIxMi",
      "execution_count": null,
      "outputs": []
    },
    {
      "cell_type": "code",
      "source": [
        "Coutry_Product_Name_Number"
      ],
      "metadata": {
        "colab": {
          "base_uri": "https://localhost:8080/"
        },
        "id": "HIBZh7sTIxSX",
        "outputId": "a3963536-ae55-4851-aa1a-716d4921223f"
      },
      "id": "HIBZh7sTIxSX",
      "execution_count": null,
      "outputs": [
        {
          "output_type": "execute_result",
          "data": {
            "text/plain": [
              "[9, 3, 133, 3620, 24, 48, 80, 5, 1, 2, 48, 3, 899, 4, 26, 34, 1, 78]"
            ]
          },
          "metadata": {},
          "execution_count": 16
        }
      ]
    },
    {
      "cell_type": "code",
      "source": [
        "sum(Coutry_Product_Name_Number)"
      ],
      "metadata": {
        "colab": {
          "base_uri": "https://localhost:8080/"
        },
        "id": "O2IacbqukECe",
        "outputId": "eddbc7da-573d-4633-ec0d-160163a2765f"
      },
      "id": "O2IacbqukECe",
      "execution_count": null,
      "outputs": [
        {
          "output_type": "execute_result",
          "data": {
            "text/plain": [
              "5018"
            ]
          },
          "metadata": {},
          "execution_count": 18
        }
      ]
    },
    {
      "cell_type": "code",
      "source": [
        "country_data = {'BHS': [9], 'BMU': [3], 'BRA': [133], 'CHL': [3620], 'COM': [24], 'SLV': [48], 'ECU IESS': [80], 'GTM': [5], 'ARG': [1],\n",
        "       'ECU': [2], 'PER': [48], 'PAN': [3], 'COL': [899], 'CRI': [4], 'OECS PPS': [26], 'TTO': [34], 'MEX': [1], 'DOM': [78]}"
      ],
      "metadata": {
        "id": "Us-mq-MnSf_1"
      },
      "id": "Us-mq-MnSf_1",
      "execution_count": null,
      "outputs": []
    },
    {
      "cell_type": "code",
      "source": [
        "Coutry_Product = pd.DataFrame(data = country_data)"
      ],
      "metadata": {
        "id": "7c5ggtYVM6TD"
      },
      "id": "7c5ggtYVM6TD",
      "execution_count": null,
      "outputs": []
    },
    {
      "cell_type": "code",
      "source": [
        "Coutry_Product"
      ],
      "metadata": {
        "colab": {
          "base_uri": "https://localhost:8080/",
          "height": 81
        },
        "id": "jyU8ZLsRVTs9",
        "outputId": "544d570a-2ba7-451c-ac35-d14b8ffdd831"
      },
      "id": "jyU8ZLsRVTs9",
      "execution_count": null,
      "outputs": [
        {
          "output_type": "execute_result",
          "data": {
            "text/plain": [
              "   BHS  BMU  BRA   CHL  COM  SLV  ECU IESS  GTM  ARG  ECU  PER  PAN  COL  CRI  \\\n",
              "0    9    3  133  3620   24   48        80    5    1    2   48    3  899    4   \n",
              "\n",
              "   OECS PPS  TTO  MEX  DOM  \n",
              "0        26   34    1   78  "
            ],
            "text/html": [
              "\n",
              "  <div id=\"df-6aaff1b2-8a2e-435d-9c53-39ce69552f72\">\n",
              "    <div class=\"colab-df-container\">\n",
              "      <div>\n",
              "<style scoped>\n",
              "    .dataframe tbody tr th:only-of-type {\n",
              "        vertical-align: middle;\n",
              "    }\n",
              "\n",
              "    .dataframe tbody tr th {\n",
              "        vertical-align: top;\n",
              "    }\n",
              "\n",
              "    .dataframe thead th {\n",
              "        text-align: right;\n",
              "    }\n",
              "</style>\n",
              "<table border=\"1\" class=\"dataframe\">\n",
              "  <thead>\n",
              "    <tr style=\"text-align: right;\">\n",
              "      <th></th>\n",
              "      <th>BHS</th>\n",
              "      <th>BMU</th>\n",
              "      <th>BRA</th>\n",
              "      <th>CHL</th>\n",
              "      <th>COM</th>\n",
              "      <th>SLV</th>\n",
              "      <th>ECU IESS</th>\n",
              "      <th>GTM</th>\n",
              "      <th>ARG</th>\n",
              "      <th>ECU</th>\n",
              "      <th>PER</th>\n",
              "      <th>PAN</th>\n",
              "      <th>COL</th>\n",
              "      <th>CRI</th>\n",
              "      <th>OECS PPS</th>\n",
              "      <th>TTO</th>\n",
              "      <th>MEX</th>\n",
              "      <th>DOM</th>\n",
              "    </tr>\n",
              "  </thead>\n",
              "  <tbody>\n",
              "    <tr>\n",
              "      <th>0</th>\n",
              "      <td>9</td>\n",
              "      <td>3</td>\n",
              "      <td>133</td>\n",
              "      <td>3620</td>\n",
              "      <td>24</td>\n",
              "      <td>48</td>\n",
              "      <td>80</td>\n",
              "      <td>5</td>\n",
              "      <td>1</td>\n",
              "      <td>2</td>\n",
              "      <td>48</td>\n",
              "      <td>3</td>\n",
              "      <td>899</td>\n",
              "      <td>4</td>\n",
              "      <td>26</td>\n",
              "      <td>34</td>\n",
              "      <td>1</td>\n",
              "      <td>78</td>\n",
              "    </tr>\n",
              "  </tbody>\n",
              "</table>\n",
              "</div>\n",
              "      <button class=\"colab-df-convert\" onclick=\"convertToInteractive('df-6aaff1b2-8a2e-435d-9c53-39ce69552f72')\"\n",
              "              title=\"Convert this dataframe to an interactive table.\"\n",
              "              style=\"display:none;\">\n",
              "        \n",
              "  <svg xmlns=\"http://www.w3.org/2000/svg\" height=\"24px\"viewBox=\"0 0 24 24\"\n",
              "       width=\"24px\">\n",
              "    <path d=\"M0 0h24v24H0V0z\" fill=\"none\"/>\n",
              "    <path d=\"M18.56 5.44l.94 2.06.94-2.06 2.06-.94-2.06-.94-.94-2.06-.94 2.06-2.06.94zm-11 1L8.5 8.5l.94-2.06 2.06-.94-2.06-.94L8.5 2.5l-.94 2.06-2.06.94zm10 10l.94 2.06.94-2.06 2.06-.94-2.06-.94-.94-2.06-.94 2.06-2.06.94z\"/><path d=\"M17.41 7.96l-1.37-1.37c-.4-.4-.92-.59-1.43-.59-.52 0-1.04.2-1.43.59L10.3 9.45l-7.72 7.72c-.78.78-.78 2.05 0 2.83L4 21.41c.39.39.9.59 1.41.59.51 0 1.02-.2 1.41-.59l7.78-7.78 2.81-2.81c.8-.78.8-2.07 0-2.86zM5.41 20L4 18.59l7.72-7.72 1.47 1.35L5.41 20z\"/>\n",
              "  </svg>\n",
              "      </button>\n",
              "      \n",
              "  <style>\n",
              "    .colab-df-container {\n",
              "      display:flex;\n",
              "      flex-wrap:wrap;\n",
              "      gap: 12px;\n",
              "    }\n",
              "\n",
              "    .colab-df-convert {\n",
              "      background-color: #E8F0FE;\n",
              "      border: none;\n",
              "      border-radius: 50%;\n",
              "      cursor: pointer;\n",
              "      display: none;\n",
              "      fill: #1967D2;\n",
              "      height: 32px;\n",
              "      padding: 0 0 0 0;\n",
              "      width: 32px;\n",
              "    }\n",
              "\n",
              "    .colab-df-convert:hover {\n",
              "      background-color: #E2EBFA;\n",
              "      box-shadow: 0px 1px 2px rgba(60, 64, 67, 0.3), 0px 1px 3px 1px rgba(60, 64, 67, 0.15);\n",
              "      fill: #174EA6;\n",
              "    }\n",
              "\n",
              "    [theme=dark] .colab-df-convert {\n",
              "      background-color: #3B4455;\n",
              "      fill: #D2E3FC;\n",
              "    }\n",
              "\n",
              "    [theme=dark] .colab-df-convert:hover {\n",
              "      background-color: #434B5C;\n",
              "      box-shadow: 0px 1px 3px 1px rgba(0, 0, 0, 0.15);\n",
              "      filter: drop-shadow(0px 1px 2px rgba(0, 0, 0, 0.3));\n",
              "      fill: #FFFFFF;\n",
              "    }\n",
              "  </style>\n",
              "\n",
              "      <script>\n",
              "        const buttonEl =\n",
              "          document.querySelector('#df-6aaff1b2-8a2e-435d-9c53-39ce69552f72 button.colab-df-convert');\n",
              "        buttonEl.style.display =\n",
              "          google.colab.kernel.accessAllowed ? 'block' : 'none';\n",
              "\n",
              "        async function convertToInteractive(key) {\n",
              "          const element = document.querySelector('#df-6aaff1b2-8a2e-435d-9c53-39ce69552f72');\n",
              "          const dataTable =\n",
              "            await google.colab.kernel.invokeFunction('convertToInteractive',\n",
              "                                                     [key], {});\n",
              "          if (!dataTable) return;\n",
              "\n",
              "          const docLinkHtml = 'Like what you see? Visit the ' +\n",
              "            '<a target=\"_blank\" href=https://colab.research.google.com/notebooks/data_table.ipynb>data table notebook</a>'\n",
              "            + ' to learn more about interactive tables.';\n",
              "          element.innerHTML = '';\n",
              "          dataTable['output_type'] = 'display_data';\n",
              "          await google.colab.output.renderOutput(dataTable, element);\n",
              "          const docLink = document.createElement('div');\n",
              "          docLink.innerHTML = docLinkHtml;\n",
              "          element.appendChild(docLink);\n",
              "        }\n",
              "      </script>\n",
              "    </div>\n",
              "  </div>\n",
              "  "
            ]
          },
          "metadata": {},
          "execution_count": 23
        }
      ]
    },
    {
      "cell_type": "markdown",
      "source": [
        "create a list which contains lists about the product names for each country"
      ],
      "metadata": {
        "id": "kTC7RJfPrQv-"
      },
      "id": "kTC7RJfPrQv-"
    },
    {
      "cell_type": "code",
      "source": [
        "BHS_Coutry_Product_Name = CleanDataBase[CleanDataBase['Country Code'] == 'BHS']['Country Product Name'].unique()\n",
        "BMU_Coutry_Product_Name = CleanDataBase[CleanDataBase['Country Code'] == 'BMU']['Country Product Name'].unique()\n",
        "BRA_Coutry_Product_Name = CleanDataBase[CleanDataBase['Country Code'] == 'BRA']['Country Product Name'].unique()\n",
        "CHL_Coutry_Product_Name = CleanDataBase[CleanDataBase['Country Code'] == 'CHL']['Country Product Name'].unique()\n",
        "COM_Coutry_Product_Name = CleanDataBase[CleanDataBase['Country Code'] == 'COM']['Country Product Name'].unique()\n",
        "SLV_Coutry_Product_Name = CleanDataBase[CleanDataBase['Country Code'] == 'SLV']['Country Product Name'].unique()\n",
        "ECU_Coutry_Product_Name = CleanDataBase[CleanDataBase['Country Code'] == 'ECU']['Country Product Name'].unique()\n",
        "IESS_Coutry_Product_Name = CleanDataBase[CleanDataBase['Country Code'] == 'IESS']['Country Product Name'].unique()\n",
        "GTM_Coutry_Product_Name = CleanDataBase[CleanDataBase['Country Code'] == 'GTM']['Country Product Name'].unique()\n",
        "ARG_Coutry_Product_Name = CleanDataBase[CleanDataBase['Country Code'] == 'ARG']['Country Product Name'].unique()\n",
        "ECU_Coutry_Product_Name = CleanDataBase[CleanDataBase['Country Code'] == 'ECU']['Country Product Name'].unique()\n",
        "PER_Coutry_Product_Name = CleanDataBase[CleanDataBase['Country Code'] == 'PER']['Country Product Name'].unique()\n",
        "PAN_Coutry_Product_Name = CleanDataBase[CleanDataBase['Country Code'] == 'PAN']['Country Product Name'].unique()\n",
        "COL_Coutry_Product_Name = CleanDataBase[CleanDataBase['Country Code'] == 'COL']['Country Product Name'].unique()\n",
        "CRI_Coutry_Product_Name = CleanDataBase[CleanDataBase['Country Code'] == 'CRI']['Country Product Name'].unique()\n",
        "OECS_Coutry_Product_Name = CleanDataBase[CleanDataBase['Country Code'] == 'OECS']['Country Product Name'].unique()\n",
        "PPS_Coutry_Product_Name = CleanDataBase[CleanDataBase['Country Code'] == 'PPS']['Country Product Name'].unique()\n",
        "TTO_Coutry_Product_Name = CleanDataBase[CleanDataBase['Country Code'] == 'TTO']['Country Product Name'].unique()\n",
        "MEX_Coutry_Product_Name = CleanDataBase[CleanDataBase['Country Code'] == 'MEX']['Country Product Name'].unique()\n",
        "DOM_Coutry_Product_Name = CleanDataBase[CleanDataBase['Country Code'] == 'DOM']['Country Product Name'].unique()"
      ],
      "metadata": {
        "id": "JRhfKBixVVXr"
      },
      "id": "JRhfKBixVVXr",
      "execution_count": null,
      "outputs": []
    },
    {
      "cell_type": "code",
      "source": [
        "Coutry_Product_Names = [BHS_Coutry_Product_Name, BMU_Coutry_Product_Name, BRA_Coutry_Product_Name, CHL_Coutry_Product_Name, COM_Coutry_Product_Name, \n",
        "                        SLV_Coutry_Product_Name, ECU_Coutry_Product_Name, IESS_Coutry_Product_Name, GTM_Coutry_Product_Name, \n",
        "                        ARG_Coutry_Product_Name, ECU_Coutry_Product_Name, PER_Coutry_Product_Name, PAN_Coutry_Product_Name, \n",
        "                        COL_Coutry_Product_Name, CRI_Coutry_Product_Name, OECS_Coutry_Product_Name, PPS_Coutry_Product_Name,\n",
        "                        TTO_Coutry_Product_Name, MEX_Coutry_Product_Name, DOM_Coutry_Product_Name]"
      ],
      "metadata": {
        "id": "yfzqiJtXmOsn"
      },
      "id": "yfzqiJtXmOsn",
      "execution_count": null,
      "outputs": []
    },
    {
      "cell_type": "markdown",
      "source": [
        "Because CHL_Coutry_Product_Name has the largest number of product name, which is 3620, select CHL_Courty_Product_Name to count the frequency of each product_name, and the frequency of first word in product name (if some product names refer to the same product, the products which have the same first name should have a high possibility to refer to the same medicine?)"
      ],
      "metadata": {
        "id": "EFa-fMmp7-vR"
      },
      "id": "EFa-fMmp7-vR"
    },
    {
      "cell_type": "code",
      "source": [
        "# split the product name to each words\n",
        "CHL_Coutry_Product_Nmae_Dictionary = []\n",
        "for i in range(0, len(CHL_Coutry_Product_Name)):\n",
        "  temp_element = CHL_Coutry_Product_Name[i].split()\n",
        "  for j in range(0, len(temp_element)):\n",
        "    CHL_Coutry_Product_Nmae_Dictionary.append(temp_element[j])\n"
      ],
      "metadata": {
        "id": "hiqxx1YLq_T_"
      },
      "id": "hiqxx1YLq_T_",
      "execution_count": null,
      "outputs": []
    },
    {
      "cell_type": "code",
      "source": [
        "# change every words to upper type\n",
        "CHL_Coutry_Product_Nmae_Dictionary_Upper = []\n",
        "for i in CHL_Coutry_Product_Nmae_Dictionary:\n",
        "  temp_i = i.upper()\n",
        "  CHL_Coutry_Product_Nmae_Dictionary_Upper.append(temp_i)\n"
      ],
      "metadata": {
        "id": "8owaBFpb828K"
      },
      "id": "8owaBFpb828K",
      "execution_count": null,
      "outputs": []
    },
    {
      "cell_type": "code",
      "source": [
        "#CHL_Coutry_Product_Nmae_Dictionary_Upper"
      ],
      "metadata": {
        "id": "8eFIfcdE9lTR"
      },
      "id": "8eFIfcdE9lTR",
      "execution_count": null,
      "outputs": []
    },
    {
      "cell_type": "code",
      "source": [
        "# change list to set to delete the multiple words (only keep the unique one)\n",
        "CHL_Coutry_Product_Nmae_Dictionary_Upper_Set = set(CHL_Coutry_Product_Nmae_Dictionary_Upper)"
      ],
      "metadata": {
        "id": "ep-y9TbO_6uO"
      },
      "id": "ep-y9TbO_6uO",
      "execution_count": null,
      "outputs": []
    },
    {
      "cell_type": "code",
      "source": [
        "len(CHL_Coutry_Product_Nmae_Dictionary_Upper_Set) # unique words"
      ],
      "metadata": {
        "colab": {
          "base_uri": "https://localhost:8080/"
        },
        "id": "ec7M_wuZLHox",
        "outputId": "dca325b0-6ac1-4fa8-98cb-6d5b392aa292"
      },
      "id": "ec7M_wuZLHox",
      "execution_count": null,
      "outputs": [
        {
          "output_type": "execute_result",
          "data": {
            "text/plain": [
              "3015"
            ]
          },
          "metadata": {},
          "execution_count": 29
        }
      ]
    },
    {
      "cell_type": "code",
      "source": [
        "len(CHL_Coutry_Product_Nmae_Dictionary_Upper) # (multiple) words total number"
      ],
      "metadata": {
        "colab": {
          "base_uri": "https://localhost:8080/"
        },
        "id": "v3HjgtBJLUp0",
        "outputId": "cf741df9-1a25-4996-eb0d-087906325187"
      },
      "id": "v3HjgtBJLUp0",
      "execution_count": null,
      "outputs": [
        {
          "output_type": "execute_result",
          "data": {
            "text/plain": [
              "33563"
            ]
          },
          "metadata": {},
          "execution_count": 30
        }
      ]
    },
    {
      "cell_type": "code",
      "source": [
        "import collections\n",
        "CHL_Coutry_Product_Nmae_Dictionary_Upper_counter=collections.Counter(CHL_Coutry_Product_Nmae_Dictionary_Upper)\n"
      ],
      "metadata": {
        "id": "3RaNS-1LLZX1"
      },
      "id": "3RaNS-1LLZX1",
      "execution_count": null,
      "outputs": []
    },
    {
      "cell_type": "code",
      "source": [
        "from itertools import islice\n",
        "\n",
        "def take(n, iterable):\n",
        "    \"Return first n items of the iterable as a list\"\n",
        "    return list(islice(iterable, n))\n",
        "\n",
        "n_items = take(10, CHL_Coutry_Product_Nmae_Dictionary_Upper_counter.items())\n",
        "#print(CHL_Coutry_Product_Nmae_Dictionary_Upper_counter)"
      ],
      "metadata": {
        "id": "6Nlc_FfiVs4q"
      },
      "id": "6Nlc_FfiVs4q",
      "execution_count": null,
      "outputs": []
    },
    {
      "cell_type": "markdown",
      "source": [
        "try to count (only) the first word in each product name"
      ],
      "metadata": {
        "id": "GcTlSMDw5MxN"
      },
      "id": "GcTlSMDw5MxN"
    },
    {
      "cell_type": "code",
      "source": [
        "CHL_Coutry_Product_Nmae_Dictionary_Upper_First = []\n",
        "for i in range(0, len(CHL_Coutry_Product_Name)):\n",
        "  temp_element = CHL_Coutry_Product_Name[i].split()\n",
        "  temp_element_first = temp_element[0].upper()\n",
        "  CHL_Coutry_Product_Nmae_Dictionary_Upper_First.append(temp_element_first)\n"
      ],
      "metadata": {
        "id": "ro0BEZH-V202"
      },
      "id": "ro0BEZH-V202",
      "execution_count": null,
      "outputs": []
    },
    {
      "cell_type": "code",
      "source": [
        "len(CHL_Coutry_Product_Name)"
      ],
      "metadata": {
        "colab": {
          "base_uri": "https://localhost:8080/"
        },
        "id": "EkOsboGIYO_K",
        "outputId": "59ba0557-96ac-4c05-ae4f-c42346e15b6c"
      },
      "id": "EkOsboGIYO_K",
      "execution_count": null,
      "outputs": [
        {
          "output_type": "execute_result",
          "data": {
            "text/plain": [
              "3620"
            ]
          },
          "metadata": {},
          "execution_count": 34
        }
      ]
    },
    {
      "cell_type": "code",
      "source": [
        "len(CHL_Coutry_Product_Nmae_Dictionary_Upper_First)"
      ],
      "metadata": {
        "colab": {
          "base_uri": "https://localhost:8080/"
        },
        "id": "VFU8nFfRYPGZ",
        "outputId": "079e2014-d55c-4e44-f2f3-d173c4c5522c"
      },
      "id": "VFU8nFfRYPGZ",
      "execution_count": null,
      "outputs": [
        {
          "output_type": "execute_result",
          "data": {
            "text/plain": [
              "3620"
            ]
          },
          "metadata": {},
          "execution_count": 35
        }
      ]
    },
    {
      "cell_type": "code",
      "source": [
        "CHL_Coutry_Product_Name_First_Notunique = []\n",
        "CHL_Coutry_Product_Name_Notunique = CleanDataBase[CleanDataBase['Country Code'] == 'CHL']['Country Product Name'].tolist()\n",
        "for i in range(0, len(CHL_Coutry_Product_Name_Notunique)):\n",
        "  temp_element = []\n",
        "  temp_element = CHL_Coutry_Product_Name_Notunique[i].split(\" \")\n",
        "  temp_element_first = temp_element[0].upper()\n",
        "  CHL_Coutry_Product_Name_First_Notunique.append(temp_element_first)"
      ],
      "metadata": {
        "id": "Y4_oXNPEW8pV"
      },
      "id": "Y4_oXNPEW8pV",
      "execution_count": null,
      "outputs": []
    },
    {
      "cell_type": "code",
      "source": [
        "type(CHL_Coutry_Product_Name_Notunique)"
      ],
      "metadata": {
        "colab": {
          "base_uri": "https://localhost:8080/"
        },
        "id": "Zs3dUGbZYNHt",
        "outputId": "7c17dba7-4cbd-4585-db24-0a7d8db3658f"
      },
      "id": "Zs3dUGbZYNHt",
      "execution_count": null,
      "outputs": [
        {
          "output_type": "execute_result",
          "data": {
            "text/plain": [
              "list"
            ]
          },
          "metadata": {},
          "execution_count": 37
        }
      ]
    },
    {
      "cell_type": "code",
      "source": [
        "len(CHL_Coutry_Product_Name_Notunique)"
      ],
      "metadata": {
        "colab": {
          "base_uri": "https://localhost:8080/"
        },
        "id": "g-ab0jtF1z9h",
        "outputId": "bf5562ab-4496-4e0c-e0a6-2889e9d3336c"
      },
      "id": "g-ab0jtF1z9h",
      "execution_count": null,
      "outputs": [
        {
          "output_type": "execute_result",
          "data": {
            "text/plain": [
              "6899"
            ]
          },
          "metadata": {},
          "execution_count": 38
        }
      ]
    },
    {
      "cell_type": "markdown",
      "source": [
        "The result is not as expected "
      ],
      "metadata": {
        "id": "A-G6aWwpB_G1"
      },
      "id": "A-G6aWwpB_G1"
    },
    {
      "cell_type": "code",
      "source": [
        "CHL_Coutry_Product_Name_Notunique_counter=collections.Counter(CHL_Coutry_Product_Name_Notunique)\n",
        "#print(CHL_Coutry_Product_Name_Notunique_counter)"
      ],
      "metadata": {
        "id": "lA9uM1QaW8rZ"
      },
      "id": "lA9uM1QaW8rZ",
      "execution_count": null,
      "outputs": []
    },
    {
      "cell_type": "code",
      "source": [
        ""
      ],
      "metadata": {
        "id": "OvttXh344jY7"
      },
      "id": "OvttXh344jY7",
      "execution_count": null,
      "outputs": []
    },
    {
      "cell_type": "markdown",
      "source": [
        "Deal with the Chile Product Name with duplication"
      ],
      "metadata": {
        "id": "nbZHkw_V7jzC"
      },
      "id": "nbZHkw_V7jzC"
    },
    {
      "cell_type": "code",
      "source": [
        "ChileProductNames_Perm = CleanDataBase[CleanDataBase['Country Code'] == 'CHL']['Country Product Name']\n",
        "ChileProductNames = []\n",
        "for i in ChileProductNames_Perm:\n",
        "  ChileProductNames.append(i.upper())\n",
        "\n",
        "#ChileProductNames"
      ],
      "metadata": {
        "id": "rgm4Ccli7fqF"
      },
      "id": "rgm4Ccli7fqF",
      "execution_count": 5,
      "outputs": []
    },
    {
      "cell_type": "code",
      "source": [
        "len(ChileProductNames) # 6899"
      ],
      "metadata": {
        "id": "csNg39PkNaTg",
        "outputId": "acf21802-07fd-4cb5-9c90-77b32ba85b45",
        "colab": {
          "base_uri": "https://localhost:8080/"
        }
      },
      "id": "csNg39PkNaTg",
      "execution_count": 6,
      "outputs": [
        {
          "output_type": "execute_result",
          "data": {
            "text/plain": [
              "6899"
            ]
          },
          "metadata": {},
          "execution_count": 6
        }
      ]
    },
    {
      "cell_type": "code",
      "source": [
        "import collections\n",
        "ChileProductNames_counter = collections.Counter(ChileProductNames)\n",
        "#ChileProductNames_counter"
      ],
      "metadata": {
        "id": "PFYY7SW6fV8O"
      },
      "id": "PFYY7SW6fV8O",
      "execution_count": 7,
      "outputs": []
    },
    {
      "cell_type": "markdown",
      "source": [
        "Chile Product Name without duplication (Unique)"
      ],
      "metadata": {
        "id": "CobW1bElUcWz"
      },
      "id": "CobW1bElUcWz"
    },
    {
      "cell_type": "code",
      "source": [
        "ChileProductNames_Unique = []\n",
        "ChileProductNames_Unique_Temp = CleanDataBase[CleanDataBase['Country Code'] == 'CHL']['Country Product Name'].unique()\n",
        "for i in ChileProductNames_Unique_Temp:\n",
        "  ChileProductNames_Unique.append(i.upper())\n",
        "ChileProductNames_Unique\n",
        "len(ChileProductNames_Unique) #3620"
      ],
      "metadata": {
        "colab": {
          "base_uri": "https://localhost:8080/"
        },
        "id": "nF4hGQvu7fjF",
        "outputId": "f60c85c3-5e28-4bf8-b2b7-0b40f84401a6"
      },
      "id": "nF4hGQvu7fjF",
      "execution_count": 8,
      "outputs": [
        {
          "output_type": "execute_result",
          "data": {
            "text/plain": [
              "3620"
            ]
          },
          "metadata": {},
          "execution_count": 8
        }
      ]
    },
    {
      "cell_type": "code",
      "source": [
        "ChileProductNames_Unique[:10]"
      ],
      "metadata": {
        "colab": {
          "base_uri": "https://localhost:8080/"
        },
        "id": "H2d5ySXsxOri",
        "outputId": "2340aa17-33bb-4524-d4c3-32f24e6887b4"
      },
      "id": "H2d5ySXsxOri",
      "execution_count": 9,
      "outputs": [
        {
          "output_type": "execute_result",
          "data": {
            "text/plain": [
              "['DAPAGLIFLOZINA 10 MG CM REC',\n",
              " 'EMPAGLIFLOZINA 25 MG CM REC',\n",
              " 'EMPAGLIFOZINA 10 MG CM REC.',\n",
              " 'GLIBENCLAM./METFOR. 5/500 MG CM /CM REC',\n",
              " 'GLIBENCLAMIDA 5 MG CM/CM REC',\n",
              " 'INSU GLULIS SOL/INY 100UI/ML X DISPOSITI',\n",
              " 'INSUL ASPAR 100U/ML S/IN LAPIZ DESECH+AG',\n",
              " 'INSUL ASPAR 100U/ML S/IN LAPIZ REUTIL+AG',\n",
              " 'INSUL DEGLU 100U/ML S/IN LAPIZ DESECH+AG',\n",
              " 'INSUL DETEM 100U/ML S/IN LAPIZ DESECH+AG']"
            ]
          },
          "metadata": {},
          "execution_count": 9
        }
      ]
    },
    {
      "cell_type": "markdown",
      "source": [
        "The first product name of Chile product (With duplication)"
      ],
      "metadata": {
        "id": "LCGouZ4RVJMR"
      },
      "id": "LCGouZ4RVJMR"
    },
    {
      "cell_type": "code",
      "source": [
        "ChileProductNamesFirst = []\n",
        "for i in ChileProductNames:\n",
        "  ChileProductNamesFirst.append(i.split()[0])"
      ],
      "metadata": {
        "id": "uxV5HfFRg86J"
      },
      "id": "uxV5HfFRg86J",
      "execution_count": 10,
      "outputs": []
    },
    {
      "cell_type": "markdown",
      "source": [
        "count the unique first product name"
      ],
      "metadata": {
        "id": "iGhAh8cIsyNA"
      },
      "id": "iGhAh8cIsyNA"
    },
    {
      "cell_type": "code",
      "source": [
        "# count the number of first name (Unique)\n",
        "from collections import Counter\n",
        "Counter(ChileProductNamesFirst).keys() # equals to list(set(words))"
      ],
      "metadata": {
        "id": "qaLwHiyMg311",
        "colab": {
          "base_uri": "https://localhost:8080/"
        },
        "outputId": "ef5355c2-1175-4bb1-a0d8-02f31d7bd798"
      },
      "id": "qaLwHiyMg311",
      "execution_count": 13,
      "outputs": [
        {
          "output_type": "execute_result",
          "data": {
            "text/plain": [
              "dict_keys(['DAPAGLIFLOZINA', 'EMPAGLIFLOZINA', 'EMPAGLIFOZINA', 'GLIBENCLAM./METFOR.', 'GLIBENCLAMIDA', 'INSU', 'INSUL', 'INSULINA', 'METFORM/DAPAGLIFLO', 'METFORM/SAXAGLIPTI', 'METFORM/SAXAGLIPTIN', 'METFORMINA', 'VILDAGLIPTIN/METFORMIN', 'VILDAGLIPTIN/METFORMINA', 'ITEM', '1092018-9', '1092020-5', 'DISPOSITIVO', '262-0068', '262-0112', '262-0114', '262-0116', '216-5175', '(26200077)INSULINA', '(26222003)INSULINA', '50-214-700-012-00', 'GLAFORNIL', 'GLIFORTEX', 'HIPOGLUCIN', 'SITAGLIPTINA', 'SUMINISTRO', 'XIGDUO', 'LINAGLIPTINA', '214-0070', '25.000', '80.000', 'CANAGLIFLOZINA', 'SE', 'METFORMINA/', 'ENVASE', 'CAJA', 'GLIBENCLAMIDA/METFORMINA', 'COMPRIMIDOS', '60', '1093045-1', 'GLAUPAX', 'JANUMET', 'SITAGLIPTINA/METFORMINA', 'SAXAGLIPTINA/METFORMINA', 'METFORMINA+GLIBENCLAMIDA', 'TRAYENTA', 'METFORMINA/GLIBENCLAMIDA;', '2628730', '2628739', '2628434', '1160010', '2628453', '2620056', 'LANTUS', '1400034', '1400121', '1400069', '1400020', '1400040', '1400103', '1400116', '1400019', '007-0066', '007-0072', '007-0117', '1092012-2', 'LEVENIR', 'NOVORAPID', 'TOUJEO', 'TRESIBA', '5558880', 'INSUÑLINA', '214-5142|', '1300105', 'GLUCOPHAGE', '214-5142', 'LO', 'LINAGLIPTINA/METFORMINA', 'LINAGLIPTINA/METFORMI_X000D__X000D__X000D__X000D__X000D__X000D__X000D__X000D_', 'METFORMINA/SITAGLIPTI_X000D__X000D__X000D__X000D__X000D__X000D__X000D__X000D_', 'METFORMINA/SITAGLIPTINA', 'LINAGLIPTINA/METFOMINA', 'GLICENEX', 'GLUCOVANCE', 'JALRA', 'KOMBIGLYZE', 'GALVUS', '100.000', 'DAPAGLIFLOZINA/', 'METFORMINA/GLIBENCLAMIDA', 'CM.', 'COMPRIMIDO', 'NOVOMIX', '1092011-4', '262-0113', '262-0031', '262-0115', '1092019-7', 'M01F0042', 'M01F0043', '2.-', '60000', 'LINAGLIPTINA/CLORHIDRATO', 'KOMBIGLIZE', 'JARDIANCE', 'METFROMINA', 'METFOMINA', 'CAJAS', 'EMPAGLIOFOZINA', '•', '4000', 'METFLOMINA', 'SITAGLIPINA', '40400170196', '262-0214', '300', 'LINAGLIPTINA/', 'GLUKAUT', '30000', 'ADQUISICIÓN', '64.25', 'METFORMINA850', 'EMPAGLIFLOZINA12.5', '50-214-700-006-00', '214-0048', 'CM', '140', '2628454', '007-0017', '007-0070', 'DIAMICRON', 'GLICLAZIDA', 'HIPOGLICEMIANTE', '2140163', 'DAPAGLIFLOZINA/METFORMINA', '1092031-2', '1092030-4', 'NSULINA', 'FA03-0006', 'FA03-0008', '262-0710', '262-8434', '262-8454', '262-0213', 'CÓD.:', '2200067', '2200072', 'ÍTEM', '1093059-2', '1093058-4', 'FA01-0090', '6605410', 'METFORNINA', 'MERFORMINA', 'APIDRA', '216-5691', '1092013-0', '220030032', '111-0025', '111-0038', '111-0027', 'XIG', 'MEDICAMENTOS,', 'METOFORMINA', '50000', 'MEDICAMENTOS', '111-0028', 'FAAA10003', 'FAAA10004', 'FAAA10008', '1092022-1', '40400170056', '\"INSULINA', '3002168427', '3002168453', '007-0015', '50-216-700-004-00', '216-5166', 'SAXAGLIPTINA', '300.000', 'GLIBENCLAMIDA/', '\"METFORMINA/SAXAGLIPTINA', '\"DAPAGLIFOZINA', '\"LINAGLIPTINA', '\"METFORMINA', 'METFORMINA,', 'DAPAGLIFOZINA/METFORMINA', 'MEDFORMINA', 'DAPAGLIFOZINA', 'VILDAGLIPTINA', '[2628433]', '[2628453]', '216-5168', '2628455', 'FA03-0005', 'INS', 'METFORMINA/SITAGLIPTINA,', '40400170048', '\"SAXAGLIPTINA', 'LINEA', '23.-METFORMINA', '004-0073', '01-001-262-015_X000D__X000D__X000D__X000D__X000D__X000D__X000D__X000D_', '(216-5692)', '262-8446|', '262-0212', '1629804', '1629829', 'GLIMEPIRIDA', '12145144000', 'M01D0041', '214-6545', '214-5138', '262-0260', '262-0264', '5551520', 'METFORMIDA', '100', 'COM.', 'UNIDAD', 'FA', '50-214-700-052-00', '50-214-700-053-00', 'SITAGLIPTINA/METFOMINA', '0220020012', 'SITAGLIPTINA/', '3002140031', '40400170030', '40400170029', '40400170028', '40400170113', '1092025', '1', 'FA03-0017', 'METFORMINA-GLIBENCLAMIDA', '262-84540INSULINA', '262-1330', 'CONVENIO', '1092023-9', '1092028-8', '3002161364', '2200039', '2200068', '216-5158', 'D01-0038', 'SATAGLIPTINA/METFORMINA', '50', '262-8455', 'INSULATARD', '3002161380', 'INUSLINA', '3002168452', 'METFOTMINA', 'KOMBIGLYZA', 'CADA', 'EMPAGLIFOZINA/METFORMINA', '216-5171', '216-5173', 'LÍNEA', '120', 'DAPAGLIFOXINA/METFORMINA5', 'DAPAGLIFOXINA/METFORMINA', 'EMPAGLIFOZINA/', '10.000', '2200102', '1093087-3', '1093057-6', 'METAMÓRFICA', 'GLIBENCLAM.', '1092025-4', '1093016-2', '262-0012', '262-0014', '262-2509', '511-1939', '2628740', 'GLICACIDA', '10-100-214-565-00', '214-0345', '1093063-4', '2145142', '262-0096', '262-0097', '262-0065', '262-0098', '262-0003', '262-0004', '3002161382', '5276-AI5207', 'INSULINDA', '10-100-214-447-00', 'SITAGLIPTINA50/METFORMINA', 'DAPAGLIFLOZINA10', 'XIGDUO10/1000', 'LINAGLIOPTINA/METFORMINA', '50-214-700-004-00', '214-0072', '214-5060', '7', 'GLIBENCLAMIDA;', 'VIDAGLIPTINA', 'FORXIGA', '214-3200|', '1300036', 'GLIBENCLAMICA', 'COMP', 'VILDAGLIPTINA50MG', 'GLIBENCAMIDA', '214-0484', '214-3200', '2140125', 'GIBENCLAMIDA', '0220020002', '40400170023', 'GLIBENCLAMIDA,', '214-3130', 'ONGLYZA', 'GLIBENLCAMIDA', '19.-GLIBENCLAMIDA', 'GLIBENCLAAMIDA', '5551060', 'GLIBENCALMIDA', '\"GLIBENCLAMIDA', 'LKO', 'FA01-0064', '214-0036', '10-100-214-430-00', '3002140169', 'DAPAGLIFOXINA', '17', 'FA01-0171', 'GLIBENCLAMIDAS', '11.', '2143200', '2145143', '1093034-5', '004-0055', 'ONGLIZA', 'LOSARTAN', 'AMLODIPINO', 'BESILATO', 'SISTEMAS', 'SUPLEMENTOS', 'AMLODIPINA', 'ENALAPRIL', 'SERVICIOS', '004-0348', 'TELMISARTAN', 'ÁCIDO', 'FARMACIAS', 'ATORVASTATINA', 'SOLUCIONES', 'M01D0182', 'CARVEDILOL', 'CLORHIDRATO', 'DOSIFICADORES', 'NIFEDIPINA', 'M01D0185', 'BROMHEXINA', 'MALEATO', 'COMBINACIÓN', 'AMLODOPINO', 'UNIDADES', 'AMLODIPINO,', 'AMINOFILINA', '004-0374', 'LACTATO', 'SOLUCIÓN', 'ESPIRONOLACTONA', 'AMLODIPINO;', 'ALPRAZOLAM', 'LAMIVUDINA', 'CONSULTAS', 'CALCIO', '1201035', 'COMPUESTOS', 'ACARBOSA', '5550250', 'FOSFATO', 'ISRADIPINA', 'FUMARATO', 'PERINDOPRIL', '12000', 'DICLOFENACO', '214-0142', 'LORATADINA', '25', 'LORAZEPAM', 'HIDROCLORURO', 'AMFOTERICINA', '[2130025]', '213-0630', 'ANFOTERICINA', '3002130025', '213-0020', '0170010003', '262-0099', '50-213-300-001-00', '213-0171', '5341', '36.-', 'SEGÚN', '5553390', 'M01C0010', '1130850', 'C04-0003', 'AMFOTERICINA-B', '213-0329|', '213-0629', '105-0048', '216-0003', '213-0106', '50-213-300-019-00', '213-0049', '103740', '213-0164', '16.-', '3002130049', '213-03291|', '105-0047', '2130032', '650011', '[2130023]', '213-0290', '1400057', 'LOSARTÁN', '50-214-100-017-00', '214-0173', '150.000', 'LOSARTAN,', '80', '3002140078', '50-214-100-010-00', '190010008', 'ATENOLOL', 'FOSFOLÍPIDOS', '214-8904|', '1300167', '214-R029', '200.000', '28000', '214-4730', '214-0299', '214-2550', '30.000', '50.000', 'AMLODIPNO', 'AMOLODIPINO', '170', 'OXALATO', '15000', 'ANTIHIPERTENSIVO', '214-0057', '2140151', '600.000', '18.000', '\"AMLODIPINO', 'CM.LOSARTAN', '(214-6200)', '40400110061', '12145704000', 'AMLOPIDINO', '\"LOSARTAN', '12149500004', '11000', '45.000', 'METILDOPA', 'DICUMAROL', '84', 'AMOXICILINA', '10', '20', 'M01D0114', 'MAGNESIO', 'TRASTUZUMAB', 'CICLOFOSFAMIDA', 'ETOPOSIDO', 'TOCILIZUMAB', 'TENOF/EMTR/ELV/COB', 'ETRAVIRINA', 'ATAZANAVIR/COBICISTAT', 'ETANERCEPT', 'BISOPROLOL', 'COMPLEJ', 'TEN', 'DARUNAVIR', 'DASATINIB', 'NIFEDIPINO', 'RITONAVIR', 'DARUNAVIR/COBICISTAT', 'LOPINAVIR/RITONAV', 'LOPINAVIR/RITONAVIR', 'ABACAVIR', 'NEVIRAPINA', 'TENOF/EMTRIC/RILPIVI', 'PROPOFOL', 'DELAMANID', 'CICLOSPORINA', 'ADALIMUMAB', 'FLUCONAZOL', 'INFLIXIMAB', 'SOFOSBUVIR/VELPATASVIR', 'DOXORUBICINA', 'ENTECAVIR', 'TENOFOVIR', 'TACROLIMUS', 'IFOSFAMIDA', 'FACT', 'FACTOR', 'AMOXIC/CLAVULAN', 'DOCETAXEL', 'MOXIFLOXACINO', 'RALTEGRAVIR', 'LINEZOLID', 'RIFAPENTINA', 'ROSUVASTATINA', 'IMATINIB', 'HIDROCLOROTIAZ./TRIAMTERENO', 'VINCRISTINA', 'NILOTINIB', 'AMLODIPINO/VALSARTAN', 'MIDAZOLAM', 'TELMISARTAN/HIDROCLOROT.', 'MICOFENOLATO', 'CAPECITABINA', 'METOPROLOL', 'FENTANILO', 'BEVACIZUMAB', 'METOTREXATO', 'DOLUTEGRAVIR', 'EFAVIRENZ', 'ABACAV/LAMIV/DOLUTEGRAV', 'ATAZANAVIR', 'ZIDOVUDINA', 'MESNA', 'INMUNOGLOBULINA', 'ASPARAGINASA', 'VALSARTAN', 'CISPLATINO', 'HIDROCLOROTIAZIDA', 'IMIPENEM-CILASTATINA', 'LAMIVUDINA/ZIDOVUDINA', 'CARBOPLATINO', 'TAMOXIFENO', 'CAPTOPRIL', 'VALGANCICLOVIR', 'MEROPENEM', 'RITUXIMAB', 'TELMISARTAN/AMLODIPINO', 'TENOF/EMTRICIT/EFAV', 'RIFAMPICINA', 'AMOXICIL/CLAVULAN', 'MORFINA', 'TENOFOVIR/EMTRICITABINA', 'BEDAQUILINA'])"
            ]
          },
          "metadata": {},
          "execution_count": 13
        }
      ]
    },
    {
      "cell_type": "code",
      "source": [
        "Counter(ChileProductNamesFirst).values() # counts the elements' frequency"
      ],
      "metadata": {
        "id": "guIG_QTOg3ed",
        "colab": {
          "base_uri": "https://localhost:8080/"
        },
        "outputId": "6708eb90-8d16-4742-a8d6-5185e7a98a1f"
      },
      "id": "guIG_QTOg3ed",
      "execution_count": 14,
      "outputs": [
        {
          "output_type": "execute_result",
          "data": {
            "text/plain": [
              "dict_values([35, 14, 17, 6, 397, 3, 39, 478, 20, 5, 10, 1313, 17, 9, 11, 5, 2, 5, 3, 3, 2, 2, 2, 1, 1, 2, 48, 29, 16, 92, 48, 20, 75, 1, 2, 1, 4, 18, 6, 19, 37, 10, 10, 1, 2, 19, 64, 44, 5, 7, 37, 1, 1, 1, 1, 1, 1, 2, 6, 1, 1, 1, 1, 1, 1, 1, 1, 2, 1, 2, 2, 1, 1, 1, 9, 2, 1, 2, 1, 1, 4, 38, 25, 1, 2, 3, 1, 7, 10, 5, 9, 16, 2, 3, 15, 14, 2, 4, 4, 2, 3, 4, 6, 1, 1, 3, 1, 1, 3, 4, 4, 9, 119, 1, 6, 1, 1, 10, 1, 2, 1, 7, 5, 3, 1, 1, 1, 1, 2, 3, 9, 1, 1, 1, 2, 6, 5, 2, 1, 3, 2, 2, 1, 2, 2, 2, 3, 2, 1, 4, 2, 1, 2, 2, 2, 2, 1, 2, 2, 5, 1, 3, 1, 1, 1, 1, 6, 2, 1, 3, 2, 1, 1, 1, 1, 1, 1, 2, 1, 1, 2, 1, 1, 14, 1, 2, 1, 1, 1, 5, 2, 3, 1, 14, 65, 1, 1, 2, 1, 4, 1, 1, 1, 1, 2, 1, 1, 1, 1, 1, 1, 1, 1, 1, 2, 2, 1, 1, 1, 1, 1, 1, 1, 3, 1, 2, 2, 2, 2, 1, 1, 1, 1, 1, 1, 1, 1, 1, 1, 1, 1, 1, 1, 1, 1, 1, 1, 1, 1, 1, 1, 3, 1, 2, 1, 1, 1, 1, 2, 3, 2, 1, 1, 2, 1, 1, 1, 1, 1, 1, 2, 1, 1, 1, 1, 1, 1, 1, 1, 1, 1, 1, 1, 1, 2, 1, 1, 1, 1, 1, 1, 1, 1, 1, 1, 1, 1, 1, 1, 2, 2, 1, 1, 1, 1, 5, 1, 2, 1, 1, 4, 1, 2, 1, 3, 1, 1, 1, 1, 1, 1, 5, 1, 1, 1, 1, 1, 2, 1, 1, 1, 1, 1, 1, 1, 1, 1, 1, 1, 1, 1, 1, 1, 819, 480, 211, 3, 1, 8, 20, 31, 1, 20, 15, 23, 39, 3, 1, 18, 8, 5, 25, 1, 1, 4, 8, 3, 5, 3, 2, 1, 6, 3, 2, 2, 2, 17, 4, 5, 1, 1, 1, 1, 1, 4, 1, 2, 1, 1, 2, 1, 1, 1, 2, 36, 1, 2, 29, 2, 2, 1, 1, 2, 1, 1, 1, 1, 3, 2, 1, 1, 1, 1, 3, 2, 2, 4, 7, 1, 1, 1, 1, 1, 1, 1, 1, 1, 1, 1, 1, 28, 2, 1, 1, 2, 1, 1, 3, 1, 13, 1, 2, 1, 1, 2, 1, 2, 1, 1, 2, 1, 1, 1, 1, 1, 1, 1, 2, 1, 1, 1, 1, 2, 1, 1, 1, 1, 2, 1, 1, 1, 1, 2, 1, 1, 1, 1, 1, 2, 13, 4, 7, 33, 11, 4, 3, 37, 41, 2, 14, 15, 21, 4, 6, 8, 7, 11, 17, 13, 9, 29, 1, 30, 29, 20, 17, 6, 12, 16, 11, 46, 14, 5, 18, 8, 11, 8, 16, 14, 4, 25, 20, 3, 4, 6, 20, 57, 8, 12, 10, 7, 35, 4, 30, 5, 2, 9, 3, 11, 3, 22, 3, 10, 5, 6, 2, 5, 6, 4, 4, 4, 8, 15, 7, 2, 4, 7, 22, 6, 1])"
            ]
          },
          "metadata": {},
          "execution_count": 14
        }
      ]
    },
    {
      "cell_type": "code",
      "source": [
        "ChileProductNamesFirst_Unique = list(set(ChileProductNamesFirst))\n",
        "len(ChileProductNamesFirst_Unique) # 560"
      ],
      "metadata": {
        "id": "taxXZ0eEg22h",
        "colab": {
          "base_uri": "https://localhost:8080/"
        },
        "outputId": "f9b05165-e7d4-458e-aee4-552cc6802342"
      },
      "id": "taxXZ0eEg22h",
      "execution_count": 15,
      "outputs": [
        {
          "output_type": "execute_result",
          "data": {
            "text/plain": [
              "560"
            ]
          },
          "metadata": {},
          "execution_count": 15
        }
      ]
    },
    {
      "cell_type": "markdown",
      "source": [
        "select the product name with first name without numbers"
      ],
      "metadata": {
        "id": "4ba0X5PBs_jT"
      },
      "id": "4ba0X5PBs_jT"
    },
    {
      "cell_type": "code",
      "source": [
        "ChileProductNamesFirst_Unique_Verbal = []\n",
        "\n",
        "VerbalSet = ['A', 'B', 'C', 'D', 'E', 'F', 'G', 'H', 'I', 'J', 'K', 'L', 'M', 'N', 'O', 'P', 'Q', 'R', 'S', 'T', 'U',\n",
        "             'V', 'W', 'X', 'Y', 'Z']\n",
        "\n",
        "for i in ChileProductNamesFirst_Unique:\n",
        "  if i[0] in VerbalSet:\n",
        "    ChileProductNamesFirst_Unique_Verbal.append(i)\n",
        "  "
      ],
      "metadata": {
        "id": "t_kU_vSFe_Bl"
      },
      "id": "t_kU_vSFe_Bl",
      "execution_count": 16,
      "outputs": []
    },
    {
      "cell_type": "code",
      "source": [
        "len(ChileProductNamesFirst_Unique_Verbal) #302"
      ],
      "metadata": {
        "id": "JMXtpgWe7eZb",
        "colab": {
          "base_uri": "https://localhost:8080/"
        },
        "outputId": "c4e13acf-684f-4c4c-9407-90cde9d26f3e"
      },
      "id": "JMXtpgWe7eZb",
      "execution_count": 17,
      "outputs": [
        {
          "output_type": "execute_result",
          "data": {
            "text/plain": [
              "302"
            ]
          },
          "metadata": {},
          "execution_count": 17
        }
      ]
    },
    {
      "cell_type": "code",
      "source": [
        "ChileProductNamesFirst_Unique_Verbal[:10]"
      ],
      "metadata": {
        "id": "1vNcx0UQh6kp",
        "colab": {
          "base_uri": "https://localhost:8080/"
        },
        "outputId": "4b36a228-6cb6-4dba-d825-342feb237056"
      },
      "id": "1vNcx0UQh6kp",
      "execution_count": 18,
      "outputs": [
        {
          "output_type": "execute_result",
          "data": {
            "text/plain": [
              "['GLIBENCLAMIDA,',\n",
              " 'AMLODIPINA',\n",
              " 'CANAGLIFLOZINA',\n",
              " 'SISTEMAS',\n",
              " 'CAJA',\n",
              " 'NSULINA',\n",
              " 'FENTANILO',\n",
              " 'GLAUPAX',\n",
              " 'MEDICAMENTOS',\n",
              " 'METOFORMINA']"
            ]
          },
          "metadata": {},
          "execution_count": 18
        }
      ]
    },
    {
      "cell_type": "code",
      "source": [
        "ChileProductNames_Unique[0].split()"
      ],
      "metadata": {
        "colab": {
          "base_uri": "https://localhost:8080/"
        },
        "id": "mqK28O_UntGI",
        "outputId": "8621beeb-b5ae-4dc5-e7d9-031510ee3c8e"
      },
      "id": "mqK28O_UntGI",
      "execution_count": 21,
      "outputs": [
        {
          "output_type": "execute_result",
          "data": {
            "text/plain": [
              "['DAPAGLIFLOZINA', '10', 'MG', 'CM', 'REC']"
            ]
          },
          "metadata": {},
          "execution_count": 21
        }
      ]
    },
    {
      "cell_type": "code",
      "source": [
        "ChileProductName_List = []\n",
        "for j in ChileProductNamesFirst_Unique_Verbal:\n",
        "  temp_list = []\n",
        "  for i in ChileProductNames_Unique:\n",
        "     if i.split()[0] == j:\n",
        "        temp_list.append(i)\n",
        "  ChileProductName_List.append(temp_list)"
      ],
      "metadata": {
        "id": "72J7-N51xG8c"
      },
      "id": "72J7-N51xG8c",
      "execution_count": 23,
      "outputs": []
    },
    {
      "cell_type": "code",
      "source": [
        "ChileProductName_List[:5]"
      ],
      "metadata": {
        "colab": {
          "base_uri": "https://localhost:8080/"
        },
        "id": "YALZNVadxG1J",
        "outputId": "c1272036-9696-45e7-e1df-bf003ec650d1"
      },
      "id": "YALZNVadxG1J",
      "execution_count": 25,
      "outputs": [
        {
          "output_type": "execute_result",
          "data": {
            "text/plain": [
              "[['GLIBENCLAMIDA, COMPRIMIDOS 5MG'],\n",
              " ['AMLODIPINA 5 MG COMPRIMIDOS',\n",
              "  'AMLODIPINA 10 MG.',\n",
              "  'AMLODIPINA 10 MG COMPRIMIDOS',\n",
              "  'AMLODIPINA 5 MG. CM.VENCIMIENTO SUPERIOR A 12 MESES',\n",
              "  'AMLODIPINA 5 MG',\n",
              "  'AMLODIPINA  10 MG',\n",
              "  'AMLODIPINA 10 MG BIOEQUIVALENTE',\n",
              "  'AMLODIPINA  5 MG'],\n",
              " ['CANAGLIFLOZINA + METFORMINA 150/1000 MG _X000D__X000D__X000D__X000D__X000D__X000D__X000D__X000D_\\n',\n",
              "  'CANAGLIFLOZINA 50 MG; METFORMINA 1000 MG. COMPRIMIDOS. ENVASE SELLADO, RESISTENTE E INADULTERADO. SIMILAR A VOKANAMET',\n",
              "  'CANAGLIFLOZINA 150 MG / METFORMINA 1000 MG ENVASE COMERCIAL CONTENIENDO 60 COMPRIMIDOS',\n",
              "  'CANAGLIFLOZINA 300 MG. ENVASE COMERCIAL CONTENIENDO 30 COMPRIMIDOS RECUBIERTOS SIMILAR A INVOKANA'],\n",
              " ['SISTEMAS DE ADMINISTRACIÓN DE FÁRMACOS O ACCESORIOS'],\n",
              " ['CAJA DE 56 COMPRIMIDOS QUE CONTIENEN 64.25 MG DE SITAGLIPTINA MONOHIDRATO (EQUIVALENTE A 50 MG DE SITAGLIPTINA COMO BASE LIBRE) Y, 1000 MG DE METFORMINA CLORHIDRATO DE LIBERACIÓN PROLONGADA (50 MG/1000 MG). SIMILAR A JANUMET XR 50/1000 X 56',\n",
              "  'CAJA DE 60 COMPRIMIDO DE LIBERACIÓN PROLONGADA CONTIENE: METFORMINA CLORHIDRATO 750 MG. SIMILAR A HIPOGLUCIN LP 750MG',\n",
              "  'CAJA DE 60 COMPRIMIDO RECUBIERTO CONTIENE: EMPAGLIFLOZINA 12.5 MG Y CLORHIDRATO DE METFORMINA 850 MG. SIMILAR A JARDIANCE DUO 12.5/850',\n",
              "  'CAJA DE 1 LÁPIZ CONTENIENDO: CADA ML 3000 UNIDADES DE INSULINA GLARGINA (EQUIVALENTES A 10.91 MG). CADA LAPICERA CONTIENE 1.5 ML DE SOLUCIÓN INYECTABLE, EQUIVALENTES A 450 UNIDADES.SIMILAR A TOUJEO',\n",
              "  'CAJA DE 28 COMPRIMIDOS CONTENIENDO: VILDAGLIPTINA 50MG, METFORMINA 850MG. SIMILAR A JALRA M 50/850',\n",
              "  'CAJA LINAGLIPTINA METFORMINA 2,5 MG/1000 MG POR 60 COMPRIMIDOS _X000D__X000D__X000D__X000D__X000D__X000D__X000D_\\nNOTA: SE SUGIERE FECHA DE VENCIMIENTO SUPERIOR A 1 AÑO O EN CASO CONTRARIO CONTAR CON POLITICAS DE CANJE',\n",
              "  'CAJA LINAGLIPTINA METFORMINA 2,5 MG/850 MG POR 60 COMPRIMIDOS _X000D__X000D__X000D__X000D__X000D__X000D__X000D_\\nNOTA: SE SUGIERE FECHA DE VENCIMIENTO SUPERIOR A 1 AÑO O EN CASO CONTRARIO CONTAR CON POLITICAS DE CANJE',\n",
              "  'CAJA DE 1 LAPICERA INYECTABLE CONTIENE: 300 UNIDADES DE INSULINA GLARGINA (EQUIVALENTES A 10.91 MG). CADA LAPICERA CONTIENE 1.5 ML DE SOLUCIÓN INYECTABLE, EQUIVALENTES A 450 UNIDADES. SIMILAR A TOUJEO',\n",
              "  'CAJA DE 30 COMPRIMIDO CONTIENE: METFORMINA CLORHIDRATO 1000 MG, LIBERACIÓN PROLONGADA. SIMILAR A GLAUPAX XR 1000MG',\n",
              "  'CAJA DE 28 COMPRIMIDOS RECUBIERTOS DE LIBERACIÓN PROLONGADA CONTIENE: DAPAGLIFLOZINA (COMO PROPANODIOL) 10 MG Y METFORMINA CLORHIDRATO 1000 MG. SIMILAR A XIGDUO 10/1000',\n",
              "  'CAJA DE 60 COMPRIMIDO CONTIENE: METFORMINA CLORHIDRATO 850 MG, COMPRIMIDOS RECUBIERTOS. SIMILAR A GLIDANIL',\n",
              "  'CAJA DE 60 COMPRIMIDO CONTIENE: METFORMINA CLORHIDRATO 850 MG, COMPRIMIDOS RECUBIERTOS. SIMILAR A GLAUPAX',\n",
              "  'CAJA DE 30 COMPRIMIDOS RECUBIERTOS DE LARGA DURACION CONTIENE: METFORMINA XR 750MG, SIMILAR A GLAFORNIL XR 750',\n",
              "  'CAJA DE 30 COMPRIMIDOS RECUBIERTOS DE LARGA DURACION CONTIENE: METFORMINA XR 500MG, SIMILAR A GLAFORNIL XR 500',\n",
              "  'CAJA DE SITAGLIPTINA 50 MG /_X000D__X000D__X000D__X000D__X000D__X000D__X000D_\\nMETFORMINA 850 MG X 28_X000D__X000D__X000D__X000D__X000D__X000D__X000D_\\nCOMPRIMIDOS_X000D__X000D__X000D__X000D__X000D__X000D__X000D_\\nNOTA: SE SUGIERE FECHA DE_X000D__X000D__X000D__X000D__X000D__X000D__X000D_\\nVENCIMIENTO SUPERIOR A 1 AÑO O EN_X000D__X000D__X000D__X000D__X000D__X000D__X000D_\\nCASO CONTRARIO CONTAR CON_X000D__X000D__X000D__X000D__X000D__X000D__X000D_\\nPOLITICAS DE CANJE_X000D__X000D__X000D__X000D__X000D__X000D__X000D_\\n',\n",
              "  'CAJA DE SITAGLIPTINA 50 MG /_X000D__X000D__X000D__X000D__X000D__X000D__X000D_\\nMETFORMINA 1000 MG X 28_X000D__X000D__X000D__X000D__X000D__X000D__X000D_\\nCOMPRIMIDOS_X000D__X000D__X000D__X000D__X000D__X000D__X000D_\\nNOTA: SE SUGIERE FECHA DE_X000D__X000D__X000D__X000D__X000D__X000D__X000D_\\nVENCIMIENTO SUPERIOR A 1 AÑO O EN_X000D__X000D__X000D__X000D__X000D__X000D__X000D_\\nCASO CONTRARIO CONTAR CON_X000D__X000D__X000D__X000D__X000D__X000D__X000D_\\nPOLITICAS DE CANJE',\n",
              "  'CAJA DE 28 COMPRIMIDOS QUE CONTIENEN 128. MG DE SITAGLIPTINA MONOHIDRATO DE FOSFATO (EQUIVALENTE A 100 MG DE SITAGLIPTINA COMO BASE LIBRE) Y 1000 MG DE METFORMINA CLORHIDRATO DE LIBERACIÓN PROLONGADA (100 MG/1000 MG). SIMILAR A JANUMET XR 100/1000',\n",
              "  'CAJA 60 COMPRIMIDO RECUBIERTO CONTIENE: LINAGLIPTINA 2.5 MG Y METFORMINA CLORHIDRATO 1000 MG.SIMILAR A TRAYENTA DUO 2.5/1000',\n",
              "  'CAJA DE 30 COMPRIMIDO CONTIENE: METFORMINA CLORHIDRATO 850 MG, LIBERACIÓN PROLONGADA. SIMILAR A GLAUPAX 850MG',\n",
              "  'CAJA DE 28 COMPRIMIDOS RECUBIERTOS DE LIBERACIÓN PROLONGADA CONTIENE: DAPAGLIFLOZINA (COMO PROPANODIOL) 5 MG Y METFORMINA CLORHIDRATO 1000 MG. SIMILAR A XIGDUO 5/1000',\n",
              "  'CAJA DE 30 COMP RECUBIERTOS DE LIBERACIÓN PROLONGADA CONTIENE: METFORMINA 750MG. SIMILAR A GLIFORTEX XR 750MG',\n",
              "  'CAJA DE 60 COMPRIMIDO RECUBIERTO CONTIENE: LINAGLIPTINA 2.5 MG Y METFORMINA CLORHIDRATO 850 MG. SIMILAR A TRAYENTA DUO 2.5/850',\n",
              "  'CAJA DE 28 COMP. RECUBIERTOS DE LIBERACION PROLONGADA CONTIENE: DAPAGLIFLOZINA (COMO PROPANODIOL) 10 MG Y METFORMINA CLORHIDRATO 1000 MG. SIMILAR A XIGDUO XR 10/1000',\n",
              "  'CAJA DE 60 COMPRIMIDO RECUBIERTO CONTIENE: LINAGLIPTINA 2.5 MG Y METFORMINA CLORHIDRATO 1000 MG. SIMILAR A TRAYENTA DUO 2.5/1000',\n",
              "  'CAJA DE 56 COMP. CONTIENE: FOSFATO DE SITAGLIPTINA MONOHIDRATADO 50MG Y METFORMINA CLORHIDRATO 850MG. SIMILAR A JANUMET 50/850',\n",
              "  'CAJA SITAGLIPTINA 50  MG / METFORMINA 850  MG X 28  COMPRIMIDOS _X000D__X000D__X000D__X000D__X000D__X000D__X000D_\\nNOTA: SE SUGIERE FECHA DE VENCIMIENTO SUPERIOR A 1 AÑO O EN CASO CONTRARIO CONTAR CON POLITICAS DE CANJE',\n",
              "  'CAJA SITAGLIPTINA 50  MG / METFORMINA 1000  MG X 28  COMPRIMIDOS _X000D__X000D__X000D__X000D__X000D__X000D__X000D_\\nNOTA: SE SUGIERE FECHA DE VENCIMIENTO SUPERIOR A 1 AÑO O EN CASO CONTRARIO CONTAR CON POLITICAS DE CANJE',\n",
              "  'CAJA DE 56 COMPRIMIDO CONTIENE: VILDAGLIPTINA 50 MG. SIMILAR A GALVUS',\n",
              "  'CAJA DE 56 COMPRIMIDO CONTIENE: VILDAGLIPTINA 50 MG. SIMILAR A GALVUS 50MG']]"
            ]
          },
          "metadata": {},
          "execution_count": 25
        }
      ]
    },
    {
      "cell_type": "code",
      "source": [
        "len(ChileProductName_List)"
      ],
      "metadata": {
        "colab": {
          "base_uri": "https://localhost:8080/"
        },
        "id": "AtTN-qXzxGsk",
        "outputId": "cf124c90-b92e-439c-b0f5-5cb7144681b7"
      },
      "id": "AtTN-qXzxGsk",
      "execution_count": 26,
      "outputs": [
        {
          "output_type": "execute_result",
          "data": {
            "text/plain": [
              "302"
            ]
          },
          "metadata": {},
          "execution_count": 26
        }
      ]
    },
    {
      "cell_type": "code",
      "source": [
        "ChileProductName_List_Length = []\n",
        "for i in ChileProductName_List:\n",
        "  ChileProductName_List_Length.append(len(i))"
      ],
      "metadata": {
        "id": "Y-GtsxMsxGeS"
      },
      "id": "Y-GtsxMsxGeS",
      "execution_count": 27,
      "outputs": []
    },
    {
      "cell_type": "code",
      "source": [
        "# count product name whose number is 1\n",
        "count_one = 0\n",
        "for i in ChileProductName_List:\n",
        "  if len(i) == 1:\n",
        "    count_one += 1\n",
        "count_one #153\n",
        "# therefore, there are 153 product names whose number is one, 149 products have more than 1 kinds"
      ],
      "metadata": {
        "colab": {
          "base_uri": "https://localhost:8080/"
        },
        "id": "QsQt5QG1oR9E",
        "outputId": "0dd55ab1-bd91-4f95-8a9c-d8e4723a2184"
      },
      "id": "QsQt5QG1oR9E",
      "execution_count": 28,
      "outputs": [
        {
          "output_type": "execute_result",
          "data": {
            "text/plain": [
              "153"
            ]
          },
          "metadata": {},
          "execution_count": 28
        }
      ]
    },
    {
      "cell_type": "code",
      "source": [
        "# create a new list which contents the product names whose length is larger than 2\n",
        "ChileProductName_List_2 = []\n",
        "for i in ChileProductName_List:\n",
        "  if len(i) > 1:\n",
        "    ChileProductName_List_2.append(i)"
      ],
      "metadata": {
        "id": "lcYlJsy-pCw0"
      },
      "id": "lcYlJsy-pCw0",
      "execution_count": 31,
      "outputs": []
    },
    {
      "cell_type": "code",
      "source": [
        "ChileProductName_List_2[0]"
      ],
      "metadata": {
        "colab": {
          "base_uri": "https://localhost:8080/"
        },
        "id": "scw-jnm1qH7-",
        "outputId": "ee65d70a-7d87-401f-a276-0687a4170e38"
      },
      "id": "scw-jnm1qH7-",
      "execution_count": 36,
      "outputs": [
        {
          "output_type": "execute_result",
          "data": {
            "text/plain": [
              "['AMLODIPINA 5 MG COMPRIMIDOS',\n",
              " 'AMLODIPINA 10 MG.',\n",
              " 'AMLODIPINA 10 MG COMPRIMIDOS',\n",
              " 'AMLODIPINA 5 MG. CM.VENCIMIENTO SUPERIOR A 12 MESES',\n",
              " 'AMLODIPINA 5 MG',\n",
              " 'AMLODIPINA  10 MG',\n",
              " 'AMLODIPINA 10 MG BIOEQUIVALENTE',\n",
              " 'AMLODIPINA  5 MG']"
            ]
          },
          "metadata": {},
          "execution_count": 36
        }
      ]
    },
    {
      "cell_type": "code",
      "source": [
        "ChileProductName_List_2[:10]"
      ],
      "metadata": {
        "colab": {
          "base_uri": "https://localhost:8080/"
        },
        "id": "Vh4miHPYyfeA",
        "outputId": "a701cc41-a764-423a-cc92-46a6089c5bc6"
      },
      "id": "Vh4miHPYyfeA",
      "execution_count": 39,
      "outputs": [
        {
          "output_type": "execute_result",
          "data": {
            "text/plain": [
              "[['AMLODIPINA 5 MG COMPRIMIDOS',\n",
              "  'AMLODIPINA 10 MG.',\n",
              "  'AMLODIPINA 10 MG COMPRIMIDOS',\n",
              "  'AMLODIPINA 5 MG. CM.VENCIMIENTO SUPERIOR A 12 MESES',\n",
              "  'AMLODIPINA 5 MG',\n",
              "  'AMLODIPINA  10 MG',\n",
              "  'AMLODIPINA 10 MG BIOEQUIVALENTE',\n",
              "  'AMLODIPINA  5 MG'],\n",
              " ['CANAGLIFLOZINA + METFORMINA 150/1000 MG _X000D__X000D__X000D__X000D__X000D__X000D__X000D__X000D_\\n',\n",
              "  'CANAGLIFLOZINA 50 MG; METFORMINA 1000 MG. COMPRIMIDOS. ENVASE SELLADO, RESISTENTE E INADULTERADO. SIMILAR A VOKANAMET',\n",
              "  'CANAGLIFLOZINA 150 MG / METFORMINA 1000 MG ENVASE COMERCIAL CONTENIENDO 60 COMPRIMIDOS',\n",
              "  'CANAGLIFLOZINA 300 MG. ENVASE COMERCIAL CONTENIENDO 30 COMPRIMIDOS RECUBIERTOS SIMILAR A INVOKANA'],\n",
              " ['CAJA DE 56 COMPRIMIDOS QUE CONTIENEN 64.25 MG DE SITAGLIPTINA MONOHIDRATO (EQUIVALENTE A 50 MG DE SITAGLIPTINA COMO BASE LIBRE) Y, 1000 MG DE METFORMINA CLORHIDRATO DE LIBERACIÓN PROLONGADA (50 MG/1000 MG). SIMILAR A JANUMET XR 50/1000 X 56',\n",
              "  'CAJA DE 60 COMPRIMIDO DE LIBERACIÓN PROLONGADA CONTIENE: METFORMINA CLORHIDRATO 750 MG. SIMILAR A HIPOGLUCIN LP 750MG',\n",
              "  'CAJA DE 60 COMPRIMIDO RECUBIERTO CONTIENE: EMPAGLIFLOZINA 12.5 MG Y CLORHIDRATO DE METFORMINA 850 MG. SIMILAR A JARDIANCE DUO 12.5/850',\n",
              "  'CAJA DE 1 LÁPIZ CONTENIENDO: CADA ML 3000 UNIDADES DE INSULINA GLARGINA (EQUIVALENTES A 10.91 MG). CADA LAPICERA CONTIENE 1.5 ML DE SOLUCIÓN INYECTABLE, EQUIVALENTES A 450 UNIDADES.SIMILAR A TOUJEO',\n",
              "  'CAJA DE 28 COMPRIMIDOS CONTENIENDO: VILDAGLIPTINA 50MG, METFORMINA 850MG. SIMILAR A JALRA M 50/850',\n",
              "  'CAJA LINAGLIPTINA METFORMINA 2,5 MG/1000 MG POR 60 COMPRIMIDOS _X000D__X000D__X000D__X000D__X000D__X000D__X000D_\\nNOTA: SE SUGIERE FECHA DE VENCIMIENTO SUPERIOR A 1 AÑO O EN CASO CONTRARIO CONTAR CON POLITICAS DE CANJE',\n",
              "  'CAJA LINAGLIPTINA METFORMINA 2,5 MG/850 MG POR 60 COMPRIMIDOS _X000D__X000D__X000D__X000D__X000D__X000D__X000D_\\nNOTA: SE SUGIERE FECHA DE VENCIMIENTO SUPERIOR A 1 AÑO O EN CASO CONTRARIO CONTAR CON POLITICAS DE CANJE',\n",
              "  'CAJA DE 1 LAPICERA INYECTABLE CONTIENE: 300 UNIDADES DE INSULINA GLARGINA (EQUIVALENTES A 10.91 MG). CADA LAPICERA CONTIENE 1.5 ML DE SOLUCIÓN INYECTABLE, EQUIVALENTES A 450 UNIDADES. SIMILAR A TOUJEO',\n",
              "  'CAJA DE 30 COMPRIMIDO CONTIENE: METFORMINA CLORHIDRATO 1000 MG, LIBERACIÓN PROLONGADA. SIMILAR A GLAUPAX XR 1000MG',\n",
              "  'CAJA DE 28 COMPRIMIDOS RECUBIERTOS DE LIBERACIÓN PROLONGADA CONTIENE: DAPAGLIFLOZINA (COMO PROPANODIOL) 10 MG Y METFORMINA CLORHIDRATO 1000 MG. SIMILAR A XIGDUO 10/1000',\n",
              "  'CAJA DE 60 COMPRIMIDO CONTIENE: METFORMINA CLORHIDRATO 850 MG, COMPRIMIDOS RECUBIERTOS. SIMILAR A GLIDANIL',\n",
              "  'CAJA DE 60 COMPRIMIDO CONTIENE: METFORMINA CLORHIDRATO 850 MG, COMPRIMIDOS RECUBIERTOS. SIMILAR A GLAUPAX',\n",
              "  'CAJA DE 30 COMPRIMIDOS RECUBIERTOS DE LARGA DURACION CONTIENE: METFORMINA XR 750MG, SIMILAR A GLAFORNIL XR 750',\n",
              "  'CAJA DE 30 COMPRIMIDOS RECUBIERTOS DE LARGA DURACION CONTIENE: METFORMINA XR 500MG, SIMILAR A GLAFORNIL XR 500',\n",
              "  'CAJA DE SITAGLIPTINA 50 MG /_X000D__X000D__X000D__X000D__X000D__X000D__X000D_\\nMETFORMINA 850 MG X 28_X000D__X000D__X000D__X000D__X000D__X000D__X000D_\\nCOMPRIMIDOS_X000D__X000D__X000D__X000D__X000D__X000D__X000D_\\nNOTA: SE SUGIERE FECHA DE_X000D__X000D__X000D__X000D__X000D__X000D__X000D_\\nVENCIMIENTO SUPERIOR A 1 AÑO O EN_X000D__X000D__X000D__X000D__X000D__X000D__X000D_\\nCASO CONTRARIO CONTAR CON_X000D__X000D__X000D__X000D__X000D__X000D__X000D_\\nPOLITICAS DE CANJE_X000D__X000D__X000D__X000D__X000D__X000D__X000D_\\n',\n",
              "  'CAJA DE SITAGLIPTINA 50 MG /_X000D__X000D__X000D__X000D__X000D__X000D__X000D_\\nMETFORMINA 1000 MG X 28_X000D__X000D__X000D__X000D__X000D__X000D__X000D_\\nCOMPRIMIDOS_X000D__X000D__X000D__X000D__X000D__X000D__X000D_\\nNOTA: SE SUGIERE FECHA DE_X000D__X000D__X000D__X000D__X000D__X000D__X000D_\\nVENCIMIENTO SUPERIOR A 1 AÑO O EN_X000D__X000D__X000D__X000D__X000D__X000D__X000D_\\nCASO CONTRARIO CONTAR CON_X000D__X000D__X000D__X000D__X000D__X000D__X000D_\\nPOLITICAS DE CANJE',\n",
              "  'CAJA DE 28 COMPRIMIDOS QUE CONTIENEN 128. MG DE SITAGLIPTINA MONOHIDRATO DE FOSFATO (EQUIVALENTE A 100 MG DE SITAGLIPTINA COMO BASE LIBRE) Y 1000 MG DE METFORMINA CLORHIDRATO DE LIBERACIÓN PROLONGADA (100 MG/1000 MG). SIMILAR A JANUMET XR 100/1000',\n",
              "  'CAJA 60 COMPRIMIDO RECUBIERTO CONTIENE: LINAGLIPTINA 2.5 MG Y METFORMINA CLORHIDRATO 1000 MG.SIMILAR A TRAYENTA DUO 2.5/1000',\n",
              "  'CAJA DE 30 COMPRIMIDO CONTIENE: METFORMINA CLORHIDRATO 850 MG, LIBERACIÓN PROLONGADA. SIMILAR A GLAUPAX 850MG',\n",
              "  'CAJA DE 28 COMPRIMIDOS RECUBIERTOS DE LIBERACIÓN PROLONGADA CONTIENE: DAPAGLIFLOZINA (COMO PROPANODIOL) 5 MG Y METFORMINA CLORHIDRATO 1000 MG. SIMILAR A XIGDUO 5/1000',\n",
              "  'CAJA DE 30 COMP RECUBIERTOS DE LIBERACIÓN PROLONGADA CONTIENE: METFORMINA 750MG. SIMILAR A GLIFORTEX XR 750MG',\n",
              "  'CAJA DE 60 COMPRIMIDO RECUBIERTO CONTIENE: LINAGLIPTINA 2.5 MG Y METFORMINA CLORHIDRATO 850 MG. SIMILAR A TRAYENTA DUO 2.5/850',\n",
              "  'CAJA DE 28 COMP. RECUBIERTOS DE LIBERACION PROLONGADA CONTIENE: DAPAGLIFLOZINA (COMO PROPANODIOL) 10 MG Y METFORMINA CLORHIDRATO 1000 MG. SIMILAR A XIGDUO XR 10/1000',\n",
              "  'CAJA DE 60 COMPRIMIDO RECUBIERTO CONTIENE: LINAGLIPTINA 2.5 MG Y METFORMINA CLORHIDRATO 1000 MG. SIMILAR A TRAYENTA DUO 2.5/1000',\n",
              "  'CAJA DE 56 COMP. CONTIENE: FOSFATO DE SITAGLIPTINA MONOHIDRATADO 50MG Y METFORMINA CLORHIDRATO 850MG. SIMILAR A JANUMET 50/850',\n",
              "  'CAJA SITAGLIPTINA 50  MG / METFORMINA 850  MG X 28  COMPRIMIDOS _X000D__X000D__X000D__X000D__X000D__X000D__X000D_\\nNOTA: SE SUGIERE FECHA DE VENCIMIENTO SUPERIOR A 1 AÑO O EN CASO CONTRARIO CONTAR CON POLITICAS DE CANJE',\n",
              "  'CAJA SITAGLIPTINA 50  MG / METFORMINA 1000  MG X 28  COMPRIMIDOS _X000D__X000D__X000D__X000D__X000D__X000D__X000D_\\nNOTA: SE SUGIERE FECHA DE VENCIMIENTO SUPERIOR A 1 AÑO O EN CASO CONTRARIO CONTAR CON POLITICAS DE CANJE',\n",
              "  'CAJA DE 56 COMPRIMIDO CONTIENE: VILDAGLIPTINA 50 MG. SIMILAR A GALVUS',\n",
              "  'CAJA DE 56 COMPRIMIDO CONTIENE: VILDAGLIPTINA 50 MG. SIMILAR A GALVUS 50MG'],\n",
              " ['FENTANILO 0,5 MG/10 ML SOL. INY. AM/FAM',\n",
              "  'FENTANILO 25MCG/HORA PARCHE TRANSDERMICO',\n",
              "  'FENTANILO 0,1 MG/2ML SOL.INY. AM/FAM/JPR',\n",
              "  'FENTANILO 50MCG/HORA PARCHE TRANSDERMICO'],\n",
              " ['GLAUPAX XR 1000 MG X 30 COMP.',\n",
              "  'GLAUPAX XR 500 MG X 30 COMP.',\n",
              "  'GLAUPAX XR 500 MG X 30 COOMP.',\n",
              "  'GLAUPAX 500 MG X 30 COMP.',\n",
              "  'GLAUPAX XR 1000 MG CAJA X 30 COM. (O EQUIVALENTE)',\n",
              "  'GLAUPAX XR 750 MG CAJA X 30 COM. (O EQUIVALENTE)',\n",
              "  'GLAUPAX XR 1000MG (METFORMINA), 30 COMP. POR CAJA',\n",
              "  'GLAUPAX XR 500 MG X 30 COMP.',\n",
              "  'GLAUPAX XR 750 MG X 30 COMP.',\n",
              "  'GLAUPAX XR 750 MG X 30 COMP.',\n",
              "  'GLAUPAX XR 1000 MG CAJA X 30 COM.(O EQUIVALENTE)',\n",
              "  'GLAUPAX XR 750 MG CAJA X 30 COM.(O EQUIVALENTE)',\n",
              "  'GLAUPAX XR 1000 MG CAJA X 30 COM (O EQUIVALENTE)',\n",
              "  'GLAUPAX XR 500 MG CAJA X 30 COM (O EQUIVALENTE)',\n",
              "  'GLAUPAX XR 750 MG CAJA X 30 COM. (O EQUIVALENTE)'],\n",
              " ['MEDICAMENTOS CONVENIO GORE SEGUNN BASES ADMINISTRATIVAS, LISTADO  Y FORMATOS ADJUNTOS',\n",
              "  'MEDICAMENTOS ANTIBIÓTICOS ESPECIFICADOS EN ANEXO 1 CARTA OFERTA. SON 44 EN TOTAL LOS SOLICITADOS EN ESTA LICITACIÓN.'],\n",
              " ['METFORM/DAPAGLIFLO 1000/10 MG CM LIB PRO',\n",
              "  'METFORM/DAPAGLIFLO 1000/5 MG CM LIB PRO',\n",
              "  'METFORM/DAPAGLIFLO 1000/5 MG CM LIB PRO(100004979)',\n",
              "  'METFORM/DAPAGLIFLO 1000/10 MG CM LIB PRO (100004978)',\n",
              "  'METFORM/DAPAGLIFLO 1000/5 MG CM LIB PRO (100004979)',\n",
              "  'METFORM/DAPAGLIFLO 1000/10 MG CM LIB PRO(100004978)'],\n",
              " ['CAPECITABINA 150 MG CM REC', 'CAPECITABINA 500 MG CM REC.'],\n",
              " ['LOSARTÁN 50MG',\n",
              "  'LOSARTÁN 50 MG COMPRIMIDO RECUBIERTO, RANURADO, BIOEQUIVALENTE ENVASE CLÍNICO DE 1.000 COMPRIMIDOS CON SOBRES DE 10 COMPRIMIDOS EN SU INTERIOR.',\n",
              "  'LOSARTÁN 50MG COMPRIMIDO ENVASADO EN BLISTER. COTIZAR POR COMPRIMIDO.',\n",
              "  'LOSARTÁN 50 MG CM',\n",
              "  'LOSARTÁN POTÁSICO; COMPRIMIDO 50 MG.',\n",
              "  'LOSARTÁN 50 MG COMPRIMIDOS - VENCIMIENTO MÍNIMO DE 12 (INDIVIDUALIZAR VENCIMIENTO)',\n",
              "  'LOSARTÁN POTÁSICO 50 MG. COMPRIMIDOS RECUBIERTOS.',\n",
              "  'LOSARTÁN 50 MG. CM.',\n",
              "  'LOSARTÁN POTÁSICO 50 MG COMPRIMIDO._X000D__X000D__X000D__X000D__X000D__X000D_\\nVENCIMIENTO SUPERIOR A 1 AÑO AL MOMENTO DE LA RECEPCIÓN._X000D__X000D__X000D__X000D__X000D__X000D_\\n',\n",
              "  'LOSARTÁN POTÁSICO COMPRIMIDO 50 MG.',\n",
              "  'LOSARTÁN POTÁSICO, COMPRIMIDOS RECUBIERTOS 50MG.',\n",
              "  'LOSARTÁN 50MG. COMPRIMIDO RECUBIERTO, SEGÚN ESPECIFICACIONES EN BASES TÉCNICAS',\n",
              "  'LOSARTÁN POTÁSICO 50 MG COMPRIMIDO',\n",
              "  'LOSARTÁN 50 MG.',\n",
              "  'LOSARTÁN 50MG COMPRIMIDOS',\n",
              "  'LOSARTÁN 50 MG_X000D__X000D__X000D__X000D__X000D__X000D_\\n',\n",
              "  'LOSARTÁN POTÁSICO COMPRIMIDOS RECUBIERTOS 50 MG',\n",
              "  'LOSARTÁN 50MG',\n",
              "  'LOSARTÁN 50 MG: 30.000 COMPRIMIDOS',\n",
              "  'LOSARTÁN 50 MG',\n",
              "  'LOSARTÁN  50 MG. CM/CM. REC.',\n",
              "  'LOSARTÁN 50 MG COMPRIMIDO RECUBIERTO, RANURADO, BIOEQUIVALENTE, ENVASE CLÍNICO'],\n",
              " ['METOTREXATO 20 MG SOL INY SUBCU DISP PRE',\n",
              "  'METOTREXATO 15MG SOL INY JRP',\n",
              "  'METOTREXATO 50 MG/2ML SOL.INYECTABLE FAM',\n",
              "  'METOTREXATO 10 MG SOL INY SUBC DISP PRE',\n",
              "  'METOTREXATO 2,5 MG CM BLISTER',\n",
              "  'METOTREXATO 500MG/20ML SOL.INYECT. FAM']]"
            ]
          },
          "metadata": {},
          "execution_count": 39
        }
      ]
    },
    {
      "cell_type": "code",
      "source": [
        ""
      ],
      "metadata": {
        "id": "sSJ1fkREyfSU"
      },
      "id": "sSJ1fkREyfSU",
      "execution_count": null,
      "outputs": []
    },
    {
      "cell_type": "code",
      "source": [
        ""
      ],
      "metadata": {
        "id": "TqSQpWazyfFr"
      },
      "id": "TqSQpWazyfFr",
      "execution_count": null,
      "outputs": []
    },
    {
      "cell_type": "code",
      "source": [
        ""
      ],
      "metadata": {
        "id": "_uPJyd50yexR"
      },
      "id": "_uPJyd50yexR",
      "execution_count": null,
      "outputs": []
    }
  ],
  "metadata": {
    "kernelspec": {
      "display_name": "Python 3 (ipykernel)",
      "language": "python",
      "name": "python3"
    },
    "language_info": {
      "codemirror_mode": {
        "name": "ipython",
        "version": 3
      },
      "file_extension": ".py",
      "mimetype": "text/x-python",
      "name": "python",
      "nbconvert_exporter": "python",
      "pygments_lexer": "ipython3",
      "version": "3.9.7"
    },
    "colab": {
      "name": "Drugs Data Cleaning.ipynb",
      "provenance": [],
      "collapsed_sections": [],
      "include_colab_link": true
    }
  },
  "nbformat": 4,
  "nbformat_minor": 5
}