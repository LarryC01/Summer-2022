{
  "cells": [
    {
      "cell_type": "markdown",
      "metadata": {
        "id": "view-in-github",
        "colab_type": "text"
      },
      "source": [
        "<a href=\"https://colab.research.google.com/github/wenjunc2/Summer-2022/blob/main/Drugs_Data_NLP.ipynb\" target=\"_parent\"><img src=\"https://colab.research.google.com/assets/colab-badge.svg\" alt=\"Open In Colab\"/></a>"
      ]
    },
    {
      "cell_type": "code",
      "execution_count": null,
      "id": "b3fa8107",
      "metadata": {
        "id": "b3fa8107"
      },
      "outputs": [],
      "source": [
        "# read into dataset\n",
        "import random\n",
        "random.seed(9)\n",
        "import pandas as pd\n",
        "CleanDataBase = pd.read_excel('CleanDataBase.xlsx')"
      ]
    },
    {
      "cell_type": "code",
      "source": [
        "# keep unique product name\n",
        "ChileProductNames_Perm = CleanDataBase[CleanDataBase['Country Code'] == 'CHL']['Country Product Name'].unique()"
      ],
      "metadata": {
        "id": "zgSB_NwaC7F1"
      },
      "id": "zgSB_NwaC7F1",
      "execution_count": null,
      "outputs": []
    },
    {
      "cell_type": "code",
      "source": [
        "len(ChileProductNames_Perm)"
      ],
      "metadata": {
        "colab": {
          "base_uri": "https://localhost:8080/"
        },
        "id": "ID7PM2O9236_",
        "outputId": "08486ae5-89cb-4c47-e1dc-8cfe55760f9d"
      },
      "id": "ID7PM2O9236_",
      "execution_count": null,
      "outputs": [
        {
          "output_type": "execute_result",
          "data": {
            "text/plain": [
              "3620"
            ]
          },
          "metadata": {},
          "execution_count": 77
        }
      ]
    },
    {
      "cell_type": "code",
      "source": [
        "# lowercase everything\n",
        "ChileProductNames = []\n",
        "for i in ChileProductNames_Perm:\n",
        "  ChileProductNames.append(i.lower())"
      ],
      "metadata": {
        "id": "cC1hJ5yJEbUj"
      },
      "id": "cC1hJ5yJEbUj",
      "execution_count": null,
      "outputs": []
    },
    {
      "cell_type": "code",
      "source": [
        "# keep unique names after lowercasing\n",
        "ChileProductNames = set(ChileProductNames)"
      ],
      "metadata": {
        "id": "ufPAOXC432Ku"
      },
      "id": "ufPAOXC432Ku",
      "execution_count": null,
      "outputs": []
    },
    {
      "cell_type": "code",
      "source": [
        "len(ChileProductNames)\n",
        "ChileProductNames = list(ChileProductNames)\n",
        "\n",
        "ChileProductNames[:10]"
      ],
      "metadata": {
        "colab": {
          "base_uri": "https://localhost:8080/"
        },
        "id": "4-lOY0MV4I51",
        "outputId": "bbd2fb4d-cdc7-4dcc-ef24-1a76cfd9c0d6"
      },
      "id": "4-lOY0MV4I51",
      "execution_count": null,
      "outputs": [
        {
          "output_type": "execute_result",
          "data": {
            "text/plain": [
              "['empaglifozina 10 mg cm rec.',\n",
              " 'metformina 850 mg (comprimido oblongos y ranurados)',\n",
              " 'metformina 1000 mg cm rec',\n",
              " 'glafornil 1000 mg caja x 30 com. (o equivalente)',\n",
              " 'amlodipino\\t5 mg_x000d__x000d__x000d__x000d__x000d__x000d_\\n',\n",
              " 'metformina 750 mg comp. lib. prolong. caja x 30 comprimidos recubiertos. similar glicenex sr 750 mg',\n",
              " '2200068 insulina nph 100 ui/ml catridge 3 ml',\n",
              " 'metformina/ glibenclamida  2,5/5  similar a glucovance',\n",
              " 'vildagliptina 50 mg._x000d__x000d__x000d__x000d__x000d__x000d__x000d_\\n',\n",
              " 'metformina 500 mg; glibenclamida 2,5 mg. comprimidos, envase sellado, resistente e inadulterado']"
            ]
          },
          "metadata": {},
          "execution_count": 80
        }
      ]
    },
    {
      "cell_type": "markdown",
      "source": [
        "Word2Vec"
      ],
      "metadata": {
        "id": "FPla8dOhUXfk"
      },
      "id": "FPla8dOhUXfk"
    },
    {
      "cell_type": "code",
      "source": [
        "from nltk.tokenize import WordPunctTokenizer\n",
        "tokenizer = WordPunctTokenizer()\n",
        "\n",
        "print(tokenizer.tokenize(ChileProductNames[50]))"
      ],
      "metadata": {
        "colab": {
          "base_uri": "https://localhost:8080/"
        },
        "id": "Exn3lUq2EvoU",
        "outputId": "1ab908b6-c76d-4b93-b529-fb0f3e5d71b5"
      },
      "id": "Exn3lUq2EvoU",
      "execution_count": null,
      "outputs": [
        {
          "output_type": "stream",
          "name": "stdout",
          "text": [
            "['m01d0182', 'amlodipina', '5mg', 'cm']\n"
          ]
        }
      ]
    },
    {
      "cell_type": "code",
      "source": [
        "# extract tokens with tokenizer\n",
        "# data_tok is a list of lists of tokens for each line in data\n",
        "data_tok = []\n",
        "for i in ChileProductNames:\n",
        "  tokenlist = tokenizer.tokenize(i)\n",
        "  data_tok.append(tokenlist)"
      ],
      "metadata": {
        "id": "BtXHOPGeEwBK"
      },
      "id": "BtXHOPGeEwBK",
      "execution_count": null,
      "outputs": []
    },
    {
      "cell_type": "code",
      "source": [
        "print([' '.join(row) for row in data_tok[:2]])"
      ],
      "metadata": {
        "colab": {
          "base_uri": "https://localhost:8080/"
        },
        "id": "lwtxz6fkEwXl",
        "outputId": "1377013c-cced-47ed-e7c7-4ebae2d1eec7"
      },
      "id": "lwtxz6fkEwXl",
      "execution_count": null,
      "outputs": [
        {
          "output_type": "stream",
          "name": "stdout",
          "text": [
            "['dapagliflozina 10 mg cm rec', 'dapagliflozina 10 mg cm rec']\n"
          ]
        }
      ]
    },
    {
      "cell_type": "code",
      "source": [
        "len(data_tok)"
      ],
      "metadata": {
        "colab": {
          "base_uri": "https://localhost:8080/"
        },
        "id": "QnNYEBEvuBcZ",
        "outputId": "a3b8d056-a11f-4c56-de00-4ae8716f570a"
      },
      "id": "QnNYEBEvuBcZ",
      "execution_count": null,
      "outputs": [
        {
          "output_type": "execute_result",
          "data": {
            "text/plain": [
              "6899"
            ]
          },
          "metadata": {},
          "execution_count": 17
        }
      ]
    },
    {
      "cell_type": "code",
      "source": [
        "# gensim is another nlp library that features many vector-based models incuding word2vec\n",
        "from gensim.models import Word2Vec\n",
        "model = Word2Vec(data_tok, \n",
        "                 size=50,      # embedding vector size\n",
        "                 min_count=1,  # consider words that occured at least 1 times\n",
        "                 window=10).wv  # define context as a 5-word window around the target word"
      ],
      "metadata": {
        "id": "xkZAb1ZUsZ6m"
      },
      "id": "xkZAb1ZUsZ6m",
      "execution_count": null,
      "outputs": []
    },
    {
      "cell_type": "code",
      "source": [
        "# now you can get word vectors !\n",
        "model.get_vector('dapagliflozina')"
      ],
      "metadata": {
        "colab": {
          "base_uri": "https://localhost:8080/"
        },
        "id": "7x2fA_oItDge",
        "outputId": "44c4ed7f-0cd8-44dc-bd8c-27f2628fc478"
      },
      "id": "7x2fA_oItDge",
      "execution_count": null,
      "outputs": [
        {
          "output_type": "execute_result",
          "data": {
            "text/plain": [
              "array([ 0.41903505, -0.04228497,  0.33272088, -0.42243165, -0.05831042,\n",
              "        0.33055386,  0.20770074, -0.12366166, -0.12442909,  0.15979102,\n",
              "        0.30560383,  0.39619225, -0.4755085 ,  0.27998307, -0.06808709,\n",
              "        0.28450015,  0.19931641,  0.14724593, -0.38564798,  0.20881411,\n",
              "       -0.43060145, -0.13124114, -0.12069288, -0.28031826, -0.04315322,\n",
              "        0.64401627, -0.2442951 ,  0.0860759 ,  0.04905057, -0.24647857,\n",
              "        0.16152352, -0.19011782, -0.55075   , -0.44944587, -0.09335248,\n",
              "        0.11380528,  0.06985465,  0.24157743, -0.01304167, -0.42987433,\n",
              "        0.16808216,  0.07573429, -0.03884283,  0.44545147, -0.14781353,\n",
              "       -0.1391956 ,  0.63580924, -0.19390038, -0.26398584,  0.09000728],\n",
              "      dtype=float32)"
            ]
          },
          "metadata": {},
          "execution_count": 23
        }
      ]
    },
    {
      "cell_type": "code",
      "source": [
        "model.most_similar('dapagliflozina')[:5]"
      ],
      "metadata": {
        "colab": {
          "base_uri": "https://localhost:8080/"
        },
        "id": "7bQuAiqtu2Pk",
        "outputId": "818b3420-6249-4a21-c3dc-71d703f63239"
      },
      "id": "7bQuAiqtu2Pk",
      "execution_count": null,
      "outputs": [
        {
          "output_type": "execute_result",
          "data": {
            "text/plain": [
              "[('lp', 0.9971527457237244),\n",
              " ('glaupax', 0.9949442744255066),\n",
              " ('prolongada_x000d__x000d__x000d__x000d__x000d__x000d__x000d__x000d_',\n",
              "  0.9939849376678467),\n",
              " ('comprimidos_x000d__x000d__x000d__x000d__x000d__x000d__x000d__x000d_',\n",
              "  0.9936442971229553),\n",
              " ('propanodiol', 0.9934273958206177)]"
            ]
          },
          "metadata": {},
          "execution_count": 26
        }
      ]
    },
    {
      "cell_type": "code",
      "source": [
        ""
      ],
      "metadata": {
        "id": "K_v_Kv4YA3Mk"
      },
      "id": "K_v_Kv4YA3Mk",
      "execution_count": null,
      "outputs": []
    },
    {
      "cell_type": "markdown",
      "source": [
        "SimHash"
      ],
      "metadata": {
        "id": "ST8fJ4TqUc_a"
      },
      "id": "ST8fJ4TqUc_a"
    },
    {
      "cell_type": "code",
      "source": [
        "import jieba\n",
        "!pip install simhash"
      ],
      "metadata": {
        "id": "x8nrkrgIA3y6",
        "colab": {
          "base_uri": "https://localhost:8080/"
        },
        "outputId": "11d41584-dc0f-4cb1-f297-2d985001979f"
      },
      "id": "x8nrkrgIA3y6",
      "execution_count": null,
      "outputs": [
        {
          "output_type": "stream",
          "name": "stdout",
          "text": [
            "Looking in indexes: https://pypi.org/simple, https://us-python.pkg.dev/colab-wheels/public/simple/\n",
            "Requirement already satisfied: simhash in /usr/local/lib/python3.7/dist-packages (2.1.2)\n",
            "Requirement already satisfied: numpy in /usr/local/lib/python3.7/dist-packages (from simhash) (1.21.6)\n"
          ]
        }
      ]
    },
    {
      "cell_type": "code",
      "source": [
        "from simhash import Simhash"
      ],
      "metadata": {
        "id": "5NF2zRu3VKV0"
      },
      "id": "5NF2zRu3VKV0",
      "execution_count": null,
      "outputs": []
    },
    {
      "cell_type": "code",
      "source": [
        "print(data_tok[0], data_tok[1])"
      ],
      "metadata": {
        "colab": {
          "base_uri": "https://localhost:8080/"
        },
        "id": "N2x_EsVcXKGx",
        "outputId": "362008f0-6b9f-478e-d071-8c9d993036c0"
      },
      "id": "N2x_EsVcXKGx",
      "execution_count": null,
      "outputs": [
        {
          "output_type": "stream",
          "name": "stdout",
          "text": [
            "['empaglifozina', '10', 'mg', 'cm', 'rec', '.'] ['metformina', '850', 'mg', '(', 'comprimido', 'oblongos', 'y', 'ranurados', ')']\n"
          ]
        }
      ]
    },
    {
      "cell_type": "code",
      "source": [
        "print(Simhash(data_tok[0]).distance(Simhash(data_tok[1]))) "
      ],
      "metadata": {
        "colab": {
          "base_uri": "https://localhost:8080/"
        },
        "id": "crnnpa7QXkCE",
        "outputId": "3b0d147b-b7f8-430a-8841-7135c0aae6f1"
      },
      "id": "crnnpa7QXkCE",
      "execution_count": null,
      "outputs": [
        {
          "output_type": "stream",
          "name": "stdout",
          "text": [
            "31\n"
          ]
        }
      ]
    },
    {
      "cell_type": "code",
      "source": [
        "Simhash(data_tok[0])"
      ],
      "metadata": {
        "colab": {
          "base_uri": "https://localhost:8080/"
        },
        "id": "5Hc2w22JgaeG",
        "outputId": "d0db2b24-f36c-4b57-d48b-2512c63de186"
      },
      "id": "5Hc2w22JgaeG",
      "execution_count": null,
      "outputs": [
        {
          "output_type": "execute_result",
          "data": {
            "text/plain": [
              "<simhash.Simhash at 0x7f592abf3d50>"
            ]
          },
          "metadata": {},
          "execution_count": 44
        }
      ]
    },
    {
      "cell_type": "code",
      "source": [
        "dictionary = []\n",
        "other_dict = ['.', '(', ')', 'x', 'o', 'sr', 'mg', '/', 'ml', ',' , 'e', 'de', 'u', 'para', ':', ';', 'en', '$', '-', 'y', '%', 'cm', '[', ']',\n",
        "              '.-']\n",
        "for i in data_tok:\n",
        "  for j in i:\n",
        "    if j not in other_dict and j.isdigit() is False:\n",
        "      dictionary.append(j)"
      ],
      "metadata": {
        "id": "oZ5e_R2Zt7NN"
      },
      "id": "oZ5e_R2Zt7NN",
      "execution_count": null,
      "outputs": []
    },
    {
      "cell_type": "code",
      "source": [
        "len(dictionary)"
      ],
      "metadata": {
        "colab": {
          "base_uri": "https://localhost:8080/"
        },
        "id": "6YfilbHHvyiD",
        "outputId": "b436d7bf-7773-4993-bbfe-405998ba8d7a"
      },
      "id": "6YfilbHHvyiD",
      "execution_count": null,
      "outputs": [
        {
          "output_type": "execute_result",
          "data": {
            "text/plain": [
              "22140"
            ]
          },
          "metadata": {},
          "execution_count": 86
        }
      ]
    },
    {
      "cell_type": "code",
      "source": [
        "dictionary = set(dictionary)"
      ],
      "metadata": {
        "id": "QEQ3JsGhw8K0"
      },
      "id": "QEQ3JsGhw8K0",
      "execution_count": null,
      "outputs": []
    },
    {
      "cell_type": "code",
      "source": [
        "len(dictionary)"
      ],
      "metadata": {
        "colab": {
          "base_uri": "https://localhost:8080/"
        },
        "id": "e37aiyFwxOPY",
        "outputId": "00014f73-85d9-4cbb-b166-f62bdb693725"
      },
      "id": "e37aiyFwxOPY",
      "execution_count": null,
      "outputs": [
        {
          "output_type": "execute_result",
          "data": {
            "text/plain": [
              "1507"
            ]
          },
          "metadata": {},
          "execution_count": 88
        }
      ]
    },
    {
      "cell_type": "code",
      "source": [
        "dictionary = list(dictionary)\n",
        "dictionary_2 = []"
      ],
      "metadata": {
        "id": "GzE9HAeKx2wD"
      },
      "id": "GzE9HAeKx2wD",
      "execution_count": null,
      "outputs": []
    },
    {
      "cell_type": "code",
      "source": [
        "for i in dictionary:\n",
        "  if len(i) > 4 and len(i) < 20:\n",
        "    dictionary_2.append(i)"
      ],
      "metadata": {
        "id": "TZOk0au2xQZS"
      },
      "id": "TZOk0au2xQZS",
      "execution_count": null,
      "outputs": []
    },
    {
      "cell_type": "code",
      "source": [
        "len(dictionary_2)"
      ],
      "metadata": {
        "colab": {
          "base_uri": "https://localhost:8080/"
        },
        "id": "GkM8y0t1yHet",
        "outputId": "b22cbb7a-c889-4ef5-8f0b-118da5be2345"
      },
      "id": "GkM8y0t1yHet",
      "execution_count": null,
      "outputs": [
        {
          "output_type": "execute_result",
          "data": {
            "text/plain": [
              "1075"
            ]
          },
          "metadata": {},
          "execution_count": 95
        }
      ]
    },
    {
      "cell_type": "code",
      "source": [
        "dictionary_2 = list(dictionary_2)"
      ],
      "metadata": {
        "id": "IdYDkCCbyKaS"
      },
      "id": "IdYDkCCbyKaS",
      "execution_count": null,
      "outputs": []
    },
    {
      "cell_type": "code",
      "source": [
        "dictionary_2[0:100]"
      ],
      "metadata": {
        "colab": {
          "base_uri": "https://localhost:8080/"
        },
        "id": "j70Go69fzcWM",
        "outputId": "67e2cf82-d913-439f-8e0a-edf431135f67"
      },
      "id": "j70Go69fzcWM",
      "execution_count": null,
      "outputs": [
        {
          "output_type": "execute_result",
          "data": {
            "text/plain": [
              "['celulosa',\n",
              " 'unidades',\n",
              " 'lapiz1',\n",
              " 'darunavir',\n",
              " 'siabi',\n",
              " 'acción',\n",
              " 'detemir',\n",
              " 'satagliptina',\n",
              " '30comp',\n",
              " 'formatos',\n",
              " 'dióxido',\n",
              " 'fam20',\n",
              " 'diamicron',\n",
              " 'promedio',\n",
              " 'cartas',\n",
              " 'biosintetica',\n",
              " 'tecnicas',\n",
              " 'retarda',\n",
              " 'oblongos',\n",
              " 'lapicera',\n",
              " 'tecnica',\n",
              " 'articulo',\n",
              " 'economica',\n",
              " 'parcializado',\n",
              " 'morfina',\n",
              " 'dasatinib',\n",
              " 'accion',\n",
              " 'clorhidrato',\n",
              " 'deberá',\n",
              " 'aadministración',\n",
              " 'vidrio',\n",
              " 'human',\n",
              " 'cristalina',\n",
              " 'formato',\n",
              " 'corridas',\n",
              " 'clorh',\n",
              " 'bases',\n",
              " 'prolongado',\n",
              " 'trayecta',\n",
              " 'sanitario',\n",
              " 'm01d0114',\n",
              " '_x000d_',\n",
              " 'bifasica',\n",
              " 'sitagliptina',\n",
              " 'dihidratado',\n",
              " 'adquisición',\n",
              " 'ritonavir',\n",
              " 'desechable',\n",
              " 'empaque',\n",
              " 'rilpivi',\n",
              " 'termico',\n",
              " 'kombiglyza',\n",
              " 'compr',\n",
              " 'microcristalina',\n",
              " 'magnesio',\n",
              " 'certificado',\n",
              " 'semestral',\n",
              " 'cmprimidos',\n",
              " 'revelar',\n",
              " 'oxalato',\n",
              " 'insuñlina',\n",
              " 'tecnologia',\n",
              " 'amlodopino',\n",
              " 'bisoprolol',\n",
              " 'multidosis',\n",
              " 'ajugas',\n",
              " 'bioequivalencia',\n",
              " 'polisorbato',\n",
              " 'fenol',\n",
              " 'junio',\n",
              " 'agujas',\n",
              " 'similiar',\n",
              " 'parche',\n",
              " 'código',\n",
              " 'aspartic',\n",
              " 'administrar',\n",
              " 'aspartata',\n",
              " 'polvo',\n",
              " 'impresa',\n",
              " 'inyectable',\n",
              " 'facturación',\n",
              " 'detemir100',\n",
              " 'estipulado',\n",
              " 'según',\n",
              " 'compromidos',\n",
              " '000mg',\n",
              " 'micofenolato',\n",
              " 'trastuzumab',\n",
              " 'tabletas',\n",
              " 'isofónica',\n",
              " 'solicitado',\n",
              " 'superior',\n",
              " 'ultrapida',\n",
              " 'disoproxil',\n",
              " 'lápices',\n",
              " 'dispositivo',\n",
              " 'nifedipino',\n",
              " 'inmediato',\n",
              " 'inyect',\n",
              " 'consumo']"
            ]
          },
          "metadata": {},
          "execution_count": 103
        }
      ]
    },
    {
      "cell_type": "code",
      "source": [
        "data_0_set = []\n",
        "temp_data_tok = data_tok.copy()\n",
        "temp_0 = temp_data_tok[0]\n",
        "for i in temp_data_tok:\n",
        "  if Simhash(i).distance(Simhash(temp_0)) <= 20:\n",
        "    data_0_set.append(i)\n",
        "    temp_data_tok.remove(i)"
      ],
      "metadata": {
        "id": "zPq-B_rqZARH"
      },
      "id": "zPq-B_rqZARH",
      "execution_count": null,
      "outputs": []
    },
    {
      "cell_type": "code",
      "source": [
        "len(data_0_set)"
      ],
      "metadata": {
        "colab": {
          "base_uri": "https://localhost:8080/"
        },
        "id": "22opUaqq_MdM",
        "outputId": "443f6661-338e-407c-e88b-cea1084caef1"
      },
      "id": "22opUaqq_MdM",
      "execution_count": null,
      "outputs": [
        {
          "output_type": "execute_result",
          "data": {
            "text/plain": [
              "356"
            ]
          },
          "metadata": {},
          "execution_count": 48
        }
      ]
    },
    {
      "cell_type": "code",
      "source": [
        "temp_0\n",
        "print([' '.join(temp_0) ])"
      ],
      "metadata": {
        "colab": {
          "base_uri": "https://localhost:8080/"
        },
        "id": "9gkF6Kg7_QpR",
        "outputId": "3f0b7930-310b-47e8-e826-68d6e6583a2b"
      },
      "id": "9gkF6Kg7_QpR",
      "execution_count": null,
      "outputs": [
        {
          "output_type": "stream",
          "name": "stdout",
          "text": [
            "['empaglifozina 10 mg cm rec .']\n"
          ]
        }
      ]
    },
    {
      "cell_type": "code",
      "source": [
        "data_0_set = [' '.join(row) for row in data_0_set]\n",
        "data_0_set"
      ],
      "metadata": {
        "colab": {
          "base_uri": "https://localhost:8080/"
        },
        "id": "M1UtWKKXsVJE",
        "outputId": "a84eba2f-3f65-443a-b722-f7efc6fcc42f"
      },
      "id": "M1UtWKKXsVJE",
      "execution_count": null,
      "outputs": [
        {
          "output_type": "execute_result",
          "data": {
            "text/plain": [
              "['empaglifozina 10 mg cm rec .',\n",
              " 'metformina 1000 mg cm rec',\n",
              " 'metformina 750 mg comp . lib . prolong . caja x 30 comprimidos recubiertos . similar glicenex sr 750 mg',\n",
              " 'metformina 1000 mg mg comprimido de liberación prolongada o comprimido recubierto de liberación prolongada envasado en blister .',\n",
              " 'm01d0182 amlodipina 5mg cm',\n",
              " 'dapagliflozina 10 mg cm rec',\n",
              " 'amlodipino 10 mg cm / cm rec . envase clinico . comprimido unidad .',\n",
              " 'metformina clorhidrato 1000 mg . envase x 30 comp . liberación prolongada . similar glaupax 1000 xr',\n",
              " 'glibenclamida 5 mg .',\n",
              " 'losartan 50 mg . comprimidos . envase sellado , resistente e inadulterado .',\n",
              " 'dasatinib 20 mg cm rec .',\n",
              " 'glibenclamida 5 mg . comp . _x000d__x000d__x000d__x000d__x000d__x000d__x000d__x000d_',\n",
              " 'amlodipino 5mg . cm . vencimiento superior a 12 meses .',\n",
              " 'metformina 1000 mg cm lib . prolong .',\n",
              " 'losartan potásico 50 mg . cm . vencimiento superior a 12 meses',\n",
              " 'linagliptina 2 . 5 mg / metformina 500 mg_x000d__x000d__x000d__x000d__x000d__x000d__x000d__x000d_',\n",
              " 'losartan cmp . 50 mg .',\n",
              " 'xigduo 5 / 1000 mg x 56 comp .',\n",
              " 'metformina 850mg . vencimiento superior a 12 meses .',\n",
              " 'metformina 850 mg comprimido recubierto . valor unitario .',\n",
              " 'metformina 850 mg . comp .',\n",
              " 'losartan 100 mg cm / cm rec',\n",
              " '\" insulina isofánica 100 ui / ml . frasco suspensión x 10 ml . similar a insulatard hm . . .. . . . . . . . . . . . ..( se adjuntan bases administrativas y técnicas \"\" leerlas p / ofertar )\"',\n",
              " 'amlodipino 10 mg . revisar bases adjuntas',\n",
              " 'bisoprolol 2 , 5 mg cm / cm rec .',\n",
              " 'cm . glibenclamida 5 mg . _x000d__x000d__x000d__x000d__x000d__x000d__x000d__x000d_',\n",
              " 'losartan 50 mg cm / cm rec',\n",
              " 'losartan cmp . 50 mg . x 1000',\n",
              " 'metformina clorhidrato 850 mg cm',\n",
              " 'bisoprolol 1 , 25 mg cm / cm rec .',\n",
              " 'amlodipino cm 10 mg comprimido',\n",
              " 'amlodipino 10 mg comprimido o comprimido recubierto envasado en blister',\n",
              " 'glibenclam ./ metfor . 5 / 500 mg cm / cm rec ( 100000717 )',\n",
              " 'lo que se requiere es saxagliptina 5 mg / metformina 500 mg x 60 comp',\n",
              " 'amlodipina 10 mg',\n",
              " 'dasatinib 100 mg cm rec',\n",
              " 'glibenclamida comp . 5 mg .',\n",
              " 'amlodipino 10 mg comprimido 10 mg',\n",
              " 'dapagliflozina 10 mg ; metformina 1000 mg . comprimidos recubiertos de liberación prolongada . envase sellado , resistente e inadulterado . similar a xigduo xr',\n",
              " 'amlodipino 10 mg',\n",
              " 'metform / dapagliflo 1000 / 10 mg cm lib pro',\n",
              " 'metformina 1000 mg cm rc .',\n",
              " 'losartan 50 mg . comp .',\n",
              " 'metformina clorhidrato cm o cm recubierto 850 mg . _x000d__x000d__x000d__x000d__x000d__x000d__x000d__x000d_ _x000d__x000d__x000d__x000d__x000d__x000d__x000d__x000d_ ( cod . siabi 118834 )',\n",
              " 'amlodipino comp . x 10 mg .',\n",
              " 'amlodipino besilato 10 mg comprimidos',\n",
              " 'atorvastatina 20 mg gg / cm / cm rec',\n",
              " 'amlodipino 10 mg cm / cm rec',\n",
              " 'enalapril 20 mg cm / cm rec',\n",
              " 'captopril 25 mg cm',\n",
              " 'losartan potásico 50 mg . vencimiento superior a 12 meses',\n",
              " 'tenofovir disoproxil 300 mg cm rec',\n",
              " 'losartan comp . x 50 mg .',\n",
              " 'metformina 850 mg cm rec',\n",
              " 'losartan potasico comp . recubiertos 50 mg .',\n",
              " 'cm . metformina 850 mg . _x000d__x000d__x000d__x000d__x000d__x000d__x000d__x000d_',\n",
              " '\" glibenclamida 5 mg . comprimidos . . . . . . .. . . . . . .( se adjuntan bases administrativas y técnicas \"\" leerlas p / ofertar \"\")\"',\n",
              " 'imatinib 400 mg cp / cm rec .',\n",
              " 'glibenclamida comp . 5 mg',\n",
              " 'sitaglipina 50 mg y metformina clorhidrato 1000 mg . caja x 56 comp . similar janumet 50 mg / 1000 mg',\n",
              " 'amlodipino 5 mg . comprimidos . envase sellado , resistente e inadulterado . deseable envase no superior a 30 comprimidos',\n",
              " '\" amlodipino 5 mg . comprimidos .. .. . . . .. .. . . . .( se adjuntan bases adminstrativas y técnicas \"\" leerlas p / ofertar \"\")\"',\n",
              " 'suministro de amlodipino 10 mg comprimidos',\n",
              " 'linagliptina 2 , 5 mg / metformina 500 mg x 60 comp rec . similar trayenta duo',\n",
              " 'comprimido 850 mg .',\n",
              " 'losartan cm 50 mg',\n",
              " 'metformina clorhidrato 500 mg . envase x 30 comp . liberacion prolongada . similar glaupax xr',\n",
              " 'metformina 850 mg . cm . vencimiento superior a 12 meses',\n",
              " 'imatinib 100 mg cp / cm rec .',\n",
              " 'amlodipino 10 mg cm .',\n",
              " 'dapagliflozina 5 mg ; metformina 1000 mg . comprimidos recubiertos de liberacion prolongada . envase sellado , resistente e inadulterado . similar a xigduo xr',\n",
              " 'metformina liberacion comp . prolongada 1 . 000 mg .',\n",
              " 'glibenclamida 5 mg . cm .',\n",
              " 'meropenem 500 mg polvo / liof . fam',\n",
              " 'dapaglifozina 10 mg . caja x 28 comp . rec . similar a forxiga . . ... .. .. . . . . ..( se adjuntan bases administrativas y técnicas ) _x000d__x000d__x000d__x000d__x000d__x000d__x000d__x000d_',\n",
              " 'amlodipino 5 mg .',\n",
              " 'enalapril 10 mg cm / cm rec',\n",
              " 'amlodipino 10 mg comprimido_x000d__x000d__x000d__x000d__x000d__x000d_',\n",
              " 'atazanavir / cobicistat 300 / 150 mg cm rec .',\n",
              " '\" linagliptina 2 . 5 mg + metformina 1000 mg . caja x 60 comp . similar a trayenta duo . . .. . . . . . . . . . . . ..( se adjuntan bases administrativas y técnicas \"\" leerlas p / ofertar )\"',\n",
              " 'linagliptina 2 . 5 mg + metformina clorhidrato 1000 mg x 60 comprimidos , similar a trayenta duo 2 . 5 / 1000 mg x 60 comp .',\n",
              " '\" dapaglifozina 5mg + metformina 1000 mg x 56 comp . prol . similar a xigduo xr . . .. . . . . . . . . . . . ..( se adjuntan bases administrativas y técnicas \"\" leerlas p / ofertar )\"',\n",
              " 'amlodipino 10 mg',\n",
              " 'metformina 1000 mg + vildagliptina 50mg . caja x 28 comp . rec . similar a galvus met .....( indicar fecha de vencimiento y registro isp ).. _x000d__x000d__x000d__x000d__x000d__x000d__x000d__x000d_',\n",
              " 'metformina comprimido 850 mg blister de pvc / aluminio impreso , envase resistente con sello que asegure la inviolabilidad del contenido fecha vencimiento superior a 2 años .',\n",
              " 'losartan potasico 50mg . cm . vencimiento superior a 12 meses .',\n",
              " 'sitagliptina ( en capa del comp . lib . inmediata ) 50 mg + 1000 mg de metformina ( en núcleo del comp de lib . prol .). envase por 56 comp . rec .',\n",
              " 'darunavir 400 mg cm rec',\n",
              " 'micofenolato mofetilo 500 mg cm rec .',\n",
              " 'amlodipina 10 mg .',\n",
              " 'metformina 1000 mg . comprimidos de liberación prolongada . envase sellado , resistente e inadulterado .',\n",
              " 'metformina 1g cm .',\n",
              " 'amlodipino 10 mg en comprimidos',\n",
              " 'amlodipino cm 10 mg $ 2142942cm',\n",
              " 'metformina clorhidrato cm 850 mg .',\n",
              " 'merformina clorhidrato cm o cm recubierto 850 mg',\n",
              " 'metformina 500 mg ; glibenclamida 5 mg . comprimidos . envase sellado , resistente e inadulterado .',\n",
              " '214 - 0299 losartan 50 mg . comprimido 450 . 000',\n",
              " 'amlodipino 10 mg . cm . vencimiento superior a 12 meses .',\n",
              " 'dapaglifozina 10 mg + metformina 1000 mg x 56 comp . similar a xigduo 10 / 1000_x000d__x000d__x000d__x000d__x000d__x000d__x000d__x000d_',\n",
              " 'linagliptina 2 . 5 + metformina 1000 mg x 60 comprimidos similar a trayenta duo 2 . 5 / 1000 mg .',\n",
              " 'dapaglifozina + metformina 5 / 1000 mg comp . lp',\n",
              " 'metformina 500 mg . + glibenclamida 5 mg ., envases clínicos x 1 . 000 comprimidos',\n",
              " 'losartan 50 mg . comprimidos . envase sellado , resistente e inadulterado . deseable envase no superior a 30 comprimidos',\n",
              " 'amlodipino mesilato 5 mg comprimido f_x000d__x000d__x000d__x000d__x000d__x000d_',\n",
              " 'linagliptina 2 . 5 mg / metformina 1000 mg x 60 comp rec , similar trayenta duo',\n",
              " 'glibenclamida 5 mg . comprimidos . envase sellado , resistente e inadulterado .',\n",
              " 'amlodipino 10 mg cm / cm rec . _x000d__x000d__x000d__x000d__x000d__x000d_',\n",
              " 'efavirenz 600 mg cm rec .',\n",
              " '10 cajas x 1000 comprimidos amlodipino 10 mg',\n",
              " 'amlodipino 10 mg comprimidos ranurados',\n",
              " 'amlodipino 10mg cm .',\n",
              " 'metformina clorhidrato 850 mg . comprimidos recubiertos .',\n",
              " 'vildagliptina 50 mg x 56 comp . re . similar galvus',\n",
              " 'metformina 500 mg mas glibenclamida 5 mg .',\n",
              " 'm01c0010 anfotericina b 50mg fco . amp .',\n",
              " 'metformina 1000mg cm / cm rec liberacion prolongada_x000d__x000d__x000d__x000d__x000d__x000d__x000d__x000d_',\n",
              " 'carvedilol 25 mg cm / cm rec .',\n",
              " 'amlodipino 10 mg . comprimido . indicar fecha de vencimiento en la presentación de los productos .',\n",
              " 'metformina 1000 mg . comprimido lib . prolongada',\n",
              " 'amlodipino 5 mg comprimido_x000d__x000d__x000d__x000d__x000d__x000d_',\n",
              " 'metformina 850 mg . comprimidos .',\n",
              " 'linagliptina 2 . 5 mg ; metformina 850 mg',\n",
              " 'metformina 850 mg . comprimidos . envase sellado , resistente e inadulterado .',\n",
              " 'amlodipino 5 mg cm / cm rec .',\n",
              " 'sitagliptina 50 mg + 1000 mg de metformina ( núcleo del comprimido de liberacion prolongada .) x 56 comp . rec . biconvexos y ovalados .',\n",
              " 'metformina 850 mg cm rec . envase clinico . comprimido unidad .',\n",
              " 'losartan potasico 50 mg cm / cm rec',\n",
              " 'metformina 500 mg comp . lp',\n",
              " 'amlodipina 10 mg bioequivalente',\n",
              " 'amlodipino 10 mg - presentación : comprimido_x000d__x000d__x000d__x000d__x000d__x000d_',\n",
              " 'amlodipino 10 mg',\n",
              " 'metformina 500 mg cm / cm rec lib . prolong 100003871',\n",
              " 'glicenex sr 500 mg x 30',\n",
              " 'glibenclamida cm / cm rec ranurado 5 mg',\n",
              " 'losartan 50 mg comprimido .',\n",
              " 'amlodipino 10 mg comprimido envasado en blister . cotizar por comprimido .',\n",
              " 'amlodipino maleato 10 mg',\n",
              " 'amlodipino 5 mg cm / cm rec',\n",
              " 'fentanilo 0 , 5 mg / 10 ml sol . iny . am / fam',\n",
              " 'amlodipino 10 mg .',\n",
              " 'caja de 60 comprimido recubierto contiene : empagliflozina 12 . 5 mg y clorhidrato de metformina 850 mg . similar a jardiance duo 12 . 5 / 850',\n",
              " 'amlodipino 10 mg . cm / cm . rec .',\n",
              " '\" metformina 1000 mg + sitagliptina 50 mg . caja x 56 comp . similar a janumet . . .. . . . . . . . . . . . ..( se adjuntan bases administrativas y técnicas \"\" leerlas p / ofertar )\"',\n",
              " 'telmisartan 40 mg cm / cm rec .',\n",
              " 'cm . amlodipino 10 mg',\n",
              " 'losartán 50 mg . cm .',\n",
              " 'metformina comp . 1 . 000 mg . lib . prolongada',\n",
              " 'amlodipino 10 mg . comprimidos . envase sellado , resistente e inadulterado .',\n",
              " 'caja 60 comprimido recubierto contiene : linagliptina 2 . 5 mg y metformina clorhidrato 1000 mg . similar a trayenta duo 2 . 5 / 1000',\n",
              " '\" metformina 750 mg . caja x 30 comp . prol . similar a glicenex sr .. . . . .. .. . . . . . . .( se adjuntan bases administrativas y tecnicas \"\" leerlas para ofertar \"\")\"',\n",
              " 'dapagliflozina 10 mg + metformina lp 1000 similar a xig duo 10 / 1000',\n",
              " '103740 aj5208 anfotericina liposomal f . a . 50 mg / 10 ml ev ///',\n",
              " 'amlodipino besilato 10 mg comprimidos recubiertos . envase aluminio / pvc .',\n",
              " 'metformina 850 . comprimidos recubiertos . . . . . .. . . .. . .. . . . . . . . .( se adjuntan bases administrativas y tecnicas , leerlas p / ofertar )',\n",
              " 'com . amlodipino 10 mg',\n",
              " 'losartan potasico 50 mg cod . int . 40400110061',\n",
              " 'lamivudina 150 mg cm rec .',\n",
              " 'saxagliptina 5 mg cm rec ( 100004983 )',\n",
              " 'linagliptina 2 . 5 + metformina 850 mg x 60 comprimidos similar a trayenta duo 2 . 5 / 850 mg .',\n",
              " 'losartan 50 mg cm / cm rec',\n",
              " 'amlodipno comp . xl 5 mg .',\n",
              " 'amlodipino comprimidos 10 mg_x000d__x000d__x000d__x000d__x000d__x000d_',\n",
              " 'amlodipino 10 mg comp .',\n",
              " 'caja de 28 comp . recubiertos de liberacion prolongada contiene : dapagliflozina ( como propanodiol ) 10 mg y metformina clorhidrato 1000 mg . similar a xigduo xr 10 / 1000',\n",
              " 'metformina 500 mg + glibenclamida 5 mg comp .',\n",
              " '\" metformina 1000 mg . xr liberacion prolongada . . . . .. .. . .. . . . . . .( se adjuntan bases administrativas y técnicas , 2leerlas p / ofertar \"\")\"',\n",
              " 'caja de 60 comprimido recubierto contiene : linagliptina 2 . 5 mg y metformina clorhidrato 1000 mg . similar a trayenta duo 2 . 5 / 1000',\n",
              " 'losartan 50 mg comprimido en blister . vencimiento mayor a 18 meses desde el envio de la oc .',\n",
              " 'darunavir 600 mg cm rec',\n",
              " 'metformina cmp . 850 mg . envase 60 comp .',\n",
              " 'caja de 60 comprimido recubierto contiene : linagliptina 2 . 5 mg y metformina clorhidrato 850 mg . similar a trayenta duo 2 . 5 / 850',\n",
              " 'amlodipino / valsartan 10 / 160 mg cm rec',\n",
              " 'tamoxifeno 20 mg cm / cm rec .',\n",
              " 'metformina lib . prolongada cm 1000 mg',\n",
              " 'losartan 50mg . comprimido . indicar fecha de vencimiento en la presentación de los productos .',\n",
              " 'trayenta duo ( linagliptina 2 . 5 mg y clorhidrato de metformina 500 mg ) x28comp . o similar . _x000d__x000d__x000d__x000d__x000d__x000d__x000d__x000d_',\n",
              " 'glibenclamida 5 mg . cm . vencimiento superior a 12 meses .',\n",
              " 'losartan 50 mg / cm rec',\n",
              " 'amlodipino 10 mg oral',\n",
              " 'amlodipino 10 mg comp',\n",
              " 'metformina 850mg cm / cm rec liberación prolongada',\n",
              " 'telmisartan 40 mg cm / cm rec .',\n",
              " 'empagliflozina12 . 5 mg + metformina 850 mg . caja x 60 comp . rec . similar a jardiance duo . ... .. .. . . . . ..( se adjuntan bases administrativas y técnicas ) _x000d__x000d__x000d__x000d__x000d__x000d__x000d__x000d_',\n",
              " 'amlodipino cm 5 mg',\n",
              " 'metformina 850 mg . vencimiento superior a 12 meses',\n",
              " '1093034 - 5 envase x56compr . comprimido contiene 50mg del principio activo hipoglicemiante vildagliptina . forma farmaceutica de compr para administracion via oral . o equivalente a galvus 50 mg x 56 comp',\n",
              " 'se requiere adquirir metformina clorhidrato 1000 mg / cm . liberacion prolongada',\n",
              " 'glibenclamida 5 mg cm / cm rec_x000d__x000d__x000d__x000d__x000d__x000d__x000d__x000d_',\n",
              " 'metformina 500 mg + glibenclamida 5 mg comp . _x000d__x000d__x000d__x000d__x000d__x000d__x000d__x000d_ _x000d__x000d__x000d__x000d__x000d__x000d__x000d__x000d_',\n",
              " 'amlodipino 5 mg . comprimidos',\n",
              " 'metformina 750 mg comp . lib . prolong . caja x 30 comprimidos recubiertos . similar glicenex sr 1000 mg',\n",
              " '\" insulina isofánica 100 ui / ml . frasco suspension x 10 ml . similar a insulatard hm . . . . . . .. . .. . .. . . . .( se adjuntan bases administrativas y técnicas \"\" leerlas p / ofertar \"\")\"',\n",
              " 'amlodipino 10 mg . comprimido',\n",
              " 'raltegravir 400 mg cm rec',\n",
              " 'amlodipino 10 mg comprimidos',\n",
              " 'moxifloxacino 400 mg cm recubierto',\n",
              " 'm01c0010 anfotericina b 50mg fco . amp .',\n",
              " 'abacavir 300 mg cm rec .',\n",
              " 'rosuvastatina 40 mg cm rec',\n",
              " 'hipoglucin lp 500 mg x 30 comp . lib . prol .',\n",
              " 'insulina glargina 100 unidades ( equivalente a 3 . 64 mg ) por ml en dispositivo inyector de 3ml . presentación por 1 - 10 inyectores . _x000d__x000d__x000d__x000d__x000d__x000d__x000d__x000d_',\n",
              " '1093045 - 1 cada comprimido contiene 850 mg del principio metformina o equivalente a metformina 850 mg x10 comp .',\n",
              " '1300105 metformina hcl 850 acción sostenida uso ocasional cm rec . _x000d__x000d__x000d__x000d__x000d__x000d__x000d__x000d_',\n",
              " 'linagliptina 2 . 5 mg y metformina clorhidrato 850 mg x 60 comp',\n",
              " 'cm losartan cm 50 mg',\n",
              " 'amlodipino cm 10 mg _x000d__x000d__x000d__x000d__x000d__x000d_',\n",
              " 'amlodipino 5 mg . cm . vencimiento superior a 12 meses . _x000d__x000d__x000d__x000d__x000d__x000d_',\n",
              " 'losartan potasico 50 mg . cm . vencimiento superior a 12 meses',\n",
              " '\" losartan 50 mg . comprimidos . . . . . . . .. . . . . . . . . ( se adjuntan bases administrativas y técnicas \"\" leerlas para ofertar \"\")\"',\n",
              " 'metformina 850 mg cm / cm rec lib . prolong',\n",
              " 'amlodipino 10 mg .-',\n",
              " 'glibenclamida cmp . 5 mg .',\n",
              " 'glibenclamida cm o cm ranurado 5 mg',\n",
              " 'glibenclamida 5 mg ( indicar valor unitario neto ). _x000d__x000d__x000d__x000d__x000d__x000d__x000d__x000d_',\n",
              " 'dapaglifozina 10 mg',\n",
              " 'amlodipino 10 mg comprimidos ranurados ( vencimiento superior a 1 año )',\n",
              " 'metformina 750 mg cm / cm rec lib . prolong',\n",
              " 'metformina 850mg . cotizar por comprimido . vencimiento igual o superior a 12 meses . indicar vencimiento y monto mínimo de facturación y despacho por linea . el despacho será uno solo .',\n",
              " 'metformina 850 mg + vildagliptina 50mg . caja x 28 comp . rec . similar a jalra m .....( indicar fecha de vencimiento y registro isp ).. _x000d__x000d__x000d__x000d__x000d__x000d__x000d__x000d_',\n",
              " 'linagliptina 2 . 5 mg / metformina 500 mg , caja 60 comprimidos',\n",
              " 'amlodipino en comprimidos de 10 mg',\n",
              " 'amlodipino comp . 10 mg .',\n",
              " 'amlodipino 5mg cm',\n",
              " 'glibenclamida 5 mg cm / cm rec',\n",
              " 'metfomina 850 mg cm',\n",
              " 'dapaglifozina + metformina 10 / 1000 mg comp . lp',\n",
              " 'losartan comp . 50 mg .',\n",
              " 'amlodipino 5 mg cm / rec .',\n",
              " 'amlodipina 10 mg comprimidos',\n",
              " 'amlodipino 5mg . cotizar por comprimido . vencimiento igual o superior a 12 meses . indicar monto mínimo de facturación y despacho .',\n",
              " 'amlodipino 10 mg . comprimidos',\n",
              " 'glibenclamida 5 mg . comprimidos ranurados',\n",
              " 'amlodipino 10 mg comprimidos envase clinico',\n",
              " 'losartan ( potasico ) 50 mg . comprimido .',\n",
              " 'dapagliflozina 10 mg ; metformina 1000 mg . comprimidos recubiertos de liberacion prolongada . envase sellado , resistente e inadulterado . similar a xig duo xr',\n",
              " 'losartan potasico 50 mg cm ranurado beq .',\n",
              " 'amlodipino comprimido 10 mg',\n",
              " 'glibencamida cm 5mg',\n",
              " 'amlodipino 10 mg cm . posterior a 18 meses desde marzo 2020',\n",
              " 'amlodipino comp 10 mg',\n",
              " 'dapaglifozina 10 mg + metformina 1000 mg x 56 comp . similar a xigduo 5 / 1000_x000d__x000d__x000d__x000d__x000d__x000d__x000d__x000d_',\n",
              " 'atorvastatina 40 mg cm rec .',\n",
              " 'amlodipino 10 mg bioequivalente',\n",
              " 'metformina clorhidrato cm rec 850mg',\n",
              " 'metformina 500 mg comp . lib . prolong . caja x 30 comprimidos recubiertos . similar glicenex sr 500 mg',\n",
              " 'amlodipina 5 mg . cm . vencimiento superior a 12 meses',\n",
              " 'metformina 850mg . blister de 20 o 30 unidades . para facilitar el fraccionamiento . asi cuidar el producto en el alveolo',\n",
              " 'glibenclamida 5 mg caja por 1000 comprimidos .',\n",
              " 'vildagliptina 50 mg . cm .',\n",
              " 'amlodipino ; comprimido 10 mg .',\n",
              " 'losartan 50 mg cm',\n",
              " 'metformina 500 mg + glibenclamida 5 mg comp . recubiertos',\n",
              " 'metformina 500 mg caja por 30 comnprimidos . glicenex o similar .',\n",
              " '15000 cm amlodipino 10 mg ( en cj x 1 . 000 cm )',\n",
              " 'metformina comp . 850 mg .',\n",
              " 'glibenclamida 5 mg . comprimidos . vencimiento mínimo junio 2022 .',\n",
              " 'amlodipino 10 mg . vencimiento superior a 12 meses',\n",
              " 'dapaglifoxina 10 mg',\n",
              " 'amlodipino 10 mg . cm . vencimiento superior a 12 meses',\n",
              " 'metformina clorhidrato 500 mg + sitagliptina 50 mg . envase comercial en comprimidos de liberación convencional . fecha de vencimiento no menor a 12 meses desde la entrega .',\n",
              " 'amlodipino 10 mg brirranurado fecha de vencimiento obligatorio',\n",
              " 'losartán 50 mg . cm / cm . rec .',\n",
              " 'amlodipino 5 mg cm .',\n",
              " '36 .- anfotericina b f . a . 50 mg liof . hosdip aj5203',\n",
              " 'metoprolol 50 mg cm / cm rec lib prolongad',\n",
              " 'amlodipino 10 mg cm / cm rec : amlodipino besilato 10 mg , comprimidos',\n",
              " 'valganciclovir 450 mg cm rec .',\n",
              " 'caja de 1 lapicera inyectable contiene : 300 unidades de insulina glargina ( equivalentes a 10 . 91 mg ). cada lapicera contiene 1 . 5 ml de solución inyectable , equivalentes a 450 unidades . similar a toujeo',\n",
              " 'amlodipino 5 mg cm rec .',\n",
              " 'glibenclamida 5 mg comprimido_x000d__x000d__x000d__x000d__x000d__x000d__x000d__x000d_',\n",
              " 'amlodipino comprimidos 10 mg',\n",
              " 'losartan cm 50 mg comprimido',\n",
              " 'metformina 850 mg . comprimido - vencimiento igual o superior a 12 meses . - registro sanitario vigente . - cumplir la descripcion de articulo requerida .',\n",
              " 'metformina 1000 mg . comprimidos de liberacion prolongada . envase sellado , resistente e inadulterado .',\n",
              " '\" metformina 850 . comprimidos recubiertos . . . . ... .. . . . . .( se adjuntan bases administrativas y técnicas \"\" leerlas para ofertar \"\")\"',\n",
              " 'amlodipino 5 mg comp .',\n",
              " 'amlodipino 10 mg comprimido en blister . vencimiento mayor a 18 meses desde el envió de la oc .',\n",
              " 'midazolam 15 mg cm / cm rec',\n",
              " '\" metformina 850 . comprimidos recubiertos . . . . .. . .. . . . . .. .. .( se adjuntan bases administrativas y técnicas \"\" leerlas p / ofertar \"\")\"',\n",
              " 'anfotericina b - liposomal f . a . 50 mg . hosdip aj5202',\n",
              " 'losartan 50 mg . comprimidos . envase sellado , resistente e inadulterado . deseable envase no superior a 30 unidades .',\n",
              " 'amlodipino 5 mg . comprimidos . envase sellado , resistente e inadulterado . deseable envase no superior a 30 unidades .',\n",
              " 'se requiere adquirir amlodipino 10 mg / cm',\n",
              " 'metformina 500 mg ; glibenclamida 5 mg . comprmidos recubiertos . envase sellado , resistente e inadulterado . similar a glucovance',\n",
              " 'amlodipino 5 mg cm',\n",
              " 'midazolam 5 mg / 5ml sol . iny . am',\n",
              " 'glibenclamida 5 mg cm / cm rec .',\n",
              " 'linagliptina 2 , 5 mg / metformina 1000 mg x 60 com p rec similar a trayenta',\n",
              " 'cada comprimido recubierto contiene : linagliptina 2 . 5 mg y metformina clorhidrato 500 mg caja conteniendo 60 comprimidos . trayenta duo o similar_x000d__x000d__x000d__x000d__x000d__x000d__x000d__x000d_ _x000d__x000d__x000d__x000d__x000d__x000d__x000d__x000d_',\n",
              " 'amlodipino maleato 10 mg comprimido',\n",
              " 'glibenclamida 5mg . caja x 60 comp . . ... .. .. . . . . ..( se adjuntan bases administrativas y técnicas ) _x000d__x000d__x000d__x000d__x000d__x000d__x000d__x000d_',\n",
              " 'amlodipino 10 mg cm / cm rec . ( 100002901 )',\n",
              " 'glibenclam . / metfor . 5 / 500 mg cm / cm rec',\n",
              " '\" glibenclamida 5 m . comprimidos . .. . . . .. .. . . . .( se adjuntan bases adminstrativas y técnicas \"\" leerlas p / ofertar \"\")\"',\n",
              " 'amlodipino 5 mg . cm . vencimiento superior a 12 meses',\n",
              " '\" saxagliptina 5mg + metformina 1000mg . caja x 28 comp . lib . prol . ( similar a kombiglize xr ). . . . .. .. . .. .. . ( se adjuntan bases administrativas y tecnicas \"\" leerlas p / ofertar \"\")\"',\n",
              " 'rosuvastatina 20 mg cm rec',\n",
              " 'cada comprimido recubierto contiene : linagliptina 2 . 5 mg y metformina clorhidrato 1000 mg caja conteniendo 60 comprimidos . trayenta duo o similar_x000d__x000d__x000d__x000d__x000d__x000d__x000d__x000d_',\n",
              " 'metformina 1000 mg comp . lib . prolong . caja x 30 comprimidos recubiertos . similar glicenex sr 1000 mg',\n",
              " 'metformina 850 mg comp . rec . caja x 30 comprimidos recubiertos . similar glifortex 850 mg',\n",
              " 'comprimidos amlodipino de 10 mg .',\n",
              " 'metformina 1000mg cm / cm rec lib . prolong',\n",
              " 'amlodipino 10 mg cm',\n",
              " 'linagliptina 2 . 5 mg y metformina clorhidrato 850 mg x 60 comp rec similar a trayenta duo',\n",
              " 'empagliflozina 25 mg cm rec',\n",
              " 'cm de amlodipio de 10 mg',\n",
              " 'besilato de amlodipina 10 mg . cm / cm rec .',\n",
              " 'metformina 500 mg . comprimidos recubiertos . envase sellado , resistente e inadulterado . deseable envase no superior a 30 comprimidos .',\n",
              " 'ritonavir 100 mg cm rec',\n",
              " 'atorvastatina 10 mg gg / cm / cm rec',\n",
              " 'amlodipino comprimido 10 mg_x000d__x000d__x000d__x000d__x000d__x000d_',\n",
              " 'entecavir 1 mg cm rec',\n",
              " 'metformina 850 mg comprimido recubierto . _x000d__x000d__x000d__x000d__x000d__x000d__x000d__x000d_ vencimiento superior a 1 año',\n",
              " 'glibenclamida 5 mg . vencimiento superior a 12 meses',\n",
              " 'amlodipino 5mg .',\n",
              " 'amlodipino 10 mg . cm',\n",
              " 'carvedilol 6 , 25 mg cm / cm rec .',\n",
              " 'vildagliptina 50 mg / metformina 500 mg x 56 comp . rec . similar galvus met',\n",
              " 'glibenclamida 5 mg comprimidos envase clinico x 1000 un .',\n",
              " 'dapaglifozina cm 10 mg',\n",
              " 'amlodipino 5 mg . comprimidos . envase sellado , resistente e inadulterado . deseable envase clínico',\n",
              " 'losartan 50mg . comprimidos . vencimiento igual o superior a 12 meses',\n",
              " 'dapagliflozina 5 mg ; metformina 1000 mg . comprimidos recubiertos de liberacion prolongada . envase sellado , resistente e inadulterado . similar a xigduo xr .',\n",
              " '190010008 amlodipino 5 mg cm',\n",
              " 'dasatinib 70 mg cm rec .',\n",
              " 'rosuvastatina 10 mg cm rec .',\n",
              " 'metformina cm 1 g lib prolongada .',\n",
              " 'telmisartan 80 mg cm / cm rec',\n",
              " 'amlodipino 10 mg_x000d__x000d__x000d__x000d__x000d_',\n",
              " 'amlodipino maleato 10 mg comprimido f_x000d__x000d__x000d__x000d__x000d__x000d_',\n",
              " 'dapaglifozina 10 mg cm recubierto',\n",
              " 'lo que se requiere es linagliptina 2 . 5 mg metformina 1000 x 56 cm',\n",
              " '5550250 amlodipino 10 mg comprimido',\n",
              " 'dapaglifozina 5 mg + metformina 1000 mg ( similar xigduo 5 / 1000 ) caja de 56 comprimidos .',\n",
              " 'trayenta duo 2 . 5 / 850 mg x 360 comp . recub .',\n",
              " 'cm . losartan 50 mg . _x000d__x000d__x000d__x000d__x000d__x000d_',\n",
              " 'cm glibenclamida cm 5 mg',\n",
              " 'glibenclamida 5 mg . comp .',\n",
              " 'losartan 50 mg . cm / cm . rec .',\n",
              " 'losartan cm . 50 mg .',\n",
              " 'linezolid 600 mg cm rec',\n",
              " 'amlodipino 5 mg . revisar bases adjuntas',\n",
              " 'amlodipino cm 10 mg',\n",
              " 'metformina 500 mg / glibenclamida 2 . 5 mg x caja con 30 a 60 comprimidos',\n",
              " 'metformina clorhidrato cm 850 mg',\n",
              " 'carvedilol 12 , 5 mg cm / cm rec .',\n",
              " 'hipoglucin lp 1000 mg x 30 comp . lib . prol .',\n",
              " '1300036 glibenclamida cm 5 mg . _x000d__x000d__x000d__x000d__x000d__x000d__x000d__x000d_',\n",
              " 'trayenta duo 2 . 5 mg / 1000 mg x 60 comprimidos',\n",
              " 'metformina 1 . 000 mg . liberación prolongada .',\n",
              " 'amlodipino 5 mg cm / cm rec . ( 100003239 )',\n",
              " 'amlodipino comp . 5 mg .',\n",
              " 'linagliptina 2 . 5 mg ; metformina 500 mg',\n",
              " 'amlodipino 10 mg comprimido',\n",
              " 'amlodipino 10 mg cm . _x000d__x000d__x000d__x000d__x000d__x000d_']"
            ]
          },
          "metadata": {},
          "execution_count": 52
        }
      ]
    },
    {
      "cell_type": "code",
      "source": [
        "data_1_set = []\n",
        "temp_data_tok_1 = temp_data_tok.copy()\n",
        "temp_1 = temp_data_tok_1[0]\n",
        "for i in temp_data_tok_1:\n",
        "  if Simhash(i).distance(Simhash(temp_1)) <= 15:\n",
        "    data_1_set.append(i)\n",
        "    temp_data_tok_1.remove(i)\n",
        "len(temp_data_tok_1)"
      ],
      "metadata": {
        "colab": {
          "base_uri": "https://localhost:8080/"
        },
        "id": "qUE9k4mK0ox6",
        "outputId": "ebdef11d-ee6d-40ed-a108-abd0b448ba27"
      },
      "id": "qUE9k4mK0ox6",
      "execution_count": null,
      "outputs": [
        {
          "output_type": "execute_result",
          "data": {
            "text/plain": [
              "3116"
            ]
          },
          "metadata": {},
          "execution_count": 50
        }
      ]
    },
    {
      "cell_type": "code",
      "source": [
        "len(data_1_set)"
      ],
      "metadata": {
        "colab": {
          "base_uri": "https://localhost:8080/"
        },
        "id": "XMS5bW34wfR3",
        "outputId": "5dda4485-c0f4-4c19-9810-e1e3074aef2b"
      },
      "id": "XMS5bW34wfR3",
      "execution_count": null,
      "outputs": [
        {
          "output_type": "execute_result",
          "data": {
            "text/plain": [
              "8"
            ]
          },
          "metadata": {},
          "execution_count": 51
        }
      ]
    },
    {
      "cell_type": "code",
      "source": [
        "print([' '.join(temp_1) ])"
      ],
      "metadata": {
        "colab": {
          "base_uri": "https://localhost:8080/"
        },
        "id": "NZhoX3NjrMBi",
        "outputId": "7c6d7c20-09d9-40d6-b2df-6d386176835d"
      },
      "id": "NZhoX3NjrMBi",
      "execution_count": null,
      "outputs": [
        {
          "output_type": "stream",
          "name": "stdout",
          "text": [
            "['metformina comprimido 850 mg']\n"
          ]
        }
      ]
    },
    {
      "cell_type": "code",
      "source": [
        "data_1_set\n",
        "#data_1_set = [' '.join(row) for row in data_1_set]\n",
        "#print(*data_1_set, sep='\\n')\n",
        "#print '\\n'.join(data_1_set)"
      ],
      "metadata": {
        "id": "rz8LTrXM1UnG"
      },
      "id": "rz8LTrXM1UnG",
      "execution_count": null,
      "outputs": []
    },
    {
      "cell_type": "code",
      "source": [
        "data_1_set = [' '.join(row) for row in data_1_set]\n",
        "data_1_set"
      ],
      "metadata": {
        "id": "Ije8e6x_7Ueb"
      },
      "id": "Ije8e6x_7Ueb",
      "execution_count": null,
      "outputs": []
    },
    {
      "cell_type": "code",
      "source": [
        "data_2_set = []\n",
        "temp_data_tok_2 = temp_data_tok_1.copy()\n",
        "temp_2 = temp_data_tok_2[0]\n",
        "for i in temp_data_tok_2:\n",
        "  if Simhash(i).distance(Simhash(temp_2)) <= 15:\n",
        "    data_2_set.append(i)\n",
        "    temp_data_tok_2.remove(i)\n",
        "len(temp_data_tok_2)"
      ],
      "metadata": {
        "colab": {
          "base_uri": "https://localhost:8080/"
        },
        "id": "XuqcPIzr-bJy",
        "outputId": "45dd6c3c-d613-4a0b-8d7d-685a15844e46"
      },
      "id": "XuqcPIzr-bJy",
      "execution_count": null,
      "outputs": [
        {
          "output_type": "execute_result",
          "data": {
            "text/plain": [
              "3403"
            ]
          },
          "metadata": {},
          "execution_count": 158
        }
      ]
    },
    {
      "cell_type": "code",
      "source": [
        "len(data_2_set)"
      ],
      "metadata": {
        "colab": {
          "base_uri": "https://localhost:8080/"
        },
        "id": "383cM1Ej-cFl",
        "outputId": "82a0bdc3-9a2b-49d8-ca4c-504d5fe917c1"
      },
      "id": "383cM1Ej-cFl",
      "execution_count": null,
      "outputs": [
        {
          "output_type": "execute_result",
          "data": {
            "text/plain": [
              "3"
            ]
          },
          "metadata": {},
          "execution_count": 159
        }
      ]
    },
    {
      "cell_type": "code",
      "source": [
        "print([' '.join(temp_2) ])"
      ],
      "metadata": {
        "colab": {
          "base_uri": "https://localhost:8080/"
        },
        "id": "w4hRZI8dCKet",
        "outputId": "82e96936-f0d1-4e23-e3e5-375be0b0d856"
      },
      "id": "w4hRZI8dCKet",
      "execution_count": null,
      "outputs": [
        {
          "output_type": "stream",
          "name": "stdout",
          "text": [
            "['metformina 1000 mg + sitagliptina 50 mg comprimido_x000d__x000d__x000d__x000d__x000d__x000d__x000d__x000d_']\n"
          ]
        }
      ]
    },
    {
      "cell_type": "code",
      "source": [
        "#data_2_set = [' '.join(row) for row in data_2_set]\n",
        "data_2_set"
      ],
      "metadata": {
        "id": "ZaVejQCN-cf9"
      },
      "id": "ZaVejQCN-cf9",
      "execution_count": null,
      "outputs": []
    },
    {
      "cell_type": "code",
      "source": [
        "data_3_set = []\n",
        "temp_data_tok_3 = temp_data_tok_2.copy()\n",
        "temp_3 = temp_data_tok_3[0]\n",
        "for i in temp_data_tok_3:\n",
        "  if Simhash(i).distance(Simhash(temp_3)) <= 15:\n",
        "    data_3_set.append(i)\n",
        "    temp_data_tok_3.remove(i)\n",
        "len(temp_data_tok_3)"
      ],
      "metadata": {
        "colab": {
          "base_uri": "https://localhost:8080/"
        },
        "id": "E0ACBsQIElvW",
        "outputId": "8d8fca81-0022-4f55-cd64-ebc906d80e9e"
      },
      "id": "E0ACBsQIElvW",
      "execution_count": null,
      "outputs": [
        {
          "output_type": "execute_result",
          "data": {
            "text/plain": [
              "3346"
            ]
          },
          "metadata": {},
          "execution_count": 167
        }
      ]
    },
    {
      "cell_type": "code",
      "source": [
        "len(data_3_set)"
      ],
      "metadata": {
        "colab": {
          "base_uri": "https://localhost:8080/"
        },
        "id": "VToPqvHOElmK",
        "outputId": "44ab6bfc-3ff8-4243-a355-858a50018ceb"
      },
      "id": "VToPqvHOElmK",
      "execution_count": null,
      "outputs": [
        {
          "output_type": "execute_result",
          "data": {
            "text/plain": [
              "57"
            ]
          },
          "metadata": {},
          "execution_count": 163
        }
      ]
    },
    {
      "cell_type": "code",
      "source": [
        "print([' '.join(temp_3) ])"
      ],
      "metadata": {
        "colab": {
          "base_uri": "https://localhost:8080/"
        },
        "id": "SsVGQ4xeElc2",
        "outputId": "1e55bc55-9e72-4af5-86e6-0f9c5fff0b0f"
      },
      "id": "SsVGQ4xeElc2",
      "execution_count": null,
      "outputs": [
        {
          "output_type": "stream",
          "name": "stdout",
          "text": [
            "['glibenclamida 5 mg comprimidos envase clinico']\n"
          ]
        }
      ]
    },
    {
      "cell_type": "code",
      "source": [
        "data_3_set = [' '.join(row) for row in data_3_set]\n",
        "data_3_set"
      ],
      "metadata": {
        "id": "_V62FJ7hElUD"
      },
      "id": "_V62FJ7hElUD",
      "execution_count": null,
      "outputs": []
    },
    {
      "cell_type": "code",
      "source": [
        "data_4_set = []\n",
        "temp_data_tok_4 = temp_data_tok_3.copy()\n",
        "temp_4 = temp_data_tok_4[0]\n",
        "for i in temp_data_tok_4:\n",
        "  if Simhash(i).distance(Simhash(temp_4)) <= 15:\n",
        "    data_4_set.append(i)\n",
        "    temp_data_tok_4.remove(i)\n",
        "len(temp_data_tok_4)"
      ],
      "metadata": {
        "colab": {
          "base_uri": "https://localhost:8080/"
        },
        "id": "1JdRPRtgElID",
        "outputId": "b7f20591-a378-4fe4-d7f3-acf161e0a5b0"
      },
      "id": "1JdRPRtgElID",
      "execution_count": null,
      "outputs": [
        {
          "output_type": "execute_result",
          "data": {
            "text/plain": [
              "3331"
            ]
          },
          "metadata": {},
          "execution_count": 169
        }
      ]
    },
    {
      "cell_type": "code",
      "source": [
        "len(data_4_set)"
      ],
      "metadata": {
        "colab": {
          "base_uri": "https://localhost:8080/"
        },
        "id": "gHpwxRaFJIoa",
        "outputId": "cb42f554-7236-4fe4-90a0-841d4563afa2"
      },
      "id": "gHpwxRaFJIoa",
      "execution_count": null,
      "outputs": [
        {
          "output_type": "execute_result",
          "data": {
            "text/plain": [
              "15"
            ]
          },
          "metadata": {},
          "execution_count": 170
        }
      ]
    },
    {
      "cell_type": "code",
      "source": [
        "print([' '.join(temp_3) ])"
      ],
      "metadata": {
        "colab": {
          "base_uri": "https://localhost:8080/"
        },
        "id": "68o7dqBgJNrD",
        "outputId": "5b470969-9452-42a0-c673-6979acba0073"
      },
      "id": "68o7dqBgJNrD",
      "execution_count": null,
      "outputs": [
        {
          "output_type": "stream",
          "name": "stdout",
          "text": [
            "['glibenclamida 5 mg comprimidos envase clinico']\n"
          ]
        }
      ]
    },
    {
      "cell_type": "code",
      "source": [
        "data_4_set = [' '.join(row) for row in data_4_set]\n",
        "data_4_set"
      ],
      "metadata": {
        "id": "Og6VA6GrJQIn"
      },
      "id": "Og6VA6GrJQIn",
      "execution_count": null,
      "outputs": []
    },
    {
      "cell_type": "code",
      "source": [
        "data_5_set = []\n",
        "temp_data_tok_5 = temp_data_tok_4.copy()\n",
        "temp_5 = temp_data_tok_5[0]\n",
        "for i in temp_data_tok_5:\n",
        "  if Simhash(i).distance(Simhash(temp_5)) <= 15:\n",
        "    data_5_set.append(i)\n",
        "    temp_data_tok_5.remove(i)\n",
        "len(temp_data_tok_5)"
      ],
      "metadata": {
        "colab": {
          "base_uri": "https://localhost:8080/"
        },
        "id": "BvYhL48fKmz1",
        "outputId": "cf09eb01-90b0-4254-e97b-245df40e3a99"
      },
      "id": "BvYhL48fKmz1",
      "execution_count": null,
      "outputs": [
        {
          "output_type": "execute_result",
          "data": {
            "text/plain": [
              "3299"
            ]
          },
          "metadata": {},
          "execution_count": 175
        }
      ]
    },
    {
      "cell_type": "code",
      "source": [
        "len(data_5_set)"
      ],
      "metadata": {
        "colab": {
          "base_uri": "https://localhost:8080/"
        },
        "id": "ZSl0XHAVKmqf",
        "outputId": "f4ebc3d4-176b-49e4-8142-6de15a072bba"
      },
      "id": "ZSl0XHAVKmqf",
      "execution_count": null,
      "outputs": [
        {
          "output_type": "execute_result",
          "data": {
            "text/plain": [
              "32"
            ]
          },
          "metadata": {},
          "execution_count": 176
        }
      ]
    },
    {
      "cell_type": "code",
      "source": [
        "print([' '.join(temp_5) ])"
      ],
      "metadata": {
        "colab": {
          "base_uri": "https://localhost:8080/"
        },
        "id": "3iRzM921Kmiw",
        "outputId": "1282c1b0-3ff5-40a1-da7b-c1913650da14"
      },
      "id": "3iRzM921Kmiw",
      "execution_count": null,
      "outputs": [
        {
          "output_type": "stream",
          "name": "stdout",
          "text": [
            "['metformina clorhidrato 750 mg , comprimidos de liberacion prolongada , envasados en blister de pvc o similar y aluminio impreso , envase 30 comprimidos de liberación prolongada . certificación fda o ema , gmp de la planta productora _x000d__x000d__x000d__x000d__x000d__x000d__x000d__x000d_ _x000d__x000d__x000d__x000d__x000d__x000d__x000d__x000d_ _x000d__x000d__x000d__x000d__x000d__x000d__x000d__x000d_ _x000d__x000d__x000d__x000d__x000d__x000d__x000d__x000d_']\n"
          ]
        }
      ]
    },
    {
      "cell_type": "code",
      "source": [
        "data_5_set = [' '.join(row) for row in data_5_set]\n",
        "data_5_set"
      ],
      "metadata": {
        "id": "0a2-0yjtKmXb"
      },
      "id": "0a2-0yjtKmXb",
      "execution_count": null,
      "outputs": []
    },
    {
      "cell_type": "code",
      "source": [
        "data_6_set = []\n",
        "temp_data_tok_6 = temp_data_tok_5.copy()\n",
        "temp_6 = temp_data_tok_6[0]\n",
        "for i in temp_data_tok_6:\n",
        "  if Simhash(i).distance(Simhash(temp_6)) <= 15:\n",
        "    data_6_set.append(i)\n",
        "    temp_data_tok_6.remove(i)\n",
        "len(temp_data_tok_6)"
      ],
      "metadata": {
        "colab": {
          "base_uri": "https://localhost:8080/"
        },
        "id": "9gcm_XrmKl-M",
        "outputId": "7751723a-90c0-4efd-89a3-ab98f94a20cb"
      },
      "id": "9gcm_XrmKl-M",
      "execution_count": null,
      "outputs": [
        {
          "output_type": "execute_result",
          "data": {
            "text/plain": [
              "3284"
            ]
          },
          "metadata": {},
          "execution_count": 180
        }
      ]
    },
    {
      "cell_type": "code",
      "source": [
        "len(data_6_set)"
      ],
      "metadata": {
        "colab": {
          "base_uri": "https://localhost:8080/"
        },
        "id": "yj2O6_nEKlxl",
        "outputId": "a6c3cc7b-409a-4a7c-d6c1-002f0595640b"
      },
      "id": "yj2O6_nEKlxl",
      "execution_count": null,
      "outputs": [
        {
          "output_type": "execute_result",
          "data": {
            "text/plain": [
              "15"
            ]
          },
          "metadata": {},
          "execution_count": 181
        }
      ]
    },
    {
      "cell_type": "code",
      "source": [
        "print([' '.join(temp_6) ])"
      ],
      "metadata": {
        "colab": {
          "base_uri": "https://localhost:8080/"
        },
        "id": "U32h2BygKlnk",
        "outputId": "1197f7dc-b1f8-49b3-cb65-e8b0530d6cb3"
      },
      "id": "U32h2BygKlnk",
      "execution_count": null,
      "outputs": [
        {
          "output_type": "stream",
          "name": "stdout",
          "text": [
            "['3002161382 insulina glargina 300 ui / ml 1 , 5 ml solución inyectable']\n"
          ]
        }
      ]
    },
    {
      "cell_type": "code",
      "source": [
        "data_6_set = [' '.join(row) for row in data_6_set]\n",
        "data_6_set"
      ],
      "metadata": {
        "colab": {
          "base_uri": "https://localhost:8080/"
        },
        "id": "CIgodWlnKlaS",
        "outputId": "f3bb57f2-4ee8-4743-943a-6d9e710c75b7"
      },
      "id": "CIgodWlnKlaS",
      "execution_count": null,
      "outputs": [
        {
          "output_type": "execute_result",
          "data": {
            "text/plain": [
              "['3002161382 insulina glargina 300 ui / ml 1 , 5 ml solución inyectable',\n",
              " 'insulina nph f 100 ui / ml 10 ml solucion inyectable',\n",
              " 'insulina glargina fa 100 u . i / ml lapiz 3 ml solucion inyectable',\n",
              " 'insulina degludec 100 u / ml , solución inyectable en dispositivo prellenado , producto deseado tresiba solución inyectable 100 u / ml',\n",
              " 'insulina retardada 100ui / ml 10 ml',\n",
              " 'propofol 20 mg / ml emu iny am / fam50 ml',\n",
              " 'insulina glargina rec 100 ui / ml fam10 ml',\n",
              " 'insulina isofanica 100 ui / ml 5 ml o 10 ml cod . int . 40400170005',\n",
              " 'insulina glargina fa 100 u . i ./ ml lapiz 3 ml solucion inyectable',\n",
              " '007 - 0072 insulina asparto solución inyectable 100 ui / ml cartucho 3 ml',\n",
              " '3002161380 insulina glargina 100 ui / ml / 3 ml solucion inyectable',\n",
              " 'insulina glargina rec 100 ui / ml fam10 ml 100002079',\n",
              " '3002161364 insulina aspartica 100 ui / 3 ml solución inyectable',\n",
              " '1 insulina glargina 450 ui / 1 , 5 ml ( 300 ui / ml ) inyectable en lapiz prellenado inyectable 12000',\n",
              " 'insulina glargina 450 ui / 1 , 5 ml ( 300 ui / ml ) inyectable en lapiz prellenado']"
            ]
          },
          "metadata": {},
          "execution_count": 183
        }
      ]
    },
    {
      "cell_type": "code",
      "source": [
        "data_7_set = []\n",
        "temp_data_tok_7 = temp_data_tok_6.copy()\n",
        "temp_7 = temp_data_tok_7[0]\n",
        "for i in temp_data_tok_7:\n",
        "  if Simhash(i).distance(Simhash(temp_7)) <= 15:\n",
        "    data_7_set.append(i)\n",
        "    temp_data_tok_7.remove(i)\n",
        "\n",
        "print(len(temp_data_tok_7), len(data_7_set), [' '.join(temp_7) ])"
      ],
      "metadata": {
        "colab": {
          "base_uri": "https://localhost:8080/"
        },
        "id": "ycKMPC9kNh2D",
        "outputId": "3d875813-70b9-4478-d95a-8bd6058c6c7e"
      },
      "id": "ycKMPC9kNh2D",
      "execution_count": null,
      "outputs": [
        {
          "output_type": "stream",
          "name": "stdout",
          "text": [
            "3242 42 ['sitaglipina 50 mg + metformina clorhidrato 850 mg x 56 comp_x000d__x000d__x000d__x000d__x000d__x000d__x000d__x000d_ ( janumet 50 / 850 )']\n"
          ]
        }
      ]
    },
    {
      "cell_type": "code",
      "source": [
        "data_7_set = [' '.join(row) for row in data_7_set]\n",
        "data_7_set"
      ],
      "metadata": {
        "id": "3FRhTHEzNht6"
      },
      "id": "3FRhTHEzNht6",
      "execution_count": null,
      "outputs": []
    },
    {
      "cell_type": "code",
      "source": [
        "data_8_set = []\n",
        "temp_data_tok_8 = temp_data_tok_7.copy()\n",
        "temp_8 = temp_data_tok_8[0]\n",
        "for i in temp_data_tok_8:\n",
        "  if Simhash(i).distance(Simhash(temp_8)) <= 15:\n",
        "    data_8_set.append(i)\n",
        "    temp_data_tok_8.remove(i)\n",
        "\n",
        "print(len(temp_data_tok_8), len(data_8_set), [' '.join(temp_8) ])"
      ],
      "metadata": {
        "colab": {
          "base_uri": "https://localhost:8080/"
        },
        "id": "Muv8Uq7ENhnN",
        "outputId": "b95af31f-f594-498d-c3ba-d6b448c96893"
      },
      "id": "Muv8Uq7ENhnN",
      "execution_count": null,
      "outputs": [
        {
          "output_type": "stream",
          "name": "stdout",
          "text": [
            "3222 20 ['sitagliptina 50 mg / metformina 850 mg comprimidos recubiertos . envase comercial conteniendo 56 comprimidos recubiertos']\n"
          ]
        }
      ]
    },
    {
      "cell_type": "code",
      "source": [
        "data_8_set = [' '.join(row) for row in data_8_set]\n",
        "data_8_set"
      ],
      "metadata": {
        "colab": {
          "base_uri": "https://localhost:8080/"
        },
        "id": "LML910XKNhgv",
        "outputId": "1524ddee-d865-4103-be69-d6bdfef3c3cf"
      },
      "id": "LML910XKNhgv",
      "execution_count": null,
      "outputs": [
        {
          "output_type": "execute_result",
          "data": {
            "text/plain": [
              "['sitagliptina 50 mg / metformina 850 mg comprimidos recubiertos . envase comercial conteniendo 56 comprimidos recubiertos',\n",
              " 'metformina 850 mg x30 comprimidos recubiertos excluyente',\n",
              " 'dapagliflozina ( como propanodiol ) 10 mg + metformina clorhidrato 1000 mg . envase conteniendo 28 comprimidos recubiertos de liberación prolongada .',\n",
              " 'sitagliptina 50 mg / metformina mg 1000 x 56 comprimidos .',\n",
              " 'metfomina 850 mg comprimidos',\n",
              " 'metformina 850 mg comprimidos recubiertos',\n",
              " 'dapagliflozina 10 mg / metformina 1000 mg comprimidos recubiertos . envase comercial conteniendo 28 comprimidos recubiertos de liberacion prolongada',\n",
              " '100 . 000 metformina 850 mg comprimidos',\n",
              " 'metformina 850 mg comprimidos recubiertos oblongo',\n",
              " 'sitagliptina 50 mg + metformina 1000 mg x 56 comprimidos , similar a janumet 50 / 1000 mg xr comprimidos recubiertos',\n",
              " 'cm metformina comprimidos recubiertos 850 mg',\n",
              " 'linagliptina 2 , 5 mg / metformina 1000 mg comprimidos recubiertos . envase comercial conteniendo 60 comprimidos recubiertos',\n",
              " 'metformina clorhidrato 850 mg . comprimidos recubiertos',\n",
              " 'metformina clorhidrato 850 mg . comprimidos recubiertos .',\n",
              " 'sitagliptina / metformina 50 / 1000 mg x 56 comp recubiertos , caja 56 comprimidos recubiertos',\n",
              " 'envase de 56 comprimidos que contiene : sitagliptina 50 mg ; metformina clorhidrato 850 mg . similar o igual a janumet 50 / 850 mg .',\n",
              " 'metformina comprimidos recubiertos 850 mg',\n",
              " 'canagliflozina 150 mg / metformina 1000 mg envase comercial conteniendo 60 comprimidos',\n",
              " 'linagliptina 2 , 5 mg / metformina 850 mg comprimidos recubiertos . envase comercial conteniendo 60 comprimidos recubiertos',\n",
              " 'losartán potásico 50 mg . comprimidos recubiertos .']"
            ]
          },
          "metadata": {},
          "execution_count": 187
        }
      ]
    },
    {
      "cell_type": "code",
      "source": [
        "data_9_set = []\n",
        "temp_data_tok_9 = temp_data_tok_8.copy()\n",
        "temp_9 = temp_data_tok_9[0]\n",
        "for i in temp_data_tok_9:\n",
        "  if Simhash(i).distance(Simhash(temp_9)) <= 15:\n",
        "    data_9_set.append(i)\n",
        "    temp_data_tok_9.remove(i)\n",
        "\n",
        "print(len(temp_data_tok_9), len(data_9_set), [' '.join(temp_9) ])"
      ],
      "metadata": {
        "colab": {
          "base_uri": "https://localhost:8080/"
        },
        "id": "zT_huog6NhT7",
        "outputId": "8fa118ea-99f4-4cb0-f02a-9bd3a69c2aa7"
      },
      "id": "zT_huog6NhT7",
      "execution_count": null,
      "outputs": [
        {
          "output_type": "stream",
          "name": "stdout",
          "text": [
            "3204 18 ['1092012 - 2 insulina humana adn recombinante 100ui / ml fco amp . 10ml , supension inyectable , o equivalente a insulina actrapid 100ui / ml fco ampolla']\n"
          ]
        }
      ]
    },
    {
      "cell_type": "code",
      "source": [
        "data_9_set = [' '.join(row) for row in data_9_set]\n",
        "data_9_set"
      ],
      "metadata": {
        "colab": {
          "base_uri": "https://localhost:8080/"
        },
        "id": "buOMqJZ4NhMI",
        "outputId": "da3f29c4-1ddc-4fcc-fa9f-70e5389a16fb"
      },
      "id": "buOMqJZ4NhMI",
      "execution_count": null,
      "outputs": [
        {
          "output_type": "execute_result",
          "data": {
            "text/plain": [
              "['1092012 - 2 insulina humana adn recombinante 100ui / ml fco amp . 10ml , supension inyectable , o equivalente a insulina actrapid 100ui / ml fco ampolla',\n",
              " 'insulina glargina 3 . 64 mg , equivalentes a 100 u . i . de insulina humana en 3 ml presentación en dispositivo solostar prellenado desechable .; equivalente a lantus solostar 100 u / ml lápiz 3 ml - _x000d__x000d__x000d__x000d__x000d__x000d__x000d__x000d_ ver base',\n",
              " '1092022 - 1 cada lapiz de insulina de accion ultra - _x000d__x000d__x000d__x000d__x000d__x000d__x000d__x000d_ rapida contiene cada 1ml 100ui de insulina humana o equivalente a ins . apidra - sol . 3ml',\n",
              " 'insulina humana recombinante 100ui / ml , solución inyectable en vial de 10 ml , insulina humana de acción rápida .',\n",
              " 'insulina nph 100ui / ml , solución inyectable en vial de 10 ml , insulina humana de larga duración',\n",
              " 'insulina glargina humana recombinante 100 u . i ./ ml soluc . iny 10 ml',\n",
              " 'insulina humana bifasica insulina regular / insulina nph proporcion 30 / 70 frasco ampolla 100 u . i ./ 1 ml fc 10 ml',\n",
              " '1400069 analogo de insulina lenta glargina adn recombinante 100 u / ml lapiz solostar x 3 ml sc , similar lantus solostar . sol . iny . lapiz_x000d__x000d__x000d__x000d__x000d__x000d__x000d__x000d_',\n",
              " 'insulina detemir 100 ui / ml - lapiz descartable cod . int . 40400170085',\n",
              " 'insulina glargina lápiz , según lo indicado en bases administrativas , técnicas y anexos adjuntos .',\n",
              " 'insulina nph humana 100 ui / ml fam 10 ml_x000d__x000d__x000d__x000d__x000d__x000d__x000d__x000d_',\n",
              " 'insulina retardada humana 100ui / ml iny',\n",
              " 'inuslina ultra rápida aspartica , lispro o glulisina 100 u . i / ml fa o cartucho 10 ml ( 1000 u . i .)',\n",
              " '1092011 - 4 insulina isofánica humana recombinantea 100ui / ml 10ml fco amp . suspension inyectable , o equivalente a insulina insuman n 100ui / ml intermedia',\n",
              " 'insulina ultra rapida aspartica , lispro o glulisina , adn recombinante 100 u . i / ml , 10 ml ( 1000 u . i )',\n",
              " '[ 2628453 ] insulina humana lenta 100ui / ml sol . iny sc fa',\n",
              " 'linagliptina / metformina 2 . 5mg / 850mg comp recubierto . vencimiento mayor a 12 meses , no se aceptan cartas de canje .',\n",
              " 'insulina humana cristalina 100ui / ml solución inyectable 10ml']"
            ]
          },
          "metadata": {},
          "execution_count": 189
        }
      ]
    },
    {
      "cell_type": "code",
      "source": [
        "data_10_set = []\n",
        "temp_data_tok_10 = temp_data_tok_9.copy()\n",
        "temp_10 = temp_data_tok_10[0]\n",
        "for i in temp_data_tok_10:\n",
        "  if Simhash(i).distance(Simhash(temp_10)) <= 15:\n",
        "    data_10_set.append(i)\n",
        "    temp_data_tok_10.remove(i)\n",
        "\n",
        "print(len(temp_data_tok_10), len(data_10_set), [' '.join(temp_10) ])"
      ],
      "metadata": {
        "colab": {
          "base_uri": "https://localhost:8080/"
        },
        "id": "IBi-yQYWQbq9",
        "outputId": "f956ee1a-0a47-4ed6-930d-6a47470ed1e6"
      },
      "id": "IBi-yQYWQbq9",
      "execution_count": null,
      "outputs": [
        {
          "output_type": "stream",
          "name": "stdout",
          "text": [
            "3199 5 ['214 - 0345 metformina 1 gr . comprimido 135 . 000']\n"
          ]
        }
      ]
    },
    {
      "cell_type": "code",
      "source": [
        "data_10_set = [' '.join(row) for row in data_10_set]\n",
        "data_10_set"
      ],
      "metadata": {
        "colab": {
          "base_uri": "https://localhost:8080/"
        },
        "id": "MMQE5VyDNhET",
        "outputId": "63fea720-1a63-48d1-b00b-1db245382ac0"
      },
      "id": "MMQE5VyDNhET",
      "execution_count": null,
      "outputs": [
        {
          "output_type": "execute_result",
          "data": {
            "text/plain": [
              "['214 - 0345 metformina 1 gr . comprimido 135 . 000',\n",
              " 'metformina 850 mg comprimidos bioequivalente , comprimidos cajas x 1000 ó 1 . 200',\n",
              " 'insulina detemir 100 ui / ml , especificar marca , características y presentación . consumo promedio mensual 10 unidades aprox .',\n",
              " 'metformina 850 mg comprimidos bioequivalente / comprimidos cajas x 1000 ó 1 . 200',\n",
              " 'metformina comp . 850 m , g']"
            ]
          },
          "metadata": {},
          "execution_count": 191
        }
      ]
    },
    {
      "cell_type": "code",
      "source": [
        "data_11_set = []\n",
        "temp_data_tok_11 = temp_data_tok_10.copy()\n",
        "temp_11 = temp_data_tok_11[0]\n",
        "for i in temp_data_tok_11:\n",
        "  if Simhash(i).distance(Simhash(temp_11)) <= 15:\n",
        "    data_11_set.append(i)\n",
        "    temp_data_tok_11.remove(i)\n",
        "\n",
        "print(len(temp_data_tok_11), len(data_11_set), [' '.join(temp_11) ])"
      ],
      "metadata": {
        "colab": {
          "base_uri": "https://localhost:8080/"
        },
        "id": "rJEy97RFNg7o",
        "outputId": "a56e7ef8-b4e2-4b98-bbb8-9e9a51404937"
      },
      "id": "rJEy97RFNg7o",
      "execution_count": null,
      "outputs": [
        {
          "output_type": "stream",
          "name": "stdout",
          "text": [
            "3118 81 ['losartan 50 mg - comprimidos']\n"
          ]
        }
      ]
    },
    {
      "cell_type": "code",
      "source": [
        "data_11_set = [' '.join(row) for row in data_11_set]\n",
        "data_11_set"
      ],
      "metadata": {
        "id": "lim1MpIHRBmf"
      },
      "id": "lim1MpIHRBmf",
      "execution_count": null,
      "outputs": []
    },
    {
      "cell_type": "code",
      "source": [
        "data_12_set = []\n",
        "temp_data_tok_12 = temp_data_tok_11.copy()\n",
        "temp_12 = temp_data_tok_12[0]\n",
        "for i in temp_data_tok_12:\n",
        "  if Simhash(i).distance(Simhash(temp_12)) <= 15:\n",
        "    data_12_set.append(i)\n",
        "    temp_data_tok_12.remove(i)\n",
        "\n",
        "print(len(temp_data_tok_12), len(data_12_set), [' '.join(temp_12) ])"
      ],
      "metadata": {
        "colab": {
          "base_uri": "https://localhost:8080/"
        },
        "id": "Lx_9ig7_RBkP",
        "outputId": "6074c46d-4081-4905-c348-d112b3281d80"
      },
      "id": "Lx_9ig7_RBkP",
      "execution_count": null,
      "outputs": [
        {
          "output_type": "stream",
          "name": "stdout",
          "text": [
            "3117 1 ['según resolución bases n ° 1999 de fecha 10 / 12 / 19_x000d__x000d__x000d__x000d__x000d__x000d__x000d__x000d_ licitación suministro medicamentos anti infecciosos']\n"
          ]
        }
      ]
    },
    {
      "cell_type": "code",
      "source": [
        "data_12_set = [' '.join(row) for row in data_12_set]\n",
        "data_12_set\n",
        "# cannot understand"
      ],
      "metadata": {
        "colab": {
          "base_uri": "https://localhost:8080/"
        },
        "id": "Wp65uK4cRBhV",
        "outputId": "e5fe31cc-47c1-42f2-dbe1-dfb33867f6ed"
      },
      "id": "Wp65uK4cRBhV",
      "execution_count": null,
      "outputs": [
        {
          "output_type": "execute_result",
          "data": {
            "text/plain": [
              "['según resolución bases n ° 1999 de fecha 10 / 12 / 19_x000d__x000d__x000d__x000d__x000d__x000d__x000d__x000d_ licitación suministro medicamentos anti infecciosos']"
            ]
          },
          "metadata": {},
          "execution_count": 195
        }
      ]
    },
    {
      "cell_type": "code",
      "source": [
        "data_13_set = []\n",
        "temp_data_tok_13 = temp_data_tok_12.copy()\n",
        "temp_13 = temp_data_tok_13[0]\n",
        "for i in temp_data_tok_13:\n",
        "  if Simhash(i).distance(Simhash(temp_13)) <= 15:\n",
        "    data_13_set.append(i)\n",
        "    temp_data_tok_13.remove(i)\n",
        "\n",
        "print(len(temp_data_tok_13), len(data_13_set), [' '.join(temp_13) ])"
      ],
      "metadata": {
        "colab": {
          "base_uri": "https://localhost:8080/"
        },
        "id": "UA8-bNqwRBeh",
        "outputId": "6f01b84c-9a27-4f7c-fb72-37d8743cc62e"
      },
      "id": "UA8-bNqwRBeh",
      "execution_count": null,
      "outputs": [
        {
          "output_type": "stream",
          "name": "stdout",
          "text": [
            "3108 9 ['insulina humana nph cristalina fco amp . 100ui / ml ( linea 78 )']\n"
          ]
        }
      ]
    },
    {
      "cell_type": "code",
      "source": [
        "data_13_set = [' '.join(row) for row in data_13_set]\n",
        "data_13_set"
      ],
      "metadata": {
        "colab": {
          "base_uri": "https://localhost:8080/"
        },
        "id": "w9gVbDWFRBcR",
        "outputId": "7dfe52d5-cb5e-4263-a0f9-52ede1f66ffa"
      },
      "id": "w9gVbDWFRBcR",
      "execution_count": null,
      "outputs": [
        {
          "output_type": "execute_result",
          "data": {
            "text/plain": [
              "['insulina humana nph cristalina fco amp . 100ui / ml ( linea 78 )',\n",
              " 'insulina insulatard ( humana )',\n",
              " 'fa03 - 0008 insulina nph fco amp ( lenta )',\n",
              " 'insulina nph frasco _x000d__x000d__x000d__x000d__x000d__x000d__x000d__x000d_',\n",
              " 'fa insulina nph humana fa 100 ui / ml',\n",
              " 'insulina nph humana fa 100 ui / ml',\n",
              " 'fa03 - 0006 insulina cristalina fco amp ( rápida )',\n",
              " 'm01f0043 insulina lenta nph 100ui / ml fco . 10',\n",
              " 'insulina lenta fco . amp . ( linea 85 )']"
            ]
          },
          "metadata": {},
          "execution_count": 197
        }
      ]
    },
    {
      "cell_type": "code",
      "source": [
        "data_14_set = []\n",
        "temp_data_tok_14 = temp_data_tok_13.copy()\n",
        "temp_14 = temp_data_tok_14[0]\n",
        "for i in temp_data_tok_14:\n",
        "  if Simhash(i).distance(Simhash(temp_14)) <= 15:\n",
        "    data_14_set.append(i)\n",
        "    temp_data_tok_14.remove(i)\n",
        "\n",
        "print(len(temp_data_tok_14), len(data_14_set), [' '.join(temp_14) ])"
      ],
      "metadata": {
        "colab": {
          "base_uri": "https://localhost:8080/"
        },
        "id": "KTz8fTIhRBWD",
        "outputId": "7c31c55f-6fed-44e6-c808-b4932c679db1"
      },
      "id": "KTz8fTIhRBWD",
      "execution_count": null,
      "outputs": [
        {
          "output_type": "stream",
          "name": "stdout",
          "text": [
            "3074 34 ['metformina clorhidrato cm o cm recubierto 850 mg']\n"
          ]
        }
      ]
    },
    {
      "cell_type": "code",
      "source": [
        "data_14_set = [' '.join(row) for row in data_14_set]\n",
        "data_14_set"
      ],
      "metadata": {
        "colab": {
          "base_uri": "https://localhost:8080/"
        },
        "id": "DcvLG0dpRBKP",
        "outputId": "2bb73c83-dd43-4362-b328-d91de7fc92a5"
      },
      "id": "DcvLG0dpRBKP",
      "execution_count": null,
      "outputs": [
        {
          "output_type": "execute_result",
          "data": {
            "text/plain": [
              "['metformina clorhidrato cm o cm recubierto 850 mg',\n",
              " 'metformina 850 mg cm',\n",
              " 'janumet 50 / 850 mg x 56 cm . recubierto ( o equivalente )',\n",
              " 'metformina 1000 mg lp cm',\n",
              " 'metformina cm 850 mg recubierto ( tipo hipoglucin )',\n",
              " 'dapaglifozina 10 mg cm recubierto',\n",
              " '15000 cm amlodipino 10 mg ( en cj x 1 . 000 cm )',\n",
              " 'metformina 1000mg x cm / cm rec lib . prolong ( bioequivalente )',\n",
              " 'metformina clorhidrato cm o cm recubierto 850 mg . _x000d__x000d__x000d__x000d__x000d__x000d__x000d__x000d_ _x000d__x000d__x000d__x000d__x000d__x000d__x000d__x000d_ ( cod . siabi 118834 )',\n",
              " 'metoprolol 50 mg cm / cm rec lib prolongad',\n",
              " 'metfomina 850 mg cm',\n",
              " 'metformina 850 mg cm rec_x000d__x000d__x000d__x000d__x000d__x000d__x000d__x000d_',\n",
              " 'metformina clorhidrato cm 850 mg',\n",
              " 'amlodipino 10 mg cm / cm rec',\n",
              " 'merformina clorhidrato cm o cm recubierto 850 mg',\n",
              " 'metformina 850mg cm / cm rec liberación prolongada',\n",
              " 'metformina 850 mg x comp . ( envase clinico )',\n",
              " 'cm de metformina 850 mg .',\n",
              " 'metformina 850 mg cm rec',\n",
              " '50000 cm metformina cm 850 mg ( cj x 1000 )',\n",
              " 'metformina 1000mg cm / cm rec lib . prolong',\n",
              " 'metformina 850 mg cm oblongo',\n",
              " 'galvus 50 mg x 56 cm . ( o equivalente )',\n",
              " 'metformina clorhidrato cm 850 mg _x000d__x000d__x000d__x000d__x000d__x000d__x000d__x000d_',\n",
              " 'janumet 50 / 1000 mg x 56 cm . recubierto ( o equivalente )',\n",
              " 'metformina clorhidrato cm recubierto 850 mg',\n",
              " 'amlodipino 10 mg cm . cotizar x comprimidos y vencimientos mínimo 18 / 24 meses',\n",
              " 'metformina clorhidrato 850 mg cm',\n",
              " 'metformina 1000 mg cm',\n",
              " 'cm . metformina 850 mg . _x000d__x000d__x000d__x000d__x000d__x000d__x000d__x000d_',\n",
              " 'metformina clorhidrato cm 850 mg .',\n",
              " '12145144000 metformina clorhidrato cm recubierto 850 mg',\n",
              " 'metformina cm 850 mg',\n",
              " 'metformina 850 mg cm']"
            ]
          },
          "metadata": {},
          "execution_count": 199
        }
      ]
    },
    {
      "cell_type": "code",
      "source": [
        "data_15_set = []\n",
        "temp_data_tok_15 = temp_data_tok_14.copy()\n",
        "temp_15 = temp_data_tok_15[0]\n",
        "for i in temp_data_tok_15:\n",
        "  if Simhash(i).distance(Simhash(temp_15)) <= 15:\n",
        "    data_15_set.append(i)\n",
        "    temp_data_tok_15.remove(i)\n",
        "\n",
        "print(len(temp_data_tok_15), len(data_15_set), [' '.join(temp_15) ])"
      ],
      "metadata": {
        "colab": {
          "base_uri": "https://localhost:8080/"
        },
        "id": "KO5xgG0YS5T5",
        "outputId": "575a8ac1-af14-4894-b155-18059ee53410"
      },
      "id": "KO5xgG0YS5T5",
      "execution_count": null,
      "outputs": [
        {
          "output_type": "stream",
          "name": "stdout",
          "text": [
            "3026 48 ['metformina 850 mg x 30 comp']\n"
          ]
        }
      ]
    },
    {
      "cell_type": "code",
      "source": [
        "data_15_set = [' '.join(row) for row in data_15_set]\n",
        "data_15_set"
      ],
      "metadata": {
        "colab": {
          "base_uri": "https://localhost:8080/"
        },
        "id": "QRVSTNAjTYlK",
        "outputId": "866fbe54-2bc7-40fd-c0bb-3897d4ba8afe"
      },
      "id": "QRVSTNAjTYlK",
      "execution_count": null,
      "outputs": [
        {
          "output_type": "execute_result",
          "data": {
            "text/plain": [
              "['metformina 850 mg x 30 comp',\n",
              " 'metformina 850 mg . caja x 30 comp',\n",
              " 'metformina 850 mg 30 comp beq',\n",
              " '214 - 5142 metformina 850 mg',\n",
              " 'metformina xr 750 mg x 30 comp rec',\n",
              " 'metformina 850 mg x 30 o 60 comprimidos recubiertos',\n",
              " 'metformina 850 mg x 60 comp',\n",
              " 'metformina 750 mg x 30 comprimidos liberación prolongada , similar a glaupax 750 mg xr x 30 comprimidos',\n",
              " 'metformina 850 mg 60 comp beq',\n",
              " 'metformina 850 mg x 30 comp .',\n",
              " 'metformina 750xr x 30 comp .',\n",
              " 'metformina 500 mg 30 comp rec_x000d__x000d__x000d__x000d__x000d__x000d__x000d__x000d_',\n",
              " 'metformina 850 mg cmbioequivalente',\n",
              " 'metformina 850 mg comp',\n",
              " 'metformina comp 850 mg',\n",
              " 'metformina 850 mg x 30 comprimidos recubiertos_x000d__x000d__x000d__x000d__x000d__x000d__x000d__x000d_',\n",
              " 'glifortex 1000mg x 30 comp o similar',\n",
              " 'metformina 850 mg comp bioequivalente',\n",
              " 'glafornil xr 750mg x 30 comp o similar',\n",
              " 'losartan potásico 50 mg x 30 comp recubiertos_x000d__x000d__x000d__x000d__x000d__x000d_',\n",
              " 'metformina 1000 mg x 30 comp . lp',\n",
              " 'glafornil 850 mg x 30 comp',\n",
              " 'metformina comp . x 850 mg',\n",
              " 'metformina 850 mg x 30 comprimidos',\n",
              " 'metformina 750 mg liberación prolongada x 30 comp',\n",
              " 'metformina 850 mg x 30 comprimidos_x000d__x000d__x000d__x000d__x000d__x000d__x000d__x000d_',\n",
              " 'metformina 750 mg x 30 comp liberacion prolongada',\n",
              " 'metformina 500 mg x 30 comp rec_x000d__x000d__x000d__x000d__x000d__x000d__x000d__x000d_',\n",
              " 'metformina xr 750 mg x 30 comp .',\n",
              " 'glifortex metf comp 850 mg',\n",
              " 'metformina 750 mg x 30 comprimidos de liberación prolongada , similar a glaupax xr 750 mg x 30 comp .',\n",
              " 'glibenclamida 5mg / metformina 1000 mg x 30 comp rec_x000d__x000d__x000d__x000d__x000d__x000d__x000d__x000d_',\n",
              " 'glibenclamida 5 mg x 30 comp',\n",
              " 'glafornil xr 1000mg x 30 comp o similar',\n",
              " 'metformina 850 x 60 comp',\n",
              " 'amlodipino comprimidos recubiertos 10 mg cajas x 30 comp',\n",
              " 'metformina 1000 mg lp x 30 comprimidos',\n",
              " 'metformina 500 mg x 30 comp rec',\n",
              " 'metformina 850 mg x 30 comprimidos recubiertos',\n",
              " 'metformina 750 mg lp x 30 comprimidos',\n",
              " 'fa01 - 0090 metformina 850 mg comp ( comp )',\n",
              " 'metformina 750 mg x 30 comprimidos lp',\n",
              " 'metformina 500 mg lp x 30 comprimidos',\n",
              " 'metformina 750 mg x 30 comp . lp',\n",
              " 'galvus ( o similar ) ( vidagliptina 50 mg x 30 comp ).',\n",
              " 'metformina 850 mg x 60 comp .',\n",
              " 'metformina 500 mg x 30 comp . 30',\n",
              " 'metformina 500 mg x 30 comprimidos lp']"
            ]
          },
          "metadata": {},
          "execution_count": 201
        }
      ]
    },
    {
      "cell_type": "code",
      "source": [
        "data_16_set = []\n",
        "temp_data_tok_16 = temp_data_tok_15.copy()\n",
        "temp_16 = temp_data_tok_16[0]\n",
        "for i in temp_data_tok_16:\n",
        "  if Simhash(i).distance(Simhash(temp_16)) <= 15:\n",
        "    data_16_set.append(i)\n",
        "    temp_data_tok_16.remove(i)\n",
        "\n",
        "print(len(temp_data_tok_16), len(data_16_set), [' '.join(temp_16) ])"
      ],
      "metadata": {
        "colab": {
          "base_uri": "https://localhost:8080/"
        },
        "id": "hJRJd_qGS5FU",
        "outputId": "13a828e6-0501-4c5b-8f57-a7dc6eb0f7b6"
      },
      "id": "hJRJd_qGS5FU",
      "execution_count": null,
      "outputs": [
        {
          "output_type": "stream",
          "name": "stdout",
          "text": [
            "3014 12 ['glibenclamida 5 mg comprimidos , según presentación de anexo n ° 5']\n"
          ]
        }
      ]
    },
    {
      "cell_type": "code",
      "source": [
        "data_16_set = [' '.join(row) for row in data_16_set]\n",
        "data_16_set"
      ],
      "metadata": {
        "colab": {
          "base_uri": "https://localhost:8080/"
        },
        "id": "MktLy7XAS4ru",
        "outputId": "1b9bd867-ed30-4ea3-ffaa-ebfa4fa6e305"
      },
      "id": "MktLy7XAS4ru",
      "execution_count": null,
      "outputs": [
        {
          "output_type": "execute_result",
          "data": {
            "text/plain": [
              "['glibenclamida 5 mg comprimidos , según presentación de anexo n ° 5',\n",
              " 'metformina / glibenclamida 500 / 5 mg , caja de 30 comprimidos',\n",
              " 'glibenclamida 5mg . comprimidos . indicar fecha de vencimiento , plazo de entrega y envasado de los productos .-',\n",
              " 'metformina 500 mg + glibenclamida 5 mg , comprimido , según presentación de anexo n ° 5',\n",
              " 'suministro de metformina clorhidrato 500 mg / glibenclamida 5 mg , caja 30 o 60 comprimidos',\n",
              " 'cm de amlodipino de 5 mg',\n",
              " 'glibenclamida de 5mg',\n",
              " 'glicenex metformina 850 mg , 30 comprimidos',\n",
              " 'tacrolimus 5 mg cp lib prolongad blister',\n",
              " 'metformina clorhidrato 850 mg ., comprimido recubierto , ranurado , ovoide de tamaño pequeño para fácil deglución',\n",
              " 'metformina 850 mg , 30 comprimidos',\n",
              " 'glibenclamida de 5 mg .']"
            ]
          },
          "metadata": {},
          "execution_count": 203
        }
      ]
    },
    {
      "cell_type": "code",
      "source": [
        "data_17_set = []\n",
        "temp_data_tok_17 = temp_data_tok_16.copy()\n",
        "temp_17 = temp_data_tok_17[0]\n",
        "for i in temp_data_tok_17:\n",
        "  if Simhash(i).distance(Simhash(temp_17)) <= 15:\n",
        "    data_17_set.append(i)\n",
        "    temp_data_tok_17.remove(i)\n",
        "\n",
        "print(len(temp_data_tok_17), len(data_17_set), [' '.join(temp_17) ])"
      ],
      "metadata": {
        "colab": {
          "base_uri": "https://localhost:8080/"
        },
        "id": "uwbVR0bSUq5F",
        "outputId": "712692d4-4b80-4288-9218-52aac0e61202"
      },
      "id": "uwbVR0bSUq5F",
      "execution_count": null,
      "outputs": [
        {
          "output_type": "stream",
          "name": "stdout",
          "text": [
            "3010 4 ['2143200 glibenclamida 5mg comprimido oral']\n"
          ]
        }
      ]
    },
    {
      "cell_type": "code",
      "source": [
        "data_17_set = [' '.join(row) for row in data_17_set]\n",
        "data_17_set"
      ],
      "metadata": {
        "colab": {
          "base_uri": "https://localhost:8080/"
        },
        "id": "JlVS8uJ0VFu0",
        "outputId": "98c91878-e50e-4531-88b6-4b3f74535ef1"
      },
      "id": "JlVS8uJ0VFu0",
      "execution_count": null,
      "outputs": [
        {
          "output_type": "execute_result",
          "data": {
            "text/plain": [
              "['2143200 glibenclamida 5mg comprimido oral',\n",
              " 'glibenclamida comprimido 5mg',\n",
              " 'glibenclamida 5mg comprimido_x000d__x000d__x000d__x000d__x000d__x000d__x000d__x000d_',\n",
              " 'glibenclamida 5mg comprimido']"
            ]
          },
          "metadata": {},
          "execution_count": 206
        }
      ]
    },
    {
      "cell_type": "code",
      "source": [
        "data_18_set = []\n",
        "temp_data_tok_18 = temp_data_tok_17.copy()\n",
        "temp_18 = temp_data_tok_18[0]\n",
        "for i in temp_data_tok_18:\n",
        "  if Simhash(i).distance(Simhash(temp_18)) <= 15:\n",
        "    data_18_set.append(i)\n",
        "    temp_data_tok_18.remove(i)\n",
        "\n",
        "print(len(temp_data_tok_18), len(data_18_set), [' '.join(temp_18) ])"
      ],
      "metadata": {
        "colab": {
          "base_uri": "https://localhost:8080/"
        },
        "id": "fy91srBVVEOv",
        "outputId": "09a870a5-0162-4fe9-f0a3-0af0f5380229"
      },
      "id": "fy91srBVVEOv",
      "execution_count": null,
      "outputs": [
        {
          "output_type": "stream",
          "name": "stdout",
          "text": [
            "2966 44 ['amlodipino 10mg cm .']\n"
          ]
        }
      ]
    },
    {
      "cell_type": "code",
      "source": [
        "data_18_set = [' '.join(row) for row in data_18_set]\n",
        "data_18_set"
      ],
      "metadata": {
        "id": "xMyNNDqwV_-p"
      },
      "id": "xMyNNDqwV_-p",
      "execution_count": null,
      "outputs": []
    },
    {
      "cell_type": "code",
      "source": [
        "data_19_set = []\n",
        "temp_data_tok_19 = temp_data_tok_18.copy()\n",
        "temp_19 = temp_data_tok_19[0]\n",
        "for i in temp_data_tok_19:\n",
        "  if Simhash(i).distance(Simhash(temp_19)) <= 15:\n",
        "    data_19_set.append(i)\n",
        "    temp_data_tok_19.remove(i)\n",
        "\n",
        "print(len(temp_data_tok_19), len(data_19_set), [' '.join(temp_19) ])"
      ],
      "metadata": {
        "colab": {
          "base_uri": "https://localhost:8080/"
        },
        "id": "-ila7-9iVoFb",
        "outputId": "3449ee68-beec-40c0-8f8d-90a6c33f7246"
      },
      "id": "-ila7-9iVoFb",
      "execution_count": null,
      "outputs": [
        {
          "output_type": "stream",
          "name": "stdout",
          "text": [
            "2954 12 ['losartan potasio 50mg . comprimidos recubiertos , con fecha vencimiento 30 de septiembre de 2021 .']\n"
          ]
        }
      ]
    },
    {
      "cell_type": "code",
      "source": [
        "data_19_set = [' '.join(row) for row in data_19_set]\n",
        "data_19_set"
      ],
      "metadata": {
        "colab": {
          "base_uri": "https://localhost:8080/"
        },
        "id": "By1I-7CQVEDa",
        "outputId": "1973a86e-ff1b-4114-9bdb-a5ce6ea9135a"
      },
      "id": "By1I-7CQVEDa",
      "execution_count": null,
      "outputs": [
        {
          "output_type": "execute_result",
          "data": {
            "text/plain": [
              "['losartan potasio 50mg . comprimidos recubiertos , con fecha vencimiento 30 de septiembre de 2021 .',\n",
              " 'losartan potasio 50mg . comprimidos recubiertos , con fecha vencimiento septiembre de 2021 .',\n",
              " 'glibenclamida 5mg . con fecha vencimiento septiembre de 2021 .',\n",
              " 'sitagliptina de 50mg mas metformina de 1 . 000mg caja 28 comprimidos',\n",
              " 'unidades de losartan 50mg . comprimidos',\n",
              " '60000 comprimidos recubiertos metformina 850mg . con fecha vencimiento 28 febrero de 2021 .',\n",
              " 'anfotericina b liposomal 50 mg . frasco ampolla de vidrio .',\n",
              " 'glibenclamida 5mg . comprimido . indicar fecha de vencimiento , plazos de entrega y presentación de los productos .',\n",
              " 'amlodipino 10mg . con fecha vencimiento 30 de septiembre de 2021 .',\n",
              " 'unidades de amlodipino de 10mg . comprimidos',\n",
              " 'metformina 1000mg . comprimidos de liberacion pronogada . con fecha vencimiento superior a marzo de 2022 .',\n",
              " '28000 comprimidos recubiertos losartan potasio 50mg . con fecha vencimiento 28 febrero de 2021 .']"
            ]
          },
          "metadata": {},
          "execution_count": 210
        }
      ]
    },
    {
      "cell_type": "code",
      "source": [
        "data_20_set = []\n",
        "temp_data_tok_20 = temp_data_tok_19.copy()\n",
        "temp_20 = temp_data_tok_20[0]\n",
        "for i in temp_data_tok_20:\n",
        "  if Simhash(i).distance(Simhash(temp_20)) <= 15:\n",
        "    data_20_set.append(i)\n",
        "    temp_data_tok_20.remove(i)\n",
        "\n",
        "print(len(temp_data_tok_20), len(data_20_set), [' '.join(temp_20) ])"
      ],
      "metadata": {
        "colab": {
          "base_uri": "https://localhost:8080/"
        },
        "id": "gfGGlSaQYD6W",
        "outputId": "ca872721-20b7-4c31-9621-63bc8447884b"
      },
      "id": "gfGGlSaQYD6W",
      "execution_count": null,
      "outputs": [
        {
          "output_type": "stream",
          "name": "stdout",
          "text": [
            "2898 56 ['midazolam 15 mg cm / cm rec']\n"
          ]
        }
      ]
    },
    {
      "cell_type": "code",
      "source": [
        "data_20_set = [' '.join(row) for row in data_20_set]\n",
        "data_20_set"
      ],
      "metadata": {
        "id": "Zg5cGYo6YDyR"
      },
      "id": "Zg5cGYo6YDyR",
      "execution_count": null,
      "outputs": []
    },
    {
      "cell_type": "code",
      "source": [
        "data_21_set = []\n",
        "temp_data_tok_21 = temp_data_tok_20.copy()\n",
        "temp_21 = temp_data_tok_21[0]\n",
        "for i in temp_data_tok_21:\n",
        "  if Simhash(i).distance(Simhash(temp_21)) <= 15:\n",
        "    data_21_set.append(i)\n",
        "    temp_data_tok_21.remove(i)\n",
        "\n",
        "print(len(temp_data_tok_21), len(data_21_set), [' '.join(temp_21) ])"
      ],
      "metadata": {
        "colab": {
          "base_uri": "https://localhost:8080/"
        },
        "id": "4JS7CnsPYDhj",
        "outputId": "2405519b-31e7-4c00-e998-b35eb5259ca6"
      },
      "id": "4JS7CnsPYDhj",
      "execution_count": null,
      "outputs": [
        {
          "output_type": "stream",
          "name": "stdout",
          "text": [
            "2895 3 ['cajas de sitagliptina 50mg + metformina 850mg x 56 comp .']\n"
          ]
        }
      ]
    },
    {
      "cell_type": "code",
      "source": [
        "data_21_set = [' '.join(row) for row in data_21_set]\n",
        "data_21_set"
      ],
      "metadata": {
        "colab": {
          "base_uri": "https://localhost:8080/"
        },
        "id": "wqvnlxOoYDXR",
        "outputId": "6a014ab8-de7f-41f1-ddc8-cd7b77863063"
      },
      "id": "wqvnlxOoYDXR",
      "execution_count": null,
      "outputs": [
        {
          "output_type": "execute_result",
          "data": {
            "text/plain": [
              "['cajas de sitagliptina 50mg + metformina 850mg x 56 comp .',\n",
              " 'cajas de sitagliptina 50mg + metformina 1000mg x 56 comp .',\n",
              " 'cajas de sitagliptina + metformina 50 / 850 mg x 56 comp .']"
            ]
          },
          "metadata": {},
          "execution_count": 214
        }
      ]
    },
    {
      "cell_type": "code",
      "source": [
        "data_22_set = []\n",
        "temp_data_tok_22 = temp_data_tok_21.copy()\n",
        "temp_22 = temp_data_tok_22[0]\n",
        "for i in temp_data_tok_22:\n",
        "  if Simhash(i).distance(Simhash(temp_22)) <= 15:\n",
        "    data_22_set.append(i)\n",
        "    temp_data_tok_22.remove(i)\n",
        "\n",
        "print(len(temp_data_tok_22), len(data_22_set), [' '.join(temp_22) ])"
      ],
      "metadata": {
        "colab": {
          "base_uri": "https://localhost:8080/"
        },
        "id": "nKWKX30VcxBz",
        "outputId": "815f5197-b756-449c-ffcc-aad9e152a143"
      },
      "id": "nKWKX30VcxBz",
      "execution_count": null,
      "outputs": [
        {
          "output_type": "stream",
          "name": "stdout",
          "text": [
            "2888 7 ['hipoglucin 500 lp envase x 30 com .( o equivalente )']\n"
          ]
        }
      ]
    },
    {
      "cell_type": "code",
      "source": [
        "data_22_set = [' '.join(row) for row in data_22_set]\n",
        "data_22_set"
      ],
      "metadata": {
        "colab": {
          "base_uri": "https://localhost:8080/"
        },
        "id": "N28FE1YEcw3q",
        "outputId": "6afe69d5-55fb-4f86-b196-68e42436812b"
      },
      "id": "N28FE1YEcw3q",
      "execution_count": null,
      "outputs": [
        {
          "output_type": "execute_result",
          "data": {
            "text/plain": [
              "['hipoglucin 500 lp envase x 30 com .( o equivalente )',\n",
              " 'hipoglucin 750 lp',\n",
              " 'hipoglucin 750 lp x 60 comp_x000d__x000d__x000d__x000d__x000d__x000d__x000d__x000d_',\n",
              " 'hipoglucin 750 lp x 60 comprimidos o equivalente terapeutico_x000d__x000d__x000d__x000d__x000d__x000d__x000d__x000d_',\n",
              " 'galvus 50mg x 28 comp o similar',\n",
              " 'glaupax xr 750 mg caja x 30 com .( o equivalente )',\n",
              " 'hipoglucin 1000 lp envase x 30 com . ( o equivalente )']"
            ]
          },
          "metadata": {},
          "execution_count": 216
        }
      ]
    },
    {
      "cell_type": "code",
      "source": [
        "data_23_set = []\n",
        "temp_data_tok_23 = temp_data_tok_22.copy()\n",
        "temp_23 = temp_data_tok_23[0]\n",
        "for i in temp_data_tok_23:\n",
        "  if Simhash(i).distance(Simhash(temp_23)) <= 15:\n",
        "    data_23_set.append(i)\n",
        "    temp_data_tok_23.remove(i)\n",
        "\n",
        "print(len(temp_data_tok_23), len(data_23_set), [' '.join(temp_23) ])"
      ],
      "metadata": {
        "colab": {
          "base_uri": "https://localhost:8080/"
        },
        "id": "Jpczfm-Jcwrq",
        "outputId": "d9d832c8-6ad6-4c7b-c842-40385f597493"
      },
      "id": "Jpczfm-Jcwrq",
      "execution_count": null,
      "outputs": [
        {
          "output_type": "stream",
          "name": "stdout",
          "text": [
            "2880 8 ['cisplatino 50 mg / 50 ml sol . iny . fam']\n"
          ]
        }
      ]
    },
    {
      "cell_type": "code",
      "source": [
        "data_23_set = [' '.join(row) for row in data_23_set]\n",
        "data_23_set"
      ],
      "metadata": {
        "colab": {
          "base_uri": "https://localhost:8080/"
        },
        "id": "W8XAtIplcwgp",
        "outputId": "e2f0b782-a40a-4fa3-8e17-9bb648b82f74"
      },
      "id": "W8XAtIplcwgp",
      "execution_count": null,
      "outputs": [
        {
          "output_type": "execute_result",
          "data": {
            "text/plain": [
              "['cisplatino 50 mg / 50 ml sol . iny . fam',\n",
              " 'dapaglifozina 10 mg . caja x 28 comp . rec . similar a forxiga . . ... .. .. . . . . ..( se adjuntan bases administrativas y técnicas ) _x000d__x000d__x000d__x000d__x000d__x000d__x000d__x000d_',\n",
              " 'amfotericina b 50 mg / 10 ml mg polvo liof o susp . iny',\n",
              " 'anfotericina b desoxicolato 50 mg ( cod . int . 040400060263 )',\n",
              " 'glibenclamida 5mg . caja x 60 comp . . ... .. .. . . . . ..( se adjuntan bases administrativas y técnicas ) _x000d__x000d__x000d__x000d__x000d__x000d__x000d__x000d_',\n",
              " 'midazolam 50 mg / 10ml sol . iny . am / fam',\n",
              " 'insulina cristalina humana 100 ui 5 ml o 10 ml cod . int . 40400170063',\n",
              " 'losartan potasico 50 mg cod . int . 40400110061']"
            ]
          },
          "metadata": {},
          "execution_count": 218
        }
      ]
    },
    {
      "cell_type": "code",
      "source": [
        "data_24_set = []\n",
        "temp_data_tok_24 = temp_data_tok_23.copy()\n",
        "temp_24 = temp_data_tok_24[0]\n",
        "for i in temp_data_tok_24:\n",
        "  if Simhash(i).distance(Simhash(temp_24)) <= 15:\n",
        "    data_24_set.append(i)\n",
        "    temp_data_tok_24.remove(i)\n",
        "\n",
        "print(len(temp_data_tok_24), len(data_24_set), [' '.join(temp_24) ])"
      ],
      "metadata": {
        "colab": {
          "base_uri": "https://localhost:8080/"
        },
        "id": "i7aXDUXbcwXD",
        "outputId": "373bd62d-bb23-41c1-a7d8-914796148a58"
      },
      "id": "i7aXDUXbcwXD",
      "execution_count": null,
      "outputs": [
        {
          "output_type": "stream",
          "name": "stdout",
          "text": [
            "2801 79 ['vildagliptina 50 mg . cm .']\n"
          ]
        }
      ]
    },
    {
      "cell_type": "code",
      "source": [
        "data_24_set = [' '.join(row) for row in data_24_set]\n",
        "data_24_set"
      ],
      "metadata": {
        "id": "WhYKZmk3cwIn"
      },
      "id": "WhYKZmk3cwIn",
      "execution_count": null,
      "outputs": []
    },
    {
      "cell_type": "code",
      "source": [
        "data_25_set = []\n",
        "temp_data_tok_25 = temp_data_tok_24.copy()\n",
        "temp_25 = temp_data_tok_25[0]\n",
        "for i in temp_data_tok_25:\n",
        "  if Simhash(i).distance(Simhash(temp_25)) <= 15:\n",
        "    data_25_set.append(i)\n",
        "    temp_data_tok_25.remove(i)\n",
        "\n",
        "print(len(temp_data_tok_25), len(data_25_set), [' '.join(temp_25) ])"
      ],
      "metadata": {
        "colab": {
          "base_uri": "https://localhost:8080/"
        },
        "id": "P2Qw8VNKVD20",
        "outputId": "98035ac5-60fb-4c42-d80f-66675629d98d"
      },
      "id": "P2Qw8VNKVD20",
      "execution_count": null,
      "outputs": [
        {
          "output_type": "stream",
          "name": "stdout",
          "text": [
            "2784 17 ['sitagliptina / metformina 50 / 1000 mg , de liberación prolongada , producto similar a janumet 50 / 1000 mg xr']\n"
          ]
        }
      ]
    },
    {
      "cell_type": "code",
      "source": [
        "data_25_set = [' '.join(row) for row in data_25_set]\n",
        "data_25_set"
      ],
      "metadata": {
        "colab": {
          "base_uri": "https://localhost:8080/"
        },
        "id": "CLQCg8wekh9c",
        "outputId": "1fbaa428-c801-4c5c-b560-bee9da6a1ac9"
      },
      "id": "CLQCg8wekh9c",
      "execution_count": null,
      "outputs": [
        {
          "output_type": "execute_result",
          "data": {
            "text/plain": [
              "['sitagliptina / metformina 50 / 1000 mg , de liberación prolongada , producto similar a janumet 50 / 1000 mg xr',\n",
              " 'janumet 50 / 1000 mg comprimidos',\n",
              " 'sitagliptina 50 mg ; metformina 1000 mg . envase x 56 comprimidos de liberación prolongada . similar janumet 50 / 1000',\n",
              " 'sitagliptina / metformina 50 mg / 1000 mg',\n",
              " 'janumet xr 50 mg / 1000 mg x 56 comprimidos o equivalente terapeutico_x000d__x000d__x000d__x000d__x000d__x000d__x000d__x000d_ _x000d__x000d__x000d__x000d__x000d__x000d__x000d__x000d_',\n",
              " 'cajas sitagliptina 50 mg / metformina 1000 mg , similar a janumet duo 50 / 1000 mg x 56 comprimidos',\n",
              " 'janumet 50 / 1000 mg',\n",
              " 'sitagliptina 100 + metformina clorhidrato de liberación prolongada 1000 mg , similar janumet xr 100 / 1000 mg',\n",
              " 'suministro de sitagliptina 50 mg / metformina clorhidrato 1000 mg equivalente a janumet xr 50 / 1000 , caja 56 comprimidos liberacion prolongada',\n",
              " 'sitagliptina / metfomina 50mg / 1000 mg ( similar janumet 50 / 1000 xr ), caja de 28 comprimidos',\n",
              " 'sitagliptina 50 mg + metformina 1000 mg ( similar janumet 50 / 1000 ) caja de 28 comp .',\n",
              " 'metformina 1000 mg , liberación prolongada ( xr )',\n",
              " 'saxagliptina 2 , 5 mg / metformina 1000 mg x 28 similar a kombiglyze xr',\n",
              " 'sitagliptina + metformina 50 / 1000 mg comp .',\n",
              " 'sitagliptina 50 mg / metformina 1000 mg x 56 comp rec siilar janumet',\n",
              " 'metformina / sitagliptina 50 / 1000 mg por 56 comprimidos . janumet o similar .',\n",
              " 'sitagliptina / metformina 50 / 1000 mg']"
            ]
          },
          "metadata": {},
          "execution_count": 222
        }
      ]
    },
    {
      "cell_type": "code",
      "source": [
        "data_26_set = []\n",
        "temp_data_tok_26 = temp_data_tok_25.copy()\n",
        "temp_26 = temp_data_tok_26[0]\n",
        "for i in temp_data_tok_26:\n",
        "  if Simhash(i).distance(Simhash(temp_26)) <= 15:\n",
        "    data_26_set.append(i)\n",
        "    temp_data_tok_26.remove(i)\n",
        "\n",
        "print(len(temp_data_tok_26), len(data_26_set), [' '.join(temp_26) ])"
      ],
      "metadata": {
        "colab": {
          "base_uri": "https://localhost:8080/"
        },
        "id": "RfAFdVvKk9q4",
        "outputId": "e4d233e3-391a-4a0f-9585-cead3a167a53"
      },
      "id": "RfAFdVvKk9q4",
      "execution_count": null,
      "outputs": [
        {
          "output_type": "stream",
          "name": "stdout",
          "text": [
            "2775 9 ['losartan 50 mg cm / cm rec ., indicar fecha de vencimiento , laboratorio , plazo de entrega y monto despacho mínimo en especificaciones del proveedor .']\n"
          ]
        }
      ]
    },
    {
      "cell_type": "code",
      "source": [
        "data_26_set = [' '.join(row) for row in data_26_set]\n",
        "data_26_set"
      ],
      "metadata": {
        "colab": {
          "base_uri": "https://localhost:8080/"
        },
        "id": "0uJxS-Jmk9n_",
        "outputId": "6fbd8966-4785-4a24-bd08-34ee0bc1ba76"
      },
      "id": "0uJxS-Jmk9n_",
      "execution_count": null,
      "outputs": [
        {
          "output_type": "execute_result",
          "data": {
            "text/plain": [
              "['losartan 50 mg cm / cm rec ., indicar fecha de vencimiento , laboratorio , plazo de entrega y monto despacho mínimo en especificaciones del proveedor .',\n",
              " 'losartan 50 mg comprimido ranurado vencimiento superior a 2 años documentacion tecnica solicitada : certificado de farmacovigilancia , politica de canje y devolucion , certificado de analisis de lote',\n",
              " 'metformina ( clorhidrato ) 850 mg comprimido o comprimido recubierto , indicar laboratorio , fecha de vencimiento , plazo de entrega , monto mínimo despacho en especificaciones del proveedor .',\n",
              " 'metformina clorh . 750 mg x 30 tab de lib . prolongada por sistema de doble matriz de polímero hidrofílico , inscripción sr750 en una de sus caras y caja con impresión en braille , en blíster pvdc / aluminio . exc .: estearato de magnesio , carboximetilcelulosa e hi',\n",
              " 'linagliptina / metformina clorhidrato , de 60 comp . ( 2 , 5mg / 850 mg )',\n",
              " 'metformina 1000 mg cm rec , indicar en forma clara dia y año de vencimiento , laboratorio , plazo de entrega y monto minimo del despacho en especificaciones del proveedor .',\n",
              " 'metformina 850 mg cm rec ., indicar fecha de vencimiento mm / aa , laboratorio , monto mínimo despacho , indicar tiempo de entrega desde que se envía oc , datos deben ir en especificaciones del proveedor . punto 9 criterios de evaluación .',\n",
              " 'metformina / sitagliptina , de 56 comp . ( 50 mg ./ 850 mg .)',\n",
              " 'losartan ( potasico ) 50 mg comprimido , indicar en especificaciones del proveedor fecha de vencimiento , laboratorio , plazo de entrega y monto mínimo para el despacho .']"
            ]
          },
          "metadata": {},
          "execution_count": 224
        }
      ]
    },
    {
      "cell_type": "code",
      "source": [
        "data_27_set = []\n",
        "temp_data_tok_27 = temp_data_tok_26.copy()\n",
        "temp_27 = temp_data_tok_27[0]\n",
        "for i in temp_data_tok_27:\n",
        "  if Simhash(i).distance(Simhash(temp_27)) <= 15:\n",
        "    data_27_set.append(i)\n",
        "    temp_data_tok_27.remove(i)\n",
        "\n",
        "print(len(temp_data_tok_27), len(data_27_set), [' '.join(temp_27) ])"
      ],
      "metadata": {
        "colab": {
          "base_uri": "https://localhost:8080/"
        },
        "id": "JWtooGVYk9ld",
        "outputId": "26382a2c-eb54-47b7-d1fb-e4de585ca441"
      },
      "id": "JWtooGVYk9ld",
      "execution_count": null,
      "outputs": [
        {
          "output_type": "stream",
          "name": "stdout",
          "text": [
            "2732 43 ['insulina glargina 100mg / ml frasco 10 ml']\n"
          ]
        }
      ]
    },
    {
      "cell_type": "code",
      "source": [
        "data_27_set = [' '.join(row) for row in data_27_set]\n",
        "data_27_set"
      ],
      "metadata": {
        "colab": {
          "base_uri": "https://localhost:8080/"
        },
        "id": "RcydE9Erk9h7",
        "outputId": "13201652-b8f9-4486-fc45-92e34d7b5aa3"
      },
      "id": "RcydE9Erk9h7",
      "execution_count": null,
      "outputs": [
        {
          "output_type": "execute_result",
          "data": {
            "text/plain": [
              "['insulina glargina 100mg / ml frasco 10 ml',\n",
              " 'insulina glargina 100 ui / ml x 3 ml solucion inyectable similar solostar ( penfil )',\n",
              " '2628730 insulina aspartica ultrarapida 100 u / ml 10 ml frasco ampolla sol iny',\n",
              " 'insulina cristalina humana 100 ui / ml fam 10 ml',\n",
              " 'insulina cris . human 100 ui / ml fam 10 ml ( 100000822 )',\n",
              " 'propofol 10 mg / ml ( 1 %) emu iny am / fam20 ml',\n",
              " 'insulina humana nph 1000 ui / 10 ml ( 100 ui / ml ) inyectable',\n",
              " 'insulina glargina recomb 300 ui / ml lapiz 100004060',\n",
              " 'insulina nph ( isofana ) solucion inyectable 100 ui / ml fc 10 ml_x000d__x000d__x000d__x000d__x000d__x000d__x000d__x000d_',\n",
              " '2628453 insulina nph hm 100 u / ml 10 ml frasco ampolla sol iny',\n",
              " '216 - 5168 análogo de insulina rápida lápiz 100ui / ml 3ml',\n",
              " 'insulina lispro 100 u / ml 5 x 3 ml similar a humalog kwikpen',\n",
              " '262 - 84540insulina accion intermedia 100 ui / ml 10 ml ( nph )',\n",
              " 'insulina glargina humana solucion inyectable 300 u . i ./ ml dispositivo inyector desechable ( tipo lapicera )',\n",
              " 'lamivudina 10mg / ml solucion oral x ml',\n",
              " 'insulina insulatard ( nph ) 100 u / ml x 10 ml',\n",
              " 'insulina cristalina frascos ampolla 10 ml 100 ui / ml solucion inyectable',\n",
              " '300 frascos insulina nph 100 ui / ml ( insulatard x 10 ml )',\n",
              " 'insulina humana cristalina solucion inyectable 100 u . i ./ ml frasco 10 ml equivalente a actrapid_x000d__x000d__x000d__x000d__x000d__x000d__x000d__x000d_',\n",
              " '007 - 0015 insulina cristalina humana solucion inyectable 100 ui / ml frasco ampolla 10 ml',\n",
              " 'lantus 100ui / ml 3ml x1 cartucho , insulina glargina_x000d__x000d__x000d__x000d__x000d__x000d__x000d_',\n",
              " 'insulina glargina recomb 300 ui / ml lapiz 1 . 5ml_x000d__x000d__x000d__x000d__x000d__x000d__x000d__x000d_',\n",
              " 'lantus 100 u / ml ( solostar )',\n",
              " 'insulina lispro ( origen adn recombinante ) 100 u . 1 vial de 10 ml similar a humalog_x000d__x000d__x000d__x000d__x000d__x000d__x000d__x000d_',\n",
              " 'insulina glargina 300 ui / ml lapiz 1 . 5 ml .',\n",
              " 'insulina humana rapida equivalente a cada ml solucion inyectable contiene 100 ui de insulina',\n",
              " '007 - 0015 insulina cristalina humana solución inyectable 100 ui / ml frasco ampolla 10 ml',\n",
              " 'insulina nph fa 100 ui / ml 10 ml solucion inyectable',\n",
              " 'insulina lispro 100ui / ml x 5 inyectores similar a humalog kwipen',\n",
              " 'insulina humana isofana ( nph ) suspension inyectable 100 u . i ./ ml frasco 10 ml equivalente a insulatard_x000d__x000d__x000d__x000d__x000d__x000d__x000d__x000d_',\n",
              " 'insulina nph 100 ui / ml frascos de 10 ml_x000d__x000d__x000d__x000d__x000d__x000d__x000d__x000d_',\n",
              " '1629804 insulina glargina accion prolongada 100 u / ml 10 ml frasco solución inyectable sc',\n",
              " 'fa insulina cristalina fa 100 ui / ml',\n",
              " 'insulina humana 100 ui / ml 1 vial x 10 ml similar a actrapid',\n",
              " '3002168427 insulina humana 100 ui / ml / 10 ml solución inyectable',\n",
              " 'insulina cristalina humana 100 ui / ml fa 10 ml _x000d__x000d__x000d__x000d__x000d__x000d__x000d__x000d_',\n",
              " 'faaa10004 insulina glargina 100 ui / ml iny 10 ml',\n",
              " '2628434 insulina cristalina hm 100 u / ml 10 ml frasco ampolla sol iny',\n",
              " 'insulina nph humana 100 ui / ml fam 10 ml',\n",
              " 'insulina glargina 100 ui / ml x 3 ml solucion inyectable similar solostar ( penfil )',\n",
              " 'insulina tresiba 100 u / ml 1 x 3 ml lápiz',\n",
              " 'insulina nph 100 ui / ml frasco ampolla 10 ml',\n",
              " 'insulina cristalizada 100 ui / ml']"
            ]
          },
          "metadata": {},
          "execution_count": 226
        }
      ]
    },
    {
      "cell_type": "code",
      "source": [
        "data_28_set = []\n",
        "#temp_data_tok_28 = temp_data_tok_27.copy()\n",
        "temp_data_tok_28 = pd.read_excel('temp_data_tok_28.xlsx')\n",
        "temp_data_tok_28.head(10)\n",
        "temp_28 = temp_data_tok_28[0]\n",
        "for i in temp_data_tok_28:\n",
        "  if Simhash(i).distance(Simhash(temp_28)) <= 15:\n",
        "    data_28_set.append(i)\n",
        "    temp_data_tok_28.remove(i)\n",
        "\n",
        "print(len(temp_data_tok_28), len(data_28_set), [' '.join(temp_28) ])"
      ],
      "metadata": {
        "colab": {
          "base_uri": "https://localhost:8080/"
        },
        "id": "11IP0w9Bk9f0",
        "outputId": "80af356b-b380-4a7f-dc1b-cf3a5c5f6fd8"
      },
      "id": "11IP0w9Bk9f0",
      "execution_count": null,
      "outputs": [
        {
          "output_type": "stream",
          "name": "stdout",
          "text": [
            "2728 0 ['insulina 1092031 insulina amlodipina glafornil insul • insulina glibenclamida losartan metformina se metformina metformina glafornil metformina glibenclamida amlodipino metformina 50 insulina metformina linagliptina ácido metflomina metformina janumet insulina saxagliptina metformina metformina insulina losartan 1093058 linagliptina glaupax sitagliptina vildagliptina tresiba metformina linagliptina anfotericina amlodipino hidroclorotiaz amlodipino anfotericina amlodipino insulina metformina glucovance anfotericina amlodopino metformina linagliptina carvedilol • metformina losartan linagliptina losartan linagliptina glibenclamida linagliptina metformina metformina metformina 25 105 metformina metformina metformina metformina losartan metformina envase metformina amlodipino dapagliflozina empaglifozina caja janumet • 20 metformina insulina amlodipino metformina 11000 dapaglifozina hipoglucin diamicron insulina 2200102 empaglifozina losartan metformina metformina janumet amlodipino xigduo suministro metformina dapaglifozina sitagliptina zidovudina metformina rituximab se metformina ( xigduo metformina metformina insulina glibenclamida insulina metformina metformina metformina glibenclamida glicenex metformina metformina insulina metformina metformina metformina vildagliptina trastuzumab metformina trayenta amlodipino insulina linagliptina janumet insulina metformina metformina dapagliflozina metformina amlodipino se caja vildagliptina linagliptina metformina sitagliptina bromhexina amlodipino etanercept lo 214 morfina metformina metformina insulina metformina metformina glibenclamida insulina 190010008 262 metformina losartan 111 capecitabina glucovance metformina metformina linagliptina metformina 25 insulatard doxorubicina insulina glibenclamida insulina insulina metformina amlodipino metformina lo metformina 1400019 metformina amlodipino losartan 214 hipoglucin metformina xigduo lantus metformina insulina sitagliptina metfomina 214 metformina insulina losartan 01 glibenclamida 262 metformina linagliptina insulina insulina tenofovir nilotinib insulina insulina metformina amlodipino amlodipino insulina lo hipoglicemiante losartan glaupax insulina 18 metformina sitagliptina sitagliptina glibenclamida metformina glibencalmida insulina metformina suministro insul linagliptina amlodipino 30 amlodipino amlodipino insulina amlodipino insulina insulina losartan 216 metformina metformina amlodopino metformina insulina metformina se trayenta amlodipino vildagliptina metformina losartan insulina dapagliflozina metformina insulina metformina merformina metformina insulina glibenclamida linagliptina amlodipino metformina amlodipino metformina sitagliptina dapagliflozina amoxicil metformina ciclosporina 1092025 dapaglifoxina 004 10 servicios linagliptina amlodipino trayenta metformina amlodipino 2130032 janumet metformina cajas metformina glibenclamida glibenclamida amlodipino metformina glibenclamida insulina 40400170196 50 amlodipino tacrolimus xigduo losartan metformina metformina metformina vildagliptina amlodipino metformina glibenclamida losartan insulina linagliptina metformina anfotericina hipoglucin metformina losartan lactato losartan lopinavir 50 111 metformina item metformina insulina nsulina fluconazol metformina metformina amlodipino glibenclamida metformina caja glibenclamida metformina 50000 insulina vildagliptina metformina insuñlina metformina sitagliptina metformina losartan cm amlodipino insulina glukaut metformina glifortex linagliptina glibenclamida metformina metformina bevacizumab insulina metformina 2628739 insulina amlodipina atorvastatina insulina metformina glibenclamida cajas amlodipino 262 metformina metformina insulina moxifloxacino metformina glibenclamida metformina 1092011 glibenclamida amlodipino janumet glifortex glibenclamida insulina metformina metformina kombiglyze metformina 25 metformina metformina metformina suministro glafornil metformina losartan dapagliflozina metformina fluconazol glucovance 50 insulina glafornil metformina glifortex insulina glafornil losartan sitaglipina trayenta sitagliptina metformina glaupax metformina metformina caja losartán glibenclamida metformina infliximab insulina insulina metformina amlodipino anfotericina metformina fentanilo insulina glibenclamida amlodipino glibenclamidas insulina metformina metformina lo losartan amlopidino metformina metform dapaglifozina linaglioptina amfotericina losartan metformina losartan glibenclamida satagliptina metformina sitagliptina insulina sitagliptina losartan etanercept insulina insulina linagliptina metformina metformina insulina glibenclamida glibenclamida glibenclamida metformina insulina lamivudina linagliptina metformina insulina amlodipino losartan lo insulina losartan losartan insulina glibenclamida metformina 214 saxagliptina suministro metformina metformina caja amlodipino linagliptina metformina glibenclamida insulina 262 caja metformina lo gibenclamida insulina losartán metformina lorazepam amlodipino trayenta insulina insulina levenir 50 glibenclamida dapagliflozina morfina vildagliptina janumet entecavir fa03 losartan dapagliflozina insul metformida amlodipino insulina metotrexato 007 metformina \" metformina dapaglifozina saxagliptina amlodipino metformina tenof insulina insulina insulina insulina insulina amlodipino tresiba insulina vildagliptina metformina cajas suministro janumet metformina 1092013 amoxic lo 30000 metformina metformina insulina glibenclamida se sitagliptina insulina suministro insulina 213 2140151 losartan metformina 12149500004 metformina vildagliptina metformina metformina amfotericina amlodipino janumet línea metformina insulina glibenclamida insulina 216 dapagliflozina 0220020002 insulina insulina se metformina metformina insulina metformina vildagliptina metformina caja amlodipino dasatinib insulina metformina metformina dapaglifozina metform glibenclamida 214 losartan insulina losartan metformina linagliptina insulina diamicron 262 amlodipino metformina sitagliptina insulina metformina losartan amlodipino c04 insulina metformina novomix insulina forxiga sofosbuvir sitagliptina amlodipino sitagliptina metformina vildagliptina glafornil docetaxel ins metformina insul saxagliptina metformina glibenclamida metformina metformina vildagliptina ongliza suministro amlodipino metformina metformina metformina linagliptina insulina metformina insulina metformina metformina850 metformina trayenta linagliptina metformina metformina losartán metformina ( 3002140078 insulina vildagliptina 216 metformina glibenclamida metformina insulina loratadina amlodipino insulina metformina metformina caja vidagliptina micofenolato 213 1092023 alprazolam metformina item insulina insulina losartan insulina 262 glafornil vildagliptina xig insulina metformina lactato losartan 12145704000 sitagliptina metformina item linaglioptina amfotericina ciclosporina insulina [ metformina metformina metformina glibenclamida metformina metformina tresiba insulina sitaglipina 1092019 insulina metformina janumet metformina amlodipino suministro metformina metformina metformina insulina glibenclamida linezolid metformina 214 m01f0042 [ glibenclamida amlodipino medicamentos cajas losartan insulina metformina sitagliptina insulina glafornil trayenta cód xig metformina glafornil metformina glibenclamida metformina metformina insulina linezolid kombiglyze metformina linagliptina anfotericina metformina perindopril lko metformina sitagliptina metformina 50 sitagliptina 214 metformina 262 linagliptina metformina losartan sitagliptina losartan glifortex metotrexato losartán empaglifozina sitagliptina metformina sitagliptina glibenclamida 214 glaupax 1400040 metformina metformina metformina metformina metformina losartan metformina empagliflozina 0220020012 metformina darunavir inmunoglobulina glibenclamida metformina midazolam dapagliflozina metformina metformina caja doxorubicina amlodipino losartan glibenclamida trayenta linagliptina 262 lo metformina 12000 213 losartan glifortex caja metformina se glaupax 262 insulina saxagliptina losartán hidrocloruro insulina insulina amlodipino 1092018 caja 1092019 anfotericina metformina maleato 004 glicenex metformina amfotericina metformina metformina metformina losartan tacrolimus anfotericina linagliptina insulina metformina rifapentina metformina vildagliptina amlodipino insulina metformina cajas losartan ritonavir insulina anfotericina meropenem metformina metformina insulina 150 glafornil comprimidos apidra amlodipino metformina insulina sitagliptina linagliptina metformina 216 janumet glibenclamida metformina gliclazida glafornil metformina insulina diamicron kombiglize amlodipino dosificadores metformina amlodipino saxagliptina sitagliptina dasatinib insulina empaglifozina abacavir amlodipino amlodipino se darunavir glifortex kombiglyze metformina metformina losartan metformina metformina metformina sitagliptina metformina 213 metformina metformina glibenclamida metformina metformina lo insulina glibenclaamida valsartan metformina metformina linagliptina metformina amlodipino metformina midazolam 262 glaupax 50 amlodipino dapagliflozina cm clorhidrato sitagliptina metformina metformina linagliptina insulina metformina glicenex metformina ciclosporina canagliflozina linagliptina metformina 111 amlodipino metform caja jalra cajas sitaglipina sitagliptina item trayenta vildagliptina hipoglucin ifosfamida 1092031 dapaglifozina sitagliptina metformina metformina comprimidos metformina 1093059 gliclazida losartan vildagliptin dapagliflozina metformina metformina cm cm insulina metformina metformina clorhidrato insulina insulina insulina 3002130049 caja 1400121 linagliptina amlodipino galvus losartán metformina losartan insulina losartan glibenclamida metformina metformina 1092018 linagliptina glaupax caja sitagliptina glibenclamida 36 metformina metformina 10 fentanilo suministro insulina glibenclamida amlodipino metformina metformina metformina lo metformina sitagliptina amlodipino metformina xig amlodipino envase 262 medicamentos metformina linagliptina 262 amlodipino 45 raltegravir amlodipino amlodipino insulina saxagliptina insulina metformina amlodipino metformina insulina metformina m01d0114 dapagliflozina insulina losartan sitagliptina metoformina convenio losartan empagliflozina sitagliptina cajas xigduo lantus glibenclamida insulina metformina losartan sitagliptina metformina besilato metformina metformina metformina novomix insulina amlodipino insulina vincristina insulina xigduo amlodipino etanercept amlodipino amfotericina glifortex glibenclamida losartan amlodipino losartan metformina glifortex glafornil glafornil glibenclamida xigduo glibenclamida 64 amlodipino metformina linagliptina metformina janumet metformina 213 sitagliptina metformina antihipertensivo insulina glibenclamida metformina lo etoposido glibenclamida glibenclamida insulina metformina sitagliptina nevirapina losartan amlodipino glibenclamida losartan 50 losartan metformina metformina trayenta dapaglifozina metformina amlodipino metformina metformina soluciones tenofovir vildagliptina metformina metformina insulina glifortex metformina glibenclamida insulina metformina metformina 262 rifampicina sitagliptina insulina insulina glifortex ifosfamida fa03 1092020 glibenclamida metformina imipenem losartan saxagliptina insulina metformina metformina jardiance 262 1093045 trayenta metformina 262 se vildagliptina insulina insulina metformina insulina losartan sitagliptina insul metformina metformina insulina losartan metformina janumet linagliptina sitagliptina insulina sitagliptina linagliptina metformina comprimidos metformina glibenclamida janumet metformina sitagliptina metformina isradipina metformina 2620056 metformina 262 lo dapagliflozina insulina tresiba insulina 262 dapaglifozina metformina losartan saxagliptina m01d0182 vildagliptina metformina glibenclamica metformina sitagliptina metformina 40400170030 sitagliptina metformina glibenclamida metformina metformina sitagliptina amlodipino lo darunavir metformina linagliptina insulina trayenta insulina losartan metformina metformina 7 atazanavir glibenclamida 262 insulina glibenclamida hipoglucin kombiglyze metformina metformina dapaglifoxina vildagliptina vildagliptina fentanilo metformina caja glibenclamida cajas metformina glimepirida janumet glibenclamida amlodipino suministro trastuzumab losartan metformina glafornil metformina metformina losartan m01d0041 amlodipino metformina metformina 1092030 insulina caja losartan galvus lo metformina insulina insu losartan metformina metformina tenof metformina metformina insulina janumet losartan linagliptina metformina 1300167 metformina metformina sitagliptina metformina m01c0010 214 dapagliflozina 1092011 metformina metformina fa03 insulina janumet insulina metformina metformina insulina metformina glibenclamida glibenclamida dapaglifozina insulina metformina glibenclamida metildopa losartan 1629829 glibenclamida glifortex sitagliptina metformina metform anfotericina amlodipino 1093059 linagliptina apidra dapagliflozina metformina farmacias lo 80 insulina metformina ítem metformina amlodipino insulina anfotericina insulina insulina trayenta glibenclamida insulina insulina amfotericina janumet janumet linagliptina losartan 3002140169 metformina metformina vidagliptina metformina sitagliptina dicumarol metformina insulina insulina glibenclamida suplementos metformina insulina amlodipino 214 anfotericina metformina metformina linagliptina 213 glibenclamida metformina 262 ten insulina se metformina caja amlodipino metformina glafornil 262 metformina faaa10003 saxagliptina galvus vildagliptina amlodipino caja 650011 linagliptina glibenclamida 1092019 aminofilina metformina sitagliptina glibenclamida metformina 1300036 amlodipino insulina envase 214 metformina janumet 262 metformina metformina metformina atorvastatina insulina linagliptina item glafornil metformina sitagliptina glafornil tacrolimus 300 metformina 216 2200072 insulina glucovance metformina metformina insulina glibenclamida metformina amlodipino enalapril galvus metformina sitagliptina metfornina insulina sitagliptina losartan metformina suministro insulina insulina fa01 metformina insulina insulina insulina metformina metformina metformina losartan jardiance insulina 2145143 amlodipino losartan insulina glibenclamida losartan metformina vildagliptina insulina trayenta linagliptina metformina glibenclamida amlodipino metformina linagliptina saxagliptina 5551060 fact metformina 1092025 vildagliptin 1092028 gliclazida caja glibenclamida amlodipina 213 vildagliptina insulina metformina caja fa03 amlodipino vildagliptina dapagliflozina metformina amlodipino metformina 11 saxagliptina metformina insulina metformina metformina insulina 2628454 insulina metformina metformina 262 glucophage metformina 214 janumet metformina sitagliptina vildagliptina losartán amlodipino suministro hipoglucin 1130850 insulina amlodipino sitagliptina metformina comprimidos suministro metformina metformina sitagliptina insulina amlodipino losartan janumet glifortex xigduo sitagliptina 1093045 linagliptina tresiba metformina glicenex insulina metformina insulina linagliptina losartan metformina glibenclamida dapaglifozina metformina metformina combinación metformina sitagliptina jalra lo losartan cm vidagliptina 50 glibenclamida insulina amlodipino losartan metformina 262 amlodipino oxalato adalimumab linagliptina glibenclamida insulina 2145142 metformina metformina insulina metformina metformina empaglifozina unidad metformina janumet linea metformina losartan caja insulina metformina metformina kombiglyze insulina saxagliptina metformina insulina losartan insulina ácido losartán losartan cód amlodipino insulina metformina metformina sitagliptina anfotericina insulina 262 metformina metformina cajas linagliptina 004 losartan insulina insulina trayenta insulina amlodipino propofol metformina metformina losartan hipoglucin factor metformina 214 insulina metformina 213 amlodipino metformina losartan metformina novorapid sitagliptina amlodipino insulina fa03 1092019 kombiglyze glibenclamida metformina metformina glibenclamida vildagliptina metformina metformina metfotmina insulina metformina factor insulina insulina metformina insulina metformina 40400170056 fumarato metformina bisoprolol linagliptina 10 sitagliptina metformina suministro amlodipino amlodipino glucovance amlodipino glibenclamida glibenclamida insulina glibenclamida glifortex metformina glifortex insulina anfotericina insulina 120 sitagliptina empaglifozina insulina sitagliptina linagliptina amlodipino captopril metformina insulina glibenclamida dapaglifozina glafornil glukaut amlodipino fa03 sitagliptina metformina linagliptina metformina losartan sitagliptina50 metformina 2200067 metformina metformina dapaglifoxina metformina glibenclamida glafornil amfotericina sitagliptina 1400057 rituximab glibenclamida solución linagliptina lo metformina amlodipino lo amlodipino glibencamida anfotericina glibenclamida amlodipino metform glibenclamida 1093016 metformina metformina losartan amlodipino 50 1400116 lo insulina metformina amlodipino linagliptina glaupax insulina amlodipino fact insulina amlodipino 1092018 metformina hipoglicemiante insulina 262 jalra metformina dapagliflozina 214 metformina amlodipino linagliptina cajas sitagliptina metformina metformina linagliptina linagliptina metformina amlodipino glibenclamida insulina unidades • dosificadores dapagliflozina metformina 1092030 ( cajas amlodipino losartan nifedipino metformina metformina metformina \" insulina glibenclamida losartan insulina 1400034 insulina metformina metformina metformina empagliflozina se losartan losartan insulina metformina caja caja glibenclamida 1092013 metformina amlodipino cajas metformina insulina 262 metformina amlodipino insulina linagliptina metformina sitagliptina glibenclamida amlodipino glibenclamida metformina janumet metformina insul glibenclamida insulina glafornil metformina lo dapagliflozina cm insulina 262 metformina amlodipino lo 2628455 sistemas 1092013 metformina insulina metformina diclofenaco metformina galvus amlodipino glibenclamida insulina metformina 1300105 complej glucovance glibenclamida xigduo metformina metformina propofol asparaginasa jardiance insulina metformina glibenclamida caja metformina metformina lo mesna gliclazida empagliofozina glafornil suministro vildagliptina tocilizumab insulina insulina xigduo10 metformina insulina metformina onglyza metformina lo sitagliptina insulina glibenclamida losartan xigduo entecavir 50 insulina metformina metformina metformina metformina jalra losartan d01 insulina amfotericina servicios glibenclamida 262 linagliptina losartan 1092020 xigduo metformina 5553390 glibenclamida metformina insulina insulina amlodipino kombiglyze losartan 1092019 amlodipino 216 compuestos metformina metformina metformina 40400170028 insulina metformina sitagliptina insulina lo insulina metformina losartan losartan sitagliptina 2 suministro insulina 60 1093058 glibenclamida 262 insulina cajas metformina atenolol 213 metformina metformina insulina metformina amfotericina insulina insulina xig metformina anfotericina 262 glibenclam metformina insulina dapagliflozina metformina metformina glibenclamida clorhidrato metformina 262 metformina ítem metformina glibenclamida sitagliptina sitagliptina dosificadores insulina metformina amlodipino glibenclamida xigduo metformina 262 insulina 5341 metformina linagliptina 1092011 losartan insulina 170 m01c0010 insulina insulina insulina insulina amlodipino metformina metformina glafornil glafornil vildagliptina metformina insulina glibenclamida metformina glifortex galvus glafornil amfotericina losartan metformina metform 100 metformina insulina metformina amlodipino metformina abacavir metformina insulina glibenclamida 2200039 propofol insulina insulina losartan caja amlodipino suministro metformina 5558880 glibenclamida losartan 19 10 amlodipino clorhidrato glibenclamida diamicron insulina 2140125 sitagliptina fosfolípidos dapagliflozina metformina amlodipino 1092018 metformina 213 tresiba metformina 0170010003 tocilizumab dapagliflozina 262 amlodipino metformina calcio 50 metformina insulina glafornil metformina galvus linagliptina glifortex insulina cód metformina amlodipino metformina losartan insulina losartan suministro metformina losartan metformina canagliflozina empaglifozina amlodipino metformina metformina metformina capecitabina medicamentos linagliptina nifedipina metformina \" losartan glibenclamida insulina metformina metformina vildagliptina metformina losartan amlodipino vildagliptina 1400020 metformina 4000 metformina glifortex metformina amlodipino 3002168452 metformina janumet glibenclamida insulina metformina glucovance amlodipino cajas glibencamida amlodipino metformina metformina metformina sitagliptina glibenclamida 17 losartan metformina insulina 140 lo cajas sitagliptina vildagliptina losartan dasatinib glibenclamida losartán losartan lo metformina linagliptina glibenlcamida vildagliptina medicamentos 40400110061 losartan lo metformina 40400170113 se insulina xig metformina metformina metformina metformina insulina losartan vildagliptina metformina losartán metformina metformina trayenta empagliflozina janumet metformina suministro adalimumab losartan insulina metformina insulina dapagliflozina linagliptina glibenclamida losartan glibenclamida 80 glibenclamida envase amfotericina amlodipino metformina glibenclamida trayenta metformina metformina linagliptina 50 metformina linagliptina metfornina 214 insulina 5550250 insul insulina metformina metformina empaglifozina glafornil losartan cajas 007 linagliptina gliclazida janumet losartan 216 metformina sitagliptina insulina insulina insulina linagliptina losartan insulina metformina metformina 1400103 vildagliptina metformina metformina janumet metformina losartan metformina metform cajas cajas carboplatino insulina linagliptina 262 insulina dapagliflozina metformina metformina metformina linagliptina dapagliflozina insulina metformina insulina metformina insulina glukaut insulina dispositivo toujeo janumet 16 losartán amlodipino rosuvastatina metformina kombiglyze metformina metformina item metformina 30000 metformina metformina metformina trastuzumab sitagliptina fa03 atenolol metform metotrexato 50 saxagliptina insulina insulina metformina glukaut glucovance cada lo dapaglifozina 40400170029 glicenex metformina insulina 1093087 metformina linagliptina 262 metformina insulina metformina caja metformina línea amlodipino metformina metformina vildagliptin consultas 214 atazanavir 262 metformina metformina meropenem linagliptina metformina metformina janumet trayenta insulina janumet glaupax glibenclamida amlodipino metformina 262 amlodipino linagliptina metformina solución amlodipino metformina 262 metformina insulina metformina insulina losartan zidovudina glibenclamida ciclosporina metformina metformina morfina 214 fosfato insulina metformina dapagliflozina galvus amlodipino losartan vildagliptina anfotericina losartan metformina glucovance metotrexato item hipoglucin 511 insulina metformina metformina losartán metformina apidra vildagliptina ciclosporina metformina cada rituximab 30 sitagliptina amolodipino metformina 3002130025 glibenclamida insulina metform losartán novomix metformina amlodipino janumet insulina insulina acarbosa caja tacrolimus metformina sitagliptina linagliptina insulina servicios 2200067 amlodipino glibenclamida linagliptina 262 metformina metformina amlodipino losartan metformina metform metformina metformina metformina linagliptina metformina amlodipino sitagliptina insulina metformina linagliptina xigduo lopinavir metformina lo vildagliptina metformina losartan metotrexato losartan lo metformina metformina item glibenclamida metformina glibenclamida losartan insulina metformina 262 1160010 • 214 1093057 losartan bedaquilina sitagliptina apidra telmisartan insulina 004 etravirina metformina comprimido metformina losartan metformina 2628740 insulina losartan trayenta losartan metformina janumet insulina insulina fa01 metformina metformina losartan losartan metotrexato sitagliptina lamivudina metformina 007 amlodipino hipoglucin janumet linagliptina metformina metformina metformina glafornil fact amfotericina metformina amoxicilina envase insulina dapaglifozina metfomina glibenclamida metformina vildagliptina metformina insulina item lo midazolam kombiglyza metformina losartan suministro amlodipino metformina metformina insulina glibenclamida linagliptina faaa10008 2200068 insulina dapagliflozina amlodipino losartan metformina metformina amlodipino vildagliptina glibenclamida hidroclorotiazida losartan glaupax insulina insulina metfomina trayenta insulina amlodipino glifortex 5551520 262 insulina metformina metformina glaupax janumet metformina glibenclamida delamanid insulina saxagliptina 50 5276 insul • glibenclamida metformina glafornil linagliptina insulina 262 glibenclamida 007 vildagliptina metformina metformina metformina insulina 007 metformina 213 amlodipino com losartán losartan insulina metformina amlodipino metformina glifortex cajas 111 glibenclamida 1093034 losartán glibenclamida losartan 2 metformina caja 2620056 linagliptina linagliptina metformina 213 metformina losartan comprimidos metformina metformina tocilizumab metformina metformina metformina metformina trayenta metformina metformina insulinda insulina glucovance metformina losartan 1092019 kombiglize metformina factor linagliptina metfomina empaglifozina metformina glibenclamida hipoglucin se metformina metformina metformina anfotericina losartan amlodipino glafornil rosuvastatina metformina [ losartan onglyza saxagliptina metformina glibenclamida metformina amlodipino amlodipino metformina dapaglifozina jalra 3002130025 losartan \" metformina fentanilo 50 metformina metformina insulina insulina linagliptina amlodipino insulina insulina 262 vildagliptina50mg insulina cód glibenclamida amlodipino losartan docetaxel glibenclamida dapagliflozina10 insulina metformina insulina 216 ciclofosfamida metformina amlodipino glibenclamida insulina losartan losartan glafornil metformina 3002168453 metformina metformina item amlodipino saxagliptina se rifampicina metformina insulina trayenta metformina amlodipino anfotericina insulina tenof metformina xigduo metformina sitagliptina janumet janumet metformina metformina amlodipina canagliflozina se metfromina glafornil amlodipino amlodipino dapaglifozina dapagliflozina metformina metformina 600 suministro insulina metformina glibenclamida lantus xigduo cajas telmisartan losartan amlodipino insulina onglyza metformina sitagliptina metformina 6605410 metfromina metformina amlodipino metamórfica cajas insulina 214 84 nevirapina 220030032 metfromina janumet vildagliptina 1092012 amlodipino metformina metformina metformina cada espironolactona glifortex glicacida glibenclamida abacav losartan metformina trayenta insulina glibenclamida glibenclamida insulina amlodipino insulina caja metformina amlodipino 214 losartan sitagliptina amlodipino glibenclamida 1201035 ( glibenclamida losartan adquisición 100 tresiba insulina suministro sitagliptina 1092018']\n"
          ]
        }
      ]
    },
    {
      "cell_type": "code",
      "source": [
        "temp_data_tok_28.values.tolist()"
      ],
      "metadata": {
        "id": "xytbJ9AekjYu"
      },
      "id": "xytbJ9AekjYu",
      "execution_count": null,
      "outputs": []
    },
    {
      "cell_type": "code",
      "source": [
        "del temp_data_tok_28['Unnamed: 0']"
      ],
      "metadata": {
        "id": "MeSCvfhFnQd1"
      },
      "id": "MeSCvfhFnQd1",
      "execution_count": null,
      "outputs": []
    },
    {
      "cell_type": "code",
      "source": [
        "temp_data_tok_28_list = []\n",
        "temp_data_tok_28.iloc[[0]]\n",
        "len(temp_data_tok_28)\n",
        "for i in range(len(temp_data_tok_28)):\n",
        "  temp_sublist = []\n",
        "  for j in i:\n",
        "    if pd.isnull(j) != True:\n",
        "      temp_sublist.append(j)\n",
        "  temp_data_tok_28_list.append(temp_sublist)\n"
      ],
      "metadata": {
        "colab": {
          "base_uri": "https://localhost:8080/",
          "height": 235
        },
        "id": "-1HBJZrCnu2I",
        "outputId": "a76912bd-e56f-4336-ef99-5358785cde94"
      },
      "id": "-1HBJZrCnu2I",
      "execution_count": null,
      "outputs": [
        {
          "output_type": "error",
          "ename": "TypeError",
          "evalue": "ignored",
          "traceback": [
            "\u001b[0;31m---------------------------------------------------------------------------\u001b[0m",
            "\u001b[0;31mTypeError\u001b[0m                                 Traceback (most recent call last)",
            "\u001b[0;32m<ipython-input-31-f77043e01244>\u001b[0m in \u001b[0;36m<module>\u001b[0;34m()\u001b[0m\n\u001b[1;32m      4\u001b[0m \u001b[0;32mfor\u001b[0m \u001b[0mi\u001b[0m \u001b[0;32min\u001b[0m \u001b[0mrange\u001b[0m\u001b[0;34m(\u001b[0m\u001b[0mlen\u001b[0m\u001b[0;34m(\u001b[0m\u001b[0mtemp_data_tok_28\u001b[0m\u001b[0;34m)\u001b[0m\u001b[0;34m)\u001b[0m\u001b[0;34m:\u001b[0m\u001b[0;34m\u001b[0m\u001b[0;34m\u001b[0m\u001b[0m\n\u001b[1;32m      5\u001b[0m   \u001b[0mtemp_sublist\u001b[0m \u001b[0;34m=\u001b[0m \u001b[0;34m[\u001b[0m\u001b[0;34m]\u001b[0m\u001b[0;34m\u001b[0m\u001b[0;34m\u001b[0m\u001b[0m\n\u001b[0;32m----> 6\u001b[0;31m   \u001b[0;32mfor\u001b[0m \u001b[0mj\u001b[0m \u001b[0;32min\u001b[0m \u001b[0mi\u001b[0m\u001b[0;34m:\u001b[0m\u001b[0;34m\u001b[0m\u001b[0;34m\u001b[0m\u001b[0m\n\u001b[0m\u001b[1;32m      7\u001b[0m     \u001b[0;32mif\u001b[0m \u001b[0mpd\u001b[0m\u001b[0;34m.\u001b[0m\u001b[0misnull\u001b[0m\u001b[0;34m(\u001b[0m\u001b[0mj\u001b[0m\u001b[0;34m)\u001b[0m \u001b[0;34m!=\u001b[0m \u001b[0;32mTrue\u001b[0m\u001b[0;34m:\u001b[0m\u001b[0;34m\u001b[0m\u001b[0;34m\u001b[0m\u001b[0m\n\u001b[1;32m      8\u001b[0m       \u001b[0mtemp_sublist\u001b[0m\u001b[0;34m.\u001b[0m\u001b[0mappend\u001b[0m\u001b[0;34m(\u001b[0m\u001b[0mj\u001b[0m\u001b[0;34m)\u001b[0m\u001b[0;34m\u001b[0m\u001b[0;34m\u001b[0m\u001b[0m\n",
            "\u001b[0;31mTypeError\u001b[0m: 'int' object is not iterable"
          ]
        }
      ]
    },
    {
      "cell_type": "code",
      "source": [
        "temp_data_tok_28_new = []\n",
        "for i in temp_data_tok_28:\n",
        "  i = [x for x in temp_data_tok_28 if x == x]\n",
        "  temp_data_tok_28_new.append(i)"
      ],
      "metadata": {
        "id": "nSplku2Tmi5A"
      },
      "id": "nSplku2Tmi5A",
      "execution_count": null,
      "outputs": []
    },
    {
      "cell_type": "code",
      "source": [
        "data_28_set = [' '.join(row) for row in data_28_set]\n",
        "data_28_set"
      ],
      "metadata": {
        "colab": {
          "base_uri": "https://localhost:8080/"
        },
        "id": "nm6-qfNvk9ZU",
        "outputId": "d6394ffb-3db5-4051-e6c4-3dce5b3af3a0"
      },
      "id": "nm6-qfNvk9ZU",
      "execution_count": null,
      "outputs": [
        {
          "output_type": "execute_result",
          "data": {
            "text/plain": [
              "[]"
            ]
          },
          "metadata": {},
          "execution_count": 6
        }
      ]
    },
    {
      "cell_type": "code",
      "source": [
        "data_29_set = []\n",
        "temp_data_tok_29 = temp_data_tok_28.copy()\n",
        "temp_29 = temp_data_tok_29[0]\n",
        "for i in temp_data_tok_29:\n",
        "  if Simhash(i).distance(Simhash(temp_29)) <= 15:\n",
        "    data_29_set.append(i)\n",
        "    temp_data_tok_29.remove(i)\n",
        "\n",
        "print(len(temp_data_tok_29), len(data_29_set), [' '.join(temp_29) ])"
      ],
      "metadata": {
        "colab": {
          "base_uri": "https://localhost:8080/"
        },
        "id": "USnMFCGKk9Rg",
        "outputId": "e628dba5-bd19-4d0f-eeae-cf46cbb62575"
      },
      "id": "USnMFCGKk9Rg",
      "execution_count": null,
      "outputs": [
        {
          "output_type": "stream",
          "name": "stdout",
          "text": [
            "2713 15 ['insulina glargina 100 ui / ml en lapices aplicadores prellenados , similar a lantus solostar']\n"
          ]
        }
      ]
    },
    {
      "cell_type": "code",
      "source": [
        "data_29_set = [' '.join(row) for row in data_29_set]\n",
        "data_29_set"
      ],
      "metadata": {
        "colab": {
          "base_uri": "https://localhost:8080/"
        },
        "id": "-A4ugo7uk9OK",
        "outputId": "98042693-9e7d-46a0-8529-fa63c8228f21"
      },
      "id": "-A4ugo7uk9OK",
      "execution_count": null,
      "outputs": [
        {
          "output_type": "execute_result",
          "data": {
            "text/plain": [
              "['insulina glargina 100 ui / ml en lapices aplicadores prellenados , similar a lantus solostar',\n",
              " 'insulina análoga aspártica de acción ultra rápida 100 ui / ml , lápiz prellenado desechable ; equivalente a novo rapid 100 ui / ml 5 flexpen 3 ml',\n",
              " 'insulina cristalina 100 ui / ml fc 10 ml',\n",
              " 'insulina accion prolongada ( lantus ) 100 ui / ml fc 3 ml',\n",
              " 'insulina aspartato 100 u / ml 5x 3 ml similar a novorapid flexpen',\n",
              " 'insulina glargina 300 ui / ml x 1 , 5 ml ( lápiz desechable )',\n",
              " '262 - 0097 insulina análoga aspártica 100 ui / ml',\n",
              " 'insulina glargina 100 ui / ml x 3 ml solucion inyectable similar solostar',\n",
              " 'insulina cristalina solucion inyectable 100 ui / ml fc 10 ml',\n",
              " 'insulina glargina 100 ui / ml 1 cartucho 3 ml similar a lantus solostar',\n",
              " 'insulina aspartato bifasica 30 / 70 lapiz 100 ui / ml fc 3 ml',\n",
              " '262 - 0096 insulina análoga aspártica 100 ui / ml',\n",
              " 'insulina cris . human 100 ui / ml fam 10 ml',\n",
              " 'insulina glargina 100 ui / ml x 3 ml solucion inyectable solostar ( penfil )',\n",
              " 'insulina glargina rec 100 ui / ml fam10 ml ( 100002079 )']"
            ]
          },
          "metadata": {},
          "execution_count": 230
        }
      ]
    },
    {
      "cell_type": "code",
      "source": [
        "import pandas as pd\n",
        "df = pd.DataFrame(temp_data_tok_28)\n",
        "df.to_excel(\"temp_data_tok_28.xlsx\", sheet_name = 'temp_data_tok_28')  \n"
      ],
      "metadata": {
        "id": "JP7CUBLUk9Iv"
      },
      "id": "JP7CUBLUk9Iv",
      "execution_count": null,
      "outputs": []
    },
    {
      "cell_type": "code",
      "source": [
        ""
      ],
      "metadata": {
        "id": "aZtQAJNLk8-T",
        "colab": {
          "base_uri": "https://localhost:8080/",
          "height": 166
        },
        "outputId": "1871ee28-a107-45f8-d02e-81bf07a6c436"
      },
      "id": "aZtQAJNLk8-T",
      "execution_count": null,
      "outputs": [
        {
          "output_type": "error",
          "ename": "NameError",
          "evalue": "ignored",
          "traceback": [
            "\u001b[0;31m---------------------------------------------------------------------------\u001b[0m",
            "\u001b[0;31mNameError\u001b[0m                                 Traceback (most recent call last)",
            "\u001b[0;32m<ipython-input-18-00cf07b74dcd>\u001b[0m in \u001b[0;36m<module>\u001b[0;34m()\u001b[0m\n\u001b[0;32m----> 1\u001b[0;31m \u001b[0mdf\u001b[0m\u001b[0;34m\u001b[0m\u001b[0;34m\u001b[0m\u001b[0m\n\u001b[0m",
            "\u001b[0;31mNameError\u001b[0m: name 'df' is not defined"
          ]
        }
      ]
    }
  ],
  "metadata": {
    "kernelspec": {
      "display_name": "Python 3 (ipykernel)",
      "language": "python",
      "name": "python3"
    },
    "language_info": {
      "codemirror_mode": {
        "name": "ipython",
        "version": 3
      },
      "file_extension": ".py",
      "mimetype": "text/x-python",
      "name": "python",
      "nbconvert_exporter": "python",
      "pygments_lexer": "ipython3",
      "version": "3.9.7"
    },
    "colab": {
      "name": "Drugs-Data-NLP.ipynb",
      "provenance": [],
      "collapsed_sections": [],
      "include_colab_link": true
    }
  },
  "nbformat": 4,
  "nbformat_minor": 5
}