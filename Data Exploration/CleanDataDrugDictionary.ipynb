{
  "cells": [
    {
      "cell_type": "markdown",
      "metadata": {
        "id": "view-in-github",
        "colab_type": "text"
      },
      "source": [
        "<a href=\"https://colab.research.google.com/github/wenjunc2/Summer-2022/blob/main/CleanDataDrugDictionary.ipynb\" target=\"_parent\"><img src=\"https://colab.research.google.com/assets/colab-badge.svg\" alt=\"Open In Colab\"/></a>"
      ]
    },
    {
      "cell_type": "code",
      "execution_count": 1,
      "id": "b3fa8107",
      "metadata": {
        "id": "b3fa8107"
      },
      "outputs": [],
      "source": [
        "import pandas as pd\n",
        "CleanDataBase = pd.read_excel('CleanDataBase.xlsx')"
      ]
    },
    {
      "cell_type": "code",
      "source": [
        "CleanDataBase.head(1)"
      ],
      "metadata": {
        "colab": {
          "base_uri": "https://localhost:8080/",
          "height": 266
        },
        "id": "BpctQqMYtjUP",
        "outputId": "f0e0f65b-3e6f-4c58-f20a-9ef457dfcb64"
      },
      "id": "BpctQqMYtjUP",
      "execution_count": 2,
      "outputs": [
        {
          "output_type": "execute_result",
          "data": {
            "text/plain": [
              "  Country Code   Entity Entity Type Point of Delivery Purchase Mechanism  \\\n",
              "0          BHS  BHS MOH         MOH               NaN            Unknown   \n",
              "\n",
              "  Program Region          Therapeutic Area Country Product Name  \\\n",
              "0     NaN    NaN  Cardiovascular medicines           AMLODIPINE   \n",
              "\n",
              "  Country Product Description  Generic  Subunits per Unit  \\\n",
              "0                     TABLETS  Unknown                  1   \n",
              "\n",
              "                              Catalog Name Supplier Manufacturer  \\\n",
              "0  AMLODIPINE 5 MG, TABLET, BLISTER, 10X30  Unknown      Unknown   \n",
              "\n",
              "  Purchase Date  Purchase Year  Total Amount  Unit Quantity  \\\n",
              "0           NaT         2021.0           NaN            NaN   \n",
              "\n",
              "   Min Unit Price USD  \n",
              "0               0.026  "
            ],
            "text/html": [
              "\n",
              "  <div id=\"df-51cb41f0-7562-4481-b4f1-973474bf1519\">\n",
              "    <div class=\"colab-df-container\">\n",
              "      <div>\n",
              "<style scoped>\n",
              "    .dataframe tbody tr th:only-of-type {\n",
              "        vertical-align: middle;\n",
              "    }\n",
              "\n",
              "    .dataframe tbody tr th {\n",
              "        vertical-align: top;\n",
              "    }\n",
              "\n",
              "    .dataframe thead th {\n",
              "        text-align: right;\n",
              "    }\n",
              "</style>\n",
              "<table border=\"1\" class=\"dataframe\">\n",
              "  <thead>\n",
              "    <tr style=\"text-align: right;\">\n",
              "      <th></th>\n",
              "      <th>Country Code</th>\n",
              "      <th>Entity</th>\n",
              "      <th>Entity Type</th>\n",
              "      <th>Point of Delivery</th>\n",
              "      <th>Purchase Mechanism</th>\n",
              "      <th>Program</th>\n",
              "      <th>Region</th>\n",
              "      <th>Therapeutic Area</th>\n",
              "      <th>Country Product Name</th>\n",
              "      <th>Country Product Description</th>\n",
              "      <th>Generic</th>\n",
              "      <th>Subunits per Unit</th>\n",
              "      <th>Catalog Name</th>\n",
              "      <th>Supplier</th>\n",
              "      <th>Manufacturer</th>\n",
              "      <th>Purchase Date</th>\n",
              "      <th>Purchase Year</th>\n",
              "      <th>Total Amount</th>\n",
              "      <th>Unit Quantity</th>\n",
              "      <th>Min Unit Price USD</th>\n",
              "    </tr>\n",
              "  </thead>\n",
              "  <tbody>\n",
              "    <tr>\n",
              "      <th>0</th>\n",
              "      <td>BHS</td>\n",
              "      <td>BHS MOH</td>\n",
              "      <td>MOH</td>\n",
              "      <td>NaN</td>\n",
              "      <td>Unknown</td>\n",
              "      <td>NaN</td>\n",
              "      <td>NaN</td>\n",
              "      <td>Cardiovascular medicines</td>\n",
              "      <td>AMLODIPINE</td>\n",
              "      <td>TABLETS</td>\n",
              "      <td>Unknown</td>\n",
              "      <td>1</td>\n",
              "      <td>AMLODIPINE 5 MG, TABLET, BLISTER, 10X30</td>\n",
              "      <td>Unknown</td>\n",
              "      <td>Unknown</td>\n",
              "      <td>NaT</td>\n",
              "      <td>2021.0</td>\n",
              "      <td>NaN</td>\n",
              "      <td>NaN</td>\n",
              "      <td>0.026</td>\n",
              "    </tr>\n",
              "  </tbody>\n",
              "</table>\n",
              "</div>\n",
              "      <button class=\"colab-df-convert\" onclick=\"convertToInteractive('df-51cb41f0-7562-4481-b4f1-973474bf1519')\"\n",
              "              title=\"Convert this dataframe to an interactive table.\"\n",
              "              style=\"display:none;\">\n",
              "        \n",
              "  <svg xmlns=\"http://www.w3.org/2000/svg\" height=\"24px\"viewBox=\"0 0 24 24\"\n",
              "       width=\"24px\">\n",
              "    <path d=\"M0 0h24v24H0V0z\" fill=\"none\"/>\n",
              "    <path d=\"M18.56 5.44l.94 2.06.94-2.06 2.06-.94-2.06-.94-.94-2.06-.94 2.06-2.06.94zm-11 1L8.5 8.5l.94-2.06 2.06-.94-2.06-.94L8.5 2.5l-.94 2.06-2.06.94zm10 10l.94 2.06.94-2.06 2.06-.94-2.06-.94-.94-2.06-.94 2.06-2.06.94z\"/><path d=\"M17.41 7.96l-1.37-1.37c-.4-.4-.92-.59-1.43-.59-.52 0-1.04.2-1.43.59L10.3 9.45l-7.72 7.72c-.78.78-.78 2.05 0 2.83L4 21.41c.39.39.9.59 1.41.59.51 0 1.02-.2 1.41-.59l7.78-7.78 2.81-2.81c.8-.78.8-2.07 0-2.86zM5.41 20L4 18.59l7.72-7.72 1.47 1.35L5.41 20z\"/>\n",
              "  </svg>\n",
              "      </button>\n",
              "      \n",
              "  <style>\n",
              "    .colab-df-container {\n",
              "      display:flex;\n",
              "      flex-wrap:wrap;\n",
              "      gap: 12px;\n",
              "    }\n",
              "\n",
              "    .colab-df-convert {\n",
              "      background-color: #E8F0FE;\n",
              "      border: none;\n",
              "      border-radius: 50%;\n",
              "      cursor: pointer;\n",
              "      display: none;\n",
              "      fill: #1967D2;\n",
              "      height: 32px;\n",
              "      padding: 0 0 0 0;\n",
              "      width: 32px;\n",
              "    }\n",
              "\n",
              "    .colab-df-convert:hover {\n",
              "      background-color: #E2EBFA;\n",
              "      box-shadow: 0px 1px 2px rgba(60, 64, 67, 0.3), 0px 1px 3px 1px rgba(60, 64, 67, 0.15);\n",
              "      fill: #174EA6;\n",
              "    }\n",
              "\n",
              "    [theme=dark] .colab-df-convert {\n",
              "      background-color: #3B4455;\n",
              "      fill: #D2E3FC;\n",
              "    }\n",
              "\n",
              "    [theme=dark] .colab-df-convert:hover {\n",
              "      background-color: #434B5C;\n",
              "      box-shadow: 0px 1px 3px 1px rgba(0, 0, 0, 0.15);\n",
              "      filter: drop-shadow(0px 1px 2px rgba(0, 0, 0, 0.3));\n",
              "      fill: #FFFFFF;\n",
              "    }\n",
              "  </style>\n",
              "\n",
              "      <script>\n",
              "        const buttonEl =\n",
              "          document.querySelector('#df-51cb41f0-7562-4481-b4f1-973474bf1519 button.colab-df-convert');\n",
              "        buttonEl.style.display =\n",
              "          google.colab.kernel.accessAllowed ? 'block' : 'none';\n",
              "\n",
              "        async function convertToInteractive(key) {\n",
              "          const element = document.querySelector('#df-51cb41f0-7562-4481-b4f1-973474bf1519');\n",
              "          const dataTable =\n",
              "            await google.colab.kernel.invokeFunction('convertToInteractive',\n",
              "                                                     [key], {});\n",
              "          if (!dataTable) return;\n",
              "\n",
              "          const docLinkHtml = 'Like what you see? Visit the ' +\n",
              "            '<a target=\"_blank\" href=https://colab.research.google.com/notebooks/data_table.ipynb>data table notebook</a>'\n",
              "            + ' to learn more about interactive tables.';\n",
              "          element.innerHTML = '';\n",
              "          dataTable['output_type'] = 'display_data';\n",
              "          await google.colab.output.renderOutput(dataTable, element);\n",
              "          const docLink = document.createElement('div');\n",
              "          docLink.innerHTML = docLinkHtml;\n",
              "          element.appendChild(docLink);\n",
              "        }\n",
              "      </script>\n",
              "    </div>\n",
              "  </div>\n",
              "  "
            ]
          },
          "metadata": {},
          "execution_count": 2
        }
      ]
    },
    {
      "cell_type": "code",
      "source": [
        "CatalogName = CleanDataBase['Catalog Name']"
      ],
      "metadata": {
        "id": "1RZduuT1tjKy"
      },
      "id": "1RZduuT1tjKy",
      "execution_count": 3,
      "outputs": []
    },
    {
      "cell_type": "code",
      "source": [
        "len(CatalogName)"
      ],
      "metadata": {
        "colab": {
          "base_uri": "https://localhost:8080/"
        },
        "id": "1ukbUun-tjAx",
        "outputId": "0a91aab1-b0fd-4342-be13-202cb96edd04"
      },
      "id": "1ukbUun-tjAx",
      "execution_count": 4,
      "outputs": [
        {
          "output_type": "execute_result",
          "data": {
            "text/plain": [
              "14337"
            ]
          },
          "metadata": {},
          "execution_count": 4
        }
      ]
    },
    {
      "cell_type": "code",
      "source": [
        "CatalogName = list(set(CatalogName))"
      ],
      "metadata": {
        "id": "86Xb6q8Itzjx"
      },
      "id": "86Xb6q8Itzjx",
      "execution_count": 7,
      "outputs": []
    },
    {
      "cell_type": "code",
      "source": [
        "len(CatalogName)"
      ],
      "metadata": {
        "colab": {
          "base_uri": "https://localhost:8080/"
        },
        "id": "pyRFtbn_tzhC",
        "outputId": "5b05e065-8a7e-43e8-d8e7-d406804b2a3b"
      },
      "id": "pyRFtbn_tzhC",
      "execution_count": 8,
      "outputs": [
        {
          "output_type": "execute_result",
          "data": {
            "text/plain": [
              "463"
            ]
          },
          "metadata": {},
          "execution_count": 8
        }
      ]
    },
    {
      "cell_type": "code",
      "source": [
        "CatalogName[:5]"
      ],
      "metadata": {
        "colab": {
          "base_uri": "https://localhost:8080/"
        },
        "id": "nd9RsRxJtzeE",
        "outputId": "055b2883-0fa2-4bac-d2f0-a78efd037fff"
      },
      "id": "nd9RsRxJtzeE",
      "execution_count": 10,
      "outputs": [
        {
          "output_type": "execute_result",
          "data": {
            "text/plain": [
              "[nan,\n",
              " 'DOCETAXEL 10 MG, TBD, TBD',\n",
              " 'INSULIN ASPART 100 UI/ML, SOLUTION FOR INJECTION, TBD',\n",
              " 'AMLODIPINO 5 MG + HIDROCLOROTIAZIDA 25 MG + VALSARTAN 160 MG, TABLET, TBD',\n",
              " 'ZIDOVUDINE 300 MG, TABLET, 60 TABLETS BOTTLE']"
            ]
          },
          "metadata": {},
          "execution_count": 10
        }
      ]
    },
    {
      "cell_type": "code",
      "source": [
        "CatalogName = [x for x in CatalogName if str(x) != 'nan']"
      ],
      "metadata": {
        "id": "_3yszxsDtzaf"
      },
      "id": "_3yszxsDtzaf",
      "execution_count": 11,
      "outputs": []
    },
    {
      "cell_type": "code",
      "source": [
        "CatalogName[:5]"
      ],
      "metadata": {
        "colab": {
          "base_uri": "https://localhost:8080/"
        },
        "id": "M1xemywTtzWn",
        "outputId": "2d75898f-4723-4872-dd2e-bf82e360fdd3"
      },
      "id": "M1xemywTtzWn",
      "execution_count": 12,
      "outputs": [
        {
          "output_type": "execute_result",
          "data": {
            "text/plain": [
              "['DOCETAXEL 10 MG, TBD, TBD',\n",
              " 'INSULIN ASPART 100 UI/ML, SOLUTION FOR INJECTION, TBD',\n",
              " 'AMLODIPINO 5 MG + HIDROCLOROTIAZIDA 25 MG + VALSARTAN 160 MG, TABLET, TBD',\n",
              " 'ZIDOVUDINE 300 MG, TABLET, 60 TABLETS BOTTLE',\n",
              " 'AMLODIPINO 5 MG + CANDESARTAN 16 MG, TABLET, TBD']"
            ]
          },
          "metadata": {},
          "execution_count": 12
        }
      ]
    },
    {
      "cell_type": "code",
      "source": [
        "len(CatalogName)"
      ],
      "metadata": {
        "colab": {
          "base_uri": "https://localhost:8080/"
        },
        "id": "4zyO6xwFtzQR",
        "outputId": "85025122-e9f9-44db-afcc-ecf8a3908a93"
      },
      "id": "4zyO6xwFtzQR",
      "execution_count": 13,
      "outputs": [
        {
          "output_type": "execute_result",
          "data": {
            "text/plain": [
              "462"
            ]
          },
          "metadata": {},
          "execution_count": 13
        }
      ]
    },
    {
      "cell_type": "code",
      "source": [
        ""
      ],
      "metadata": {
        "id": "4yMYysQnuQ0X"
      },
      "id": "4yMYysQnuQ0X",
      "execution_count": null,
      "outputs": []
    },
    {
      "cell_type": "code",
      "source": [
        ""
      ],
      "metadata": {
        "id": "o6sLncyQuQsa"
      },
      "id": "o6sLncyQuQsa",
      "execution_count": null,
      "outputs": []
    },
    {
      "cell_type": "code",
      "source": [
        ""
      ],
      "metadata": {
        "id": "apvkLj36uQkp"
      },
      "id": "apvkLj36uQkp",
      "execution_count": null,
      "outputs": []
    },
    {
      "cell_type": "code",
      "source": [
        ""
      ],
      "metadata": {
        "id": "B6LGnrGduQcC"
      },
      "id": "B6LGnrGduQcC",
      "execution_count": null,
      "outputs": []
    }
  ],
  "metadata": {
    "kernelspec": {
      "display_name": "Python 3 (ipykernel)",
      "language": "python",
      "name": "python3"
    },
    "language_info": {
      "codemirror_mode": {
        "name": "ipython",
        "version": 3
      },
      "file_extension": ".py",
      "mimetype": "text/x-python",
      "name": "python",
      "nbconvert_exporter": "python",
      "pygments_lexer": "ipython3",
      "version": "3.9.7"
    },
    "colab": {
      "name": "CleanDataDrugDictionary.ipynb",
      "provenance": [],
      "include_colab_link": true
    }
  },
  "nbformat": 4,
  "nbformat_minor": 5
}
