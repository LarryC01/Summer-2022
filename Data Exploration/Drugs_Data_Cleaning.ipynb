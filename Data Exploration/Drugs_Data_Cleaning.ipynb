{
  "cells": [
    {
      "cell_type": "markdown",
      "metadata": {
        "id": "view-in-github",
        "colab_type": "text"
      },
      "source": [
        "<a href=\"https://colab.research.google.com/github/wenjunc2/Summer-2022/blob/main/Drugs_Data_Cleaning.ipynb\" target=\"_parent\"><img src=\"https://colab.research.google.com/assets/colab-badge.svg\" alt=\"Open In Colab\"/></a>"
      ]
    },
    {
      "cell_type": "markdown",
      "source": [
        "# Part 1 (6/ 20)"
      ],
      "metadata": {
        "id": "KnxKNcII0dPQ"
      },
      "id": "KnxKNcII0dPQ"
    },
    {
      "cell_type": "markdown",
      "source": [
        "check the work direction"
      ],
      "metadata": {
        "id": "4qriPV8xnPkK"
      },
      "id": "4qriPV8xnPkK"
    },
    {
      "cell_type": "code",
      "execution_count": null,
      "id": "b3fa8107",
      "metadata": {
        "id": "b3fa8107"
      },
      "outputs": [],
      "source": [
        "import pandas as pd"
      ]
    },
    {
      "cell_type": "code",
      "source": [
        "import os\n",
        "cwd = os.getcwd()"
      ],
      "metadata": {
        "id": "2uvLA_LqcdiB"
      },
      "id": "2uvLA_LqcdiB",
      "execution_count": null,
      "outputs": []
    },
    {
      "cell_type": "code",
      "source": [
        "cwd"
      ],
      "metadata": {
        "colab": {
          "base_uri": "https://localhost:8080/",
          "height": 35
        },
        "id": "2XD8nQyQb1Ki",
        "outputId": "1965e490-8142-491e-92f6-05331e021ba4"
      },
      "id": "2XD8nQyQb1Ki",
      "execution_count": null,
      "outputs": [
        {
          "output_type": "execute_result",
          "data": {
            "text/plain": [
              "'/content'"
            ],
            "application/vnd.google.colaboratory.intrinsic+json": {
              "type": "string"
            }
          },
          "metadata": {},
          "execution_count": 53
        }
      ]
    },
    {
      "cell_type": "markdown",
      "source": [
        "read into the data"
      ],
      "metadata": {
        "id": "EduuvGfiimX9"
      },
      "id": "EduuvGfiimX9"
    },
    {
      "cell_type": "code",
      "source": [
        "CleanDataBase = pd.read_excel('CleanDataBase.xlsx')"
      ],
      "metadata": {
        "id": "yusdT6pHiTtA"
      },
      "id": "yusdT6pHiTtA",
      "execution_count": null,
      "outputs": []
    },
    {
      "cell_type": "markdown",
      "source": [
        "### Data Exploretion"
      ],
      "metadata": {
        "id": "u9XupW1dlOY6"
      },
      "id": "u9XupW1dlOY6"
    },
    {
      "cell_type": "markdown",
      "source": [
        "display the structure of dataset, the unique number of country code, and country product name"
      ],
      "metadata": {
        "id": "qApjvtv6lPBq"
      },
      "id": "qApjvtv6lPBq"
    },
    {
      "cell_type": "code",
      "source": [
        "str(CleanDataBase)"
      ],
      "metadata": {
        "colab": {
          "base_uri": "https://localhost:8080/",
          "height": 144
        },
        "id": "Rj5nCaC3ilJJ",
        "outputId": "6adc5a14-d313-4ede-82db-6f1fb39f6cb6"
      },
      "id": "Rj5nCaC3ilJJ",
      "execution_count": null,
      "outputs": [
        {
          "output_type": "execute_result",
          "data": {
            "text/plain": [
              "'      Country Code           Entity Entity Type Point of Delivery  \\\\\\n0              BHS          BHS MOH         MOH               NaN   \\n1              BHS          BHS MOH         MOH               NaN   \\n2              BHS          BHS MOH         MOH               NaN   \\n3              BHS          BHS MOH         MOH               NaN   \\n4              BHS          BHS MOH         MOH               NaN   \\n...            ...              ...         ...               ...   \\n14332          SLV  Ayudame a vivir   Fundacion           Unknown   \\n14333          SLV  Ayudame a vivir   Fundacion           Unknown   \\n14334          SLV  Ayudame a vivir   Fundacion           Unknown   \\n14335          SLV  Ayudame a vivir   Fundacion           Unknown   \\n14336          SLV  Ayudame a vivir   Fundacion           Unknown   \\n\\n      Purchase Mechanism  Program   Region          Therapeutic Area  \\\\\\n0                Unknown      NaN      NaN  Cardiovascular medicines   \\n1                Unknown      NaN      NaN  Cardiovascular medicines   \\n2                Unknown      NaN      NaN  Cardiovascular medicines   \\n3                Unknown      NaN      NaN  Cardiovascular medicines   \\n4                Unknown      NaN      NaN  Cardiovascular medicines   \\n...                  ...      ...      ...                       ...   \\n14332            Unknown  Unknown  Unknown           Antineoplastics   \\n14333            Unknown  Unknown  Unknown           Antineoplastics   \\n14334            Unknown  Unknown  Unknown           Antineoplastics   \\n14335            Unknown  Unknown  Unknown           Antineoplastics   \\n14336            Unknown  Unknown  Unknown           Antineoplastics   \\n\\n                                    Country Product Name  \\\\\\n0                                             AMLODIPINE   \\n1                                             AMLODIPINE   \\n2                                         CHLORTHALIDONE   \\n3                                     HYDROCHLOROTIAZIDE   \\n4                                             LISINOPRIL   \\n...                                                  ...   \\n14332  Asparginasa Pegilada , Un vial de 5 ml de solu...   \\n14333  L-Asparginasa, Polvo para solucion inyectable....   \\n14334                     Metotrexato, Tableta de 2.5mg.   \\n14335  Metotrexato, Solución inyectable. Frasco vial ...   \\n14336  Mitoxantrona, Solución para inyectable. Frasco...   \\n\\n                             Country Product Description  Generic  \\\\\\n0                                                TABLETS  Unknown   \\n1                                                TABLETS  Unknown   \\n2                                                TABLETS  Unknown   \\n3                                                TABLETS  Unknown   \\n4                                                TABLETS  Unknown   \\n...                                                  ...      ...   \\n14332  Un vial de 5 ml de solución contiene 3,750 uni...   Unkown   \\n14333  Polvo para solucion inyectable. Frasco vial de...   Unkown   \\n14334                                  Tableta de 2.5mg.   Unkown   \\n14335     Solución inyectable. Frasco vial de 500mg/20mL   Unkown   \\n14336      Solución para inyectable. Frasco de 20mg/10mL   Unkown   \\n\\n       Subunits per Unit                                       Catalog Name  \\\\\\n0                      1            AMLODIPINE 5 MG, TABLET, BLISTER, 10X30   \\n1                      1          AMLODIPINE 10 MG, TABLET, BLISTER, 10X100   \\n2                      1        CHLORTHALIDONE 25 MG, TABLET, BLISTER, 10X3   \\n3                      1   HYDROCHLOROTHIAZIDE 25 MG, TABLET, BLISTER, 25X4   \\n4                      1            LISINOPRIL 20 MG, TABLET, BLISTER, 10X3   \\n...                  ...                                                ...   \\n14332                  1  PUSHY ASPARGINASE, A 5 ML VIAL OF SOLUTION CON...   \\n14333                  1  ASPARAGINASE\\xa010000\\xa0IU,\\xa0POWDER\\xa0FOR\\xa0INJECTION,\\xa0V...   \\n14334                  1  METHOTREXATE\\xa02.5\\xa0MG\\xa0(SODIUM\\xa0SALT),\\xa0TABLET,\\xa0BLI...   \\n14335                  1     METOTREXATE, INJECTION. 500MG/20ML ROAD BOTTLE   \\n14336                  1  MITOXANTRONA, SOLUTION FOR INJECTABLE. 20MG/10...   \\n\\n      Supplier Manufacturer Purchase Date  Purchase Year  Total Amount  \\\\\\n0      Unknown      Unknown           NaT         2021.0           NaN   \\n1      Unknown      Unknown           NaT         2021.0           NaN   \\n2      Unknown      Unknown           NaT         2021.0           NaN   \\n3      Unknown      Unknown           NaT         2021.0           NaN   \\n4      Unknown      Unknown           NaT         2021.0           NaN   \\n...        ...          ...           ...            ...           ...   \\n14332  Unknown      Unknown           NaT         2022.0        1800.0   \\n14333  Unknown      Unknown           NaT         2022.0          92.5   \\n14334  Unknown      Unknown           NaT         2022.0           0.5   \\n14335  Unknown      Unknown           NaT         2022.0          18.0   \\n14336  Unknown      Unknown           NaT         2022.0          90.0   \\n\\n       Unit Quantity  Min Unit Price USD  \\n0                NaN            0.026000  \\n1                NaN            0.019500  \\n2                NaN            0.186333  \\n3                NaN            0.010000  \\n4                NaN            0.028400  \\n...              ...                 ...  \\n14332            1.0         1800.000000  \\n14333            1.0           92.500000  \\n14334            1.0            0.500000  \\n14335            1.0           18.000000  \\n14336            1.0           90.000000  \\n\\n[14337 rows x 20 columns]'"
            ],
            "application/vnd.google.colaboratory.intrinsic+json": {
              "type": "string"
            }
          },
          "metadata": {},
          "execution_count": 55
        }
      ]
    },
    {
      "cell_type": "code",
      "source": [
        "type(CleanDataBase)"
      ],
      "metadata": {
        "colab": {
          "base_uri": "https://localhost:8080/"
        },
        "id": "DOEpvzKbi1pm",
        "outputId": "80ce387e-12f7-494f-87a5-d8a7f1177401"
      },
      "id": "DOEpvzKbi1pm",
      "execution_count": null,
      "outputs": [
        {
          "output_type": "execute_result",
          "data": {
            "text/plain": [
              "pandas.core.frame.DataFrame"
            ]
          },
          "metadata": {},
          "execution_count": 56
        }
      ]
    },
    {
      "cell_type": "code",
      "source": [
        "CleanDataBase.head()"
      ],
      "metadata": {
        "colab": {
          "base_uri": "https://localhost:8080/",
          "height": 426
        },
        "id": "Yl0fW-2hi-XT",
        "outputId": "ffa1e97b-0d4e-438c-9dad-98247ab3924c"
      },
      "id": "Yl0fW-2hi-XT",
      "execution_count": null,
      "outputs": [
        {
          "output_type": "execute_result",
          "data": {
            "text/plain": [
              "  Country Code   Entity Entity Type Point of Delivery Purchase Mechanism  \\\n",
              "0          BHS  BHS MOH         MOH               NaN            Unknown   \n",
              "1          BHS  BHS MOH         MOH               NaN            Unknown   \n",
              "2          BHS  BHS MOH         MOH               NaN            Unknown   \n",
              "3          BHS  BHS MOH         MOH               NaN            Unknown   \n",
              "4          BHS  BHS MOH         MOH               NaN            Unknown   \n",
              "\n",
              "  Program Region          Therapeutic Area Country Product Name  \\\n",
              "0     NaN    NaN  Cardiovascular medicines           AMLODIPINE   \n",
              "1     NaN    NaN  Cardiovascular medicines           AMLODIPINE   \n",
              "2     NaN    NaN  Cardiovascular medicines       CHLORTHALIDONE   \n",
              "3     NaN    NaN  Cardiovascular medicines   HYDROCHLOROTIAZIDE   \n",
              "4     NaN    NaN  Cardiovascular medicines           LISINOPRIL   \n",
              "\n",
              "  Country Product Description  Generic  Subunits per Unit  \\\n",
              "0                     TABLETS  Unknown                  1   \n",
              "1                     TABLETS  Unknown                  1   \n",
              "2                     TABLETS  Unknown                  1   \n",
              "3                     TABLETS  Unknown                  1   \n",
              "4                     TABLETS  Unknown                  1   \n",
              "\n",
              "                                       Catalog Name Supplier Manufacturer  \\\n",
              "0           AMLODIPINE 5 MG, TABLET, BLISTER, 10X30  Unknown      Unknown   \n",
              "1         AMLODIPINE 10 MG, TABLET, BLISTER, 10X100  Unknown      Unknown   \n",
              "2       CHLORTHALIDONE 25 MG, TABLET, BLISTER, 10X3  Unknown      Unknown   \n",
              "3  HYDROCHLOROTHIAZIDE 25 MG, TABLET, BLISTER, 25X4  Unknown      Unknown   \n",
              "4           LISINOPRIL 20 MG, TABLET, BLISTER, 10X3  Unknown      Unknown   \n",
              "\n",
              "  Purchase Date  Purchase Year  Total Amount  Unit Quantity  \\\n",
              "0           NaT         2021.0           NaN            NaN   \n",
              "1           NaT         2021.0           NaN            NaN   \n",
              "2           NaT         2021.0           NaN            NaN   \n",
              "3           NaT         2021.0           NaN            NaN   \n",
              "4           NaT         2021.0           NaN            NaN   \n",
              "\n",
              "   Min Unit Price USD  \n",
              "0            0.026000  \n",
              "1            0.019500  \n",
              "2            0.186333  \n",
              "3            0.010000  \n",
              "4            0.028400  "
            ],
            "text/html": [
              "\n",
              "  <div id=\"df-08afb053-bf82-4d0e-92a0-3a889b344fe1\">\n",
              "    <div class=\"colab-df-container\">\n",
              "      <div>\n",
              "<style scoped>\n",
              "    .dataframe tbody tr th:only-of-type {\n",
              "        vertical-align: middle;\n",
              "    }\n",
              "\n",
              "    .dataframe tbody tr th {\n",
              "        vertical-align: top;\n",
              "    }\n",
              "\n",
              "    .dataframe thead th {\n",
              "        text-align: right;\n",
              "    }\n",
              "</style>\n",
              "<table border=\"1\" class=\"dataframe\">\n",
              "  <thead>\n",
              "    <tr style=\"text-align: right;\">\n",
              "      <th></th>\n",
              "      <th>Country Code</th>\n",
              "      <th>Entity</th>\n",
              "      <th>Entity Type</th>\n",
              "      <th>Point of Delivery</th>\n",
              "      <th>Purchase Mechanism</th>\n",
              "      <th>Program</th>\n",
              "      <th>Region</th>\n",
              "      <th>Therapeutic Area</th>\n",
              "      <th>Country Product Name</th>\n",
              "      <th>Country Product Description</th>\n",
              "      <th>Generic</th>\n",
              "      <th>Subunits per Unit</th>\n",
              "      <th>Catalog Name</th>\n",
              "      <th>Supplier</th>\n",
              "      <th>Manufacturer</th>\n",
              "      <th>Purchase Date</th>\n",
              "      <th>Purchase Year</th>\n",
              "      <th>Total Amount</th>\n",
              "      <th>Unit Quantity</th>\n",
              "      <th>Min Unit Price USD</th>\n",
              "    </tr>\n",
              "  </thead>\n",
              "  <tbody>\n",
              "    <tr>\n",
              "      <th>0</th>\n",
              "      <td>BHS</td>\n",
              "      <td>BHS MOH</td>\n",
              "      <td>MOH</td>\n",
              "      <td>NaN</td>\n",
              "      <td>Unknown</td>\n",
              "      <td>NaN</td>\n",
              "      <td>NaN</td>\n",
              "      <td>Cardiovascular medicines</td>\n",
              "      <td>AMLODIPINE</td>\n",
              "      <td>TABLETS</td>\n",
              "      <td>Unknown</td>\n",
              "      <td>1</td>\n",
              "      <td>AMLODIPINE 5 MG, TABLET, BLISTER, 10X30</td>\n",
              "      <td>Unknown</td>\n",
              "      <td>Unknown</td>\n",
              "      <td>NaT</td>\n",
              "      <td>2021.0</td>\n",
              "      <td>NaN</td>\n",
              "      <td>NaN</td>\n",
              "      <td>0.026000</td>\n",
              "    </tr>\n",
              "    <tr>\n",
              "      <th>1</th>\n",
              "      <td>BHS</td>\n",
              "      <td>BHS MOH</td>\n",
              "      <td>MOH</td>\n",
              "      <td>NaN</td>\n",
              "      <td>Unknown</td>\n",
              "      <td>NaN</td>\n",
              "      <td>NaN</td>\n",
              "      <td>Cardiovascular medicines</td>\n",
              "      <td>AMLODIPINE</td>\n",
              "      <td>TABLETS</td>\n",
              "      <td>Unknown</td>\n",
              "      <td>1</td>\n",
              "      <td>AMLODIPINE 10 MG, TABLET, BLISTER, 10X100</td>\n",
              "      <td>Unknown</td>\n",
              "      <td>Unknown</td>\n",
              "      <td>NaT</td>\n",
              "      <td>2021.0</td>\n",
              "      <td>NaN</td>\n",
              "      <td>NaN</td>\n",
              "      <td>0.019500</td>\n",
              "    </tr>\n",
              "    <tr>\n",
              "      <th>2</th>\n",
              "      <td>BHS</td>\n",
              "      <td>BHS MOH</td>\n",
              "      <td>MOH</td>\n",
              "      <td>NaN</td>\n",
              "      <td>Unknown</td>\n",
              "      <td>NaN</td>\n",
              "      <td>NaN</td>\n",
              "      <td>Cardiovascular medicines</td>\n",
              "      <td>CHLORTHALIDONE</td>\n",
              "      <td>TABLETS</td>\n",
              "      <td>Unknown</td>\n",
              "      <td>1</td>\n",
              "      <td>CHLORTHALIDONE 25 MG, TABLET, BLISTER, 10X3</td>\n",
              "      <td>Unknown</td>\n",
              "      <td>Unknown</td>\n",
              "      <td>NaT</td>\n",
              "      <td>2021.0</td>\n",
              "      <td>NaN</td>\n",
              "      <td>NaN</td>\n",
              "      <td>0.186333</td>\n",
              "    </tr>\n",
              "    <tr>\n",
              "      <th>3</th>\n",
              "      <td>BHS</td>\n",
              "      <td>BHS MOH</td>\n",
              "      <td>MOH</td>\n",
              "      <td>NaN</td>\n",
              "      <td>Unknown</td>\n",
              "      <td>NaN</td>\n",
              "      <td>NaN</td>\n",
              "      <td>Cardiovascular medicines</td>\n",
              "      <td>HYDROCHLOROTIAZIDE</td>\n",
              "      <td>TABLETS</td>\n",
              "      <td>Unknown</td>\n",
              "      <td>1</td>\n",
              "      <td>HYDROCHLOROTHIAZIDE 25 MG, TABLET, BLISTER, 25X4</td>\n",
              "      <td>Unknown</td>\n",
              "      <td>Unknown</td>\n",
              "      <td>NaT</td>\n",
              "      <td>2021.0</td>\n",
              "      <td>NaN</td>\n",
              "      <td>NaN</td>\n",
              "      <td>0.010000</td>\n",
              "    </tr>\n",
              "    <tr>\n",
              "      <th>4</th>\n",
              "      <td>BHS</td>\n",
              "      <td>BHS MOH</td>\n",
              "      <td>MOH</td>\n",
              "      <td>NaN</td>\n",
              "      <td>Unknown</td>\n",
              "      <td>NaN</td>\n",
              "      <td>NaN</td>\n",
              "      <td>Cardiovascular medicines</td>\n",
              "      <td>LISINOPRIL</td>\n",
              "      <td>TABLETS</td>\n",
              "      <td>Unknown</td>\n",
              "      <td>1</td>\n",
              "      <td>LISINOPRIL 20 MG, TABLET, BLISTER, 10X3</td>\n",
              "      <td>Unknown</td>\n",
              "      <td>Unknown</td>\n",
              "      <td>NaT</td>\n",
              "      <td>2021.0</td>\n",
              "      <td>NaN</td>\n",
              "      <td>NaN</td>\n",
              "      <td>0.028400</td>\n",
              "    </tr>\n",
              "  </tbody>\n",
              "</table>\n",
              "</div>\n",
              "      <button class=\"colab-df-convert\" onclick=\"convertToInteractive('df-08afb053-bf82-4d0e-92a0-3a889b344fe1')\"\n",
              "              title=\"Convert this dataframe to an interactive table.\"\n",
              "              style=\"display:none;\">\n",
              "        \n",
              "  <svg xmlns=\"http://www.w3.org/2000/svg\" height=\"24px\"viewBox=\"0 0 24 24\"\n",
              "       width=\"24px\">\n",
              "    <path d=\"M0 0h24v24H0V0z\" fill=\"none\"/>\n",
              "    <path d=\"M18.56 5.44l.94 2.06.94-2.06 2.06-.94-2.06-.94-.94-2.06-.94 2.06-2.06.94zm-11 1L8.5 8.5l.94-2.06 2.06-.94-2.06-.94L8.5 2.5l-.94 2.06-2.06.94zm10 10l.94 2.06.94-2.06 2.06-.94-2.06-.94-.94-2.06-.94 2.06-2.06.94z\"/><path d=\"M17.41 7.96l-1.37-1.37c-.4-.4-.92-.59-1.43-.59-.52 0-1.04.2-1.43.59L10.3 9.45l-7.72 7.72c-.78.78-.78 2.05 0 2.83L4 21.41c.39.39.9.59 1.41.59.51 0 1.02-.2 1.41-.59l7.78-7.78 2.81-2.81c.8-.78.8-2.07 0-2.86zM5.41 20L4 18.59l7.72-7.72 1.47 1.35L5.41 20z\"/>\n",
              "  </svg>\n",
              "      </button>\n",
              "      \n",
              "  <style>\n",
              "    .colab-df-container {\n",
              "      display:flex;\n",
              "      flex-wrap:wrap;\n",
              "      gap: 12px;\n",
              "    }\n",
              "\n",
              "    .colab-df-convert {\n",
              "      background-color: #E8F0FE;\n",
              "      border: none;\n",
              "      border-radius: 50%;\n",
              "      cursor: pointer;\n",
              "      display: none;\n",
              "      fill: #1967D2;\n",
              "      height: 32px;\n",
              "      padding: 0 0 0 0;\n",
              "      width: 32px;\n",
              "    }\n",
              "\n",
              "    .colab-df-convert:hover {\n",
              "      background-color: #E2EBFA;\n",
              "      box-shadow: 0px 1px 2px rgba(60, 64, 67, 0.3), 0px 1px 3px 1px rgba(60, 64, 67, 0.15);\n",
              "      fill: #174EA6;\n",
              "    }\n",
              "\n",
              "    [theme=dark] .colab-df-convert {\n",
              "      background-color: #3B4455;\n",
              "      fill: #D2E3FC;\n",
              "    }\n",
              "\n",
              "    [theme=dark] .colab-df-convert:hover {\n",
              "      background-color: #434B5C;\n",
              "      box-shadow: 0px 1px 3px 1px rgba(0, 0, 0, 0.15);\n",
              "      filter: drop-shadow(0px 1px 2px rgba(0, 0, 0, 0.3));\n",
              "      fill: #FFFFFF;\n",
              "    }\n",
              "  </style>\n",
              "\n",
              "      <script>\n",
              "        const buttonEl =\n",
              "          document.querySelector('#df-08afb053-bf82-4d0e-92a0-3a889b344fe1 button.colab-df-convert');\n",
              "        buttonEl.style.display =\n",
              "          google.colab.kernel.accessAllowed ? 'block' : 'none';\n",
              "\n",
              "        async function convertToInteractive(key) {\n",
              "          const element = document.querySelector('#df-08afb053-bf82-4d0e-92a0-3a889b344fe1');\n",
              "          const dataTable =\n",
              "            await google.colab.kernel.invokeFunction('convertToInteractive',\n",
              "                                                     [key], {});\n",
              "          if (!dataTable) return;\n",
              "\n",
              "          const docLinkHtml = 'Like what you see? Visit the ' +\n",
              "            '<a target=\"_blank\" href=https://colab.research.google.com/notebooks/data_table.ipynb>data table notebook</a>'\n",
              "            + ' to learn more about interactive tables.';\n",
              "          element.innerHTML = '';\n",
              "          dataTable['output_type'] = 'display_data';\n",
              "          await google.colab.output.renderOutput(dataTable, element);\n",
              "          const docLink = document.createElement('div');\n",
              "          docLink.innerHTML = docLinkHtml;\n",
              "          element.appendChild(docLink);\n",
              "        }\n",
              "      </script>\n",
              "    </div>\n",
              "  </div>\n",
              "  "
            ]
          },
          "metadata": {},
          "execution_count": 57
        }
      ]
    },
    {
      "cell_type": "code",
      "source": [
        "Country_Code = CleanDataBase['Country Code'].unique()"
      ],
      "metadata": {
        "id": "pqUb0HOEjLwD"
      },
      "id": "pqUb0HOEjLwD",
      "execution_count": null,
      "outputs": []
    },
    {
      "cell_type": "code",
      "source": [
        "Country_Code # unique country code"
      ],
      "metadata": {
        "colab": {
          "base_uri": "https://localhost:8080/"
        },
        "id": "r6a7ObwTJBGk",
        "outputId": "450344c8-795e-42e8-eb01-761802617997"
      },
      "id": "r6a7ObwTJBGk",
      "execution_count": null,
      "outputs": [
        {
          "output_type": "execute_result",
          "data": {
            "text/plain": [
              "array(['BHS', 'BMU', 'BRA', 'CHL', 'COM', 'SLV', 'ECU IESS', 'GTM', 'ARG',\n",
              "       'ECU', 'PER', 'PAN', 'COL', 'CRI', 'OECS PPS', 'TTO', 'MEX', 'DOM'],\n",
              "      dtype=object)"
            ]
          },
          "metadata": {},
          "execution_count": 9
        }
      ]
    },
    {
      "cell_type": "code",
      "source": [
        "Coutry_Product_Name = CleanDataBase['Country Product Name'].unique()"
      ],
      "metadata": {
        "id": "88zhYXp4naFc"
      },
      "id": "88zhYXp4naFc",
      "execution_count": null,
      "outputs": []
    },
    {
      "cell_type": "code",
      "source": [
        "import sys\n",
        "import numpy\n",
        "numpy.set_printoptions(threshold=sys.maxsize)"
      ],
      "metadata": {
        "id": "7YKp6JP3oEei"
      },
      "id": "7YKp6JP3oEei",
      "execution_count": null,
      "outputs": []
    },
    {
      "cell_type": "code",
      "source": [
        "#Coutry_Product_Name"
      ],
      "metadata": {
        "id": "Qzuf_jW3n4Bb"
      },
      "id": "Qzuf_jW3n4Bb",
      "execution_count": null,
      "outputs": []
    },
    {
      "cell_type": "code",
      "source": [
        "len(Coutry_Product_Name) # total unique coutry product name number"
      ],
      "metadata": {
        "colab": {
          "base_uri": "https://localhost:8080/"
        },
        "id": "yfSxWEQJoMlq",
        "outputId": "03727605-f09e-4ed3-8883-68e2adac2013"
      },
      "id": "yfSxWEQJoMlq",
      "execution_count": null,
      "outputs": [
        {
          "output_type": "execute_result",
          "data": {
            "text/plain": [
              "5012"
            ]
          },
          "metadata": {},
          "execution_count": 12
        }
      ]
    },
    {
      "cell_type": "markdown",
      "source": [
        "try to display the country product name for BHS"
      ],
      "metadata": {
        "id": "kL1h4yO9o9_-"
      },
      "id": "kL1h4yO9o9_-"
    },
    {
      "cell_type": "code",
      "source": [
        "BHS_Coutry_Product_Name = CleanDataBase[CleanDataBase['Country Code'] == 'BHS']['Country Product Name'].unique()"
      ],
      "metadata": {
        "id": "dCxAC9OjoXjL"
      },
      "id": "dCxAC9OjoXjL",
      "execution_count": null,
      "outputs": []
    },
    {
      "cell_type": "code",
      "source": [
        "BHS_Coutry_Product_Name"
      ],
      "metadata": {
        "colab": {
          "base_uri": "https://localhost:8080/"
        },
        "id": "nOmaSoaMuCEc",
        "outputId": "c85b0c1a-2666-4c5b-b607-846049606001"
      },
      "id": "nOmaSoaMuCEc",
      "execution_count": null,
      "outputs": [
        {
          "output_type": "execute_result",
          "data": {
            "text/plain": [
              "array(['AMLODIPINE', 'CHLORTHALIDONE', 'HYDROCHLOROTIAZIDE', 'LISINOPRIL',\n",
              "       'LISINOPRIL + HYDROCHLOROTHIAZIDE', 'LOSARTAN', 'METOPROLOL',\n",
              "       'TELMISARTAN', 'TELMISARTAN + AMLODIPINE'], dtype=object)"
            ]
          },
          "metadata": {},
          "execution_count": 14
        }
      ]
    },
    {
      "cell_type": "markdown",
      "source": [
        "display the number of product for each country"
      ],
      "metadata": {
        "id": "XiibOr07pqln"
      },
      "id": "XiibOr07pqln"
    },
    {
      "cell_type": "code",
      "source": [
        "Coutry_Product_Name_Number = []\n",
        "\n",
        "for name in Country_Code:\n",
        "  Coutry_Product_Name_Unique = CleanDataBase[CleanDataBase['Country Code'] == name]['Country Product Name'].unique()\n",
        "  number = len(Coutry_Product_Name_Unique)\n",
        "  Coutry_Product_Name_Number.append(number)\n"
      ],
      "metadata": {
        "id": "3Q4OMolvIxMi"
      },
      "id": "3Q4OMolvIxMi",
      "execution_count": null,
      "outputs": []
    },
    {
      "cell_type": "code",
      "source": [
        "Coutry_Product_Name_Number"
      ],
      "metadata": {
        "colab": {
          "base_uri": "https://localhost:8080/"
        },
        "id": "HIBZh7sTIxSX",
        "outputId": "a3963536-ae55-4851-aa1a-716d4921223f"
      },
      "id": "HIBZh7sTIxSX",
      "execution_count": null,
      "outputs": [
        {
          "output_type": "execute_result",
          "data": {
            "text/plain": [
              "[9, 3, 133, 3620, 24, 48, 80, 5, 1, 2, 48, 3, 899, 4, 26, 34, 1, 78]"
            ]
          },
          "metadata": {},
          "execution_count": 16
        }
      ]
    },
    {
      "cell_type": "code",
      "source": [
        "sum(Coutry_Product_Name_Number)"
      ],
      "metadata": {
        "colab": {
          "base_uri": "https://localhost:8080/"
        },
        "id": "O2IacbqukECe",
        "outputId": "eddbc7da-573d-4633-ec0d-160163a2765f"
      },
      "id": "O2IacbqukECe",
      "execution_count": null,
      "outputs": [
        {
          "output_type": "execute_result",
          "data": {
            "text/plain": [
              "5018"
            ]
          },
          "metadata": {},
          "execution_count": 18
        }
      ]
    },
    {
      "cell_type": "code",
      "source": [
        "country_data = {'BHS': [9], 'BMU': [3], 'BRA': [133], 'CHL': [3620], 'COM': [24], 'SLV': [48], 'ECU IESS': [80], 'GTM': [5], 'ARG': [1],\n",
        "       'ECU': [2], 'PER': [48], 'PAN': [3], 'COL': [899], 'CRI': [4], 'OECS PPS': [26], 'TTO': [34], 'MEX': [1], 'DOM': [78]}"
      ],
      "metadata": {
        "id": "Us-mq-MnSf_1"
      },
      "id": "Us-mq-MnSf_1",
      "execution_count": null,
      "outputs": []
    },
    {
      "cell_type": "code",
      "source": [
        "Coutry_Product = pd.DataFrame(data = country_data)"
      ],
      "metadata": {
        "id": "7c5ggtYVM6TD"
      },
      "id": "7c5ggtYVM6TD",
      "execution_count": null,
      "outputs": []
    },
    {
      "cell_type": "code",
      "source": [
        "Coutry_Product"
      ],
      "metadata": {
        "colab": {
          "base_uri": "https://localhost:8080/",
          "height": 81
        },
        "id": "jyU8ZLsRVTs9",
        "outputId": "544d570a-2ba7-451c-ac35-d14b8ffdd831"
      },
      "id": "jyU8ZLsRVTs9",
      "execution_count": null,
      "outputs": [
        {
          "output_type": "execute_result",
          "data": {
            "text/plain": [
              "   BHS  BMU  BRA   CHL  COM  SLV  ECU IESS  GTM  ARG  ECU  PER  PAN  COL  CRI  \\\n",
              "0    9    3  133  3620   24   48        80    5    1    2   48    3  899    4   \n",
              "\n",
              "   OECS PPS  TTO  MEX  DOM  \n",
              "0        26   34    1   78  "
            ],
            "text/html": [
              "\n",
              "  <div id=\"df-6aaff1b2-8a2e-435d-9c53-39ce69552f72\">\n",
              "    <div class=\"colab-df-container\">\n",
              "      <div>\n",
              "<style scoped>\n",
              "    .dataframe tbody tr th:only-of-type {\n",
              "        vertical-align: middle;\n",
              "    }\n",
              "\n",
              "    .dataframe tbody tr th {\n",
              "        vertical-align: top;\n",
              "    }\n",
              "\n",
              "    .dataframe thead th {\n",
              "        text-align: right;\n",
              "    }\n",
              "</style>\n",
              "<table border=\"1\" class=\"dataframe\">\n",
              "  <thead>\n",
              "    <tr style=\"text-align: right;\">\n",
              "      <th></th>\n",
              "      <th>BHS</th>\n",
              "      <th>BMU</th>\n",
              "      <th>BRA</th>\n",
              "      <th>CHL</th>\n",
              "      <th>COM</th>\n",
              "      <th>SLV</th>\n",
              "      <th>ECU IESS</th>\n",
              "      <th>GTM</th>\n",
              "      <th>ARG</th>\n",
              "      <th>ECU</th>\n",
              "      <th>PER</th>\n",
              "      <th>PAN</th>\n",
              "      <th>COL</th>\n",
              "      <th>CRI</th>\n",
              "      <th>OECS PPS</th>\n",
              "      <th>TTO</th>\n",
              "      <th>MEX</th>\n",
              "      <th>DOM</th>\n",
              "    </tr>\n",
              "  </thead>\n",
              "  <tbody>\n",
              "    <tr>\n",
              "      <th>0</th>\n",
              "      <td>9</td>\n",
              "      <td>3</td>\n",
              "      <td>133</td>\n",
              "      <td>3620</td>\n",
              "      <td>24</td>\n",
              "      <td>48</td>\n",
              "      <td>80</td>\n",
              "      <td>5</td>\n",
              "      <td>1</td>\n",
              "      <td>2</td>\n",
              "      <td>48</td>\n",
              "      <td>3</td>\n",
              "      <td>899</td>\n",
              "      <td>4</td>\n",
              "      <td>26</td>\n",
              "      <td>34</td>\n",
              "      <td>1</td>\n",
              "      <td>78</td>\n",
              "    </tr>\n",
              "  </tbody>\n",
              "</table>\n",
              "</div>\n",
              "      <button class=\"colab-df-convert\" onclick=\"convertToInteractive('df-6aaff1b2-8a2e-435d-9c53-39ce69552f72')\"\n",
              "              title=\"Convert this dataframe to an interactive table.\"\n",
              "              style=\"display:none;\">\n",
              "        \n",
              "  <svg xmlns=\"http://www.w3.org/2000/svg\" height=\"24px\"viewBox=\"0 0 24 24\"\n",
              "       width=\"24px\">\n",
              "    <path d=\"M0 0h24v24H0V0z\" fill=\"none\"/>\n",
              "    <path d=\"M18.56 5.44l.94 2.06.94-2.06 2.06-.94-2.06-.94-.94-2.06-.94 2.06-2.06.94zm-11 1L8.5 8.5l.94-2.06 2.06-.94-2.06-.94L8.5 2.5l-.94 2.06-2.06.94zm10 10l.94 2.06.94-2.06 2.06-.94-2.06-.94-.94-2.06-.94 2.06-2.06.94z\"/><path d=\"M17.41 7.96l-1.37-1.37c-.4-.4-.92-.59-1.43-.59-.52 0-1.04.2-1.43.59L10.3 9.45l-7.72 7.72c-.78.78-.78 2.05 0 2.83L4 21.41c.39.39.9.59 1.41.59.51 0 1.02-.2 1.41-.59l7.78-7.78 2.81-2.81c.8-.78.8-2.07 0-2.86zM5.41 20L4 18.59l7.72-7.72 1.47 1.35L5.41 20z\"/>\n",
              "  </svg>\n",
              "      </button>\n",
              "      \n",
              "  <style>\n",
              "    .colab-df-container {\n",
              "      display:flex;\n",
              "      flex-wrap:wrap;\n",
              "      gap: 12px;\n",
              "    }\n",
              "\n",
              "    .colab-df-convert {\n",
              "      background-color: #E8F0FE;\n",
              "      border: none;\n",
              "      border-radius: 50%;\n",
              "      cursor: pointer;\n",
              "      display: none;\n",
              "      fill: #1967D2;\n",
              "      height: 32px;\n",
              "      padding: 0 0 0 0;\n",
              "      width: 32px;\n",
              "    }\n",
              "\n",
              "    .colab-df-convert:hover {\n",
              "      background-color: #E2EBFA;\n",
              "      box-shadow: 0px 1px 2px rgba(60, 64, 67, 0.3), 0px 1px 3px 1px rgba(60, 64, 67, 0.15);\n",
              "      fill: #174EA6;\n",
              "    }\n",
              "\n",
              "    [theme=dark] .colab-df-convert {\n",
              "      background-color: #3B4455;\n",
              "      fill: #D2E3FC;\n",
              "    }\n",
              "\n",
              "    [theme=dark] .colab-df-convert:hover {\n",
              "      background-color: #434B5C;\n",
              "      box-shadow: 0px 1px 3px 1px rgba(0, 0, 0, 0.15);\n",
              "      filter: drop-shadow(0px 1px 2px rgba(0, 0, 0, 0.3));\n",
              "      fill: #FFFFFF;\n",
              "    }\n",
              "  </style>\n",
              "\n",
              "      <script>\n",
              "        const buttonEl =\n",
              "          document.querySelector('#df-6aaff1b2-8a2e-435d-9c53-39ce69552f72 button.colab-df-convert');\n",
              "        buttonEl.style.display =\n",
              "          google.colab.kernel.accessAllowed ? 'block' : 'none';\n",
              "\n",
              "        async function convertToInteractive(key) {\n",
              "          const element = document.querySelector('#df-6aaff1b2-8a2e-435d-9c53-39ce69552f72');\n",
              "          const dataTable =\n",
              "            await google.colab.kernel.invokeFunction('convertToInteractive',\n",
              "                                                     [key], {});\n",
              "          if (!dataTable) return;\n",
              "\n",
              "          const docLinkHtml = 'Like what you see? Visit the ' +\n",
              "            '<a target=\"_blank\" href=https://colab.research.google.com/notebooks/data_table.ipynb>data table notebook</a>'\n",
              "            + ' to learn more about interactive tables.';\n",
              "          element.innerHTML = '';\n",
              "          dataTable['output_type'] = 'display_data';\n",
              "          await google.colab.output.renderOutput(dataTable, element);\n",
              "          const docLink = document.createElement('div');\n",
              "          docLink.innerHTML = docLinkHtml;\n",
              "          element.appendChild(docLink);\n",
              "        }\n",
              "      </script>\n",
              "    </div>\n",
              "  </div>\n",
              "  "
            ]
          },
          "metadata": {},
          "execution_count": 23
        }
      ]
    },
    {
      "cell_type": "markdown",
      "source": [
        "create a list which contains lists about the product names for each country"
      ],
      "metadata": {
        "id": "kTC7RJfPrQv-"
      },
      "id": "kTC7RJfPrQv-"
    },
    {
      "cell_type": "code",
      "source": [
        "BHS_Coutry_Product_Name = CleanDataBase[CleanDataBase['Country Code'] == 'BHS']['Country Product Name'].unique()\n",
        "BMU_Coutry_Product_Name = CleanDataBase[CleanDataBase['Country Code'] == 'BMU']['Country Product Name'].unique()\n",
        "BRA_Coutry_Product_Name = CleanDataBase[CleanDataBase['Country Code'] == 'BRA']['Country Product Name'].unique()\n",
        "CHL_Coutry_Product_Name = CleanDataBase[CleanDataBase['Country Code'] == 'CHL']['Country Product Name'].unique()\n",
        "COM_Coutry_Product_Name = CleanDataBase[CleanDataBase['Country Code'] == 'COM']['Country Product Name'].unique()\n",
        "SLV_Coutry_Product_Name = CleanDataBase[CleanDataBase['Country Code'] == 'SLV']['Country Product Name'].unique()\n",
        "ECU_Coutry_Product_Name = CleanDataBase[CleanDataBase['Country Code'] == 'ECU']['Country Product Name'].unique()\n",
        "IESS_Coutry_Product_Name = CleanDataBase[CleanDataBase['Country Code'] == 'IESS']['Country Product Name'].unique()\n",
        "GTM_Coutry_Product_Name = CleanDataBase[CleanDataBase['Country Code'] == 'GTM']['Country Product Name'].unique()\n",
        "ARG_Coutry_Product_Name = CleanDataBase[CleanDataBase['Country Code'] == 'ARG']['Country Product Name'].unique()\n",
        "ECU_Coutry_Product_Name = CleanDataBase[CleanDataBase['Country Code'] == 'ECU']['Country Product Name'].unique()\n",
        "PER_Coutry_Product_Name = CleanDataBase[CleanDataBase['Country Code'] == 'PER']['Country Product Name'].unique()\n",
        "PAN_Coutry_Product_Name = CleanDataBase[CleanDataBase['Country Code'] == 'PAN']['Country Product Name'].unique()\n",
        "COL_Coutry_Product_Name = CleanDataBase[CleanDataBase['Country Code'] == 'COL']['Country Product Name'].unique()\n",
        "CRI_Coutry_Product_Name = CleanDataBase[CleanDataBase['Country Code'] == 'CRI']['Country Product Name'].unique()\n",
        "OECS_Coutry_Product_Name = CleanDataBase[CleanDataBase['Country Code'] == 'OECS']['Country Product Name'].unique()\n",
        "PPS_Coutry_Product_Name = CleanDataBase[CleanDataBase['Country Code'] == 'PPS']['Country Product Name'].unique()\n",
        "TTO_Coutry_Product_Name = CleanDataBase[CleanDataBase['Country Code'] == 'TTO']['Country Product Name'].unique()\n",
        "MEX_Coutry_Product_Name = CleanDataBase[CleanDataBase['Country Code'] == 'MEX']['Country Product Name'].unique()\n",
        "DOM_Coutry_Product_Name = CleanDataBase[CleanDataBase['Country Code'] == 'DOM']['Country Product Name'].unique()"
      ],
      "metadata": {
        "id": "JRhfKBixVVXr"
      },
      "id": "JRhfKBixVVXr",
      "execution_count": null,
      "outputs": []
    },
    {
      "cell_type": "code",
      "source": [
        "Coutry_Product_Names = [BHS_Coutry_Product_Name, BMU_Coutry_Product_Name, BRA_Coutry_Product_Name, CHL_Coutry_Product_Name, COM_Coutry_Product_Name, \n",
        "                        SLV_Coutry_Product_Name, ECU_Coutry_Product_Name, IESS_Coutry_Product_Name, GTM_Coutry_Product_Name, \n",
        "                        ARG_Coutry_Product_Name, ECU_Coutry_Product_Name, PER_Coutry_Product_Name, PAN_Coutry_Product_Name, \n",
        "                        COL_Coutry_Product_Name, CRI_Coutry_Product_Name, OECS_Coutry_Product_Name, PPS_Coutry_Product_Name,\n",
        "                        TTO_Coutry_Product_Name, MEX_Coutry_Product_Name, DOM_Coutry_Product_Name]"
      ],
      "metadata": {
        "id": "yfzqiJtXmOsn"
      },
      "id": "yfzqiJtXmOsn",
      "execution_count": null,
      "outputs": []
    },
    {
      "cell_type": "markdown",
      "source": [
        "Because CHL_Coutry_Product_Name has the largest number of product name, which is 3620, select CHL_Courty_Product_Name to count the frequency of each product_name, and the frequency of first word in product name (if some product names refer to the same product, the products which have the same first name should have a high possibility to refer to the same medicine?)"
      ],
      "metadata": {
        "id": "EFa-fMmp7-vR"
      },
      "id": "EFa-fMmp7-vR"
    },
    {
      "cell_type": "code",
      "source": [
        "# split the product name to each words\n",
        "CHL_Coutry_Product_Nmae_Dictionary = []\n",
        "for i in range(0, len(CHL_Coutry_Product_Name)):\n",
        "  temp_element = CHL_Coutry_Product_Name[i].split()\n",
        "  for j in range(0, len(temp_element)):\n",
        "    CHL_Coutry_Product_Nmae_Dictionary.append(temp_element[j])\n"
      ],
      "metadata": {
        "id": "hiqxx1YLq_T_"
      },
      "id": "hiqxx1YLq_T_",
      "execution_count": null,
      "outputs": []
    },
    {
      "cell_type": "code",
      "source": [
        "# change every words to upper type\n",
        "CHL_Coutry_Product_Nmae_Dictionary_Upper = []\n",
        "for i in CHL_Coutry_Product_Nmae_Dictionary:\n",
        "  temp_i = i.upper()\n",
        "  CHL_Coutry_Product_Nmae_Dictionary_Upper.append(temp_i)\n"
      ],
      "metadata": {
        "id": "8owaBFpb828K"
      },
      "id": "8owaBFpb828K",
      "execution_count": null,
      "outputs": []
    },
    {
      "cell_type": "code",
      "source": [
        "#CHL_Coutry_Product_Nmae_Dictionary_Upper"
      ],
      "metadata": {
        "id": "8eFIfcdE9lTR"
      },
      "id": "8eFIfcdE9lTR",
      "execution_count": null,
      "outputs": []
    },
    {
      "cell_type": "code",
      "source": [
        "# change list to set to delete the multiple words (only keep the unique one)\n",
        "CHL_Coutry_Product_Nmae_Dictionary_Upper_Set = set(CHL_Coutry_Product_Nmae_Dictionary_Upper)"
      ],
      "metadata": {
        "id": "ep-y9TbO_6uO"
      },
      "id": "ep-y9TbO_6uO",
      "execution_count": null,
      "outputs": []
    },
    {
      "cell_type": "code",
      "source": [
        "len(CHL_Coutry_Product_Nmae_Dictionary_Upper_Set) # unique words"
      ],
      "metadata": {
        "colab": {
          "base_uri": "https://localhost:8080/"
        },
        "id": "ec7M_wuZLHox",
        "outputId": "dca325b0-6ac1-4fa8-98cb-6d5b392aa292"
      },
      "id": "ec7M_wuZLHox",
      "execution_count": null,
      "outputs": [
        {
          "output_type": "execute_result",
          "data": {
            "text/plain": [
              "3015"
            ]
          },
          "metadata": {},
          "execution_count": 29
        }
      ]
    },
    {
      "cell_type": "code",
      "source": [
        "len(CHL_Coutry_Product_Nmae_Dictionary_Upper) # (multiple) words total number"
      ],
      "metadata": {
        "colab": {
          "base_uri": "https://localhost:8080/"
        },
        "id": "v3HjgtBJLUp0",
        "outputId": "cf741df9-1a25-4996-eb0d-087906325187"
      },
      "id": "v3HjgtBJLUp0",
      "execution_count": null,
      "outputs": [
        {
          "output_type": "execute_result",
          "data": {
            "text/plain": [
              "33563"
            ]
          },
          "metadata": {},
          "execution_count": 30
        }
      ]
    },
    {
      "cell_type": "code",
      "source": [
        "import collections\n",
        "CHL_Coutry_Product_Nmae_Dictionary_Upper_counter=collections.Counter(CHL_Coutry_Product_Nmae_Dictionary_Upper)\n"
      ],
      "metadata": {
        "id": "3RaNS-1LLZX1"
      },
      "id": "3RaNS-1LLZX1",
      "execution_count": null,
      "outputs": []
    },
    {
      "cell_type": "code",
      "source": [
        "from itertools import islice\n",
        "\n",
        "def take(n, iterable):\n",
        "    \"Return first n items of the iterable as a list\"\n",
        "    return list(islice(iterable, n))\n",
        "\n",
        "n_items = take(10, CHL_Coutry_Product_Nmae_Dictionary_Upper_counter.items())\n",
        "#print(CHL_Coutry_Product_Nmae_Dictionary_Upper_counter)"
      ],
      "metadata": {
        "id": "6Nlc_FfiVs4q"
      },
      "id": "6Nlc_FfiVs4q",
      "execution_count": null,
      "outputs": []
    },
    {
      "cell_type": "markdown",
      "source": [
        "try to count (only) the first word in each product name"
      ],
      "metadata": {
        "id": "GcTlSMDw5MxN"
      },
      "id": "GcTlSMDw5MxN"
    },
    {
      "cell_type": "code",
      "source": [
        "CHL_Coutry_Product_Nmae_Dictionary_Upper_First = []\n",
        "for i in range(0, len(CHL_Coutry_Product_Name)):\n",
        "  temp_element = CHL_Coutry_Product_Name[i].split()\n",
        "  temp_element_first = temp_element[0].upper()\n",
        "  CHL_Coutry_Product_Nmae_Dictionary_Upper_First.append(temp_element_first)\n"
      ],
      "metadata": {
        "id": "ro0BEZH-V202"
      },
      "id": "ro0BEZH-V202",
      "execution_count": null,
      "outputs": []
    },
    {
      "cell_type": "code",
      "source": [
        "len(CHL_Coutry_Product_Name)"
      ],
      "metadata": {
        "colab": {
          "base_uri": "https://localhost:8080/"
        },
        "id": "EkOsboGIYO_K",
        "outputId": "59ba0557-96ac-4c05-ae4f-c42346e15b6c"
      },
      "id": "EkOsboGIYO_K",
      "execution_count": null,
      "outputs": [
        {
          "output_type": "execute_result",
          "data": {
            "text/plain": [
              "3620"
            ]
          },
          "metadata": {},
          "execution_count": 34
        }
      ]
    },
    {
      "cell_type": "code",
      "source": [
        "len(CHL_Coutry_Product_Nmae_Dictionary_Upper_First)"
      ],
      "metadata": {
        "colab": {
          "base_uri": "https://localhost:8080/"
        },
        "id": "VFU8nFfRYPGZ",
        "outputId": "079e2014-d55c-4e44-f2f3-d173c4c5522c"
      },
      "id": "VFU8nFfRYPGZ",
      "execution_count": null,
      "outputs": [
        {
          "output_type": "execute_result",
          "data": {
            "text/plain": [
              "3620"
            ]
          },
          "metadata": {},
          "execution_count": 35
        }
      ]
    },
    {
      "cell_type": "code",
      "source": [
        "CHL_Coutry_Product_Name_First_Notunique = []\n",
        "CHL_Coutry_Product_Name_Notunique = CleanDataBase[CleanDataBase['Country Code'] == 'CHL']['Country Product Name'].tolist()\n",
        "for i in range(0, len(CHL_Coutry_Product_Name_Notunique)):\n",
        "  temp_element = []\n",
        "  temp_element = CHL_Coutry_Product_Name_Notunique[i].split(\" \")\n",
        "  temp_element_first = temp_element[0].upper()\n",
        "  CHL_Coutry_Product_Name_First_Notunique.append(temp_element_first)"
      ],
      "metadata": {
        "id": "Y4_oXNPEW8pV"
      },
      "id": "Y4_oXNPEW8pV",
      "execution_count": null,
      "outputs": []
    },
    {
      "cell_type": "code",
      "source": [
        "type(CHL_Coutry_Product_Name_Notunique)"
      ],
      "metadata": {
        "colab": {
          "base_uri": "https://localhost:8080/"
        },
        "id": "Zs3dUGbZYNHt",
        "outputId": "7c17dba7-4cbd-4585-db24-0a7d8db3658f"
      },
      "id": "Zs3dUGbZYNHt",
      "execution_count": null,
      "outputs": [
        {
          "output_type": "execute_result",
          "data": {
            "text/plain": [
              "list"
            ]
          },
          "metadata": {},
          "execution_count": 37
        }
      ]
    },
    {
      "cell_type": "code",
      "source": [
        "len(CHL_Coutry_Product_Name_Notunique)"
      ],
      "metadata": {
        "colab": {
          "base_uri": "https://localhost:8080/"
        },
        "id": "g-ab0jtF1z9h",
        "outputId": "bf5562ab-4496-4e0c-e0a6-2889e9d3336c"
      },
      "id": "g-ab0jtF1z9h",
      "execution_count": null,
      "outputs": [
        {
          "output_type": "execute_result",
          "data": {
            "text/plain": [
              "6899"
            ]
          },
          "metadata": {},
          "execution_count": 38
        }
      ]
    },
    {
      "cell_type": "markdown",
      "source": [
        "The result is not as expected "
      ],
      "metadata": {
        "id": "A-G6aWwpB_G1"
      },
      "id": "A-G6aWwpB_G1"
    },
    {
      "cell_type": "code",
      "source": [
        "CHL_Coutry_Product_Name_Notunique_counter=collections.Counter(CHL_Coutry_Product_Name_Notunique)\n",
        "#print(CHL_Coutry_Product_Name_Notunique_counter)"
      ],
      "metadata": {
        "id": "lA9uM1QaW8rZ"
      },
      "id": "lA9uM1QaW8rZ",
      "execution_count": null,
      "outputs": []
    },
    {
      "cell_type": "code",
      "source": [
        ""
      ],
      "metadata": {
        "id": "OvttXh344jY7"
      },
      "id": "OvttXh344jY7",
      "execution_count": null,
      "outputs": []
    },
    {
      "cell_type": "markdown",
      "source": [
        "# Part 2 (6/ 25 - 6/ 27)"
      ],
      "metadata": {
        "id": "2Zkcb6CX0TgY"
      },
      "id": "2Zkcb6CX0TgY"
    },
    {
      "cell_type": "markdown",
      "source": [
        "Deal with the Chile Product Name with duplication"
      ],
      "metadata": {
        "id": "nbZHkw_V7jzC"
      },
      "id": "nbZHkw_V7jzC"
    },
    {
      "cell_type": "code",
      "source": [
        "ChileProductNames_Perm = CleanDataBase[CleanDataBase['Country Code'] == 'CHL']['Country Product Name']\n",
        "ChileProductNames = []\n",
        "for i in ChileProductNames_Perm:\n",
        "  ChileProductNames.append(i.upper())\n",
        "\n",
        "#ChileProductNames"
      ],
      "metadata": {
        "id": "rgm4Ccli7fqF"
      },
      "id": "rgm4Ccli7fqF",
      "execution_count": null,
      "outputs": []
    },
    {
      "cell_type": "code",
      "source": [
        "len(ChileProductNames) # 6899"
      ],
      "metadata": {
        "id": "csNg39PkNaTg",
        "outputId": "542f571c-f8b3-4e3b-baab-2eb038cb5c3e",
        "colab": {
          "base_uri": "https://localhost:8080/"
        }
      },
      "id": "csNg39PkNaTg",
      "execution_count": null,
      "outputs": [
        {
          "output_type": "execute_result",
          "data": {
            "text/plain": [
              "6899"
            ]
          },
          "metadata": {},
          "execution_count": 59
        }
      ]
    },
    {
      "cell_type": "code",
      "source": [
        "import collections\n",
        "ChileProductNames_counter = collections.Counter(ChileProductNames)\n",
        "#ChileProductNames_counter"
      ],
      "metadata": {
        "id": "PFYY7SW6fV8O"
      },
      "id": "PFYY7SW6fV8O",
      "execution_count": null,
      "outputs": []
    },
    {
      "cell_type": "markdown",
      "source": [
        "Chile Product Name without duplication (Unique)"
      ],
      "metadata": {
        "id": "CobW1bElUcWz"
      },
      "id": "CobW1bElUcWz"
    },
    {
      "cell_type": "code",
      "source": [
        "ChileProductNames_Unique = []\n",
        "ChileProductNames_Unique_Temp = CleanDataBase[CleanDataBase['Country Code'] == 'CHL']['Country Product Name'].unique()\n",
        "for i in ChileProductNames_Unique_Temp:\n",
        "  ChileProductNames_Unique.append(i.upper())\n",
        "ChileProductNames_Unique\n",
        "len(ChileProductNames_Unique) #3620"
      ],
      "metadata": {
        "colab": {
          "base_uri": "https://localhost:8080/"
        },
        "id": "nF4hGQvu7fjF",
        "outputId": "3064af6e-b4f8-4ee3-c36c-f550ce713acd"
      },
      "id": "nF4hGQvu7fjF",
      "execution_count": null,
      "outputs": [
        {
          "output_type": "execute_result",
          "data": {
            "text/plain": [
              "3620"
            ]
          },
          "metadata": {},
          "execution_count": 61
        }
      ]
    },
    {
      "cell_type": "code",
      "source": [
        "ChileProductNames_Unique[:10]"
      ],
      "metadata": {
        "colab": {
          "base_uri": "https://localhost:8080/"
        },
        "id": "H2d5ySXsxOri",
        "outputId": "a9571429-83be-4afe-83dc-202400a52d21"
      },
      "id": "H2d5ySXsxOri",
      "execution_count": null,
      "outputs": [
        {
          "output_type": "execute_result",
          "data": {
            "text/plain": [
              "['DAPAGLIFLOZINA 10 MG CM REC',\n",
              " 'EMPAGLIFLOZINA 25 MG CM REC',\n",
              " 'EMPAGLIFOZINA 10 MG CM REC.',\n",
              " 'GLIBENCLAM./METFOR. 5/500 MG CM /CM REC',\n",
              " 'GLIBENCLAMIDA 5 MG CM/CM REC',\n",
              " 'INSU GLULIS SOL/INY 100UI/ML X DISPOSITI',\n",
              " 'INSUL ASPAR 100U/ML S/IN LAPIZ DESECH+AG',\n",
              " 'INSUL ASPAR 100U/ML S/IN LAPIZ REUTIL+AG',\n",
              " 'INSUL DEGLU 100U/ML S/IN LAPIZ DESECH+AG',\n",
              " 'INSUL DETEM 100U/ML S/IN LAPIZ DESECH+AG']"
            ]
          },
          "metadata": {},
          "execution_count": 62
        }
      ]
    },
    {
      "cell_type": "markdown",
      "source": [
        "The first product name of Chile product (With duplication)"
      ],
      "metadata": {
        "id": "LCGouZ4RVJMR"
      },
      "id": "LCGouZ4RVJMR"
    },
    {
      "cell_type": "code",
      "source": [
        "ChileProductNamesFirst = []\n",
        "for i in ChileProductNames:\n",
        "  ChileProductNamesFirst.append(i.split()[0])"
      ],
      "metadata": {
        "id": "uxV5HfFRg86J"
      },
      "id": "uxV5HfFRg86J",
      "execution_count": null,
      "outputs": []
    },
    {
      "cell_type": "markdown",
      "source": [
        "count the unique first product name"
      ],
      "metadata": {
        "id": "iGhAh8cIsyNA"
      },
      "id": "iGhAh8cIsyNA"
    },
    {
      "cell_type": "code",
      "source": [
        "# count the number of first name (Unique)\n",
        "from collections import Counter\n",
        "#Counter(ChileProductNamesFirst).keys() # equals to list(set(words))"
      ],
      "metadata": {
        "id": "qaLwHiyMg311"
      },
      "id": "qaLwHiyMg311",
      "execution_count": null,
      "outputs": []
    },
    {
      "cell_type": "code",
      "source": [
        "Counter(ChileProductNamesFirst).values() # counts the elements' frequency"
      ],
      "metadata": {
        "id": "guIG_QTOg3ed",
        "colab": {
          "base_uri": "https://localhost:8080/"
        },
        "outputId": "5f808bcc-acbf-4c96-b187-9589e1e9e8b7"
      },
      "id": "guIG_QTOg3ed",
      "execution_count": null,
      "outputs": [
        {
          "output_type": "execute_result",
          "data": {
            "text/plain": [
              "dict_values([35, 14, 17, 6, 397, 3, 39, 478, 20, 5, 10, 1313, 17, 9, 11, 5, 2, 5, 3, 3, 2, 2, 2, 1, 1, 2, 48, 29, 16, 92, 48, 20, 75, 1, 2, 1, 4, 18, 6, 19, 37, 10, 10, 1, 2, 19, 64, 44, 5, 7, 37, 1, 1, 1, 1, 1, 1, 2, 6, 1, 1, 1, 1, 1, 1, 1, 1, 2, 1, 2, 2, 1, 1, 1, 9, 2, 1, 2, 1, 1, 4, 38, 25, 1, 2, 3, 1, 7, 10, 5, 9, 16, 2, 3, 15, 14, 2, 4, 4, 2, 3, 4, 6, 1, 1, 3, 1, 1, 3, 4, 4, 9, 119, 1, 6, 1, 1, 10, 1, 2, 1, 7, 5, 3, 1, 1, 1, 1, 2, 3, 9, 1, 1, 1, 2, 6, 5, 2, 1, 3, 2, 2, 1, 2, 2, 2, 3, 2, 1, 4, 2, 1, 2, 2, 2, 2, 1, 2, 2, 5, 1, 3, 1, 1, 1, 1, 6, 2, 1, 3, 2, 1, 1, 1, 1, 1, 1, 2, 1, 1, 2, 1, 1, 14, 1, 2, 1, 1, 1, 5, 2, 3, 1, 14, 65, 1, 1, 2, 1, 4, 1, 1, 1, 1, 2, 1, 1, 1, 1, 1, 1, 1, 1, 1, 2, 2, 1, 1, 1, 1, 1, 1, 1, 3, 1, 2, 2, 2, 2, 1, 1, 1, 1, 1, 1, 1, 1, 1, 1, 1, 1, 1, 1, 1, 1, 1, 1, 1, 1, 1, 1, 3, 1, 2, 1, 1, 1, 1, 2, 3, 2, 1, 1, 2, 1, 1, 1, 1, 1, 1, 2, 1, 1, 1, 1, 1, 1, 1, 1, 1, 1, 1, 1, 1, 2, 1, 1, 1, 1, 1, 1, 1, 1, 1, 1, 1, 1, 1, 1, 2, 2, 1, 1, 1, 1, 5, 1, 2, 1, 1, 4, 1, 2, 1, 3, 1, 1, 1, 1, 1, 1, 5, 1, 1, 1, 1, 1, 2, 1, 1, 1, 1, 1, 1, 1, 1, 1, 1, 1, 1, 1, 1, 1, 819, 480, 211, 3, 1, 8, 20, 31, 1, 20, 15, 23, 39, 3, 1, 18, 8, 5, 25, 1, 1, 4, 8, 3, 5, 3, 2, 1, 6, 3, 2, 2, 2, 17, 4, 5, 1, 1, 1, 1, 1, 4, 1, 2, 1, 1, 2, 1, 1, 1, 2, 36, 1, 2, 29, 2, 2, 1, 1, 2, 1, 1, 1, 1, 3, 2, 1, 1, 1, 1, 3, 2, 2, 4, 7, 1, 1, 1, 1, 1, 1, 1, 1, 1, 1, 1, 1, 28, 2, 1, 1, 2, 1, 1, 3, 1, 13, 1, 2, 1, 1, 2, 1, 2, 1, 1, 2, 1, 1, 1, 1, 1, 1, 1, 2, 1, 1, 1, 1, 2, 1, 1, 1, 1, 2, 1, 1, 1, 1, 2, 1, 1, 1, 1, 1, 2, 13, 4, 7, 33, 11, 4, 3, 37, 41, 2, 14, 15, 21, 4, 6, 8, 7, 11, 17, 13, 9, 29, 1, 30, 29, 20, 17, 6, 12, 16, 11, 46, 14, 5, 18, 8, 11, 8, 16, 14, 4, 25, 20, 3, 4, 6, 20, 57, 8, 12, 10, 7, 35, 4, 30, 5, 2, 9, 3, 11, 3, 22, 3, 10, 5, 6, 2, 5, 6, 4, 4, 4, 8, 15, 7, 2, 4, 7, 22, 6, 1])"
            ]
          },
          "metadata": {},
          "execution_count": 65
        }
      ]
    },
    {
      "cell_type": "code",
      "source": [
        "ChileProductNamesFirst_Unique = list(set(ChileProductNamesFirst))\n",
        "len(ChileProductNamesFirst_Unique) # 560"
      ],
      "metadata": {
        "id": "taxXZ0eEg22h",
        "colab": {
          "base_uri": "https://localhost:8080/"
        },
        "outputId": "e35a8715-1ff8-4f26-ea32-690d92f3b845"
      },
      "id": "taxXZ0eEg22h",
      "execution_count": null,
      "outputs": [
        {
          "output_type": "execute_result",
          "data": {
            "text/plain": [
              "560"
            ]
          },
          "metadata": {},
          "execution_count": 13
        }
      ]
    },
    {
      "cell_type": "markdown",
      "source": [
        "select the product name with first name without numbers"
      ],
      "metadata": {
        "id": "4ba0X5PBs_jT"
      },
      "id": "4ba0X5PBs_jT"
    },
    {
      "cell_type": "code",
      "source": [
        "ChileProductNamesFirst_Unique_Verbal = []\n",
        "\n",
        "VerbalSet = ['A', 'B', 'C', 'D', 'E', 'F', 'G', 'H', 'I', 'J', 'K', 'L', 'M', 'N', 'O', 'P', 'Q', 'R', 'S', 'T', 'U',\n",
        "             'V', 'W', 'X', 'Y', 'Z']\n",
        "\n",
        "for i in ChileProductNamesFirst_Unique:\n",
        "  if i[0] in VerbalSet:\n",
        "    ChileProductNamesFirst_Unique_Verbal.append(i)\n",
        "  "
      ],
      "metadata": {
        "id": "t_kU_vSFe_Bl"
      },
      "id": "t_kU_vSFe_Bl",
      "execution_count": null,
      "outputs": []
    },
    {
      "cell_type": "code",
      "source": [
        "len(ChileProductNamesFirst_Unique_Verbal) #302"
      ],
      "metadata": {
        "id": "JMXtpgWe7eZb",
        "colab": {
          "base_uri": "https://localhost:8080/"
        },
        "outputId": "03f8b098-16e0-4e9b-91c5-b10c8a44c49d"
      },
      "id": "JMXtpgWe7eZb",
      "execution_count": null,
      "outputs": [
        {
          "output_type": "execute_result",
          "data": {
            "text/plain": [
              "302"
            ]
          },
          "metadata": {},
          "execution_count": 67
        }
      ]
    },
    {
      "cell_type": "code",
      "source": [
        "ChileProductNamesFirst_Unique_Verbal[:10]"
      ],
      "metadata": {
        "id": "1vNcx0UQh6kp",
        "colab": {
          "base_uri": "https://localhost:8080/"
        },
        "outputId": "34980131-bd25-4064-e928-f15544ffc0be"
      },
      "id": "1vNcx0UQh6kp",
      "execution_count": null,
      "outputs": [
        {
          "output_type": "execute_result",
          "data": {
            "text/plain": [
              "['JALRA',\n",
              " 'LOSARTÁN',\n",
              " 'M01D0041',\n",
              " 'LINAGLIPTINA/CLORHIDRATO',\n",
              " 'MALEATO',\n",
              " 'M01D0114',\n",
              " 'FACT',\n",
              " 'CISPLATINO',\n",
              " 'TEN',\n",
              " 'METFOMINA']"
            ]
          },
          "metadata": {},
          "execution_count": 68
        }
      ]
    },
    {
      "cell_type": "code",
      "source": [
        "ChileProductNames_Unique[0].split()"
      ],
      "metadata": {
        "colab": {
          "base_uri": "https://localhost:8080/"
        },
        "id": "mqK28O_UntGI",
        "outputId": "e0646d65-5d38-4d8a-a574-36d46bdc826c"
      },
      "id": "mqK28O_UntGI",
      "execution_count": null,
      "outputs": [
        {
          "output_type": "execute_result",
          "data": {
            "text/plain": [
              "['DAPAGLIFLOZINA', '10', 'MG', 'CM', 'REC']"
            ]
          },
          "metadata": {},
          "execution_count": 69
        }
      ]
    },
    {
      "cell_type": "code",
      "source": [
        "ChileProductName_List = []\n",
        "for j in ChileProductNamesFirst_Unique_Verbal:\n",
        "  temp_list = []\n",
        "  for i in ChileProductNames_Unique:\n",
        "     if i.split()[0] == j:\n",
        "        temp_list.append(i)\n",
        "  ChileProductName_List.append(temp_list)"
      ],
      "metadata": {
        "id": "72J7-N51xG8c"
      },
      "id": "72J7-N51xG8c",
      "execution_count": null,
      "outputs": []
    },
    {
      "cell_type": "code",
      "source": [
        "ChileProductName_List[:3]"
      ],
      "metadata": {
        "colab": {
          "base_uri": "https://localhost:8080/"
        },
        "id": "YALZNVadxG1J",
        "outputId": "55bf148b-7e31-4bfb-86d4-830632727caf"
      },
      "id": "YALZNVadxG1J",
      "execution_count": null,
      "outputs": [
        {
          "output_type": "execute_result",
          "data": {
            "text/plain": [
              "[['JALRA M 50/850 MG',\n",
              "  'JALRA M 50/1000MG',\n",
              "  'JALRA M 50/850MG',\n",
              "  'JALRA M 50/1000 MG X 28 COMP',\n",
              "  'JALRA (VILDAGLIPTINA 50MG)'],\n",
              " ['LOSARTÁN 50MG',\n",
              "  'LOSARTÁN 50 MG COMPRIMIDO RECUBIERTO, RANURADO, BIOEQUIVALENTE ENVASE CLÍNICO DE 1.000 COMPRIMIDOS CON SOBRES DE 10 COMPRIMIDOS EN SU INTERIOR.',\n",
              "  'LOSARTÁN 50MG COMPRIMIDO ENVASADO EN BLISTER. COTIZAR POR COMPRIMIDO.',\n",
              "  'LOSARTÁN 50 MG CM',\n",
              "  'LOSARTÁN POTÁSICO; COMPRIMIDO 50 MG.',\n",
              "  'LOSARTÁN 50 MG COMPRIMIDOS - VENCIMIENTO MÍNIMO DE 12 (INDIVIDUALIZAR VENCIMIENTO)',\n",
              "  'LOSARTÁN POTÁSICO 50 MG. COMPRIMIDOS RECUBIERTOS.',\n",
              "  'LOSARTÁN 50 MG. CM.',\n",
              "  'LOSARTÁN POTÁSICO 50 MG COMPRIMIDO._X000D__X000D__X000D__X000D__X000D__X000D_\\nVENCIMIENTO SUPERIOR A 1 AÑO AL MOMENTO DE LA RECEPCIÓN._X000D__X000D__X000D__X000D__X000D__X000D_\\n',\n",
              "  'LOSARTÁN POTÁSICO COMPRIMIDO 50 MG.',\n",
              "  'LOSARTÁN POTÁSICO, COMPRIMIDOS RECUBIERTOS 50MG.',\n",
              "  'LOSARTÁN 50MG. COMPRIMIDO RECUBIERTO, SEGÚN ESPECIFICACIONES EN BASES TÉCNICAS',\n",
              "  'LOSARTÁN POTÁSICO 50 MG COMPRIMIDO',\n",
              "  'LOSARTÁN 50 MG.',\n",
              "  'LOSARTÁN 50MG COMPRIMIDOS',\n",
              "  'LOSARTÁN 50 MG_X000D__X000D__X000D__X000D__X000D__X000D_\\n',\n",
              "  'LOSARTÁN POTÁSICO COMPRIMIDOS RECUBIERTOS 50 MG',\n",
              "  'LOSARTÁN 50MG',\n",
              "  'LOSARTÁN 50 MG: 30.000 COMPRIMIDOS',\n",
              "  'LOSARTÁN 50 MG',\n",
              "  'LOSARTÁN  50 MG. CM/CM. REC.',\n",
              "  'LOSARTÁN 50 MG COMPRIMIDO RECUBIERTO, RANURADO, BIOEQUIVALENTE, ENVASE CLÍNICO'],\n",
              " ['M01D0041 METFORMINA 850MG COMP.']]"
            ]
          },
          "metadata": {},
          "execution_count": 71
        }
      ]
    },
    {
      "cell_type": "code",
      "source": [
        "len(ChileProductName_List)"
      ],
      "metadata": {
        "colab": {
          "base_uri": "https://localhost:8080/"
        },
        "id": "AtTN-qXzxGsk",
        "outputId": "6e8442d7-cd03-4558-eb5a-155d6fc96d98"
      },
      "id": "AtTN-qXzxGsk",
      "execution_count": null,
      "outputs": [
        {
          "output_type": "execute_result",
          "data": {
            "text/plain": [
              "302"
            ]
          },
          "metadata": {},
          "execution_count": 72
        }
      ]
    },
    {
      "cell_type": "code",
      "source": [
        "ChileProductName_List_Length = []\n",
        "for i in ChileProductName_List:\n",
        "  ChileProductName_List_Length.append(len(i))"
      ],
      "metadata": {
        "id": "Y-GtsxMsxGeS"
      },
      "id": "Y-GtsxMsxGeS",
      "execution_count": null,
      "outputs": []
    },
    {
      "cell_type": "code",
      "source": [
        "# count product name whose number is 1\n",
        "count_one = 0\n",
        "for i in ChileProductName_List:\n",
        "  if len(i) == 1:\n",
        "    count_one += 1\n",
        "count_one #153\n",
        "# therefore, there are 153 product names whose number is one, 149 products have more than 1 kinds"
      ],
      "metadata": {
        "colab": {
          "base_uri": "https://localhost:8080/"
        },
        "id": "QsQt5QG1oR9E",
        "outputId": "e599d454-1d10-420c-b070-cefb73aeb0b9"
      },
      "id": "QsQt5QG1oR9E",
      "execution_count": null,
      "outputs": [
        {
          "output_type": "execute_result",
          "data": {
            "text/plain": [
              "153"
            ]
          },
          "metadata": {},
          "execution_count": 29
        }
      ]
    },
    {
      "cell_type": "code",
      "source": [
        "# create a new list which contents the product names whose length is larger than 2\n",
        "ChileProductName_List_2 = []\n",
        "for i in ChileProductName_List:\n",
        "  if len(i) > 1:\n",
        "    ChileProductName_List_2.append(i)"
      ],
      "metadata": {
        "id": "lcYlJsy-pCw0"
      },
      "id": "lcYlJsy-pCw0",
      "execution_count": null,
      "outputs": []
    },
    {
      "cell_type": "code",
      "source": [
        "ChileProductName_List_2[0]"
      ],
      "metadata": {
        "colab": {
          "base_uri": "https://localhost:8080/"
        },
        "id": "scw-jnm1qH7-",
        "outputId": "d12977c8-4c32-47b0-ffa0-c3730cc77cac"
      },
      "id": "scw-jnm1qH7-",
      "execution_count": null,
      "outputs": [
        {
          "output_type": "execute_result",
          "data": {
            "text/plain": [
              "['JALRA M 50/850 MG',\n",
              " 'JALRA M 50/1000MG',\n",
              " 'JALRA M 50/850MG',\n",
              " 'JALRA M 50/1000 MG X 28 COMP',\n",
              " 'JALRA (VILDAGLIPTINA 50MG)']"
            ]
          },
          "metadata": {},
          "execution_count": 32
        }
      ]
    },
    {
      "cell_type": "code",
      "source": [
        "type(ChileProductName_List_2)"
      ],
      "metadata": {
        "colab": {
          "base_uri": "https://localhost:8080/"
        },
        "id": "Vh4miHPYyfeA",
        "outputId": "16da1c91-1645-478e-c383-4d1282642047"
      },
      "id": "Vh4miHPYyfeA",
      "execution_count": null,
      "outputs": [
        {
          "output_type": "execute_result",
          "data": {
            "text/plain": [
              "list"
            ]
          },
          "metadata": {},
          "execution_count": 33
        }
      ]
    },
    {
      "cell_type": "code",
      "source": [
        "ChileProductName_List_2_count = []\n",
        "for i in ChileProductName_List_2:\n",
        "  ChileProductName_List_2_count.append(len(i))"
      ],
      "metadata": {
        "id": "sSJ1fkREyfSU"
      },
      "id": "sSJ1fkREyfSU",
      "execution_count": null,
      "outputs": []
    },
    {
      "cell_type": "code",
      "source": [
        "sum(ChileProductName_List_2_count)"
      ],
      "metadata": {
        "id": "TqSQpWazyfFr",
        "colab": {
          "base_uri": "https://localhost:8080/"
        },
        "outputId": "e587b6d4-88ec-4754-e791-e5f406f7a2b7"
      },
      "id": "TqSQpWazyfFr",
      "execution_count": null,
      "outputs": [
        {
          "output_type": "execute_result",
          "data": {
            "text/plain": [
              "3118"
            ]
          },
          "metadata": {},
          "execution_count": 35
        }
      ]
    },
    {
      "cell_type": "code",
      "source": [
        "n = sum(ChileProductName_List_2_count) + 153"
      ],
      "metadata": {
        "id": "_uPJyd50yexR"
      },
      "id": "_uPJyd50yexR",
      "execution_count": null,
      "outputs": []
    },
    {
      "cell_type": "code",
      "source": [
        "country_name_Chile = ['Chile'] * n"
      ],
      "metadata": {
        "id": "nmR12ZFTeeqm"
      },
      "id": "nmR12ZFTeeqm",
      "execution_count": null,
      "outputs": []
    },
    {
      "cell_type": "code",
      "source": [
        "ChileProductName_List_count = []\n",
        "for i in ChileProductName_List:\n",
        "  ChileProductName_List_count.append(len(i))"
      ],
      "metadata": {
        "id": "DWac9PFAel5O"
      },
      "id": "DWac9PFAel5O",
      "execution_count": null,
      "outputs": []
    },
    {
      "cell_type": "code",
      "source": [
        "len(ChileProductNamesFirst_Unique_Verbal)"
      ],
      "metadata": {
        "colab": {
          "base_uri": "https://localhost:8080/"
        },
        "id": "zzJlBFhyptpx",
        "outputId": "e917aee4-1ae3-4a91-d568-1b6044f1dc0e"
      },
      "id": "zzJlBFhyptpx",
      "execution_count": null,
      "outputs": [
        {
          "output_type": "execute_result",
          "data": {
            "text/plain": [
              "302"
            ]
          },
          "metadata": {},
          "execution_count": 39
        }
      ]
    },
    {
      "cell_type": "code",
      "source": [
        "ChileProductName_FirstName_Class = []\n",
        "\n",
        "count = 0\n",
        "while count < 302:\n",
        "  for i in range(0, ChileProductName_List_count[count]):\n",
        "    ChileProductName_FirstName_Class.append(ChileProductNamesFirst_Unique_Verbal[count])\n",
        "  count += 1\n"
      ],
      "metadata": {
        "id": "HmWp6v-WelyX"
      },
      "id": "HmWp6v-WelyX",
      "execution_count": null,
      "outputs": []
    },
    {
      "cell_type": "code",
      "source": [
        "ChileProductName_FirstName_Class[:15]"
      ],
      "metadata": {
        "colab": {
          "base_uri": "https://localhost:8080/"
        },
        "id": "uAQaMk_Jslgj",
        "outputId": "032d8505-1803-4a97-f088-1cd3c4946437"
      },
      "id": "uAQaMk_Jslgj",
      "execution_count": null,
      "outputs": [
        {
          "output_type": "execute_result",
          "data": {
            "text/plain": [
              "['JALRA',\n",
              " 'JALRA',\n",
              " 'JALRA',\n",
              " 'JALRA',\n",
              " 'JALRA',\n",
              " 'LOSARTÁN',\n",
              " 'LOSARTÁN',\n",
              " 'LOSARTÁN',\n",
              " 'LOSARTÁN',\n",
              " 'LOSARTÁN',\n",
              " 'LOSARTÁN',\n",
              " 'LOSARTÁN',\n",
              " 'LOSARTÁN',\n",
              " 'LOSARTÁN',\n",
              " 'LOSARTÁN']"
            ]
          },
          "metadata": {},
          "execution_count": 41
        }
      ]
    },
    {
      "cell_type": "code",
      "source": [
        "ChileProductName_FullName_List = []\n",
        "for i in ChileProductName_List:\n",
        "  for j in i:\n",
        "    ChileProductName_FullName_List.append(j)"
      ],
      "metadata": {
        "id": "YZYL-vPQelc2"
      },
      "id": "YZYL-vPQelc2",
      "execution_count": null,
      "outputs": []
    },
    {
      "cell_type": "code",
      "source": [
        "ChileProductName_FullName_List[:10]"
      ],
      "metadata": {
        "colab": {
          "base_uri": "https://localhost:8080/"
        },
        "id": "OYSuyusVsj7t",
        "outputId": "13db786f-8967-4f56-8739-b80a50366734"
      },
      "id": "OYSuyusVsj7t",
      "execution_count": null,
      "outputs": [
        {
          "output_type": "execute_result",
          "data": {
            "text/plain": [
              "['JALRA M 50/850 MG',\n",
              " 'JALRA M 50/1000MG',\n",
              " 'JALRA M 50/850MG',\n",
              " 'JALRA M 50/1000 MG X 28 COMP',\n",
              " 'JALRA (VILDAGLIPTINA 50MG)',\n",
              " 'LOSARTÁN 50MG',\n",
              " 'LOSARTÁN 50 MG COMPRIMIDO RECUBIERTO, RANURADO, BIOEQUIVALENTE ENVASE CLÍNICO DE 1.000 COMPRIMIDOS CON SOBRES DE 10 COMPRIMIDOS EN SU INTERIOR.',\n",
              " 'LOSARTÁN 50MG COMPRIMIDO ENVASADO EN BLISTER. COTIZAR POR COMPRIMIDO.',\n",
              " 'LOSARTÁN 50 MG CM',\n",
              " 'LOSARTÁN POTÁSICO; COMPRIMIDO 50 MG.']"
            ]
          },
          "metadata": {},
          "execution_count": 43
        }
      ]
    },
    {
      "cell_type": "code",
      "source": [
        "Chiledata = {\"Country\": country_name_Chile, \"Product First Name\": ChileProductName_FirstName_Class, \"Product Full Name\": ChileProductName_FullName_List}"
      ],
      "metadata": {
        "id": "VZQ7oHP3elSH"
      },
      "id": "VZQ7oHP3elSH",
      "execution_count": null,
      "outputs": []
    },
    {
      "cell_type": "code",
      "source": [
        "Chiledata_df = pd.DataFrame(Chiledata)"
      ],
      "metadata": {
        "id": "vj_WZvievAss"
      },
      "id": "vj_WZvievAss",
      "execution_count": null,
      "outputs": []
    },
    {
      "cell_type": "code",
      "source": [
        "Chiledata_df[:10]"
      ],
      "metadata": {
        "colab": {
          "base_uri": "https://localhost:8080/",
          "height": 363
        },
        "id": "dgrbTF-WvAkX",
        "outputId": "947ec2e3-1a95-48be-e14c-4d2c3bf2a062"
      },
      "id": "dgrbTF-WvAkX",
      "execution_count": null,
      "outputs": [
        {
          "output_type": "execute_result",
          "data": {
            "text/plain": [
              "  Country Product First Name  \\\n",
              "0   Chile              JALRA   \n",
              "1   Chile              JALRA   \n",
              "2   Chile              JALRA   \n",
              "3   Chile              JALRA   \n",
              "4   Chile              JALRA   \n",
              "5   Chile           LOSARTÁN   \n",
              "6   Chile           LOSARTÁN   \n",
              "7   Chile           LOSARTÁN   \n",
              "8   Chile           LOSARTÁN   \n",
              "9   Chile           LOSARTÁN   \n",
              "\n",
              "                                   Product Full Name  \n",
              "0                                  JALRA M 50/850 MG  \n",
              "1                                  JALRA M 50/1000MG  \n",
              "2                                   JALRA M 50/850MG  \n",
              "3                       JALRA M 50/1000 MG X 28 COMP  \n",
              "4                         JALRA (VILDAGLIPTINA 50MG)  \n",
              "5                                      LOSARTÁN 50MG  \n",
              "6  LOSARTÁN 50 MG COMPRIMIDO RECUBIERTO, RANURADO...  \n",
              "7  LOSARTÁN 50MG COMPRIMIDO ENVASADO EN BLISTER. ...  \n",
              "8                                  LOSARTÁN 50 MG CM  \n",
              "9               LOSARTÁN POTÁSICO; COMPRIMIDO 50 MG.  "
            ],
            "text/html": [
              "\n",
              "  <div id=\"df-5a340215-cab4-4331-ad06-23521ec7953c\">\n",
              "    <div class=\"colab-df-container\">\n",
              "      <div>\n",
              "<style scoped>\n",
              "    .dataframe tbody tr th:only-of-type {\n",
              "        vertical-align: middle;\n",
              "    }\n",
              "\n",
              "    .dataframe tbody tr th {\n",
              "        vertical-align: top;\n",
              "    }\n",
              "\n",
              "    .dataframe thead th {\n",
              "        text-align: right;\n",
              "    }\n",
              "</style>\n",
              "<table border=\"1\" class=\"dataframe\">\n",
              "  <thead>\n",
              "    <tr style=\"text-align: right;\">\n",
              "      <th></th>\n",
              "      <th>Country</th>\n",
              "      <th>Product First Name</th>\n",
              "      <th>Product Full Name</th>\n",
              "    </tr>\n",
              "  </thead>\n",
              "  <tbody>\n",
              "    <tr>\n",
              "      <th>0</th>\n",
              "      <td>Chile</td>\n",
              "      <td>JALRA</td>\n",
              "      <td>JALRA M 50/850 MG</td>\n",
              "    </tr>\n",
              "    <tr>\n",
              "      <th>1</th>\n",
              "      <td>Chile</td>\n",
              "      <td>JALRA</td>\n",
              "      <td>JALRA M 50/1000MG</td>\n",
              "    </tr>\n",
              "    <tr>\n",
              "      <th>2</th>\n",
              "      <td>Chile</td>\n",
              "      <td>JALRA</td>\n",
              "      <td>JALRA M 50/850MG</td>\n",
              "    </tr>\n",
              "    <tr>\n",
              "      <th>3</th>\n",
              "      <td>Chile</td>\n",
              "      <td>JALRA</td>\n",
              "      <td>JALRA M 50/1000 MG X 28 COMP</td>\n",
              "    </tr>\n",
              "    <tr>\n",
              "      <th>4</th>\n",
              "      <td>Chile</td>\n",
              "      <td>JALRA</td>\n",
              "      <td>JALRA (VILDAGLIPTINA 50MG)</td>\n",
              "    </tr>\n",
              "    <tr>\n",
              "      <th>5</th>\n",
              "      <td>Chile</td>\n",
              "      <td>LOSARTÁN</td>\n",
              "      <td>LOSARTÁN 50MG</td>\n",
              "    </tr>\n",
              "    <tr>\n",
              "      <th>6</th>\n",
              "      <td>Chile</td>\n",
              "      <td>LOSARTÁN</td>\n",
              "      <td>LOSARTÁN 50 MG COMPRIMIDO RECUBIERTO, RANURADO...</td>\n",
              "    </tr>\n",
              "    <tr>\n",
              "      <th>7</th>\n",
              "      <td>Chile</td>\n",
              "      <td>LOSARTÁN</td>\n",
              "      <td>LOSARTÁN 50MG COMPRIMIDO ENVASADO EN BLISTER. ...</td>\n",
              "    </tr>\n",
              "    <tr>\n",
              "      <th>8</th>\n",
              "      <td>Chile</td>\n",
              "      <td>LOSARTÁN</td>\n",
              "      <td>LOSARTÁN 50 MG CM</td>\n",
              "    </tr>\n",
              "    <tr>\n",
              "      <th>9</th>\n",
              "      <td>Chile</td>\n",
              "      <td>LOSARTÁN</td>\n",
              "      <td>LOSARTÁN POTÁSICO; COMPRIMIDO 50 MG.</td>\n",
              "    </tr>\n",
              "  </tbody>\n",
              "</table>\n",
              "</div>\n",
              "      <button class=\"colab-df-convert\" onclick=\"convertToInteractive('df-5a340215-cab4-4331-ad06-23521ec7953c')\"\n",
              "              title=\"Convert this dataframe to an interactive table.\"\n",
              "              style=\"display:none;\">\n",
              "        \n",
              "  <svg xmlns=\"http://www.w3.org/2000/svg\" height=\"24px\"viewBox=\"0 0 24 24\"\n",
              "       width=\"24px\">\n",
              "    <path d=\"M0 0h24v24H0V0z\" fill=\"none\"/>\n",
              "    <path d=\"M18.56 5.44l.94 2.06.94-2.06 2.06-.94-2.06-.94-.94-2.06-.94 2.06-2.06.94zm-11 1L8.5 8.5l.94-2.06 2.06-.94-2.06-.94L8.5 2.5l-.94 2.06-2.06.94zm10 10l.94 2.06.94-2.06 2.06-.94-2.06-.94-.94-2.06-.94 2.06-2.06.94z\"/><path d=\"M17.41 7.96l-1.37-1.37c-.4-.4-.92-.59-1.43-.59-.52 0-1.04.2-1.43.59L10.3 9.45l-7.72 7.72c-.78.78-.78 2.05 0 2.83L4 21.41c.39.39.9.59 1.41.59.51 0 1.02-.2 1.41-.59l7.78-7.78 2.81-2.81c.8-.78.8-2.07 0-2.86zM5.41 20L4 18.59l7.72-7.72 1.47 1.35L5.41 20z\"/>\n",
              "  </svg>\n",
              "      </button>\n",
              "      \n",
              "  <style>\n",
              "    .colab-df-container {\n",
              "      display:flex;\n",
              "      flex-wrap:wrap;\n",
              "      gap: 12px;\n",
              "    }\n",
              "\n",
              "    .colab-df-convert {\n",
              "      background-color: #E8F0FE;\n",
              "      border: none;\n",
              "      border-radius: 50%;\n",
              "      cursor: pointer;\n",
              "      display: none;\n",
              "      fill: #1967D2;\n",
              "      height: 32px;\n",
              "      padding: 0 0 0 0;\n",
              "      width: 32px;\n",
              "    }\n",
              "\n",
              "    .colab-df-convert:hover {\n",
              "      background-color: #E2EBFA;\n",
              "      box-shadow: 0px 1px 2px rgba(60, 64, 67, 0.3), 0px 1px 3px 1px rgba(60, 64, 67, 0.15);\n",
              "      fill: #174EA6;\n",
              "    }\n",
              "\n",
              "    [theme=dark] .colab-df-convert {\n",
              "      background-color: #3B4455;\n",
              "      fill: #D2E3FC;\n",
              "    }\n",
              "\n",
              "    [theme=dark] .colab-df-convert:hover {\n",
              "      background-color: #434B5C;\n",
              "      box-shadow: 0px 1px 3px 1px rgba(0, 0, 0, 0.15);\n",
              "      filter: drop-shadow(0px 1px 2px rgba(0, 0, 0, 0.3));\n",
              "      fill: #FFFFFF;\n",
              "    }\n",
              "  </style>\n",
              "\n",
              "      <script>\n",
              "        const buttonEl =\n",
              "          document.querySelector('#df-5a340215-cab4-4331-ad06-23521ec7953c button.colab-df-convert');\n",
              "        buttonEl.style.display =\n",
              "          google.colab.kernel.accessAllowed ? 'block' : 'none';\n",
              "\n",
              "        async function convertToInteractive(key) {\n",
              "          const element = document.querySelector('#df-5a340215-cab4-4331-ad06-23521ec7953c');\n",
              "          const dataTable =\n",
              "            await google.colab.kernel.invokeFunction('convertToInteractive',\n",
              "                                                     [key], {});\n",
              "          if (!dataTable) return;\n",
              "\n",
              "          const docLinkHtml = 'Like what you see? Visit the ' +\n",
              "            '<a target=\"_blank\" href=https://colab.research.google.com/notebooks/data_table.ipynb>data table notebook</a>'\n",
              "            + ' to learn more about interactive tables.';\n",
              "          element.innerHTML = '';\n",
              "          dataTable['output_type'] = 'display_data';\n",
              "          await google.colab.output.renderOutput(dataTable, element);\n",
              "          const docLink = document.createElement('div');\n",
              "          docLink.innerHTML = docLinkHtml;\n",
              "          element.appendChild(docLink);\n",
              "        }\n",
              "      </script>\n",
              "    </div>\n",
              "  </div>\n",
              "  "
            ]
          },
          "metadata": {},
          "execution_count": 46
        }
      ]
    },
    {
      "cell_type": "code",
      "source": [
        "Chiledata_df.to_excel(\"DrugDataCleaning.xlsx\", sheet_name = 'Chile Data')  "
      ],
      "metadata": {
        "id": "gqZANT6GvAby"
      },
      "id": "gqZANT6GvAby",
      "execution_count": null,
      "outputs": []
    },
    {
      "cell_type": "code",
      "source": [
        ""
      ],
      "metadata": {
        "id": "ULb9JvElCvjC"
      },
      "id": "ULb9JvElCvjC",
      "execution_count": null,
      "outputs": []
    },
    {
      "cell_type": "markdown",
      "source": [
        "# Part 3 --- 7/ 4 - 7/ 6"
      ],
      "metadata": {
        "id": "b6LTz1uQCulu"
      },
      "id": "b6LTz1uQCulu"
    },
    {
      "cell_type": "code",
      "source": [
        "# read into the Chile Drug Data get from step 2\n",
        "import pandas as pd\n",
        "ChileDrugData = pd.read_excel('DrugDataCleaning.xlsx')"
      ],
      "metadata": {
        "id": "oFSS6Y_jvAQA"
      },
      "id": "oFSS6Y_jvAQA",
      "execution_count": 23,
      "outputs": []
    },
    {
      "cell_type": "code",
      "source": [
        "ChileProductFirstName = ChileDrugData['Product First Name'].unique()"
      ],
      "metadata": {
        "id": "eDJ1qO0CGUW9"
      },
      "id": "eDJ1qO0CGUW9",
      "execution_count": 24,
      "outputs": []
    },
    {
      "cell_type": "code",
      "source": [
        "# the number of drugs class (according to the first name of drug)\n",
        "len(ChileProductFirstName)"
      ],
      "metadata": {
        "colab": {
          "base_uri": "https://localhost:8080/"
        },
        "id": "a9ErpQPBCsu0",
        "outputId": "ee9372b4-c8df-4d49-ec58-9bfecafd661b"
      },
      "id": "a9ErpQPBCsu0",
      "execution_count": 25,
      "outputs": [
        {
          "output_type": "execute_result",
          "data": {
            "text/plain": [
              "302"
            ]
          },
          "metadata": {},
          "execution_count": 25
        }
      ]
    },
    {
      "cell_type": "markdown",
      "source": [
        "create a new data frame which contents the first product names and the determine (YES/NO) "
      ],
      "metadata": {
        "id": "SPOWi462o--G"
      },
      "id": "SPOWi462o--G"
    },
    {
      "cell_type": "code",
      "source": [
        "FirstNameTF = [''] * len(ChileProductFirstName) "
      ],
      "metadata": {
        "id": "97BvO0vlCsjW"
      },
      "id": "97BvO0vlCsjW",
      "execution_count": 26,
      "outputs": []
    },
    {
      "cell_type": "code",
      "source": [
        "FirstNameTFData = {\"ChileProductFirstName\":ChileProductFirstName, \"FirstNameTF\":FirstNameTF}"
      ],
      "metadata": {
        "id": "NdhS7hxQCsSp"
      },
      "id": "NdhS7hxQCsSp",
      "execution_count": 27,
      "outputs": []
    },
    {
      "cell_type": "code",
      "source": [
        "ChileFirstNameDetermine = pd.DataFrame(FirstNameTFData)"
      ],
      "metadata": {
        "id": "Wi_jEUKq4sop"
      },
      "id": "Wi_jEUKq4sop",
      "execution_count": 28,
      "outputs": []
    },
    {
      "cell_type": "code",
      "source": [
        "ChileFirstNameDetermine.to_excel(\"ChileFirstNameDetermine.xlsx\", sheet_name = 'ChileFirstNameDetermine')  "
      ],
      "metadata": {
        "id": "d025CpEi46CN"
      },
      "id": "d025CpEi46CN",
      "execution_count": 29,
      "outputs": []
    },
    {
      "cell_type": "markdown",
      "source": [
        "combine Chile-FirstName-Determine(T/F) and DrugDataCleaning"
      ],
      "metadata": {
        "id": "KO63AEufiA_q"
      },
      "id": "KO63AEufiA_q"
    },
    {
      "cell_type": "code",
      "source": [
        "import pandas as pd\n",
        "FirstNameTFData = pd.read_excel('ChileFirstNameDetermine.xlsx')"
      ],
      "metadata": {
        "id": "8GSWbQz6454t"
      },
      "id": "8GSWbQz6454t",
      "execution_count": 48,
      "outputs": []
    },
    {
      "cell_type": "code",
      "source": [
        "# count the number of product names which are determined as YES (True)\n",
        "P1FirstNameClass = FirstNameTFData[FirstNameTFData['FirstNameTF'] == 'YES']['ChileProductFirstName']"
      ],
      "metadata": {
        "id": "hz26x1d-45q4"
      },
      "id": "hz26x1d-45q4",
      "execution_count": 49,
      "outputs": []
    },
    {
      "cell_type": "code",
      "source": [
        "len(P1FirstNameClass) "
      ],
      "metadata": {
        "colab": {
          "base_uri": "https://localhost:8080/"
        },
        "id": "mQMVQL79lf6F",
        "outputId": "154d402b-ad95-4b2d-b799-a09642d1b41f"
      },
      "id": "mQMVQL79lf6F",
      "execution_count": 51,
      "outputs": [
        {
          "output_type": "execute_result",
          "data": {
            "text/plain": [
              "218"
            ]
          },
          "metadata": {},
          "execution_count": 51
        }
      ]
    },
    {
      "cell_type": "code",
      "source": [
        "type(ChileDrugData)"
      ],
      "metadata": {
        "colab": {
          "base_uri": "https://localhost:8080/"
        },
        "id": "IrD-i0NFoYKr",
        "outputId": "bfa09d5e-d672-4c50-886e-f90f23ad7ec3"
      },
      "id": "IrD-i0NFoYKr",
      "execution_count": 52,
      "outputs": [
        {
          "output_type": "execute_result",
          "data": {
            "text/plain": [
              "pandas.core.frame.DataFrame"
            ]
          },
          "metadata": {},
          "execution_count": 52
        }
      ]
    },
    {
      "cell_type": "code",
      "source": [
        "type(FirstNameTFData)"
      ],
      "metadata": {
        "colab": {
          "base_uri": "https://localhost:8080/"
        },
        "id": "U2fuRdy6ofpW",
        "outputId": "dd5a4aea-3e92-4c26-9d25-e5d5801e2da8"
      },
      "id": "U2fuRdy6ofpW",
      "execution_count": 53,
      "outputs": [
        {
          "output_type": "execute_result",
          "data": {
            "text/plain": [
              "pandas.core.frame.DataFrame"
            ]
          },
          "metadata": {},
          "execution_count": 53
        }
      ]
    },
    {
      "cell_type": "code",
      "source": [
        "FirstNameTFData.head(5)"
      ],
      "metadata": {
        "colab": {
          "base_uri": "https://localhost:8080/",
          "height": 206
        },
        "id": "_MuvKydADOQp",
        "outputId": "5ed10deb-6618-42ee-e2b5-011deba12333"
      },
      "id": "_MuvKydADOQp",
      "execution_count": 56,
      "outputs": [
        {
          "output_type": "execute_result",
          "data": {
            "text/plain": [
              "   Unnamed: 0 ChileProductFirstName FirstNameTF Unnamed: 3\n",
              "0         0.0        GLIBENCLAMIDA,         YES        NaN\n",
              "1         1.0            AMLODIPINA         YES        NaN\n",
              "2         2.0        CANAGLIFLOZINA         YES        NaN\n",
              "3         3.0              SISTEMAS          NO        NaN\n",
              "4         4.0                  CAJA          NO        NaN"
            ],
            "text/html": [
              "\n",
              "  <div id=\"df-0a37ab85-3ec5-4959-a2a5-b2848d59b702\">\n",
              "    <div class=\"colab-df-container\">\n",
              "      <div>\n",
              "<style scoped>\n",
              "    .dataframe tbody tr th:only-of-type {\n",
              "        vertical-align: middle;\n",
              "    }\n",
              "\n",
              "    .dataframe tbody tr th {\n",
              "        vertical-align: top;\n",
              "    }\n",
              "\n",
              "    .dataframe thead th {\n",
              "        text-align: right;\n",
              "    }\n",
              "</style>\n",
              "<table border=\"1\" class=\"dataframe\">\n",
              "  <thead>\n",
              "    <tr style=\"text-align: right;\">\n",
              "      <th></th>\n",
              "      <th>Unnamed: 0</th>\n",
              "      <th>ChileProductFirstName</th>\n",
              "      <th>FirstNameTF</th>\n",
              "      <th>Unnamed: 3</th>\n",
              "    </tr>\n",
              "  </thead>\n",
              "  <tbody>\n",
              "    <tr>\n",
              "      <th>0</th>\n",
              "      <td>0.0</td>\n",
              "      <td>GLIBENCLAMIDA,</td>\n",
              "      <td>YES</td>\n",
              "      <td>NaN</td>\n",
              "    </tr>\n",
              "    <tr>\n",
              "      <th>1</th>\n",
              "      <td>1.0</td>\n",
              "      <td>AMLODIPINA</td>\n",
              "      <td>YES</td>\n",
              "      <td>NaN</td>\n",
              "    </tr>\n",
              "    <tr>\n",
              "      <th>2</th>\n",
              "      <td>2.0</td>\n",
              "      <td>CANAGLIFLOZINA</td>\n",
              "      <td>YES</td>\n",
              "      <td>NaN</td>\n",
              "    </tr>\n",
              "    <tr>\n",
              "      <th>3</th>\n",
              "      <td>3.0</td>\n",
              "      <td>SISTEMAS</td>\n",
              "      <td>NO</td>\n",
              "      <td>NaN</td>\n",
              "    </tr>\n",
              "    <tr>\n",
              "      <th>4</th>\n",
              "      <td>4.0</td>\n",
              "      <td>CAJA</td>\n",
              "      <td>NO</td>\n",
              "      <td>NaN</td>\n",
              "    </tr>\n",
              "  </tbody>\n",
              "</table>\n",
              "</div>\n",
              "      <button class=\"colab-df-convert\" onclick=\"convertToInteractive('df-0a37ab85-3ec5-4959-a2a5-b2848d59b702')\"\n",
              "              title=\"Convert this dataframe to an interactive table.\"\n",
              "              style=\"display:none;\">\n",
              "        \n",
              "  <svg xmlns=\"http://www.w3.org/2000/svg\" height=\"24px\"viewBox=\"0 0 24 24\"\n",
              "       width=\"24px\">\n",
              "    <path d=\"M0 0h24v24H0V0z\" fill=\"none\"/>\n",
              "    <path d=\"M18.56 5.44l.94 2.06.94-2.06 2.06-.94-2.06-.94-.94-2.06-.94 2.06-2.06.94zm-11 1L8.5 8.5l.94-2.06 2.06-.94-2.06-.94L8.5 2.5l-.94 2.06-2.06.94zm10 10l.94 2.06.94-2.06 2.06-.94-2.06-.94-.94-2.06-.94 2.06-2.06.94z\"/><path d=\"M17.41 7.96l-1.37-1.37c-.4-.4-.92-.59-1.43-.59-.52 0-1.04.2-1.43.59L10.3 9.45l-7.72 7.72c-.78.78-.78 2.05 0 2.83L4 21.41c.39.39.9.59 1.41.59.51 0 1.02-.2 1.41-.59l7.78-7.78 2.81-2.81c.8-.78.8-2.07 0-2.86zM5.41 20L4 18.59l7.72-7.72 1.47 1.35L5.41 20z\"/>\n",
              "  </svg>\n",
              "      </button>\n",
              "      \n",
              "  <style>\n",
              "    .colab-df-container {\n",
              "      display:flex;\n",
              "      flex-wrap:wrap;\n",
              "      gap: 12px;\n",
              "    }\n",
              "\n",
              "    .colab-df-convert {\n",
              "      background-color: #E8F0FE;\n",
              "      border: none;\n",
              "      border-radius: 50%;\n",
              "      cursor: pointer;\n",
              "      display: none;\n",
              "      fill: #1967D2;\n",
              "      height: 32px;\n",
              "      padding: 0 0 0 0;\n",
              "      width: 32px;\n",
              "    }\n",
              "\n",
              "    .colab-df-convert:hover {\n",
              "      background-color: #E2EBFA;\n",
              "      box-shadow: 0px 1px 2px rgba(60, 64, 67, 0.3), 0px 1px 3px 1px rgba(60, 64, 67, 0.15);\n",
              "      fill: #174EA6;\n",
              "    }\n",
              "\n",
              "    [theme=dark] .colab-df-convert {\n",
              "      background-color: #3B4455;\n",
              "      fill: #D2E3FC;\n",
              "    }\n",
              "\n",
              "    [theme=dark] .colab-df-convert:hover {\n",
              "      background-color: #434B5C;\n",
              "      box-shadow: 0px 1px 3px 1px rgba(0, 0, 0, 0.15);\n",
              "      filter: drop-shadow(0px 1px 2px rgba(0, 0, 0, 0.3));\n",
              "      fill: #FFFFFF;\n",
              "    }\n",
              "  </style>\n",
              "\n",
              "      <script>\n",
              "        const buttonEl =\n",
              "          document.querySelector('#df-0a37ab85-3ec5-4959-a2a5-b2848d59b702 button.colab-df-convert');\n",
              "        buttonEl.style.display =\n",
              "          google.colab.kernel.accessAllowed ? 'block' : 'none';\n",
              "\n",
              "        async function convertToInteractive(key) {\n",
              "          const element = document.querySelector('#df-0a37ab85-3ec5-4959-a2a5-b2848d59b702');\n",
              "          const dataTable =\n",
              "            await google.colab.kernel.invokeFunction('convertToInteractive',\n",
              "                                                     [key], {});\n",
              "          if (!dataTable) return;\n",
              "\n",
              "          const docLinkHtml = 'Like what you see? Visit the ' +\n",
              "            '<a target=\"_blank\" href=https://colab.research.google.com/notebooks/data_table.ipynb>data table notebook</a>'\n",
              "            + ' to learn more about interactive tables.';\n",
              "          element.innerHTML = '';\n",
              "          dataTable['output_type'] = 'display_data';\n",
              "          await google.colab.output.renderOutput(dataTable, element);\n",
              "          const docLink = document.createElement('div');\n",
              "          docLink.innerHTML = docLinkHtml;\n",
              "          element.appendChild(docLink);\n",
              "        }\n",
              "      </script>\n",
              "    </div>\n",
              "  </div>\n",
              "  "
            ]
          },
          "metadata": {},
          "execution_count": 56
        }
      ]
    },
    {
      "cell_type": "code",
      "source": [
        "FirstNameTFData = FirstNameTFData.rename(columns={'ChileProductFirstName': 'Product First Name'})"
      ],
      "metadata": {
        "id": "VTx3ad5bojcp"
      },
      "id": "VTx3ad5bojcp",
      "execution_count": 57,
      "outputs": []
    },
    {
      "cell_type": "code",
      "source": [
        "#FirstNameTFData.head()"
      ],
      "metadata": {
        "id": "MOzrLwVZpHG7"
      },
      "id": "MOzrLwVZpHG7",
      "execution_count": 37,
      "outputs": []
    },
    {
      "cell_type": "code",
      "source": [
        "del FirstNameTFData['Unnamed: 0']"
      ],
      "metadata": {
        "id": "T0WKzluApl-i"
      },
      "id": "T0WKzluApl-i",
      "execution_count": 58,
      "outputs": []
    },
    {
      "cell_type": "code",
      "source": [
        "del FirstNameTFData['Unnamed: 3']"
      ],
      "metadata": {
        "id": "lQVI6hg8pvSn"
      },
      "id": "lQVI6hg8pvSn",
      "execution_count": 59,
      "outputs": []
    },
    {
      "cell_type": "code",
      "source": [
        "FirstNameTFData.head()"
      ],
      "metadata": {
        "id": "GWZOhD_pp-S6",
        "colab": {
          "base_uri": "https://localhost:8080/",
          "height": 206
        },
        "outputId": "a633d29b-516c-45b5-b52d-189f74c1bb44"
      },
      "id": "GWZOhD_pp-S6",
      "execution_count": 60,
      "outputs": [
        {
          "output_type": "execute_result",
          "data": {
            "text/plain": [
              "  Product First Name FirstNameTF\n",
              "0     GLIBENCLAMIDA,         YES\n",
              "1         AMLODIPINA         YES\n",
              "2     CANAGLIFLOZINA         YES\n",
              "3           SISTEMAS          NO\n",
              "4               CAJA          NO"
            ],
            "text/html": [
              "\n",
              "  <div id=\"df-f3e0bd78-d33c-4b57-9cbf-37bd3bd24b4d\">\n",
              "    <div class=\"colab-df-container\">\n",
              "      <div>\n",
              "<style scoped>\n",
              "    .dataframe tbody tr th:only-of-type {\n",
              "        vertical-align: middle;\n",
              "    }\n",
              "\n",
              "    .dataframe tbody tr th {\n",
              "        vertical-align: top;\n",
              "    }\n",
              "\n",
              "    .dataframe thead th {\n",
              "        text-align: right;\n",
              "    }\n",
              "</style>\n",
              "<table border=\"1\" class=\"dataframe\">\n",
              "  <thead>\n",
              "    <tr style=\"text-align: right;\">\n",
              "      <th></th>\n",
              "      <th>Product First Name</th>\n",
              "      <th>FirstNameTF</th>\n",
              "    </tr>\n",
              "  </thead>\n",
              "  <tbody>\n",
              "    <tr>\n",
              "      <th>0</th>\n",
              "      <td>GLIBENCLAMIDA,</td>\n",
              "      <td>YES</td>\n",
              "    </tr>\n",
              "    <tr>\n",
              "      <th>1</th>\n",
              "      <td>AMLODIPINA</td>\n",
              "      <td>YES</td>\n",
              "    </tr>\n",
              "    <tr>\n",
              "      <th>2</th>\n",
              "      <td>CANAGLIFLOZINA</td>\n",
              "      <td>YES</td>\n",
              "    </tr>\n",
              "    <tr>\n",
              "      <th>3</th>\n",
              "      <td>SISTEMAS</td>\n",
              "      <td>NO</td>\n",
              "    </tr>\n",
              "    <tr>\n",
              "      <th>4</th>\n",
              "      <td>CAJA</td>\n",
              "      <td>NO</td>\n",
              "    </tr>\n",
              "  </tbody>\n",
              "</table>\n",
              "</div>\n",
              "      <button class=\"colab-df-convert\" onclick=\"convertToInteractive('df-f3e0bd78-d33c-4b57-9cbf-37bd3bd24b4d')\"\n",
              "              title=\"Convert this dataframe to an interactive table.\"\n",
              "              style=\"display:none;\">\n",
              "        \n",
              "  <svg xmlns=\"http://www.w3.org/2000/svg\" height=\"24px\"viewBox=\"0 0 24 24\"\n",
              "       width=\"24px\">\n",
              "    <path d=\"M0 0h24v24H0V0z\" fill=\"none\"/>\n",
              "    <path d=\"M18.56 5.44l.94 2.06.94-2.06 2.06-.94-2.06-.94-.94-2.06-.94 2.06-2.06.94zm-11 1L8.5 8.5l.94-2.06 2.06-.94-2.06-.94L8.5 2.5l-.94 2.06-2.06.94zm10 10l.94 2.06.94-2.06 2.06-.94-2.06-.94-.94-2.06-.94 2.06-2.06.94z\"/><path d=\"M17.41 7.96l-1.37-1.37c-.4-.4-.92-.59-1.43-.59-.52 0-1.04.2-1.43.59L10.3 9.45l-7.72 7.72c-.78.78-.78 2.05 0 2.83L4 21.41c.39.39.9.59 1.41.59.51 0 1.02-.2 1.41-.59l7.78-7.78 2.81-2.81c.8-.78.8-2.07 0-2.86zM5.41 20L4 18.59l7.72-7.72 1.47 1.35L5.41 20z\"/>\n",
              "  </svg>\n",
              "      </button>\n",
              "      \n",
              "  <style>\n",
              "    .colab-df-container {\n",
              "      display:flex;\n",
              "      flex-wrap:wrap;\n",
              "      gap: 12px;\n",
              "    }\n",
              "\n",
              "    .colab-df-convert {\n",
              "      background-color: #E8F0FE;\n",
              "      border: none;\n",
              "      border-radius: 50%;\n",
              "      cursor: pointer;\n",
              "      display: none;\n",
              "      fill: #1967D2;\n",
              "      height: 32px;\n",
              "      padding: 0 0 0 0;\n",
              "      width: 32px;\n",
              "    }\n",
              "\n",
              "    .colab-df-convert:hover {\n",
              "      background-color: #E2EBFA;\n",
              "      box-shadow: 0px 1px 2px rgba(60, 64, 67, 0.3), 0px 1px 3px 1px rgba(60, 64, 67, 0.15);\n",
              "      fill: #174EA6;\n",
              "    }\n",
              "\n",
              "    [theme=dark] .colab-df-convert {\n",
              "      background-color: #3B4455;\n",
              "      fill: #D2E3FC;\n",
              "    }\n",
              "\n",
              "    [theme=dark] .colab-df-convert:hover {\n",
              "      background-color: #434B5C;\n",
              "      box-shadow: 0px 1px 3px 1px rgba(0, 0, 0, 0.15);\n",
              "      filter: drop-shadow(0px 1px 2px rgba(0, 0, 0, 0.3));\n",
              "      fill: #FFFFFF;\n",
              "    }\n",
              "  </style>\n",
              "\n",
              "      <script>\n",
              "        const buttonEl =\n",
              "          document.querySelector('#df-f3e0bd78-d33c-4b57-9cbf-37bd3bd24b4d button.colab-df-convert');\n",
              "        buttonEl.style.display =\n",
              "          google.colab.kernel.accessAllowed ? 'block' : 'none';\n",
              "\n",
              "        async function convertToInteractive(key) {\n",
              "          const element = document.querySelector('#df-f3e0bd78-d33c-4b57-9cbf-37bd3bd24b4d');\n",
              "          const dataTable =\n",
              "            await google.colab.kernel.invokeFunction('convertToInteractive',\n",
              "                                                     [key], {});\n",
              "          if (!dataTable) return;\n",
              "\n",
              "          const docLinkHtml = 'Like what you see? Visit the ' +\n",
              "            '<a target=\"_blank\" href=https://colab.research.google.com/notebooks/data_table.ipynb>data table notebook</a>'\n",
              "            + ' to learn more about interactive tables.';\n",
              "          element.innerHTML = '';\n",
              "          dataTable['output_type'] = 'display_data';\n",
              "          await google.colab.output.renderOutput(dataTable, element);\n",
              "          const docLink = document.createElement('div');\n",
              "          docLink.innerHTML = docLinkHtml;\n",
              "          element.appendChild(docLink);\n",
              "        }\n",
              "      </script>\n",
              "    </div>\n",
              "  </div>\n",
              "  "
            ]
          },
          "metadata": {},
          "execution_count": 60
        }
      ]
    },
    {
      "cell_type": "code",
      "source": [
        "# combine determining result table and Chile product names table\n",
        "FirstNameClass_merged_T = ChileDrugData.merge(FirstNameTFData, on = 'Product First Name', how = 'right')"
      ],
      "metadata": {
        "id": "Cll5_8pllhjy"
      },
      "id": "Cll5_8pllhjy",
      "execution_count": 61,
      "outputs": []
    },
    {
      "cell_type": "code",
      "source": [
        "FirstNameClass_merged_T.head(50)"
      ],
      "metadata": {
        "id": "DG6BHIb5liZf",
        "colab": {
          "base_uri": "https://localhost:8080/",
          "height": 1000
        },
        "outputId": "3a1395e2-608c-44c6-bea3-00a304b06d74"
      },
      "id": "DG6BHIb5liZf",
      "execution_count": 62,
      "outputs": [
        {
          "output_type": "execute_result",
          "data": {
            "text/plain": [
              "    Unnamed: 0 Country Product First Name  \\\n",
              "0            0   Chile     GLIBENCLAMIDA,   \n",
              "1            1   Chile         AMLODIPINA   \n",
              "2            2   Chile         AMLODIPINA   \n",
              "3            3   Chile         AMLODIPINA   \n",
              "4            4   Chile         AMLODIPINA   \n",
              "5            5   Chile         AMLODIPINA   \n",
              "6            6   Chile         AMLODIPINA   \n",
              "7            7   Chile         AMLODIPINA   \n",
              "8            8   Chile         AMLODIPINA   \n",
              "9            9   Chile     CANAGLIFLOZINA   \n",
              "10          10   Chile     CANAGLIFLOZINA   \n",
              "11          11   Chile     CANAGLIFLOZINA   \n",
              "12          12   Chile     CANAGLIFLOZINA   \n",
              "13          13   Chile           SISTEMAS   \n",
              "14          14   Chile               CAJA   \n",
              "15          15   Chile               CAJA   \n",
              "16          16   Chile               CAJA   \n",
              "17          17   Chile               CAJA   \n",
              "18          18   Chile               CAJA   \n",
              "19          19   Chile               CAJA   \n",
              "20          20   Chile               CAJA   \n",
              "21          21   Chile               CAJA   \n",
              "22          22   Chile               CAJA   \n",
              "23          23   Chile               CAJA   \n",
              "24          24   Chile               CAJA   \n",
              "25          25   Chile               CAJA   \n",
              "26          26   Chile               CAJA   \n",
              "27          27   Chile               CAJA   \n",
              "28          28   Chile               CAJA   \n",
              "29          29   Chile               CAJA   \n",
              "30          30   Chile               CAJA   \n",
              "31          31   Chile               CAJA   \n",
              "32          32   Chile               CAJA   \n",
              "33          33   Chile               CAJA   \n",
              "34          34   Chile               CAJA   \n",
              "35          35   Chile               CAJA   \n",
              "36          36   Chile               CAJA   \n",
              "37          37   Chile               CAJA   \n",
              "38          38   Chile               CAJA   \n",
              "39          39   Chile               CAJA   \n",
              "40          40   Chile               CAJA   \n",
              "41          41   Chile               CAJA   \n",
              "42          42   Chile               CAJA   \n",
              "43          43   Chile            NSULINA   \n",
              "44          44   Chile          FENTANILO   \n",
              "45          45   Chile          FENTANILO   \n",
              "46          46   Chile          FENTANILO   \n",
              "47          47   Chile          FENTANILO   \n",
              "48          48   Chile            GLAUPAX   \n",
              "49          49   Chile            GLAUPAX   \n",
              "\n",
              "                                    Product Full Name FirstNameTF  \n",
              "0                      GLIBENCLAMIDA, COMPRIMIDOS 5MG         YES  \n",
              "1                         AMLODIPINA 5 MG COMPRIMIDOS         YES  \n",
              "2                                   AMLODIPINA 10 MG.         YES  \n",
              "3                        AMLODIPINA 10 MG COMPRIMIDOS         YES  \n",
              "4   AMLODIPINA 5 MG. CM.VENCIMIENTO SUPERIOR A 12 ...         YES  \n",
              "5                                     AMLODIPINA 5 MG         YES  \n",
              "6                                   AMLODIPINA  10 MG         YES  \n",
              "7                     AMLODIPINA 10 MG BIOEQUIVALENTE         YES  \n",
              "8                                    AMLODIPINA  5 MG         YES  \n",
              "9   CANAGLIFLOZINA + METFORMINA 150/1000 MG _X000D...         YES  \n",
              "10  CANAGLIFLOZINA 50 MG; METFORMINA 1000 MG. COMP...         YES  \n",
              "11  CANAGLIFLOZINA 150 MG / METFORMINA 1000 MG ENV...         YES  \n",
              "12  CANAGLIFLOZINA 300 MG. ENVASE COMERCIAL CONTEN...         YES  \n",
              "13  SISTEMAS DE ADMINISTRACIÓN DE FÁRMACOS O ACCES...          NO  \n",
              "14  CAJA DE 56 COMPRIMIDOS QUE CONTIENEN 64.25 MG ...          NO  \n",
              "15  CAJA DE 60 COMPRIMIDO DE LIBERACIÓN PROLONGADA...          NO  \n",
              "16  CAJA DE 60 COMPRIMIDO RECUBIERTO CONTIENE: EMP...          NO  \n",
              "17  CAJA DE 1 LÁPIZ CONTENIENDO: CADA ML 3000 UNID...          NO  \n",
              "18  CAJA DE 28 COMPRIMIDOS CONTENIENDO: VILDAGLIPT...          NO  \n",
              "19  CAJA LINAGLIPTINA METFORMINA 2,5 MG/1000 MG PO...          NO  \n",
              "20  CAJA LINAGLIPTINA METFORMINA 2,5 MG/850 MG POR...          NO  \n",
              "21  CAJA DE 1 LAPICERA INYECTABLE CONTIENE: 300 UN...          NO  \n",
              "22  CAJA DE 30 COMPRIMIDO CONTIENE: METFORMINA CLO...          NO  \n",
              "23  CAJA DE 28 COMPRIMIDOS RECUBIERTOS DE LIBERACI...          NO  \n",
              "24  CAJA DE 60 COMPRIMIDO CONTIENE: METFORMINA CLO...          NO  \n",
              "25  CAJA DE 60 COMPRIMIDO CONTIENE: METFORMINA CLO...          NO  \n",
              "26  CAJA DE 30 COMPRIMIDOS RECUBIERTOS DE LARGA DU...          NO  \n",
              "27  CAJA DE 30 COMPRIMIDOS RECUBIERTOS DE LARGA DU...          NO  \n",
              "28  CAJA DE SITAGLIPTINA 50 MG /_X000D__X000D__X00...          NO  \n",
              "29  CAJA DE SITAGLIPTINA 50 MG /_X000D__X000D__X00...          NO  \n",
              "30  CAJA DE 28 COMPRIMIDOS QUE CONTIENEN 128. MG D...          NO  \n",
              "31  CAJA 60 COMPRIMIDO RECUBIERTO CONTIENE: LINAGL...          NO  \n",
              "32  CAJA DE 30 COMPRIMIDO CONTIENE: METFORMINA CLO...          NO  \n",
              "33  CAJA DE 28 COMPRIMIDOS RECUBIERTOS DE LIBERACI...          NO  \n",
              "34  CAJA DE 30 COMP RECUBIERTOS DE LIBERACIÓN PROL...          NO  \n",
              "35  CAJA DE 60 COMPRIMIDO RECUBIERTO CONTIENE: LIN...          NO  \n",
              "36  CAJA DE 28 COMP. RECUBIERTOS DE LIBERACION PRO...          NO  \n",
              "37  CAJA DE 60 COMPRIMIDO RECUBIERTO CONTIENE: LIN...          NO  \n",
              "38  CAJA DE 56 COMP. CONTIENE: FOSFATO DE SITAGLIP...          NO  \n",
              "39  CAJA SITAGLIPTINA 50  MG / METFORMINA 850  MG ...          NO  \n",
              "40  CAJA SITAGLIPTINA 50  MG / METFORMINA 1000  MG...          NO  \n",
              "41  CAJA DE 56 COMPRIMIDO CONTIENE: VILDAGLIPTINA ...          NO  \n",
              "42  CAJA DE 56 COMPRIMIDO CONTIENE: VILDAGLIPTINA ...          NO  \n",
              "43  NSULINA CRISTALINA FA 100 UI., ESPECIFICAR MAR...         YES  \n",
              "44            FENTANILO 0,5 MG/10 ML SOL. INY. AM/FAM         YES  \n",
              "45           FENTANILO 25MCG/HORA PARCHE TRANSDERMICO         YES  \n",
              "46           FENTANILO 0,1 MG/2ML SOL.INY. AM/FAM/JPR         YES  \n",
              "47           FENTANILO 50MCG/HORA PARCHE TRANSDERMICO         YES  \n",
              "48                      GLAUPAX XR 1000 MG X 30 COMP.         YES  \n",
              "49                       GLAUPAX XR 500 MG X 30 COMP.         YES  "
            ],
            "text/html": [
              "\n",
              "  <div id=\"df-07b8ee6c-8e63-4b32-8a64-b68beef3012e\">\n",
              "    <div class=\"colab-df-container\">\n",
              "      <div>\n",
              "<style scoped>\n",
              "    .dataframe tbody tr th:only-of-type {\n",
              "        vertical-align: middle;\n",
              "    }\n",
              "\n",
              "    .dataframe tbody tr th {\n",
              "        vertical-align: top;\n",
              "    }\n",
              "\n",
              "    .dataframe thead th {\n",
              "        text-align: right;\n",
              "    }\n",
              "</style>\n",
              "<table border=\"1\" class=\"dataframe\">\n",
              "  <thead>\n",
              "    <tr style=\"text-align: right;\">\n",
              "      <th></th>\n",
              "      <th>Unnamed: 0</th>\n",
              "      <th>Country</th>\n",
              "      <th>Product First Name</th>\n",
              "      <th>Product Full Name</th>\n",
              "      <th>FirstNameTF</th>\n",
              "    </tr>\n",
              "  </thead>\n",
              "  <tbody>\n",
              "    <tr>\n",
              "      <th>0</th>\n",
              "      <td>0</td>\n",
              "      <td>Chile</td>\n",
              "      <td>GLIBENCLAMIDA,</td>\n",
              "      <td>GLIBENCLAMIDA, COMPRIMIDOS 5MG</td>\n",
              "      <td>YES</td>\n",
              "    </tr>\n",
              "    <tr>\n",
              "      <th>1</th>\n",
              "      <td>1</td>\n",
              "      <td>Chile</td>\n",
              "      <td>AMLODIPINA</td>\n",
              "      <td>AMLODIPINA 5 MG COMPRIMIDOS</td>\n",
              "      <td>YES</td>\n",
              "    </tr>\n",
              "    <tr>\n",
              "      <th>2</th>\n",
              "      <td>2</td>\n",
              "      <td>Chile</td>\n",
              "      <td>AMLODIPINA</td>\n",
              "      <td>AMLODIPINA 10 MG.</td>\n",
              "      <td>YES</td>\n",
              "    </tr>\n",
              "    <tr>\n",
              "      <th>3</th>\n",
              "      <td>3</td>\n",
              "      <td>Chile</td>\n",
              "      <td>AMLODIPINA</td>\n",
              "      <td>AMLODIPINA 10 MG COMPRIMIDOS</td>\n",
              "      <td>YES</td>\n",
              "    </tr>\n",
              "    <tr>\n",
              "      <th>4</th>\n",
              "      <td>4</td>\n",
              "      <td>Chile</td>\n",
              "      <td>AMLODIPINA</td>\n",
              "      <td>AMLODIPINA 5 MG. CM.VENCIMIENTO SUPERIOR A 12 ...</td>\n",
              "      <td>YES</td>\n",
              "    </tr>\n",
              "    <tr>\n",
              "      <th>5</th>\n",
              "      <td>5</td>\n",
              "      <td>Chile</td>\n",
              "      <td>AMLODIPINA</td>\n",
              "      <td>AMLODIPINA 5 MG</td>\n",
              "      <td>YES</td>\n",
              "    </tr>\n",
              "    <tr>\n",
              "      <th>6</th>\n",
              "      <td>6</td>\n",
              "      <td>Chile</td>\n",
              "      <td>AMLODIPINA</td>\n",
              "      <td>AMLODIPINA  10 MG</td>\n",
              "      <td>YES</td>\n",
              "    </tr>\n",
              "    <tr>\n",
              "      <th>7</th>\n",
              "      <td>7</td>\n",
              "      <td>Chile</td>\n",
              "      <td>AMLODIPINA</td>\n",
              "      <td>AMLODIPINA 10 MG BIOEQUIVALENTE</td>\n",
              "      <td>YES</td>\n",
              "    </tr>\n",
              "    <tr>\n",
              "      <th>8</th>\n",
              "      <td>8</td>\n",
              "      <td>Chile</td>\n",
              "      <td>AMLODIPINA</td>\n",
              "      <td>AMLODIPINA  5 MG</td>\n",
              "      <td>YES</td>\n",
              "    </tr>\n",
              "    <tr>\n",
              "      <th>9</th>\n",
              "      <td>9</td>\n",
              "      <td>Chile</td>\n",
              "      <td>CANAGLIFLOZINA</td>\n",
              "      <td>CANAGLIFLOZINA + METFORMINA 150/1000 MG _X000D...</td>\n",
              "      <td>YES</td>\n",
              "    </tr>\n",
              "    <tr>\n",
              "      <th>10</th>\n",
              "      <td>10</td>\n",
              "      <td>Chile</td>\n",
              "      <td>CANAGLIFLOZINA</td>\n",
              "      <td>CANAGLIFLOZINA 50 MG; METFORMINA 1000 MG. COMP...</td>\n",
              "      <td>YES</td>\n",
              "    </tr>\n",
              "    <tr>\n",
              "      <th>11</th>\n",
              "      <td>11</td>\n",
              "      <td>Chile</td>\n",
              "      <td>CANAGLIFLOZINA</td>\n",
              "      <td>CANAGLIFLOZINA 150 MG / METFORMINA 1000 MG ENV...</td>\n",
              "      <td>YES</td>\n",
              "    </tr>\n",
              "    <tr>\n",
              "      <th>12</th>\n",
              "      <td>12</td>\n",
              "      <td>Chile</td>\n",
              "      <td>CANAGLIFLOZINA</td>\n",
              "      <td>CANAGLIFLOZINA 300 MG. ENVASE COMERCIAL CONTEN...</td>\n",
              "      <td>YES</td>\n",
              "    </tr>\n",
              "    <tr>\n",
              "      <th>13</th>\n",
              "      <td>13</td>\n",
              "      <td>Chile</td>\n",
              "      <td>SISTEMAS</td>\n",
              "      <td>SISTEMAS DE ADMINISTRACIÓN DE FÁRMACOS O ACCES...</td>\n",
              "      <td>NO</td>\n",
              "    </tr>\n",
              "    <tr>\n",
              "      <th>14</th>\n",
              "      <td>14</td>\n",
              "      <td>Chile</td>\n",
              "      <td>CAJA</td>\n",
              "      <td>CAJA DE 56 COMPRIMIDOS QUE CONTIENEN 64.25 MG ...</td>\n",
              "      <td>NO</td>\n",
              "    </tr>\n",
              "    <tr>\n",
              "      <th>15</th>\n",
              "      <td>15</td>\n",
              "      <td>Chile</td>\n",
              "      <td>CAJA</td>\n",
              "      <td>CAJA DE 60 COMPRIMIDO DE LIBERACIÓN PROLONGADA...</td>\n",
              "      <td>NO</td>\n",
              "    </tr>\n",
              "    <tr>\n",
              "      <th>16</th>\n",
              "      <td>16</td>\n",
              "      <td>Chile</td>\n",
              "      <td>CAJA</td>\n",
              "      <td>CAJA DE 60 COMPRIMIDO RECUBIERTO CONTIENE: EMP...</td>\n",
              "      <td>NO</td>\n",
              "    </tr>\n",
              "    <tr>\n",
              "      <th>17</th>\n",
              "      <td>17</td>\n",
              "      <td>Chile</td>\n",
              "      <td>CAJA</td>\n",
              "      <td>CAJA DE 1 LÁPIZ CONTENIENDO: CADA ML 3000 UNID...</td>\n",
              "      <td>NO</td>\n",
              "    </tr>\n",
              "    <tr>\n",
              "      <th>18</th>\n",
              "      <td>18</td>\n",
              "      <td>Chile</td>\n",
              "      <td>CAJA</td>\n",
              "      <td>CAJA DE 28 COMPRIMIDOS CONTENIENDO: VILDAGLIPT...</td>\n",
              "      <td>NO</td>\n",
              "    </tr>\n",
              "    <tr>\n",
              "      <th>19</th>\n",
              "      <td>19</td>\n",
              "      <td>Chile</td>\n",
              "      <td>CAJA</td>\n",
              "      <td>CAJA LINAGLIPTINA METFORMINA 2,5 MG/1000 MG PO...</td>\n",
              "      <td>NO</td>\n",
              "    </tr>\n",
              "    <tr>\n",
              "      <th>20</th>\n",
              "      <td>20</td>\n",
              "      <td>Chile</td>\n",
              "      <td>CAJA</td>\n",
              "      <td>CAJA LINAGLIPTINA METFORMINA 2,5 MG/850 MG POR...</td>\n",
              "      <td>NO</td>\n",
              "    </tr>\n",
              "    <tr>\n",
              "      <th>21</th>\n",
              "      <td>21</td>\n",
              "      <td>Chile</td>\n",
              "      <td>CAJA</td>\n",
              "      <td>CAJA DE 1 LAPICERA INYECTABLE CONTIENE: 300 UN...</td>\n",
              "      <td>NO</td>\n",
              "    </tr>\n",
              "    <tr>\n",
              "      <th>22</th>\n",
              "      <td>22</td>\n",
              "      <td>Chile</td>\n",
              "      <td>CAJA</td>\n",
              "      <td>CAJA DE 30 COMPRIMIDO CONTIENE: METFORMINA CLO...</td>\n",
              "      <td>NO</td>\n",
              "    </tr>\n",
              "    <tr>\n",
              "      <th>23</th>\n",
              "      <td>23</td>\n",
              "      <td>Chile</td>\n",
              "      <td>CAJA</td>\n",
              "      <td>CAJA DE 28 COMPRIMIDOS RECUBIERTOS DE LIBERACI...</td>\n",
              "      <td>NO</td>\n",
              "    </tr>\n",
              "    <tr>\n",
              "      <th>24</th>\n",
              "      <td>24</td>\n",
              "      <td>Chile</td>\n",
              "      <td>CAJA</td>\n",
              "      <td>CAJA DE 60 COMPRIMIDO CONTIENE: METFORMINA CLO...</td>\n",
              "      <td>NO</td>\n",
              "    </tr>\n",
              "    <tr>\n",
              "      <th>25</th>\n",
              "      <td>25</td>\n",
              "      <td>Chile</td>\n",
              "      <td>CAJA</td>\n",
              "      <td>CAJA DE 60 COMPRIMIDO CONTIENE: METFORMINA CLO...</td>\n",
              "      <td>NO</td>\n",
              "    </tr>\n",
              "    <tr>\n",
              "      <th>26</th>\n",
              "      <td>26</td>\n",
              "      <td>Chile</td>\n",
              "      <td>CAJA</td>\n",
              "      <td>CAJA DE 30 COMPRIMIDOS RECUBIERTOS DE LARGA DU...</td>\n",
              "      <td>NO</td>\n",
              "    </tr>\n",
              "    <tr>\n",
              "      <th>27</th>\n",
              "      <td>27</td>\n",
              "      <td>Chile</td>\n",
              "      <td>CAJA</td>\n",
              "      <td>CAJA DE 30 COMPRIMIDOS RECUBIERTOS DE LARGA DU...</td>\n",
              "      <td>NO</td>\n",
              "    </tr>\n",
              "    <tr>\n",
              "      <th>28</th>\n",
              "      <td>28</td>\n",
              "      <td>Chile</td>\n",
              "      <td>CAJA</td>\n",
              "      <td>CAJA DE SITAGLIPTINA 50 MG /_X000D__X000D__X00...</td>\n",
              "      <td>NO</td>\n",
              "    </tr>\n",
              "    <tr>\n",
              "      <th>29</th>\n",
              "      <td>29</td>\n",
              "      <td>Chile</td>\n",
              "      <td>CAJA</td>\n",
              "      <td>CAJA DE SITAGLIPTINA 50 MG /_X000D__X000D__X00...</td>\n",
              "      <td>NO</td>\n",
              "    </tr>\n",
              "    <tr>\n",
              "      <th>30</th>\n",
              "      <td>30</td>\n",
              "      <td>Chile</td>\n",
              "      <td>CAJA</td>\n",
              "      <td>CAJA DE 28 COMPRIMIDOS QUE CONTIENEN 128. MG D...</td>\n",
              "      <td>NO</td>\n",
              "    </tr>\n",
              "    <tr>\n",
              "      <th>31</th>\n",
              "      <td>31</td>\n",
              "      <td>Chile</td>\n",
              "      <td>CAJA</td>\n",
              "      <td>CAJA 60 COMPRIMIDO RECUBIERTO CONTIENE: LINAGL...</td>\n",
              "      <td>NO</td>\n",
              "    </tr>\n",
              "    <tr>\n",
              "      <th>32</th>\n",
              "      <td>32</td>\n",
              "      <td>Chile</td>\n",
              "      <td>CAJA</td>\n",
              "      <td>CAJA DE 30 COMPRIMIDO CONTIENE: METFORMINA CLO...</td>\n",
              "      <td>NO</td>\n",
              "    </tr>\n",
              "    <tr>\n",
              "      <th>33</th>\n",
              "      <td>33</td>\n",
              "      <td>Chile</td>\n",
              "      <td>CAJA</td>\n",
              "      <td>CAJA DE 28 COMPRIMIDOS RECUBIERTOS DE LIBERACI...</td>\n",
              "      <td>NO</td>\n",
              "    </tr>\n",
              "    <tr>\n",
              "      <th>34</th>\n",
              "      <td>34</td>\n",
              "      <td>Chile</td>\n",
              "      <td>CAJA</td>\n",
              "      <td>CAJA DE 30 COMP RECUBIERTOS DE LIBERACIÓN PROL...</td>\n",
              "      <td>NO</td>\n",
              "    </tr>\n",
              "    <tr>\n",
              "      <th>35</th>\n",
              "      <td>35</td>\n",
              "      <td>Chile</td>\n",
              "      <td>CAJA</td>\n",
              "      <td>CAJA DE 60 COMPRIMIDO RECUBIERTO CONTIENE: LIN...</td>\n",
              "      <td>NO</td>\n",
              "    </tr>\n",
              "    <tr>\n",
              "      <th>36</th>\n",
              "      <td>36</td>\n",
              "      <td>Chile</td>\n",
              "      <td>CAJA</td>\n",
              "      <td>CAJA DE 28 COMP. RECUBIERTOS DE LIBERACION PRO...</td>\n",
              "      <td>NO</td>\n",
              "    </tr>\n",
              "    <tr>\n",
              "      <th>37</th>\n",
              "      <td>37</td>\n",
              "      <td>Chile</td>\n",
              "      <td>CAJA</td>\n",
              "      <td>CAJA DE 60 COMPRIMIDO RECUBIERTO CONTIENE: LIN...</td>\n",
              "      <td>NO</td>\n",
              "    </tr>\n",
              "    <tr>\n",
              "      <th>38</th>\n",
              "      <td>38</td>\n",
              "      <td>Chile</td>\n",
              "      <td>CAJA</td>\n",
              "      <td>CAJA DE 56 COMP. CONTIENE: FOSFATO DE SITAGLIP...</td>\n",
              "      <td>NO</td>\n",
              "    </tr>\n",
              "    <tr>\n",
              "      <th>39</th>\n",
              "      <td>39</td>\n",
              "      <td>Chile</td>\n",
              "      <td>CAJA</td>\n",
              "      <td>CAJA SITAGLIPTINA 50  MG / METFORMINA 850  MG ...</td>\n",
              "      <td>NO</td>\n",
              "    </tr>\n",
              "    <tr>\n",
              "      <th>40</th>\n",
              "      <td>40</td>\n",
              "      <td>Chile</td>\n",
              "      <td>CAJA</td>\n",
              "      <td>CAJA SITAGLIPTINA 50  MG / METFORMINA 1000  MG...</td>\n",
              "      <td>NO</td>\n",
              "    </tr>\n",
              "    <tr>\n",
              "      <th>41</th>\n",
              "      <td>41</td>\n",
              "      <td>Chile</td>\n",
              "      <td>CAJA</td>\n",
              "      <td>CAJA DE 56 COMPRIMIDO CONTIENE: VILDAGLIPTINA ...</td>\n",
              "      <td>NO</td>\n",
              "    </tr>\n",
              "    <tr>\n",
              "      <th>42</th>\n",
              "      <td>42</td>\n",
              "      <td>Chile</td>\n",
              "      <td>CAJA</td>\n",
              "      <td>CAJA DE 56 COMPRIMIDO CONTIENE: VILDAGLIPTINA ...</td>\n",
              "      <td>NO</td>\n",
              "    </tr>\n",
              "    <tr>\n",
              "      <th>43</th>\n",
              "      <td>43</td>\n",
              "      <td>Chile</td>\n",
              "      <td>NSULINA</td>\n",
              "      <td>NSULINA CRISTALINA FA 100 UI., ESPECIFICAR MAR...</td>\n",
              "      <td>YES</td>\n",
              "    </tr>\n",
              "    <tr>\n",
              "      <th>44</th>\n",
              "      <td>44</td>\n",
              "      <td>Chile</td>\n",
              "      <td>FENTANILO</td>\n",
              "      <td>FENTANILO 0,5 MG/10 ML SOL. INY. AM/FAM</td>\n",
              "      <td>YES</td>\n",
              "    </tr>\n",
              "    <tr>\n",
              "      <th>45</th>\n",
              "      <td>45</td>\n",
              "      <td>Chile</td>\n",
              "      <td>FENTANILO</td>\n",
              "      <td>FENTANILO 25MCG/HORA PARCHE TRANSDERMICO</td>\n",
              "      <td>YES</td>\n",
              "    </tr>\n",
              "    <tr>\n",
              "      <th>46</th>\n",
              "      <td>46</td>\n",
              "      <td>Chile</td>\n",
              "      <td>FENTANILO</td>\n",
              "      <td>FENTANILO 0,1 MG/2ML SOL.INY. AM/FAM/JPR</td>\n",
              "      <td>YES</td>\n",
              "    </tr>\n",
              "    <tr>\n",
              "      <th>47</th>\n",
              "      <td>47</td>\n",
              "      <td>Chile</td>\n",
              "      <td>FENTANILO</td>\n",
              "      <td>FENTANILO 50MCG/HORA PARCHE TRANSDERMICO</td>\n",
              "      <td>YES</td>\n",
              "    </tr>\n",
              "    <tr>\n",
              "      <th>48</th>\n",
              "      <td>48</td>\n",
              "      <td>Chile</td>\n",
              "      <td>GLAUPAX</td>\n",
              "      <td>GLAUPAX XR 1000 MG X 30 COMP.</td>\n",
              "      <td>YES</td>\n",
              "    </tr>\n",
              "    <tr>\n",
              "      <th>49</th>\n",
              "      <td>49</td>\n",
              "      <td>Chile</td>\n",
              "      <td>GLAUPAX</td>\n",
              "      <td>GLAUPAX XR 500 MG X 30 COMP.</td>\n",
              "      <td>YES</td>\n",
              "    </tr>\n",
              "  </tbody>\n",
              "</table>\n",
              "</div>\n",
              "      <button class=\"colab-df-convert\" onclick=\"convertToInteractive('df-07b8ee6c-8e63-4b32-8a64-b68beef3012e')\"\n",
              "              title=\"Convert this dataframe to an interactive table.\"\n",
              "              style=\"display:none;\">\n",
              "        \n",
              "  <svg xmlns=\"http://www.w3.org/2000/svg\" height=\"24px\"viewBox=\"0 0 24 24\"\n",
              "       width=\"24px\">\n",
              "    <path d=\"M0 0h24v24H0V0z\" fill=\"none\"/>\n",
              "    <path d=\"M18.56 5.44l.94 2.06.94-2.06 2.06-.94-2.06-.94-.94-2.06-.94 2.06-2.06.94zm-11 1L8.5 8.5l.94-2.06 2.06-.94-2.06-.94L8.5 2.5l-.94 2.06-2.06.94zm10 10l.94 2.06.94-2.06 2.06-.94-2.06-.94-.94-2.06-.94 2.06-2.06.94z\"/><path d=\"M17.41 7.96l-1.37-1.37c-.4-.4-.92-.59-1.43-.59-.52 0-1.04.2-1.43.59L10.3 9.45l-7.72 7.72c-.78.78-.78 2.05 0 2.83L4 21.41c.39.39.9.59 1.41.59.51 0 1.02-.2 1.41-.59l7.78-7.78 2.81-2.81c.8-.78.8-2.07 0-2.86zM5.41 20L4 18.59l7.72-7.72 1.47 1.35L5.41 20z\"/>\n",
              "  </svg>\n",
              "      </button>\n",
              "      \n",
              "  <style>\n",
              "    .colab-df-container {\n",
              "      display:flex;\n",
              "      flex-wrap:wrap;\n",
              "      gap: 12px;\n",
              "    }\n",
              "\n",
              "    .colab-df-convert {\n",
              "      background-color: #E8F0FE;\n",
              "      border: none;\n",
              "      border-radius: 50%;\n",
              "      cursor: pointer;\n",
              "      display: none;\n",
              "      fill: #1967D2;\n",
              "      height: 32px;\n",
              "      padding: 0 0 0 0;\n",
              "      width: 32px;\n",
              "    }\n",
              "\n",
              "    .colab-df-convert:hover {\n",
              "      background-color: #E2EBFA;\n",
              "      box-shadow: 0px 1px 2px rgba(60, 64, 67, 0.3), 0px 1px 3px 1px rgba(60, 64, 67, 0.15);\n",
              "      fill: #174EA6;\n",
              "    }\n",
              "\n",
              "    [theme=dark] .colab-df-convert {\n",
              "      background-color: #3B4455;\n",
              "      fill: #D2E3FC;\n",
              "    }\n",
              "\n",
              "    [theme=dark] .colab-df-convert:hover {\n",
              "      background-color: #434B5C;\n",
              "      box-shadow: 0px 1px 3px 1px rgba(0, 0, 0, 0.15);\n",
              "      filter: drop-shadow(0px 1px 2px rgba(0, 0, 0, 0.3));\n",
              "      fill: #FFFFFF;\n",
              "    }\n",
              "  </style>\n",
              "\n",
              "      <script>\n",
              "        const buttonEl =\n",
              "          document.querySelector('#df-07b8ee6c-8e63-4b32-8a64-b68beef3012e button.colab-df-convert');\n",
              "        buttonEl.style.display =\n",
              "          google.colab.kernel.accessAllowed ? 'block' : 'none';\n",
              "\n",
              "        async function convertToInteractive(key) {\n",
              "          const element = document.querySelector('#df-07b8ee6c-8e63-4b32-8a64-b68beef3012e');\n",
              "          const dataTable =\n",
              "            await google.colab.kernel.invokeFunction('convertToInteractive',\n",
              "                                                     [key], {});\n",
              "          if (!dataTable) return;\n",
              "\n",
              "          const docLinkHtml = 'Like what you see? Visit the ' +\n",
              "            '<a target=\"_blank\" href=https://colab.research.google.com/notebooks/data_table.ipynb>data table notebook</a>'\n",
              "            + ' to learn more about interactive tables.';\n",
              "          element.innerHTML = '';\n",
              "          dataTable['output_type'] = 'display_data';\n",
              "          await google.colab.output.renderOutput(dataTable, element);\n",
              "          const docLink = document.createElement('div');\n",
              "          docLink.innerHTML = docLinkHtml;\n",
              "          element.appendChild(docLink);\n",
              "        }\n",
              "      </script>\n",
              "    </div>\n",
              "  </div>\n",
              "  "
            ]
          },
          "metadata": {},
          "execution_count": 62
        }
      ]
    },
    {
      "cell_type": "code",
      "source": [
        "FirstNameClass_merged_T.to_excel(\"FirstNameClass_merged_Total.xlsx\", sheet_name = 'FirstNameClass_merged_Total')  "
      ],
      "metadata": {
        "id": "fi2oMA-rtYY4"
      },
      "id": "fi2oMA-rtYY4",
      "execution_count": 70,
      "outputs": []
    },
    {
      "cell_type": "code",
      "source": [
        "FirstNameClass_merged_T_T = FirstNameClass_merged_T[FirstNameClass_merged_T['FirstNameTF'] == 'YES']"
      ],
      "metadata": {
        "id": "ApJq2-2mtYLV"
      },
      "id": "ApJq2-2mtYLV",
      "execution_count": 71,
      "outputs": []
    },
    {
      "cell_type": "code",
      "source": [
        "FirstNameClass_merged_T_T.to_excel(\"FirstNameClass_merged_T_True.xlsx\", sheet_name = 'FirstNameClass_merged_T_True')  "
      ],
      "metadata": {
        "id": "-_hiNhqptX5j"
      },
      "id": "-_hiNhqptX5j",
      "execution_count": 72,
      "outputs": []
    },
    {
      "cell_type": "code",
      "source": [
        "FirstNameClass_merged_T_F = FirstNameClass_merged_T[FirstNameClass_merged_T['FirstNameTF'] == 'NO']"
      ],
      "metadata": {
        "id": "dxO4ERwVXEXr"
      },
      "id": "dxO4ERwVXEXr",
      "execution_count": 73,
      "outputs": []
    },
    {
      "cell_type": "code",
      "source": [
        "FirstNameClass_merged_T_F.to_excel(\"FirstNameClass_merged_T_False.xlsx\", sheet_name = 'FirstNameClass_merged_T_False')  "
      ],
      "metadata": {
        "id": "fP9pzgvPX3Yi"
      },
      "id": "fP9pzgvPX3Yi",
      "execution_count": 74,
      "outputs": []
    }
  ],
  "metadata": {
    "kernelspec": {
      "display_name": "Python 3 (ipykernel)",
      "language": "python",
      "name": "python3"
    },
    "language_info": {
      "codemirror_mode": {
        "name": "ipython",
        "version": 3
      },
      "file_extension": ".py",
      "mimetype": "text/x-python",
      "name": "python",
      "nbconvert_exporter": "python",
      "pygments_lexer": "ipython3",
      "version": "3.9.7"
    },
    "colab": {
      "name": "Drugs Data Cleaning.ipynb",
      "provenance": [],
      "collapsed_sections": [],
      "include_colab_link": true
    }
  },
  "nbformat": 4,
  "nbformat_minor": 5
}
