{
  "cells": [
    {
      "cell_type": "markdown",
      "metadata": {
        "id": "view-in-github",
        "colab_type": "text"
      },
      "source": [
        "<a href=\"https://colab.research.google.com/github/wenjunc2/PAHO-Drug-Data-Cleaning-Summer-2022/blob/main/RawData_Chile.ipynb\" target=\"_parent\"><img src=\"https://colab.research.google.com/assets/colab-badge.svg\" alt=\"Open In Colab\"/></a>"
      ]
    },
    {
      "cell_type": "markdown",
      "source": [
        "## Chile drug names 1"
      ],
      "metadata": {
        "id": "dbnNO3fQ0y4W"
      },
      "id": "dbnNO3fQ0y4W"
    },
    {
      "cell_type": "code",
      "execution_count": 3,
      "id": "b3fa8107",
      "metadata": {
        "id": "b3fa8107"
      },
      "outputs": [],
      "source": [
        "import pandas as pd\n",
        "#CHLDiab1 = pd.read_csv('CHLDiab1.csv')"
      ]
    },
    {
      "cell_type": "code",
      "source": [
        "import chardet\n",
        "with open('CHLDiab1.csv', 'rb') as rawdata:\n",
        "    result = chardet.detect(rawdata.read(100000))\n",
        "result"
      ],
      "metadata": {
        "colab": {
          "base_uri": "https://localhost:8080/"
        },
        "id": "r1d_V5TVpDwV",
        "outputId": "20383cfa-4b8f-473d-c729-3b6ca77363e9"
      },
      "id": "r1d_V5TVpDwV",
      "execution_count": 1,
      "outputs": [
        {
          "output_type": "execute_result",
          "data": {
            "text/plain": [
              "{'confidence': 0.73, 'encoding': 'Windows-1252', 'language': ''}"
            ]
          },
          "metadata": {},
          "execution_count": 1
        }
      ]
    },
    {
      "cell_type": "code",
      "source": [
        "CHLDiab1 = pd.read_csv('CHLDiab1.csv',encoding='Windows-1252')\n",
        "#CHLDiab1.head(1)"
      ],
      "metadata": {
        "id": "79tftgRQpR3j"
      },
      "id": "79tftgRQpR3j",
      "execution_count": 4,
      "outputs": []
    },
    {
      "cell_type": "code",
      "source": [
        "CHLDiab1DirtyName = CHLDiab1['Descripcion linea Adquisicion']"
      ],
      "metadata": {
        "id": "jmiWyFl4qPmF"
      },
      "id": "jmiWyFl4qPmF",
      "execution_count": 5,
      "outputs": []
    },
    {
      "cell_type": "code",
      "source": [
        "len(CHLDiab1DirtyName)"
      ],
      "metadata": {
        "colab": {
          "base_uri": "https://localhost:8080/"
        },
        "id": "7sMAKJhI3MY5",
        "outputId": "b4d79950-f5d2-44c4-ccdb-0752ffb63c9f"
      },
      "id": "7sMAKJhI3MY5",
      "execution_count": 6,
      "outputs": [
        {
          "output_type": "execute_result",
          "data": {
            "text/plain": [
              "20606"
            ]
          },
          "metadata": {},
          "execution_count": 6
        }
      ]
    },
    {
      "cell_type": "code",
      "source": [
        "CHLDiab1DirtyName = list(set(CHLDiab1DirtyName))\n",
        "len(CHLDiab1DirtyName)"
      ],
      "metadata": {
        "colab": {
          "base_uri": "https://localhost:8080/"
        },
        "id": "jmtesnch3Qph",
        "outputId": "b7f2328e-7286-4002-907d-295b86dab051"
      },
      "id": "jmtesnch3Qph",
      "execution_count": 7,
      "outputs": [
        {
          "output_type": "execute_result",
          "data": {
            "text/plain": [
              "3663"
            ]
          },
          "metadata": {},
          "execution_count": 7
        }
      ]
    },
    {
      "cell_type": "code",
      "source": [
        "# uppercase everything\n",
        "CHLDiab1DirtyNameU = []\n",
        "for i in CHLDiab1DirtyName:\n",
        "  CHLDiab1DirtyNameU.append(i.upper())"
      ],
      "metadata": {
        "id": "tjQ9P5amTXGm"
      },
      "id": "tjQ9P5amTXGm",
      "execution_count": 8,
      "outputs": []
    },
    {
      "cell_type": "code",
      "source": [
        "CHLDiab1DirtyNameU[:5]"
      ],
      "metadata": {
        "colab": {
          "base_uri": "https://localhost:8080/"
        },
        "id": "O-R3BU5iMI0Z",
        "outputId": "327de1ee-fd2e-407c-ac02-2eb059b4a4f8"
      },
      "id": "O-R3BU5iMI0Z",
      "execution_count": 9,
      "outputs": [
        {
          "output_type": "execute_result",
          "data": {
            "text/plain": [
              "['007-0084 INSULINA GLULISINA 300 UI / 3 ML  CARTRIDGE C/DISPOSITIVO  PRELLENADO DESECHABLE PARA DISPENSACIÓN',\n",
              " 'JERINGA HIPODERMICA INSULINA 1 ML / 30 UI, CON AGUJA FIJA 29 G X 8 MM Y PROTECTOR DE AGUJA, DE POLIPROPILENO TRANSPARENTE, LIBRE DE LATEX CON ESCALA NUMERICA NITIDA E INDELEBLE CON GRADUACION DE 2 EN 2 UNIDADES (224-4517)',\n",
              " '50-262-100-354-00\\tINSULINA ASSAY (KIT X 100 DET)\\r\\r\\n',\n",
              " 'TRAYENTA DUO 2.5MG/1000MG, 60 COM',\n",
              " '40400170196\\t INSULINA GLARGINA 300 UI LÁPIZ 1,5 ML.\\tLAPICERA PRELLENADA 1,5 ML. SOLUCIÓN INYECTABLE (LOS OFERENTES DEBERÁN CONSIDERAR LA ENTREGA DE 30 AGUJAS DE 4 MM POR CADA LÁPIZ.)\\r\\r\\n\\t\\t\\r\\r\\n\\t\\t\\r\\r\\n']"
            ]
          },
          "metadata": {},
          "execution_count": 9
        }
      ]
    },
    {
      "cell_type": "code",
      "source": [
        "from nltk.tokenize import WordPunctTokenizer\n",
        "tokenizer = WordPunctTokenizer()"
      ],
      "metadata": {
        "id": "8iUjZE7iTTjg"
      },
      "id": "8iUjZE7iTTjg",
      "execution_count": 10,
      "outputs": []
    },
    {
      "cell_type": "code",
      "source": [
        "CHLDiab1DirtyNameUS = []\n",
        "for i in CHLDiab1DirtyNameU:\n",
        "  temp = tokenizer.tokenize(i)\n",
        "  CHLDiab1DirtyNameUS.append(temp)\n",
        "\n",
        "CHLDiab1DirtyNameUS2 = []\n",
        "for i in CHLDiab1DirtyNameUS:\n",
        "  temp_sub = []\n",
        "  for j in i:\n",
        "    if len(j) >= 4 and len(j) <= 20:\n",
        "      temp_sub.append(j)\n",
        "  CHLDiab1DirtyNameUS2.append(temp_sub)"
      ],
      "metadata": {
        "id": "y45nAIqbTTWY"
      },
      "id": "y45nAIqbTTWY",
      "execution_count": 11,
      "outputs": []
    },
    {
      "cell_type": "code",
      "source": [
        ""
      ],
      "metadata": {
        "id": "6W2T714UxCPO"
      },
      "id": "6W2T714UxCPO",
      "execution_count": null,
      "outputs": []
    },
    {
      "cell_type": "markdown",
      "source": [
        "## clean data base drug names"
      ],
      "metadata": {
        "id": "QEorQ0xn0O5f"
      },
      "id": "QEorQ0xn0O5f"
    },
    {
      "cell_type": "code",
      "source": [
        "import pandas as pd\n",
        "CleanDataBase = pd.read_excel('CleanDataBase.xlsx')\n",
        "CatalogName = CleanDataBase['Catalog Name']\n",
        "CatalogName = list(set(CatalogName))\n",
        "CatalogName = [x for x in CatalogName if str(x) != 'nan']\n",
        "\n",
        "CatalogNameCopy = CatalogName.copy()\n",
        "# uppercase everything\n",
        "CatalogNameU = []\n",
        "for i in CatalogNameCopy:\n",
        "  CatalogNameU.append(i.upper())"
      ],
      "metadata": {
        "id": "uMgytE7z0aw4"
      },
      "id": "uMgytE7z0aw4",
      "execution_count": 12,
      "outputs": []
    },
    {
      "cell_type": "code",
      "source": [
        "CatalogNameUS = []\n",
        "for i in CatalogNameU:\n",
        "  temp = tokenizer.tokenize(i)\n",
        "  CatalogNameUS.append(temp)"
      ],
      "metadata": {
        "id": "PyQiJrJwRXHO"
      },
      "id": "PyQiJrJwRXHO",
      "execution_count": 13,
      "outputs": []
    },
    {
      "cell_type": "code",
      "source": [
        "CatalogNameUS2 = []\n",
        "for i in CatalogNameUS:\n",
        "  temp_sub = []\n",
        "  for j in i:\n",
        "    if len(j) >= 4 and len(j) <= 20:\n",
        "      temp_sub.append(j)\n",
        "  CatalogNameUS2.append(temp_sub)"
      ],
      "metadata": {
        "id": "XptSzqA2r8EG"
      },
      "id": "XptSzqA2r8EG",
      "execution_count": 14,
      "outputs": []
    },
    {
      "cell_type": "code",
      "source": [
        "CatalogNameUS3 = []\n",
        "for i in CatalogNameUS2:\n",
        "  temp_sub = i[0]\n",
        "  CatalogNameUS3.append(temp_sub)"
      ],
      "metadata": {
        "id": "vNLAwVefxEXD"
      },
      "id": "vNLAwVefxEXD",
      "execution_count": 15,
      "outputs": []
    },
    {
      "cell_type": "markdown",
      "source": [
        "## UDF"
      ],
      "metadata": {
        "id": "CNuxWweYz0TQ"
      },
      "id": "CNuxWweYz0TQ"
    },
    {
      "cell_type": "code",
      "source": [
        "DetermineList_1 = []\n",
        "for i in CHLDiab1DirtyNameUS2:\n",
        "  temp = []\n",
        "  for k in i:\n",
        "    for j in CatalogNameUS3:\n",
        "      if k == j:\n",
        "        temp.append(j)\n",
        "  DetermineList_1.append(temp)\n",
        "\n",
        " # temp_dis = Simhash(CHLDiab1DirtyNameUS2[1]).distance(Simhash(i))\n",
        " # DistanceList_1.append(temp_dis)"
      ],
      "metadata": {
        "id": "a7MzwnLcz4Lq"
      },
      "id": "a7MzwnLcz4Lq",
      "execution_count": 17,
      "outputs": []
    },
    {
      "cell_type": "code",
      "source": [
        "temp = []\n",
        "for k in CHLDiab1DirtyNameUS2[0]:\n",
        "  for j in CatalogNameUS3:\n",
        "    if k == j:\n",
        "      temp.append(j)\n",
        "temp"
      ],
      "metadata": {
        "colab": {
          "base_uri": "https://localhost:8080/"
        },
        "id": "PtsGpCZP2E5l",
        "outputId": "a70547a6-095a-481c-b958-791ef7312f04"
      },
      "id": "PtsGpCZP2E5l",
      "execution_count": 18,
      "outputs": [
        {
          "output_type": "execute_result",
          "data": {
            "text/plain": [
              "[]"
            ]
          },
          "metadata": {},
          "execution_count": 18
        }
      ]
    },
    {
      "cell_type": "code",
      "source": [
        "for k in CHLDiab1DirtyNameUS2[0]:\n",
        "  print(k)"
      ],
      "metadata": {
        "colab": {
          "base_uri": "https://localhost:8080/"
        },
        "id": "nttjxh5Q3idJ",
        "outputId": "b8250b73-1ee4-4be1-b6c7-ab25a1d0377d"
      },
      "id": "nttjxh5Q3idJ",
      "execution_count": 19,
      "outputs": [
        {
          "output_type": "stream",
          "name": "stdout",
          "text": [
            "0084\n",
            "INSULINA\n",
            "GLULISINA\n",
            "CARTRIDGE\n",
            "DISPOSITIVO\n",
            "PRELLENADO\n",
            "DESECHABLE\n",
            "PARA\n",
            "DISPENSACIÓN\n"
          ]
        }
      ]
    },
    {
      "cell_type": "code",
      "source": [
        "#for j in CatalogNameUS3:\n",
        "#  print(j)"
      ],
      "metadata": {
        "id": "b1T2xRu_3tc9"
      },
      "id": "b1T2xRu_3tc9",
      "execution_count": 21,
      "outputs": []
    },
    {
      "cell_type": "code",
      "source": [
        "CHLDiab1DirtyNameUS2[:5]"
      ],
      "metadata": {
        "colab": {
          "base_uri": "https://localhost:8080/"
        },
        "id": "gyf6xE5wz4Gw",
        "outputId": "e76800c3-c908-4a2d-807d-65eef060b147"
      },
      "id": "gyf6xE5wz4Gw",
      "execution_count": 16,
      "outputs": [
        {
          "output_type": "execute_result",
          "data": {
            "text/plain": [
              "[['0084',\n",
              "  'INSULINA',\n",
              "  'GLULISINA',\n",
              "  'CARTRIDGE',\n",
              "  'DISPOSITIVO',\n",
              "  'PRELLENADO',\n",
              "  'DESECHABLE',\n",
              "  'PARA',\n",
              "  'DISPENSACIÓN'],\n",
              " ['JERINGA',\n",
              "  'HIPODERMICA',\n",
              "  'INSULINA',\n",
              "  'AGUJA',\n",
              "  'FIJA',\n",
              "  'PROTECTOR',\n",
              "  'AGUJA',\n",
              "  'POLIPROPILENO',\n",
              "  'TRANSPARENTE',\n",
              "  'LIBRE',\n",
              "  'LATEX',\n",
              "  'ESCALA',\n",
              "  'NUMERICA',\n",
              "  'NITIDA',\n",
              "  'INDELEBLE',\n",
              "  'GRADUACION',\n",
              "  'UNIDADES',\n",
              "  '4517'],\n",
              " ['INSULINA', 'ASSAY'],\n",
              " ['TRAYENTA', '1000MG'],\n",
              " ['40400170196',\n",
              "  'INSULINA',\n",
              "  'GLARGINA',\n",
              "  'LÁPIZ',\n",
              "  'LAPICERA',\n",
              "  'PRELLENADA',\n",
              "  'SOLUCIÓN',\n",
              "  'INYECTABLE',\n",
              "  'OFERENTES',\n",
              "  'DEBERÁN',\n",
              "  'CONSIDERAR',\n",
              "  'ENTREGA',\n",
              "  'AGUJAS',\n",
              "  'CADA',\n",
              "  'LÁPIZ']]"
            ]
          },
          "metadata": {},
          "execution_count": 16
        }
      ]
    },
    {
      "cell_type": "code",
      "source": [
        ""
      ],
      "metadata": {
        "id": "X92Qu159z4Bm"
      },
      "id": "X92Qu159z4Bm",
      "execution_count": null,
      "outputs": []
    },
    {
      "cell_type": "code",
      "source": [
        ""
      ],
      "metadata": {
        "id": "eRtjULu8z3-s"
      },
      "id": "eRtjULu8z3-s",
      "execution_count": null,
      "outputs": []
    },
    {
      "cell_type": "code",
      "source": [
        ""
      ],
      "metadata": {
        "id": "vDeDQSZKz36X"
      },
      "id": "vDeDQSZKz36X",
      "execution_count": null,
      "outputs": []
    },
    {
      "cell_type": "code",
      "source": [
        ""
      ],
      "metadata": {
        "id": "Qm7QQhHxz30S"
      },
      "id": "Qm7QQhHxz30S",
      "execution_count": null,
      "outputs": []
    },
    {
      "cell_type": "markdown",
      "source": [
        "## SimHash"
      ],
      "metadata": {
        "id": "rR7zhZXf12Sd"
      },
      "id": "rR7zhZXf12Sd"
    },
    {
      "cell_type": "code",
      "source": [
        "import jieba\n",
        "!pip install simhash"
      ],
      "metadata": {
        "colab": {
          "base_uri": "https://localhost:8080/"
        },
        "id": "fEV_2uni0bsV",
        "outputId": "5d8ed163-99b3-4371-b2f4-f4bf5bd8db79"
      },
      "id": "fEV_2uni0bsV",
      "execution_count": null,
      "outputs": [
        {
          "output_type": "stream",
          "name": "stdout",
          "text": [
            "Looking in indexes: https://pypi.org/simple, https://us-python.pkg.dev/colab-wheels/public/simple/\n",
            "Requirement already satisfied: simhash in /usr/local/lib/python3.7/dist-packages (2.1.2)\n",
            "Requirement already satisfied: numpy in /usr/local/lib/python3.7/dist-packages (from simhash) (1.21.6)\n"
          ]
        }
      ]
    },
    {
      "cell_type": "code",
      "source": [
        "from simhash import Simhash"
      ],
      "metadata": {
        "id": "qTSrrse30bp7"
      },
      "id": "qTSrrse30bp7",
      "execution_count": null,
      "outputs": []
    },
    {
      "cell_type": "code",
      "source": [
        "CHLDiab1DirtyNameUS2[0]"
      ],
      "metadata": {
        "colab": {
          "base_uri": "https://localhost:8080/"
        },
        "id": "4VpbweErKe3g",
        "outputId": "0f24ae5a-6749-448c-ff0f-e5396c7a3f86"
      },
      "id": "4VpbweErKe3g",
      "execution_count": null,
      "outputs": [
        {
          "output_type": "execute_result",
          "data": {
            "text/plain": [
              "['INSULINA',\n",
              " 'ASPART',\n",
              " 'TIPO',\n",
              " 'LAPIZ',\n",
              " 'DEBE',\n",
              " 'INCLUIR',\n",
              " 'MEDICAMENTO',\n",
              " 'ADMINISTRAR',\n",
              " 'DISPOSITIVO',\n",
              " 'OTORGUE',\n",
              " 'ADMINISTRACIÓN',\n",
              " 'DOSIS']"
            ]
          },
          "metadata": {},
          "execution_count": 74
        }
      ]
    },
    {
      "cell_type": "code",
      "source": [
        "print(Simhash(CHLDiab1DirtyNameUS2[0]).distance(Simhash(CatalogNameUS2[0]))) "
      ],
      "metadata": {
        "colab": {
          "base_uri": "https://localhost:8080/"
        },
        "id": "8pggtao00bmr",
        "outputId": "27a8b921-4633-4faa-9185-41fb09152177"
      },
      "id": "8pggtao00bmr",
      "execution_count": null,
      "outputs": [
        {
          "output_type": "stream",
          "name": "stdout",
          "text": [
            "35\n"
          ]
        }
      ]
    },
    {
      "cell_type": "code",
      "source": [
        "DistanceList_1 = []\n",
        "for i in CatalogNameUS2:\n",
        "  temp_dis = Simhash(CHLDiab1DirtyNameUS2[1]).distance(Simhash(i))\n",
        "  DistanceList_1.append(temp_dis)"
      ],
      "metadata": {
        "id": "jjbhmoq20bjN"
      },
      "id": "jjbhmoq20bjN",
      "execution_count": null,
      "outputs": []
    },
    {
      "cell_type": "code",
      "source": [
        "min(DistanceList_1)"
      ],
      "metadata": {
        "colab": {
          "base_uri": "https://localhost:8080/"
        },
        "id": "0nEf_QDqUMmA",
        "outputId": "237438c9-40cb-4943-a7e3-25e58705fd98"
      },
      "id": "0nEf_QDqUMmA",
      "execution_count": null,
      "outputs": [
        {
          "output_type": "execute_result",
          "data": {
            "text/plain": [
              "19"
            ]
          },
          "metadata": {},
          "execution_count": 77
        }
      ]
    },
    {
      "cell_type": "code",
      "source": [
        "val, idx = min((val, idx) for (idx, val) in enumerate(DistanceList_1))"
      ],
      "metadata": {
        "id": "YEe6AGmMUpXP"
      },
      "id": "YEe6AGmMUpXP",
      "execution_count": null,
      "outputs": []
    },
    {
      "cell_type": "code",
      "source": [
        "print(val, idx)"
      ],
      "metadata": {
        "colab": {
          "base_uri": "https://localhost:8080/"
        },
        "id": "EOa17ITEUt3e",
        "outputId": "82240e37-6292-46cf-8436-f4d61e05e78b"
      },
      "id": "EOa17ITEUt3e",
      "execution_count": null,
      "outputs": [
        {
          "output_type": "stream",
          "name": "stdout",
          "text": [
            "19 84\n"
          ]
        }
      ]
    },
    {
      "cell_type": "code",
      "source": [
        "CatalogNameUS[84]\n",
        "#print([' '.join(row) for row in CatalogNameUS[257]])"
      ],
      "metadata": {
        "colab": {
          "base_uri": "https://localhost:8080/"
        },
        "id": "NgErlZLXUwrb",
        "outputId": "00c515f5-27d8-4e4e-afa6-c8998ffd5cc6"
      },
      "id": "NgErlZLXUwrb",
      "execution_count": null,
      "outputs": [
        {
          "output_type": "execute_result",
          "data": {
            "text/plain": [
              "['TACROLIMUS', '3', 'MG', ',', 'CAPSULE', ',', 'TBD']"
            ]
          },
          "metadata": {},
          "execution_count": 84
        }
      ]
    },
    {
      "cell_type": "code",
      "source": [
        "CHLDiab1DirtyNameUS2[1]"
      ],
      "metadata": {
        "colab": {
          "base_uri": "https://localhost:8080/"
        },
        "id": "hNto7T9LVDES",
        "outputId": "10475ab0-a5f9-4d85-b13a-bb28ce311b8d"
      },
      "id": "hNto7T9LVDES",
      "execution_count": null,
      "outputs": [
        {
          "output_type": "execute_result",
          "data": {
            "text/plain": [
              "['INUSLINA',\n",
              " 'ULTRA',\n",
              " 'RÁPIDA',\n",
              " 'ASPARTICA',\n",
              " 'LISPRO',\n",
              " 'GLULISINA',\n",
              " 'CARTUCHO',\n",
              " '1000']"
            ]
          },
          "metadata": {},
          "execution_count": 85
        }
      ]
    },
    {
      "cell_type": "code",
      "source": [
        "DistanceList_0\n",
        "\n",
        "def find(lst, a, b):\n",
        "    result = []\n",
        "    for i, x in enumerate(lst):\n",
        "        if x<a or x>b:\n",
        "            result.append(i)\n",
        "    return result"
      ],
      "metadata": {
        "id": "CWC1T45m0bcX"
      },
      "id": "CWC1T45m0bcX",
      "execution_count": null,
      "outputs": []
    },
    {
      "cell_type": "code",
      "source": [
        ""
      ],
      "metadata": {
        "id": "xPGsf5Uj0bLj"
      },
      "id": "xPGsf5Uj0bLj",
      "execution_count": null,
      "outputs": []
    }
  ],
  "metadata": {
    "kernelspec": {
      "display_name": "Python 3 (ipykernel)",
      "language": "python",
      "name": "python3"
    },
    "language_info": {
      "codemirror_mode": {
        "name": "ipython",
        "version": 3
      },
      "file_extension": ".py",
      "mimetype": "text/x-python",
      "name": "python",
      "nbconvert_exporter": "python",
      "pygments_lexer": "ipython3",
      "version": "3.9.7"
    },
    "colab": {
      "name": "RawData_Chile.ipynb",
      "provenance": [],
      "include_colab_link": true
    }
  },
  "nbformat": 4,
  "nbformat_minor": 5
}
