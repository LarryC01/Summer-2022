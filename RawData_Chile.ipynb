{
  "cells": [
    {
      "cell_type": "markdown",
      "metadata": {
        "id": "view-in-github",
        "colab_type": "text"
      },
      "source": [
        "<a href=\"https://colab.research.google.com/github/wenjunc2/Summer-2022/blob/main/RawData_Chile.ipynb\" target=\"_parent\"><img src=\"https://colab.research.google.com/assets/colab-badge.svg\" alt=\"Open In Colab\"/></a>"
      ]
    },
    {
      "cell_type": "code",
      "execution_count": 9,
      "id": "b3fa8107",
      "metadata": {
        "id": "b3fa8107"
      },
      "outputs": [],
      "source": [
        "import pandas as pd\n",
        "#CHLDiab1 = pd.read_csv('CHLDiab1.csv')"
      ]
    },
    {
      "cell_type": "code",
      "source": [
        "import chardet\n",
        "with open('CHLDiab1.csv', 'rb') as rawdata:\n",
        "    result = chardet.detect(rawdata.read(100000))\n",
        "result"
      ],
      "metadata": {
        "colab": {
          "base_uri": "https://localhost:8080/"
        },
        "id": "r1d_V5TVpDwV",
        "outputId": "fd0eac65-b625-4d42-f4f5-7c0e7977d18f"
      },
      "id": "r1d_V5TVpDwV",
      "execution_count": 7,
      "outputs": [
        {
          "output_type": "execute_result",
          "data": {
            "text/plain": [
              "{'confidence': 0.73, 'encoding': 'Windows-1252', 'language': ''}"
            ]
          },
          "metadata": {},
          "execution_count": 7
        }
      ]
    },
    {
      "cell_type": "code",
      "source": [
        "CHLDiab1 = pd.read_csv('CHLDiab1.csv',encoding='Windows-1252')\n",
        "CHLDiab1.head(1)"
      ],
      "metadata": {
        "colab": {
          "base_uri": "https://localhost:8080/",
          "height": 296
        },
        "id": "79tftgRQpR3j",
        "outputId": "45b469b1-f64a-47e0-b977-6c72291a572a"
      },
      "id": "79tftgRQpR3j",
      "execution_count": 11,
      "outputs": [
        {
          "output_type": "execute_result",
          "data": {
            "text/plain": [
              "   Unnamed: 0   Codigo                              Tipo de Adquisicion  \\\n",
              "0           1  8604485  Licitación Pública entre a 2000 y 5000 UTM (LQ)   \n",
              "\n",
              "   Estado                          Nombre Organismo      Region Unidad  \\\n",
              "0       9  SERVICIO DE SALUD CONCEPCION ARAUCO CONS  Región del Biobío   \n",
              "\n",
              "  Codigo Moneda Fecha Creacion Fecha Publicacion Fecha Adjudicacion  ...  \\\n",
              "0           CLP     2019-10-27        2020-01-08         2020-04-24  ...   \n",
              "\n",
              "  Valor Total Ofertado Cantidad Adjudicada Monto Linea Adjudica  \\\n",
              "0               2740.0                   1               2740.0   \n",
              "\n",
              "  Fecha Envio Oferta Oferta seleccionada     CHL-USD  \\\n",
              "0         2020-01-23        Seleccionada  852.250455   \n",
              "\n",
              "  Monto Unitario Oferta USD Monto Linea Adjudica USD  \\\n",
              "0                  3.215017                 3.215017   \n",
              "\n",
              "   Valor Total Ofertado USD  Tipo de Institucion  \n",
              "0                  3.215017    Servicio de Salud  \n",
              "\n",
              "[1 rows x 29 columns]"
            ],
            "text/html": [
              "\n",
              "  <div id=\"df-44893273-969a-47d5-908b-f18cf076be5c\">\n",
              "    <div class=\"colab-df-container\">\n",
              "      <div>\n",
              "<style scoped>\n",
              "    .dataframe tbody tr th:only-of-type {\n",
              "        vertical-align: middle;\n",
              "    }\n",
              "\n",
              "    .dataframe tbody tr th {\n",
              "        vertical-align: top;\n",
              "    }\n",
              "\n",
              "    .dataframe thead th {\n",
              "        text-align: right;\n",
              "    }\n",
              "</style>\n",
              "<table border=\"1\" class=\"dataframe\">\n",
              "  <thead>\n",
              "    <tr style=\"text-align: right;\">\n",
              "      <th></th>\n",
              "      <th>Unnamed: 0</th>\n",
              "      <th>Codigo</th>\n",
              "      <th>Tipo de Adquisicion</th>\n",
              "      <th>Estado</th>\n",
              "      <th>Nombre Organismo</th>\n",
              "      <th>Region Unidad</th>\n",
              "      <th>Codigo Moneda</th>\n",
              "      <th>Fecha Creacion</th>\n",
              "      <th>Fecha Publicacion</th>\n",
              "      <th>Fecha Adjudicacion</th>\n",
              "      <th>...</th>\n",
              "      <th>Valor Total Ofertado</th>\n",
              "      <th>Cantidad Adjudicada</th>\n",
              "      <th>Monto Linea Adjudica</th>\n",
              "      <th>Fecha Envio Oferta</th>\n",
              "      <th>Oferta seleccionada</th>\n",
              "      <th>CHL-USD</th>\n",
              "      <th>Monto Unitario Oferta USD</th>\n",
              "      <th>Monto Linea Adjudica USD</th>\n",
              "      <th>Valor Total Ofertado USD</th>\n",
              "      <th>Tipo de Institucion</th>\n",
              "    </tr>\n",
              "  </thead>\n",
              "  <tbody>\n",
              "    <tr>\n",
              "      <th>0</th>\n",
              "      <td>1</td>\n",
              "      <td>8604485</td>\n",
              "      <td>Licitación Pública entre a 2000 y 5000 UTM (LQ)</td>\n",
              "      <td>9</td>\n",
              "      <td>SERVICIO DE SALUD CONCEPCION ARAUCO CONS</td>\n",
              "      <td>Región del Biobío</td>\n",
              "      <td>CLP</td>\n",
              "      <td>2019-10-27</td>\n",
              "      <td>2020-01-08</td>\n",
              "      <td>2020-04-24</td>\n",
              "      <td>...</td>\n",
              "      <td>2740.0</td>\n",
              "      <td>1</td>\n",
              "      <td>2740.0</td>\n",
              "      <td>2020-01-23</td>\n",
              "      <td>Seleccionada</td>\n",
              "      <td>852.250455</td>\n",
              "      <td>3.215017</td>\n",
              "      <td>3.215017</td>\n",
              "      <td>3.215017</td>\n",
              "      <td>Servicio de Salud</td>\n",
              "    </tr>\n",
              "  </tbody>\n",
              "</table>\n",
              "<p>1 rows × 29 columns</p>\n",
              "</div>\n",
              "      <button class=\"colab-df-convert\" onclick=\"convertToInteractive('df-44893273-969a-47d5-908b-f18cf076be5c')\"\n",
              "              title=\"Convert this dataframe to an interactive table.\"\n",
              "              style=\"display:none;\">\n",
              "        \n",
              "  <svg xmlns=\"http://www.w3.org/2000/svg\" height=\"24px\"viewBox=\"0 0 24 24\"\n",
              "       width=\"24px\">\n",
              "    <path d=\"M0 0h24v24H0V0z\" fill=\"none\"/>\n",
              "    <path d=\"M18.56 5.44l.94 2.06.94-2.06 2.06-.94-2.06-.94-.94-2.06-.94 2.06-2.06.94zm-11 1L8.5 8.5l.94-2.06 2.06-.94-2.06-.94L8.5 2.5l-.94 2.06-2.06.94zm10 10l.94 2.06.94-2.06 2.06-.94-2.06-.94-.94-2.06-.94 2.06-2.06.94z\"/><path d=\"M17.41 7.96l-1.37-1.37c-.4-.4-.92-.59-1.43-.59-.52 0-1.04.2-1.43.59L10.3 9.45l-7.72 7.72c-.78.78-.78 2.05 0 2.83L4 21.41c.39.39.9.59 1.41.59.51 0 1.02-.2 1.41-.59l7.78-7.78 2.81-2.81c.8-.78.8-2.07 0-2.86zM5.41 20L4 18.59l7.72-7.72 1.47 1.35L5.41 20z\"/>\n",
              "  </svg>\n",
              "      </button>\n",
              "      \n",
              "  <style>\n",
              "    .colab-df-container {\n",
              "      display:flex;\n",
              "      flex-wrap:wrap;\n",
              "      gap: 12px;\n",
              "    }\n",
              "\n",
              "    .colab-df-convert {\n",
              "      background-color: #E8F0FE;\n",
              "      border: none;\n",
              "      border-radius: 50%;\n",
              "      cursor: pointer;\n",
              "      display: none;\n",
              "      fill: #1967D2;\n",
              "      height: 32px;\n",
              "      padding: 0 0 0 0;\n",
              "      width: 32px;\n",
              "    }\n",
              "\n",
              "    .colab-df-convert:hover {\n",
              "      background-color: #E2EBFA;\n",
              "      box-shadow: 0px 1px 2px rgba(60, 64, 67, 0.3), 0px 1px 3px 1px rgba(60, 64, 67, 0.15);\n",
              "      fill: #174EA6;\n",
              "    }\n",
              "\n",
              "    [theme=dark] .colab-df-convert {\n",
              "      background-color: #3B4455;\n",
              "      fill: #D2E3FC;\n",
              "    }\n",
              "\n",
              "    [theme=dark] .colab-df-convert:hover {\n",
              "      background-color: #434B5C;\n",
              "      box-shadow: 0px 1px 3px 1px rgba(0, 0, 0, 0.15);\n",
              "      filter: drop-shadow(0px 1px 2px rgba(0, 0, 0, 0.3));\n",
              "      fill: #FFFFFF;\n",
              "    }\n",
              "  </style>\n",
              "\n",
              "      <script>\n",
              "        const buttonEl =\n",
              "          document.querySelector('#df-44893273-969a-47d5-908b-f18cf076be5c button.colab-df-convert');\n",
              "        buttonEl.style.display =\n",
              "          google.colab.kernel.accessAllowed ? 'block' : 'none';\n",
              "\n",
              "        async function convertToInteractive(key) {\n",
              "          const element = document.querySelector('#df-44893273-969a-47d5-908b-f18cf076be5c');\n",
              "          const dataTable =\n",
              "            await google.colab.kernel.invokeFunction('convertToInteractive',\n",
              "                                                     [key], {});\n",
              "          if (!dataTable) return;\n",
              "\n",
              "          const docLinkHtml = 'Like what you see? Visit the ' +\n",
              "            '<a target=\"_blank\" href=https://colab.research.google.com/notebooks/data_table.ipynb>data table notebook</a>'\n",
              "            + ' to learn more about interactive tables.';\n",
              "          element.innerHTML = '';\n",
              "          dataTable['output_type'] = 'display_data';\n",
              "          await google.colab.output.renderOutput(dataTable, element);\n",
              "          const docLink = document.createElement('div');\n",
              "          docLink.innerHTML = docLinkHtml;\n",
              "          element.appendChild(docLink);\n",
              "        }\n",
              "      </script>\n",
              "    </div>\n",
              "  </div>\n",
              "  "
            ]
          },
          "metadata": {},
          "execution_count": 11
        }
      ]
    },
    {
      "cell_type": "code",
      "source": [
        "CHLDiab1DirtyName = CHLDiab1['Descripcion linea Adquisicion']"
      ],
      "metadata": {
        "id": "jmiWyFl4qPmF"
      },
      "id": "jmiWyFl4qPmF",
      "execution_count": 12,
      "outputs": []
    },
    {
      "cell_type": "code",
      "source": [
        ""
      ],
      "metadata": {
        "colab": {
          "base_uri": "https://localhost:8080/"
        },
        "id": "Kne8JbzHsR75",
        "outputId": "eb5ebf7a-1c21-4c86-e82f-9fd8229922ed"
      },
      "id": "Kne8JbzHsR75",
      "execution_count": 13,
      "outputs": [
        {
          "output_type": "execute_result",
          "data": {
            "text/plain": [
              "0        Insulina Cristalina 100 UI/ml FA ( Consumo Pro...\n",
              "1        Insulina Cristalina 100 UI/ml FA ( Consumo Pro...\n",
              "2        Insulina NPH 10 UI/ml FA ( Consumo Prom. Mens:...\n",
              "3        Insulina NPH 10 UI/ml FA ( Consumo Prom. Mens:...\n",
              "4        Jeringa de insulina 100 UI ( Consumo Prom. Men...\n",
              "                               ...                        \n",
              "20601                        Metformina 850 mg comprimidos\n",
              "20602                        Metformina 850 mg comprimidos\n",
              "20603                        Metformina 850 mg comprimidos\n",
              "20604                        Metformina 850 mg comprimidos\n",
              "20605                        Metformina 850 mg comprimidos\n",
              "Name: Descripcion linea Adquisicion, Length: 20606, dtype: object"
            ]
          },
          "metadata": {},
          "execution_count": 13
        }
      ]
    }
  ],
  "metadata": {
    "kernelspec": {
      "display_name": "Python 3 (ipykernel)",
      "language": "python",
      "name": "python3"
    },
    "language_info": {
      "codemirror_mode": {
        "name": "ipython",
        "version": 3
      },
      "file_extension": ".py",
      "mimetype": "text/x-python",
      "name": "python",
      "nbconvert_exporter": "python",
      "pygments_lexer": "ipython3",
      "version": "3.9.7"
    },
    "colab": {
      "name": "RawData_Chile.ipynb",
      "provenance": [],
      "include_colab_link": true
    }
  },
  "nbformat": 4,
  "nbformat_minor": 5
}